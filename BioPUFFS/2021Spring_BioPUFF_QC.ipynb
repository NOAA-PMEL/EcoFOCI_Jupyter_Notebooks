{
 "cells": [
  {
   "cell_type": "markdown",
   "id": "472c381c-c218-4b6d-a32d-2bed8739d37d",
   "metadata": {
    "extensions": {
     "jupyter_dashboards": {
      "activeView": "grid_default",
      "views": {
       "grid_default": {
        "col": null,
        "height": 2,
        "hidden": true,
        "row": null,
        "width": 2
       }
      }
     }
    }
   },
   "source": [
    "# BioPuff QC and Dataset Creator\n",
    "\n",
    "## 2021 Spring\n",
    "- drop bad parameters\n",
    "- drop ship deck data (deploy time)\n",
    "- split data between bottom, profile, sst\n",
    "    - three files and three datasets\n",
    "    - combine all floats for a single deployment season dataset (erddap)\n",
    "    - add deploy location and other meta information\n",
    "    \n",
    "### Unique commentary\n",
    "- POPS3 Failed on Deck\n",
    "- POPS2 Only provided a partial download before loosing connection\n",
    "- POPS6 Had a Failed Pressure Sensor\n",
    "- All units had a weight/timing error which didn't provide a profile\n",
    "- GPS is only available Daily for SST - so interpolate linearly for other timesteps\n",
    "\n",
    "### Final Dataset ERDDAP Presentation?\n",
    "- one dataset for bottom, one for sfc (with gps data) **<-- for now this has no QC**  \n",
    "or  \n",
    "- a dataset for each unit with a sfc dataset for each unit (20+ datasets) ***<- easier for a plotlydash driven dashboard and has QARTOD QC approach***\n",
    "- EDD/SDIG keeps raw dataset alive on their erddap (how long?) \n",
    "- archive in netcdf? or csv + expressive erddap-xml? **wait to make netcdf until gear is out of water**"
   ]
  },
  {
   "cell_type": "code",
   "execution_count": 1,
   "id": "5a4ce717-f6c3-4e11-9927-569415b46afa",
   "metadata": {
    "extensions": {
     "jupyter_dashboards": {
      "activeView": "grid_default",
      "views": {
       "grid_default": {
        "col": null,
        "height": 2,
        "hidden": true,
        "row": null,
        "width": 2
       }
      }
     }
    }
   },
   "outputs": [],
   "source": [
    "from erddapy import ERDDAP\n",
    "import pandas as pd\n",
    "import datetime\n",
    "import numpy as np"
   ]
  },
  {
   "cell_type": "code",
   "execution_count": 2,
   "id": "248a0a14-aea3-41b7-a5f2-75f28ec736ec",
   "metadata": {
    "extensions": {
     "jupyter_dashboards": {
      "activeView": "grid_default",
      "views": {
       "grid_default": {
        "col": null,
        "height": 2,
        "hidden": true,
        "row": null,
        "width": 2
       }
      }
     }
    }
   },
   "outputs": [],
   "source": [
    "import warnings\n",
    "warnings.simplefilter(action='ignore', category=FutureWarning)"
   ]
  },
  {
   "cell_type": "code",
   "execution_count": 3,
   "id": "0c18b38e-fa6b-45b6-8d00-9fb1c80d98a6",
   "metadata": {
    "extensions": {
     "jupyter_dashboards": {
      "activeView": "grid_default",
      "views": {
       "grid_default": {
        "col": null,
        "height": 2,
        "hidden": true,
        "row": null,
        "width": 2
       }
      }
     }
    }
   },
   "outputs": [],
   "source": [
    "server_url = 'http://heron.pmel.noaa.gov:8080/erddap'"
   ]
  },
  {
   "cell_type": "code",
   "execution_count": 10,
   "id": "4a1a79f8-c770-445b-ba9a-15ed81edf76a",
   "metadata": {
    "extensions": {
     "jupyter_dashboards": {
      "activeView": "grid_default",
      "views": {
       "grid_default": {
        "col": null,
        "height": 2,
        "hidden": true,
        "row": null,
        "width": 2
       }
      }
     }
    }
   },
   "outputs": [
    {
     "name": "stdout",
     "output_type": "stream",
     "text": [
      "POPS0001_GPS_0001\n",
      "POPS0002_GPS_0002\n",
      "POPS0004_GPS_0004\n",
      "POPS0005_GPS_0005\n",
      "POPS0006_GPS_0006\n",
      "POPS0007_GPS_0007\n",
      "POPS0008_GPS_0008\n",
      "POPS0009_GPS_0009\n",
      "POPS0010_GPS_0010\n"
     ]
    }
   ],
   "source": [
    "e = ERDDAP(server=server_url)\n",
    "dfname = pd.read_csv(e.get_search_url(response='csv', search_for=f'POPS AND GPS_'))\n",
    "\n",
    "gpdf_all = {}\n",
    "for dataset in sorted(dfname['Dataset ID'].values):\n",
    "    print(dataset)\n",
    "\n",
    "    d = ERDDAP(server=server_url,\n",
    "               protocol='tabledap',\n",
    "               response='csv',\n",
    "              )\n",
    "\n",
    "    d.dataset_id=dataset\n",
    "\n",
    "    gpdf = d.to_pandas(\n",
    "        index_col='time (UTC)',\n",
    "        parse_dates=True,\n",
    "        skiprows=(1,)  # units information can be dropped.\n",
    "    )\n",
    "\n",
    "    gpdf.sort_index(inplace=True)\n",
    "    gpdf.columns = [x[1].split()[0] for x in enumerate(gpdf.columns)]\n",
    "\n",
    "    if not 'GPS' in dataset:\n",
    "        pass\n",
    "    else:\n",
    "        gpdf['LatDD'] = ((gpdf['Latitude']/100-np.floor(gpdf['Latitude']/100))*100 / 60) + gpdf['Latitude']/100\n",
    "        gpdf['LonDD'] = -1*(((gpdf['Longitude']/100-np.floor(gpdf['Longitude']/100))*100 / 60) + gpdf['Longitude']/100)\n",
    "\n",
    "    gpdf['timeseries_id'] = dataset.split('_')[0]\n",
    "\n",
    "    gpdf_all.update({dataset:gpdf})"
   ]
  },
  {
   "cell_type": "code",
   "execution_count": 11,
   "id": "7002f927-8084-42a8-bb55-58e7d0df2772",
   "metadata": {
    "extensions": {
     "jupyter_dashboards": {
      "activeView": "grid_default",
      "views": {
       "grid_default": {
        "col": null,
        "height": 2,
        "hidden": true,
        "row": null,
        "width": 2
       }
      }
     }
    },
    "tags": []
   },
   "outputs": [
    {
     "name": "stdout",
     "output_type": "stream",
     "text": [
      "POPS0001_POPS_0001\n",
      "POPS0002_POPS_0002\n",
      "POPS0004_POPS_0004\n",
      "POPS0005_POPS_0005\n",
      "POPS0006_POPS_0006\n",
      "POPS0007_POPS_0007\n",
      "POPS0008_POPS_0008\n",
      "POPS0009_POPS_0009\n",
      "POPS0010_POPS_0010\n"
     ]
    }
   ],
   "source": [
    "e = ERDDAP(server=server_url)\n",
    "dfname = pd.read_csv(e.get_search_url(response='csv', search_for=f'POPS_'))\n",
    "\n",
    "df_all = {}\n",
    "for dataset in sorted(dfname['Dataset ID'].values):\n",
    "    print(dataset)\n",
    "\n",
    "    d = ERDDAP(server=server_url,\n",
    "               protocol='tabledap',\n",
    "               response='csv',\n",
    "              )\n",
    "\n",
    "    d.dataset_id=dataset\n",
    "\n",
    "    pdf = d.to_pandas(\n",
    "        index_col='time (UTC)',\n",
    "        parse_dates=True,\n",
    "        skiprows=(1,)  # units information can be dropped.\n",
    "    )\n",
    "\n",
    "    pdf.sort_index(inplace=True)\n",
    "    pdf.columns = [x[1].split()[0] for x in enumerate(pdf.columns)]\n",
    "\n",
    "    if not 'GPS' in dataset:\n",
    "        pdf['Pressure_Bar'] = pdf['Depth'].apply(lambda x: int(x, 16)/100 )\n",
    "        pdf['Temp_DegC_0'] = pdf['TempProbe0'].apply(lambda x: int(x, 16)/1000 )\n",
    "        pdf['Temp_DegC_1'] = pdf['TempProbe1'].apply(lambda x: int(x, 16)/1000 )\n",
    "    else:\n",
    "        pdf['LatDD'] = ((pdf['Latitude']/100-np.floor(pdf['Latitude']/100))*100 / 60) + pdf['Latitude']/100\n",
    "        pdf['LonDD'] = -1*(((pdf['Longitude']/100-np.floor(pdf['Longitude']/100))*100 / 60) + pdf['Longitude']/100)\n",
    "    \n",
    "    pops_deploy = {\n",
    "        '0001':[58.9931667,-175.00267,datetime.date(2021,5,13),131,datetime.date(2021,9,15)],\n",
    "        '0002':[55.442,-163.74017,datetime.date(2021,5,7),83,datetime.date(2021,9,15)],\n",
    "        '0004':[59.69,-176.705,datetime.date(2021,5,13),139,datetime.date(2021,9,15)],\n",
    "        '0005':[56.4471667,-168.49617,datetime.date(2021,5,13),121,datetime.date(2021,9,15)], #startdate looks later than records? by 9 days\n",
    "        '0006':[56.7043333,-171.2195,datetime.date(2021,5,14),'NaN',datetime.date(2021,9,15)],\n",
    "        '0007':[61.0698333,-177.773,datetime.date(2021,5,12),141.5,datetime.date(2021,9,15)],\n",
    "        '0008':[59.243995,-169.41832,datetime.date(2021,5,10),54.9,datetime.date(2021,9,15)],\n",
    "        '0009':[60.7788333,-174.49733,datetime.date(2021,5,12),91,datetime.date(2021,9,15)],\n",
    "        '0010':[55.2358333,-166.1298,datetime.date(2021,5,15),130,datetime.date(2021,9,15)]\n",
    "    }\n",
    "    \n",
    "    if '0006' in dataset.split('_')[-1]:\n",
    "        pdf['Pressure_Bar'] = np.nan\n",
    "        \n",
    "    pdf['latitude'] = pops_deploy[dataset.split('_')[-1]][0]\n",
    "    pdf['longitude'] = pops_deploy[dataset.split('_')[-1]][1]\n",
    "    pdf['timeseries_id'] = dataset.split('_')[0]\n",
    "    pdf = pdf[pops_deploy[dataset.split('_')[-1]][2]:].copy()\n",
    "    pdf.loc[:,'measurement_type'] = 'bottom'\n",
    "    pdf.loc[pops_deploy[dataset.split('_')[-1]][4]:,'measurement_type'] = 'surface'\n",
    "        \n",
    "    df_all.update({dataset:pdf})"
   ]
  },
  {
   "cell_type": "code",
   "execution_count": 12,
   "id": "6b2484ac-9701-4602-b800-f8c286e02093",
   "metadata": {
    "extensions": {
     "jupyter_dashboards": {
      "activeView": "grid_default",
      "views": {
       "grid_default": {
        "col": null,
        "height": 2,
        "hidden": true,
        "row": null,
        "width": 2
       }
      }
     }
    }
   },
   "outputs": [
    {
     "data": {
      "text/html": [
       "<div>\n",
       "<style scoped>\n",
       "    .dataframe tbody tr th:only-of-type {\n",
       "        vertical-align: middle;\n",
       "    }\n",
       "\n",
       "    .dataframe tbody tr th {\n",
       "        vertical-align: top;\n",
       "    }\n",
       "\n",
       "    .dataframe thead th {\n",
       "        text-align: right;\n",
       "    }\n",
       "</style>\n",
       "<table border=\"1\" class=\"dataframe\">\n",
       "  <thead>\n",
       "    <tr style=\"text-align: right;\">\n",
       "      <th></th>\n",
       "      <th>Epoch_Time</th>\n",
       "      <th>Depth</th>\n",
       "      <th>TempProbe0</th>\n",
       "      <th>TempProbe1</th>\n",
       "      <th>Pressure_Bar</th>\n",
       "      <th>Temp_DegC_0</th>\n",
       "      <th>Temp_DegC_1</th>\n",
       "      <th>latitude</th>\n",
       "      <th>longitude</th>\n",
       "      <th>timeseries_id</th>\n",
       "      <th>measurement_type</th>\n",
       "    </tr>\n",
       "    <tr>\n",
       "      <th>time (UTC)</th>\n",
       "      <th></th>\n",
       "      <th></th>\n",
       "      <th></th>\n",
       "      <th></th>\n",
       "      <th></th>\n",
       "      <th></th>\n",
       "      <th></th>\n",
       "      <th></th>\n",
       "      <th></th>\n",
       "      <th></th>\n",
       "      <th></th>\n",
       "    </tr>\n",
       "  </thead>\n",
       "  <tbody>\n",
       "    <tr>\n",
       "      <th>2021-05-13 00:10:00+00:00</th>\n",
       "      <td>609C6E58</td>\n",
       "      <td>32d6</td>\n",
       "      <td>06b2</td>\n",
       "      <td>06ba</td>\n",
       "      <td>130.14</td>\n",
       "      <td>1.714</td>\n",
       "      <td>1.722</td>\n",
       "      <td>58.993167</td>\n",
       "      <td>-175.00267</td>\n",
       "      <td>POPS0001</td>\n",
       "      <td>bottom</td>\n",
       "    </tr>\n",
       "    <tr>\n",
       "      <th>2021-05-13 01:10:00+00:00</th>\n",
       "      <td>609C7C68</td>\n",
       "      <td>32e5</td>\n",
       "      <td>071f</td>\n",
       "      <td>0728</td>\n",
       "      <td>130.29</td>\n",
       "      <td>1.823</td>\n",
       "      <td>1.832</td>\n",
       "      <td>58.993167</td>\n",
       "      <td>-175.00267</td>\n",
       "      <td>POPS0001</td>\n",
       "      <td>bottom</td>\n",
       "    </tr>\n",
       "    <tr>\n",
       "      <th>2021-05-13 02:10:00+00:00</th>\n",
       "      <td>609C8A78</td>\n",
       "      <td>32f7</td>\n",
       "      <td>0715</td>\n",
       "      <td>071e</td>\n",
       "      <td>130.47</td>\n",
       "      <td>1.813</td>\n",
       "      <td>1.822</td>\n",
       "      <td>58.993167</td>\n",
       "      <td>-175.00267</td>\n",
       "      <td>POPS0001</td>\n",
       "      <td>bottom</td>\n",
       "    </tr>\n",
       "    <tr>\n",
       "      <th>2021-05-13 03:10:00+00:00</th>\n",
       "      <td>609C9888</td>\n",
       "      <td>330b</td>\n",
       "      <td>0707</td>\n",
       "      <td>070f</td>\n",
       "      <td>130.67</td>\n",
       "      <td>1.799</td>\n",
       "      <td>1.807</td>\n",
       "      <td>58.993167</td>\n",
       "      <td>-175.00267</td>\n",
       "      <td>POPS0001</td>\n",
       "      <td>bottom</td>\n",
       "    </tr>\n",
       "    <tr>\n",
       "      <th>2021-05-13 04:10:00+00:00</th>\n",
       "      <td>609CA698</td>\n",
       "      <td>331e</td>\n",
       "      <td>0717</td>\n",
       "      <td>0721</td>\n",
       "      <td>130.86</td>\n",
       "      <td>1.815</td>\n",
       "      <td>1.825</td>\n",
       "      <td>58.993167</td>\n",
       "      <td>-175.00267</td>\n",
       "      <td>POPS0001</td>\n",
       "      <td>bottom</td>\n",
       "    </tr>\n",
       "    <tr>\n",
       "      <th>...</th>\n",
       "      <td>...</td>\n",
       "      <td>...</td>\n",
       "      <td>...</td>\n",
       "      <td>...</td>\n",
       "      <td>...</td>\n",
       "      <td>...</td>\n",
       "      <td>...</td>\n",
       "      <td>...</td>\n",
       "      <td>...</td>\n",
       "      <td>...</td>\n",
       "      <td>...</td>\n",
       "    </tr>\n",
       "    <tr>\n",
       "      <th>2021-12-08 19:10:00+00:00</th>\n",
       "      <td>61B10308</td>\n",
       "      <td>0014</td>\n",
       "      <td>0134</td>\n",
       "      <td>0146</td>\n",
       "      <td>0.20</td>\n",
       "      <td>0.308</td>\n",
       "      <td>0.326</td>\n",
       "      <td>55.235833</td>\n",
       "      <td>-166.12980</td>\n",
       "      <td>POPS0010</td>\n",
       "      <td>surface</td>\n",
       "    </tr>\n",
       "    <tr>\n",
       "      <th>2021-12-08 20:10:00+00:00</th>\n",
       "      <td>61B11118</td>\n",
       "      <td>0013</td>\n",
       "      <td>fe80</td>\n",
       "      <td>fe5c</td>\n",
       "      <td>0.19</td>\n",
       "      <td>65.152</td>\n",
       "      <td>65.116</td>\n",
       "      <td>55.235833</td>\n",
       "      <td>-166.12980</td>\n",
       "      <td>POPS0010</td>\n",
       "      <td>surface</td>\n",
       "    </tr>\n",
       "    <tr>\n",
       "      <th>2021-12-08 21:10:00+00:00</th>\n",
       "      <td>61B11F28</td>\n",
       "      <td>0015</td>\n",
       "      <td>0031</td>\n",
       "      <td>0062</td>\n",
       "      <td>0.21</td>\n",
       "      <td>0.049</td>\n",
       "      <td>0.098</td>\n",
       "      <td>55.235833</td>\n",
       "      <td>-166.12980</td>\n",
       "      <td>POPS0010</td>\n",
       "      <td>surface</td>\n",
       "    </tr>\n",
       "    <tr>\n",
       "      <th>2021-12-08 22:10:00+00:00</th>\n",
       "      <td>61B12D38</td>\n",
       "      <td>0011</td>\n",
       "      <td>0214</td>\n",
       "      <td>0235</td>\n",
       "      <td>0.17</td>\n",
       "      <td>0.532</td>\n",
       "      <td>0.565</td>\n",
       "      <td>55.235833</td>\n",
       "      <td>-166.12980</td>\n",
       "      <td>POPS0010</td>\n",
       "      <td>surface</td>\n",
       "    </tr>\n",
       "    <tr>\n",
       "      <th>2021-12-08 23:10:00+00:00</th>\n",
       "      <td>61B13B48</td>\n",
       "      <td>0014</td>\n",
       "      <td>04a8</td>\n",
       "      <td>0585</td>\n",
       "      <td>0.20</td>\n",
       "      <td>1.192</td>\n",
       "      <td>1.413</td>\n",
       "      <td>55.235833</td>\n",
       "      <td>-166.12980</td>\n",
       "      <td>POPS0010</td>\n",
       "      <td>surface</td>\n",
       "    </tr>\n",
       "  </tbody>\n",
       "</table>\n",
       "<p>44880 rows × 11 columns</p>\n",
       "</div>"
      ],
      "text/plain": [
       "                          Epoch_Time Depth TempProbe0 TempProbe1  \\\n",
       "time (UTC)                                                         \n",
       "2021-05-13 00:10:00+00:00   609C6E58  32d6       06b2       06ba   \n",
       "2021-05-13 01:10:00+00:00   609C7C68  32e5       071f       0728   \n",
       "2021-05-13 02:10:00+00:00   609C8A78  32f7       0715       071e   \n",
       "2021-05-13 03:10:00+00:00   609C9888  330b       0707       070f   \n",
       "2021-05-13 04:10:00+00:00   609CA698  331e       0717       0721   \n",
       "...                              ...   ...        ...        ...   \n",
       "2021-12-08 19:10:00+00:00   61B10308  0014       0134       0146   \n",
       "2021-12-08 20:10:00+00:00   61B11118  0013       fe80       fe5c   \n",
       "2021-12-08 21:10:00+00:00   61B11F28  0015       0031       0062   \n",
       "2021-12-08 22:10:00+00:00   61B12D38  0011       0214       0235   \n",
       "2021-12-08 23:10:00+00:00   61B13B48  0014       04a8       0585   \n",
       "\n",
       "                           Pressure_Bar  Temp_DegC_0  Temp_DegC_1   latitude  \\\n",
       "time (UTC)                                                                     \n",
       "2021-05-13 00:10:00+00:00        130.14        1.714        1.722  58.993167   \n",
       "2021-05-13 01:10:00+00:00        130.29        1.823        1.832  58.993167   \n",
       "2021-05-13 02:10:00+00:00        130.47        1.813        1.822  58.993167   \n",
       "2021-05-13 03:10:00+00:00        130.67        1.799        1.807  58.993167   \n",
       "2021-05-13 04:10:00+00:00        130.86        1.815        1.825  58.993167   \n",
       "...                                 ...          ...          ...        ...   \n",
       "2021-12-08 19:10:00+00:00          0.20        0.308        0.326  55.235833   \n",
       "2021-12-08 20:10:00+00:00          0.19       65.152       65.116  55.235833   \n",
       "2021-12-08 21:10:00+00:00          0.21        0.049        0.098  55.235833   \n",
       "2021-12-08 22:10:00+00:00          0.17        0.532        0.565  55.235833   \n",
       "2021-12-08 23:10:00+00:00          0.20        1.192        1.413  55.235833   \n",
       "\n",
       "                           longitude timeseries_id measurement_type  \n",
       "time (UTC)                                                           \n",
       "2021-05-13 00:10:00+00:00 -175.00267      POPS0001           bottom  \n",
       "2021-05-13 01:10:00+00:00 -175.00267      POPS0001           bottom  \n",
       "2021-05-13 02:10:00+00:00 -175.00267      POPS0001           bottom  \n",
       "2021-05-13 03:10:00+00:00 -175.00267      POPS0001           bottom  \n",
       "2021-05-13 04:10:00+00:00 -175.00267      POPS0001           bottom  \n",
       "...                              ...           ...              ...  \n",
       "2021-12-08 19:10:00+00:00 -166.12980      POPS0010          surface  \n",
       "2021-12-08 20:10:00+00:00 -166.12980      POPS0010          surface  \n",
       "2021-12-08 21:10:00+00:00 -166.12980      POPS0010          surface  \n",
       "2021-12-08 22:10:00+00:00 -166.12980      POPS0010          surface  \n",
       "2021-12-08 23:10:00+00:00 -166.12980      POPS0010          surface  \n",
       "\n",
       "[44880 rows x 11 columns]"
      ]
     },
     "execution_count": 12,
     "metadata": {},
     "output_type": "execute_result"
    }
   ],
   "source": [
    "df_all_merged=pd.DataFrame()\n",
    "for dataset_id in df_all.keys():\n",
    "    df_all_merged = df_all_merged.append(df_all[dataset_id])\n",
    "    \n",
    "df_all_merged"
   ]
  },
  {
   "cell_type": "markdown",
   "id": "8585fdc5-55e6-43fb-8afe-6990c3e24ab2",
   "metadata": {
    "extensions": {
     "jupyter_dashboards": {
      "activeView": "grid_default",
      "views": {
       "grid_default": {
        "col": null,
        "height": 2,
        "hidden": true,
        "row": null,
        "width": 2
       }
      }
     }
    }
   },
   "source": [
    "## QC Data - Follow QUARTOD (1,2,3,4,9)\n",
    "\n",
    "**First use instrument specific information to filter good/bad data**\n",
    "\n",
    "- drop hex columns\n",
    "- remove known failed sensor"
   ]
  },
  {
   "cell_type": "code",
   "execution_count": 13,
   "id": "8c30ea9e-590d-4ee4-966c-d0b4a8f649bf",
   "metadata": {
    "extensions": {
     "jupyter_dashboards": {
      "activeView": "grid_default",
      "views": {
       "grid_default": {
        "col": null,
        "height": 2,
        "hidden": true,
        "row": null,
        "width": 2
       }
      }
     }
    }
   },
   "outputs": [],
   "source": [
    "df_all_merged.loc[df_all_merged['timeseries_id'] == 'POPS0006','Pressure_Bar'] = np.nan\n",
    "df_all_merged.drop(columns=['Epoch_Time','Depth','TempProbe0','TempProbe1'],inplace=True)\n",
    "\n",
    "#remove timezone info for ioos_qc and for datetimecomparisons to eliminate bad data :(\n",
    "df_all_merged.index = df_all_merged.index.tz_convert(None) #so make sure its UTC before doing this step\n",
    "df_all_merged.loc[(df_all_merged['timeseries_id'] == 'POPS0010') & (df_all_merged.index > datetime.datetime(2021,10,23,0,0,0)),'Pressure_Bar'] = np.nan\n",
    "df_all_merged.loc[(df_all_merged['timeseries_id'] == 'POPS0010') & (df_all_merged.index > datetime.datetime(2021,10,23,0,0,0)),'Temp_DegC_0'] = np.nan\n",
    "df_all_merged.loc[(df_all_merged['timeseries_id'] == 'POPS0010') & (df_all_merged.index > datetime.datetime(2021,10,23,0,0,0)),'Temp_DegC_1'] = np.nan\n",
    "\n",
    "df_all_merged = df_all_merged.reset_index()"
   ]
  },
  {
   "cell_type": "markdown",
   "id": "a7434415-fe71-436c-a47d-81257e13f25c",
   "metadata": {
    "extensions": {
     "jupyter_dashboards": {
      "activeView": "grid_default",
      "views": {
       "grid_default": {
        "col": null,
        "height": 2,
        "hidden": true,
        "row": null,
        "width": 2
       }
      }
     }
    },
    "tags": []
   },
   "source": [
    "### follow ioos_qc -> QUARTOD for basic range checks and add an aggregate flag for now"
   ]
  },
  {
   "cell_type": "code",
   "execution_count": 14,
   "id": "9f279a46-99fe-490d-85e5-8c0c1943b5ec",
   "metadata": {
    "extensions": {
     "jupyter_dashboards": {
      "activeView": "grid_default",
      "views": {
       "grid_default": {
        "col": null,
        "height": 2,
        "hidden": true,
        "row": null,
        "width": 2
       }
      }
     }
    }
   },
   "outputs": [],
   "source": [
    "from ioos_qc import qartod\n",
    "from ioos_qc.streams import PandasStream\n",
    "from ioos_qc.stores import PandasStore\n",
    "from ioos_qc.config import Config\n",
    "from ioos_qc.results import collect_results"
   ]
  },
  {
   "cell_type": "code",
   "execution_count": 15,
   "id": "18d1c9a8-9961-41b5-a59a-3ffe1d7b85da",
   "metadata": {
    "extensions": {
     "jupyter_dashboards": {
      "activeView": "grid_default",
      "views": {
       "grid_default": {
        "col": null,
        "height": 2,
        "hidden": true,
        "row": null,
        "width": 2
       }
      }
     }
    }
   },
   "outputs": [],
   "source": [
    "qc_config = {\n",
    "    'Pressure_Bar': {\n",
    "        'qartod': {\n",
    "          \"gross_range_test\": {\n",
    "            \"fail_span\": [-0.5,400],\n",
    "            \"suspect_span\": [-0.1,300]\n",
    "          },\n",
    "          # \"flat_line_test\": { #not valid for bottom data\n",
    "          #   \"tolerance\": 0.001,\n",
    "          #   \"suspect_threshold\": 10800,\n",
    "          #   \"fail_threshold\": 21600\n",
    "          # },\n",
    "          \"rate_of_change_test\": {\n",
    "            \"threshold\": 0.2\n",
    "          },\n",
    "          \"spike_test\": {\n",
    "            \"suspect_threshold\": 0.8,\n",
    "            \"fail_threshold\": 3\n",
    "          },\n",
    "          \"aggregate\": {}\n",
    "        }\n",
    "    },\n",
    "    'Temp_DegC_0': {\n",
    "        'qartod': {\n",
    "          \"gross_range_test\": {\n",
    "            \"fail_span\": [-2,25],\n",
    "            \"suspect_span\": [-2,14]\n",
    "          },\n",
    "          # \"flat_line_test\": { #not valid for bottom data\n",
    "          #   \"tolerance\": 0.001,\n",
    "          #   \"suspect_threshold\": 10800,\n",
    "          #   \"fail_threshold\": 21600\n",
    "          # },\n",
    "          \"rate_of_change_test\": {\n",
    "            \"threshold\": 0.1\n",
    "          },\n",
    "          \"spike_test\": {\n",
    "            \"suspect_threshold\": 0.8,\n",
    "            \"fail_threshold\": 3\n",
    "          },\n",
    "          \"aggregate\": {}\n",
    "        }\n",
    "    },\n",
    "    'Temp_DegC_1': {\n",
    "        'qartod': {\n",
    "          \"gross_range_test\": {\n",
    "            \"fail_span\": [-2,25],\n",
    "            \"suspect_span\": [-2,14]\n",
    "          },\n",
    "          # \"flat_line_test\": { #not valid for bottom data\n",
    "          #   \"tolerance\": 0.001,\n",
    "          #   \"suspect_threshold\": 10800,\n",
    "          #   \"fail_threshold\": 21600\n",
    "          # },\n",
    "          \"rate_of_change_test\": {\n",
    "            \"threshold\": 0.1\n",
    "          },\n",
    "          \"spike_test\": {\n",
    "            \"suspect_threshold\": 0.8,\n",
    "            \"fail_threshold\": 3\n",
    "          },\n",
    "          \"aggregate\": {}\n",
    "        }\n",
    "    }\n",
    "}\n",
    "c = Config(qc_config)"
   ]
  },
  {
   "cell_type": "code",
   "execution_count": 16,
   "id": "34c8744d-e3c5-4622-a883-0f41d5130018",
   "metadata": {
    "extensions": {
     "jupyter_dashboards": {
      "activeView": "grid_default",
      "views": {
       "grid_default": {
        "col": null,
        "height": 2,
        "hidden": true,
        "row": null,
        "width": 2
       }
      }
     }
    },
    "tags": []
   },
   "outputs": [
    {
     "name": "stderr",
     "output_type": "stream",
     "text": [
      "Could not run \"qartod.aggregate: aggregate() missing 1 required positional argument: 'results'\n",
      "Could not run \"qartod.aggregate: aggregate() missing 1 required positional argument: 'results'\n",
      "Could not run \"qartod.aggregate: aggregate() missing 1 required positional argument: 'results'\n"
     ]
    }
   ],
   "source": [
    "# Setup the stream\n",
    "ps = PandasStream(df_all_merged, time='time (UTC)', lat='latitude', lon='longitude', z='Pressure_Bar')\n",
    "\n",
    "# Run the tests by passing in a Config object\n",
    "results = ps.run(c)\n",
    "\n",
    "store = PandasStore(results)"
   ]
  },
  {
   "cell_type": "code",
   "execution_count": 17,
   "id": "f9d4fe83-821e-41f8-8537-c4a8cd5d18d3",
   "metadata": {
    "extensions": {
     "jupyter_dashboards": {
      "activeView": "grid_default",
      "views": {
       "grid_default": {
        "col": null,
        "height": 2,
        "hidden": true,
        "row": null,
        "width": 2
       }
      }
     }
    }
   },
   "outputs": [],
   "source": [
    "# Compute any aggregations\n",
    "store.compute_aggregate(name='rollup_qc')  # Appends to the results internally\n",
    "\n",
    "# Write only the test results to the store\n",
    "results_store = store.save(write_data=False, write_axes=False)\n",
    "\n",
    "# Append columns from qc results back into the data - stick to simple case of aggregate only for now\n",
    "results_store = pd.concat([df_all_merged, \n",
    "                           results_store], axis=1)\n",
    "\n",
    "## keep 1,2 for each parameter and address parameters/test independently, eventually send flag to ERDDAP?\n",
    "for keys in results_store.keys():\n",
    "    if 'qartod' in keys:\n",
    "        # print(keys)\n",
    "        results_store.loc[(results_store[keys] != 1) & (results_store[keys] != 2),keys.split('_qartod')[0]] = np.nan\n",
    "results_store = results_store.loc[:, ~results_store.columns.str.contains('qartod')]"
   ]
  },
  {
   "cell_type": "code",
   "execution_count": 18,
   "id": "dfa6a11e-f877-405a-97a8-39d338b07cd3",
   "metadata": {
    "extensions": {
     "jupyter_dashboards": {
      "activeView": "grid_default",
      "views": {
       "grid_default": {
        "col": null,
        "height": 2,
        "hidden": true,
        "row": null,
        "width": 2
       }
      }
     }
    }
   },
   "outputs": [],
   "source": [
    "df_all_merged = results_store.copy().set_index('time (UTC)')\n",
    "df_all_merged.index = df_all_merged.index.tz_localize('utc') #so make sure its UTC before doing this step"
   ]
  },
  {
   "cell_type": "markdown",
   "id": "e229d244-7b77-4f97-be4f-b2a9ef433976",
   "metadata": {
    "extensions": {
     "jupyter_dashboards": {
      "activeView": "grid_default",
      "views": {
       "grid_default": {
        "col": null,
        "height": 2,
        "hidden": true,
        "row": null,
        "width": 2
       }
      }
     }
    }
   },
   "source": [
    "**Filter and Interpolate GPS data to hourly**\n",
    "\n",
    "**split bottom and top (and eventually profile) and merge gps with sfc timeseries data**"
   ]
  },
  {
   "cell_type": "code",
   "execution_count": 19,
   "id": "a6461cb2-143a-4ab3-bb2a-9d5a3bfa9658",
   "metadata": {
    "extensions": {
     "jupyter_dashboards": {
      "activeView": "grid_default",
      "views": {
       "grid_default": {
        "col": null,
        "height": 2,
        "hidden": true,
        "row": null,
        "width": 2
       }
      }
     }
    }
   },
   "outputs": [],
   "source": [
    "gpdf_all_merged=pd.DataFrame()\n",
    "for dataset_id in gpdf_all.keys():\n",
    "    gpdf_all_merged = gpdf_all_merged.append(gpdf_all[dataset_id])\n",
    "    \n",
    "gpdf_all_merged = gpdf_all_merged[['LatDD','LonDD','timeseries_id']]\n"
   ]
  },
  {
   "cell_type": "code",
   "execution_count": 20,
   "id": "cefbadd1-7f87-4a43-9377-ed8229018335",
   "metadata": {
    "extensions": {
     "jupyter_dashboards": {
      "activeView": "grid_default",
      "views": {
       "grid_default": {
        "col": null,
        "height": 2,
        "hidden": true,
        "row": null,
        "width": 2
       }
      }
     }
    }
   },
   "outputs": [
    {
     "name": "stderr",
     "output_type": "stream",
     "text": [
      "/Users/bell/miniconda3/envs/py38/lib/python3.8/site-packages/pandas/core/frame.py:4906: SettingWithCopyWarning: \n",
      "A value is trying to be set on a copy of a slice from a DataFrame\n",
      "\n",
      "See the caveats in the documentation: https://pandas.pydata.org/pandas-docs/stable/user_guide/indexing.html#returning-a-view-versus-a-copy\n",
      "  return super().drop(\n"
     ]
    }
   ],
   "source": [
    "df_bottom = df_all_merged[df_all_merged.measurement_type == 'bottom']\n",
    "df_bottom.drop(columns='measurement_type',inplace=True)\n",
    "df_sfc = df_all_merged[df_all_merged.measurement_type == 'surface']"
   ]
  },
  {
   "cell_type": "code",
   "execution_count": 21,
   "id": "f0cb7590-7a31-4270-802c-8abf0fdc4517",
   "metadata": {
    "extensions": {
     "jupyter_dashboards": {
      "activeView": "grid_default",
      "views": {
       "grid_default": {
        "col": null,
        "height": 2,
        "hidden": true,
        "row": null,
        "width": 2
       }
      }
     }
    }
   },
   "outputs": [],
   "source": [
    "gps_sfc = pd.DataFrame()\n",
    "for i,groups in gpdf_all_merged.groupby(gpdf_all_merged.timeseries_id):\n",
    "    tmp = groups.resample('1H').mean().interpolate()\n",
    "    tmp['timeseries_id']=i\n",
    "    tdf_sfc = df_sfc.groupby(df_sfc.timeseries_id).get_group(i).resample('1H').mean()\n",
    "    gps_sfc = pd.concat([gps_sfc,pd.merge(tmp,tdf_sfc,left_index=True,right_index=True)])"
   ]
  },
  {
   "cell_type": "code",
   "execution_count": 22,
   "id": "ab668413-746c-4391-ba90-53dbf5c15448",
   "metadata": {
    "extensions": {
     "jupyter_dashboards": {
      "activeView": "grid_default",
      "views": {
       "grid_default": {
        "col": null,
        "height": 2,
        "hidden": true,
        "row": null,
        "width": 2
       }
      }
     }
    }
   },
   "outputs": [],
   "source": [
    "gps_sfc.rename(columns={'latitude':'deploy_latitude',\n",
    "                        'longitude':'deploy_longitude',\n",
    "                        'LatDD':'latitude',\n",
    "                        'LonDD':'longitude'},inplace=True)"
   ]
  },
  {
   "cell_type": "code",
   "execution_count": 23,
   "id": "abde5a22-f192-4e84-a8d3-e7d62dfb46cc",
   "metadata": {
    "extensions": {
     "jupyter_dashboards": {
      "activeView": "grid_default",
      "views": {
       "grid_default": {
        "col": null,
        "height": 2,
        "hidden": true,
        "row": null,
        "width": 2
       }
      }
     }
    }
   },
   "outputs": [
    {
     "data": {
      "text/html": [
       "<div>\n",
       "<style scoped>\n",
       "    .dataframe tbody tr th:only-of-type {\n",
       "        vertical-align: middle;\n",
       "    }\n",
       "\n",
       "    .dataframe tbody tr th {\n",
       "        vertical-align: top;\n",
       "    }\n",
       "\n",
       "    .dataframe thead th {\n",
       "        text-align: right;\n",
       "    }\n",
       "</style>\n",
       "<table border=\"1\" class=\"dataframe\">\n",
       "  <thead>\n",
       "    <tr style=\"text-align: right;\">\n",
       "      <th></th>\n",
       "      <th>Pressure_Bar</th>\n",
       "      <th>Temp_DegC_0</th>\n",
       "      <th>Temp_DegC_1</th>\n",
       "      <th>latitude</th>\n",
       "      <th>longitude</th>\n",
       "      <th>timeseries_id</th>\n",
       "    </tr>\n",
       "    <tr>\n",
       "      <th>time (UTC)</th>\n",
       "      <th></th>\n",
       "      <th></th>\n",
       "      <th></th>\n",
       "      <th></th>\n",
       "      <th></th>\n",
       "      <th></th>\n",
       "    </tr>\n",
       "  </thead>\n",
       "  <tbody>\n",
       "    <tr>\n",
       "      <th>2021-05-13 00:10:00+00:00</th>\n",
       "      <td>130.14</td>\n",
       "      <td>1.714</td>\n",
       "      <td>1.722</td>\n",
       "      <td>58.993167</td>\n",
       "      <td>-175.00267</td>\n",
       "      <td>POPS0001</td>\n",
       "    </tr>\n",
       "    <tr>\n",
       "      <th>2021-05-13 01:10:00+00:00</th>\n",
       "      <td>130.29</td>\n",
       "      <td>1.823</td>\n",
       "      <td>1.832</td>\n",
       "      <td>58.993167</td>\n",
       "      <td>-175.00267</td>\n",
       "      <td>POPS0001</td>\n",
       "    </tr>\n",
       "    <tr>\n",
       "      <th>2021-05-13 02:10:00+00:00</th>\n",
       "      <td>130.47</td>\n",
       "      <td>1.813</td>\n",
       "      <td>1.822</td>\n",
       "      <td>58.993167</td>\n",
       "      <td>-175.00267</td>\n",
       "      <td>POPS0001</td>\n",
       "    </tr>\n",
       "    <tr>\n",
       "      <th>2021-05-13 03:10:00+00:00</th>\n",
       "      <td>130.67</td>\n",
       "      <td>1.799</td>\n",
       "      <td>1.807</td>\n",
       "      <td>58.993167</td>\n",
       "      <td>-175.00267</td>\n",
       "      <td>POPS0001</td>\n",
       "    </tr>\n",
       "    <tr>\n",
       "      <th>2021-05-13 04:10:00+00:00</th>\n",
       "      <td>130.86</td>\n",
       "      <td>1.815</td>\n",
       "      <td>1.825</td>\n",
       "      <td>58.993167</td>\n",
       "      <td>-175.00267</td>\n",
       "      <td>POPS0001</td>\n",
       "    </tr>\n",
       "    <tr>\n",
       "      <th>...</th>\n",
       "      <td>...</td>\n",
       "      <td>...</td>\n",
       "      <td>...</td>\n",
       "      <td>...</td>\n",
       "      <td>...</td>\n",
       "      <td>...</td>\n",
       "    </tr>\n",
       "    <tr>\n",
       "      <th>2021-09-14 19:10:00+00:00</th>\n",
       "      <td>131.22</td>\n",
       "      <td>4.779</td>\n",
       "      <td>4.783</td>\n",
       "      <td>55.235833</td>\n",
       "      <td>-166.12980</td>\n",
       "      <td>POPS0010</td>\n",
       "    </tr>\n",
       "    <tr>\n",
       "      <th>2021-09-14 20:10:00+00:00</th>\n",
       "      <td>131.53</td>\n",
       "      <td>4.779</td>\n",
       "      <td>4.782</td>\n",
       "      <td>55.235833</td>\n",
       "      <td>-166.12980</td>\n",
       "      <td>POPS0010</td>\n",
       "    </tr>\n",
       "    <tr>\n",
       "      <th>2021-09-14 21:10:00+00:00</th>\n",
       "      <td>131.74</td>\n",
       "      <td>4.779</td>\n",
       "      <td>4.782</td>\n",
       "      <td>55.235833</td>\n",
       "      <td>-166.12980</td>\n",
       "      <td>POPS0010</td>\n",
       "    </tr>\n",
       "    <tr>\n",
       "      <th>2021-09-14 22:10:00+00:00</th>\n",
       "      <td>131.92</td>\n",
       "      <td>4.779</td>\n",
       "      <td>4.783</td>\n",
       "      <td>55.235833</td>\n",
       "      <td>-166.12980</td>\n",
       "      <td>POPS0010</td>\n",
       "    </tr>\n",
       "    <tr>\n",
       "      <th>2021-09-14 23:10:00+00:00</th>\n",
       "      <td>131.99</td>\n",
       "      <td>4.779</td>\n",
       "      <td>4.783</td>\n",
       "      <td>55.235833</td>\n",
       "      <td>-166.12980</td>\n",
       "      <td>POPS0010</td>\n",
       "    </tr>\n",
       "  </tbody>\n",
       "</table>\n",
       "<p>24744 rows × 6 columns</p>\n",
       "</div>"
      ],
      "text/plain": [
       "                           Pressure_Bar  Temp_DegC_0  Temp_DegC_1   latitude  \\\n",
       "time (UTC)                                                                     \n",
       "2021-05-13 00:10:00+00:00        130.14        1.714        1.722  58.993167   \n",
       "2021-05-13 01:10:00+00:00        130.29        1.823        1.832  58.993167   \n",
       "2021-05-13 02:10:00+00:00        130.47        1.813        1.822  58.993167   \n",
       "2021-05-13 03:10:00+00:00        130.67        1.799        1.807  58.993167   \n",
       "2021-05-13 04:10:00+00:00        130.86        1.815        1.825  58.993167   \n",
       "...                                 ...          ...          ...        ...   \n",
       "2021-09-14 19:10:00+00:00        131.22        4.779        4.783  55.235833   \n",
       "2021-09-14 20:10:00+00:00        131.53        4.779        4.782  55.235833   \n",
       "2021-09-14 21:10:00+00:00        131.74        4.779        4.782  55.235833   \n",
       "2021-09-14 22:10:00+00:00        131.92        4.779        4.783  55.235833   \n",
       "2021-09-14 23:10:00+00:00        131.99        4.779        4.783  55.235833   \n",
       "\n",
       "                           longitude timeseries_id  \n",
       "time (UTC)                                          \n",
       "2021-05-13 00:10:00+00:00 -175.00267      POPS0001  \n",
       "2021-05-13 01:10:00+00:00 -175.00267      POPS0001  \n",
       "2021-05-13 02:10:00+00:00 -175.00267      POPS0001  \n",
       "2021-05-13 03:10:00+00:00 -175.00267      POPS0001  \n",
       "2021-05-13 04:10:00+00:00 -175.00267      POPS0001  \n",
       "...                              ...           ...  \n",
       "2021-09-14 19:10:00+00:00 -166.12980      POPS0010  \n",
       "2021-09-14 20:10:00+00:00 -166.12980      POPS0010  \n",
       "2021-09-14 21:10:00+00:00 -166.12980      POPS0010  \n",
       "2021-09-14 22:10:00+00:00 -166.12980      POPS0010  \n",
       "2021-09-14 23:10:00+00:00 -166.12980      POPS0010  \n",
       "\n",
       "[24744 rows x 6 columns]"
      ]
     },
     "execution_count": 23,
     "metadata": {},
     "output_type": "execute_result"
    }
   ],
   "source": [
    "df_bottom"
   ]
  },
  {
   "cell_type": "code",
   "execution_count": 24,
   "id": "f5fc5b7c-68b3-4ec5-aef7-3c9dcae8ecbf",
   "metadata": {
    "extensions": {
     "jupyter_dashboards": {
      "activeView": "grid_default",
      "views": {
       "grid_default": {
        "col": null,
        "height": 2,
        "hidden": true,
        "row": null,
        "width": 2
       }
      }
     }
    }
   },
   "outputs": [],
   "source": [
    "gps_sfc.to_csv('2021_SpringDeployed_BS_BioPUFFS_sfc.csv')\n",
    "df_bottom.to_csv('2021_SpringDeployed_BS_BioPUFFS_btm.csv')"
   ]
  },
  {
   "cell_type": "code",
   "execution_count": 25,
   "id": "9826ee9a-5b01-4fca-8bbb-a5157717c4a5",
   "metadata": {
    "extensions": {
     "jupyter_dashboards": {
      "activeView": "grid_default",
      "views": {
       "grid_default": {
        "col": null,
        "height": 2,
        "hidden": true,
        "row": null,
        "width": 2
       }
      }
     }
    }
   },
   "outputs": [],
   "source": [
    "#output as seperate files\n",
    "for groups, gdata in gps_sfc.groupby('timeseries_id'):\n",
    "    gdata.to_csv('2021_SpringDeployed_BS_BioPUFFS'+groups+'_sfc.csv')\n",
    "for groups, gdata in df_bottom.groupby('timeseries_id'):\n",
    "    df_bottom.to_csv('2021_SpringDeployed_BS_BioPUFFS'+groups+'_btm.csv')\n"
   ]
  },
  {
   "cell_type": "code",
   "execution_count": null,
   "id": "05cd0c31-5f62-4fc5-aa26-9882f3fce439",
   "metadata": {
    "extensions": {
     "jupyter_dashboards": {
      "activeView": "grid_default",
      "views": {
       "grid_default": {
        "col": null,
        "height": 2,
        "hidden": true,
        "row": null,
        "width": 2
       }
      }
     }
    }
   },
   "outputs": [],
   "source": []
  }
 ],
 "metadata": {
  "extensions": {
   "jupyter_dashboards": {
    "activeView": "grid_default",
    "version": 1,
    "views": {
     "grid_default": {
      "cellMargin": 10,
      "defaultCellHeight": 60,
      "maxColumns": 12,
      "name": "grid",
      "type": "grid"
     }
    }
   }
  },
  "kernelspec": {
   "display_name": "Python [conda env:py38] *",
   "language": "python",
   "name": "conda-env-py38-py"
  },
  "language_info": {
   "codemirror_mode": {
    "name": "ipython",
    "version": 3
   },
   "file_extension": ".py",
   "mimetype": "text/x-python",
   "name": "python",
   "nbconvert_exporter": "python",
   "pygments_lexer": "ipython3",
   "version": "3.8.12"
  }
 },
 "nbformat": 4,
 "nbformat_minor": 5
}
