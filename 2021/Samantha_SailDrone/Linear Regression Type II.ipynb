{
 "cells": [
  {
   "cell_type": "markdown",
   "metadata": {},
   "source": [
    "# Linear Regression Type II"
   ]
  },
  {
   "cell_type": "code",
   "execution_count": 2,
   "metadata": {},
   "outputs": [
    {
     "name": "stdout",
     "output_type": "stream",
     "text": [
      "Requirement already satisfied: pylr2 in /Users/bell/miniconda3/envs/py38/lib/python3.8/site-packages (0.1.0)\n",
      "Requirement already satisfied: statsmodels in /Users/bell/miniconda3/envs/py38/lib/python3.8/site-packages (from pylr2) (0.12.2)\n",
      "Requirement already satisfied: numpy in /Users/bell/miniconda3/envs/py38/lib/python3.8/site-packages (from pylr2) (1.21.0)\n",
      "Requirement already satisfied: patsy>=0.5 in /Users/bell/miniconda3/envs/py38/lib/python3.8/site-packages (from statsmodels->pylr2) (0.5.1)\n",
      "Requirement already satisfied: pandas>=0.21 in /Users/bell/miniconda3/envs/py38/lib/python3.8/site-packages (from statsmodels->pylr2) (1.3.0)\n",
      "Requirement already satisfied: scipy>=1.1 in /Users/bell/miniconda3/envs/py38/lib/python3.8/site-packages (from statsmodels->pylr2) (1.7.0)\n",
      "Requirement already satisfied: python-dateutil>=2.7.3 in /Users/bell/.local/lib/python3.8/site-packages/python_dateutil-2.8.1-py3.8.egg (from pandas>=0.21->statsmodels->pylr2) (2.8.1)\n",
      "Requirement already satisfied: pytz>=2017.3 in /Users/bell/miniconda3/envs/py38/lib/python3.8/site-packages (from pandas>=0.21->statsmodels->pylr2) (2021.1)\n",
      "Requirement already satisfied: six in /Users/bell/.local/lib/python3.8/site-packages/six-1.15.0-py3.8.egg (from patsy>=0.5->statsmodels->pylr2) (1.15.0)\n",
      "Note: you may need to restart the kernel to use updated packages.\n"
     ]
    }
   ],
   "source": [
    "pip install pylr2"
   ]
  },
  {
   "cell_type": "code",
   "execution_count": 3,
   "metadata": {},
   "outputs": [],
   "source": [
    "from pylr2  import regress2"
   ]
  },
  {
   "cell_type": "code",
   "execution_count": 4,
   "metadata": {},
   "outputs": [],
   "source": [
    "import pandas as pd"
   ]
  },
  {
   "cell_type": "markdown",
   "metadata": {},
   "source": [
    "**S Bell Notes:**\n",
    "\n",
    "You've installed a package above called **pylr2** and loaded independently its ___regress2___ method, so when you define the regress2 method again below, you will overwrite your initial import.  **TL;DR** you only need to import above or define below but you don't need to do both.  Now if your code below was to better understand the imported library, then ignore my comments."
   ]
  },
  {
   "cell_type": "code",
   "execution_count": 12,
   "metadata": {
    "jupyter": {
     "source_hidden": true
    },
    "tags": []
   },
   "outputs": [],
   "source": [
    "import statsmodels.api as sm\r\n",
    "import numpy as np\r\n",
    "\r\n",
    "\r\n",
    "def regress2(_x, _y, _method_type_1 = \"ordinary least square\",\r\n",
    "             _method_type_2 = \"reduced major axis\",\r\n",
    "             _weight_x = [], _weight_y = [], _need_intercept = True):\r\n",
    "    # Regression Type II based on statsmodels\r\n",
    "    # Type II regressions are recommended if there is variability on both x and y\r\n",
    "    # It's computing the linear regression type I for (x,y) and (y,x)\r\n",
    "    # and then average relationship with one of the type II methods\r\n",
    "    #\r\n",
    "    # INPUT:\r\n",
    "    #   _x <np.array>\r\n",
    "    #   _y <np.array>\r\n",
    "    #   _method_type_1 <str> method to use for regression type I:\r\n",
    "    #     ordinary least square or OLS <default>\r\n",
    "    #     weighted least square or WLS\r\n",
    "    #     robust linear model or RLM\r\n",
    "    #   _method_type_2 <str> method to use for regression type II:\r\n",
    "    #     major axis\r\n",
    "    #     reduced major axis <default> (also known as geometric mean)\r\n",
    "    #     arithmetic mean\r\n",
    "    #   _need_intercept <bool>\r\n",
    "    #     True <default> add a constant to relation (y = a x + b)\r\n",
    "    #     False force relation by 0 (y = a x)\r\n",
    "    #   _weight_x <np.array> containing the weigth of x\r\n",
    "    #   _weigth_y <np.array> containing the weigth of y\r\n",
    "    #\r\n",
    "    # OUTPUT:\r\n",
    "    #   slope\r\n",
    "    #   intercept\r\n",
    "    #   r\r\n",
    "    #   std_slope\r\n",
    "    #   std_intercept\r\n",
    "    #   predict\r\n",
    "    #\r\n",
    "    # REQUIRE:\r\n",
    "    #   numpy\r\n",
    "    #   statsmodels\r\n",
    "    #\r\n",
    "    # The code is based on the matlab function of MBARI.\r\n",
    "    # AUTHOR: Nils Haentjens\r\n",
    "    # REFERENCE: https://www.mbari.org/products/research-software/matlab-scripts-linear-regressions/\r\n",
    "\r\n",
    "    # Check input\r\n",
    "    if _method_type_2 != \"reduced major axis\" and _method_type_1 != \"ordinary least square\":\r\n",
    "        raise ValueError(\"'\" + _method_type_2 + \"' only supports '\" + _method_type_1 + \"' method as type 1.\")\r\n",
    "\r\n",
    "    # Set x, y depending on intercept requirement\r\n",
    "    if _need_intercept:\r\n",
    "        x_intercept = sm.add_constant(_x)\r\n",
    "        y_intercept = sm.add_constant(_y)\r\n",
    "\r\n",
    "    # Compute Regression Type I (if type II requires it)\r\n",
    "    if (_method_type_2 == \"reduced major axis\" or\r\n",
    "        _method_type_2 == \"geometric mean\"):\r\n",
    "        if _method_type_1 == \"OLS\" or _method_type_1 == \"ordinary least square\":\r\n",
    "            if _need_intercept:\r\n",
    "                [intercept_a, slope_a] = sm.OLS(_y, x_intercept).fit().params\r\n",
    "                [intercept_b, slope_b] = sm.OLS(_x, y_intercept).fit().params\r\n",
    "            else:\r\n",
    "                slope_a = sm.OLS(_y, _x).fit().params\r\n",
    "                slope_b = sm.OLS(_x, _y).fit().params\r\n",
    "        elif _method_type_1 == \"WLS\" or _method_type_1 == \"weighted least square\":\r\n",
    "            if _need_intercept:\r\n",
    "                [intercept_a, slope_a] = sm.WLS(\r\n",
    "                    _y, x_intercept, weights=1. / _weight_y).fit().params\r\n",
    "                [intercept_b, slope_b] = sm.WLS(\r\n",
    "                    _x, y_intercept, weights=1. / _weight_x).fit().params\r\n",
    "            else:\r\n",
    "                slope_a = sm.WLS(_y, _x, weights=1. / _weight_y).fit().params\r\n",
    "                slope_b = sm.WLS(_x, _y, weights=1. / _weight_x).fit().params\r\n",
    "        elif _method_type_1 == \"RLM\" or _method_type_1 == \"robust linear model\":\r\n",
    "            if _need_intercept:\r\n",
    "                [intercept_a, slope_a] = sm.RLM(_y, x_intercept).fit().params\r\n",
    "                [intercept_b, slope_b] = sm.RLM(_x, y_intercept).fit().params\r\n",
    "            else:\r\n",
    "                slope_a = sm.RLM(_y, _x).fit().params\r\n",
    "                slope_b = sm.RLM(_x, _y).fit().params\r\n",
    "        else:\r\n",
    "            raise ValueError(\"Invalid literal for _method_type_1: \" + _method_type_1)\r\n",
    "\r\n",
    "    # Compute Regression Type II\r\n",
    "    if (_method_type_2 == \"reduced major axis\" or\r\n",
    "        _method_type_2 == \"geometric mean\"):\r\n",
    "        # Transpose coefficients\r\n",
    "        if _need_intercept:\r\n",
    "            intercept_b = -intercept_b / slope_b\r\n",
    "        slope_b = 1 / slope_b\r\n",
    "        # Check if correlated in same direction\r\n",
    "        if np.sign(slope_a) != np.sign(slope_b):\r\n",
    "            raise RuntimeError('Type I regressions of opposite sign.')\r\n",
    "        # Compute Reduced Major Axis Slope\r\n",
    "        slope = np.sign(slope_a) * np.sqrt(slope_a * slope_b)\r\n",
    "        if _need_intercept:\r\n",
    "            # Compute Intercept (use mean for least square)\r\n",
    "            if _method_type_1 == \"OLS\" or _method_type_1 == \"ordinary least square\":\r\n",
    "                intercept = np.mean(_y) - slope * np.mean(_x)\r\n",
    "            else:\r\n",
    "                intercept = np.median(_y) - slope * np.median(_x)\r\n",
    "        else:\r\n",
    "            intercept = 0\r\n",
    "        # Compute r\r\n",
    "        r = np.sign(slope_a) * np.sqrt(slope_a / slope_b)\r\n",
    "        # Compute predicted values\r\n",
    "        predict = slope * _x + intercept\r\n",
    "        # Compute standard deviation of the slope and the intercept\r\n",
    "        n = len(_x)\r\n",
    "        diff = _y - predict\r\n",
    "        Sx2 = np.sum(np.multiply(_x, _x))\r\n",
    "        den = n * Sx2 - np.sum(_x) ** 2\r\n",
    "        s2 = np.sum(np.multiply(diff, diff)) / (n - 2)\r\n",
    "        std_slope = np.sqrt(n * s2 / den)\r\n",
    "        if _need_intercept:\r\n",
    "            std_intercept = np.sqrt(Sx2 * s2 / den)\r\n",
    "        else:\r\n",
    "            std_intercept = 0\r\n",
    "    elif (_method_type_2 == \"Pearson's major axis\" or\r\n",
    "          _method_type_2 == \"major axis\"):\r\n",
    "        if not _need_intercept:\r\n",
    "            raise ValueError(\"Invalid value for _need_intercept: \" + str(_need_intercept))\r\n",
    "        xm = np.mean(_x)\r\n",
    "        ym = np.mean(_y)\r\n",
    "        xp = _x - xm\r\n",
    "        yp = _y - ym\r\n",
    "        sumx2 = np.sum(np.multiply(xp, xp))\r\n",
    "        sumy2 = np.sum(np.multiply(yp, yp))\r\n",
    "        sumxy = np.sum(np.multiply(xp, yp))\r\n",
    "        slope = ((sumy2 - sumx2 + np.sqrt((sumy2 - sumx2)**2 + 4 * sumxy**2)) /\r\n",
    "                 (2 * sumxy))\r\n",
    "        intercept = ym - slope * xm\r\n",
    "        # Compute r\r\n",
    "        r = sumxy / np.sqrt(sumx2 * sumy2)\r\n",
    "        # Compute standard deviation of the slope and the intercept\r\n",
    "        n = len(_x)\r\n",
    "        std_slope = (slope / r) * np.sqrt((1 - r ** 2) / n)\r\n",
    "        sigx = np.sqrt(sumx2 / (n - 1))\r\n",
    "        sigy = np.sqrt(sumy2 / (n - 1))\r\n",
    "        std_i1 = (sigy - sigx * slope) ** 2\r\n",
    "        std_i2 = (2 * sigx * sigy) + ((xm ** 2 * slope * (1 + r)) / r ** 2)\r\n",
    "        std_intercept = np.sqrt((std_i1 + ((1 - r) * slope * std_i2)) / n)\r\n",
    "        # Compute predicted values\r\n",
    "        predict = slope * _x + intercept\r\n",
    "    elif _method_type_2 == \"arithmetic mean\":\r\n",
    "        if not _need_intercept:\r\n",
    "            raise ValueError(\"Invalid value for _need_intercept: \" + str(_need_intercept))\r\n",
    "        n = len(_x)\r\n",
    "        sg = np.floor(n / 2)\r\n",
    "        # Sort x and y in order of x\r\n",
    "        sorted_index = sorted(range(len(_x)), key=lambda i: _x[i])\r\n",
    "        x_w = np.array([_x[i] for i in sorted_index])\r\n",
    "        y_w = np.array([_y[i] for i in sorted_index])\r\n",
    "        x1 = x_w[1:sg + 1]\r\n",
    "        x2 = x_w[sg:n]\r\n",
    "        y1 = y_w[1:sg + 1]\r\n",
    "        y2 = y_w[sg:n]\r\n",
    "        x1m = np.mean(x1)\r\n",
    "        x2m = np.mean(x2)\r\n",
    "        y1m = np.mean(y1)\r\n",
    "        y2m = np.mean(y2)\r\n",
    "        xm = (x1m + x2m) / 2\r\n",
    "        ym = (y1m + y2m) / 2\r\n",
    "        slope = (x2m - x1m) / (y2m - y1m)\r\n",
    "        intercept = ym - xm * slope\r\n",
    "        # r (to verify)\r\n",
    "        r = []\r\n",
    "        # Compute predicted values\r\n",
    "        predict = slope * _x + intercept\r\n",
    "        # Compute standard deviation of the slope and the intercept\r\n",
    "        std_slope = []\r\n",
    "        std_intercept = []\r\n",
    "\r\n",
    "    # Return all that\r\n",
    "    return {\"slope\": float(slope), \"intercept\": intercept, \"r\": r,\r\n",
    "            \"std_slope\": std_slope, \"std_intercept\": std_intercept,\r\n",
    "            \"predict\": predict}\r\n",
    "\r\n",
    "\r\n",
    "if __name__ == '__main__':\r\n",
    "    x = np.linspace(0, 10, 100)\r\n",
    "    # Add random error on y\r\n",
    "    e = np.random.normal(size=len(x))\r\n",
    "    y = x + e\r\n",
    "    results = regress2(x, y, _method_type_2=\"reduced major axis\",\r\n",
    "                       _need_intercept=False)"
   ]
  },
  {
   "cell_type": "code",
   "execution_count": 5,
   "metadata": {},
   "outputs": [
    {
     "data": {
      "text/html": [
       "<div>\n",
       "<style scoped>\n",
       "    .dataframe tbody tr th:only-of-type {\n",
       "        vertical-align: middle;\n",
       "    }\n",
       "\n",
       "    .dataframe tbody tr th {\n",
       "        vertical-align: top;\n",
       "    }\n",
       "\n",
       "    .dataframe thead th {\n",
       "        text-align: right;\n",
       "    }\n",
       "</style>\n",
       "<table border=\"1\" class=\"dataframe\">\n",
       "  <thead>\n",
       "    <tr style=\"text-align: right;\">\n",
       "      <th></th>\n",
       "      <th>X</th>\n",
       "      <th>Y</th>\n",
       "    </tr>\n",
       "  </thead>\n",
       "  <tbody>\n",
       "    <tr>\n",
       "      <th>13</th>\n",
       "      <td>1.307146</td>\n",
       "      <td>1.234206</td>\n",
       "    </tr>\n",
       "  </tbody>\n",
       "</table>\n",
       "</div>"
      ],
      "text/plain": [
       "           X         Y\n",
       "13  1.307146  1.234206"
      ]
     },
     "execution_count": 5,
     "metadata": {},
     "output_type": "execute_result"
    }
   ],
   "source": [
    "sd_df = pd.read_csv('data/1033.csv')\r\n",
    "sd_df.sample()"
   ]
  },
  {
   "cell_type": "code",
   "execution_count": 6,
   "metadata": {},
   "outputs": [],
   "source": [
    "import numpy as np #SBell note you needto import numpyto use np.* modules"
   ]
  },
  {
   "cell_type": "code",
   "execution_count": 8,
   "metadata": {},
   "outputs": [],
   "source": [
    "#generate a dataset\n",
    "x=np.linspace(0,10,100)\n",
    "e=np.random.normal(size=len(x))\n",
    "y=x+e\n",
    "#compute regression type 2\n",
    "results=regress2(x,y,_method_type_2=\"reduced major axis\")\n",
    "\n"
   ]
  },
  {
   "cell_type": "code",
   "execution_count": 9,
   "metadata": {},
   "outputs": [
    {
     "data": {
      "text/plain": [
       "{'slope': 1.0221012963889173,\n",
       " 'intercept': -0.056509250680926826,\n",
       " 'r': 0.9464232900516896,\n",
       " 'std_slope': 0.03379744885659501,\n",
       " 'std_intercept': 0.19562179302934607,\n",
       " 'predict': array([-0.05650925,  0.0467333 ,  0.14997586,  0.25321841,  0.35646097,\n",
       "         0.45970353,  0.56294608,  0.66618864,  0.76943119,  0.87267375,\n",
       "         0.9759163 ,  1.07915886,  1.18240141,  1.28564397,  1.38888652,\n",
       "         1.49212908,  1.59537163,  1.69861419,  1.80185674,  1.9050993 ,\n",
       "         2.00834185,  2.11158441,  2.21482696,  2.31806952,  2.42131207,\n",
       "         2.52455463,  2.62779718,  2.73103974,  2.83428229,  2.93752485,\n",
       "         3.04076741,  3.14400996,  3.24725252,  3.35049507,  3.45373763,\n",
       "         3.55698018,  3.66022274,  3.76346529,  3.86670785,  3.9699504 ,\n",
       "         4.07319296,  4.17643551,  4.27967807,  4.38292062,  4.48616318,\n",
       "         4.58940573,  4.69264829,  4.79589084,  4.8991334 ,  5.00237595,\n",
       "         5.10561851,  5.20886106,  5.31210362,  5.41534617,  5.51858873,\n",
       "         5.62183128,  5.72507384,  5.8283164 ,  5.93155895,  6.03480151,\n",
       "         6.13804406,  6.24128662,  6.34452917,  6.44777173,  6.55101428,\n",
       "         6.65425684,  6.75749939,  6.86074195,  6.9639845 ,  7.06722706,\n",
       "         7.17046961,  7.27371217,  7.37695472,  7.48019728,  7.58343983,\n",
       "         7.68668239,  7.78992494,  7.8931675 ,  7.99641005,  8.09965261,\n",
       "         8.20289516,  8.30613772,  8.40938027,  8.51262283,  8.61586539,\n",
       "         8.71910794,  8.8223505 ,  8.92559305,  9.02883561,  9.13207816,\n",
       "         9.23532072,  9.33856327,  9.44180583,  9.54504838,  9.64829094,\n",
       "         9.75153349,  9.85477605,  9.9580186 , 10.06126116, 10.16450371])}"
      ]
     },
     "execution_count": 9,
     "metadata": {},
     "output_type": "execute_result"
    }
   ],
   "source": [
    "results #using the  generated dataset above with x and y created via numpy calls"
   ]
  },
  {
   "cell_type": "markdown",
   "metadata": {},
   "source": [
    "**S Bell Notes:**\n",
    "\n",
    "you've imported your data into a pandas dataframe (thats great) called sd_df and each column is accessible via either `sd_df.X` or `sd_df['X']` and `sd_df.Y` or `sd_df['Y']` so if the regress2 code is pandas friendly, you ought to be able to just replace x, y with the mentioned methods (the different ways to access a column are important but not for this case)... so...\n",
    "\n",
    "`results=regress2(sd_df.X,sd_df.Y,_method_type_2=\"reduced major axis\")`\n",
    "or\n",
    "`results=regress2(sd_df['X'],sd_df['Y'],_method_type_2=\"reduced major axis\")`\n",
    "\n",
    "but this passes a pandas.series variable to the regress2 method (thats a level of additional complexity pandas puts on a variable) ... if for some reason the code is not able to use that, you will need to pass just the raw values of the pandas column as an array... you do this buy usint the .values method on the column pandas.series e.g. `sd_df.X.values` or `sd_df['X'].values` which will send a numpy array to the method."
   ]
  },
  {
   "cell_type": "code",
   "execution_count": 11,
   "metadata": {},
   "outputs": [
    {
     "data": {
      "text/plain": [
       "{'slope': 2.139694559470794,\n",
       " 'intercept': 0.2960691510161908,\n",
       " 'r': 0.5614386400735981,\n",
       " 'std_slope': 0.24481868526525158,\n",
       " 'std_intercept': 0.2161295110018857,\n",
       " 'predict': 0     5.938483\n",
       " 1     2.639748\n",
       " 2     0.484641\n",
       " 3     0.643326\n",
       " 4     1.080860\n",
       "         ...   \n",
       " 64    1.209524\n",
       " 65    1.875758\n",
       " 66    1.113102\n",
       " 67    1.676336\n",
       " 68    1.998909\n",
       " Name: X, Length: 69, dtype: float64}"
      ]
     },
     "execution_count": 11,
     "metadata": {},
     "output_type": "execute_result"
    }
   ],
   "source": [
    "#generate a dataset\n",
    "x=sd_df.X\n",
    "y=sd_df.Y\n",
    "#compute regression type 2\n",
    "results=regress2(x,y,_method_type_2=\"reduced major axis\")\n",
    "results"
   ]
  },
  {
   "cell_type": "code",
   "execution_count": 12,
   "metadata": {},
   "outputs": [
    {
     "data": {
      "text/plain": [
       "{'slope': 2.139694559470794,\n",
       " 'intercept': 0.2960691510161908,\n",
       " 'r': 0.5614386400735981,\n",
       " 'std_slope': 0.24481868526525158,\n",
       " 'std_intercept': 0.2161295110018857,\n",
       " 'predict': 0     5.938483\n",
       " 1     2.639748\n",
       " 2     0.484641\n",
       " 3     0.643326\n",
       " 4     1.080860\n",
       "         ...   \n",
       " 64    1.209524\n",
       " 65    1.875758\n",
       " 66    1.113102\n",
       " 67    1.676336\n",
       " 68    1.998909\n",
       " Name: X, Length: 69, dtype: float64}"
      ]
     },
     "execution_count": 12,
     "metadata": {},
     "output_type": "execute_result"
    }
   ],
   "source": [
    "#generate a dataset\n",
    "x=sd_df['X']\n",
    "y=sd_df['Y']\n",
    "#compute regression type 2\n",
    "results=regress2(x,y,_method_type_2=\"reduced major axis\")\n",
    "results"
   ]
  },
  {
   "cell_type": "code",
   "execution_count": 13,
   "metadata": {},
   "outputs": [
    {
     "data": {
      "text/plain": [
       "{'slope': 2.139694559470794,\n",
       " 'intercept': 0.2960691510161908,\n",
       " 'r': 0.5614386400735981,\n",
       " 'std_slope': 0.24481868526525158,\n",
       " 'std_intercept': 0.2161295110018857,\n",
       " 'predict': array([5.93848333, 2.63974792, 0.48464093, 0.6433259 , 1.08085955,\n",
       "        0.65054522, 0.59551056, 0.77890428, 4.58138486, 3.20719687,\n",
       "        1.26676474, 0.82279967, 1.16387495, 3.09296198, 0.64324575,\n",
       "        0.61414069, 0.66051459, 0.58820883, 0.62543354, 0.62921725,\n",
       "        0.69038272, 0.65903241, 0.69740644, 1.14431852, 0.94766524,\n",
       "        0.71448489, 0.8408004 , 0.90761291, 0.85213713, 0.83592962,\n",
       "        0.77550641, 0.63652291, 0.72886139, 0.77082613, 0.62642188,\n",
       "        0.66247666, 0.88788398, 1.0189293 , 0.53644728, 0.58308926,\n",
       "        0.54486808, 0.69555773, 0.61827149, 1.01368979, 1.40781878,\n",
       "        1.16888622, 2.52191325, 3.64101093, 3.59210326, 2.41904785,\n",
       "        2.06471873, 2.88490668, 1.98684323, 2.48410456, 3.65919139,\n",
       "        3.45818414, 3.30549972, 4.55486282, 4.46947822, 4.28955755,\n",
       "        3.58214525, 2.78207843, 1.77406317, 2.20460654, 1.20952421,\n",
       "        1.8757581 , 1.11310244, 1.67633589, 1.9989094 ])}"
      ]
     },
     "execution_count": 13,
     "metadata": {},
     "output_type": "execute_result"
    }
   ],
   "source": [
    "#generate a dataset\n",
    "x=sd_df['X'].values\n",
    "y=sd_df['Y'].values\n",
    "#compute regression type 2\n",
    "results=regress2(x,y,_method_type_2=\"reduced major axis\")\n",
    "results"
   ]
  },
  {
   "cell_type": "code",
   "execution_count": null,
   "metadata": {},
   "outputs": [],
   "source": []
  }
 ],
 "metadata": {
  "interpreter": {
   "hash": "eaa595ef62feebb7391c21f4631d0608c59ea8040a4240c26bcafde459863554"
  },
  "kernelspec": {
   "display_name": "Python 3 (ipykernel)",
   "language": "python",
   "name": "python3"
  },
  "language_info": {
   "codemirror_mode": {
    "name": "ipython",
    "version": 3
   },
   "file_extension": ".py",
   "mimetype": "text/x-python",
   "name": "python",
   "nbconvert_exporter": "python",
   "pygments_lexer": "ipython3",
   "version": "3.8.8"
  }
 },
 "nbformat": 4,
 "nbformat_minor": 4
}
