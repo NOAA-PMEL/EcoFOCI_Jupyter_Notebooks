{
 "cells": [
  {
   "cell_type": "markdown",
   "id": "52d50ea6-e4e1-4e2e-bcc7-97342126a22e",
   "metadata": {},
   "source": [
    "# HLY Saturation from Concentration"
   ]
  },
  {
   "cell_type": "code",
   "execution_count": 11,
   "id": "fe90d7cd-f95c-47b6-8edf-ca5e22596a99",
   "metadata": {},
   "outputs": [],
   "source": [
    "import pandas as pd\n",
    "import seawater as sw\n",
    "import numpy as np"
   ]
  },
  {
   "cell_type": "code",
   "execution_count": 12,
   "id": "ba1033a4-4b0d-4f59-a95c-3328602c6054",
   "metadata": {},
   "outputs": [],
   "source": [
    "def O2PercentSat(oxygen_conc=None, temperature=None, salinity=None, pressure=0):\n",
    "    \"\"\"\n",
    "    # calculate oxygen saturation\n",
    "    # Garcia and Gorden 1992 - from Seabird Derived Parameter Formulas\n",
    "    \n",
    "    \"\"\"\n",
    "\n",
    "    coefs = {\n",
    "        \"GG_A0\": 2.00907,\n",
    "        \"GG_A1\": 3.22014,\n",
    "        \"GG_A2\": 4.0501,\n",
    "        \"GG_A3\": 4.94457,\n",
    "        \"GG_A4\": -0.256847,\n",
    "        \"GG_A5\": 3.88767,\n",
    "        \"GG_B0\": -0.00624523,\n",
    "        \"GG_B1\": -0.00737614,\n",
    "        \"GG_B2\": -0.010341,\n",
    "        \"GG_B3\": -0.00817083,\n",
    "        \"GG_C0\": -0.000000488682,\n",
    "    }\n",
    "\n",
    "    scaled_temp = np.log((298.15 - temperature) / (273.15 + temperature))\n",
    "\n",
    "    Oxsol_pri = np.exp(\n",
    "        coefs[\"GG_A0\"]\n",
    "        + coefs[\"GG_A1\"] * scaled_temp\n",
    "        + coefs[\"GG_A2\"] * (scaled_temp) ** 2\n",
    "        + coefs[\"GG_A3\"] * (scaled_temp) ** 3\n",
    "        + coefs[\"GG_A4\"] * (scaled_temp) ** 4\n",
    "        + coefs[\"GG_A5\"] * (scaled_temp) ** 5\n",
    "        + salinity\n",
    "        * (\n",
    "            coefs[\"GG_B0\"]\n",
    "            + coefs[\"GG_B1\"] * scaled_temp\n",
    "            + coefs[\"GG_B2\"] * (scaled_temp) ** 2\n",
    "            + coefs[\"GG_B3\"] * (scaled_temp) ** 3\n",
    "        )\n",
    "        + coefs[\"GG_C0\"] * (salinity) ** 2\n",
    "    )\n",
    "\n",
    "    # determine sigmatheta and convert Oxygen from micromoles/kg to ml/l\n",
    "    # calculate new oxygen saturation percent using derived oxsol\n",
    "    sigmatheta_pri = sw.eos80.pden(salinity, temperature, pressure)\n",
    "    OxPerSat_pri = ((oxygen_conc * sigmatheta_pri / 44660) / Oxsol_pri) * 100.0\n",
    "\n",
    "    # replace nan/1e35 with 1e35, >1e10\n",
    "    try:\n",
    "        OxPerSat_pri[oxygen_conc >= 1e30] = np.nan\n",
    "    except:\n",
    "        if OxPerSat_pri >= 1e30:\n",
    "            OxPerSat_pri = np.nan\n",
    "\n",
    "    return OxPerSat_pri"
   ]
  },
  {
   "cell_type": "code",
   "execution_count": 13,
   "id": "d5b8dbee-5c72-45a2-a448-37d5cd3b2ce6",
   "metadata": {},
   "outputs": [],
   "source": [
    "df = pd.read_excel('/Users/bell/ecoraid/2019/CTDcasts/hly1901/final_data/csv/he1901_merged_final.xlsx',skiprows=31,sheet_name=0)"
   ]
  },
  {
   "cell_type": "code",
   "execution_count": 14,
   "id": "392c0b3c-d707-4d86-97ae-57d9bb4a7184",
   "metadata": {},
   "outputs": [
    {
     "data": {
      "text/html": [
       "<div>\n",
       "<style scoped>\n",
       "    .dataframe tbody tr th:only-of-type {\n",
       "        vertical-align: middle;\n",
       "    }\n",
       "\n",
       "    .dataframe tbody tr th {\n",
       "        vertical-align: top;\n",
       "    }\n",
       "\n",
       "    .dataframe thead th {\n",
       "        text-align: right;\n",
       "    }\n",
       "</style>\n",
       "<table border=\"1\" class=\"dataframe\">\n",
       "  <thead>\n",
       "    <tr style=\"text-align: right;\">\n",
       "      <th></th>\n",
       "      <th>Cruise</th>\n",
       "      <th>Cast</th>\n",
       "      <th>Latitude</th>\n",
       "      <th>Longitude</th>\n",
       "      <th>Date Time</th>\n",
       "      <th>P_4</th>\n",
       "      <th>S_42</th>\n",
       "      <th>S_41</th>\n",
       "      <th>Fch_906</th>\n",
       "      <th>T_28</th>\n",
       "      <th>...</th>\n",
       "      <th>PO4_186</th>\n",
       "      <th>NO2_184</th>\n",
       "      <th>NO3_182</th>\n",
       "      <th>NH4_189</th>\n",
       "      <th>Notes</th>\n",
       "      <th>Unnamed: 26</th>\n",
       "      <th>Unnamed: 27</th>\n",
       "      <th>Unnamed: 28</th>\n",
       "      <th>Unnamed: 29</th>\n",
       "      <th>Unnamed: 30</th>\n",
       "    </tr>\n",
       "  </thead>\n",
       "  <tbody>\n",
       "    <tr>\n",
       "      <th>16996</th>\n",
       "      <td>he18897</td>\n",
       "      <td>98</td>\n",
       "      <td>72.4153</td>\n",
       "      <td>-155.5032</td>\n",
       "      <td>2019-08-18 02:09:00</td>\n",
       "      <td>23</td>\n",
       "      <td>29.96757</td>\n",
       "      <td>29.96226</td>\n",
       "      <td>0.6734</td>\n",
       "      <td>0.497</td>\n",
       "      <td>...</td>\n",
       "      <td>NaN</td>\n",
       "      <td>NaN</td>\n",
       "      <td>NaN</td>\n",
       "      <td>NaN</td>\n",
       "      <td>NaN</td>\n",
       "      <td>NaN</td>\n",
       "      <td>NaN</td>\n",
       "      <td>NaN</td>\n",
       "      <td>NaN</td>\n",
       "      <td>NaN</td>\n",
       "    </tr>\n",
       "  </tbody>\n",
       "</table>\n",
       "<p>1 rows × 31 columns</p>\n",
       "</div>"
      ],
      "text/plain": [
       "        Cruise  Cast  Latitude  Longitude           Date Time  P_4      S_42  \\\n",
       "16996  he18897    98   72.4153  -155.5032 2019-08-18 02:09:00   23  29.96757   \n",
       "\n",
       "           S_41  Fch_906   T_28  ...  PO4_186  NO2_184  NO3_182  NH4_189  \\\n",
       "16996  29.96226   0.6734  0.497  ...      NaN      NaN      NaN      NaN   \n",
       "\n",
       "       Notes  Unnamed: 26  Unnamed: 27  Unnamed: 28  Unnamed: 29  Unnamed: 30  \n",
       "16996    NaN          NaN          NaN          NaN          NaN          NaN  \n",
       "\n",
       "[1 rows x 31 columns]"
      ]
     },
     "execution_count": 14,
     "metadata": {},
     "output_type": "execute_result"
    }
   ],
   "source": [
    "df.sample()"
   ]
  },
  {
   "cell_type": "code",
   "execution_count": 17,
   "id": "f4bd1452-1be7-4caf-897d-0c3cd3ec875f",
   "metadata": {},
   "outputs": [],
   "source": [
    "df['CTDOST_4221'] = O2PercentSat(oxygen_conc=df.CTDOXY_4220, temperature=df.T2_35, salinity=df.S_42, pressure=df.P_4)\n",
    "df['OST_62'] = O2PercentSat(oxygen_conc=df.O_65, temperature=df.T_28, salinity=df.S_41, pressure=df.P_4)"
   ]
  },
  {
   "cell_type": "code",
   "execution_count": 18,
   "id": "9fecf67a-95cd-4280-bf74-aa1aa973949d",
   "metadata": {},
   "outputs": [],
   "source": [
    "df.to_csv('/Users/bell/ecoraid/2019/CTDcasts/hly1901/final_data/csv/he1901_merged_final.woxy.csv')"
   ]
  },
  {
   "cell_type": "code",
   "execution_count": null,
   "id": "af395335-9f47-4753-a97c-545be3238a47",
   "metadata": {},
   "outputs": [],
   "source": []
  }
 ],
 "metadata": {
  "kernelspec": {
   "display_name": "Python [conda env:py38] *",
   "language": "python",
   "name": "conda-env-py38-py"
  },
  "language_info": {
   "codemirror_mode": {
    "name": "ipython",
    "version": 3
   },
   "file_extension": ".py",
   "mimetype": "text/x-python",
   "name": "python",
   "nbconvert_exporter": "python",
   "pygments_lexer": "ipython3",
   "version": "3.8.8"
  }
 },
 "nbformat": 4,
 "nbformat_minor": 5
}
