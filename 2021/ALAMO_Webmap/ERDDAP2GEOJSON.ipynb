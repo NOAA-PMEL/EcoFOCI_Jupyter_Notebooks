{
 "cells": [
  {
   "cell_type": "code",
   "execution_count": 2,
   "id": "2200c596-2fa7-4665-8122-13305e08a329",
   "metadata": {},
   "outputs": [],
   "source": [
    "from erddapy import ERDDAP\n",
    "import pandas as pd\n",
    "\n",
    "import requests"
   ]
  },
  {
   "cell_type": "code",
   "execution_count": 3,
   "id": "7346e671-798b-4d8c-96ff-8c5f05dffcd4",
   "metadata": {},
   "outputs": [],
   "source": [
    "server_url='https://data.pmel.noaa.gov/alamo/erddap/'\n",
    "\n",
    "e = ERDDAP(server=server_url)\n",
    "\n",
    "df = pd.read_csv(e.get_search_url(response='csv', search_for='ALAMO'))"
   ]
  },
  {
   "cell_type": "code",
   "execution_count": 7,
   "id": "9b06a310-8b29-470a-89cf-fe4e79cdd456",
   "metadata": {},
   "outputs": [],
   "source": [
    "for dataset_id in sorted(df['Dataset ID'].values):\n",
    "    r = requests.get(url=f'https://data.pmel.noaa.gov/alamo/erddap/tabledap/{dataset_id}.geoJson?profileid%2CFLOAT_SERIAL_NO%2CCYCLE_NUMBER%2Ctime%2Clatitude%2Clongitude%2CPRES%2CTEMP%2CPSAL&distinct()&orderByMin(%22time%22)', allow_redirects=True)\n",
    "    open(f'{dataset_id}.geojson', 'wb').write(r.content)"
   ]
  },
  {
   "cell_type": "code",
   "execution_count": null,
   "id": "b3c6b07f-4908-4254-ae57-ae8c7aa6c997",
   "metadata": {},
   "outputs": [],
   "source": []
  }
 ],
 "metadata": {
  "kernelspec": {
   "display_name": "Python [conda env:py38] *",
   "language": "python",
   "name": "conda-env-py38-py"
  },
  "language_info": {
   "codemirror_mode": {
    "name": "ipython",
    "version": 3
   },
   "file_extension": ".py",
   "mimetype": "text/x-python",
   "name": "python",
   "nbconvert_exporter": "python",
   "pygments_lexer": "ipython3",
   "version": "3.8.8"
  }
 },
 "nbformat": 4,
 "nbformat_minor": 5
}
