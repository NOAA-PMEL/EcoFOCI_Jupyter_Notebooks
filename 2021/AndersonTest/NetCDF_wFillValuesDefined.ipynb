{
 "cells": [
  {
   "cell_type": "markdown",
   "id": "282e576f-f544-4e92-a2b9-b13e2565957f",
   "metadata": {},
   "source": [
    "# netcdf creation with fill values\n",
    "\n",
    "Is it a:\n",
    "- python issue (2.7 vs 3.6+)\n",
    "- netcdf issue (NETCDF3_CLASSIC vs NETCDF4_CLASSIC vs ?)\n"
   ]
  },
  {
   "cell_type": "code",
   "execution_count": 24,
   "id": "106094f6-7d87-4dc5-9c27-95e7a2a66884",
   "metadata": {},
   "outputs": [],
   "source": [
    "import netCDF4\n",
    "\n",
    "import numpy as np"
   ]
  },
  {
   "cell_type": "code",
   "execution_count": 25,
   "id": "147ae861-b4d7-4fb1-8176-9df35c363623",
   "metadata": {},
   "outputs": [],
   "source": [
    "rootgrp = netCDF4.Dataset('test.nc', 'w', format='NETCDF3_CLASSIC')"
   ]
  },
  {
   "cell_type": "code",
   "execution_count": 26,
   "id": "e8ed1ad2-ca90-499e-a5d6-48287d9f6b6e",
   "metadata": {},
   "outputs": [],
   "source": [
    "timedim = rootgrp.createDimension('TIME', None)\n",
    "depthdim = rootgrp.createDimension('DEPTH', 1)\n",
    "latitudedim = rootgrp.createDimension('LATITUDE', 1)\n",
    "longitudedim = rootgrp.createDimension('LONGITUDE', 1)\n",
    "posqualdim = rootgrp.createDimension('POSITION', 1)\n",
    "wind2heightdim = rootgrp.createDimension('HEIGHT_WIND2',1)\n",
    "\n",
    "times = rootgrp.createVariable('TIME','f8',('TIME',))\n"
   ]
  },
  {
   "cell_type": "code",
   "execution_count": 27,
   "id": "31491d70-d21b-4083-9fbb-eeac649b27a3",
   "metadata": {},
   "outputs": [],
   "source": [
    "wind2sspd = rootgrp.createVariable('WSSPD2','f4',('TIME',),fill_value=np.NaN)\n",
    "wind2gust = rootgrp.createVariable('WGUST2','f4',('TIME',),fill_value=np.NaN)\n",
    "wind2spdq = rootgrp.createVariable('WSPD2_QC','f4',('TIME','HEIGHT_WIND2','LATITUDE','LONGITUDE'),fill_value=4)\n",
    "wind2dirq = rootgrp.createVariable('WDIR2_QC','i1',('TIME','HEIGHT_WIND2','LATITUDE','LONGITUDE'),fill_value=4)"
   ]
  },
  {
   "cell_type": "code",
   "execution_count": null,
   "id": "4b2344e2-cae0-46c2-8354-e81a58f1d239",
   "metadata": {},
   "outputs": [],
   "source": []
  }
 ],
 "metadata": {
  "kernelspec": {
   "display_name": "Python [conda env:py27]",
   "language": "python",
   "name": "conda-env-py27-py"
  },
  "language_info": {
   "codemirror_mode": {
    "name": "ipython",
    "version": 2
   },
   "file_extension": ".py",
   "mimetype": "text/x-python",
   "name": "python",
   "nbconvert_exporter": "python",
   "pygments_lexer": "ipython2",
   "version": "2.7.15"
  }
 },
 "nbformat": 4,
 "nbformat_minor": 5
}
