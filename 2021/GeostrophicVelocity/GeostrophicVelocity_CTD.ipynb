{
 "cells": [
  {
   "cell_type": "markdown",
   "id": "f8193562-7e85-4dce-a5ce-fb90b30bb4d0",
   "metadata": {},
   "source": [
    "# Calc Geostrophic Velocity Between Stations\n",
    "\n",
    "- EPIC tool on iris3?\n",
    "- wrt bottom (or common deepest value) vs wrt to surface\n",
    "\n",
    "- seawater vs gsw"
   ]
  },
  {
   "cell_type": "code",
   "execution_count": 76,
   "id": "323cc9f4-9b9b-4702-b3e7-52c512a76ca9",
   "metadata": {},
   "outputs": [],
   "source": [
    "import pandas as pd\n",
    "import numpy as np\n",
    "import seawater\n",
    "import gsw"
   ]
  },
  {
   "cell_type": "code",
   "execution_count": 100,
   "id": "ca41b690-7242-4e4c-99a7-5c2d353b4581",
   "metadata": {},
   "outputs": [],
   "source": [
    "dfo = pd.read_csv('~/Downloads/CTD_aq1201_final_6f37_d0e5_e2c9.csv')"
   ]
  },
  {
   "cell_type": "code",
   "execution_count": 199,
   "id": "e9fb96d2-a862-4f84-a944-cd18b699363d",
   "metadata": {},
   "outputs": [
    {
     "data": {
      "text/plain": [
       "dict_keys(['aq1201c004_ctd', 'aq1201c005_ctd', 'aq1201c006_ctd', 'aq1201c007_ctd', 'aq1201c008_ctd', 'aq1201c009_ctd', 'aq1201c010_ctd', 'aq1201c011_ctd'])"
      ]
     },
     "execution_count": 199,
     "metadata": {},
     "output_type": "execute_result"
    }
   ],
   "source": [
    "dfg = dfo.groupby('profile_id')\n",
    "dfg.groups.keys()"
   ]
  },
  {
   "cell_type": "code",
   "execution_count": 245,
   "id": "f583bfc8-a15b-4125-9f78-9a0e61b043b1",
   "metadata": {},
   "outputs": [
    {
     "data": {
      "text/plain": [
       "['aq1201c004_ctd-aq1201c005_ctd',\n",
       " 'aq1201c005_ctd-aq1201c006_ctd',\n",
       " 'aq1201c006_ctd-aq1201c007_ctd',\n",
       " 'aq1201c007_ctd-aq1201c008_ctd',\n",
       " 'aq1201c008_ctd-aq1201c009_ctd',\n",
       " 'aq1201c009_ctd-aq1201c010_ctd',\n",
       " 'aq1201c010_ctd-aq1201c011_ctd']"
      ]
     },
     "execution_count": 245,
     "metadata": {},
     "output_type": "execute_result"
    }
   ],
   "source": [
    "geovel_colnames = [\"{}-{}\".format(b_, a_) for a_, b_ in zip(list(dfg.groups.keys())[1:],list(dfg.groups.keys())[:-1])]\n",
    "geovel_colnames"
   ]
  },
  {
   "cell_type": "code",
   "execution_count": 200,
   "id": "7153e703-93a1-4b3a-a723-adbe630cbab7",
   "metadata": {},
   "outputs": [
    {
     "data": {
      "text/html": [
       "<div>\n",
       "<style scoped>\n",
       "    .dataframe tbody tr th:only-of-type {\n",
       "        vertical-align: middle;\n",
       "    }\n",
       "\n",
       "    .dataframe tbody tr th {\n",
       "        vertical-align: top;\n",
       "    }\n",
       "\n",
       "    .dataframe thead th {\n",
       "        text-align: right;\n",
       "    }\n",
       "</style>\n",
       "<table border=\"1\" class=\"dataframe\">\n",
       "  <thead>\n",
       "    <tr style=\"text-align: right;\">\n",
       "      <th></th>\n",
       "      <th>time (UTC)</th>\n",
       "      <th>pressure (dbar)</th>\n",
       "      <th>latitude (degrees_north)</th>\n",
       "      <th>longitude (degrees_east)</th>\n",
       "      <th>BTL_103</th>\n",
       "      <th>S_42 (PSU)</th>\n",
       "      <th>S_41 (PSU)</th>\n",
       "      <th>ST_70 (kg m-3)</th>\n",
       "      <th>fWS_973 (ugrams/l)</th>\n",
       "      <th>T_28 (degree_C)</th>\n",
       "      <th>...</th>\n",
       "      <th>Tr_904 (percent)</th>\n",
       "      <th>PAR_905 (uEin cm-2 s-1)</th>\n",
       "      <th>profile_id</th>\n",
       "      <th>Instrument_Identifier</th>\n",
       "      <th>Water_Depth (dbar)</th>\n",
       "      <th>air_pressure_at_sealevel (mbar)</th>\n",
       "      <th>wind_direction (degrees)</th>\n",
       "      <th>wind_speed (m s-1)</th>\n",
       "      <th>air_temperature (degree_C)</th>\n",
       "      <th>Station_Name</th>\n",
       "    </tr>\n",
       "  </thead>\n",
       "  <tbody>\n",
       "    <tr>\n",
       "      <th>47</th>\n",
       "      <td>2012-08-18T22:47:00Z</td>\n",
       "      <td>0.0</td>\n",
       "      <td>67.783</td>\n",
       "      <td>191.399</td>\n",
       "      <td>NaN</td>\n",
       "      <td>27.5894</td>\n",
       "      <td>27.5830</td>\n",
       "      <td>21.80869</td>\n",
       "      <td>1.5138</td>\n",
       "      <td>4.9204</td>\n",
       "      <td>...</td>\n",
       "      <td>NaN</td>\n",
       "      <td>285.78</td>\n",
       "      <td>aq1201c005_ctd</td>\n",
       "      <td>Sea-Bird CTD SBE911</td>\n",
       "      <td>50.0</td>\n",
       "      <td>NaN</td>\n",
       "      <td>NaN</td>\n",
       "      <td>NaN</td>\n",
       "      <td>NaN</td>\n",
       "      <td>NaN</td>\n",
       "    </tr>\n",
       "    <tr>\n",
       "      <th>48</th>\n",
       "      <td>2012-08-18T22:47:00Z</td>\n",
       "      <td>1.0</td>\n",
       "      <td>67.783</td>\n",
       "      <td>191.399</td>\n",
       "      <td>NaN</td>\n",
       "      <td>27.5894</td>\n",
       "      <td>27.5830</td>\n",
       "      <td>21.80869</td>\n",
       "      <td>1.5138</td>\n",
       "      <td>4.9204</td>\n",
       "      <td>...</td>\n",
       "      <td>NaN</td>\n",
       "      <td>285.78</td>\n",
       "      <td>aq1201c005_ctd</td>\n",
       "      <td>Sea-Bird CTD SBE911</td>\n",
       "      <td>50.0</td>\n",
       "      <td>NaN</td>\n",
       "      <td>NaN</td>\n",
       "      <td>NaN</td>\n",
       "      <td>NaN</td>\n",
       "      <td>NaN</td>\n",
       "    </tr>\n",
       "    <tr>\n",
       "      <th>49</th>\n",
       "      <td>2012-08-18T22:47:00Z</td>\n",
       "      <td>2.0</td>\n",
       "      <td>67.783</td>\n",
       "      <td>191.399</td>\n",
       "      <td>NaN</td>\n",
       "      <td>27.5894</td>\n",
       "      <td>27.5830</td>\n",
       "      <td>21.80869</td>\n",
       "      <td>1.5138</td>\n",
       "      <td>4.9204</td>\n",
       "      <td>...</td>\n",
       "      <td>NaN</td>\n",
       "      <td>285.78</td>\n",
       "      <td>aq1201c005_ctd</td>\n",
       "      <td>Sea-Bird CTD SBE911</td>\n",
       "      <td>50.0</td>\n",
       "      <td>NaN</td>\n",
       "      <td>NaN</td>\n",
       "      <td>NaN</td>\n",
       "      <td>NaN</td>\n",
       "      <td>NaN</td>\n",
       "    </tr>\n",
       "    <tr>\n",
       "      <th>50</th>\n",
       "      <td>2012-08-18T22:47:00Z</td>\n",
       "      <td>3.0</td>\n",
       "      <td>67.783</td>\n",
       "      <td>191.399</td>\n",
       "      <td>NaN</td>\n",
       "      <td>27.5894</td>\n",
       "      <td>27.5830</td>\n",
       "      <td>21.80869</td>\n",
       "      <td>1.5138</td>\n",
       "      <td>4.9204</td>\n",
       "      <td>...</td>\n",
       "      <td>NaN</td>\n",
       "      <td>285.78</td>\n",
       "      <td>aq1201c005_ctd</td>\n",
       "      <td>Sea-Bird CTD SBE911</td>\n",
       "      <td>50.0</td>\n",
       "      <td>NaN</td>\n",
       "      <td>NaN</td>\n",
       "      <td>NaN</td>\n",
       "      <td>NaN</td>\n",
       "      <td>NaN</td>\n",
       "    </tr>\n",
       "    <tr>\n",
       "      <th>51</th>\n",
       "      <td>2012-08-18T22:47:00Z</td>\n",
       "      <td>4.0</td>\n",
       "      <td>67.783</td>\n",
       "      <td>191.399</td>\n",
       "      <td>NaN</td>\n",
       "      <td>27.7166</td>\n",
       "      <td>27.7405</td>\n",
       "      <td>21.94667</td>\n",
       "      <td>1.5803</td>\n",
       "      <td>4.7807</td>\n",
       "      <td>...</td>\n",
       "      <td>NaN</td>\n",
       "      <td>207.36</td>\n",
       "      <td>aq1201c005_ctd</td>\n",
       "      <td>Sea-Bird CTD SBE911</td>\n",
       "      <td>50.0</td>\n",
       "      <td>NaN</td>\n",
       "      <td>NaN</td>\n",
       "      <td>NaN</td>\n",
       "      <td>NaN</td>\n",
       "      <td>NaN</td>\n",
       "    </tr>\n",
       "  </tbody>\n",
       "</table>\n",
       "<p>5 rows × 23 columns</p>\n",
       "</div>"
      ],
      "text/plain": [
       "              time (UTC)  pressure (dbar)  latitude (degrees_north)  \\\n",
       "47  2012-08-18T22:47:00Z              0.0                    67.783   \n",
       "48  2012-08-18T22:47:00Z              1.0                    67.783   \n",
       "49  2012-08-18T22:47:00Z              2.0                    67.783   \n",
       "50  2012-08-18T22:47:00Z              3.0                    67.783   \n",
       "51  2012-08-18T22:47:00Z              4.0                    67.783   \n",
       "\n",
       "    longitude (degrees_east)  BTL_103  S_42 (PSU)  S_41 (PSU)  ST_70 (kg m-3)  \\\n",
       "47                   191.399      NaN     27.5894     27.5830        21.80869   \n",
       "48                   191.399      NaN     27.5894     27.5830        21.80869   \n",
       "49                   191.399      NaN     27.5894     27.5830        21.80869   \n",
       "50                   191.399      NaN     27.5894     27.5830        21.80869   \n",
       "51                   191.399      NaN     27.7166     27.7405        21.94667   \n",
       "\n",
       "    fWS_973 (ugrams/l)  T_28 (degree_C)  ...  Tr_904 (percent)  \\\n",
       "47              1.5138           4.9204  ...               NaN   \n",
       "48              1.5138           4.9204  ...               NaN   \n",
       "49              1.5138           4.9204  ...               NaN   \n",
       "50              1.5138           4.9204  ...               NaN   \n",
       "51              1.5803           4.7807  ...               NaN   \n",
       "\n",
       "    PAR_905 (uEin cm-2 s-1)      profile_id  Instrument_Identifier  \\\n",
       "47                   285.78  aq1201c005_ctd    Sea-Bird CTD SBE911   \n",
       "48                   285.78  aq1201c005_ctd    Sea-Bird CTD SBE911   \n",
       "49                   285.78  aq1201c005_ctd    Sea-Bird CTD SBE911   \n",
       "50                   285.78  aq1201c005_ctd    Sea-Bird CTD SBE911   \n",
       "51                   207.36  aq1201c005_ctd    Sea-Bird CTD SBE911   \n",
       "\n",
       "    Water_Depth (dbar) air_pressure_at_sealevel (mbar)  \\\n",
       "47                50.0                             NaN   \n",
       "48                50.0                             NaN   \n",
       "49                50.0                             NaN   \n",
       "50                50.0                             NaN   \n",
       "51                50.0                             NaN   \n",
       "\n",
       "   wind_direction (degrees)  wind_speed (m s-1)  air_temperature (degree_C)  \\\n",
       "47                      NaN                 NaN                         NaN   \n",
       "48                      NaN                 NaN                         NaN   \n",
       "49                      NaN                 NaN                         NaN   \n",
       "50                      NaN                 NaN                         NaN   \n",
       "51                      NaN                 NaN                         NaN   \n",
       "\n",
       "    Station_Name  \n",
       "47           NaN  \n",
       "48           NaN  \n",
       "49           NaN  \n",
       "50           NaN  \n",
       "51           NaN  \n",
       "\n",
       "[5 rows x 23 columns]"
      ]
     },
     "execution_count": 200,
     "metadata": {},
     "output_type": "execute_result"
    }
   ],
   "source": [
    "dfg.get_group('aq1201c005_ctd').head()"
   ]
  },
  {
   "cell_type": "code",
   "execution_count": 201,
   "id": "6064a8f7-3dcc-407d-be89-132b5b79ec5c",
   "metadata": {},
   "outputs": [],
   "source": [
    "df = dfo"
   ]
  },
  {
   "cell_type": "code",
   "execution_count": 202,
   "id": "2f60d051-4679-48c2-8efc-970a27a29059",
   "metadata": {},
   "outputs": [],
   "source": [
    "df_salt = pd.pivot_table(df,'S_41 (PSU)','pressure (dbar)','profile_id')\n",
    "df_temp = pd.pivot_table(df,'T_28 (degree_C)','pressure (dbar)','profile_id')\n",
    "dflat = pd.pivot_table(df,'latitude (degrees_north)','pressure (dbar)','profile_id')\n",
    "dflon = pd.pivot_table(df,'longitude (degrees_east)','pressure (dbar)','profile_id')"
   ]
  },
  {
   "cell_type": "code",
   "execution_count": 203,
   "id": "d5dc391c-580e-44b5-81b1-a5ae8e13fbe8",
   "metadata": {},
   "outputs": [],
   "source": [
    "gpan = seawater.gpan(df_salt.values,df_temp.values,df_salt.index.values.reshape(len(df_salt.index.values),1))\n",
    "#same as gsw iteration below"
   ]
  },
  {
   "cell_type": "code",
   "execution_count": 204,
   "id": "ae7a15dc-0f42-4832-a7be-ab474c5d4c45",
   "metadata": {},
   "outputs": [],
   "source": [
    "gvel = seawater.gvel(gpan,dflat.loc[0].values,dflon.loc[0].values)"
   ]
  },
  {
   "cell_type": "code",
   "execution_count": 205,
   "id": "5cba5bd5-8246-4a19-b908-d27206cc3df0",
   "metadata": {},
   "outputs": [],
   "source": [
    "%matplotlib inline\n",
    "import matplotlib as mpl\n",
    "import matplotlib.pyplot as plt"
   ]
  },
  {
   "cell_type": "code",
   "execution_count": 230,
   "id": "e16b6267-15e6-46f2-82cf-31631322de1f",
   "metadata": {
    "tags": []
   },
   "outputs": [],
   "source": [
    "gvel_df = pd.DataFrame(gvel,columns=geovel_colnames)"
   ]
  },
  {
   "cell_type": "code",
   "execution_count": 232,
   "id": "2f8e4585-eca2-4ea6-9f79-6d0756a44ad6",
   "metadata": {},
   "outputs": [
    {
     "data": {
      "image/png": "[encoded data removed]",
      "text/plain": [
       "<Figure size 720x288 with 1 Axes>"
      ]
     },
     "metadata": {
      "needs_background": "light"
     },
     "output_type": "display_data"
    }
   ],
   "source": [
    "fig, ax = plt.subplots(figsize=(10, 4))\n",
    "ax = plt.plot(gvel_df,gvel_df.index)\n",
    "plt.gca().invert_yaxis()"
   ]
  },
  {
   "cell_type": "code",
   "execution_count": 252,
   "id": "8a2106fe-e204-4106-ae15-95370083a4b1",
   "metadata": {
    "tags": []
   },
   "outputs": [],
   "source": [
    "df_SA = gsw.SA_from_SP(df_salt.values,df_salt.index.values.reshape(len(df_salt.index.values),1),dflon.loc[0].values,dflat.loc[0].values)\n",
    "df_CT = gsw.CT_from_t(df_SA,df_temp.values,df_salt.index.values.reshape(len(df_salt.index.values),1))\n",
    "\n",
    "gswpan = gsw.geo_strf_dyn_height(df_SA,df_CT,df_salt.index.values.reshape(len(df_salt.index.values),1),axis=0,p_ref=df_salt.dropna(how='any').index.max())\n",
    "\n",
    "df_salt.dropna(how='any').index\n",
    "\n",
    "gswvel = gsw.geostrophy.geostrophic_velocity(gswpan,dflon.loc[0].values,dflat.loc[0].values,p=df_salt.dropna(how='any').index.max(),axis=0)\n",
    "\n"
   ]
  },
  {
   "cell_type": "code",
   "execution_count": 253,
   "id": "65d679fb-abbd-4c43-9a6a-3597a3ce26e9",
   "metadata": {},
   "outputs": [],
   "source": [
    "df_SA = gsw.SA_from_SP(df_salt.values,df_salt.index.values.reshape(len(df_salt.index.values),1),dflon.loc[0].values,dflat.loc[0].values)\n",
    "df_CT = gsw.CT_from_t(df_SA,df_temp.values,df_salt.index.values.reshape(len(df_salt.index.values),1))\n",
    "\n",
    "gswpan = gsw.geo_strf_dyn_height(df_SA,df_CT,df_salt.index.values.reshape(len(df_salt.index.values),1),axis=0,p_ref=df_salt.dropna(how='any').index.max())\n",
    "\n",
    "gswvel = gsw.geostrophy.geostrophic_velocity(gswpan,dflon.loc[0].values,dflat.loc[0].values,p=df_salt.dropna(how='any').index.max(),axis=0)\n",
    "\n",
    "\n",
    "gswvel_df = pd.DataFrame(gswvel[0],columns=geovel_colnames)"
   ]
  },
  {
   "cell_type": "code",
   "execution_count": 254,
   "id": "49000e2d-c670-4632-ade2-8a2c2348bb3e",
   "metadata": {},
   "outputs": [
    {
     "data": {
      "image/png": "[encoded data removed]",
      "text/plain": [
       "<Figure size 720x288 with 1 Axes>"
      ]
     },
     "metadata": {
      "needs_background": "light"
     },
     "output_type": "display_data"
    }
   ],
   "source": [
    "fig, ax = plt.subplots(figsize=(10, 4))\n",
    "ax = plt.plot(gswvel_df,gswvel_df.index)\n",
    "plt.gca().invert_yaxis()"
   ]
  },
  {
   "cell_type": "code",
   "execution_count": 249,
   "id": "afc8861e-2e50-4f3d-a2e5-c965082e5090",
   "metadata": {},
   "outputs": [
    {
     "data": {
      "text/plain": [
       "array([19749.31745922, 19948.32748459, 19759.22439309, 20253.99958812,\n",
       "       10059.74122833,  9940.22186661, 10028.58022092])"
      ]
     },
     "execution_count": 249,
     "metadata": {},
     "output_type": "execute_result"
    }
   ],
   "source": [
    "alongx=gsw.geostrophy.distance(dflon.loc[0].values,dflat.loc[0].values)\n",
    "alongx"
   ]
  },
  {
   "cell_type": "code",
   "execution_count": 250,
   "id": "729ec2a9-f62b-4bff-8cc6-c3b3e756b031",
   "metadata": {},
   "outputs": [
    {
     "data": {
      "text/plain": [
       "array([ 19749.31745922,  39697.64494381,  59456.8693369 ,  79710.86892502,\n",
       "        89770.61015335,  99710.83201996, 109739.41224088])"
      ]
     },
     "execution_count": 250,
     "metadata": {},
     "output_type": "execute_result"
    }
   ],
   "source": [
    "alongx.cumsum()"
   ]
  },
  {
   "cell_type": "code",
   "execution_count": 251,
   "id": "8c76a5a6-023c-4931-8cc5-2e092e2396bf",
   "metadata": {},
   "outputs": [
    {
     "data": {
      "image/png": "[encoded data removed]",
      "text/plain": [
       "<Figure size 720x288 with 1 Axes>"
      ]
     },
     "metadata": {
      "needs_background": "light"
     },
     "output_type": "display_data"
    }
   ],
   "source": [
    "fig, ax = plt.subplots(figsize=(10, 4))\n",
    "ax = plt.pcolormesh(alongx.cumsum(),gswvel_df.index,gswvel_df,shading='nearest')\n",
    "plt.gca().invert_yaxis()"
   ]
  },
  {
   "cell_type": "code",
   "execution_count": 256,
   "id": "681f2998-5e11-49c0-89b9-9ba078514b4c",
   "metadata": {},
   "outputs": [],
   "source": [
    "gswvel_df.to_csv('aq1201.geovel.csv')\n",
    "alongx.cumsum()"
   ]
  },
  {
   "cell_type": "code",
   "execution_count": null,
   "id": "5045b459-7f30-47c8-a34f-fd68a86c72dc",
   "metadata": {},
   "outputs": [],
   "source": []
  }
 ],
 "metadata": {
  "kernelspec": {
   "display_name": "Python [conda env:py38] *",
   "language": "python",
   "name": "conda-env-py38-py"
  },
  "language_info": {
   "codemirror_mode": {
    "name": "ipython",
    "version": 3
   },
   "file_extension": ".py",
   "mimetype": "text/x-python",
   "name": "python",
   "nbconvert_exporter": "python",
   "pygments_lexer": "ipython3",
   "version": "3.8.8"
  }
 },
 "nbformat": 4,
 "nbformat_minor": 5
}
