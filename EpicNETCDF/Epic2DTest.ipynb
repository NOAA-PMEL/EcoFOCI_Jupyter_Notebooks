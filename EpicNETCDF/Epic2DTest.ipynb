{
 "cells": [
  {
   "cell_type": "code",
   "execution_count": 2,
   "metadata": {},
   "outputs": [],
   "source": [
    "from io_utils.EcoFOCI_netCDF_read import EcoFOCI_netCDF"
   ]
  },
  {
   "cell_type": "code",
   "execution_count": 3,
   "metadata": {},
   "outputs": [
    {
     "data": {
      "text/plain": [
       "io_utils.EcoFOCI_netCDF_read.EcoFOCI_netCDF"
      ]
     },
     "execution_count": 3,
     "metadata": {},
     "output_type": "execute_result"
    }
   ],
   "source": [
    "EcoFOCI_netCDF"
   ]
  },
  {
   "cell_type": "code",
   "execution_count": 4,
   "metadata": {},
   "outputs": [],
   "source": [
    "df = EcoFOCI_netCDF('/Users/bell/ecoraid/2017/Moorings/17ckp2a/erddap/final_data/17ckp2a_wcp_vel.cf.nc')\n",
    "global_atts = df.get_global_atts()\n",
    "vars_dic = df.get_vars()\n",
    "ncdata = df.ncreadfile_dic()"
   ]
  },
  {
   "cell_type": "code",
   "execution_count": 17,
   "metadata": {},
   "outputs": [
    {
     "data": {
      "text/plain": [
       "masked_array(data=[False,  True,  True,  True,  True, False, False],\n",
       "             mask=False,\n",
       "       fill_value=1e+20)"
      ]
     },
     "execution_count": 17,
     "metadata": {},
     "output_type": "execute_result"
    }
   ],
   "source": [
    "depth_ind =(ncdata['depth'] >= 5) & (ncdata['depth'] <= 20)\n",
    "depth_ind"
   ]
  },
  {
   "cell_type": "code",
   "execution_count": 19,
   "metadata": {},
   "outputs": [
    {
     "data": {
      "text/plain": [
       "4"
      ]
     },
     "execution_count": 19,
     "metadata": {},
     "output_type": "execute_result"
    }
   ],
   "source": [
    "len(ncdata[\"depth\"][depth_ind])"
   ]
  },
  {
   "cell_type": "code",
   "execution_count": 21,
   "metadata": {},
   "outputs": [
    {
     "data": {
      "text/plain": [
       "8848"
      ]
     },
     "execution_count": 21,
     "metadata": {},
     "output_type": "execute_result"
    }
   ],
   "source": [
    "len(ncdata[\"time\"])"
   ]
  },
  {
   "cell_type": "code",
   "execution_count": 25,
   "metadata": {},
   "outputs": [
    {
     "data": {
      "text/plain": [
       "masked_array(\n",
       "  data=[[-16.373867 , -16.311108 , -16.788357 , -16.979166 ],\n",
       "        [-11.607799 ,  -9.906386 , -12.480456 , -11.220664 ],\n",
       "        [ -4.1145597,  -5.5297575,  -6.4378195,  -5.9005694],\n",
       "        ...,\n",
       "        [-10.2314415,  -3.711329 ,  -7.580142 , -10.751463 ],\n",
       "        [ -8.080136 ,  -5.494354 ,  -9.987773 ,  -8.422913 ],\n",
       "        [ -8.838083 , -11.670331 , -15.716615 ,  -8.790966 ]],\n",
       "  mask=False,\n",
       "  fill_value=1e+20,\n",
       "  dtype=float32)"
      ]
     },
     "execution_count": 25,
     "metadata": {},
     "output_type": "execute_result"
    }
   ],
   "source": [
    "ncdata['v_1206'][:,depth_ind,0,0]"
   ]
  },
  {
   "cell_type": "code",
   "execution_count": null,
   "metadata": {},
   "outputs": [],
   "source": []
  }
 ],
 "metadata": {
  "kernelspec": {
   "display_name": "Python [conda env:py38] *",
   "language": "python",
   "name": "conda-env-py38-py"
  },
  "language_info": {
   "codemirror_mode": {
    "name": "ipython",
    "version": 3
   },
   "file_extension": ".py",
   "mimetype": "text/x-python",
   "name": "python",
   "nbconvert_exporter": "python",
   "pygments_lexer": "ipython3",
   "version": "3.8.6"
  }
 },
 "nbformat": 4,
 "nbformat_minor": 4
}
