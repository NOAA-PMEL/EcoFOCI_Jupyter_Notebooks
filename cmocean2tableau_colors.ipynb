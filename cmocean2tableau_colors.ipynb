{
 "cells": [
  {
   "cell_type": "markdown",
   "metadata": {},
   "source": [
    "## Create Tableau Color Pallette from CMOCEAN and Palettable"
   ]
  },
  {
   "cell_type": "code",
   "execution_count": 2,
   "metadata": {},
   "outputs": [],
   "source": [
    "import cmocean\n",
    "import palettable"
   ]
  },
  {
   "cell_type": "code",
   "execution_count": 4,
   "metadata": {},
   "outputs": [
    {
     "data": {
      "text/plain": [
       "['#E1FD4B',\n",
       " '#E0EB42',\n",
       " '#DED939',\n",
       " '#DBC831',\n",
       " '#D7B728',\n",
       " '#D3A721',\n",
       " '#CD971B',\n",
       " '#C78817',\n",
       " '#C17A14',\n",
       " '#BA6B13',\n",
       " '#B25D14',\n",
       " '#A84F16',\n",
       " '#9F4319',\n",
       " '#93381D',\n",
       " '#852E21',\n",
       " '#772824',\n",
       " '#652324',\n",
       " '#551E22',\n",
       " '#43191E',\n",
       " '#331418']"
      ]
     },
     "execution_count": 4,
     "metadata": {},
     "output_type": "execute_result"
    }
   ],
   "source": [
    "palettable.cmocean.sequential.Solar_20_r.hex_colors"
   ]
  },
  {
   "cell_type": "code",
   "execution_count": 59,
   "metadata": {},
   "outputs": [],
   "source": [
    "cmap = cmocean.cm.diff\n"
   ]
  },
  {
   "cell_type": "code",
   "execution_count": 60,
   "metadata": {},
   "outputs": [
    {
     "data": {
      "text/plain": [
       "21.333333333333332"
      ]
     },
     "execution_count": 60,
     "metadata": {},
     "output_type": "execute_result"
    }
   ],
   "source": [
    "cmap.N/12"
   ]
  },
  {
   "cell_type": "code",
   "execution_count": 61,
   "metadata": {},
   "outputs": [
    {
     "name": "stdout",
     "output_type": "stream",
     "text": [
      "#1C2207\n",
      "#222709\n",
      "#383914\n",
      "#4F4A1D\n",
      "#675A29\n",
      "#7A6D41\n",
      "#8D805B\n",
      "#A09576\n",
      "#B3AA93\n",
      "#C8C1B0\n",
      "#DFD9CF\n",
      "#F3EEEB\n",
      "#EEECEC\n",
      "#D4D6D9\n",
      "#B9BFC5\n",
      "#9EAAB3\n",
      "#8596A2\n",
      "#6C8292\n",
      "#537084\n",
      "#3A5E76\n",
      "#1F4C69\n",
      "#123756\n",
      "#082340\n"
     ]
    }
   ],
   "source": [
    "import matplotlib\n",
    "for i in range(cmap.N+1,-1,-1):\n",
    "    if (i==0):\n",
    "        rgb = cmap(i)[:3] # will return rgba, we take only first 3 so we get rgb\n",
    "        print(matplotlib.colors.rgb2hex(rgb).upper())\n",
    "        continue\n",
    "    if (i%12)==0:\n",
    "        rgb = cmap(i)[:3] # will return rgba, we take only first 3 so we get rgb\n",
    "        print(matplotlib.colors.rgb2hex(rgb).upper())\n",
    "        continue\n",
    "    if (i==cmap.N):\n",
    "        rgb = cmap(i)[:3] # will return rgba, we take only first 3 so we get rgb\n",
    "        print(matplotlib.colors.rgb2hex(rgb).upper())\n",
    "        continue"
   ]
  },
  {
   "cell_type": "code",
   "execution_count": null,
   "metadata": {},
   "outputs": [],
   "source": []
  }
 ],
 "metadata": {
  "kernelspec": {
   "display_name": "Python [conda env:py37]",
   "language": "python",
   "name": "conda-env-py37-py"
  },
  "language_info": {
   "codemirror_mode": {
    "name": "ipython",
    "version": 3
   },
   "file_extension": ".py",
   "mimetype": "text/x-python",
   "name": "python",
   "nbconvert_exporter": "python",
   "pygments_lexer": "ipython3",
   "version": "3.7.1"
  }
 },
 "nbformat": 4,
 "nbformat_minor": 2
}
