{
 "cells": [
  {
   "cell_type": "markdown",
   "metadata": {},
   "source": [
    "## SFC Meteorology Obs from:\n",
    "** - 2019 M2 (BSITAEPR-2A) **   \n",
    "*** - 2019 M2 (BSM-2A) ***\n",
    "\n",
    "__pyversion__==3.6   \n",
    "__author__==S.Bell"
   ]
  },
  {
   "cell_type": "code",
   "execution_count": 204,
   "metadata": {},
   "outputs": [
    {
     "name": "stdout",
     "output_type": "stream",
     "text": [
      "Last run 2019-05-17 16:21:55.933548\n"
     ]
    }
   ],
   "source": [
    "import datetime\n",
    "print(\"Last run {0}\".format(datetime.datetime.now()))"
   ]
  },
  {
   "cell_type": "markdown",
   "metadata": {},
   "source": [
    "### connecting to erddap and retrieving and basic information"
   ]
  },
  {
   "cell_type": "code",
   "execution_count": null,
   "metadata": {},
   "outputs": [],
   "source": [
    "from erddapy import ERDDAP\n",
    "import pandas as pd\n",
    "import numpy as np\n",
    "\n",
    "server_url = 'http://downdraft.pmel.noaa.gov:8080/erddap'\n",
    "\n",
    "e = ERDDAP(server=server_url)"
   ]
  },
  {
   "cell_type": "code",
   "execution_count": null,
   "metadata": {},
   "outputs": [],
   "source": [
    "df = pd.read_csv(e.get_search_url(response='csv', search_for='a_met'))"
   ]
  },
  {
   "cell_type": "code",
   "execution_count": null,
   "metadata": {},
   "outputs": [],
   "source": [
    "'We have {} tabledap, {} griddap, and {} wms endpoints.'.format(\n",
    "    len(set(df['tabledap'].dropna())),\n",
    "    len(set(df['griddap'].dropna())),\n",
    "    len(set(df['wms'].dropna()))\n",
    ")"
   ]
  },
  {
   "cell_type": "code",
   "execution_count": null,
   "metadata": {},
   "outputs": [],
   "source": [
    "datasets = df['Dataset ID'].values\n",
    "print(datasets)"
   ]
  },
  {
   "cell_type": "code",
   "execution_count": null,
   "metadata": {},
   "outputs": [],
   "source": [
    "variables = [e.get_var_by_attr(dataset_id=dataset, standard_name=lambda v: v is not None) for dataset in datasets]\n",
    "print(variables)"
   ]
  },
  {
   "cell_type": "markdown",
   "metadata": {},
   "source": [
    "### getting Peggy Buoy (BSM-2A) Data"
   ]
  },
  {
   "cell_type": "code",
   "execution_count": null,
   "metadata": {},
   "outputs": [],
   "source": [
    "wdf = pd.read_csv('http://pavlof.pmel.noaa.gov/bell/ArgosMooring/data/TotalArgosMessage_28882.csv',\n",
    "                  parse_dates=True,index_col='sampletime')"
   ]
  },
  {
   "cell_type": "code",
   "execution_count": null,
   "metadata": {},
   "outputs": [],
   "source": [
    "wdf = wdf.resample('1H').mean()"
   ]
  },
  {
   "cell_type": "markdown",
   "metadata": {},
   "source": [
    "### retrieving erddap and plotting data"
   ]
  },
  {
   "cell_type": "code",
   "execution_count": null,
   "metadata": {},
   "outputs": [],
   "source": [
    "constraints = {\n",
    "    'time>=': '2019-04-25T00:00:00Z',\n",
    "    'time<=': str(datetime.datetime.today()),\n",
    "}\n",
    "\n",
    "variables = [\n",
    "# 'wind_from_direction', \n",
    " 'air_temperature',\n",
    " 'relative_humidity',\n",
    " 'northward_wind', \n",
    " 'eastward_wind', \n",
    "# 'wind_speed', \n",
    " 'latitude',\n",
    " 'longitude',\n",
    " 'time'\n",
    "]\n",
    "\n",
    "variable_dic={}\n",
    "\n",
    "for index,row in df.iterrows():\n",
    "    info_url = e.get_info_url(dataset_id=row['Dataset ID'], response='csv')\n",
    "    info = pd.read_csv(info_url)\n",
    "\n",
    "    #print(info.head())\n",
    "    print('Variables in {}:'.format(row['Dataset ID']))\n",
    "    print(','.join(info.loc[info['Row Type'] == 'variable', 'Variable Name']))\n",
    "\n",
    "    variable_dic.update({row['Dataset ID']:list(info.loc[info['Row Type'] == 'variable', 'Variable Name'])})\n",
    "    "
   ]
  },
  {
   "cell_type": "code",
   "execution_count": null,
   "metadata": {},
   "outputs": [],
   "source": [
    "from requests.exceptions import HTTPError\n",
    "\n",
    "dfs = {}\n",
    "for index,row in df.iterrows():\n",
    "    if row['Dataset ID'] in ['erddap_19bsitaepr2a_met']:\n",
    "        print(row['Dataset ID'])\n",
    "        try:\n",
    "            e = ERDDAP(server=server_url,\n",
    "                protocol='tabledap',\n",
    "                response='csv',\n",
    "            )\n",
    "            e.dataset_id=row['Dataset ID']\n",
    "            e.constraints=constraints\n",
    "            if row['Dataset ID'] in ['erddap_19bsitaepr2a_met']:\n",
    "                e.variables=variables + ['air_pressure']\n",
    "        except HTTPError:\n",
    "            print('Failed to generate url {}'.format(row['Dataset ID']))\n",
    "            continue\n",
    "        dfs.update({row['Dataset ID']: e.to_pandas(\n",
    "                                index_col='time (UTC)',\n",
    "                                parse_dates=True,\n",
    "                                skiprows=(1,)  # units information can be dropped.\n",
    "                                )})\n",
    "    "
   ]
  },
  {
   "cell_type": "code",
   "execution_count": null,
   "metadata": {},
   "outputs": [],
   "source": [
    "df=dfs['erddap_19bsitaepr2a_met']\n",
    "df.columns"
   ]
  },
  {
   "cell_type": "markdown",
   "metadata": {},
   "source": [
    "### Take care of any preliminary QC"
   ]
  },
  {
   "cell_type": "code",
   "execution_count": null,
   "metadata": {},
   "outputs": [],
   "source": [
    "#calculate windspeed and direction\n",
    "df['wind_speed (m s-1)']=np.sqrt(df['northward_wind']**2 + df['eastward_wind']**2)\n",
    "df['wind_from_direction (degrees true)'] = 270-np.rad2deg(np.arctan2(df['northward_wind'],\n",
    "                                                                 df['eastward_wind']))\n",
    "\n",
    "df['wind_from_direction (degrees true)'][df['wind_from_direction (degrees true)']>360] = df['wind_from_direction (degrees true)'][df['wind_from_direction (degrees true)']>360]-360\n"
   ]
  },
  {
   "cell_type": "code",
   "execution_count": null,
   "metadata": {},
   "outputs": [],
   "source": [
    "#eliminate unlikely wind and pressure extremes\n",
    "for ds, df in dfs.items():\n",
    "    df['wind_speed (m s-1)'][df['wind_speed (m s-1)']>100] = np.nan\n",
    "    df['air_pressure'][df['air_pressure']<940] = np.nan\n",
    "    \n",
    "#Arbitrary QC points based on evaluating plot / local characteristics and not broad science boundaries\n",
    "wdf.WS[wdf.WS>25] = np.nan\n",
    "wdf.RH[wdf.RH<25] = np.nan\n",
    "wdf.BP[wdf.BP<975] = np.nan"
   ]
  },
  {
   "cell_type": "markdown",
   "metadata": {},
   "source": [
    "### Plot"
   ]
  },
  {
   "cell_type": "code",
   "execution_count": null,
   "metadata": {},
   "outputs": [],
   "source": [
    "import matplotlib as mpl\n",
    "import matplotlib.pyplot as plt\n",
    "from matplotlib.dates import YearLocator, WeekdayLocator, MonthLocator, DayLocator, HourLocator, DateFormatter\n",
    "import matplotlib.ticker as ticker\n",
    "import matplotlib.dates as mdates\n",
    "from matplotlib.ticker import NullFormatter  # useful for `logit` scale\n",
    "%matplotlib inline\n",
    "\n",
    "fig, ax = plt.subplots(figsize=(12,3))\n",
    "for ds, df in dfs.items():\n",
    "    try:\n",
    "        df['air_temperature'].plot(ax=ax)\n",
    "        plt.ylabel('Temperature (degC)')\n",
    "    except:\n",
    "        pass\n",
    "wdf.AT.plot(ax=ax)\n",
    "plt.legend(['18BSITAEPR-2A','18BSM-2A'])\n",
    "ax.xaxis.set_major_locator(DayLocator(bymonthday=[1,15]))\n",
    "ax.xaxis.set_minor_locator(DayLocator(range(0,32,2)))\n",
    "ax.xaxis.set_minor_formatter(DateFormatter('%d'))\n",
    "ax.xaxis.set_major_formatter(DateFormatter('%b %y'))\n",
    "\n",
    "fig, ax = plt.subplots(figsize=(12,3))\n",
    "for ds, df in dfs.items():\n",
    "    try:\n",
    "        df['air_pressure'].plot(ax=ax)\n",
    "        plt.ylabel('Pressure (mb)')\n",
    "    except:\n",
    "        df['air_pressure (mbar)'].plot(ax=ax)\n",
    "        plt.ylabel('Pressure (mb)')\n",
    "wdf.BP.plot(ax=ax)\n",
    "ax.xaxis.set_major_locator(DayLocator(bymonthday=[1,15]))\n",
    "ax.xaxis.set_minor_locator(DayLocator(range(0,32,2)))\n",
    "ax.xaxis.set_minor_formatter(DateFormatter('%d'))\n",
    "ax.xaxis.set_major_formatter(DateFormatter('%b %y'))\n",
    "\n",
    "fig, ax = plt.subplots(figsize=(12,3))\n",
    "for ds, df in dfs.items():\n",
    "    try:\n",
    "        df['relative_humidity'].plot(ax=ax)\n",
    "        plt.ylabel('RH (%)')\n",
    "    except:\n",
    "        pass\n",
    "wdf.RH.plot(ax=ax)\n",
    "ax.xaxis.set_major_locator(DayLocator(bymonthday=[1,15]))\n",
    "ax.xaxis.set_minor_locator(DayLocator(range(0,32,2)))\n",
    "ax.xaxis.set_minor_formatter(DateFormatter('%d'))\n",
    "ax.xaxis.set_major_formatter(DateFormatter('%b %y'))\n",
    "    \n",
    "fig, ax = plt.subplots(figsize=(12,3))\n",
    "for ds, df in dfs.items():\n",
    "    try:\n",
    "        df['wind_speed (m s-1)'].plot(ax=ax)\n",
    "        plt.ylabel('wind_speed (m/s)')\n",
    "    except:\n",
    "        pass\n",
    "wdf.WS.plot(ax=ax)\n",
    "ax.xaxis.set_major_locator(DayLocator(bymonthday=[1,15]))\n",
    "ax.xaxis.set_minor_locator(DayLocator(range(0,32,2)))\n",
    "ax.xaxis.set_minor_formatter(DateFormatter('%d'))\n",
    "ax.xaxis.set_major_formatter(DateFormatter('%b %y'))\n",
    "\n",
    "fig, ax = plt.subplots(figsize=(12,3))\n",
    "for ds, df in dfs.items():\n",
    "    try:\n",
    "        df['wind_from_direction (degrees true)'].plot(style='.',markersize=3.0,ax=ax)\n",
    "        plt.ylabel('wind direction (degree)')\n",
    "    except:\n",
    "        pass\n",
    "wdf.WD.plot(style='.',markersize=4.0,ax=ax)\n",
    "ax.xaxis.set_major_locator(DayLocator(bymonthday=[1,15]))\n",
    "ax.xaxis.set_minor_locator(DayLocator(range(0,32,2)))\n",
    "ax.xaxis.set_minor_formatter(DateFormatter('%d'))\n",
    "ax.xaxis.set_major_formatter(DateFormatter('%b %y'))\n"
   ]
  },
  {
   "cell_type": "code",
   "execution_count": null,
   "metadata": {},
   "outputs": [],
   "source": [
    "wdf.tail()"
   ]
  },
  {
   "cell_type": "code",
   "execution_count": null,
   "metadata": {},
   "outputs": [],
   "source": [
    "df.tail()"
   ]
  },
  {
   "cell_type": "markdown",
   "metadata": {},
   "source": [
    "### Next Steps\n",
    "\n",
    "**TODO:** Plot top prawler bin/air temp for a SST/Air analysis"
   ]
  }
 ],
 "metadata": {
  "kernelspec": {
   "display_name": "Python [conda env:py37]",
   "language": "python",
   "name": "conda-env-py37-py"
  },
  "language_info": {
   "codemirror_mode": {
    "name": "ipython",
    "version": 3
   },
   "file_extension": ".py",
   "mimetype": "text/x-python",
   "name": "python",
   "nbconvert_exporter": "python",
   "pygments_lexer": "ipython3",
   "version": "3.7.3"
  }
 },
 "nbformat": 4,
 "nbformat_minor": 2
}
