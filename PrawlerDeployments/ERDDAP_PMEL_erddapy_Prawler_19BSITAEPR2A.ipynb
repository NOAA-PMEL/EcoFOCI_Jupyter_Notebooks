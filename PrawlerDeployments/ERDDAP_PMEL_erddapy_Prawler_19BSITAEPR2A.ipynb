{
 "cells": [
  {
   "cell_type": "markdown",
   "metadata": {},
   "source": [
    "## ERDAP with erddapy example for ITAE Prawler - 2019 M2 (BSITAEPR-2A)"
   ]
  },
  {
   "cell_type": "markdown",
   "metadata": {},
   "source": [
    "__pyversion__==3.7   \n",
    "__author__==S.Bell"
   ]
  },
  {
   "cell_type": "code",
   "execution_count": 207,
   "metadata": {},
   "outputs": [
    {
     "name": "stdout",
     "output_type": "stream",
     "text": [
      "Last run 2019-05-16 09:49:53.273039\n"
     ]
    }
   ],
   "source": [
    "import datetime\n",
    "print(\"Last run {0}\".format(datetime.datetime.now()))"
   ]
  },
  {
   "cell_type": "markdown",
   "metadata": {},
   "source": [
    "### connecting and basic information"
   ]
  },
  {
   "cell_type": "code",
   "execution_count": 208,
   "metadata": {},
   "outputs": [],
   "source": [
    "import warnings\n",
    "#remove the numpy/pandas/cython warnings\n",
    "warnings.filterwarnings(action='ignore', message=\"numpy.dtype size changed,\")\n",
    "\n",
    "from erddapy import ERDDAP\n",
    "import pandas as pd\n",
    "import numpy as np\n",
    "\n",
    "server_url = 'http://downdraft.pmel.noaa.gov:8080/erddap'\n",
    "\n",
    "e = ERDDAP(server=server_url)"
   ]
  },
  {
   "cell_type": "code",
   "execution_count": 209,
   "metadata": {},
   "outputs": [
    {
     "ename": "URLError",
     "evalue": "<urlopen error [Errno 60] Operation timed out>",
     "output_type": "error",
     "traceback": [
      "\u001b[0;31m-------------------------------------------------------------\u001b[0m",
      "\u001b[0;31mTimeoutError\u001b[0m                Traceback (most recent call last)",
      "\u001b[0;32m~/anaconda2/envs/py37/lib/python3.7/urllib/request.py\u001b[0m in \u001b[0;36mdo_open\u001b[0;34m(self, http_class, req, **http_conn_args)\u001b[0m\n\u001b[1;32m   1316\u001b[0m                 h.request(req.get_method(), req.selector, req.data, headers,\n\u001b[0;32m-> 1317\u001b[0;31m                           encode_chunked=req.has_header('Transfer-encoding'))\n\u001b[0m\u001b[1;32m   1318\u001b[0m             \u001b[0;32mexcept\u001b[0m \u001b[0mOSError\u001b[0m \u001b[0;32mas\u001b[0m \u001b[0merr\u001b[0m\u001b[0;34m:\u001b[0m \u001b[0;31m# timeout error\u001b[0m\u001b[0;34m\u001b[0m\u001b[0;34m\u001b[0m\u001b[0m\n",
      "\u001b[0;32m~/anaconda2/envs/py37/lib/python3.7/http/client.py\u001b[0m in \u001b[0;36mrequest\u001b[0;34m(self, method, url, body, headers, encode_chunked)\u001b[0m\n\u001b[1;32m   1228\u001b[0m         \u001b[0;34m\"\"\"Send a complete request to the server.\"\"\"\u001b[0m\u001b[0;34m\u001b[0m\u001b[0;34m\u001b[0m\u001b[0m\n\u001b[0;32m-> 1229\u001b[0;31m         \u001b[0mself\u001b[0m\u001b[0;34m.\u001b[0m\u001b[0m_send_request\u001b[0m\u001b[0;34m(\u001b[0m\u001b[0mmethod\u001b[0m\u001b[0;34m,\u001b[0m \u001b[0murl\u001b[0m\u001b[0;34m,\u001b[0m \u001b[0mbody\u001b[0m\u001b[0;34m,\u001b[0m \u001b[0mheaders\u001b[0m\u001b[0;34m,\u001b[0m \u001b[0mencode_chunked\u001b[0m\u001b[0;34m)\u001b[0m\u001b[0;34m\u001b[0m\u001b[0;34m\u001b[0m\u001b[0m\n\u001b[0m\u001b[1;32m   1230\u001b[0m \u001b[0;34m\u001b[0m\u001b[0m\n",
      "\u001b[0;32m~/anaconda2/envs/py37/lib/python3.7/http/client.py\u001b[0m in \u001b[0;36m_send_request\u001b[0;34m(self, method, url, body, headers, encode_chunked)\u001b[0m\n\u001b[1;32m   1274\u001b[0m             \u001b[0mbody\u001b[0m \u001b[0;34m=\u001b[0m \u001b[0m_encode\u001b[0m\u001b[0;34m(\u001b[0m\u001b[0mbody\u001b[0m\u001b[0;34m,\u001b[0m \u001b[0;34m'body'\u001b[0m\u001b[0;34m)\u001b[0m\u001b[0;34m\u001b[0m\u001b[0;34m\u001b[0m\u001b[0m\n\u001b[0;32m-> 1275\u001b[0;31m         \u001b[0mself\u001b[0m\u001b[0;34m.\u001b[0m\u001b[0mendheaders\u001b[0m\u001b[0;34m(\u001b[0m\u001b[0mbody\u001b[0m\u001b[0;34m,\u001b[0m \u001b[0mencode_chunked\u001b[0m\u001b[0;34m=\u001b[0m\u001b[0mencode_chunked\u001b[0m\u001b[0;34m)\u001b[0m\u001b[0;34m\u001b[0m\u001b[0;34m\u001b[0m\u001b[0m\n\u001b[0m\u001b[1;32m   1276\u001b[0m \u001b[0;34m\u001b[0m\u001b[0m\n",
      "\u001b[0;32m~/anaconda2/envs/py37/lib/python3.7/http/client.py\u001b[0m in \u001b[0;36mendheaders\u001b[0;34m(self, message_body, encode_chunked)\u001b[0m\n\u001b[1;32m   1223\u001b[0m             \u001b[0;32mraise\u001b[0m \u001b[0mCannotSendHeader\u001b[0m\u001b[0;34m(\u001b[0m\u001b[0;34m)\u001b[0m\u001b[0;34m\u001b[0m\u001b[0;34m\u001b[0m\u001b[0m\n\u001b[0;32m-> 1224\u001b[0;31m         \u001b[0mself\u001b[0m\u001b[0;34m.\u001b[0m\u001b[0m_send_output\u001b[0m\u001b[0;34m(\u001b[0m\u001b[0mmessage_body\u001b[0m\u001b[0;34m,\u001b[0m \u001b[0mencode_chunked\u001b[0m\u001b[0;34m=\u001b[0m\u001b[0mencode_chunked\u001b[0m\u001b[0;34m)\u001b[0m\u001b[0;34m\u001b[0m\u001b[0;34m\u001b[0m\u001b[0m\n\u001b[0m\u001b[1;32m   1225\u001b[0m \u001b[0;34m\u001b[0m\u001b[0m\n",
      "\u001b[0;32m~/anaconda2/envs/py37/lib/python3.7/http/client.py\u001b[0m in \u001b[0;36m_send_output\u001b[0;34m(self, message_body, encode_chunked)\u001b[0m\n\u001b[1;32m   1015\u001b[0m         \u001b[0;32mdel\u001b[0m \u001b[0mself\u001b[0m\u001b[0;34m.\u001b[0m\u001b[0m_buffer\u001b[0m\u001b[0;34m[\u001b[0m\u001b[0;34m:\u001b[0m\u001b[0;34m]\u001b[0m\u001b[0;34m\u001b[0m\u001b[0;34m\u001b[0m\u001b[0m\n\u001b[0;32m-> 1016\u001b[0;31m         \u001b[0mself\u001b[0m\u001b[0;34m.\u001b[0m\u001b[0msend\u001b[0m\u001b[0;34m(\u001b[0m\u001b[0mmsg\u001b[0m\u001b[0;34m)\u001b[0m\u001b[0;34m\u001b[0m\u001b[0;34m\u001b[0m\u001b[0m\n\u001b[0m\u001b[1;32m   1017\u001b[0m \u001b[0;34m\u001b[0m\u001b[0m\n",
      "\u001b[0;32m~/anaconda2/envs/py37/lib/python3.7/http/client.py\u001b[0m in \u001b[0;36msend\u001b[0;34m(self, data)\u001b[0m\n\u001b[1;32m    955\u001b[0m             \u001b[0;32mif\u001b[0m \u001b[0mself\u001b[0m\u001b[0;34m.\u001b[0m\u001b[0mauto_open\u001b[0m\u001b[0;34m:\u001b[0m\u001b[0;34m\u001b[0m\u001b[0;34m\u001b[0m\u001b[0m\n\u001b[0;32m--> 956\u001b[0;31m                 \u001b[0mself\u001b[0m\u001b[0;34m.\u001b[0m\u001b[0mconnect\u001b[0m\u001b[0;34m(\u001b[0m\u001b[0;34m)\u001b[0m\u001b[0;34m\u001b[0m\u001b[0;34m\u001b[0m\u001b[0m\n\u001b[0m\u001b[1;32m    957\u001b[0m             \u001b[0;32melse\u001b[0m\u001b[0;34m:\u001b[0m\u001b[0;34m\u001b[0m\u001b[0;34m\u001b[0m\u001b[0m\n",
      "\u001b[0;32m~/anaconda2/envs/py37/lib/python3.7/http/client.py\u001b[0m in \u001b[0;36mconnect\u001b[0;34m(self)\u001b[0m\n\u001b[1;32m    927\u001b[0m         self.sock = self._create_connection(\n\u001b[0;32m--> 928\u001b[0;31m             (self.host,self.port), self.timeout, self.source_address)\n\u001b[0m\u001b[1;32m    929\u001b[0m         \u001b[0mself\u001b[0m\u001b[0;34m.\u001b[0m\u001b[0msock\u001b[0m\u001b[0;34m.\u001b[0m\u001b[0msetsockopt\u001b[0m\u001b[0;34m(\u001b[0m\u001b[0msocket\u001b[0m\u001b[0;34m.\u001b[0m\u001b[0mIPPROTO_TCP\u001b[0m\u001b[0;34m,\u001b[0m \u001b[0msocket\u001b[0m\u001b[0;34m.\u001b[0m\u001b[0mTCP_NODELAY\u001b[0m\u001b[0;34m,\u001b[0m \u001b[0;36m1\u001b[0m\u001b[0;34m)\u001b[0m\u001b[0;34m\u001b[0m\u001b[0;34m\u001b[0m\u001b[0m\n",
      "\u001b[0;32m~/anaconda2/envs/py37/lib/python3.7/socket.py\u001b[0m in \u001b[0;36mcreate_connection\u001b[0;34m(address, timeout, source_address)\u001b[0m\n\u001b[1;32m    726\u001b[0m     \u001b[0;32mif\u001b[0m \u001b[0merr\u001b[0m \u001b[0;32mis\u001b[0m \u001b[0;32mnot\u001b[0m \u001b[0;32mNone\u001b[0m\u001b[0;34m:\u001b[0m\u001b[0;34m\u001b[0m\u001b[0;34m\u001b[0m\u001b[0m\n\u001b[0;32m--> 727\u001b[0;31m         \u001b[0;32mraise\u001b[0m \u001b[0merr\u001b[0m\u001b[0;34m\u001b[0m\u001b[0;34m\u001b[0m\u001b[0m\n\u001b[0m\u001b[1;32m    728\u001b[0m     \u001b[0;32melse\u001b[0m\u001b[0;34m:\u001b[0m\u001b[0;34m\u001b[0m\u001b[0;34m\u001b[0m\u001b[0m\n",
      "\u001b[0;32m~/anaconda2/envs/py37/lib/python3.7/socket.py\u001b[0m in \u001b[0;36mcreate_connection\u001b[0;34m(address, timeout, source_address)\u001b[0m\n\u001b[1;32m    715\u001b[0m                 \u001b[0msock\u001b[0m\u001b[0;34m.\u001b[0m\u001b[0mbind\u001b[0m\u001b[0;34m(\u001b[0m\u001b[0msource_address\u001b[0m\u001b[0;34m)\u001b[0m\u001b[0;34m\u001b[0m\u001b[0;34m\u001b[0m\u001b[0m\n\u001b[0;32m--> 716\u001b[0;31m             \u001b[0msock\u001b[0m\u001b[0;34m.\u001b[0m\u001b[0mconnect\u001b[0m\u001b[0;34m(\u001b[0m\u001b[0msa\u001b[0m\u001b[0;34m)\u001b[0m\u001b[0;34m\u001b[0m\u001b[0;34m\u001b[0m\u001b[0m\n\u001b[0m\u001b[1;32m    717\u001b[0m             \u001b[0;31m# Break explicitly a reference cycle\u001b[0m\u001b[0;34m\u001b[0m\u001b[0;34m\u001b[0m\u001b[0;34m\u001b[0m\u001b[0m\n",
      "\u001b[0;31mTimeoutError\u001b[0m: [Errno 60] Operation timed out",
      "\nDuring handling of the above exception, another exception occurred:\n",
      "\u001b[0;31mURLError\u001b[0m                    Traceback (most recent call last)",
      "\u001b[0;32m<ipython-input-209-33810dcacfde>\u001b[0m in \u001b[0;36m<module>\u001b[0;34m\u001b[0m\n\u001b[0;32m----> 1\u001b[0;31m \u001b[0mdf\u001b[0m \u001b[0;34m=\u001b[0m \u001b[0mpd\u001b[0m\u001b[0;34m.\u001b[0m\u001b[0mread_csv\u001b[0m\u001b[0;34m(\u001b[0m\u001b[0me\u001b[0m\u001b[0;34m.\u001b[0m\u001b[0mget_search_url\u001b[0m\u001b[0;34m(\u001b[0m\u001b[0mresponse\u001b[0m\u001b[0;34m=\u001b[0m\u001b[0;34m'csv'\u001b[0m\u001b[0;34m,\u001b[0m \u001b[0msearch_for\u001b[0m\u001b[0;34m=\u001b[0m\u001b[0;34m'PRAWLER'\u001b[0m\u001b[0;34m)\u001b[0m\u001b[0;34m)\u001b[0m\u001b[0;34m\u001b[0m\u001b[0;34m\u001b[0m\u001b[0m\n\u001b[0m",
      "\u001b[0;32m~/anaconda2/envs/py37/lib/python3.7/site-packages/pandas/io/parsers.py\u001b[0m in \u001b[0;36mparser_f\u001b[0;34m(filepath_or_buffer, sep, delimiter, header, names, index_col, usecols, squeeze, prefix, mangle_dupe_cols, dtype, engine, converters, true_values, false_values, skipinitialspace, skiprows, skipfooter, nrows, na_values, keep_default_na, na_filter, verbose, skip_blank_lines, parse_dates, infer_datetime_format, keep_date_col, date_parser, dayfirst, iterator, chunksize, compression, thousands, decimal, lineterminator, quotechar, quoting, doublequote, escapechar, comment, encoding, dialect, tupleize_cols, error_bad_lines, warn_bad_lines, delim_whitespace, low_memory, memory_map, float_precision)\u001b[0m\n\u001b[1;32m    700\u001b[0m                     skip_blank_lines=skip_blank_lines)\n\u001b[1;32m    701\u001b[0m \u001b[0;34m\u001b[0m\u001b[0m\n\u001b[0;32m--> 702\u001b[0;31m         \u001b[0;32mreturn\u001b[0m \u001b[0m_read\u001b[0m\u001b[0;34m(\u001b[0m\u001b[0mfilepath_or_buffer\u001b[0m\u001b[0;34m,\u001b[0m \u001b[0mkwds\u001b[0m\u001b[0;34m)\u001b[0m\u001b[0;34m\u001b[0m\u001b[0;34m\u001b[0m\u001b[0m\n\u001b[0m\u001b[1;32m    703\u001b[0m \u001b[0;34m\u001b[0m\u001b[0m\n\u001b[1;32m    704\u001b[0m     \u001b[0mparser_f\u001b[0m\u001b[0;34m.\u001b[0m\u001b[0m__name__\u001b[0m \u001b[0;34m=\u001b[0m \u001b[0mname\u001b[0m\u001b[0;34m\u001b[0m\u001b[0;34m\u001b[0m\u001b[0m\n",
      "\u001b[0;32m~/anaconda2/envs/py37/lib/python3.7/site-packages/pandas/io/parsers.py\u001b[0m in \u001b[0;36m_read\u001b[0;34m(filepath_or_buffer, kwds)\u001b[0m\n\u001b[1;32m    411\u001b[0m     \u001b[0mcompression\u001b[0m \u001b[0;34m=\u001b[0m \u001b[0m_infer_compression\u001b[0m\u001b[0;34m(\u001b[0m\u001b[0mfilepath_or_buffer\u001b[0m\u001b[0;34m,\u001b[0m \u001b[0mcompression\u001b[0m\u001b[0;34m)\u001b[0m\u001b[0;34m\u001b[0m\u001b[0;34m\u001b[0m\u001b[0m\n\u001b[1;32m    412\u001b[0m     filepath_or_buffer, _, compression, should_close = get_filepath_or_buffer(\n\u001b[0;32m--> 413\u001b[0;31m         filepath_or_buffer, encoding, compression)\n\u001b[0m\u001b[1;32m    414\u001b[0m     \u001b[0mkwds\u001b[0m\u001b[0;34m[\u001b[0m\u001b[0;34m'compression'\u001b[0m\u001b[0;34m]\u001b[0m \u001b[0;34m=\u001b[0m \u001b[0mcompression\u001b[0m\u001b[0;34m\u001b[0m\u001b[0;34m\u001b[0m\u001b[0m\n\u001b[1;32m    415\u001b[0m \u001b[0;34m\u001b[0m\u001b[0m\n",
      "\u001b[0;32m~/anaconda2/envs/py37/lib/python3.7/site-packages/pandas/io/common.py\u001b[0m in \u001b[0;36mget_filepath_or_buffer\u001b[0;34m(filepath_or_buffer, encoding, compression, mode)\u001b[0m\n\u001b[1;32m    200\u001b[0m \u001b[0;34m\u001b[0m\u001b[0m\n\u001b[1;32m    201\u001b[0m     \u001b[0;32mif\u001b[0m \u001b[0m_is_url\u001b[0m\u001b[0;34m(\u001b[0m\u001b[0mfilepath_or_buffer\u001b[0m\u001b[0;34m)\u001b[0m\u001b[0;34m:\u001b[0m\u001b[0;34m\u001b[0m\u001b[0;34m\u001b[0m\u001b[0m\n\u001b[0;32m--> 202\u001b[0;31m         \u001b[0mreq\u001b[0m \u001b[0;34m=\u001b[0m \u001b[0m_urlopen\u001b[0m\u001b[0;34m(\u001b[0m\u001b[0mfilepath_or_buffer\u001b[0m\u001b[0;34m)\u001b[0m\u001b[0;34m\u001b[0m\u001b[0;34m\u001b[0m\u001b[0m\n\u001b[0m\u001b[1;32m    203\u001b[0m         \u001b[0mcontent_encoding\u001b[0m \u001b[0;34m=\u001b[0m \u001b[0mreq\u001b[0m\u001b[0;34m.\u001b[0m\u001b[0mheaders\u001b[0m\u001b[0;34m.\u001b[0m\u001b[0mget\u001b[0m\u001b[0;34m(\u001b[0m\u001b[0;34m'Content-Encoding'\u001b[0m\u001b[0;34m,\u001b[0m \u001b[0;32mNone\u001b[0m\u001b[0;34m)\u001b[0m\u001b[0;34m\u001b[0m\u001b[0;34m\u001b[0m\u001b[0m\n\u001b[1;32m    204\u001b[0m         \u001b[0;32mif\u001b[0m \u001b[0mcontent_encoding\u001b[0m \u001b[0;34m==\u001b[0m \u001b[0;34m'gzip'\u001b[0m\u001b[0;34m:\u001b[0m\u001b[0;34m\u001b[0m\u001b[0;34m\u001b[0m\u001b[0m\n",
      "\u001b[0;32m~/anaconda2/envs/py37/lib/python3.7/urllib/request.py\u001b[0m in \u001b[0;36murlopen\u001b[0;34m(url, data, timeout, cafile, capath, cadefault, context)\u001b[0m\n\u001b[1;32m    220\u001b[0m     \u001b[0;32melse\u001b[0m\u001b[0;34m:\u001b[0m\u001b[0;34m\u001b[0m\u001b[0;34m\u001b[0m\u001b[0m\n\u001b[1;32m    221\u001b[0m         \u001b[0mopener\u001b[0m \u001b[0;34m=\u001b[0m \u001b[0m_opener\u001b[0m\u001b[0;34m\u001b[0m\u001b[0;34m\u001b[0m\u001b[0m\n\u001b[0;32m--> 222\u001b[0;31m     \u001b[0;32mreturn\u001b[0m \u001b[0mopener\u001b[0m\u001b[0;34m.\u001b[0m\u001b[0mopen\u001b[0m\u001b[0;34m(\u001b[0m\u001b[0murl\u001b[0m\u001b[0;34m,\u001b[0m \u001b[0mdata\u001b[0m\u001b[0;34m,\u001b[0m \u001b[0mtimeout\u001b[0m\u001b[0;34m)\u001b[0m\u001b[0;34m\u001b[0m\u001b[0;34m\u001b[0m\u001b[0m\n\u001b[0m\u001b[1;32m    223\u001b[0m \u001b[0;34m\u001b[0m\u001b[0m\n\u001b[1;32m    224\u001b[0m \u001b[0;32mdef\u001b[0m \u001b[0minstall_opener\u001b[0m\u001b[0;34m(\u001b[0m\u001b[0mopener\u001b[0m\u001b[0;34m)\u001b[0m\u001b[0;34m:\u001b[0m\u001b[0;34m\u001b[0m\u001b[0;34m\u001b[0m\u001b[0m\n",
      "\u001b[0;32m~/anaconda2/envs/py37/lib/python3.7/urllib/request.py\u001b[0m in \u001b[0;36mopen\u001b[0;34m(self, fullurl, data, timeout)\u001b[0m\n\u001b[1;32m    523\u001b[0m             \u001b[0mreq\u001b[0m \u001b[0;34m=\u001b[0m \u001b[0mmeth\u001b[0m\u001b[0;34m(\u001b[0m\u001b[0mreq\u001b[0m\u001b[0;34m)\u001b[0m\u001b[0;34m\u001b[0m\u001b[0;34m\u001b[0m\u001b[0m\n\u001b[1;32m    524\u001b[0m \u001b[0;34m\u001b[0m\u001b[0m\n\u001b[0;32m--> 525\u001b[0;31m         \u001b[0mresponse\u001b[0m \u001b[0;34m=\u001b[0m \u001b[0mself\u001b[0m\u001b[0;34m.\u001b[0m\u001b[0m_open\u001b[0m\u001b[0;34m(\u001b[0m\u001b[0mreq\u001b[0m\u001b[0;34m,\u001b[0m \u001b[0mdata\u001b[0m\u001b[0;34m)\u001b[0m\u001b[0;34m\u001b[0m\u001b[0;34m\u001b[0m\u001b[0m\n\u001b[0m\u001b[1;32m    526\u001b[0m \u001b[0;34m\u001b[0m\u001b[0m\n\u001b[1;32m    527\u001b[0m         \u001b[0;31m# post-process response\u001b[0m\u001b[0;34m\u001b[0m\u001b[0;34m\u001b[0m\u001b[0;34m\u001b[0m\u001b[0m\n",
      "\u001b[0;32m~/anaconda2/envs/py37/lib/python3.7/urllib/request.py\u001b[0m in \u001b[0;36m_open\u001b[0;34m(self, req, data)\u001b[0m\n\u001b[1;32m    541\u001b[0m         \u001b[0mprotocol\u001b[0m \u001b[0;34m=\u001b[0m \u001b[0mreq\u001b[0m\u001b[0;34m.\u001b[0m\u001b[0mtype\u001b[0m\u001b[0;34m\u001b[0m\u001b[0;34m\u001b[0m\u001b[0m\n\u001b[1;32m    542\u001b[0m         result = self._call_chain(self.handle_open, protocol, protocol +\n\u001b[0;32m--> 543\u001b[0;31m                                   '_open', req)\n\u001b[0m\u001b[1;32m    544\u001b[0m         \u001b[0;32mif\u001b[0m \u001b[0mresult\u001b[0m\u001b[0;34m:\u001b[0m\u001b[0;34m\u001b[0m\u001b[0;34m\u001b[0m\u001b[0m\n\u001b[1;32m    545\u001b[0m             \u001b[0;32mreturn\u001b[0m \u001b[0mresult\u001b[0m\u001b[0;34m\u001b[0m\u001b[0;34m\u001b[0m\u001b[0m\n",
      "\u001b[0;32m~/anaconda2/envs/py37/lib/python3.7/urllib/request.py\u001b[0m in \u001b[0;36m_call_chain\u001b[0;34m(self, chain, kind, meth_name, *args)\u001b[0m\n\u001b[1;32m    501\u001b[0m         \u001b[0;32mfor\u001b[0m \u001b[0mhandler\u001b[0m \u001b[0;32min\u001b[0m \u001b[0mhandlers\u001b[0m\u001b[0;34m:\u001b[0m\u001b[0;34m\u001b[0m\u001b[0;34m\u001b[0m\u001b[0m\n\u001b[1;32m    502\u001b[0m             \u001b[0mfunc\u001b[0m \u001b[0;34m=\u001b[0m \u001b[0mgetattr\u001b[0m\u001b[0;34m(\u001b[0m\u001b[0mhandler\u001b[0m\u001b[0;34m,\u001b[0m \u001b[0mmeth_name\u001b[0m\u001b[0;34m)\u001b[0m\u001b[0;34m\u001b[0m\u001b[0;34m\u001b[0m\u001b[0m\n\u001b[0;32m--> 503\u001b[0;31m             \u001b[0mresult\u001b[0m \u001b[0;34m=\u001b[0m \u001b[0mfunc\u001b[0m\u001b[0;34m(\u001b[0m\u001b[0;34m*\u001b[0m\u001b[0margs\u001b[0m\u001b[0;34m)\u001b[0m\u001b[0;34m\u001b[0m\u001b[0;34m\u001b[0m\u001b[0m\n\u001b[0m\u001b[1;32m    504\u001b[0m             \u001b[0;32mif\u001b[0m \u001b[0mresult\u001b[0m \u001b[0;32mis\u001b[0m \u001b[0;32mnot\u001b[0m \u001b[0;32mNone\u001b[0m\u001b[0;34m:\u001b[0m\u001b[0;34m\u001b[0m\u001b[0;34m\u001b[0m\u001b[0m\n\u001b[1;32m    505\u001b[0m                 \u001b[0;32mreturn\u001b[0m \u001b[0mresult\u001b[0m\u001b[0;34m\u001b[0m\u001b[0;34m\u001b[0m\u001b[0m\n",
      "\u001b[0;32m~/anaconda2/envs/py37/lib/python3.7/urllib/request.py\u001b[0m in \u001b[0;36mhttp_open\u001b[0;34m(self, req)\u001b[0m\n\u001b[1;32m   1343\u001b[0m \u001b[0;34m\u001b[0m\u001b[0m\n\u001b[1;32m   1344\u001b[0m     \u001b[0;32mdef\u001b[0m \u001b[0mhttp_open\u001b[0m\u001b[0;34m(\u001b[0m\u001b[0mself\u001b[0m\u001b[0;34m,\u001b[0m \u001b[0mreq\u001b[0m\u001b[0;34m)\u001b[0m\u001b[0;34m:\u001b[0m\u001b[0;34m\u001b[0m\u001b[0;34m\u001b[0m\u001b[0m\n\u001b[0;32m-> 1345\u001b[0;31m         \u001b[0;32mreturn\u001b[0m \u001b[0mself\u001b[0m\u001b[0;34m.\u001b[0m\u001b[0mdo_open\u001b[0m\u001b[0;34m(\u001b[0m\u001b[0mhttp\u001b[0m\u001b[0;34m.\u001b[0m\u001b[0mclient\u001b[0m\u001b[0;34m.\u001b[0m\u001b[0mHTTPConnection\u001b[0m\u001b[0;34m,\u001b[0m \u001b[0mreq\u001b[0m\u001b[0;34m)\u001b[0m\u001b[0;34m\u001b[0m\u001b[0;34m\u001b[0m\u001b[0m\n\u001b[0m\u001b[1;32m   1346\u001b[0m \u001b[0;34m\u001b[0m\u001b[0m\n\u001b[1;32m   1347\u001b[0m     \u001b[0mhttp_request\u001b[0m \u001b[0;34m=\u001b[0m \u001b[0mAbstractHTTPHandler\u001b[0m\u001b[0;34m.\u001b[0m\u001b[0mdo_request_\u001b[0m\u001b[0;34m\u001b[0m\u001b[0;34m\u001b[0m\u001b[0m\n",
      "\u001b[0;32m~/anaconda2/envs/py37/lib/python3.7/urllib/request.py\u001b[0m in \u001b[0;36mdo_open\u001b[0;34m(self, http_class, req, **http_conn_args)\u001b[0m\n\u001b[1;32m   1317\u001b[0m                           encode_chunked=req.has_header('Transfer-encoding'))\n\u001b[1;32m   1318\u001b[0m             \u001b[0;32mexcept\u001b[0m \u001b[0mOSError\u001b[0m \u001b[0;32mas\u001b[0m \u001b[0merr\u001b[0m\u001b[0;34m:\u001b[0m \u001b[0;31m# timeout error\u001b[0m\u001b[0;34m\u001b[0m\u001b[0;34m\u001b[0m\u001b[0m\n\u001b[0;32m-> 1319\u001b[0;31m                 \u001b[0;32mraise\u001b[0m \u001b[0mURLError\u001b[0m\u001b[0;34m(\u001b[0m\u001b[0merr\u001b[0m\u001b[0;34m)\u001b[0m\u001b[0;34m\u001b[0m\u001b[0;34m\u001b[0m\u001b[0m\n\u001b[0m\u001b[1;32m   1320\u001b[0m             \u001b[0mr\u001b[0m \u001b[0;34m=\u001b[0m \u001b[0mh\u001b[0m\u001b[0;34m.\u001b[0m\u001b[0mgetresponse\u001b[0m\u001b[0;34m(\u001b[0m\u001b[0;34m)\u001b[0m\u001b[0;34m\u001b[0m\u001b[0;34m\u001b[0m\u001b[0m\n\u001b[1;32m   1321\u001b[0m         \u001b[0;32mexcept\u001b[0m\u001b[0;34m:\u001b[0m\u001b[0;34m\u001b[0m\u001b[0;34m\u001b[0m\u001b[0m\n",
      "\u001b[0;31mURLError\u001b[0m: <urlopen error [Errno 60] Operation timed out>"
     ]
    }
   ],
   "source": [
    "df = pd.read_csv(e.get_search_url(response='csv', search_for='PRAWLER'))"
   ]
  },
  {
   "cell_type": "code",
   "execution_count": null,
   "metadata": {},
   "outputs": [],
   "source": [
    "'We have {} tabledap, {} griddap, and {} wms endpoints.'.format(\n",
    "    len(set(df['tabledap'].dropna())),\n",
    "    len(set(df['griddap'].dropna())),\n",
    "    len(set(df['wms'].dropna()))\n",
    ")"
   ]
  },
  {
   "cell_type": "code",
   "execution_count": null,
   "metadata": {},
   "outputs": [],
   "source": [
    "prawlers = df['Dataset ID'].values\n",
    "print(prawlers)"
   ]
  },
  {
   "cell_type": "code",
   "execution_count": null,
   "metadata": {},
   "outputs": [],
   "source": [
    "variables = [e.get_var_by_attr(dataset_id=prawler, standard_name=lambda v: v is not None) for prawler in prawlers]\n",
    "print(variables)"
   ]
  },
  {
   "cell_type": "markdown",
   "metadata": {},
   "source": [
    "### retrieving and plotting data"
   ]
  },
  {
   "cell_type": "code",
   "execution_count": null,
   "metadata": {},
   "outputs": [],
   "source": [
    "d = ERDDAP(server=server_url,\n",
    "           protocol='tabledap',\n",
    "           response='csv',\n",
    "          )\n",
    "\n",
    "d.dataset_id='erddap_19bsitaepr2a_prawler'\n",
    "\n",
    "d.variables =  [\n",
    " 'profile_id',\n",
    " 'Temperature',\n",
    " 'Salinity',\n",
    " 'Chlorophyll',\n",
    " 'Turbidity',\n",
    " 'latitude',\n",
    " 'longitude',\n",
    " 'depth',\n",
    " \"time\",\n",
    " 'Oxy_Conc',\n",
    " 'Oxy_Sat'\n",
    "]\n",
    "\n",
    "d.constraints = {\n",
    "    'time>=': '2019-01-01T00:00:00Z',\n",
    "    'time<=': '2019-10-10T00:00:00Z',\n",
    "}"
   ]
  },
  {
   "cell_type": "code",
   "execution_count": null,
   "metadata": {},
   "outputs": [],
   "source": [
    "d.get_download_url()"
   ]
  },
  {
   "cell_type": "code",
   "execution_count": null,
   "metadata": {},
   "outputs": [],
   "source": [
    "df = d.to_pandas(\n",
    "    index_col='time (UTC)',\n",
    "    parse_dates=True,\n",
    "    skiprows=(1,)  # units information can be dropped.\n",
    ").dropna()\n",
    "\n",
    "df.head()"
   ]
  },
  {
   "cell_type": "code",
   "execution_count": null,
   "metadata": {},
   "outputs": [],
   "source": [
    "df.tail()"
   ]
  },
  {
   "cell_type": "markdown",
   "metadata": {},
   "source": [
    "#### Temperature"
   ]
  },
  {
   "cell_type": "code",
   "execution_count": null,
   "metadata": {},
   "outputs": [],
   "source": [
    "#qc\n",
    "df['Temperature'][df['Temperature']>20]=np.nan"
   ]
  },
  {
   "cell_type": "code",
   "execution_count": null,
   "metadata": {},
   "outputs": [],
   "source": [
    "%matplotlib inline\n",
    "import matplotlib.pyplot as plt\n",
    "import matplotlib.dates as mdates\n",
    "from matplotlib.dates import YearLocator, WeekdayLocator, MonthLocator, DayLocator, HourLocator, DateFormatter\n",
    "import matplotlib.ticker as ticker\n",
    "\n",
    "import cmocean"
   ]
  },
  {
   "cell_type": "code",
   "execution_count": null,
   "metadata": {},
   "outputs": [],
   "source": [
    "fig, ax = plt.subplots(figsize=(17, 2))\n",
    "cs = ax.scatter(df.index, df['depth (m)'], s=15, c=df['Temperature'], marker='o', edgecolor='none', cmap=cmocean.cm.thermal)\n",
    "\n",
    "ax.invert_yaxis()\n",
    "ax.set_xlim(df.index[0], df.index[-1])\n",
    "xfmt = mdates.DateFormatter('%d-%b')\n",
    "ax.xaxis.set_major_locator(DayLocator(bymonthday=[30,15]))\n",
    "ax.xaxis.set_minor_locator(DayLocator(range(0,32,2)))\n",
    "ax.xaxis.set_minor_formatter(DateFormatter('%d'))\n",
    "ax.xaxis.set_major_formatter(DateFormatter('%b %y'))\n",
    "ax.xaxis.set_tick_params(which='major', pad=15)\n",
    "ax.xaxis.set_tick_params(which='minor', pad=5)\n",
    "\n",
    "cbar = fig.colorbar(cs, orientation='vertical', extend='both')\n",
    "cbar.ax.set_ylabel('Temperature ($^\\circ$C)')\n",
    "ax.set_ylabel('Depth (m)')"
   ]
  },
  {
   "cell_type": "code",
   "execution_count": null,
   "metadata": {},
   "outputs": [],
   "source": [
    "print(\"\"\"\n",
    "max temp: {0:0.4}\n",
    "min temp: {1:0.4}\"\"\".format(df['Temperature'].max(), df['Temperature'].min()))"
   ]
  },
  {
   "cell_type": "markdown",
   "metadata": {},
   "source": [
    "#### Salinity"
   ]
  },
  {
   "cell_type": "code",
   "execution_count": null,
   "metadata": {},
   "outputs": [],
   "source": [
    "#bounds\n",
    "lower = df['Salinity (PSU)'].mean()-3*df['Salinity (PSU)'].std()\n",
    "upper = df['Salinity (PSU)'].mean()+3*df['Salinity (PSU)'].std()\n",
    "\n",
    "#plot\n",
    "fig, ax = plt.subplots(figsize=(17, 2))\n",
    "cs = ax.scatter(df.index, df['depth (m)'], s=15, c=df['Salinity (PSU)'], marker='o', edgecolor='none', vmin=lower, vmax=upper, cmap=cmocean.cm.haline)\n",
    "\n",
    "ax.invert_yaxis()\n",
    "ax.set_xlim(df.index[0], df.index[-1])\n",
    "xfmt = mdates.DateFormatter('%d-%b')\n",
    "ax.xaxis.set_major_locator(DayLocator(bymonthday=[30,15]))\n",
    "ax.xaxis.set_minor_locator(DayLocator(range(0,32,2)))\n",
    "ax.xaxis.set_minor_formatter(DateFormatter('%d'))\n",
    "ax.xaxis.set_major_formatter(DateFormatter('%b %y'))\n",
    "ax.xaxis.set_tick_params(which='major', pad=15)\n",
    "ax.xaxis.set_tick_params(which='minor', pad=5)\n",
    "\n",
    "cbar = fig.colorbar(cs, orientation='vertical', extend='both')\n",
    "cbar.ax.set_ylabel('Salinity ($^\\circ$C)')\n",
    "ax.set_ylabel('Depth (m)');"
   ]
  },
  {
   "cell_type": "code",
   "execution_count": null,
   "metadata": {},
   "outputs": [],
   "source": [
    "print(\"\"\"\n",
    "max sal: {0:0.4}\n",
    "min sal: {1:0.4}\"\"\".format(df['Salinity (PSU)'].max(), df['Salinity (PSU)'].min()))\n",
    "\n",
    "print(\"\"\"\n",
    "mean sal: {0:0.4}\n",
    "sal std: {1:04}\"\"\".format(df['Salinity (PSU)'].mean(),df['Salinity (PSU)'].std()))"
   ]
  },
  {
   "cell_type": "markdown",
   "metadata": {},
   "source": [
    "#### Chlorophyl"
   ]
  },
  {
   "cell_type": "code",
   "execution_count": null,
   "metadata": {},
   "outputs": [],
   "source": [
    "fig, ax = plt.subplots(figsize=(17, 2))\n",
    "cs = ax.scatter(df.index, df['depth (m)'], s=15, c=df['Chlorophyll'], marker='o', edgecolor='none', vmin=0, vmax=30, cmap=cmocean.cm.algae)\n",
    "\n",
    "ax.invert_yaxis()\n",
    "ax.set_xlim(df.index[0], df.index[-1])\n",
    "#ax.set_xlim(datetime.datetime(2018,5,25),datetime.datetime.today())\n",
    "xfmt = mdates.DateFormatter('%d-%b')\n",
    "ax.xaxis.set_major_locator(DayLocator(bymonthday=[30,15]))\n",
    "ax.xaxis.set_minor_locator(DayLocator(range(0,32,2)))\n",
    "ax.xaxis.set_minor_formatter(DateFormatter('%d'))\n",
    "ax.xaxis.set_major_formatter(DateFormatter('%b %y'))\n",
    "ax.xaxis.set_tick_params(which='major', pad=15)\n",
    "ax.xaxis.set_tick_params(which='minor', pad=5)\n",
    "\n",
    "cbar = fig.colorbar(cs, orientation='vertical', extend='both')\n",
    "cbar.ax.set_ylabel('Chlorophyll ($\\mu$gram/m$^3$)')\n",
    "ax.set_ylabel('Depth (m)')\n"
   ]
  },
  {
   "cell_type": "code",
   "execution_count": null,
   "metadata": {},
   "outputs": [],
   "source": [
    "print(\"\"\"\n",
    "max chlorophyll: {0:0.4}\n",
    "min chlorophyll: {1:0.4}\"\"\".format(df['Chlorophyll'].max(), df['Chlorophyll'].min()))"
   ]
  },
  {
   "cell_type": "markdown",
   "metadata": {},
   "source": [
    "#### Chlorophyl (log scale)"
   ]
  },
  {
   "cell_type": "code",
   "execution_count": null,
   "metadata": {},
   "outputs": [],
   "source": [
    "fig, ax = plt.subplots(figsize=(17, 2))\n",
    "cs = ax.scatter(df.index, df['depth (m)'], s=15, c=np.log(df['Chlorophyll']), marker='o', edgecolor='none', vmin=0, vmax=5, cmap=cmocean.cm.algae)\n",
    "\n",
    "ax.invert_yaxis()\n",
    "ax.set_xlim(df.index[0], df.index[-1])\n",
    "#ax.set_xlim(datetime.datetime(2018,5,25),datetime.datetime.today())\n",
    "xfmt = mdates.DateFormatter('%d-%b')\n",
    "ax.xaxis.set_major_locator(DayLocator(bymonthday=[30,15]))\n",
    "ax.xaxis.set_minor_locator(DayLocator(range(0,32,2)))\n",
    "ax.xaxis.set_minor_formatter(DateFormatter('%d'))\n",
    "ax.xaxis.set_major_formatter(DateFormatter('%b %y'))\n",
    "ax.xaxis.set_tick_params(which='major', pad=15)\n",
    "ax.xaxis.set_tick_params(which='minor', pad=5)\n",
    "\n",
    "cbar = fig.colorbar(cs, orientation='vertical', extend='both')\n",
    "cbar.ax.set_ylabel('Chlorophyll ($\\mu$gram/m$^3$)')\n",
    "ax.set_ylabel('Depth (m)')"
   ]
  },
  {
   "cell_type": "code",
   "execution_count": null,
   "metadata": {},
   "outputs": [],
   "source": [
    "fig, ax = plt.subplots(figsize=(17, 2))\n",
    "cs = ax.scatter(df.index, df['depth (m)'], s=15, c=df['Turbidity'], marker='o', edgecolor='none', vmin=0, vmax=100, cmap=cmocean.cm.turbid)\n",
    "\n",
    "ax.invert_yaxis()\n",
    "ax.set_xlim(df.index[0], df.index[-1])\n",
    "xfmt = mdates.DateFormatter('%d-%b')\n",
    "ax.xaxis.set_major_locator(DayLocator(bymonthday=[30,15]))\n",
    "ax.xaxis.set_minor_locator(DayLocator(range(0,32,2)))\n",
    "ax.xaxis.set_minor_formatter(DateFormatter('%d'))\n",
    "ax.xaxis.set_major_formatter(DateFormatter('%b %y'))\n",
    "ax.xaxis.set_tick_params(which='major', pad=15)\n",
    "ax.xaxis.set_tick_params(which='minor', pad=5)\n",
    "\n",
    "cbar = fig.colorbar(cs, orientation='vertical', extend='both')\n",
    "cbar.ax.set_ylabel('Turbidity')\n",
    "ax.set_ylabel('Depth (m)');"
   ]
  },
  {
   "cell_type": "code",
   "execution_count": null,
   "metadata": {},
   "outputs": [],
   "source": [
    "import seawater as sw\n",
    "sigmat = sw.dens(s=df['Salinity (PSU)'],t=df['Temperature'],p=df['depth (m)']) - 1000."
   ]
  },
  {
   "cell_type": "code",
   "execution_count": null,
   "metadata": {},
   "outputs": [],
   "source": [
    "fig, ax = plt.subplots(figsize=(17, 2))\n",
    "cs = ax.scatter(df.index, df['depth (m)'], s=15, c=sigmat, marker='o', edgecolor='none', cmap=cmocean.cm.dense)\n",
    "\n",
    "ax.invert_yaxis()\n",
    "ax.set_xlim(df.index[0], df.index[-1])\n",
    "xfmt = mdates.DateFormatter('%d-%b')\n",
    "ax.xaxis.set_major_locator(DayLocator(bymonthday=[30,15]))\n",
    "ax.xaxis.set_minor_locator(DayLocator(range(0,32,2)))\n",
    "ax.xaxis.set_minor_formatter(DateFormatter('%d'))\n",
    "ax.xaxis.set_major_formatter(DateFormatter('%b %y'))\n",
    "ax.xaxis.set_tick_params(which='major', pad=15)\n",
    "ax.xaxis.set_tick_params(which='minor', pad=5)\n",
    "\n",
    "cbar = fig.colorbar(cs, orientation='vertical', extend='both')\n",
    "cbar.ax.set_ylabel('SigmaT ($kg/$m^3)')\n",
    "ax.set_ylabel('Depth (m)');"
   ]
  },
  {
   "cell_type": "code",
   "execution_count": null,
   "metadata": {},
   "outputs": [],
   "source": [
    "fig, ax = plt.subplots(figsize=(17, 2))\n",
    "cs = ax.scatter(df.index, df['depth (m)'], s=15, c=df['Oxy_Sat (percent)'], marker='o', vmin=80, vmax=140, edgecolor='none', cmap=cmocean.cm.oxy)\n",
    "\n",
    "ax.invert_yaxis()\n",
    "ax.set_xlim(df.index[0], df.index[-1])\n",
    "xfmt = mdates.DateFormatter('%H:%Mh\\n%d-%b')\n",
    "ax.xaxis.set_major_locator(DayLocator(bymonthday=[30,15]))\n",
    "ax.xaxis.set_minor_locator(DayLocator(range(0,32,2)))\n",
    "ax.xaxis.set_minor_formatter(DateFormatter('%d'))\n",
    "ax.xaxis.set_major_formatter(DateFormatter('%b %y'))\n",
    "ax.xaxis.set_tick_params(which='major', pad=15)\n",
    "ax.xaxis.set_tick_params(which='minor', pad=5)\n",
    "\n",
    "cbar = fig.colorbar(cs, orientation='vertical', extend='both')\n",
    "cbar.ax.set_ylabel('Oxygen Sat. (%)')\n",
    "ax.set_ylabel('Depth (m)');"
   ]
  },
  {
   "cell_type": "code",
   "execution_count": null,
   "metadata": {},
   "outputs": [],
   "source": [
    "fig, ax = plt.subplots(figsize=(17, 2))\n",
    "cs = ax.scatter(df.index, df['depth (m)'], s=15, c=df['Oxy_Conc'], marker='o', vmin=200, vmax=450, edgecolor='none', cmap=cmocean.cm.oxy)\n",
    "\n",
    "ax.invert_yaxis()\n",
    "ax.set_xlim(df.index[0], df.index[-1])\n",
    "xfmt = mdates.DateFormatter('%H:%Mh\\n%d-%b')\n",
    "ax.xaxis.set_major_locator(DayLocator(bymonthday=[30,15]))\n",
    "ax.xaxis.set_minor_locator(DayLocator(range(0,32,2)))\n",
    "ax.xaxis.set_minor_formatter(DateFormatter('%d'))\n",
    "ax.xaxis.set_major_formatter(DateFormatter('%b %y'))\n",
    "ax.xaxis.set_tick_params(which='major', pad=15)\n",
    "ax.xaxis.set_tick_params(which='minor', pad=5)\n",
    "\n",
    "cbar = fig.colorbar(cs, orientation='vertical', extend='both')\n",
    "cbar.ax.set_ylabel('Oxygen Conc')\n",
    "ax.set_ylabel('Depth (m)');"
   ]
  },
  {
   "cell_type": "markdown",
   "metadata": {},
   "source": [
    "#### Descent Rate"
   ]
  },
  {
   "cell_type": "code",
   "execution_count": null,
   "metadata": {},
   "outputs": [],
   "source": [
    "#calculate diverate\n",
    "df['descentrate (m/s)'] = df['depth (m)'].diff()/df.index.to_series().diff().dt.seconds"
   ]
  },
  {
   "cell_type": "code",
   "execution_count": null,
   "metadata": {},
   "outputs": [],
   "source": [
    "fig, ax = plt.subplots(figsize=(17, 2))\n",
    "cs = ax.scatter(df.index, df['depth (m)'], s=15, c=df['descentrate (m/s)'], marker='o', edgecolor='none', cmap=cmocean.cm.delta)\n",
    "\n",
    "ax.invert_yaxis()\n",
    "ax.set_xlim(df.index[0], df.index[-1])\n",
    "xfmt = mdates.DateFormatter('%H:%Mh\\n%d-%b')\n",
    "ax.xaxis.set_major_locator(DayLocator(bymonthday=[30,15]))\n",
    "ax.xaxis.set_minor_locator(DayLocator(range(0,32,2)))\n",
    "ax.xaxis.set_minor_formatter(DateFormatter('%d'))\n",
    "ax.xaxis.set_major_formatter(DateFormatter('%b %y'))\n",
    "ax.xaxis.set_tick_params(which='major', pad=15)\n",
    "ax.xaxis.set_tick_params(which='minor', pad=5)\n",
    "\n",
    "cbar = fig.colorbar(cs, orientation='vertical', extend='both')\n",
    "cbar.ax.set_ylabel('Descent Rate (m/s)')\n",
    "ax.set_ylabel('Depth (m)');"
   ]
  },
  {
   "cell_type": "markdown",
   "metadata": {},
   "source": [
    "### Calibration/Characterization Profiles - last 7 day"
   ]
  },
  {
   "cell_type": "code",
   "execution_count": null,
   "metadata": {},
   "outputs": [],
   "source": [
    "#groupby profile id\n",
    "\n",
    "\n",
    "dfsub=df[(datetime.datetime.today()-datetime.timedelta(days=1)).strftime('%Y-%m-%d')]\n",
    "dfsg = dfsub.groupby('profile_id')"
   ]
  },
  {
   "cell_type": "code",
   "execution_count": null,
   "metadata": {},
   "outputs": [],
   "source": [
    "fig, ax = plt.subplots(1,5,figsize=(12, 12))\n",
    "\n",
    "for i,cast in enumerate(dfsg.groups):\n",
    "    if dfsg.get_group(cast)['depth (m)'].std() > 1:\n",
    "        cs = ax[0].plot(dfsg.get_group(cast)['Oxy_Sat (percent)'],dfsg.get_group(cast)['depth (m)'],'c-')\n",
    "        cs = ax[1].plot(dfsg.get_group(cast)['Salinity (PSU)'],dfsg.get_group(cast)['depth (m)'],'b-')\n",
    "        cs = ax[2].plot(dfsg.get_group(cast)['Temperature'],dfsg.get_group(cast)['depth (m)'],'r-')\n",
    "        cs = ax[3].plot(dfsg.get_group(cast)['Chlorophyll'],dfsg.get_group(cast)['depth (m)'],'g-')\n",
    "        cs = ax[4].plot(dfsg.get_group(cast)['descentrate (m/s)'],dfsg.get_group(cast)['depth (m)'],'k-')\n",
    "    else:\n",
    "        cs = ax[0].plot(dfsg.get_group(cast)['Oxy_Sat (percent)'],dfsg.get_group(cast)['depth (m)'],'k+')\n",
    "        cs = ax[1].plot(dfsg.get_group(cast)['Salinity (PSU)'],dfsg.get_group(cast)['depth (m)'],'k+')\n",
    "        cs = ax[2].plot(dfsg.get_group(cast)['Temperature'],dfsg.get_group(cast)['depth (m)'],'k+')\n",
    "        cs = ax[3].plot(dfsg.get_group(cast)['Chlorophyll'],dfsg.get_group(cast)['depth (m)'],'k+')\n",
    "    #dfsg.get_group(cast).to_csv(str(cast)+'.csv')\n",
    "\n",
    "ax[0].set_xlabel('Oxygen %Sat')        \n",
    "ax[0].set_ylabel('Depth (dBar)')        \n",
    "ax[0].invert_yaxis()\n",
    "ax[1].set_xlabel('Salinity (PSU)')        \n",
    "ax[1].invert_yaxis()\n",
    "ax[2].set_xlabel('Temperature (DegC)')        \n",
    "ax[2].invert_yaxis()\n",
    "ax[3].set_xlabel('Chlorophyll ($\\mu$gram/m$^3$)')        \n",
    "ax[3].invert_yaxis()\n",
    "ax[4].set_xlabel('Descent Rate (m/s)')        \n",
    "ax[4].invert_yaxis()"
   ]
  },
  {
   "cell_type": "code",
   "execution_count": null,
   "metadata": {},
   "outputs": [],
   "source": [
    "fig, ax = plt.subplots(1,5,figsize=(12, 12))\n",
    "\n",
    "for i,cast in enumerate(dfsg.groups):\n",
    "    if dfsg.get_group(cast)['depth (m)'].std() > 1:\n",
    "        cs = ax[0].plot(dfsg.get_group(cast)['Oxy_Sat (percent)'][1:],dfsg.get_group(cast)['depth (m)'][1:],'c-')\n",
    "        cs = ax[1].plot(dfsg.get_group(cast)['Salinity (PSU)'][1:],dfsg.get_group(cast)['depth (m)'][1:],'b-')\n",
    "        cs = ax[2].plot(dfsg.get_group(cast)['Temperature'][1:],dfsg.get_group(cast)['depth (m)'][1:],'r-')\n",
    "        cs = ax[3].plot(dfsg.get_group(cast)['Chlorophyll'][1:],dfsg.get_group(cast)['depth (m)'][1:],'g-')\n",
    "        cs = ax[4].plot(dfsg.get_group(cast)['descentrate (m/s)'],dfsg.get_group(cast)['depth (m)'],'k-')\n",
    "    else:\n",
    "        cs = ax[0].plot(dfsg.get_group(cast)['Oxy_Sat (percent)'].last('s'),dfsg.get_group(cast)['depth (m)'].last('s'),'k+')\n",
    "        cs = ax[1].plot(dfsg.get_group(cast)['Salinity (PSU)'].last('s'),dfsg.get_group(cast)['depth (m)'].last('s'),'k+')\n",
    "        cs = ax[2].plot(dfsg.get_group(cast)['Temperature'].last('s'),dfsg.get_group(cast)['depth (m)'].last('s'),'k+')\n",
    "        cs = ax[3].plot(dfsg.get_group(cast)['Chlorophyll'].last('s'),dfsg.get_group(cast)['depth (m)'].last('s'),'k+')\n",
    "\n",
    "ax[0].set_xlabel('Oxygen %Sat')        \n",
    "ax[0].set_ylabel('Depth (dBar)')        \n",
    "ax[0].invert_yaxis()\n",
    "ax[1].set_xlabel('Salinity (PSU)')        \n",
    "ax[1].invert_yaxis()\n",
    "ax[2].set_xlabel('Temperature (DegC)')        \n",
    "ax[2].invert_yaxis()\n",
    "ax[3].set_xlabel('Chlorophyll ($\\mu$gram/m$^3$)')        \n",
    "ax[3].invert_yaxis()\n",
    "ax[4].set_xlabel('Descent Rate (m/s)')        \n",
    "ax[4].invert_yaxis()"
   ]
  },
  {
   "cell_type": "code",
   "execution_count": null,
   "metadata": {
    "scrolled": false
   },
   "outputs": [],
   "source": [
    "\n",
    "def plot_salvtemp(salt, temp, press, srange=[28,34], trange=[-2,15], ptitle=\"\"): \n",
    "    plt.style.use('ggplot')\n",
    "    \n",
    "    # Figure out boudaries (mins and maxs)\n",
    "    smin = srange[0]\n",
    "    smax = srange[1]\n",
    "    tmin = trange[0]\n",
    "    tmax = trange[1]\n",
    "\n",
    "    # Calculate how many gridcells we need in the x and y dimensions\n",
    "    xdim = int(round((smax-smin)/0.1+1,0))\n",
    "    ydim = int(round((tmax-tmin)+1,0))\n",
    "    \n",
    "    #print 'ydim: ' + str(ydim) + ' xdim: ' + str(xdim) + ' \\n'\n",
    "    if (xdim > 10000) or (ydim > 10000): \n",
    "        print('To many dimensions for grid in {cruise} {cast} file. Likely  missing data \\n'.format(cruise=cruise,cast=cast))\n",
    "        return\n",
    " \n",
    "    # Create empty grid of zeros\n",
    "    dens = np.zeros((ydim,xdim))\n",
    " \n",
    "    # Create temp and salt vectors of appropiate dimensions\n",
    "    ti = np.linspace(0,ydim-1,ydim)+tmin\n",
    "    si = np.linspace(0,xdim-1,xdim)*0.1+smin\n",
    " \n",
    "    # Loop to fill in grid with densities\n",
    "    for j in range(0,int(ydim)):\n",
    "        for i in range(0, int(xdim)):\n",
    "            dens[j,i]=sw.dens0(si[i],ti[j])\n",
    " \n",
    "    # Substract 1000 to convert to sigma-t\n",
    "    dens = dens - 1000\n",
    " \n",
    "    # Plot data ***********************************************\n",
    "    fig = plt.figure(figsize=(12, 12))\n",
    "    ax1 = fig.add_subplot(111)\n",
    "    CS = plt.contour(si,ti,dens, linestyles='dashed', colors='k')\n",
    "    plt.clabel(CS, fontsize=12, inline=1, fmt='%1.1f') # Label every second level\n",
    " \n",
    "    ts = ax1.scatter(salt,temp, c=press, cmap='gray', s=10)\n",
    "    plt.colorbar(ts )\n",
    "    plt.ylim(tmin,tmax)\n",
    "    plt.xlim(smin,smax)\n",
    " \n",
    "    ax1.set_xlabel('Salinity (PSU)')\n",
    "    ax1.set_ylabel('Temperature (C)')\n",
    "\n",
    "    \n",
    "    t = fig.suptitle(ptitle, fontsize=12, fontweight='bold')\n",
    "    t.set_y(1.08)\n",
    "    return fig  \n",
    "\n",
    "fig = plot_salvtemp(df['Salinity (PSU)'],df['Temperature'],df['depth (m)'])"
   ]
  },
  {
   "cell_type": "markdown",
   "metadata": {},
   "source": [
    "### Bin data to calculate integrate heat proxy (depth averaged temperature)\n",
    "\n",
    "Setup 1m bins:\n",
    "- code below will make all data deeper than prawler missing, thus biasing the averages to the upper 40m-50m.  Shapes may likely stay the same if the column is mixed, but maginitudes will be less."
   ]
  },
  {
   "cell_type": "code",
   "execution_count": null,
   "metadata": {},
   "outputs": [],
   "source": [
    "#depth averaged temp - interpolate to 1m bins before averaging\n",
    "def depth_ave(param, print_values=False):\n",
    "    dfint= df.groupby('profile_id')\n",
    "\n",
    "    fig, ax = plt.subplots(figsize=(17, 2))\n",
    "\n",
    "    for i,cast in enumerate(dfint.groups):\n",
    "        if dfint.get_group(cast)['depth (m)'].std() > 1:\n",
    "            #only use available data... bias towards prawler\n",
    "            IntTemp = np.interp(np.arange(0,74,1),dfint.get_group(cast)['depth (m)'], dfint.get_group(cast)[param], right=np.nan, left=np.nan)\n",
    "            cs = ax.scatter(dfint.get_group(cast).index[0], np.nanmean(IntTemp), s=15, c='g', marker='o', edgecolor='none')\n",
    "            \n",
    "            #extrapolate to top and bottom\n",
    "            IntTemp = np.interp(np.arange(0,74,1),dfint.get_group(cast)['depth (m)'], dfint.get_group(cast)[param])\n",
    "            cs = ax.scatter(dfint.get_group(cast).index[0], np.nanmean(IntTemp), s=15, c='r', marker='o', edgecolor='none')\n",
    "            \n",
    "            if print_values:\n",
    "                print(\"{0},{1}\".format(dfint.get_group(cast).index[0], np.nanmean(IntTemp)))\n",
    "\n",
    "        xfmt = mdates.DateFormatter('%d-%b')\n",
    "        ax.xaxis.set_major_formatter(xfmt)\n",
    "\n",
    "        ax.set_ylabel(param)\n",
    "        ax.set_xlabel('Time (UTC)')  \n"
   ]
  },
  {
   "cell_type": "code",
   "execution_count": null,
   "metadata": {
    "scrolled": false
   },
   "outputs": [],
   "source": [
    "#depth averaged temp - interpolate to 1m bins before averaging\n",
    "depth_ave('Temperature',print_values=False)\n",
    "#depth averaged chlor - interpolate to 1m bins before averaging\n",
    "depth_ave('Chlorophyll')\n",
    "#depth averaged oxy - interpolate to 1m bins before averaging\n",
    "depth_ave('Oxy_Conc')"
   ]
  },
  {
   "cell_type": "markdown",
   "metadata": {},
   "source": [
    "- Above plots, red plots result from extrapolating the last point down to 74m (**74m historically when calculating ht content**), and up to the sfc then taking the mean.  Green points result from making all data below the prawler and above the prawler, \"missing\" and then taking the mean."
   ]
  },
  {
   "cell_type": "code",
   "execution_count": null,
   "metadata": {},
   "outputs": [],
   "source": [
    "#depth chosen temp - interpolate to 1m bins before retrieving\n",
    "def depth_csv(param,depth):\n",
    "    dfint= df.groupby('profile_id')\n",
    "\n",
    "\n",
    "    for i,cast in enumerate(dfint.groups):\n",
    "        if dfint.get_group(cast)['depth'].std() > 1:\n",
    "            IntTemp = np.interp(np.arange(0,74,1),dfint.get_group(cast)['depth'], dfint.get_group(cast)[param])\n",
    "            print(\"{0},{1}\".format(dfint.get_group(cast).index[depth], IntTemp))\n",
    "\n",
    "    #print just last data point as a sanity check\n",
    "    #print(\"{0},{1}\".format(dfint.get_group(cast).index, IntTemp))\n",
    "#depth_csv('Temperature',5)\n"
   ]
  },
  {
   "cell_type": "code",
   "execution_count": null,
   "metadata": {},
   "outputs": [],
   "source": [
    "draw =pd.read_csv('/Volumes/WDC_internal/Users/bell/in_and_outbox/Ongoing_Analysis/M2_IntegratedTemp/year_over_year/raw_prawler_data/2018Prawler.csv',\n",
    "                  parse_dates=['datetime'], index_col='datetime')\n",
    "draw.resample('1h').mean().interpolate(limit=1).to_csv('Prawler_1hr.csv')"
   ]
  },
  {
   "cell_type": "code",
   "execution_count": null,
   "metadata": {},
   "outputs": [],
   "source": []
  }
 ],
 "metadata": {
  "kernelspec": {
   "display_name": "Python [conda env:py37]",
   "language": "python",
   "name": "conda-env-py37-py"
  },
  "language_info": {
   "codemirror_mode": {
    "name": "ipython",
    "version": 3
   },
   "file_extension": ".py",
   "mimetype": "text/x-python",
   "name": "python",
   "nbconvert_exporter": "python",
   "pygments_lexer": "ipython3",
   "version": "3.7.3"
  }
 },
 "nbformat": 4,
 "nbformat_minor": 2
}
