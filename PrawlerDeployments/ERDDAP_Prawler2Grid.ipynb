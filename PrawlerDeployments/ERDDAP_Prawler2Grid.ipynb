{
 "cells": [
  {
   "cell_type": "markdown",
   "metadata": {},
   "source": [
    "## Erddap to Grid for Prawler\n",
    "\n",
    "Using erddap as the data source, obtain each profile, filter out calibration profiles and provide interpolated/gridded dataset.\n",
    "\n",
    "Gridding parameters:\n",
    "Pressure - 1m\n",
    "Time - 1hr"
   ]
  },
  {
   "cell_type": "markdown",
   "metadata": {},
   "source": [
    "__pyversion__==3.6   \n",
    "__author__==S.Bell"
   ]
  },
  {
   "cell_type": "code",
   "execution_count": 24,
   "metadata": {},
   "outputs": [
    {
     "name": "stdout",
     "output_type": "stream",
     "text": [
      "Last run 2018-10-15 07:56:06.535087\n"
     ]
    }
   ],
   "source": [
    "import datetime\n",
    "print(\"Last run {0}\".format(datetime.datetime.now()))"
   ]
  },
  {
   "cell_type": "code",
   "execution_count": 25,
   "metadata": {},
   "outputs": [],
   "source": [
    "%matplotlib inline"
   ]
  },
  {
   "cell_type": "markdown",
   "metadata": {},
   "source": [
    "### connecting and basic information"
   ]
  },
  {
   "cell_type": "code",
   "execution_count": 26,
   "metadata": {},
   "outputs": [],
   "source": [
    "import warnings\n",
    "#remove the numpy/pandas/cython warnings\n",
    "warnings.filterwarnings(action='ignore', message=\"numpy.dtype size changed,\")\n",
    "\n",
    "from erddapy import ERDDAP\n",
    "import pandas as pd\n",
    "import numpy as np\n",
    "from netCDF4 import date2num, num2date\n",
    "from scipy import interpolate"
   ]
  },
  {
   "cell_type": "code",
   "execution_count": 46,
   "metadata": {},
   "outputs": [],
   "source": [
    "%matplotlib inline\n",
    "import matplotlib as mpl\n",
    "import matplotlib.pyplot as plt\n",
    "from matplotlib.dates import YearLocator, WeekdayLocator, MonthLocator, DayLocator, HourLocator, DateFormatter\n",
    "import matplotlib.ticker as ticker\n",
    "from mpl_toolkits.axes_grid1 import make_axes_locatable\n",
    "import cmocean"
   ]
  },
  {
   "cell_type": "code",
   "execution_count": 28,
   "metadata": {},
   "outputs": [],
   "source": [
    "server_url = 'http://downdraft.pmel.noaa.gov:8080/erddap'\n",
    "\n",
    "e = ERDDAP(server=server_url)"
   ]
  },
  {
   "cell_type": "code",
   "execution_count": 29,
   "metadata": {},
   "outputs": [],
   "source": [
    "df = pd.read_csv(e.get_search_url(response='csv', search_for='PRAWLER'))"
   ]
  },
  {
   "cell_type": "code",
   "execution_count": 30,
   "metadata": {},
   "outputs": [
    {
     "data": {
      "text/plain": [
       "'We have 8 tabledap, 0 griddap, and 0 wms endpoints.'"
      ]
     },
     "execution_count": 30,
     "metadata": {},
     "output_type": "execute_result"
    }
   ],
   "source": [
    "'We have {} tabledap, {} griddap, and {} wms endpoints.'.format(\n",
    "    len(set(df['tabledap'].dropna())),\n",
    "    len(set(df['griddap'].dropna())),\n",
    "    len(set(df['wms'].dropna()))\n",
    ")"
   ]
  },
  {
   "cell_type": "code",
   "execution_count": 31,
   "metadata": {},
   "outputs": [
    {
     "name": "stdout",
     "output_type": "stream",
     "text": [
      "['erddap_4fd3_fb30_b89f' 'erddap_17bsitae_prawler'\n",
      " 'erddap_17ckitaem2a_prawler' 'erddap_18bsitaepr2a_prawler'\n",
      " 'erddap_18mtitaepr1a_prawler' 'erddap_17ckitaem2a_met'\n",
      " 'erddap_18bsitaepr2a_met' 'erddap_18mtitaepr1a_met']\n"
     ]
    }
   ],
   "source": [
    "prawlers = df['Dataset ID'].values\n",
    "print(prawlers)"
   ]
  },
  {
   "cell_type": "code",
   "execution_count": 32,
   "metadata": {},
   "outputs": [
    {
     "name": "stdout",
     "output_type": "stream",
     "text": [
      "[['longitude', 'Chlorophyll', 'time', 'Salinity', 'depth', 'latitude'], ['longitude', 'Chlorophyll', 'time', 'Salinity', 'depth', 'latitude'], ['Oxy_Sat', 'longitude', 'Temperature', 'Turbidity', 'Chlorophyll', 'time', 'Oxy_Temperature', 'Salinity', 'SigmaT', 'Oxy_Conc', 'depth', 'latitude'], ['longitude', 'Chlorophyll', 'time', 'Salinity', 'depth', 'latitude'], ['longitude', 'Chlorophyll', 'time', 'Salinity', 'depth', 'latitude'], ['wind_from_direction', 'longitude', 'relative_humidity', 'eastward_wind', 'wind_speed', 'northward_wind', 'time', 'air_pressure', 'latitude', 'air_temperature'], ['wind_from_direction', 'longitude', 'relative_humidity', 'eastward_wind', 'wind_speed', 'northward_wind', 'time', 'air_pressure', 'latitude', 'air_temperature'], ['wind_from_direction', 'longitude', 'relative_humidity', 'eastward_wind', 'wind_speed', 'northward_wind', 'time', 'air_pressure', 'latitude', 'air_temperature']]\n"
     ]
    }
   ],
   "source": [
    "variables = [e.get_var_by_attr(dataset_id=prawler, standard_name=lambda v: v is not None) for prawler in prawlers]\n",
    "print(variables)"
   ]
  },
  {
   "cell_type": "markdown",
   "metadata": {},
   "source": [
    "### retrieving and plotting data"
   ]
  },
  {
   "cell_type": "code",
   "execution_count": 33,
   "metadata": {},
   "outputs": [],
   "source": [
    "d = ERDDAP(server=server_url,\n",
    "           protocol='tabledap',\n",
    "           response='csv',\n",
    "          )\n",
    "\n",
    "d.dataset_id='erddap_4fd3_fb30_b89f'\n",
    "\n",
    "d.variables =  [\n",
    " 'profileid',\n",
    " 'Temperature',\n",
    " 'Salinity',\n",
    " 'Chlorophyll',\n",
    " 'Turbidity',\n",
    " 'latitude',\n",
    " 'longitude',\n",
    " 'depth',\n",
    " 'time',\n",
    " 'Oxy_Conc',\n",
    " 'Oxy_Sat'\n",
    "]\n",
    "\n",
    "d.constraints = {\n",
    "    'time>=': '2016-01-01T00:00:00Z',\n",
    "    'time<=': '2016-10-10T00:00:00Z',\n",
    "    'latitude>=': 45,\n",
    "    'latitude<=': 90,\n",
    "    'longitude>=': 180,\n",
    "    'longitude<=': 210\n",
    "}"
   ]
  },
  {
   "cell_type": "code",
   "execution_count": 34,
   "metadata": {},
   "outputs": [
    {
     "data": {
      "text/plain": [
       "'http://downdraft.pmel.noaa.gov:8080/erddap/tabledap/erddap_4fd3_fb30_b89f.csv?profileid,Temperature,Salinity,Chlorophyll,Turbidity,latitude,longitude,depth,time,Oxy_Conc,Oxy_Sat&time>=1451606400.0&time<=1476057600.0&latitude>=45&latitude<=90&longitude>=180&longitude<=210'"
      ]
     },
     "execution_count": 34,
     "metadata": {},
     "output_type": "execute_result"
    }
   ],
   "source": [
    "d.get_download_url()"
   ]
  },
  {
   "cell_type": "code",
   "execution_count": 35,
   "metadata": {},
   "outputs": [
    {
     "data": {
      "text/html": [
       "<div>\n",
       "<style scoped>\n",
       "    .dataframe tbody tr th:only-of-type {\n",
       "        vertical-align: middle;\n",
       "    }\n",
       "\n",
       "    .dataframe tbody tr th {\n",
       "        vertical-align: top;\n",
       "    }\n",
       "\n",
       "    .dataframe thead th {\n",
       "        text-align: right;\n",
       "    }\n",
       "</style>\n",
       "<table border=\"1\" class=\"dataframe\">\n",
       "  <thead>\n",
       "    <tr style=\"text-align: right;\">\n",
       "      <th></th>\n",
       "      <th>profileid</th>\n",
       "      <th>Temperature</th>\n",
       "      <th>Salinity</th>\n",
       "      <th>Chlorophyll</th>\n",
       "      <th>Turbidity</th>\n",
       "      <th>latitude</th>\n",
       "      <th>longitude</th>\n",
       "      <th>depth</th>\n",
       "      <th>Oxy_Conc</th>\n",
       "      <th>Oxy_Sat</th>\n",
       "    </tr>\n",
       "    <tr>\n",
       "      <th>time</th>\n",
       "      <th></th>\n",
       "      <th></th>\n",
       "      <th></th>\n",
       "      <th></th>\n",
       "      <th></th>\n",
       "      <th></th>\n",
       "      <th></th>\n",
       "      <th></th>\n",
       "      <th></th>\n",
       "      <th></th>\n",
       "    </tr>\n",
       "  </thead>\n",
       "  <tbody>\n",
       "    <tr>\n",
       "      <th>2016-05-04 20:18:45</th>\n",
       "      <td>16bsitae_p0003</td>\n",
       "      <td>5.407</td>\n",
       "      <td>31.641</td>\n",
       "      <td>6.200</td>\n",
       "      <td>0.211</td>\n",
       "      <td>56.868</td>\n",
       "      <td>195.947006</td>\n",
       "      <td>4.1</td>\n",
       "      <td>347.81290</td>\n",
       "      <td>114.20394</td>\n",
       "    </tr>\n",
       "    <tr>\n",
       "      <th>2016-05-04 20:18:45</th>\n",
       "      <td>16bsitae_p0003</td>\n",
       "      <td>5.441</td>\n",
       "      <td>31.752</td>\n",
       "      <td>7.028</td>\n",
       "      <td>0.422</td>\n",
       "      <td>56.868</td>\n",
       "      <td>195.947006</td>\n",
       "      <td>3.6</td>\n",
       "      <td>347.52760</td>\n",
       "      <td>114.30571</td>\n",
       "    </tr>\n",
       "    <tr>\n",
       "      <th>2016-05-04 20:18:45</th>\n",
       "      <td>16bsitae_p0003</td>\n",
       "      <td>5.419</td>\n",
       "      <td>31.761</td>\n",
       "      <td>8.308</td>\n",
       "      <td>0.422</td>\n",
       "      <td>56.868</td>\n",
       "      <td>195.947006</td>\n",
       "      <td>4.0</td>\n",
       "      <td>348.07236</td>\n",
       "      <td>114.43413</td>\n",
       "    </tr>\n",
       "    <tr>\n",
       "      <th>2016-05-04 20:18:45</th>\n",
       "      <td>16bsitae_p0003</td>\n",
       "      <td>5.420</td>\n",
       "      <td>31.761</td>\n",
       "      <td>9.086</td>\n",
       "      <td>0.422</td>\n",
       "      <td>56.868</td>\n",
       "      <td>195.947006</td>\n",
       "      <td>4.2</td>\n",
       "      <td>348.48648</td>\n",
       "      <td>114.57297</td>\n",
       "    </tr>\n",
       "    <tr>\n",
       "      <th>2016-05-04 20:18:45</th>\n",
       "      <td>16bsitae_p0003</td>\n",
       "      <td>5.431</td>\n",
       "      <td>31.760</td>\n",
       "      <td>7.254</td>\n",
       "      <td>0.633</td>\n",
       "      <td>56.868</td>\n",
       "      <td>195.947006</td>\n",
       "      <td>4.3</td>\n",
       "      <td>348.59995</td>\n",
       "      <td>114.63899</td>\n",
       "    </tr>\n",
       "  </tbody>\n",
       "</table>\n",
       "</div>"
      ],
      "text/plain": [
       "                          profileid  Temperature  Salinity  Chlorophyll  \\\n",
       "time                                                                      \n",
       "2016-05-04 20:18:45  16bsitae_p0003        5.407    31.641        6.200   \n",
       "2016-05-04 20:18:45  16bsitae_p0003        5.441    31.752        7.028   \n",
       "2016-05-04 20:18:45  16bsitae_p0003        5.419    31.761        8.308   \n",
       "2016-05-04 20:18:45  16bsitae_p0003        5.420    31.761        9.086   \n",
       "2016-05-04 20:18:45  16bsitae_p0003        5.431    31.760        7.254   \n",
       "\n",
       "                     Turbidity  latitude   longitude  depth   Oxy_Conc  \\\n",
       "time                                                                     \n",
       "2016-05-04 20:18:45      0.211    56.868  195.947006    4.1  347.81290   \n",
       "2016-05-04 20:18:45      0.422    56.868  195.947006    3.6  347.52760   \n",
       "2016-05-04 20:18:45      0.422    56.868  195.947006    4.0  348.07236   \n",
       "2016-05-04 20:18:45      0.422    56.868  195.947006    4.2  348.48648   \n",
       "2016-05-04 20:18:45      0.633    56.868  195.947006    4.3  348.59995   \n",
       "\n",
       "                       Oxy_Sat  \n",
       "time                            \n",
       "2016-05-04 20:18:45  114.20394  \n",
       "2016-05-04 20:18:45  114.30571  \n",
       "2016-05-04 20:18:45  114.43413  \n",
       "2016-05-04 20:18:45  114.57297  \n",
       "2016-05-04 20:18:45  114.63899  "
      ]
     },
     "execution_count": 35,
     "metadata": {},
     "output_type": "execute_result"
    }
   ],
   "source": [
    "df = d.to_pandas(\n",
    "    index_col='time',\n",
    "    parse_dates=True,\n",
    "    skiprows=(1,)  # units information can be dropped.\n",
    ").dropna()\n",
    "\n",
    "df.head()"
   ]
  },
  {
   "cell_type": "code",
   "execution_count": 36,
   "metadata": {},
   "outputs": [
    {
     "data": {
      "text/html": [
       "<div>\n",
       "<style scoped>\n",
       "    .dataframe tbody tr th:only-of-type {\n",
       "        vertical-align: middle;\n",
       "    }\n",
       "\n",
       "    .dataframe tbody tr th {\n",
       "        vertical-align: top;\n",
       "    }\n",
       "\n",
       "    .dataframe thead th {\n",
       "        text-align: right;\n",
       "    }\n",
       "</style>\n",
       "<table border=\"1\" class=\"dataframe\">\n",
       "  <thead>\n",
       "    <tr style=\"text-align: right;\">\n",
       "      <th></th>\n",
       "      <th>profileid</th>\n",
       "      <th>Temperature</th>\n",
       "      <th>Salinity</th>\n",
       "      <th>Chlorophyll</th>\n",
       "      <th>Turbidity</th>\n",
       "      <th>latitude</th>\n",
       "      <th>longitude</th>\n",
       "      <th>depth</th>\n",
       "      <th>Oxy_Conc</th>\n",
       "      <th>Oxy_Sat</th>\n",
       "    </tr>\n",
       "    <tr>\n",
       "      <th>time</th>\n",
       "      <th></th>\n",
       "      <th></th>\n",
       "      <th></th>\n",
       "      <th></th>\n",
       "      <th></th>\n",
       "      <th></th>\n",
       "      <th></th>\n",
       "      <th></th>\n",
       "      <th></th>\n",
       "      <th></th>\n",
       "    </tr>\n",
       "  </thead>\n",
       "  <tbody>\n",
       "    <tr>\n",
       "      <th>2016-09-18 03:37:30</th>\n",
       "      <td>16bsitae_p1264</td>\n",
       "      <td>12.713</td>\n",
       "      <td>31.595</td>\n",
       "      <td>0.979</td>\n",
       "      <td>0.211</td>\n",
       "      <td>56.868</td>\n",
       "      <td>195.947006</td>\n",
       "      <td>16.5</td>\n",
       "      <td>245.90524</td>\n",
       "      <td>94.754265</td>\n",
       "    </tr>\n",
       "    <tr>\n",
       "      <th>2016-09-18 03:37:30</th>\n",
       "      <td>16bsitae_p1264</td>\n",
       "      <td>12.713</td>\n",
       "      <td>31.596</td>\n",
       "      <td>0.929</td>\n",
       "      <td>0.211</td>\n",
       "      <td>56.868</td>\n",
       "      <td>195.947006</td>\n",
       "      <td>15.8</td>\n",
       "      <td>245.94617</td>\n",
       "      <td>94.770770</td>\n",
       "    </tr>\n",
       "    <tr>\n",
       "      <th>2016-09-18 03:37:30</th>\n",
       "      <td>16bsitae_p1264</td>\n",
       "      <td>12.713</td>\n",
       "      <td>31.595</td>\n",
       "      <td>0.904</td>\n",
       "      <td>0.422</td>\n",
       "      <td>56.868</td>\n",
       "      <td>195.947006</td>\n",
       "      <td>16.5</td>\n",
       "      <td>245.84909</td>\n",
       "      <td>94.732620</td>\n",
       "    </tr>\n",
       "    <tr>\n",
       "      <th>2016-09-18 03:37:30</th>\n",
       "      <td>16bsitae_p1264</td>\n",
       "      <td>12.710</td>\n",
       "      <td>31.595</td>\n",
       "      <td>0.904</td>\n",
       "      <td>0.633</td>\n",
       "      <td>56.868</td>\n",
       "      <td>195.947006</td>\n",
       "      <td>15.1</td>\n",
       "      <td>245.86891</td>\n",
       "      <td>94.734440</td>\n",
       "    </tr>\n",
       "    <tr>\n",
       "      <th>2016-09-18 03:37:30</th>\n",
       "      <td>16bsitae_p1264</td>\n",
       "      <td>12.713</td>\n",
       "      <td>31.595</td>\n",
       "      <td>1.004</td>\n",
       "      <td>-0.000</td>\n",
       "      <td>56.868</td>\n",
       "      <td>195.947006</td>\n",
       "      <td>16.4</td>\n",
       "      <td>245.92853</td>\n",
       "      <td>94.763240</td>\n",
       "    </tr>\n",
       "  </tbody>\n",
       "</table>\n",
       "</div>"
      ],
      "text/plain": [
       "                          profileid  Temperature  Salinity  Chlorophyll  \\\n",
       "time                                                                      \n",
       "2016-09-18 03:37:30  16bsitae_p1264       12.713    31.595        0.979   \n",
       "2016-09-18 03:37:30  16bsitae_p1264       12.713    31.596        0.929   \n",
       "2016-09-18 03:37:30  16bsitae_p1264       12.713    31.595        0.904   \n",
       "2016-09-18 03:37:30  16bsitae_p1264       12.710    31.595        0.904   \n",
       "2016-09-18 03:37:30  16bsitae_p1264       12.713    31.595        1.004   \n",
       "\n",
       "                     Turbidity  latitude   longitude  depth   Oxy_Conc  \\\n",
       "time                                                                     \n",
       "2016-09-18 03:37:30      0.211    56.868  195.947006   16.5  245.90524   \n",
       "2016-09-18 03:37:30      0.211    56.868  195.947006   15.8  245.94617   \n",
       "2016-09-18 03:37:30      0.422    56.868  195.947006   16.5  245.84909   \n",
       "2016-09-18 03:37:30      0.633    56.868  195.947006   15.1  245.86891   \n",
       "2016-09-18 03:37:30     -0.000    56.868  195.947006   16.4  245.92853   \n",
       "\n",
       "                       Oxy_Sat  \n",
       "time                            \n",
       "2016-09-18 03:37:30  94.754265  \n",
       "2016-09-18 03:37:30  94.770770  \n",
       "2016-09-18 03:37:30  94.732620  \n",
       "2016-09-18 03:37:30  94.734440  \n",
       "2016-09-18 03:37:30  94.763240  "
      ]
     },
     "execution_count": 36,
     "metadata": {},
     "output_type": "execute_result"
    }
   ],
   "source": [
    "df.tail()"
   ]
  },
  {
   "cell_type": "markdown",
   "metadata": {},
   "source": [
    "### Interpolating and Gridding"
   ]
  },
  {
   "cell_type": "markdown",
   "metadata": {},
   "source": [
    "#### Gridding Parameters\n",
    "\n",
    "Set pressure interval to 1m and build a grid from 0-50m"
   ]
  },
  {
   "cell_type": "code",
   "execution_count": 37,
   "metadata": {},
   "outputs": [],
   "source": [
    "### vertically grid data to evenly space gridspoints\n",
    "# deployment depth has a maximum value - set at 50 generically\n",
    "interval = 1 #m\n",
    "press_grid = np.arange(0,50,interval) #1m"
   ]
  },
  {
   "cell_type": "markdown",
   "metadata": {},
   "source": [
    "#### Temperature\n",
    "\n",
    "We need to isolate the calibration park&holds first and remove them from the gridded analysis for Temperature/Salinity/Chlorophyl/Turbidity\n",
    "We may wish to use them for the oxygen."
   ]
  },
  {
   "cell_type": "code",
   "execution_count": 38,
   "metadata": {},
   "outputs": [],
   "source": [
    "#groupby profile id\n",
    "dfsg = df.groupby('profileid')"
   ]
  },
  {
   "cell_type": "code",
   "execution_count": 39,
   "metadata": {},
   "outputs": [],
   "source": [
    "def profile(cast,press_grid=np.arange(0,51,1),fillgaps=True):\n",
    "    \"\"\" For a single profile, take median values\n",
    "    Linearly interpolate to fillgaps\"\"\"\n",
    "    #skip profile if std of depth is less than 1 - likely a park and hold\n",
    "    if np.std(dfsg.get_group(cast)['depth']) <= 1.0:\n",
    "        #calibration profile\n",
    "        return\n",
    "    else:\n",
    "        # full profile\n",
    "        #initialize profile parameters\n",
    "        profiledata = {'Salinity': [],\n",
    "                      'Temperature': [],\n",
    "                      'Chlorophyll': [],\n",
    "                      'Turbidity': [],\n",
    "                      'Oxy_Sat': [],\n",
    "                      'Oxy_Conc': []}\n",
    "\n",
    "        #fill variables for each profile, taking the median if multiple values within same depth bin\n",
    "        # and making NaN if no values\n",
    "        for pg in press_grid:\n",
    "            \"\"\" Take the median value if multiple samples occur within same depth bin\"\"\"\n",
    "            for parameter in profiledata.keys():\n",
    "                if not parameter in ['Statistics']:\n",
    "                    ireg_ind = np.where((dfsg.get_group(cast)['depth'] > pg) & (dfsg.get_group(cast)['depth'] <= pg+interval))\n",
    "                    profiledata[parameter] = np.hstack((profiledata[parameter], dfsg.get_group(cast)[parameter][ireg_ind[0]].median()))\n",
    "                else:\n",
    "                    profiledata['Statistics'] = np.hstack((profiledata['Statistics'], ireg_ind[0].size))\n",
    "\n",
    "        for parameter in profiledata.keys():\n",
    "            if fillgaps:\n",
    "                mask = np.isnan(profiledata[parameter])\n",
    "                profiledata[parameter][mask] = np.interp(np.flatnonzero(mask), np.flatnonzero(~mask), profiledata[parameter][~mask], right=-100000)\n",
    "\n",
    "        profiledata['datetime'] = dfsg.get_group(cast).index[0].to_pydatetime()\n",
    "        return(profiledata)\n",
    "\n",
    "def time_interp(date_min,date_max,dt=1.0/24.0):\n",
    "    dt_min = date2num(date_min -datetime.timedelta(seconds=60*date_min.minute + date_min.second),'Days since 0001-1-1')\n",
    "    time_grid = np.arange(dt_min,date2num(date_max,'Days since 0001-1-1'),dt) #grid limits -> set to top of hour\n",
    "    \n",
    "    return(time_grid)"
   ]
  },
  {
   "cell_type": "code",
   "execution_count": 40,
   "metadata": {},
   "outputs": [
    {
     "name": "stdout",
     "output_type": "stream",
     "text": [
      "16bsitae_p0100 of 16bsitae_p1264\n",
      "16bsitae_p0200 of 16bsitae_p1264\n",
      "16bsitae_p0300 of 16bsitae_p1264\n",
      "16bsitae_p0400 of 16bsitae_p1264\n",
      "16bsitae_p0500 of 16bsitae_p1264\n",
      "16bsitae_p0600 of 16bsitae_p1264\n",
      "16bsitae_p0700 of 16bsitae_p1264\n",
      "16bsitae_p0800 of 16bsitae_p1264\n",
      "16bsitae_p0900 of 16bsitae_p1264\n",
      "16bsitae_p1000 of 16bsitae_p1264\n",
      "16bsitae_p1100 of 16bsitae_p1264\n",
      "16bsitae_p1200 of 16bsitae_p1264\n"
     ]
    }
   ],
   "source": [
    "profiledata_filled = {}\n",
    "\n",
    "for profileid in list(dfsg.groups.keys()):\n",
    "    if profileid.endswith('00'):\n",
    "        print(\"{profileid} of {number}\".format(profileid=profileid, number=list(dfsg.groups.keys())[-1]))\n",
    "    tmp = profile(profileid,press_grid=press_grid)\n",
    "    if tmp:\n",
    "        profiledata_filled.update({profileid: tmp})"
   ]
  },
  {
   "cell_type": "code",
   "execution_count": 74,
   "metadata": {},
   "outputs": [],
   "source": [
    "parameter='Turbidity'\n",
    "np2d=[]\n",
    "np2d = [np2d + list(v[parameter]) for k,v in profiledata_filled.items()]\n"
   ]
  },
  {
   "cell_type": "code",
   "execution_count": 75,
   "metadata": {},
   "outputs": [],
   "source": [
    "time_grid = time_interp(profiledata_filled[list(profiledata_filled.keys())[0]]['datetime'],\n",
    "                        profiledata_filled[list(profiledata_filled.keys())[-1]]['datetime'])\n",
    "\n",
    "date_time = [date2num(v['datetime'],'Days since 0001-1-1') for k,v in profiledata_filled.items()]"
   ]
  },
  {
   "cell_type": "code",
   "execution_count": 76,
   "metadata": {},
   "outputs": [],
   "source": [
    "mesh_grid_func = interpolate.interp2d(press_grid,date_time,np.array(np2d),kind='linear',bounds_error=False,fill_value=-100000)\n",
    "mesh_grid = mesh_grid_func(press_grid,time_grid)"
   ]
  },
  {
   "cell_type": "code",
   "execution_count": 77,
   "metadata": {},
   "outputs": [
    {
     "data": {
      "image/png": "[encoded data removed]",
      "text/plain": [
       "<Figure size 1584x378 with 1 Axes>"
      ]
     },
     "metadata": {
      "needs_background": "light"
     },
     "output_type": "display_data"
    }
   ],
   "source": [
    "extent = (time_grid.min(),\n",
    "          time_grid.max(), \n",
    "          press_grid.max(), \n",
    "          press_grid.min()) # extent of the plots\n",
    "\n",
    "#plt.imshow(mesh_grid.T,extent=extent, vmin=31.7, vmax=32.3, cmap=cmocean.cm.haline)\n",
    "fig = plt.figure(figsize=(22,5.25))\n",
    "ax = plt.subplot(1,1,1)\n",
    "cs = plt.imshow(mesh_grid.T,extent=extent, vmin=3, vmax=15, cmap=cmocean.cm.thermal)\n",
    "ax.xaxis.set_major_locator(DayLocator(bymonthday=15))\n",
    "ax.xaxis.set_minor_locator(DayLocator(bymonthday=[5,10,15,20,25,30]))\n",
    "ax.xaxis.set_major_formatter(plt.NullFormatter())\n",
    "ax.xaxis.set_minor_formatter(DateFormatter('%d'))\n",
    "ax.xaxis.set_major_formatter(DateFormatter('%b %y'))\n",
    "ax.xaxis.set_tick_params(which='major', pad=15)\n"
   ]
  },
  {
   "cell_type": "markdown",
   "metadata": {},
   "source": [
    "### Save output to csv"
   ]
  },
  {
   "cell_type": "code",
   "execution_count": 78,
   "metadata": {},
   "outputs": [],
   "source": [
    "np.savetxt('16BS_'+parameter+'.csv',mesh_grid,fmt='%.3f')"
   ]
  },
  {
   "cell_type": "code",
   "execution_count": 79,
   "metadata": {},
   "outputs": [],
   "source": [
    "np.savetxt('16BS_coords_depth.csv',press_grid,fmt='%.1f')\n",
    "np.savetxt('16BS_coords_time.csv',time_grid,fmt='%.8f')"
   ]
  },
  {
   "cell_type": "code",
   "execution_count": null,
   "metadata": {},
   "outputs": [],
   "source": []
  }
 ],
 "metadata": {
  "kernelspec": {
   "display_name": "Python [conda env:py36]",
   "language": "python",
   "name": "conda-env-py36-py"
  },
  "language_info": {
   "codemirror_mode": {
    "name": "ipython",
    "version": 3
   },
   "file_extension": ".py",
   "mimetype": "text/x-python",
   "name": "python",
   "nbconvert_exporter": "python",
   "pygments_lexer": "ipython3",
   "version": "3.6.6"
  }
 },
 "nbformat": 4,
 "nbformat_minor": 2
}
