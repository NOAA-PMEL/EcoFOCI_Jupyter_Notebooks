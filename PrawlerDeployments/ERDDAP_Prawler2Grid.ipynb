{
 "cells": [
  {
   "cell_type": "markdown",
   "metadata": {},
   "source": [
    "## Erddap to Grid for Prawler\n",
    "\n",
    "Using erddap as the data source, obtain each profile, filter out calibration profiles and provide interpolated/gridded dataset.\n",
    "\n",
    "Gridding parameters:\n",
    "Pressure - 1m\n",
    "Time - 1hr"
   ]
  },
  {
   "cell_type": "markdown",
   "metadata": {},
   "source": [
    "__pyversion__==3.6   \n",
    "__author__==S.Bell"
   ]
  },
  {
   "cell_type": "code",
   "execution_count": 2,
   "metadata": {},
   "outputs": [
    {
     "name": "stdout",
     "output_type": "stream",
     "text": [
      "Last run 2018-10-10 15:24:43.877150\n"
     ]
    }
   ],
   "source": [
    "import datetime\n",
    "print(\"Last run {0}\".format(datetime.datetime.now()))"
   ]
  },
  {
   "cell_type": "markdown",
   "metadata": {},
   "source": [
    "### connecting and basic information"
   ]
  },
  {
   "cell_type": "code",
   "execution_count": 3,
   "metadata": {},
   "outputs": [],
   "source": [
    "import warnings\n",
    "#remove the numpy/pandas/cython warnings\n",
    "warnings.filterwarnings(action='ignore', message=\"numpy.dtype size changed,\")\n",
    "\n",
    "from erddapy import ERDDAP\n",
    "import pandas as pd\n",
    "import numpy as np\n",
    "\n",
    "server_url = 'http://downdraft.pmel.noaa.gov:8080/erddap'\n",
    "\n",
    "e = ERDDAP(server=server_url)"
   ]
  },
  {
   "cell_type": "code",
   "execution_count": 4,
   "metadata": {},
   "outputs": [],
   "source": [
    "df = pd.read_csv(e.get_search_url(response='csv', search_for='PRAWLER'))"
   ]
  },
  {
   "cell_type": "code",
   "execution_count": 5,
   "metadata": {},
   "outputs": [
    {
     "data": {
      "text/plain": [
       "'We have 8 tabledap, 0 griddap, and 0 wms endpoints.'"
      ]
     },
     "execution_count": 5,
     "metadata": {},
     "output_type": "execute_result"
    }
   ],
   "source": [
    "'We have {} tabledap, {} griddap, and {} wms endpoints.'.format(\n",
    "    len(set(df['tabledap'].dropna())),\n",
    "    len(set(df['griddap'].dropna())),\n",
    "    len(set(df['wms'].dropna()))\n",
    ")"
   ]
  },
  {
   "cell_type": "code",
   "execution_count": 6,
   "metadata": {},
   "outputs": [
    {
     "name": "stdout",
     "output_type": "stream",
     "text": [
      "['erddap_4fd3_fb30_b89f' 'erddap_17bsitae_prawler'\n",
      " 'erddap_17ckitaem2a_prawler' 'erddap_18bsitaepr2a_prawler'\n",
      " 'erddap_18mtitaepr1a_prawler' 'erddap_17ckitaem2a_met'\n",
      " 'erddap_18bsitaepr2a_met' 'erddap_18mtitaepr1a_met']\n"
     ]
    }
   ],
   "source": [
    "prawlers = df['Dataset ID'].values\n",
    "print(prawlers)"
   ]
  },
  {
   "cell_type": "code",
   "execution_count": 7,
   "metadata": {},
   "outputs": [
    {
     "name": "stdout",
     "output_type": "stream",
     "text": [
      "[['time', 'Chlorophyll', 'latitude', 'depth', 'Salinity', 'longitude'], ['time', 'Chlorophyll', 'latitude', 'depth', 'Salinity', 'longitude'], ['time', 'Oxy_Conc', 'Oxy_Temperature', 'Chlorophyll', 'SigmaT', 'latitude', 'depth', 'Temperature', 'Oxy_Sat', 'Salinity', 'longitude', 'Turbidity'], ['time', 'Chlorophyll', 'latitude', 'depth', 'Salinity', 'longitude'], ['time', 'Chlorophyll', 'latitude', 'depth', 'Salinity', 'longitude'], ['time', 'wind_speed', 'relative_humidity', 'northward_wind', 'wind_from_direction', 'latitude', 'air_temperature', 'air_pressure', 'longitude', 'eastward_wind'], ['time', 'wind_speed', 'relative_humidity', 'northward_wind', 'wind_from_direction', 'latitude', 'air_temperature', 'air_pressure', 'longitude', 'eastward_wind'], ['time', 'wind_speed', 'relative_humidity', 'northward_wind', 'wind_from_direction', 'latitude', 'air_temperature', 'air_pressure', 'longitude', 'eastward_wind']]\n"
     ]
    }
   ],
   "source": [
    "variables = [e.get_var_by_attr(dataset_id=prawler, standard_name=lambda v: v is not None) for prawler in prawlers]\n",
    "print(variables)"
   ]
  },
  {
   "cell_type": "markdown",
   "metadata": {},
   "source": [
    "### retrieving and plotting data"
   ]
  },
  {
   "cell_type": "code",
   "execution_count": 8,
   "metadata": {},
   "outputs": [],
   "source": [
    "d = ERDDAP(server=server_url,\n",
    "           protocol='tabledap',\n",
    "           response='csv',\n",
    "          )\n",
    "\n",
    "d.dataset_id='erddap_18bsitaepr2a_prawler'\n",
    "\n",
    "d.variables =  [\n",
    " 'profile_id',\n",
    " 'Temperature',\n",
    " 'Salinity',\n",
    " 'Chlorophyll',\n",
    " 'Turbidity',\n",
    " 'latitude',\n",
    " 'longitude',\n",
    " 'depth',\n",
    " 'time',\n",
    " 'Oxy_Conc',\n",
    " 'Oxy_Sat'\n",
    "]\n",
    "\n",
    "d.constraints = {\n",
    "    'time>=': '2018-01-01T00:00:00Z',\n",
    "    'time<=': '2018-10-10T00:00:00Z',\n",
    "    'latitude>=': 45,\n",
    "    'latitude<=': 90,\n",
    "    'longitude>=': 180,\n",
    "    'longitude<=': 210,\n",
    "    'profile_id!=': '18bsitaepr2a_met'\n",
    "}"
   ]
  },
  {
   "cell_type": "code",
   "execution_count": 9,
   "metadata": {},
   "outputs": [
    {
     "data": {
      "text/plain": [
       "'http://downdraft.pmel.noaa.gov:8080/erddap/tabledap/erddap_18bsitaepr2a_prawler.csv?profile_id,Temperature,Salinity,Chlorophyll,Turbidity,latitude,longitude,depth,time,Oxy_Conc,Oxy_Sat&time>=1514764800.0&time<=1539129600.0&latitude>=45&latitude<=90&longitude>=180&longitude<=210&profile_id!=\"18bsitaepr2a_met\"'"
      ]
     },
     "execution_count": 9,
     "metadata": {},
     "output_type": "execute_result"
    }
   ],
   "source": [
    "d.get_download_url()"
   ]
  },
  {
   "cell_type": "code",
   "execution_count": 10,
   "metadata": {},
   "outputs": [
    {
     "data": {
      "text/html": [
       "<div>\n",
       "<style scoped>\n",
       "    .dataframe tbody tr th:only-of-type {\n",
       "        vertical-align: middle;\n",
       "    }\n",
       "\n",
       "    .dataframe tbody tr th {\n",
       "        vertical-align: top;\n",
       "    }\n",
       "\n",
       "    .dataframe thead th {\n",
       "        text-align: right;\n",
       "    }\n",
       "</style>\n",
       "<table border=\"1\" class=\"dataframe\">\n",
       "  <thead>\n",
       "    <tr style=\"text-align: right;\">\n",
       "      <th></th>\n",
       "      <th>profile_id</th>\n",
       "      <th>Temperature</th>\n",
       "      <th>Salinity</th>\n",
       "      <th>Chlorophyll</th>\n",
       "      <th>Turbidity</th>\n",
       "      <th>latitude</th>\n",
       "      <th>longitude</th>\n",
       "      <th>depth</th>\n",
       "      <th>Oxy_Conc</th>\n",
       "      <th>Oxy_Sat</th>\n",
       "    </tr>\n",
       "    <tr>\n",
       "      <th>time</th>\n",
       "      <th></th>\n",
       "      <th></th>\n",
       "      <th></th>\n",
       "      <th></th>\n",
       "      <th></th>\n",
       "      <th></th>\n",
       "      <th></th>\n",
       "      <th></th>\n",
       "      <th></th>\n",
       "      <th></th>\n",
       "    </tr>\n",
       "  </thead>\n",
       "  <tbody>\n",
       "    <tr>\n",
       "      <th>2018-05-01 20:53:53</th>\n",
       "      <td>18bsitaepr2a_p0003</td>\n",
       "      <td>3.696</td>\n",
       "      <td>32.060</td>\n",
       "      <td>0.339</td>\n",
       "      <td>0.629</td>\n",
       "      <td>56.863998</td>\n",
       "      <td>195.947006</td>\n",
       "      <td>5.7</td>\n",
       "      <td>312.03460</td>\n",
       "      <td>98.69056</td>\n",
       "    </tr>\n",
       "    <tr>\n",
       "      <th>2018-05-01 20:54:01</th>\n",
       "      <td>18bsitaepr2a_p0003</td>\n",
       "      <td>3.693</td>\n",
       "      <td>32.063</td>\n",
       "      <td>0.315</td>\n",
       "      <td>0.557</td>\n",
       "      <td>56.863998</td>\n",
       "      <td>195.947006</td>\n",
       "      <td>5.6</td>\n",
       "      <td>311.99353</td>\n",
       "      <td>98.67280</td>\n",
       "    </tr>\n",
       "    <tr>\n",
       "      <th>2018-05-01 20:54:09</th>\n",
       "      <td>18bsitaepr2a_p0003</td>\n",
       "      <td>3.694</td>\n",
       "      <td>32.061</td>\n",
       "      <td>0.375</td>\n",
       "      <td>0.605</td>\n",
       "      <td>56.863998</td>\n",
       "      <td>195.947006</td>\n",
       "      <td>6.0</td>\n",
       "      <td>312.04153</td>\n",
       "      <td>98.68891</td>\n",
       "    </tr>\n",
       "    <tr>\n",
       "      <th>2018-05-01 20:54:17</th>\n",
       "      <td>18bsitaepr2a_p0003</td>\n",
       "      <td>3.686</td>\n",
       "      <td>32.062</td>\n",
       "      <td>0.339</td>\n",
       "      <td>0.605</td>\n",
       "      <td>56.863998</td>\n",
       "      <td>195.947006</td>\n",
       "      <td>5.9</td>\n",
       "      <td>312.03372</td>\n",
       "      <td>98.66802</td>\n",
       "    </tr>\n",
       "    <tr>\n",
       "      <th>2018-05-01 20:54:25</th>\n",
       "      <td>18bsitaepr2a_p0003</td>\n",
       "      <td>3.699</td>\n",
       "      <td>32.060</td>\n",
       "      <td>0.327</td>\n",
       "      <td>0.920</td>\n",
       "      <td>56.863998</td>\n",
       "      <td>195.947006</td>\n",
       "      <td>5.8</td>\n",
       "      <td>312.02933</td>\n",
       "      <td>98.69614</td>\n",
       "    </tr>\n",
       "  </tbody>\n",
       "</table>\n",
       "</div>"
      ],
      "text/plain": [
       "                             profile_id  Temperature  Salinity  Chlorophyll  \\\n",
       "time                                                                          \n",
       "2018-05-01 20:53:53  18bsitaepr2a_p0003        3.696    32.060        0.339   \n",
       "2018-05-01 20:54:01  18bsitaepr2a_p0003        3.693    32.063        0.315   \n",
       "2018-05-01 20:54:09  18bsitaepr2a_p0003        3.694    32.061        0.375   \n",
       "2018-05-01 20:54:17  18bsitaepr2a_p0003        3.686    32.062        0.339   \n",
       "2018-05-01 20:54:25  18bsitaepr2a_p0003        3.699    32.060        0.327   \n",
       "\n",
       "                     Turbidity   latitude   longitude  depth   Oxy_Conc  \\\n",
       "time                                                                      \n",
       "2018-05-01 20:53:53      0.629  56.863998  195.947006    5.7  312.03460   \n",
       "2018-05-01 20:54:01      0.557  56.863998  195.947006    5.6  311.99353   \n",
       "2018-05-01 20:54:09      0.605  56.863998  195.947006    6.0  312.04153   \n",
       "2018-05-01 20:54:17      0.605  56.863998  195.947006    5.9  312.03372   \n",
       "2018-05-01 20:54:25      0.920  56.863998  195.947006    5.8  312.02933   \n",
       "\n",
       "                      Oxy_Sat  \n",
       "time                           \n",
       "2018-05-01 20:53:53  98.69056  \n",
       "2018-05-01 20:54:01  98.67280  \n",
       "2018-05-01 20:54:09  98.68891  \n",
       "2018-05-01 20:54:17  98.66802  \n",
       "2018-05-01 20:54:25  98.69614  "
      ]
     },
     "execution_count": 10,
     "metadata": {},
     "output_type": "execute_result"
    }
   ],
   "source": [
    "df = d.to_pandas(\n",
    "    index_col='time',\n",
    "    parse_dates=True,\n",
    "    skiprows=(1,)  # units information can be dropped.\n",
    ").dropna()\n",
    "\n",
    "df.head()"
   ]
  },
  {
   "cell_type": "code",
   "execution_count": 11,
   "metadata": {},
   "outputs": [
    {
     "data": {
      "text/html": [
       "<div>\n",
       "<style scoped>\n",
       "    .dataframe tbody tr th:only-of-type {\n",
       "        vertical-align: middle;\n",
       "    }\n",
       "\n",
       "    .dataframe tbody tr th {\n",
       "        vertical-align: top;\n",
       "    }\n",
       "\n",
       "    .dataframe thead th {\n",
       "        text-align: right;\n",
       "    }\n",
       "</style>\n",
       "<table border=\"1\" class=\"dataframe\">\n",
       "  <thead>\n",
       "    <tr style=\"text-align: right;\">\n",
       "      <th></th>\n",
       "      <th>profile_id</th>\n",
       "      <th>Temperature</th>\n",
       "      <th>Salinity</th>\n",
       "      <th>Chlorophyll</th>\n",
       "      <th>Turbidity</th>\n",
       "      <th>latitude</th>\n",
       "      <th>longitude</th>\n",
       "      <th>depth</th>\n",
       "      <th>Oxy_Conc</th>\n",
       "      <th>Oxy_Sat</th>\n",
       "    </tr>\n",
       "    <tr>\n",
       "      <th>time</th>\n",
       "      <th></th>\n",
       "      <th></th>\n",
       "      <th></th>\n",
       "      <th></th>\n",
       "      <th></th>\n",
       "      <th></th>\n",
       "      <th></th>\n",
       "      <th></th>\n",
       "      <th></th>\n",
       "      <th></th>\n",
       "    </tr>\n",
       "  </thead>\n",
       "  <tbody>\n",
       "    <tr>\n",
       "      <th>2018-10-01 20:07:09</th>\n",
       "      <td>18bsitaepr2a_p5193</td>\n",
       "      <td>5.227</td>\n",
       "      <td>32.155</td>\n",
       "      <td>0.799</td>\n",
       "      <td>98.736</td>\n",
       "      <td>56.863998</td>\n",
       "      <td>195.947006</td>\n",
       "      <td>40.8</td>\n",
       "      <td>265.70862</td>\n",
       "      <td>87.25975</td>\n",
       "    </tr>\n",
       "    <tr>\n",
       "      <th>2018-10-01 20:07:17</th>\n",
       "      <td>18bsitaepr2a_p5193</td>\n",
       "      <td>5.199</td>\n",
       "      <td>32.140</td>\n",
       "      <td>0.230</td>\n",
       "      <td>1.573</td>\n",
       "      <td>56.863998</td>\n",
       "      <td>195.947006</td>\n",
       "      <td>42.6</td>\n",
       "      <td>255.78642</td>\n",
       "      <td>83.93611</td>\n",
       "    </tr>\n",
       "    <tr>\n",
       "      <th>2018-10-01 20:07:25</th>\n",
       "      <td>18bsitaepr2a_p5193</td>\n",
       "      <td>5.172</td>\n",
       "      <td>32.082</td>\n",
       "      <td>0.230</td>\n",
       "      <td>13.286</td>\n",
       "      <td>56.863998</td>\n",
       "      <td>195.947006</td>\n",
       "      <td>43.7</td>\n",
       "      <td>248.74664</td>\n",
       "      <td>81.53549</td>\n",
       "    </tr>\n",
       "    <tr>\n",
       "      <th>2018-10-01 20:07:33</th>\n",
       "      <td>18bsitaepr2a_p5193</td>\n",
       "      <td>5.164</td>\n",
       "      <td>32.055</td>\n",
       "      <td>0.194</td>\n",
       "      <td>3.073</td>\n",
       "      <td>56.863998</td>\n",
       "      <td>195.947006</td>\n",
       "      <td>45.0</td>\n",
       "      <td>241.93170</td>\n",
       "      <td>79.26952</td>\n",
       "    </tr>\n",
       "    <tr>\n",
       "      <th>2018-10-01 20:07:41</th>\n",
       "      <td>18bsitaepr2a_p5193</td>\n",
       "      <td>5.173</td>\n",
       "      <td>32.034</td>\n",
       "      <td>0.218</td>\n",
       "      <td>1.186</td>\n",
       "      <td>56.863998</td>\n",
       "      <td>195.947006</td>\n",
       "      <td>45.4</td>\n",
       "      <td>236.68439</td>\n",
       "      <td>77.55346</td>\n",
       "    </tr>\n",
       "  </tbody>\n",
       "</table>\n",
       "</div>"
      ],
      "text/plain": [
       "                             profile_id  Temperature  Salinity  Chlorophyll  \\\n",
       "time                                                                          \n",
       "2018-10-01 20:07:09  18bsitaepr2a_p5193        5.227    32.155        0.799   \n",
       "2018-10-01 20:07:17  18bsitaepr2a_p5193        5.199    32.140        0.230   \n",
       "2018-10-01 20:07:25  18bsitaepr2a_p5193        5.172    32.082        0.230   \n",
       "2018-10-01 20:07:33  18bsitaepr2a_p5193        5.164    32.055        0.194   \n",
       "2018-10-01 20:07:41  18bsitaepr2a_p5193        5.173    32.034        0.218   \n",
       "\n",
       "                     Turbidity   latitude   longitude  depth   Oxy_Conc  \\\n",
       "time                                                                      \n",
       "2018-10-01 20:07:09     98.736  56.863998  195.947006   40.8  265.70862   \n",
       "2018-10-01 20:07:17      1.573  56.863998  195.947006   42.6  255.78642   \n",
       "2018-10-01 20:07:25     13.286  56.863998  195.947006   43.7  248.74664   \n",
       "2018-10-01 20:07:33      3.073  56.863998  195.947006   45.0  241.93170   \n",
       "2018-10-01 20:07:41      1.186  56.863998  195.947006   45.4  236.68439   \n",
       "\n",
       "                      Oxy_Sat  \n",
       "time                           \n",
       "2018-10-01 20:07:09  87.25975  \n",
       "2018-10-01 20:07:17  83.93611  \n",
       "2018-10-01 20:07:25  81.53549  \n",
       "2018-10-01 20:07:33  79.26952  \n",
       "2018-10-01 20:07:41  77.55346  "
      ]
     },
     "execution_count": 11,
     "metadata": {},
     "output_type": "execute_result"
    }
   ],
   "source": [
    "df.tail()"
   ]
  },
  {
   "cell_type": "markdown",
   "metadata": {},
   "source": [
    "### Interpolating and Gridding"
   ]
  },
  {
   "cell_type": "markdown",
   "metadata": {},
   "source": [
    "#### Gridding Parameters\n",
    "\n",
    "Set pressure interval to 1m and build a grid from 0-50m"
   ]
  },
  {
   "cell_type": "code",
   "execution_count": 13,
   "metadata": {},
   "outputs": [],
   "source": [
    "### vertically grid data to evenly space gridspoints\n",
    "# deployment depth has a maximum value - set at 50 generically\n",
    "interval = 1 #m\n",
    "press_grid = np.arange(0,50,interval) #1m"
   ]
  },
  {
   "cell_type": "markdown",
   "metadata": {},
   "source": [
    "#### Temperature\n",
    "\n",
    "We need to isolate the calibration park&holds first and remove them from the gridded analysis for Temperature/Salinity/Chlorophyl/Turbidity\n",
    "We may wish to use them for the oxygen."
   ]
  },
  {
   "cell_type": "code",
   "execution_count": 14,
   "metadata": {},
   "outputs": [],
   "source": [
    "#groupby profile id\n",
    "dfsg = df.groupby('profile_id')"
   ]
  },
  {
   "cell_type": "code",
   "execution_count": 39,
   "metadata": {},
   "outputs": [
    {
     "name": "stdout",
     "output_type": "stream",
     "text": [
      "(array([], dtype=int64),)\n",
      "(array([], dtype=int64),)\n",
      "(array([], dtype=int64),)\n",
      "(array([1, 2]),)\n",
      "(array([0, 3, 4]),)\n",
      "(array([5]),)\n",
      "(array([6]),)\n",
      "(array([7]),)\n",
      "(array([8]),)\n",
      "(array([9]),)\n",
      "(array([10]),)\n",
      "(array([11]),)\n",
      "(array([12]),)\n",
      "(array([13]),)\n",
      "(array([14]),)\n",
      "(array([15]),)\n",
      "(array([], dtype=int64),)\n",
      "(array([16]),)\n",
      "(array([17]),)\n",
      "(array([18]),)\n",
      "(array([19]),)\n",
      "(array([20]),)\n",
      "(array([], dtype=int64),)\n",
      "(array([21]),)\n",
      "(array([22]),)\n",
      "(array([23]),)\n",
      "(array([], dtype=int64),)\n",
      "(array([24]),)\n",
      "(array([25]),)\n",
      "(array([], dtype=int64),)\n",
      "(array([26]),)\n",
      "(array([27]),)\n",
      "(array([], dtype=int64),)\n",
      "(array([28]),)\n",
      "(array([29]),)\n",
      "(array([], dtype=int64),)\n",
      "(array([30]),)\n",
      "(array([31]),)\n",
      "(array([], dtype=int64),)\n",
      "(array([32]),)\n",
      "(array([33]),)\n",
      "(array([], dtype=int64),)\n",
      "(array([34]),)\n",
      "(array([35]),)\n",
      "(array([36]),)\n",
      "(array([37]),)\n",
      "(array([], dtype=int64),)\n",
      "(array([], dtype=int64),)\n",
      "(array([], dtype=int64),)\n",
      "(array([], dtype=int64),)\n"
     ]
    }
   ],
   "source": [
    "cast = '18bsitaepr2a_p5193' \n",
    "\n",
    "if np.std(dfsg.get_group(cast)['depth']) <= 1.0:\n",
    "    cal_profile = True\n",
    "else:\n",
    "    cal_profile = False\n",
    "\n",
    "for pg in press_grid:\n",
    "    \"\"\" Take the median value if multiple samples occur within same depth bin\"\"\"\n",
    "    if not cal_profile:\n",
    "        ireg_ind = np.where((dfsg.get_group(cast)['depth'] > pg) & (dfsg.get_group(cast)['depth'] <= pg+interval))\n",
    "        print(ireg_ind)\n"
   ]
  },
  {
   "cell_type": "code",
   "execution_count": null,
   "metadata": {},
   "outputs": [],
   "source": []
  }
 ],
 "metadata": {
  "kernelspec": {
   "display_name": "Python [conda env:py36]",
   "language": "python",
   "name": "conda-env-py36-py"
  },
  "language_info": {
   "codemirror_mode": {
    "name": "ipython",
    "version": 3
   },
   "file_extension": ".py",
   "mimetype": "text/x-python",
   "name": "python",
   "nbconvert_exporter": "python",
   "pygments_lexer": "ipython3",
   "version": "3.6.6"
  }
 },
 "nbformat": 4,
 "nbformat_minor": 2
}
