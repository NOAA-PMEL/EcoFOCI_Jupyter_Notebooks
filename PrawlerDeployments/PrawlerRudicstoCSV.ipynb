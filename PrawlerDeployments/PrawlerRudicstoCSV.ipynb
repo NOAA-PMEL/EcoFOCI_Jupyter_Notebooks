{
 "cells": [
  {
   "cell_type": "markdown",
   "metadata": {},
   "source": [
    "## Rudics Prawler Parser -> CSV for erddap"
   ]
  },
  {
   "cell_type": "code",
   "execution_count": 11,
   "metadata": {},
   "outputs": [],
   "source": [
    "import os\n",
    "import glob #python >= 3.5\n",
    "\n",
    "import datetime\n",
    "\n",
    "import pandas as pd\n",
    "\n",
    "import seawater as sw\n",
    "import calc.aanderaa_corrO2_sal as optode_O2_corr"
   ]
  },
  {
   "cell_type": "code",
   "execution_count": 12,
   "metadata": {},
   "outputs": [],
   "source": [
    "#list id's in download path\n",
    "root_path = '/Users/bell/ecoraid/2019/Moorings/19bsitaepr2a/raw/rudics/eclipse.pmel.noaa.gov/rudics/FOCI/M002'\n",
    "\n",
    "id_dir = os.listdir(root_path)\n",
    "id_dir = sorted(id_dir)\n"
   ]
  },
  {
   "cell_type": "code",
   "execution_count": 13,
   "metadata": {},
   "outputs": [
    {
     "name": "stdout",
     "output_type": "stream",
     "text": [
      "/Users/bell/ecoraid/2019/Moorings/19bsitaepr2a/raw/rudics/eclipse.pmel.noaa.gov/rudics/FOCI/M002/CM002_05_30_2019\n",
      "/Users/bell/ecoraid/2019/Moorings/19bsitaepr2a/raw/rudics/eclipse.pmel.noaa.gov/rudics/FOCI/M002/CM002_05_31_2019\n",
      "Total Profile number:1022\n"
     ]
    }
   ],
   "source": [
    "profile_counter = 972 #0,147,184,426,697,972 : 4:2, 4:3, 5:1, 5:2, 5:3, 6:1\n",
    "month='5'\n",
    "day='3'\n",
    "\n",
    "for indfile in sorted(glob.glob(root_path+'/CM002_0['+month+']_['+day+']*')):\n",
    "    print(indfile)\n",
    "    with open(indfile) as f:\n",
    "        for line in f:\n",
    "            if ('%%' in line):\n",
    "                flag = line.split()[0]\n",
    "                if ('praw002' in line) or ('praw03' in line):\n",
    "                    profile_counter += 1\n",
    "                next(f)\n",
    "                continue\n",
    "            if not (line.strip()):\n",
    "                continue\n",
    "            if 'eng' in flag:\n",
    "                with open(\"eng.csv\", \"a\") as myfile:\n",
    "                    myfile.write(line.strip()+'\\n')\n",
    "            if 'GPS' in flag:\n",
    "                with open(\"gps.csv\", \"a\") as myfile:\n",
    "                    myfile.write(line.strip()+'\\n')\n",
    "            if 'BARO' in flag:\n",
    "                with open(\"baro.csv\", \"a\") as myfile:\n",
    "                    myfile.write(line.strip()+'\\n')\n",
    "            if 'ATRH' in flag:\n",
    "                with open(\"atrh.csv\", \"a\") as myfile:\n",
    "                    myfile.write(line.strip()+'\\n')\n",
    "            if 'WIND' in flag:\n",
    "                with open(\"wind.csv\", \"a\") as myfile:\n",
    "                    myfile.write(line.strip()+'\\n')\n",
    "            if 'praw002' in flag:\n",
    "                with open(\"praw002.csv\", \"a\") as myfile:\n",
    "                    myfile.write(str(profile_counter) + ','+line.strip()+'\\n')        \n",
    "            if 'praw03' in flag:\n",
    "                with open(\"praw03.csv\", \"a\") as myfile:\n",
    "                    myfile.write(str(profile_counter) + ','+line.strip()+'\\n')  \n",
    "                    \n",
    "print(\"Total Profile number:{profile_counter}\".format(profile_counter=profile_counter))"
   ]
  },
  {
   "cell_type": "code",
   "execution_count": 14,
   "metadata": {},
   "outputs": [],
   "source": [
    "### apply corrections to raw prawler data, merge met data\n",
    "# a gps line gets put into the atrh file?\n",
    "\n",
    "atrh = pd.read_csv('atrh.csv',header=None,names=['datetime','RH','AT'],\n",
    "                   parse_dates=True,index_col='datetime')\n",
    "\n",
    "wind = pd.read_csv('wind.csv',header=None,names=['datetime','U','USD','V','VSD'],\n",
    "                   parse_dates=True,index_col='datetime')\n",
    "\n",
    "baro = pd.read_csv('baro.csv',header=None,names=['datetime','BP'],\n",
    "                   parse_dates=True,index_col='datetime')"
   ]
  },
  {
   "cell_type": "code",
   "execution_count": 15,
   "metadata": {},
   "outputs": [],
   "source": [
    "#concat and save\n",
    "metdata = pd.concat([baro, wind, atrh], axis=1, sort=False)\n",
    "metdata['id']='19BSITAEPR2A'\n",
    "metdata['dep_lat']=56.873\n",
    "metdata['dep_lon']=-164.065\n",
    "\n",
    "## simple qc\n",
    "metdata=metdata[(metdata['AT']!='U')&(metdata['AT']!='D')]"
   ]
  },
  {
   "cell_type": "code",
   "execution_count": 16,
   "metadata": {},
   "outputs": [
    {
     "data": {
      "text/plain": [
       "\"p03 = pd.read_csv('praw03.csv',header=None,\\n                  names=['profilenumber','datetime','CD','CT','CC','OT','02','CH','TB'],\\n                   parse_dates=True,index_col='datetime')\\n\\n## simple qc\\np03=p03[(p03.index>='2000') & (p03.index<=datetime.datetime.now().strftime('%Y-%m-%d'))]\\np03.index = pd.to_datetime(p03.index)\\n\\n\""
      ]
     },
     "execution_count": 16,
     "metadata": {},
     "output_type": "execute_result"
    }
   ],
   "source": [
    "\"\"\"p03 = pd.read_csv('praw03.csv',header=None,\n",
    "                  names=['profilenumber','datetime','CD','CT','CC','OT','02','CH','TB'],\n",
    "                   parse_dates=True,index_col='datetime')\n",
    "\n",
    "## simple qc\n",
    "p03=p03[(p03.index>='2000') & (p03.index<=datetime.datetime.now().strftime('%Y-%m-%d'))]\n",
    "p03.index = pd.to_datetime(p03.index)\n",
    "\n",
    "\"\"\""
   ]
  },
  {
   "cell_type": "code",
   "execution_count": 17,
   "metadata": {},
   "outputs": [],
   "source": [
    "p02 = pd.read_csv('praw002.csv',header=None,\n",
    "                  names=['profilenumber','datetime','CD','CT','CC','OT','02','CH','TB'],\n",
    "                   parse_dates=True,index_col='datetime')\n",
    "\n",
    "## simple qc\n",
    "p02=p02[(p02.index>='2000') & (p02.index<='2030')]\n",
    "p02.index = pd.to_datetime(p02.index)"
   ]
  },
  {
   "cell_type": "code",
   "execution_count": 18,
   "metadata": {},
   "outputs": [
    {
     "data": {
      "text/plain": [
       "\"#initial deployment of instrument\\np03.CD = p03.CD/100\\np03.CT = p03.CT/1000\\np03.CC = p03.CC/1000\\np03.OT = p03.OT/1000\\np03['02'] = p03['02']/100\\n### blocked sensor\\np03.CH = (p03.CH-50)*0.0\\np03.TB = (p03.TB-50)*0.0\\n# convert cond to salinity\\np03['S'] = sw.salt(r=p03.CC/42.914,t=p03.CT,p=p03.CD)\\n\\n### convert cond to salinity\\np03.S = sw.salt(r=p03.CC/42.914,t=p03.CT,p=p03.CD)\\n### sal correct and convert oxygen\\np03['O2_corr'] = optode_O2_corr.O2_sal_comp(oxygen_conc=p03['02'],\\n                                     salinity=p03.S,\\n                                     temperature=p03.CT)\\np03['O2_corr_umkg'] = optode_O2_corr.O2_molar2umkg(oxygen_conc=p03.O2_corr,\\n                                     salinity=p03.S,\\n                                     temperature=p03.CT,\\n                                     pressure=p03.CD)\\n\\np03['O2PercentSat'] = optode_O2_corr.O2PercentSat(oxygen_conc=p03.O2_corr_umkg,\\n                                     salinity=p03.S,\\n                                     temperature=p03.CT,\\n                                     pressure=p03.CD)\\n\\np03['dep_lat']=56.873\\np03['dep_lon']=-164.065\\n                        \""
      ]
     },
     "execution_count": 18,
     "metadata": {},
     "output_type": "execute_result"
    }
   ],
   "source": [
    "\"\"\"#initial deployment of instrument\n",
    "p03.CD = p03.CD/100\n",
    "p03.CT = p03.CT/1000\n",
    "p03.CC = p03.CC/1000\n",
    "p03.OT = p03.OT/1000\n",
    "p03['02'] = p03['02']/100\n",
    "### blocked sensor\n",
    "p03.CH = (p03.CH-50)*0.0\n",
    "p03.TB = (p03.TB-50)*0.0\n",
    "# convert cond to salinity\n",
    "p03['S'] = sw.salt(r=p03.CC/42.914,t=p03.CT,p=p03.CD)\n",
    "\n",
    "### convert cond to salinity\n",
    "p03.S = sw.salt(r=p03.CC/42.914,t=p03.CT,p=p03.CD)\n",
    "### sal correct and convert oxygen\n",
    "p03['O2_corr'] = optode_O2_corr.O2_sal_comp(oxygen_conc=p03['02'],\n",
    "                                     salinity=p03.S,\n",
    "                                     temperature=p03.CT)\n",
    "p03['O2_corr_umkg'] = optode_O2_corr.O2_molar2umkg(oxygen_conc=p03.O2_corr,\n",
    "                                     salinity=p03.S,\n",
    "                                     temperature=p03.CT,\n",
    "                                     pressure=p03.CD)\n",
    "\n",
    "p03['O2PercentSat'] = optode_O2_corr.O2PercentSat(oxygen_conc=p03.O2_corr_umkg,\n",
    "                                     salinity=p03.S,\n",
    "                                     temperature=p03.CT,\n",
    "                                     pressure=p03.CD)\n",
    "\n",
    "p03['dep_lat']=56.873\n",
    "p03['dep_lon']=-164.065\n",
    "                        \"\"\""
   ]
  },
  {
   "cell_type": "code",
   "execution_count": 19,
   "metadata": {},
   "outputs": [],
   "source": [
    "#redeployment of instrument\n",
    "p02.CD = p02.CD/100\n",
    "p02.CT = p02.CT/1000\n",
    "p02.CC = p02.CC/1000\n",
    "p02.OT = p02.OT/1000\n",
    "p02['02'] = p02['02']/100\n",
    "p02.CH = (p02.CH-50)*0.0122\n",
    "p02.TB = (p02.TB-50)*0.0247\n",
    "# convert cond to salinity\n",
    "p02['S'] = sw.salt(r=p02.CC/42.914,t=p02.CT,p=p02.CD)\n",
    "\n",
    "### sal correct and convert oxygen\n",
    "p02['O2_corr'] = optode_O2_corr.O2_sal_comp(oxygen_conc=p02['02'],\n",
    "                                     salinity=p02.S,\n",
    "                                     temperature=p02.CT)\n",
    "p02['O2_corr_umkg'] = optode_O2_corr.O2_molar2umkg(oxygen_conc=p02.O2_corr,\n",
    "                                     salinity=p02.S,\n",
    "                                     temperature=p02.CT,\n",
    "                                     pressure=p02.CD)\n",
    "\n",
    "p02['O2PercentSat'] = optode_O2_corr.O2PercentSat(oxygen_conc=p02.O2_corr_umkg,\n",
    "                                     salinity=p02.S,\n",
    "                                     temperature=p02.CT,\n",
    "                                     pressure=p02.CD)\n",
    "\n",
    "p02['dep_lat']=56.873\n",
    "p02['dep_lon']=-164.065"
   ]
  },
  {
   "cell_type": "code",
   "execution_count": 20,
   "metadata": {},
   "outputs": [],
   "source": [
    "current_date = datetime.date.today().strftime('%Y%m%d')\n",
    "\"\"\"p03.to_csv('19BSITAEPR2A_p03_20190'+month+'.'+day+'.csv', \n",
    "            date_format='%Y-%m-%dT%H:%M:%SZ')\"\"\"\n",
    "p02.to_csv('19BSITAEPR2A_p02_20190'+month+'.'+day+'.csv', \n",
    "           date_format='%Y-%m-%d %H:%M:%S')\n",
    "metdata.to_csv('19BSITAEPR2A_met_20190'+month+'.'+day+'.csv', \n",
    "               date_format='%Y-%m-%d %H:%M:%S')"
   ]
  },
  {
   "cell_type": "code",
   "execution_count": null,
   "metadata": {},
   "outputs": [],
   "source": []
  }
 ],
 "metadata": {
  "kernelspec": {
   "display_name": "Python [conda env:py37]",
   "language": "python",
   "name": "conda-env-py37-py"
  },
  "language_info": {
   "codemirror_mode": {
    "name": "ipython",
    "version": 3
   },
   "file_extension": ".py",
   "mimetype": "text/x-python",
   "name": "python",
   "nbconvert_exporter": "python",
   "pygments_lexer": "ipython3",
   "version": "3.7.3"
  }
 },
 "nbformat": 4,
 "nbformat_minor": 2
}
