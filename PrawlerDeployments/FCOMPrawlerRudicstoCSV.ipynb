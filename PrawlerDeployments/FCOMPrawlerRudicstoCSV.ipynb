{
 "cells": [
  {
   "cell_type": "markdown",
   "metadata": {},
   "source": [
    "## FCOM Rudics Prawler Parser -> CSV for erddap\n",
    "\n",
    "- 2019 Arctic Mooring"
   ]
  },
  {
   "cell_type": "code",
   "execution_count": 9,
   "metadata": {},
   "outputs": [],
   "source": [
    "import os\n",
    "import glob #python >= 3.5\n",
    "\n",
    "import datetime\n",
    "\n",
    "import pandas as pd\n",
    "\n",
    "import seawater as sw\n",
    "import calc.aanderaa_corrO2_sal as optode_O2_corr"
   ]
  },
  {
   "cell_type": "code",
   "execution_count": 10,
   "metadata": {},
   "outputs": [],
   "source": [
    "#list id's in download path\n",
    "root_path = '/Users/bell/ecoraid/2019/Moorings/19ckitaepr2a/raw/rudics/eclipse.pmel.noaa.gov/rudics/TELO/F001'\n",
    "\n",
    "id_dir = os.listdir(root_path)\n",
    "id_dir = sorted(id_dir)\n"
   ]
  },
  {
   "cell_type": "code",
   "execution_count": 11,
   "metadata": {},
   "outputs": [
    {
     "name": "stdout",
     "output_type": "stream",
     "text": [
      "/Users/bell/ecoraid/2019/Moorings/19ckitaepr2a/raw/rudics/eclipse.pmel.noaa.gov/rudics/TELO/F001/CF001_08_10_2019\n",
      "/Users/bell/ecoraid/2019/Moorings/19ckitaepr2a/raw/rudics/eclipse.pmel.noaa.gov/rudics/TELO/F001/CF001_08_11_2019\n",
      "/Users/bell/ecoraid/2019/Moorings/19ckitaepr2a/raw/rudics/eclipse.pmel.noaa.gov/rudics/TELO/F001/CF001_08_12_2019\n",
      "/Users/bell/ecoraid/2019/Moorings/19ckitaepr2a/raw/rudics/eclipse.pmel.noaa.gov/rudics/TELO/F001/CF001_08_13_2019\n",
      "/Users/bell/ecoraid/2019/Moorings/19ckitaepr2a/raw/rudics/eclipse.pmel.noaa.gov/rudics/TELO/F001/CF001_08_14_2019\n",
      "/Users/bell/ecoraid/2019/Moorings/19ckitaepr2a/raw/rudics/eclipse.pmel.noaa.gov/rudics/TELO/F001/CF001_08_15_2019\n",
      "/Users/bell/ecoraid/2019/Moorings/19ckitaepr2a/raw/rudics/eclipse.pmel.noaa.gov/rudics/TELO/F001/CF001_08_16_2019\n",
      "/Users/bell/ecoraid/2019/Moorings/19ckitaepr2a/raw/rudics/eclipse.pmel.noaa.gov/rudics/TELO/F001/CF001_08_17_2019\n",
      "/Users/bell/ecoraid/2019/Moorings/19ckitaepr2a/raw/rudics/eclipse.pmel.noaa.gov/rudics/TELO/F001/CF001_08_18_2019\n",
      "/Users/bell/ecoraid/2019/Moorings/19ckitaepr2a/raw/rudics/eclipse.pmel.noaa.gov/rudics/TELO/F001/CF001_08_19_2019\n",
      "Total Profile number:22\n"
     ]
    }
   ],
   "source": [
    "profile_counter = 0 \n",
    "# 19ckitaepr-2a \n",
    "#0,22\n",
    "#  8:1\n",
    "month='8'\n",
    "day='1'\n",
    "\n",
    "for indfile in sorted(glob.glob(root_path+'/CF001_0['+month+']_['+day+']*')):\n",
    "    print(indfile)\n",
    "    with open(indfile) as f:\n",
    "        for line in f:\n",
    "            if ('%%' in line):\n",
    "                flag = line.split()[0]\n",
    "                if ('PRAWC_F001' in line):\n",
    "                    profile_counter += 1\n",
    "                next(f)\n",
    "                continue\n",
    "            if not (line.strip()):\n",
    "                continue\n",
    "            if 'PRAWE_F001' in flag:\n",
    "                with open(\"eng.csv\", \"a\") as myfile:\n",
    "                    myfile.write(line.strip()+'\\n')\n",
    "            if 'GPS_F001' in flag:\n",
    "                with open(\"gps.csv\", \"a\") as myfile:\n",
    "                    myfile.write(line.strip()+'\\n')\n",
    "\n",
    "            if 'PRAWC_F001' in flag:\n",
    "                with open(\"PRAWC_F001.csv\", \"a\") as myfile:\n",
    "                    myfile.write(str(profile_counter) + ','+line.strip()+'\\n')        \n",
    " \n",
    "                    \n",
    "print(\"Total Profile number:{profile_counter}\".format(profile_counter=profile_counter))"
   ]
  },
  {
   "cell_type": "code",
   "execution_count": 12,
   "metadata": {},
   "outputs": [
    {
     "data": {
      "text/plain": [
       "'2019-08-19T23:18:22Z,004,D,10,08,15,005,031,250,09000,00196,00047,0448,0000,0,0,0,1\\n'"
      ]
     },
     "execution_count": 12,
     "metadata": {},
     "output_type": "execute_result"
    }
   ],
   "source": [
    "line"
   ]
  },
  {
   "cell_type": "code",
   "execution_count": 13,
   "metadata": {},
   "outputs": [],
   "source": [
    "FCOM001 = pd.read_csv('PRAWC_F001.csv',header=None,\n",
    "                  names=['profilenumber','ep','CD','CT','CC','OT','02','CH','TB'])\n",
    "\n",
    "FCOM001['datetime'] = pd.to_datetime([int(x,16) for x in FCOM001.ep], unit='s')\n",
    "FCOM001.set_index(pd.DatetimeIndex(FCOM001['datetime']),inplace=True)\n",
    "FCOM001 = FCOM001.drop(['datetime'], axis=1)\n"
   ]
  },
  {
   "cell_type": "code",
   "execution_count": 14,
   "metadata": {},
   "outputs": [],
   "source": [
    "#redeployment of instrument\n",
    "FCOM001.CD = FCOM001.CD\n",
    "FCOM001.CT = FCOM001.CT\n",
    "FCOM001.CC = FCOM001.CC\n",
    "FCOM001.OT = FCOM001.OT\n",
    "FCOM001['02'] = FCOM001['02']\n",
    "#---\n",
    "FCOM001.CH = (FCOM001.CH-60)*0.0226\n",
    "#FCOM001.CH = (FCOM001.CH)\n",
    "FCOM001.TB = (FCOM001.TB-51)*0.2022\n",
    "#FCOM001.TB = FCOM001.TB\n",
    "#---\n",
    "# convert cond to salinity\n",
    "FCOM001['S'] = sw.salt(r=FCOM001.CC/4.2914,t=FCOM001.CT,p=FCOM001.CD)\n",
    "\n",
    "### sal correct and convert oxygen\n",
    "FCOM001['O2_corr'] = optode_O2_corr.O2_sal_comp(oxygen_conc=FCOM001['02'],\n",
    "                                     salinity=FCOM001.S,\n",
    "                                     temperature=FCOM001.CT)\n",
    "FCOM001['O2_corr_umkg'] = optode_O2_corr.O2_molar2umkg(oxygen_conc=FCOM001.O2_corr,\n",
    "                                     salinity=FCOM001.S,\n",
    "                                     temperature=FCOM001.CT,\n",
    "                                     pressure=FCOM001.CD)\n",
    "\n",
    "FCOM001['O2PercentSat'] = optode_O2_corr.O2PercentSat(oxygen_conc=FCOM001.O2_corr_umkg,\n",
    "                                     salinity=FCOM001.S,\n",
    "                                     temperature=FCOM001.CT,\n",
    "                                     pressure=FCOM001.CD)\n",
    "\n",
    "FCOM001['dep_lat']=71.2167\n",
    "FCOM001['dep_lon']=-164.25"
   ]
  },
  {
   "cell_type": "code",
   "execution_count": 15,
   "metadata": {},
   "outputs": [],
   "source": [
    "current_date = datetime.date.today().strftime('%Y%m%d')\n",
    "\n",
    "FCOM001.to_csv('19CKITAEPR2A_FCOM001_20190'+month+'.'+day+'.csv', \n",
    "           date_format='%Y-%m-%d %H:%M:%S')"
   ]
  },
  {
   "cell_type": "code",
   "execution_count": null,
   "metadata": {},
   "outputs": [],
   "source": []
  }
 ],
 "metadata": {
  "kernelspec": {
   "display_name": "Python [conda env:py37]",
   "language": "python",
   "name": "conda-env-py37-py"
  },
  "language_info": {
   "codemirror_mode": {
    "name": "ipython",
    "version": 3
   },
   "file_extension": ".py",
   "mimetype": "text/x-python",
   "name": "python",
   "nbconvert_exporter": "python",
   "pygments_lexer": "ipython3",
   "version": "3.7.3"
  }
 },
 "nbformat": 4,
 "nbformat_minor": 4
}
