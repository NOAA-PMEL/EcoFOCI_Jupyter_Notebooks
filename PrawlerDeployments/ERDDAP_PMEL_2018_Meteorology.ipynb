{
 "cells": [
  {
   "cell_type": "markdown",
   "metadata": {},
   "source": [
    "## SFC Meteorology Obs from:\n",
    "** - 2018 St Matt's (MTITAEPR-1A) **   \n",
    "** - 2018 M2 (BSITAEPR-2A) **   \n",
    "*** - 2018 M2 (BSM-2A) ***\n",
    "\n",
    "__pyversion__==3.6   \n",
    "__author__==S.Bell"
   ]
  },
  {
   "cell_type": "code",
   "execution_count": 1,
   "metadata": {},
   "outputs": [
    {
     "name": "stdout",
     "output_type": "stream",
     "text": [
      "Last run 2018-07-17 07:56:37.059294\n"
     ]
    }
   ],
   "source": [
    "import datetime\n",
    "print(\"Last run {0}\".format(datetime.datetime.now()))"
   ]
  },
  {
   "cell_type": "markdown",
   "metadata": {},
   "source": [
    "### connecting to erddap and retrieving and basic information"
   ]
  },
  {
   "cell_type": "code",
   "execution_count": 2,
   "metadata": {},
   "outputs": [],
   "source": [
    "from erddapy import ERDDAP\n",
    "import pandas as pd\n",
    "import numpy as np\n",
    "\n",
    "server_url = 'http://downdraft.pmel.noaa.gov:8080/erddap'\n",
    "\n",
    "e = ERDDAP(server=server_url)"
   ]
  },
  {
   "cell_type": "code",
   "execution_count": 3,
   "metadata": {},
   "outputs": [],
   "source": [
    "df = pd.read_csv(e.get_search_url(response='csv', search_for='a_met'))"
   ]
  },
  {
   "cell_type": "code",
   "execution_count": 4,
   "metadata": {},
   "outputs": [
    {
     "data": {
      "text/plain": [
       "'We have 3 tabledap, 0 griddap, and 0 wms endpoints.'"
      ]
     },
     "execution_count": 4,
     "metadata": {},
     "output_type": "execute_result"
    }
   ],
   "source": [
    "'We have {} tabledap, {} griddap, and {} wms endpoints.'.format(\n",
    "    len(set(df['tabledap'].dropna())),\n",
    "    len(set(df['griddap'].dropna())),\n",
    "    len(set(df['wms'].dropna()))\n",
    ")"
   ]
  },
  {
   "cell_type": "code",
   "execution_count": 5,
   "metadata": {},
   "outputs": [
    {
     "name": "stdout",
     "output_type": "stream",
     "text": [
      "['erddap_17ckitaem2a_met' 'erddap_18bsitaepr2a_met'\n",
      " 'erddap_18mtitaepr1a_met']\n"
     ]
    }
   ],
   "source": [
    "datasets = df['Dataset ID'].values\n",
    "print(datasets)"
   ]
  },
  {
   "cell_type": "code",
   "execution_count": 6,
   "metadata": {},
   "outputs": [
    {
     "name": "stdout",
     "output_type": "stream",
     "text": [
      "[['wind_speed', 'relative_humidity', 'air_temperature', 'longitude', 'wind_from_direction', 'air_pressure_at_sealevel', 'latitude', 'eastward_wind', 'time', 'northward_wind'], ['wind_speed', 'relative_humidity', 'air_temperature', 'longitude', 'wind_from_direction', 'air_pressure_at_sealevel', 'latitude', 'eastward_wind', 'time', 'northward_wind'], ['wind_speed', 'relative_humidity', 'air_temperature', 'longitude', 'wind_from_direction', 'air_pressure_at_sealevel', 'latitude', 'eastward_wind', 'time', 'northward_wind']]\n"
     ]
    }
   ],
   "source": [
    "variables = [e.get_var_by_attr(dataset_id=dataset, standard_name=lambda v: v is not None) for dataset in datasets]\n",
    "print(variables)"
   ]
  },
  {
   "cell_type": "markdown",
   "metadata": {},
   "source": [
    "### getting Peggy Buoy (BSM-2A) Data"
   ]
  },
  {
   "cell_type": "code",
   "execution_count": 7,
   "metadata": {},
   "outputs": [],
   "source": [
    "wdf = pd.read_csv('http://pavlof.pmel.noaa.gov/bell/ArgosMooring/TotalArgosMessage_28882.csv',\n",
    "                  parse_dates=True,index_col='sampletime')"
   ]
  },
  {
   "cell_type": "code",
   "execution_count": 8,
   "metadata": {},
   "outputs": [],
   "source": [
    "wdf = wdf.resample('1H').mean()"
   ]
  },
  {
   "cell_type": "markdown",
   "metadata": {},
   "source": [
    "### retrieving erddap and plotting data"
   ]
  },
  {
   "cell_type": "code",
   "execution_count": 9,
   "metadata": {},
   "outputs": [
    {
     "name": "stdout",
     "output_type": "stream",
     "text": [
      "Variables in erddap_17ckitaem2a_met:\n",
      "timeseries_id,time,wind_speed,northward_wind,latitude,longitude,air_pressure_at_sealevel,relative_humidity,air_temperature,wind_from_direction,eastward_wind\n",
      "Variables in erddap_18bsitaepr2a_met:\n",
      "timeseries_id,time,wind_speed,northward_wind,latitude,longitude,air_pressure_at_sealevel,relative_humidity,air_temperature,wind_from_direction,eastward_wind\n",
      "Variables in erddap_18mtitaepr1a_met:\n",
      "timeseries_id,time,wind_speed,northward_wind,latitude,longitude,air_pressure_at_sealevel,relative_humidity,air_temperature,wind_from_direction,eastward_wind\n"
     ]
    }
   ],
   "source": [
    "constraints = {\n",
    "    'time>=': '2017-07-10T00:00:00Z',\n",
    "    'time<=': str(datetime.datetime.today()),\n",
    "}\n",
    "\n",
    "variables = [\n",
    " 'air_pressure_at_sealevel',\n",
    " 'wind_from_direction', \n",
    " 'air_temperature',\n",
    " 'relative_humidity',\n",
    " 'northward_wind', \n",
    " 'eastward_wind', \n",
    " 'wind_speed', \n",
    " 'latitude',\n",
    " 'longitude',\n",
    " 'time'\n",
    "]\n",
    "\n",
    "variable_dic={}\n",
    "\n",
    "for index,row in df.iterrows():\n",
    "    info_url = e.get_info_url(dataset_id=row['Dataset ID'], response='csv')\n",
    "    info = pd.read_csv(info_url)\n",
    "\n",
    "    #print(info.head())\n",
    "    print('Variables in {}:'.format(row['Dataset ID']))\n",
    "    print(','.join(info.loc[info['Row Type'] == 'variable', 'Variable Name']))\n",
    "\n",
    "    variable_dic.update({row['Dataset ID']:list(info.loc[info['Row Type'] == 'variable', 'Variable Name'])})\n",
    "    "
   ]
  },
  {
   "cell_type": "code",
   "execution_count": 10,
   "metadata": {},
   "outputs": [
    {
     "name": "stdout",
     "output_type": "stream",
     "text": [
      "erddap_18bsitaepr2a_met\n",
      "erddap_18mtitaepr1a_met\n"
     ]
    },
    {
     "ename": "HTTPError",
     "evalue": "500 Server Error:  for url: http://downdraft.pmel.noaa.gov:8080/erddap/tabledap/erddap_18mtitaepr1a_met.csv?air_pressure_at_sealevel,wind_from_direction,air_temperature,relative_humidity,northward_wind,eastward_wind,wind_speed,latitude,longitude,time&time%3E=1499644800.0&time%3C=1531814198.501594",
     "output_type": "error",
     "traceback": [
      "\u001b[0;31m---------------------------------------------------------------------------\u001b[0m",
      "\u001b[0;31mHTTPError\u001b[0m                                 Traceback (most recent call last)",
      "\u001b[0;32m<ipython-input-10-885a3ebd295e>\u001b[0m in \u001b[0;36m<module>\u001b[0;34m()\u001b[0m\n\u001b[1;32m     19\u001b[0m                                 \u001b[0mindex_col\u001b[0m\u001b[0;34m=\u001b[0m\u001b[0;34m'time'\u001b[0m\u001b[0;34m,\u001b[0m\u001b[0;34m\u001b[0m\u001b[0m\n\u001b[1;32m     20\u001b[0m                                 \u001b[0mparse_dates\u001b[0m\u001b[0;34m=\u001b[0m\u001b[0;32mTrue\u001b[0m\u001b[0;34m,\u001b[0m\u001b[0;34m\u001b[0m\u001b[0m\n\u001b[0;32m---> 21\u001b[0;31m                                 \u001b[0mskiprows\u001b[0m\u001b[0;34m=\u001b[0m\u001b[0;34m(\u001b[0m\u001b[0;36m1\u001b[0m\u001b[0;34m,\u001b[0m\u001b[0;34m)\u001b[0m  \u001b[0;31m# units information can be dropped.\u001b[0m\u001b[0;34m\u001b[0m\u001b[0m\n\u001b[0m\u001b[1;32m     22\u001b[0m                                 )})\n\u001b[1;32m     23\u001b[0m \u001b[0;34m\u001b[0m\u001b[0m\n",
      "\u001b[0;32m~/anaconda2/envs/py36/lib/python3.6/site-packages/erddapy/erddapy.py\u001b[0m in \u001b[0;36mto_pandas\u001b[0;34m(self, **kw)\u001b[0m\n\u001b[1;32m    152\u001b[0m \u001b[0;34m\u001b[0m\u001b[0m\n\u001b[1;32m    153\u001b[0m         \"\"\"\n\u001b[0;32m--> 154\u001b[0;31m         \u001b[0murl\u001b[0m \u001b[0;34m=\u001b[0m \u001b[0mself\u001b[0m\u001b[0;34m.\u001b[0m\u001b[0mget_download_url\u001b[0m\u001b[0;34m(\u001b[0m\u001b[0mresponse\u001b[0m\u001b[0;34m=\u001b[0m\u001b[0;34m'csv'\u001b[0m\u001b[0;34m)\u001b[0m\u001b[0;34m\u001b[0m\u001b[0m\n\u001b[0m\u001b[1;32m    155\u001b[0m         \u001b[0;32mreturn\u001b[0m \u001b[0mpd\u001b[0m\u001b[0;34m.\u001b[0m\u001b[0mread_csv\u001b[0m\u001b[0;34m(\u001b[0m\u001b[0murlopen\u001b[0m\u001b[0;34m(\u001b[0m\u001b[0murl\u001b[0m\u001b[0;34m,\u001b[0m \u001b[0mparams\u001b[0m\u001b[0;34m=\u001b[0m\u001b[0mself\u001b[0m\u001b[0;34m.\u001b[0m\u001b[0mparams\u001b[0m\u001b[0;34m,\u001b[0m \u001b[0;34m**\u001b[0m\u001b[0mself\u001b[0m\u001b[0;34m.\u001b[0m\u001b[0mrequests_kwargs\u001b[0m\u001b[0;34m)\u001b[0m\u001b[0;34m,\u001b[0m \u001b[0;34m**\u001b[0m\u001b[0mkw\u001b[0m\u001b[0;34m)\u001b[0m\u001b[0;34m\u001b[0m\u001b[0m\n\u001b[1;32m    156\u001b[0m \u001b[0;34m\u001b[0m\u001b[0m\n",
      "\u001b[0;32m~/anaconda2/envs/py36/lib/python3.6/site-packages/erddapy/erddapy.py\u001b[0m in \u001b[0;36mget_download_url\u001b[0;34m(self, dataset_id, protocol, variables, response, constraints)\u001b[0m\n\u001b[1;32m    143\u001b[0m             \u001b[0mvariables\u001b[0m\u001b[0;34m=\u001b[0m\u001b[0mvariables\u001b[0m\u001b[0;34m,\u001b[0m\u001b[0;34m\u001b[0m\u001b[0m\n\u001b[1;32m    144\u001b[0m             \u001b[0mresponse\u001b[0m\u001b[0;34m=\u001b[0m\u001b[0mresponse\u001b[0m\u001b[0;34m,\u001b[0m\u001b[0;34m\u001b[0m\u001b[0m\n\u001b[0;32m--> 145\u001b[0;31m             \u001b[0mconstraints\u001b[0m\u001b[0;34m=\u001b[0m\u001b[0mconstraints\u001b[0m\u001b[0;34m,\u001b[0m\u001b[0;34m\u001b[0m\u001b[0m\n\u001b[0m\u001b[1;32m    146\u001b[0m             )\n\u001b[1;32m    147\u001b[0m \u001b[0;34m\u001b[0m\u001b[0m\n",
      "\u001b[0;32m~/anaconda2/envs/py36/lib/python3.6/site-packages/erddapy/url_builder.py\u001b[0m in \u001b[0;36mdownload_url\u001b[0;34m(server, dataset_id, protocol, variables, response, constraints)\u001b[0m\n\u001b[1;32m    168\u001b[0m \u001b[0;34m\u001b[0m\u001b[0m\n\u001b[1;32m    169\u001b[0m         \u001b[0murl\u001b[0m \u001b[0;34m+=\u001b[0m \u001b[0;34mf'{_constraints}'\u001b[0m\u001b[0;34m\u001b[0m\u001b[0m\n\u001b[0;32m--> 170\u001b[0;31m     \u001b[0;32mreturn\u001b[0m \u001b[0m_check_url_response\u001b[0m\u001b[0;34m(\u001b[0m\u001b[0murl\u001b[0m\u001b[0;34m)\u001b[0m\u001b[0;34m\u001b[0m\u001b[0m\n\u001b[0m",
      "\u001b[0;32m~/anaconda2/envs/py36/lib/python3.6/site-packages/erddapy/utilities.py\u001b[0m in \u001b[0;36m_check_url_response\u001b[0;34m(url, **kwargs)\u001b[0m\n\u001b[1;32m    103\u001b[0m     \u001b[0;34m\"\"\"Shortcut to `raise_for_status` instead of fetching the whole content.\"\"\"\u001b[0m\u001b[0;34m\u001b[0m\u001b[0m\n\u001b[1;32m    104\u001b[0m     \u001b[0mr\u001b[0m \u001b[0;34m=\u001b[0m \u001b[0mrequests\u001b[0m\u001b[0;34m.\u001b[0m\u001b[0mhead\u001b[0m\u001b[0;34m(\u001b[0m\u001b[0murl\u001b[0m\u001b[0;34m,\u001b[0m \u001b[0;34m**\u001b[0m\u001b[0mkwargs\u001b[0m\u001b[0;34m)\u001b[0m\u001b[0;34m\u001b[0m\u001b[0m\n\u001b[0;32m--> 105\u001b[0;31m     \u001b[0mr\u001b[0m\u001b[0;34m.\u001b[0m\u001b[0mraise_for_status\u001b[0m\u001b[0;34m(\u001b[0m\u001b[0;34m)\u001b[0m\u001b[0;34m\u001b[0m\u001b[0m\n\u001b[0m\u001b[1;32m    106\u001b[0m     \u001b[0;32mreturn\u001b[0m \u001b[0murl\u001b[0m\u001b[0;34m\u001b[0m\u001b[0m\n\u001b[1;32m    107\u001b[0m \u001b[0;34m\u001b[0m\u001b[0m\n",
      "\u001b[0;32m~/anaconda2/envs/py36/lib/python3.6/site-packages/requests/models.py\u001b[0m in \u001b[0;36mraise_for_status\u001b[0;34m(self)\u001b[0m\n\u001b[1;32m    937\u001b[0m \u001b[0;34m\u001b[0m\u001b[0m\n\u001b[1;32m    938\u001b[0m         \u001b[0;32mif\u001b[0m \u001b[0mhttp_error_msg\u001b[0m\u001b[0;34m:\u001b[0m\u001b[0;34m\u001b[0m\u001b[0m\n\u001b[0;32m--> 939\u001b[0;31m             \u001b[0;32mraise\u001b[0m \u001b[0mHTTPError\u001b[0m\u001b[0;34m(\u001b[0m\u001b[0mhttp_error_msg\u001b[0m\u001b[0;34m,\u001b[0m \u001b[0mresponse\u001b[0m\u001b[0;34m=\u001b[0m\u001b[0mself\u001b[0m\u001b[0;34m)\u001b[0m\u001b[0;34m\u001b[0m\u001b[0m\n\u001b[0m\u001b[1;32m    940\u001b[0m \u001b[0;34m\u001b[0m\u001b[0m\n\u001b[1;32m    941\u001b[0m     \u001b[0;32mdef\u001b[0m \u001b[0mclose\u001b[0m\u001b[0;34m(\u001b[0m\u001b[0mself\u001b[0m\u001b[0;34m)\u001b[0m\u001b[0;34m:\u001b[0m\u001b[0;34m\u001b[0m\u001b[0m\n",
      "\u001b[0;31mHTTPError\u001b[0m: 500 Server Error:  for url: http://downdraft.pmel.noaa.gov:8080/erddap/tabledap/erddap_18mtitaepr1a_met.csv?air_pressure_at_sealevel,wind_from_direction,air_temperature,relative_humidity,northward_wind,eastward_wind,wind_speed,latitude,longitude,time&time%3E=1499644800.0&time%3C=1531814198.501594"
     ]
    }
   ],
   "source": [
    "from requests.exceptions import HTTPError\n",
    "\n",
    "dfs = {}\n",
    "for index,row in df.iterrows():\n",
    "    if row['Dataset ID'] in ['erddap_18bsitaepr2a_met','erddap_18mtitaepr1a_met']:\n",
    "        print(row['Dataset ID'])\n",
    "        try:\n",
    "            e = ERDDAP(server=server_url,\n",
    "                protocol='tabledap',\n",
    "                response='csv',\n",
    "            )\n",
    "            e.dataset_id=row['Dataset ID']\n",
    "            e.constraints=constraints\n",
    "            e.variables=variables\n",
    "        except HTTPError:\n",
    "            print('Failed to generate url {}'.format(row['Dataset ID']))\n",
    "            continue\n",
    "        dfs.update({row['Dataset ID']: e.to_pandas(\n",
    "                                index_col='time',\n",
    "                                parse_dates=True,\n",
    "                                skiprows=(1,)  # units information can be dropped.\n",
    "                                )})\n",
    "    "
   ]
  },
  {
   "cell_type": "markdown",
   "metadata": {},
   "source": [
    "### Take care of any preliminary QC"
   ]
  },
  {
   "cell_type": "code",
   "execution_count": null,
   "metadata": {},
   "outputs": [],
   "source": [
    "for ds, df in dfs.items():\n",
    "    df.wind_speed[df.wind_speed>100] = np.nan\n",
    "    \n",
    "#Arbitrary QC points based on evaluating plot / local characteristics and not broad science boundaries\n",
    "wdf.WS[wdf.WS>25] = np.nan\n",
    "wdf.RH[wdf.RH<25] = np.nan\n",
    "wdf.BP[wdf.BP<975] = np.nan"
   ]
  },
  {
   "cell_type": "markdown",
   "metadata": {},
   "source": [
    "### Plot"
   ]
  },
  {
   "cell_type": "code",
   "execution_count": null,
   "metadata": {},
   "outputs": [],
   "source": [
    "import matplotlib.pyplot as plt\n",
    "%matplotlib inline\n",
    "\n",
    "fig, ax = plt.subplots(figsize=(12,3))\n",
    "for ds, df in dfs.items():\n",
    "    try:\n",
    "        df.air_temperature.plot(ax=ax)\n",
    "        plt.ylabel('Temperature (degC)')\n",
    "    except:\n",
    "        pass\n",
    "wdf.AT.plot(ax=ax)\n",
    "plt.legend(['18BSITAEPR-2A','18MTITAEPR-1A','18BSM-2A'])\n",
    "\n",
    "fig, ax = plt.subplots(figsize=(12,3))\n",
    "for ds, df in dfs.items():\n",
    "    try:\n",
    "        df.air_pressure_at_sealevel.plot(ax=ax)\n",
    "        plt.ylabel('Pressure (mb)')\n",
    "    except:\n",
    "        pass\n",
    "wdf.BP.plot(ax=ax)\n",
    "\n",
    "fig, ax = plt.subplots(figsize=(12,3))\n",
    "for ds, df in dfs.items():\n",
    "    try:\n",
    "        df.relative_humidity.plot(ax=ax)\n",
    "        plt.ylabel('RH (%)')\n",
    "    except:\n",
    "        pass\n",
    "wdf.RH.plot(ax=ax)\n",
    "    \n",
    "fig, ax = plt.subplots(figsize=(12,3))\n",
    "for ds, df in dfs.items():\n",
    "    try:\n",
    "        df.wind_speed.plot(ax=ax)\n",
    "        plt.ylabel('wind_speed (m/s)')\n",
    "    except:\n",
    "        pass\n",
    "wdf.WS.plot(ax=ax)\n",
    "\n",
    "fig, ax = plt.subplots(figsize=(12,3))\n",
    "for ds, df in dfs.items():\n",
    "    try:\n",
    "        df.wind_from_direction.plot(style='.',markersize=3.0,ax=ax)\n",
    "        plt.ylabel('wind direction (degree)')\n",
    "    except:\n",
    "        pass\n",
    "wdf.WD.plot(style='.',markersize=4.0,ax=ax)\n",
    "    "
   ]
  },
  {
   "cell_type": "code",
   "execution_count": null,
   "metadata": {},
   "outputs": [],
   "source": [
    "wdf.tail()"
   ]
  },
  {
   "cell_type": "markdown",
   "metadata": {},
   "source": [
    "### Next Steps\n",
    "\n",
    "**TODO:** Plot top prawler bin/air temp for a SST/Air analysis"
   ]
  },
  {
   "cell_type": "code",
   "execution_count": null,
   "metadata": {},
   "outputs": [],
   "source": []
  }
 ],
 "metadata": {
  "kernelspec": {
   "display_name": "Python [conda env:py36]",
   "language": "python",
   "name": "conda-env-py36-py"
  },
  "language_info": {
   "codemirror_mode": {
    "name": "ipython",
    "version": 3
   },
   "file_extension": ".py",
   "mimetype": "text/x-python",
   "name": "python",
   "nbconvert_exporter": "python",
   "pygments_lexer": "ipython3",
   "version": "3.6.5"
  }
 },
 "nbformat": 4,
 "nbformat_minor": 2
}
