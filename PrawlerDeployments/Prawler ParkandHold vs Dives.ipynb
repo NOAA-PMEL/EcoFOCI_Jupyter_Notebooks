{
 "cells": [
  {
   "cell_type": "markdown",
   "metadata": {},
   "source": [
    "### Comparison of Park & Holds vs full Profiles for Prawler Data\n",
    "\n",
    "- 2019 had good O2 and plenty of Park and Holds (profiles every two hours, park and holds at 00UTC and 12UTC?)\n",
    "- 2018 only had twice daily Park and Holds (but how was the oxygen? was this the non-fast response?)\n",
    "- 2017 O2?\n",
    "- 2016 no park and holds\n",
    "\n",
    "### Comments\n",
    "- oxygen below thermocline is questionable at best (except maybe at the bottom?) can we do a better job evaulating this? how about the other parameters? what else emerges (diel cycles?)"
   ]
  },
  {
   "cell_type": "markdown",
   "metadata": {},
   "source": [
    "## First Analysis\n",
    "\n",
    "- using files c.mordy created for 2018 and a similar file for 2019\n",
    "- compare the park and holds to the profiles on the exact same grid (time and depth) so interpolate to hourly and 1m bins\n",
    "- this may stretch and amplify errors across sharp boundaries and it stretches time comparisons out throughout the day... \n",
    "\n",
    "+ only compare dives before and after park and holds\n",
    "+ make bins smaller and don't fill in order to compare depths better?"
   ]
  },
  {
   "cell_type": "code",
   "execution_count": 7,
   "metadata": {},
   "outputs": [],
   "source": [
    "from erddapy import ERDDAP\n",
    "import pandas as pd\n",
    "import numpy as np\n",
    "\n",
    "server_url = 'http://downdraft.pmel.noaa.gov:8080/erddap'\n",
    "\n",
    "d = ERDDAP(server=server_url,\n",
    "           protocol='tabledap',\n",
    "           response='csv',\n",
    "          )\n",
    "\n",
    "d.dataset_id='erddap_19bsitaepr2a_prawler'\n",
    "\n",
    "d.variables =  [\n",
    " 'profile_id',\n",
    " 'Temperature',\n",
    " 'Salinity',\n",
    " 'Chlorophyll',\n",
    " 'Turbidity',\n",
    " 'latitude',\n",
    " 'longitude',\n",
    " 'depth',\n",
    " \"time\",\n",
    " 'Oxy_Conc',\n",
    " 'Oxy_Sat'\n",
    "]\n",
    "\n",
    "d.constraints = {\n",
    "    'time>=': '2018-01-01T00:00:00Z',\n",
    "    'time<=': '2020-10-10T00:00:00Z',\n",
    "}"
   ]
  },
  {
   "cell_type": "code",
   "execution_count": 8,
   "metadata": {},
   "outputs": [
    {
     "data": {
      "text/html": [
       "<div>\n",
       "<style scoped>\n",
       "    .dataframe tbody tr th:only-of-type {\n",
       "        vertical-align: middle;\n",
       "    }\n",
       "\n",
       "    .dataframe tbody tr th {\n",
       "        vertical-align: top;\n",
       "    }\n",
       "\n",
       "    .dataframe thead th {\n",
       "        text-align: right;\n",
       "    }\n",
       "</style>\n",
       "<table border=\"1\" class=\"dataframe\">\n",
       "  <thead>\n",
       "    <tr style=\"text-align: right;\">\n",
       "      <th></th>\n",
       "      <th>profile_id</th>\n",
       "      <th>Temperature</th>\n",
       "      <th>Salinity</th>\n",
       "      <th>Chlorophyll</th>\n",
       "      <th>Turbidity</th>\n",
       "      <th>latitude</th>\n",
       "      <th>longitude</th>\n",
       "      <th>depth</th>\n",
       "      <th>Oxy_Conc</th>\n",
       "      <th>Oxy_Sat</th>\n",
       "    </tr>\n",
       "    <tr>\n",
       "      <th>time (UTC)</th>\n",
       "      <th></th>\n",
       "      <th></th>\n",
       "      <th></th>\n",
       "      <th></th>\n",
       "      <th></th>\n",
       "      <th></th>\n",
       "      <th></th>\n",
       "      <th></th>\n",
       "      <th></th>\n",
       "      <th></th>\n",
       "    </tr>\n",
       "  </thead>\n",
       "  <tbody>\n",
       "    <tr>\n",
       "      <th>2019-09-20 20:09:56+00:00</th>\n",
       "      <td>4239</td>\n",
       "      <td>11.553</td>\n",
       "      <td>31.585400</td>\n",
       "      <td>1.5860</td>\n",
       "      <td>9.4848</td>\n",
       "      <td>56.873</td>\n",
       "      <td>-164.065</td>\n",
       "      <td>13.85</td>\n",
       "      <td>288.18567</td>\n",
       "      <td>105.862090</td>\n",
       "    </tr>\n",
       "    <tr>\n",
       "      <th>2019-09-20 20:10:04+00:00</th>\n",
       "      <td>4239</td>\n",
       "      <td>11.553</td>\n",
       "      <td>31.584879</td>\n",
       "      <td>1.5128</td>\n",
       "      <td>2.5441</td>\n",
       "      <td>56.873</td>\n",
       "      <td>-164.065</td>\n",
       "      <td>15.13</td>\n",
       "      <td>287.66490</td>\n",
       "      <td>105.670395</td>\n",
       "    </tr>\n",
       "    <tr>\n",
       "      <th>2019-09-20 20:10:12+00:00</th>\n",
       "      <td>4239</td>\n",
       "      <td>11.553</td>\n",
       "      <td>31.586510</td>\n",
       "      <td>1.5738</td>\n",
       "      <td>3.5074</td>\n",
       "      <td>56.873</td>\n",
       "      <td>-164.065</td>\n",
       "      <td>15.90</td>\n",
       "      <td>287.90870</td>\n",
       "      <td>105.761185</td>\n",
       "    </tr>\n",
       "    <tr>\n",
       "      <th>2019-09-20 20:09:16+00:00</th>\n",
       "      <td>4239</td>\n",
       "      <td>11.551</td>\n",
       "      <td>31.584457</td>\n",
       "      <td>1.7812</td>\n",
       "      <td>3.8532</td>\n",
       "      <td>56.873</td>\n",
       "      <td>-164.065</td>\n",
       "      <td>8.42</td>\n",
       "      <td>289.53815</td>\n",
       "      <td>106.353700</td>\n",
       "    </tr>\n",
       "    <tr>\n",
       "      <th>2019-09-20 20:12:44+00:00</th>\n",
       "      <td>4239</td>\n",
       "      <td>5.185</td>\n",
       "      <td>31.862043</td>\n",
       "      <td>0.4758</td>\n",
       "      <td>15.0176</td>\n",
       "      <td>56.873</td>\n",
       "      <td>-164.065</td>\n",
       "      <td>47.52</td>\n",
       "      <td>240.54608</td>\n",
       "      <td>76.781070</td>\n",
       "    </tr>\n",
       "  </tbody>\n",
       "</table>\n",
       "</div>"
      ],
      "text/plain": [
       "                           profile_id  Temperature   Salinity  Chlorophyll  \\\n",
       "time (UTC)                                                                   \n",
       "2019-09-20 20:09:56+00:00        4239       11.553  31.585400       1.5860   \n",
       "2019-09-20 20:10:04+00:00        4239       11.553  31.584879       1.5128   \n",
       "2019-09-20 20:10:12+00:00        4239       11.553  31.586510       1.5738   \n",
       "2019-09-20 20:09:16+00:00        4239       11.551  31.584457       1.7812   \n",
       "2019-09-20 20:12:44+00:00        4239        5.185  31.862043       0.4758   \n",
       "\n",
       "                           Turbidity  latitude  longitude  depth   Oxy_Conc  \\\n",
       "time (UTC)                                                                    \n",
       "2019-09-20 20:09:56+00:00     9.4848    56.873   -164.065  13.85  288.18567   \n",
       "2019-09-20 20:10:04+00:00     2.5441    56.873   -164.065  15.13  287.66490   \n",
       "2019-09-20 20:10:12+00:00     3.5074    56.873   -164.065  15.90  287.90870   \n",
       "2019-09-20 20:09:16+00:00     3.8532    56.873   -164.065   8.42  289.53815   \n",
       "2019-09-20 20:12:44+00:00    15.0176    56.873   -164.065  47.52  240.54608   \n",
       "\n",
       "                              Oxy_Sat  \n",
       "time (UTC)                             \n",
       "2019-09-20 20:09:56+00:00  105.862090  \n",
       "2019-09-20 20:10:04+00:00  105.670395  \n",
       "2019-09-20 20:10:12+00:00  105.761185  \n",
       "2019-09-20 20:09:16+00:00  106.353700  \n",
       "2019-09-20 20:12:44+00:00   76.781070  "
      ]
     },
     "execution_count": 8,
     "metadata": {},
     "output_type": "execute_result"
    }
   ],
   "source": [
    "df = d.to_pandas(\n",
    "    index_col='time (UTC)',\n",
    "    parse_dates=True,\n",
    "    skiprows=(1,)  # units information can be dropped.\n",
    ").dropna()\n",
    "\n",
    "df.sort_values(by='profile_id',inplace=True)\n",
    "df.columns = [x[1].split()[0] for x in enumerate(df.columns)]\n",
    "\n",
    "df.tail()"
   ]
  },
  {
   "cell_type": "code",
   "execution_count": 12,
   "metadata": {},
   "outputs": [],
   "source": [
    "dfsg = df.groupby('profile_id')"
   ]
  },
  {
   "cell_type": "code",
   "execution_count": 13,
   "metadata": {},
   "outputs": [],
   "source": [
    "### Algorithm to tease out useful profiles for oxygen\n",
    "\n",
    "# Vars needed, Temp, OxySat\n",
    "# Grid Profile data to 1m\n",
    "# Grid Cal data to 1m\n",
    "## time interpolate to make matching gridded data set for cal data with profile data\n",
    "\n",
    "from netCDF4 import date2num, num2date\n",
    "\n",
    "import datetime\n",
    "from scipy import interpolate\n",
    "\n",
    "### vertically grid data to evenly space gridspoints\n",
    "# deployment depth has a maximum value - set at 50 generically\n",
    "interval = 1.0 #m\n",
    "press_grid = np.arange(0,50,interval) #1m  "
   ]
  },
  {
   "cell_type": "code",
   "execution_count": 14,
   "metadata": {},
   "outputs": [],
   "source": [
    "def profile(cast,press_grid=np.arange(0,50.25,0.25),fillgaps=True):\n",
    "    \"\"\" For a single profile, take median values\n",
    "    Linearly interpolate to fillgaps\"\"\"\n",
    "    #skip profile if std of depth is less than 1 - likely a park and hold\n",
    "    if np.std(dfsg.get_group(cast)['depth']) <= 1.0:\n",
    "        #calibration profile\n",
    "        return\n",
    "    else:\n",
    "        # full profile\n",
    "        #initialize profile parameters\n",
    "        profiledata = {'Salinity': [],\n",
    "                      'Temperature': [],\n",
    "                      'Chlorophyll': [],\n",
    "                      'Turbidity': [],\n",
    "                      'Oxy_Sat': [],\n",
    "                      'Oxy_Conc': []}\n",
    "\n",
    "        profiledata = {\n",
    "                      'Salinity': [],\n",
    "                      'Temperature': [],\n",
    "                      'Oxy_Sat': []}\n",
    "        #fill variables for each profile, taking the median if multiple values within same depth bin\n",
    "        # and making NaN if no values\n",
    "        for pg in press_grid:\n",
    "            \"\"\" Take the median value if multiple samples occur within same depth bin\"\"\"\n",
    "            for parameter in profiledata.keys():\n",
    "                if not parameter in ['Statistics']:\n",
    "                    ireg_ind = np.where((dfsg.get_group(cast)['depth'] > pg) & (dfsg.get_group(cast)['depth'] <= pg+interval))\n",
    "                    profiledata[parameter] = np.hstack((profiledata[parameter], dfsg.get_group(cast)[parameter][ireg_ind[0]].median()))\n",
    "                else:\n",
    "                    profiledata['Statistics'] = np.hstack((profiledata['Statistics'], ireg_ind[0].size))\n",
    "\n",
    "        for parameter in profiledata.keys():\n",
    "            if fillgaps:\n",
    "                mask = np.isnan(profiledata[parameter])\n",
    "                profiledata[parameter][mask] = np.interp(np.flatnonzero(mask), np.flatnonzero(~mask), profiledata[parameter][~mask], right=-100000)\n",
    "\n",
    "        profiledata['datetime'] = dfsg.get_group(cast).index[0].to_pydatetime()\n",
    "        return(profiledata)\n",
    "\n",
    "def time_interp(date_min,date_max,dt=1.0/24.0):\n",
    "    dt_min = date2num(date_min -datetime.timedelta(seconds=60*date_min.minute + date_min.second),'Days since 0001-1-1')\n",
    "    time_grid = np.arange(dt_min,date2num(date_max,'Days since 0001-1-1'),dt) #grid limits -> set to top of hour\n",
    "    \n",
    "    return(time_grid)"
   ]
  },
  {
   "cell_type": "code",
   "execution_count": 15,
   "metadata": {},
   "outputs": [
    {
     "name": "stdout",
     "output_type": "stream",
     "text": [
      "200 of 4239\n",
      "300 of 4239\n",
      "400 of 4239\n",
      "500 of 4239\n",
      "600 of 4239\n",
      "700 of 4239\n",
      "800 of 4239\n",
      "900 of 4239\n",
      "1000 of 4239\n",
      "1100 of 4239\n",
      "1200 of 4239\n",
      "1300 of 4239\n",
      "1400 of 4239\n",
      "1500 of 4239\n",
      "1600 of 4239\n",
      "1700 of 4239\n",
      "1800 of 4239\n",
      "1900 of 4239\n",
      "2000 of 4239\n",
      "2100 of 4239\n",
      "2200 of 4239\n",
      "2300 of 4239\n",
      "2400 of 4239\n",
      "2500 of 4239\n",
      "2600 of 4239\n",
      "2700 of 4239\n",
      "2800 of 4239\n",
      "2900 of 4239\n",
      "3000 of 4239\n",
      "3100 of 4239\n",
      "3200 of 4239\n",
      "3300 of 4239\n",
      "3400 of 4239\n",
      "3500 of 4239\n",
      "3600 of 4239\n",
      "3700 of 4239\n",
      "3800 of 4239\n",
      "3900 of 4239\n",
      "4000 of 4239\n",
      "4100 of 4239\n",
      "4200 of 4239\n"
     ]
    }
   ],
   "source": [
    "#full profile data has std>3, park and hold is std<3\n",
    "profiledata_filled = {}\n",
    "\n",
    "for profileid in list(dfsg.groups.keys()):\n",
    "    try:\n",
    "        if profileid.endswith('00'):\n",
    "            print(\"{profileid} of {number}\".format(profileid=profileid, number=list(dfsg.groups.keys())[-1]))\n",
    "    except:\n",
    "        if (profileid % 100) == 0:\n",
    "            print(\"{profileid} of {number}\".format(profileid=profileid, number=list(dfsg.groups.keys())[-1]))\n",
    "\n",
    "    tmp = profile(profileid,press_grid=press_grid,fillgaps=False)\n",
    "    if tmp:\n",
    "        profiledata_filled.update({profileid: tmp})\n",
    "        "
   ]
  },
  {
   "cell_type": "code",
   "execution_count": 57,
   "metadata": {},
   "outputs": [],
   "source": [
    "parameter='Salinity'\n",
    "np2d=[]\n",
    "np2d = [np2d + list(v[parameter]) for k,v in profiledata_filled.items()]\n",
    "\n",
    "\n",
    "time_grid = time_interp(profiledata_filled[list(profiledata_filled.keys())[0]]['datetime'],\n",
    "                        profiledata_filled[list(profiledata_filled.keys())[-1]]['datetime'])\n",
    "\n",
    "date_time = [date2num(v['datetime'],'Days since 0001-1-1') for k,v in profiledata_filled.items()]\n",
    "\n",
    "#has to be monotonic in time... check if not working that this is true\n",
    "mono_ind = np.append(True,np.diff(date_time) >0)\n",
    "date_time=np.array(date_time)[mono_ind]\n",
    "np2d=np.array(np2d)[mono_ind,:]\n",
    "\n",
    "# interp in time\n",
    "mesh_grid_func = interpolate.interp2d(press_grid,date_time,np.array(np2d),kind='linear',bounds_error=False,fill_value=-100000)\n",
    "mesh_grid_OxySat = mesh_grid_func(press_grid,time_grid)\n"
   ]
  },
  {
   "cell_type": "code",
   "execution_count": 58,
   "metadata": {},
   "outputs": [],
   "source": [
    "import matplotlib as mpl\n",
    "import matplotlib.pyplot as plt\n",
    "import matplotlib.dates as mdates\n",
    "from matplotlib.dates import YearLocator, WeekdayLocator, MonthLocator, DayLocator, HourLocator, DateFormatter\n",
    "import matplotlib.ticker as ticker\n",
    "\n",
    "import cmocean\n",
    "\n",
    "### specify primary bulk figure parameters\n",
    "fontsize = 10\n",
    "labelsize = 10\n",
    "#plotstyle = 'seaborn'\n",
    "max_xticks = 10\n",
    "plt.style.use('seaborn-ticks')\n",
    "mpl.rcParams['svg.fonttype'] = 'none'\n",
    "mpl.rcParams['ps.fonttype'] = 42 #truetype/type2 fonts instead of type3\n",
    "mpl.rcParams['pdf.fonttype'] = 42 #truetype/type2 fonts instead of type3\n",
    "mpl.rcParams['axes.grid'] = False\n",
    "mpl.rcParams['axes.edgecolor'] = 'black'\n",
    "mpl.rcParams['axes.linewidth'] = 1.5\n",
    "mpl.rcParams['axes.labelcolor'] = 'black'\n",
    "mpl.rcParams['grid.linestyle'] = '--'\n",
    "mpl.rcParams['grid.linestyle'] = '--'\n",
    "mpl.rcParams['xtick.major.size'] = 4\n",
    "mpl.rcParams['xtick.minor.size'] = 2\n",
    "mpl.rcParams['xtick.major.width'] = 2\n",
    "mpl.rcParams['xtick.minor.width'] = 0.5\n",
    "mpl.rcParams['ytick.major.size'] = 4\n",
    "mpl.rcParams['ytick.minor.size'] = 2\n",
    "mpl.rcParams['ytick.major.width'] = 2\n",
    "mpl.rcParams['ytick.minor.width'] = 0.5\n",
    "mpl.rcParams['ytick.direction'] = 'out'\n",
    "mpl.rcParams['xtick.direction'] = 'out'\n",
    "mpl.rcParams['ytick.color'] = 'black'\n",
    "mpl.rcParams['xtick.color'] = 'black'"
   ]
  },
  {
   "cell_type": "code",
   "execution_count": 59,
   "metadata": {},
   "outputs": [
    {
     "data": {
      "text/plain": [
       "(737211.0, 737213.0)"
      ]
     },
     "execution_count": 59,
     "metadata": {},
     "output_type": "execute_result"
    },
    {
     "data": {
      "image/png": "[encoded data removed]",
      "text/plain": [
       "<Figure size 1584x378 with 1 Axes>"
      ]
     },
     "metadata": {},
     "output_type": "display_data"
    }
   ],
   "source": [
    "#if plotting non-interpolated data\n",
    "\n",
    "#not correct becasue time is not gridded if not interpolating/gridding... its close but cannot be assumed\n",
    "extent = (time_grid.min(),\n",
    "          time_grid.max(), \n",
    "          press_grid.max(), \n",
    "          press_grid.min()) # extent of the plots\n",
    "\n",
    "fig = plt.figure(figsize=(22,5.25))\n",
    "ax = plt.subplot(1,1,1)\n",
    "cs = plt.imshow(np2d.T,extent=extent, vmin=75, vmax=150, cmap=cmocean.cm.oxy)\n",
    "cs = plt.imshow(np2d.T,extent=extent, vmin=31.5, vmax=32.5, cmap=cmocean.cm.haline,aspect='auto')\n",
    "ax.xaxis.set_major_locator(DayLocator(bymonthday=15))\n",
    "ax.xaxis.set_minor_locator(DayLocator(bymonthday=[5,10,15,20,25,30]))\n",
    "ax.xaxis.set_major_formatter(plt.NullFormatter())\n",
    "ax.xaxis.set_minor_formatter(DateFormatter('%d'))\n",
    "ax.xaxis.set_major_formatter(DateFormatter('%b %y'))\n",
    "ax.xaxis.set_tick_params(which='major', pad=15)\n",
    "ax.set_xlim([datetime.datetime(2019,6,1),datetime.datetime(2019,6,3)])"
   ]
  },
  {
   "cell_type": "code",
   "execution_count": 19,
   "metadata": {},
   "outputs": [
    {
     "data": {
      "image/png": "[encoded data removed]",
      "text/plain": [
       "<Figure size 1584x378 with 1 Axes>"
      ]
     },
     "metadata": {
      "needs_background": "light"
     },
     "output_type": "display_data"
    }
   ],
   "source": [
    "#if plotting interpolated data\n",
    "extent = (time_grid.min(),\n",
    "          time_grid.max(), \n",
    "          press_grid.max(), \n",
    "          press_grid.min()) # extent of the plots\n",
    "\n",
    "fig = plt.figure(figsize=(22,5.25))\n",
    "ax = plt.subplot(1,1,1)\n",
    "cs = plt.imshow(mesh_grid_OxySat.T,extent=extent, vmin=75, vmax=150, cmap=cmocean.cm.oxy)\n",
    "cs = plt.imshow(mesh_grid_OxySat.T,extent=extent, vmin=31.5, vmax=32.5, cmap=cmocean.cm.haline)\n",
    "ax.xaxis.set_major_locator(DayLocator(bymonthday=15))\n",
    "ax.xaxis.set_minor_locator(DayLocator(bymonthday=[5,10,15,20,25,30]))\n",
    "ax.xaxis.set_major_formatter(plt.NullFormatter())\n",
    "ax.xaxis.set_minor_formatter(DateFormatter('%d'))\n",
    "ax.xaxis.set_major_formatter(DateFormatter('%b %y'))\n",
    "ax.xaxis.set_tick_params(which='major', pad=15)\n"
   ]
  },
  {
   "cell_type": "code",
   "execution_count": 20,
   "metadata": {},
   "outputs": [],
   "source": [
    "# Calvin Cleaned the park and hold data I sent from ERDDAP... use to create\n",
    "\n",
    "import pandas as pd\n",
    "\n",
    "df_ph = pd.read_excel('/Users/bell/Desktop/AMSS 2020/Stop_Hold_O2sat_V2.xlsx', \n",
    "                      parse_dates=True, \n",
    "                      sheet_name='19bsitaepr2a_parkandhold_lastva', \n",
    "                      index_col='Time')"
   ]
  },
  {
   "cell_type": "code",
   "execution_count": 21,
   "metadata": {},
   "outputs": [],
   "source": [
    "df_phsg = df_ph.groupby('Calibration Cast')"
   ]
  },
  {
   "cell_type": "code",
   "execution_count": 38,
   "metadata": {},
   "outputs": [
    {
     "name": "stdout",
     "output_type": "stream",
     "text": [
      "100\n",
      "200\n",
      "300\n"
     ]
    }
   ],
   "source": [
    "caldata_filled = {}\n",
    "fillgaps=False\n",
    "for profileid in list(df_phsg.groups.keys()):\n",
    "    ###\n",
    "    # full profile\n",
    "    #initialize profile parameters\n",
    "    profiledata = {\n",
    "                    ' Salinity': [],\n",
    "                    ' Temperature': [],\n",
    "                    ' Oxy_Sat': []}\n",
    "    #fill variables for each profile, taking the median if multiple values within same depth bin\n",
    "    # and making NaN if no values\n",
    "    for pg in press_grid:\n",
    "        \"\"\" Take the median value if multiple samples occur within same depth bin\"\"\"\n",
    "        for parameter in profiledata.keys():\n",
    "            if not parameter in ['Statistics']:\n",
    "                ireg_ind = np.where((df_phsg.get_group(profileid)[' Depth'] > pg) & (df_phsg.get_group(profileid)[' Depth'] <= pg+interval))\n",
    "                profiledata[parameter] = np.hstack((profiledata[parameter], df_phsg.get_group(profileid)[parameter][ireg_ind[0]].median()))\n",
    "            else:\n",
    "                profiledata['Statistics'] = np.hstack((profiledata['Statistics'], ireg_ind[0].size))\n",
    "\n",
    "    for parameter in profiledata.keys():\n",
    "        if fillgaps:\n",
    "            mask = np.isnan(profiledata[parameter])\n",
    "            profiledata[parameter][mask] = np.interp(np.flatnonzero(mask), np.flatnonzero(~mask), profiledata[parameter][~mask], right=-100000)\n",
    "\n",
    "    profiledata['datetime'] = df_phsg.get_group(profileid).index[0].to_pydatetime()\n",
    "    ###\n",
    "    caldata_filled.update({profileid: profiledata})\n",
    "    \n",
    "    if (profileid % 100) == 0:\n",
    "        print(profileid)"
   ]
  },
  {
   "cell_type": "code",
   "execution_count": 55,
   "metadata": {},
   "outputs": [],
   "source": [
    "parameter=' Salinity'\n",
    "np2d_ph=[]\n",
    "np2d_ph = [np2d_ph + list(v[parameter]) for k,v in caldata_filled.items()]\n",
    "\n",
    "time_grid = time_interp(caldata_filled[list(caldata_filled.keys())[0]]['datetime'],\n",
    "                        caldata_filled[list(caldata_filled.keys())[-1]]['datetime'])\n",
    "\n",
    "date_time = [date2num(v['datetime'],'Days since 0001-1-1') for k,v in caldata_filled.items()]\n",
    "#has to be monotonic in time... check if not working that this is true\n",
    "mono_ind = np.append(True,np.diff(date_time) >0)\n",
    "date_time=np.array(date_time)[mono_ind]\n",
    "np2d_ph=np.array(np2d_ph)[mono_ind,:]\n",
    "\n",
    "mesh_grid_func = interpolate.interp2d(press_grid,date_time,np.array(np2d_ph),kind='linear',bounds_error=False,fill_value=-100000)\n",
    "mesh_grid_OxyConc_ph = mesh_grid_func(press_grid,time_grid)"
   ]
  },
  {
   "cell_type": "code",
   "execution_count": 53,
   "metadata": {},
   "outputs": [
    {
     "data": {
      "image/png": "[encoded data removed]",
      "text/plain": [
       "<Figure size 1584x378 with 2 Axes>"
      ]
     },
     "metadata": {
      "needs_background": "light"
     },
     "output_type": "display_data"
    }
   ],
   "source": [
    "extent = (time_grid.min(),\n",
    "          time_grid.max(), \n",
    "          press_grid.max(), \n",
    "          press_grid.min()) # extent of the plots\n",
    "\n",
    "fig = plt.figure(figsize=(22,5.25))\n",
    "ax = plt.subplot(1,1,1)\n",
    "cs = plt.imshow(mesh_grid_OxyConc_ph.T,extent=extent, vmin=31.5, vmax=32.5, cmap=cmocean.cm.haline)\n",
    "\n",
    "cbar = fig.colorbar(cs, orientation='vertical', extend='both')\n",
    "cbar.ax.set_ylabel('Salinity (PSU)')\n",
    "ax.xaxis.set_major_locator(DayLocator(bymonthday=15))\n",
    "ax.xaxis.set_minor_locator(DayLocator(bymonthday=[5,10,15,20,25,30]))\n",
    "ax.xaxis.set_major_formatter(plt.NullFormatter())\n",
    "ax.xaxis.set_minor_formatter(DateFormatter('%d'))\n",
    "ax.xaxis.set_major_formatter(DateFormatter('%b %y'))\n",
    "ax.xaxis.set_tick_params(which='major', pad=15)\n"
   ]
  },
  {
   "cell_type": "code",
   "execution_count": 56,
   "metadata": {},
   "outputs": [
    {
     "data": {
      "text/plain": [
       "(737211.0, 737213.0)"
      ]
     },
     "execution_count": 56,
     "metadata": {},
     "output_type": "execute_result"
    },
    {
     "data": {
      "image/png": "[encoded data removed]",
      "text/plain": [
       "<Figure size 1584x378 with 1 Axes>"
      ]
     },
     "metadata": {
      "needs_background": "light"
     },
     "output_type": "display_data"
    }
   ],
   "source": [
    "#if plotting non-interpolated data (park and holds)\n",
    "\n",
    "#not correct becasue time is not gridded if not interpolating/gridding... its close but cannot be assumed\n",
    "extent = (time_grid.min(),\n",
    "          time_grid.max(), \n",
    "          press_grid.max(), \n",
    "          press_grid.min()) # extent of the plots\n",
    "\n",
    "fig = plt.figure(figsize=(22,5.25))\n",
    "ax = plt.subplot(1,1,1)\n",
    "cs = plt.imshow(np2d_ph.T,extent=extent, vmin=75, vmax=150, cmap=cmocean.cm.oxy)\n",
    "cs = plt.imshow(np2d_ph.T,extent=extent, vmin=31.5, vmax=32.5, cmap=cmocean.cm.haline,aspect='auto')\n",
    "ax.xaxis.set_major_locator(DayLocator(bymonthday=15))\n",
    "ax.xaxis.set_minor_locator(DayLocator(bymonthday=[5,10,15,20,25,30]))\n",
    "ax.xaxis.set_major_formatter(plt.NullFormatter())\n",
    "ax.xaxis.set_minor_formatter(DateFormatter('%d'))\n",
    "ax.xaxis.set_major_formatter(DateFormatter('%b %y'))\n",
    "ax.xaxis.set_tick_params(which='major', pad=15)\n",
    "ax.set_xlim([datetime.datetime(2019,6,1),datetime.datetime(2019,6,3)])"
   ]
  },
  {
   "cell_type": "code",
   "execution_count": 60,
   "metadata": {},
   "outputs": [
    {
     "name": "stderr",
     "output_type": "stream",
     "text": [
      "/Users/bell/anaconda2/envs/py37/lib/python3.7/site-packages/ipykernel_launcher.py:2: RuntimeWarning: invalid value encountered in greater\n",
      "  \n"
     ]
    },
    {
     "data": {
      "image/png": "[encoded data removed]",
      "text/plain": [
       "<Figure size 1584x378 with 2 Axes>"
      ]
     },
     "metadata": {},
     "output_type": "display_data"
    }
   ],
   "source": [
    "#differences in interpolated/extrapolated gridded data\n",
    "oxydiff = mesh_grid_OxyConc_ph-mesh_grid_OxySat[:3426,:]\n",
    "oxydiff[np.abs(oxydiff)>1000] = np.nan\n",
    "\n",
    "extent = (time_grid.min(),\n",
    "          time_grid.max(), \n",
    "          press_grid.max(), \n",
    "          press_grid.min()) # extent of the plots\n",
    "\n",
    "fig = plt.figure(figsize=(22,5.25))\n",
    "ax = plt.subplot(1,1,1)\n",
    "cs = plt.imshow((oxydiff).T,extent=extent, vmin=-1,vmax=1,cmap=cmocean.cm.diff,label='oxy')\n",
    "\n",
    "cbar = fig.colorbar(cs, orientation='vertical', extend='both')\n",
    "cbar.ax.set_ylabel('Oxygen Sat. (%)')\n",
    "cbar.ax.set_ylabel('Temp (DegC)')\n",
    "cbar.ax.set_ylabel('Sal (PSU)')\n",
    "\n",
    "ax.xaxis.set_major_locator(DayLocator(bymonthday=15))\n",
    "ax.xaxis.set_minor_locator(DayLocator(bymonthday=[5,10,15,20,25,30]))\n",
    "ax.xaxis.set_major_formatter(plt.NullFormatter())\n",
    "ax.xaxis.set_minor_formatter(DateFormatter('%d'))\n",
    "ax.xaxis.set_major_formatter(DateFormatter('%b %y'))\n",
    "ax.xaxis.set_tick_params(which='major', pad=15)\n"
   ]
  },
  {
   "cell_type": "code",
   "execution_count": 81,
   "metadata": {},
   "outputs": [
    {
     "data": {
      "text/plain": [
       "2019"
      ]
     },
     "execution_count": 81,
     "metadata": {},
     "output_type": "execute_result"
    }
   ],
   "source": [
    "### for unfilled uninterpolated data, find profiles within +/- 1 dive of the cal cast (+/-2.5 hours)\n",
    "\n",
    "## edit, only post dive profiles for now... dives at 00 mean finding 10pm... or 22hr so logic needs to be added\n",
    "\n",
    "df_phsg.get_group(1).index.year[0]"
   ]
  },
  {
   "cell_type": "code",
   "execution_count": 104,
   "metadata": {},
   "outputs": [
    {
     "data": {
      "text/plain": [
       "<matplotlib.axes._subplots.AxesSubplot at 0x126eaef60>"
      ]
     },
     "execution_count": 104,
     "metadata": {},
     "output_type": "execute_result"
    },
    {
     "data": {
      "image/png": "[encoded data removed]",
      "text/plain": [
       "<Figure size 432x288 with 1 Axes>"
      ]
     },
     "metadata": {},
     "output_type": "display_data"
    }
   ],
   "source": [
    "group=2\n",
    "df[str(df_phsg.get_group(group).index.year[0])+\\\n",
    "   '-'+str(df_phsg.get_group(group).index.month[0])+\\\n",
    "   '-'+str(df_phsg.get_group(group).index.day[0])+\\\n",
    "   '-'+str(df_phsg.get_group(group).index.hour[0]).zfill(2):\n",
    "  str(df_phsg.get_group(group).index.year[0])+\\\n",
    "   '-'+str(df_phsg.get_group(group).index.month[0])+\\\n",
    "   '-'+str(df_phsg.get_group(group).index.day[0])+\\\n",
    "   '-'+str(df_phsg.get_group(group).index.hour[0]+2).zfill(2)].depth.plot()"
   ]
  },
  {
   "cell_type": "code",
   "execution_count": 103,
   "metadata": {},
   "outputs": [
    {
     "data": {
      "text/plain": [
       "'00'"
      ]
     },
     "execution_count": 103,
     "metadata": {},
     "output_type": "execute_result"
    }
   ],
   "source": [
    "str(df_phsg.get_group(group).index.hour[0]).zfill(2)"
   ]
  },
  {
   "cell_type": "code",
   "execution_count": null,
   "metadata": {},
   "outputs": [],
   "source": []
  }
 ],
 "metadata": {
  "kernelspec": {
   "display_name": "Python [conda env:py37]",
   "language": "python",
   "name": "conda-env-py37-py"
  },
  "language_info": {
   "codemirror_mode": {
    "name": "ipython",
    "version": 3
   },
   "file_extension": ".py",
   "mimetype": "text/x-python",
   "name": "python",
   "nbconvert_exporter": "python",
   "pygments_lexer": "ipython3",
   "version": "3.7.3"
  }
 },
 "nbformat": 4,
 "nbformat_minor": 4
}
