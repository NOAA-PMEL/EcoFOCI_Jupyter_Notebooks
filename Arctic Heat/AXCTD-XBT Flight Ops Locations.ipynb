{
 "cells": [
  {
   "cell_type": "markdown",
   "metadata": {},
   "source": [
    "## Arctic Heat\n",
    "\n",
    "**AXCTD and XBT Profiles**\n",
    "\n",
    "Purpose: import clean and plot profiles"
   ]
  },
  {
   "cell_type": "code",
   "execution_count": 1,
   "metadata": {},
   "outputs": [
    {
     "name": "stderr",
     "output_type": "stream",
     "text": [
      "/Users/bell/anaconda2/envs/py36/lib/python3.6/importlib/_bootstrap.py:219: RuntimeWarning: numpy.dtype size changed, may indicate binary incompatibility. Expected 96, got 88\n",
      "  return f(*args, **kwds)\n",
      "/Users/bell/anaconda2/envs/py36/lib/python3.6/importlib/_bootstrap.py:219: RuntimeWarning: numpy.dtype size changed, may indicate binary incompatibility. Expected 96, got 88\n",
      "  return f(*args, **kwds)\n"
     ]
    }
   ],
   "source": [
    "import pandas as pd\n",
    "import os\n",
    "import datetime"
   ]
  },
  {
   "cell_type": "code",
   "execution_count": 2,
   "metadata": {},
   "outputs": [],
   "source": [
    "source_dir = '/Users/bell/ecoraid/2018/Additional_FieldData/ArcticHeat/Flight Logs/'\n",
    "\n",
    "source_file = [os.path.join(dp, f) for dp, dn,\n",
    "   fn in os.walk(os.path.expanduser(source_dir)) for f in fn if '.txt' in f]\n"
   ]
  },
  {
   "cell_type": "code",
   "execution_count": 4,
   "metadata": {},
   "outputs": [
    {
     "name": "stdout",
     "output_type": "stream",
     "text": [
      "/Users/bell/ecoraid/2018/Additional_FieldData/ArcticHeat/Flight Logs/FlightLog20180529.txt\n",
      "/Users/bell/ecoraid/2018/Additional_FieldData/ArcticHeat/Flight Logs/FlightLog20180527.txt\n",
      "/Users/bell/ecoraid/2018/Additional_FieldData/ArcticHeat/Flight Logs/FlightLog20180525.txt\n",
      "/Users/bell/ecoraid/2018/Additional_FieldData/ArcticHeat/Flight Logs/FlightLog20180530.txt\n"
     ]
    },
    {
     "name": "stderr",
     "output_type": "stream",
     "text": [
      "b'Skipping line 6: expected 1 fields, saw 2\\nSkipping line 13: expected 1 fields, saw 2\\nSkipping line 14: expected 1 fields, saw 2\\nSkipping line 17: expected 1 fields, saw 2\\n'\n",
      "b'Skipping line 12: expected 1 fields, saw 3\\n'\n"
     ]
    }
   ],
   "source": [
    "dfs = {}\n",
    "for i,filename in enumerate(source_file):\n",
    "    print(filename)\n",
    "    df = pd.read_csv(filename, error_bad_lines=False)\n",
    "\n"
   ]
  },
  {
   "cell_type": "code",
   "execution_count": 5,
   "metadata": {},
   "outputs": [
    {
     "data": {
      "text/plain": [
       "{}"
      ]
     },
     "execution_count": 5,
     "metadata": {},
     "output_type": "execute_result"
    }
   ],
   "source": [
    "dfs"
   ]
  },
  {
   "cell_type": "code",
   "execution_count": 6,
   "metadata": {},
   "outputs": [
    {
     "data": {
      "text/plain": [
       "['/Users/bell/ecoraid/2018/Additional_FieldData/ArcticHeat/Flight Logs/FlightLog20180529.txt',\n",
       " '/Users/bell/ecoraid/2018/Additional_FieldData/ArcticHeat/Flight Logs/FlightLog20180527.txt',\n",
       " '/Users/bell/ecoraid/2018/Additional_FieldData/ArcticHeat/Flight Logs/FlightLog20180525.txt',\n",
       " '/Users/bell/ecoraid/2018/Additional_FieldData/ArcticHeat/Flight Logs/FlightLog20180530.txt']"
      ]
     },
     "execution_count": 6,
     "metadata": {},
     "output_type": "execute_result"
    }
   ],
   "source": [
    "source_file"
   ]
  },
  {
   "cell_type": "code",
   "execution_count": null,
   "metadata": {},
   "outputs": [],
   "source": []
  }
 ],
 "metadata": {
  "kernelspec": {
   "display_name": "Python [conda env:py36]",
   "language": "python",
   "name": "conda-env-py36-py"
  },
  "language_info": {
   "codemirror_mode": {
    "name": "ipython",
    "version": 3
   },
   "file_extension": ".py",
   "mimetype": "text/x-python",
   "name": "python",
   "nbconvert_exporter": "python",
   "pygments_lexer": "ipython3",
   "version": "3.6.6"
  }
 },
 "nbformat": 4,
 "nbformat_minor": 2
}
