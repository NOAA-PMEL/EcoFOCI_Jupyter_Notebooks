{
 "cells": [
  {
   "cell_type": "markdown",
   "metadata": {},
   "source": [
    "## ERDAP with erddapy example for ArcticHeat Alamo\n",
    "\n",
    "** Plot PAR **"
   ]
  },
  {
   "cell_type": "markdown",
   "metadata": {},
   "source": [
    "***requires python 3.6*** "
   ]
  },
  {
   "cell_type": "markdown",
   "metadata": {},
   "source": [
    "### connecting and basic information"
   ]
  },
  {
   "cell_type": "code",
   "execution_count": 5,
   "metadata": {},
   "outputs": [],
   "source": [
    "from erddapy import ERDDAP\n",
    "import pandas as pd\n",
    "import numpy as np\n",
    "\n",
    "server_url='http://downdraft.pmel.noaa.gov:8080/erddap'\n",
    "e = ERDDAP(server=server_url)"
   ]
  },
  {
   "cell_type": "markdown",
   "metadata": {},
   "source": [
    "Get only ALAMO Float datafiles"
   ]
  },
  {
   "cell_type": "code",
   "execution_count": 6,
   "metadata": {},
   "outputs": [],
   "source": [
    "df = pd.read_csv(e.get_search_url(response='csv', search_for='ALAMO'))"
   ]
  },
  {
   "cell_type": "code",
   "execution_count": 7,
   "metadata": {
    "scrolled": true
   },
   "outputs": [
    {
     "name": "stdout",
     "output_type": "stream",
     "text": [
      "['arctic_heat_alamo_profiles_9058' 'arctic_heat_alamo_profiles_9076'\n",
      " 'arctic_heat_alamo_profiles_9085' 'arctic_heat_alamo_profiles_9115'\n",
      " 'arctic_heat_alamo_profiles_9116' 'arctic_heat_alamo_profiles_9117'\n",
      " 'arctic_heat_alamo_profiles_9119']\n"
     ]
    }
   ],
   "source": [
    "alamos = df['Dataset ID'].values\n",
    "print(alamos)"
   ]
  },
  {
   "cell_type": "code",
   "execution_count": 8,
   "metadata": {},
   "outputs": [],
   "source": [
    "kw = {\n",
    "    'standard_name': 'sea_water_temperature',\n",
    "    'min_lon': -180.0,\n",
    "    'max_lon': -130.0,\n",
    "    'min_lat': 65.0,\n",
    "    'max_lat': 90.0,\n",
    "    'min_time': '2015-01-10T00:00:00Z',\n",
    "    'max_time': '2018-01-10T00:00:00Z',\n",
    "    'cdm_data_type': 'trajectoryprofile'\n",
    "}"
   ]
  },
  {
   "cell_type": "code",
   "execution_count": 9,
   "metadata": {},
   "outputs": [],
   "source": [
    "variables = [e.get_var_by_attr(dataset_id=alamo, standard_name=lambda v: v is not None) for alamo in alamos]"
   ]
  },
  {
   "cell_type": "code",
   "execution_count": 10,
   "metadata": {},
   "outputs": [
    {
     "data": {
      "text/plain": [
       "{'JULD', 'PRES', 'PSAL', 'TEMP', 'latitude', 'longitude', 'time'}"
      ]
     },
     "execution_count": 10,
     "metadata": {},
     "output_type": "execute_result"
    }
   ],
   "source": [
    "common_variables = set(variables[0]).intersection(*variables[1:])\n",
    "\n",
    "common_variables "
   ]
  },
  {
   "cell_type": "markdown",
   "metadata": {},
   "source": [
    "### Retrieving and plotting data"
   ]
  },
  {
   "cell_type": "code",
   "execution_count": 11,
   "metadata": {},
   "outputs": [
    {
     "name": "stdout",
     "output_type": "stream",
     "text": [
      "http://downdraft.pmel.noaa.gov:8080/erddap/tabledap/arctic_heat_alamo_profiles_9058.csv?latitude,TEMP,JULD,PSAL,longitude,time,PRES&longitude>=-180.0&longitude<=-130.0&latitude>=65.0&latitude<=90.0&time>=1420848000.0&time<=1515542400.0\n"
     ]
    }
   ],
   "source": [
    "constraints = {\n",
    "    'longitude>=': kw['min_lon'],\n",
    "    'longitude<=': kw['max_lon'],\n",
    "    'latitude>=': kw['min_lat'],\n",
    "    'latitude<=': kw['max_lat'],\n",
    "    'time>=': kw['min_time'],\n",
    "    'time<=': kw['max_time'],\n",
    "}\n",
    "\n",
    "download_url = e.get_download_url(\n",
    "    dataset_id=alamos[0],\n",
    "    protocol='tabledap',\n",
    "    response='csv',\n",
    "    variables=common_variables,\n",
    "    constraints=constraints\n",
    ")\n",
    "\n",
    "print(download_url)\n",
    "\n"
   ]
  },
  {
   "cell_type": "code",
   "execution_count": 13,
   "metadata": {},
   "outputs": [
    {
     "name": "stdout",
     "output_type": "stream",
     "text": [
      "arctic_heat_alamo_profiles_9058\n",
      "arctic_heat_alamo_profiles_9076\n",
      "arctic_heat_alamo_profiles_9085\n",
      "arctic_heat_alamo_profiles_9115\n",
      "arctic_heat_alamo_profiles_9116\n",
      "arctic_heat_alamo_profiles_9117\n",
      "arctic_heat_alamo_profiles_9119\n"
     ]
    }
   ],
   "source": [
    "from requests.exceptions import HTTPError\n",
    "\n",
    "dfs = {}\n",
    "for alamo in alamos:\n",
    "    print(alamo)\n",
    "    try:\n",
    "        e = ERDDAP(server=server_url,\n",
    "            protocol='tabledap',\n",
    "            response='csv'\n",
    "        )\n",
    "        e.dataset_id = alamo\n",
    "        e.variables = common_variables\n",
    "        e.constraints = constraints\n",
    "    except HTTPError:\n",
    "        print('Failed to generate url {}'.format(alamo))\n",
    "        continue\n",
    "    dfs.update({alamo: e.to_pandas(\n",
    "                            index_col='time',\n",
    "                            parse_dates=True,\n",
    "                            skiprows=(1,)  # units information can be dropped.\n",
    "                            )})\n",
    "    "
   ]
  },
  {
   "cell_type": "code",
   "execution_count": null,
   "metadata": {
    "scrolled": false
   },
   "outputs": [],
   "source": [
    "%matplotlib inline\n",
    "import matplotlib.pyplot as plt\n",
    "import cartopy.crs as ccrs\n",
    "import cartopy.feature as cfeature\n",
    "from cartopy.mpl.ticker import LongitudeFormatter, LatitudeFormatter\n",
    "\n",
    "\n",
    "def make_map(projection=ccrs.PlateCarree()):\n",
    "    fig, ax = plt.subplots(figsize=(8, 8),\n",
    "                           subplot_kw=dict(projection=projection))\n",
    "    if projection == ccrs.PlateCarree():\n",
    "        gl = ax.gridlines(draw_labels=True)\n",
    "        gl.xlabels_top = gl.ylabels_right = False\n",
    "        gl.xformatter = LONGITUDE_FORMATTER\n",
    "        gl.yformatter = LATITUDE_FORMATTER\n",
    "    return fig, ax\n",
    "\n",
    "projection=ccrs.LambertConformal(central_longitude=-160.0)\n",
    "transformation=ccrs.PlateCarree()\n",
    "\n",
    "land_50m = cfeature.NaturalEarthFeature('physical', 'land', '50m',\n",
    "                                        edgecolor='face',\n",
    "                                        facecolor='1.0')\n",
    "\n",
    "dx = dy = 0.5\n",
    "extent = -180, -130, kw['min_lat']+dy, kw['max_lat']+dy\n",
    "extent = [-176, -150, 65, 75]\n",
    "\n",
    "fig,ax = make_map(projection=projection)\n",
    "for alamo, df in dfs.items():\n",
    "    ax.plot(df['longitude'], df['latitude'], label=alamo, transform=transformation)\n",
    "\n",
    "leg = ax.legend()\n",
    "\n",
    "ax.add_feature(land_50m)\n",
    "ax.coastlines(resolution='50m')\n",
    "ax.set_extent(extent)"
   ]
  },
  {
   "cell_type": "code",
   "execution_count": null,
   "metadata": {},
   "outputs": [],
   "source": [
    "def glider_scatter(df, ax, glider):\n",
    "    ax.scatter(df['TEMP'], df['PSAL'],\n",
    "               s=10, alpha=0.5, label=glider)\n",
    "\n",
    "fig, ax = plt.subplots(figsize=(9, 9))\n",
    "ax.set_ylabel('salinity')\n",
    "ax.set_xlabel('temperature')\n",
    "ax.grid(True)\n",
    "\n",
    "for glider, df in dfs.items():\n",
    "    glider_scatter(df, ax, glider)\n",
    "\n",
    "leg = ax.legend()\n",
    "\n"
   ]
  },
  {
   "cell_type": "code",
   "execution_count": null,
   "metadata": {
    "scrolled": false
   },
   "outputs": [],
   "source": [
    "import seawater as sw\n",
    "\n",
    "def plot_salvtemp(salt, temp, press, srange=[28,34], trange=[-2,15], ptitle=\"\"): \n",
    "    plt.style.use('ggplot')\n",
    "    \n",
    "    # Figure out boudaries (mins and maxs)\n",
    "    smin = srange[0]\n",
    "    smax = srange[1]\n",
    "    tmin = trange[0]\n",
    "    tmax = trange[1]\n",
    "\n",
    "    # Calculate how many gridcells we need in the x and y dimensions\n",
    "    xdim = int(round((smax-smin)/0.1+1,0))\n",
    "    ydim = int(round((tmax-tmin)+1,0))\n",
    "    \n",
    "    #print 'ydim: ' + str(ydim) + ' xdim: ' + str(xdim) + ' \\n'\n",
    "    if (xdim > 10000) or (ydim > 10000): \n",
    "        print('To many dimensions for grid in {cruise} {cast} file. Likely  missing data \\n'.format(cruise=cruise,cast=cast))\n",
    "        return\n",
    " \n",
    "    # Create empty grid of zeros\n",
    "    dens = np.zeros((ydim,xdim))\n",
    " \n",
    "    # Create temp and salt vectors of appropiate dimensions\n",
    "    ti = np.linspace(0,ydim-1,ydim)+tmin\n",
    "    si = np.linspace(0,xdim-1,xdim)*0.1+smin\n",
    " \n",
    "    # Loop to fill in grid with densities\n",
    "    for j in range(0,int(ydim)):\n",
    "        for i in range(0, int(xdim)):\n",
    "            dens[j,i]=sw.dens0(si[i],ti[j])\n",
    " \n",
    "    # Substract 1000 to convert to sigma-t\n",
    "    dens = dens - 1000\n",
    " \n",
    "    # Plot data ***********************************************\n",
    "    fig = plt.figure()\n",
    "    ax1 = fig.add_subplot(111)\n",
    "    CS = plt.contour(si,ti,dens, linestyles='dashed', colors='k')\n",
    "    plt.clabel(CS, fontsize=12, inline=1, fmt='%1.1f') # Label every second level\n",
    " \n",
    "    ts = ax1.scatter(salt,temp, c=press, cmap='gray', s=10)\n",
    "    plt.colorbar(ts )\n",
    "    plt.ylim(tmin,tmax)\n",
    "    plt.xlim(smin,smax)\n",
    " \n",
    "    ax1.set_xlabel('Salinity (PSU)')\n",
    "    ax1.set_ylabel('Temperature (C)')\n",
    "\n",
    "    \n",
    "    t = fig.suptitle(ptitle, fontsize=12, fontweight='bold')\n",
    "    t.set_y(1.08)\n",
    "    return fig  \n",
    "\n",
    "\n",
    "for glider, df in dfs.items():\n",
    "    plot_salvtemp(df['PSAL'],df['TEMP'],df['PRES'],ptitle=glider)\n",
    "\n"
   ]
  },
  {
   "cell_type": "code",
   "execution_count": null,
   "metadata": {},
   "outputs": [],
   "source": []
  }
 ],
 "metadata": {
  "kernelspec": {
   "display_name": "Python [conda env:py36]",
   "language": "python",
   "name": "conda-env-py36-py"
  },
  "language_info": {
   "codemirror_mode": {
    "name": "ipython",
    "version": 3
   },
   "file_extension": ".py",
   "mimetype": "text/x-python",
   "name": "python",
   "nbconvert_exporter": "python",
   "pygments_lexer": "ipython3",
   "version": "3.6.5"
  }
 },
 "nbformat": 4,
 "nbformat_minor": 2
}
