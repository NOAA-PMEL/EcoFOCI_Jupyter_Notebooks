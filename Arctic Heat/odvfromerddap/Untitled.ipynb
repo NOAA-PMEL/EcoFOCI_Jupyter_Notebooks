{
 "cells": [
  {
   "cell_type": "markdown",
   "id": "30249ca9-11a5-4cc3-a75e-4404b656d4d7",
   "metadata": {},
   "source": [
    "Interested in Fall ALAMO floats (need to have **xxx** measurements in Aug-Dec)\n",
    "Search by doy > 210"
   ]
  },
  {
   "cell_type": "code",
   "execution_count": null,
   "id": "dbc7a075-a7f1-448b-b1f5-5aa3b18093f4",
   "metadata": {},
   "outputs": [],
   "source": []
  },
  {
   "cell_type": "code",
   "execution_count": 1,
   "id": "1d9311ba-ef81-414d-a8a0-087774c315c2",
   "metadata": {},
   "outputs": [],
   "source": [
    "from erddapy import ERDDAP\n",
    "import pandas as pd\n",
    "import numpy as np"
   ]
  },
  {
   "cell_type": "code",
   "execution_count": 2,
   "id": "d92935d6-a48a-4510-b31a-4a100af770af",
   "metadata": {
    "tags": []
   },
   "outputs": [],
   "source": [
    "server_url='https://data.pmel.noaa.gov/alamo/erddap/'\n",
    "\n",
    "e = ERDDAP(server=server_url)\n",
    "\n",
    "df = pd.read_csv(e.get_search_url(response='csv', search_for='alamo'))"
   ]
  },
  {
   "cell_type": "code",
   "execution_count": 3,
   "id": "348d554f-6820-49e7-a08f-61d5b353bdee",
   "metadata": {
    "tags": []
   },
   "outputs": [
    {
     "name": "stdout",
     "output_type": "stream",
     "text": [
      "allDatasets\n",
      "arctic_heat_alamo_profiles_11010\n",
      "arctic_heat_alamo_profiles_11012\n",
      "arctic_heat_alamo_profiles_11014\n",
      "arctic_heat_alamo_profiles_11015\n",
      "arctic_heat_alamo_profiles_11016\n",
      "arctic_heat_alamo_profiles_11018\n",
      "arctic_heat_alamo_profiles_9058\n",
      "arctic_heat_alamo_profiles_9076\n",
      "arctic_heat_alamo_profiles_9085\n",
      "arctic_heat_alamo_profiles_9115\n",
      "arctic_heat_alamo_profiles_9116\n",
      "arctic_heat_alamo_profiles_9117\n",
      "arctic_heat_alamo_profiles_9119\n",
      "arctic_heat_alamo_profiles_9121\n",
      "arctic_heat_alamo_profiles_9150\n",
      "arctic_heat_alamo_profiles_9152\n",
      "arctic_heat_alamo_profiles_9153\n",
      "arctic_heat_alamo_profiles_9154\n",
      "arctic_heat_alamo_profiles_9155\n",
      "arctic_heat_alamo_profiles_9158\n",
      "arctic_heat_alamo_profiles_9164\n",
      "arctic_heat_alamo_profiles_9165\n",
      "arctic_heat_alamo_profiles_9167\n",
      "arctic_heat_alamo_profiles_9168\n",
      "arctic_heat_alamo_profiles_9169\n",
      "arctic_heat_alamo_profiles_9170\n",
      "arctic_heat_alamo_profiles_9172\n",
      "arctic_heat_alamo_profiles_9174\n",
      "arctic_heat_alamo_profiles_9176\n",
      "arctic_heat_alamo_profiles_9197\n",
      "arctic_heat_alamo_profiles_9199\n",
      "arctic_heat_alamo_profiles_9234\n"
     ]
    }
   ],
   "source": [
    "dfm2 = {}\n",
    "for dataset_id in sorted(df['Dataset ID'].values):\n",
    "    print(f'{dataset_id}')\n",
    "\n",
    "    try:\n",
    "        e = ERDDAP(server=server_url,\n",
    "            protocol='tabledap',\n",
    "            response='csv'\n",
    "        )\n",
    "        e.dataset_id=dataset_id\n",
    "    except HTTPError:\n",
    "        print('Failed to generate url {}'.format(dataset_id))\n",
    "        continue\n",
    "    try:\n",
    "        dftemp = e.to_pandas(\n",
    "                            index_col='time (UTC)',\n",
    "                            parse_dates=True,\n",
    "                            skiprows=(1,)  # units information can be dropped.\n",
    "                            )\n",
    "        dftemp.columns = [x[1].split()[0] for x in enumerate(dftemp.columns)]\n",
    "\n",
    "        ##resample as daily data \n",
    "        dfm2.update({dataset_id: dftemp})\n",
    "    except:\n",
    "        pass"
   ]
  },
  {
   "cell_type": "code",
   "execution_count": 29,
   "id": "9db7a146-351c-41c6-b1d7-81f8c59fb455",
   "metadata": {},
   "outputs": [
    {
     "name": "stdout",
     "output_type": "stream",
     "text": [
      "arctic_heat_alamo_profiles_11010: 170\n",
      "arctic_heat_alamo_profiles_11012: 423\n",
      "arctic_heat_alamo_profiles_11014: 334\n",
      "arctic_heat_alamo_profiles_11015: 430\n",
      "arctic_heat_alamo_profiles_11016: 254\n",
      "arctic_heat_alamo_profiles_11018: 288\n",
      "arctic_heat_alamo_profiles_9058: 0\n",
      "arctic_heat_alamo_profiles_9076: 243\n",
      "arctic_heat_alamo_profiles_9085: 241\n",
      "arctic_heat_alamo_profiles_9115: 0\n",
      "arctic_heat_alamo_profiles_9116: 0\n",
      "arctic_heat_alamo_profiles_9117: 0\n",
      "arctic_heat_alamo_profiles_9119: 504\n",
      "arctic_heat_alamo_profiles_9121: 160\n",
      "arctic_heat_alamo_profiles_9150: 61\n",
      "arctic_heat_alamo_profiles_9152: 163\n",
      "arctic_heat_alamo_profiles_9153: 100\n",
      "arctic_heat_alamo_profiles_9154: 66\n",
      "arctic_heat_alamo_profiles_9155: 33\n",
      "arctic_heat_alamo_profiles_9158: 39\n",
      "arctic_heat_alamo_profiles_9164: 65\n",
      "arctic_heat_alamo_profiles_9165: 47\n",
      "arctic_heat_alamo_profiles_9167: 43\n",
      "arctic_heat_alamo_profiles_9168: 61\n",
      "arctic_heat_alamo_profiles_9169: 17\n",
      "arctic_heat_alamo_profiles_9170: 48\n",
      "arctic_heat_alamo_profiles_9172: 12\n",
      "arctic_heat_alamo_profiles_9174: 12\n",
      "arctic_heat_alamo_profiles_9176: 28\n",
      "arctic_heat_alamo_profiles_9197: 139\n",
      "arctic_heat_alamo_profiles_9199: 209\n",
      "arctic_heat_alamo_profiles_9234: 118\n"
     ]
    }
   ],
   "source": [
    "for dataset in dfm2.keys():\n",
    "    fall = dfm2[dataset][dfm2[dataset].index.dayofyear > 210]\n",
    "    print(f'{dataset}: {len(fall.groupby(fall.CYCLE_NUMBER).latitude.count())}')"
   ]
  },
  {
   "cell_type": "code",
   "execution_count": 30,
   "id": "06c91a9d-bc71-40a2-9315-ffcc9338d4ec",
   "metadata": {},
   "outputs": [],
   "source": [
    "#>100 dives in window of interest\n",
    "fall_erddap_sn = ['arctic_heat_alamo_profiles_11010','arctic_heat_alamo_profiles_11012','arctic_heat_alamo_profiles_11014',\n",
    "                  'arctic_heat_alamo_profiles_11015','arctic_heat_alamo_profiles_11016','arctic_heat_alamo_profiles_11017',\n",
    "                  'arctic_heat_alamo_profiles_9076','arctic_heat_alamo_profiles_9085','arctic_heat_alamo_profiles_9119',\n",
    "                  'arctic_heat_alamo_profiles_9121','arctic_heat_alamo_profiles_9152','arctic_heat_alamo_profiles_9153',\n",
    "                  'arctic_heat_alamo_profiles_9197','arctic_heat_alamo_profiles_9199','arctic_heat_alamo_profiles_9234'\n",
    "                 ]"
   ]
  },
  {
   "cell_type": "code",
   "execution_count": null,
   "id": "13551019-e0d8-4888-962c-0d5bd850b314",
   "metadata": {},
   "outputs": [],
   "source": []
  }
 ],
 "metadata": {
  "kernelspec": {
   "display_name": "Python [conda env:py38] *",
   "language": "python",
   "name": "conda-env-py38-py"
  },
  "language_info": {
   "codemirror_mode": {
    "name": "ipython",
    "version": 3
   },
   "file_extension": ".py",
   "mimetype": "text/x-python",
   "name": "python",
   "nbconvert_exporter": "python",
   "pygments_lexer": "ipython3",
   "version": "3.8.8"
  }
 },
 "nbformat": 4,
 "nbformat_minor": 5
}
