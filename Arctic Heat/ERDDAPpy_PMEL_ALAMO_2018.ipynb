{
 "cells": [
  {
   "cell_type": "markdown",
   "metadata": {
    "extensions": {
     "jupyter_dashboards": {
      "version": 1,
      "views": {
       "grid_default": {
        "col": 0,
        "height": 4,
        "hidden": false,
        "row": 0,
        "width": 4
       },
       "report_default": {
        "hidden": false
       }
      }
     }
    }
   },
   "source": [
    "## ArcticHeat Alamo Deployments:\n",
    "** 2018 **\n",
    "\n",
    "__pyversion__==3.6   \n",
    "__author__==S.Bell"
   ]
  },
  {
   "cell_type": "markdown",
   "metadata": {
    "extensions": {
     "jupyter_dashboards": {
      "version": 1,
      "views": {
       "grid_default": {
        "col": 8,
        "height": 4,
        "hidden": false,
        "row": 0,
        "width": 4
       },
       "report_default": {
        "hidden": false
       }
      }
     }
    }
   },
   "source": [
    "### connecting and basic information"
   ]
  },
  {
   "cell_type": "code",
   "execution_count": 10,
   "metadata": {
    "extensions": {
     "jupyter_dashboards": {
      "version": 1,
      "views": {
       "grid_default": {
        "hidden": true
       },
       "report_default": {
        "hidden": true
       }
      }
     }
    }
   },
   "outputs": [],
   "source": [
    "from erddapy import ERDDAP\n",
    "import pandas as pd\n",
    "import numpy as np\n",
    "\n",
    "server_url='http://downdraft.pmel.noaa.gov:8080/erddap'\n",
    "e = ERDDAP(server=server_url)"
   ]
  },
  {
   "cell_type": "markdown",
   "metadata": {
    "extensions": {
     "jupyter_dashboards": {
      "version": 1,
      "views": {
       "grid_default": {
        "col": 0,
        "height": 4,
        "hidden": false,
        "row": 4,
        "width": 4
       },
       "report_default": {
        "hidden": false
       }
      }
     }
    }
   },
   "source": [
    "Get only ALAMO Float datafiles"
   ]
  },
  {
   "cell_type": "code",
   "execution_count": 11,
   "metadata": {
    "extensions": {
     "jupyter_dashboards": {
      "version": 1,
      "views": {
       "grid_default": {
        "hidden": true
       },
       "report_default": {
        "hidden": true
       }
      }
     }
    }
   },
   "outputs": [],
   "source": [
    "df = pd.read_csv(e.get_search_url(response='csv', search_for='ALAMO'))"
   ]
  },
  {
   "cell_type": "code",
   "execution_count": 12,
   "metadata": {
    "extensions": {
     "jupyter_dashboards": {
      "version": 1,
      "views": {
       "grid_default": {
        "col": 4,
        "height": 7,
        "hidden": false,
        "row": 4,
        "width": 4
       },
       "report_default": {
        "hidden": false
       }
      }
     }
    },
    "scrolled": true
   },
   "outputs": [
    {
     "name": "stdout",
     "output_type": "stream",
     "text": [
      "['arctic_heat_alamo_profiles_9058' 'arctic_heat_alamo_profiles_9076'\n",
      " 'arctic_heat_alamo_profiles_9085' 'arctic_heat_alamo_profiles_9115'\n",
      " 'arctic_heat_alamo_profiles_9116' 'arctic_heat_alamo_profiles_9117'\n",
      " 'arctic_heat_alamo_profiles_9119' 'arctic_heat_alamo_profiles_9150'\n",
      " 'arctic_heat_alamo_profiles_9152' 'arctic_heat_alamo_profiles_9153']\n"
     ]
    }
   ],
   "source": [
    "alamos = df['Dataset ID'].values\n",
    "print(alamos)"
   ]
  },
  {
   "cell_type": "code",
   "execution_count": 13,
   "metadata": {
    "extensions": {
     "jupyter_dashboards": {
      "version": 1,
      "views": {
       "grid_default": {
        "hidden": true
       },
       "report_default": {
        "hidden": true
       }
      }
     }
    }
   },
   "outputs": [],
   "source": [
    "kw = {\n",
    "    'standard_name': 'sea_water_temperature',\n",
    "    'min_lon': -180.0,\n",
    "    'max_lon': -130.0,\n",
    "    'min_lat': 65.0,\n",
    "    'max_lat': 90.0,\n",
    "    'min_time': '2018-01-10T00:00:00Z',\n",
    "    'max_time': '2019-01-10T00:00:00Z',\n",
    "    'cdm_data_type': 'trajectoryprofile'\n",
    "}"
   ]
  },
  {
   "cell_type": "code",
   "execution_count": 14,
   "metadata": {
    "extensions": {
     "jupyter_dashboards": {
      "version": 1,
      "views": {
       "grid_default": {
        "hidden": true
       },
       "report_default": {
        "hidden": true
       }
      }
     }
    }
   },
   "outputs": [
    {
     "data": {
      "text/plain": [
       "{'JULD', 'PRES', 'PSAL', 'TEMP', 'latitude', 'longitude', 'time'}"
      ]
     },
     "execution_count": 14,
     "metadata": {},
     "output_type": "execute_result"
    }
   ],
   "source": [
    "variables = [e.get_var_by_attr(dataset_id=alamo, standard_name=lambda v: v is not None) for alamo in alamos]\n",
    "\n",
    "common_variables = set(variables[0]).intersection(*variables[1:])\n",
    "\n",
    "common_variables "
   ]
  },
  {
   "cell_type": "code",
   "execution_count": 15,
   "metadata": {
    "extensions": {
     "jupyter_dashboards": {
      "version": 1,
      "views": {
       "grid_default": {
        "col": 0,
        "height": 5,
        "hidden": false,
        "row": 8,
        "width": 4
       },
       "report_default": {
        "hidden": false
       }
      }
     }
    }
   },
   "outputs": [
    {
     "name": "stdout",
     "output_type": "stream",
     "text": [
      "http://downdraft.pmel.noaa.gov:8080/erddap/tabledap/arctic_heat_alamo_profiles_9058.csv?PRES,longitude,JULD,latitude,time,PSAL,TEMP&longitude>=-180.0&longitude<=-130.0&latitude>=65.0&latitude<=90.0&time>=1515542400.0&time<=1547078400.0\n"
     ]
    }
   ],
   "source": [
    "constraints = {\n",
    "    'longitude>=': kw['min_lon'],\n",
    "    'longitude<=': kw['max_lon'],\n",
    "    'latitude>=': kw['min_lat'],\n",
    "    'latitude<=': kw['max_lat'],\n",
    "    'time>=': kw['min_time'],\n",
    "    'time<=': kw['max_time'],\n",
    "}\n",
    "\n",
    "download_url = e.get_download_url(\n",
    "    dataset_id=alamos[0],\n",
    "    protocol='tabledap',\n",
    "    response='csv',\n",
    "    variables=common_variables,\n",
    "    constraints=constraints\n",
    ")\n",
    "\n",
    "print(download_url)"
   ]
  },
  {
   "cell_type": "markdown",
   "metadata": {},
   "source": [
    "### retrieving erddap and plotting data"
   ]
  },
  {
   "cell_type": "code",
   "execution_count": 17,
   "metadata": {
    "extensions": {
     "jupyter_dashboards": {
      "version": 1,
      "views": {
       "grid_default": {
        "col": 8,
        "height": 7,
        "hidden": false,
        "row": 8,
        "width": 4
       },
       "report_default": {
        "hidden": false
       }
      }
     }
    }
   },
   "outputs": [
    {
     "name": "stdout",
     "output_type": "stream",
     "text": [
      "arctic_heat_alamo_profiles_9058\n",
      "arctic_heat_alamo_profiles_9076\n",
      "arctic_heat_alamo_profiles_9085\n",
      "arctic_heat_alamo_profiles_9115\n",
      "arctic_heat_alamo_profiles_9116\n",
      "arctic_heat_alamo_profiles_9117\n",
      "arctic_heat_alamo_profiles_9119\n",
      "arctic_heat_alamo_profiles_9150\n",
      "arctic_heat_alamo_profiles_9152\n",
      "arctic_heat_alamo_profiles_9153\n"
     ]
    }
   ],
   "source": [
    "from requests.exceptions import HTTPError\n",
    "\n",
    "dfs = {}\n",
    "for alamo in alamos:\n",
    "    print(alamo)\n",
    "    try:\n",
    "        e = ERDDAP(server=server_url,\n",
    "            protocol='tabledap',\n",
    "            response='csv'\n",
    "        )\n",
    "        e.constraints=constraints\n",
    "        e.variables=common_variables\n",
    "        e.dataset_id=alamo\n",
    "    except HTTPError:\n",
    "        print('Failed to generate url {}'.format(alamo))\n",
    "        continue\n",
    "    try:\n",
    "        dfs.update({alamo: e.to_pandas(\n",
    "                            index_col='time',\n",
    "                            parse_dates=True,\n",
    "                            skiprows=(1,)  # units information can be dropped.\n",
    "                            )})\n",
    "    except:\n",
    "        pass"
   ]
  },
  {
   "cell_type": "code",
   "execution_count": 18,
   "metadata": {
    "extensions": {
     "jupyter_dashboards": {
      "version": 1,
      "views": {
       "grid_default": {
        "col": 4,
        "height": 13,
        "hidden": false,
        "row": 11,
        "width": 4
       },
       "report_default": {
        "hidden": false
       }
      }
     }
    },
    "scrolled": false
   },
   "outputs": [
    {
     "data": {
      "image/png": "[encoded data removed]",
      "text/plain": [
       "<Figure size 576x576 with 1 Axes>"
      ]
     },
     "metadata": {},
     "output_type": "display_data"
    }
   ],
   "source": [
    "%matplotlib inline\n",
    "import matplotlib.pyplot as plt\n",
    "import cartopy.crs as ccrs\n",
    "import cartopy.feature as cfeature\n",
    "from cartopy.mpl.ticker import LongitudeFormatter, LatitudeFormatter\n",
    "\n",
    "\n",
    "def make_map(projection=ccrs.PlateCarree()):\n",
    "    fig, ax = plt.subplots(figsize=(8, 8),\n",
    "                           subplot_kw=dict(projection=projection))\n",
    "    if projection == ccrs.PlateCarree():\n",
    "        gl = ax.gridlines(draw_labels=True)\n",
    "        gl.xlabels_top = gl.ylabels_right = False\n",
    "        gl.xformatter = LONGITUDE_FORMATTER\n",
    "        gl.yformatter = LATITUDE_FORMATTER\n",
    "    return fig, ax\n",
    "\n",
    "projection=ccrs.LambertConformal(central_longitude=-160.0)\n",
    "transformation=ccrs.PlateCarree()\n",
    "\n",
    "land_50m = cfeature.NaturalEarthFeature('physical', 'land', '50m',\n",
    "                                        edgecolor='face',\n",
    "                                        facecolor='1.0')\n",
    "\n",
    "dx = dy = 0.5\n",
    "extent = -180, -130, kw['min_lat']+dy, kw['max_lat']+dy\n",
    "extent = [-176, -150, 65, 75]\n",
    "\n",
    "fig,ax = make_map(projection=projection)\n",
    "for alamo, df in dfs.items():\n",
    "    ax.plot(df['longitude'], df['latitude'], label=alamo, transform=transformation)\n",
    "\n",
    "leg = ax.legend()\n",
    "\n",
    "ax.add_feature(land_50m)\n",
    "ax.coastlines(resolution='50m')\n",
    "ax.set_extent(extent)"
   ]
  },
  {
   "cell_type": "code",
   "execution_count": null,
   "metadata": {},
   "outputs": [],
   "source": []
  },
  {
   "cell_type": "markdown",
   "metadata": {
    "extensions": {
     "jupyter_dashboards": {
      "version": 1,
      "views": {
       "grid_default": {
        "hidden": true
       },
       "report_default": {
        "hidden": true
       }
      }
     }
    }
   },
   "source": [
    "**Todo:** \n",
    "- Facets for TvS\n",
    "- Sfc Temp\n",
    "- Temp at Depth\n",
    "- profiles"
   ]
  }
 ],
 "metadata": {
  "extensions": {
   "jupyter_dashboards": {
    "activeView": "grid_default",
    "version": 1,
    "views": {
     "grid_default": {
      "cellMargin": 10,
      "defaultCellHeight": 20,
      "maxColumns": 12,
      "name": "grid",
      "type": "grid"
     },
     "report_default": {
      "name": "report",
      "type": "report"
     }
    }
   }
  },
  "kernelspec": {
   "display_name": "Python [conda env:gmt-python]",
   "language": "python",
   "name": "conda-env-gmt-python-py"
  },
  "language_info": {
   "codemirror_mode": {
    "name": "ipython",
    "version": 3
   },
   "file_extension": ".py",
   "mimetype": "text/x-python",
   "name": "python",
   "nbconvert_exporter": "python",
   "pygments_lexer": "ipython3",
   "version": "3.6.4"
  }
 },
 "nbformat": 4,
 "nbformat_minor": 2
}
