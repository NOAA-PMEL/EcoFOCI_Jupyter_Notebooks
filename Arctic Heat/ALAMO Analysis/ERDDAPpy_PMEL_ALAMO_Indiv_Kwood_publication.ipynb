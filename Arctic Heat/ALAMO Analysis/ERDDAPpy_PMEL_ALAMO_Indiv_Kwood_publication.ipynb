{
 "cells": [
  {
   "cell_type": "markdown",
   "metadata": {
    "extensions": {
     "jupyter_dashboards": {
      "version": 1,
      "views": {
       "grid_default": {
        "col": 0,
        "height": 4,
        "hidden": false,
        "row": 0,
        "width": 4
       },
       "report_default": {
        "hidden": false
       }
      }
     }
    }
   },
   "source": [
    "## ArcticHeat Alamo Deployments:\n",
    "** 2018 **\n",
    "\n",
    "Template for analysis of any desired instrument\n",
    "\n",
    "__pyversion__==3.7   \n",
    "__author__==S.Bell"
   ]
  },
  {
   "cell_type": "code",
   "execution_count": 1,
   "metadata": {},
   "outputs": [
    {
     "name": "stdout",
     "output_type": "stream",
     "text": [
      "Last run 2020-10-12 10:38:53.013318\n"
     ]
    }
   ],
   "source": [
    "import datetime\n",
    "print(\"Last run {0}\".format(datetime.datetime.now()))"
   ]
  },
  {
   "cell_type": "markdown",
   "metadata": {
    "extensions": {
     "jupyter_dashboards": {
      "version": 1,
      "views": {
       "grid_default": {
        "col": 8,
        "height": 4,
        "hidden": false,
        "row": 0,
        "width": 4
       },
       "report_default": {
        "hidden": false
       }
      }
     }
    }
   },
   "source": [
    "### connecting and basic information"
   ]
  },
  {
   "cell_type": "code",
   "execution_count": 2,
   "metadata": {
    "extensions": {
     "jupyter_dashboards": {
      "version": 1,
      "views": {
       "grid_default": {
        "hidden": true
       },
       "report_default": {
        "hidden": true
       }
      }
     }
    }
   },
   "outputs": [],
   "source": [
    "import warnings\n",
    "#remove the numpy/pandas/cython warnings\n",
    "warnings.filterwarnings(action='ignore', message=\"numpy.dtype size changed,\")\n",
    "\n",
    "from erddapy import ERDDAP\n",
    "import pandas as pd\n",
    "import numpy as np\n",
    "\n",
    "#server_url='http://downdraft.pmel.noaa.gov:8080/erddap'\n",
    "server_url='http://ferret.pmel.noaa.gov/alamo/erddap'\n",
    "e = ERDDAP(server=server_url)"
   ]
  },
  {
   "cell_type": "markdown",
   "metadata": {
    "extensions": {
     "jupyter_dashboards": {
      "version": 1,
      "views": {
       "grid_default": {
        "col": 0,
        "height": 4,
        "hidden": false,
        "row": 4,
        "width": 4
       },
       "report_default": {
        "hidden": false
       }
      }
     }
    }
   },
   "source": [
    "Get only ALAMO Float datafiles - can be found by searching for arctic.\n",
    "\n",
    "Searching on ALAMO provides an \"alldata\" response that would need to be filtered out"
   ]
  },
  {
   "cell_type": "code",
   "execution_count": 3,
   "metadata": {
    "extensions": {
     "jupyter_dashboards": {
      "version": 1,
      "views": {
       "grid_default": {
        "hidden": true
       },
       "report_default": {
        "hidden": true
       }
      }
     }
    }
   },
   "outputs": [],
   "source": [
    "df = pd.read_csv(e.get_search_url(response='csv', search_for='arctic'))"
   ]
  },
  {
   "cell_type": "code",
   "execution_count": 4,
   "metadata": {
    "extensions": {
     "jupyter_dashboards": {
      "version": 1,
      "views": {
       "grid_default": {
        "col": 4,
        "height": 7,
        "hidden": false,
        "row": 4,
        "width": 4
       },
       "report_default": {
        "hidden": false
       }
      }
     }
    },
    "scrolled": true
   },
   "outputs": [
    {
     "name": "stdout",
     "output_type": "stream",
     "text": [
      "['arctic_heat_alamo_profiles_11010' 'arctic_heat_alamo_profiles_11012'\n",
      " 'arctic_heat_alamo_profiles_11014' 'arctic_heat_alamo_profiles_11015'\n",
      " 'arctic_heat_alamo_profiles_11016' 'arctic_heat_alamo_profiles_11018'\n",
      " 'arctic_heat_alamo_profiles_9058' 'arctic_heat_alamo_profiles_9076'\n",
      " 'arctic_heat_alamo_profiles_9085' 'arctic_heat_alamo_profiles_9115'\n",
      " 'arctic_heat_alamo_profiles_9116' 'arctic_heat_alamo_profiles_9117'\n",
      " 'arctic_heat_alamo_profiles_9119' 'arctic_heat_alamo_profiles_9121'\n",
      " 'arctic_heat_alamo_profiles_9150' 'arctic_heat_alamo_profiles_9152'\n",
      " 'arctic_heat_alamo_profiles_9153' 'arctic_heat_alamo_profiles_9154'\n",
      " 'arctic_heat_alamo_profiles_9155' 'arctic_heat_alamo_profiles_9158'\n",
      " 'arctic_heat_alamo_profiles_9164' 'arctic_heat_alamo_profiles_9165'\n",
      " 'arctic_heat_alamo_profiles_9167' 'arctic_heat_alamo_profiles_9168'\n",
      " 'arctic_heat_alamo_profiles_9169' 'arctic_heat_alamo_profiles_9170'\n",
      " 'arctic_heat_alamo_profiles_9172' 'arctic_heat_alamo_profiles_9174'\n",
      " 'arctic_heat_alamo_profiles_9176' 'arctic_heat_alamo_profiles_9197'\n",
      " 'arctic_heat_alamo_profiles_9199' 'arctic_heat_alamo_profiles_9234']\n"
     ]
    }
   ],
   "source": [
    "alamos = df['Dataset ID'].values\n",
    "print(alamos)\n",
    "alamos = ['arctic_heat_alamo_profiles_9085']"
   ]
  },
  {
   "cell_type": "code",
   "execution_count": 5,
   "metadata": {
    "extensions": {
     "jupyter_dashboards": {
      "version": 1,
      "views": {
       "grid_default": {
        "hidden": true
       },
       "report_default": {
        "hidden": true
       }
      }
     }
    }
   },
   "outputs": [],
   "source": [
    "kw = {\n",
    "    'standard_name': 'sea_water_temperature',\n",
    "    'min_lon': -180.0,\n",
    "    'max_lon': -130.0,\n",
    "    'min_lat': 65.0,\n",
    "    'max_lat': 90.0,\n",
    "    'min_time': '2016-08-15T00:00:00Z',\n",
    "    'max_time': '2018-12-16T00:00:00Z',\n",
    "    'cdm_data_type': 'trajectoryprofile'\n",
    "}"
   ]
  },
  {
   "cell_type": "code",
   "execution_count": 6,
   "metadata": {
    "extensions": {
     "jupyter_dashboards": {
      "version": 1,
      "views": {
       "grid_default": {
        "hidden": true
       },
       "report_default": {
        "hidden": true
       }
      }
     }
    }
   },
   "outputs": [],
   "source": [
    "variables = [e.get_var_by_attr(dataset_id=alamo, standard_name=lambda v: v is not None) for alamo in alamos]"
   ]
  },
  {
   "cell_type": "code",
   "execution_count": 7,
   "metadata": {
    "extensions": {
     "jupyter_dashboards": {
      "version": 1,
      "views": {
       "grid_default": {
        "hidden": true
       },
       "report_default": {
        "hidden": true
       }
      }
     }
    }
   },
   "outputs": [],
   "source": [
    "common_variables = set(variables[0]).intersection(*variables[1:])\n",
    "\n",
    "common_variables.update(['CYCLE_NUMBER']) \n"
   ]
  },
  {
   "cell_type": "code",
   "execution_count": 8,
   "metadata": {
    "extensions": {
     "jupyter_dashboards": {
      "version": 1,
      "views": {
       "grid_default": {
        "col": 0,
        "height": 5,
        "hidden": false,
        "row": 8,
        "width": 4
       },
       "report_default": {
        "hidden": false
       }
      }
     }
    }
   },
   "outputs": [
    {
     "name": "stdout",
     "output_type": "stream",
     "text": [
      "http://ferret.pmel.noaa.gov/alamo/erddap/tabledap/arctic_heat_alamo_profiles_9085.csv?time,PSAL,TEMP,latitude,JULD_LOCATION,PRES,longitude,CYCLE_NUMBER\n"
     ]
    }
   ],
   "source": [
    "constraints = {\n",
    "    'longitude>=': kw['min_lon'],\n",
    "    'longitude<=': kw['max_lon'],\n",
    "    'latitude>=': kw['min_lat'],\n",
    "    'latitude<=': kw['max_lat'],\n",
    "    'time>=': kw['min_time'],\n",
    "    'time<=': kw['max_time'],\n",
    "}\n",
    "\n",
    "download_url = e.get_download_url(\n",
    "    dataset_id=alamos[0],\n",
    "    protocol='tabledap',\n",
    "    response='csv',\n",
    "    variables=common_variables,\n",
    ")\n",
    "\n",
    "print(download_url)"
   ]
  },
  {
   "cell_type": "markdown",
   "metadata": {},
   "source": [
    "### retrieving erddap and plotting data"
   ]
  },
  {
   "cell_type": "code",
   "execution_count": 9,
   "metadata": {
    "extensions": {
     "jupyter_dashboards": {
      "version": 1,
      "views": {
       "grid_default": {
        "col": 8,
        "height": 7,
        "hidden": false,
        "row": 8,
        "width": 4
       },
       "report_default": {
        "hidden": false
       }
      }
     }
    }
   },
   "outputs": [
    {
     "name": "stdout",
     "output_type": "stream",
     "text": [
      "arctic_heat_alamo_profiles_9085\n"
     ]
    }
   ],
   "source": [
    "from requests.exceptions import HTTPError\n",
    "\n",
    "dfs = {}\n",
    "for alamo in alamos:\n",
    "    print(alamo)\n",
    "    try:\n",
    "        e = ERDDAP(server=server_url,\n",
    "            protocol='tabledap',\n",
    "            response='csv'\n",
    "        )\n",
    "        e.constraints=constraints\n",
    "        e.variables=common_variables\n",
    "        e.dataset_id=alamo\n",
    "    except HTTPError:\n",
    "        print('Failed to generate url {}'.format(alamo))\n",
    "        continue\n",
    "    try:\n",
    "        dfs.update({alamo: e.to_pandas(\n",
    "                            index_col='time (UTC)',\n",
    "                            parse_dates=True\n",
    "                            )})\n",
    "    except:\n",
    "        print('Failed to ingest {}'.format(alamo))\n"
   ]
  },
  {
   "cell_type": "code",
   "execution_count": 10,
   "metadata": {},
   "outputs": [],
   "source": [
    "%matplotlib inline\n",
    "import matplotlib as mpl\n",
    "import matplotlib.pyplot as plt\n",
    "import cartopy.crs as ccrs\n",
    "import cartopy.feature as cfeature\n",
    "from cartopy.mpl.ticker import LongitudeFormatter, LatitudeFormatter\n",
    "\n"
   ]
  },
  {
   "cell_type": "code",
   "execution_count": 11,
   "metadata": {},
   "outputs": [],
   "source": [
    "from matplotlib import colors as mcolors\n",
    "\n",
    "\n",
    "colors = dict(mcolors.BASE_COLORS, **mcolors.CSS4_COLORS)\n",
    "clist = list(colors.keys())\n"
   ]
  },
  {
   "cell_type": "code",
   "execution_count": 12,
   "metadata": {},
   "outputs": [],
   "source": [
    "### specify primary bulk figure parameters\n",
    "fontsize = 10\n",
    "labelsize = 10\n",
    "#plotstyle = 'seaborn'\n",
    "max_xticks = 10\n",
    "plt.style.use('seaborn-ticks')\n",
    "mpl.rcParams['svg.fonttype'] = 'none'\n",
    "mpl.rcParams['ps.fonttype'] = 42 #truetype/type2 fonts instead of type3\n",
    "mpl.rcParams['pdf.fonttype'] = 42 #truetype/type2 fonts instead of type3\n",
    "mpl.rcParams['axes.grid'] = False\n",
    "mpl.rcParams['axes.edgecolor'] = 'black'\n",
    "mpl.rcParams['axes.linewidth'] = 1.5\n",
    "mpl.rcParams['axes.labelcolor'] = 'black'\n",
    "mpl.rcParams['grid.linestyle'] = '--'\n",
    "mpl.rcParams['grid.linestyle'] = '--'\n",
    "mpl.rcParams['xtick.major.size'] = 4\n",
    "mpl.rcParams['xtick.minor.size'] = 2\n",
    "mpl.rcParams['xtick.major.width'] = 2\n",
    "mpl.rcParams['xtick.minor.width'] = 0.5\n",
    "mpl.rcParams['ytick.major.size'] = 4\n",
    "mpl.rcParams['ytick.minor.size'] = 2\n",
    "mpl.rcParams['ytick.major.width'] = 2\n",
    "mpl.rcParams['ytick.minor.width'] = 0.5\n",
    "mpl.rcParams['ytick.direction'] = 'out'\n",
    "mpl.rcParams['xtick.direction'] = 'out'\n",
    "mpl.rcParams['ytick.color'] = 'black'\n",
    "mpl.rcParams['xtick.color'] = 'black'"
   ]
  },
  {
   "cell_type": "code",
   "execution_count": 13,
   "metadata": {
    "extensions": {
     "jupyter_dashboards": {
      "version": 1,
      "views": {
       "grid_default": {
        "col": 4,
        "height": 13,
        "hidden": false,
        "row": 11,
        "width": 4
       },
       "report_default": {
        "hidden": false
       }
      }
     }
    }
   },
   "outputs": [
    {
     "data": {
      "image/png": "[encoded data removed]",
      "text/plain": [
       "<Figure size 576x576 with 1 Axes>"
      ]
     },
     "metadata": {},
     "output_type": "display_data"
    }
   ],
   "source": [
    "\n",
    "def make_map(projection=ccrs.PlateCarree()):\n",
    "    fig, ax = plt.subplots(figsize=(8, 8),\n",
    "                           subplot_kw=dict(projection=projection))\n",
    "    if projection == ccrs.PlateCarree():\n",
    "        gl = ax.gridlines(draw_labels=True)\n",
    "        gl.xlabels_top = gl.ylabels_right = False\n",
    "        gl.xformatter = LONGITUDE_FORMATTER\n",
    "        gl.yformatter = LATITUDE_FORMATTER\n",
    "    return fig, ax\n",
    "\n",
    "projection=ccrs.LambertConformal(central_longitude=-160.0)\n",
    "transformation=ccrs.PlateCarree()\n",
    "\n",
    "land_50m = cfeature.NaturalEarthFeature('physical', 'land', '50m',\n",
    "                                        edgecolor='face',\n",
    "                                        facecolor='1.0')\n",
    "dx = dy = 0.5\n",
    "extent = [-180, -150, 67.5, 77.5]\n",
    "\n",
    "fig,ax = make_map(projection=projection)\n",
    "acount = 0\n",
    "for alamo, df in dfs.items():\n",
    "    #if alamo in ['arctic_heat_alamo_profiles_9152','arctic_heat_alamo_profiles_9119']:\n",
    "    ax.plot(df['longitude (degrees_east)'], df['latitude (degrees_north)'], color=colors[clist[acount]], label=alamo, transform=transformation)\n",
    "    ax.plot(df['longitude (degrees_east)'], df['latitude (degrees_north)'], '+k', markersize=1, label=alamo, transform=transformation)\n",
    "    acount +=4\n",
    "leg = ax.legend(bbox_to_anchor=(1.45,1), loc='upper right')\n",
    "\n",
    "ax.add_feature(land_50m)\n",
    "ax.coastlines(resolution='50m')\n",
    "ax.set_extent(extent)\n",
    "\n",
    "#fig.savefig('map.svg',dpi=300)"
   ]
  },
  {
   "cell_type": "code",
   "execution_count": 14,
   "metadata": {
    "extensions": {
     "jupyter_dashboards": {
      "version": 1,
      "views": {
       "grid_default": {
        "col": 4,
        "height": 13,
        "hidden": false,
        "row": 11,
        "width": 4
       },
       "report_default": {
        "hidden": false
       }
      }
     }
    }
   },
   "outputs": [
    {
     "data": {
      "image/png": "[encoded data removed]",
      "text/plain": [
       "<Figure size 576x576 with 1 Axes>"
      ]
     },
     "metadata": {},
     "output_type": "display_data"
    }
   ],
   "source": [
    "#zoom to chukchi\n",
    "dx = dy = 0.5\n",
    "extent = [-176, -150, 67.5, 72.5]\n",
    "\n",
    "fig,ax = make_map(projection=projection)\n",
    "acount = 0\n",
    "for alamo, df in dfs.items():\n",
    "    #if alamo in ['arctic_heat_alamo_profiles_9152','arctic_heat_alamo_profiles_9119']:\n",
    "    ax.plot(df['longitude (degrees_east)'], df['latitude (degrees_north)'], color=colors[clist[acount]], label=alamo, transform=transformation)\n",
    "    ax.plot(df['longitude (degrees_east)'], df['latitude (degrees_north)'], '+k', markersize=1, label=alamo, transform=transformation)\n",
    "    acount +=4\n",
    "leg = ax.legend(bbox_to_anchor=(1.45,1), loc='upper right')\n",
    "\n",
    "ax.add_feature(land_50m)\n",
    "ax.coastlines(resolution='50m')\n",
    "ax.set_extent(extent)\n",
    "\n",
    "#fig.savefig('map.svg',dpi=300)"
   ]
  },
  {
   "cell_type": "markdown",
   "metadata": {},
   "source": [
    "or as a dynamic page seved in an iframe (needs to be a public page?)"
   ]
  },
  {
   "cell_type": "code",
   "execution_count": 15,
   "metadata": {},
   "outputs": [],
   "source": [
    "def show_iframe(src):\n",
    "    \"\"\"Helper function to show HTML returns.\"\"\"\n",
    "    from IPython.display import HTML\n",
    "    iframe = '<iframe src=\"{src}\" width=\"100%\" height=\"950\"></iframe>'.format\n",
    "    return HTML(iframe(src=src))\n",
    "\n",
    "#show_iframe('https://www.pmel.noaa.gov')\n"
   ]
  },
  {
   "cell_type": "code",
   "execution_count": 16,
   "metadata": {},
   "outputs": [
    {
     "data": {
      "text/plain": [
       "Index(['PSAL (PSU)', 'TEMP (degree_Celsius)', 'latitude (degrees_north)',\n",
       "       'JULD_LOCATION (UTC)', 'PRES (decibar)', 'longitude (degrees_east)',\n",
       "       'CYCLE_NUMBER'],\n",
       "      dtype='object')"
      ]
     },
     "execution_count": 16,
     "metadata": {},
     "output_type": "execute_result"
    }
   ],
   "source": [
    "df.columns"
   ]
  },
  {
   "cell_type": "markdown",
   "metadata": {},
   "source": [
    "## Depth v Time/Dive Profiles"
   ]
  },
  {
   "cell_type": "code",
   "execution_count": 22,
   "metadata": {},
   "outputs": [
    {
     "data": {
      "image/png": "[encoded data removed]",
      "text/plain": [
       "<Figure size 468x162 with 2 Axes>"
      ]
     },
     "metadata": {
      "needs_background": "light"
     },
     "output_type": "display_data"
    }
   ],
   "source": [
    "%matplotlib inline\n",
    "import matplotlib.pyplot as plt\n",
    "from matplotlib.dates import YearLocator, WeekdayLocator, MonthLocator, DayLocator, HourLocator, DateFormatter\n",
    "import matplotlib.ticker as ticker\n",
    "import matplotlib.dates as mdates\n",
    "from matplotlib.ticker import NullFormatter  # useful for `logit` scale\n",
    "import cmocean\n",
    "\n",
    "for dfn, df in dfs.items():\n",
    "    fig, ax1 = plt.subplots(figsize=(6.5, 2.25))\n",
    "    cs = ax1.scatter(df.index, df['PRES (decibar)'], s=15, c=df['TEMP (degree_Celsius)'],\n",
    "                    marker='o', edgecolor='none', vmin=-2, vmax=10, cmap=cmocean.cm.thermal)\n",
    "\n",
    "    cbar = fig.colorbar(cs, ticks=[-2, 0, 2, 4, 6, 8, 10], orientation='vertical', extend='both')\n",
    "    cbar.ax.set_ylabel('Temperature ($^\\circ$C)')\n",
    "    cbar.ax.set_yticklabels([-2, 0, 2, 4, 6, 8, 10])\n",
    "    ax1.set_ylabel('Depth (m)')\n",
    "    #ax1.set_xlabel(dfn)\n",
    "    \n",
    "    ax1.invert_yaxis()\n",
    "    ax1.yaxis.set_minor_locator(ticker.MultipleLocator(2.5))\n",
    "    ax1.xaxis.set_major_locator(DayLocator(bymonthday=15))\n",
    "    ax1.xaxis.set_minor_locator(DayLocator(bymonthday=range(0,31,5)))\n",
    "    ax1.xaxis.set_major_formatter(ticker.NullFormatter())\n",
    "    ax1.xaxis.set_minor_formatter(DateFormatter('%d'))\n",
    "    ax1.xaxis.set_major_formatter(DateFormatter('%b %y'))\n",
    "    ax1.xaxis.set_tick_params(which='major', pad=15)\n",
    "    ax1.xaxis.set_tick_params(which='minor', pad=5)\n",
    "    ax1.set_xlim([datetime.datetime(2017,8,13),datetime.datetime(2017,12,17)])\n",
    "    ax1.set_ylim([50,0])\n",
    "    \n",
    "    fig.savefig(dfn+'.kwood.png',dpi=300)\n",
    "    fig.savefig(dfn+'.kwood.svg',dpi=300)    "
   ]
  },
  {
   "cell_type": "code",
   "execution_count": null,
   "metadata": {},
   "outputs": [],
   "source": [
    "for dfn, df in dfs.items():\n",
    "    fig, ax = plt.subplots(figsize=(17, 2))\n",
    "    cs = ax.scatter(df.index, df['PRES (decibar)'], s=15, c=df['PSAL (PSU)'], marker='o', edgecolor='none', vmin=28, vmax=33,cmap=cmocean.cm.haline)\n",
    "\n",
    "    ax.invert_yaxis()\n",
    "    ax.set_xlim(df.index[0], df.index[-1])\n",
    "    xfmt = mdates.DateFormatter('%d-%b')\n",
    "    ax.xaxis.set_major_formatter(xfmt)\n",
    "\n",
    "    cbar = fig.colorbar(cs, orientation='vertical', extend='both')\n",
    "    cbar.ax.set_ylabel('Salinity (PSU)')\n",
    "    ax.set_ylabel('Depth (m)')\n",
    "    ax.set_xlabel(dfn)"
   ]
  },
  {
   "cell_type": "code",
   "execution_count": null,
   "metadata": {},
   "outputs": [],
   "source": [
    "#depth averaged temp - interpolate to 1m bins before averaging\n",
    "acount=0\n",
    "legend_label=[]\n",
    "\n",
    "fig, ax = plt.subplots(figsize=(17, 2))\n",
    "for dfn, df in dfs.items():\n",
    "    fg = df.groupby('CYCLE_NUMBER')\n",
    "\n",
    "    for ind,fgi in enumerate(fg.groups):\n",
    "        IntTemp = np.interp(np.arange(0,50,1),fg.get_group(fgi)['PRES (decibar)'], fg.get_group(fgi)['TEMP (degree_Celsius)'], left=np.nan, right=np.nan)\n",
    "        cs = ax.scatter(fg.get_group(fgi).index[0], np.nanmean(IntTemp), s=15, c=clist[acount], marker='o', edgecolor='none')\n",
    "\n",
    "    xfmt = mdates.DateFormatter('%d-%b')\n",
    "    ax.xaxis.set_major_formatter(xfmt)\n",
    "\n",
    "    ax.set_ylabel('Temperature (degC)')\n",
    "    ax.set_xlabel('Time (UTC)')\n",
    "    acount+=4\n",
    "    \n",
    "    legend_label.append(dfn)\n",
    "\n",
    "\n",
    "# Shrink current axis by 20%\n",
    "box = ax.get_position()\n",
    "ax.set_position([box.x0, box.y0, box.width * 0.8, box.height])\n",
    "\n",
    "# Put a legend to the right of the current axis\n",
    "ax.legend(legend_label, loc='center left', bbox_to_anchor=(1, 0.5))\n",
    "\n",
    "leg = ax.get_legend()\n",
    "acount = 0\n",
    "for i in range(0,len(legend_label),1):\n",
    "    leg.legendHandles[i].set_color(colors[clist[acount]])\n",
    "    acount+=4"
   ]
  },
  {
   "cell_type": "code",
   "execution_count": null,
   "metadata": {
    "slideshow": {
     "slide_type": "subslide"
    }
   },
   "outputs": [],
   "source": [
    "### Plot settings\n",
    "mpl.rcParams['axes.linewidth'] = 2\n",
    "mpl.rcParams['font.size'] = 21\n",
    "mpl.rcParams['font.sans-serif'] = \"Arial\"\n",
    "mpl.rcParams['font.family'] = \"sans-serif\"\n",
    "mpl.rcParams['font.weight'] = 'light'\n",
    "mpl.rcParams['svg.fonttype'] = 'none'\n",
    "mpl.rcParams.update({'figure.autolayout': True})\n"
   ]
  },
  {
   "cell_type": "code",
   "execution_count": null,
   "metadata": {},
   "outputs": [],
   "source": [
    "#depth averaged temp for specific bins from 1m binned/interpolated data\n",
    "acount=0\n",
    "legend_label=[]\n",
    "\n",
    "fig, ax = plt.subplots(figsize=(18, 4), facecolor='w', edgecolor='w')\n",
    "for dfn, df in dfs.items():\n",
    "    fg = df.groupby('CYCLE_NUMBER')\n",
    "\n",
    "    for ind,fgi in enumerate(fg.groups):\n",
    "        IntTemp = np.interp(np.arange(5,15,1),fg.get_group(fgi)['PRES (decibar)'], fg.get_group(fgi)['TEMP (degree_Celsius)'], left=np.nan, right=np.nan)\n",
    "        cs = ax.scatter(fg.get_group(fgi).index[0], np.nanmean(IntTemp), s=15, marker='o', edgecolor='none', facecolor='black')\n",
    "        print(fg.get_group(fgi)['time (UTC)'].min(), np.nanmean(IntTemp))\n",
    "        IntTemp = np.interp(np.arange(25,35,1),fg.get_group(fgi)['PRES (decibar)'], fg.get_group(fgi)['TEMP (degree_Celsius)'], left=np.nan, right=np.nan)\n",
    "        cs = ax.scatter(fg.get_group(fgi).index[0], np.nanmean(IntTemp), s=15, marker='+', edgecolor='none', facecolor='blue')\n",
    "\n",
    "    xfmt = mdates.DateFormatter('%d-%b')\n",
    "    ax.xaxis.set_major_formatter(xfmt)\n",
    "\n",
    "    ax.set_ylabel('Temperature (degC)')\n",
    "    ax.set_xlabel('Time (UTC)')\n",
    "    acount+=4\n",
    "    \n",
    "legend_label=['5-15m','25-35m']\n",
    "\n",
    "ax.yaxis.set_major_locator(ticker.MultipleLocator(2))\n",
    "ax.yaxis.set_minor_locator(ticker.MultipleLocator(1))\n",
    "ax.xaxis.set_major_locator(DayLocator(bymonthday=15))\n",
    "ax.xaxis.set_minor_locator(DayLocator(bymonthday=range(0,31,15)))\n",
    "ax.xaxis.set_major_formatter(ticker.NullFormatter())\n",
    "ax.xaxis.set_minor_formatter(DateFormatter('%d'))\n",
    "ax.xaxis.set_major_formatter(DateFormatter('%b %y'))\n",
    "ax.xaxis.set_tick_params(which='major', pad=20)\n",
    "ax.xaxis.set_tick_params(which='minor', pad=5)\n",
    "    \n",
    "# Put a legend to the right of the current axis\n",
    "ax.legend(legend_label)\n",
    "\n",
    "#fig.tight_layout()\n",
    "fig.savefig(alamo+'_depthave.png',dpi=300)\n",
    "fig.savefig(alamo+'_depthave.svg',dpi=300)"
   ]
  },
  {
   "cell_type": "markdown",
   "metadata": {},
   "source": [
    "This is not biased due to sample frequency, but it will only give the value in the region of the column measured (so incomplete profiles are not interpolated to the top and bottom)"
   ]
  },
  {
   "cell_type": "markdown",
   "metadata": {},
   "source": [
    "# Sal/Temp Contour Overlay\n",
    "\n",
    "Get data in xarray format"
   ]
  },
  {
   "cell_type": "code",
   "execution_count": null,
   "metadata": {},
   "outputs": [],
   "source": [
    "import matplotlib.pyplot as plt\n",
    "import matplotlib as mpl\n",
    "from matplotlib.dates import YearLocator, WeekdayLocator, MonthLocator, DayLocator, HourLocator, DateFormatter\n",
    "import matplotlib.ticker as ticker"
   ]
  },
  {
   "cell_type": "code",
   "execution_count": null,
   "metadata": {
    "slideshow": {
     "slide_type": "subslide"
    }
   },
   "outputs": [],
   "source": [
    "### Plot settings\n",
    "mpl.rcParams['axes.linewidth'] = 1\n",
    "mpl.rcParams['font.size'] = 10\n",
    "mpl.rcParams['font.sans-serif'] = \"Arial\"\n",
    "mpl.rcParams['font.family'] = \"sans-serif\"\n",
    "mpl.rcParams['font.weight'] = 'light'\n",
    "mpl.rcParams['svg.fonttype'] = 'none'"
   ]
  },
  {
   "cell_type": "code",
   "execution_count": null,
   "metadata": {},
   "outputs": [],
   "source": [
    "for alamo in alamos:\n",
    "    print(alamo)\n",
    "    try:\n",
    "        e = ERDDAP(server=server_url,\n",
    "            protocol='tabledap',\n",
    "            response='csv'\n",
    "        )\n",
    "        e.constraints=constraints\n",
    "        e.variables=common_variables\n",
    "        e.dataset_id=alamo\n",
    "    except HTTPError:\n",
    "        print('Failed to generate url {}'.format(alamo))\n",
    "        continue\n",
    "    try:\n",
    "        dataxa = e.to_xarray(decode_times=True)\n",
    "    except:\n",
    "        print('Failed to ingest {}'.format(alamo))\n"
   ]
  },
  {
   "cell_type": "code",
   "execution_count": null,
   "metadata": {},
   "outputs": [],
   "source": [
    "def plot_temperature_saloverlay():\n",
    "    dgb = dataxa.groupby('CYCLE_NUMBER')\n",
    "\n",
    "    depth_array = np.arange(0,400,1)\n",
    "    temparray = np.ones((len(dgb.groups.keys()),len(depth_array)))*np.nan\n",
    "    temparrays = np.ones((len(dgb.groups.keys()),len(depth_array)))*np.nan\n",
    "    ProfileTime = []\n",
    "    cycle_col = 0\n",
    "\n",
    "    fig, ax1 = plt.subplots(figsize=(18, 4), facecolor='w', edgecolor='w')\n",
    "\n",
    "    for k,cycle in enumerate(dgb.groups):\n",
    "        if not ((dataxa.TEMP[dataxa.CYCLE_NUMBER==cycle].shape[0])==0):\n",
    "            temp_time =  dataxa.time[dataxa.CYCLE_NUMBER==cycle]\n",
    "            ProfileTime = ProfileTime + [temp_time]\n",
    "            #remove where pressure may be unknown\n",
    "            Pressure = dataxa.PRES[dataxa.CYCLE_NUMBER==cycle]\n",
    "            Temperature = dataxa.TEMP[dataxa.CYCLE_NUMBER==cycle]\n",
    "            Salinity = dataxa.PSAL[dataxa.CYCLE_NUMBER==cycle]\n",
    "\n",
    "            temparray[cycle_col,:]  = np.interp(depth_array,Pressure.data,Temperature.data,left=np.nan,right=np.nan)\n",
    "            temparrays[cycle_col,:] = np.interp(depth_array,Pressure.data,Salinity.data,left=np.nan,right=np.nan)\n",
    "\n",
    "            cycle_col +=1\n",
    "\n",
    "            ###plot black dots at sample points\n",
    "            #plt.scatter(x=temp_time.data, y=Pressure,s=1,marker='.', edgecolors='none', c='k', zorder=3, alpha=1)\n",
    "            ###plot colored dots at sample points with colorscheme based on  variable value\n",
    "            plt.scatter(x=temp_time.data, y=Pressure,s=30,marker='.', edgecolors='none', c=Temperature, \n",
    "              vmin=-2, vmax=10, cmap=cmocean.cm.thermal, zorder=2)\n",
    "        else:\n",
    "            print(\"empty\")\n",
    "\n",
    "    time_array = np.array([x[0].data for x in ProfileTime])\n",
    "    cs = plt.contourf(time_array,depth_array,temparray.T, \n",
    "        extend='both', cmap=cmocean.cm.thermal, \n",
    "        levels=np.arange(-2,10.25,0.25), alpha=0.9,zorder=1)\n",
    "    cbar = fig.colorbar(cs, ticks=range(-2,12,2), orientation='vertical', extend='both')\n",
    "    cbar.ax.set_ylabel('Temperature ($^\\circ$C)')\n",
    "\n",
    "    plt.contour(time_array,depth_array,temparray.T,np.arange(-2,10,1), colors='#d3d3d3',linewidths=1, alpha=0.5,zorder=3)\n",
    "\n",
    "    CS=plt.contour(time_array,depth_array,temparrays.T,np.arange(30,33,0.5),linewidths=1.0, linestyles='dashed',colors='#000000',zorder=4)\n",
    "    plt.clabel(CS, inline=1, fontsize=16, fmt='%1.2f')\n",
    "\n",
    "    ax1.invert_yaxis()\n",
    "    ax1.yaxis.set_minor_locator(ticker.MultipleLocator(2.5))\n",
    "    ax1.xaxis.set_major_locator(DayLocator(bymonthday=15))\n",
    "    ax1.xaxis.set_minor_locator(DayLocator(bymonthday=range(0,31,5)))\n",
    "    ax1.xaxis.set_major_formatter(ticker.NullFormatter())\n",
    "    ax1.xaxis.set_minor_formatter(DateFormatter('%d'))\n",
    "    ax1.xaxis.set_major_formatter(DateFormatter('%b %y'))\n",
    "    ax1.xaxis.set_tick_params(which='major', pad=25)\n",
    "    ax1.xaxis.set_tick_params(which='minor', pad=5)\n",
    "    #ax1.set_xlim(['2018-06-17','2018-07-17'])\n",
    "    ax1.set_ylim([50,0])\n",
    "\n",
    "    fig.savefig(alamo+'.png',dpi=300)\n",
    "    fig.savefig(alamo+'.svg',dpi=300)"
   ]
  },
  {
   "cell_type": "code",
   "execution_count": null,
   "metadata": {},
   "outputs": [],
   "source": [
    "def plot_temperature():\n",
    "    dgb = dataxa.groupby('CYCLE_NUMBER')\n",
    "\n",
    "    depth_array = np.arange(0,400,1)\n",
    "    temparray = np.ones((len(dgb.groups.keys()),len(depth_array)))*np.nan\n",
    "    ProfileTime = []\n",
    "    cycle_col = 0\n",
    "\n",
    "    fig, ax1 = plt.subplots(figsize=(6.5, 2.66), facecolor='w', edgecolor='w')\n",
    "\n",
    "    for k,cycle in enumerate(dgb.groups):\n",
    "        if not ((dataxa.TEMP[dataxa.CYCLE_NUMBER==cycle].shape[0])==0):\n",
    "            temp_time =  dataxa.time[dataxa.CYCLE_NUMBER==cycle]\n",
    "            ProfileTime = ProfileTime + [temp_time]\n",
    "            #remove where pressure may be unknown\n",
    "            Pressure = dataxa.PRES[dataxa.CYCLE_NUMBER==cycle]\n",
    "            Temperature = dataxa.TEMP[dataxa.CYCLE_NUMBER==cycle]\n",
    "            temparray[cycle_col,:]  = np.interp(depth_array,Pressure.data,Temperature.data,left=np.nan,right=np.nan)\n",
    "\n",
    "            cycle_col +=1\n",
    "\n",
    "            ###plot black dots at sample points\n",
    "            #plt.scatter(x=temp_time.data, y=Pressure,s=1,marker='.', edgecolors='none', c='k', zorder=3, alpha=1)\n",
    "            ###plot colored dots at sample points with colorscheme based on  variable value\n",
    "            plt.scatter(x=temp_time.data, y=Pressure,s=30,marker='.', edgecolors='none', c=Temperature, \n",
    "              vmin=-2, vmax=10, cmap=cmocean.cm.thermal, zorder=2)\n",
    "        else:\n",
    "            print(\"empty\")\n",
    "\n",
    "\n",
    "    time_array = np.array([x[0].data for x in ProfileTime])\n",
    "    cs = plt.contourf(time_array,depth_array,temparray.T, \n",
    "        extend='both', cmap=cmocean.cm.thermal, \n",
    "        levels=np.arange(-2,10.25,0.25), alpha=0.9,zorder=1)\n",
    "    cbar = fig.colorbar(cs, ticks=range(-2,12,2), orientation='vertical', extend='both')\n",
    "    cbar.ax.set_ylabel('Temperature ($^\\circ$C)', fontsize=10)\n",
    "    cbar.ax.set_yticklabels(['-2','0','2','4','6','8','10'], fontsize=10)\n",
    "    \n",
    "    plt.contour(time_array,depth_array,temparray.T,np.arange(-2,10,1), colors='#d3d3d3',linewidths=1, alpha=1.0,zorder=3)\n",
    "\n",
    "    ax1.invert_yaxis()\n",
    "    ax1.yaxis.set_major_locator(ticker.MultipleLocator(25))\n",
    "    ax1.yaxis.set_minor_locator(ticker.MultipleLocator(5))\n",
    "    ax1.xaxis.set_major_locator(DayLocator(bymonthday=15))\n",
    "    ax1.xaxis.set_minor_locator(DayLocator(bymonthday=range(0,31,5)))\n",
    "    ax1.xaxis.set_major_formatter(ticker.NullFormatter())\n",
    "    ax1.xaxis.set_minor_formatter(DateFormatter('%d'))\n",
    "    ax1.xaxis.set_major_formatter(DateFormatter('%b %y'))\n",
    "    ax1.xaxis.set_tick_params(which='major', pad=25)\n",
    "    ax1.xaxis.set_tick_params(which='minor', pad=5)\n",
    "    #ax1.set_xlim([datetime.datetime(2018,6,15),datetime.datetime(2018,12,30)])\n",
    "    ax1.set_ylim([50,0])\n",
    "\n",
    "    plt.tight_layout()\n",
    "    fig.savefig(alamo+'.png',dpi=300)\n",
    "    fig.savefig(alamo+'.svg',dpi=300)"
   ]
  },
  {
   "cell_type": "code",
   "execution_count": null,
   "metadata": {},
   "outputs": [],
   "source": [
    "#plot_temperature_saloverlay()\n",
    "plot_temperature()"
   ]
  },
  {
   "cell_type": "markdown",
   "metadata": {},
   "source": [
    "### Missing GPS Fixes\n",
    "\n",
    "These profiles do not come with a latitude, longitude or timestamp (but linear interpolation from previous points may be ok)\n",
    "\n",
    "Don't index on time, don't constrain any variables, plot as a function of cycle number"
   ]
  },
  {
   "cell_type": "code",
   "execution_count": null,
   "metadata": {},
   "outputs": [],
   "source": [
    "from requests.exceptions import HTTPError\n",
    "\n",
    "dfs = {}\n",
    "for alamo in alamos:\n",
    "    print(alamo)\n",
    "    try:\n",
    "        e = ERDDAP(server=server_url,\n",
    "            protocol='tabledap',\n",
    "            response='csv'\n",
    "        )\n",
    "        e.variables=common_variables\n",
    "        e.dataset_id=alamo\n",
    "    except HTTPError:\n",
    "        print('Failed to generate url {}'.format(alamo))\n",
    "        continue\n",
    "    try:\n",
    "        dfs.update({alamo: e.to_pandas(\n",
    "                            parse_dates=True  # units information can be dropped.\n",
    "                            )})\n",
    "    except:\n",
    "        pass"
   ]
  },
  {
   "cell_type": "markdown",
   "metadata": {},
   "source": [
    "## ALAMO Floats - as divenumber"
   ]
  },
  {
   "cell_type": "code",
   "execution_count": null,
   "metadata": {},
   "outputs": [],
   "source": [
    "for dfn, df in dfs.items():\n",
    "    fig, ax = plt.subplots(figsize=(17, 2))\n",
    "    cs = ax.scatter(df['CYCLE_NUMBER'], df['PRES (decibar)'], s=15, c=df['TEMP (degree_Celsius)'], marker='o', edgecolor='none', vmin=-2, vmax=10, cmap=cmocean.cm.thermal)\n",
    "\n",
    "    ax.invert_yaxis()\n",
    "    #ax.set_xlim(df['CYCLE_NUMBER'][0], df['CYCLE_NUMBER'][-1])\n",
    "\n",
    "\n",
    "    cbar = fig.colorbar(cs, orientation='vertical', extend='both')\n",
    "    cbar.ax.set_ylabel('Temperature ($^\\circ$C)')\n",
    "    ax.set_ylabel('Depth (m)')\n",
    "    ax.set_xlabel(dfn)"
   ]
  },
  {
   "cell_type": "code",
   "execution_count": null,
   "metadata": {},
   "outputs": [],
   "source": [
    "## Use netcdf files instead of ERDDAP\n",
    "import xarray as xa"
   ]
  },
  {
   "cell_type": "code",
   "execution_count": null,
   "metadata": {},
   "outputs": [],
   "source": [
    "archive_path = '/Users/bell/in_and_outbox/data_sets/ALAMO/netcdf/'\n",
    "AlamoID = '9119'\n",
    "dataxa = xa.open_mfdataset(archive_path + AlamoID + '/*.nc', concat_dim='N_LEVELS')\n",
    "\n",
    "dataxa"
   ]
  },
  {
   "cell_type": "code",
   "execution_count": null,
   "metadata": {},
   "outputs": [],
   "source": [
    "dataxa=dataxa.persist()"
   ]
  },
  {
   "cell_type": "code",
   "execution_count": null,
   "metadata": {},
   "outputs": [],
   "source": [
    "%matplotlib inline\n",
    "import matplotlib as mpl\n",
    "import matplotlib.pyplot as plt\n",
    "import cartopy.crs as ccrs\n",
    "import cartopy.feature as cfeature\n",
    "from cartopy.mpl.ticker import LongitudeFormatter, LatitudeFormatter\n",
    "\n"
   ]
  },
  {
   "cell_type": "code",
   "execution_count": null,
   "metadata": {},
   "outputs": [],
   "source": [
    "%matplotlib inline\n",
    "import matplotlib.pyplot as plt\n",
    "import matplotlib.dates as mdates\n",
    "import cmocean\n",
    "\n",
    "fig, ax1 = plt.subplots(figsize=(6.5, 2.25))\n",
    "cs = ax1.scatter(dataxa['JULD'].values[~np.isnat(dataxa['JULD'])], \n",
    "            dataxa['PRES'].values.T[~np.isnat(dataxa['JULD'])], \n",
    "            s=15, c=dataxa['TEMP'].values.T[~np.isnat(dataxa['JULD'])], \n",
    "            marker='o', edgecolor='none', vmin=-2, vmax=10, cmap=cmocean.cm.thermal)\n",
    "\n",
    "cbar = fig.colorbar(cs, ticks=[-2, 0, 2, 4, 6, 8, 10], orientation='vertical', extend='both')\n",
    "cbar.ax.set_ylabel('Temperature ($^\\circ$C)')\n",
    "cbar.ax.set_yticklabels([-2, 0, 2, 4, 6, 8, 10])\n",
    "ax1.set_ylabel('Depth (m)')\n",
    "#ax1.set_xlabel(dfn)\n",
    "\n",
    "ax1.invert_yaxis()\n",
    "ax1.yaxis.set_minor_locator(ticker.MultipleLocator(2.5))\n",
    "ax1.xaxis.set_major_locator(DayLocator(bymonthday=15))\n",
    "ax1.xaxis.set_minor_locator(DayLocator(bymonthday=range(0,31,5)))\n",
    "ax1.xaxis.set_major_formatter(ticker.NullFormatter())\n",
    "ax1.xaxis.set_minor_formatter(DateFormatter('%d'))\n",
    "ax1.xaxis.set_major_formatter(DateFormatter('%b %y'))\n",
    "ax1.xaxis.set_tick_params(which='major', pad=15)\n",
    "ax1.xaxis.set_tick_params(which='minor', pad=5)\n",
    "ax1.set_xlim([datetime.datetime(2017,8,13),datetime.datetime(2017,12,17)])\n",
    "ax1.set_ylim([50,0])\n",
    "\n",
    "fig.savefig('arctic_heat_alamo_profiles_'+AlamoID+'.kwood.png',dpi=300)\n",
    "fig.savefig('arctic_heat_alamo_profiles_'+AlamoID+'.kwood.svg',dpi=300) "
   ]
  },
  {
   "cell_type": "code",
   "execution_count": null,
   "metadata": {},
   "outputs": [],
   "source": []
  }
 ],
 "metadata": {
  "extensions": {
   "jupyter_dashboards": {
    "activeView": "grid_default",
    "version": 1,
    "views": {
     "grid_default": {
      "cellMargin": 10,
      "defaultCellHeight": 20,
      "maxColumns": 12,
      "name": "grid",
      "type": "grid"
     },
     "report_default": {
      "name": "report",
      "type": "report"
     }
    }
   }
  },
  "kernelspec": {
   "display_name": "Python [conda env:py37]",
   "language": "python",
   "name": "conda-env-py37-py"
  },
  "language_info": {
   "codemirror_mode": {
    "name": "ipython",
    "version": 3
   },
   "file_extension": ".py",
   "mimetype": "text/x-python",
   "name": "python",
   "nbconvert_exporter": "python",
   "pygments_lexer": "ipython3",
   "version": "3.7.8"
  }
 },
 "nbformat": 4,
 "nbformat_minor": 4
}
