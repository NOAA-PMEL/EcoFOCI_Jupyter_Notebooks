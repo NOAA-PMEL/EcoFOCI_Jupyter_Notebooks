{
 "cells": [
  {
   "cell_type": "markdown",
   "metadata": {},
   "source": [
    "# ALAMO Data from Matlab Files"
   ]
  },
  {
   "cell_type": "code",
   "execution_count": 398,
   "metadata": {},
   "outputs": [],
   "source": [
    "from scipy.io import loadmat\n",
    "import numpy as np\n",
    "from netCDF4 import num2date, date2num\n",
    "import datetime\n",
    "\n",
    "alamoid='9277'\n",
    "alamodata = loadmat('/Users/bell/in_and_outbox/data_sets/alamo/matlab/'+alamoid+'.mat')"
   ]
  },
  {
   "cell_type": "code",
   "execution_count": 399,
   "metadata": {},
   "outputs": [
    {
     "name": "stdout",
     "output_type": "stream",
     "text": [
      "dict_keys(['__header__', '__version__', '__globals__', 'fdat'])\n",
      "b'MATLAB 5.0 MAT-file, Platform: GLNXA64, Created on: Fri Nov 20 13:13:05 2020'\n",
      "1.0\n",
      "[]\n"
     ]
    }
   ],
   "source": [
    "print(alamodata.keys())\n",
    "print(alamodata['__header__'])\n",
    "print(alamodata['__version__'])\n",
    "print(alamodata['__globals__'])\n",
    "#print(alamodata['fdat'][0][:][0][0][6])"
   ]
  },
  {
   "cell_type": "code",
   "execution_count": 400,
   "metadata": {},
   "outputs": [
    {
     "data": {
      "text/plain": [
       "array([[-1]], dtype=int32)"
      ]
     },
     "execution_count": 400,
     "metadata": {},
     "output_type": "execute_result"
    }
   ],
   "source": [
    "alamodata['fdat'][0][0][0][0][0][0][0][1]"
   ]
  },
  {
   "cell_type": "code",
   "execution_count": 401,
   "metadata": {},
   "outputs": [
    {
     "name": "stdout",
     "output_type": "stream",
     "text": [
      "Float ID 9277, [[-1]]\n",
      "Float ID 9277, [[0]]\n",
      "Float ID 9277, [[1]]\n",
      "Float ID 9277, [[2]]\n",
      "Float ID 9277, [[3]]\n",
      "Float ID 9277, [[4]]\n",
      "Float ID 9277, [[5]]\n",
      "Float ID 9277, [[6]]\n",
      "Float ID 9277, [[7]]\n",
      "Float ID 9277, [[8]]\n",
      "Float ID 9277, [[9]]\n",
      "Float ID 9277, [[10]]\n",
      "Float ID 9277, [[11]]\n",
      "Float ID 9277, [[12]]\n",
      "Float ID 9277, [[13]]\n",
      "Float ID 9277, [[14]]\n",
      "Float ID 9277, [[15]]\n",
      "Float ID 9277, [[16]]\n",
      "Float ID 9277, [[17]]\n",
      "Float ID 9277, [[18]]\n",
      "Float ID 9277, [[19]]\n",
      "Float ID 9277, [[20]]\n",
      "Float ID 9277, [[21]]\n",
      "Float ID 9277, [[22]]\n",
      "Float ID 9277, [[23]]\n",
      "Float ID 9277, [[24]]\n",
      "Float ID 9277, [[25]]\n",
      "Float ID 9277, [[26]]\n",
      "Float ID 9277, [[27]]\n",
      "Float ID 9277, [[28]]\n",
      "Float ID 9277, [[29]]\n",
      "Float ID 9277, [[30]]\n",
      "Float ID 9277, [[31]]\n",
      "Float ID 9277, [[32]]\n",
      "Float ID 9277, [[33]]\n",
      "Float ID 9277, [[34]]\n",
      "Float ID 9277, [[35]]\n",
      "Float ID 9277, [[36]]\n",
      "Float ID 9277, [[37]]\n",
      "Float ID 9277, [[38]]\n",
      "Float ID 9277, [[39]]\n",
      "Float ID 9277, [[40]]\n",
      "Float ID 9277, [[41]]\n",
      "Float ID 9277, [[42]]\n",
      "Float ID 9277, [[43]]\n",
      "Float ID 9277, [[44]]\n",
      "Float ID 9277, [[45]]\n",
      "Float ID 9277, [[46]]\n",
      "Float ID 9277, [[47]]\n",
      "Float ID 9277, [[48]]\n",
      "Float ID 9277, [[49]]\n",
      "Float ID 9277, [[64]]\n",
      "Float ID 9277, [[65]]\n",
      "Float ID 9277, [[66]]\n",
      "Float ID 9277, [[67]]\n",
      "Float ID 9277, [[68]]\n",
      "Float ID 9277, [[69]]\n",
      "Float ID 9277, [[70]]\n",
      "Float ID 9277, [[71]]\n",
      "Float ID 9277, [[72]]\n",
      "Float ID 9277, [[73]]\n",
      "Float ID 9277, [[74]]\n",
      "Float ID 9277, [[75]]\n",
      "Float ID 9277, [[76]]\n",
      "Float ID 9277, [[77]]\n",
      "Float ID 9277, [[78]]\n",
      "Float ID 9277, [[79]]\n",
      "Float ID 9277, [[80]]\n",
      "Float ID 9277, [[81]]\n",
      "Float ID 9277, [[82]]\n",
      "Float ID 9277, [[83]]\n",
      "Float ID 9277, [[84]]\n",
      "Float ID 9277, [[85]]\n",
      "Float ID 9277, [[86]]\n",
      "Float ID 9277, [[87]]\n",
      "Float ID 9277, [[88]]\n",
      "Float ID 9277, [[89]]\n",
      "Float ID 9277, [[90]]\n",
      "Float ID 9277, [[91]]\n",
      "Float ID 9277, [[92]]\n",
      "Float ID 9277, [[93]]\n",
      "Float ID 9277, [[94]]\n",
      "Float ID 9277, [[95]]\n",
      "Float ID 9277, [[96]]\n",
      "Float ID 9277, [[97]]\n",
      "Float ID 9277, [[98]]\n",
      "Float ID 9277, [[99]]\n",
      "Float ID 9277, [[100]]\n",
      "Float ID 9277, [[101]]\n",
      "Float ID 9277, [[102]]\n",
      "Float ID 9277, [[103]]\n",
      "Float ID 9277, [[104]]\n",
      "Float ID 9277, [[105]]\n",
      "Float ID 9277, [[106]]\n"
     ]
    }
   ],
   "source": [
    "for ind in range(0,len(alamodata['fdat'][0])):\n",
    "    floatid = alamodata['fdat'][0][ind][0][0][0][0][0][0][0][0]\n",
    "    profileid= alamodata['fdat'][0][ind][0][0][0][0][0][1]\n",
    "    print(f\"Float ID {floatid}, {profileid}\")"
   ]
  },
  {
   "cell_type": "code",
   "execution_count": 402,
   "metadata": {},
   "outputs": [
    {
     "data": {
      "text/plain": [
       "9277"
      ]
     },
     "execution_count": 402,
     "metadata": {},
     "output_type": "execute_result"
    }
   ],
   "source": [
    "# dive number meta, i=1 is dive 0\n",
    "alamodata['fdat'][0][10][0][0][0][0][0][0][0][0]"
   ]
  },
  {
   "cell_type": "code",
   "execution_count": 403,
   "metadata": {},
   "outputs": [
    {
     "data": {
      "text/plain": [
       "'gregorian'"
      ]
     },
     "execution_count": 403,
     "metadata": {},
     "output_type": "execute_result"
    }
   ],
   "source": [
    "# dive number profile data, i=1 is dive 0, time of ascent start in julian day\n",
    "alamodata['fdat'][0][3][0][0][6][0][0][2][0][0]\n",
    "dtime = num2date(alamodata['fdat'][0][3][0][0][6][0][0][2][0][0],'days since -4713-1-1')\n",
    "date2num(dtime,'days since 1900-1-1')\n",
    "dtime.calendar"
   ]
  },
  {
   "cell_type": "code",
   "execution_count": 404,
   "metadata": {},
   "outputs": [
    {
     "data": {
      "text/plain": [
       "array([3.766, 3.766, 3.766, 3.766, 3.766, 3.766, 3.766, 3.766, 3.766,\n",
       "       3.766, 3.766, 3.766, 3.766, 3.766, 3.766, 3.767, 3.766, 3.769,\n",
       "       3.772, 3.78 , 3.923, 4.211, 4.458, 4.604, 4.709, 4.81 , 4.938,\n",
       "       4.953, 4.859, 4.826, 4.828, 4.83 , 4.831, 4.83 , 4.827, 4.827,\n",
       "       4.826, 4.828, 4.826, 4.823, 4.816, 4.81 , 4.813, 4.814, 4.809,\n",
       "       4.807, 4.808, 4.808, 4.807, 4.805, 4.805, 4.806, 4.806, 4.806,\n",
       "       4.806, 4.806, 4.806, 4.807, 4.808, 4.808, 4.808, 4.806, 4.803,\n",
       "       4.801, 4.802, 4.802, 4.802, 4.803, 4.802, 4.802, 4.803, 4.804,\n",
       "       4.804, 4.804, 4.804, 4.802, 4.801, 4.801, 4.801, 4.799, 4.8  ,\n",
       "       4.8  , 4.8  , 4.8  , 4.8  , 4.8  , 4.799, 4.8  , 4.802, 4.802,\n",
       "       4.8  , 4.799, 4.798])"
      ]
     },
     "execution_count": 404,
     "metadata": {},
     "output_type": "execute_result"
    }
   ],
   "source": [
    "# dive number profile data, i=1 is dive 0, press,temp,tempaux,psal\n",
    "alamodata['fdat'][0][5][0][0][1][0][0][1][0]"
   ]
  },
  {
   "cell_type": "code",
   "execution_count": 405,
   "metadata": {},
   "outputs": [
    {
     "ename": "IndexError",
     "evalue": "index 679 is out of bounds for axis 0 with size 94",
     "output_type": "error",
     "traceback": [
      "\u001b[0;31m---------------------------------------------------------------------------\u001b[0m",
      "\u001b[0;31mIndexError\u001b[0m                                Traceback (most recent call last)",
      "\u001b[0;32m<ipython-input-405-ccb73f44193c>\u001b[0m in \u001b[0;36m<module>\u001b[0;34m\u001b[0m\n\u001b[0;32m----> 1\u001b[0;31m \u001b[0malamodata\u001b[0m\u001b[0;34m[\u001b[0m\u001b[0;34m'fdat'\u001b[0m\u001b[0;34m]\u001b[0m\u001b[0;34m[\u001b[0m\u001b[0;36m0\u001b[0m\u001b[0;34m]\u001b[0m\u001b[0;34m[\u001b[0m\u001b[0;36m679\u001b[0m\u001b[0;34m]\u001b[0m\u001b[0;34m[\u001b[0m\u001b[0;36m0\u001b[0m\u001b[0;34m]\u001b[0m\u001b[0;34m[\u001b[0m\u001b[0;36m0\u001b[0m\u001b[0;34m]\u001b[0m\u001b[0;34m[\u001b[0m\u001b[0;36m1\u001b[0m\u001b[0;34m]\u001b[0m\u001b[0;34m\u001b[0m\u001b[0;34m\u001b[0m\u001b[0m\n\u001b[0m",
      "\u001b[0;31mIndexError\u001b[0m: index 679 is out of bounds for axis 0 with size 94"
     ]
    }
   ],
   "source": [
    "alamodata['fdat'][0][679][0][0][1]"
   ]
  },
  {
   "cell_type": "code",
   "execution_count": 406,
   "metadata": {},
   "outputs": [],
   "source": [
    "%matplotlib inline\n",
    "import matplotlib as mpl\n",
    "import matplotlib.pyplot as plt\n",
    "import cartopy.crs as ccrs\n",
    "import cartopy.feature as cfeature\n",
    "from cartopy.mpl.ticker import LongitudeFormatter, LatitudeFormatter\n",
    "import cmocean\n",
    "\n",
    "from matplotlib.dates import YearLocator, WeekdayLocator, MonthLocator, DayLocator, HourLocator, DateFormatter\n",
    "import matplotlib.ticker as ticker\n",
    "import matplotlib.dates as mdates\n",
    "from matplotlib.ticker import NullFormatter  # useful for `logit` scale\n"
   ]
  },
  {
   "cell_type": "code",
   "execution_count": 407,
   "metadata": {},
   "outputs": [
    {
     "name": "stdout",
     "output_type": "stream",
     "text": [
      "no ascent time\n",
      "bad time\n",
      "2020-11-02 00:14:00.999985\n",
      "2020-11-02 11:38:48.000019\n",
      "2020-11-02 22:47:50.999984\n",
      "2020-11-03 10:13:49.999991\n",
      "2020-11-03 21:24:13.000005\n",
      "2020-11-04 08:44:22.000018\n",
      "2020-11-04 20:04:00.999994\n",
      "2020-11-05 07:28:33.999984\n",
      "2020-11-05 18:38:06.999987\n",
      "2020-11-06 05:56:24.000005\n",
      "2020-11-06 17:04:50.000010\n",
      "2020-11-07 04:17:28.000015\n",
      "2020-11-07 15:25:35.999997\n",
      "2020-11-08 02:37:59.000004\n",
      "2020-11-08 14:02:13.000016\n",
      "2020-11-09 01:14:28.999980\n",
      "2020-11-09 12:43:11.999982\n",
      "2020-11-09 23:57:26.999985\n",
      "2020-11-10 11:16:59.999993\n",
      "2020-11-10 22:39:40.999987\n",
      "2020-11-11 09:40:38.000013\n",
      "2020-11-11 20:58:58.000014\n",
      "2020-11-12 08:08:27\n",
      "2020-11-12 19:19:09.999985\n",
      "2020-11-13 06:36:35.999998\n",
      "2020-11-13 17:48:52.000002\n",
      "2020-11-14 05:02:44.000009\n",
      "2020-11-14 16:34:54.000015\n",
      "2020-11-15 04:00:20.999993\n",
      "2020-11-15 15:22:00.000002\n",
      "2020-11-16 02:34:58.000020\n",
      "2020-11-16 13:50:38.999999\n",
      "2020-11-17 01:04:51.000018\n",
      "2020-11-17 12:18:33.999993\n",
      "2020-11-17 23:34:05.999980\n",
      "2020-11-18 10:44:34.000007\n",
      "2020-11-18 21:58:31.999981\n",
      "2020-11-19 09:04:49.999996\n",
      "2020-11-19 19:59:55.999995\n",
      "2020-11-20 06:54:25.999988\n",
      "2020-11-20 17:52:14.999987\n",
      "2020-10-03 08:49:57.000012\n",
      "2020-10-03 19:56:58.999989\n",
      "2020-10-04 07:11:36.999988\n",
      "2020-10-04 18:20:22.000010\n",
      "2020-10-05 05:32:36.999980\n",
      "2020-10-05 17:03:03.999981\n",
      "no ascent time\n",
      "bad time\n",
      "no ascent time\n",
      "bad time\n",
      "no ascent time\n",
      "bad time\n",
      "2020-10-13 06:20:13.000019\n",
      "2020-10-13 17:26:27.000015\n",
      "2020-10-14 04:33:07.999986\n",
      "2020-10-14 15:38:34.999996\n",
      "2020-10-15 02:45:19.999985\n",
      "2020-10-15 14:03:32.999985\n",
      "2020-10-16 01:10:15.999985\n",
      "2020-10-16 12:39:31.000014\n",
      "2020-10-17 00:09:47.999989\n",
      "2020-10-17 11:36:55.999983\n",
      "2020-10-17 23:08:49\n",
      "2020-10-18 10:24:32.000009\n",
      "2020-10-18 21:35:23.999986\n",
      "2020-10-19 08:45:23.000009\n",
      "2020-10-19 20:07:49.999999\n",
      "2020-10-20 07:30:31.999987\n",
      "2020-10-20 18:40:46.000010\n",
      "2020-10-21 05:49:39.999983\n",
      "2020-10-21 17:07:29.999987\n",
      "2020-10-22 04:19:58.000006\n",
      "2020-10-22 15:46:19.000014\n",
      "2020-10-23 02:53:26.000005\n",
      "2020-10-23 14:00:48.999989\n",
      "2020-10-24 01:08:07\n",
      "2020-10-24 12:15:26.000006\n",
      "2020-10-24 23:23:34.999983\n",
      "2020-10-25 10:32:07.999990\n",
      "2020-10-25 21:39:18.000004\n",
      "2020-10-26 08:55:46.000010\n",
      "2020-10-26 20:04:41.000018\n",
      "2020-10-27 07:20:13.000005\n",
      "2020-10-27 18:40:40.999997\n",
      "2020-10-28 06:08:22.000013\n",
      "2020-10-28 17:21:30.000017\n",
      "2020-10-29 04:30:00.999995\n",
      "2020-10-29 15:38:34.000002\n",
      "2020-10-30 02:51:35.000003\n",
      "2020-10-30 14:07:15.999982\n",
      "2020-10-31 01:39:11.999983\n",
      "2020-10-31 13:12:11.000005\n",
      "2020-11-01 00:43:16.999995\n"
     ]
    },
    {
     "data": {
      "image/png": "[encoded data removed]",
      "text/plain": [
       "<Figure size 1224x144 with 2 Axes>"
      ]
     },
     "metadata": {
      "needs_background": "light"
     },
     "output_type": "display_data"
    }
   ],
   "source": [
    "fig, ax1 = plt.subplots(figsize=(17, 2))\n",
    "\n",
    "for diveind in range(1,len(alamodata['fdat'][0])-1):\n",
    "    if not (alamodata['fdat'][0][diveind][0][0][0][0][0][0][0][0] == int(alamoid)):\n",
    "        break \n",
    "    try:\n",
    "        print(num2date(alamodata['fdat'][0][diveind][0][0][6][0][0][2][0][0],'days since -4713-1-1'))\n",
    "    except:\n",
    "        print(\"no ascent time\")\n",
    "    try:\n",
    "        dtime = num2date(alamodata['fdat'][0][diveind][0][0][6][0][0][2][0][0],'days since -4713-1-1')\n",
    "        #print(dtime)\n",
    "        d2time = np.ones_like(alamodata['fdat'][0][diveind][0][0][1][0][0][1][0]) * date2num(dtime,'days since 1-1-1')\n",
    "        d3time = num2pydate(d2time,'days since 1901-1-1')\n",
    "        cs = ax1.scatter(d3time, \n",
    "                alamodata['fdat'][0][diveind][0][0][1][0][0][0][0], \n",
    "                s=15, c=alamodata['fdat'][0][diveind][0][0][1][0][0][1][0], \n",
    "                marker='o', edgecolor='none', vmin=-2, vmax=10, cmap=cmocean.cm.thermal)\n",
    "    except:\n",
    "        try:\n",
    "            d2time = np.ones_like(alamodata['fdat'][0][diveind][0][0][1][0][0][1][0]) * date2num(alamodata['fdat'][0][diveind][0][0][6][0][0][2][0][0],'days since 1900-1-1')\n",
    "            #print(d2time)\n",
    "            cs = ax1.scatter(d2time, \n",
    "                    alamodata['fdat'][0][diveind][0][0][1][0][0][0][0], \n",
    "                    s=15, c=alamodata['fdat'][0][diveind][0][0][1][0][0][1][0], \n",
    "                    marker='o', edgecolor='none', vmin=-2, vmax=10, cmap=cmocean.cm.thermal)\n",
    "        except:\n",
    "            print(\"bad time\")\n",
    "            \n",
    "cbar = fig.colorbar(cs, ticks=[-2, 0, 2, 4, 6, 8, 10], orientation='vertical', extend='both')\n",
    "cbar.ax.set_ylabel('Temperature ($^\\circ$C)')\n",
    "cbar.ax.set_yticklabels([-2, 0, 2, 4, 6, 8, 10])\n",
    "ax1.set_ylabel('Depth (m)')\n",
    "#ax1.set_xlabel('Date (UTC)')\n",
    "\n",
    "ax1.invert_yaxis()\n",
    "ax1.yaxis.set_minor_locator(ticker.MultipleLocator(2.5))\n",
    "ax1.xaxis.set_major_locator(DayLocator(bymonthday=15))\n",
    "ax1.xaxis.set_minor_locator(DayLocator(bymonthday=range(0,31,5)))\n",
    "ax1.xaxis.set_major_formatter(ticker.NullFormatter())\n",
    "ax1.xaxis.set_minor_formatter(DateFormatter('%d'))\n",
    "ax1.xaxis.set_major_formatter(DateFormatter('%b %y'))\n",
    "ax1.xaxis.set_tick_params(which='major', pad=15)\n",
    "ax1.xaxis.set_tick_params(which='minor', pad=5)\n",
    "#ax1.set_xlim([datetime.datetime(2020,9,15),datetime.datetime(2020,10,15)])\n",
    "#ax1.set_ylim([50,0])\n",
    "\n",
    "fig.tight_layout()\n",
    "fig.savefig('arctic_heat_alamo_profiles_'+alamoid+'.kwood.png',dpi=300)\n",
    "fig.savefig('arctic_heat_alamo_profiles_'+alamoid+'.kwood.svg',dpi=300) "
   ]
  },
  {
   "cell_type": "code",
   "execution_count": 408,
   "metadata": {},
   "outputs": [
    {
     "ename": "TypeError",
     "evalue": "unsupported operand type(s) for +: 'cftime._cftime.DatetimeGregorian' and 'NoneType'",
     "output_type": "error",
     "traceback": [
      "\u001b[0;31m---------------------------------------------------------------------------\u001b[0m",
      "\u001b[0;31mTypeError\u001b[0m                                 Traceback (most recent call last)",
      "\u001b[0;32m<ipython-input-408-62ecbaa61575>\u001b[0m in \u001b[0;36m<module>\u001b[0;34m\u001b[0m\n\u001b[1;32m      5\u001b[0m         \u001b[0;32mbreak\u001b[0m\u001b[0;34m\u001b[0m\u001b[0;34m\u001b[0m\u001b[0m\n\u001b[1;32m      6\u001b[0m \u001b[0;34m\u001b[0m\u001b[0m\n\u001b[0;32m----> 7\u001b[0;31m     \u001b[0mdtime\u001b[0m \u001b[0;34m=\u001b[0m \u001b[0mnum2date\u001b[0m\u001b[0;34m(\u001b[0m\u001b[0malamodata\u001b[0m\u001b[0;34m[\u001b[0m\u001b[0;34m'fdat'\u001b[0m\u001b[0;34m]\u001b[0m\u001b[0;34m[\u001b[0m\u001b[0;36m0\u001b[0m\u001b[0;34m]\u001b[0m\u001b[0;34m[\u001b[0m\u001b[0mdiveind\u001b[0m\u001b[0;34m]\u001b[0m\u001b[0;34m[\u001b[0m\u001b[0;36m0\u001b[0m\u001b[0;34m]\u001b[0m\u001b[0;34m[\u001b[0m\u001b[0;36m0\u001b[0m\u001b[0;34m]\u001b[0m\u001b[0;34m[\u001b[0m\u001b[0;36m6\u001b[0m\u001b[0;34m]\u001b[0m\u001b[0;34m[\u001b[0m\u001b[0;36m0\u001b[0m\u001b[0;34m]\u001b[0m\u001b[0;34m[\u001b[0m\u001b[0;36m0\u001b[0m\u001b[0;34m]\u001b[0m\u001b[0;34m[\u001b[0m\u001b[0;36m2\u001b[0m\u001b[0;34m]\u001b[0m\u001b[0;34m[\u001b[0m\u001b[0;36m0\u001b[0m\u001b[0;34m]\u001b[0m\u001b[0;34m[\u001b[0m\u001b[0;36m0\u001b[0m\u001b[0;34m]\u001b[0m\u001b[0;34m,\u001b[0m\u001b[0;34m'days since -4713-1-1'\u001b[0m\u001b[0;34m)\u001b[0m\u001b[0;34m\u001b[0m\u001b[0;34m\u001b[0m\u001b[0m\n\u001b[0m\u001b[1;32m      8\u001b[0m     \u001b[0;31m#print(dtime)\u001b[0m\u001b[0;34m\u001b[0m\u001b[0;34m\u001b[0m\u001b[0;34m\u001b[0m\u001b[0m\n\u001b[1;32m      9\u001b[0m     \u001b[0md2time\u001b[0m \u001b[0;34m=\u001b[0m \u001b[0mnp\u001b[0m\u001b[0;34m.\u001b[0m\u001b[0mones_like\u001b[0m\u001b[0;34m(\u001b[0m\u001b[0malamodata\u001b[0m\u001b[0;34m[\u001b[0m\u001b[0;34m'fdat'\u001b[0m\u001b[0;34m]\u001b[0m\u001b[0;34m[\u001b[0m\u001b[0;36m0\u001b[0m\u001b[0;34m]\u001b[0m\u001b[0;34m[\u001b[0m\u001b[0mdiveind\u001b[0m\u001b[0;34m]\u001b[0m\u001b[0;34m[\u001b[0m\u001b[0;36m0\u001b[0m\u001b[0;34m]\u001b[0m\u001b[0;34m[\u001b[0m\u001b[0;36m0\u001b[0m\u001b[0;34m]\u001b[0m\u001b[0;34m[\u001b[0m\u001b[0;36m1\u001b[0m\u001b[0;34m]\u001b[0m\u001b[0;34m[\u001b[0m\u001b[0;36m0\u001b[0m\u001b[0;34m]\u001b[0m\u001b[0;34m[\u001b[0m\u001b[0;36m0\u001b[0m\u001b[0;34m]\u001b[0m\u001b[0;34m[\u001b[0m\u001b[0;36m1\u001b[0m\u001b[0;34m]\u001b[0m\u001b[0;34m[\u001b[0m\u001b[0;36m0\u001b[0m\u001b[0;34m]\u001b[0m\u001b[0;34m)\u001b[0m \u001b[0;34m*\u001b[0m \u001b[0mdate2num\u001b[0m\u001b[0;34m(\u001b[0m\u001b[0mdtime\u001b[0m\u001b[0;34m,\u001b[0m\u001b[0;34m'days since 1-1-1'\u001b[0m\u001b[0;34m)\u001b[0m\u001b[0;34m\u001b[0m\u001b[0;34m\u001b[0m\u001b[0m\n",
      "\u001b[0;32mcftime/_cftime.pyx\u001b[0m in \u001b[0;36mcftime._cftime.num2date\u001b[0;34m()\u001b[0m\n",
      "\u001b[0;31mTypeError\u001b[0m: unsupported operand type(s) for +: 'cftime._cftime.DatetimeGregorian' and 'NoneType'"
     ]
    },
    {
     "data": {
      "image/png": "[encoded data removed]",
      "text/plain": [
       "<Figure size 1224x144 with 1 Axes>"
      ]
     },
     "metadata": {
      "needs_background": "light"
     },
     "output_type": "display_data"
    }
   ],
   "source": [
    "fig, ax = plt.subplots(figsize=(17, 2))\n",
    "\n",
    "for diveind in range(1,len(alamodata['fdat'][0])-1):\n",
    "    if not (alamodata['fdat'][0][diveind][0][0][0][0][0][0][0][0] == int(alamoid)):\n",
    "        break \n",
    "    \n",
    "    dtime = num2date(alamodata['fdat'][0][diveind][0][0][6][0][0][2][0][0],'days since -4713-1-1')\n",
    "    #print(dtime)\n",
    "    d2time = np.ones_like(alamodata['fdat'][0][diveind][0][0][1][0][0][1][0]) * date2num(dtime,'days since 1-1-1')\n",
    "    d3time = num2pydate(d2time,'days since 1901-1-1')\n",
    "    cs = ax.scatter(d3time, \n",
    "        alamodata['fdat'][0][diveind][0][0][1][0][0][0][0], \n",
    "        s=15, c=alamodata['fdat'][0][diveind][0][0][1][0][0][1][0], \n",
    "        marker='o', edgecolor='none', vmin=-2, vmax=10, cmap=cmocean.cm.thermal)\n",
    "\n",
    "\n",
    "ax.invert_yaxis()\n",
    "\n",
    "\n",
    "#ax.set_ylim([50,0])\n",
    "xfmt = mdates.DateFormatter('%d-%b')\n",
    "ax.xaxis.set_major_locator(DayLocator(1))\n",
    "ax.xaxis.set_major_formatter(xfmt)\n",
    "ax.xaxis.set_minor_locator(DayLocator(15))\n",
    "ax.xaxis.set_minor_formatter(NullFormatter())\n",
    "\n",
    "cbar = fig.colorbar(cs, orientation='vertical', extend='both')\n",
    "cbar.ax.set_ylabel('Temperature ($^\\circ$C)')\n",
    "ax.set_ylabel('Depth (m)')\n",
    "ax.set_xlabel('Alamo '+alamoid)\n",
    "\n",
    "fig.tight_layout()\n",
    "fig.savefig('arctic_heat_alamo_profiles_'+alamoid+'.kwood.png',dpi=300)\n",
    "fig.savefig('arctic_heat_alamo_profiles_'+alamoid+'.kwood.svg',dpi=300) "
   ]
  },
  {
   "cell_type": "code",
   "execution_count": null,
   "metadata": {},
   "outputs": [],
   "source": []
  }
 ],
 "metadata": {
  "kernelspec": {
   "display_name": "Python [conda env:py38] *",
   "language": "python",
   "name": "conda-env-py38-py"
  },
  "language_info": {
   "codemirror_mode": {
    "name": "ipython",
    "version": 3
   },
   "file_extension": ".py",
   "mimetype": "text/x-python",
   "name": "python",
   "nbconvert_exporter": "python",
   "pygments_lexer": "ipython3",
   "version": "3.8.8"
  }
 },
 "nbformat": 4,
 "nbformat_minor": 4
}
