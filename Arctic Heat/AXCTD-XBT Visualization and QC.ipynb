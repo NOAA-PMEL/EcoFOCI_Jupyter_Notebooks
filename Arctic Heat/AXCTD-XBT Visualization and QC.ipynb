{
 "cells": [
  {
   "cell_type": "markdown",
   "metadata": {},
   "source": [
    "## Arctic Heat\n",
    "\n",
    "**AXCTD and XBT Profiles**\n",
    "\n",
    "Purpose: import clean and plot profiles"
   ]
  },
  {
   "cell_type": "code",
   "execution_count": 49,
   "metadata": {},
   "outputs": [],
   "source": [
    "import pandas as pd\n",
    "import os\n",
    "import datetime"
   ]
  },
  {
   "cell_type": "code",
   "execution_count": 9,
   "metadata": {},
   "outputs": [],
   "source": [
    "source_dir = '/Volumes/WDC_internal/Users/bell/ecoraid/2018/Additional_FieldData/ArcticHeat/AXBT_Data/'\n",
    "\n",
    "source_file = [os.path.join(dp, f) for dp, dn,\n",
    "   fn in os.walk(os.path.expanduser(source_dir)) for f in fn if 'dta' in f]\n"
   ]
  },
  {
   "cell_type": "markdown",
   "metadata": {},
   "source": [
    "### Data Ingestion and data summary/statistics\n",
    "\n",
    "A few lines to list and read the .iwg files into a dictionary of pandas dataframes.\n",
    "\n",
    "The original .dta files have header as follows:   \n",
    "\n",
    "```\n",
    "Probe Type = AXBT     \n",
    "       Date = 2018/05/26\n",
    "       Time = 00:29:35.620\n",
    " \n",
    "    Time     Depth    Frequency    (C)       (F) \n",
    "```"
   ]
  },
  {
   "cell_type": "code",
   "execution_count": 127,
   "metadata": {},
   "outputs": [
    {
     "name": "stdout",
     "output_type": "stream",
     "text": [
      "/Volumes/WDC_internal/Users/bell/ecoraid/2018/Additional_FieldData/ArcticHeat/AXBT_Data/AXBT_20180525/log00000.dta\n",
      "/Volumes/WDC_internal/Users/bell/ecoraid/2018/Additional_FieldData/ArcticHeat/AXBT_Data/AXBT_20180525/log00001.dta\n",
      "/Volumes/WDC_internal/Users/bell/ecoraid/2018/Additional_FieldData/ArcticHeat/AXBT_Data/AXBT_20180525/log00002.dta\n",
      "/Volumes/WDC_internal/Users/bell/ecoraid/2018/Additional_FieldData/ArcticHeat/AXBT_Data/AXBT_20180525/log00003.dta\n",
      "/Volumes/WDC_internal/Users/bell/ecoraid/2018/Additional_FieldData/ArcticHeat/AXBT_Data/AXBT_20180525/log00004.dta\n",
      "/Volumes/WDC_internal/Users/bell/ecoraid/2018/Additional_FieldData/ArcticHeat/AXBT_Data/AXBT_20180527/log00000.dta\n",
      "/Volumes/WDC_internal/Users/bell/ecoraid/2018/Additional_FieldData/ArcticHeat/AXBT_Data/AXBT_20180527/log00001.dta\n",
      "/Volumes/WDC_internal/Users/bell/ecoraid/2018/Additional_FieldData/ArcticHeat/AXBT_Data/AXBT_20180527/log00002.dta\n",
      "/Volumes/WDC_internal/Users/bell/ecoraid/2018/Additional_FieldData/ArcticHeat/AXBT_Data/AXBT_20180527/log00003.dta\n",
      "/Volumes/WDC_internal/Users/bell/ecoraid/2018/Additional_FieldData/ArcticHeat/AXBT_Data/AXBT_20180529/log00000.dta\n",
      "/Volumes/WDC_internal/Users/bell/ecoraid/2018/Additional_FieldData/ArcticHeat/AXBT_Data/AXBT_20180529/log00001.dta\n",
      "/Volumes/WDC_internal/Users/bell/ecoraid/2018/Additional_FieldData/ArcticHeat/AXBT_Data/AXBT_20180529/log00002.dta\n",
      "/Volumes/WDC_internal/Users/bell/ecoraid/2018/Additional_FieldData/ArcticHeat/AXBT_Data/AXBT_20180529/log00003.dta\n",
      "/Volumes/WDC_internal/Users/bell/ecoraid/2018/Additional_FieldData/ArcticHeat/AXBT_Data/AXBT_20180529/log00004.dta\n",
      "/Volumes/WDC_internal/Users/bell/ecoraid/2018/Additional_FieldData/ArcticHeat/AXBT_Data/AXBT_20180529/log00005.dta\n",
      "/Volumes/WDC_internal/Users/bell/ecoraid/2018/Additional_FieldData/ArcticHeat/AXBT_Data/AXBT_20180529/log00006.dta\n",
      "/Volumes/WDC_internal/Users/bell/ecoraid/2018/Additional_FieldData/ArcticHeat/AXBT_Data/AXBT_20180529/log00007.dta\n",
      "/Volumes/WDC_internal/Users/bell/ecoraid/2018/Additional_FieldData/ArcticHeat/AXBT_Data/AXBT_20180529/log00008.dta\n",
      "/Volumes/WDC_internal/Users/bell/ecoraid/2018/Additional_FieldData/ArcticHeat/AXBT_Data/AXBT_20180529/log00009.dta\n",
      "/Volumes/WDC_internal/Users/bell/ecoraid/2018/Additional_FieldData/ArcticHeat/AXBT_Data/AXBT_20180531/15126156_2018_06_01_00_53_34.dta failed to process time\n",
      "/Volumes/WDC_internal/Users/bell/ecoraid/2018/Additional_FieldData/ArcticHeat/AXBT_Data/AXBT_20180531/15126157_2018_06_01_00_22_24.dta failed to process time\n",
      "/Volumes/WDC_internal/Users/bell/ecoraid/2018/Additional_FieldData/ArcticHeat/AXBT_Data/AXBT_20180531/15126160_2018_06_01_01_21_03.dta failed to process time\n",
      "/Volumes/WDC_internal/Users/bell/ecoraid/2018/Additional_FieldData/ArcticHeat/AXBT_Data/AXBT_20180531/15126161_2018_05_31_23_50_38.dta failed to process time\n",
      "/Volumes/WDC_internal/Users/bell/ecoraid/2018/Additional_FieldData/ArcticHeat/AXBT_Data/AXBT_20180531/15126162_2018_06_01_02_06_11.dta failed to process time\n",
      "/Volumes/WDC_internal/Users/bell/ecoraid/2018/Additional_FieldData/ArcticHeat/AXBT_Data/AXBT_20180531/15126163_2018_06_01_02_15_55.dta failed to process time\n"
     ]
    }
   ],
   "source": [
    "dfs = {}\n",
    "for i,filename in enumerate(source_file):\n",
    "    try:\n",
    "        header = pd.read_csv(filename,nrows=4,header=None)\n",
    "        \n",
    "        #parse date in header to add delta-t in columns to\n",
    "        sd = header[0][1].split('= ')[-1].split('.')\n",
    "        nofrag, frag = header[0][2].split('= ')[-1].split('.')\n",
    "        st = datetime.datetime.strptime(sd[0] + ' ' + nofrag,'%Y/%m/%d %H:%M:%S')\n",
    "        st = st.replace(microsecond=int(frag))\n",
    "        \n",
    "        columns = ['Time','Depth','Frequency','DegreeC','DegreeF']\n",
    "        temp_data = pd.read_csv(filename,delimiter='\\s+',skiprows=4,na_values='******')\n",
    "        temp_data['DateTime'] = [st +datetime.timedelta(seconds=x[1]['Time']) for x in temp_data.iterrows()]\n",
    "        temp_data = temp_data.set_index(pd.DatetimeIndex(temp_data['DateTime']))\n",
    "        dfs.update({filename:temp_data})\n",
    "        print(filename)\n",
    "    except ValueError:\n",
    "        print(\"{} failed to load\".format(filename))\n",
    "        continue\n",
    "    except KeyError:\n",
    "        print(\"{} failed to process time\".format(filename))\n",
    "        continue        "
   ]
  },
  {
   "cell_type": "code",
   "execution_count": null,
   "metadata": {},
   "outputs": [],
   "source": []
  }
 ],
 "metadata": {
  "kernelspec": {
   "display_name": "Python [conda env:py36]",
   "language": "python",
   "name": "conda-env-py36-py"
  },
  "language_info": {
   "codemirror_mode": {
    "name": "ipython",
    "version": 3
   },
   "file_extension": ".py",
   "mimetype": "text/x-python",
   "name": "python",
   "nbconvert_exporter": "python",
   "pygments_lexer": "ipython3",
   "version": "3.6.5"
  }
 },
 "nbformat": 4,
 "nbformat_minor": 2
}
