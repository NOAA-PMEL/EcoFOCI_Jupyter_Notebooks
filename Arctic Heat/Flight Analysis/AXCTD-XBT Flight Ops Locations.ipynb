{
 "cells": [
  {
   "cell_type": "markdown",
   "metadata": {},
   "source": [
    "## Arctic Heat\n",
    "\n",
    "**Flight Logs and IWG Files**\n",
    "\n",
    "Purpose: Plot Flight Logs and IWG files"
   ]
  },
  {
   "cell_type": "code",
   "execution_count": 1,
   "metadata": {},
   "outputs": [
    {
     "name": "stderr",
     "output_type": "stream",
     "text": [
      "/Users/bell/anaconda2/envs/py36/lib/python3.6/importlib/_bootstrap.py:219: RuntimeWarning: numpy.dtype size changed, may indicate binary incompatibility. Expected 96, got 88\n",
      "  return f(*args, **kwds)\n",
      "/Users/bell/anaconda2/envs/py36/lib/python3.6/importlib/_bootstrap.py:219: RuntimeWarning: numpy.dtype size changed, may indicate binary incompatibility. Expected 96, got 88\n",
      "  return f(*args, **kwds)\n"
     ]
    }
   ],
   "source": [
    "import pandas as pd\n",
    "import os\n",
    "import datetime"
   ]
  },
  {
   "cell_type": "code",
   "execution_count": 17,
   "metadata": {},
   "outputs": [],
   "source": [
    "logs_dir = '/Users/bell/ecoraid/2018/Additional_FieldData/ArcticHeat/Flight Logs/'\n",
    "logs_file = [os.path.join(dp, f) for dp, dn,\n",
    "   fn in os.walk(os.path.expanduser(logs_dir)) for f in fn if '.txt' in f]\n",
    "\n",
    "#read the cleaned IWG files (only one header at the start, and saved as .txt files)\n",
    "iwg_dir = '/Users/bell/ecoraid/2018/Additional_FieldData/ArcticHeat/IWG_data/'\n",
    "iwg_file = [os.path.join(dp, f) for dp, dn,\n",
    "   fn in os.walk(os.path.expanduser(iwg_dir)) for f in fn if '.txt' in f]\n"
   ]
  },
  {
   "cell_type": "markdown",
   "metadata": {},
   "source": [
    "## Load and display contents of Flight Logs"
   ]
  },
  {
   "cell_type": "code",
   "execution_count": 13,
   "metadata": {},
   "outputs": [
    {
     "name": "stdout",
     "output_type": "stream",
     "text": [
      "/Users/bell/ecoraid/2018/Additional_FieldData/ArcticHeat/Flight Logs/FlightLog20180529.txt\n",
      "/Users/bell/ecoraid/2018/Additional_FieldData/ArcticHeat/Flight Logs/FlightLog20180527.txt\n",
      "/Users/bell/ecoraid/2018/Additional_FieldData/ArcticHeat/Flight Logs/FlightLog20180525.txt\n",
      "/Users/bell/ecoraid/2018/Additional_FieldData/ArcticHeat/Flight Logs/FlightLog20180530.txt\n"
     ]
    },
    {
     "name": "stderr",
     "output_type": "stream",
     "text": [
      "b'Skipping line 6: expected 1 fields, saw 2\\nSkipping line 13: expected 1 fields, saw 2\\nSkipping line 14: expected 1 fields, saw 2\\nSkipping line 17: expected 1 fields, saw 2\\n'\n",
      "b'Skipping line 12: expected 1 fields, saw 3\\n'\n"
     ]
    }
   ],
   "source": [
    "dfs = {}\n",
    "for i,filename in enumerate(logs_file):\n",
    "    print(filename)\n",
    "    dfs.update({i: pd.read_csv(filename, error_bad_lines=False)})\n",
    "\n"
   ]
  },
  {
   "cell_type": "code",
   "execution_count": 10,
   "metadata": {},
   "outputs": [
    {
     "data": {
      "text/plain": [
       "{0:                            AH20180529 Flight Log\n",
       " 0                         2033 Take off Kotzebue\n",
       " 1             2049 Wind 4.8 m/s 095 T smooth sea\n",
       " 2                    2133 BT away A1 - ch 12 dud\n",
       " 3                      2137 BT away A1 - prg dud\n",
       " 4                2141 BT away A1 - prg good data\n",
       " 5      2144 Clouds under a/c 500 ft flight level\n",
       " 6                  2203 BT away A2 prg good data\n",
       " 7                  2231 BT away A3 prg good data\n",
       " 8                2234 Clouds under a/c w/ breaks\n",
       " 9   ---- Lidar power conditioner nf. reboot 2246\n",
       " 10              2246 Clouds under a/c 800 ft asl\n",
       " 11                     2303 BT away A4 ch 12 dud\n",
       " 12                       2306 BT away A4 prg dud\n",
       " 13                       2308 BT away A4 prg dud\n",
       " 14                       2312 BT away A4 prg dud\n",
       " 15                     2321 4500 ft clouds under\n",
       " 16                0037 BT away A5 prg good data \n",
       " 17                      0037 sky clear and sunny\n",
       " 18                 0042 Lidar on w 10 m/s 103 T \n",
       " 19                  0100 Landed Barrow to refuel,\n",
       " 1:                                 AH20180527 Flight Log\n",
       " 0                                      2155\\tTake off\n",
       " 1            2206\\tIR and Lidar on; winds 5 m/s 290 T\n",
       " 2   ----\\tIR error 'recording failed' when switchi...\n",
       " 3                       2306\\tBT away good data 0.3 C\n",
       " 4   2321 \\tIR record Scene 2 ice and walrus 1100 f...\n",
       " 5                            2321?\\tIR record Scene 3\n",
       " 6                             2330\\tIR record Scene 4\n",
       " 7                            2332\\tIR record Scene 5 \n",
       " 8                             2334\\tIR record Scene 6\n",
       " 9                  ----\\tSwell present along the line\n",
       " 10     0000\\tBT away good data IRSST -0.1 BT Sfc 0.98\n",
       " 11     0102\\tBT away good data IRSST -0.9 BT sft -0.9\n",
       " 12                            0105\\tWind 10 m/s 100 T\n",
       " 13  0230\\tIR record Scene 2 two water masses with ...\n",
       " 14                            0234\\tIR record Scene 3\n",
       " 15                              0305\\tLanded Kotzebue,\n",
       " 2:                                 AH20180525 Flight Log\n",
       " 0                        2221\\tTake off from Kotzebue\n",
       " 1   2325\\tIR Scene 1 failed to record. Appears to ...\n",
       " 2   2340\\tLidar appears to be working properly on ...\n",
       " 3                           0013\\tLow cloud and mist \n",
       " 4               0021\\tBT away (dud) programmable type\n",
       " 5                           0029\\tBT away (dud) ch 12\n",
       " 6   0043\\tEnroute to next waypoint. Wind 11 m/s 06...\n",
       " 7                       0100\\tBT away ch 12 good data\n",
       " 8                         0127\\tBT away prg good data\n",
       " 9                         0149\\tBT away prg good data\n",
       " 10                              0259\\tLanded Kotzebue,\n",
       " 3:                                 AH20180530 Flight Log\n",
       " 0                                0200 Take off Barrow\n",
       " 1   0242 Could not focus IR camera with cold ice/w...\n",
       " 2                               0256 Focus successful\n",
       " 3   0305 IR Scene 1 2000 ft - few signs of melt po...\n",
       " 4                             0308 IR Scene 2 2000 ft\n",
       " 5                             0310 IR Scene 3 2000 ft\n",
       " 6                             0313 IR Scene 4 2000 ft\n",
       " 7                             0316 IR Scene 5 2000 ft\n",
       " 8                             0319 IR Scene 6 2000 ft\n",
       " 9   0321 IR Scene 7 2000 ft (note: sort on a/c rol...\n",
       " 10                       0327 IR/Lidar Scene 1 500 ft\n",
       " 11                       0330 IR/Lidar Scene 2 500 ft\n",
       " 12                       0331 IR/Lidar Scene 3 500 ft\n",
       " 13                       0333 IR/Lidar Scene 4 500 ft\n",
       " 14  0335 IR/Lidar Scene 5 500 ft (note: sort on a/...\n",
       " 15                                 0345 Climb 5000 ft\n",
       " 16            0345 Dropsonde IR slow chute - over ice\n",
       " 17  0408 Dropsonde IR slow chute - over water and ...\n",
       " 18  0422 Dropsonde IR slow chute - over water and ...\n",
       " 19                                  0427 RTB Kotzebue\n",
       " 20                               0612 Landed Kotzebue}"
      ]
     },
     "execution_count": 10,
     "metadata": {},
     "output_type": "execute_result"
    }
   ],
   "source": [
    "dfs"
   ]
  },
  {
   "cell_type": "markdown",
   "metadata": {},
   "source": [
    "## Load and display contents of cleaned IWG files"
   ]
  },
  {
   "cell_type": "code",
   "execution_count": 22,
   "metadata": {},
   "outputs": [
    {
     "name": "stdout",
     "output_type": "stream",
     "text": [
      "/Users/bell/ecoraid/2018/Additional_FieldData/ArcticHeat/IWG_data/20180529_200826_IWG.clean.txt\n",
      "/Users/bell/ecoraid/2018/Additional_FieldData/ArcticHeat/IWG_data/20180530_010157_IWG.clean.txt\n",
      "/Users/bell/ecoraid/2018/Additional_FieldData/ArcticHeat/IWG_data/20180527_210946_IWG.clean.txt\n",
      "/Users/bell/ecoraid/2018/Additional_FieldData/ArcticHeat/IWG_data/20180531_210924_IWG.clean.txt\n",
      "/Users/bell/ecoraid/2018/Additional_FieldData/ArcticHeat/IWG_data/20180525_221008_IWG.clean.txt\n"
     ]
    }
   ],
   "source": [
    "dfs = {}\n",
    "for i,filename in enumerate(iwg_file):\n",
    "    print(filename)\n",
    "    dfs.update({i: pd.read_csv(filename, error_bad_lines=False, parse_dates=['TIME'], index_col=['TIME'])})\n"
   ]
  },
  {
   "cell_type": "markdown",
   "metadata": {},
   "source": [
    "### Plot fligh paths"
   ]
  },
  {
   "cell_type": "code",
   "execution_count": 28,
   "metadata": {},
   "outputs": [],
   "source": [
    "%matplotlib inline\n",
    "import matplotlib.pyplot as plt\n",
    "import cartopy.crs as ccrs\n",
    "import cartopy.feature as cfeature\n",
    "from cartopy.mpl.ticker import LongitudeFormatter, LatitudeFormatter\n",
    "import cmocean\n",
    "\n",
    "def make_map(projection=ccrs.PlateCarree()):\n",
    "    fig, ax = plt.subplots(figsize=(16, 16),\n",
    "                           subplot_kw=dict(projection=projection))\n",
    "    if projection == ccrs.PlateCarree():\n",
    "        gl = ax.gridlines(draw_labels=True)\n",
    "        gl.xlabels_top = gl.ylabels_right = False\n",
    "        gl.xformatter = LONGITUDE_FORMATTER\n",
    "        gl.yformatter = LATITUDE_FORMATTER\n",
    "    return fig, ax, plt"
   ]
  },
  {
   "cell_type": "code",
   "execution_count": 32,
   "metadata": {},
   "outputs": [
    {
     "data": {
      "image/png": "[encoded data removed]",
      "text/plain": [
       "<Figure size 1152x1152 with 2 Axes>"
      ]
     },
     "metadata": {},
     "output_type": "display_data"
    }
   ],
   "source": [
    "projection=ccrs.LambertConformal(central_longitude=-160.0)\n",
    "transformation=ccrs.PlateCarree()\n",
    "\n",
    "land_50m = cfeature.NaturalEarthFeature('physical', 'land', '50m',\n",
    "                                        edgecolor='face',\n",
    "                                        facecolor='1.0')\n",
    "\n",
    "dx = dy = 0.5\n",
    "extent = [-176, -160, 67.5, 72.5]\n",
    "\n",
    "fig,ax,plt = make_map(projection=projection)\n",
    "\n",
    "for legs, df in dfs.items():\n",
    "    ax.plot(df['LON'], df['LAT'], '+k', markersize=0.5, label=legs, transform=transformation)\n",
    "    t = ax.scatter(df['LON'], df['LAT'], s=5,c=df.SST, cmap=cmocean.cm.thermal, vmin=-2, vmax=10, label=legs, transform=transformation)\n",
    "\n",
    "plt.colorbar(t)\n",
    "#leg = ax.legend()\n",
    "\n",
    "ax.add_feature(land_50m)\n",
    "ax.coastlines(resolution='50m')\n",
    "ax.set_extent(extent)"
   ]
  },
  {
   "cell_type": "markdown",
   "metadata": {},
   "source": [
    "see the [ArcticHeat_IWG_plot.ipynb](ArcticHeat_IWG_plot.ipynb) for more extensive plots using the gmt-python package"
   ]
  },
  {
   "cell_type": "markdown",
   "metadata": {},
   "source": []
  }
 ],
 "metadata": {
  "kernelspec": {
   "display_name": "Python [conda env:py36]",
   "language": "python",
   "name": "conda-env-py36-py"
  },
  "language_info": {
   "codemirror_mode": {
    "name": "ipython",
    "version": 3
   },
   "file_extension": ".py",
   "mimetype": "text/x-python",
   "name": "python",
   "nbconvert_exporter": "python",
   "pygments_lexer": "ipython3",
   "version": "3.6.6"
  }
 },
 "nbformat": 4,
 "nbformat_minor": 2
}
