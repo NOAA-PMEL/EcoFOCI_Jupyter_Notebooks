{
 "cells": [
  {
   "cell_type": "markdown",
   "metadata": {},
   "source": [
    "## Process and Visualize IWG data from Arctic Heat\n",
    "\n",
    "Arctic Heat IWG files are obtained during aircraft flights.  Using python and a few standard data analysis and visualization packages, we can take a few quick looks into the data.\n",
    "\n",
    "**Note** GMT-Python is in heavy development and may not be available unless you are on a mac or linux machine.  Alternatives are Cartopy or outputing your data into your favorite GIS software.\n",
    "\n",
    "For more information on the analysis, contact: Shaun.Bell@noaa.gov"
   ]
  },
  {
   "cell_type": "code",
   "execution_count": 5,
   "metadata": {},
   "outputs": [
    {
     "data": {
      "text/plain": [
       "['b', 'g', 'r', 'c', 'm', 'y', 'k', 'w']"
      ]
     },
     "execution_count": 5,
     "metadata": {},
     "output_type": "execute_result"
    }
   ],
   "source": [
    "%matplotlib inline\n",
    "import matplotlib.pyplot as plt\n",
    "import matplotlib.dates as mdates\n",
    "\n",
    "import cmocean\n",
    "\n",
    "import pandas as pd\n",
    "import numpy as np\n",
    "\n",
    "import os\n",
    "\n",
    "from matplotlib import colors as mcolors\n",
    "\n",
    "\n",
    "colors = dict(mcolors.BASE_COLORS, **mcolors.CSS4_COLORS)\n",
    "clist = list(colors.keys())\n",
    "clist[0:8]"
   ]
  },
  {
   "cell_type": "markdown",
   "metadata": {},
   "source": [
    "### Data Ingestion and data summary/statistics\n",
    "\n",
    "A few lines to list and read the .iwg files into a dictionary of pandas dataframes.\n",
    "\n",
    "The original .iwg files have headerlines everyso often through the file.  I usually clean these up by removing all of the lines and adding one iteration of headers at the top of the file and then call these files \".clean\""
   ]
  },
  {
   "cell_type": "code",
   "execution_count": 6,
   "metadata": {},
   "outputs": [],
   "source": [
    "source_dir = '/Users/bell/ecoraid/2019/Additional_FieldData/ArcticHeat/IWG_data/'\n",
    "source_file = [x for x in os.listdir(source_dir) if x.endswith('.clean.csv')]"
   ]
  },
  {
   "cell_type": "code",
   "execution_count": 7,
   "metadata": {},
   "outputs": [
    {
     "name": "stdout",
     "output_type": "stream",
     "text": [
      "20190720_231146_IWG.clean.csv\n",
      "20190716_170539_IWG.clean.csv\n",
      "20190720_170527_IWG.clean.csv\n",
      "20190717_200841_IWG.clean.csv\n",
      "20190717_001212_IWG.clean.csv\n",
      "20190718_231103_IWG.clean.csv\n",
      "20190719_190728_IWG.clean.csv\n",
      "20190719_210910_IWG.clean.csv\n"
     ]
    }
   ],
   "source": [
    "dfs = {}\n",
    "for i,filename in enumerate(source_file):\n",
    "    print(filename)\n",
    "    dfs.update({filename:pd.read_csv(source_dir + filename,delimiter=',',parse_dates=['TIME'],index_col='TIME')})"
   ]
  },
  {
   "cell_type": "code",
   "execution_count": 8,
   "metadata": {
    "scrolled": true
   },
   "outputs": [
    {
     "name": "stdout",
     "output_type": "stream",
     "text": [
      "Summary for file:20190720_231146_IWG.clean.csv\n",
      "         Unnamed: 0           LAT           LON        ALTGPS           SST  \\\n",
      "count  10129.000000  10129.000000  10129.000000  10129.000000  10129.000000   \n",
      "mean    5233.015895     68.316588   -153.614857   3066.023991      1.875318   \n",
      "std     3021.607561      1.939515      1.971969    862.997176      4.986720   \n",
      "min        0.000000     64.933014   -156.861069     12.000000    -20.810000   \n",
      "25%     2617.000000     66.631241   -155.334976   3313.000000     -1.560000   \n",
      "50%     5233.000000     68.325241   -153.453217   3355.000000      0.050000   \n",
      "75%     7849.000000     70.040276   -151.869171   3393.000000      3.900000   \n",
      "max    10466.000000     71.287003   -150.496658   3420.000000     18.550000   \n",
      "\n",
      "         PYRAUCLEAR            RH  \n",
      "count  10129.000000  10129.000000  \n",
      "mean     491.062788     84.776947  \n",
      "std      133.482480     22.980582  \n",
      "min     -335.090000      6.500000  \n",
      "25%      403.870000     80.100000  \n",
      "50%      536.440000     94.400000  \n",
      "75%      603.180000    100.000000  \n",
      "max      752.710000    100.000000  \n",
      "Summary for file:20190716_170539_IWG.clean.csv\n",
      "         Unnamed: 0           LAT           LON        ALTGPS           SST  \\\n",
      "count  18360.000000  18360.000000  18360.000000  18360.000000  18360.000000   \n",
      "mean    9485.603758     72.420019   -155.521204   2401.398366      3.246419   \n",
      "std     5476.889635      0.811910      2.846115   1088.529960      4.698536   \n",
      "min        0.000000     71.003914   -160.399658     13.000000     -3.650000   \n",
      "25%     4742.750000     71.577726   -156.820580   2291.750000     -0.850000   \n",
      "50%     9485.500000     72.580841   -156.351975   3053.000000      3.270000   \n",
      "75%    14228.250000     73.138777   -153.672607   3061.000000      5.620000   \n",
      "max    18971.000000     73.627090   -148.929382   3084.000000     16.900000   \n",
      "\n",
      "         PYRAUCLEAR            RH  \n",
      "count  18360.000000  18360.000000  \n",
      "mean     314.135572     94.674118  \n",
      "std      202.815213     10.144319  \n",
      "min    -2716.220000     28.200000  \n",
      "25%      234.925000     91.800000  \n",
      "50%      301.500000    100.000000  \n",
      "75%      405.957500    100.000000  \n",
      "max      950.570000    100.000000  \n",
      "Summary for file:20190720_170527_IWG.clean.csv\n",
      "         Unnamed: 0           LAT           LON        ALTGPS           SST  \\\n",
      "count  18876.000000  18876.000000  18876.000000  18876.000000  18876.000000   \n",
      "mean    9438.500000     72.644188   -150.927345    167.646270      4.045611   \n",
      "std     5449.176176      0.874248      4.094128    113.984066      3.621725   \n",
      "min        1.000000     71.269318   -156.834641     12.000000     -1.270000   \n",
      "25%     4719.750000     71.873131   -154.521072    151.000000      0.840000   \n",
      "50%     9438.500000     72.654774   -151.243683    156.000000      2.960000   \n",
      "75%    14157.250000     73.431607   -147.552746    167.000000      6.980000   \n",
      "max    18876.000000     74.005318   -142.975052    760.000000     17.800000   \n",
      "\n",
      "         PYRAUCLEAR            RH  \n",
      "count  18876.000000  18876.000000  \n",
      "mean     150.284524     99.903332  \n",
      "std      132.342214      0.766008  \n",
      "min     -835.240000     92.700000  \n",
      "25%       70.597500    100.000000  \n",
      "50%      114.810000    100.000000  \n",
      "75%      180.212500    100.000000  \n",
      "max      872.450000    100.000000  \n",
      "Summary for file:20190717_200841_IWG.clean.csv\n",
      "         Unnamed: 0           LAT           LON        ALTGPS           SST  \\\n",
      "count  17800.000000  17800.000000  17800.000000  17800.000000  17800.000000   \n",
      "mean    9196.071124     72.579369   -159.745732    161.866854      5.624690   \n",
      "std     5309.839784      0.697218      1.564976     56.055935      3.273928   \n",
      "min        0.000000     71.266045   -161.702026     13.000000     -0.660000   \n",
      "25%     4597.750000     72.000809   -160.866734    150.000000      3.530000   \n",
      "50%     9196.500000     72.929447   -160.456451    159.000000      5.260000   \n",
      "75%    13794.250000     73.071190   -158.470115    178.000000      6.670000   \n",
      "max    18392.000000     73.536224   -156.657166    390.000000     22.540000   \n",
      "\n",
      "         PYRAUCLEAR            RH  \n",
      "count  17800.000000  17800.000000  \n",
      "mean     279.070381     94.728410  \n",
      "std      137.067231      5.676441  \n",
      "min     -922.930000     65.300000  \n",
      "25%      186.360000     93.100000  \n",
      "50%      240.965000     95.700000  \n",
      "75%      345.470000     99.100000  \n",
      "max      898.780000    100.000000  \n",
      "Summary for file:20190717_001212_IWG.clean.csv\n",
      "         Unnamed: 0           LAT           LON        ALTGPS           SST  \\\n",
      "count  16658.000000  16658.000000  16658.000000  16658.000000  16658.000000   \n",
      "mean    8605.800336     72.114069   -152.137359   2469.321827      4.508422   \n",
      "std     4969.191580      0.518486      4.185596   1049.848210      3.190066   \n",
      "min        0.000000     71.258469   -156.837799     12.000000    -20.810000   \n",
      "25%     4302.500000     71.594092   -156.485008   2573.000000      2.620000   \n",
      "50%     8605.500000     72.356014   -152.887046   3062.000000      4.400000   \n",
      "75%    12908.750000     72.575500   -148.446625   3073.000000      6.400000   \n",
      "max    17212.000000     72.612228   -144.076782   3081.000000     15.830000   \n",
      "\n",
      "        PYRAUCLEAR            RH  \n",
      "count  16658.00000  16658.000000  \n",
      "mean     261.32835     70.118730  \n",
      "std      232.95440     29.797878  \n",
      "min    -2715.33000      7.900000  \n",
      "25%      174.41250     55.300000  \n",
      "50%      278.06000     80.000000  \n",
      "75%      351.24750     97.400000  \n",
      "max      804.00000    100.000000  \n",
      "Summary for file:20190718_231103_IWG.clean.csv\n",
      "         Unnamed: 0           LAT           LON        ALTGPS           SST  \\\n",
      "count  17073.000000  17073.000000  17073.000000  17073.000000  17073.000000   \n",
      "mean    8820.241375     72.726386   -159.514943   2036.386400      1.240630   \n",
      "std     5092.952626      1.036018      2.758729    891.577324      5.754103   \n",
      "min        0.000000     71.204277   -165.175629     11.000000     -9.390000   \n",
      "25%     4410.000000     71.731354   -161.916321   1768.000000     -2.210000   \n",
      "50%     8820.000000     72.741455   -158.566589   1827.000000      0.370000   \n",
      "75%    13230.000000     73.634521   -157.067963   2943.000000      4.560000   \n",
      "max    17641.000000     74.534393   -155.967728   2997.000000     14.970000   \n",
      "\n",
      "         PYRAUCLEAR            RH  \n",
      "count  17073.000000  17073.000000  \n",
      "mean     337.882037     34.573162  \n",
      "std      132.405848     44.516488  \n",
      "min     -957.150000      0.000000  \n",
      "25%      239.510000      0.000000  \n",
      "50%      354.800000      0.000000  \n",
      "75%      420.920000     89.500000  \n",
      "max      888.870000    100.000000  \n",
      "Summary for file:20190719_190728_IWG.clean.csv\n",
      "        Unnamed: 0          LAT          LON       ALTGPS          SST  \\\n",
      "count  5951.000000  5951.000000  5951.000000  5951.000000  5951.000000   \n",
      "mean   3074.181818    72.032864  -159.130992   142.181650     6.369595   \n",
      "std    1775.320523     0.541496     1.637562    73.010943     4.133842   \n",
      "min       0.000000    71.284851  -161.192261    12.000000   -20.810000   \n",
      "25%    1537.500000    71.495007  -160.702759   140.000000     3.950000   \n",
      "50%    3074.000000    72.057877  -159.385681   151.000000     4.790000   \n",
      "75%    4611.500000    72.532464  -157.450318   157.000000     6.385000   \n",
      "max    6148.000000    72.920837  -156.756073   330.000000    16.640000   \n",
      "\n",
      "        PYRAUCLEAR           RH  \n",
      "count  5951.000000  5951.000000  \n",
      "mean    209.512831    88.395984  \n",
      "std     191.646097    11.744979  \n",
      "min    -465.570000    63.100000  \n",
      "25%      38.435000    80.400000  \n",
      "50%     115.320000    87.500000  \n",
      "75%     430.185000   100.000000  \n",
      "max     677.340000   100.000000  \n",
      "Summary for file:20190719_210910_IWG.clean.csv\n",
      "         Unnamed: 0           LAT           LON        ALTGPS           SST  \\\n",
      "count  12405.000000  12405.000000  12405.000000  12405.000000  12405.000000   \n",
      "mean    6408.660379     73.518010   -157.517416   1573.645788     -0.099938   \n",
      "std     3700.437567      1.119419      1.131934   1351.750604      4.388101   \n",
      "min        0.000000     71.273430   -160.472107     13.000000    -20.810000   \n",
      "25%     3204.000000     72.766106   -158.046814    154.000000     -3.370000   \n",
      "50%     6409.000000     73.654770   -156.918915   1620.000000     -0.340000   \n",
      "75%     9613.000000     74.491196   -156.822296   2983.000000      2.600000   \n",
      "max    12817.000000     75.101250   -156.317184   3062.000000     16.220000   \n",
      "\n",
      "         PYRAUCLEAR            RH  \n",
      "count  12405.000000  12405.000000  \n",
      "mean     287.593649     93.791503  \n",
      "std      152.374487      7.082217  \n",
      "min     -835.180000     70.100000  \n",
      "25%      188.870000     88.300000  \n",
      "50%      282.150000     96.200000  \n",
      "75%      376.180000    100.000000  \n",
      "max      730.540000    100.000000  \n"
     ]
    }
   ],
   "source": [
    "for file in dfs.keys():\n",
    "    print(\"Summary for file:{}\".format(file))\n",
    "    print(dfs[file].describe())"
   ]
  },
  {
   "cell_type": "code",
   "execution_count": 9,
   "metadata": {},
   "outputs": [
    {
     "data": {
      "image/png": "[encoded data removed]",
      "text/plain": [
       "<Figure size 432x288 with 1 Axes>"
      ]
     },
     "metadata": {
      "needs_background": "light"
     },
     "output_type": "display_data"
    }
   ],
   "source": [
    "for file in dfs.keys():\n",
    "    dfs[file]['SST'].hist(bins=100)"
   ]
  },
  {
   "cell_type": "markdown",
   "metadata": {},
   "source": [
    "import in locations of ALAMO Drops as well"
   ]
  },
  {
   "cell_type": "code",
   "execution_count": 10,
   "metadata": {},
   "outputs": [
    {
     "ename": "FileNotFoundError",
     "evalue": "[Errno 2] No such file or directory: '../data/Summer2018_Deployments.tsv'",
     "output_type": "error",
     "traceback": [
      "\u001b[0;31m---------------------------------------------------------------------------\u001b[0m",
      "\u001b[0;31mFileNotFoundError\u001b[0m                         Traceback (most recent call last)",
      "\u001b[0;32m<ipython-input-10-4bf5e2b4f30a>\u001b[0m in \u001b[0;36m<module>\u001b[0;34m\u001b[0m\n\u001b[0;32m----> 1\u001b[0;31m \u001b[0malamo_loc\u001b[0m \u001b[0;34m=\u001b[0m \u001b[0mpd\u001b[0m\u001b[0;34m.\u001b[0m\u001b[0mread_csv\u001b[0m\u001b[0;34m(\u001b[0m\u001b[0;34m'../data/Summer2018_Deployments.tsv'\u001b[0m\u001b[0;34m,\u001b[0m\u001b[0mdelimiter\u001b[0m\u001b[0;34m=\u001b[0m\u001b[0;34m'\\t+'\u001b[0m\u001b[0;34m,\u001b[0m \u001b[0mengine\u001b[0m\u001b[0;34m=\u001b[0m\u001b[0;34m'python'\u001b[0m\u001b[0;34m)\u001b[0m\u001b[0;34m\u001b[0m\u001b[0;34m\u001b[0m\u001b[0m\n\u001b[0m",
      "\u001b[0;32m~/anaconda2/envs/pygmt/lib/python3.6/site-packages/pandas/io/parsers.py\u001b[0m in \u001b[0;36mparser_f\u001b[0;34m(filepath_or_buffer, sep, delimiter, header, names, index_col, usecols, squeeze, prefix, mangle_dupe_cols, dtype, engine, converters, true_values, false_values, skipinitialspace, skiprows, skipfooter, nrows, na_values, keep_default_na, na_filter, verbose, skip_blank_lines, parse_dates, infer_datetime_format, keep_date_col, date_parser, dayfirst, iterator, chunksize, compression, thousands, decimal, lineterminator, quotechar, quoting, doublequote, escapechar, comment, encoding, dialect, tupleize_cols, error_bad_lines, warn_bad_lines, delim_whitespace, low_memory, memory_map, float_precision)\u001b[0m\n\u001b[1;32m    700\u001b[0m                     skip_blank_lines=skip_blank_lines)\n\u001b[1;32m    701\u001b[0m \u001b[0;34m\u001b[0m\u001b[0m\n\u001b[0;32m--> 702\u001b[0;31m         \u001b[0;32mreturn\u001b[0m \u001b[0m_read\u001b[0m\u001b[0;34m(\u001b[0m\u001b[0mfilepath_or_buffer\u001b[0m\u001b[0;34m,\u001b[0m \u001b[0mkwds\u001b[0m\u001b[0;34m)\u001b[0m\u001b[0;34m\u001b[0m\u001b[0;34m\u001b[0m\u001b[0m\n\u001b[0m\u001b[1;32m    703\u001b[0m \u001b[0;34m\u001b[0m\u001b[0m\n\u001b[1;32m    704\u001b[0m     \u001b[0mparser_f\u001b[0m\u001b[0;34m.\u001b[0m\u001b[0m__name__\u001b[0m \u001b[0;34m=\u001b[0m \u001b[0mname\u001b[0m\u001b[0;34m\u001b[0m\u001b[0;34m\u001b[0m\u001b[0m\n",
      "\u001b[0;32m~/anaconda2/envs/pygmt/lib/python3.6/site-packages/pandas/io/parsers.py\u001b[0m in \u001b[0;36m_read\u001b[0;34m(filepath_or_buffer, kwds)\u001b[0m\n\u001b[1;32m    427\u001b[0m \u001b[0;34m\u001b[0m\u001b[0m\n\u001b[1;32m    428\u001b[0m     \u001b[0;31m# Create the parser.\u001b[0m\u001b[0;34m\u001b[0m\u001b[0;34m\u001b[0m\u001b[0;34m\u001b[0m\u001b[0m\n\u001b[0;32m--> 429\u001b[0;31m     \u001b[0mparser\u001b[0m \u001b[0;34m=\u001b[0m \u001b[0mTextFileReader\u001b[0m\u001b[0;34m(\u001b[0m\u001b[0mfilepath_or_buffer\u001b[0m\u001b[0;34m,\u001b[0m \u001b[0;34m**\u001b[0m\u001b[0mkwds\u001b[0m\u001b[0;34m)\u001b[0m\u001b[0;34m\u001b[0m\u001b[0;34m\u001b[0m\u001b[0m\n\u001b[0m\u001b[1;32m    430\u001b[0m \u001b[0;34m\u001b[0m\u001b[0m\n\u001b[1;32m    431\u001b[0m     \u001b[0;32mif\u001b[0m \u001b[0mchunksize\u001b[0m \u001b[0;32mor\u001b[0m \u001b[0miterator\u001b[0m\u001b[0;34m:\u001b[0m\u001b[0;34m\u001b[0m\u001b[0;34m\u001b[0m\u001b[0m\n",
      "\u001b[0;32m~/anaconda2/envs/pygmt/lib/python3.6/site-packages/pandas/io/parsers.py\u001b[0m in \u001b[0;36m__init__\u001b[0;34m(self, f, engine, **kwds)\u001b[0m\n\u001b[1;32m    893\u001b[0m             \u001b[0mself\u001b[0m\u001b[0;34m.\u001b[0m\u001b[0moptions\u001b[0m\u001b[0;34m[\u001b[0m\u001b[0;34m'has_index_names'\u001b[0m\u001b[0;34m]\u001b[0m \u001b[0;34m=\u001b[0m \u001b[0mkwds\u001b[0m\u001b[0;34m[\u001b[0m\u001b[0;34m'has_index_names'\u001b[0m\u001b[0;34m]\u001b[0m\u001b[0;34m\u001b[0m\u001b[0;34m\u001b[0m\u001b[0m\n\u001b[1;32m    894\u001b[0m \u001b[0;34m\u001b[0m\u001b[0m\n\u001b[0;32m--> 895\u001b[0;31m         \u001b[0mself\u001b[0m\u001b[0;34m.\u001b[0m\u001b[0m_make_engine\u001b[0m\u001b[0;34m(\u001b[0m\u001b[0mself\u001b[0m\u001b[0;34m.\u001b[0m\u001b[0mengine\u001b[0m\u001b[0;34m)\u001b[0m\u001b[0;34m\u001b[0m\u001b[0;34m\u001b[0m\u001b[0m\n\u001b[0m\u001b[1;32m    896\u001b[0m \u001b[0;34m\u001b[0m\u001b[0m\n\u001b[1;32m    897\u001b[0m     \u001b[0;32mdef\u001b[0m \u001b[0mclose\u001b[0m\u001b[0;34m(\u001b[0m\u001b[0mself\u001b[0m\u001b[0;34m)\u001b[0m\u001b[0;34m:\u001b[0m\u001b[0;34m\u001b[0m\u001b[0;34m\u001b[0m\u001b[0m\n",
      "\u001b[0;32m~/anaconda2/envs/pygmt/lib/python3.6/site-packages/pandas/io/parsers.py\u001b[0m in \u001b[0;36m_make_engine\u001b[0;34m(self, engine)\u001b[0m\n\u001b[1;32m   1130\u001b[0m                                  ' \"c\", \"python\", or' ' \"python-fwf\")'.format(\n\u001b[1;32m   1131\u001b[0m                                      engine=engine))\n\u001b[0;32m-> 1132\u001b[0;31m             \u001b[0mself\u001b[0m\u001b[0;34m.\u001b[0m\u001b[0m_engine\u001b[0m \u001b[0;34m=\u001b[0m \u001b[0mklass\u001b[0m\u001b[0;34m(\u001b[0m\u001b[0mself\u001b[0m\u001b[0;34m.\u001b[0m\u001b[0mf\u001b[0m\u001b[0;34m,\u001b[0m \u001b[0;34m**\u001b[0m\u001b[0mself\u001b[0m\u001b[0;34m.\u001b[0m\u001b[0moptions\u001b[0m\u001b[0;34m)\u001b[0m\u001b[0;34m\u001b[0m\u001b[0;34m\u001b[0m\u001b[0m\n\u001b[0m\u001b[1;32m   1133\u001b[0m \u001b[0;34m\u001b[0m\u001b[0m\n\u001b[1;32m   1134\u001b[0m     \u001b[0;32mdef\u001b[0m \u001b[0m_failover_to_python\u001b[0m\u001b[0;34m(\u001b[0m\u001b[0mself\u001b[0m\u001b[0;34m)\u001b[0m\u001b[0;34m:\u001b[0m\u001b[0;34m\u001b[0m\u001b[0;34m\u001b[0m\u001b[0m\n",
      "\u001b[0;32m~/anaconda2/envs/pygmt/lib/python3.6/site-packages/pandas/io/parsers.py\u001b[0m in \u001b[0;36m__init__\u001b[0;34m(self, f, **kwds)\u001b[0m\n\u001b[1;32m   2223\u001b[0m         f, handles = _get_handle(f, mode, encoding=self.encoding,\n\u001b[1;32m   2224\u001b[0m                                  \u001b[0mcompression\u001b[0m\u001b[0;34m=\u001b[0m\u001b[0mself\u001b[0m\u001b[0;34m.\u001b[0m\u001b[0mcompression\u001b[0m\u001b[0;34m,\u001b[0m\u001b[0;34m\u001b[0m\u001b[0;34m\u001b[0m\u001b[0m\n\u001b[0;32m-> 2225\u001b[0;31m                                  memory_map=self.memory_map)\n\u001b[0m\u001b[1;32m   2226\u001b[0m         \u001b[0mself\u001b[0m\u001b[0;34m.\u001b[0m\u001b[0mhandles\u001b[0m\u001b[0;34m.\u001b[0m\u001b[0mextend\u001b[0m\u001b[0;34m(\u001b[0m\u001b[0mhandles\u001b[0m\u001b[0;34m)\u001b[0m\u001b[0;34m\u001b[0m\u001b[0;34m\u001b[0m\u001b[0m\n\u001b[1;32m   2227\u001b[0m \u001b[0;34m\u001b[0m\u001b[0m\n",
      "\u001b[0;32m~/anaconda2/envs/pygmt/lib/python3.6/site-packages/pandas/io/common.py\u001b[0m in \u001b[0;36m_get_handle\u001b[0;34m(path_or_buf, mode, encoding, compression, memory_map, is_text)\u001b[0m\n\u001b[1;32m    425\u001b[0m         \u001b[0;32melif\u001b[0m \u001b[0mis_text\u001b[0m\u001b[0;34m:\u001b[0m\u001b[0;34m\u001b[0m\u001b[0;34m\u001b[0m\u001b[0m\n\u001b[1;32m    426\u001b[0m             \u001b[0;31m# Python 3 and no explicit encoding\u001b[0m\u001b[0;34m\u001b[0m\u001b[0;34m\u001b[0m\u001b[0;34m\u001b[0m\u001b[0m\n\u001b[0;32m--> 427\u001b[0;31m             \u001b[0mf\u001b[0m \u001b[0;34m=\u001b[0m \u001b[0mopen\u001b[0m\u001b[0;34m(\u001b[0m\u001b[0mpath_or_buf\u001b[0m\u001b[0;34m,\u001b[0m \u001b[0mmode\u001b[0m\u001b[0;34m,\u001b[0m \u001b[0merrors\u001b[0m\u001b[0;34m=\u001b[0m\u001b[0;34m'replace'\u001b[0m\u001b[0;34m,\u001b[0m \u001b[0mnewline\u001b[0m\u001b[0;34m=\u001b[0m\u001b[0;34m\"\"\u001b[0m\u001b[0;34m)\u001b[0m\u001b[0;34m\u001b[0m\u001b[0;34m\u001b[0m\u001b[0m\n\u001b[0m\u001b[1;32m    428\u001b[0m         \u001b[0;32melse\u001b[0m\u001b[0;34m:\u001b[0m\u001b[0;34m\u001b[0m\u001b[0;34m\u001b[0m\u001b[0m\n\u001b[1;32m    429\u001b[0m             \u001b[0;31m# Python 3 and binary mode\u001b[0m\u001b[0;34m\u001b[0m\u001b[0;34m\u001b[0m\u001b[0;34m\u001b[0m\u001b[0m\n",
      "\u001b[0;31mFileNotFoundError\u001b[0m: [Errno 2] No such file or directory: '../data/Summer2018_Deployments.tsv'"
     ]
    }
   ],
   "source": [
    "alamo_loc = pd.read_csv('../data/Summer2018_Deployments.tsv',delimiter='\\t+', engine='python')"
   ]
  },
  {
   "cell_type": "code",
   "execution_count": 11,
   "metadata": {},
   "outputs": [
    {
     "ename": "NameError",
     "evalue": "name 'alamo_loc' is not defined",
     "output_type": "error",
     "traceback": [
      "\u001b[0;31m---------------------------------------------------------------------------\u001b[0m",
      "\u001b[0;31mNameError\u001b[0m                                 Traceback (most recent call last)",
      "\u001b[0;32m<ipython-input-11-62379584d448>\u001b[0m in \u001b[0;36m<module>\u001b[0;34m\u001b[0m\n\u001b[0;32m----> 1\u001b[0;31m \u001b[0malamo_loc\u001b[0m\u001b[0;34m\u001b[0m\u001b[0;34m\u001b[0m\u001b[0m\n\u001b[0m",
      "\u001b[0;31mNameError\u001b[0m: name 'alamo_loc' is not defined"
     ]
    }
   ],
   "source": [
    "alamo_loc"
   ]
  },
  {
   "cell_type": "markdown",
   "metadata": {},
   "source": [
    "### Geolocated Plots of SST/Flight Altitude using GMT-Python\n",
    "\n",
    "After having imported and glanced at the data and statistics, lets plot the SST as a function of flight path"
   ]
  },
  {
   "cell_type": "code",
   "execution_count": 12,
   "metadata": {},
   "outputs": [],
   "source": [
    "import pygmt as gmt"
   ]
  },
  {
   "cell_type": "code",
   "execution_count": 13,
   "metadata": {},
   "outputs": [
    {
     "name": "stderr",
     "output_type": "stream",
     "text": [
      "earth_relief_02m: Download file from the GMT ftp data server [data set size is 58M].\n",
      "earth_relief_02m: Earth Relief at 2x2 arc minutes provided by ETOPO2v2g_f4 [NOAA].\n"
     ]
    }
   ],
   "source": [
    "# Load the builtin Earth relief grid as an xarray.DataArray.\n",
    "relief = gmt.datasets.load_earth_relief(resolution=\"02m\")\n"
   ]
  },
  {
   "cell_type": "code",
   "execution_count": 14,
   "metadata": {},
   "outputs": [],
   "source": [
    "fig = gmt.Figure()\n",
    "\n",
    "fig.grdimage(relief,region=[-175, -140, 60, 77], projection='B-155/60/55/60/6i', cmap=\"geo\", frame=True)\n",
    "fig.coast(shorelines='0.25p,black',rivers='A/0.25p,lightblue')"
   ]
  },
  {
   "cell_type": "code",
   "execution_count": 15,
   "metadata": {},
   "outputs": [
    {
     "name": "stdout",
     "output_type": "stream",
     "text": [
      "20190716_170539_IWG.clean.csv\n",
      "0/0/255\n",
      "20190717_001212_IWG.clean.csv\n",
      "0/0/255\n",
      "20190717_200841_IWG.clean.csv\n",
      "0/0/255\n",
      "20190718_231103_IWG.clean.csv\n",
      "0/0/255\n",
      "20190719_190728_IWG.clean.csv\n",
      "0/0/255\n",
      "20190719_210910_IWG.clean.csv\n",
      "0/127.5/0\n",
      "20190720_170527_IWG.clean.csv\n",
      "0/127.5/0\n",
      "20190720_231146_IWG.clean.csv\n",
      "0/127.5/0\n"
     ]
    }
   ],
   "source": [
    "#plot each path as a color\n",
    "acount=0\n",
    "\n",
    "for file in sorted(dfs.keys())[0:5]:\n",
    "    print(file)\n",
    "    fig.plot(x=dfs[file].LON.values, y=dfs[file].LAT.values, \n",
    "             color='/'.join(tuple( map( lambda x: str(255*x) , colors[clist[acount]] ) )), \n",
    "             style='c0.025c')\n",
    "    print('/'.join(tuple( map( lambda x: str(255*x) , colors[clist[acount]] ) )))\n",
    "acount+=1\n",
    "\n",
    "for file in sorted(dfs.keys())[5:9]:\n",
    "    print(file)\n",
    "    fig.plot(x=dfs[file].LON.values, y=dfs[file].LAT.values, \n",
    "             color='/'.join(tuple( map( lambda x: str(255*x) , colors[clist[acount]] ) )), \n",
    "             style='c0.025c')\n",
    "    print('/'.join(tuple( map( lambda x: str(255*x) , colors[clist[acount]] ) )))\n",
    "acount+=1\n",
    "\n",
    "for file in sorted(dfs.keys())[9:]:\n",
    "    print(file)\n",
    "    fig.plot(x=dfs[file].LON.values, y=dfs[file].LAT.values, \n",
    "             color='/'.join(tuple( map( lambda x: str(255*x) , colors[clist[acount]] ) )), \n",
    "             style='c0.025c')\n",
    "    print('/'.join(tuple( map( lambda x: str(255*x) , colors[clist[acount]] ) )))\n",
    "acount+=1"
   ]
  },
  {
   "cell_type": "code",
   "execution_count": null,
   "metadata": {},
   "outputs": [],
   "source": [
    "#add alamo drops 'o' for arctic heat \n",
    "\n",
    "fig.plot(x=np.array(alamo_loc.Lon), y=np.array(alamo_loc.Lat), color='black', style='c0.125c')\n"
   ]
  },
  {
   "cell_type": "code",
   "execution_count": null,
   "metadata": {},
   "outputs": [],
   "source": [
    "fig.show()"
   ]
  },
  {
   "cell_type": "code",
   "execution_count": null,
   "metadata": {},
   "outputs": [],
   "source": [
    "fig.savefig('ARCTICHeat_Summer_Zoom.png')"
   ]
  },
  {
   "cell_type": "code",
   "execution_count": null,
   "metadata": {},
   "outputs": [],
   "source": [
    "fig = gmt.Figure()\n",
    "\n",
    "fig.coast(region=[-170, -140, 66, 77], projection='B-155/60/55/60/6i', land='black', water='lightgrey',\n",
    "          frame=True,U=True) "
   ]
  },
  {
   "cell_type": "code",
   "execution_count": null,
   "metadata": {},
   "outputs": [],
   "source": [
    "#choose temp boundaries\n",
    "upper_limit = 14\n",
    "lower_limit = -2\n",
    "\n",
    "for file in sorted(dfs.keys()):\n",
    "    print(file)\n",
    "    dfmiss = dfs[file].copy()\n",
    "    dfmiss['SST'].loc[(dfs[file]['SST'] > upper_limit ) | (dfs[file]['SST'] <lower_limit)] = np.nan\n",
    "    # normalize data for colormap\n",
    "    dfnorm = dfmiss['SST'].apply(lambda x: (x - (lower_limit)) / (upper_limit - (lower_limit)))\n",
    "    fig.plot(x=dfs[file].LON.values, y=dfs[file].LAT.values, color=256*dfnorm, cmap='thermal', style='c0.1c')\n"
   ]
  },
  {
   "cell_type": "code",
   "execution_count": null,
   "metadata": {},
   "outputs": [],
   "source": [
    "fig.show()"
   ]
  },
  {
   "cell_type": "code",
   "execution_count": null,
   "metadata": {},
   "outputs": [],
   "source": [
    "fig = gmt.Figure()\n",
    "\n",
    "fig.coast(region=[-170, -140, 66, 77], projection='B-155/60/55/60/6i', land='black', water='lightgrey',\n",
    "          frame=True,U=True) "
   ]
  },
  {
   "cell_type": "code",
   "execution_count": null,
   "metadata": {},
   "outputs": [],
   "source": [
    "#choose altitude boundaries\n",
    "upper_alt = 500 #ft\n",
    "#lower is 0ft\n",
    "\n",
    "for file in dfs.keys():\n",
    "    dfmiss = dfs[file].copy()\n",
    "    dfmiss['ALTGPS'].loc[(dfs[file]['ALTGPS'] > upper_alt ) | (dfs[file]['ALTGPS'] <lower_limit)] = np.nan\n",
    "    # normalize data for colormap\n",
    "    dfnorm = dfmiss['ALTGPS'].apply(lambda x: (x - (0)) / (upper_alt - (0)))\n",
    "    #if a cmocean colormap is used like thermal - then you need to add it to your gmt-python env\n",
    "    fig.plot(x=dfs[file].LON.values, y=dfs[file].LAT.values, color=dfnorm, cmap='viridis', style='c0.1c')\n",
    "\n",
    "fig.show()"
   ]
  },
  {
   "cell_type": "markdown",
   "metadata": {},
   "source": [
    "areas greyed out above are above 500ft.  darker blue regions are lower while lighter green regions are higher"
   ]
  },
  {
   "cell_type": "markdown",
   "metadata": {},
   "source": [
    "### Plotting Time vs Altitude color coded by SST"
   ]
  },
  {
   "cell_type": "code",
   "execution_count": null,
   "metadata": {},
   "outputs": [],
   "source": [
    "for file in sorted(dfs.keys()):\n",
    "    fig = plt.figure(figsize=(14, 2))\n",
    "    ax1 = fig.add_subplot(111)\n",
    "    plt.scatter(dfs[file].index,dfs[file]['ALTGPS'],\n",
    "                s=10,c=dfs[file]['SST'],cmap=cmocean.cm.thermal,\n",
    "                vmin=lower_limit,vmax=upper_limit)\n",
    "    ax1.set_xlim(dfs[file].index.min(),dfs[file].index.max())\n",
    "    xfmt = mdates.DateFormatter('%H:%Mh\\n%d-%b')\n",
    "    ax1.xaxis.set_major_formatter(xfmt)\n",
    "    plt.title(file)"
   ]
  },
  {
   "cell_type": "markdown",
   "metadata": {},
   "source": [
    "### Color Bar Creation\n",
    "\n",
    "Creating a consistent color bar for the thermal plots.  Maptlotlib can do this inherently but the GMT-Python package"
   ]
  },
  {
   "cell_type": "code",
   "execution_count": null,
   "metadata": {},
   "outputs": [],
   "source": [
    "def colorbar(cmap=cmocean.cm.thermal,label=''):\n",
    "\n",
    "    '''\n",
    "    ====================\n",
    "    Customized colorbars\n",
    "    ====================\n",
    "\n",
    "    This example shows how to build colorbars without an attached mappable.\n",
    "    '''\n",
    "\n",
    "    import matplotlib.pyplot as plt\n",
    "    import matplotlib as mpl\n",
    "    import cmocean\n",
    "\n",
    "    # Make a figure and axes with dimensions as desired.\n",
    "    fig = plt.figure(figsize=(8, 3))\n",
    "    ax1 = fig.add_axes([0.05, 0.80, 0.9, 0.15])\n",
    "\n",
    "    # Set the colormap and norm to correspond to the data for which\n",
    "    # the colorbar will be used.\n",
    "    cmap = cmap\n",
    "    norm = mpl.colors.Normalize(vmin=lower_limit, vmax=upper_limit)\n",
    "\n",
    "    # ColorbarBase derives from ScalarMappable and puts a colorbar\n",
    "    # in a specified axes, so it has everything needed for a\n",
    "    # standalone colorbar.  There are many more kwargs, but the\n",
    "    # following gives a basic continuous colorbar with ticks\n",
    "    # and labels.\n",
    "    cb1 = mpl.colorbar.ColorbarBase(ax1, cmap=cmap,\n",
    "                                    norm=norm,\n",
    "                                    orientation='horizontal')\n",
    "    cb1.set_label(label)\n",
    "\n",
    "    # The second example illustrates the use of a ListedColormap, a\n",
    "    # BoundaryNorm, and extended ends to show the \"over\" and \"under\"\n",
    "    # value colors.\n",
    "    cmap = mpl.colors.ListedColormap(['r', 'g', 'b', 'c'])\n",
    "    cmap.set_over('0.25')\n",
    "    cmap.set_under('0.75')\n",
    "\n",
    "    plt.show()\n",
    "    #plt.savefig('colorbar.jpg')"
   ]
  },
  {
   "cell_type": "code",
   "execution_count": null,
   "metadata": {},
   "outputs": [],
   "source": [
    "colorbar(cmocean.cm.thermal,'Degrees C')\n",
    "colorbar('viridis','Altitude (ft)')"
   ]
  },
  {
   "cell_type": "code",
   "execution_count": null,
   "metadata": {},
   "outputs": [],
   "source": []
  }
 ],
 "metadata": {
  "kernelspec": {
   "display_name": "Python [conda env:pygmt]",
   "language": "python",
   "name": "conda-env-pygmt-py"
  },
  "language_info": {
   "codemirror_mode": {
    "name": "ipython",
    "version": 3
   },
   "file_extension": ".py",
   "mimetype": "text/x-python",
   "name": "python",
   "nbconvert_exporter": "python",
   "pygments_lexer": "ipython3",
   "version": "3.6.7"
  }
 },
 "nbformat": 4,
 "nbformat_minor": 4
}
