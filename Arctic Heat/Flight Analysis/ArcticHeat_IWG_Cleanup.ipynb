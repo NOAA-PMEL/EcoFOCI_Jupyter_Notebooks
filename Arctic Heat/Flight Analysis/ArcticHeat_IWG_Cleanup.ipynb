{
 "cells": [
  {
   "cell_type": "markdown",
   "metadata": {},
   "source": [
    "# Arctic Heat IWG data Cleanup\n",
    "\n",
    "The IWG flight data from ArcticHeat flights can be parsed and cleaned to ease analysis and minimize transmission costs\n",
    "\n",
    "The big two tasks are:\n",
    "+ clean up the repeated headerlines\n",
    "+ choose just the columns you wish to keep"
   ]
  },
  {
   "cell_type": "markdown",
   "metadata": {},
   "source": [
    "### Specify files to work with"
   ]
  },
  {
   "cell_type": "code",
   "execution_count": 71,
   "metadata": {},
   "outputs": [],
   "source": [
    "file_path = '/Users/bell/ecoraid/2019/Additional_FieldData/ArcticHeat/IWG_data/'\n",
    "file_name = '20190720_231146_IWG.dat'\n",
    "\n",
    "df = file_path+file_name"
   ]
  },
  {
   "cell_type": "markdown",
   "metadata": {},
   "source": [
    "Include standard package imports "
   ]
  },
  {
   "cell_type": "code",
   "execution_count": 72,
   "metadata": {},
   "outputs": [],
   "source": [
    "import pandas as pd\n",
    "import os\n"
   ]
  },
  {
   "cell_type": "code",
   "execution_count": 73,
   "metadata": {},
   "outputs": [],
   "source": [
    "#read in file and drop all duplicate header lines leaving only the first occurance\n",
    "ds = pd.read_csv(df,header=None)\n",
    "ds.drop_duplicates(inplace=True) \n",
    "\n",
    "column_names = (ds.loc[ds[0] == 'IWG1_NAMES']).values[0]"
   ]
  },
  {
   "cell_type": "code",
   "execution_count": 74,
   "metadata": {},
   "outputs": [],
   "source": [
    "# find the first occurence of the header line and use it to name columns (and drop it)\n",
    "ds.drop((ds.loc[ds[0] == 'IWG1_NAMES']).index,inplace=True)\n",
    "ds.columns = column_names"
   ]
  },
  {
   "cell_type": "markdown",
   "metadata": {},
   "source": [
    "### A quick summary of all contents of the file"
   ]
  },
  {
   "cell_type": "code",
   "execution_count": 75,
   "metadata": {},
   "outputs": [
    {
     "data": {
      "text/html": [
       "<div>\n",
       "<style scoped>\n",
       "    .dataframe tbody tr th:only-of-type {\n",
       "        vertical-align: middle;\n",
       "    }\n",
       "\n",
       "    .dataframe tbody tr th {\n",
       "        vertical-align: top;\n",
       "    }\n",
       "\n",
       "    .dataframe thead th {\n",
       "        text-align: right;\n",
       "    }\n",
       "</style>\n",
       "<table border=\"1\" class=\"dataframe\">\n",
       "  <thead>\n",
       "    <tr style=\"text-align: right;\">\n",
       "      <th></th>\n",
       "      <th>IWG1_NAMES</th>\n",
       "      <th>TIME</th>\n",
       "      <th>LAT</th>\n",
       "      <th>LON</th>\n",
       "      <th>ALTGPS</th>\n",
       "      <th>GPS_GEOIDHT</th>\n",
       "      <th>ALTPAFT</th>\n",
       "      <th>ALTRAFT</th>\n",
       "      <th>GS</th>\n",
       "      <th>TAS</th>\n",
       "      <th>...</th>\n",
       "      <th>none</th>\n",
       "      <th>none</th>\n",
       "      <th>none</th>\n",
       "      <th>none</th>\n",
       "      <th>FLID</th>\n",
       "      <th>MISSIONID</th>\n",
       "      <th>STORMID</th>\n",
       "      <th>SST</th>\n",
       "      <th>PYRAUCLEAR</th>\n",
       "      <th>RH</th>\n",
       "    </tr>\n",
       "  </thead>\n",
       "  <tbody>\n",
       "    <tr>\n",
       "      <th>count</th>\n",
       "      <td>10129</td>\n",
       "      <td>10129</td>\n",
       "      <td>10129</td>\n",
       "      <td>10129</td>\n",
       "      <td>10129</td>\n",
       "      <td>0</td>\n",
       "      <td>10129</td>\n",
       "      <td>10129</td>\n",
       "      <td>10129</td>\n",
       "      <td>10129</td>\n",
       "      <td>...</td>\n",
       "      <td>0</td>\n",
       "      <td>0</td>\n",
       "      <td>0</td>\n",
       "      <td>0</td>\n",
       "      <td>10129</td>\n",
       "      <td>10129</td>\n",
       "      <td>0</td>\n",
       "      <td>10129</td>\n",
       "      <td>10129</td>\n",
       "      <td>10129</td>\n",
       "    </tr>\n",
       "    <tr>\n",
       "      <th>unique</th>\n",
       "      <td>1</td>\n",
       "      <td>10129</td>\n",
       "      <td>9739</td>\n",
       "      <td>9872</td>\n",
       "      <td>969</td>\n",
       "      <td>0</td>\n",
       "      <td>805</td>\n",
       "      <td>212</td>\n",
       "      <td>2038</td>\n",
       "      <td>1708</td>\n",
       "      <td>...</td>\n",
       "      <td>0</td>\n",
       "      <td>0</td>\n",
       "      <td>0</td>\n",
       "      <td>0</td>\n",
       "      <td>1</td>\n",
       "      <td>1</td>\n",
       "      <td>0</td>\n",
       "      <td>1923</td>\n",
       "      <td>7977</td>\n",
       "      <td>540</td>\n",
       "    </tr>\n",
       "    <tr>\n",
       "      <th>top</th>\n",
       "      <td>IWG1</td>\n",
       "      <td>20190721T005914</td>\n",
       "      <td>71.287003</td>\n",
       "      <td>-156.784943</td>\n",
       "      <td>3314</td>\n",
       "      <td>NaN</td>\n",
       "      <td>10990</td>\n",
       "      <td>-98</td>\n",
       "      <td>0.00</td>\n",
       "      <td>0.00</td>\n",
       "      <td>...</td>\n",
       "      <td>NaN</td>\n",
       "      <td>NaN</td>\n",
       "      <td>NaN</td>\n",
       "      <td>NaN</td>\n",
       "      <td>20190720L1</td>\n",
       "      <td>ARCTIC_HEAT</td>\n",
       "      <td>NaN</td>\n",
       "      <td>-0.06</td>\n",
       "      <td>612.74</td>\n",
       "      <td>100.00</td>\n",
       "    </tr>\n",
       "    <tr>\n",
       "      <th>freq</th>\n",
       "      <td>10129</td>\n",
       "      <td>1</td>\n",
       "      <td>138</td>\n",
       "      <td>135</td>\n",
       "      <td>178</td>\n",
       "      <td>NaN</td>\n",
       "      <td>2070</td>\n",
       "      <td>9443</td>\n",
       "      <td>163</td>\n",
       "      <td>152</td>\n",
       "      <td>...</td>\n",
       "      <td>NaN</td>\n",
       "      <td>NaN</td>\n",
       "      <td>NaN</td>\n",
       "      <td>NaN</td>\n",
       "      <td>10129</td>\n",
       "      <td>10129</td>\n",
       "      <td>NaN</td>\n",
       "      <td>27</td>\n",
       "      <td>8</td>\n",
       "      <td>4592</td>\n",
       "    </tr>\n",
       "  </tbody>\n",
       "</table>\n",
       "<p>4 rows × 39 columns</p>\n",
       "</div>"
      ],
      "text/plain": [
       "       IWG1_NAMES             TIME        LAT          LON ALTGPS GPS_GEOIDHT  \\\n",
       "count       10129            10129      10129        10129  10129           0   \n",
       "unique          1            10129       9739         9872    969           0   \n",
       "top          IWG1  20190721T005914  71.287003  -156.784943   3314         NaN   \n",
       "freq        10129                1        138          135    178         NaN   \n",
       "\n",
       "       ALTPAFT ALTRAFT     GS    TAS  ... none none none none        FLID  \\\n",
       "count    10129   10129  10129  10129  ...    0    0    0    0       10129   \n",
       "unique     805     212   2038   1708  ...    0    0    0    0           1   \n",
       "top      10990     -98   0.00   0.00  ...  NaN  NaN  NaN  NaN  20190720L1   \n",
       "freq      2070    9443    163    152  ...  NaN  NaN  NaN  NaN       10129   \n",
       "\n",
       "          MISSIONID STORMID    SST PYRAUCLEAR      RH  \n",
       "count         10129       0  10129      10129   10129  \n",
       "unique            1       0   1923       7977     540  \n",
       "top     ARCTIC_HEAT     NaN  -0.06     612.74  100.00  \n",
       "freq          10129     NaN     27          8    4592  \n",
       "\n",
       "[4 rows x 39 columns]"
      ]
     },
     "execution_count": 75,
     "metadata": {},
     "output_type": "execute_result"
    }
   ],
   "source": [
    "ds.describe()"
   ]
  },
  {
   "cell_type": "code",
   "execution_count": 76,
   "metadata": {},
   "outputs": [
    {
     "data": {
      "text/plain": [
       "Index(['IWG1_NAMES', 'TIME', 'LAT', 'LON', 'ALTGPS', 'GPS_GEOIDHT', 'ALTPAFT',\n",
       "       'ALTRAFT', 'GS', 'TAS', 'IAS', 'MACH', 'GSZ', 'THDG', 'TRK', 'DA',\n",
       "       'PITCH', 'ROLL', 'SA', 'AA', 'TA', 'TD', 'TTM', 'PS', 'PQ', 'PCAB',\n",
       "       'WS', 'WD', 'UWZ', 'none', 'none', 'none', 'none', 'FLID', 'MISSIONID',\n",
       "       'STORMID', 'SST', 'PYRAUCLEAR', 'RH'],\n",
       "      dtype='object')"
      ]
     },
     "execution_count": 76,
     "metadata": {},
     "output_type": "execute_result"
    }
   ],
   "source": [
    "ds.columns"
   ]
  },
  {
   "cell_type": "markdown",
   "metadata": {},
   "source": [
    "### Fields to keep and smaller file output\n",
    "\n",
    "copy wanted header fields as shown above to the keep_columns variable below"
   ]
  },
  {
   "cell_type": "code",
   "execution_count": 77,
   "metadata": {},
   "outputs": [],
   "source": [
    "keep_columns = ['TIME','LAT', 'LON', 'ALTGPS','SST', 'PYRAUCLEAR', 'RH']"
   ]
  },
  {
   "cell_type": "code",
   "execution_count": 78,
   "metadata": {},
   "outputs": [
    {
     "name": "stdout",
     "output_type": "stream",
     "text": [
      "<class 'pandas.core.frame.DataFrame'>\n",
      "Int64Index: 10129 entries, 0 to 10466\n",
      "Data columns (total 7 columns):\n",
      "TIME          10129 non-null object\n",
      "LAT           10129 non-null object\n",
      "LON           10129 non-null object\n",
      "ALTGPS        10129 non-null object\n",
      "SST           10129 non-null object\n",
      "PYRAUCLEAR    10129 non-null object\n",
      "RH            10129 non-null object\n",
      "dtypes: object(7)\n",
      "memory usage: 633.1+ KB\n"
     ]
    }
   ],
   "source": [
    "ds[keep_columns].info()"
   ]
  },
  {
   "cell_type": "code",
   "execution_count": 79,
   "metadata": {},
   "outputs": [],
   "source": [
    "ds[keep_columns].to_csv(file_path+file_name.replace('.dat','.clean.csv'))"
   ]
  },
  {
   "cell_type": "code",
   "execution_count": 80,
   "metadata": {},
   "outputs": [
    {
     "name": "stdout",
     "output_type": "stream",
     "text": [
      "The original file was 2.14MB\n",
      "The new file is 0.66MB\n"
     ]
    }
   ],
   "source": [
    "o_size=os.stat(df).st_size\n",
    "n_size=os.stat(df.replace('.dat','.clean.csv')).st_size\n",
    "\n",
    "#new fstring format instead of or format()\n",
    "print(f\"The original file was {o_size / 1024 / 1000 :02.2f}MB\")\n",
    "print(f\"The new file is {n_size / 1024 / 1000 :02.2f}MB\")"
   ]
  },
  {
   "cell_type": "code",
   "execution_count": null,
   "metadata": {},
   "outputs": [],
   "source": []
  }
 ],
 "metadata": {
  "kernelspec": {
   "display_name": "Python [conda env:py37]",
   "language": "python",
   "name": "conda-env-py37-py"
  },
  "language_info": {
   "codemirror_mode": {
    "name": "ipython",
    "version": 3
   },
   "file_extension": ".py",
   "mimetype": "text/x-python",
   "name": "python",
   "nbconvert_exporter": "python",
   "pygments_lexer": "ipython3",
   "version": "3.7.3"
  }
 },
 "nbformat": 4,
 "nbformat_minor": 4
}
