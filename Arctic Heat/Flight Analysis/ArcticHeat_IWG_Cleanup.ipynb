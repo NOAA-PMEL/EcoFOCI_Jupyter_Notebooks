{
 "cells": [
  {
   "cell_type": "markdown",
   "metadata": {},
   "source": [
    "# Arctic Heat IWG data Cleanup\n",
    "\n",
    "The IWG flight data from ArcticHeat flights can be parsed and cleaned to ease analysis and minimize transmission costs\n",
    "\n",
    "The big two tasks are:\n",
    "+ clean up the repeated headerlines\n",
    "+ choose just the columns you wish to keep"
   ]
  },
  {
   "cell_type": "markdown",
   "metadata": {},
   "source": [
    "### Specify files to work with"
   ]
  },
  {
   "cell_type": "code",
   "execution_count": 141,
   "metadata": {},
   "outputs": [],
   "source": [
    "file_path = '/Users/bell/ecoraid/2018/Additional_FieldData/ArcticHeat/IWG_data/'\n",
    "file_name = '20180914_200847_IWG.dat'\n",
    "\n",
    "df = file_path+file_name"
   ]
  },
  {
   "cell_type": "markdown",
   "metadata": {},
   "source": [
    "Include standard package imports "
   ]
  },
  {
   "cell_type": "code",
   "execution_count": 142,
   "metadata": {},
   "outputs": [],
   "source": [
    "import pandas as pd\n",
    "import os\n"
   ]
  },
  {
   "cell_type": "code",
   "execution_count": 143,
   "metadata": {},
   "outputs": [],
   "source": [
    "#read in file and drop all duplicate header lines leaving only the first occurance\n",
    "ds = pd.read_csv(df,header=None)\n",
    "ds.drop_duplicates(inplace=True) \n",
    "\n",
    "column_names = (ds.loc[ds[0] == 'IWG1_NAMES']).values[0]"
   ]
  },
  {
   "cell_type": "code",
   "execution_count": 144,
   "metadata": {},
   "outputs": [],
   "source": [
    "# find the first occurence of the header line and use it to name columns (and drop it)\n",
    "ds.drop((ds.loc[ds[0] == 'IWG1_NAMES']).index,inplace=True)\n",
    "ds.columns = column_names"
   ]
  },
  {
   "cell_type": "markdown",
   "metadata": {},
   "source": [
    "### A quick summary of all contents of the file"
   ]
  },
  {
   "cell_type": "code",
   "execution_count": 145,
   "metadata": {},
   "outputs": [
    {
     "data": {
      "text/html": [
       "<div>\n",
       "<style scoped>\n",
       "    .dataframe tbody tr th:only-of-type {\n",
       "        vertical-align: middle;\n",
       "    }\n",
       "\n",
       "    .dataframe tbody tr th {\n",
       "        vertical-align: top;\n",
       "    }\n",
       "\n",
       "    .dataframe thead th {\n",
       "        text-align: right;\n",
       "    }\n",
       "</style>\n",
       "<table border=\"1\" class=\"dataframe\">\n",
       "  <thead>\n",
       "    <tr style=\"text-align: right;\">\n",
       "      <th></th>\n",
       "      <th>IWG1_NAMES</th>\n",
       "      <th>TIME</th>\n",
       "      <th>LAT</th>\n",
       "      <th>LON</th>\n",
       "      <th>ALTGPS</th>\n",
       "      <th>GPS_GEOIDHT</th>\n",
       "      <th>ALTPAFT</th>\n",
       "      <th>ALTRAFT</th>\n",
       "      <th>GS</th>\n",
       "      <th>TAS</th>\n",
       "      <th>...</th>\n",
       "      <th>none</th>\n",
       "      <th>none</th>\n",
       "      <th>none</th>\n",
       "      <th>none</th>\n",
       "      <th>FLID</th>\n",
       "      <th>MISSIONID</th>\n",
       "      <th>STORMID</th>\n",
       "      <th>SST</th>\n",
       "      <th>PYRAUCLEAR</th>\n",
       "      <th>RH</th>\n",
       "    </tr>\n",
       "  </thead>\n",
       "  <tbody>\n",
       "    <tr>\n",
       "      <th>count</th>\n",
       "      <td>19218</td>\n",
       "      <td>19218</td>\n",
       "      <td>19218</td>\n",
       "      <td>19218</td>\n",
       "      <td>19218</td>\n",
       "      <td>0.0</td>\n",
       "      <td>19218</td>\n",
       "      <td>19218</td>\n",
       "      <td>19218</td>\n",
       "      <td>19218</td>\n",
       "      <td>...</td>\n",
       "      <td>0.0</td>\n",
       "      <td>0.0</td>\n",
       "      <td>0.0</td>\n",
       "      <td>0.0</td>\n",
       "      <td>19218</td>\n",
       "      <td>19218</td>\n",
       "      <td>0.0</td>\n",
       "      <td>19218</td>\n",
       "      <td>19218</td>\n",
       "      <td>19218</td>\n",
       "    </tr>\n",
       "    <tr>\n",
       "      <th>unique</th>\n",
       "      <td>1</td>\n",
       "      <td>19218</td>\n",
       "      <td>16990</td>\n",
       "      <td>15449</td>\n",
       "      <td>506</td>\n",
       "      <td>0.0</td>\n",
       "      <td>216</td>\n",
       "      <td>1199</td>\n",
       "      <td>4695</td>\n",
       "      <td>3382</td>\n",
       "      <td>...</td>\n",
       "      <td>0.0</td>\n",
       "      <td>0.0</td>\n",
       "      <td>0.0</td>\n",
       "      <td>0.0</td>\n",
       "      <td>1</td>\n",
       "      <td>1</td>\n",
       "      <td>0.0</td>\n",
       "      <td>1348</td>\n",
       "      <td>13701</td>\n",
       "      <td>453</td>\n",
       "    </tr>\n",
       "    <tr>\n",
       "      <th>top</th>\n",
       "      <td>IWG1</td>\n",
       "      <td>20180914T231315</td>\n",
       "      <td>66.890564</td>\n",
       "      <td>-162.607361</td>\n",
       "      <td>244</td>\n",
       "      <td>NaN</td>\n",
       "      <td>680</td>\n",
       "      <td>492</td>\n",
       "      <td>0.00</td>\n",
       "      <td>74.69</td>\n",
       "      <td>...</td>\n",
       "      <td>NaN</td>\n",
       "      <td>NaN</td>\n",
       "      <td>NaN</td>\n",
       "      <td>NaN</td>\n",
       "      <td>20180914L2</td>\n",
       "      <td>ARCTIC_HEAT</td>\n",
       "      <td>NaN</td>\n",
       "      <td>8.47</td>\n",
       "      <td>93.42</td>\n",
       "      <td>100.00</td>\n",
       "    </tr>\n",
       "    <tr>\n",
       "      <th>freq</th>\n",
       "      <td>19218</td>\n",
       "      <td>1</td>\n",
       "      <td>206</td>\n",
       "      <td>191</td>\n",
       "      <td>746</td>\n",
       "      <td>NaN</td>\n",
       "      <td>2373</td>\n",
       "      <td>908</td>\n",
       "      <td>251</td>\n",
       "      <td>53</td>\n",
       "      <td>...</td>\n",
       "      <td>NaN</td>\n",
       "      <td>NaN</td>\n",
       "      <td>NaN</td>\n",
       "      <td>NaN</td>\n",
       "      <td>19218</td>\n",
       "      <td>19218</td>\n",
       "      <td>NaN</td>\n",
       "      <td>132</td>\n",
       "      <td>8</td>\n",
       "      <td>1018</td>\n",
       "    </tr>\n",
       "  </tbody>\n",
       "</table>\n",
       "<p>4 rows × 39 columns</p>\n",
       "</div>"
      ],
      "text/plain": [
       "       IWG1_NAMES             TIME        LAT          LON ALTGPS  \\\n",
       "count       19218            19218      19218        19218  19218   \n",
       "unique          1            19218      16990        15449    506   \n",
       "top          IWG1  20180914T231315  66.890564  -162.607361    244   \n",
       "freq        19218                1        206          191    746   \n",
       "\n",
       "        GPS_GEOIDHT ALTPAFT ALTRAFT     GS    TAS   ...   none none none none  \\\n",
       "count           0.0   19218   19218  19218  19218   ...    0.0  0.0  0.0  0.0   \n",
       "unique          0.0     216    1199   4695   3382   ...    0.0  0.0  0.0  0.0   \n",
       "top             NaN     680     492   0.00  74.69   ...    NaN  NaN  NaN  NaN   \n",
       "freq            NaN    2373     908    251     53   ...    NaN  NaN  NaN  NaN   \n",
       "\n",
       "              FLID    MISSIONID STORMID    SST PYRAUCLEAR      RH  \n",
       "count        19218        19218     0.0  19218      19218   19218  \n",
       "unique           1            1     0.0   1348      13701     453  \n",
       "top     20180914L2  ARCTIC_HEAT     NaN   8.47      93.42  100.00  \n",
       "freq         19218        19218     NaN    132          8    1018  \n",
       "\n",
       "[4 rows x 39 columns]"
      ]
     },
     "execution_count": 145,
     "metadata": {},
     "output_type": "execute_result"
    }
   ],
   "source": [
    "ds.describe()"
   ]
  },
  {
   "cell_type": "code",
   "execution_count": 146,
   "metadata": {},
   "outputs": [
    {
     "data": {
      "text/plain": [
       "Index(['IWG1_NAMES', 'TIME', 'LAT', 'LON', 'ALTGPS', 'GPS_GEOIDHT', 'ALTPAFT',\n",
       "       'ALTRAFT', 'GS', 'TAS', 'IAS', 'MACH', 'GSZ', 'THDG', 'TRK', 'DA',\n",
       "       'PITCH', 'ROLL', 'SA', 'AA', 'TA', 'TD', 'TTM', 'PS', 'PQ', 'PCAB',\n",
       "       'WS', 'WD', 'UWZ', 'none', 'none', 'none', 'none', 'FLID', 'MISSIONID',\n",
       "       'STORMID', 'SST', 'PYRAUCLEAR', 'RH'],\n",
       "      dtype='object')"
      ]
     },
     "execution_count": 146,
     "metadata": {},
     "output_type": "execute_result"
    }
   ],
   "source": [
    "ds.columns"
   ]
  },
  {
   "cell_type": "markdown",
   "metadata": {},
   "source": [
    "### Fields to keep and smaller file output\n",
    "\n",
    "copy wanted header fields as shown above to the keep_columns variable below"
   ]
  },
  {
   "cell_type": "code",
   "execution_count": 147,
   "metadata": {},
   "outputs": [],
   "source": [
    "keep_columns = ['TIME','LAT', 'LON', 'ALTGPS','SST', 'PYRAUCLEAR', 'RH']"
   ]
  },
  {
   "cell_type": "code",
   "execution_count": 148,
   "metadata": {},
   "outputs": [
    {
     "name": "stdout",
     "output_type": "stream",
     "text": [
      "<class 'pandas.core.frame.DataFrame'>\n",
      "Int64Index: 19218 entries, 0 to 19858\n",
      "Data columns (total 7 columns):\n",
      "TIME          19218 non-null object\n",
      "LAT           19218 non-null object\n",
      "LON           19218 non-null object\n",
      "ALTGPS        19218 non-null object\n",
      "SST           19218 non-null object\n",
      "PYRAUCLEAR    19218 non-null object\n",
      "RH            19218 non-null object\n",
      "dtypes: object(7)\n",
      "memory usage: 1.2+ MB\n"
     ]
    }
   ],
   "source": [
    "ds[keep_columns].info()"
   ]
  },
  {
   "cell_type": "code",
   "execution_count": 149,
   "metadata": {},
   "outputs": [],
   "source": [
    "ds[keep_columns].to_csv(file_path+file_name.replace('.dat','.clean.csv'))"
   ]
  },
  {
   "cell_type": "code",
   "execution_count": 150,
   "metadata": {},
   "outputs": [
    {
     "name": "stdout",
     "output_type": "stream",
     "text": [
      "The original file was 3.99MB\n",
      "The new file is 1.23MB\n"
     ]
    }
   ],
   "source": [
    "o_size=os.stat(df).st_size\n",
    "n_size=os.stat(df.replace('.dat','.clean.csv')).st_size\n",
    "\n",
    "#new fstring format instead of or format()\n",
    "print(f\"The original file was {o_size / 1024 / 1000 :02.2f}MB\")\n",
    "print(f\"The new file is {n_size / 1024 / 1000 :02.2f}MB\")"
   ]
  },
  {
   "cell_type": "code",
   "execution_count": null,
   "metadata": {},
   "outputs": [],
   "source": []
  }
 ],
 "metadata": {
  "kernelspec": {
   "display_name": "Python [conda env:py36]",
   "language": "python",
   "name": "conda-env-py36-py"
  },
  "language_info": {
   "codemirror_mode": {
    "name": "ipython",
    "version": 3
   },
   "file_extension": ".py",
   "mimetype": "text/x-python",
   "name": "python",
   "nbconvert_exporter": "python",
   "pygments_lexer": "ipython3",
   "version": "3.6.6"
  }
 },
 "nbformat": 4,
 "nbformat_minor": 2
}
