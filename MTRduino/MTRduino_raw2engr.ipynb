{
 "cells": [
  {
   "cell_type": "markdown",
   "metadata": {},
   "source": [
    "### Ingest and Translate MTRduino Field Data\n",
    "\n",
    "python: >= 3.7   \n",
    "author: bell"
   ]
  },
  {
   "cell_type": "markdown",
   "metadata": {},
   "source": [
    "Current setup has 5 samples for each 10min measurement.   \n",
    "Calibration constants are determined prior to (and occasionally post) deployment."
   ]
  },
  {
   "cell_type": "code",
   "execution_count": 160,
   "metadata": {},
   "outputs": [],
   "source": [
    "import pandas as pd\n",
    "import numpy as np\n",
    "\n",
    "%matplotlib inline\n"
   ]
  },
  {
   "cell_type": "code",
   "execution_count": 161,
   "metadata": {},
   "outputs": [],
   "source": [
    "infile = '/Users/bell/Downloads/newmtrfrom17bs4/5009 MTR.TXT'"
   ]
  },
  {
   "cell_type": "code",
   "execution_count": 162,
   "metadata": {},
   "outputs": [],
   "source": [
    "#Calibration Coefficients\n",
    "\n",
    "unit_id_str  = '5009'\n",
    "cal_date_str = '2017-July-13'\n",
    "\n",
    "AA = \t1.19337E-03\n",
    "BB = \t5.29331E-04\n",
    "CC = \t1.30828E-06"
   ]
  },
  {
   "cell_type": "code",
   "execution_count": 163,
   "metadata": {},
   "outputs": [],
   "source": [
    "df = pd.read_csv(infile,delimiter=',',names=['date_time','sample_1','sample_2','sample_3','sample_4','sample_5','ref_thermistor','unused'],\n",
    "                 parse_dates=['date_time'],index_col='date_time')"
   ]
  },
  {
   "cell_type": "code",
   "execution_count": 164,
   "metadata": {},
   "outputs": [],
   "source": [
    "def steinhardt_hart(sample,AA,BB,CC):\n",
    "    return (1 / (AA + BB * np.log10(sample) + CC * (np.log10(sample))**3) - 273.15)\n",
    "    "
   ]
  },
  {
   "cell_type": "code",
   "execution_count": 165,
   "metadata": {},
   "outputs": [],
   "source": [
    "#apply steinhardt_hart equation to each sample\n",
    "df['T1'] = df.apply(lambda row: steinhardt_hart(row['sample_1'],AA,BB,CC), axis=1)\n",
    "df['T2'] = df.apply(lambda row: steinhardt_hart(row['sample_2'],AA,BB,CC), axis=1)\n",
    "df['T3'] = df.apply(lambda row: steinhardt_hart(row['sample_3'],AA,BB,CC), axis=1)\n",
    "df['T4'] = df.apply(lambda row: steinhardt_hart(row['sample_4'],AA,BB,CC), axis=1)\n",
    "df['T5'] = df.apply(lambda row: steinhardt_hart(row['sample_5'],AA,BB,CC), axis=1)"
   ]
  },
  {
   "cell_type": "code",
   "execution_count": 166,
   "metadata": {},
   "outputs": [
    {
     "data": {
      "text/html": [
       "<div>\n",
       "<style scoped>\n",
       "    .dataframe tbody tr th:only-of-type {\n",
       "        vertical-align: middle;\n",
       "    }\n",
       "\n",
       "    .dataframe tbody tr th {\n",
       "        vertical-align: top;\n",
       "    }\n",
       "\n",
       "    .dataframe thead th {\n",
       "        text-align: right;\n",
       "    }\n",
       "</style>\n",
       "<table border=\"1\" class=\"dataframe\">\n",
       "  <thead>\n",
       "    <tr style=\"text-align: right;\">\n",
       "      <th></th>\n",
       "      <th>sample_1</th>\n",
       "      <th>sample_2</th>\n",
       "      <th>sample_3</th>\n",
       "      <th>sample_4</th>\n",
       "      <th>sample_5</th>\n",
       "      <th>ref_thermistor</th>\n",
       "      <th>unused</th>\n",
       "      <th>T1</th>\n",
       "      <th>T2</th>\n",
       "      <th>T3</th>\n",
       "      <th>T4</th>\n",
       "      <th>T5</th>\n",
       "    </tr>\n",
       "    <tr>\n",
       "      <th>date_time</th>\n",
       "      <th></th>\n",
       "      <th></th>\n",
       "      <th></th>\n",
       "      <th></th>\n",
       "      <th></th>\n",
       "      <th></th>\n",
       "      <th></th>\n",
       "      <th></th>\n",
       "      <th></th>\n",
       "      <th></th>\n",
       "      <th></th>\n",
       "      <th></th>\n",
       "    </tr>\n",
       "  </thead>\n",
       "  <tbody>\n",
       "    <tr>\n",
       "      <th>2017-08-10 19:50:14</th>\n",
       "      <td>7645</td>\n",
       "      <td>7645</td>\n",
       "      <td>7645</td>\n",
       "      <td>7645</td>\n",
       "      <td>7645</td>\n",
       "      <td>8533</td>\n",
       "      <td></td>\n",
       "      <td>27.549439</td>\n",
       "      <td>27.549439</td>\n",
       "      <td>27.549439</td>\n",
       "      <td>27.549439</td>\n",
       "      <td>27.549439</td>\n",
       "    </tr>\n",
       "    <tr>\n",
       "      <th>2017-08-10 19:53:25</th>\n",
       "      <td>7572</td>\n",
       "      <td>7572</td>\n",
       "      <td>7572</td>\n",
       "      <td>7572</td>\n",
       "      <td>7572</td>\n",
       "      <td>8534</td>\n",
       "      <td></td>\n",
       "      <td>27.771316</td>\n",
       "      <td>27.771316</td>\n",
       "      <td>27.771316</td>\n",
       "      <td>27.771316</td>\n",
       "      <td>27.771316</td>\n",
       "    </tr>\n",
       "    <tr>\n",
       "      <th>2017-08-10 19:53:39</th>\n",
       "      <td>7522</td>\n",
       "      <td>7522</td>\n",
       "      <td>7522</td>\n",
       "      <td>7522</td>\n",
       "      <td>7522</td>\n",
       "      <td>8533</td>\n",
       "      <td></td>\n",
       "      <td>27.924687</td>\n",
       "      <td>27.924687</td>\n",
       "      <td>27.924687</td>\n",
       "      <td>27.924687</td>\n",
       "      <td>27.924687</td>\n",
       "    </tr>\n",
       "    <tr>\n",
       "      <th>2017-08-21 00:00:00</th>\n",
       "      <td>8599</td>\n",
       "      <td>8599</td>\n",
       "      <td>8599</td>\n",
       "      <td>8599</td>\n",
       "      <td>8599</td>\n",
       "      <td>8534</td>\n",
       "      <td></td>\n",
       "      <td>24.852568</td>\n",
       "      <td>24.852568</td>\n",
       "      <td>24.852568</td>\n",
       "      <td>24.852568</td>\n",
       "      <td>24.852568</td>\n",
       "    </tr>\n",
       "    <tr>\n",
       "      <th>2017-08-21 00:10:00</th>\n",
       "      <td>8635</td>\n",
       "      <td>8635</td>\n",
       "      <td>8635</td>\n",
       "      <td>8635</td>\n",
       "      <td>8635</td>\n",
       "      <td>8534</td>\n",
       "      <td></td>\n",
       "      <td>24.757514</td>\n",
       "      <td>24.757514</td>\n",
       "      <td>24.757514</td>\n",
       "      <td>24.757514</td>\n",
       "      <td>24.757514</td>\n",
       "    </tr>\n",
       "  </tbody>\n",
       "</table>\n",
       "</div>"
      ],
      "text/plain": [
       "                     sample_1  sample_2  sample_3  sample_4  sample_5  \\\n",
       "date_time                                                               \n",
       "2017-08-10 19:50:14      7645      7645      7645      7645      7645   \n",
       "2017-08-10 19:53:25      7572      7572      7572      7572      7572   \n",
       "2017-08-10 19:53:39      7522      7522      7522      7522      7522   \n",
       "2017-08-21 00:00:00      8599      8599      8599      8599      8599   \n",
       "2017-08-21 00:10:00      8635      8635      8635      8635      8635   \n",
       "\n",
       "                     ref_thermistor unused         T1         T2         T3  \\\n",
       "date_time                                                                     \n",
       "2017-08-10 19:50:14            8533         27.549439  27.549439  27.549439   \n",
       "2017-08-10 19:53:25            8534         27.771316  27.771316  27.771316   \n",
       "2017-08-10 19:53:39            8533         27.924687  27.924687  27.924687   \n",
       "2017-08-21 00:00:00            8534         24.852568  24.852568  24.852568   \n",
       "2017-08-21 00:10:00            8534         24.757514  24.757514  24.757514   \n",
       "\n",
       "                            T4         T5  \n",
       "date_time                                  \n",
       "2017-08-10 19:50:14  27.549439  27.549439  \n",
       "2017-08-10 19:53:25  27.771316  27.771316  \n",
       "2017-08-10 19:53:39  27.924687  27.924687  \n",
       "2017-08-21 00:00:00  24.852568  24.852568  \n",
       "2017-08-21 00:10:00  24.757514  24.757514  "
      ]
     },
     "execution_count": 166,
     "metadata": {},
     "output_type": "execute_result"
    }
   ],
   "source": [
    "#quicklook of first couple of samples\n",
    "df.head()"
   ]
  },
  {
   "cell_type": "code",
   "execution_count": 167,
   "metadata": {},
   "outputs": [
    {
     "data": {
      "text/plain": [
       "<matplotlib.axes._subplots.AxesSubplot at 0x11cae07f0>"
      ]
     },
     "execution_count": 167,
     "metadata": {},
     "output_type": "execute_result"
    },
    {
     "data": {
      "image/png": "[encoded data removed]",
      "text/plain": [
       "<Figure size 792x306 with 1 Axes>"
      ]
     },
     "metadata": {
      "needs_background": "light"
     },
     "output_type": "display_data"
    }
   ],
   "source": [
    "#quicklook of the first of 5 samples, final data will do statistical averageing\n",
    "df.T1.plot(figsize=(11,4.25))"
   ]
  },
  {
   "cell_type": "code",
   "execution_count": 168,
   "metadata": {},
   "outputs": [],
   "source": [
    "# calculate mean and std of 5 sample suite\n",
    "df['ave'] = df[['T1', 'T2', 'T3', 'T4', 'T5']].mean(axis=1)\n",
    "df['median'] = df[['T1', 'T2', 'T3', 'T4', 'T5']].median(axis=1)\n",
    "df['std'] = df[['T1', 'T2', 'T3', 'T4', 'T5']].std(axis=1)"
   ]
  },
  {
   "cell_type": "code",
   "execution_count": 169,
   "metadata": {},
   "outputs": [],
   "source": [
    "df.to_csv(unit_id_str + '.csv', columns=['ave','median','std'])"
   ]
  },
  {
   "cell_type": "code",
   "execution_count": 170,
   "metadata": {},
   "outputs": [
    {
     "data": {
      "text/plain": [
       "date_time\n",
       "2017-08-10 19:50:00    27.748481\n",
       "2017-08-10 20:00:00    27.746504\n",
       "2017-08-10 20:10:00          NaN\n",
       "2017-08-10 20:20:00          NaN\n",
       "2017-08-10 20:30:00          NaN\n",
       "2017-08-10 20:40:00          NaN\n",
       "2017-08-10 20:50:00          NaN\n",
       "2017-08-10 21:00:00          NaN\n",
       "2017-08-10 21:10:00          NaN\n",
       "2017-08-10 21:20:00          NaN\n",
       "2017-08-10 21:30:00          NaN\n",
       "2017-08-10 21:40:00          NaN\n",
       "2017-08-10 21:50:00          NaN\n",
       "2017-08-10 22:00:00          NaN\n",
       "2017-08-10 22:10:00          NaN\n",
       "2017-08-10 22:20:00          NaN\n",
       "2017-08-10 22:30:00          NaN\n",
       "2017-08-10 22:40:00          NaN\n",
       "2017-08-10 22:50:00          NaN\n",
       "2017-08-10 23:00:00          NaN\n",
       "2017-08-10 23:10:00          NaN\n",
       "2017-08-10 23:20:00          NaN\n",
       "2017-08-10 23:30:00          NaN\n",
       "2017-08-10 23:40:00          NaN\n",
       "2017-08-10 23:50:00          NaN\n",
       "2017-08-11 00:00:00          NaN\n",
       "2017-08-11 00:10:00          NaN\n",
       "2017-08-11 00:20:00          NaN\n",
       "2017-08-11 00:30:00          NaN\n",
       "2017-08-11 00:40:00          NaN\n",
       "                         ...    \n",
       "2018-11-14 18:30:00    21.888587\n",
       "2018-11-14 18:40:00    21.884024\n",
       "2018-11-14 18:50:00    21.881743\n",
       "2018-11-14 19:00:00    21.888587\n",
       "2018-11-14 19:10:00    21.893151\n",
       "2018-11-14 19:20:00    21.899999\n",
       "2018-11-14 19:30:00    21.909134\n",
       "2018-11-14 19:40:00    21.929702\n",
       "2018-11-14 19:50:00    21.961738\n",
       "2018-11-14 20:00:00    21.998416\n",
       "2018-11-14 20:10:00    22.042058\n",
       "2018-11-14 20:20:00    22.078884\n",
       "2018-11-14 20:30:00    22.125012\n",
       "2018-11-14 20:40:00    22.173563\n",
       "2018-11-14 20:50:00    22.217593\n",
       "2018-11-14 21:00:00    22.275675\n",
       "2018-11-14 21:10:00    22.329262\n",
       "2018-11-14 21:20:00    22.371300\n",
       "2018-11-14 21:30:00    22.408742\n",
       "2018-11-14 21:40:00    22.443908\n",
       "2018-11-14 21:50:00    22.486190\n",
       "2018-11-14 22:00:00    22.526205\n",
       "2018-11-14 22:10:00    22.566302\n",
       "2018-11-14 22:20:00    22.604113\n",
       "2018-11-14 22:30:00    22.651478\n",
       "2018-11-14 22:40:00    22.689452\n",
       "2018-11-14 22:50:00    22.739403\n",
       "2018-11-14 23:00:00    22.784705\n",
       "2018-11-14 23:10:00    22.808589\n",
       "2018-11-14 23:20:00    22.844470\n",
       "Freq: 10T, Name: median, Length: 66406, dtype: float64"
      ]
     },
     "execution_count": 170,
     "metadata": {},
     "output_type": "execute_result"
    }
   ],
   "source": [
    "## resample if necessary, to 10min intervals, interpolating linearly forward but only one step\n",
    "# doing it on the averaged data is ok especially if the std is low or 0\n",
    "df['median'].resample('10T').mean().interpolate(limit=1)"
   ]
  },
  {
   "cell_type": "code",
   "execution_count": null,
   "metadata": {},
   "outputs": [],
   "source": []
  }
 ],
 "metadata": {
  "kernelspec": {
   "display_name": "Python [conda env:py37]",
   "language": "python",
   "name": "conda-env-py37-py"
  },
  "language_info": {
   "codemirror_mode": {
    "name": "ipython",
    "version": 3
   },
   "file_extension": ".py",
   "mimetype": "text/x-python",
   "name": "python",
   "nbconvert_exporter": "python",
   "pygments_lexer": "ipython3",
   "version": "3.6.6"
  }
 },
 "nbformat": 4,
 "nbformat_minor": 2
}
