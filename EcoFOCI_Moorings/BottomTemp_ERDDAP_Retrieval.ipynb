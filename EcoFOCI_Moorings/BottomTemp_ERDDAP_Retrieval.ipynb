{
 "cells": [
  {
   "cell_type": "markdown",
   "metadata": {},
   "source": [
    "# Retrieval of Bottom Temps from ERDDAP Dataset for distribution\n"
   ]
  },
  {
   "cell_type": "code",
   "execution_count": 58,
   "metadata": {},
   "outputs": [],
   "source": [
    "import datetime\n",
    "from erddapy import ERDDAP\n",
    "import pandas as pd\n",
    "pd.options.mode.chained_assignment = None\n",
    "import numpy as np\n",
    "\n",
    "import matplotlib.pyplot as plt\n",
    "import matplotlib.dates as mdates\n",
    "import cmocean\n",
    "\n",
    "#using xarray for bathymetry data read\n",
    "import xarray as xa"
   ]
  },
  {
   "cell_type": "code",
   "execution_count": 59,
   "metadata": {},
   "outputs": [],
   "source": [
    "#search and boundary parameters\n",
    "\n",
    "server_url = 'http://akutan.pmel.noaa.gov:8080/erddap/'\n",
    "\n",
    "deployments = []\n",
    "\n",
    "constraints = {\n",
    "    'time>=': '2010-01-01T00:00:00Z',\n",
    "    'time<=': datetime.datetime.utcnow().strftime('%Y-%m-%dT00:00:00Z'),\n",
    "    'depth>=': 35,\n",
    "}\n",
    "\n",
    "variables = ['latitude, longitude, temperature, time, depth, timeseries_id']\n"
   ]
  },
  {
   "cell_type": "code",
   "execution_count": 60,
   "metadata": {},
   "outputs": [
    {
     "name": "stdout",
     "output_type": "stream",
     "text": [
      "['datasets_Mooring_10ckip2a_final', 'datasets_Mooring_11ckip2a_final', 'datasets_Mooring_12ckip2a_final', 'datasets_Mooring_13ckp2a_final', 'datasets_Mooring_14ckp2a_final', 'datasets_Mooring_15ckp2a_final', 'datasets_Mooring_16ckip2a_final', 'datasets_Mooring_16ckp2a_final', 'datasets_Mooring_17ckip2a_final', 'datasets_Mooring_17ckp2a_final', 'datasets_Mooring_18ckip2a_final', 'datasets_Mooring_18ckp2a_final', 'datasets_Mooring_19ckp2a_final']\n"
     ]
    }
   ],
   "source": [
    "e = ERDDAP(server=server_url)\n",
    "df_1 = pd.read_csv(e.get_search_url(response='csv', search_for='ckp2a -ADCP -gridded -preliminary'))\n",
    "e = ERDDAP(server=server_url)\n",
    "df_2 = pd.read_csv(e.get_search_url(response='csv', search_for='ckip2a -gridded -preliminary'))\n",
    "df = pd.concat([df_1,df_2])\n",
    "print(sorted(df['Dataset ID'].values))"
   ]
  },
  {
   "cell_type": "code",
   "execution_count": 61,
   "metadata": {},
   "outputs": [
    {
     "name": "stdout",
     "output_type": "stream",
     "text": [
      "datasets_Mooring_10ckip2a_final\n",
      "datasets_Mooring_11ckip2a_final\n",
      "datasets_Mooring_12ckip2a_final\n",
      "datasets_Mooring_13ckp2a_final\n",
      "datasets_Mooring_14ckp2a_final\n",
      "datasets_Mooring_15ckp2a_final\n",
      "datasets_Mooring_16ckip2a_final\n",
      "datasets_Mooring_16ckp2a_final\n",
      "datasets_Mooring_17ckip2a_final\n",
      "datasets_Mooring_17ckp2a_final\n",
      "datasets_Mooring_18ckip2a_final\n",
      "datasets_Mooring_18ckp2a_final\n",
      "datasets_Mooring_19ckp2a_final\n"
     ]
    }
   ],
   "source": [
    "from requests.exceptions import HTTPError\n",
    "\n",
    "dfs = {}\n",
    "for dataset_id in sorted(df['Dataset ID'].values):\n",
    "    print(dataset_id)\n",
    "    try:\n",
    "        d = ERDDAP(server=server_url,\n",
    "            protocol='tabledap',\n",
    "            response='csv'\n",
    "        )\n",
    "        d.dataset_id=dataset_id\n",
    "        d.variables = variables\n",
    "        d.constraints = constraints\n",
    "    except HTTPError:\n",
    "        print('Failed to generate url {}'.format(dataset_id))\n",
    "\n",
    "    try:\n",
    "        df_m = d.to_pandas(\n",
    "                    index_col='time (UTC)',\n",
    "                    parse_dates=True,\n",
    "                    skiprows=(1,)  # units information can be dropped.\n",
    "                    )\n",
    "        df_m.sort_index(inplace=True)\n",
    "        df_m.columns = [x[1].split()[0] for x in enumerate(df_m.columns)]\n",
    "        \n",
    "        #-9999 and 1e35 are missing values... but erddap doesn't catch the -9999 yet \n",
    "        #and some 1e35 are off a bit\n",
    "        df_m['depth'][(df_m.depth == -9999)] = np.nan # only in pressure field\n",
    "        dfs.update({dataset_id:df_m})\n",
    "    except:\n",
    "        pass\n"
   ]
  },
  {
   "cell_type": "code",
   "execution_count": 62,
   "metadata": {},
   "outputs": [
    {
     "name": "stdout",
     "output_type": "stream",
     "text": [
      "dict_keys(['10ckip2a_an9_0040m'])\n",
      "10ckip2a_an9_0040m\n",
      "dict_keys(['11ckip2a_an9_0038m'])\n",
      "11ckip2a_an9_0038m\n",
      "dict_keys(['12ckip2a_an9_0041m'])\n",
      "12ckip2a_an9_0041m\n",
      "dict_keys(['13ckp2a_sc_0039m', '13ckp2a_wcp_scal'])\n",
      "13ckp2a_sc_0039m\n",
      "dict_keys(['14ckp2a_sc_0039m'])\n",
      "14ckp2a_sc_0039m\n",
      "dict_keys(['15ckp2a_sc_0038m', '15ckp2a_wcp_scal'])\n",
      "15ckp2a_sc_0038m\n",
      "dict_keys(['16ckip2a_an9_0039m'])\n",
      "16ckip2a_an9_0039m\n",
      "dict_keys(['16ckp2a_mt3167_0041m', '16ckp2a_mt4022_0041m', '16ckp2a_sc_0040m'])\n",
      "16ckp2a_mt3167_0041m\n",
      "16ckp2a_mt4022_0041m\n",
      "16ckp2a_sc_0040m\n",
      "dict_keys(['17ckip2a_an9_0037m'])\n",
      "17ckip2a_an9_0037m\n",
      "dict_keys(['17ckp2a_sc_0039m'])\n",
      "17ckp2a_sc_0039m\n",
      "dict_keys(['18ckip2a_an9_0039m', '18ckip2a_s37_0040m'])\n",
      "18ckip2a_an9_0039m\n",
      "18ckip2a_s37_0040m\n",
      "dict_keys(['18ckp2a_sc_0039m', '18ckp2a_wcp_scal'])\n",
      "18ckp2a_sc_0039m\n",
      "dict_keys(['19ckp2a_sc_0039m'])\n",
      "19ckp2a_sc_0039m\n"
     ]
    }
   ],
   "source": [
    "merged_dataset = pd.DataFrame()\n",
    "for dataset in dfs:\n",
    "    dfg = dfs[dataset].dropna().groupby('timeseries_id')\n",
    "    print(dfs[dataset].dropna().groupby('timeseries_id').groups.keys())\n",
    "    for name in dfs[dataset].dropna().groupby('timeseries_id').groups.keys():\n",
    "        if not 'wcp' in name:\n",
    "            print(name)\n",
    "            merged_dataset = pd.concat([merged_dataset,pd.DataFrame(dfs[dataset].dropna().groupby('timeseries_id').get_group(name))])"
   ]
  },
  {
   "cell_type": "code",
   "execution_count": 63,
   "metadata": {},
   "outputs": [
    {
     "data": {
      "text/plain": [
       "<AxesSubplot:xlabel='time (UTC)'>"
      ]
     },
     "execution_count": 63,
     "metadata": {},
     "output_type": "execute_result"
    },
    {
     "data": {
      "image/png": "[encoded data removed]",
      "text/plain": [
       "<Figure size 432x288 with 1 Axes>"
      ]
     },
     "metadata": {
      "needs_background": "light"
     },
     "output_type": "display_data"
    }
   ],
   "source": [
    "merged_dataset.temperature.plot()"
   ]
  },
  {
   "cell_type": "code",
   "execution_count": 55,
   "metadata": {},
   "outputs": [],
   "source": [
    "merged_dataset.to_csv('10ckp2a_BottomTemp.csv')\n",
    "merged_dataset.resample('1H').mean().to_csv('10ckp2a_BottomTemp_hourly.csv')\n",
    "tmp = merged_dataset.resample('1H').mean()\n",
    "tmp[tmp.index.hour == 12].drop(['depth','latitude','longitude'],axis=1).to_csv('10ckp2a_BottomTemp_12utc.csv')"
   ]
  },
  {
   "cell_type": "code",
   "execution_count": null,
   "metadata": {},
   "outputs": [],
   "source": []
  }
 ],
 "metadata": {
  "kernelspec": {
   "display_name": "Python [conda env:py38] *",
   "language": "python",
   "name": "conda-env-py38-py"
  },
  "language_info": {
   "codemirror_mode": {
    "name": "ipython",
    "version": 3
   },
   "file_extension": ".py",
   "mimetype": "text/x-python",
   "name": "python",
   "nbconvert_exporter": "python",
   "pygments_lexer": "ipython3",
   "version": "3.8.6"
  }
 },
 "nbformat": 4,
 "nbformat_minor": 4
}
