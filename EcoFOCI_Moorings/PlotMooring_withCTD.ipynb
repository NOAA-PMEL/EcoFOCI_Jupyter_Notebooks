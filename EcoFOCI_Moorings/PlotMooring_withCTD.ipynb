{
 "cells": [
  {
   "cell_type": "markdown",
   "metadata": {},
   "source": [
    "## Mooring Comparisons with CTD's\n",
    "\n",
    "- mooring data pulled from ERDDAP (preliminary or final)   \n",
    "- ctd data pulled from ERDDAP (preliminary or final)   \n",
    "    - multiple cruises for deployment/recovery\n"
   ]
  },
  {
   "cell_type": "code",
   "execution_count": 30,
   "metadata": {},
   "outputs": [],
   "source": [
    "mooring_dataset = 'datasets_Mooring_18ck14a_preliminary'\n",
    "ctd_datasets = ['CTD_os1901l1_preliminary','CTD_he1801']\n",
    "ctd_casts = ['ctd029','ctd040']"
   ]
  },
  {
   "cell_type": "code",
   "execution_count": 2,
   "metadata": {},
   "outputs": [],
   "source": [
    "from erddapy import ERDDAP\n",
    "import pandas as pd\n",
    "import numpy as np"
   ]
  },
  {
   "cell_type": "code",
   "execution_count": 3,
   "metadata": {
    "jupyter": {
     "source_hidden": true
    }
   },
   "outputs": [],
   "source": [
    "%matplotlib inline\n",
    "import matplotlib as mpl\n",
    "import matplotlib.pyplot as plt\n",
    "import matplotlib.dates as mdates\n",
    "from matplotlib.dates import YearLocator, WeekdayLocator, MonthLocator, DayLocator, HourLocator, DateFormatter\n",
    "import matplotlib.ticker as ticker\n",
    "\n",
    "import cmocean\n",
    "### specify primary bulk figure parameters\n",
    "fontsize = 10\n",
    "labelsize = 10\n",
    "#plotstyle = 'seaborn'\n",
    "max_xticks = 10\n",
    "plt.style.use('seaborn-ticks')\n",
    "mpl.rcParams['svg.fonttype'] = 'none'\n",
    "mpl.rcParams['ps.fonttype'] = 42 #truetype/type2 fonts instead of type3\n",
    "mpl.rcParams['pdf.fonttype'] = 42 #truetype/type2 fonts instead of type3\n",
    "mpl.rcParams['axes.grid'] = False\n",
    "mpl.rcParams['axes.edgecolor'] = 'black'\n",
    "mpl.rcParams['axes.linewidth'] = 1.5\n",
    "mpl.rcParams['axes.labelcolor'] = 'black'\n",
    "mpl.rcParams['grid.linestyle'] = '--'\n",
    "mpl.rcParams['grid.linestyle'] = '--'\n",
    "mpl.rcParams['xtick.major.size'] = 4\n",
    "mpl.rcParams['xtick.minor.size'] = 2\n",
    "mpl.rcParams['xtick.major.width'] = 2\n",
    "mpl.rcParams['xtick.minor.width'] = 0.5\n",
    "mpl.rcParams['ytick.major.size'] = 4\n",
    "mpl.rcParams['ytick.minor.size'] = 2\n",
    "mpl.rcParams['ytick.major.width'] = 2\n",
    "mpl.rcParams['ytick.minor.width'] = 0.5\n",
    "mpl.rcParams['ytick.direction'] = 'out'\n",
    "mpl.rcParams['xtick.direction'] = 'out'\n",
    "mpl.rcParams['ytick.color'] = 'black'\n",
    "mpl.rcParams['xtick.color'] = 'black'"
   ]
  },
  {
   "cell_type": "code",
   "execution_count": 4,
   "metadata": {},
   "outputs": [],
   "source": [
    "server_url = 'http://downdraft.pmel.noaa.gov:8080/erddap'"
   ]
  },
  {
   "cell_type": "code",
   "execution_count": 6,
   "metadata": {},
   "outputs": [
    {
     "data": {
      "text/html": [
       "<div>\n",
       "<style scoped>\n",
       "    .dataframe tbody tr th:only-of-type {\n",
       "        vertical-align: middle;\n",
       "    }\n",
       "\n",
       "    .dataframe tbody tr th {\n",
       "        vertical-align: top;\n",
       "    }\n",
       "\n",
       "    .dataframe thead th {\n",
       "        text-align: right;\n",
       "    }\n",
       "</style>\n",
       "<table border=\"1\" class=\"dataframe\">\n",
       "  <thead>\n",
       "    <tr style=\"text-align: right;\">\n",
       "      <th></th>\n",
       "      <th>depth</th>\n",
       "      <th>latitude</th>\n",
       "      <th>longitude</th>\n",
       "      <th>temp</th>\n",
       "      <th>pres</th>\n",
       "      <th>sal</th>\n",
       "      <th>PAR</th>\n",
       "      <th>Chlorophyll_Fluorescence</th>\n",
       "      <th>Oxygen_Saturation</th>\n",
       "      <th>Oxygen_Concentration</th>\n",
       "      <th>timeseries_id</th>\n",
       "      <th>Instrument_Identifier</th>\n",
       "      <th>Serial_Number</th>\n",
       "    </tr>\n",
       "    <tr>\n",
       "      <th>time (UTC)</th>\n",
       "      <th></th>\n",
       "      <th></th>\n",
       "      <th></th>\n",
       "      <th></th>\n",
       "      <th></th>\n",
       "      <th></th>\n",
       "      <th></th>\n",
       "      <th></th>\n",
       "      <th></th>\n",
       "      <th></th>\n",
       "      <th></th>\n",
       "      <th></th>\n",
       "      <th></th>\n",
       "    </tr>\n",
       "  </thead>\n",
       "  <tbody>\n",
       "    <tr>\n",
       "      <th>2018-08-07 21:00:00+00:00</th>\n",
       "      <td>39.0</td>\n",
       "      <td>71</td>\n",
       "      <td>197.549118</td>\n",
       "      <td>11.8602</td>\n",
       "      <td>NaN</td>\n",
       "      <td>0.0</td>\n",
       "      <td>NaN</td>\n",
       "      <td>NaN</td>\n",
       "      <td>NaN</td>\n",
       "      <td>NaN</td>\n",
       "      <td>18ck14a_sbe37_1866_37m.asc</td>\n",
       "      <td>s37</td>\n",
       "      <td>NaN</td>\n",
       "    </tr>\n",
       "    <tr>\n",
       "      <th>2018-08-07 22:00:00+00:00</th>\n",
       "      <td>39.0</td>\n",
       "      <td>71</td>\n",
       "      <td>197.549118</td>\n",
       "      <td>12.0901</td>\n",
       "      <td>NaN</td>\n",
       "      <td>0.0</td>\n",
       "      <td>NaN</td>\n",
       "      <td>NaN</td>\n",
       "      <td>NaN</td>\n",
       "      <td>NaN</td>\n",
       "      <td>18ck14a_sbe37_1866_37m.asc</td>\n",
       "      <td>s37</td>\n",
       "      <td>NaN</td>\n",
       "    </tr>\n",
       "    <tr>\n",
       "      <th>2018-08-07 23:00:00+00:00</th>\n",
       "      <td>39.0</td>\n",
       "      <td>71</td>\n",
       "      <td>197.549118</td>\n",
       "      <td>12.7990</td>\n",
       "      <td>NaN</td>\n",
       "      <td>0.0</td>\n",
       "      <td>NaN</td>\n",
       "      <td>NaN</td>\n",
       "      <td>NaN</td>\n",
       "      <td>NaN</td>\n",
       "      <td>18ck14a_sbe37_1866_37m.asc</td>\n",
       "      <td>s37</td>\n",
       "      <td>NaN</td>\n",
       "    </tr>\n",
       "    <tr>\n",
       "      <th>2018-08-08 00:00:00+00:00</th>\n",
       "      <td>39.0</td>\n",
       "      <td>71</td>\n",
       "      <td>197.549118</td>\n",
       "      <td>13.7565</td>\n",
       "      <td>NaN</td>\n",
       "      <td>0.0</td>\n",
       "      <td>NaN</td>\n",
       "      <td>NaN</td>\n",
       "      <td>NaN</td>\n",
       "      <td>NaN</td>\n",
       "      <td>18ck14a_sbe37_1866_37m.asc</td>\n",
       "      <td>s37</td>\n",
       "      <td>NaN</td>\n",
       "    </tr>\n",
       "    <tr>\n",
       "      <th>2018-08-08 01:00:00+00:00</th>\n",
       "      <td>39.0</td>\n",
       "      <td>71</td>\n",
       "      <td>197.549118</td>\n",
       "      <td>14.1097</td>\n",
       "      <td>NaN</td>\n",
       "      <td>0.0</td>\n",
       "      <td>NaN</td>\n",
       "      <td>NaN</td>\n",
       "      <td>NaN</td>\n",
       "      <td>NaN</td>\n",
       "      <td>18ck14a_sbe37_1866_37m.asc</td>\n",
       "      <td>s37</td>\n",
       "      <td>NaN</td>\n",
       "    </tr>\n",
       "  </tbody>\n",
       "</table>\n",
       "</div>"
      ],
      "text/plain": [
       "                           depth  latitude   longitude     temp  pres  sal  \\\n",
       "time (UTC)                                                                   \n",
       "2018-08-07 21:00:00+00:00   39.0        71  197.549118  11.8602   NaN  0.0   \n",
       "2018-08-07 22:00:00+00:00   39.0        71  197.549118  12.0901   NaN  0.0   \n",
       "2018-08-07 23:00:00+00:00   39.0        71  197.549118  12.7990   NaN  0.0   \n",
       "2018-08-08 00:00:00+00:00   39.0        71  197.549118  13.7565   NaN  0.0   \n",
       "2018-08-08 01:00:00+00:00   39.0        71  197.549118  14.1097   NaN  0.0   \n",
       "\n",
       "                           PAR  Chlorophyll_Fluorescence  Oxygen_Saturation  \\\n",
       "time (UTC)                                                                    \n",
       "2018-08-07 21:00:00+00:00  NaN                       NaN                NaN   \n",
       "2018-08-07 22:00:00+00:00  NaN                       NaN                NaN   \n",
       "2018-08-07 23:00:00+00:00  NaN                       NaN                NaN   \n",
       "2018-08-08 00:00:00+00:00  NaN                       NaN                NaN   \n",
       "2018-08-08 01:00:00+00:00  NaN                       NaN                NaN   \n",
       "\n",
       "                           Oxygen_Concentration               timeseries_id  \\\n",
       "time (UTC)                                                                    \n",
       "2018-08-07 21:00:00+00:00                   NaN  18ck14a_sbe37_1866_37m.asc   \n",
       "2018-08-07 22:00:00+00:00                   NaN  18ck14a_sbe37_1866_37m.asc   \n",
       "2018-08-07 23:00:00+00:00                   NaN  18ck14a_sbe37_1866_37m.asc   \n",
       "2018-08-08 00:00:00+00:00                   NaN  18ck14a_sbe37_1866_37m.asc   \n",
       "2018-08-08 01:00:00+00:00                   NaN  18ck14a_sbe37_1866_37m.asc   \n",
       "\n",
       "                          Instrument_Identifier  Serial_Number  \n",
       "time (UTC)                                                      \n",
       "2018-08-07 21:00:00+00:00                   s37            NaN  \n",
       "2018-08-07 22:00:00+00:00                   s37            NaN  \n",
       "2018-08-07 23:00:00+00:00                   s37            NaN  \n",
       "2018-08-08 00:00:00+00:00                   s37            NaN  \n",
       "2018-08-08 01:00:00+00:00                   s37            NaN  "
      ]
     },
     "execution_count": 6,
     "metadata": {},
     "output_type": "execute_result"
    }
   ],
   "source": [
    "### mooring urls\n",
    "d = ERDDAP(server=server_url,\n",
    "           protocol='tabledap',\n",
    "           response='csv',\n",
    "          )\n",
    "\n",
    "d.dataset_id=mooring_dataset\n",
    "\n",
    "\n",
    "df_m = d.to_pandas(\n",
    "    index_col='time (UTC)',\n",
    "    parse_dates=True,\n",
    "    skiprows=(1,)  # units information can be dropped.\n",
    ")\n",
    "\n",
    "df_m.sort_index(inplace=True)\n",
    "df_m.columns = [x[1].split()[0] for x in enumerate(df_m.columns)]\n",
    "\n",
    "df_m.head()"
   ]
  },
  {
   "cell_type": "code",
   "execution_count": 17,
   "metadata": {},
   "outputs": [],
   "source": [
    "### ctd urls\n",
    "df_ctd = {}\n",
    "for ctd_dataset in ctd_datasets:\n",
    "    d = ERDDAP(server=server_url,\n",
    "               protocol='tabledap',\n",
    "               response='csv',\n",
    "              )\n",
    "\n",
    "    d.dataset_id=ctd_dataset\n",
    "\n",
    "\n",
    "    df = d.to_pandas(\n",
    "        index_col='time (UTC)',\n",
    "        parse_dates=True,\n",
    "        skiprows=(1,)  # units information can be dropped.\n",
    "    )\n",
    "\n",
    "    df.sort_index(inplace=True)\n",
    "    df.columns = [x[1].split()[0] for x in enumerate(df.columns)]\n",
    "\n",
    "    df.head()\n",
    "    df_ctd.update({ctd_dataset:df})"
   ]
  },
  {
   "cell_type": "code",
   "execution_count": 125,
   "metadata": {},
   "outputs": [
    {
     "name": "stdout",
     "output_type": "stream",
     "text": [
      "DatetimeIndex(['2019-08-15 01:22:26+00:00'], dtype='datetime64[ns, UTC]', name='time (UTC)', freq=None) time (UTC)\n",
      "2019-08-15 01:22:26+00:00    6.479\n",
      "Name: T_28, dtype: float64\n",
      "evaluate at max cast depth 35.0 \n",
      " DatetimeIndex(['2018-08-14 10:39:00+00:00'], dtype='datetime64[ns, UTC]', name='time (UTC)', freq=None) time (UTC)\n",
      "2018-08-14 10:39:00+00:00    2.1021\n",
      "Name: T_28, dtype: float64\n",
      "DatetimeIndex([], dtype='datetime64[ns, UTC]', name='time (UTC)', freq=None) Series([], Name: T_28, dtype: float64)\n",
      "evaluate at max cast depth 35.0 \n",
      " DatetimeIndex(['2018-08-14 10:39:00+00:00'], dtype='datetime64[ns, UTC]', name='time (UTC)', freq=None) time (UTC)\n",
      "2018-08-14 10:39:00+00:00    2.1021\n",
      "Name: T_28, dtype: float64\n"
     ]
    },
    {
     "data": {
      "image/png": "[encoded data removed]",
      "text/plain": [
       "<Figure size 1224x144 with 1 Axes>"
      ]
     },
     "metadata": {
      "needs_background": "light"
     },
     "output_type": "display_data"
    }
   ],
   "source": [
    "fig, ax = plt.subplots(figsize=(17, 2))\n",
    "for name,group in df_m.groupby('timeseries_id'):\n",
    "    ax.plot(group.index,group.temp)\n",
    "    for cast,cgroup in df_ctd[ctd_datasets[0]].groupby('station_id'):\n",
    "        if ctd_casts[0] in cast:\n",
    "            ax.scatter(cgroup[cgroup.pressure == group.depth[0]].index,cgroup[cgroup.pressure == group.depth[0]].T_28, \n",
    "                       s=100, facecolors='none', edgecolors='r')\n",
    "            print(cgroup[cgroup.pressure == group.depth[0]].index,\n",
    "                  cgroup[cgroup.pressure == group.depth[0]].T_28)\n",
    "    for cast,cgroup in df_ctd[ctd_datasets[1]].groupby('station_id'):\n",
    "        if ctd_casts[1] in cast:\n",
    "            if group.depth[0] > cgroup.pressure.max():\n",
    "                ax.scatter(cgroup[cgroup.pressure == cgroup.pressure.max()].index,cgroup[cgroup.pressure == cgroup.pressure.max()].T_28, \n",
    "                           s=100, facecolors='none', edgecolors='r')            \n",
    "                print(f'evaluate at max cast depth {cgroup.pressure.max()} \\n',cgroup[cgroup.pressure == cgroup.pressure.max()].index,\n",
    "                      cgroup[cgroup.pressure == cgroup.pressure.max()].T_28)                       \n",
    "            else:\n",
    "                ax.scatter(cgroup[cgroup.pressure == group.depth[0]].index,cgroup[cgroup.pressure == group.depth[0]].T_28, \n",
    "                           s=100, facecolors='none', edgecolors='r')            \n",
    "                print(cgroup[cgroup.pressure == group.depth[0]].index,\n",
    "                      cgroup[cgroup.pressure == group.depth[0]].T_28)            "
   ]
  },
  {
   "cell_type": "code",
   "execution_count": 126,
   "metadata": {},
   "outputs": [
    {
     "name": "stdout",
     "output_type": "stream",
     "text": [
      "evaluate at max cast depth 35.0 \n",
      " DatetimeIndex(['2018-08-14 10:39:00+00:00'], dtype='datetime64[ns, UTC]', name='time (UTC)', freq=None) time (UTC)\n",
      "2018-08-14 10:39:00+00:00    31.76721\n",
      "Name: S_41, dtype: float64\n",
      "evaluate at max cast depth 35.0 \n",
      " DatetimeIndex(['2018-08-14 10:39:00+00:00'], dtype='datetime64[ns, UTC]', name='time (UTC)', freq=None) time (UTC)\n",
      "2018-08-14 10:39:00+00:00    31.76721\n",
      "Name: S_41, dtype: float64\n"
     ]
    },
    {
     "data": {
      "image/png": "[encoded data removed]",
      "text/plain": [
       "<Figure size 1224x144 with 1 Axes>"
      ]
     },
     "metadata": {
      "needs_background": "light"
     },
     "output_type": "display_data"
    }
   ],
   "source": [
    "fig, ax = plt.subplots(figsize=(17, 2))\n",
    "for name,group in df_m.groupby('timeseries_id'):\n",
    "    ax.plot(group.index,group.sal)\n",
    "    for cast,cgroup in df_ctd[ctd_datasets[0]].groupby('station_id'):\n",
    "        if ctd_casts[0] in cast:\n",
    "            ax.scatter(cgroup[cgroup.pressure == group.depth[0]].index,cgroup[cgroup.pressure == group.depth[0]].S_41, \n",
    "                       s=100, facecolors='none', edgecolors='r')\n",
    "    for cast,cgroup in df_ctd[ctd_datasets[1]].groupby('station_id'):\n",
    "        if ctd_casts[1] in cast:\n",
    "            if group.depth[0] > cgroup.pressure.max():\n",
    "                ax.scatter(cgroup[cgroup.pressure == cgroup.pressure.max()].index,cgroup[cgroup.pressure == cgroup.pressure.max()].S_41, \n",
    "                           s=100, facecolors='none', edgecolors='r')            \n",
    "                print(f'evaluate at max cast depth {cgroup.pressure.max()} \\n',cgroup[cgroup.pressure == cgroup.pressure.max()].index,\n",
    "                      cgroup[cgroup.pressure == cgroup.pressure.max()].S_41)                       \n",
    "            else:\n",
    "                ax.scatter(cgroup[cgroup.pressure == group.depth[0]].index,cgroup[cgroup.pressure == group.depth[0]].S_41, \n",
    "                           s=100, facecolors='none', edgecolors='r')            \n",
    "                print(cgroup[cgroup.pressure == group.depth[0]].index,\n",
    "                      cgroup[cgroup.pressure == group.depth[0]].S_41)    \n",
    "    ax.set_ylim([30.5,35])"
   ]
  },
  {
   "cell_type": "code",
   "execution_count": null,
   "metadata": {},
   "outputs": [],
   "source": []
  }
 ],
 "metadata": {
  "kernelspec": {
   "display_name": "Python [conda env:py37] *",
   "language": "python",
   "name": "conda-env-py37-py"
  },
  "language_info": {
   "codemirror_mode": {
    "name": "ipython",
    "version": 3
   },
   "file_extension": ".py",
   "mimetype": "text/x-python",
   "name": "python",
   "nbconvert_exporter": "python",
   "pygments_lexer": "ipython3",
   "version": "3.7.6"
  }
 },
 "nbformat": 4,
 "nbformat_minor": 4
}
