{
 "cells": [
  {
   "cell_type": "markdown",
   "metadata": {},
   "source": [
    "## Heat Content (.htcon) to csv converter\n",
    "\n",
    "- bring in 6hourly htcon file and convert time word to datestamp\n",
    "- pjs has used hours from 1995-1-1 as the basedate\n",
    "- combine defined climatology and calculate anom\n",
    "\n",
    "Outputs - 6ihourly data"
   ]
  },
  {
   "cell_type": "code",
   "execution_count": 235,
   "metadata": {},
   "outputs": [],
   "source": [
    "import pandas as pd\n",
    "import datetime\n",
    "import os\n",
    "\n",
    "%matplotlib inline"
   ]
  },
  {
   "cell_type": "code",
   "execution_count": 236,
   "metadata": {},
   "outputs": [],
   "source": [
    "#read in standard htcon file, convert to datetime and setup index\n",
    "num_depths = 74\n",
    "\n",
    "path = '/Users/bell/in_and_outbox/Ongoing_Analysis/M2_IntegratedTemp/20191101_erddap_dataset/htcon_orig/'\n",
    "filein = path + '17bsm2a_final2.htcon'\n",
    "\n",
    "df = pd.read_csv(filein,delimiter='\\s+',names=['hour_elapsed','total_heatcontent','num_depths'])\n",
    "\n",
    "base_date = datetime.datetime(1995,1,1)\n",
    "df['datetime'] = [base_date + datetime.timedelta(hours=row['hour_elapsed']) for index, row in df.iterrows()]\n",
    "df['depthintegrated_heatcontent'] = df['total_heatcontent'] / num_depths\n",
    "\n",
    "df = df.set_index(pd.DatetimeIndex(df['datetime']))\n",
    "df = df.drop(columns='datetime')\n",
    "df['doy'] = df.index.dayofyear\n",
    "df['dayhour'] = df.index.hour\n"
   ]
  },
  {
   "cell_type": "code",
   "execution_count": 237,
   "metadata": {},
   "outputs": [
    {
     "data": {
      "text/plain": [
       "['.DS_Store',\n",
       " '02bsm2a_f29.htcon',\n",
       " '03bs2a_brg_f29_updt.htcon',\n",
       " '04bs2c_brg_f29_updt.htcon',\n",
       " '04bsm2a_brg_f29_updt.htcon',\n",
       " '05bs2c_brg_f29_updt.htcon',\n",
       " '05bsm2a_f29_updt.htcon',\n",
       " '06bs2c_brg_f29_point.htcon',\n",
       " '06bsm2a_f29_point.htcon',\n",
       " '07bs2c_brg_f29_point.htcon',\n",
       " '07bsm2a_f29_point.htcon',\n",
       " '08bs2c_f29_point.htcon',\n",
       " '08bsm2a_f29_point.htcon',\n",
       " '09bsm2a_f29_point.htcon',\n",
       " '10bs2c_f29_point.htcon',\n",
       " '10bsm2a_point.htcon',\n",
       " '10ctd.htcon',\n",
       " '11bs2c_f29_point.htcon',\n",
       " '11bsm2a_brg_f29_point.htcon',\n",
       " '12bs2c_f29_point.htcon',\n",
       " '12bsm2a_brg_f29_point.htcon',\n",
       " '13bs2c_inter.htcon',\n",
       " '13bsm2a_brg_f35_point.htcon',\n",
       " '14bs2c_brg_f29_all.htcon',\n",
       " '14bs2c_brg_f29_point_all.htcon',\n",
       " '14bsm2_rev_brg_f29.htcon',\n",
       " '14bsm2a_f29_point.htcon2.bad',\n",
       " '15bsm2_f29_temporary.nc',\n",
       " '15bsm2_f29_temporary.nc.csv',\n",
       " '15bsm2a_brg_f29.htcon',\n",
       " '15bsm2c_brg_f29_tempor.htcon',\n",
       " '16bs2c_brg_tempory.htcon',\n",
       " '16bsm2a_garbage.htcon',\n",
       " '17bsm2a_final2.htcon',\n",
       " '2006_2015.htcon',\n",
       " 'bsm2_2001.htcon',\n",
       " 'bsm2_2001_f29.htcon',\n",
       " 'f01bs2b_temp_brg_f29.htcon',\n",
       " 'm2_htcon_f35_2005.cdf',\n",
       " 'm2_htcon_f35_2005.csv']"
      ]
     },
     "execution_count": 237,
     "metadata": {},
     "output_type": "execute_result"
    }
   ],
   "source": [
    "sorted(os.listdir(path))"
   ]
  },
  {
   "cell_type": "code",
   "execution_count": 238,
   "metadata": {},
   "outputs": [
    {
     "name": "stderr",
     "output_type": "stream",
     "text": [
      "/Users/bell/anaconda2/envs/py37/lib/python3.7/site-packages/ipykernel_launcher.py:12: SettingWithCopyWarning: \n",
      "A value is trying to be set on a copy of a slice from a DataFrame\n",
      "\n",
      "See the caveats in the documentation: http://pandas.pydata.org/pandas-docs/stable/user_guide/indexing.html#returning-a-view-versus-a-copy\n",
      "  if sys.path[0] == '':\n",
      "/Users/bell/anaconda2/envs/py37/lib/python3.7/site-packages/pandas/core/generic.py:9114: SettingWithCopyWarning: \n",
      "A value is trying to be set on a copy of a slice from a DataFrame\n",
      "\n",
      "See the caveats in the documentation: http://pandas.pydata.org/pandas-docs/stable/user_guide/indexing.html#returning-a-view-versus-a-copy\n",
      "  self._update_inplace(new_data)\n",
      "/Users/bell/anaconda2/envs/py37/lib/python3.7/site-packages/IPython/core/interactiveshell.py:3326: SettingWithCopyWarning: \n",
      "A value is trying to be set on a copy of a slice from a DataFrame\n",
      "\n",
      "See the caveats in the documentation: http://pandas.pydata.org/pandas-docs/stable/user_guide/indexing.html#returning-a-view-versus-a-copy\n",
      "  exec(code_obj, self.user_global_ns, self.user_ns)\n"
     ]
    }
   ],
   "source": [
    "#read in climatology and combine with .htcon based on doy\n",
    "\n",
    "climo_filein = '/Users/bell/in_and_outbox/Ongoing_Analysis/M2_IntegratedTemp/20191101_erddap_dataset/climatology.csv'\n",
    "\n",
    "df_c = pd.read_csv(climo_filein,delimiter=',',parse_dates=True,index_col='datetime')\n",
    "df_c['climatology_depthintegrated_heatcontent'] = df_c['climatology_total_heatcontent'] / num_depths\n",
    "df_c['doy'] = df_c.index.dayofyear\n",
    "df_c['dayhour'] = df_c.index.hour\n",
    "\n",
    "#drop feb 29 for non-leap years\n",
    "df_c_noleap = df_c[df_c.index.dayofyear!=60]\n",
    "df_c_noleap['doy'][df_c_noleap.index.dayofyear>60] = df_c_noleap[df_c_noleap.index.dayofyear>60]['doy'] -1\n"
   ]
  },
  {
   "cell_type": "code",
   "execution_count": 239,
   "metadata": {},
   "outputs": [],
   "source": [
    "if df_c.index.is_leap_year[0]:\n",
    "    mergedDf = df.merge(df_c, on=['doy','dayhour'], left_index=True)\n",
    "else:\n",
    "    mergedDf = df.merge(df_c_noleap, on=['doy','dayhour'], left_index=True)\n",
    "\n",
    "mergedDf['anom'] = mergedDf['depthintegrated_heatcontent']-mergedDf['climatology_depthintegrated_heatcontent']"
   ]
  },
  {
   "cell_type": "code",
   "execution_count": 240,
   "metadata": {},
   "outputs": [
    {
     "data": {
      "text/plain": [
       "<matplotlib.axes._subplots.AxesSubplot at 0x11d81ad68>"
      ]
     },
     "execution_count": 240,
     "metadata": {},
     "output_type": "execute_result"
    },
    {
     "data": {
      "image/png": "[encoded data removed]",
      "text/plain": [
       "<Figure size 432x288 with 1 Axes>"
      ]
     },
     "metadata": {
      "needs_background": "light"
     },
     "output_type": "display_data"
    }
   ],
   "source": [
    "mergedDf['anom'].plot()"
   ]
  },
  {
   "cell_type": "code",
   "execution_count": 241,
   "metadata": {},
   "outputs": [],
   "source": [
    "fileout = '/Users/bell/in_and_outbox/Ongoing_Analysis/M2_IntegratedTemp/20191101_erddap_dataset/htcon_csv/'\n",
    "fileout = fileout + filein.split('/')[-1].replace('htcon','htcon.csv')\n",
    "mergedDf.to_csv(fileout)"
   ]
  },
  {
   "cell_type": "code",
   "execution_count": null,
   "metadata": {},
   "outputs": [],
   "source": []
  }
 ],
 "metadata": {
  "kernelspec": {
   "display_name": "Python [conda env:py37]",
   "language": "python",
   "name": "conda-env-py37-py"
  },
  "language_info": {
   "codemirror_mode": {
    "name": "ipython",
    "version": 3
   },
   "file_extension": ".py",
   "mimetype": "text/x-python",
   "name": "python",
   "nbconvert_exporter": "python",
   "pygments_lexer": "ipython3",
   "version": "3.7.3"
  }
 },
 "nbformat": 4,
 "nbformat_minor": 4
}
