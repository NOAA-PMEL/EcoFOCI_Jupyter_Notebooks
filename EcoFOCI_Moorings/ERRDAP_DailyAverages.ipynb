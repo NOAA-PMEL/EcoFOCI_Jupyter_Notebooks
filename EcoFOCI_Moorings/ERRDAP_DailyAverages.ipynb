{
 "cells": [
  {
   "cell_type": "markdown",
   "metadata": {},
   "source": [
    "# ERDDAP Frequent Tools collection\n",
    "\n",
    "- Daily Average"
   ]
  },
  {
   "cell_type": "code",
   "execution_count": 1,
   "metadata": {},
   "outputs": [],
   "source": [
    "from erddapy import ERDDAP\n",
    "import pandas as pd\n",
    "import numpy as np\n",
    "import datetime"
   ]
  },
  {
   "cell_type": "code",
   "execution_count": 32,
   "metadata": {},
   "outputs": [],
   "source": [
    "server_url = 'http://akutan.pmel.noaa.gov:8080/erddap'\n",
    "dataset = 'datasets_Mooring_10ckp1a_final'\n",
    "instrument = '10ckp1a_sc_0041m'\n",
    "e = ERDDAP(server=server_url)"
   ]
  },
  {
   "cell_type": "code",
   "execution_count": 33,
   "metadata": {},
   "outputs": [
    {
     "data": {
      "text/html": [
       "<div>\n",
       "<style scoped>\n",
       "    .dataframe tbody tr th:only-of-type {\n",
       "        vertical-align: middle;\n",
       "    }\n",
       "\n",
       "    .dataframe tbody tr th {\n",
       "        vertical-align: top;\n",
       "    }\n",
       "\n",
       "    .dataframe thead th {\n",
       "        text-align: right;\n",
       "    }\n",
       "</style>\n",
       "<table border=\"1\" class=\"dataframe\">\n",
       "  <thead>\n",
       "    <tr style=\"text-align: right;\">\n",
       "      <th></th>\n",
       "      <th>depth</th>\n",
       "      <th>latitude</th>\n",
       "      <th>longitude</th>\n",
       "      <th>temperature</th>\n",
       "      <th>timeseries_id</th>\n",
       "      <th>Instrument_Identifier</th>\n",
       "    </tr>\n",
       "    <tr>\n",
       "      <th>time (UTC)</th>\n",
       "      <th></th>\n",
       "      <th></th>\n",
       "      <th></th>\n",
       "      <th></th>\n",
       "      <th></th>\n",
       "      <th></th>\n",
       "    </tr>\n",
       "  </thead>\n",
       "  <tbody>\n",
       "    <tr>\n",
       "      <th>2010-08-29 06:00:00+00:00</th>\n",
       "      <td>41.0</td>\n",
       "      <td>70.8401</td>\n",
       "      <td>196.794601</td>\n",
       "      <td>2.3954</td>\n",
       "      <td>10ckp1a_sc_0041m</td>\n",
       "      <td>ascii</td>\n",
       "    </tr>\n",
       "    <tr>\n",
       "      <th>2010-08-29 06:00:00+00:00</th>\n",
       "      <td>11.0</td>\n",
       "      <td>70.8389</td>\n",
       "      <td>196.803299</td>\n",
       "      <td>NaN</td>\n",
       "      <td>10ckp1a_wcp_vel</td>\n",
       "      <td>wcp</td>\n",
       "    </tr>\n",
       "    <tr>\n",
       "      <th>2010-08-29 06:00:00+00:00</th>\n",
       "      <td>7.0</td>\n",
       "      <td>70.8389</td>\n",
       "      <td>196.803299</td>\n",
       "      <td>NaN</td>\n",
       "      <td>10ckp1a_wcp_vel</td>\n",
       "      <td>wcp</td>\n",
       "    </tr>\n",
       "    <tr>\n",
       "      <th>2010-08-29 06:00:00+00:00</th>\n",
       "      <td>13.0</td>\n",
       "      <td>70.8389</td>\n",
       "      <td>196.803299</td>\n",
       "      <td>NaN</td>\n",
       "      <td>10ckp1a_wcp_vel</td>\n",
       "      <td>wcp</td>\n",
       "    </tr>\n",
       "    <tr>\n",
       "      <th>2010-08-29 06:00:00+00:00</th>\n",
       "      <td>15.0</td>\n",
       "      <td>70.8389</td>\n",
       "      <td>196.803299</td>\n",
       "      <td>NaN</td>\n",
       "      <td>10ckp1a_wcp_vel</td>\n",
       "      <td>wcp</td>\n",
       "    </tr>\n",
       "  </tbody>\n",
       "</table>\n",
       "</div>"
      ],
      "text/plain": [
       "                           depth  latitude   longitude  temperature  \\\n",
       "time (UTC)                                                            \n",
       "2010-08-29 06:00:00+00:00   41.0   70.8401  196.794601       2.3954   \n",
       "2010-08-29 06:00:00+00:00   11.0   70.8389  196.803299          NaN   \n",
       "2010-08-29 06:00:00+00:00    7.0   70.8389  196.803299          NaN   \n",
       "2010-08-29 06:00:00+00:00   13.0   70.8389  196.803299          NaN   \n",
       "2010-08-29 06:00:00+00:00   15.0   70.8389  196.803299          NaN   \n",
       "\n",
       "                              timeseries_id Instrument_Identifier  \n",
       "time (UTC)                                                         \n",
       "2010-08-29 06:00:00+00:00  10ckp1a_sc_0041m                 ascii  \n",
       "2010-08-29 06:00:00+00:00   10ckp1a_wcp_vel                   wcp  \n",
       "2010-08-29 06:00:00+00:00   10ckp1a_wcp_vel                   wcp  \n",
       "2010-08-29 06:00:00+00:00   10ckp1a_wcp_vel                   wcp  \n",
       "2010-08-29 06:00:00+00:00   10ckp1a_wcp_vel                   wcp  "
      ]
     },
     "execution_count": 33,
     "metadata": {},
     "output_type": "execute_result"
    }
   ],
   "source": [
    "### prawler urls\n",
    "constraints = {\n",
    "}\n",
    "\n",
    "variables = ['depth', 'latitude', 'longitude', 'temperature', 'timeseries_id', 'Instrument_Identifier','time']\n",
    "d = ERDDAP(server=server_url,\n",
    "           protocol='tabledap',\n",
    "           response='csv',\n",
    "          )\n",
    "\n",
    "d.dataset_id=dataset\n",
    "d.constraints=constraints\n",
    "d.variables=variables\n",
    "df = d.to_pandas(\n",
    "    index_col='time (UTC)',\n",
    "    parse_dates=True,\n",
    "    skiprows=(1,)  # units information can be dropped.\n",
    ")\n",
    "\n",
    "df.sort_index(inplace=True)\n",
    "df.columns = [x[1].split()[0] for x in enumerate(df.columns)]\n",
    "\n",
    "df.groupby(df.timeseries_id).get_group(instrument).resample('1D').mean().to_csv(instrument+'.csv')"
   ]
  },
  {
   "cell_type": "code",
   "execution_count": 34,
   "metadata": {},
   "outputs": [],
   "source": []
  },
  {
   "cell_type": "code",
   "execution_count": null,
   "metadata": {},
   "outputs": [],
   "source": []
  }
 ],
 "metadata": {
  "kernelspec": {
   "display_name": "Python [conda env:py38] *",
   "language": "python",
   "name": "conda-env-py38-py"
  },
  "language_info": {
   "codemirror_mode": {
    "name": "ipython",
    "version": 3
   },
   "file_extension": ".py",
   "mimetype": "text/x-python",
   "name": "python",
   "nbconvert_exporter": "python",
   "pygments_lexer": "ipython3",
   "version": "3.8.6"
  }
 },
 "nbformat": 4,
 "nbformat_minor": 4
}
