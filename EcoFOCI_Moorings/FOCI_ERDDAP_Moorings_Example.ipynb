{
 "cells": [
  {
   "cell_type": "markdown",
   "metadata": {},
   "source": [
    "## PMEL/FOCI ERDDAP for Moorings Example\n",
    "\n",
    "EcoFOCI maintains an internal server (or two) that mooring/ctd and other data is served up on.  downdraft is the test server (S.Bell's office) and Akutan is considered the production server (virtual linux system)\n",
    "\n",
    "more info can be found on the erddapy webpage - https://ioos.github.io/erddapy/quick_intro.html#"
   ]
  },
  {
   "cell_type": "code",
   "execution_count": 2,
   "metadata": {},
   "outputs": [],
   "source": [
    "#standard imports for this operation\n",
    "from erddapy import ERDDAP\n",
    "import pandas as pd\n",
    "import numpy as np"
   ]
  },
  {
   "cell_type": "markdown",
   "metadata": {},
   "source": [
    "erddap has two types of data basically... gridded (not yet implemented in foci data) and tabular.  Tabular imports to pandas very nicely as csv files and gridded imports to xarray (via .nc files) nicely.  Of course, more meta information is retained when importing a netcdf file than a csv file if this is important."
   ]
  },
  {
   "cell_type": "code",
   "execution_count": 43,
   "metadata": {},
   "outputs": [],
   "source": [
    "server_url = 'http://downdraft.pmel.noaa.gov:8080/erddap'\n",
    "did = 'datasets_Mooring_19bsm2a_final'\n",
    "d = ERDDAP(server=server_url,\n",
    "           protocol='tabledap',\n",
    "           response='csv',\n",
    "          )\n",
    "\n",
    "#usally two data bases exist for each deployment, a preliminary and a final\n",
    "d.dataset_id=did\n",
    "\n",
    "#define the variables you want to get\n",
    "d.variables =  [\n",
    " 'timeseries_id',\n",
    " 'Temperature',\n",
    " 'Salinity',\n",
    " 'Chlorophyll',\n",
    " 'Turbidity',\n",
    " 'latitude',\n",
    " 'longitude',\n",
    " 'depth',\n",
    " \"time\",\n",
    " 'Oxy_Conc',\n",
    " 'Oxy_Sat'\n",
    "]\n",
    "\n",
    "# useful if only wanting a small time portion\n",
    "d.constraints = {\n",
    "    'time>=': '2018-01-01T00:00:00Z',\n",
    "    'time<=': '2020-10-10T00:00:00Z',\n",
    "}\n",
    "\n",
    "#data download below will fail unitl the variables are named apporpiatly"
   ]
  },
  {
   "cell_type": "code",
   "execution_count": 44,
   "metadata": {},
   "outputs": [
    {
     "data": {
      "text/plain": [
       "['depth',\n",
       " 'Oxygen_Saturation',\n",
       " 'latitude',\n",
       " 'sal',\n",
       " 'Chlorophyll_Fluorescence',\n",
       " 'temp',\n",
       " 'pres',\n",
       " 'time',\n",
       " 'Oxygen_Concentration',\n",
       " 'longitude']"
      ]
     },
     "execution_count": 44,
     "metadata": {},
     "output_type": "execute_result"
    }
   ],
   "source": [
    "variables = d.get_var_by_attr(\n",
    "        dataset_id=did,\n",
    "        standard_name=lambda v: v is not None\n",
    "    )\n",
    "\n",
    "\n",
    "variables"
   ]
  },
  {
   "cell_type": "code",
   "execution_count": 45,
   "metadata": {},
   "outputs": [],
   "source": [
    "def show_iframe(src):\n",
    "    \"\"\"Helper function to show HTML returns.\"\"\"\n",
    "    from IPython.display import HTML\n",
    "    iframe = f'<iframe src=\"{src}\" width=\"100%\" height=\"950\"></iframe>'\n",
    "    return HTML(iframe)"
   ]
  },
  {
   "cell_type": "code",
   "execution_count": 46,
   "metadata": {},
   "outputs": [
    {
     "name": "stderr",
     "output_type": "stream",
     "text": [
      "/Users/bell/anaconda2/envs/py37/lib/python3.7/site-packages/IPython/core/display.py:701: UserWarning: Consider using IPython.display.IFrame instead\n",
      "  warnings.warn(\"Consider using IPython.display.IFrame instead\")\n"
     ]
    },
    {
     "data": {
      "text/html": [
       "<iframe src=\"http://downdraft.pmel.noaa.gov:8080/erddap/search/advanced.html?page=1&itemsPerPage=1000&protocol=(ANY)&cdm_data_type=(ANY)&institution=(ANY)&ioos_category=(ANY)&keywords=(ANY)&long_name=(ANY)&standard_name=seawater_temperature&variableName=(ANY)&minLon=180.0&maxLon=220.0&minLat=50.0&maxLat=85.0&minTime=(ANY)&maxTime=(ANY)\" width=\"100%\" height=\"950\"></iframe>"
      ],
      "text/plain": [
       "<IPython.core.display.HTML object>"
      ]
     },
     "execution_count": 46,
     "metadata": {},
     "output_type": "execute_result"
    }
   ],
   "source": [
    "#watch out for deg E conversions - either >180 or <0\n",
    "kw = {\n",
    "    'standard_name': 'seawater_temperature',\n",
    "    'min_lon': 180.0,\n",
    "    'max_lon': 220.0,\n",
    "    'min_lat': 50.0,\n",
    "    'max_lat': 85.0,\n",
    "}\n",
    "\n",
    "search_url = d.get_search_url(response='html', **kw)\n",
    "\n",
    "show_iframe(search_url)"
   ]
  },
  {
   "cell_type": "markdown",
   "metadata": {},
   "source": [
    "erddapy really is just a url builder, the following url can be passed into just about any RESTful service"
   ]
  },
  {
   "cell_type": "code",
   "execution_count": 47,
   "metadata": {},
   "outputs": [],
   "source": [
    "d.variables = variables\n",
    "download_url = d.get_download_url()"
   ]
  },
  {
   "cell_type": "code",
   "execution_count": 48,
   "metadata": {},
   "outputs": [
    {
     "data": {
      "text/html": [
       "<div>\n",
       "<style scoped>\n",
       "    .dataframe tbody tr th:only-of-type {\n",
       "        vertical-align: middle;\n",
       "    }\n",
       "\n",
       "    .dataframe tbody tr th {\n",
       "        vertical-align: top;\n",
       "    }\n",
       "\n",
       "    .dataframe thead th {\n",
       "        text-align: right;\n",
       "    }\n",
       "</style>\n",
       "<table border=\"1\" class=\"dataframe\">\n",
       "  <thead>\n",
       "    <tr style=\"text-align: right;\">\n",
       "      <th></th>\n",
       "      <th>depth</th>\n",
       "      <th>Oxygen_Saturation</th>\n",
       "      <th>latitude</th>\n",
       "      <th>sal</th>\n",
       "      <th>Chlorophyll_Fluorescence</th>\n",
       "      <th>temp</th>\n",
       "      <th>pres</th>\n",
       "      <th>Oxygen_Concentration</th>\n",
       "      <th>longitude</th>\n",
       "    </tr>\n",
       "    <tr>\n",
       "      <th>time (UTC)</th>\n",
       "      <th></th>\n",
       "      <th></th>\n",
       "      <th></th>\n",
       "      <th></th>\n",
       "      <th></th>\n",
       "      <th></th>\n",
       "      <th></th>\n",
       "      <th></th>\n",
       "      <th></th>\n",
       "    </tr>\n",
       "  </thead>\n",
       "  <tbody>\n",
       "    <tr>\n",
       "      <th>2019-04-25 05:00:00+00:00</th>\n",
       "      <td>55.0</td>\n",
       "      <td>NaN</td>\n",
       "      <td>57</td>\n",
       "      <td>NaN</td>\n",
       "      <td>NaN</td>\n",
       "      <td>3.6770</td>\n",
       "      <td>NaN</td>\n",
       "      <td>NaN</td>\n",
       "      <td>195.930145</td>\n",
       "    </tr>\n",
       "    <tr>\n",
       "      <th>2019-04-25 05:00:00+00:00</th>\n",
       "      <td>15.0</td>\n",
       "      <td>NaN</td>\n",
       "      <td>57</td>\n",
       "      <td>NaN</td>\n",
       "      <td>NaN</td>\n",
       "      <td>3.6893</td>\n",
       "      <td>NaN</td>\n",
       "      <td>NaN</td>\n",
       "      <td>195.930145</td>\n",
       "    </tr>\n",
       "    <tr>\n",
       "      <th>2019-04-25 05:00:00+00:00</th>\n",
       "      <td>39.0</td>\n",
       "      <td>NaN</td>\n",
       "      <td>57</td>\n",
       "      <td>NaN</td>\n",
       "      <td>NaN</td>\n",
       "      <td>3.6769</td>\n",
       "      <td>39.627</td>\n",
       "      <td>NaN</td>\n",
       "      <td>195.930145</td>\n",
       "    </tr>\n",
       "    <tr>\n",
       "      <th>2019-04-25 05:00:00+00:00</th>\n",
       "      <td>9.0</td>\n",
       "      <td>NaN</td>\n",
       "      <td>57</td>\n",
       "      <td>NaN</td>\n",
       "      <td>NaN</td>\n",
       "      <td>3.7448</td>\n",
       "      <td>NaN</td>\n",
       "      <td>NaN</td>\n",
       "      <td>195.930145</td>\n",
       "    </tr>\n",
       "    <tr>\n",
       "      <th>2019-04-25 05:00:00+00:00</th>\n",
       "      <td>47.0</td>\n",
       "      <td>NaN</td>\n",
       "      <td>57</td>\n",
       "      <td>NaN</td>\n",
       "      <td>NaN</td>\n",
       "      <td>3.6771</td>\n",
       "      <td>NaN</td>\n",
       "      <td>NaN</td>\n",
       "      <td>195.930145</td>\n",
       "    </tr>\n",
       "  </tbody>\n",
       "</table>\n",
       "</div>"
      ],
      "text/plain": [
       "                           depth  Oxygen_Saturation  latitude  sal  \\\n",
       "time (UTC)                                                           \n",
       "2019-04-25 05:00:00+00:00   55.0                NaN        57  NaN   \n",
       "2019-04-25 05:00:00+00:00   15.0                NaN        57  NaN   \n",
       "2019-04-25 05:00:00+00:00   39.0                NaN        57  NaN   \n",
       "2019-04-25 05:00:00+00:00    9.0                NaN        57  NaN   \n",
       "2019-04-25 05:00:00+00:00   47.0                NaN        57  NaN   \n",
       "\n",
       "                           Chlorophyll_Fluorescence    temp    pres  \\\n",
       "time (UTC)                                                            \n",
       "2019-04-25 05:00:00+00:00                       NaN  3.6770     NaN   \n",
       "2019-04-25 05:00:00+00:00                       NaN  3.6893     NaN   \n",
       "2019-04-25 05:00:00+00:00                       NaN  3.6769  39.627   \n",
       "2019-04-25 05:00:00+00:00                       NaN  3.7448     NaN   \n",
       "2019-04-25 05:00:00+00:00                       NaN  3.6771     NaN   \n",
       "\n",
       "                           Oxygen_Concentration   longitude  \n",
       "time (UTC)                                                   \n",
       "2019-04-25 05:00:00+00:00                   NaN  195.930145  \n",
       "2019-04-25 05:00:00+00:00                   NaN  195.930145  \n",
       "2019-04-25 05:00:00+00:00                   NaN  195.930145  \n",
       "2019-04-25 05:00:00+00:00                   NaN  195.930145  \n",
       "2019-04-25 05:00:00+00:00                   NaN  195.930145  "
      ]
     },
     "execution_count": 48,
     "metadata": {},
     "output_type": "execute_result"
    }
   ],
   "source": [
    "#download data\n",
    "df = d.to_pandas(\n",
    "    index_col='time (UTC)',\n",
    "    parse_dates=True,\n",
    "    skiprows=(1,)  # units information can be dropped.\n",
    ")\n",
    "\n",
    "df.sort_index(inplace=True)\n",
    "df.columns = [x[1].split()[0] for x in enumerate(df.columns)]\n",
    "\n",
    "df.head()"
   ]
  },
  {
   "cell_type": "code",
   "execution_count": 49,
   "metadata": {},
   "outputs": [],
   "source": [
    "import matplotlib as mpl\n",
    "import matplotlib.pyplot as plt\n",
    "import matplotlib.dates as mdates\n",
    "from matplotlib.dates import YearLocator, WeekdayLocator, MonthLocator, DayLocator, HourLocator, DateFormatter\n",
    "import matplotlib.ticker as ticker\n",
    "\n",
    "import cmocean\n",
    "\n",
    "### specify primary bulk figure parameters\n",
    "fontsize = 10\n",
    "labelsize = 10\n",
    "#plotstyle = 'seaborn'\n",
    "max_xticks = 10\n",
    "plt.style.use('seaborn-ticks')\n",
    "mpl.rcParams['svg.fonttype'] = 'none'\n",
    "mpl.rcParams['ps.fonttype'] = 42 #truetype/type2 fonts instead of type3\n",
    "mpl.rcParams['pdf.fonttype'] = 42 #truetype/type2 fonts instead of type3\n",
    "mpl.rcParams['axes.grid'] = False\n",
    "mpl.rcParams['axes.edgecolor'] = 'black'\n",
    "mpl.rcParams['axes.linewidth'] = 1.5\n",
    "mpl.rcParams['axes.labelcolor'] = 'black'\n",
    "mpl.rcParams['grid.linestyle'] = '--'\n",
    "mpl.rcParams['grid.linestyle'] = '--'\n",
    "mpl.rcParams['xtick.major.size'] = 4\n",
    "mpl.rcParams['xtick.minor.size'] = 2\n",
    "mpl.rcParams['xtick.major.width'] = 2\n",
    "mpl.rcParams['xtick.minor.width'] = 0.5\n",
    "mpl.rcParams['ytick.major.size'] = 4\n",
    "mpl.rcParams['ytick.minor.size'] = 2\n",
    "mpl.rcParams['ytick.major.width'] = 2\n",
    "mpl.rcParams['ytick.minor.width'] = 0.5\n",
    "mpl.rcParams['ytick.direction'] = 'out'\n",
    "mpl.rcParams['xtick.direction'] = 'out'\n",
    "mpl.rcParams['ytick.color'] = 'black'\n",
    "mpl.rcParams['xtick.color'] = 'black'"
   ]
  },
  {
   "cell_type": "code",
   "execution_count": 65,
   "metadata": {},
   "outputs": [
    {
     "data": {
      "image/png": "[encoded data removed]",
      "text/plain": [
       "<Figure size 576x792 with 1 Axes>"
      ]
     },
     "metadata": {},
     "output_type": "display_data"
    }
   ],
   "source": [
    "fig, ax = plt.subplots(figsize=(8, 11))\n",
    "for name,group in df.groupby(df.depth):\n",
    "    ax.plot(group.index,group.temp)"
   ]
  },
  {
   "cell_type": "code",
   "execution_count": 88,
   "metadata": {},
   "outputs": [
    {
     "name": "stdout",
     "output_type": "stream",
     "text": [
      "CPU times: user 2 µs, sys: 1 µs, total: 3 µs\n",
      "Wall time: 6.2 µs\n"
     ]
    },
    {
     "data": {
      "text/plain": [
       "Text(0,0.5,'Depth (m)')"
      ]
     },
     "execution_count": 88,
     "metadata": {},
     "output_type": "execute_result"
    },
    {
     "data": {
      "image/png": "[encoded data removed]",
      "text/plain": [
       "<Figure size 576x792 with 2 Axes>"
      ]
     },
     "metadata": {},
     "output_type": "display_data"
    }
   ],
   "source": [
    "#not gridded\n",
    "%time\n",
    "fig, ax = plt.subplots(figsize=(8, 11))\n",
    "for name,group in df.groupby(df.depth):\n",
    "    cs = ax.scatter(group.index,group.depth,c=group.temp,\n",
    "              vmin=-2, vmax=15, marker='o', edgecolor='none', \n",
    "               cmap=cmocean.cm.thermal)\n",
    "    \n",
    "ax.invert_yaxis()\n",
    "cbar = fig.colorbar(cs, orientation='vertical', extend='both')\n",
    "cbar.ax.set_ylabel('Temperature ($^\\circ$C)')\n",
    "ax.set_ylabel('Depth (m)')"
   ]
  },
  {
   "cell_type": "code",
   "execution_count": 92,
   "metadata": {},
   "outputs": [
    {
     "data": {
      "text/html": [
       "<pre>&lt;xarray.Dataset&gt;\n",
       "Dimensions:                   (row: 751971)\n",
       "Dimensions without coordinates: row\n",
       "Data variables:\n",
       "    depth                     (row) float32 ...\n",
       "    Oxygen_Saturation         (row) float32 ...\n",
       "    latitude                  (row) int8 ...\n",
       "    sal                       (row) float32 ...\n",
       "    Chlorophyll_Fluorescence  (row) float32 ...\n",
       "    temp                      (row) float32 ...\n",
       "    pres                      (row) float32 ...\n",
       "    time                      (row) datetime64[ns] ...\n",
       "    Oxygen_Concentration      (row) float32 ...\n",
       "    longitude                 (row) float64 ...\n",
       "Attributes:\n",
       "    cdm_data_type:                 TimeSeries\n",
       "    cdm_timeseries_variables:      timeseries_id, Instrument_Identifier, Seri...\n",
       "    COMPOSITE:                     1\n",
       "    Conventions:                   COARDS, CF-1.6, ACDD-1.3\n",
       "    CREATION_DATE:                 January 08, 2020 23:31 UTC\n",
       "    Easternmost_Easting:           195.93014526367188\n",
       "    EPIC_FILE_GENERATOR:           nc_epic2udunits_time.py V0.4.0\n",
       "    featureType:                   TimeSeries\n",
       "    geospatial_lat_max:            57.0\n",
       "    geospatial_lat_min:            57.0\n",
       "    geospatial_lat_units:          degrees_north\n",
       "    geospatial_lon_max:            195.93014526367188\n",
       "    geospatial_lon_min:            195.93014526367188\n",
       "    geospatial_lon_units:          degrees_east\n",
       "    geospatial_vertical_max:       55.0\n",
       "    geospatial_vertical_min:       9.0\n",
       "    geospatial_vertical_positive:  down\n",
       "    geospatial_vertical_units:     m\n",
       "    history:                       2020-01-10T17:50:14Z (local files)\\n2020-0...\n",
       "    id:                            datasets_Mooring_19bsm2a_final\n",
       "    infoUrl:                       https://pmel.noaa.gov/\n",
       "    institution:                   PMEL\n",
       "    keywords:                      active, C_50, channel, chemistry, chloroph...\n",
       "    keywords_vocabulary:           GCMD Science Keywords\n",
       "    license:                       The data may be used and redistributed for...\n",
       "    MOORING:                       19bsm2a\n",
       "    Northernmost_Northing:         57.0\n",
       "    sourceUrl:                     (local files)\n",
       "    Southernmost_Northing:         57.0\n",
       "    standard_name_vocabulary:      CF Standard Name Table v55\n",
       "    subsetVariables:               depth, latitude, longitude, pres, timeseri...\n",
       "    summary:                       QC&#x27;d (final) data from 19BSM-2A\n",
       "    time_coverage_end:             2019-09-20T00:00:00Z\n",
       "    time_coverage_start:           2019-04-25T05:00:00Z\n",
       "    title:                         19BSM-2A data\n",
       "    WATER_DEPTH:                   71\n",
       "    Westernmost_Easting:           195.93014526367188</pre>"
      ],
      "text/plain": [
       "<xarray.Dataset>\n",
       "Dimensions:                   (row: 751971)\n",
       "Dimensions without coordinates: row\n",
       "Data variables:\n",
       "    depth                     (row) float32 ...\n",
       "    Oxygen_Saturation         (row) float32 ...\n",
       "    latitude                  (row) int8 ...\n",
       "    sal                       (row) float32 ...\n",
       "    Chlorophyll_Fluorescence  (row) float32 ...\n",
       "    temp                      (row) float32 ...\n",
       "    pres                      (row) float32 ...\n",
       "    time                      (row) datetime64[ns] ...\n",
       "    Oxygen_Concentration      (row) float32 ...\n",
       "    longitude                 (row) float64 ...\n",
       "Attributes:\n",
       "    cdm_data_type:                 TimeSeries\n",
       "    cdm_timeseries_variables:      timeseries_id, Instrument_Identifier, Seri...\n",
       "    COMPOSITE:                     1\n",
       "    Conventions:                   COARDS, CF-1.6, ACDD-1.3\n",
       "    CREATION_DATE:                 January 08, 2020 23:31 UTC\n",
       "    Easternmost_Easting:           195.93014526367188\n",
       "    EPIC_FILE_GENERATOR:           nc_epic2udunits_time.py V0.4.0\n",
       "    featureType:                   TimeSeries\n",
       "    geospatial_lat_max:            57.0\n",
       "    geospatial_lat_min:            57.0\n",
       "    geospatial_lat_units:          degrees_north\n",
       "    geospatial_lon_max:            195.93014526367188\n",
       "    geospatial_lon_min:            195.93014526367188\n",
       "    geospatial_lon_units:          degrees_east\n",
       "    geospatial_vertical_max:       55.0\n",
       "    geospatial_vertical_min:       9.0\n",
       "    geospatial_vertical_positive:  down\n",
       "    geospatial_vertical_units:     m\n",
       "    history:                       2020-01-10T17:50:14Z (local files)\\n2020-0...\n",
       "    id:                            datasets_Mooring_19bsm2a_final\n",
       "    infoUrl:                       https://pmel.noaa.gov/\n",
       "    institution:                   PMEL\n",
       "    keywords:                      active, C_50, channel, chemistry, chloroph...\n",
       "    keywords_vocabulary:           GCMD Science Keywords\n",
       "    license:                       The data may be used and redistributed for...\n",
       "    MOORING:                       19bsm2a\n",
       "    Northernmost_Northing:         57.0\n",
       "    sourceUrl:                     (local files)\n",
       "    Southernmost_Northing:         57.0\n",
       "    standard_name_vocabulary:      CF Standard Name Table v55\n",
       "    subsetVariables:               depth, latitude, longitude, pres, timeseri...\n",
       "    summary:                       QC'd (final) data from 19BSM-2A\n",
       "    time_coverage_end:             2019-09-20T00:00:00Z\n",
       "    time_coverage_start:           2019-04-25T05:00:00Z\n",
       "    title:                         19BSM-2A data\n",
       "    WATER_DEPTH:                   71\n",
       "    Westernmost_Easting:           195.93014526367188"
      ]
     },
     "execution_count": 92,
     "metadata": {},
     "output_type": "execute_result"
    }
   ],
   "source": [
    "#the above is slow... is nc the way to go? doesn't seem so\n",
    "d.response = 'nc'\n",
    "\n",
    "download_url = d.get_download_url()\n",
    "\n",
    "ds = d.to_xarray(decode_times=True)\n",
    "\n",
    "ds"
   ]
  },
  {
   "cell_type": "code",
   "execution_count": null,
   "metadata": {},
   "outputs": [],
   "source": [
    "one long timeseries - need to grid it to make it more useful though... so nc not really"
   ]
  }
 ],
 "metadata": {
  "kernelspec": {
   "display_name": "Python [conda env:py37]",
   "language": "python",
   "name": "conda-env-py37-py"
  },
  "language_info": {
   "codemirror_mode": {
    "name": "ipython",
    "version": 3
   },
   "file_extension": ".py",
   "mimetype": "text/x-python",
   "name": "python",
   "nbconvert_exporter": "python",
   "pygments_lexer": "ipython3",
   "version": "3.7.6"
  }
 },
 "nbformat": 4,
 "nbformat_minor": 4
}
