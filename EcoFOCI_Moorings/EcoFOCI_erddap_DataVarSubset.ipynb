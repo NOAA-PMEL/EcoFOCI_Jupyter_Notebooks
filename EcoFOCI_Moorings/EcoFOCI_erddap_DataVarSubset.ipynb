{
 "cells": [
  {
   "cell_type": "code",
   "execution_count": 49,
   "id": "institutional-wholesale",
   "metadata": {},
   "outputs": [],
   "source": [
    "from erddapy import ERDDAP\n",
    "import pandas as pd\n",
    "import numpy as np\n"
   ]
  },
  {
   "cell_type": "code",
   "execution_count": 50,
   "id": "right-things",
   "metadata": {},
   "outputs": [],
   "source": [
    "## settings (move to yaml file for routines)\n",
    "\n",
    "server_url = 'http://akutan.pmel.noaa.gov:8080/erddap'\n",
    "maxdepth = 0 #keep all data above this depth\n",
    "site_str = 'M8'\n",
    "region = 'bs'\n",
    "substring = ['bs8','bs8'] #search substring useful for M2\n",
    "prelim=[]\n",
    "\n",
    "#this elimnates bad salinity but \n",
    "data_QC = True\n"
   ]
  },
  {
   "cell_type": "code",
   "execution_count": 51,
   "id": "clear-cleaners",
   "metadata": {},
   "outputs": [],
   "source": [
    "e = ERDDAP(server=server_url)\n",
    "df = pd.read_csv(e.get_search_url(response='csv', search_for=f'datasets_Mooring AND {region}'))\n",
    "#print(df['Dataset ID'].values)"
   ]
  },
  {
   "cell_type": "code",
   "execution_count": 52,
   "id": "jewish-discount",
   "metadata": {},
   "outputs": [
    {
     "name": "stdout",
     "output_type": "stream",
     "text": [
      "datasets_Mooring_05bs8a_final\n",
      "datasets_Mooring_05bs8b_final\n",
      "datasets_Mooring_06bs8a_final\n",
      "datasets_Mooring_07bs8a_final\n",
      "datasets_Mooring_08bs8a_final\n",
      "datasets_Mooring_09bs8a_final\n",
      "datasets_Mooring_10bs8a_final\n",
      "datasets_Mooring_11bs8a_final\n",
      "datasets_Mooring_12bs8a_final\n",
      "datasets_Mooring_13bs8a_final\n",
      "datasets_Mooring_14bs8a_final\n",
      "datasets_Mooring_15bs8a_final\n",
      "datasets_Mooring_16bs8a_final\n",
      "datasets_Mooring_17bs8a_final\n",
      "datasets_Mooring_18bs8a_final\n"
     ]
    }
   ],
   "source": [
    "from requests.exceptions import HTTPError\n",
    "\n",
    "dfs = {}\n",
    "\n",
    "for dataset_id in sorted(df['Dataset ID'].values):\n",
    "    if ('1hr' in dataset_id):\n",
    "        continue\n",
    "    if any(x in dataset_id for x in substring) and not any(x in dataset_id for x in prelim) and ('final' in dataset_id):\n",
    "\n",
    "        print(dataset_id)\n",
    "        try:\n",
    "            d = ERDDAP(server=server_url,\n",
    "                protocol='tabledap',\n",
    "                response='csv'\n",
    "            )\n",
    "            d.dataset_id=dataset_id\n",
    "            d.variables = ['latitude',\n",
    "                           'longitude',\n",
    "                           'depth',\n",
    "                           'Chlorophyll_Fluorescence',\n",
    "                           'time',\n",
    "                           'timeseries_id']\n",
    "            d.constraints = {'depth>=':maxdepth}\n",
    "        except HTTPError:\n",
    "            print('Failed to generate url {}'.format(dataset_id))\n",
    "\n",
    "        try:\n",
    "            df_m = d.to_pandas(\n",
    "                        index_col='time (UTC)',\n",
    "                        parse_dates=True,\n",
    "                        skiprows=(1,)  # units information can be dropped.\n",
    "                        )\n",
    "            df_m.sort_index(inplace=True)\n",
    "            df_m.columns = [x[1].split()[0] for x in enumerate(df_m.columns)]\n",
    "\n",
    "            dfs.update({dataset_id:df_m})\n",
    "        except:\n",
    "            pass\n",
    "    if any(x in dataset_id for x in prelim) and ('preliminary' in dataset_id):\n",
    "        print(dataset_id)\n",
    "        try:\n",
    "            d = ERDDAP(server=server_url,\n",
    "                protocol='tabledap',\n",
    "                response='csv'\n",
    "            )\n",
    "            d.dataset_id=dataset_id\n",
    "            d.variables = ['latitude',\n",
    "                           'longitude',\n",
    "                           'depth',\n",
    "                           'Chlorophyll_Fluorescence',\n",
    "                           'time',\n",
    "                           'timeseries_id']\n",
    "            d.constraints = {'depth>=':maxdepth}\n",
    "        except HTTPError:\n",
    "            print('Failed to generate url {}'.format(dataset_id))\n",
    "\n",
    "        try:\n",
    "            df_m = d.to_pandas(\n",
    "                        index_col='time (UTC)',\n",
    "                        parse_dates=True,\n",
    "                        skiprows=(1,)  # units information can be dropped.\n",
    "                        )\n",
    "            df_m.sort_index(inplace=True)\n",
    "            df_m.columns = [x[1].split()[0] for x in enumerate(df_m.columns)]\n",
    "\n",
    "            #using preliminary for unfinished datasets - very simple qc\n",
    "            if data_QC:\n",
    "\n",
    "                #overwinter moorings\n",
    "                if '17bs2c' in dataset_id:\n",
    "                    df_m=df_m['2017-10-3':'2018-5-1']\n",
    "                if '16bs2c' in dataset_id:\n",
    "                    df_m=df_m['2016-10-6':'2017-4-26']\n",
    "                if '17bsm2a' in dataset_id:\n",
    "                    df_m=df_m['2017-4-28':'2017-9-22']\n",
    "                if '18bsm2a' in dataset_id:\n",
    "                    df_m=df_m['2018-4-30':'2018-10-01']\n",
    "                \n",
    "                if '17bs8a' in dataset_id:\n",
    "                    df_m=df_m['2017-9-30':'2018-10-1']\n",
    "                if '18bs8a' in dataset_id:\n",
    "                    df_m=df_m['2018-10-12':'2019-9-23']   \n",
    "\n",
    "                if '16bs4b' in dataset_id:\n",
    "                    df_m=df_m['2016-9-26':'2017-9-24']\n",
    "                if '17bs4b' in dataset_id:\n",
    "                    df_m=df_m['2017-9-30':'2018-10-1']\n",
    "                if '18bs4b' in dataset_id:\n",
    "                    df_m=df_m['2018-10-12':'2018-9-23']   \n",
    "                    \n",
    "                if '13bs5a' in dataset_id:\n",
    "                    df_m=df_m['2013-8-18':'2014-10-16']\n",
    "                if '14bs5a' in dataset_id:\n",
    "                    df_m=df_m['2014-10-16':'2015-9-24']\n",
    "                if '16bs5a' in dataset_id:\n",
    "                    df_m=df_m['2016-9-26':'2017-9-24']\n",
    "                if '17bs5a' in dataset_id:\n",
    "                    df_m=df_m['2017-9-30':'2018-10-1']\n",
    "                if '18bs5a' in dataset_id:\n",
    "                    df_m=df_m['2018-10-12':'2018-9-23']   \n",
    "            dfs.update({dataset_id:df_m})\n",
    "        except:\n",
    "            pass"
   ]
  },
  {
   "cell_type": "code",
   "execution_count": 53,
   "id": "composite-antenna",
   "metadata": {},
   "outputs": [],
   "source": [
    "df_merged=pd.DataFrame()\n",
    "for dataset_id in dfs.keys():\n",
    "    df_merged = df_merged.append(dfs[dataset_id])"
   ]
  },
  {
   "cell_type": "code",
   "execution_count": 54,
   "id": "interpreted-terminology",
   "metadata": {},
   "outputs": [
    {
     "data": {
      "text/html": [
       "<div>\n",
       "<style scoped>\n",
       "    .dataframe tbody tr th:only-of-type {\n",
       "        vertical-align: middle;\n",
       "    }\n",
       "\n",
       "    .dataframe tbody tr th {\n",
       "        vertical-align: top;\n",
       "    }\n",
       "\n",
       "    .dataframe thead th {\n",
       "        text-align: right;\n",
       "    }\n",
       "</style>\n",
       "<table border=\"1\" class=\"dataframe\">\n",
       "  <thead>\n",
       "    <tr style=\"text-align: right;\">\n",
       "      <th></th>\n",
       "      <th>latitude</th>\n",
       "      <th>longitude</th>\n",
       "      <th>depth</th>\n",
       "      <th>Chlorophyll_Fluorescence</th>\n",
       "    </tr>\n",
       "  </thead>\n",
       "  <tbody>\n",
       "    <tr>\n",
       "      <th>count</th>\n",
       "      <td>6.451837e+06</td>\n",
       "      <td>6.451837e+06</td>\n",
       "      <td>6.460069e+06</td>\n",
       "      <td>73176.000000</td>\n",
       "    </tr>\n",
       "    <tr>\n",
       "      <th>mean</th>\n",
       "      <td>6.219432e+01</td>\n",
       "      <td>1.853268e+02</td>\n",
       "      <td>4.217627e+01</td>\n",
       "      <td>3.409844</td>\n",
       "    </tr>\n",
       "    <tr>\n",
       "      <th>std</th>\n",
       "      <td>1.562018e-03</td>\n",
       "      <td>8.347783e-03</td>\n",
       "      <td>1.496241e+01</td>\n",
       "      <td>7.406204</td>\n",
       "    </tr>\n",
       "    <tr>\n",
       "      <th>min</th>\n",
       "      <td>6.219268e+01</td>\n",
       "      <td>1.853116e+02</td>\n",
       "      <td>1.400000e+01</td>\n",
       "      <td>-0.357500</td>\n",
       "    </tr>\n",
       "    <tr>\n",
       "      <th>25%</th>\n",
       "      <td>6.219370e+01</td>\n",
       "      <td>1.853165e+02</td>\n",
       "      <td>2.700000e+01</td>\n",
       "      <td>0.445325</td>\n",
       "    </tr>\n",
       "    <tr>\n",
       "      <th>50%</th>\n",
       "      <td>6.219390e+01</td>\n",
       "      <td>1.853322e+02</td>\n",
       "      <td>4.000000e+01</td>\n",
       "      <td>1.522679</td>\n",
       "    </tr>\n",
       "    <tr>\n",
       "      <th>75%</th>\n",
       "      <td>6.219430e+01</td>\n",
       "      <td>1.853325e+02</td>\n",
       "      <td>5.100000e+01</td>\n",
       "      <td>3.322872</td>\n",
       "    </tr>\n",
       "    <tr>\n",
       "      <th>max</th>\n",
       "      <td>6.219930e+01</td>\n",
       "      <td>1.853339e+02</td>\n",
       "      <td>7.100000e+01</td>\n",
       "      <td>124.108000</td>\n",
       "    </tr>\n",
       "  </tbody>\n",
       "</table>\n",
       "</div>"
      ],
      "text/plain": [
       "           latitude     longitude         depth  Chlorophyll_Fluorescence\n",
       "count  6.451837e+06  6.451837e+06  6.460069e+06              73176.000000\n",
       "mean   6.219432e+01  1.853268e+02  4.217627e+01                  3.409844\n",
       "std    1.562018e-03  8.347783e-03  1.496241e+01                  7.406204\n",
       "min    6.219268e+01  1.853116e+02  1.400000e+01                 -0.357500\n",
       "25%    6.219370e+01  1.853165e+02  2.700000e+01                  0.445325\n",
       "50%    6.219390e+01  1.853322e+02  4.000000e+01                  1.522679\n",
       "75%    6.219430e+01  1.853325e+02  5.100000e+01                  3.322872\n",
       "max    6.219930e+01  1.853339e+02  7.100000e+01                124.108000"
      ]
     },
     "execution_count": 54,
     "metadata": {},
     "output_type": "execute_result"
    }
   ],
   "source": [
    "df_merged.describe()"
   ]
  },
  {
   "cell_type": "code",
   "execution_count": 55,
   "id": "standing-fortune",
   "metadata": {},
   "outputs": [],
   "source": [
    "df_merged = df_merged.dropna()"
   ]
  },
  {
   "cell_type": "code",
   "execution_count": 56,
   "id": "hired-eating",
   "metadata": {},
   "outputs": [],
   "source": [
    "import matplotlib as mpl\n",
    "import matplotlib.pyplot as plt"
   ]
  },
  {
   "cell_type": "code",
   "execution_count": 57,
   "id": "arranged-dispute",
   "metadata": {},
   "outputs": [
    {
     "data": {
      "text/plain": [
       "<matplotlib.collections.PathCollection at 0x1671a8970>"
      ]
     },
     "execution_count": 57,
     "metadata": {},
     "output_type": "execute_result"
    },
    {
     "data": {
      "image/png": "[encoded data removed]",
      "text/plain": [
       "<Figure size 432x288 with 1 Axes>"
      ]
     },
     "metadata": {
      "needs_background": "light"
     },
     "output_type": "display_data"
    }
   ],
   "source": [
    "plt.scatter(df_merged.index, y=df_merged['depth'], s=10, c=df_merged['Chlorophyll_Fluorescence'], vmin=0, vmax=10, cmap='inferno')"
   ]
  },
  {
   "cell_type": "code",
   "execution_count": 58,
   "id": "athletic-invite",
   "metadata": {},
   "outputs": [
    {
     "data": {
      "text/plain": [
       "[<matplotlib.lines.Line2D at 0x1628e9610>]"
      ]
     },
     "execution_count": 58,
     "metadata": {},
     "output_type": "execute_result"
    },
    {
     "data": {
      "image/png": "[encoded data removed]",
      "text/plain": [
       "<Figure size 432x288 with 1 Axes>"
      ]
     },
     "metadata": {
      "needs_background": "light"
     },
     "output_type": "display_data"
    }
   ],
   "source": [
    "plt.plot(df_merged.index, df_merged['Chlorophyll_Fluorescence'])"
   ]
  },
  {
   "cell_type": "code",
   "execution_count": 59,
   "id": "dated-masters",
   "metadata": {},
   "outputs": [],
   "source": [
    "df_merged.to_csv(f'{site_str}_nearsfc_chlor.csv')"
   ]
  },
  {
   "cell_type": "code",
   "execution_count": null,
   "id": "female-maryland",
   "metadata": {},
   "outputs": [],
   "source": []
  }
 ],
 "metadata": {
  "kernelspec": {
   "display_name": "Python [conda env:py38] *",
   "language": "python",
   "name": "conda-env-py38-py"
  },
  "language_info": {
   "codemirror_mode": {
    "name": "ipython",
    "version": 3
   },
   "file_extension": ".py",
   "mimetype": "text/x-python",
   "name": "python",
   "nbconvert_exporter": "python",
   "pygments_lexer": "ipython3",
   "version": "3.8.6"
  }
 },
 "nbformat": 4,
 "nbformat_minor": 5
}
