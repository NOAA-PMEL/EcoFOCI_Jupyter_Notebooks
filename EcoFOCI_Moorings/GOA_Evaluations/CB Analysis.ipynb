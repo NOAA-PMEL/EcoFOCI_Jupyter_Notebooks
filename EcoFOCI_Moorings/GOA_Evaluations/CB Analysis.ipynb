{
 "cells": [
  {
   "cell_type": "markdown",
   "metadata": {},
   "source": [
    "# Chinak Analysis\n",
    "\n",
    "Final Data years\n",
    "- 2016\n",
    "- 2015\n",
    "\n",
    "Preliminary Data years\n",
    "- 2017+\n"
   ]
  },
  {
   "cell_type": "code",
   "execution_count": 3,
   "metadata": {},
   "outputs": [],
   "source": [
    "from erddapy import ERDDAP\n",
    "import pandas as pd\n",
    "import numpy as np\n",
    "import datetime\n",
    "import glob\n",
    "\n",
    "%matplotlib inline\n",
    "import matplotlib.pyplot as plt\n",
    "import matplotlib.dates as mdates\n",
    "from matplotlib.dates import YearLocator, WeekdayLocator, MonthLocator, DayLocator, HourLocator, DateFormatter\n",
    "\n",
    "import cmocean\n",
    "\n",
    "server_url = 'http://downdraft.pmel.noaa.gov:8080/erddap'"
   ]
  },
  {
   "cell_type": "code",
   "execution_count": 5,
   "metadata": {},
   "outputs": [
    {
     "name": "stdout",
     "output_type": "stream",
     "text": [
      "['datasets_Mooring_15cb1a_preliminary' 'datasets_Mooring_16cb1a_final'\n",
      " 'datasets_Mooring_16cb1a_preliminary'\n",
      " 'datasets_Mooring_17cb1a_preliminary' 'datasets_Mooring_10cb1a_final'\n",
      " 'datasets_Mooring_15cb1a_final' 'datasets_Mooring_04cb1a_final'\n",
      " 'datasets_Mooring_05cb1a_final' 'datasets_Mooring_06cb1a_final'\n",
      " 'datasets_Mooring_07cb1a_final' 'datasets_Mooring_08cb1a_final'\n",
      " 'datasets_Mooring_09cb1a_final' 'datasets_Mooring_11cb1a_final'\n",
      " 'datasets_Mooring_11cb1b_final' 'datasets_Mooring_12cb1b_final'\n",
      " 'datasets_Mooring_12cb1a_final' 'datasets_Mooring_13cb1a_final'\n",
      " 'CTD_mf1006_final']\n"
     ]
    }
   ],
   "source": [
    "e = ERDDAP(server=server_url)\n",
    "df = pd.read_csv(e.get_search_url(response='csv', search_for='Mooring AND cb'))\n",
    "\n",
    "print(df['Dataset ID'].values)"
   ]
  },
  {
   "cell_type": "markdown",
   "metadata": {},
   "source": [
    "Get **Temperature** only (and depth/time)"
   ]
  },
  {
   "cell_type": "code",
   "execution_count": 6,
   "metadata": {},
   "outputs": [
    {
     "name": "stdout",
     "output_type": "stream",
     "text": [
      "datasets_Mooring_15cb1a_preliminary\n",
      "datasets_Mooring_16cb1a_final\n",
      "datasets_Mooring_16cb1a_preliminary\n",
      "datasets_Mooring_17cb1a_preliminary\n",
      "datasets_Mooring_10cb1a_final\n",
      "datasets_Mooring_15cb1a_final\n",
      "datasets_Mooring_04cb1a_final\n",
      "datasets_Mooring_05cb1a_final\n",
      "datasets_Mooring_06cb1a_final\n",
      "datasets_Mooring_07cb1a_final\n",
      "datasets_Mooring_08cb1a_final\n",
      "datasets_Mooring_09cb1a_final\n",
      "datasets_Mooring_11cb1a_final\n",
      "datasets_Mooring_11cb1b_final\n",
      "datasets_Mooring_12cb1b_final\n",
      "datasets_Mooring_12cb1a_final\n",
      "datasets_Mooring_13cb1a_final\n",
      "CTD_mf1006_final\n"
     ]
    }
   ],
   "source": [
    "from requests.exceptions import HTTPError\n",
    "\n",
    "dfs = {}\n",
    "for dataset_id in df['Dataset ID'].values:\n",
    "    print(dataset_id)\n",
    "    try:\n",
    "        d = ERDDAP(server=server_url,\n",
    "            protocol='tabledap',\n",
    "            response='csv'\n",
    "        )\n",
    "        d.dataset_id=dataset_id\n",
    "        d.variables = ['time','depth','temperature']\n",
    "        d.constraints\n",
    "    except HTTPError:\n",
    "        print('Failed to generate url {}'.format(dataset_id))\n",
    "\n",
    "    try:\n",
    "        df_m = d.to_pandas(\n",
    "                    index_col='time (UTC)',\n",
    "                    parse_dates=True,\n",
    "                    skiprows=(1,)  # units information can be dropped.\n",
    "                    )\n",
    "        df_m.sort_index(inplace=True)\n",
    "        df_m.columns = [x[1].split()[0] for x in enumerate(df_m.columns)]\n",
    "        \n",
    "        #-9999 and 1e35 are missing values... but erddap doesn't catch the -9999 yet \n",
    "        #and some 1e35 are off a bit\n",
    "        df_m['depth'][(df_m.depth == -9999)] = np.nan # only in pressure field\n",
    "        dfs.update({dataset_id:df_m})\n",
    "    except:\n",
    "        pass\n"
   ]
  },
  {
   "cell_type": "code",
   "execution_count": 50,
   "metadata": {},
   "outputs": [
    {
     "name": "stdout",
     "output_type": "stream",
     "text": [
      "evaluated at 188.0 for datasets_Mooring_16cb1a_final\n",
      "                           depth  temperature\n",
      "time (UTC)                                   \n",
      "2016-02-29 00:00:00+00:00  188.0     5.709098\n",
      "2016-03-31 00:00:00+00:00  188.0     5.712677\n",
      "2016-04-30 00:00:00+00:00  188.0     5.980544\n",
      "2016-05-31 00:00:00+00:00  188.0     6.826572\n",
      "2016-06-30 00:00:00+00:00  188.0     7.705046\n",
      "2016-07-31 00:00:00+00:00  188.0     8.595781\n",
      "2016-08-31 00:00:00+00:00  188.0     9.016684\n",
      "2016-09-30 00:00:00+00:00  188.0     8.958499\n",
      "2016-10-31 00:00:00+00:00  188.0     8.742800\n",
      "2016-11-30 00:00:00+00:00  188.0     7.854665\n",
      "2016-12-31 00:00:00+00:00  188.0     6.308898\n",
      "2017-01-31 00:00:00+00:00  188.0     5.038120\n",
      "2017-02-28 00:00:00+00:00  188.0     4.706823\n",
      "2017-03-31 00:00:00+00:00  188.0     3.409792\n",
      "2017-04-30 00:00:00+00:00  188.0     3.693339\n",
      "evaluated at 188.0 for datasets_Mooring_17cb1a_preliminary\n",
      "                           depth  temperature\n",
      "time (UTC)                                   \n",
      "2017-04-30 00:00:00+00:00  188.0     3.932594\n",
      "2017-05-31 00:00:00+00:00  188.0     5.124575\n",
      "2017-06-30 00:00:00+00:00  188.0     6.116350\n",
      "2017-07-31 00:00:00+00:00  188.0     7.147963\n",
      "2017-08-31 00:00:00+00:00  188.0     8.052221\n",
      "2017-09-30 00:00:00+00:00  188.0     8.143746\n",
      "2017-10-31 00:00:00+00:00  188.0     8.086313\n",
      "2017-11-30 00:00:00+00:00  188.0     7.151158\n",
      "2017-12-31 00:00:00+00:00  188.0     6.146207\n",
      "2018-01-31 00:00:00+00:00  188.0     5.378576\n",
      "2018-02-28 00:00:00+00:00  188.0     4.275453\n",
      "2018-03-31 00:00:00+00:00  188.0     4.002039\n",
      "2018-04-30 00:00:00+00:00  188.0     4.374158\n",
      "2018-05-31 00:00:00+00:00  188.0     5.350209\n",
      "2018-06-30 00:00:00+00:00  188.0     6.024982\n",
      "2018-07-31 00:00:00+00:00  188.0     6.949157\n",
      "2018-08-31 00:00:00+00:00  188.0     7.731700\n",
      "2018-09-30 00:00:00+00:00  188.0     8.552228\n",
      "2018-10-31 00:00:00+00:00  188.0     7.727421\n",
      "2018-11-30 00:00:00+00:00  188.0     7.261159\n",
      "2018-12-31 00:00:00+00:00  188.0     6.409900\n",
      "2019-01-31 00:00:00+00:00  188.0     5.335038\n",
      "2019-02-28 00:00:00+00:00  188.0     5.513567\n",
      "2019-03-31 00:00:00+00:00  188.0     5.410837\n",
      "2019-04-30 00:00:00+00:00  188.0     5.833315\n"
     ]
    }
   ],
   "source": [
    "for df in dfs:\n",
    "    if df in ['datasets_Mooring_16cb1a_final','datasets_Mooring_17cb1a_preliminary']:\n",
    "        dfg = dfs[df].groupby('depth').groups\n",
    "        deepestInd = np.array(list(dfg.keys())).max()\n",
    "        dfm = dfs[df][dfs[df].depth == deepestInd].resample('M').mean()\n",
    "        print(f\"evaluated at {deepestInd} for {df}\")\n",
    "        print(dfm)"
   ]
  },
  {
   "cell_type": "code",
   "execution_count": 44,
   "metadata": {},
   "outputs": [
    {
     "data": {
      "text/plain": [
       "time (UTC)\n",
       "2016-02-09 21:00:00+00:00     True\n",
       "2016-02-09 22:00:00+00:00     True\n",
       "2016-02-09 22:00:00+00:00    False\n",
       "2016-02-09 23:00:00+00:00    False\n",
       "2016-02-09 23:00:00+00:00     True\n",
       "                             ...  \n",
       "2017-04-22 22:00:00+00:00     True\n",
       "2017-04-22 23:00:00+00:00     True\n",
       "2017-04-23 00:00:00+00:00     True\n",
       "2017-04-23 01:00:00+00:00     True\n",
       "2017-04-23 02:00:00+00:00     True\n",
       "Name: depth, Length: 18117, dtype: bool"
      ]
     },
     "execution_count": 44,
     "metadata": {},
     "output_type": "execute_result"
    }
   ],
   "source": [
    "dfs[df].depth == deepestInd"
   ]
  },
  {
   "cell_type": "code",
   "execution_count": null,
   "metadata": {},
   "outputs": [],
   "source": []
  }
 ],
 "metadata": {
  "kernelspec": {
   "display_name": "Python [conda env:py37] *",
   "language": "python",
   "name": "conda-env-py37-py"
  },
  "language_info": {
   "codemirror_mode": {
    "name": "ipython",
    "version": 3
   },
   "file_extension": ".py",
   "mimetype": "text/x-python",
   "name": "python",
   "nbconvert_exporter": "python",
   "pygments_lexer": "ipython3",
   "version": "3.7.6"
  }
 },
 "nbformat": 4,
 "nbformat_minor": 4
}
