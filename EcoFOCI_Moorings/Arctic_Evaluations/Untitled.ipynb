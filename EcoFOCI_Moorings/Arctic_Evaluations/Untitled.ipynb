{
 "cells": [
  {
   "cell_type": "code",
   "execution_count": null,
   "id": "76adc422-7e9c-4126-b91e-6969a07116a5",
   "metadata": {},
   "outputs": [],
   "source": [
    "## IF Data REtrieval 1997-1999"
   ]
  },
  {
   "cell_type": "code",
   "execution_count": 28,
   "id": "7a4751a3-a818-48ad-9386-b62493f5e75e",
   "metadata": {},
   "outputs": [],
   "source": [
    "from erddapy import ERDDAP\n",
    "import pandas as pd\n",
    "import numpy as np\n",
    "import xarray as xr\n",
    "\n",
    "server_url='http://akutan.pmel.noaa.gov:8080/erddap'\n",
    "dataset = 'ADCP_Mooring_16bsp2a_final'\n",
    "\n",
    "e = ERDDAP(server=server_url)\n",
    "\n",
    "df = pd.read_csv(e.get_search_url(response='csv', search_for='IF -ADCP -CTD -merged -Drifters -PopUP -ICOADS'))\n",
    "\n",
    "e.protocol = 'griddap'\n",
    "\n",
    "opendap_url = e.get_download_url(\n",
    "    dataset_id=dataset,\n",
    "    response='opendap',\n",
    ")\n"
   ]
  },
  {
   "cell_type": "code",
   "execution_count": 35,
   "id": "4ed99d4c-473c-4805-89a5-44099027595b",
   "metadata": {
    "tags": []
   },
   "outputs": [
    {
     "name": "stdout",
     "output_type": "stream",
     "text": [
      "datasets_Met_97ifm1a_final\n",
      "datasets_Met_98ifm1a_final\n",
      "datasets_Met_99ifm12a_final\n",
      "datasets_Mooring_97if4a_final\n",
      "datasets_Mooring_97if5a_final\n",
      "datasets_Mooring_97if6a_final\n",
      "datasets_Mooring_97if7a_final\n",
      "datasets_Mooring_97if8a_final\n",
      "datasets_Mooring_97if9a_final\n",
      "datasets_Mooring_97ifm1a_final\n",
      "datasets_Mooring_97ift2a_final\n",
      "datasets_Mooring_97ift3a_final\n",
      "datasets_Mooring_98if4a_final\n",
      "datasets_Mooring_98if5a_final\n",
      "datasets_Mooring_98if6a_final\n",
      "datasets_Mooring_98if7a_final\n",
      "datasets_Mooring_98if8a_final\n",
      "datasets_Mooring_98if9a_final\n",
      "datasets_Mooring_98ifm1a_final\n",
      "datasets_Mooring_99if10a_final\n",
      "datasets_Mooring_99ifm12a_final\n"
     ]
    }
   ],
   "source": [
    "dfs = {}\n",
    "for dataset_id in sorted(df['Dataset ID'].values):\n",
    "    if 'if' in dataset_id:\n",
    "        print(dataset_id)\n",
    "        try:\n",
    "            e = ERDDAP(server=server_url,\n",
    "                protocol='tabledap',\n",
    "                response='csv'\n",
    "            )\n",
    "            e.dataset_id=dataset_id\n",
    "        except HTTPError:\n",
    "            print('Failed to generate url {}'.format(dataset_id))\n",
    "            continue\n",
    "        try:\n",
    "            dftemp = e.to_pandas(\n",
    "                                index_col='time (UTC)',\n",
    "                                parse_dates=True,\n",
    "                                skiprows=(1,)  # units information can be dropped.\n",
    "                                )\n",
    "            dftemp.columns = [x[1].split()[0] for x in enumerate(dftemp.columns)]\n",
    "            dfs.update({dataset_id: dftemp})\n",
    "        except:\n",
    "            pass"
   ]
  },
  {
   "cell_type": "code",
   "execution_count": 83,
   "id": "fe3d8cb0-4afa-4282-8fc5-38b7fe82b7c8",
   "metadata": {},
   "outputs": [],
   "source": [
    "for dataset_id in sorted(dfs.keys()):\n",
    "    try:\n",
    "        btmdepth = max(dfs[dataset_id].groupby('depth').groups.keys())\n",
    "        (dfs[dataset_id][dfs[dataset_id].depth == btmdepth])[['latitude','longitude','temperature','depth']].to_csv(dataset_id+'_'+str(int(btmdepth))+'.csv')\n",
    "    except:\n",
    "        pass"
   ]
  },
  {
   "cell_type": "code",
   "execution_count": 87,
   "id": "863eac00-7f30-44af-9231-8b59ce8fd9d1",
   "metadata": {},
   "outputs": [],
   "source": [
    "dataset_id ='datasets_Mooring_97ifm1a_final'\n",
    "(dfs[dataset_id][dfs[dataset_id].depth == 5.0])[['latitude','longitude','temperature','depth']].to_csv(dataset_id+'_'+str(int(btmdepth))+'.csv')"
   ]
  },
  {
   "cell_type": "code",
   "execution_count": 72,
   "id": "4278109b-8662-42d3-bc86-7187ebe30351",
   "metadata": {},
   "outputs": [
    {
     "data": {
      "text/plain": [
       "{-3.0, 5.0, 8.0, 11.0, 15.0, 20.0, 25.0, 37.0, 42.0}"
      ]
     },
     "execution_count": 72,
     "metadata": {},
     "output_type": "execute_result"
    }
   ],
   "source": [
    "set(dfs[dataset_id].depth)"
   ]
  },
  {
   "cell_type": "code",
   "execution_count": null,
   "id": "6db4d485-f9e2-4c51-b935-b70d74303031",
   "metadata": {},
   "outputs": [],
   "source": []
  }
 ],
 "metadata": {
  "kernelspec": {
   "display_name": "Python [conda env:py38] *",
   "language": "python",
   "name": "conda-env-py38-py"
  },
  "language_info": {
   "codemirror_mode": {
    "name": "ipython",
    "version": 3
   },
   "file_extension": ".py",
   "mimetype": "text/x-python",
   "name": "python",
   "nbconvert_exporter": "python",
   "pygments_lexer": "ipython3",
   "version": "3.8.8"
  }
 },
 "nbformat": 4,
 "nbformat_minor": 5
}
