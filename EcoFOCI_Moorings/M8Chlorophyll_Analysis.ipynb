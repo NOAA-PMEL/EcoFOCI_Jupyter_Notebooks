{
 "cells": [
  {
   "cell_type": "markdown",
   "metadata": {},
   "source": [
    "## Using M8 Chlorophyl data \n",
    "\n",
    "5day bin averaged chlorophyl for hovmoller style plot"
   ]
  },
  {
   "cell_type": "code",
   "execution_count": 1,
   "metadata": {},
   "outputs": [],
   "source": [
    "import pandas as pd\n",
    "import numpy as np\n"
   ]
  },
  {
   "cell_type": "code",
   "execution_count": 38,
   "metadata": {},
   "outputs": [],
   "source": [
    "filein = '/Users/bell/Programs/Python/EcoFOCI_MooringAnalysis/data/M8-Top-Fluor_Fch_906.csv'\n",
    "df = pd.read_csv(filein,parse_dates=True,index_col='time')\n",
    "df['doy']=df.index.dayofyear"
   ]
  },
  {
   "cell_type": "code",
   "execution_count": 39,
   "metadata": {},
   "outputs": [],
   "source": [
    "df.resample('D').mean().to_csv('/Users/bell/Programs/Python/EcoFOCI_MooringAnalysis/data/M8-Top-Fluor_Fch_906.daily.csv')"
   ]
  },
  {
   "cell_type": "code",
   "execution_count": 33,
   "metadata": {},
   "outputs": [
    {
     "data": {
      "text/plain": [
       "<matplotlib.axes._subplots.AxesSubplot at 0x11175e1d0>"
      ]
     },
     "execution_count": 33,
     "metadata": {},
     "output_type": "execute_result"
    },
    {
     "data": {
      "image/png": "[encoded data removed]",
      "text/plain": [
       "<Figure size 432x288 with 1 Axes>"
      ]
     },
     "metadata": {
      "needs_background": "light"
     },
     "output_type": "display_data"
    }
   ],
   "source": [
    "df[' Fch_906'].plot()"
   ]
  },
  {
   "cell_type": "code",
   "execution_count": 34,
   "metadata": {},
   "outputs": [
    {
     "data": {
      "text/plain": [
       "time\n",
       "2007-09-21 21:00:00    (0, 5]\n",
       "2007-09-21 22:00:00    (0, 5]\n",
       "2007-09-21 23:00:00    (0, 5]\n",
       "2007-09-22 00:00:00    (0, 5]\n",
       "2007-09-22 01:00:00    (0, 5]\n",
       "                        ...  \n",
       "2019-09-23 14:00:00    (0, 5]\n",
       "2019-09-23 15:00:00    (0, 5]\n",
       "2019-09-23 16:00:00    (0, 5]\n",
       "2019-09-23 17:00:00    (0, 5]\n",
       "2019-09-23 18:00:00    (0, 5]\n",
       "Name:  Fch_906, Length: 85225, dtype: category\n",
       "Categories (73, interval[int64]): [(0, 5] < (5, 10] < (10, 15] < (15, 20] ... (345, 350] < (350, 355] < (355, 360] < (360, 365]]"
      ]
     },
     "execution_count": 34,
     "metadata": {},
     "output_type": "execute_result"
    }
   ],
   "source": [
    "dfb"
   ]
  },
  {
   "cell_type": "code",
   "execution_count": null,
   "metadata": {},
   "outputs": [],
   "source": []
  }
 ],
 "metadata": {
  "kernelspec": {
   "display_name": "Python [conda env:py37]",
   "language": "python",
   "name": "conda-env-py37-py"
  },
  "language_info": {
   "codemirror_mode": {
    "name": "ipython",
    "version": 3
   },
   "file_extension": ".py",
   "mimetype": "text/x-python",
   "name": "python",
   "nbconvert_exporter": "python",
   "pygments_lexer": "ipython3",
   "version": "3.7.3"
  }
 },
 "nbformat": 4,
 "nbformat_minor": 4
}
