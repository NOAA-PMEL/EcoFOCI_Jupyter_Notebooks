{
 "cells": [
  {
   "cell_type": "markdown",
   "metadata": {},
   "source": [
    "## PMEL ERDDAP M2 Data Visualization\n",
    "\n",
    "__pyversion__==3.6   \n",
    "__author__==S.Bell"
   ]
  },
  {
   "cell_type": "code",
   "execution_count": 1,
   "metadata": {},
   "outputs": [
    {
     "name": "stdout",
     "output_type": "stream",
     "text": [
      "Last run 2020-05-20 13:34:14.474987\n"
     ]
    }
   ],
   "source": [
    "import datetime\n",
    "print(\"Last run {0}\".format(datetime.datetime.now()))"
   ]
  },
  {
   "cell_type": "code",
   "execution_count": 2,
   "metadata": {
    "extensions": {
     "jupyter_dashboards": {
      "version": 1,
      "views": {
       "grid_default": {
        "col": 0,
        "height": 4,
        "hidden": false,
        "row": 0,
        "width": 4
       },
       "report_default": {
        "hidden": false
       }
      }
     }
    }
   },
   "outputs": [
    {
     "name": "stdout",
     "output_type": "stream",
     "text": [
      "['EcoFOCI_Bering_Sea_timeseries_data' 'ChukchiSea_454a_037a_fcf4'\n",
      " 'arcticRescueData_e5bf_cef8_3f72' 'Shelikof_line8_3695_0ada_d066'\n",
      " 'dy1104_profile_data' 'dy1408_profile_data' 'mf0904_profile_data']\n"
     ]
    }
   ],
   "source": [
    "import warnings\n",
    "#remove the numpy/pandas/cython warnings\n",
    "warnings.filterwarnings(action='ignore', message=\"numpy.dtype size changed,\")\n",
    "\n",
    "from erddapy import ERDDAP\n",
    "import pandas as pd\n",
    "import numpy as np\n",
    "\n",
    "#server_url='http://downdraft.pmel.noaa.gov:8080/erddap'\n",
    "server_url='http://ferret.pmel.noaa.gov/pmel/erddap'\n",
    "e = ERDDAP(server=server_url)\n",
    "\n",
    "df = pd.read_csv(e.get_search_url(response='csv', search_for='EcoFOCI'))\n",
    "print(df['Dataset ID'].values)"
   ]
  },
  {
   "cell_type": "code",
   "execution_count": 3,
   "metadata": {},
   "outputs": [],
   "source": [
    "dataset_id = 'EcoFOCI_Bering_Sea_timeseries_data'"
   ]
  },
  {
   "cell_type": "markdown",
   "metadata": {},
   "source": [
    "### retrieving and plotting data"
   ]
  },
  {
   "cell_type": "code",
   "execution_count": 4,
   "metadata": {},
   "outputs": [
    {
     "name": "stdout",
     "output_type": "stream",
     "text": [
      "http://ferret.pmel.noaa.gov/pmel/erddap/tabledap/EcoFOCI_Bering_Sea_timeseries_data.csv?photosynthetically_active_radiation,ocean_depth,id,ocean_practical_salinity_1,ocean_velocity_v_northward_true_north,ocean_chlorophyll_fluorescence_raw_standard_deviation,ocean_conductivity_1,latitude,photosynthetically_active_radiation_raw,ocean_turbidity_FNU,ocean_temperature_1,ocean_dissolved_oxygen_concentration_1_mMperkg,ocean_velocity_u_eastward_true_north,time,ocean_current_direction_component_true_north,ocean_chlorophyll_a_concentration_factoryCal,ocean_current_speed_component,lon360,longitude,ocean_oxygen_saturation_1,depth,ocean_chlorophyll_fluorescence_raw\n"
     ]
    }
   ],
   "source": [
    "kw = {\n",
    "    'standard_name': 'sea_water_temperature',\n",
    "    'min_lon': -180.0,\n",
    "    'max_lon': -130.0,\n",
    "    'min_lat': 55.0,\n",
    "    'max_lat': 90.0,\n",
    "    'min_time': '2010-01-10T00:00:00Z',\n",
    "    'max_time': '2019-01-10T00:00:00Z',\n",
    "}\n",
    "\n",
    "constraints = {\n",
    "    'longitude>=': kw['min_lon'],\n",
    "    'longitude<=': kw['max_lon'],\n",
    "    'latitude>=': kw['min_lat'],\n",
    "    'latitude<=': kw['max_lat'],\n",
    "    'time>=': kw['min_time'],\n",
    "    'time<=': kw['max_time'],\n",
    "}\n",
    "\n",
    "variables =  e.get_var_by_attr(dataset_id=dataset_id, standard_name=lambda v: v is not 'NC_GLOBAL')\n",
    "while 'NC_GLOBAL' in variables: variables.remove('NC_GLOBAL')\n",
    "    \n",
    "download_url = e.get_download_url(\n",
    "    dataset_id=dataset_id,\n",
    "    protocol='tabledap',\n",
    "    response='csv',\n",
    "    variables=variables,\n",
    ")\n",
    "\n",
    "print(download_url)"
   ]
  },
  {
   "cell_type": "code",
   "execution_count": 5,
   "metadata": {},
   "outputs": [],
   "source": [
    "from requests.exceptions import HTTPError\n",
    "\n",
    "dfs = {}\n",
    "try:\n",
    "    e = ERDDAP(server=server_url,\n",
    "        protocol='tabledap',\n",
    "        response='csv'\n",
    "    )\n",
    "    e.constraints=constraints\n",
    "    e.variables=variables\n",
    "    e.dataset_id=dataset_id\n",
    "except HTTPError:\n",
    "    print('Failed to generate url {}'.format(dataset_id))\n",
    "\n",
    "try:\n",
    "    dfs.update({dataset_id: e.to_pandas(\n",
    "                        index_col='time',\n",
    "                        parse_dates=True,\n",
    "                        skiprows=(1,)  # units information can be dropped.\n",
    "                        )})\n",
    "except:\n",
    "    pass"
   ]
  },
  {
   "cell_type": "code",
   "execution_count": 9,
   "metadata": {},
   "outputs": [],
   "source": [
    "%matplotlib inline\n",
    "import matplotlib.pyplot as plt\n",
    "import matplotlib.dates as mdates\n",
    "import cmocean\n",
    "\n",
    "for dfn, df in dfs.items():\n",
    "    fig, ax = plt.subplots(figsize=(17, 2))\n",
    "    cs = ax.scatter(df.index, df['depth'], s=15, c=df['ocean_temperature_1'], marker='o', edgecolor='none', vmin=-2, vmax=10, cmap=cmocean.cm.thermal)\n",
    "\n",
    "    ax.invert_yaxis()\n",
    "    ax.set_xlim(df.index[0], df.index[-1])\n",
    "    xfmt = mdates.DateFormatter('%d-%b')\n",
    "    ax.xaxis.set_major_formatter(xfmt)\n",
    "\n",
    "    cbar = fig.colorbar(cs, orientation='vertical', extend='both')\n",
    "    cbar.ax.set_ylabel('Temperature ($^\\circ$C)')\n",
    "    ax.set_ylabel('Depth (m)')\n",
    "    ax.set_xlabel(dfn)\n",
    "    \n",
    "    #fig.savefig(dfn+'.png',dpi=300)"
   ]
  },
  {
   "cell_type": "code",
   "execution_count": 10,
   "metadata": {},
   "outputs": [],
   "source": [
    "for dfn, df in dfs.items():\n",
    "    fig, ax = plt.subplots(figsize=(17, 2))\n",
    "    cs = ax.scatter(df.index, df['depth'], s=15, c=df['ocean_practical_salinity_1'], marker='o', edgecolor='none', vmin=31, vmax=33, cmap=cmocean.cm.haline)\n",
    "\n",
    "    ax.invert_yaxis()\n",
    "    ax.set_xlim(df.index[0], df.index[-1])\n",
    "    xfmt = mdates.DateFormatter('%d-%b')\n",
    "    ax.xaxis.set_major_formatter(xfmt)\n",
    "\n",
    "    cbar = fig.colorbar(cs, orientation='vertical', extend='both')\n",
    "    cbar.ax.set_ylabel('Salinity (PSU)')\n",
    "    ax.set_ylabel('Depth (m)')\n",
    "    ax.set_xlabel(dfn)\n",
    "    \n",
    "    #fig.savefig(dfn+'.png',dpi=300)"
   ]
  },
  {
   "cell_type": "code",
   "execution_count": 11,
   "metadata": {},
   "outputs": [],
   "source": [
    "for dfn, df in dfs.items():\n",
    "    fig, ax = plt.subplots(figsize=(17, 2))\n",
    "    cs = ax.scatter(df.index, df['depth'], s=15, c=df['ocean_chlorophyll_a_concentration_factoryCal'], marker='o', edgecolor='none', vmin=0, vmax=15, cmap=cmocean.cm.algae)\n",
    "\n",
    "    ax.invert_yaxis()\n",
    "    ax.set_xlim(df.index[0], df.index[-1])\n",
    "    xfmt = mdates.DateFormatter('%d-%b')\n",
    "    ax.xaxis.set_major_formatter(xfmt)\n",
    "\n",
    "    cbar = fig.colorbar(cs, orientation='vertical', extend='both')\n",
    "    cbar.ax.set_ylabel('Salinity (PSU)')\n",
    "    ax.set_ylabel('Depth (m)')\n",
    "    ax.set_xlabel(dfn)\n",
    "    \n",
    "    #fig.savefig(dfn+'.png',dpi=300)"
   ]
  },
  {
   "cell_type": "code",
   "execution_count": null,
   "metadata": {},
   "outputs": [],
   "source": []
  }
 ],
 "metadata": {
  "kernelspec": {
   "display_name": "Python 3",
   "language": "python",
   "name": "python3"
  },
  "language_info": {
   "codemirror_mode": {
    "name": "ipython",
    "version": 3
   },
   "file_extension": ".py",
   "mimetype": "text/x-python",
   "name": "python",
   "nbconvert_exporter": "python",
   "pygments_lexer": "ipython3",
   "version": "3.7.6"
  }
 },
 "nbformat": 4,
 "nbformat_minor": 4
}
