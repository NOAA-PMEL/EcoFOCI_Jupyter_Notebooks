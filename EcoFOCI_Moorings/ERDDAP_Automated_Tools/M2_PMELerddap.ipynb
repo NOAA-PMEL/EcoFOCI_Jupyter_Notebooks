{
 "cells": [
  {
   "cell_type": "markdown",
   "metadata": {},
   "source": [
    "## PMEL ERDDAP M2 Data Visualization\n",
    "\n",
    "__pyversion__==3.6   \n",
    "__author__==S.Bell"
   ]
  },
  {
   "cell_type": "code",
   "execution_count": 1,
   "metadata": {},
   "outputs": [
    {
     "name": "stdout",
     "output_type": "stream",
     "text": [
      "Last run 2020-07-14 14:50:50.027552\n"
     ]
    }
   ],
   "source": [
    "import datetime\n",
    "print(\"Last run {0}\".format(datetime.datetime.now()))"
   ]
  },
  {
   "cell_type": "code",
   "execution_count": 11,
   "metadata": {
    "extensions": {
     "jupyter_dashboards": {
      "version": 1,
      "views": {
       "grid_default": {
        "col": 0,
        "height": 4,
        "hidden": false,
        "row": 0,
        "width": 4
       },
       "report_default": {
        "hidden": false
       }
      }
     }
    }
   },
   "outputs": [
    {
     "name": "stdout",
     "output_type": "stream",
     "text": [
      "['EcoFOCI_Bering_Sea_timeseries_data' 'ChukchiSea_454a_037a_fcf4'\n",
      " 'arcticRescueData_e5bf_cef8_3f72' 'Shelikof_line8_3695_0ada_d066'\n",
      " 'dy1104_profile_data' 'dy1408_profile_data' 'mf0904_profile_data']\n"
     ]
    }
   ],
   "source": [
    "from erddapy import ERDDAP\n",
    "import pandas as pd\n",
    "import numpy as np\n",
    "\n",
    "%matplotlib inline\n",
    "\n",
    "#server_url='http://downdraft.pmel.noaa.gov:8080/erddap'\n",
    "server_url='http://ferret.pmel.noaa.gov/pmel/erddap'\n",
    "e = ERDDAP(server=server_url)\n",
    "\n",
    "df = pd.read_csv(e.get_search_url(response='csv', search_for='EcoFOCI'))\n",
    "print(df['Dataset ID'].values)"
   ]
  },
  {
   "cell_type": "code",
   "execution_count": 3,
   "metadata": {},
   "outputs": [],
   "source": [
    "dataset_id = 'EcoFOCI_Bering_Sea_timeseries_data'"
   ]
  },
  {
   "cell_type": "markdown",
   "metadata": {},
   "source": [
    "### retrieving and plotting data"
   ]
  },
  {
   "cell_type": "code",
   "execution_count": 4,
   "metadata": {},
   "outputs": [
    {
     "name": "stdout",
     "output_type": "stream",
     "text": [
      "http://ferret.pmel.noaa.gov/pmel/erddap/tabledap/EcoFOCI_Bering_Sea_timeseries_data.csv?longitude,ocean_velocity_u_eastward_true_north,ocean_current_speed_component,ocean_chlorophyll_fluorescence_raw,time,ocean_practical_salinity_1,depth,ocean_chlorophyll_a_concentration_factoryCal,ocean_oxygen_saturation_1,ocean_velocity_v_northward_true_north,id,ocean_conductivity_1,latitude,lon360,photosynthetically_active_radiation_raw,ocean_current_direction_component_true_north,ocean_dissolved_oxygen_concentration_1_mMperkg,photosynthetically_active_radiation,ocean_chlorophyll_fluorescence_raw_standard_deviation,ocean_depth,ocean_temperature_1,ocean_turbidity_FNU\n"
     ]
    }
   ],
   "source": [
    "kw = {\n",
    "    'standard_name': 'sea_water_temperature',\n",
    "    'min_lon': -180.0,\n",
    "    'max_lon': -130.0,\n",
    "    'min_lat': 55.0,\n",
    "    'max_lat': 90.0,\n",
    "    'min_time': '2010-01-10T00:00:00Z',\n",
    "    'max_time': '2019-01-10T00:00:00Z',\n",
    "}\n",
    "\n",
    "constraints = {\n",
    "    'longitude>=': kw['min_lon'],\n",
    "    'longitude<=': kw['max_lon'],\n",
    "    'latitude>=': kw['min_lat'],\n",
    "    'latitude<=': kw['max_lat'],\n",
    "    'time>=': kw['min_time'],\n",
    "    'time<=': kw['max_time'],\n",
    "}\n",
    "\n",
    "variables =  e.get_var_by_attr(dataset_id=dataset_id, standard_name=lambda v: v is not 'NC_GLOBAL')\n",
    "while 'NC_GLOBAL' in variables: variables.remove('NC_GLOBAL')\n",
    "    \n",
    "download_url = e.get_download_url(\n",
    "    dataset_id=dataset_id,\n",
    "    protocol='tabledap',\n",
    "    response='csv',\n",
    "    variables=variables,\n",
    ")\n",
    "\n",
    "print(download_url)"
   ]
  },
  {
   "cell_type": "code",
   "execution_count": 26,
   "metadata": {},
   "outputs": [],
   "source": [
    "from requests.exceptions import HTTPError\n",
    "\n",
    "dfs = {}\n",
    "try:\n",
    "    e = ERDDAP(server=server_url,\n",
    "        protocol='tabledap',\n",
    "        response='csv'\n",
    "    )\n",
    "    e.variables=variables\n",
    "    e.dataset_id=dataset_id\n",
    "except HTTPError:\n",
    "    print('Failed to generate url {}'.format(dataset_id))\n",
    "\n",
    "try:\n",
    "    df_m = e.to_pandas(\n",
    "                        index_col='time (UTC)',\n",
    "                        parse_dates=True,\n",
    "                        skiprows=(1,)  # units information can be dropped.\n",
    "                        )\n",
    "    df_m.columns = [x[1].split()[0] for x in enumerate(df_m.columns)]\n",
    "    dfs.update({dataset_id: df_m})\n",
    "except:\n",
    "    pass"
   ]
  },
  {
   "cell_type": "code",
   "execution_count": 27,
   "metadata": {},
   "outputs": [
    {
     "data": {
      "text/plain": [
       "{'EcoFOCI_Bering_Sea_timeseries_data':                            longitude  ocean_velocity_u_eastward_true_north  \\\n",
       " time (UTC)                                                                   \n",
       " 2010-10-05 04:00:00+00:00  -164.0622                             15.308270   \n",
       " 2010-10-05 05:00:00+00:00  -164.0622                              7.269220   \n",
       " 2010-10-05 06:00:00+00:00  -164.0622                             -5.364515   \n",
       " 2010-10-05 07:00:00+00:00  -164.0622                            -12.402630   \n",
       " 2010-10-05 08:00:00+00:00  -164.0622                            -15.250890   \n",
       " ...                              ...                                   ...   \n",
       " 2017-04-16 07:00:00+00:00  -164.0510                             17.813100   \n",
       " 2017-04-16 08:00:00+00:00  -164.0510                             16.771500   \n",
       " 2017-04-16 09:00:00+00:00  -164.0510                             16.068900   \n",
       " 2017-04-16 10:00:00+00:00  -164.0510                             11.752300   \n",
       " 2017-04-16 11:00:00+00:00  -164.0510                              2.877380   \n",
       " \n",
       "                            ocean_current_speed_component  \\\n",
       " time (UTC)                                                 \n",
       " 2010-10-05 04:00:00+00:00                      18.131199   \n",
       " 2010-10-05 05:00:00+00:00                      14.165004   \n",
       " 2010-10-05 06:00:00+00:00                      16.148098   \n",
       " 2010-10-05 07:00:00+00:00                      18.697800   \n",
       " 2010-10-05 08:00:00+00:00                      17.281305   \n",
       " ...                                                  ...   \n",
       " 2017-04-16 07:00:00+00:00                      18.201300   \n",
       " 2017-04-16 08:00:00+00:00                      20.880100   \n",
       " 2017-04-16 09:00:00+00:00                      26.843300   \n",
       " 2017-04-16 10:00:00+00:00                      26.335900   \n",
       " 2017-04-16 11:00:00+00:00                      22.661800   \n",
       " \n",
       "                            ocean_chlorophyll_fluorescence_raw  \\\n",
       " time (UTC)                                                      \n",
       " 2010-10-05 04:00:00+00:00                                 NaN   \n",
       " 2010-10-05 05:00:00+00:00                                 NaN   \n",
       " 2010-10-05 06:00:00+00:00                                 NaN   \n",
       " 2010-10-05 07:00:00+00:00                                 NaN   \n",
       " 2010-10-05 08:00:00+00:00                                 NaN   \n",
       " ...                                                       ...   \n",
       " 2017-04-16 07:00:00+00:00                                 NaN   \n",
       " 2017-04-16 08:00:00+00:00                                 NaN   \n",
       " 2017-04-16 09:00:00+00:00                                 NaN   \n",
       " 2017-04-16 10:00:00+00:00                                 NaN   \n",
       " 2017-04-16 11:00:00+00:00                                 NaN   \n",
       " \n",
       "                            ocean_practical_salinity_1  depth  \\\n",
       " time (UTC)                                                     \n",
       " 2010-10-05 04:00:00+00:00                         NaN   13.0   \n",
       " 2010-10-05 05:00:00+00:00                         NaN   13.0   \n",
       " 2010-10-05 06:00:00+00:00                         NaN   13.0   \n",
       " 2010-10-05 07:00:00+00:00                         NaN   13.0   \n",
       " 2010-10-05 08:00:00+00:00                         NaN   13.0   \n",
       " ...                                               ...    ...   \n",
       " 2017-04-16 07:00:00+00:00                     31.6015   69.0   \n",
       " 2017-04-16 08:00:00+00:00                     31.6060   69.0   \n",
       " 2017-04-16 09:00:00+00:00                     31.5768   69.0   \n",
       " 2017-04-16 10:00:00+00:00                     31.5783   69.0   \n",
       " 2017-04-16 11:00:00+00:00                     31.5734   69.0   \n",
       " \n",
       "                            ocean_chlorophyll_a_concentration_factoryCal  \\\n",
       " time (UTC)                                                                \n",
       " 2010-10-05 04:00:00+00:00                                           NaN   \n",
       " 2010-10-05 05:00:00+00:00                                           NaN   \n",
       " 2010-10-05 06:00:00+00:00                                           NaN   \n",
       " 2010-10-05 07:00:00+00:00                                           NaN   \n",
       " 2010-10-05 08:00:00+00:00                                           NaN   \n",
       " ...                                                                 ...   \n",
       " 2017-04-16 07:00:00+00:00                                           NaN   \n",
       " 2017-04-16 08:00:00+00:00                                           NaN   \n",
       " 2017-04-16 09:00:00+00:00                                           NaN   \n",
       " 2017-04-16 10:00:00+00:00                                           NaN   \n",
       " 2017-04-16 11:00:00+00:00                                           NaN   \n",
       " \n",
       "                            ocean_oxygen_saturation_1  \\\n",
       " time (UTC)                                             \n",
       " 2010-10-05 04:00:00+00:00                        NaN   \n",
       " 2010-10-05 05:00:00+00:00                        NaN   \n",
       " 2010-10-05 06:00:00+00:00                        NaN   \n",
       " 2010-10-05 07:00:00+00:00                        NaN   \n",
       " 2010-10-05 08:00:00+00:00                        NaN   \n",
       " ...                                              ...   \n",
       " 2017-04-16 07:00:00+00:00                    115.864   \n",
       " 2017-04-16 08:00:00+00:00                    118.444   \n",
       " 2017-04-16 09:00:00+00:00                    118.546   \n",
       " 2017-04-16 10:00:00+00:00                    117.694   \n",
       " 2017-04-16 11:00:00+00:00                    117.591   \n",
       " \n",
       "                            ocean_velocity_v_northward_true_north  \\\n",
       " time (UTC)                                                         \n",
       " 2010-10-05 04:00:00+00:00                              -9.715824   \n",
       " 2010-10-05 05:00:00+00:00                             -12.157540   \n",
       " 2010-10-05 06:00:00+00:00                             -15.230990   \n",
       " 2010-10-05 07:00:00+00:00                             -13.992230   \n",
       " 2010-10-05 08:00:00+00:00                              -8.127352   \n",
       " ...                                                          ...   \n",
       " 2017-04-16 07:00:00+00:00                               3.739160   \n",
       " 2017-04-16 08:00:00+00:00                              12.437700   \n",
       " 2017-04-16 09:00:00+00:00                              21.502400   \n",
       " 2017-04-16 10:00:00+00:00                              23.568200   \n",
       " 2017-04-16 11:00:00+00:00                              22.478400   \n",
       " \n",
       "                                          id  ...  latitude    lon360  \\\n",
       " time (UTC)                                   ...                       \n",
       " 2010-10-05 04:00:00+00:00  10bs2c_an9_0013m  ...   56.8641  195.9378   \n",
       " 2010-10-05 05:00:00+00:00  10bs2c_an9_0013m  ...   56.8641  195.9378   \n",
       " 2010-10-05 06:00:00+00:00  10bs2c_an9_0013m  ...   56.8641  195.9378   \n",
       " 2010-10-05 07:00:00+00:00  10bs2c_an9_0013m  ...   56.8641  195.9378   \n",
       " 2010-10-05 08:00:00+00:00  10bs2c_an9_0013m  ...   56.8641  195.9378   \n",
       " ...                                     ...  ...       ...       ...   \n",
       " 2017-04-16 07:00:00+00:00   16bs2c_sg_0013m  ...   56.8747  195.9490   \n",
       " 2017-04-16 08:00:00+00:00   16bs2c_sg_0013m  ...   56.8747  195.9490   \n",
       " 2017-04-16 09:00:00+00:00   16bs2c_sg_0013m  ...   56.8747  195.9490   \n",
       " 2017-04-16 10:00:00+00:00   16bs2c_sg_0013m  ...   56.8747  195.9490   \n",
       " 2017-04-16 11:00:00+00:00   16bs2c_sg_0013m  ...   56.8747  195.9490   \n",
       " \n",
       "                            photosynthetically_active_radiation_raw  \\\n",
       " time (UTC)                                                           \n",
       " 2010-10-05 04:00:00+00:00                                      NaN   \n",
       " 2010-10-05 05:00:00+00:00                                      NaN   \n",
       " 2010-10-05 06:00:00+00:00                                      NaN   \n",
       " 2010-10-05 07:00:00+00:00                                      NaN   \n",
       " 2010-10-05 08:00:00+00:00                                      NaN   \n",
       " ...                                                            ...   \n",
       " 2017-04-16 07:00:00+00:00                                      NaN   \n",
       " 2017-04-16 08:00:00+00:00                                      NaN   \n",
       " 2017-04-16 09:00:00+00:00                                      NaN   \n",
       " 2017-04-16 10:00:00+00:00                                      NaN   \n",
       " 2017-04-16 11:00:00+00:00                                      NaN   \n",
       " \n",
       "                            ocean_current_direction_component_true_north  \\\n",
       " time (UTC)                                                                \n",
       " 2010-10-05 04:00:00+00:00                                    122.402405   \n",
       " 2010-10-05 05:00:00+00:00                                    149.124020   \n",
       " 2010-10-05 06:00:00+00:00                                    199.402830   \n",
       " 2010-10-05 07:00:00+00:00                                    221.553590   \n",
       " 2010-10-05 08:00:00+00:00                                    241.946410   \n",
       " ...                                                                 ...   \n",
       " 2017-04-16 07:00:00+00:00                                     78.145100   \n",
       " 2017-04-16 08:00:00+00:00                                     53.439500   \n",
       " 2017-04-16 09:00:00+00:00                                     36.771100   \n",
       " 2017-04-16 10:00:00+00:00                                     26.503200   \n",
       " 2017-04-16 11:00:00+00:00                                      7.294550   \n",
       " \n",
       "                            ocean_dissolved_oxygen_concentration_1_mMperkg  \\\n",
       " time (UTC)                                                                  \n",
       " 2010-10-05 04:00:00+00:00                                             NaN   \n",
       " 2010-10-05 05:00:00+00:00                                             NaN   \n",
       " 2010-10-05 06:00:00+00:00                                             NaN   \n",
       " 2010-10-05 07:00:00+00:00                                             NaN   \n",
       " 2010-10-05 08:00:00+00:00                                             NaN   \n",
       " ...                                                                   ...   \n",
       " 2017-04-16 07:00:00+00:00                                         414.328   \n",
       " 2017-04-16 08:00:00+00:00                                         422.815   \n",
       " 2017-04-16 09:00:00+00:00                                         423.097   \n",
       " 2017-04-16 10:00:00+00:00                                         420.297   \n",
       " 2017-04-16 11:00:00+00:00                                         419.843   \n",
       " \n",
       "                            photosynthetically_active_radiation  \\\n",
       " time (UTC)                                                       \n",
       " 2010-10-05 04:00:00+00:00                                  NaN   \n",
       " 2010-10-05 05:00:00+00:00                                  NaN   \n",
       " 2010-10-05 06:00:00+00:00                                  NaN   \n",
       " 2010-10-05 07:00:00+00:00                                  NaN   \n",
       " 2010-10-05 08:00:00+00:00                                  NaN   \n",
       " ...                                                        ...   \n",
       " 2017-04-16 07:00:00+00:00                                  NaN   \n",
       " 2017-04-16 08:00:00+00:00                                  NaN   \n",
       " 2017-04-16 09:00:00+00:00                                  NaN   \n",
       " 2017-04-16 10:00:00+00:00                                  NaN   \n",
       " 2017-04-16 11:00:00+00:00                                  NaN   \n",
       " \n",
       "                            ocean_chlorophyll_fluorescence_raw_standard_deviation  \\\n",
       " time (UTC)                                                                         \n",
       " 2010-10-05 04:00:00+00:00                                                NaN       \n",
       " 2010-10-05 05:00:00+00:00                                                NaN       \n",
       " 2010-10-05 06:00:00+00:00                                                NaN       \n",
       " 2010-10-05 07:00:00+00:00                                                NaN       \n",
       " 2010-10-05 08:00:00+00:00                                                NaN       \n",
       " ...                                                                      ...       \n",
       " 2017-04-16 07:00:00+00:00                                                NaN       \n",
       " 2017-04-16 08:00:00+00:00                                                NaN       \n",
       " 2017-04-16 09:00:00+00:00                                                NaN       \n",
       " 2017-04-16 10:00:00+00:00                                                NaN       \n",
       " 2017-04-16 11:00:00+00:00                                                NaN       \n",
       " \n",
       "                            ocean_depth  ocean_temperature_1  \\\n",
       " time (UTC)                                                    \n",
       " 2010-10-05 04:00:00+00:00     20.42916             5.619924   \n",
       " 2010-10-05 05:00:00+00:00     20.21820             5.619924   \n",
       " 2010-10-05 06:00:00+00:00     19.86664             5.619924   \n",
       " 2010-10-05 07:00:00+00:00     19.86664             5.619924   \n",
       " 2010-10-05 08:00:00+00:00     19.72604             5.596745   \n",
       " ...                                ...                  ...   \n",
       " 2017-04-16 07:00:00+00:00          NaN            -0.979000   \n",
       " 2017-04-16 08:00:00+00:00          NaN            -0.915000   \n",
       " 2017-04-16 09:00:00+00:00          NaN            -0.898000   \n",
       " 2017-04-16 10:00:00+00:00          NaN            -0.920000   \n",
       " 2017-04-16 11:00:00+00:00          NaN            -0.911000   \n",
       " \n",
       "                            ocean_turbidity_FNU  \n",
       " time (UTC)                                      \n",
       " 2010-10-05 04:00:00+00:00                  NaN  \n",
       " 2010-10-05 05:00:00+00:00                  NaN  \n",
       " 2010-10-05 06:00:00+00:00                  NaN  \n",
       " 2010-10-05 07:00:00+00:00                  NaN  \n",
       " 2010-10-05 08:00:00+00:00                  NaN  \n",
       " ...                                        ...  \n",
       " 2017-04-16 07:00:00+00:00                  NaN  \n",
       " 2017-04-16 08:00:00+00:00                  NaN  \n",
       " 2017-04-16 09:00:00+00:00                  NaN  \n",
       " 2017-04-16 10:00:00+00:00                  NaN  \n",
       " 2017-04-16 11:00:00+00:00                  NaN  \n",
       " \n",
       " [1956198 rows x 21 columns]}"
      ]
     },
     "execution_count": 27,
     "metadata": {},
     "output_type": "execute_result"
    }
   ],
   "source": [
    "dfs"
   ]
  },
  {
   "cell_type": "code",
   "execution_count": 24,
   "metadata": {},
   "outputs": [
    {
     "ename": "KeyError",
     "evalue": "'depth'",
     "output_type": "error",
     "traceback": [
      "\u001b[0;31m---------------------------------------------------------------------------\u001b[0m",
      "\u001b[0;31mKeyError\u001b[0m                                  Traceback (most recent call last)",
      "\u001b[0;32m~/anaconda2/envs/py37/lib/python3.7/site-packages/pandas/core/indexes/base.py\u001b[0m in \u001b[0;36mget_loc\u001b[0;34m(self, key, method, tolerance)\u001b[0m\n\u001b[1;32m   2645\u001b[0m             \u001b[0;32mtry\u001b[0m\u001b[0;34m:\u001b[0m\u001b[0;34m\u001b[0m\u001b[0;34m\u001b[0m\u001b[0m\n\u001b[0;32m-> 2646\u001b[0;31m                 \u001b[0;32mreturn\u001b[0m \u001b[0mself\u001b[0m\u001b[0;34m.\u001b[0m\u001b[0m_engine\u001b[0m\u001b[0;34m.\u001b[0m\u001b[0mget_loc\u001b[0m\u001b[0;34m(\u001b[0m\u001b[0mkey\u001b[0m\u001b[0;34m)\u001b[0m\u001b[0;34m\u001b[0m\u001b[0;34m\u001b[0m\u001b[0m\n\u001b[0m\u001b[1;32m   2647\u001b[0m             \u001b[0;32mexcept\u001b[0m \u001b[0mKeyError\u001b[0m\u001b[0;34m:\u001b[0m\u001b[0;34m\u001b[0m\u001b[0;34m\u001b[0m\u001b[0m\n",
      "\u001b[0;32mpandas/_libs/index.pyx\u001b[0m in \u001b[0;36mpandas._libs.index.IndexEngine.get_loc\u001b[0;34m()\u001b[0m\n",
      "\u001b[0;32mpandas/_libs/index.pyx\u001b[0m in \u001b[0;36mpandas._libs.index.IndexEngine.get_loc\u001b[0;34m()\u001b[0m\n",
      "\u001b[0;32mpandas/_libs/hashtable_class_helper.pxi\u001b[0m in \u001b[0;36mpandas._libs.hashtable.PyObjectHashTable.get_item\u001b[0;34m()\u001b[0m\n",
      "\u001b[0;32mpandas/_libs/hashtable_class_helper.pxi\u001b[0m in \u001b[0;36mpandas._libs.hashtable.PyObjectHashTable.get_item\u001b[0;34m()\u001b[0m\n",
      "\u001b[0;31mKeyError\u001b[0m: 'depth'",
      "\nDuring handling of the above exception, another exception occurred:\n",
      "\u001b[0;31mKeyError\u001b[0m                                  Traceback (most recent call last)",
      "\u001b[0;32m<ipython-input-24-2429f6816640>\u001b[0m in \u001b[0;36m<module>\u001b[0;34m\u001b[0m\n\u001b[1;32m      6\u001b[0m \u001b[0;32mfor\u001b[0m \u001b[0mdfn\u001b[0m\u001b[0;34m,\u001b[0m \u001b[0mdf\u001b[0m \u001b[0;32min\u001b[0m \u001b[0mdfs\u001b[0m\u001b[0;34m.\u001b[0m\u001b[0mitems\u001b[0m\u001b[0;34m(\u001b[0m\u001b[0;34m)\u001b[0m\u001b[0;34m:\u001b[0m\u001b[0;34m\u001b[0m\u001b[0;34m\u001b[0m\u001b[0m\n\u001b[1;32m      7\u001b[0m     \u001b[0mfig\u001b[0m\u001b[0;34m,\u001b[0m \u001b[0max\u001b[0m \u001b[0;34m=\u001b[0m \u001b[0mplt\u001b[0m\u001b[0;34m.\u001b[0m\u001b[0msubplots\u001b[0m\u001b[0;34m(\u001b[0m\u001b[0mfigsize\u001b[0m\u001b[0;34m=\u001b[0m\u001b[0;34m(\u001b[0m\u001b[0;36m17\u001b[0m\u001b[0;34m,\u001b[0m \u001b[0;36m2\u001b[0m\u001b[0;34m)\u001b[0m\u001b[0;34m)\u001b[0m\u001b[0;34m\u001b[0m\u001b[0;34m\u001b[0m\u001b[0m\n\u001b[0;32m----> 8\u001b[0;31m     \u001b[0mcs\u001b[0m \u001b[0;34m=\u001b[0m \u001b[0max\u001b[0m\u001b[0;34m.\u001b[0m\u001b[0mscatter\u001b[0m\u001b[0;34m(\u001b[0m\u001b[0mdf\u001b[0m\u001b[0;34m.\u001b[0m\u001b[0mindex\u001b[0m\u001b[0;34m,\u001b[0m \u001b[0mdf\u001b[0m\u001b[0;34m[\u001b[0m\u001b[0;34m'depth'\u001b[0m\u001b[0;34m]\u001b[0m\u001b[0;34m,\u001b[0m \u001b[0ms\u001b[0m\u001b[0;34m=\u001b[0m\u001b[0;36m15\u001b[0m\u001b[0;34m,\u001b[0m \u001b[0mc\u001b[0m\u001b[0;34m=\u001b[0m\u001b[0mdf\u001b[0m\u001b[0;34m[\u001b[0m\u001b[0;34m'ocean_temperature_1'\u001b[0m\u001b[0;34m]\u001b[0m\u001b[0;34m,\u001b[0m \u001b[0mmarker\u001b[0m\u001b[0;34m=\u001b[0m\u001b[0;34m'o'\u001b[0m\u001b[0;34m,\u001b[0m \u001b[0medgecolor\u001b[0m\u001b[0;34m=\u001b[0m\u001b[0;34m'none'\u001b[0m\u001b[0;34m,\u001b[0m \u001b[0mvmin\u001b[0m\u001b[0;34m=\u001b[0m\u001b[0;34m-\u001b[0m\u001b[0;36m2\u001b[0m\u001b[0;34m,\u001b[0m \u001b[0mvmax\u001b[0m\u001b[0;34m=\u001b[0m\u001b[0;36m10\u001b[0m\u001b[0;34m,\u001b[0m \u001b[0mcmap\u001b[0m\u001b[0;34m=\u001b[0m\u001b[0mcmocean\u001b[0m\u001b[0;34m.\u001b[0m\u001b[0mcm\u001b[0m\u001b[0;34m.\u001b[0m\u001b[0mthermal\u001b[0m\u001b[0;34m)\u001b[0m\u001b[0;34m\u001b[0m\u001b[0;34m\u001b[0m\u001b[0m\n\u001b[0m\u001b[1;32m      9\u001b[0m \u001b[0;34m\u001b[0m\u001b[0m\n\u001b[1;32m     10\u001b[0m     \u001b[0max\u001b[0m\u001b[0;34m.\u001b[0m\u001b[0minvert_yaxis\u001b[0m\u001b[0;34m(\u001b[0m\u001b[0;34m)\u001b[0m\u001b[0;34m\u001b[0m\u001b[0;34m\u001b[0m\u001b[0m\n",
      "\u001b[0;32m~/anaconda2/envs/py37/lib/python3.7/site-packages/pandas/core/frame.py\u001b[0m in \u001b[0;36m__getitem__\u001b[0;34m(self, key)\u001b[0m\n\u001b[1;32m   2798\u001b[0m             \u001b[0;32mif\u001b[0m \u001b[0mself\u001b[0m\u001b[0;34m.\u001b[0m\u001b[0mcolumns\u001b[0m\u001b[0;34m.\u001b[0m\u001b[0mnlevels\u001b[0m \u001b[0;34m>\u001b[0m \u001b[0;36m1\u001b[0m\u001b[0;34m:\u001b[0m\u001b[0;34m\u001b[0m\u001b[0;34m\u001b[0m\u001b[0m\n\u001b[1;32m   2799\u001b[0m                 \u001b[0;32mreturn\u001b[0m \u001b[0mself\u001b[0m\u001b[0;34m.\u001b[0m\u001b[0m_getitem_multilevel\u001b[0m\u001b[0;34m(\u001b[0m\u001b[0mkey\u001b[0m\u001b[0;34m)\u001b[0m\u001b[0;34m\u001b[0m\u001b[0;34m\u001b[0m\u001b[0m\n\u001b[0;32m-> 2800\u001b[0;31m             \u001b[0mindexer\u001b[0m \u001b[0;34m=\u001b[0m \u001b[0mself\u001b[0m\u001b[0;34m.\u001b[0m\u001b[0mcolumns\u001b[0m\u001b[0;34m.\u001b[0m\u001b[0mget_loc\u001b[0m\u001b[0;34m(\u001b[0m\u001b[0mkey\u001b[0m\u001b[0;34m)\u001b[0m\u001b[0;34m\u001b[0m\u001b[0;34m\u001b[0m\u001b[0m\n\u001b[0m\u001b[1;32m   2801\u001b[0m             \u001b[0;32mif\u001b[0m \u001b[0mis_integer\u001b[0m\u001b[0;34m(\u001b[0m\u001b[0mindexer\u001b[0m\u001b[0;34m)\u001b[0m\u001b[0;34m:\u001b[0m\u001b[0;34m\u001b[0m\u001b[0;34m\u001b[0m\u001b[0m\n\u001b[1;32m   2802\u001b[0m                 \u001b[0mindexer\u001b[0m \u001b[0;34m=\u001b[0m \u001b[0;34m[\u001b[0m\u001b[0mindexer\u001b[0m\u001b[0;34m]\u001b[0m\u001b[0;34m\u001b[0m\u001b[0;34m\u001b[0m\u001b[0m\n",
      "\u001b[0;32m~/anaconda2/envs/py37/lib/python3.7/site-packages/pandas/core/indexes/base.py\u001b[0m in \u001b[0;36mget_loc\u001b[0;34m(self, key, method, tolerance)\u001b[0m\n\u001b[1;32m   2646\u001b[0m                 \u001b[0;32mreturn\u001b[0m \u001b[0mself\u001b[0m\u001b[0;34m.\u001b[0m\u001b[0m_engine\u001b[0m\u001b[0;34m.\u001b[0m\u001b[0mget_loc\u001b[0m\u001b[0;34m(\u001b[0m\u001b[0mkey\u001b[0m\u001b[0;34m)\u001b[0m\u001b[0;34m\u001b[0m\u001b[0;34m\u001b[0m\u001b[0m\n\u001b[1;32m   2647\u001b[0m             \u001b[0;32mexcept\u001b[0m \u001b[0mKeyError\u001b[0m\u001b[0;34m:\u001b[0m\u001b[0;34m\u001b[0m\u001b[0;34m\u001b[0m\u001b[0m\n\u001b[0;32m-> 2648\u001b[0;31m                 \u001b[0;32mreturn\u001b[0m \u001b[0mself\u001b[0m\u001b[0;34m.\u001b[0m\u001b[0m_engine\u001b[0m\u001b[0;34m.\u001b[0m\u001b[0mget_loc\u001b[0m\u001b[0;34m(\u001b[0m\u001b[0mself\u001b[0m\u001b[0;34m.\u001b[0m\u001b[0m_maybe_cast_indexer\u001b[0m\u001b[0;34m(\u001b[0m\u001b[0mkey\u001b[0m\u001b[0;34m)\u001b[0m\u001b[0;34m)\u001b[0m\u001b[0;34m\u001b[0m\u001b[0;34m\u001b[0m\u001b[0m\n\u001b[0m\u001b[1;32m   2649\u001b[0m         \u001b[0mindexer\u001b[0m \u001b[0;34m=\u001b[0m \u001b[0mself\u001b[0m\u001b[0;34m.\u001b[0m\u001b[0mget_indexer\u001b[0m\u001b[0;34m(\u001b[0m\u001b[0;34m[\u001b[0m\u001b[0mkey\u001b[0m\u001b[0;34m]\u001b[0m\u001b[0;34m,\u001b[0m \u001b[0mmethod\u001b[0m\u001b[0;34m=\u001b[0m\u001b[0mmethod\u001b[0m\u001b[0;34m,\u001b[0m \u001b[0mtolerance\u001b[0m\u001b[0;34m=\u001b[0m\u001b[0mtolerance\u001b[0m\u001b[0;34m)\u001b[0m\u001b[0;34m\u001b[0m\u001b[0;34m\u001b[0m\u001b[0m\n\u001b[1;32m   2650\u001b[0m         \u001b[0;32mif\u001b[0m \u001b[0mindexer\u001b[0m\u001b[0;34m.\u001b[0m\u001b[0mndim\u001b[0m \u001b[0;34m>\u001b[0m \u001b[0;36m1\u001b[0m \u001b[0;32mor\u001b[0m \u001b[0mindexer\u001b[0m\u001b[0;34m.\u001b[0m\u001b[0msize\u001b[0m \u001b[0;34m>\u001b[0m \u001b[0;36m1\u001b[0m\u001b[0;34m:\u001b[0m\u001b[0;34m\u001b[0m\u001b[0;34m\u001b[0m\u001b[0m\n",
      "\u001b[0;32mpandas/_libs/index.pyx\u001b[0m in \u001b[0;36mpandas._libs.index.IndexEngine.get_loc\u001b[0;34m()\u001b[0m\n",
      "\u001b[0;32mpandas/_libs/index.pyx\u001b[0m in \u001b[0;36mpandas._libs.index.IndexEngine.get_loc\u001b[0;34m()\u001b[0m\n",
      "\u001b[0;32mpandas/_libs/hashtable_class_helper.pxi\u001b[0m in \u001b[0;36mpandas._libs.hashtable.PyObjectHashTable.get_item\u001b[0;34m()\u001b[0m\n",
      "\u001b[0;32mpandas/_libs/hashtable_class_helper.pxi\u001b[0m in \u001b[0;36mpandas._libs.hashtable.PyObjectHashTable.get_item\u001b[0;34m()\u001b[0m\n",
      "\u001b[0;31mKeyError\u001b[0m: 'depth'"
     ]
    },
    {
     "data": {
      "image/png": "[encoded data removed]",
      "text/plain": [
       "<Figure size 1224x144 with 1 Axes>"
      ]
     },
     "metadata": {
      "needs_background": "light"
     },
     "output_type": "display_data"
    }
   ],
   "source": [
    "%matplotlib inline\n",
    "import matplotlib.pyplot as plt\n",
    "import matplotlib.dates as mdates\n",
    "import cmocean\n",
    "\n",
    "for dfn, df in dfs.items():\n",
    "    fig, ax = plt.subplots(figsize=(17, 2))\n",
    "    cs = ax.scatter(df.index, df['depth'], s=15, c=df['ocean_temperature_1'], marker='o', edgecolor='none', vmin=-2, vmax=10, cmap=cmocean.cm.thermal)\n",
    "\n",
    "    ax.invert_yaxis()\n",
    "    ax.set_xlim(df.index[0], df.index[-1])\n",
    "    xfmt = mdates.DateFormatter('%d-%b')\n",
    "    ax.xaxis.set_major_formatter(xfmt)\n",
    "\n",
    "    cbar = fig.colorbar(cs, orientation='vertical', extend='both')\n",
    "    cbar.ax.set_ylabel('Temperature ($^\\circ$C)')\n",
    "    ax.set_ylabel('Depth (m)')\n",
    "    ax.set_xlabel(dfn)\n",
    "    #fig.savefig(dfn+'.png',dpi=300)"
   ]
  },
  {
   "cell_type": "code",
   "execution_count": 7,
   "metadata": {},
   "outputs": [],
   "source": [
    "for dfn, df in dfs.items():\n",
    "    fig, ax = plt.subplots(figsize=(17, 2))\n",
    "    cs = ax.scatter(df.index, df['depth'], s=15, c=df['ocean_practical_salinity_1'], marker='o', edgecolor='none', vmin=31, vmax=33, cmap=cmocean.cm.haline)\n",
    "\n",
    "    ax.invert_yaxis()\n",
    "    ax.set_xlim(df.index[0], df.index[-1])\n",
    "    xfmt = mdates.DateFormatter('%d-%b')\n",
    "    ax.xaxis.set_major_formatter(xfmt)\n",
    "\n",
    "    cbar = fig.colorbar(cs, orientation='vertical', extend='both')\n",
    "    cbar.ax.set_ylabel('Salinity (PSU)')\n",
    "    ax.set_ylabel('Depth (m)')\n",
    "    ax.set_xlabel(dfn)\n",
    "    \n",
    "    #fig.savefig(dfn+'.png',dpi=300)"
   ]
  },
  {
   "cell_type": "code",
   "execution_count": 12,
   "metadata": {},
   "outputs": [],
   "source": [
    "for dfn, df in dfs.items():\n",
    "    fig, ax = plt.subplots(figsize=(17, 2))\n",
    "    cs = ax.scatter(df.index, df['depth'], s=15, c=df['ocean_chlorophyll_a_concentration_factoryCal'], marker='o', edgecolor='none', vmin=0, vmax=15, cmap=cmocean.cm.algae)\n",
    "\n",
    "    ax.invert_yaxis()\n",
    "    ax.set_xlim(df.index[0], df.index[-1])\n",
    "    xfmt = mdates.DateFormatter('%d-%b')\n",
    "    ax.xaxis.set_major_formatter(xfmt)\n",
    "\n",
    "    cbar = fig.colorbar(cs, orientation='vertical', extend='both')\n",
    "    cbar.ax.set_ylabel('Salinity (PSU)')\n",
    "    ax.set_ylabel('Depth (m)')\n",
    "    ax.set_xlabel(dfn)\n",
    "\n",
    "    #fig.savefig(dfn+'.png',dpi=300)"
   ]
  },
  {
   "cell_type": "code",
   "execution_count": null,
   "metadata": {},
   "outputs": [],
   "source": []
  }
 ],
 "metadata": {
  "kernelspec": {
   "display_name": "Python 3",
   "language": "python",
   "name": "python3"
  },
  "language_info": {
   "codemirror_mode": {
    "name": "ipython",
    "version": 3
   },
   "file_extension": ".py",
   "mimetype": "text/x-python",
   "name": "python",
   "nbconvert_exporter": "python",
   "pygments_lexer": "ipython3",
   "version": "3.8.6"
  }
 },
 "nbformat": 4,
 "nbformat_minor": 4
}
