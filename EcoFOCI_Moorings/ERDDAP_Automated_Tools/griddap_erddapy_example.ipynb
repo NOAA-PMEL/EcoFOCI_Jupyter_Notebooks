{
 "cells": [
  {
   "cell_type": "code",
   "execution_count": null,
   "metadata": {},
   "outputs": [],
   "source": [
    "from erddapy import ERDDAP"
   ]
  },
  {
   "cell_type": "code",
   "execution_count": null,
   "metadata": {},
   "outputs": [],
   "source": [
    "server_url = 'https://coastwatch.pfeg.noaa.gov/erddap'\n",
    "\n",
    "datasetID = 'jplAquariusSSSDailyV5'"
   ]
  },
  {
   "cell_type": "code",
   "execution_count": null,
   "metadata": {},
   "outputs": [],
   "source": [
    "e = ERDDAP(server=server_url)\n",
    "\n",
    "e.constraints = None\n",
    "e.protocol = 'griddap'\n",
    "\n",
    "opendap_url = e.get_download_url(\n",
    "    dataset_id=datasetID,\n",
    "    response='opendap',\n",
    ")\n",
    "\n",
    "print(opendap_url)"
   ]
  },
  {
   "cell_type": "code",
   "execution_count": null,
   "metadata": {},
   "outputs": [],
   "source": [
    "from netCDF4 import Dataset\n",
    "\n",
    "with Dataset(opendap_url) as nc:\n",
    "    print(nc.summary)"
   ]
  },
  {
   "cell_type": "code",
   "execution_count": null,
   "metadata": {},
   "outputs": [],
   "source": [
    "e.dataset_id=datasetID\n",
    "e.response = 'nc'\n",
    "ds = e.to_xarray(decode_times=True)"
   ]
  },
  {
   "cell_type": "code",
   "execution_count": null,
   "metadata": {},
   "outputs": [],
   "source": []
  }
 ],
 "metadata": {
  "kernelspec": {
   "display_name": "Python [conda env:py38] *",
   "language": "python",
   "name": "conda-env-py38-py"
  },
  "language_info": {
   "codemirror_mode": {
    "name": "ipython",
    "version": 3
   },
   "file_extension": ".py",
   "mimetype": "text/x-python",
   "name": "python",
   "nbconvert_exporter": "python",
   "pygments_lexer": "ipython3",
   "version": "3.8.5"
  }
 },
 "nbformat": 4,
 "nbformat_minor": 4
}
