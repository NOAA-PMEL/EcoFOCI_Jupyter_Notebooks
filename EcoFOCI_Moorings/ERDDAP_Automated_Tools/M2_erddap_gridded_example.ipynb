{
 "cells": [
  {
   "cell_type": "markdown",
   "metadata": {},
   "source": [
    "# M2 Example using gridded data"
   ]
  },
  {
   "cell_type": "code",
   "execution_count": 113,
   "metadata": {},
   "outputs": [
    {
     "name": "stdout",
     "output_type": "stream",
     "text": [
      "['thermal', 'haline', 'solar', 'ice', 'gray', 'oxy', 'deep', 'dense', 'algae', 'matter', 'turbid', 'speed', 'amp', 'tempo', 'rain', 'phase', 'topo', 'balance', 'delta', 'curl', 'diff', 'tarn']\n"
     ]
    }
   ],
   "source": [
    "from erddapy import ERDDAP\n",
    "import pandas as pd\n",
    "import numpy as np\n",
    "import xarray as xr\n",
    "\n",
    "%matplotlib inline\n",
    "import matplotlib as mpl\n",
    "import matplotlib.pyplot as plt\n",
    "import matplotlib.dates as mdates\n",
    "from matplotlib.dates import YearLocator, WeekdayLocator, MonthLocator, DayLocator, HourLocator, DateFormatter\n",
    "\n",
    "import cmocean\n",
    "print(cmocean.cm.cmapnames)"
   ]
  },
  {
   "cell_type": "code",
   "execution_count": 119,
   "metadata": {},
   "outputs": [
    {
     "name": "stdout",
     "output_type": "stream",
     "text": [
      "http://downdraft.pmel.noaa.gov:8080/erddap/griddap/1hr_gridded_datasets_Mooring_19bsm2a_final\n"
     ]
    }
   ],
   "source": [
    "server_url='http://downdraft.pmel.noaa.gov:8080/erddap'\n",
    "dataset = '1hr_gridded_datasets_Mooring_19bsm2a_final'\n",
    "\n",
    "e = ERDDAP(server=server_url)\n",
    "\n",
    "e.constraints = None\n",
    "e.protocol = 'griddap'\n",
    "\n",
    "opendap_url = e.get_download_url(\n",
    "    dataset_id=dataset,\n",
    "    response='opendap',\n",
    ")\n",
    "\n",
    "print(opendap_url)"
   ]
  },
  {
   "cell_type": "code",
   "execution_count": 120,
   "metadata": {},
   "outputs": [
    {
     "name": "stdout",
     "output_type": "stream",
     "text": [
      "QC'd (final) mooring data from 19BSM2A.  This dataset has been gridded to 1hr resolution (with pressure left at discrete depths).  It uses only datasets from the associated erddap tabular datasets_Mooring_19bsm2a_final\n"
     ]
    }
   ],
   "source": [
    "from netCDF4 import Dataset\n",
    "\n",
    "with Dataset(opendap_url) as nc:\n",
    "    print(nc.summary)"
   ]
  },
  {
   "cell_type": "code",
   "execution_count": 121,
   "metadata": {},
   "outputs": [
    {
     "name": "stderr",
     "output_type": "stream",
     "text": [
      "/Users/bell/anaconda2/envs/py37/lib/python3.7/site-packages/xarray/conventions.py:494: SerializationWarning: variable 'temperature' has multiple fill values {1e+35, -9999.0}, decoding all values to NaN.\n",
      "  use_cftime=use_cftime,\n",
      "/Users/bell/anaconda2/envs/py37/lib/python3.7/site-packages/xarray/conventions.py:494: SerializationWarning: variable 'pressure' has multiple fill values {1e+35, -9999.0}, decoding all values to NaN.\n",
      "  use_cftime=use_cftime,\n",
      "/Users/bell/anaconda2/envs/py37/lib/python3.7/site-packages/xarray/conventions.py:494: SerializationWarning: variable 'salinity' has multiple fill values {1e+35, -9999.0}, decoding all values to NaN.\n",
      "  use_cftime=use_cftime,\n",
      "/Users/bell/anaconda2/envs/py37/lib/python3.7/site-packages/xarray/conventions.py:494: SerializationWarning: variable 'PAR' has multiple fill values {1e+35, -9999.0}, decoding all values to NaN.\n",
      "  use_cftime=use_cftime,\n",
      "/Users/bell/anaconda2/envs/py37/lib/python3.7/site-packages/xarray/conventions.py:494: SerializationWarning: variable 'Chlorophyll_Fluorescence' has multiple fill values {1e+35, -9999.0}, decoding all values to NaN.\n",
      "  use_cftime=use_cftime,\n",
      "/Users/bell/anaconda2/envs/py37/lib/python3.7/site-packages/xarray/conventions.py:494: SerializationWarning: variable 'Oxygen_Saturation' has multiple fill values {1e+35, -9999.0}, decoding all values to NaN.\n",
      "  use_cftime=use_cftime,\n",
      "/Users/bell/anaconda2/envs/py37/lib/python3.7/site-packages/xarray/conventions.py:494: SerializationWarning: variable 'Oxygen_Concentration' has multiple fill values {1e+35, -9999.0}, decoding all values to NaN.\n",
      "  use_cftime=use_cftime,\n"
     ]
    }
   ],
   "source": [
    "e.dataset_id=dataset\n",
    "e.response = 'nc'\n",
    "ds = e.to_xarray(decode_times=True)"
   ]
  },
  {
   "cell_type": "code",
   "execution_count": 122,
   "metadata": {},
   "outputs": [
    {
     "data": {
      "text/html": [
       "<div><svg style=\"position: absolute; width: 0; height: 0; overflow: hidden\">\n",
       "<defs>\n",
       "<symbol id=\"icon-database\" viewBox=\"0 0 32 32\">\n",
       "<title>Show/Hide data repr</title>\n",
       "<path d=\"M16 0c-8.837 0-16 2.239-16 5v4c0 2.761 7.163 5 16 5s16-2.239 16-5v-4c0-2.761-7.163-5-16-5z\"></path>\n",
       "<path d=\"M16 17c-8.837 0-16-2.239-16-5v6c0 2.761 7.163 5 16 5s16-2.239 16-5v-6c0 2.761-7.163 5-16 5z\"></path>\n",
       "<path d=\"M16 26c-8.837 0-16-2.239-16-5v6c0 2.761 7.163 5 16 5s16-2.239 16-5v-6c0 2.761-7.163 5-16 5z\"></path>\n",
       "</symbol>\n",
       "<symbol id=\"icon-file-text2\" viewBox=\"0 0 32 32\">\n",
       "<title>Show/Hide attributes</title>\n",
       "<path d=\"M28.681 7.159c-0.694-0.947-1.662-2.053-2.724-3.116s-2.169-2.030-3.116-2.724c-1.612-1.182-2.393-1.319-2.841-1.319h-15.5c-1.378 0-2.5 1.121-2.5 2.5v27c0 1.378 1.122 2.5 2.5 2.5h23c1.378 0 2.5-1.122 2.5-2.5v-19.5c0-0.448-0.137-1.23-1.319-2.841zM24.543 5.457c0.959 0.959 1.712 1.825 2.268 2.543h-4.811v-4.811c0.718 0.556 1.584 1.309 2.543 2.268zM28 29.5c0 0.271-0.229 0.5-0.5 0.5h-23c-0.271 0-0.5-0.229-0.5-0.5v-27c0-0.271 0.229-0.5 0.5-0.5 0 0 15.499-0 15.5 0v7c0 0.552 0.448 1 1 1h7v19.5z\"></path>\n",
       "<path d=\"M23 26h-14c-0.552 0-1-0.448-1-1s0.448-1 1-1h14c0.552 0 1 0.448 1 1s-0.448 1-1 1z\"></path>\n",
       "<path d=\"M23 22h-14c-0.552 0-1-0.448-1-1s0.448-1 1-1h14c0.552 0 1 0.448 1 1s-0.448 1-1 1z\"></path>\n",
       "<path d=\"M23 18h-14c-0.552 0-1-0.448-1-1s0.448-1 1-1h14c0.552 0 1 0.448 1 1s-0.448 1-1 1z\"></path>\n",
       "</symbol>\n",
       "</defs>\n",
       "</svg>\n",
       "<style>/* CSS stylesheet for displaying xarray objects in jupyterlab.\n",
       " *\n",
       " */\n",
       "\n",
       ":root {\n",
       "  --xr-font-color0: var(--jp-content-font-color0, rgba(0, 0, 0, 1));\n",
       "  --xr-font-color2: var(--jp-content-font-color2, rgba(0, 0, 0, 0.54));\n",
       "  --xr-font-color3: var(--jp-content-font-color3, rgba(0, 0, 0, 0.38));\n",
       "  --xr-border-color: var(--jp-border-color2, #e0e0e0);\n",
       "  --xr-disabled-color: var(--jp-layout-color3, #bdbdbd);\n",
       "  --xr-background-color: var(--jp-layout-color0, white);\n",
       "  --xr-background-color-row-even: var(--jp-layout-color1, white);\n",
       "  --xr-background-color-row-odd: var(--jp-layout-color2, #eeeeee);\n",
       "}\n",
       "\n",
       ".xr-wrap {\n",
       "  min-width: 300px;\n",
       "  max-width: 700px;\n",
       "}\n",
       "\n",
       ".xr-header {\n",
       "  padding-top: 6px;\n",
       "  padding-bottom: 6px;\n",
       "  margin-bottom: 4px;\n",
       "  border-bottom: solid 1px var(--xr-border-color);\n",
       "}\n",
       "\n",
       ".xr-header > div,\n",
       ".xr-header > ul {\n",
       "  display: inline;\n",
       "  margin-top: 0;\n",
       "  margin-bottom: 0;\n",
       "}\n",
       "\n",
       ".xr-obj-type,\n",
       ".xr-array-name {\n",
       "  margin-left: 2px;\n",
       "  margin-right: 10px;\n",
       "}\n",
       "\n",
       ".xr-obj-type {\n",
       "  color: var(--xr-font-color2);\n",
       "}\n",
       "\n",
       ".xr-sections {\n",
       "  padding-left: 0 !important;\n",
       "  display: grid;\n",
       "  grid-template-columns: 150px auto auto 1fr 20px 20px;\n",
       "}\n",
       "\n",
       ".xr-section-item {\n",
       "  display: contents;\n",
       "}\n",
       "\n",
       ".xr-section-item input {\n",
       "  display: none;\n",
       "}\n",
       "\n",
       ".xr-section-item input + label {\n",
       "  color: var(--xr-disabled-color);\n",
       "}\n",
       "\n",
       ".xr-section-item input:enabled + label {\n",
       "  cursor: pointer;\n",
       "  color: var(--xr-font-color2);\n",
       "}\n",
       "\n",
       ".xr-section-item input:enabled + label:hover {\n",
       "  color: var(--xr-font-color0);\n",
       "}\n",
       "\n",
       ".xr-section-summary {\n",
       "  grid-column: 1;\n",
       "  color: var(--xr-font-color2);\n",
       "  font-weight: 500;\n",
       "}\n",
       "\n",
       ".xr-section-summary > span {\n",
       "  display: inline-block;\n",
       "  padding-left: 0.5em;\n",
       "}\n",
       "\n",
       ".xr-section-summary-in:disabled + label {\n",
       "  color: var(--xr-font-color2);\n",
       "}\n",
       "\n",
       ".xr-section-summary-in + label:before {\n",
       "  display: inline-block;\n",
       "  content: '►';\n",
       "  font-size: 11px;\n",
       "  width: 15px;\n",
       "  text-align: center;\n",
       "}\n",
       "\n",
       ".xr-section-summary-in:disabled + label:before {\n",
       "  color: var(--xr-disabled-color);\n",
       "}\n",
       "\n",
       ".xr-section-summary-in:checked + label:before {\n",
       "  content: '▼';\n",
       "}\n",
       "\n",
       ".xr-section-summary-in:checked + label > span {\n",
       "  display: none;\n",
       "}\n",
       "\n",
       ".xr-section-summary,\n",
       ".xr-section-inline-details {\n",
       "  padding-top: 4px;\n",
       "  padding-bottom: 4px;\n",
       "}\n",
       "\n",
       ".xr-section-inline-details {\n",
       "  grid-column: 2 / -1;\n",
       "}\n",
       "\n",
       ".xr-section-details {\n",
       "  display: none;\n",
       "  grid-column: 1 / -1;\n",
       "  margin-bottom: 5px;\n",
       "}\n",
       "\n",
       ".xr-section-summary-in:checked ~ .xr-section-details {\n",
       "  display: contents;\n",
       "}\n",
       "\n",
       ".xr-array-wrap {\n",
       "  grid-column: 1 / -1;\n",
       "  display: grid;\n",
       "  grid-template-columns: 20px auto;\n",
       "}\n",
       "\n",
       ".xr-array-wrap > label {\n",
       "  grid-column: 1;\n",
       "  vertical-align: top;\n",
       "}\n",
       "\n",
       ".xr-preview {\n",
       "  color: var(--xr-font-color3);\n",
       "}\n",
       "\n",
       ".xr-array-preview,\n",
       ".xr-array-data {\n",
       "  padding: 0 5px !important;\n",
       "  grid-column: 2;\n",
       "}\n",
       "\n",
       ".xr-array-data,\n",
       ".xr-array-in:checked ~ .xr-array-preview {\n",
       "  display: none;\n",
       "}\n",
       "\n",
       ".xr-array-in:checked ~ .xr-array-data,\n",
       ".xr-array-preview {\n",
       "  display: inline-block;\n",
       "}\n",
       "\n",
       ".xr-dim-list {\n",
       "  display: inline-block !important;\n",
       "  list-style: none;\n",
       "  padding: 0 !important;\n",
       "  margin: 0;\n",
       "}\n",
       "\n",
       ".xr-dim-list li {\n",
       "  display: inline-block;\n",
       "  padding: 0;\n",
       "  margin: 0;\n",
       "}\n",
       "\n",
       ".xr-dim-list:before {\n",
       "  content: '(';\n",
       "}\n",
       "\n",
       ".xr-dim-list:after {\n",
       "  content: ')';\n",
       "}\n",
       "\n",
       ".xr-dim-list li:not(:last-child):after {\n",
       "  content: ',';\n",
       "  padding-right: 5px;\n",
       "}\n",
       "\n",
       ".xr-has-index {\n",
       "  font-weight: bold;\n",
       "}\n",
       "\n",
       ".xr-var-list,\n",
       ".xr-var-item {\n",
       "  display: contents;\n",
       "}\n",
       "\n",
       ".xr-var-item > div,\n",
       ".xr-var-item label,\n",
       ".xr-var-item > .xr-var-name span {\n",
       "  background-color: var(--xr-background-color-row-even);\n",
       "  margin-bottom: 0;\n",
       "}\n",
       "\n",
       ".xr-var-item > .xr-var-name:hover span {\n",
       "  padding-right: 5px;\n",
       "}\n",
       "\n",
       ".xr-var-list > li:nth-child(odd) > div,\n",
       ".xr-var-list > li:nth-child(odd) > label,\n",
       ".xr-var-list > li:nth-child(odd) > .xr-var-name span {\n",
       "  background-color: var(--xr-background-color-row-odd);\n",
       "}\n",
       "\n",
       ".xr-var-name {\n",
       "  grid-column: 1;\n",
       "}\n",
       "\n",
       ".xr-var-dims {\n",
       "  grid-column: 2;\n",
       "}\n",
       "\n",
       ".xr-var-dtype {\n",
       "  grid-column: 3;\n",
       "  text-align: right;\n",
       "  color: var(--xr-font-color2);\n",
       "}\n",
       "\n",
       ".xr-var-preview {\n",
       "  grid-column: 4;\n",
       "}\n",
       "\n",
       ".xr-var-name,\n",
       ".xr-var-dims,\n",
       ".xr-var-dtype,\n",
       ".xr-preview,\n",
       ".xr-attrs dt {\n",
       "  white-space: nowrap;\n",
       "  overflow: hidden;\n",
       "  text-overflow: ellipsis;\n",
       "  padding-right: 10px;\n",
       "}\n",
       "\n",
       ".xr-var-name:hover,\n",
       ".xr-var-dims:hover,\n",
       ".xr-var-dtype:hover,\n",
       ".xr-attrs dt:hover {\n",
       "  overflow: visible;\n",
       "  width: auto;\n",
       "  z-index: 1;\n",
       "}\n",
       "\n",
       ".xr-var-attrs,\n",
       ".xr-var-data {\n",
       "  display: none;\n",
       "  background-color: var(--xr-background-color) !important;\n",
       "  padding-bottom: 5px !important;\n",
       "}\n",
       "\n",
       ".xr-var-attrs-in:checked ~ .xr-var-attrs,\n",
       ".xr-var-data-in:checked ~ .xr-var-data {\n",
       "  display: block;\n",
       "}\n",
       "\n",
       ".xr-var-data > table {\n",
       "  float: right;\n",
       "}\n",
       "\n",
       ".xr-var-name span,\n",
       ".xr-var-data,\n",
       ".xr-attrs {\n",
       "  padding-left: 25px !important;\n",
       "}\n",
       "\n",
       ".xr-attrs,\n",
       ".xr-var-attrs,\n",
       ".xr-var-data {\n",
       "  grid-column: 1 / -1;\n",
       "}\n",
       "\n",
       "dl.xr-attrs {\n",
       "  padding: 0;\n",
       "  margin: 0;\n",
       "  display: grid;\n",
       "  grid-template-columns: 125px auto;\n",
       "}\n",
       "\n",
       ".xr-attrs dt, dd {\n",
       "  padding: 0;\n",
       "  margin: 0;\n",
       "  float: left;\n",
       "  padding-right: 10px;\n",
       "  width: auto;\n",
       "}\n",
       "\n",
       ".xr-attrs dt {\n",
       "  font-weight: normal;\n",
       "  grid-column: 1;\n",
       "}\n",
       "\n",
       ".xr-attrs dt:hover span {\n",
       "  display: inline-block;\n",
       "  background: var(--xr-background-color);\n",
       "  padding-right: 10px;\n",
       "}\n",
       "\n",
       ".xr-attrs dd {\n",
       "  grid-column: 2;\n",
       "  white-space: pre-wrap;\n",
       "  word-break: break-all;\n",
       "}\n",
       "\n",
       ".xr-icon-database,\n",
       ".xr-icon-file-text2 {\n",
       "  display: inline-block;\n",
       "  vertical-align: middle;\n",
       "  width: 1em;\n",
       "  height: 1.5em !important;\n",
       "  stroke-width: 0;\n",
       "  stroke: currentColor;\n",
       "  fill: currentColor;\n",
       "}\n",
       "</style><div class='xr-wrap'><div class='xr-header'><div class='xr-obj-type'>xarray.Dataset</div></div><ul class='xr-sections'><li class='xr-section-item'><input id='section-fc4b4ec4-e567-4d1e-8202-ea8bbd7ed582' class='xr-section-summary-in' type='checkbox' disabled ><label for='section-fc4b4ec4-e567-4d1e-8202-ea8bbd7ed582' class='xr-section-summary'  title='Expand/collapse section'>Dimensions:</label><div class='xr-section-inline-details'><ul class='xr-dim-list'><li><span class='xr-has-index'>depth</span>: 14</li><li><span class='xr-has-index'>time</span>: 3548</li></ul></div><div class='xr-section-details'></div></li><li class='xr-section-item'><input id='section-74b03e83-4b1f-44c2-9e0f-b14583e6fc6f' class='xr-section-summary-in' type='checkbox'  checked><label for='section-74b03e83-4b1f-44c2-9e0f-b14583e6fc6f' class='xr-section-summary' >Coordinates: <span>(2)</span></label><div class='xr-section-inline-details'></div><div class='xr-section-details'><ul class='xr-var-list'><li class='xr-var-item'><div class='xr-var-name'><span class='xr-has-index'>depth</span></div><div class='xr-var-dims'>(depth)</div><div class='xr-var-dtype'>float64</div><div class='xr-var-preview xr-preview'>9.0 11.0 12.0 ... 50.0 55.0 60.0</div><input id='attrs-a53aec82-c084-4d9d-9d54-cfacde919907' class='xr-var-attrs-in' type='checkbox' ><label for='attrs-a53aec82-c084-4d9d-9d54-cfacde919907' title='Show/Hide attributes'><svg class='icon xr-icon-file-text2'><use xlink:href='#icon-file-text2'></use></svg></label><input id='data-ac044956-01f6-4e77-a9ba-658e453595d3' class='xr-var-data-in' type='checkbox'><label for='data-ac044956-01f6-4e77-a9ba-658e453595d3' title='Show/Hide data repr'><svg class='icon xr-icon-database'><use xlink:href='#icon-database'></use></svg></label><div class='xr-var-attrs'><dl class='xr-attrs'><dt><span>_CoordinateAxisType :</span></dt><dd>Height</dd><dt><span>_CoordinateZisPositive :</span></dt><dd>down</dd><dt><span>actual_range :</span></dt><dd>[ 9. 60.]</dd><dt><span>axis :</span></dt><dd>Z</dd><dt><span>ioos_category :</span></dt><dd>Location</dd><dt><span>long_name :</span></dt><dd>Depth</dd><dt><span>positive :</span></dt><dd>down</dd><dt><span>standard_name :</span></dt><dd>depth</dd><dt><span>units :</span></dt><dd>m</dd></dl></div><pre class='xr-var-data'>array([ 9., 11., 12., 15., 18., 21., 25., 35., 39., 44., 47., 50., 55., 60.])</pre></li><li class='xr-var-item'><div class='xr-var-name'><span class='xr-has-index'>time</span></div><div class='xr-var-dims'>(time)</div><div class='xr-var-dtype'>datetime64[ns]</div><div class='xr-var-preview xr-preview'>2019-04-25T05:00:00 ... 2019-09-20</div><input id='attrs-6032120f-fc6e-46ae-8023-e284c16685ad' class='xr-var-attrs-in' type='checkbox' ><label for='attrs-6032120f-fc6e-46ae-8023-e284c16685ad' title='Show/Hide attributes'><svg class='icon xr-icon-file-text2'><use xlink:href='#icon-file-text2'></use></svg></label><input id='data-1d25a695-2e57-487c-989c-f99e1c40d359' class='xr-var-data-in' type='checkbox'><label for='data-1d25a695-2e57-487c-989c-f99e1c40d359' title='Show/Hide data repr'><svg class='icon xr-icon-database'><use xlink:href='#icon-database'></use></svg></label><div class='xr-var-attrs'><dl class='xr-attrs'><dt><span>_CoordinateAxisType :</span></dt><dd>Time</dd><dt><span>actual_range :</span></dt><dd>[1.5561684e+09 1.5689376e+09]</dd><dt><span>axis :</span></dt><dd>T</dd><dt><span>ioos_category :</span></dt><dd>Time</dd><dt><span>long_name :</span></dt><dd>Date</dd><dt><span>source_name :</span></dt><dd>date</dd><dt><span>standard_name :</span></dt><dd>time</dd><dt><span>time_origin :</span></dt><dd>01-JAN-1970 00:00:00</dd></dl></div><pre class='xr-var-data'>array([&#x27;2019-04-25T05:00:00.000000000&#x27;, &#x27;2019-04-25T06:00:00.000000000&#x27;,\n",
       "       &#x27;2019-04-25T07:00:00.000000000&#x27;, ..., &#x27;2019-09-19T22:00:00.000000000&#x27;,\n",
       "       &#x27;2019-09-19T23:00:00.000000000&#x27;, &#x27;2019-09-20T00:00:00.000000000&#x27;],\n",
       "      dtype=&#x27;datetime64[ns]&#x27;)</pre></li></ul></div></li><li class='xr-section-item'><input id='section-e394108e-a198-47a0-9fd0-52db5e3fbcd3' class='xr-section-summary-in' type='checkbox'  checked><label for='section-e394108e-a198-47a0-9fd0-52db5e3fbcd3' class='xr-section-summary' >Data variables: <span>(10)</span></label><div class='xr-section-inline-details'></div><div class='xr-section-details'><ul class='xr-var-list'><li class='xr-var-item'><div class='xr-var-name'><span>latitude</span></div><div class='xr-var-dims'>(depth, time)</div><div class='xr-var-dtype'>float64</div><div class='xr-var-preview xr-preview'>...</div><input id='attrs-fc1088c5-408c-46e2-b689-acb58c3435a6' class='xr-var-attrs-in' type='checkbox' ><label for='attrs-fc1088c5-408c-46e2-b689-acb58c3435a6' title='Show/Hide attributes'><svg class='icon xr-icon-file-text2'><use xlink:href='#icon-file-text2'></use></svg></label><input id='data-9142261a-2300-4791-a225-7183f693b5c5' class='xr-var-data-in' type='checkbox'><label for='data-9142261a-2300-4791-a225-7183f693b5c5' title='Show/Hide data repr'><svg class='icon xr-icon-database'><use xlink:href='#icon-database'></use></svg></label><div class='xr-var-attrs'><dl class='xr-attrs'><dt><span>colorBarMaximum :</span></dt><dd>90.0</dd><dt><span>colorBarMinimum :</span></dt><dd>-90.0</dd><dt><span>ioos_category :</span></dt><dd>Location</dd><dt><span>long_name :</span></dt><dd>Latitude</dd><dt><span>standard_name :</span></dt><dd>latitude</dd><dt><span>units :</span></dt><dd>degrees_north</dd></dl></div><pre class='xr-var-data'>array([[56.871166, 56.871166, 56.871166, ..., 56.871166, 56.871166, 56.871166],\n",
       "       [      nan, 56.871166, 56.871166, ..., 56.871166, 56.871166, 56.871166],\n",
       "       [56.871166, 56.871166, 56.871166, ..., 56.871166, 56.871166,       nan],\n",
       "       ...,\n",
       "       [56.871166, 56.871166, 56.871166, ..., 56.871166, 56.871166,       nan],\n",
       "       [56.871166, 56.871166, 56.871166, ..., 56.871166, 56.871166, 56.871166],\n",
       "       [56.871166, 56.871166, 56.871166, ..., 56.871166, 56.871166,       nan]])</pre></li><li class='xr-var-item'><div class='xr-var-name'><span>longitude</span></div><div class='xr-var-dims'>(depth, time)</div><div class='xr-var-dtype'>float64</div><div class='xr-var-preview xr-preview'>...</div><input id='attrs-9adca83f-a569-4c62-a5e0-355589b9ad56' class='xr-var-attrs-in' type='checkbox' ><label for='attrs-9adca83f-a569-4c62-a5e0-355589b9ad56' title='Show/Hide attributes'><svg class='icon xr-icon-file-text2'><use xlink:href='#icon-file-text2'></use></svg></label><input id='data-f16934f6-2d10-4b56-b374-1cdb1b6b7f1a' class='xr-var-data-in' type='checkbox'><label for='data-f16934f6-2d10-4b56-b374-1cdb1b6b7f1a' title='Show/Hide data repr'><svg class='icon xr-icon-database'><use xlink:href='#icon-database'></use></svg></label><div class='xr-var-attrs'><dl class='xr-attrs'><dt><span>colorBarMaximum :</span></dt><dd>180.0</dd><dt><span>colorBarMinimum :</span></dt><dd>-180.0</dd><dt><span>ioos_category :</span></dt><dd>Location</dd><dt><span>long_name :</span></dt><dd>Longitude</dd><dt><span>standard_name :</span></dt><dd>longitude</dd><dt><span>units :</span></dt><dd>degrees_east</dd></dl></div><pre class='xr-var-data'>array([[195.930145, 195.930145, 195.930145, ..., 195.930145, 195.930145,\n",
       "        195.930145],\n",
       "       [       nan, 195.930145, 195.930145, ..., 195.930145, 195.930145,\n",
       "        195.930145],\n",
       "       [195.930145, 195.930145, 195.930145, ..., 195.930145, 195.930145,\n",
       "               nan],\n",
       "       ...,\n",
       "       [195.930145, 195.930145, 195.930145, ..., 195.930145, 195.930145,\n",
       "               nan],\n",
       "       [195.930145, 195.930145, 195.930145, ..., 195.930145, 195.930145,\n",
       "        195.930145],\n",
       "       [195.930145, 195.930145, 195.930145, ..., 195.930145, 195.930145,\n",
       "               nan]])</pre></li><li class='xr-var-item'><div class='xr-var-name'><span>temperature</span></div><div class='xr-var-dims'>(depth, time)</div><div class='xr-var-dtype'>float64</div><div class='xr-var-preview xr-preview'>...</div><input id='attrs-13948085-f186-41b1-8b42-dc3f355de8e5' class='xr-var-attrs-in' type='checkbox' ><label for='attrs-13948085-f186-41b1-8b42-dc3f355de8e5' title='Show/Hide attributes'><svg class='icon xr-icon-file-text2'><use xlink:href='#icon-file-text2'></use></svg></label><input id='data-77fcaa52-c9ce-479b-86ae-cbde53cc5464' class='xr-var-data-in' type='checkbox'><label for='data-77fcaa52-c9ce-479b-86ae-cbde53cc5464' title='Show/Hide data repr'><svg class='icon xr-icon-database'><use xlink:href='#icon-database'></use></svg></label><div class='xr-var-attrs'><dl class='xr-attrs'><dt><span>colorBarMaximum :</span></dt><dd>20.0</dd><dt><span>colorBarMinimum :</span></dt><dd>-2.0</dd><dt><span>epic_key :</span></dt><dd>T_20</dd><dt><span>ioos_category :</span></dt><dd>Temperature</dd><dt><span>long_name :</span></dt><dd>Sea temperature in-situ ITS-90 scale</dd><dt><span>standard_name :</span></dt><dd>sea_water_temperature</dd><dt><span>units :</span></dt><dd>degree_C</dd></dl></div><pre class='xr-var-data'>array([[ 3.762432,  3.773862,  3.770388, ..., 11.644897, 11.647295, 11.6452  ],\n",
       "       [      nan,       nan,       nan, ...,       nan,       nan,       nan],\n",
       "       [ 3.7125  ,  3.7485  ,  3.7321  , ..., 11.6367  , 11.6453  ,       nan],\n",
       "       ...,\n",
       "       [ 3.6767  ,  3.6781  ,  3.6831  , ...,  5.102   ,  5.0991  ,       nan],\n",
       "       [ 3.677363,  3.6804  ,  3.683533, ...,  5.095607,  5.087228,  5.0925  ],\n",
       "       [ 3.6764  ,  3.6783  ,  3.6797  , ...,  5.1013  ,  5.086   ,       nan]])</pre></li><li class='xr-var-item'><div class='xr-var-name'><span>pressure</span></div><div class='xr-var-dims'>(depth, time)</div><div class='xr-var-dtype'>float64</div><div class='xr-var-preview xr-preview'>...</div><input id='attrs-d5207bd4-51c2-4c89-bbf4-6ff9f03732f1' class='xr-var-attrs-in' type='checkbox' ><label for='attrs-d5207bd4-51c2-4c89-bbf4-6ff9f03732f1' title='Show/Hide attributes'><svg class='icon xr-icon-file-text2'><use xlink:href='#icon-file-text2'></use></svg></label><input id='data-f0fa9842-d0bb-4264-8d13-88b3b2d0f700' class='xr-var-data-in' type='checkbox'><label for='data-f0fa9842-d0bb-4264-8d13-88b3b2d0f700' title='Show/Hide data repr'><svg class='icon xr-icon-database'><use xlink:href='#icon-database'></use></svg></label><div class='xr-var-attrs'><dl class='xr-attrs'><dt><span>ioos_category :</span></dt><dd>Sea Level</dd><dt><span>long_name :</span></dt><dd>Sea water pressure, equals 0 at sea-level</dd><dt><span>standard_name :</span></dt><dd>sea_water_pressure_due_to_sea_water</dd><dt><span>units :</span></dt><dd>dbar</dd></dl></div><pre class='xr-var-data'>array([[   nan,    nan,    nan, ...,    nan,    nan,    nan],\n",
       "       [   nan,    nan,    nan, ...,    nan,    nan,    nan],\n",
       "       [12.271, 12.271, 12.413, ..., 12.288, 12.359,    nan],\n",
       "       ...,\n",
       "       [   nan,    nan,    nan, ...,    nan,    nan,    nan],\n",
       "       [   nan,    nan,    nan, ...,    nan,    nan,    nan],\n",
       "       [   nan,    nan,    nan, ...,    nan,    nan,    nan]])</pre></li><li class='xr-var-item'><div class='xr-var-name'><span>salinity</span></div><div class='xr-var-dims'>(depth, time)</div><div class='xr-var-dtype'>float64</div><div class='xr-var-preview xr-preview'>...</div><input id='attrs-331ad24b-69eb-49d8-bf89-26a0fcb153f5' class='xr-var-attrs-in' type='checkbox' ><label for='attrs-331ad24b-69eb-49d8-bf89-26a0fcb153f5' title='Show/Hide attributes'><svg class='icon xr-icon-file-text2'><use xlink:href='#icon-file-text2'></use></svg></label><input id='data-3297297b-579f-4cf9-aea1-c0847d24d744' class='xr-var-data-in' type='checkbox'><label for='data-3297297b-579f-4cf9-aea1-c0847d24d744' title='Show/Hide data repr'><svg class='icon xr-icon-database'><use xlink:href='#icon-database'></use></svg></label><div class='xr-var-attrs'><dl class='xr-attrs'><dt><span>colorBarMaximum :</span></dt><dd>37.0</dd><dt><span>colorBarMinimum :</span></dt><dd>32.0</dd><dt><span>ioos_category :</span></dt><dd>Salinity</dd><dt><span>long_name :</span></dt><dd>Sea Water Practical Salinity</dd><dt><span>standard_name :</span></dt><dd>sea_water_practical_salinity</dd><dt><span>units :</span></dt><dd>PSU</dd></dl></div><pre class='xr-var-data'>array([[    nan,     nan,     nan, ...,     nan,     nan,     nan],\n",
       "       [    nan,     nan,     nan, ...,     nan,     nan,     nan],\n",
       "       [31.9417, 31.9398, 31.9364, ..., 31.6164, 31.6129,     nan],\n",
       "       ...,\n",
       "       [31.94  , 31.9397, 31.9401, ..., 31.8787, 31.8845,     nan],\n",
       "       [    nan,     nan,     nan, ...,     nan,     nan,     nan],\n",
       "       [31.9232, 31.9228, 31.9232, ..., 31.8602, 31.8654,     nan]])</pre></li><li class='xr-var-item'><div class='xr-var-name'><span>PAR</span></div><div class='xr-var-dims'>(depth, time)</div><div class='xr-var-dtype'>float64</div><div class='xr-var-preview xr-preview'>...</div><input id='attrs-aae4f57b-a47c-41ba-9c1a-12888c8cb1de' class='xr-var-attrs-in' type='checkbox' ><label for='attrs-aae4f57b-a47c-41ba-9c1a-12888c8cb1de' title='Show/Hide attributes'><svg class='icon xr-icon-file-text2'><use xlink:href='#icon-file-text2'></use></svg></label><input id='data-e3bdf33a-0363-4527-8069-c55c722cbd8d' class='xr-var-data-in' type='checkbox'><label for='data-e3bdf33a-0363-4527-8069-c55c722cbd8d' title='Show/Hide data repr'><svg class='icon xr-icon-database'><use xlink:href='#icon-database'></use></svg></label><div class='xr-var-attrs'><dl class='xr-attrs'><dt><span>colorBarMaximum :</span></dt><dd>70.0</dd><dt><span>colorBarMinimum :</span></dt><dd>0.0</dd><dt><span>ioos_category :</span></dt><dd>Optical Properties</dd><dt><span>long_name :</span></dt><dd>Downwelling Photosynthetic Photon Radiance In Sea Water</dd><dt><span>standard_name :</span></dt><dd>downwelling_photosynthetic_photon_radiance_in_sea_water</dd></dl></div><pre class='xr-var-data'>array([[nan, nan, nan, ..., nan, nan, nan],\n",
       "       [nan, nan, nan, ..., nan, nan, nan],\n",
       "       [nan, nan, nan, ..., nan, nan, nan],\n",
       "       ...,\n",
       "       [nan, nan, nan, ..., nan, nan, nan],\n",
       "       [nan, nan, nan, ..., nan, nan, nan],\n",
       "       [nan, nan, nan, ..., nan, nan, nan]])</pre></li><li class='xr-var-item'><div class='xr-var-name'><span>Chlorophyll_Fluorescence</span></div><div class='xr-var-dims'>(depth, time)</div><div class='xr-var-dtype'>float64</div><div class='xr-var-preview xr-preview'>...</div><input id='attrs-f6151c7b-f1c2-4d99-bba9-9d7a0a7797a8' class='xr-var-attrs-in' type='checkbox' ><label for='attrs-f6151c7b-f1c2-4d99-bba9-9d7a0a7797a8' title='Show/Hide attributes'><svg class='icon xr-icon-file-text2'><use xlink:href='#icon-file-text2'></use></svg></label><input id='data-f651cfbf-13db-4cfa-a9fd-1b78f7625b03' class='xr-var-data-in' type='checkbox'><label for='data-f651cfbf-13db-4cfa-a9fd-1b78f7625b03' title='Show/Hide data repr'><svg class='icon xr-icon-database'><use xlink:href='#icon-database'></use></svg></label><div class='xr-var-attrs'><dl class='xr-attrs'><dt><span>colorBarMaximum :</span></dt><dd>30.0</dd><dt><span>colorBarMinimum :</span></dt><dd>0.03</dd><dt><span>colorBarScale :</span></dt><dd>Log</dd><dt><span>ioos_category :</span></dt><dd>Ocean Color</dd><dt><span>long_name :</span></dt><dd>Concentration Of Chlorophyll In Sea Water</dd><dt><span>standard_name :</span></dt><dd>concentration_of_chlorophyll_in_sea_water</dd></dl></div><pre class='xr-var-data'>array([[     nan,      nan,      nan, ...,      nan,      nan,      nan],\n",
       "       [     nan, 3.590485, 2.833045, ..., 3.655349, 3.629724, 3.56585 ],\n",
       "       [     nan,      nan,      nan, ...,      nan,      nan,      nan],\n",
       "       ...,\n",
       "       [     nan,      nan,      nan, ...,      nan,      nan,      nan],\n",
       "       [2.815484, 3.05779 , 2.851437, ..., 0.398466, 0.41126 , 0.572531],\n",
       "       [     nan,      nan,      nan, ...,      nan,      nan,      nan]])</pre></li><li class='xr-var-item'><div class='xr-var-name'><span>Oxygen_Saturation</span></div><div class='xr-var-dims'>(depth, time)</div><div class='xr-var-dtype'>float64</div><div class='xr-var-preview xr-preview'>...</div><input id='attrs-1233b92f-ef68-4def-bbf1-35b146c373a4' class='xr-var-attrs-in' type='checkbox' ><label for='attrs-1233b92f-ef68-4def-bbf1-35b146c373a4' title='Show/Hide attributes'><svg class='icon xr-icon-file-text2'><use xlink:href='#icon-file-text2'></use></svg></label><input id='data-f967c712-d384-4051-a119-34f4115450ed' class='xr-var-data-in' type='checkbox'><label for='data-f967c712-d384-4051-a119-34f4115450ed' title='Show/Hide data repr'><svg class='icon xr-icon-database'><use xlink:href='#icon-database'></use></svg></label><div class='xr-var-attrs'><dl class='xr-attrs'><dt><span>colorBarMaximum :</span></dt><dd>100.0</dd><dt><span>colorBarMinimum :</span></dt><dd>0.0</dd><dt><span>ioos_category :</span></dt><dd>Dissolved O2</dd><dt><span>standard_name :</span></dt><dd>oxygen_saturation_over_air</dd><dt><span>units :</span></dt><dd>percent</dd></dl></div><pre class='xr-var-data'>array([[nan, nan, nan, ..., nan, nan, nan],\n",
       "       [nan, nan, nan, ..., nan, nan, nan],\n",
       "       [nan, nan, nan, ..., nan, nan, nan],\n",
       "       ...,\n",
       "       [nan, nan, nan, ..., nan, nan, nan],\n",
       "       [nan, nan, nan, ..., nan, nan, nan],\n",
       "       [nan, nan, nan, ..., nan, nan, nan]])</pre></li><li class='xr-var-item'><div class='xr-var-name'><span>Oxygen_Concentration</span></div><div class='xr-var-dims'>(depth, time)</div><div class='xr-var-dtype'>float64</div><div class='xr-var-preview xr-preview'>...</div><input id='attrs-a8436125-4c70-4117-9dc2-2a05c7694462' class='xr-var-attrs-in' type='checkbox' ><label for='attrs-a8436125-4c70-4117-9dc2-2a05c7694462' title='Show/Hide attributes'><svg class='icon xr-icon-file-text2'><use xlink:href='#icon-file-text2'></use></svg></label><input id='data-fc5ab2fb-b8b8-4920-b457-3ec144c0dbb6' class='xr-var-data-in' type='checkbox'><label for='data-fc5ab2fb-b8b8-4920-b457-3ec144c0dbb6' title='Show/Hide data repr'><svg class='icon xr-icon-database'><use xlink:href='#icon-database'></use></svg></label><div class='xr-var-attrs'><dl class='xr-attrs'><dt><span>ioos_category :</span></dt><dd>Dissolved O2</dd><dt><span>standard_name :</span></dt><dd>volume_oxygen_in_solution_volume_of_sea_water</dd><dt><span>units :</span></dt><dd>µmole/kg</dd></dl></div><pre class='xr-var-data'>array([[nan, nan, nan, ..., nan, nan, nan],\n",
       "       [nan, nan, nan, ..., nan, nan, nan],\n",
       "       [nan, nan, nan, ..., nan, nan, nan],\n",
       "       ...,\n",
       "       [nan, nan, nan, ..., nan, nan, nan],\n",
       "       [nan, nan, nan, ..., nan, nan, nan],\n",
       "       [nan, nan, nan, ..., nan, nan, nan]])</pre></li><li class='xr-var-item'><div class='xr-var-name'><span>Serial_Number</span></div><div class='xr-var-dims'>(depth, time)</div><div class='xr-var-dtype'>float64</div><div class='xr-var-preview xr-preview'>...</div><input id='attrs-993a9713-f881-4bcf-8168-d89daa3ffb55' class='xr-var-attrs-in' type='checkbox' ><label for='attrs-993a9713-f881-4bcf-8168-d89daa3ffb55' title='Show/Hide attributes'><svg class='icon xr-icon-file-text2'><use xlink:href='#icon-file-text2'></use></svg></label><input id='data-ed224524-5777-428c-a4d0-2e27b595fcbb' class='xr-var-data-in' type='checkbox'><label for='data-ed224524-5777-428c-a4d0-2e27b595fcbb' title='Show/Hide data repr'><svg class='icon xr-icon-database'><use xlink:href='#icon-database'></use></svg></label><div class='xr-var-attrs'><dl class='xr-attrs'><dt><span>colorBarMaximum :</span></dt><dd>100.0</dd><dt><span>colorBarMinimum :</span></dt><dd>0.0</dd><dt><span>ioos_category :</span></dt><dd>Statistics</dd><dt><span>long_name :</span></dt><dd>Serial Number</dd></dl></div><pre class='xr-var-data'>array([[nan, nan, nan, ..., nan, nan, nan],\n",
       "       [nan, nan, nan, ..., nan, nan, nan],\n",
       "       [nan, nan, nan, ..., nan, nan, nan],\n",
       "       ...,\n",
       "       [nan, nan, nan, ..., nan, nan, nan],\n",
       "       [nan, nan, nan, ..., nan, nan, nan],\n",
       "       [nan, nan, nan, ..., nan, nan, nan]])</pre></li></ul></div></li><li class='xr-section-item'><input id='section-7af6543a-5de6-413a-be8b-1ddb349231e9' class='xr-section-summary-in' type='checkbox'  ><label for='section-7af6543a-5de6-413a-be8b-1ddb349231e9' class='xr-section-summary' >Attributes: <span>(18)</span></label><div class='xr-section-inline-details'></div><div class='xr-section-details'><dl class='xr-attrs'><dt><span>cdm_data_type :</span></dt><dd>Grid</dd><dt><span>Conventions :</span></dt><dd>COARDS, CF-1.6, ACDD-1.3</dd><dt><span>geospatial_vertical_max :</span></dt><dd>60.0</dd><dt><span>geospatial_vertical_min :</span></dt><dd>9.0</dd><dt><span>geospatial_vertical_positive :</span></dt><dd>down</dd><dt><span>geospatial_vertical_units :</span></dt><dd>m</dd><dt><span>history :</span></dt><dd>2020-06-01T18:50:27Z (local files)\n",
       "2020-06-01T18:50:27Z http://downdraft.pmel.noaa.gov:8080/erddap/griddap/1hr_gridded_datasets_Mooring_19bsm2a_final.nc</dd><dt><span>infoUrl :</span></dt><dd>https://pmel.noaa.gov/</dd><dt><span>institution :</span></dt><dd>NOAA/PMEL - EcoFOCI</dd><dt><span>keywords :</span></dt><dd>active, available, chemistry, chlorophyll, Chlorophyll_Fluorescence, color, concentration, concentration_of_chlorophyll_in_sea_water, data, date, density, depth, dissolved, dissolved o2, downwelling, downwelling_photosynthetic_photon_radiance_in_sea_water, earth, Earth Science &gt; Oceans &gt; Ocean Chemistry &gt; Chlorophyll, Earth Science &gt; Oceans &gt; Ocean Optics &gt; Photosynthetically Active Radiation, Earth Science &gt; Oceans &gt; Ocean Optics &gt; Radiance, Earth Science &gt; Oceans &gt; Salinity/Density &gt; Salinity, gridded, latitude, local, longitude, number, O2, ocean, ocean color, oceans, optical, optical properties, optics, oxygen, Oxygen_Concentration, Oxygen_Saturation, PAR, photon, photosynthetic, photosynthetically, practical, pressure, properties, radiance, radiation, salinity, saturation, science, sea, sea_water_practical_salinity, seawater, serial, Serial_Number, source, statistics, temperature, water</dd><dt><span>keywords_vocabulary :</span></dt><dd>GCMD Science Keywords</dd><dt><span>license :</span></dt><dd>The data may be used and redistributed for free but is not intended\n",
       "for legal use, since it may contain inaccuracies. Neither the data\n",
       "Contributor, ERD, NOAA, nor the United States Government, nor any\n",
       "of their employees or contractors, makes any warranty, express or\n",
       "implied, including warranties of merchantability and fitness for a\n",
       "particular purpose, or assumes any legal liability for the accuracy,\n",
       "completeness, or usefulness, of this information.</dd><dt><span>sourceUrl :</span></dt><dd>(local files)</dd><dt><span>standard_name_vocabulary :</span></dt><dd>CF Standard Name Table v55</dd><dt><span>summary :</span></dt><dd>QC&#x27;d (final) mooring data from 19BSM2A.  This dataset has been gridded to 1hr resolution (with pressure left at discrete depths).  It uses only datasets from the associated erddap tabular datasets_Mooring_19bsm2a_final</dd><dt><span>time_coverage_end :</span></dt><dd>2019-09-20T00:00:00Z</dd><dt><span>time_coverage_start :</span></dt><dd>2019-04-25T05:00:00Z</dd><dt><span>title :</span></dt><dd>Gridded Mooring Data from 19BSM2A - final</dd></dl></div></li></ul></div></div>"
      ],
      "text/plain": [
       "<xarray.Dataset>\n",
       "Dimensions:                   (depth: 14, time: 3548)\n",
       "Coordinates:\n",
       "  * depth                     (depth) float64 9.0 11.0 12.0 ... 50.0 55.0 60.0\n",
       "  * time                      (time) datetime64[ns] 2019-04-25T05:00:00 ... 2019-09-20\n",
       "Data variables:\n",
       "    latitude                  (depth, time) float64 ...\n",
       "    longitude                 (depth, time) float64 ...\n",
       "    temperature               (depth, time) float64 ...\n",
       "    pressure                  (depth, time) float64 ...\n",
       "    salinity                  (depth, time) float64 ...\n",
       "    PAR                       (depth, time) float64 ...\n",
       "    Chlorophyll_Fluorescence  (depth, time) float64 ...\n",
       "    Oxygen_Saturation         (depth, time) float64 ...\n",
       "    Oxygen_Concentration      (depth, time) float64 ...\n",
       "    Serial_Number             (depth, time) float64 ...\n",
       "Attributes:\n",
       "    cdm_data_type:                 Grid\n",
       "    Conventions:                   COARDS, CF-1.6, ACDD-1.3\n",
       "    geospatial_vertical_max:       60.0\n",
       "    geospatial_vertical_min:       9.0\n",
       "    geospatial_vertical_positive:  down\n",
       "    geospatial_vertical_units:     m\n",
       "    history:                       2020-06-01T18:50:27Z (local files)\\n2020-0...\n",
       "    infoUrl:                       https://pmel.noaa.gov/\n",
       "    institution:                   NOAA/PMEL - EcoFOCI\n",
       "    keywords:                      active, available, chemistry, chlorophyll,...\n",
       "    keywords_vocabulary:           GCMD Science Keywords\n",
       "    license:                       The data may be used and redistributed for...\n",
       "    sourceUrl:                     (local files)\n",
       "    standard_name_vocabulary:      CF Standard Name Table v55\n",
       "    summary:                       QC'd (final) mooring data from 19BSM2A.  T...\n",
       "    time_coverage_end:             2019-09-20T00:00:00Z\n",
       "    time_coverage_start:           2019-04-25T05:00:00Z\n",
       "    title:                         Gridded Mooring Data from 19BSM2A - final"
      ]
     },
     "execution_count": 122,
     "metadata": {},
     "output_type": "execute_result"
    }
   ],
   "source": [
    "ds"
   ]
  },
  {
   "cell_type": "code",
   "execution_count": 123,
   "metadata": {
    "jupyter": {
     "source_hidden": true
    }
   },
   "outputs": [],
   "source": [
    "### specify primary bulk figure parameters\n",
    "fontsize = 20\n",
    "labelsize = 16\n",
    "#plotstyle = 'seaborn'\n",
    "max_xticks = 10\n",
    "plt.style.use('seaborn-ticks')\n",
    "mpl.rcParams['svg.fonttype'] = 'none'\n",
    "mpl.rcParams['ps.fonttype'] = 42 #truetype/type2 fonts instead of type3\n",
    "mpl.rcParams['pdf.fonttype'] = 42 #truetype/type2 fonts instead of type3\n",
    "mpl.rcParams['axes.grid'] = False\n",
    "mpl.rcParams['axes.edgecolor'] = 'black'\n",
    "mpl.rcParams['axes.linewidth'] = 1.5\n",
    "mpl.rcParams['axes.labelcolor'] = 'black'\n",
    "mpl.rcParams['grid.linestyle'] = '--'\n",
    "mpl.rcParams['grid.linestyle'] = '--'\n",
    "mpl.rcParams['xtick.major.size'] = 4\n",
    "mpl.rcParams['xtick.minor.size'] = 1\n",
    "mpl.rcParams['xtick.major.width'] = 2\n",
    "mpl.rcParams['xtick.minor.width'] = 1\n",
    "mpl.rcParams['ytick.major.size'] = 4\n",
    "mpl.rcParams['ytick.minor.size'] = 1\n",
    "mpl.rcParams['ytick.major.width'] = 2\n",
    "mpl.rcParams['ytick.minor.width'] = 1\n",
    "mpl.rcParams['ytick.direction'] = 'out'\n",
    "mpl.rcParams['xtick.direction'] = 'out'\n",
    "mpl.rcParams['ytick.color'] = 'black'\n",
    "mpl.rcParams['xtick.color'] = 'black'"
   ]
  },
  {
   "cell_type": "code",
   "execution_count": 124,
   "metadata": {},
   "outputs": [
    {
     "data": {
      "image/png": "[encoded data removed]",
      "text/plain": [
       "<Figure size 612x396 with 4 Axes>"
      ]
     },
     "metadata": {},
     "output_type": "display_data"
    }
   ],
   "source": [
    "\n",
    "fig, (ax1, ax2, ax3, ax4) = plt.subplots(nrows=4, sharex=True, figsize=(8.5,5.5))\n",
    "\n",
    "ax1.pcolormesh(ds.time,ds.depth,ds.temperature,\n",
    "                     cmap=cmocean.cm.thermal)\n",
    "ax2.pcolormesh(ds.time,ds.depth,ds.temperature.diff(dim='depth'),\n",
    "                     cmap=cmocean.cm.balance)\n",
    "ax3.pcolormesh(ds.time,ds.depth,ds.salinity,\n",
    "                     cmap=cmocean.cm.haline)\n",
    "ax4.pcolormesh(ds.time,ds.depth,ds.Chlorophyll_Fluorescence,\n",
    "                     cmap=cmocean.cm.algae)\n",
    "\n",
    "\n",
    "ax1.invert_yaxis()\n",
    "ax2.invert_yaxis()\n",
    "ax3.invert_yaxis()\n",
    "ax4.invert_yaxis()\n",
    "\n",
    "xfmt = mdates.DateFormatter('%d-%b\\n%y')\n",
    "ax4.xaxis.set_major_formatter(xfmt)\n",
    "ax4.xaxis.set_major_locator(MonthLocator())\n",
    "ax4.xaxis.set_minor_locator(DayLocator())\n"
   ]
  },
  {
   "cell_type": "code",
   "execution_count": 130,
   "metadata": {},
   "outputs": [
    {
     "data": {
      "image/png": "[encoded data removed]",
      "text/plain": [
       "<Figure size 612x396 with 4 Axes>"
      ]
     },
     "metadata": {},
     "output_type": "display_data"
    }
   ],
   "source": [
    "### interp test\n",
    "\n",
    "newdepth = np.linspace(0, 72,73)\n",
    "\n",
    "filled = ds.interpolate_na(dim='depth',limit=1)\n",
    "dsi = filled.interp(depth=newdepth)\n",
    "\n",
    "fig, (ax1, ax2, ax3, ax4) = plt.subplots(nrows=4, sharex=True, figsize=(8.5,5.5))\n",
    "\n",
    "ax1.pcolormesh(dsi.time,dsi.depth,dsi.temperature,\n",
    "                     cmap=cmocean.cm.thermal)\n",
    "ax2.pcolormesh(dsi.time,dsi.depth,dsi.temperature.diff(dim='depth'),\n",
    "                     cmap=cmocean.cm.balance)\n",
    "ax3.pcolormesh(dsi.time,dsi.depth,dsi.salinity,\n",
    "                     cmap=cmocean.cm.haline)\n",
    "ax4.pcolormesh(dsi.time,dsi.depth,dsi.Chlorophyll_Fluorescence,\n",
    "                     cmap=cmocean.cm.algae)\n",
    "\n",
    "\n",
    "ax1.invert_yaxis()\n",
    "ax2.invert_yaxis()\n",
    "ax3.invert_yaxis()\n",
    "ax4.invert_yaxis()\n",
    "\n",
    "xfmt = mdates.DateFormatter('%d-%b\\n%y')\n",
    "ax4.xaxis.set_major_formatter(xfmt)\n",
    "ax4.xaxis.set_major_locator(MonthLocator())\n",
    "ax4.xaxis.set_minor_locator(DayLocator())\n"
   ]
  },
  {
   "cell_type": "code",
   "execution_count": 129,
   "metadata": {
    "collapsed": true,
    "jupyter": {
     "outputs_hidden": true
    }
   },
   "outputs": [
    {
     "name": "stdout",
     "output_type": "stream",
     "text": [
      "['1hr_gridded_datasets_Mooring_00bsm2a_final'\n",
      " '1hr_gridded_datasets_Mooring_01bs2c_final'\n",
      " '1hr_gridded_datasets_Mooring_01bsm2a_final'\n",
      " '1hr_gridded_datasets_Mooring_02bs2c_final'\n",
      " '1hr_gridded_datasets_Mooring_02bsm2a_final'\n",
      " '1hr_gridded_datasets_Mooring_03bs2c_final'\n",
      " '1hr_gridded_datasets_Mooring_03bsm2a_final'\n",
      " '1hr_gridded_datasets_Mooring_04bs2c_final'\n",
      " '1hr_gridded_datasets_Mooring_04bsm2a_final'\n",
      " '1hr_gridded_datasets_Mooring_05bs2c_final'\n",
      " '1hr_gridded_datasets_Mooring_05bs5a_final'\n",
      " '1hr_gridded_datasets_Mooring_05bs5b_final'\n",
      " '1hr_gridded_datasets_Mooring_05bs8a_final'\n",
      " '1hr_gridded_datasets_Mooring_05bs8b_final'\n",
      " '1hr_gridded_datasets_Mooring_05bsm2a_final'\n",
      " '1hr_gridded_datasets_Mooring_06bs2c_final'\n",
      " '1hr_gridded_datasets_Mooring_06bs5a_final'\n",
      " '1hr_gridded_datasets_Mooring_06bs5b_final'\n",
      " '1hr_gridded_datasets_Mooring_06bs8a_final'\n",
      " '1hr_gridded_datasets_Mooring_06bsm2a_final'\n",
      " '1hr_gridded_datasets_Mooring_07bs2c_final'\n",
      " '1hr_gridded_datasets_Mooring_07bs5a_final'\n",
      " '1hr_gridded_datasets_Mooring_07bs5b_final'\n",
      " '1hr_gridded_datasets_Mooring_07bs8a_final'\n",
      " '1hr_gridded_datasets_Mooring_07bsm2a_final'\n",
      " '1hr_gridded_datasets_Mooring_08bs2c_final'\n",
      " '1hr_gridded_datasets_Mooring_08bs5b_final'\n",
      " '1hr_gridded_datasets_Mooring_08bs8a_final'\n",
      " '1hr_gridded_datasets_Mooring_08bsm2a_final'\n",
      " '1hr_gridded_datasets_Mooring_09bs2c_final'\n",
      " '1hr_gridded_datasets_Mooring_09bs5a_final'\n",
      " '1hr_gridded_datasets_Mooring_09bs5b_final'\n",
      " '1hr_gridded_datasets_Mooring_09bs8a_final'\n",
      " '1hr_gridded_datasets_Mooring_09bsm2a_final'\n",
      " '1hr_gridded_datasets_Mooring_10bs2c_final'\n",
      " '1hr_gridded_datasets_Mooring_10bs5a_final'\n",
      " '1hr_gridded_datasets_Mooring_10bs5b_final'\n",
      " '1hr_gridded_datasets_Mooring_10bs8a_final'\n",
      " '1hr_gridded_datasets_Mooring_10bsm2a_final'\n",
      " '1hr_gridded_datasets_Mooring_10ckip1a_final'\n",
      " '1hr_gridded_datasets_Mooring_10ckip2a_final'\n",
      " '1hr_gridded_datasets_Mooring_10ckip3a_final'\n",
      " '1hr_gridded_datasets_Mooring_10ckp1a_final'\n",
      " '1hr_gridded_datasets_Mooring_10ckp2a_final'\n",
      " '1hr_gridded_datasets_Mooring_10ckp3a_final'\n",
      " '1hr_gridded_datasets_Mooring_11bs2c_final'\n",
      " '1hr_gridded_datasets_Mooring_11bs5a_final'\n",
      " '1hr_gridded_datasets_Mooring_11bs5b_final'\n",
      " '1hr_gridded_datasets_Mooring_11bs8a_final'\n",
      " '1hr_gridded_datasets_Mooring_11bsm2a_final'\n",
      " '1hr_gridded_datasets_Mooring_12bs2c_final'\n",
      " '1hr_gridded_datasets_Mooring_12bs5a_final'\n",
      " '1hr_gridded_datasets_Mooring_12bs8a_final'\n",
      " '1hr_gridded_datasets_Mooring_12bsm2a_final'\n",
      " '1hr_gridded_datasets_Mooring_13bs2c_final'\n",
      " '1hr_gridded_datasets_Mooring_13bs5a_final'\n",
      " '1hr_gridded_datasets_Mooring_13bs8a_final'\n",
      " '1hr_gridded_datasets_Mooring_13bsm2a_final'\n",
      " '1hr_gridded_datasets_Mooring_14bs2c_final'\n",
      " '1hr_gridded_datasets_Mooring_14bs5a_final'\n",
      " '1hr_gridded_datasets_Mooring_14bs8a_final'\n",
      " '1hr_gridded_datasets_Mooring_14bsm2a_final'\n",
      " '1hr_gridded_datasets_Mooring_15bs2c_final'\n",
      " '1hr_gridded_datasets_Mooring_15bs5a_final'\n",
      " '1hr_gridded_datasets_Mooring_15bs8a_final'\n",
      " '1hr_gridded_datasets_Mooring_15bsm2a_final'\n",
      " '1hr_gridded_datasets_Mooring_16bs2c_final'\n",
      " '1hr_gridded_datasets_Mooring_16bs5a_final'\n",
      " '1hr_gridded_datasets_Mooring_16bs8a_final'\n",
      " '1hr_gridded_datasets_Mooring_16bsm2a_final'\n",
      " '1hr_gridded_datasets_Mooring_16ckip2a_final'\n",
      " '1hr_gridded_datasets_Mooring_16ckp10a_final'\n",
      " '1hr_gridded_datasets_Mooring_16ckp11a_final'\n",
      " '1hr_gridded_datasets_Mooring_16ckp12a_final'\n",
      " '1hr_gridded_datasets_Mooring_16ckp1a_final'\n",
      " '1hr_gridded_datasets_Mooring_16ckp2a_final'\n",
      " '1hr_gridded_datasets_Mooring_16ckp3a_final'\n",
      " '1hr_gridded_datasets_Mooring_16ckp4a_final'\n",
      " '1hr_gridded_datasets_Mooring_16ckp5a_final'\n",
      " '1hr_gridded_datasets_Mooring_16ckp9a_final'\n",
      " '1hr_gridded_datasets_Mooring_17bs2c_final'\n",
      " '1hr_gridded_datasets_Mooring_17bs5a_final'\n",
      " '1hr_gridded_datasets_Mooring_17bs8a_final'\n",
      " '1hr_gridded_datasets_Mooring_17bsm2a_final'\n",
      " '1hr_gridded_datasets_Mooring_17ckp10a_final'\n",
      " '1hr_gridded_datasets_Mooring_17ckp11a_final'\n",
      " '1hr_gridded_datasets_Mooring_17ckp12a_final'\n",
      " '1hr_gridded_datasets_Mooring_17ckp1a_final'\n",
      " '1hr_gridded_datasets_Mooring_17ckp2a_final'\n",
      " '1hr_gridded_datasets_Mooring_17ckp3a_final'\n",
      " '1hr_gridded_datasets_Mooring_17ckp4a_final'\n",
      " '1hr_gridded_datasets_Mooring_17ckp5a_final'\n",
      " '1hr_gridded_datasets_Mooring_18bs2c_final'\n",
      " '1hr_gridded_datasets_Mooring_18bs5a_final'\n",
      " '1hr_gridded_datasets_Mooring_18bs8a_final'\n",
      " '1hr_gridded_datasets_Mooring_18bsm2a_final'\n",
      " '1hr_gridded_datasets_Mooring_18ck14a_final'\n",
      " '1hr_gridded_datasets_Mooring_18ckp10a_final'\n",
      " '1hr_gridded_datasets_Mooring_18ckp11a_final'\n",
      " '1hr_gridded_datasets_Mooring_18ckp12a_final'\n",
      " '1hr_gridded_datasets_Mooring_18ckp1a_final'\n",
      " '1hr_gridded_datasets_Mooring_18ckp2a_final'\n",
      " '1hr_gridded_datasets_Mooring_18ckp3a_final'\n",
      " '1hr_gridded_datasets_Mooring_18ckp4a_final'\n",
      " '1hr_gridded_datasets_Mooring_18ckp5a_final'\n",
      " '1hr_gridded_datasets_Mooring_19bsm2a_final'\n",
      " '1hr_gridded_datasets_Mooring_95bsm2a_final'\n",
      " '1hr_gridded_datasets_Mooring_96bs2a_final'\n",
      " '1hr_gridded_datasets_Mooring_96bs2b_final'\n",
      " '1hr_gridded_datasets_Mooring_96bs2c_final'\n",
      " '1hr_gridded_datasets_Mooring_96bsm2a_final'\n",
      " '1hr_gridded_datasets_Mooring_97bs2a_final'\n",
      " '1hr_gridded_datasets_Mooring_97bs2b_final'\n",
      " '1hr_gridded_datasets_Mooring_97bs2c_final'\n",
      " '1hr_gridded_datasets_Mooring_97bsm2a_final'\n",
      " '1hr_gridded_datasets_Mooring_98bs2a_final'\n",
      " '1hr_gridded_datasets_Mooring_98bs2b_final'\n",
      " '1hr_gridded_datasets_Mooring_98bs2c_final'\n",
      " '1hr_gridded_datasets_Mooring_98bsm2a_final'\n",
      " '1hr_gridded_datasets_Mooring_99bs2a_final'\n",
      " '1hr_gridded_datasets_Mooring_99bs2c_final'\n",
      " '1hr_gridded_datasets_Mooring_99bsm2a_final']\n"
     ]
    }
   ],
   "source": [
    "### loop over all M2 datasets\n",
    "\n",
    "e = ERDDAP(server=server_url)\n",
    "df = pd.read_csv(e.get_search_url(response='csv', search_for='1hr_'))\n",
    "print(df['Dataset ID'].values)"
   ]
  },
  {
   "cell_type": "code",
   "execution_count": 133,
   "metadata": {
    "collapsed": true,
    "jupyter": {
     "outputs_hidden": true,
     "source_hidden": true
    }
   },
   "outputs": [
    {
     "name": "stdout",
     "output_type": "stream",
     "text": [
      "1hr_gridded_datasets_Mooring_00bsm2a_final\n"
     ]
    },
    {
     "name": "stderr",
     "output_type": "stream",
     "text": [
      "/Users/bell/anaconda2/envs/py37/lib/python3.7/site-packages/xarray/conventions.py:494: SerializationWarning: variable 'temperature' has multiple fill values {1e+35, -9999.0}, decoding all values to NaN.\n",
      "  use_cftime=use_cftime,\n",
      "/Users/bell/anaconda2/envs/py37/lib/python3.7/site-packages/xarray/conventions.py:494: SerializationWarning: variable 'pressure' has multiple fill values {1e+35, -9999.0}, decoding all values to NaN.\n",
      "  use_cftime=use_cftime,\n",
      "/Users/bell/anaconda2/envs/py37/lib/python3.7/site-packages/xarray/conventions.py:494: SerializationWarning: variable 'salinity' has multiple fill values {1e+35, -9999.0}, decoding all values to NaN.\n",
      "  use_cftime=use_cftime,\n",
      "/Users/bell/anaconda2/envs/py37/lib/python3.7/site-packages/xarray/conventions.py:494: SerializationWarning: variable 'PAR' has multiple fill values {1e+35, -9999.0}, decoding all values to NaN.\n",
      "  use_cftime=use_cftime,\n",
      "/Users/bell/anaconda2/envs/py37/lib/python3.7/site-packages/xarray/conventions.py:494: SerializationWarning: variable 'Chlorophyll_Fluorescence' has multiple fill values {1e+35, -9999.0}, decoding all values to NaN.\n",
      "  use_cftime=use_cftime,\n",
      "/Users/bell/anaconda2/envs/py37/lib/python3.7/site-packages/xarray/conventions.py:494: SerializationWarning: variable 'Oxygen_Saturation' has multiple fill values {1e+35, -9999.0}, decoding all values to NaN.\n",
      "  use_cftime=use_cftime,\n",
      "/Users/bell/anaconda2/envs/py37/lib/python3.7/site-packages/xarray/conventions.py:494: SerializationWarning: variable 'Oxygen_Concentration' has multiple fill values {1e+35, -9999.0}, decoding all values to NaN.\n",
      "  use_cftime=use_cftime,\n"
     ]
    },
    {
     "name": "stdout",
     "output_type": "stream",
     "text": [
      "1hr_gridded_datasets_Mooring_01bs2c_final\n"
     ]
    },
    {
     "name": "stderr",
     "output_type": "stream",
     "text": [
      "/Users/bell/anaconda2/envs/py37/lib/python3.7/site-packages/xarray/conventions.py:494: SerializationWarning: variable 'temperature' has multiple fill values {1e+35, -9999.0}, decoding all values to NaN.\n",
      "  use_cftime=use_cftime,\n",
      "/Users/bell/anaconda2/envs/py37/lib/python3.7/site-packages/xarray/conventions.py:494: SerializationWarning: variable 'pressure' has multiple fill values {1e+35, -9999.0}, decoding all values to NaN.\n",
      "  use_cftime=use_cftime,\n",
      "/Users/bell/anaconda2/envs/py37/lib/python3.7/site-packages/xarray/conventions.py:494: SerializationWarning: variable 'salinity' has multiple fill values {1e+35, -9999.0}, decoding all values to NaN.\n",
      "  use_cftime=use_cftime,\n",
      "/Users/bell/anaconda2/envs/py37/lib/python3.7/site-packages/xarray/conventions.py:494: SerializationWarning: variable 'PAR' has multiple fill values {1e+35, -9999.0}, decoding all values to NaN.\n",
      "  use_cftime=use_cftime,\n",
      "/Users/bell/anaconda2/envs/py37/lib/python3.7/site-packages/xarray/conventions.py:494: SerializationWarning: variable 'Chlorophyll_Fluorescence' has multiple fill values {1e+35, -9999.0}, decoding all values to NaN.\n",
      "  use_cftime=use_cftime,\n",
      "/Users/bell/anaconda2/envs/py37/lib/python3.7/site-packages/xarray/conventions.py:494: SerializationWarning: variable 'Oxygen_Saturation' has multiple fill values {1e+35, -9999.0}, decoding all values to NaN.\n",
      "  use_cftime=use_cftime,\n",
      "/Users/bell/anaconda2/envs/py37/lib/python3.7/site-packages/xarray/conventions.py:494: SerializationWarning: variable 'Oxygen_Concentration' has multiple fill values {1e+35, -9999.0}, decoding all values to NaN.\n",
      "  use_cftime=use_cftime,\n"
     ]
    },
    {
     "name": "stdout",
     "output_type": "stream",
     "text": [
      "1hr_gridded_datasets_Mooring_01bsm2a_final\n"
     ]
    },
    {
     "name": "stderr",
     "output_type": "stream",
     "text": [
      "/Users/bell/anaconda2/envs/py37/lib/python3.7/site-packages/xarray/conventions.py:494: SerializationWarning: variable 'temperature' has multiple fill values {1e+35, -9999.0}, decoding all values to NaN.\n",
      "  use_cftime=use_cftime,\n",
      "/Users/bell/anaconda2/envs/py37/lib/python3.7/site-packages/xarray/conventions.py:494: SerializationWarning: variable 'pressure' has multiple fill values {1e+35, -9999.0}, decoding all values to NaN.\n",
      "  use_cftime=use_cftime,\n",
      "/Users/bell/anaconda2/envs/py37/lib/python3.7/site-packages/xarray/conventions.py:494: SerializationWarning: variable 'salinity' has multiple fill values {1e+35, -9999.0}, decoding all values to NaN.\n",
      "  use_cftime=use_cftime,\n",
      "/Users/bell/anaconda2/envs/py37/lib/python3.7/site-packages/xarray/conventions.py:494: SerializationWarning: variable 'PAR' has multiple fill values {1e+35, -9999.0}, decoding all values to NaN.\n",
      "  use_cftime=use_cftime,\n",
      "/Users/bell/anaconda2/envs/py37/lib/python3.7/site-packages/xarray/conventions.py:494: SerializationWarning: variable 'Chlorophyll_Fluorescence' has multiple fill values {1e+35, -9999.0}, decoding all values to NaN.\n",
      "  use_cftime=use_cftime,\n",
      "/Users/bell/anaconda2/envs/py37/lib/python3.7/site-packages/xarray/conventions.py:494: SerializationWarning: variable 'Oxygen_Saturation' has multiple fill values {1e+35, -9999.0}, decoding all values to NaN.\n",
      "  use_cftime=use_cftime,\n",
      "/Users/bell/anaconda2/envs/py37/lib/python3.7/site-packages/xarray/conventions.py:494: SerializationWarning: variable 'Oxygen_Concentration' has multiple fill values {1e+35, -9999.0}, decoding all values to NaN.\n",
      "  use_cftime=use_cftime,\n"
     ]
    },
    {
     "name": "stdout",
     "output_type": "stream",
     "text": [
      "1hr_gridded_datasets_Mooring_02bs2c_final\n"
     ]
    },
    {
     "name": "stderr",
     "output_type": "stream",
     "text": [
      "/Users/bell/anaconda2/envs/py37/lib/python3.7/site-packages/xarray/conventions.py:494: SerializationWarning: variable 'temperature' has multiple fill values {1e+35, -9999.0}, decoding all values to NaN.\n",
      "  use_cftime=use_cftime,\n",
      "/Users/bell/anaconda2/envs/py37/lib/python3.7/site-packages/xarray/conventions.py:494: SerializationWarning: variable 'pressure' has multiple fill values {1e+35, -9999.0}, decoding all values to NaN.\n",
      "  use_cftime=use_cftime,\n",
      "/Users/bell/anaconda2/envs/py37/lib/python3.7/site-packages/xarray/conventions.py:494: SerializationWarning: variable 'salinity' has multiple fill values {1e+35, -9999.0}, decoding all values to NaN.\n",
      "  use_cftime=use_cftime,\n",
      "/Users/bell/anaconda2/envs/py37/lib/python3.7/site-packages/xarray/conventions.py:494: SerializationWarning: variable 'PAR' has multiple fill values {1e+35, -9999.0}, decoding all values to NaN.\n",
      "  use_cftime=use_cftime,\n",
      "/Users/bell/anaconda2/envs/py37/lib/python3.7/site-packages/xarray/conventions.py:494: SerializationWarning: variable 'Chlorophyll_Fluorescence' has multiple fill values {1e+35, -9999.0}, decoding all values to NaN.\n",
      "  use_cftime=use_cftime,\n",
      "/Users/bell/anaconda2/envs/py37/lib/python3.7/site-packages/xarray/conventions.py:494: SerializationWarning: variable 'Oxygen_Saturation' has multiple fill values {1e+35, -9999.0}, decoding all values to NaN.\n",
      "  use_cftime=use_cftime,\n",
      "/Users/bell/anaconda2/envs/py37/lib/python3.7/site-packages/xarray/conventions.py:494: SerializationWarning: variable 'Oxygen_Concentration' has multiple fill values {1e+35, -9999.0}, decoding all values to NaN.\n",
      "  use_cftime=use_cftime,\n"
     ]
    },
    {
     "name": "stdout",
     "output_type": "stream",
     "text": [
      "1hr_gridded_datasets_Mooring_02bsm2a_final\n"
     ]
    },
    {
     "name": "stderr",
     "output_type": "stream",
     "text": [
      "/Users/bell/anaconda2/envs/py37/lib/python3.7/site-packages/xarray/conventions.py:494: SerializationWarning: variable 'temperature' has multiple fill values {1e+35, -9999.0}, decoding all values to NaN.\n",
      "  use_cftime=use_cftime,\n",
      "/Users/bell/anaconda2/envs/py37/lib/python3.7/site-packages/xarray/conventions.py:494: SerializationWarning: variable 'pressure' has multiple fill values {1e+35, -9999.0}, decoding all values to NaN.\n",
      "  use_cftime=use_cftime,\n",
      "/Users/bell/anaconda2/envs/py37/lib/python3.7/site-packages/xarray/conventions.py:494: SerializationWarning: variable 'salinity' has multiple fill values {1e+35, -9999.0}, decoding all values to NaN.\n",
      "  use_cftime=use_cftime,\n",
      "/Users/bell/anaconda2/envs/py37/lib/python3.7/site-packages/xarray/conventions.py:494: SerializationWarning: variable 'PAR' has multiple fill values {1e+35, -9999.0}, decoding all values to NaN.\n",
      "  use_cftime=use_cftime,\n",
      "/Users/bell/anaconda2/envs/py37/lib/python3.7/site-packages/xarray/conventions.py:494: SerializationWarning: variable 'Chlorophyll_Fluorescence' has multiple fill values {1e+35, -9999.0}, decoding all values to NaN.\n",
      "  use_cftime=use_cftime,\n",
      "/Users/bell/anaconda2/envs/py37/lib/python3.7/site-packages/xarray/conventions.py:494: SerializationWarning: variable 'Oxygen_Saturation' has multiple fill values {1e+35, -9999.0}, decoding all values to NaN.\n",
      "  use_cftime=use_cftime,\n",
      "/Users/bell/anaconda2/envs/py37/lib/python3.7/site-packages/xarray/conventions.py:494: SerializationWarning: variable 'Oxygen_Concentration' has multiple fill values {1e+35, -9999.0}, decoding all values to NaN.\n",
      "  use_cftime=use_cftime,\n"
     ]
    },
    {
     "name": "stdout",
     "output_type": "stream",
     "text": [
      "1hr_gridded_datasets_Mooring_03bs2c_final\n"
     ]
    },
    {
     "name": "stderr",
     "output_type": "stream",
     "text": [
      "/Users/bell/anaconda2/envs/py37/lib/python3.7/site-packages/xarray/conventions.py:494: SerializationWarning: variable 'temperature' has multiple fill values {1e+35, -9999.0}, decoding all values to NaN.\n",
      "  use_cftime=use_cftime,\n",
      "/Users/bell/anaconda2/envs/py37/lib/python3.7/site-packages/xarray/conventions.py:494: SerializationWarning: variable 'pressure' has multiple fill values {1e+35, -9999.0}, decoding all values to NaN.\n",
      "  use_cftime=use_cftime,\n",
      "/Users/bell/anaconda2/envs/py37/lib/python3.7/site-packages/xarray/conventions.py:494: SerializationWarning: variable 'salinity' has multiple fill values {1e+35, -9999.0}, decoding all values to NaN.\n",
      "  use_cftime=use_cftime,\n",
      "/Users/bell/anaconda2/envs/py37/lib/python3.7/site-packages/xarray/conventions.py:494: SerializationWarning: variable 'PAR' has multiple fill values {1e+35, -9999.0}, decoding all values to NaN.\n",
      "  use_cftime=use_cftime,\n",
      "/Users/bell/anaconda2/envs/py37/lib/python3.7/site-packages/xarray/conventions.py:494: SerializationWarning: variable 'Chlorophyll_Fluorescence' has multiple fill values {1e+35, -9999.0}, decoding all values to NaN.\n",
      "  use_cftime=use_cftime,\n",
      "/Users/bell/anaconda2/envs/py37/lib/python3.7/site-packages/xarray/conventions.py:494: SerializationWarning: variable 'Oxygen_Saturation' has multiple fill values {1e+35, -9999.0}, decoding all values to NaN.\n",
      "  use_cftime=use_cftime,\n",
      "/Users/bell/anaconda2/envs/py37/lib/python3.7/site-packages/xarray/conventions.py:494: SerializationWarning: variable 'Oxygen_Concentration' has multiple fill values {1e+35, -9999.0}, decoding all values to NaN.\n",
      "  use_cftime=use_cftime,\n"
     ]
    },
    {
     "name": "stdout",
     "output_type": "stream",
     "text": [
      "1hr_gridded_datasets_Mooring_03bsm2a_final\n"
     ]
    },
    {
     "name": "stderr",
     "output_type": "stream",
     "text": [
      "/Users/bell/anaconda2/envs/py37/lib/python3.7/site-packages/xarray/conventions.py:494: SerializationWarning: variable 'temperature' has multiple fill values {1e+35, -9999.0}, decoding all values to NaN.\n",
      "  use_cftime=use_cftime,\n",
      "/Users/bell/anaconda2/envs/py37/lib/python3.7/site-packages/xarray/conventions.py:494: SerializationWarning: variable 'pressure' has multiple fill values {1e+35, -9999.0}, decoding all values to NaN.\n",
      "  use_cftime=use_cftime,\n",
      "/Users/bell/anaconda2/envs/py37/lib/python3.7/site-packages/xarray/conventions.py:494: SerializationWarning: variable 'salinity' has multiple fill values {1e+35, -9999.0}, decoding all values to NaN.\n",
      "  use_cftime=use_cftime,\n",
      "/Users/bell/anaconda2/envs/py37/lib/python3.7/site-packages/xarray/conventions.py:494: SerializationWarning: variable 'PAR' has multiple fill values {1e+35, -9999.0}, decoding all values to NaN.\n",
      "  use_cftime=use_cftime,\n",
      "/Users/bell/anaconda2/envs/py37/lib/python3.7/site-packages/xarray/conventions.py:494: SerializationWarning: variable 'Chlorophyll_Fluorescence' has multiple fill values {1e+35, -9999.0}, decoding all values to NaN.\n",
      "  use_cftime=use_cftime,\n",
      "/Users/bell/anaconda2/envs/py37/lib/python3.7/site-packages/xarray/conventions.py:494: SerializationWarning: variable 'Oxygen_Saturation' has multiple fill values {1e+35, -9999.0}, decoding all values to NaN.\n",
      "  use_cftime=use_cftime,\n",
      "/Users/bell/anaconda2/envs/py37/lib/python3.7/site-packages/xarray/conventions.py:494: SerializationWarning: variable 'Oxygen_Concentration' has multiple fill values {1e+35, -9999.0}, decoding all values to NaN.\n",
      "  use_cftime=use_cftime,\n"
     ]
    },
    {
     "name": "stdout",
     "output_type": "stream",
     "text": [
      "1hr_gridded_datasets_Mooring_04bs2c_final\n"
     ]
    },
    {
     "name": "stderr",
     "output_type": "stream",
     "text": [
      "/Users/bell/anaconda2/envs/py37/lib/python3.7/site-packages/xarray/conventions.py:494: SerializationWarning: variable 'temperature' has multiple fill values {1e+35, -9999.0}, decoding all values to NaN.\n",
      "  use_cftime=use_cftime,\n",
      "/Users/bell/anaconda2/envs/py37/lib/python3.7/site-packages/xarray/conventions.py:494: SerializationWarning: variable 'pressure' has multiple fill values {1e+35, -9999.0}, decoding all values to NaN.\n",
      "  use_cftime=use_cftime,\n",
      "/Users/bell/anaconda2/envs/py37/lib/python3.7/site-packages/xarray/conventions.py:494: SerializationWarning: variable 'salinity' has multiple fill values {1e+35, -9999.0}, decoding all values to NaN.\n",
      "  use_cftime=use_cftime,\n",
      "/Users/bell/anaconda2/envs/py37/lib/python3.7/site-packages/xarray/conventions.py:494: SerializationWarning: variable 'PAR' has multiple fill values {1e+35, -9999.0}, decoding all values to NaN.\n",
      "  use_cftime=use_cftime,\n",
      "/Users/bell/anaconda2/envs/py37/lib/python3.7/site-packages/xarray/conventions.py:494: SerializationWarning: variable 'Chlorophyll_Fluorescence' has multiple fill values {1e+35, -9999.0}, decoding all values to NaN.\n",
      "  use_cftime=use_cftime,\n",
      "/Users/bell/anaconda2/envs/py37/lib/python3.7/site-packages/xarray/conventions.py:494: SerializationWarning: variable 'Oxygen_Saturation' has multiple fill values {1e+35, -9999.0}, decoding all values to NaN.\n",
      "  use_cftime=use_cftime,\n",
      "/Users/bell/anaconda2/envs/py37/lib/python3.7/site-packages/xarray/conventions.py:494: SerializationWarning: variable 'Oxygen_Concentration' has multiple fill values {1e+35, -9999.0}, decoding all values to NaN.\n",
      "  use_cftime=use_cftime,\n"
     ]
    },
    {
     "name": "stdout",
     "output_type": "stream",
     "text": [
      "1hr_gridded_datasets_Mooring_04bsm2a_final\n"
     ]
    },
    {
     "name": "stderr",
     "output_type": "stream",
     "text": [
      "/Users/bell/anaconda2/envs/py37/lib/python3.7/site-packages/xarray/conventions.py:494: SerializationWarning: variable 'temperature' has multiple fill values {1e+35, -9999.0}, decoding all values to NaN.\n",
      "  use_cftime=use_cftime,\n",
      "/Users/bell/anaconda2/envs/py37/lib/python3.7/site-packages/xarray/conventions.py:494: SerializationWarning: variable 'pressure' has multiple fill values {1e+35, -9999.0}, decoding all values to NaN.\n",
      "  use_cftime=use_cftime,\n",
      "/Users/bell/anaconda2/envs/py37/lib/python3.7/site-packages/xarray/conventions.py:494: SerializationWarning: variable 'salinity' has multiple fill values {1e+35, -9999.0}, decoding all values to NaN.\n",
      "  use_cftime=use_cftime,\n",
      "/Users/bell/anaconda2/envs/py37/lib/python3.7/site-packages/xarray/conventions.py:494: SerializationWarning: variable 'PAR' has multiple fill values {1e+35, -9999.0}, decoding all values to NaN.\n",
      "  use_cftime=use_cftime,\n",
      "/Users/bell/anaconda2/envs/py37/lib/python3.7/site-packages/xarray/conventions.py:494: SerializationWarning: variable 'Chlorophyll_Fluorescence' has multiple fill values {1e+35, -9999.0}, decoding all values to NaN.\n",
      "  use_cftime=use_cftime,\n",
      "/Users/bell/anaconda2/envs/py37/lib/python3.7/site-packages/xarray/conventions.py:494: SerializationWarning: variable 'Oxygen_Saturation' has multiple fill values {1e+35, -9999.0}, decoding all values to NaN.\n",
      "  use_cftime=use_cftime,\n",
      "/Users/bell/anaconda2/envs/py37/lib/python3.7/site-packages/xarray/conventions.py:494: SerializationWarning: variable 'Oxygen_Concentration' has multiple fill values {1e+35, -9999.0}, decoding all values to NaN.\n",
      "  use_cftime=use_cftime,\n"
     ]
    },
    {
     "name": "stdout",
     "output_type": "stream",
     "text": [
      "1hr_gridded_datasets_Mooring_05bs2c_final\n"
     ]
    },
    {
     "name": "stderr",
     "output_type": "stream",
     "text": [
      "/Users/bell/anaconda2/envs/py37/lib/python3.7/site-packages/xarray/conventions.py:494: SerializationWarning: variable 'temperature' has multiple fill values {1e+35, -9999.0}, decoding all values to NaN.\n",
      "  use_cftime=use_cftime,\n",
      "/Users/bell/anaconda2/envs/py37/lib/python3.7/site-packages/xarray/conventions.py:494: SerializationWarning: variable 'pressure' has multiple fill values {1e+35, -9999.0}, decoding all values to NaN.\n",
      "  use_cftime=use_cftime,\n",
      "/Users/bell/anaconda2/envs/py37/lib/python3.7/site-packages/xarray/conventions.py:494: SerializationWarning: variable 'salinity' has multiple fill values {1e+35, -9999.0}, decoding all values to NaN.\n",
      "  use_cftime=use_cftime,\n",
      "/Users/bell/anaconda2/envs/py37/lib/python3.7/site-packages/xarray/conventions.py:494: SerializationWarning: variable 'PAR' has multiple fill values {1e+35, -9999.0}, decoding all values to NaN.\n",
      "  use_cftime=use_cftime,\n",
      "/Users/bell/anaconda2/envs/py37/lib/python3.7/site-packages/xarray/conventions.py:494: SerializationWarning: variable 'Chlorophyll_Fluorescence' has multiple fill values {1e+35, -9999.0}, decoding all values to NaN.\n",
      "  use_cftime=use_cftime,\n",
      "/Users/bell/anaconda2/envs/py37/lib/python3.7/site-packages/xarray/conventions.py:494: SerializationWarning: variable 'Oxygen_Saturation' has multiple fill values {1e+35, -9999.0}, decoding all values to NaN.\n",
      "  use_cftime=use_cftime,\n",
      "/Users/bell/anaconda2/envs/py37/lib/python3.7/site-packages/xarray/conventions.py:494: SerializationWarning: variable 'Oxygen_Concentration' has multiple fill values {1e+35, -9999.0}, decoding all values to NaN.\n",
      "  use_cftime=use_cftime,\n"
     ]
    },
    {
     "name": "stdout",
     "output_type": "stream",
     "text": [
      "1hr_gridded_datasets_Mooring_05bsm2a_final\n"
     ]
    },
    {
     "name": "stderr",
     "output_type": "stream",
     "text": [
      "/Users/bell/anaconda2/envs/py37/lib/python3.7/site-packages/xarray/conventions.py:494: SerializationWarning: variable 'temperature' has multiple fill values {1e+35, -9999.0}, decoding all values to NaN.\n",
      "  use_cftime=use_cftime,\n",
      "/Users/bell/anaconda2/envs/py37/lib/python3.7/site-packages/xarray/conventions.py:494: SerializationWarning: variable 'pressure' has multiple fill values {1e+35, -9999.0}, decoding all values to NaN.\n",
      "  use_cftime=use_cftime,\n",
      "/Users/bell/anaconda2/envs/py37/lib/python3.7/site-packages/xarray/conventions.py:494: SerializationWarning: variable 'salinity' has multiple fill values {1e+35, -9999.0}, decoding all values to NaN.\n",
      "  use_cftime=use_cftime,\n",
      "/Users/bell/anaconda2/envs/py37/lib/python3.7/site-packages/xarray/conventions.py:494: SerializationWarning: variable 'PAR' has multiple fill values {1e+35, -9999.0}, decoding all values to NaN.\n",
      "  use_cftime=use_cftime,\n",
      "/Users/bell/anaconda2/envs/py37/lib/python3.7/site-packages/xarray/conventions.py:494: SerializationWarning: variable 'Chlorophyll_Fluorescence' has multiple fill values {1e+35, -9999.0}, decoding all values to NaN.\n",
      "  use_cftime=use_cftime,\n",
      "/Users/bell/anaconda2/envs/py37/lib/python3.7/site-packages/xarray/conventions.py:494: SerializationWarning: variable 'Oxygen_Saturation' has multiple fill values {1e+35, -9999.0}, decoding all values to NaN.\n",
      "  use_cftime=use_cftime,\n",
      "/Users/bell/anaconda2/envs/py37/lib/python3.7/site-packages/xarray/conventions.py:494: SerializationWarning: variable 'Oxygen_Concentration' has multiple fill values {1e+35, -9999.0}, decoding all values to NaN.\n",
      "  use_cftime=use_cftime,\n"
     ]
    },
    {
     "name": "stdout",
     "output_type": "stream",
     "text": [
      "1hr_gridded_datasets_Mooring_06bs2c_final\n"
     ]
    },
    {
     "name": "stderr",
     "output_type": "stream",
     "text": [
      "/Users/bell/anaconda2/envs/py37/lib/python3.7/site-packages/xarray/conventions.py:494: SerializationWarning: variable 'temperature' has multiple fill values {1e+35, -9999.0}, decoding all values to NaN.\n",
      "  use_cftime=use_cftime,\n",
      "/Users/bell/anaconda2/envs/py37/lib/python3.7/site-packages/xarray/conventions.py:494: SerializationWarning: variable 'pressure' has multiple fill values {1e+35, -9999.0}, decoding all values to NaN.\n",
      "  use_cftime=use_cftime,\n",
      "/Users/bell/anaconda2/envs/py37/lib/python3.7/site-packages/xarray/conventions.py:494: SerializationWarning: variable 'salinity' has multiple fill values {1e+35, -9999.0}, decoding all values to NaN.\n",
      "  use_cftime=use_cftime,\n",
      "/Users/bell/anaconda2/envs/py37/lib/python3.7/site-packages/xarray/conventions.py:494: SerializationWarning: variable 'PAR' has multiple fill values {1e+35, -9999.0}, decoding all values to NaN.\n",
      "  use_cftime=use_cftime,\n",
      "/Users/bell/anaconda2/envs/py37/lib/python3.7/site-packages/xarray/conventions.py:494: SerializationWarning: variable 'Chlorophyll_Fluorescence' has multiple fill values {1e+35, -9999.0}, decoding all values to NaN.\n",
      "  use_cftime=use_cftime,\n",
      "/Users/bell/anaconda2/envs/py37/lib/python3.7/site-packages/xarray/conventions.py:494: SerializationWarning: variable 'Oxygen_Saturation' has multiple fill values {1e+35, -9999.0}, decoding all values to NaN.\n",
      "  use_cftime=use_cftime,\n",
      "/Users/bell/anaconda2/envs/py37/lib/python3.7/site-packages/xarray/conventions.py:494: SerializationWarning: variable 'Oxygen_Concentration' has multiple fill values {1e+35, -9999.0}, decoding all values to NaN.\n",
      "  use_cftime=use_cftime,\n"
     ]
    },
    {
     "name": "stdout",
     "output_type": "stream",
     "text": [
      "1hr_gridded_datasets_Mooring_06bsm2a_final\n"
     ]
    },
    {
     "name": "stderr",
     "output_type": "stream",
     "text": [
      "/Users/bell/anaconda2/envs/py37/lib/python3.7/site-packages/xarray/conventions.py:494: SerializationWarning: variable 'temperature' has multiple fill values {1e+35, -9999.0}, decoding all values to NaN.\n",
      "  use_cftime=use_cftime,\n",
      "/Users/bell/anaconda2/envs/py37/lib/python3.7/site-packages/xarray/conventions.py:494: SerializationWarning: variable 'pressure' has multiple fill values {1e+35, -9999.0}, decoding all values to NaN.\n",
      "  use_cftime=use_cftime,\n",
      "/Users/bell/anaconda2/envs/py37/lib/python3.7/site-packages/xarray/conventions.py:494: SerializationWarning: variable 'salinity' has multiple fill values {1e+35, -9999.0}, decoding all values to NaN.\n",
      "  use_cftime=use_cftime,\n",
      "/Users/bell/anaconda2/envs/py37/lib/python3.7/site-packages/xarray/conventions.py:494: SerializationWarning: variable 'PAR' has multiple fill values {1e+35, -9999.0}, decoding all values to NaN.\n",
      "  use_cftime=use_cftime,\n",
      "/Users/bell/anaconda2/envs/py37/lib/python3.7/site-packages/xarray/conventions.py:494: SerializationWarning: variable 'Chlorophyll_Fluorescence' has multiple fill values {1e+35, -9999.0}, decoding all values to NaN.\n",
      "  use_cftime=use_cftime,\n",
      "/Users/bell/anaconda2/envs/py37/lib/python3.7/site-packages/xarray/conventions.py:494: SerializationWarning: variable 'Oxygen_Saturation' has multiple fill values {1e+35, -9999.0}, decoding all values to NaN.\n",
      "  use_cftime=use_cftime,\n",
      "/Users/bell/anaconda2/envs/py37/lib/python3.7/site-packages/xarray/conventions.py:494: SerializationWarning: variable 'Oxygen_Concentration' has multiple fill values {1e+35, -9999.0}, decoding all values to NaN.\n",
      "  use_cftime=use_cftime,\n"
     ]
    },
    {
     "name": "stdout",
     "output_type": "stream",
     "text": [
      "1hr_gridded_datasets_Mooring_07bs2c_final\n"
     ]
    },
    {
     "name": "stderr",
     "output_type": "stream",
     "text": [
      "/Users/bell/anaconda2/envs/py37/lib/python3.7/site-packages/xarray/conventions.py:494: SerializationWarning: variable 'temperature' has multiple fill values {1e+35, -9999.0}, decoding all values to NaN.\n",
      "  use_cftime=use_cftime,\n",
      "/Users/bell/anaconda2/envs/py37/lib/python3.7/site-packages/xarray/conventions.py:494: SerializationWarning: variable 'pressure' has multiple fill values {1e+35, -9999.0}, decoding all values to NaN.\n",
      "  use_cftime=use_cftime,\n",
      "/Users/bell/anaconda2/envs/py37/lib/python3.7/site-packages/xarray/conventions.py:494: SerializationWarning: variable 'salinity' has multiple fill values {1e+35, -9999.0}, decoding all values to NaN.\n",
      "  use_cftime=use_cftime,\n",
      "/Users/bell/anaconda2/envs/py37/lib/python3.7/site-packages/xarray/conventions.py:494: SerializationWarning: variable 'PAR' has multiple fill values {1e+35, -9999.0}, decoding all values to NaN.\n",
      "  use_cftime=use_cftime,\n",
      "/Users/bell/anaconda2/envs/py37/lib/python3.7/site-packages/xarray/conventions.py:494: SerializationWarning: variable 'Chlorophyll_Fluorescence' has multiple fill values {1e+35, -9999.0}, decoding all values to NaN.\n",
      "  use_cftime=use_cftime,\n",
      "/Users/bell/anaconda2/envs/py37/lib/python3.7/site-packages/xarray/conventions.py:494: SerializationWarning: variable 'Oxygen_Saturation' has multiple fill values {1e+35, -9999.0}, decoding all values to NaN.\n",
      "  use_cftime=use_cftime,\n",
      "/Users/bell/anaconda2/envs/py37/lib/python3.7/site-packages/xarray/conventions.py:494: SerializationWarning: variable 'Oxygen_Concentration' has multiple fill values {1e+35, -9999.0}, decoding all values to NaN.\n",
      "  use_cftime=use_cftime,\n"
     ]
    },
    {
     "name": "stdout",
     "output_type": "stream",
     "text": [
      "1hr_gridded_datasets_Mooring_07bsm2a_final\n"
     ]
    },
    {
     "name": "stderr",
     "output_type": "stream",
     "text": [
      "/Users/bell/anaconda2/envs/py37/lib/python3.7/site-packages/xarray/conventions.py:494: SerializationWarning: variable 'temperature' has multiple fill values {1e+35, -9999.0}, decoding all values to NaN.\n",
      "  use_cftime=use_cftime,\n",
      "/Users/bell/anaconda2/envs/py37/lib/python3.7/site-packages/xarray/conventions.py:494: SerializationWarning: variable 'pressure' has multiple fill values {1e+35, -9999.0}, decoding all values to NaN.\n",
      "  use_cftime=use_cftime,\n",
      "/Users/bell/anaconda2/envs/py37/lib/python3.7/site-packages/xarray/conventions.py:494: SerializationWarning: variable 'salinity' has multiple fill values {1e+35, -9999.0}, decoding all values to NaN.\n",
      "  use_cftime=use_cftime,\n",
      "/Users/bell/anaconda2/envs/py37/lib/python3.7/site-packages/xarray/conventions.py:494: SerializationWarning: variable 'PAR' has multiple fill values {1e+35, -9999.0}, decoding all values to NaN.\n",
      "  use_cftime=use_cftime,\n",
      "/Users/bell/anaconda2/envs/py37/lib/python3.7/site-packages/xarray/conventions.py:494: SerializationWarning: variable 'Chlorophyll_Fluorescence' has multiple fill values {1e+35, -9999.0}, decoding all values to NaN.\n",
      "  use_cftime=use_cftime,\n",
      "/Users/bell/anaconda2/envs/py37/lib/python3.7/site-packages/xarray/conventions.py:494: SerializationWarning: variable 'Oxygen_Saturation' has multiple fill values {1e+35, -9999.0}, decoding all values to NaN.\n",
      "  use_cftime=use_cftime,\n",
      "/Users/bell/anaconda2/envs/py37/lib/python3.7/site-packages/xarray/conventions.py:494: SerializationWarning: variable 'Oxygen_Concentration' has multiple fill values {1e+35, -9999.0}, decoding all values to NaN.\n",
      "  use_cftime=use_cftime,\n"
     ]
    },
    {
     "name": "stdout",
     "output_type": "stream",
     "text": [
      "1hr_gridded_datasets_Mooring_08bs2c_final\n"
     ]
    },
    {
     "name": "stderr",
     "output_type": "stream",
     "text": [
      "/Users/bell/anaconda2/envs/py37/lib/python3.7/site-packages/xarray/conventions.py:494: SerializationWarning: variable 'temperature' has multiple fill values {1e+35, -9999.0}, decoding all values to NaN.\n",
      "  use_cftime=use_cftime,\n",
      "/Users/bell/anaconda2/envs/py37/lib/python3.7/site-packages/xarray/conventions.py:494: SerializationWarning: variable 'pressure' has multiple fill values {1e+35, -9999.0}, decoding all values to NaN.\n",
      "  use_cftime=use_cftime,\n",
      "/Users/bell/anaconda2/envs/py37/lib/python3.7/site-packages/xarray/conventions.py:494: SerializationWarning: variable 'salinity' has multiple fill values {1e+35, -9999.0}, decoding all values to NaN.\n",
      "  use_cftime=use_cftime,\n",
      "/Users/bell/anaconda2/envs/py37/lib/python3.7/site-packages/xarray/conventions.py:494: SerializationWarning: variable 'PAR' has multiple fill values {1e+35, -9999.0}, decoding all values to NaN.\n",
      "  use_cftime=use_cftime,\n",
      "/Users/bell/anaconda2/envs/py37/lib/python3.7/site-packages/xarray/conventions.py:494: SerializationWarning: variable 'Chlorophyll_Fluorescence' has multiple fill values {1e+35, -9999.0}, decoding all values to NaN.\n",
      "  use_cftime=use_cftime,\n",
      "/Users/bell/anaconda2/envs/py37/lib/python3.7/site-packages/xarray/conventions.py:494: SerializationWarning: variable 'Oxygen_Saturation' has multiple fill values {1e+35, -9999.0}, decoding all values to NaN.\n",
      "  use_cftime=use_cftime,\n",
      "/Users/bell/anaconda2/envs/py37/lib/python3.7/site-packages/xarray/conventions.py:494: SerializationWarning: variable 'Oxygen_Concentration' has multiple fill values {1e+35, -9999.0}, decoding all values to NaN.\n",
      "  use_cftime=use_cftime,\n"
     ]
    },
    {
     "name": "stdout",
     "output_type": "stream",
     "text": [
      "1hr_gridded_datasets_Mooring_08bsm2a_final\n"
     ]
    },
    {
     "name": "stderr",
     "output_type": "stream",
     "text": [
      "/Users/bell/anaconda2/envs/py37/lib/python3.7/site-packages/xarray/conventions.py:494: SerializationWarning: variable 'temperature' has multiple fill values {1e+35, -9999.0}, decoding all values to NaN.\n",
      "  use_cftime=use_cftime,\n",
      "/Users/bell/anaconda2/envs/py37/lib/python3.7/site-packages/xarray/conventions.py:494: SerializationWarning: variable 'pressure' has multiple fill values {1e+35, -9999.0}, decoding all values to NaN.\n",
      "  use_cftime=use_cftime,\n",
      "/Users/bell/anaconda2/envs/py37/lib/python3.7/site-packages/xarray/conventions.py:494: SerializationWarning: variable 'salinity' has multiple fill values {1e+35, -9999.0}, decoding all values to NaN.\n",
      "  use_cftime=use_cftime,\n",
      "/Users/bell/anaconda2/envs/py37/lib/python3.7/site-packages/xarray/conventions.py:494: SerializationWarning: variable 'PAR' has multiple fill values {1e+35, -9999.0}, decoding all values to NaN.\n",
      "  use_cftime=use_cftime,\n",
      "/Users/bell/anaconda2/envs/py37/lib/python3.7/site-packages/xarray/conventions.py:494: SerializationWarning: variable 'Chlorophyll_Fluorescence' has multiple fill values {1e+35, -9999.0}, decoding all values to NaN.\n",
      "  use_cftime=use_cftime,\n",
      "/Users/bell/anaconda2/envs/py37/lib/python3.7/site-packages/xarray/conventions.py:494: SerializationWarning: variable 'Oxygen_Saturation' has multiple fill values {1e+35, -9999.0}, decoding all values to NaN.\n",
      "  use_cftime=use_cftime,\n",
      "/Users/bell/anaconda2/envs/py37/lib/python3.7/site-packages/xarray/conventions.py:494: SerializationWarning: variable 'Oxygen_Concentration' has multiple fill values {1e+35, -9999.0}, decoding all values to NaN.\n",
      "  use_cftime=use_cftime,\n"
     ]
    },
    {
     "name": "stdout",
     "output_type": "stream",
     "text": [
      "1hr_gridded_datasets_Mooring_09bs2c_final\n"
     ]
    },
    {
     "name": "stderr",
     "output_type": "stream",
     "text": [
      "/Users/bell/anaconda2/envs/py37/lib/python3.7/site-packages/xarray/conventions.py:494: SerializationWarning: variable 'temperature' has multiple fill values {1e+35, -9999.0}, decoding all values to NaN.\n",
      "  use_cftime=use_cftime,\n",
      "/Users/bell/anaconda2/envs/py37/lib/python3.7/site-packages/xarray/conventions.py:494: SerializationWarning: variable 'pressure' has multiple fill values {1e+35, -9999.0}, decoding all values to NaN.\n",
      "  use_cftime=use_cftime,\n",
      "/Users/bell/anaconda2/envs/py37/lib/python3.7/site-packages/xarray/conventions.py:494: SerializationWarning: variable 'salinity' has multiple fill values {1e+35, -9999.0}, decoding all values to NaN.\n",
      "  use_cftime=use_cftime,\n",
      "/Users/bell/anaconda2/envs/py37/lib/python3.7/site-packages/xarray/conventions.py:494: SerializationWarning: variable 'PAR' has multiple fill values {1e+35, -9999.0}, decoding all values to NaN.\n",
      "  use_cftime=use_cftime,\n",
      "/Users/bell/anaconda2/envs/py37/lib/python3.7/site-packages/xarray/conventions.py:494: SerializationWarning: variable 'Chlorophyll_Fluorescence' has multiple fill values {1e+35, -9999.0}, decoding all values to NaN.\n",
      "  use_cftime=use_cftime,\n",
      "/Users/bell/anaconda2/envs/py37/lib/python3.7/site-packages/xarray/conventions.py:494: SerializationWarning: variable 'Oxygen_Saturation' has multiple fill values {1e+35, -9999.0}, decoding all values to NaN.\n",
      "  use_cftime=use_cftime,\n",
      "/Users/bell/anaconda2/envs/py37/lib/python3.7/site-packages/xarray/conventions.py:494: SerializationWarning: variable 'Oxygen_Concentration' has multiple fill values {1e+35, -9999.0}, decoding all values to NaN.\n",
      "  use_cftime=use_cftime,\n"
     ]
    },
    {
     "name": "stdout",
     "output_type": "stream",
     "text": [
      "1hr_gridded_datasets_Mooring_09bsm2a_final\n"
     ]
    },
    {
     "name": "stderr",
     "output_type": "stream",
     "text": [
      "/Users/bell/anaconda2/envs/py37/lib/python3.7/site-packages/xarray/conventions.py:494: SerializationWarning: variable 'temperature' has multiple fill values {1e+35, -9999.0}, decoding all values to NaN.\n",
      "  use_cftime=use_cftime,\n",
      "/Users/bell/anaconda2/envs/py37/lib/python3.7/site-packages/xarray/conventions.py:494: SerializationWarning: variable 'pressure' has multiple fill values {1e+35, -9999.0}, decoding all values to NaN.\n",
      "  use_cftime=use_cftime,\n",
      "/Users/bell/anaconda2/envs/py37/lib/python3.7/site-packages/xarray/conventions.py:494: SerializationWarning: variable 'salinity' has multiple fill values {1e+35, -9999.0}, decoding all values to NaN.\n",
      "  use_cftime=use_cftime,\n",
      "/Users/bell/anaconda2/envs/py37/lib/python3.7/site-packages/xarray/conventions.py:494: SerializationWarning: variable 'PAR' has multiple fill values {1e+35, -9999.0}, decoding all values to NaN.\n",
      "  use_cftime=use_cftime,\n",
      "/Users/bell/anaconda2/envs/py37/lib/python3.7/site-packages/xarray/conventions.py:494: SerializationWarning: variable 'Chlorophyll_Fluorescence' has multiple fill values {1e+35, -9999.0}, decoding all values to NaN.\n",
      "  use_cftime=use_cftime,\n",
      "/Users/bell/anaconda2/envs/py37/lib/python3.7/site-packages/xarray/conventions.py:494: SerializationWarning: variable 'Oxygen_Saturation' has multiple fill values {1e+35, -9999.0}, decoding all values to NaN.\n",
      "  use_cftime=use_cftime,\n",
      "/Users/bell/anaconda2/envs/py37/lib/python3.7/site-packages/xarray/conventions.py:494: SerializationWarning: variable 'Oxygen_Concentration' has multiple fill values {1e+35, -9999.0}, decoding all values to NaN.\n",
      "  use_cftime=use_cftime,\n"
     ]
    },
    {
     "name": "stdout",
     "output_type": "stream",
     "text": [
      "1hr_gridded_datasets_Mooring_10bs2c_final\n"
     ]
    },
    {
     "name": "stderr",
     "output_type": "stream",
     "text": [
      "/Users/bell/anaconda2/envs/py37/lib/python3.7/site-packages/xarray/conventions.py:494: SerializationWarning: variable 'temperature' has multiple fill values {1e+35, -9999.0}, decoding all values to NaN.\n",
      "  use_cftime=use_cftime,\n",
      "/Users/bell/anaconda2/envs/py37/lib/python3.7/site-packages/xarray/conventions.py:494: SerializationWarning: variable 'pressure' has multiple fill values {1e+35, -9999.0}, decoding all values to NaN.\n",
      "  use_cftime=use_cftime,\n",
      "/Users/bell/anaconda2/envs/py37/lib/python3.7/site-packages/xarray/conventions.py:494: SerializationWarning: variable 'salinity' has multiple fill values {1e+35, -9999.0}, decoding all values to NaN.\n",
      "  use_cftime=use_cftime,\n",
      "/Users/bell/anaconda2/envs/py37/lib/python3.7/site-packages/xarray/conventions.py:494: SerializationWarning: variable 'PAR' has multiple fill values {1e+35, -9999.0}, decoding all values to NaN.\n",
      "  use_cftime=use_cftime,\n",
      "/Users/bell/anaconda2/envs/py37/lib/python3.7/site-packages/xarray/conventions.py:494: SerializationWarning: variable 'Chlorophyll_Fluorescence' has multiple fill values {1e+35, -9999.0}, decoding all values to NaN.\n",
      "  use_cftime=use_cftime,\n",
      "/Users/bell/anaconda2/envs/py37/lib/python3.7/site-packages/xarray/conventions.py:494: SerializationWarning: variable 'Oxygen_Saturation' has multiple fill values {1e+35, -9999.0}, decoding all values to NaN.\n",
      "  use_cftime=use_cftime,\n",
      "/Users/bell/anaconda2/envs/py37/lib/python3.7/site-packages/xarray/conventions.py:494: SerializationWarning: variable 'Oxygen_Concentration' has multiple fill values {1e+35, -9999.0}, decoding all values to NaN.\n",
      "  use_cftime=use_cftime,\n"
     ]
    },
    {
     "name": "stdout",
     "output_type": "stream",
     "text": [
      "1hr_gridded_datasets_Mooring_10bsm2a_final\n"
     ]
    },
    {
     "name": "stderr",
     "output_type": "stream",
     "text": [
      "/Users/bell/anaconda2/envs/py37/lib/python3.7/site-packages/xarray/conventions.py:494: SerializationWarning: variable 'temperature' has multiple fill values {1e+35, -9999.0}, decoding all values to NaN.\n",
      "  use_cftime=use_cftime,\n",
      "/Users/bell/anaconda2/envs/py37/lib/python3.7/site-packages/xarray/conventions.py:494: SerializationWarning: variable 'pressure' has multiple fill values {1e+35, -9999.0}, decoding all values to NaN.\n",
      "  use_cftime=use_cftime,\n",
      "/Users/bell/anaconda2/envs/py37/lib/python3.7/site-packages/xarray/conventions.py:494: SerializationWarning: variable 'salinity' has multiple fill values {1e+35, -9999.0}, decoding all values to NaN.\n",
      "  use_cftime=use_cftime,\n",
      "/Users/bell/anaconda2/envs/py37/lib/python3.7/site-packages/xarray/conventions.py:494: SerializationWarning: variable 'PAR' has multiple fill values {1e+35, -9999.0}, decoding all values to NaN.\n",
      "  use_cftime=use_cftime,\n",
      "/Users/bell/anaconda2/envs/py37/lib/python3.7/site-packages/xarray/conventions.py:494: SerializationWarning: variable 'Chlorophyll_Fluorescence' has multiple fill values {1e+35, -9999.0}, decoding all values to NaN.\n",
      "  use_cftime=use_cftime,\n",
      "/Users/bell/anaconda2/envs/py37/lib/python3.7/site-packages/xarray/conventions.py:494: SerializationWarning: variable 'Oxygen_Saturation' has multiple fill values {1e+35, -9999.0}, decoding all values to NaN.\n",
      "  use_cftime=use_cftime,\n",
      "/Users/bell/anaconda2/envs/py37/lib/python3.7/site-packages/xarray/conventions.py:494: SerializationWarning: variable 'Oxygen_Concentration' has multiple fill values {1e+35, -9999.0}, decoding all values to NaN.\n",
      "  use_cftime=use_cftime,\n"
     ]
    },
    {
     "name": "stdout",
     "output_type": "stream",
     "text": [
      "1hr_gridded_datasets_Mooring_11bs2c_final\n"
     ]
    },
    {
     "name": "stderr",
     "output_type": "stream",
     "text": [
      "/Users/bell/anaconda2/envs/py37/lib/python3.7/site-packages/xarray/conventions.py:494: SerializationWarning: variable 'temperature' has multiple fill values {1e+35, -9999.0}, decoding all values to NaN.\n",
      "  use_cftime=use_cftime,\n",
      "/Users/bell/anaconda2/envs/py37/lib/python3.7/site-packages/xarray/conventions.py:494: SerializationWarning: variable 'pressure' has multiple fill values {1e+35, -9999.0}, decoding all values to NaN.\n",
      "  use_cftime=use_cftime,\n",
      "/Users/bell/anaconda2/envs/py37/lib/python3.7/site-packages/xarray/conventions.py:494: SerializationWarning: variable 'salinity' has multiple fill values {1e+35, -9999.0}, decoding all values to NaN.\n",
      "  use_cftime=use_cftime,\n",
      "/Users/bell/anaconda2/envs/py37/lib/python3.7/site-packages/xarray/conventions.py:494: SerializationWarning: variable 'PAR' has multiple fill values {1e+35, -9999.0}, decoding all values to NaN.\n",
      "  use_cftime=use_cftime,\n",
      "/Users/bell/anaconda2/envs/py37/lib/python3.7/site-packages/xarray/conventions.py:494: SerializationWarning: variable 'Chlorophyll_Fluorescence' has multiple fill values {1e+35, -9999.0}, decoding all values to NaN.\n",
      "  use_cftime=use_cftime,\n",
      "/Users/bell/anaconda2/envs/py37/lib/python3.7/site-packages/xarray/conventions.py:494: SerializationWarning: variable 'Oxygen_Saturation' has multiple fill values {1e+35, -9999.0}, decoding all values to NaN.\n",
      "  use_cftime=use_cftime,\n",
      "/Users/bell/anaconda2/envs/py37/lib/python3.7/site-packages/xarray/conventions.py:494: SerializationWarning: variable 'Oxygen_Concentration' has multiple fill values {1e+35, -9999.0}, decoding all values to NaN.\n",
      "  use_cftime=use_cftime,\n"
     ]
    },
    {
     "name": "stdout",
     "output_type": "stream",
     "text": [
      "1hr_gridded_datasets_Mooring_11bsm2a_final\n"
     ]
    },
    {
     "name": "stderr",
     "output_type": "stream",
     "text": [
      "/Users/bell/anaconda2/envs/py37/lib/python3.7/site-packages/xarray/conventions.py:494: SerializationWarning: variable 'temperature' has multiple fill values {1e+35, -9999.0}, decoding all values to NaN.\n",
      "  use_cftime=use_cftime,\n",
      "/Users/bell/anaconda2/envs/py37/lib/python3.7/site-packages/xarray/conventions.py:494: SerializationWarning: variable 'pressure' has multiple fill values {1e+35, -9999.0}, decoding all values to NaN.\n",
      "  use_cftime=use_cftime,\n",
      "/Users/bell/anaconda2/envs/py37/lib/python3.7/site-packages/xarray/conventions.py:494: SerializationWarning: variable 'salinity' has multiple fill values {1e+35, -9999.0}, decoding all values to NaN.\n",
      "  use_cftime=use_cftime,\n",
      "/Users/bell/anaconda2/envs/py37/lib/python3.7/site-packages/xarray/conventions.py:494: SerializationWarning: variable 'PAR' has multiple fill values {1e+35, -9999.0}, decoding all values to NaN.\n",
      "  use_cftime=use_cftime,\n",
      "/Users/bell/anaconda2/envs/py37/lib/python3.7/site-packages/xarray/conventions.py:494: SerializationWarning: variable 'Chlorophyll_Fluorescence' has multiple fill values {1e+35, -9999.0}, decoding all values to NaN.\n",
      "  use_cftime=use_cftime,\n",
      "/Users/bell/anaconda2/envs/py37/lib/python3.7/site-packages/xarray/conventions.py:494: SerializationWarning: variable 'Oxygen_Saturation' has multiple fill values {1e+35, -9999.0}, decoding all values to NaN.\n",
      "  use_cftime=use_cftime,\n",
      "/Users/bell/anaconda2/envs/py37/lib/python3.7/site-packages/xarray/conventions.py:494: SerializationWarning: variable 'Oxygen_Concentration' has multiple fill values {1e+35, -9999.0}, decoding all values to NaN.\n",
      "  use_cftime=use_cftime,\n"
     ]
    },
    {
     "name": "stdout",
     "output_type": "stream",
     "text": [
      "1hr_gridded_datasets_Mooring_12bs2c_final\n"
     ]
    },
    {
     "name": "stderr",
     "output_type": "stream",
     "text": [
      "/Users/bell/anaconda2/envs/py37/lib/python3.7/site-packages/xarray/conventions.py:494: SerializationWarning: variable 'temperature' has multiple fill values {1e+35, -9999.0}, decoding all values to NaN.\n",
      "  use_cftime=use_cftime,\n",
      "/Users/bell/anaconda2/envs/py37/lib/python3.7/site-packages/xarray/conventions.py:494: SerializationWarning: variable 'pressure' has multiple fill values {1e+35, -9999.0}, decoding all values to NaN.\n",
      "  use_cftime=use_cftime,\n",
      "/Users/bell/anaconda2/envs/py37/lib/python3.7/site-packages/xarray/conventions.py:494: SerializationWarning: variable 'salinity' has multiple fill values {1e+35, -9999.0}, decoding all values to NaN.\n",
      "  use_cftime=use_cftime,\n",
      "/Users/bell/anaconda2/envs/py37/lib/python3.7/site-packages/xarray/conventions.py:494: SerializationWarning: variable 'PAR' has multiple fill values {1e+35, -9999.0}, decoding all values to NaN.\n",
      "  use_cftime=use_cftime,\n",
      "/Users/bell/anaconda2/envs/py37/lib/python3.7/site-packages/xarray/conventions.py:494: SerializationWarning: variable 'Chlorophyll_Fluorescence' has multiple fill values {1e+35, -9999.0}, decoding all values to NaN.\n",
      "  use_cftime=use_cftime,\n",
      "/Users/bell/anaconda2/envs/py37/lib/python3.7/site-packages/xarray/conventions.py:494: SerializationWarning: variable 'Oxygen_Saturation' has multiple fill values {1e+35, -9999.0}, decoding all values to NaN.\n",
      "  use_cftime=use_cftime,\n",
      "/Users/bell/anaconda2/envs/py37/lib/python3.7/site-packages/xarray/conventions.py:494: SerializationWarning: variable 'Oxygen_Concentration' has multiple fill values {1e+35, -9999.0}, decoding all values to NaN.\n",
      "  use_cftime=use_cftime,\n"
     ]
    },
    {
     "name": "stdout",
     "output_type": "stream",
     "text": [
      "1hr_gridded_datasets_Mooring_12bsm2a_final\n"
     ]
    },
    {
     "name": "stderr",
     "output_type": "stream",
     "text": [
      "/Users/bell/anaconda2/envs/py37/lib/python3.7/site-packages/xarray/conventions.py:494: SerializationWarning: variable 'temperature' has multiple fill values {1e+35, -9999.0}, decoding all values to NaN.\n",
      "  use_cftime=use_cftime,\n",
      "/Users/bell/anaconda2/envs/py37/lib/python3.7/site-packages/xarray/conventions.py:494: SerializationWarning: variable 'pressure' has multiple fill values {1e+35, -9999.0}, decoding all values to NaN.\n",
      "  use_cftime=use_cftime,\n",
      "/Users/bell/anaconda2/envs/py37/lib/python3.7/site-packages/xarray/conventions.py:494: SerializationWarning: variable 'salinity' has multiple fill values {1e+35, -9999.0}, decoding all values to NaN.\n",
      "  use_cftime=use_cftime,\n",
      "/Users/bell/anaconda2/envs/py37/lib/python3.7/site-packages/xarray/conventions.py:494: SerializationWarning: variable 'PAR' has multiple fill values {1e+35, -9999.0}, decoding all values to NaN.\n",
      "  use_cftime=use_cftime,\n",
      "/Users/bell/anaconda2/envs/py37/lib/python3.7/site-packages/xarray/conventions.py:494: SerializationWarning: variable 'Chlorophyll_Fluorescence' has multiple fill values {1e+35, -9999.0}, decoding all values to NaN.\n",
      "  use_cftime=use_cftime,\n",
      "/Users/bell/anaconda2/envs/py37/lib/python3.7/site-packages/xarray/conventions.py:494: SerializationWarning: variable 'Oxygen_Saturation' has multiple fill values {1e+35, -9999.0}, decoding all values to NaN.\n",
      "  use_cftime=use_cftime,\n",
      "/Users/bell/anaconda2/envs/py37/lib/python3.7/site-packages/xarray/conventions.py:494: SerializationWarning: variable 'Oxygen_Concentration' has multiple fill values {1e+35, -9999.0}, decoding all values to NaN.\n",
      "  use_cftime=use_cftime,\n"
     ]
    },
    {
     "name": "stdout",
     "output_type": "stream",
     "text": [
      "1hr_gridded_datasets_Mooring_13bs2c_final\n"
     ]
    },
    {
     "name": "stderr",
     "output_type": "stream",
     "text": [
      "/Users/bell/anaconda2/envs/py37/lib/python3.7/site-packages/xarray/conventions.py:494: SerializationWarning: variable 'temperature' has multiple fill values {1e+35, -9999.0}, decoding all values to NaN.\n",
      "  use_cftime=use_cftime,\n",
      "/Users/bell/anaconda2/envs/py37/lib/python3.7/site-packages/xarray/conventions.py:494: SerializationWarning: variable 'pressure' has multiple fill values {1e+35, -9999.0}, decoding all values to NaN.\n",
      "  use_cftime=use_cftime,\n",
      "/Users/bell/anaconda2/envs/py37/lib/python3.7/site-packages/xarray/conventions.py:494: SerializationWarning: variable 'salinity' has multiple fill values {1e+35, -9999.0}, decoding all values to NaN.\n",
      "  use_cftime=use_cftime,\n",
      "/Users/bell/anaconda2/envs/py37/lib/python3.7/site-packages/xarray/conventions.py:494: SerializationWarning: variable 'PAR' has multiple fill values {1e+35, -9999.0}, decoding all values to NaN.\n",
      "  use_cftime=use_cftime,\n",
      "/Users/bell/anaconda2/envs/py37/lib/python3.7/site-packages/xarray/conventions.py:494: SerializationWarning: variable 'Chlorophyll_Fluorescence' has multiple fill values {1e+35, -9999.0}, decoding all values to NaN.\n",
      "  use_cftime=use_cftime,\n",
      "/Users/bell/anaconda2/envs/py37/lib/python3.7/site-packages/xarray/conventions.py:494: SerializationWarning: variable 'Oxygen_Saturation' has multiple fill values {1e+35, -9999.0}, decoding all values to NaN.\n",
      "  use_cftime=use_cftime,\n",
      "/Users/bell/anaconda2/envs/py37/lib/python3.7/site-packages/xarray/conventions.py:494: SerializationWarning: variable 'Oxygen_Concentration' has multiple fill values {1e+35, -9999.0}, decoding all values to NaN.\n",
      "  use_cftime=use_cftime,\n"
     ]
    },
    {
     "name": "stdout",
     "output_type": "stream",
     "text": [
      "1hr_gridded_datasets_Mooring_13bsm2a_final\n"
     ]
    },
    {
     "name": "stderr",
     "output_type": "stream",
     "text": [
      "/Users/bell/anaconda2/envs/py37/lib/python3.7/site-packages/xarray/conventions.py:494: SerializationWarning: variable 'temperature' has multiple fill values {1e+35, -9999.0}, decoding all values to NaN.\n",
      "  use_cftime=use_cftime,\n",
      "/Users/bell/anaconda2/envs/py37/lib/python3.7/site-packages/xarray/conventions.py:494: SerializationWarning: variable 'pressure' has multiple fill values {1e+35, -9999.0}, decoding all values to NaN.\n",
      "  use_cftime=use_cftime,\n",
      "/Users/bell/anaconda2/envs/py37/lib/python3.7/site-packages/xarray/conventions.py:494: SerializationWarning: variable 'salinity' has multiple fill values {1e+35, -9999.0}, decoding all values to NaN.\n",
      "  use_cftime=use_cftime,\n",
      "/Users/bell/anaconda2/envs/py37/lib/python3.7/site-packages/xarray/conventions.py:494: SerializationWarning: variable 'PAR' has multiple fill values {1e+35, -9999.0}, decoding all values to NaN.\n",
      "  use_cftime=use_cftime,\n",
      "/Users/bell/anaconda2/envs/py37/lib/python3.7/site-packages/xarray/conventions.py:494: SerializationWarning: variable 'Chlorophyll_Fluorescence' has multiple fill values {1e+35, -9999.0}, decoding all values to NaN.\n",
      "  use_cftime=use_cftime,\n",
      "/Users/bell/anaconda2/envs/py37/lib/python3.7/site-packages/xarray/conventions.py:494: SerializationWarning: variable 'Oxygen_Saturation' has multiple fill values {1e+35, -9999.0}, decoding all values to NaN.\n",
      "  use_cftime=use_cftime,\n",
      "/Users/bell/anaconda2/envs/py37/lib/python3.7/site-packages/xarray/conventions.py:494: SerializationWarning: variable 'Oxygen_Concentration' has multiple fill values {1e+35, -9999.0}, decoding all values to NaN.\n",
      "  use_cftime=use_cftime,\n"
     ]
    },
    {
     "name": "stdout",
     "output_type": "stream",
     "text": [
      "1hr_gridded_datasets_Mooring_14bs2c_final\n"
     ]
    },
    {
     "name": "stderr",
     "output_type": "stream",
     "text": [
      "/Users/bell/anaconda2/envs/py37/lib/python3.7/site-packages/xarray/conventions.py:494: SerializationWarning: variable 'temperature' has multiple fill values {1e+35, -9999.0}, decoding all values to NaN.\n",
      "  use_cftime=use_cftime,\n",
      "/Users/bell/anaconda2/envs/py37/lib/python3.7/site-packages/xarray/conventions.py:494: SerializationWarning: variable 'pressure' has multiple fill values {1e+35, -9999.0}, decoding all values to NaN.\n",
      "  use_cftime=use_cftime,\n",
      "/Users/bell/anaconda2/envs/py37/lib/python3.7/site-packages/xarray/conventions.py:494: SerializationWarning: variable 'salinity' has multiple fill values {1e+35, -9999.0}, decoding all values to NaN.\n",
      "  use_cftime=use_cftime,\n",
      "/Users/bell/anaconda2/envs/py37/lib/python3.7/site-packages/xarray/conventions.py:494: SerializationWarning: variable 'PAR' has multiple fill values {1e+35, -9999.0}, decoding all values to NaN.\n",
      "  use_cftime=use_cftime,\n",
      "/Users/bell/anaconda2/envs/py37/lib/python3.7/site-packages/xarray/conventions.py:494: SerializationWarning: variable 'Chlorophyll_Fluorescence' has multiple fill values {1e+35, -9999.0}, decoding all values to NaN.\n",
      "  use_cftime=use_cftime,\n",
      "/Users/bell/anaconda2/envs/py37/lib/python3.7/site-packages/xarray/conventions.py:494: SerializationWarning: variable 'Oxygen_Saturation' has multiple fill values {1e+35, -9999.0}, decoding all values to NaN.\n",
      "  use_cftime=use_cftime,\n",
      "/Users/bell/anaconda2/envs/py37/lib/python3.7/site-packages/xarray/conventions.py:494: SerializationWarning: variable 'Oxygen_Concentration' has multiple fill values {1e+35, -9999.0}, decoding all values to NaN.\n",
      "  use_cftime=use_cftime,\n"
     ]
    },
    {
     "name": "stdout",
     "output_type": "stream",
     "text": [
      "1hr_gridded_datasets_Mooring_14bsm2a_final\n"
     ]
    },
    {
     "name": "stderr",
     "output_type": "stream",
     "text": [
      "/Users/bell/anaconda2/envs/py37/lib/python3.7/site-packages/xarray/conventions.py:494: SerializationWarning: variable 'temperature' has multiple fill values {1e+35, -9999.0}, decoding all values to NaN.\n",
      "  use_cftime=use_cftime,\n",
      "/Users/bell/anaconda2/envs/py37/lib/python3.7/site-packages/xarray/conventions.py:494: SerializationWarning: variable 'pressure' has multiple fill values {1e+35, -9999.0}, decoding all values to NaN.\n",
      "  use_cftime=use_cftime,\n",
      "/Users/bell/anaconda2/envs/py37/lib/python3.7/site-packages/xarray/conventions.py:494: SerializationWarning: variable 'salinity' has multiple fill values {1e+35, -9999.0}, decoding all values to NaN.\n",
      "  use_cftime=use_cftime,\n",
      "/Users/bell/anaconda2/envs/py37/lib/python3.7/site-packages/xarray/conventions.py:494: SerializationWarning: variable 'PAR' has multiple fill values {1e+35, -9999.0}, decoding all values to NaN.\n",
      "  use_cftime=use_cftime,\n",
      "/Users/bell/anaconda2/envs/py37/lib/python3.7/site-packages/xarray/conventions.py:494: SerializationWarning: variable 'Chlorophyll_Fluorescence' has multiple fill values {1e+35, -9999.0}, decoding all values to NaN.\n",
      "  use_cftime=use_cftime,\n",
      "/Users/bell/anaconda2/envs/py37/lib/python3.7/site-packages/xarray/conventions.py:494: SerializationWarning: variable 'Oxygen_Saturation' has multiple fill values {1e+35, -9999.0}, decoding all values to NaN.\n",
      "  use_cftime=use_cftime,\n",
      "/Users/bell/anaconda2/envs/py37/lib/python3.7/site-packages/xarray/conventions.py:494: SerializationWarning: variable 'Oxygen_Concentration' has multiple fill values {1e+35, -9999.0}, decoding all values to NaN.\n",
      "  use_cftime=use_cftime,\n"
     ]
    },
    {
     "name": "stdout",
     "output_type": "stream",
     "text": [
      "1hr_gridded_datasets_Mooring_15bs2c_final\n"
     ]
    },
    {
     "name": "stderr",
     "output_type": "stream",
     "text": [
      "/Users/bell/anaconda2/envs/py37/lib/python3.7/site-packages/xarray/conventions.py:494: SerializationWarning: variable 'temperature' has multiple fill values {1e+35, -9999.0}, decoding all values to NaN.\n",
      "  use_cftime=use_cftime,\n",
      "/Users/bell/anaconda2/envs/py37/lib/python3.7/site-packages/xarray/conventions.py:494: SerializationWarning: variable 'pressure' has multiple fill values {1e+35, -9999.0}, decoding all values to NaN.\n",
      "  use_cftime=use_cftime,\n",
      "/Users/bell/anaconda2/envs/py37/lib/python3.7/site-packages/xarray/conventions.py:494: SerializationWarning: variable 'salinity' has multiple fill values {1e+35, -9999.0}, decoding all values to NaN.\n",
      "  use_cftime=use_cftime,\n",
      "/Users/bell/anaconda2/envs/py37/lib/python3.7/site-packages/xarray/conventions.py:494: SerializationWarning: variable 'PAR' has multiple fill values {1e+35, -9999.0}, decoding all values to NaN.\n",
      "  use_cftime=use_cftime,\n",
      "/Users/bell/anaconda2/envs/py37/lib/python3.7/site-packages/xarray/conventions.py:494: SerializationWarning: variable 'Chlorophyll_Fluorescence' has multiple fill values {1e+35, -9999.0}, decoding all values to NaN.\n",
      "  use_cftime=use_cftime,\n",
      "/Users/bell/anaconda2/envs/py37/lib/python3.7/site-packages/xarray/conventions.py:494: SerializationWarning: variable 'Oxygen_Saturation' has multiple fill values {1e+35, -9999.0}, decoding all values to NaN.\n",
      "  use_cftime=use_cftime,\n",
      "/Users/bell/anaconda2/envs/py37/lib/python3.7/site-packages/xarray/conventions.py:494: SerializationWarning: variable 'Oxygen_Concentration' has multiple fill values {1e+35, -9999.0}, decoding all values to NaN.\n",
      "  use_cftime=use_cftime,\n"
     ]
    },
    {
     "name": "stdout",
     "output_type": "stream",
     "text": [
      "1hr_gridded_datasets_Mooring_15bsm2a_final\n"
     ]
    },
    {
     "name": "stderr",
     "output_type": "stream",
     "text": [
      "/Users/bell/anaconda2/envs/py37/lib/python3.7/site-packages/xarray/conventions.py:494: SerializationWarning: variable 'temperature' has multiple fill values {1e+35, -9999.0}, decoding all values to NaN.\n",
      "  use_cftime=use_cftime,\n",
      "/Users/bell/anaconda2/envs/py37/lib/python3.7/site-packages/xarray/conventions.py:494: SerializationWarning: variable 'pressure' has multiple fill values {1e+35, -9999.0}, decoding all values to NaN.\n",
      "  use_cftime=use_cftime,\n",
      "/Users/bell/anaconda2/envs/py37/lib/python3.7/site-packages/xarray/conventions.py:494: SerializationWarning: variable 'salinity' has multiple fill values {1e+35, -9999.0}, decoding all values to NaN.\n",
      "  use_cftime=use_cftime,\n",
      "/Users/bell/anaconda2/envs/py37/lib/python3.7/site-packages/xarray/conventions.py:494: SerializationWarning: variable 'PAR' has multiple fill values {1e+35, -9999.0}, decoding all values to NaN.\n",
      "  use_cftime=use_cftime,\n",
      "/Users/bell/anaconda2/envs/py37/lib/python3.7/site-packages/xarray/conventions.py:494: SerializationWarning: variable 'Chlorophyll_Fluorescence' has multiple fill values {1e+35, -9999.0}, decoding all values to NaN.\n",
      "  use_cftime=use_cftime,\n",
      "/Users/bell/anaconda2/envs/py37/lib/python3.7/site-packages/xarray/conventions.py:494: SerializationWarning: variable 'Oxygen_Saturation' has multiple fill values {1e+35, -9999.0}, decoding all values to NaN.\n",
      "  use_cftime=use_cftime,\n",
      "/Users/bell/anaconda2/envs/py37/lib/python3.7/site-packages/xarray/conventions.py:494: SerializationWarning: variable 'Oxygen_Concentration' has multiple fill values {1e+35, -9999.0}, decoding all values to NaN.\n",
      "  use_cftime=use_cftime,\n"
     ]
    },
    {
     "name": "stdout",
     "output_type": "stream",
     "text": [
      "1hr_gridded_datasets_Mooring_16bs2c_final\n"
     ]
    },
    {
     "name": "stderr",
     "output_type": "stream",
     "text": [
      "/Users/bell/anaconda2/envs/py37/lib/python3.7/site-packages/xarray/conventions.py:494: SerializationWarning: variable 'temperature' has multiple fill values {1e+35, -9999.0}, decoding all values to NaN.\n",
      "  use_cftime=use_cftime,\n",
      "/Users/bell/anaconda2/envs/py37/lib/python3.7/site-packages/xarray/conventions.py:494: SerializationWarning: variable 'pressure' has multiple fill values {1e+35, -9999.0}, decoding all values to NaN.\n",
      "  use_cftime=use_cftime,\n",
      "/Users/bell/anaconda2/envs/py37/lib/python3.7/site-packages/xarray/conventions.py:494: SerializationWarning: variable 'salinity' has multiple fill values {1e+35, -9999.0}, decoding all values to NaN.\n",
      "  use_cftime=use_cftime,\n",
      "/Users/bell/anaconda2/envs/py37/lib/python3.7/site-packages/xarray/conventions.py:494: SerializationWarning: variable 'PAR' has multiple fill values {1e+35, -9999.0}, decoding all values to NaN.\n",
      "  use_cftime=use_cftime,\n",
      "/Users/bell/anaconda2/envs/py37/lib/python3.7/site-packages/xarray/conventions.py:494: SerializationWarning: variable 'Chlorophyll_Fluorescence' has multiple fill values {1e+35, -9999.0}, decoding all values to NaN.\n",
      "  use_cftime=use_cftime,\n",
      "/Users/bell/anaconda2/envs/py37/lib/python3.7/site-packages/xarray/conventions.py:494: SerializationWarning: variable 'Oxygen_Saturation' has multiple fill values {1e+35, -9999.0}, decoding all values to NaN.\n",
      "  use_cftime=use_cftime,\n",
      "/Users/bell/anaconda2/envs/py37/lib/python3.7/site-packages/xarray/conventions.py:494: SerializationWarning: variable 'Oxygen_Concentration' has multiple fill values {1e+35, -9999.0}, decoding all values to NaN.\n",
      "  use_cftime=use_cftime,\n"
     ]
    },
    {
     "name": "stdout",
     "output_type": "stream",
     "text": [
      "1hr_gridded_datasets_Mooring_16bsm2a_final\n"
     ]
    },
    {
     "name": "stderr",
     "output_type": "stream",
     "text": [
      "/Users/bell/anaconda2/envs/py37/lib/python3.7/site-packages/xarray/conventions.py:494: SerializationWarning: variable 'temperature' has multiple fill values {1e+35, -9999.0}, decoding all values to NaN.\n",
      "  use_cftime=use_cftime,\n",
      "/Users/bell/anaconda2/envs/py37/lib/python3.7/site-packages/xarray/conventions.py:494: SerializationWarning: variable 'pressure' has multiple fill values {1e+35, -9999.0}, decoding all values to NaN.\n",
      "  use_cftime=use_cftime,\n",
      "/Users/bell/anaconda2/envs/py37/lib/python3.7/site-packages/xarray/conventions.py:494: SerializationWarning: variable 'salinity' has multiple fill values {1e+35, -9999.0}, decoding all values to NaN.\n",
      "  use_cftime=use_cftime,\n",
      "/Users/bell/anaconda2/envs/py37/lib/python3.7/site-packages/xarray/conventions.py:494: SerializationWarning: variable 'PAR' has multiple fill values {1e+35, -9999.0}, decoding all values to NaN.\n",
      "  use_cftime=use_cftime,\n",
      "/Users/bell/anaconda2/envs/py37/lib/python3.7/site-packages/xarray/conventions.py:494: SerializationWarning: variable 'Chlorophyll_Fluorescence' has multiple fill values {1e+35, -9999.0}, decoding all values to NaN.\n",
      "  use_cftime=use_cftime,\n",
      "/Users/bell/anaconda2/envs/py37/lib/python3.7/site-packages/xarray/conventions.py:494: SerializationWarning: variable 'Oxygen_Saturation' has multiple fill values {1e+35, -9999.0}, decoding all values to NaN.\n",
      "  use_cftime=use_cftime,\n",
      "/Users/bell/anaconda2/envs/py37/lib/python3.7/site-packages/xarray/conventions.py:494: SerializationWarning: variable 'Oxygen_Concentration' has multiple fill values {1e+35, -9999.0}, decoding all values to NaN.\n",
      "  use_cftime=use_cftime,\n"
     ]
    },
    {
     "name": "stdout",
     "output_type": "stream",
     "text": [
      "1hr_gridded_datasets_Mooring_17bs2c_final\n"
     ]
    },
    {
     "name": "stderr",
     "output_type": "stream",
     "text": [
      "/Users/bell/anaconda2/envs/py37/lib/python3.7/site-packages/xarray/conventions.py:494: SerializationWarning: variable 'temperature' has multiple fill values {1e+35, -9999.0}, decoding all values to NaN.\n",
      "  use_cftime=use_cftime,\n",
      "/Users/bell/anaconda2/envs/py37/lib/python3.7/site-packages/xarray/conventions.py:494: SerializationWarning: variable 'pressure' has multiple fill values {1e+35, -9999.0}, decoding all values to NaN.\n",
      "  use_cftime=use_cftime,\n",
      "/Users/bell/anaconda2/envs/py37/lib/python3.7/site-packages/xarray/conventions.py:494: SerializationWarning: variable 'salinity' has multiple fill values {1e+35, -9999.0}, decoding all values to NaN.\n",
      "  use_cftime=use_cftime,\n",
      "/Users/bell/anaconda2/envs/py37/lib/python3.7/site-packages/xarray/conventions.py:494: SerializationWarning: variable 'PAR' has multiple fill values {1e+35, -9999.0}, decoding all values to NaN.\n",
      "  use_cftime=use_cftime,\n",
      "/Users/bell/anaconda2/envs/py37/lib/python3.7/site-packages/xarray/conventions.py:494: SerializationWarning: variable 'Chlorophyll_Fluorescence' has multiple fill values {1e+35, -9999.0}, decoding all values to NaN.\n",
      "  use_cftime=use_cftime,\n",
      "/Users/bell/anaconda2/envs/py37/lib/python3.7/site-packages/xarray/conventions.py:494: SerializationWarning: variable 'Oxygen_Saturation' has multiple fill values {1e+35, -9999.0}, decoding all values to NaN.\n",
      "  use_cftime=use_cftime,\n",
      "/Users/bell/anaconda2/envs/py37/lib/python3.7/site-packages/xarray/conventions.py:494: SerializationWarning: variable 'Oxygen_Concentration' has multiple fill values {1e+35, -9999.0}, decoding all values to NaN.\n",
      "  use_cftime=use_cftime,\n"
     ]
    },
    {
     "name": "stdout",
     "output_type": "stream",
     "text": [
      "1hr_gridded_datasets_Mooring_17bsm2a_final\n"
     ]
    },
    {
     "name": "stderr",
     "output_type": "stream",
     "text": [
      "/Users/bell/anaconda2/envs/py37/lib/python3.7/site-packages/xarray/conventions.py:494: SerializationWarning: variable 'temperature' has multiple fill values {1e+35, -9999.0}, decoding all values to NaN.\n",
      "  use_cftime=use_cftime,\n",
      "/Users/bell/anaconda2/envs/py37/lib/python3.7/site-packages/xarray/conventions.py:494: SerializationWarning: variable 'pressure' has multiple fill values {1e+35, -9999.0}, decoding all values to NaN.\n",
      "  use_cftime=use_cftime,\n",
      "/Users/bell/anaconda2/envs/py37/lib/python3.7/site-packages/xarray/conventions.py:494: SerializationWarning: variable 'salinity' has multiple fill values {1e+35, -9999.0}, decoding all values to NaN.\n",
      "  use_cftime=use_cftime,\n",
      "/Users/bell/anaconda2/envs/py37/lib/python3.7/site-packages/xarray/conventions.py:494: SerializationWarning: variable 'PAR' has multiple fill values {1e+35, -9999.0}, decoding all values to NaN.\n",
      "  use_cftime=use_cftime,\n",
      "/Users/bell/anaconda2/envs/py37/lib/python3.7/site-packages/xarray/conventions.py:494: SerializationWarning: variable 'Chlorophyll_Fluorescence' has multiple fill values {1e+35, -9999.0}, decoding all values to NaN.\n",
      "  use_cftime=use_cftime,\n",
      "/Users/bell/anaconda2/envs/py37/lib/python3.7/site-packages/xarray/conventions.py:494: SerializationWarning: variable 'Oxygen_Saturation' has multiple fill values {1e+35, -9999.0}, decoding all values to NaN.\n",
      "  use_cftime=use_cftime,\n",
      "/Users/bell/anaconda2/envs/py37/lib/python3.7/site-packages/xarray/conventions.py:494: SerializationWarning: variable 'Oxygen_Concentration' has multiple fill values {1e+35, -9999.0}, decoding all values to NaN.\n",
      "  use_cftime=use_cftime,\n"
     ]
    },
    {
     "name": "stdout",
     "output_type": "stream",
     "text": [
      "1hr_gridded_datasets_Mooring_18bs2c_final\n"
     ]
    },
    {
     "name": "stderr",
     "output_type": "stream",
     "text": [
      "/Users/bell/anaconda2/envs/py37/lib/python3.7/site-packages/xarray/conventions.py:494: SerializationWarning: variable 'temperature' has multiple fill values {1e+35, -9999.0}, decoding all values to NaN.\n",
      "  use_cftime=use_cftime,\n",
      "/Users/bell/anaconda2/envs/py37/lib/python3.7/site-packages/xarray/conventions.py:494: SerializationWarning: variable 'pressure' has multiple fill values {1e+35, -9999.0}, decoding all values to NaN.\n",
      "  use_cftime=use_cftime,\n",
      "/Users/bell/anaconda2/envs/py37/lib/python3.7/site-packages/xarray/conventions.py:494: SerializationWarning: variable 'salinity' has multiple fill values {1e+35, -9999.0}, decoding all values to NaN.\n",
      "  use_cftime=use_cftime,\n",
      "/Users/bell/anaconda2/envs/py37/lib/python3.7/site-packages/xarray/conventions.py:494: SerializationWarning: variable 'PAR' has multiple fill values {1e+35, -9999.0}, decoding all values to NaN.\n",
      "  use_cftime=use_cftime,\n",
      "/Users/bell/anaconda2/envs/py37/lib/python3.7/site-packages/xarray/conventions.py:494: SerializationWarning: variable 'Chlorophyll_Fluorescence' has multiple fill values {1e+35, -9999.0}, decoding all values to NaN.\n",
      "  use_cftime=use_cftime,\n",
      "/Users/bell/anaconda2/envs/py37/lib/python3.7/site-packages/xarray/conventions.py:494: SerializationWarning: variable 'Oxygen_Saturation' has multiple fill values {1e+35, -9999.0}, decoding all values to NaN.\n",
      "  use_cftime=use_cftime,\n",
      "/Users/bell/anaconda2/envs/py37/lib/python3.7/site-packages/xarray/conventions.py:494: SerializationWarning: variable 'Oxygen_Concentration' has multiple fill values {1e+35, -9999.0}, decoding all values to NaN.\n",
      "  use_cftime=use_cftime,\n"
     ]
    },
    {
     "name": "stdout",
     "output_type": "stream",
     "text": [
      "1hr_gridded_datasets_Mooring_18bsm2a_final\n"
     ]
    },
    {
     "name": "stderr",
     "output_type": "stream",
     "text": [
      "/Users/bell/anaconda2/envs/py37/lib/python3.7/site-packages/xarray/conventions.py:494: SerializationWarning: variable 'temperature' has multiple fill values {1e+35, -9999.0}, decoding all values to NaN.\n",
      "  use_cftime=use_cftime,\n",
      "/Users/bell/anaconda2/envs/py37/lib/python3.7/site-packages/xarray/conventions.py:494: SerializationWarning: variable 'pressure' has multiple fill values {1e+35, -9999.0}, decoding all values to NaN.\n",
      "  use_cftime=use_cftime,\n",
      "/Users/bell/anaconda2/envs/py37/lib/python3.7/site-packages/xarray/conventions.py:494: SerializationWarning: variable 'salinity' has multiple fill values {1e+35, -9999.0}, decoding all values to NaN.\n",
      "  use_cftime=use_cftime,\n",
      "/Users/bell/anaconda2/envs/py37/lib/python3.7/site-packages/xarray/conventions.py:494: SerializationWarning: variable 'PAR' has multiple fill values {1e+35, -9999.0}, decoding all values to NaN.\n",
      "  use_cftime=use_cftime,\n",
      "/Users/bell/anaconda2/envs/py37/lib/python3.7/site-packages/xarray/conventions.py:494: SerializationWarning: variable 'Chlorophyll_Fluorescence' has multiple fill values {1e+35, -9999.0}, decoding all values to NaN.\n",
      "  use_cftime=use_cftime,\n",
      "/Users/bell/anaconda2/envs/py37/lib/python3.7/site-packages/xarray/conventions.py:494: SerializationWarning: variable 'Oxygen_Saturation' has multiple fill values {1e+35, -9999.0}, decoding all values to NaN.\n",
      "  use_cftime=use_cftime,\n",
      "/Users/bell/anaconda2/envs/py37/lib/python3.7/site-packages/xarray/conventions.py:494: SerializationWarning: variable 'Oxygen_Concentration' has multiple fill values {1e+35, -9999.0}, decoding all values to NaN.\n",
      "  use_cftime=use_cftime,\n"
     ]
    },
    {
     "name": "stdout",
     "output_type": "stream",
     "text": [
      "1hr_gridded_datasets_Mooring_19bsm2a_final\n"
     ]
    },
    {
     "name": "stderr",
     "output_type": "stream",
     "text": [
      "/Users/bell/anaconda2/envs/py37/lib/python3.7/site-packages/xarray/conventions.py:494: SerializationWarning: variable 'temperature' has multiple fill values {1e+35, -9999.0}, decoding all values to NaN.\n",
      "  use_cftime=use_cftime,\n",
      "/Users/bell/anaconda2/envs/py37/lib/python3.7/site-packages/xarray/conventions.py:494: SerializationWarning: variable 'pressure' has multiple fill values {1e+35, -9999.0}, decoding all values to NaN.\n",
      "  use_cftime=use_cftime,\n",
      "/Users/bell/anaconda2/envs/py37/lib/python3.7/site-packages/xarray/conventions.py:494: SerializationWarning: variable 'salinity' has multiple fill values {1e+35, -9999.0}, decoding all values to NaN.\n",
      "  use_cftime=use_cftime,\n",
      "/Users/bell/anaconda2/envs/py37/lib/python3.7/site-packages/xarray/conventions.py:494: SerializationWarning: variable 'PAR' has multiple fill values {1e+35, -9999.0}, decoding all values to NaN.\n",
      "  use_cftime=use_cftime,\n",
      "/Users/bell/anaconda2/envs/py37/lib/python3.7/site-packages/xarray/conventions.py:494: SerializationWarning: variable 'Chlorophyll_Fluorescence' has multiple fill values {1e+35, -9999.0}, decoding all values to NaN.\n",
      "  use_cftime=use_cftime,\n",
      "/Users/bell/anaconda2/envs/py37/lib/python3.7/site-packages/xarray/conventions.py:494: SerializationWarning: variable 'Oxygen_Saturation' has multiple fill values {1e+35, -9999.0}, decoding all values to NaN.\n",
      "  use_cftime=use_cftime,\n",
      "/Users/bell/anaconda2/envs/py37/lib/python3.7/site-packages/xarray/conventions.py:494: SerializationWarning: variable 'Oxygen_Concentration' has multiple fill values {1e+35, -9999.0}, decoding all values to NaN.\n",
      "  use_cftime=use_cftime,\n"
     ]
    },
    {
     "name": "stdout",
     "output_type": "stream",
     "text": [
      "1hr_gridded_datasets_Mooring_95bsm2a_final\n"
     ]
    },
    {
     "name": "stderr",
     "output_type": "stream",
     "text": [
      "/Users/bell/anaconda2/envs/py37/lib/python3.7/site-packages/xarray/conventions.py:494: SerializationWarning: variable 'temperature' has multiple fill values {1e+35, -9999.0}, decoding all values to NaN.\n",
      "  use_cftime=use_cftime,\n",
      "/Users/bell/anaconda2/envs/py37/lib/python3.7/site-packages/xarray/conventions.py:494: SerializationWarning: variable 'pressure' has multiple fill values {1e+35, -9999.0}, decoding all values to NaN.\n",
      "  use_cftime=use_cftime,\n",
      "/Users/bell/anaconda2/envs/py37/lib/python3.7/site-packages/xarray/conventions.py:494: SerializationWarning: variable 'salinity' has multiple fill values {1e+35, -9999.0}, decoding all values to NaN.\n",
      "  use_cftime=use_cftime,\n",
      "/Users/bell/anaconda2/envs/py37/lib/python3.7/site-packages/xarray/conventions.py:494: SerializationWarning: variable 'PAR' has multiple fill values {1e+35, -9999.0}, decoding all values to NaN.\n",
      "  use_cftime=use_cftime,\n",
      "/Users/bell/anaconda2/envs/py37/lib/python3.7/site-packages/xarray/conventions.py:494: SerializationWarning: variable 'Chlorophyll_Fluorescence' has multiple fill values {1e+35, -9999.0}, decoding all values to NaN.\n",
      "  use_cftime=use_cftime,\n",
      "/Users/bell/anaconda2/envs/py37/lib/python3.7/site-packages/xarray/conventions.py:494: SerializationWarning: variable 'Oxygen_Saturation' has multiple fill values {1e+35, -9999.0}, decoding all values to NaN.\n",
      "  use_cftime=use_cftime,\n",
      "/Users/bell/anaconda2/envs/py37/lib/python3.7/site-packages/xarray/conventions.py:494: SerializationWarning: variable 'Oxygen_Concentration' has multiple fill values {1e+35, -9999.0}, decoding all values to NaN.\n",
      "  use_cftime=use_cftime,\n"
     ]
    },
    {
     "name": "stdout",
     "output_type": "stream",
     "text": [
      "1hr_gridded_datasets_Mooring_96bs2c_final\n"
     ]
    },
    {
     "name": "stderr",
     "output_type": "stream",
     "text": [
      "/Users/bell/anaconda2/envs/py37/lib/python3.7/site-packages/xarray/conventions.py:494: SerializationWarning: variable 'temperature' has multiple fill values {1e+35, -9999.0}, decoding all values to NaN.\n",
      "  use_cftime=use_cftime,\n",
      "/Users/bell/anaconda2/envs/py37/lib/python3.7/site-packages/xarray/conventions.py:494: SerializationWarning: variable 'pressure' has multiple fill values {1e+35, -9999.0}, decoding all values to NaN.\n",
      "  use_cftime=use_cftime,\n",
      "/Users/bell/anaconda2/envs/py37/lib/python3.7/site-packages/xarray/conventions.py:494: SerializationWarning: variable 'salinity' has multiple fill values {1e+35, -9999.0}, decoding all values to NaN.\n",
      "  use_cftime=use_cftime,\n",
      "/Users/bell/anaconda2/envs/py37/lib/python3.7/site-packages/xarray/conventions.py:494: SerializationWarning: variable 'PAR' has multiple fill values {1e+35, -9999.0}, decoding all values to NaN.\n",
      "  use_cftime=use_cftime,\n",
      "/Users/bell/anaconda2/envs/py37/lib/python3.7/site-packages/xarray/conventions.py:494: SerializationWarning: variable 'Chlorophyll_Fluorescence' has multiple fill values {1e+35, -9999.0}, decoding all values to NaN.\n",
      "  use_cftime=use_cftime,\n",
      "/Users/bell/anaconda2/envs/py37/lib/python3.7/site-packages/xarray/conventions.py:494: SerializationWarning: variable 'Oxygen_Saturation' has multiple fill values {1e+35, -9999.0}, decoding all values to NaN.\n",
      "  use_cftime=use_cftime,\n",
      "/Users/bell/anaconda2/envs/py37/lib/python3.7/site-packages/xarray/conventions.py:494: SerializationWarning: variable 'Oxygen_Concentration' has multiple fill values {1e+35, -9999.0}, decoding all values to NaN.\n",
      "  use_cftime=use_cftime,\n"
     ]
    },
    {
     "name": "stdout",
     "output_type": "stream",
     "text": [
      "1hr_gridded_datasets_Mooring_96bsm2a_final\n"
     ]
    },
    {
     "name": "stderr",
     "output_type": "stream",
     "text": [
      "/Users/bell/anaconda2/envs/py37/lib/python3.7/site-packages/xarray/conventions.py:494: SerializationWarning: variable 'temperature' has multiple fill values {1e+35, -9999.0}, decoding all values to NaN.\n",
      "  use_cftime=use_cftime,\n",
      "/Users/bell/anaconda2/envs/py37/lib/python3.7/site-packages/xarray/conventions.py:494: SerializationWarning: variable 'pressure' has multiple fill values {1e+35, -9999.0}, decoding all values to NaN.\n",
      "  use_cftime=use_cftime,\n",
      "/Users/bell/anaconda2/envs/py37/lib/python3.7/site-packages/xarray/conventions.py:494: SerializationWarning: variable 'salinity' has multiple fill values {1e+35, -9999.0}, decoding all values to NaN.\n",
      "  use_cftime=use_cftime,\n",
      "/Users/bell/anaconda2/envs/py37/lib/python3.7/site-packages/xarray/conventions.py:494: SerializationWarning: variable 'PAR' has multiple fill values {1e+35, -9999.0}, decoding all values to NaN.\n",
      "  use_cftime=use_cftime,\n",
      "/Users/bell/anaconda2/envs/py37/lib/python3.7/site-packages/xarray/conventions.py:494: SerializationWarning: variable 'Chlorophyll_Fluorescence' has multiple fill values {1e+35, -9999.0}, decoding all values to NaN.\n",
      "  use_cftime=use_cftime,\n",
      "/Users/bell/anaconda2/envs/py37/lib/python3.7/site-packages/xarray/conventions.py:494: SerializationWarning: variable 'Oxygen_Saturation' has multiple fill values {1e+35, -9999.0}, decoding all values to NaN.\n",
      "  use_cftime=use_cftime,\n",
      "/Users/bell/anaconda2/envs/py37/lib/python3.7/site-packages/xarray/conventions.py:494: SerializationWarning: variable 'Oxygen_Concentration' has multiple fill values {1e+35, -9999.0}, decoding all values to NaN.\n",
      "  use_cftime=use_cftime,\n"
     ]
    },
    {
     "name": "stdout",
     "output_type": "stream",
     "text": [
      "1hr_gridded_datasets_Mooring_97bs2c_final\n"
     ]
    },
    {
     "name": "stderr",
     "output_type": "stream",
     "text": [
      "/Users/bell/anaconda2/envs/py37/lib/python3.7/site-packages/xarray/conventions.py:494: SerializationWarning: variable 'temperature' has multiple fill values {1e+35, -9999.0}, decoding all values to NaN.\n",
      "  use_cftime=use_cftime,\n",
      "/Users/bell/anaconda2/envs/py37/lib/python3.7/site-packages/xarray/conventions.py:494: SerializationWarning: variable 'pressure' has multiple fill values {1e+35, -9999.0}, decoding all values to NaN.\n",
      "  use_cftime=use_cftime,\n",
      "/Users/bell/anaconda2/envs/py37/lib/python3.7/site-packages/xarray/conventions.py:494: SerializationWarning: variable 'salinity' has multiple fill values {1e+35, -9999.0}, decoding all values to NaN.\n",
      "  use_cftime=use_cftime,\n",
      "/Users/bell/anaconda2/envs/py37/lib/python3.7/site-packages/xarray/conventions.py:494: SerializationWarning: variable 'PAR' has multiple fill values {1e+35, -9999.0}, decoding all values to NaN.\n",
      "  use_cftime=use_cftime,\n",
      "/Users/bell/anaconda2/envs/py37/lib/python3.7/site-packages/xarray/conventions.py:494: SerializationWarning: variable 'Chlorophyll_Fluorescence' has multiple fill values {1e+35, -9999.0}, decoding all values to NaN.\n",
      "  use_cftime=use_cftime,\n",
      "/Users/bell/anaconda2/envs/py37/lib/python3.7/site-packages/xarray/conventions.py:494: SerializationWarning: variable 'Oxygen_Saturation' has multiple fill values {1e+35, -9999.0}, decoding all values to NaN.\n",
      "  use_cftime=use_cftime,\n",
      "/Users/bell/anaconda2/envs/py37/lib/python3.7/site-packages/xarray/conventions.py:494: SerializationWarning: variable 'Oxygen_Concentration' has multiple fill values {1e+35, -9999.0}, decoding all values to NaN.\n",
      "  use_cftime=use_cftime,\n"
     ]
    },
    {
     "name": "stdout",
     "output_type": "stream",
     "text": [
      "1hr_gridded_datasets_Mooring_97bsm2a_final\n"
     ]
    },
    {
     "name": "stderr",
     "output_type": "stream",
     "text": [
      "/Users/bell/anaconda2/envs/py37/lib/python3.7/site-packages/xarray/conventions.py:494: SerializationWarning: variable 'temperature' has multiple fill values {1e+35, -9999.0}, decoding all values to NaN.\n",
      "  use_cftime=use_cftime,\n",
      "/Users/bell/anaconda2/envs/py37/lib/python3.7/site-packages/xarray/conventions.py:494: SerializationWarning: variable 'pressure' has multiple fill values {1e+35, -9999.0}, decoding all values to NaN.\n",
      "  use_cftime=use_cftime,\n",
      "/Users/bell/anaconda2/envs/py37/lib/python3.7/site-packages/xarray/conventions.py:494: SerializationWarning: variable 'salinity' has multiple fill values {1e+35, -9999.0}, decoding all values to NaN.\n",
      "  use_cftime=use_cftime,\n",
      "/Users/bell/anaconda2/envs/py37/lib/python3.7/site-packages/xarray/conventions.py:494: SerializationWarning: variable 'PAR' has multiple fill values {1e+35, -9999.0}, decoding all values to NaN.\n",
      "  use_cftime=use_cftime,\n",
      "/Users/bell/anaconda2/envs/py37/lib/python3.7/site-packages/xarray/conventions.py:494: SerializationWarning: variable 'Chlorophyll_Fluorescence' has multiple fill values {1e+35, -9999.0}, decoding all values to NaN.\n",
      "  use_cftime=use_cftime,\n",
      "/Users/bell/anaconda2/envs/py37/lib/python3.7/site-packages/xarray/conventions.py:494: SerializationWarning: variable 'Oxygen_Saturation' has multiple fill values {1e+35, -9999.0}, decoding all values to NaN.\n",
      "  use_cftime=use_cftime,\n",
      "/Users/bell/anaconda2/envs/py37/lib/python3.7/site-packages/xarray/conventions.py:494: SerializationWarning: variable 'Oxygen_Concentration' has multiple fill values {1e+35, -9999.0}, decoding all values to NaN.\n",
      "  use_cftime=use_cftime,\n"
     ]
    },
    {
     "name": "stdout",
     "output_type": "stream",
     "text": [
      "1hr_gridded_datasets_Mooring_98bs2c_final\n"
     ]
    },
    {
     "name": "stderr",
     "output_type": "stream",
     "text": [
      "/Users/bell/anaconda2/envs/py37/lib/python3.7/site-packages/xarray/conventions.py:494: SerializationWarning: variable 'temperature' has multiple fill values {1e+35, -9999.0}, decoding all values to NaN.\n",
      "  use_cftime=use_cftime,\n",
      "/Users/bell/anaconda2/envs/py37/lib/python3.7/site-packages/xarray/conventions.py:494: SerializationWarning: variable 'pressure' has multiple fill values {1e+35, -9999.0}, decoding all values to NaN.\n",
      "  use_cftime=use_cftime,\n",
      "/Users/bell/anaconda2/envs/py37/lib/python3.7/site-packages/xarray/conventions.py:494: SerializationWarning: variable 'salinity' has multiple fill values {1e+35, -9999.0}, decoding all values to NaN.\n",
      "  use_cftime=use_cftime,\n",
      "/Users/bell/anaconda2/envs/py37/lib/python3.7/site-packages/xarray/conventions.py:494: SerializationWarning: variable 'PAR' has multiple fill values {1e+35, -9999.0}, decoding all values to NaN.\n",
      "  use_cftime=use_cftime,\n",
      "/Users/bell/anaconda2/envs/py37/lib/python3.7/site-packages/xarray/conventions.py:494: SerializationWarning: variable 'Chlorophyll_Fluorescence' has multiple fill values {1e+35, -9999.0}, decoding all values to NaN.\n",
      "  use_cftime=use_cftime,\n",
      "/Users/bell/anaconda2/envs/py37/lib/python3.7/site-packages/xarray/conventions.py:494: SerializationWarning: variable 'Oxygen_Saturation' has multiple fill values {1e+35, -9999.0}, decoding all values to NaN.\n",
      "  use_cftime=use_cftime,\n",
      "/Users/bell/anaconda2/envs/py37/lib/python3.7/site-packages/xarray/conventions.py:494: SerializationWarning: variable 'Oxygen_Concentration' has multiple fill values {1e+35, -9999.0}, decoding all values to NaN.\n",
      "  use_cftime=use_cftime,\n"
     ]
    },
    {
     "name": "stdout",
     "output_type": "stream",
     "text": [
      "1hr_gridded_datasets_Mooring_98bsm2a_final\n"
     ]
    },
    {
     "name": "stderr",
     "output_type": "stream",
     "text": [
      "/Users/bell/anaconda2/envs/py37/lib/python3.7/site-packages/xarray/conventions.py:494: SerializationWarning: variable 'temperature' has multiple fill values {1e+35, -9999.0}, decoding all values to NaN.\n",
      "  use_cftime=use_cftime,\n",
      "/Users/bell/anaconda2/envs/py37/lib/python3.7/site-packages/xarray/conventions.py:494: SerializationWarning: variable 'pressure' has multiple fill values {1e+35, -9999.0}, decoding all values to NaN.\n",
      "  use_cftime=use_cftime,\n",
      "/Users/bell/anaconda2/envs/py37/lib/python3.7/site-packages/xarray/conventions.py:494: SerializationWarning: variable 'salinity' has multiple fill values {1e+35, -9999.0}, decoding all values to NaN.\n",
      "  use_cftime=use_cftime,\n",
      "/Users/bell/anaconda2/envs/py37/lib/python3.7/site-packages/xarray/conventions.py:494: SerializationWarning: variable 'PAR' has multiple fill values {1e+35, -9999.0}, decoding all values to NaN.\n",
      "  use_cftime=use_cftime,\n",
      "/Users/bell/anaconda2/envs/py37/lib/python3.7/site-packages/xarray/conventions.py:494: SerializationWarning: variable 'Chlorophyll_Fluorescence' has multiple fill values {1e+35, -9999.0}, decoding all values to NaN.\n",
      "  use_cftime=use_cftime,\n",
      "/Users/bell/anaconda2/envs/py37/lib/python3.7/site-packages/xarray/conventions.py:494: SerializationWarning: variable 'Oxygen_Saturation' has multiple fill values {1e+35, -9999.0}, decoding all values to NaN.\n",
      "  use_cftime=use_cftime,\n",
      "/Users/bell/anaconda2/envs/py37/lib/python3.7/site-packages/xarray/conventions.py:494: SerializationWarning: variable 'Oxygen_Concentration' has multiple fill values {1e+35, -9999.0}, decoding all values to NaN.\n",
      "  use_cftime=use_cftime,\n"
     ]
    },
    {
     "name": "stdout",
     "output_type": "stream",
     "text": [
      "1hr_gridded_datasets_Mooring_99bs2c_final\n"
     ]
    },
    {
     "name": "stderr",
     "output_type": "stream",
     "text": [
      "/Users/bell/anaconda2/envs/py37/lib/python3.7/site-packages/xarray/conventions.py:494: SerializationWarning: variable 'temperature' has multiple fill values {1e+35, -9999.0}, decoding all values to NaN.\n",
      "  use_cftime=use_cftime,\n",
      "/Users/bell/anaconda2/envs/py37/lib/python3.7/site-packages/xarray/conventions.py:494: SerializationWarning: variable 'pressure' has multiple fill values {1e+35, -9999.0}, decoding all values to NaN.\n",
      "  use_cftime=use_cftime,\n",
      "/Users/bell/anaconda2/envs/py37/lib/python3.7/site-packages/xarray/conventions.py:494: SerializationWarning: variable 'salinity' has multiple fill values {1e+35, -9999.0}, decoding all values to NaN.\n",
      "  use_cftime=use_cftime,\n",
      "/Users/bell/anaconda2/envs/py37/lib/python3.7/site-packages/xarray/conventions.py:494: SerializationWarning: variable 'PAR' has multiple fill values {1e+35, -9999.0}, decoding all values to NaN.\n",
      "  use_cftime=use_cftime,\n",
      "/Users/bell/anaconda2/envs/py37/lib/python3.7/site-packages/xarray/conventions.py:494: SerializationWarning: variable 'Chlorophyll_Fluorescence' has multiple fill values {1e+35, -9999.0}, decoding all values to NaN.\n",
      "  use_cftime=use_cftime,\n",
      "/Users/bell/anaconda2/envs/py37/lib/python3.7/site-packages/xarray/conventions.py:494: SerializationWarning: variable 'Oxygen_Saturation' has multiple fill values {1e+35, -9999.0}, decoding all values to NaN.\n",
      "  use_cftime=use_cftime,\n",
      "/Users/bell/anaconda2/envs/py37/lib/python3.7/site-packages/xarray/conventions.py:494: SerializationWarning: variable 'Oxygen_Concentration' has multiple fill values {1e+35, -9999.0}, decoding all values to NaN.\n",
      "  use_cftime=use_cftime,\n"
     ]
    },
    {
     "name": "stdout",
     "output_type": "stream",
     "text": [
      "1hr_gridded_datasets_Mooring_99bsm2a_final\n"
     ]
    },
    {
     "name": "stderr",
     "output_type": "stream",
     "text": [
      "/Users/bell/anaconda2/envs/py37/lib/python3.7/site-packages/xarray/conventions.py:494: SerializationWarning: variable 'temperature' has multiple fill values {1e+35, -9999.0}, decoding all values to NaN.\n",
      "  use_cftime=use_cftime,\n",
      "/Users/bell/anaconda2/envs/py37/lib/python3.7/site-packages/xarray/conventions.py:494: SerializationWarning: variable 'pressure' has multiple fill values {1e+35, -9999.0}, decoding all values to NaN.\n",
      "  use_cftime=use_cftime,\n",
      "/Users/bell/anaconda2/envs/py37/lib/python3.7/site-packages/xarray/conventions.py:494: SerializationWarning: variable 'salinity' has multiple fill values {1e+35, -9999.0}, decoding all values to NaN.\n",
      "  use_cftime=use_cftime,\n",
      "/Users/bell/anaconda2/envs/py37/lib/python3.7/site-packages/xarray/conventions.py:494: SerializationWarning: variable 'PAR' has multiple fill values {1e+35, -9999.0}, decoding all values to NaN.\n",
      "  use_cftime=use_cftime,\n",
      "/Users/bell/anaconda2/envs/py37/lib/python3.7/site-packages/xarray/conventions.py:494: SerializationWarning: variable 'Chlorophyll_Fluorescence' has multiple fill values {1e+35, -9999.0}, decoding all values to NaN.\n",
      "  use_cftime=use_cftime,\n",
      "/Users/bell/anaconda2/envs/py37/lib/python3.7/site-packages/xarray/conventions.py:494: SerializationWarning: variable 'Oxygen_Saturation' has multiple fill values {1e+35, -9999.0}, decoding all values to NaN.\n",
      "  use_cftime=use_cftime,\n",
      "/Users/bell/anaconda2/envs/py37/lib/python3.7/site-packages/xarray/conventions.py:494: SerializationWarning: variable 'Oxygen_Concentration' has multiple fill values {1e+35, -9999.0}, decoding all values to NaN.\n",
      "  use_cftime=use_cftime,\n"
     ]
    },
    {
     "data": {
      "image/png": "[encoded data removed]",
      "text/plain": [
       "<Figure size 612x396 with 4 Axes>"
      ]
     },
     "metadata": {},
     "output_type": "display_data"
    }
   ],
   "source": [
    "fig, (ax1, ax2, ax3, ax4) = plt.subplots(nrows=4, sharex=True, figsize=(8.5,5.5))\n",
    "\n",
    "for dataset_id in df['Dataset ID'].values:\n",
    "    if ('m2a' in dataset_id) or ('bs2c' in dataset_id):\n",
    "        print(dataset_id)\n",
    "        \n",
    "        e.protocol = 'griddap'\n",
    "        e.dataset_id=dataset_id\n",
    "        e.response = 'nc'\n",
    "        ds = e.to_xarray(decode_times=True)\n",
    "        \n",
    "        newdepth = np.linspace(0, 72,73)\n",
    "\n",
    "        try:\n",
    "            filled = ds.interpolate_na(dim='depth',limit=2)\n",
    "            dsi = filled.interp(depth=newdepth)\n",
    "\n",
    "            ax1.pcolormesh(dsi.time,dsi.depth,dsi.temperature,\n",
    "                           vmin=-2,vmax=14,\n",
    "                           cmap=cmocean.cm.thermal)\n",
    "            ax2.pcolormesh(dsi.time,dsi.depth,dsi.temperature.diff(dim='depth'),\n",
    "                           vmin=-5,vmax=5,\n",
    "                           cmap=cmocean.cm.balance)\n",
    "            ax3.pcolormesh(dsi.time,dsi.depth,dsi.salinity,\n",
    "                           vmin=31,vmax=32,\n",
    "                           cmap=cmocean.cm.haline)\n",
    "            ax4.pcolormesh(dsi.time,dsi.depth,dsi.Chlorophyll_Fluorescence,\n",
    "                           vmin=0,vmax=20,\n",
    "                           cmap=cmocean.cm.algae)\n",
    "        except:\n",
    "            continue\n",
    "\n",
    "ax1.invert_yaxis()\n",
    "ax2.invert_yaxis()\n",
    "ax3.invert_yaxis()\n",
    "ax4.invert_yaxis()\n",
    "\n",
    "xfmt = mdates.DateFormatter('%d-%b\\n%y')\n",
    "ax4.xaxis.set_major_formatter(xfmt)\n",
    "ax4.xaxis.set_major_locator(YearLocator())\n",
    "ax4.xaxis.set_minor_locator(MonthLocator())\n",
    "\n"
   ]
  },
  {
   "cell_type": "code",
   "execution_count": 132,
   "metadata": {
    "collapsed": true,
    "jupyter": {
     "outputs_hidden": true,
     "source_hidden": true
    }
   },
   "outputs": [
    {
     "name": "stdout",
     "output_type": "stream",
     "text": [
      "1hr_gridded_datasets_Mooring_00bsm2a_final\n"
     ]
    },
    {
     "name": "stderr",
     "output_type": "stream",
     "text": [
      "/Users/bell/anaconda2/envs/py37/lib/python3.7/site-packages/xarray/conventions.py:494: SerializationWarning: variable 'temperature' has multiple fill values {1e+35, -9999.0}, decoding all values to NaN.\n",
      "  use_cftime=use_cftime,\n",
      "/Users/bell/anaconda2/envs/py37/lib/python3.7/site-packages/xarray/conventions.py:494: SerializationWarning: variable 'pressure' has multiple fill values {1e+35, -9999.0}, decoding all values to NaN.\n",
      "  use_cftime=use_cftime,\n",
      "/Users/bell/anaconda2/envs/py37/lib/python3.7/site-packages/xarray/conventions.py:494: SerializationWarning: variable 'salinity' has multiple fill values {1e+35, -9999.0}, decoding all values to NaN.\n",
      "  use_cftime=use_cftime,\n",
      "/Users/bell/anaconda2/envs/py37/lib/python3.7/site-packages/xarray/conventions.py:494: SerializationWarning: variable 'PAR' has multiple fill values {1e+35, -9999.0}, decoding all values to NaN.\n",
      "  use_cftime=use_cftime,\n",
      "/Users/bell/anaconda2/envs/py37/lib/python3.7/site-packages/xarray/conventions.py:494: SerializationWarning: variable 'Chlorophyll_Fluorescence' has multiple fill values {1e+35, -9999.0}, decoding all values to NaN.\n",
      "  use_cftime=use_cftime,\n",
      "/Users/bell/anaconda2/envs/py37/lib/python3.7/site-packages/xarray/conventions.py:494: SerializationWarning: variable 'Oxygen_Saturation' has multiple fill values {1e+35, -9999.0}, decoding all values to NaN.\n",
      "  use_cftime=use_cftime,\n",
      "/Users/bell/anaconda2/envs/py37/lib/python3.7/site-packages/xarray/conventions.py:494: SerializationWarning: variable 'Oxygen_Concentration' has multiple fill values {1e+35, -9999.0}, decoding all values to NaN.\n",
      "  use_cftime=use_cftime,\n"
     ]
    },
    {
     "name": "stdout",
     "output_type": "stream",
     "text": [
      "1hr_gridded_datasets_Mooring_01bs2c_final\n"
     ]
    },
    {
     "name": "stderr",
     "output_type": "stream",
     "text": [
      "/Users/bell/anaconda2/envs/py37/lib/python3.7/site-packages/xarray/conventions.py:494: SerializationWarning: variable 'temperature' has multiple fill values {1e+35, -9999.0}, decoding all values to NaN.\n",
      "  use_cftime=use_cftime,\n",
      "/Users/bell/anaconda2/envs/py37/lib/python3.7/site-packages/xarray/conventions.py:494: SerializationWarning: variable 'pressure' has multiple fill values {1e+35, -9999.0}, decoding all values to NaN.\n",
      "  use_cftime=use_cftime,\n",
      "/Users/bell/anaconda2/envs/py37/lib/python3.7/site-packages/xarray/conventions.py:494: SerializationWarning: variable 'salinity' has multiple fill values {1e+35, -9999.0}, decoding all values to NaN.\n",
      "  use_cftime=use_cftime,\n",
      "/Users/bell/anaconda2/envs/py37/lib/python3.7/site-packages/xarray/conventions.py:494: SerializationWarning: variable 'PAR' has multiple fill values {1e+35, -9999.0}, decoding all values to NaN.\n",
      "  use_cftime=use_cftime,\n",
      "/Users/bell/anaconda2/envs/py37/lib/python3.7/site-packages/xarray/conventions.py:494: SerializationWarning: variable 'Chlorophyll_Fluorescence' has multiple fill values {1e+35, -9999.0}, decoding all values to NaN.\n",
      "  use_cftime=use_cftime,\n",
      "/Users/bell/anaconda2/envs/py37/lib/python3.7/site-packages/xarray/conventions.py:494: SerializationWarning: variable 'Oxygen_Saturation' has multiple fill values {1e+35, -9999.0}, decoding all values to NaN.\n",
      "  use_cftime=use_cftime,\n",
      "/Users/bell/anaconda2/envs/py37/lib/python3.7/site-packages/xarray/conventions.py:494: SerializationWarning: variable 'Oxygen_Concentration' has multiple fill values {1e+35, -9999.0}, decoding all values to NaN.\n",
      "  use_cftime=use_cftime,\n"
     ]
    },
    {
     "name": "stdout",
     "output_type": "stream",
     "text": [
      "1hr_gridded_datasets_Mooring_01bsm2a_final\n"
     ]
    },
    {
     "name": "stderr",
     "output_type": "stream",
     "text": [
      "/Users/bell/anaconda2/envs/py37/lib/python3.7/site-packages/xarray/conventions.py:494: SerializationWarning: variable 'temperature' has multiple fill values {1e+35, -9999.0}, decoding all values to NaN.\n",
      "  use_cftime=use_cftime,\n",
      "/Users/bell/anaconda2/envs/py37/lib/python3.7/site-packages/xarray/conventions.py:494: SerializationWarning: variable 'pressure' has multiple fill values {1e+35, -9999.0}, decoding all values to NaN.\n",
      "  use_cftime=use_cftime,\n",
      "/Users/bell/anaconda2/envs/py37/lib/python3.7/site-packages/xarray/conventions.py:494: SerializationWarning: variable 'salinity' has multiple fill values {1e+35, -9999.0}, decoding all values to NaN.\n",
      "  use_cftime=use_cftime,\n",
      "/Users/bell/anaconda2/envs/py37/lib/python3.7/site-packages/xarray/conventions.py:494: SerializationWarning: variable 'PAR' has multiple fill values {1e+35, -9999.0}, decoding all values to NaN.\n",
      "  use_cftime=use_cftime,\n",
      "/Users/bell/anaconda2/envs/py37/lib/python3.7/site-packages/xarray/conventions.py:494: SerializationWarning: variable 'Chlorophyll_Fluorescence' has multiple fill values {1e+35, -9999.0}, decoding all values to NaN.\n",
      "  use_cftime=use_cftime,\n",
      "/Users/bell/anaconda2/envs/py37/lib/python3.7/site-packages/xarray/conventions.py:494: SerializationWarning: variable 'Oxygen_Saturation' has multiple fill values {1e+35, -9999.0}, decoding all values to NaN.\n",
      "  use_cftime=use_cftime,\n",
      "/Users/bell/anaconda2/envs/py37/lib/python3.7/site-packages/xarray/conventions.py:494: SerializationWarning: variable 'Oxygen_Concentration' has multiple fill values {1e+35, -9999.0}, decoding all values to NaN.\n",
      "  use_cftime=use_cftime,\n"
     ]
    },
    {
     "name": "stdout",
     "output_type": "stream",
     "text": [
      "1hr_gridded_datasets_Mooring_02bs2c_final\n"
     ]
    },
    {
     "name": "stderr",
     "output_type": "stream",
     "text": [
      "/Users/bell/anaconda2/envs/py37/lib/python3.7/site-packages/xarray/conventions.py:494: SerializationWarning: variable 'temperature' has multiple fill values {1e+35, -9999.0}, decoding all values to NaN.\n",
      "  use_cftime=use_cftime,\n",
      "/Users/bell/anaconda2/envs/py37/lib/python3.7/site-packages/xarray/conventions.py:494: SerializationWarning: variable 'pressure' has multiple fill values {1e+35, -9999.0}, decoding all values to NaN.\n",
      "  use_cftime=use_cftime,\n",
      "/Users/bell/anaconda2/envs/py37/lib/python3.7/site-packages/xarray/conventions.py:494: SerializationWarning: variable 'salinity' has multiple fill values {1e+35, -9999.0}, decoding all values to NaN.\n",
      "  use_cftime=use_cftime,\n",
      "/Users/bell/anaconda2/envs/py37/lib/python3.7/site-packages/xarray/conventions.py:494: SerializationWarning: variable 'PAR' has multiple fill values {1e+35, -9999.0}, decoding all values to NaN.\n",
      "  use_cftime=use_cftime,\n",
      "/Users/bell/anaconda2/envs/py37/lib/python3.7/site-packages/xarray/conventions.py:494: SerializationWarning: variable 'Chlorophyll_Fluorescence' has multiple fill values {1e+35, -9999.0}, decoding all values to NaN.\n",
      "  use_cftime=use_cftime,\n",
      "/Users/bell/anaconda2/envs/py37/lib/python3.7/site-packages/xarray/conventions.py:494: SerializationWarning: variable 'Oxygen_Saturation' has multiple fill values {1e+35, -9999.0}, decoding all values to NaN.\n",
      "  use_cftime=use_cftime,\n",
      "/Users/bell/anaconda2/envs/py37/lib/python3.7/site-packages/xarray/conventions.py:494: SerializationWarning: variable 'Oxygen_Concentration' has multiple fill values {1e+35, -9999.0}, decoding all values to NaN.\n",
      "  use_cftime=use_cftime,\n"
     ]
    },
    {
     "name": "stdout",
     "output_type": "stream",
     "text": [
      "1hr_gridded_datasets_Mooring_02bsm2a_final\n"
     ]
    },
    {
     "name": "stderr",
     "output_type": "stream",
     "text": [
      "/Users/bell/anaconda2/envs/py37/lib/python3.7/site-packages/xarray/conventions.py:494: SerializationWarning: variable 'temperature' has multiple fill values {1e+35, -9999.0}, decoding all values to NaN.\n",
      "  use_cftime=use_cftime,\n",
      "/Users/bell/anaconda2/envs/py37/lib/python3.7/site-packages/xarray/conventions.py:494: SerializationWarning: variable 'pressure' has multiple fill values {1e+35, -9999.0}, decoding all values to NaN.\n",
      "  use_cftime=use_cftime,\n",
      "/Users/bell/anaconda2/envs/py37/lib/python3.7/site-packages/xarray/conventions.py:494: SerializationWarning: variable 'salinity' has multiple fill values {1e+35, -9999.0}, decoding all values to NaN.\n",
      "  use_cftime=use_cftime,\n",
      "/Users/bell/anaconda2/envs/py37/lib/python3.7/site-packages/xarray/conventions.py:494: SerializationWarning: variable 'PAR' has multiple fill values {1e+35, -9999.0}, decoding all values to NaN.\n",
      "  use_cftime=use_cftime,\n",
      "/Users/bell/anaconda2/envs/py37/lib/python3.7/site-packages/xarray/conventions.py:494: SerializationWarning: variable 'Chlorophyll_Fluorescence' has multiple fill values {1e+35, -9999.0}, decoding all values to NaN.\n",
      "  use_cftime=use_cftime,\n",
      "/Users/bell/anaconda2/envs/py37/lib/python3.7/site-packages/xarray/conventions.py:494: SerializationWarning: variable 'Oxygen_Saturation' has multiple fill values {1e+35, -9999.0}, decoding all values to NaN.\n",
      "  use_cftime=use_cftime,\n",
      "/Users/bell/anaconda2/envs/py37/lib/python3.7/site-packages/xarray/conventions.py:494: SerializationWarning: variable 'Oxygen_Concentration' has multiple fill values {1e+35, -9999.0}, decoding all values to NaN.\n",
      "  use_cftime=use_cftime,\n"
     ]
    },
    {
     "name": "stdout",
     "output_type": "stream",
     "text": [
      "1hr_gridded_datasets_Mooring_03bs2c_final\n"
     ]
    },
    {
     "name": "stderr",
     "output_type": "stream",
     "text": [
      "/Users/bell/anaconda2/envs/py37/lib/python3.7/site-packages/xarray/conventions.py:494: SerializationWarning: variable 'temperature' has multiple fill values {1e+35, -9999.0}, decoding all values to NaN.\n",
      "  use_cftime=use_cftime,\n",
      "/Users/bell/anaconda2/envs/py37/lib/python3.7/site-packages/xarray/conventions.py:494: SerializationWarning: variable 'pressure' has multiple fill values {1e+35, -9999.0}, decoding all values to NaN.\n",
      "  use_cftime=use_cftime,\n",
      "/Users/bell/anaconda2/envs/py37/lib/python3.7/site-packages/xarray/conventions.py:494: SerializationWarning: variable 'salinity' has multiple fill values {1e+35, -9999.0}, decoding all values to NaN.\n",
      "  use_cftime=use_cftime,\n",
      "/Users/bell/anaconda2/envs/py37/lib/python3.7/site-packages/xarray/conventions.py:494: SerializationWarning: variable 'PAR' has multiple fill values {1e+35, -9999.0}, decoding all values to NaN.\n",
      "  use_cftime=use_cftime,\n",
      "/Users/bell/anaconda2/envs/py37/lib/python3.7/site-packages/xarray/conventions.py:494: SerializationWarning: variable 'Chlorophyll_Fluorescence' has multiple fill values {1e+35, -9999.0}, decoding all values to NaN.\n",
      "  use_cftime=use_cftime,\n",
      "/Users/bell/anaconda2/envs/py37/lib/python3.7/site-packages/xarray/conventions.py:494: SerializationWarning: variable 'Oxygen_Saturation' has multiple fill values {1e+35, -9999.0}, decoding all values to NaN.\n",
      "  use_cftime=use_cftime,\n",
      "/Users/bell/anaconda2/envs/py37/lib/python3.7/site-packages/xarray/conventions.py:494: SerializationWarning: variable 'Oxygen_Concentration' has multiple fill values {1e+35, -9999.0}, decoding all values to NaN.\n",
      "  use_cftime=use_cftime,\n"
     ]
    },
    {
     "name": "stdout",
     "output_type": "stream",
     "text": [
      "1hr_gridded_datasets_Mooring_03bsm2a_final\n"
     ]
    },
    {
     "name": "stderr",
     "output_type": "stream",
     "text": [
      "/Users/bell/anaconda2/envs/py37/lib/python3.7/site-packages/xarray/conventions.py:494: SerializationWarning: variable 'temperature' has multiple fill values {1e+35, -9999.0}, decoding all values to NaN.\n",
      "  use_cftime=use_cftime,\n",
      "/Users/bell/anaconda2/envs/py37/lib/python3.7/site-packages/xarray/conventions.py:494: SerializationWarning: variable 'pressure' has multiple fill values {1e+35, -9999.0}, decoding all values to NaN.\n",
      "  use_cftime=use_cftime,\n",
      "/Users/bell/anaconda2/envs/py37/lib/python3.7/site-packages/xarray/conventions.py:494: SerializationWarning: variable 'salinity' has multiple fill values {1e+35, -9999.0}, decoding all values to NaN.\n",
      "  use_cftime=use_cftime,\n",
      "/Users/bell/anaconda2/envs/py37/lib/python3.7/site-packages/xarray/conventions.py:494: SerializationWarning: variable 'PAR' has multiple fill values {1e+35, -9999.0}, decoding all values to NaN.\n",
      "  use_cftime=use_cftime,\n",
      "/Users/bell/anaconda2/envs/py37/lib/python3.7/site-packages/xarray/conventions.py:494: SerializationWarning: variable 'Chlorophyll_Fluorescence' has multiple fill values {1e+35, -9999.0}, decoding all values to NaN.\n",
      "  use_cftime=use_cftime,\n",
      "/Users/bell/anaconda2/envs/py37/lib/python3.7/site-packages/xarray/conventions.py:494: SerializationWarning: variable 'Oxygen_Saturation' has multiple fill values {1e+35, -9999.0}, decoding all values to NaN.\n",
      "  use_cftime=use_cftime,\n",
      "/Users/bell/anaconda2/envs/py37/lib/python3.7/site-packages/xarray/conventions.py:494: SerializationWarning: variable 'Oxygen_Concentration' has multiple fill values {1e+35, -9999.0}, decoding all values to NaN.\n",
      "  use_cftime=use_cftime,\n"
     ]
    },
    {
     "name": "stdout",
     "output_type": "stream",
     "text": [
      "1hr_gridded_datasets_Mooring_04bs2c_final\n"
     ]
    },
    {
     "name": "stderr",
     "output_type": "stream",
     "text": [
      "/Users/bell/anaconda2/envs/py37/lib/python3.7/site-packages/xarray/conventions.py:494: SerializationWarning: variable 'temperature' has multiple fill values {1e+35, -9999.0}, decoding all values to NaN.\n",
      "  use_cftime=use_cftime,\n",
      "/Users/bell/anaconda2/envs/py37/lib/python3.7/site-packages/xarray/conventions.py:494: SerializationWarning: variable 'pressure' has multiple fill values {1e+35, -9999.0}, decoding all values to NaN.\n",
      "  use_cftime=use_cftime,\n",
      "/Users/bell/anaconda2/envs/py37/lib/python3.7/site-packages/xarray/conventions.py:494: SerializationWarning: variable 'salinity' has multiple fill values {1e+35, -9999.0}, decoding all values to NaN.\n",
      "  use_cftime=use_cftime,\n",
      "/Users/bell/anaconda2/envs/py37/lib/python3.7/site-packages/xarray/conventions.py:494: SerializationWarning: variable 'PAR' has multiple fill values {1e+35, -9999.0}, decoding all values to NaN.\n",
      "  use_cftime=use_cftime,\n",
      "/Users/bell/anaconda2/envs/py37/lib/python3.7/site-packages/xarray/conventions.py:494: SerializationWarning: variable 'Chlorophyll_Fluorescence' has multiple fill values {1e+35, -9999.0}, decoding all values to NaN.\n",
      "  use_cftime=use_cftime,\n",
      "/Users/bell/anaconda2/envs/py37/lib/python3.7/site-packages/xarray/conventions.py:494: SerializationWarning: variable 'Oxygen_Saturation' has multiple fill values {1e+35, -9999.0}, decoding all values to NaN.\n",
      "  use_cftime=use_cftime,\n",
      "/Users/bell/anaconda2/envs/py37/lib/python3.7/site-packages/xarray/conventions.py:494: SerializationWarning: variable 'Oxygen_Concentration' has multiple fill values {1e+35, -9999.0}, decoding all values to NaN.\n",
      "  use_cftime=use_cftime,\n"
     ]
    },
    {
     "name": "stdout",
     "output_type": "stream",
     "text": [
      "1hr_gridded_datasets_Mooring_04bsm2a_final\n"
     ]
    },
    {
     "name": "stderr",
     "output_type": "stream",
     "text": [
      "/Users/bell/anaconda2/envs/py37/lib/python3.7/site-packages/xarray/conventions.py:494: SerializationWarning: variable 'temperature' has multiple fill values {1e+35, -9999.0}, decoding all values to NaN.\n",
      "  use_cftime=use_cftime,\n",
      "/Users/bell/anaconda2/envs/py37/lib/python3.7/site-packages/xarray/conventions.py:494: SerializationWarning: variable 'pressure' has multiple fill values {1e+35, -9999.0}, decoding all values to NaN.\n",
      "  use_cftime=use_cftime,\n",
      "/Users/bell/anaconda2/envs/py37/lib/python3.7/site-packages/xarray/conventions.py:494: SerializationWarning: variable 'salinity' has multiple fill values {1e+35, -9999.0}, decoding all values to NaN.\n",
      "  use_cftime=use_cftime,\n",
      "/Users/bell/anaconda2/envs/py37/lib/python3.7/site-packages/xarray/conventions.py:494: SerializationWarning: variable 'PAR' has multiple fill values {1e+35, -9999.0}, decoding all values to NaN.\n",
      "  use_cftime=use_cftime,\n",
      "/Users/bell/anaconda2/envs/py37/lib/python3.7/site-packages/xarray/conventions.py:494: SerializationWarning: variable 'Chlorophyll_Fluorescence' has multiple fill values {1e+35, -9999.0}, decoding all values to NaN.\n",
      "  use_cftime=use_cftime,\n",
      "/Users/bell/anaconda2/envs/py37/lib/python3.7/site-packages/xarray/conventions.py:494: SerializationWarning: variable 'Oxygen_Saturation' has multiple fill values {1e+35, -9999.0}, decoding all values to NaN.\n",
      "  use_cftime=use_cftime,\n",
      "/Users/bell/anaconda2/envs/py37/lib/python3.7/site-packages/xarray/conventions.py:494: SerializationWarning: variable 'Oxygen_Concentration' has multiple fill values {1e+35, -9999.0}, decoding all values to NaN.\n",
      "  use_cftime=use_cftime,\n"
     ]
    },
    {
     "name": "stdout",
     "output_type": "stream",
     "text": [
      "1hr_gridded_datasets_Mooring_05bs2c_final\n"
     ]
    },
    {
     "name": "stderr",
     "output_type": "stream",
     "text": [
      "/Users/bell/anaconda2/envs/py37/lib/python3.7/site-packages/xarray/conventions.py:494: SerializationWarning: variable 'temperature' has multiple fill values {1e+35, -9999.0}, decoding all values to NaN.\n",
      "  use_cftime=use_cftime,\n",
      "/Users/bell/anaconda2/envs/py37/lib/python3.7/site-packages/xarray/conventions.py:494: SerializationWarning: variable 'pressure' has multiple fill values {1e+35, -9999.0}, decoding all values to NaN.\n",
      "  use_cftime=use_cftime,\n",
      "/Users/bell/anaconda2/envs/py37/lib/python3.7/site-packages/xarray/conventions.py:494: SerializationWarning: variable 'salinity' has multiple fill values {1e+35, -9999.0}, decoding all values to NaN.\n",
      "  use_cftime=use_cftime,\n",
      "/Users/bell/anaconda2/envs/py37/lib/python3.7/site-packages/xarray/conventions.py:494: SerializationWarning: variable 'PAR' has multiple fill values {1e+35, -9999.0}, decoding all values to NaN.\n",
      "  use_cftime=use_cftime,\n",
      "/Users/bell/anaconda2/envs/py37/lib/python3.7/site-packages/xarray/conventions.py:494: SerializationWarning: variable 'Chlorophyll_Fluorescence' has multiple fill values {1e+35, -9999.0}, decoding all values to NaN.\n",
      "  use_cftime=use_cftime,\n",
      "/Users/bell/anaconda2/envs/py37/lib/python3.7/site-packages/xarray/conventions.py:494: SerializationWarning: variable 'Oxygen_Saturation' has multiple fill values {1e+35, -9999.0}, decoding all values to NaN.\n",
      "  use_cftime=use_cftime,\n",
      "/Users/bell/anaconda2/envs/py37/lib/python3.7/site-packages/xarray/conventions.py:494: SerializationWarning: variable 'Oxygen_Concentration' has multiple fill values {1e+35, -9999.0}, decoding all values to NaN.\n",
      "  use_cftime=use_cftime,\n",
      "/Users/bell/anaconda2/envs/py37/lib/python3.7/site-packages/xarray/conventions.py:494: SerializationWarning: variable 'temperature' has multiple fill values {1e+35, -9999.0}, decoding all values to NaN.\n",
      "  use_cftime=use_cftime,\n",
      "/Users/bell/anaconda2/envs/py37/lib/python3.7/site-packages/xarray/conventions.py:494: SerializationWarning: variable 'pressure' has multiple fill values {1e+35, -9999.0}, decoding all values to NaN.\n",
      "  use_cftime=use_cftime,\n",
      "/Users/bell/anaconda2/envs/py37/lib/python3.7/site-packages/xarray/conventions.py:494: SerializationWarning: variable 'salinity' has multiple fill values {1e+35, -9999.0}, decoding all values to NaN.\n",
      "  use_cftime=use_cftime,\n",
      "/Users/bell/anaconda2/envs/py37/lib/python3.7/site-packages/xarray/conventions.py:494: SerializationWarning: variable 'PAR' has multiple fill values {1e+35, -9999.0}, decoding all values to NaN.\n",
      "  use_cftime=use_cftime,\n",
      "/Users/bell/anaconda2/envs/py37/lib/python3.7/site-packages/xarray/conventions.py:494: SerializationWarning: variable 'Chlorophyll_Fluorescence' has multiple fill values {1e+35, -9999.0}, decoding all values to NaN.\n",
      "  use_cftime=use_cftime,\n",
      "/Users/bell/anaconda2/envs/py37/lib/python3.7/site-packages/xarray/conventions.py:494: SerializationWarning: variable 'Oxygen_Saturation' has multiple fill values {1e+35, -9999.0}, decoding all values to NaN.\n",
      "  use_cftime=use_cftime,\n",
      "/Users/bell/anaconda2/envs/py37/lib/python3.7/site-packages/xarray/conventions.py:494: SerializationWarning: variable 'Oxygen_Concentration' has multiple fill values {1e+35, -9999.0}, decoding all values to NaN.\n",
      "  use_cftime=use_cftime,\n"
     ]
    },
    {
     "name": "stdout",
     "output_type": "stream",
     "text": [
      "1hr_gridded_datasets_Mooring_05bsm2a_final\n",
      "1hr_gridded_datasets_Mooring_06bs2c_final\n"
     ]
    },
    {
     "name": "stderr",
     "output_type": "stream",
     "text": [
      "/Users/bell/anaconda2/envs/py37/lib/python3.7/site-packages/xarray/conventions.py:494: SerializationWarning: variable 'temperature' has multiple fill values {1e+35, -9999.0}, decoding all values to NaN.\n",
      "  use_cftime=use_cftime,\n",
      "/Users/bell/anaconda2/envs/py37/lib/python3.7/site-packages/xarray/conventions.py:494: SerializationWarning: variable 'pressure' has multiple fill values {1e+35, -9999.0}, decoding all values to NaN.\n",
      "  use_cftime=use_cftime,\n",
      "/Users/bell/anaconda2/envs/py37/lib/python3.7/site-packages/xarray/conventions.py:494: SerializationWarning: variable 'salinity' has multiple fill values {1e+35, -9999.0}, decoding all values to NaN.\n",
      "  use_cftime=use_cftime,\n",
      "/Users/bell/anaconda2/envs/py37/lib/python3.7/site-packages/xarray/conventions.py:494: SerializationWarning: variable 'PAR' has multiple fill values {1e+35, -9999.0}, decoding all values to NaN.\n",
      "  use_cftime=use_cftime,\n",
      "/Users/bell/anaconda2/envs/py37/lib/python3.7/site-packages/xarray/conventions.py:494: SerializationWarning: variable 'Chlorophyll_Fluorescence' has multiple fill values {1e+35, -9999.0}, decoding all values to NaN.\n",
      "  use_cftime=use_cftime,\n",
      "/Users/bell/anaconda2/envs/py37/lib/python3.7/site-packages/xarray/conventions.py:494: SerializationWarning: variable 'Oxygen_Saturation' has multiple fill values {1e+35, -9999.0}, decoding all values to NaN.\n",
      "  use_cftime=use_cftime,\n",
      "/Users/bell/anaconda2/envs/py37/lib/python3.7/site-packages/xarray/conventions.py:494: SerializationWarning: variable 'Oxygen_Concentration' has multiple fill values {1e+35, -9999.0}, decoding all values to NaN.\n",
      "  use_cftime=use_cftime,\n"
     ]
    },
    {
     "name": "stdout",
     "output_type": "stream",
     "text": [
      "1hr_gridded_datasets_Mooring_06bsm2a_final\n"
     ]
    },
    {
     "name": "stderr",
     "output_type": "stream",
     "text": [
      "/Users/bell/anaconda2/envs/py37/lib/python3.7/site-packages/xarray/conventions.py:494: SerializationWarning: variable 'temperature' has multiple fill values {1e+35, -9999.0}, decoding all values to NaN.\n",
      "  use_cftime=use_cftime,\n",
      "/Users/bell/anaconda2/envs/py37/lib/python3.7/site-packages/xarray/conventions.py:494: SerializationWarning: variable 'pressure' has multiple fill values {1e+35, -9999.0}, decoding all values to NaN.\n",
      "  use_cftime=use_cftime,\n",
      "/Users/bell/anaconda2/envs/py37/lib/python3.7/site-packages/xarray/conventions.py:494: SerializationWarning: variable 'salinity' has multiple fill values {1e+35, -9999.0}, decoding all values to NaN.\n",
      "  use_cftime=use_cftime,\n",
      "/Users/bell/anaconda2/envs/py37/lib/python3.7/site-packages/xarray/conventions.py:494: SerializationWarning: variable 'PAR' has multiple fill values {1e+35, -9999.0}, decoding all values to NaN.\n",
      "  use_cftime=use_cftime,\n",
      "/Users/bell/anaconda2/envs/py37/lib/python3.7/site-packages/xarray/conventions.py:494: SerializationWarning: variable 'Chlorophyll_Fluorescence' has multiple fill values {1e+35, -9999.0}, decoding all values to NaN.\n",
      "  use_cftime=use_cftime,\n",
      "/Users/bell/anaconda2/envs/py37/lib/python3.7/site-packages/xarray/conventions.py:494: SerializationWarning: variable 'Oxygen_Saturation' has multiple fill values {1e+35, -9999.0}, decoding all values to NaN.\n",
      "  use_cftime=use_cftime,\n",
      "/Users/bell/anaconda2/envs/py37/lib/python3.7/site-packages/xarray/conventions.py:494: SerializationWarning: variable 'Oxygen_Concentration' has multiple fill values {1e+35, -9999.0}, decoding all values to NaN.\n",
      "  use_cftime=use_cftime,\n"
     ]
    },
    {
     "name": "stdout",
     "output_type": "stream",
     "text": [
      "1hr_gridded_datasets_Mooring_07bs2c_final\n"
     ]
    },
    {
     "name": "stderr",
     "output_type": "stream",
     "text": [
      "/Users/bell/anaconda2/envs/py37/lib/python3.7/site-packages/xarray/conventions.py:494: SerializationWarning: variable 'temperature' has multiple fill values {1e+35, -9999.0}, decoding all values to NaN.\n",
      "  use_cftime=use_cftime,\n",
      "/Users/bell/anaconda2/envs/py37/lib/python3.7/site-packages/xarray/conventions.py:494: SerializationWarning: variable 'pressure' has multiple fill values {1e+35, -9999.0}, decoding all values to NaN.\n",
      "  use_cftime=use_cftime,\n",
      "/Users/bell/anaconda2/envs/py37/lib/python3.7/site-packages/xarray/conventions.py:494: SerializationWarning: variable 'salinity' has multiple fill values {1e+35, -9999.0}, decoding all values to NaN.\n",
      "  use_cftime=use_cftime,\n",
      "/Users/bell/anaconda2/envs/py37/lib/python3.7/site-packages/xarray/conventions.py:494: SerializationWarning: variable 'PAR' has multiple fill values {1e+35, -9999.0}, decoding all values to NaN.\n",
      "  use_cftime=use_cftime,\n",
      "/Users/bell/anaconda2/envs/py37/lib/python3.7/site-packages/xarray/conventions.py:494: SerializationWarning: variable 'Chlorophyll_Fluorescence' has multiple fill values {1e+35, -9999.0}, decoding all values to NaN.\n",
      "  use_cftime=use_cftime,\n",
      "/Users/bell/anaconda2/envs/py37/lib/python3.7/site-packages/xarray/conventions.py:494: SerializationWarning: variable 'Oxygen_Saturation' has multiple fill values {1e+35, -9999.0}, decoding all values to NaN.\n",
      "  use_cftime=use_cftime,\n",
      "/Users/bell/anaconda2/envs/py37/lib/python3.7/site-packages/xarray/conventions.py:494: SerializationWarning: variable 'Oxygen_Concentration' has multiple fill values {1e+35, -9999.0}, decoding all values to NaN.\n",
      "  use_cftime=use_cftime,\n"
     ]
    },
    {
     "name": "stdout",
     "output_type": "stream",
     "text": [
      "1hr_gridded_datasets_Mooring_07bsm2a_final\n"
     ]
    },
    {
     "name": "stderr",
     "output_type": "stream",
     "text": [
      "/Users/bell/anaconda2/envs/py37/lib/python3.7/site-packages/xarray/conventions.py:494: SerializationWarning: variable 'temperature' has multiple fill values {1e+35, -9999.0}, decoding all values to NaN.\n",
      "  use_cftime=use_cftime,\n",
      "/Users/bell/anaconda2/envs/py37/lib/python3.7/site-packages/xarray/conventions.py:494: SerializationWarning: variable 'pressure' has multiple fill values {1e+35, -9999.0}, decoding all values to NaN.\n",
      "  use_cftime=use_cftime,\n",
      "/Users/bell/anaconda2/envs/py37/lib/python3.7/site-packages/xarray/conventions.py:494: SerializationWarning: variable 'salinity' has multiple fill values {1e+35, -9999.0}, decoding all values to NaN.\n",
      "  use_cftime=use_cftime,\n",
      "/Users/bell/anaconda2/envs/py37/lib/python3.7/site-packages/xarray/conventions.py:494: SerializationWarning: variable 'PAR' has multiple fill values {1e+35, -9999.0}, decoding all values to NaN.\n",
      "  use_cftime=use_cftime,\n",
      "/Users/bell/anaconda2/envs/py37/lib/python3.7/site-packages/xarray/conventions.py:494: SerializationWarning: variable 'Chlorophyll_Fluorescence' has multiple fill values {1e+35, -9999.0}, decoding all values to NaN.\n",
      "  use_cftime=use_cftime,\n",
      "/Users/bell/anaconda2/envs/py37/lib/python3.7/site-packages/xarray/conventions.py:494: SerializationWarning: variable 'Oxygen_Saturation' has multiple fill values {1e+35, -9999.0}, decoding all values to NaN.\n",
      "  use_cftime=use_cftime,\n",
      "/Users/bell/anaconda2/envs/py37/lib/python3.7/site-packages/xarray/conventions.py:494: SerializationWarning: variable 'Oxygen_Concentration' has multiple fill values {1e+35, -9999.0}, decoding all values to NaN.\n",
      "  use_cftime=use_cftime,\n"
     ]
    },
    {
     "name": "stdout",
     "output_type": "stream",
     "text": [
      "1hr_gridded_datasets_Mooring_08bs2c_final\n"
     ]
    },
    {
     "name": "stderr",
     "output_type": "stream",
     "text": [
      "/Users/bell/anaconda2/envs/py37/lib/python3.7/site-packages/xarray/conventions.py:494: SerializationWarning: variable 'temperature' has multiple fill values {1e+35, -9999.0}, decoding all values to NaN.\n",
      "  use_cftime=use_cftime,\n",
      "/Users/bell/anaconda2/envs/py37/lib/python3.7/site-packages/xarray/conventions.py:494: SerializationWarning: variable 'pressure' has multiple fill values {1e+35, -9999.0}, decoding all values to NaN.\n",
      "  use_cftime=use_cftime,\n",
      "/Users/bell/anaconda2/envs/py37/lib/python3.7/site-packages/xarray/conventions.py:494: SerializationWarning: variable 'salinity' has multiple fill values {1e+35, -9999.0}, decoding all values to NaN.\n",
      "  use_cftime=use_cftime,\n",
      "/Users/bell/anaconda2/envs/py37/lib/python3.7/site-packages/xarray/conventions.py:494: SerializationWarning: variable 'PAR' has multiple fill values {1e+35, -9999.0}, decoding all values to NaN.\n",
      "  use_cftime=use_cftime,\n",
      "/Users/bell/anaconda2/envs/py37/lib/python3.7/site-packages/xarray/conventions.py:494: SerializationWarning: variable 'Chlorophyll_Fluorescence' has multiple fill values {1e+35, -9999.0}, decoding all values to NaN.\n",
      "  use_cftime=use_cftime,\n",
      "/Users/bell/anaconda2/envs/py37/lib/python3.7/site-packages/xarray/conventions.py:494: SerializationWarning: variable 'Oxygen_Saturation' has multiple fill values {1e+35, -9999.0}, decoding all values to NaN.\n",
      "  use_cftime=use_cftime,\n",
      "/Users/bell/anaconda2/envs/py37/lib/python3.7/site-packages/xarray/conventions.py:494: SerializationWarning: variable 'Oxygen_Concentration' has multiple fill values {1e+35, -9999.0}, decoding all values to NaN.\n",
      "  use_cftime=use_cftime,\n",
      "/Users/bell/anaconda2/envs/py37/lib/python3.7/site-packages/xarray/conventions.py:494: SerializationWarning: variable 'temperature' has multiple fill values {1e+35, -9999.0}, decoding all values to NaN.\n",
      "  use_cftime=use_cftime,\n",
      "/Users/bell/anaconda2/envs/py37/lib/python3.7/site-packages/xarray/conventions.py:494: SerializationWarning: variable 'pressure' has multiple fill values {1e+35, -9999.0}, decoding all values to NaN.\n",
      "  use_cftime=use_cftime,\n",
      "/Users/bell/anaconda2/envs/py37/lib/python3.7/site-packages/xarray/conventions.py:494: SerializationWarning: variable 'salinity' has multiple fill values {1e+35, -9999.0}, decoding all values to NaN.\n",
      "  use_cftime=use_cftime,\n",
      "/Users/bell/anaconda2/envs/py37/lib/python3.7/site-packages/xarray/conventions.py:494: SerializationWarning: variable 'PAR' has multiple fill values {1e+35, -9999.0}, decoding all values to NaN.\n",
      "  use_cftime=use_cftime,\n",
      "/Users/bell/anaconda2/envs/py37/lib/python3.7/site-packages/xarray/conventions.py:494: SerializationWarning: variable 'Chlorophyll_Fluorescence' has multiple fill values {1e+35, -9999.0}, decoding all values to NaN.\n",
      "  use_cftime=use_cftime,\n",
      "/Users/bell/anaconda2/envs/py37/lib/python3.7/site-packages/xarray/conventions.py:494: SerializationWarning: variable 'Oxygen_Saturation' has multiple fill values {1e+35, -9999.0}, decoding all values to NaN.\n",
      "  use_cftime=use_cftime,\n",
      "/Users/bell/anaconda2/envs/py37/lib/python3.7/site-packages/xarray/conventions.py:494: SerializationWarning: variable 'Oxygen_Concentration' has multiple fill values {1e+35, -9999.0}, decoding all values to NaN.\n",
      "  use_cftime=use_cftime,\n"
     ]
    },
    {
     "name": "stdout",
     "output_type": "stream",
     "text": [
      "1hr_gridded_datasets_Mooring_08bsm2a_final\n",
      "1hr_gridded_datasets_Mooring_09bs2c_final\n"
     ]
    },
    {
     "name": "stderr",
     "output_type": "stream",
     "text": [
      "/Users/bell/anaconda2/envs/py37/lib/python3.7/site-packages/xarray/conventions.py:494: SerializationWarning: variable 'temperature' has multiple fill values {1e+35, -9999.0}, decoding all values to NaN.\n",
      "  use_cftime=use_cftime,\n",
      "/Users/bell/anaconda2/envs/py37/lib/python3.7/site-packages/xarray/conventions.py:494: SerializationWarning: variable 'pressure' has multiple fill values {1e+35, -9999.0}, decoding all values to NaN.\n",
      "  use_cftime=use_cftime,\n",
      "/Users/bell/anaconda2/envs/py37/lib/python3.7/site-packages/xarray/conventions.py:494: SerializationWarning: variable 'salinity' has multiple fill values {1e+35, -9999.0}, decoding all values to NaN.\n",
      "  use_cftime=use_cftime,\n",
      "/Users/bell/anaconda2/envs/py37/lib/python3.7/site-packages/xarray/conventions.py:494: SerializationWarning: variable 'PAR' has multiple fill values {1e+35, -9999.0}, decoding all values to NaN.\n",
      "  use_cftime=use_cftime,\n",
      "/Users/bell/anaconda2/envs/py37/lib/python3.7/site-packages/xarray/conventions.py:494: SerializationWarning: variable 'Chlorophyll_Fluorescence' has multiple fill values {1e+35, -9999.0}, decoding all values to NaN.\n",
      "  use_cftime=use_cftime,\n",
      "/Users/bell/anaconda2/envs/py37/lib/python3.7/site-packages/xarray/conventions.py:494: SerializationWarning: variable 'Oxygen_Saturation' has multiple fill values {1e+35, -9999.0}, decoding all values to NaN.\n",
      "  use_cftime=use_cftime,\n",
      "/Users/bell/anaconda2/envs/py37/lib/python3.7/site-packages/xarray/conventions.py:494: SerializationWarning: variable 'Oxygen_Concentration' has multiple fill values {1e+35, -9999.0}, decoding all values to NaN.\n",
      "  use_cftime=use_cftime,\n"
     ]
    },
    {
     "name": "stdout",
     "output_type": "stream",
     "text": [
      "1hr_gridded_datasets_Mooring_09bsm2a_final\n"
     ]
    },
    {
     "name": "stderr",
     "output_type": "stream",
     "text": [
      "/Users/bell/anaconda2/envs/py37/lib/python3.7/site-packages/xarray/conventions.py:494: SerializationWarning: variable 'temperature' has multiple fill values {1e+35, -9999.0}, decoding all values to NaN.\n",
      "  use_cftime=use_cftime,\n",
      "/Users/bell/anaconda2/envs/py37/lib/python3.7/site-packages/xarray/conventions.py:494: SerializationWarning: variable 'pressure' has multiple fill values {1e+35, -9999.0}, decoding all values to NaN.\n",
      "  use_cftime=use_cftime,\n",
      "/Users/bell/anaconda2/envs/py37/lib/python3.7/site-packages/xarray/conventions.py:494: SerializationWarning: variable 'salinity' has multiple fill values {1e+35, -9999.0}, decoding all values to NaN.\n",
      "  use_cftime=use_cftime,\n",
      "/Users/bell/anaconda2/envs/py37/lib/python3.7/site-packages/xarray/conventions.py:494: SerializationWarning: variable 'PAR' has multiple fill values {1e+35, -9999.0}, decoding all values to NaN.\n",
      "  use_cftime=use_cftime,\n",
      "/Users/bell/anaconda2/envs/py37/lib/python3.7/site-packages/xarray/conventions.py:494: SerializationWarning: variable 'Chlorophyll_Fluorescence' has multiple fill values {1e+35, -9999.0}, decoding all values to NaN.\n",
      "  use_cftime=use_cftime,\n",
      "/Users/bell/anaconda2/envs/py37/lib/python3.7/site-packages/xarray/conventions.py:494: SerializationWarning: variable 'Oxygen_Saturation' has multiple fill values {1e+35, -9999.0}, decoding all values to NaN.\n",
      "  use_cftime=use_cftime,\n",
      "/Users/bell/anaconda2/envs/py37/lib/python3.7/site-packages/xarray/conventions.py:494: SerializationWarning: variable 'Oxygen_Concentration' has multiple fill values {1e+35, -9999.0}, decoding all values to NaN.\n",
      "  use_cftime=use_cftime,\n"
     ]
    },
    {
     "name": "stdout",
     "output_type": "stream",
     "text": [
      "1hr_gridded_datasets_Mooring_10bs2c_final\n"
     ]
    },
    {
     "name": "stderr",
     "output_type": "stream",
     "text": [
      "/Users/bell/anaconda2/envs/py37/lib/python3.7/site-packages/xarray/conventions.py:494: SerializationWarning: variable 'temperature' has multiple fill values {1e+35, -9999.0}, decoding all values to NaN.\n",
      "  use_cftime=use_cftime,\n",
      "/Users/bell/anaconda2/envs/py37/lib/python3.7/site-packages/xarray/conventions.py:494: SerializationWarning: variable 'pressure' has multiple fill values {1e+35, -9999.0}, decoding all values to NaN.\n",
      "  use_cftime=use_cftime,\n",
      "/Users/bell/anaconda2/envs/py37/lib/python3.7/site-packages/xarray/conventions.py:494: SerializationWarning: variable 'salinity' has multiple fill values {1e+35, -9999.0}, decoding all values to NaN.\n",
      "  use_cftime=use_cftime,\n",
      "/Users/bell/anaconda2/envs/py37/lib/python3.7/site-packages/xarray/conventions.py:494: SerializationWarning: variable 'PAR' has multiple fill values {1e+35, -9999.0}, decoding all values to NaN.\n",
      "  use_cftime=use_cftime,\n",
      "/Users/bell/anaconda2/envs/py37/lib/python3.7/site-packages/xarray/conventions.py:494: SerializationWarning: variable 'Chlorophyll_Fluorescence' has multiple fill values {1e+35, -9999.0}, decoding all values to NaN.\n",
      "  use_cftime=use_cftime,\n",
      "/Users/bell/anaconda2/envs/py37/lib/python3.7/site-packages/xarray/conventions.py:494: SerializationWarning: variable 'Oxygen_Saturation' has multiple fill values {1e+35, -9999.0}, decoding all values to NaN.\n",
      "  use_cftime=use_cftime,\n",
      "/Users/bell/anaconda2/envs/py37/lib/python3.7/site-packages/xarray/conventions.py:494: SerializationWarning: variable 'Oxygen_Concentration' has multiple fill values {1e+35, -9999.0}, decoding all values to NaN.\n",
      "  use_cftime=use_cftime,\n"
     ]
    },
    {
     "name": "stdout",
     "output_type": "stream",
     "text": [
      "1hr_gridded_datasets_Mooring_10bsm2a_final\n"
     ]
    },
    {
     "name": "stderr",
     "output_type": "stream",
     "text": [
      "/Users/bell/anaconda2/envs/py37/lib/python3.7/site-packages/xarray/conventions.py:494: SerializationWarning: variable 'temperature' has multiple fill values {1e+35, -9999.0}, decoding all values to NaN.\n",
      "  use_cftime=use_cftime,\n",
      "/Users/bell/anaconda2/envs/py37/lib/python3.7/site-packages/xarray/conventions.py:494: SerializationWarning: variable 'pressure' has multiple fill values {1e+35, -9999.0}, decoding all values to NaN.\n",
      "  use_cftime=use_cftime,\n",
      "/Users/bell/anaconda2/envs/py37/lib/python3.7/site-packages/xarray/conventions.py:494: SerializationWarning: variable 'salinity' has multiple fill values {1e+35, -9999.0}, decoding all values to NaN.\n",
      "  use_cftime=use_cftime,\n",
      "/Users/bell/anaconda2/envs/py37/lib/python3.7/site-packages/xarray/conventions.py:494: SerializationWarning: variable 'PAR' has multiple fill values {1e+35, -9999.0}, decoding all values to NaN.\n",
      "  use_cftime=use_cftime,\n",
      "/Users/bell/anaconda2/envs/py37/lib/python3.7/site-packages/xarray/conventions.py:494: SerializationWarning: variable 'Chlorophyll_Fluorescence' has multiple fill values {1e+35, -9999.0}, decoding all values to NaN.\n",
      "  use_cftime=use_cftime,\n",
      "/Users/bell/anaconda2/envs/py37/lib/python3.7/site-packages/xarray/conventions.py:494: SerializationWarning: variable 'Oxygen_Saturation' has multiple fill values {1e+35, -9999.0}, decoding all values to NaN.\n",
      "  use_cftime=use_cftime,\n",
      "/Users/bell/anaconda2/envs/py37/lib/python3.7/site-packages/xarray/conventions.py:494: SerializationWarning: variable 'Oxygen_Concentration' has multiple fill values {1e+35, -9999.0}, decoding all values to NaN.\n",
      "  use_cftime=use_cftime,\n"
     ]
    },
    {
     "name": "stdout",
     "output_type": "stream",
     "text": [
      "1hr_gridded_datasets_Mooring_11bs2c_final\n"
     ]
    },
    {
     "name": "stderr",
     "output_type": "stream",
     "text": [
      "/Users/bell/anaconda2/envs/py37/lib/python3.7/site-packages/xarray/conventions.py:494: SerializationWarning: variable 'temperature' has multiple fill values {1e+35, -9999.0}, decoding all values to NaN.\n",
      "  use_cftime=use_cftime,\n",
      "/Users/bell/anaconda2/envs/py37/lib/python3.7/site-packages/xarray/conventions.py:494: SerializationWarning: variable 'pressure' has multiple fill values {1e+35, -9999.0}, decoding all values to NaN.\n",
      "  use_cftime=use_cftime,\n",
      "/Users/bell/anaconda2/envs/py37/lib/python3.7/site-packages/xarray/conventions.py:494: SerializationWarning: variable 'salinity' has multiple fill values {1e+35, -9999.0}, decoding all values to NaN.\n",
      "  use_cftime=use_cftime,\n",
      "/Users/bell/anaconda2/envs/py37/lib/python3.7/site-packages/xarray/conventions.py:494: SerializationWarning: variable 'PAR' has multiple fill values {1e+35, -9999.0}, decoding all values to NaN.\n",
      "  use_cftime=use_cftime,\n",
      "/Users/bell/anaconda2/envs/py37/lib/python3.7/site-packages/xarray/conventions.py:494: SerializationWarning: variable 'Chlorophyll_Fluorescence' has multiple fill values {1e+35, -9999.0}, decoding all values to NaN.\n",
      "  use_cftime=use_cftime,\n",
      "/Users/bell/anaconda2/envs/py37/lib/python3.7/site-packages/xarray/conventions.py:494: SerializationWarning: variable 'Oxygen_Saturation' has multiple fill values {1e+35, -9999.0}, decoding all values to NaN.\n",
      "  use_cftime=use_cftime,\n",
      "/Users/bell/anaconda2/envs/py37/lib/python3.7/site-packages/xarray/conventions.py:494: SerializationWarning: variable 'Oxygen_Concentration' has multiple fill values {1e+35, -9999.0}, decoding all values to NaN.\n",
      "  use_cftime=use_cftime,\n"
     ]
    },
    {
     "name": "stdout",
     "output_type": "stream",
     "text": [
      "1hr_gridded_datasets_Mooring_11bsm2a_final\n"
     ]
    },
    {
     "name": "stderr",
     "output_type": "stream",
     "text": [
      "/Users/bell/anaconda2/envs/py37/lib/python3.7/site-packages/xarray/conventions.py:494: SerializationWarning: variable 'temperature' has multiple fill values {1e+35, -9999.0}, decoding all values to NaN.\n",
      "  use_cftime=use_cftime,\n",
      "/Users/bell/anaconda2/envs/py37/lib/python3.7/site-packages/xarray/conventions.py:494: SerializationWarning: variable 'pressure' has multiple fill values {1e+35, -9999.0}, decoding all values to NaN.\n",
      "  use_cftime=use_cftime,\n",
      "/Users/bell/anaconda2/envs/py37/lib/python3.7/site-packages/xarray/conventions.py:494: SerializationWarning: variable 'salinity' has multiple fill values {1e+35, -9999.0}, decoding all values to NaN.\n",
      "  use_cftime=use_cftime,\n",
      "/Users/bell/anaconda2/envs/py37/lib/python3.7/site-packages/xarray/conventions.py:494: SerializationWarning: variable 'PAR' has multiple fill values {1e+35, -9999.0}, decoding all values to NaN.\n",
      "  use_cftime=use_cftime,\n",
      "/Users/bell/anaconda2/envs/py37/lib/python3.7/site-packages/xarray/conventions.py:494: SerializationWarning: variable 'Chlorophyll_Fluorescence' has multiple fill values {1e+35, -9999.0}, decoding all values to NaN.\n",
      "  use_cftime=use_cftime,\n",
      "/Users/bell/anaconda2/envs/py37/lib/python3.7/site-packages/xarray/conventions.py:494: SerializationWarning: variable 'Oxygen_Saturation' has multiple fill values {1e+35, -9999.0}, decoding all values to NaN.\n",
      "  use_cftime=use_cftime,\n",
      "/Users/bell/anaconda2/envs/py37/lib/python3.7/site-packages/xarray/conventions.py:494: SerializationWarning: variable 'Oxygen_Concentration' has multiple fill values {1e+35, -9999.0}, decoding all values to NaN.\n",
      "  use_cftime=use_cftime,\n"
     ]
    },
    {
     "name": "stdout",
     "output_type": "stream",
     "text": [
      "1hr_gridded_datasets_Mooring_12bs2c_final\n"
     ]
    },
    {
     "name": "stderr",
     "output_type": "stream",
     "text": [
      "/Users/bell/anaconda2/envs/py37/lib/python3.7/site-packages/xarray/conventions.py:494: SerializationWarning: variable 'temperature' has multiple fill values {1e+35, -9999.0}, decoding all values to NaN.\n",
      "  use_cftime=use_cftime,\n",
      "/Users/bell/anaconda2/envs/py37/lib/python3.7/site-packages/xarray/conventions.py:494: SerializationWarning: variable 'pressure' has multiple fill values {1e+35, -9999.0}, decoding all values to NaN.\n",
      "  use_cftime=use_cftime,\n",
      "/Users/bell/anaconda2/envs/py37/lib/python3.7/site-packages/xarray/conventions.py:494: SerializationWarning: variable 'salinity' has multiple fill values {1e+35, -9999.0}, decoding all values to NaN.\n",
      "  use_cftime=use_cftime,\n",
      "/Users/bell/anaconda2/envs/py37/lib/python3.7/site-packages/xarray/conventions.py:494: SerializationWarning: variable 'PAR' has multiple fill values {1e+35, -9999.0}, decoding all values to NaN.\n",
      "  use_cftime=use_cftime,\n",
      "/Users/bell/anaconda2/envs/py37/lib/python3.7/site-packages/xarray/conventions.py:494: SerializationWarning: variable 'Chlorophyll_Fluorescence' has multiple fill values {1e+35, -9999.0}, decoding all values to NaN.\n",
      "  use_cftime=use_cftime,\n",
      "/Users/bell/anaconda2/envs/py37/lib/python3.7/site-packages/xarray/conventions.py:494: SerializationWarning: variable 'Oxygen_Saturation' has multiple fill values {1e+35, -9999.0}, decoding all values to NaN.\n",
      "  use_cftime=use_cftime,\n",
      "/Users/bell/anaconda2/envs/py37/lib/python3.7/site-packages/xarray/conventions.py:494: SerializationWarning: variable 'Oxygen_Concentration' has multiple fill values {1e+35, -9999.0}, decoding all values to NaN.\n",
      "  use_cftime=use_cftime,\n"
     ]
    },
    {
     "name": "stdout",
     "output_type": "stream",
     "text": [
      "1hr_gridded_datasets_Mooring_12bsm2a_final\n"
     ]
    },
    {
     "name": "stderr",
     "output_type": "stream",
     "text": [
      "/Users/bell/anaconda2/envs/py37/lib/python3.7/site-packages/xarray/conventions.py:494: SerializationWarning: variable 'temperature' has multiple fill values {1e+35, -9999.0}, decoding all values to NaN.\n",
      "  use_cftime=use_cftime,\n",
      "/Users/bell/anaconda2/envs/py37/lib/python3.7/site-packages/xarray/conventions.py:494: SerializationWarning: variable 'pressure' has multiple fill values {1e+35, -9999.0}, decoding all values to NaN.\n",
      "  use_cftime=use_cftime,\n",
      "/Users/bell/anaconda2/envs/py37/lib/python3.7/site-packages/xarray/conventions.py:494: SerializationWarning: variable 'salinity' has multiple fill values {1e+35, -9999.0}, decoding all values to NaN.\n",
      "  use_cftime=use_cftime,\n",
      "/Users/bell/anaconda2/envs/py37/lib/python3.7/site-packages/xarray/conventions.py:494: SerializationWarning: variable 'PAR' has multiple fill values {1e+35, -9999.0}, decoding all values to NaN.\n",
      "  use_cftime=use_cftime,\n",
      "/Users/bell/anaconda2/envs/py37/lib/python3.7/site-packages/xarray/conventions.py:494: SerializationWarning: variable 'Chlorophyll_Fluorescence' has multiple fill values {1e+35, -9999.0}, decoding all values to NaN.\n",
      "  use_cftime=use_cftime,\n",
      "/Users/bell/anaconda2/envs/py37/lib/python3.7/site-packages/xarray/conventions.py:494: SerializationWarning: variable 'Oxygen_Saturation' has multiple fill values {1e+35, -9999.0}, decoding all values to NaN.\n",
      "  use_cftime=use_cftime,\n",
      "/Users/bell/anaconda2/envs/py37/lib/python3.7/site-packages/xarray/conventions.py:494: SerializationWarning: variable 'Oxygen_Concentration' has multiple fill values {1e+35, -9999.0}, decoding all values to NaN.\n",
      "  use_cftime=use_cftime,\n"
     ]
    },
    {
     "name": "stdout",
     "output_type": "stream",
     "text": [
      "1hr_gridded_datasets_Mooring_13bs2c_final\n"
     ]
    },
    {
     "name": "stderr",
     "output_type": "stream",
     "text": [
      "/Users/bell/anaconda2/envs/py37/lib/python3.7/site-packages/xarray/conventions.py:494: SerializationWarning: variable 'temperature' has multiple fill values {1e+35, -9999.0}, decoding all values to NaN.\n",
      "  use_cftime=use_cftime,\n",
      "/Users/bell/anaconda2/envs/py37/lib/python3.7/site-packages/xarray/conventions.py:494: SerializationWarning: variable 'pressure' has multiple fill values {1e+35, -9999.0}, decoding all values to NaN.\n",
      "  use_cftime=use_cftime,\n",
      "/Users/bell/anaconda2/envs/py37/lib/python3.7/site-packages/xarray/conventions.py:494: SerializationWarning: variable 'salinity' has multiple fill values {1e+35, -9999.0}, decoding all values to NaN.\n",
      "  use_cftime=use_cftime,\n",
      "/Users/bell/anaconda2/envs/py37/lib/python3.7/site-packages/xarray/conventions.py:494: SerializationWarning: variable 'PAR' has multiple fill values {1e+35, -9999.0}, decoding all values to NaN.\n",
      "  use_cftime=use_cftime,\n",
      "/Users/bell/anaconda2/envs/py37/lib/python3.7/site-packages/xarray/conventions.py:494: SerializationWarning: variable 'Chlorophyll_Fluorescence' has multiple fill values {1e+35, -9999.0}, decoding all values to NaN.\n",
      "  use_cftime=use_cftime,\n",
      "/Users/bell/anaconda2/envs/py37/lib/python3.7/site-packages/xarray/conventions.py:494: SerializationWarning: variable 'Oxygen_Saturation' has multiple fill values {1e+35, -9999.0}, decoding all values to NaN.\n",
      "  use_cftime=use_cftime,\n",
      "/Users/bell/anaconda2/envs/py37/lib/python3.7/site-packages/xarray/conventions.py:494: SerializationWarning: variable 'Oxygen_Concentration' has multiple fill values {1e+35, -9999.0}, decoding all values to NaN.\n",
      "  use_cftime=use_cftime,\n"
     ]
    },
    {
     "name": "stdout",
     "output_type": "stream",
     "text": [
      "1hr_gridded_datasets_Mooring_13bsm2a_final\n"
     ]
    },
    {
     "name": "stderr",
     "output_type": "stream",
     "text": [
      "/Users/bell/anaconda2/envs/py37/lib/python3.7/site-packages/xarray/conventions.py:494: SerializationWarning: variable 'temperature' has multiple fill values {1e+35, -9999.0}, decoding all values to NaN.\n",
      "  use_cftime=use_cftime,\n",
      "/Users/bell/anaconda2/envs/py37/lib/python3.7/site-packages/xarray/conventions.py:494: SerializationWarning: variable 'pressure' has multiple fill values {1e+35, -9999.0}, decoding all values to NaN.\n",
      "  use_cftime=use_cftime,\n",
      "/Users/bell/anaconda2/envs/py37/lib/python3.7/site-packages/xarray/conventions.py:494: SerializationWarning: variable 'salinity' has multiple fill values {1e+35, -9999.0}, decoding all values to NaN.\n",
      "  use_cftime=use_cftime,\n",
      "/Users/bell/anaconda2/envs/py37/lib/python3.7/site-packages/xarray/conventions.py:494: SerializationWarning: variable 'PAR' has multiple fill values {1e+35, -9999.0}, decoding all values to NaN.\n",
      "  use_cftime=use_cftime,\n",
      "/Users/bell/anaconda2/envs/py37/lib/python3.7/site-packages/xarray/conventions.py:494: SerializationWarning: variable 'Chlorophyll_Fluorescence' has multiple fill values {1e+35, -9999.0}, decoding all values to NaN.\n",
      "  use_cftime=use_cftime,\n",
      "/Users/bell/anaconda2/envs/py37/lib/python3.7/site-packages/xarray/conventions.py:494: SerializationWarning: variable 'Oxygen_Saturation' has multiple fill values {1e+35, -9999.0}, decoding all values to NaN.\n",
      "  use_cftime=use_cftime,\n",
      "/Users/bell/anaconda2/envs/py37/lib/python3.7/site-packages/xarray/conventions.py:494: SerializationWarning: variable 'Oxygen_Concentration' has multiple fill values {1e+35, -9999.0}, decoding all values to NaN.\n",
      "  use_cftime=use_cftime,\n"
     ]
    },
    {
     "name": "stdout",
     "output_type": "stream",
     "text": [
      "1hr_gridded_datasets_Mooring_14bs2c_final\n"
     ]
    },
    {
     "name": "stderr",
     "output_type": "stream",
     "text": [
      "/Users/bell/anaconda2/envs/py37/lib/python3.7/site-packages/xarray/conventions.py:494: SerializationWarning: variable 'temperature' has multiple fill values {1e+35, -9999.0}, decoding all values to NaN.\n",
      "  use_cftime=use_cftime,\n",
      "/Users/bell/anaconda2/envs/py37/lib/python3.7/site-packages/xarray/conventions.py:494: SerializationWarning: variable 'pressure' has multiple fill values {1e+35, -9999.0}, decoding all values to NaN.\n",
      "  use_cftime=use_cftime,\n",
      "/Users/bell/anaconda2/envs/py37/lib/python3.7/site-packages/xarray/conventions.py:494: SerializationWarning: variable 'salinity' has multiple fill values {1e+35, -9999.0}, decoding all values to NaN.\n",
      "  use_cftime=use_cftime,\n",
      "/Users/bell/anaconda2/envs/py37/lib/python3.7/site-packages/xarray/conventions.py:494: SerializationWarning: variable 'PAR' has multiple fill values {1e+35, -9999.0}, decoding all values to NaN.\n",
      "  use_cftime=use_cftime,\n",
      "/Users/bell/anaconda2/envs/py37/lib/python3.7/site-packages/xarray/conventions.py:494: SerializationWarning: variable 'Chlorophyll_Fluorescence' has multiple fill values {1e+35, -9999.0}, decoding all values to NaN.\n",
      "  use_cftime=use_cftime,\n",
      "/Users/bell/anaconda2/envs/py37/lib/python3.7/site-packages/xarray/conventions.py:494: SerializationWarning: variable 'Oxygen_Saturation' has multiple fill values {1e+35, -9999.0}, decoding all values to NaN.\n",
      "  use_cftime=use_cftime,\n",
      "/Users/bell/anaconda2/envs/py37/lib/python3.7/site-packages/xarray/conventions.py:494: SerializationWarning: variable 'Oxygen_Concentration' has multiple fill values {1e+35, -9999.0}, decoding all values to NaN.\n",
      "  use_cftime=use_cftime,\n"
     ]
    },
    {
     "name": "stdout",
     "output_type": "stream",
     "text": [
      "1hr_gridded_datasets_Mooring_14bsm2a_final\n"
     ]
    },
    {
     "name": "stderr",
     "output_type": "stream",
     "text": [
      "/Users/bell/anaconda2/envs/py37/lib/python3.7/site-packages/xarray/conventions.py:494: SerializationWarning: variable 'temperature' has multiple fill values {1e+35, -9999.0}, decoding all values to NaN.\n",
      "  use_cftime=use_cftime,\n",
      "/Users/bell/anaconda2/envs/py37/lib/python3.7/site-packages/xarray/conventions.py:494: SerializationWarning: variable 'pressure' has multiple fill values {1e+35, -9999.0}, decoding all values to NaN.\n",
      "  use_cftime=use_cftime,\n",
      "/Users/bell/anaconda2/envs/py37/lib/python3.7/site-packages/xarray/conventions.py:494: SerializationWarning: variable 'salinity' has multiple fill values {1e+35, -9999.0}, decoding all values to NaN.\n",
      "  use_cftime=use_cftime,\n",
      "/Users/bell/anaconda2/envs/py37/lib/python3.7/site-packages/xarray/conventions.py:494: SerializationWarning: variable 'PAR' has multiple fill values {1e+35, -9999.0}, decoding all values to NaN.\n",
      "  use_cftime=use_cftime,\n",
      "/Users/bell/anaconda2/envs/py37/lib/python3.7/site-packages/xarray/conventions.py:494: SerializationWarning: variable 'Chlorophyll_Fluorescence' has multiple fill values {1e+35, -9999.0}, decoding all values to NaN.\n",
      "  use_cftime=use_cftime,\n",
      "/Users/bell/anaconda2/envs/py37/lib/python3.7/site-packages/xarray/conventions.py:494: SerializationWarning: variable 'Oxygen_Saturation' has multiple fill values {1e+35, -9999.0}, decoding all values to NaN.\n",
      "  use_cftime=use_cftime,\n",
      "/Users/bell/anaconda2/envs/py37/lib/python3.7/site-packages/xarray/conventions.py:494: SerializationWarning: variable 'Oxygen_Concentration' has multiple fill values {1e+35, -9999.0}, decoding all values to NaN.\n",
      "  use_cftime=use_cftime,\n"
     ]
    },
    {
     "name": "stdout",
     "output_type": "stream",
     "text": [
      "1hr_gridded_datasets_Mooring_15bs2c_final\n"
     ]
    },
    {
     "name": "stderr",
     "output_type": "stream",
     "text": [
      "/Users/bell/anaconda2/envs/py37/lib/python3.7/site-packages/xarray/conventions.py:494: SerializationWarning: variable 'temperature' has multiple fill values {1e+35, -9999.0}, decoding all values to NaN.\n",
      "  use_cftime=use_cftime,\n",
      "/Users/bell/anaconda2/envs/py37/lib/python3.7/site-packages/xarray/conventions.py:494: SerializationWarning: variable 'pressure' has multiple fill values {1e+35, -9999.0}, decoding all values to NaN.\n",
      "  use_cftime=use_cftime,\n",
      "/Users/bell/anaconda2/envs/py37/lib/python3.7/site-packages/xarray/conventions.py:494: SerializationWarning: variable 'salinity' has multiple fill values {1e+35, -9999.0}, decoding all values to NaN.\n",
      "  use_cftime=use_cftime,\n",
      "/Users/bell/anaconda2/envs/py37/lib/python3.7/site-packages/xarray/conventions.py:494: SerializationWarning: variable 'PAR' has multiple fill values {1e+35, -9999.0}, decoding all values to NaN.\n",
      "  use_cftime=use_cftime,\n",
      "/Users/bell/anaconda2/envs/py37/lib/python3.7/site-packages/xarray/conventions.py:494: SerializationWarning: variable 'Chlorophyll_Fluorescence' has multiple fill values {1e+35, -9999.0}, decoding all values to NaN.\n",
      "  use_cftime=use_cftime,\n",
      "/Users/bell/anaconda2/envs/py37/lib/python3.7/site-packages/xarray/conventions.py:494: SerializationWarning: variable 'Oxygen_Saturation' has multiple fill values {1e+35, -9999.0}, decoding all values to NaN.\n",
      "  use_cftime=use_cftime,\n",
      "/Users/bell/anaconda2/envs/py37/lib/python3.7/site-packages/xarray/conventions.py:494: SerializationWarning: variable 'Oxygen_Concentration' has multiple fill values {1e+35, -9999.0}, decoding all values to NaN.\n",
      "  use_cftime=use_cftime,\n"
     ]
    },
    {
     "name": "stdout",
     "output_type": "stream",
     "text": [
      "1hr_gridded_datasets_Mooring_15bsm2a_final\n"
     ]
    },
    {
     "name": "stderr",
     "output_type": "stream",
     "text": [
      "/Users/bell/anaconda2/envs/py37/lib/python3.7/site-packages/xarray/conventions.py:494: SerializationWarning: variable 'temperature' has multiple fill values {1e+35, -9999.0}, decoding all values to NaN.\n",
      "  use_cftime=use_cftime,\n",
      "/Users/bell/anaconda2/envs/py37/lib/python3.7/site-packages/xarray/conventions.py:494: SerializationWarning: variable 'pressure' has multiple fill values {1e+35, -9999.0}, decoding all values to NaN.\n",
      "  use_cftime=use_cftime,\n",
      "/Users/bell/anaconda2/envs/py37/lib/python3.7/site-packages/xarray/conventions.py:494: SerializationWarning: variable 'salinity' has multiple fill values {1e+35, -9999.0}, decoding all values to NaN.\n",
      "  use_cftime=use_cftime,\n",
      "/Users/bell/anaconda2/envs/py37/lib/python3.7/site-packages/xarray/conventions.py:494: SerializationWarning: variable 'PAR' has multiple fill values {1e+35, -9999.0}, decoding all values to NaN.\n",
      "  use_cftime=use_cftime,\n",
      "/Users/bell/anaconda2/envs/py37/lib/python3.7/site-packages/xarray/conventions.py:494: SerializationWarning: variable 'Chlorophyll_Fluorescence' has multiple fill values {1e+35, -9999.0}, decoding all values to NaN.\n",
      "  use_cftime=use_cftime,\n",
      "/Users/bell/anaconda2/envs/py37/lib/python3.7/site-packages/xarray/conventions.py:494: SerializationWarning: variable 'Oxygen_Saturation' has multiple fill values {1e+35, -9999.0}, decoding all values to NaN.\n",
      "  use_cftime=use_cftime,\n",
      "/Users/bell/anaconda2/envs/py37/lib/python3.7/site-packages/xarray/conventions.py:494: SerializationWarning: variable 'Oxygen_Concentration' has multiple fill values {1e+35, -9999.0}, decoding all values to NaN.\n",
      "  use_cftime=use_cftime,\n"
     ]
    },
    {
     "name": "stdout",
     "output_type": "stream",
     "text": [
      "1hr_gridded_datasets_Mooring_16bs2c_final\n"
     ]
    },
    {
     "name": "stderr",
     "output_type": "stream",
     "text": [
      "/Users/bell/anaconda2/envs/py37/lib/python3.7/site-packages/xarray/conventions.py:494: SerializationWarning: variable 'temperature' has multiple fill values {1e+35, -9999.0}, decoding all values to NaN.\n",
      "  use_cftime=use_cftime,\n",
      "/Users/bell/anaconda2/envs/py37/lib/python3.7/site-packages/xarray/conventions.py:494: SerializationWarning: variable 'pressure' has multiple fill values {1e+35, -9999.0}, decoding all values to NaN.\n",
      "  use_cftime=use_cftime,\n",
      "/Users/bell/anaconda2/envs/py37/lib/python3.7/site-packages/xarray/conventions.py:494: SerializationWarning: variable 'salinity' has multiple fill values {1e+35, -9999.0}, decoding all values to NaN.\n",
      "  use_cftime=use_cftime,\n",
      "/Users/bell/anaconda2/envs/py37/lib/python3.7/site-packages/xarray/conventions.py:494: SerializationWarning: variable 'PAR' has multiple fill values {1e+35, -9999.0}, decoding all values to NaN.\n",
      "  use_cftime=use_cftime,\n",
      "/Users/bell/anaconda2/envs/py37/lib/python3.7/site-packages/xarray/conventions.py:494: SerializationWarning: variable 'Chlorophyll_Fluorescence' has multiple fill values {1e+35, -9999.0}, decoding all values to NaN.\n",
      "  use_cftime=use_cftime,\n",
      "/Users/bell/anaconda2/envs/py37/lib/python3.7/site-packages/xarray/conventions.py:494: SerializationWarning: variable 'Oxygen_Saturation' has multiple fill values {1e+35, -9999.0}, decoding all values to NaN.\n",
      "  use_cftime=use_cftime,\n",
      "/Users/bell/anaconda2/envs/py37/lib/python3.7/site-packages/xarray/conventions.py:494: SerializationWarning: variable 'Oxygen_Concentration' has multiple fill values {1e+35, -9999.0}, decoding all values to NaN.\n",
      "  use_cftime=use_cftime,\n"
     ]
    },
    {
     "name": "stdout",
     "output_type": "stream",
     "text": [
      "1hr_gridded_datasets_Mooring_16bsm2a_final\n"
     ]
    },
    {
     "name": "stderr",
     "output_type": "stream",
     "text": [
      "/Users/bell/anaconda2/envs/py37/lib/python3.7/site-packages/xarray/conventions.py:494: SerializationWarning: variable 'temperature' has multiple fill values {1e+35, -9999.0}, decoding all values to NaN.\n",
      "  use_cftime=use_cftime,\n",
      "/Users/bell/anaconda2/envs/py37/lib/python3.7/site-packages/xarray/conventions.py:494: SerializationWarning: variable 'pressure' has multiple fill values {1e+35, -9999.0}, decoding all values to NaN.\n",
      "  use_cftime=use_cftime,\n",
      "/Users/bell/anaconda2/envs/py37/lib/python3.7/site-packages/xarray/conventions.py:494: SerializationWarning: variable 'salinity' has multiple fill values {1e+35, -9999.0}, decoding all values to NaN.\n",
      "  use_cftime=use_cftime,\n",
      "/Users/bell/anaconda2/envs/py37/lib/python3.7/site-packages/xarray/conventions.py:494: SerializationWarning: variable 'PAR' has multiple fill values {1e+35, -9999.0}, decoding all values to NaN.\n",
      "  use_cftime=use_cftime,\n",
      "/Users/bell/anaconda2/envs/py37/lib/python3.7/site-packages/xarray/conventions.py:494: SerializationWarning: variable 'Chlorophyll_Fluorescence' has multiple fill values {1e+35, -9999.0}, decoding all values to NaN.\n",
      "  use_cftime=use_cftime,\n",
      "/Users/bell/anaconda2/envs/py37/lib/python3.7/site-packages/xarray/conventions.py:494: SerializationWarning: variable 'Oxygen_Saturation' has multiple fill values {1e+35, -9999.0}, decoding all values to NaN.\n",
      "  use_cftime=use_cftime,\n",
      "/Users/bell/anaconda2/envs/py37/lib/python3.7/site-packages/xarray/conventions.py:494: SerializationWarning: variable 'Oxygen_Concentration' has multiple fill values {1e+35, -9999.0}, decoding all values to NaN.\n",
      "  use_cftime=use_cftime,\n"
     ]
    },
    {
     "name": "stdout",
     "output_type": "stream",
     "text": [
      "1hr_gridded_datasets_Mooring_17bs2c_final\n"
     ]
    },
    {
     "name": "stderr",
     "output_type": "stream",
     "text": [
      "/Users/bell/anaconda2/envs/py37/lib/python3.7/site-packages/xarray/conventions.py:494: SerializationWarning: variable 'temperature' has multiple fill values {1e+35, -9999.0}, decoding all values to NaN.\n",
      "  use_cftime=use_cftime,\n",
      "/Users/bell/anaconda2/envs/py37/lib/python3.7/site-packages/xarray/conventions.py:494: SerializationWarning: variable 'pressure' has multiple fill values {1e+35, -9999.0}, decoding all values to NaN.\n",
      "  use_cftime=use_cftime,\n",
      "/Users/bell/anaconda2/envs/py37/lib/python3.7/site-packages/xarray/conventions.py:494: SerializationWarning: variable 'salinity' has multiple fill values {1e+35, -9999.0}, decoding all values to NaN.\n",
      "  use_cftime=use_cftime,\n",
      "/Users/bell/anaconda2/envs/py37/lib/python3.7/site-packages/xarray/conventions.py:494: SerializationWarning: variable 'PAR' has multiple fill values {1e+35, -9999.0}, decoding all values to NaN.\n",
      "  use_cftime=use_cftime,\n",
      "/Users/bell/anaconda2/envs/py37/lib/python3.7/site-packages/xarray/conventions.py:494: SerializationWarning: variable 'Chlorophyll_Fluorescence' has multiple fill values {1e+35, -9999.0}, decoding all values to NaN.\n",
      "  use_cftime=use_cftime,\n",
      "/Users/bell/anaconda2/envs/py37/lib/python3.7/site-packages/xarray/conventions.py:494: SerializationWarning: variable 'Oxygen_Saturation' has multiple fill values {1e+35, -9999.0}, decoding all values to NaN.\n",
      "  use_cftime=use_cftime,\n",
      "/Users/bell/anaconda2/envs/py37/lib/python3.7/site-packages/xarray/conventions.py:494: SerializationWarning: variable 'Oxygen_Concentration' has multiple fill values {1e+35, -9999.0}, decoding all values to NaN.\n",
      "  use_cftime=use_cftime,\n"
     ]
    },
    {
     "name": "stdout",
     "output_type": "stream",
     "text": [
      "1hr_gridded_datasets_Mooring_17bsm2a_final\n"
     ]
    },
    {
     "name": "stderr",
     "output_type": "stream",
     "text": [
      "/Users/bell/anaconda2/envs/py37/lib/python3.7/site-packages/xarray/conventions.py:494: SerializationWarning: variable 'temperature' has multiple fill values {1e+35, -9999.0}, decoding all values to NaN.\n",
      "  use_cftime=use_cftime,\n",
      "/Users/bell/anaconda2/envs/py37/lib/python3.7/site-packages/xarray/conventions.py:494: SerializationWarning: variable 'pressure' has multiple fill values {1e+35, -9999.0}, decoding all values to NaN.\n",
      "  use_cftime=use_cftime,\n",
      "/Users/bell/anaconda2/envs/py37/lib/python3.7/site-packages/xarray/conventions.py:494: SerializationWarning: variable 'salinity' has multiple fill values {1e+35, -9999.0}, decoding all values to NaN.\n",
      "  use_cftime=use_cftime,\n",
      "/Users/bell/anaconda2/envs/py37/lib/python3.7/site-packages/xarray/conventions.py:494: SerializationWarning: variable 'PAR' has multiple fill values {1e+35, -9999.0}, decoding all values to NaN.\n",
      "  use_cftime=use_cftime,\n",
      "/Users/bell/anaconda2/envs/py37/lib/python3.7/site-packages/xarray/conventions.py:494: SerializationWarning: variable 'Chlorophyll_Fluorescence' has multiple fill values {1e+35, -9999.0}, decoding all values to NaN.\n",
      "  use_cftime=use_cftime,\n",
      "/Users/bell/anaconda2/envs/py37/lib/python3.7/site-packages/xarray/conventions.py:494: SerializationWarning: variable 'Oxygen_Saturation' has multiple fill values {1e+35, -9999.0}, decoding all values to NaN.\n",
      "  use_cftime=use_cftime,\n",
      "/Users/bell/anaconda2/envs/py37/lib/python3.7/site-packages/xarray/conventions.py:494: SerializationWarning: variable 'Oxygen_Concentration' has multiple fill values {1e+35, -9999.0}, decoding all values to NaN.\n",
      "  use_cftime=use_cftime,\n"
     ]
    },
    {
     "name": "stdout",
     "output_type": "stream",
     "text": [
      "1hr_gridded_datasets_Mooring_18bs2c_final\n"
     ]
    },
    {
     "name": "stderr",
     "output_type": "stream",
     "text": [
      "/Users/bell/anaconda2/envs/py37/lib/python3.7/site-packages/xarray/conventions.py:494: SerializationWarning: variable 'temperature' has multiple fill values {1e+35, -9999.0}, decoding all values to NaN.\n",
      "  use_cftime=use_cftime,\n",
      "/Users/bell/anaconda2/envs/py37/lib/python3.7/site-packages/xarray/conventions.py:494: SerializationWarning: variable 'pressure' has multiple fill values {1e+35, -9999.0}, decoding all values to NaN.\n",
      "  use_cftime=use_cftime,\n",
      "/Users/bell/anaconda2/envs/py37/lib/python3.7/site-packages/xarray/conventions.py:494: SerializationWarning: variable 'salinity' has multiple fill values {1e+35, -9999.0}, decoding all values to NaN.\n",
      "  use_cftime=use_cftime,\n",
      "/Users/bell/anaconda2/envs/py37/lib/python3.7/site-packages/xarray/conventions.py:494: SerializationWarning: variable 'PAR' has multiple fill values {1e+35, -9999.0}, decoding all values to NaN.\n",
      "  use_cftime=use_cftime,\n",
      "/Users/bell/anaconda2/envs/py37/lib/python3.7/site-packages/xarray/conventions.py:494: SerializationWarning: variable 'Chlorophyll_Fluorescence' has multiple fill values {1e+35, -9999.0}, decoding all values to NaN.\n",
      "  use_cftime=use_cftime,\n",
      "/Users/bell/anaconda2/envs/py37/lib/python3.7/site-packages/xarray/conventions.py:494: SerializationWarning: variable 'Oxygen_Saturation' has multiple fill values {1e+35, -9999.0}, decoding all values to NaN.\n",
      "  use_cftime=use_cftime,\n",
      "/Users/bell/anaconda2/envs/py37/lib/python3.7/site-packages/xarray/conventions.py:494: SerializationWarning: variable 'Oxygen_Concentration' has multiple fill values {1e+35, -9999.0}, decoding all values to NaN.\n",
      "  use_cftime=use_cftime,\n"
     ]
    },
    {
     "name": "stdout",
     "output_type": "stream",
     "text": [
      "1hr_gridded_datasets_Mooring_18bsm2a_final\n"
     ]
    },
    {
     "name": "stderr",
     "output_type": "stream",
     "text": [
      "/Users/bell/anaconda2/envs/py37/lib/python3.7/site-packages/xarray/conventions.py:494: SerializationWarning: variable 'temperature' has multiple fill values {1e+35, -9999.0}, decoding all values to NaN.\n",
      "  use_cftime=use_cftime,\n",
      "/Users/bell/anaconda2/envs/py37/lib/python3.7/site-packages/xarray/conventions.py:494: SerializationWarning: variable 'pressure' has multiple fill values {1e+35, -9999.0}, decoding all values to NaN.\n",
      "  use_cftime=use_cftime,\n",
      "/Users/bell/anaconda2/envs/py37/lib/python3.7/site-packages/xarray/conventions.py:494: SerializationWarning: variable 'salinity' has multiple fill values {1e+35, -9999.0}, decoding all values to NaN.\n",
      "  use_cftime=use_cftime,\n",
      "/Users/bell/anaconda2/envs/py37/lib/python3.7/site-packages/xarray/conventions.py:494: SerializationWarning: variable 'PAR' has multiple fill values {1e+35, -9999.0}, decoding all values to NaN.\n",
      "  use_cftime=use_cftime,\n",
      "/Users/bell/anaconda2/envs/py37/lib/python3.7/site-packages/xarray/conventions.py:494: SerializationWarning: variable 'Chlorophyll_Fluorescence' has multiple fill values {1e+35, -9999.0}, decoding all values to NaN.\n",
      "  use_cftime=use_cftime,\n",
      "/Users/bell/anaconda2/envs/py37/lib/python3.7/site-packages/xarray/conventions.py:494: SerializationWarning: variable 'Oxygen_Saturation' has multiple fill values {1e+35, -9999.0}, decoding all values to NaN.\n",
      "  use_cftime=use_cftime,\n",
      "/Users/bell/anaconda2/envs/py37/lib/python3.7/site-packages/xarray/conventions.py:494: SerializationWarning: variable 'Oxygen_Concentration' has multiple fill values {1e+35, -9999.0}, decoding all values to NaN.\n",
      "  use_cftime=use_cftime,\n"
     ]
    },
    {
     "name": "stdout",
     "output_type": "stream",
     "text": [
      "1hr_gridded_datasets_Mooring_19bsm2a_final\n"
     ]
    },
    {
     "name": "stderr",
     "output_type": "stream",
     "text": [
      "/Users/bell/anaconda2/envs/py37/lib/python3.7/site-packages/xarray/conventions.py:494: SerializationWarning: variable 'temperature' has multiple fill values {1e+35, -9999.0}, decoding all values to NaN.\n",
      "  use_cftime=use_cftime,\n",
      "/Users/bell/anaconda2/envs/py37/lib/python3.7/site-packages/xarray/conventions.py:494: SerializationWarning: variable 'pressure' has multiple fill values {1e+35, -9999.0}, decoding all values to NaN.\n",
      "  use_cftime=use_cftime,\n",
      "/Users/bell/anaconda2/envs/py37/lib/python3.7/site-packages/xarray/conventions.py:494: SerializationWarning: variable 'salinity' has multiple fill values {1e+35, -9999.0}, decoding all values to NaN.\n",
      "  use_cftime=use_cftime,\n",
      "/Users/bell/anaconda2/envs/py37/lib/python3.7/site-packages/xarray/conventions.py:494: SerializationWarning: variable 'PAR' has multiple fill values {1e+35, -9999.0}, decoding all values to NaN.\n",
      "  use_cftime=use_cftime,\n",
      "/Users/bell/anaconda2/envs/py37/lib/python3.7/site-packages/xarray/conventions.py:494: SerializationWarning: variable 'Chlorophyll_Fluorescence' has multiple fill values {1e+35, -9999.0}, decoding all values to NaN.\n",
      "  use_cftime=use_cftime,\n",
      "/Users/bell/anaconda2/envs/py37/lib/python3.7/site-packages/xarray/conventions.py:494: SerializationWarning: variable 'Oxygen_Saturation' has multiple fill values {1e+35, -9999.0}, decoding all values to NaN.\n",
      "  use_cftime=use_cftime,\n",
      "/Users/bell/anaconda2/envs/py37/lib/python3.7/site-packages/xarray/conventions.py:494: SerializationWarning: variable 'Oxygen_Concentration' has multiple fill values {1e+35, -9999.0}, decoding all values to NaN.\n",
      "  use_cftime=use_cftime,\n"
     ]
    },
    {
     "name": "stdout",
     "output_type": "stream",
     "text": [
      "1hr_gridded_datasets_Mooring_95bsm2a_final\n"
     ]
    },
    {
     "name": "stderr",
     "output_type": "stream",
     "text": [
      "/Users/bell/anaconda2/envs/py37/lib/python3.7/site-packages/xarray/conventions.py:494: SerializationWarning: variable 'temperature' has multiple fill values {1e+35, -9999.0}, decoding all values to NaN.\n",
      "  use_cftime=use_cftime,\n",
      "/Users/bell/anaconda2/envs/py37/lib/python3.7/site-packages/xarray/conventions.py:494: SerializationWarning: variable 'pressure' has multiple fill values {1e+35, -9999.0}, decoding all values to NaN.\n",
      "  use_cftime=use_cftime,\n",
      "/Users/bell/anaconda2/envs/py37/lib/python3.7/site-packages/xarray/conventions.py:494: SerializationWarning: variable 'salinity' has multiple fill values {1e+35, -9999.0}, decoding all values to NaN.\n",
      "  use_cftime=use_cftime,\n",
      "/Users/bell/anaconda2/envs/py37/lib/python3.7/site-packages/xarray/conventions.py:494: SerializationWarning: variable 'PAR' has multiple fill values {1e+35, -9999.0}, decoding all values to NaN.\n",
      "  use_cftime=use_cftime,\n",
      "/Users/bell/anaconda2/envs/py37/lib/python3.7/site-packages/xarray/conventions.py:494: SerializationWarning: variable 'Chlorophyll_Fluorescence' has multiple fill values {1e+35, -9999.0}, decoding all values to NaN.\n",
      "  use_cftime=use_cftime,\n",
      "/Users/bell/anaconda2/envs/py37/lib/python3.7/site-packages/xarray/conventions.py:494: SerializationWarning: variable 'Oxygen_Saturation' has multiple fill values {1e+35, -9999.0}, decoding all values to NaN.\n",
      "  use_cftime=use_cftime,\n",
      "/Users/bell/anaconda2/envs/py37/lib/python3.7/site-packages/xarray/conventions.py:494: SerializationWarning: variable 'Oxygen_Concentration' has multiple fill values {1e+35, -9999.0}, decoding all values to NaN.\n",
      "  use_cftime=use_cftime,\n"
     ]
    },
    {
     "name": "stdout",
     "output_type": "stream",
     "text": [
      "1hr_gridded_datasets_Mooring_96bs2c_final\n"
     ]
    },
    {
     "name": "stderr",
     "output_type": "stream",
     "text": [
      "/Users/bell/anaconda2/envs/py37/lib/python3.7/site-packages/xarray/conventions.py:494: SerializationWarning: variable 'temperature' has multiple fill values {1e+35, -9999.0}, decoding all values to NaN.\n",
      "  use_cftime=use_cftime,\n",
      "/Users/bell/anaconda2/envs/py37/lib/python3.7/site-packages/xarray/conventions.py:494: SerializationWarning: variable 'pressure' has multiple fill values {1e+35, -9999.0}, decoding all values to NaN.\n",
      "  use_cftime=use_cftime,\n",
      "/Users/bell/anaconda2/envs/py37/lib/python3.7/site-packages/xarray/conventions.py:494: SerializationWarning: variable 'salinity' has multiple fill values {1e+35, -9999.0}, decoding all values to NaN.\n",
      "  use_cftime=use_cftime,\n",
      "/Users/bell/anaconda2/envs/py37/lib/python3.7/site-packages/xarray/conventions.py:494: SerializationWarning: variable 'PAR' has multiple fill values {1e+35, -9999.0}, decoding all values to NaN.\n",
      "  use_cftime=use_cftime,\n",
      "/Users/bell/anaconda2/envs/py37/lib/python3.7/site-packages/xarray/conventions.py:494: SerializationWarning: variable 'Chlorophyll_Fluorescence' has multiple fill values {1e+35, -9999.0}, decoding all values to NaN.\n",
      "  use_cftime=use_cftime,\n",
      "/Users/bell/anaconda2/envs/py37/lib/python3.7/site-packages/xarray/conventions.py:494: SerializationWarning: variable 'Oxygen_Saturation' has multiple fill values {1e+35, -9999.0}, decoding all values to NaN.\n",
      "  use_cftime=use_cftime,\n",
      "/Users/bell/anaconda2/envs/py37/lib/python3.7/site-packages/xarray/conventions.py:494: SerializationWarning: variable 'Oxygen_Concentration' has multiple fill values {1e+35, -9999.0}, decoding all values to NaN.\n",
      "  use_cftime=use_cftime,\n"
     ]
    },
    {
     "name": "stdout",
     "output_type": "stream",
     "text": [
      "1hr_gridded_datasets_Mooring_96bsm2a_final\n"
     ]
    },
    {
     "name": "stderr",
     "output_type": "stream",
     "text": [
      "/Users/bell/anaconda2/envs/py37/lib/python3.7/site-packages/xarray/conventions.py:494: SerializationWarning: variable 'temperature' has multiple fill values {1e+35, -9999.0}, decoding all values to NaN.\n",
      "  use_cftime=use_cftime,\n",
      "/Users/bell/anaconda2/envs/py37/lib/python3.7/site-packages/xarray/conventions.py:494: SerializationWarning: variable 'pressure' has multiple fill values {1e+35, -9999.0}, decoding all values to NaN.\n",
      "  use_cftime=use_cftime,\n",
      "/Users/bell/anaconda2/envs/py37/lib/python3.7/site-packages/xarray/conventions.py:494: SerializationWarning: variable 'salinity' has multiple fill values {1e+35, -9999.0}, decoding all values to NaN.\n",
      "  use_cftime=use_cftime,\n",
      "/Users/bell/anaconda2/envs/py37/lib/python3.7/site-packages/xarray/conventions.py:494: SerializationWarning: variable 'PAR' has multiple fill values {1e+35, -9999.0}, decoding all values to NaN.\n",
      "  use_cftime=use_cftime,\n",
      "/Users/bell/anaconda2/envs/py37/lib/python3.7/site-packages/xarray/conventions.py:494: SerializationWarning: variable 'Chlorophyll_Fluorescence' has multiple fill values {1e+35, -9999.0}, decoding all values to NaN.\n",
      "  use_cftime=use_cftime,\n",
      "/Users/bell/anaconda2/envs/py37/lib/python3.7/site-packages/xarray/conventions.py:494: SerializationWarning: variable 'Oxygen_Saturation' has multiple fill values {1e+35, -9999.0}, decoding all values to NaN.\n",
      "  use_cftime=use_cftime,\n",
      "/Users/bell/anaconda2/envs/py37/lib/python3.7/site-packages/xarray/conventions.py:494: SerializationWarning: variable 'Oxygen_Concentration' has multiple fill values {1e+35, -9999.0}, decoding all values to NaN.\n",
      "  use_cftime=use_cftime,\n"
     ]
    },
    {
     "name": "stdout",
     "output_type": "stream",
     "text": [
      "1hr_gridded_datasets_Mooring_97bs2c_final\n"
     ]
    },
    {
     "name": "stderr",
     "output_type": "stream",
     "text": [
      "/Users/bell/anaconda2/envs/py37/lib/python3.7/site-packages/xarray/conventions.py:494: SerializationWarning: variable 'temperature' has multiple fill values {1e+35, -9999.0}, decoding all values to NaN.\n",
      "  use_cftime=use_cftime,\n",
      "/Users/bell/anaconda2/envs/py37/lib/python3.7/site-packages/xarray/conventions.py:494: SerializationWarning: variable 'pressure' has multiple fill values {1e+35, -9999.0}, decoding all values to NaN.\n",
      "  use_cftime=use_cftime,\n",
      "/Users/bell/anaconda2/envs/py37/lib/python3.7/site-packages/xarray/conventions.py:494: SerializationWarning: variable 'salinity' has multiple fill values {1e+35, -9999.0}, decoding all values to NaN.\n",
      "  use_cftime=use_cftime,\n",
      "/Users/bell/anaconda2/envs/py37/lib/python3.7/site-packages/xarray/conventions.py:494: SerializationWarning: variable 'PAR' has multiple fill values {1e+35, -9999.0}, decoding all values to NaN.\n",
      "  use_cftime=use_cftime,\n",
      "/Users/bell/anaconda2/envs/py37/lib/python3.7/site-packages/xarray/conventions.py:494: SerializationWarning: variable 'Chlorophyll_Fluorescence' has multiple fill values {1e+35, -9999.0}, decoding all values to NaN.\n",
      "  use_cftime=use_cftime,\n",
      "/Users/bell/anaconda2/envs/py37/lib/python3.7/site-packages/xarray/conventions.py:494: SerializationWarning: variable 'Oxygen_Saturation' has multiple fill values {1e+35, -9999.0}, decoding all values to NaN.\n",
      "  use_cftime=use_cftime,\n",
      "/Users/bell/anaconda2/envs/py37/lib/python3.7/site-packages/xarray/conventions.py:494: SerializationWarning: variable 'Oxygen_Concentration' has multiple fill values {1e+35, -9999.0}, decoding all values to NaN.\n",
      "  use_cftime=use_cftime,\n"
     ]
    },
    {
     "name": "stdout",
     "output_type": "stream",
     "text": [
      "1hr_gridded_datasets_Mooring_97bsm2a_final\n"
     ]
    },
    {
     "name": "stderr",
     "output_type": "stream",
     "text": [
      "/Users/bell/anaconda2/envs/py37/lib/python3.7/site-packages/xarray/conventions.py:494: SerializationWarning: variable 'temperature' has multiple fill values {1e+35, -9999.0}, decoding all values to NaN.\n",
      "  use_cftime=use_cftime,\n",
      "/Users/bell/anaconda2/envs/py37/lib/python3.7/site-packages/xarray/conventions.py:494: SerializationWarning: variable 'pressure' has multiple fill values {1e+35, -9999.0}, decoding all values to NaN.\n",
      "  use_cftime=use_cftime,\n",
      "/Users/bell/anaconda2/envs/py37/lib/python3.7/site-packages/xarray/conventions.py:494: SerializationWarning: variable 'salinity' has multiple fill values {1e+35, -9999.0}, decoding all values to NaN.\n",
      "  use_cftime=use_cftime,\n",
      "/Users/bell/anaconda2/envs/py37/lib/python3.7/site-packages/xarray/conventions.py:494: SerializationWarning: variable 'PAR' has multiple fill values {1e+35, -9999.0}, decoding all values to NaN.\n",
      "  use_cftime=use_cftime,\n",
      "/Users/bell/anaconda2/envs/py37/lib/python3.7/site-packages/xarray/conventions.py:494: SerializationWarning: variable 'Chlorophyll_Fluorescence' has multiple fill values {1e+35, -9999.0}, decoding all values to NaN.\n",
      "  use_cftime=use_cftime,\n",
      "/Users/bell/anaconda2/envs/py37/lib/python3.7/site-packages/xarray/conventions.py:494: SerializationWarning: variable 'Oxygen_Saturation' has multiple fill values {1e+35, -9999.0}, decoding all values to NaN.\n",
      "  use_cftime=use_cftime,\n",
      "/Users/bell/anaconda2/envs/py37/lib/python3.7/site-packages/xarray/conventions.py:494: SerializationWarning: variable 'Oxygen_Concentration' has multiple fill values {1e+35, -9999.0}, decoding all values to NaN.\n",
      "  use_cftime=use_cftime,\n"
     ]
    },
    {
     "name": "stdout",
     "output_type": "stream",
     "text": [
      "1hr_gridded_datasets_Mooring_98bs2c_final\n"
     ]
    },
    {
     "name": "stderr",
     "output_type": "stream",
     "text": [
      "/Users/bell/anaconda2/envs/py37/lib/python3.7/site-packages/xarray/conventions.py:494: SerializationWarning: variable 'temperature' has multiple fill values {1e+35, -9999.0}, decoding all values to NaN.\n",
      "  use_cftime=use_cftime,\n",
      "/Users/bell/anaconda2/envs/py37/lib/python3.7/site-packages/xarray/conventions.py:494: SerializationWarning: variable 'pressure' has multiple fill values {1e+35, -9999.0}, decoding all values to NaN.\n",
      "  use_cftime=use_cftime,\n",
      "/Users/bell/anaconda2/envs/py37/lib/python3.7/site-packages/xarray/conventions.py:494: SerializationWarning: variable 'salinity' has multiple fill values {1e+35, -9999.0}, decoding all values to NaN.\n",
      "  use_cftime=use_cftime,\n",
      "/Users/bell/anaconda2/envs/py37/lib/python3.7/site-packages/xarray/conventions.py:494: SerializationWarning: variable 'PAR' has multiple fill values {1e+35, -9999.0}, decoding all values to NaN.\n",
      "  use_cftime=use_cftime,\n",
      "/Users/bell/anaconda2/envs/py37/lib/python3.7/site-packages/xarray/conventions.py:494: SerializationWarning: variable 'Chlorophyll_Fluorescence' has multiple fill values {1e+35, -9999.0}, decoding all values to NaN.\n",
      "  use_cftime=use_cftime,\n",
      "/Users/bell/anaconda2/envs/py37/lib/python3.7/site-packages/xarray/conventions.py:494: SerializationWarning: variable 'Oxygen_Saturation' has multiple fill values {1e+35, -9999.0}, decoding all values to NaN.\n",
      "  use_cftime=use_cftime,\n",
      "/Users/bell/anaconda2/envs/py37/lib/python3.7/site-packages/xarray/conventions.py:494: SerializationWarning: variable 'Oxygen_Concentration' has multiple fill values {1e+35, -9999.0}, decoding all values to NaN.\n",
      "  use_cftime=use_cftime,\n"
     ]
    },
    {
     "name": "stdout",
     "output_type": "stream",
     "text": [
      "1hr_gridded_datasets_Mooring_98bsm2a_final\n"
     ]
    },
    {
     "name": "stderr",
     "output_type": "stream",
     "text": [
      "/Users/bell/anaconda2/envs/py37/lib/python3.7/site-packages/xarray/conventions.py:494: SerializationWarning: variable 'temperature' has multiple fill values {1e+35, -9999.0}, decoding all values to NaN.\n",
      "  use_cftime=use_cftime,\n",
      "/Users/bell/anaconda2/envs/py37/lib/python3.7/site-packages/xarray/conventions.py:494: SerializationWarning: variable 'pressure' has multiple fill values {1e+35, -9999.0}, decoding all values to NaN.\n",
      "  use_cftime=use_cftime,\n",
      "/Users/bell/anaconda2/envs/py37/lib/python3.7/site-packages/xarray/conventions.py:494: SerializationWarning: variable 'salinity' has multiple fill values {1e+35, -9999.0}, decoding all values to NaN.\n",
      "  use_cftime=use_cftime,\n",
      "/Users/bell/anaconda2/envs/py37/lib/python3.7/site-packages/xarray/conventions.py:494: SerializationWarning: variable 'PAR' has multiple fill values {1e+35, -9999.0}, decoding all values to NaN.\n",
      "  use_cftime=use_cftime,\n",
      "/Users/bell/anaconda2/envs/py37/lib/python3.7/site-packages/xarray/conventions.py:494: SerializationWarning: variable 'Chlorophyll_Fluorescence' has multiple fill values {1e+35, -9999.0}, decoding all values to NaN.\n",
      "  use_cftime=use_cftime,\n",
      "/Users/bell/anaconda2/envs/py37/lib/python3.7/site-packages/xarray/conventions.py:494: SerializationWarning: variable 'Oxygen_Saturation' has multiple fill values {1e+35, -9999.0}, decoding all values to NaN.\n",
      "  use_cftime=use_cftime,\n",
      "/Users/bell/anaconda2/envs/py37/lib/python3.7/site-packages/xarray/conventions.py:494: SerializationWarning: variable 'Oxygen_Concentration' has multiple fill values {1e+35, -9999.0}, decoding all values to NaN.\n",
      "  use_cftime=use_cftime,\n"
     ]
    },
    {
     "name": "stdout",
     "output_type": "stream",
     "text": [
      "1hr_gridded_datasets_Mooring_99bs2c_final\n"
     ]
    },
    {
     "name": "stderr",
     "output_type": "stream",
     "text": [
      "/Users/bell/anaconda2/envs/py37/lib/python3.7/site-packages/xarray/conventions.py:494: SerializationWarning: variable 'temperature' has multiple fill values {1e+35, -9999.0}, decoding all values to NaN.\n",
      "  use_cftime=use_cftime,\n",
      "/Users/bell/anaconda2/envs/py37/lib/python3.7/site-packages/xarray/conventions.py:494: SerializationWarning: variable 'pressure' has multiple fill values {1e+35, -9999.0}, decoding all values to NaN.\n",
      "  use_cftime=use_cftime,\n",
      "/Users/bell/anaconda2/envs/py37/lib/python3.7/site-packages/xarray/conventions.py:494: SerializationWarning: variable 'salinity' has multiple fill values {1e+35, -9999.0}, decoding all values to NaN.\n",
      "  use_cftime=use_cftime,\n",
      "/Users/bell/anaconda2/envs/py37/lib/python3.7/site-packages/xarray/conventions.py:494: SerializationWarning: variable 'PAR' has multiple fill values {1e+35, -9999.0}, decoding all values to NaN.\n",
      "  use_cftime=use_cftime,\n",
      "/Users/bell/anaconda2/envs/py37/lib/python3.7/site-packages/xarray/conventions.py:494: SerializationWarning: variable 'Chlorophyll_Fluorescence' has multiple fill values {1e+35, -9999.0}, decoding all values to NaN.\n",
      "  use_cftime=use_cftime,\n",
      "/Users/bell/anaconda2/envs/py37/lib/python3.7/site-packages/xarray/conventions.py:494: SerializationWarning: variable 'Oxygen_Saturation' has multiple fill values {1e+35, -9999.0}, decoding all values to NaN.\n",
      "  use_cftime=use_cftime,\n",
      "/Users/bell/anaconda2/envs/py37/lib/python3.7/site-packages/xarray/conventions.py:494: SerializationWarning: variable 'Oxygen_Concentration' has multiple fill values {1e+35, -9999.0}, decoding all values to NaN.\n",
      "  use_cftime=use_cftime,\n"
     ]
    },
    {
     "name": "stdout",
     "output_type": "stream",
     "text": [
      "1hr_gridded_datasets_Mooring_99bsm2a_final\n"
     ]
    },
    {
     "name": "stderr",
     "output_type": "stream",
     "text": [
      "/Users/bell/anaconda2/envs/py37/lib/python3.7/site-packages/xarray/conventions.py:494: SerializationWarning: variable 'temperature' has multiple fill values {1e+35, -9999.0}, decoding all values to NaN.\n",
      "  use_cftime=use_cftime,\n",
      "/Users/bell/anaconda2/envs/py37/lib/python3.7/site-packages/xarray/conventions.py:494: SerializationWarning: variable 'pressure' has multiple fill values {1e+35, -9999.0}, decoding all values to NaN.\n",
      "  use_cftime=use_cftime,\n",
      "/Users/bell/anaconda2/envs/py37/lib/python3.7/site-packages/xarray/conventions.py:494: SerializationWarning: variable 'salinity' has multiple fill values {1e+35, -9999.0}, decoding all values to NaN.\n",
      "  use_cftime=use_cftime,\n",
      "/Users/bell/anaconda2/envs/py37/lib/python3.7/site-packages/xarray/conventions.py:494: SerializationWarning: variable 'PAR' has multiple fill values {1e+35, -9999.0}, decoding all values to NaN.\n",
      "  use_cftime=use_cftime,\n",
      "/Users/bell/anaconda2/envs/py37/lib/python3.7/site-packages/xarray/conventions.py:494: SerializationWarning: variable 'Chlorophyll_Fluorescence' has multiple fill values {1e+35, -9999.0}, decoding all values to NaN.\n",
      "  use_cftime=use_cftime,\n",
      "/Users/bell/anaconda2/envs/py37/lib/python3.7/site-packages/xarray/conventions.py:494: SerializationWarning: variable 'Oxygen_Saturation' has multiple fill values {1e+35, -9999.0}, decoding all values to NaN.\n",
      "  use_cftime=use_cftime,\n",
      "/Users/bell/anaconda2/envs/py37/lib/python3.7/site-packages/xarray/conventions.py:494: SerializationWarning: variable 'Oxygen_Concentration' has multiple fill values {1e+35, -9999.0}, decoding all values to NaN.\n",
      "  use_cftime=use_cftime,\n"
     ]
    },
    {
     "data": {
      "image/png": "[encoded data removed]",
      "text/plain": [
       "<Figure size 612x396 with 4 Axes>"
      ]
     },
     "metadata": {},
     "output_type": "display_data"
    }
   ],
   "source": [
    "fig, (ax1, ax2, ax3, ax4) = plt.subplots(nrows=4, sharex=True, figsize=(8.5,5.5))\n",
    "\n",
    "for dataset_id in df['Dataset ID'].values:\n",
    "    if ('m2a' in dataset_id) or ('bs2c' in dataset_id):\n",
    "        print(dataset_id)\n",
    "        \n",
    "        e.protocol = 'griddap'\n",
    "        e.dataset_id=dataset_id\n",
    "        e.response = 'nc'\n",
    "        ds = e.to_xarray(decode_times=True)\n",
    "        \n",
    "\n",
    "        ax1.pcolormesh(ds.time,ds.depth,ds.temperature,\n",
    "                       vmin=-2,vmax=14,\n",
    "                       cmap=cmocean.cm.thermal)\n",
    "        ax2.pcolormesh(ds.time,ds.depth,ds.temperature.diff(dim='depth'),\n",
    "                       vmin=-5,vmax=5,\n",
    "                       cmap=cmocean.cm.balance)\n",
    "        ax3.pcolormesh(ds.time,ds.depth,ds.salinity,\n",
    "                       vmin=31,vmax=32,\n",
    "                       cmap=cmocean.cm.haline)\n",
    "        ax4.pcolormesh(ds.time,ds.depth,ds.Chlorophyll_Fluorescence,\n",
    "                       vmin=0,vmax=20,\n",
    "                       cmap=cmocean.cm.algae)\n",
    "\n",
    "\n",
    "ax1.invert_yaxis()\n",
    "ax2.invert_yaxis()\n",
    "ax3.invert_yaxis()\n",
    "ax4.invert_yaxis()\n",
    "\n",
    "xfmt = mdates.DateFormatter('%d-%b\\n%y')\n",
    "ax4.xaxis.set_major_formatter(xfmt)\n",
    "ax4.xaxis.set_major_locator(YearLocator())\n",
    "ax4.xaxis.set_minor_locator(MonthLocator())\n",
    "\n"
   ]
  },
  {
   "cell_type": "code",
   "execution_count": null,
   "metadata": {},
   "outputs": [],
   "source": []
  }
 ],
 "metadata": {
  "kernelspec": {
   "display_name": "Python [conda env:py37] *",
   "language": "python",
   "name": "conda-env-py37-py"
  },
  "language_info": {
   "codemirror_mode": {
    "name": "ipython",
    "version": 3
   },
   "file_extension": ".py",
   "mimetype": "text/x-python",
   "name": "python",
   "nbconvert_exporter": "python",
   "pygments_lexer": "ipython3",
   "version": "3.7.6"
  }
 },
 "nbformat": 4,
 "nbformat_minor": 4
}
