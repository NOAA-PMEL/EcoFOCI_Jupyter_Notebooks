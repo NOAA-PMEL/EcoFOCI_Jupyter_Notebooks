{
 "cells": [
  {
   "cell_type": "markdown",
   "metadata": {},
   "source": [
    "# M2 Example using gridded data"
   ]
  },
  {
   "cell_type": "code",
   "execution_count": 5,
   "metadata": {},
   "outputs": [],
   "source": [
    "import pandas as pd\n",
    "import numpy as np\n",
    "import xarray as xr\n",
    "\n",
    "%matplotlib inline\n",
    "import matplotlib as mpl\n",
    "import matplotlib.pyplot as plt\n",
    "import matplotlib.dates as mdates\n",
    "from matplotlib.dates import YearLocator, WeekdayLocator, MonthLocator, DayLocator, HourLocator, DateFormatter\n",
    "\n",
    "import cmocean\n",
    "#print(cmocean.cm.cmapnames)"
   ]
  },
  {
   "cell_type": "code",
   "execution_count": 6,
   "metadata": {},
   "outputs": [],
   "source": [
    "from erddapy.erddapy import ERDDAP"
   ]
  },
  {
   "cell_type": "code",
   "execution_count": 7,
   "metadata": {},
   "outputs": [
    {
     "name": "stdout",
     "output_type": "stream",
     "text": [
      "http://akutan.pmel.noaa.gov:8080/erddap/griddap/1hr_gridded_datasets_Mooring_18bsm2a_final\n"
     ]
    }
   ],
   "source": [
    "server_url='http://akutan.pmel.noaa.gov:8080/erddap'\n",
    "dataset = '1hr_gridded_datasets_Mooring_18bsm2a_final'\n",
    "\n",
    "e = ERDDAP(server=server_url)\n",
    "\n",
    "e.constraints = None\n",
    "e.protocol = 'griddap'\n",
    "\n",
    "opendap_url = e.get_download_url(\n",
    "    dataset_id=dataset,\n",
    "    response='opendap',\n",
    ")\n",
    "\n",
    "print(opendap_url)"
   ]
  },
  {
   "cell_type": "code",
   "execution_count": 8,
   "metadata": {},
   "outputs": [
    {
     "ename": "OSError",
     "evalue": "[Errno -68] NetCDF: I/O failure: b'http://akutan.pmel.noaa.gov:8080/erddap/griddap/1hr_gridded_datasets_Mooring_18bsm2a_final'",
     "output_type": "error",
     "traceback": [
      "\u001b[0;31m---------------------------------------------------------------------------\u001b[0m",
      "\u001b[0;31mOSError\u001b[0m                                   Traceback (most recent call last)",
      "\u001b[0;32m<ipython-input-8-93b7a1c1ecc5>\u001b[0m in \u001b[0;36m<module>\u001b[0;34m\u001b[0m\n\u001b[1;32m      1\u001b[0m \u001b[0;32mfrom\u001b[0m \u001b[0mnetCDF4\u001b[0m \u001b[0;32mimport\u001b[0m \u001b[0mDataset\u001b[0m\u001b[0;34m\u001b[0m\u001b[0;34m\u001b[0m\u001b[0m\n\u001b[1;32m      2\u001b[0m \u001b[0;34m\u001b[0m\u001b[0m\n\u001b[0;32m----> 3\u001b[0;31m \u001b[0;32mwith\u001b[0m \u001b[0mDataset\u001b[0m\u001b[0;34m(\u001b[0m\u001b[0mopendap_url\u001b[0m\u001b[0;34m)\u001b[0m \u001b[0;32mas\u001b[0m \u001b[0mnc\u001b[0m\u001b[0;34m:\u001b[0m\u001b[0;34m\u001b[0m\u001b[0;34m\u001b[0m\u001b[0m\n\u001b[0m\u001b[1;32m      4\u001b[0m     \u001b[0mprint\u001b[0m\u001b[0;34m(\u001b[0m\u001b[0mnc\u001b[0m\u001b[0;34m.\u001b[0m\u001b[0msummary\u001b[0m\u001b[0;34m)\u001b[0m\u001b[0;34m\u001b[0m\u001b[0;34m\u001b[0m\u001b[0m\n",
      "\u001b[0;32mnetCDF4/_netCDF4.pyx\u001b[0m in \u001b[0;36mnetCDF4._netCDF4.Dataset.__init__\u001b[0;34m()\u001b[0m\n",
      "\u001b[0;32mnetCDF4/_netCDF4.pyx\u001b[0m in \u001b[0;36mnetCDF4._netCDF4._ensure_nc_success\u001b[0;34m()\u001b[0m\n",
      "\u001b[0;31mOSError\u001b[0m: [Errno -68] NetCDF: I/O failure: b'http://akutan.pmel.noaa.gov:8080/erddap/griddap/1hr_gridded_datasets_Mooring_18bsm2a_final'"
     ]
    }
   ],
   "source": [
    "from netCDF4 import Dataset\n",
    "\n",
    "with Dataset(opendap_url) as nc:\n",
    "    print(nc.summary)"
   ]
  },
  {
   "cell_type": "code",
   "execution_count": null,
   "metadata": {},
   "outputs": [],
   "source": [
    "e.dataset_id=dataset\n",
    "e.response = 'nc'\n",
    "ds = e.to_xarray(decode_times=True)"
   ]
  },
  {
   "cell_type": "code",
   "execution_count": null,
   "metadata": {},
   "outputs": [],
   "source": [
    "### specify primary bulk figure parameters\n",
    "fontsize = 20\n",
    "labelsize = 16\n",
    "#plotstyle = 'seaborn'\n",
    "max_xticks = 10\n",
    "plt.style.use('seaborn-ticks')\n",
    "mpl.rcParams['svg.fonttype'] = 'none'\n",
    "mpl.rcParams['ps.fonttype'] = 42 #truetype/type2 fonts instead of type3\n",
    "mpl.rcParams['pdf.fonttype'] = 42 #truetype/type2 fonts instead of type3\n",
    "mpl.rcParams['axes.grid'] = False\n",
    "mpl.rcParams['axes.edgecolor'] = 'black'\n",
    "mpl.rcParams['axes.linewidth'] = 1.5\n",
    "mpl.rcParams['axes.labelcolor'] = 'black'\n",
    "mpl.rcParams['grid.linestyle'] = '--'\n",
    "mpl.rcParams['grid.linestyle'] = '--'\n",
    "mpl.rcParams['xtick.major.size'] = 4\n",
    "mpl.rcParams['xtick.minor.size'] = 1\n",
    "mpl.rcParams['xtick.major.width'] = 2\n",
    "mpl.rcParams['xtick.minor.width'] = 1\n",
    "mpl.rcParams['ytick.major.size'] = 4\n",
    "mpl.rcParams['ytick.minor.size'] = 1\n",
    "mpl.rcParams['ytick.major.width'] = 2\n",
    "mpl.rcParams['ytick.minor.width'] = 1\n",
    "mpl.rcParams['ytick.direction'] = 'out'\n",
    "mpl.rcParams['xtick.direction'] = 'out'\n",
    "mpl.rcParams['ytick.color'] = 'black'\n",
    "mpl.rcParams['xtick.color'] = 'black'"
   ]
  },
  {
   "cell_type": "code",
   "execution_count": null,
   "metadata": {},
   "outputs": [],
   "source": [
    "\n",
    "fig, (ax1, ax2, ax3, ax4) = plt.subplots(nrows=4, sharex=True, figsize=(8.5,5.5))\n",
    "\n",
    "ax1.pcolormesh(ds.time,ds.depth,ds.temperature,\n",
    "                     cmap=cmocean.cm.thermal)\n",
    "ax2.pcolormesh(ds.time,ds.depth,ds.temperature.diff(dim='depth'),\n",
    "                     cmap=cmocean.cm.balance)\n",
    "ax3.pcolormesh(ds.time,ds.depth,ds.salinity,\n",
    "                     cmap=cmocean.cm.haline)\n",
    "ax4.pcolormesh(ds.time,ds.depth,ds.Chlorophyll_Fluorescence,\n",
    "                     cmap=cmocean.cm.algae)\n",
    "\n",
    "\n",
    "ax1.invert_yaxis()\n",
    "ax2.invert_yaxis()\n",
    "ax3.invert_yaxis()\n",
    "ax4.invert_yaxis()\n",
    "\n",
    "xfmt = mdates.DateFormatter('%d-%b\\n%y')\n",
    "ax4.xaxis.set_major_formatter(xfmt)\n",
    "ax4.xaxis.set_major_locator(MonthLocator())\n",
    "ax4.xaxis.set_minor_locator(DayLocator())\n"
   ]
  },
  {
   "cell_type": "code",
   "execution_count": null,
   "metadata": {},
   "outputs": [],
   "source": [
    "import holoviews as hv\n",
    "from holoviews import opts\n",
    "\n",
    "hv.extension('bokeh')\n",
    "\n",
    "hv_ds = hv.Dataset(ds['temperature'])[:,:]\n",
    "\n",
    "data = hv_ds.to(hv.QuadMesh,kdims=[\"time\", \"depth\"]).options(**dict(invert_yaxis=True))\n",
    "data"
   ]
  },
  {
   "cell_type": "code",
   "execution_count": null,
   "metadata": {},
   "outputs": [],
   "source": [
    "ds.longitude.max()"
   ]
  },
  {
   "cell_type": "code",
   "execution_count": null,
   "metadata": {},
   "outputs": [],
   "source": [
    "### interp test\n",
    "\n",
    "newdepth = np.linspace(0, 72,73)\n",
    "\n",
    "filled = ds.interpolate_na(dim='depth',limit=1)\n",
    "dsi = filled.interp(depth=newdepth)\n",
    "\n",
    "fig, (ax1, ax2, ax3, ax4) = plt.subplots(nrows=4, sharex=True, figsize=(8.5,5.5))\n",
    "\n",
    "ax1.pcolormesh(dsi.time,dsi.depth,dsi.temperature,\n",
    "                     cmap=cmocean.cm.thermal)\n",
    "ax2.pcolormesh(dsi.time,dsi.depth,dsi.temperature.diff(dim='depth'),\n",
    "                     cmap=cmocean.cm.balance)\n",
    "ax3.pcolormesh(dsi.time,dsi.depth,dsi.salinity,\n",
    "                     cmap=cmocean.cm.haline)\n",
    "ax4.pcolormesh(dsi.time,dsi.depth,dsi.Chlorophyll_Fluorescence,\n",
    "                     cmap=cmocean.cm.algae)\n",
    "\n",
    "\n",
    "ax1.invert_yaxis()\n",
    "ax2.invert_yaxis()\n",
    "ax3.invert_yaxis()\n",
    "ax4.invert_yaxis()\n",
    "\n",
    "xfmt = mdates.DateFormatter('%d-%b\\n%y')\n",
    "ax4.xaxis.set_major_formatter(xfmt)\n",
    "ax4.xaxis.set_major_locator(MonthLocator())\n",
    "ax4.xaxis.set_minor_locator(DayLocator())\n"
   ]
  },
  {
   "cell_type": "code",
   "execution_count": null,
   "metadata": {},
   "outputs": [],
   "source": [
    "### loop over all M2 datasets\n",
    "\n",
    "e = ERDDAP(server=server_url)\n",
    "df = pd.read_csv(e.get_search_url(response='csv', search_for='1hr_'))\n",
    "print(df['Dataset ID'].values)"
   ]
  },
  {
   "cell_type": "code",
   "execution_count": null,
   "metadata": {
    "jupyter": {
     "source_hidden": true
    }
   },
   "outputs": [],
   "source": [
    "fig, (ax1, ax2, ax3, ax4) = plt.subplots(nrows=4, sharex=True, figsize=(8.5,5.5))\n",
    "\n",
    "for dataset_id in df['Dataset ID'].values:\n",
    "    if ('m2a' in dataset_id) or ('bs2c' in dataset_id):\n",
    "        print(dataset_id)\n",
    "        \n",
    "        e.protocol = 'griddap'\n",
    "        e.dataset_id=dataset_id\n",
    "        e.response = 'nc'\n",
    "        ds = e.to_xarray(decode_times=True)\n",
    "        \n",
    "        newdepth = np.linspace(0, 72,73)\n",
    "\n",
    "        try:\n",
    "            filled = ds.interpolate_na(dim='depth',limit=2)\n",
    "            dsi = filled.interp(depth=newdepth)\n",
    "\n",
    "            ax1.pcolormesh(dsi.time,dsi.depth,dsi.temperature,\n",
    "                           vmin=-2,vmax=14,\n",
    "                           cmap=cmocean.cm.thermal)\n",
    "            ax2.pcolormesh(dsi.time,dsi.depth,dsi.temperature.diff(dim='depth'),\n",
    "                           vmin=-5,vmax=5,\n",
    "                           cmap=cmocean.cm.balance)\n",
    "            ax3.pcolormesh(dsi.time,dsi.depth,dsi.salinity,\n",
    "                           vmin=31,vmax=32,\n",
    "                           cmap=cmocean.cm.haline)\n",
    "            ax4.pcolormesh(dsi.time,dsi.depth,dsi.Chlorophyll_Fluorescence,\n",
    "                           vmin=0,vmax=20,\n",
    "                           cmap=cmocean.cm.algae)\n",
    "        except:\n",
    "            continue\n",
    "\n",
    "ax1.invert_yaxis()\n",
    "ax2.invert_yaxis()\n",
    "ax3.invert_yaxis()\n",
    "ax4.invert_yaxis()\n",
    "\n",
    "xfmt = mdates.DateFormatter('%d-%b\\n%y')\n",
    "ax4.xaxis.set_major_formatter(xfmt)\n",
    "ax4.xaxis.set_major_locator(YearLocator())\n",
    "ax4.xaxis.set_minor_locator(MonthLocator())\n",
    "\n"
   ]
  },
  {
   "cell_type": "code",
   "execution_count": null,
   "metadata": {},
   "outputs": [],
   "source": [
    "fig, (ax1, ax2, ax3, ax4) = plt.subplots(nrows=4, sharex=True, figsize=(8.5,5.5))\n",
    "\n",
    "for dataset_id in df['Dataset ID'].values:\n",
    "    if ('m2a' in dataset_id) or ('bs2c' in dataset_id):\n",
    "        print(dataset_id)\n",
    "        \n",
    "        e.protocol = 'griddap'\n",
    "        e.dataset_id=dataset_id\n",
    "        e.response = 'nc'\n",
    "        ds = e.to_xarray(decode_times=True)\n",
    "        \n",
    "\n",
    "        ax1.pcolormesh(ds.time,ds.depth,ds.temperature,\n",
    "                       vmin=-2,vmax=14,\n",
    "                       cmap=cmocean.cm.thermal)\n",
    "        ax2.pcolormesh(ds.time,ds.depth,ds.temperature.diff(dim='depth'),\n",
    "                       vmin=-5,vmax=5,\n",
    "                       cmap=cmocean.cm.balance)\n",
    "        ax3.pcolormesh(ds.time,ds.depth,ds.salinity,\n",
    "                       vmin=31,vmax=32,\n",
    "                       cmap=cmocean.cm.haline)\n",
    "        ax4.pcolormesh(ds.time,ds.depth,ds.Chlorophyll_Fluorescence,\n",
    "                       vmin=0,vmax=20,\n",
    "                       cmap=cmocean.cm.algae)\n",
    "\n",
    "\n",
    "ax1.invert_yaxis()\n",
    "ax2.invert_yaxis()\n",
    "ax3.invert_yaxis()\n",
    "ax4.invert_yaxis()\n",
    "\n",
    "xfmt = mdates.DateFormatter('%d-%b\\n%y')\n",
    "ax4.xaxis.set_major_formatter(xfmt)\n",
    "ax4.xaxis.set_major_locator(YearLocator())\n",
    "ax4.xaxis.set_minor_locator(MonthLocator())\n",
    "\n"
   ]
  },
  {
   "cell_type": "code",
   "execution_count": null,
   "metadata": {},
   "outputs": [],
   "source": []
  }
 ],
 "metadata": {
  "kernelspec": {
   "display_name": "Python [conda env:holoviz]",
   "language": "python",
   "name": "conda-env-holoviz-py"
  },
  "language_info": {
   "codemirror_mode": {
    "name": "ipython",
    "version": 3
   },
   "file_extension": ".py",
   "mimetype": "text/x-python",
   "name": "python",
   "nbconvert_exporter": "python",
   "pygments_lexer": "ipython3",
   "version": "3.8.6"
  }
 },
 "nbformat": 4,
 "nbformat_minor": 4
}
