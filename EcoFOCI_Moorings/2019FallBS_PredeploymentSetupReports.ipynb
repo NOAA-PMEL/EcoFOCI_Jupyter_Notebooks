{
 "cells": [
  {
   "cell_type": "markdown",
   "metadata": {},
   "source": [
    "## Predeployment Summary of SBE Instruments\n",
    "\n",
    "Year\n",
    "+ 2019 Fall Bering Deployments\n",
    "\n",
    "Models\n",
    "+ SBE-16\n",
    "+ SBE-37\n",
    "+ SBE-39\n",
    "+ ECO-Fluorometers\n",
    "\n",
    "__pyversion__==3.7   \n",
    "__author__==S.Bell"
   ]
  },
  {
   "cell_type": "code",
   "execution_count": 8,
   "metadata": {},
   "outputs": [
    {
     "name": "stdout",
     "output_type": "stream",
     "text": [
      "Last run 2019-08-22 13:36:04.824030\n"
     ]
    }
   ],
   "source": [
    "import datetime\n",
    "print(\"Last run {0}\".format(datetime.datetime.now()))"
   ]
  },
  {
   "cell_type": "code",
   "execution_count": 9,
   "metadata": {},
   "outputs": [],
   "source": [
    "import os\n",
    "\n",
    "#formatting output\n",
    "from IPython.display import Markdown, display"
   ]
  },
  {
   "cell_type": "code",
   "execution_count": 10,
   "metadata": {},
   "outputs": [],
   "source": [
    "file_path = '/Users/bell/Downloads/reseabirdsetups/'\n"
   ]
  },
  {
   "cell_type": "code",
   "execution_count": 11,
   "metadata": {},
   "outputs": [],
   "source": [
    "def printmd(string):\n",
    "    display(Markdown(string))\n",
    "    \n",
    "def summary(file_path,instrument_type,vv=True):\n",
    "    if instrument_type in ['sbe37','SBE-37','s37','sbe39','SBE-39','s39']:\n",
    "        with open(file_path,'rb') as fp:\n",
    "            for line in fp:\n",
    "                if '\\'ds\\\\r\\\\n' in str(line) or ('S>ds\\\\r\\\\n' in str(line) or ('S>ds' in str(line))):\n",
    "                    serial = model = systime = sampleint = starttime = status = pressure = '___'\n",
    "\n",
    "                try:\n",
    "                    line = line.decode()\n",
    "                except:\n",
    "                    continue\n",
    "\n",
    "                if 'SERIAL NO' in str(line):\n",
    "                    serial = line.split('SERIAL NO')[-1].split()[1]\n",
    "                    model = line.split('SERIAL NO')[0]\n",
    "                    systime = \" \".join(line.split()[-4:])\n",
    "                    if vv:\n",
    "                        print(\"Model Number Reported: {model}\".format(model=model))\n",
    "                        print(\"Serial Number Reported: {serial}\".format(serial=serial))\n",
    "                        print(\"System Time Reported: {systime}\".format(systime=systime))\n",
    "                if 'sample interval' in str(line):\n",
    "                    sampleint = \" \".join(line.split('sample interval')[-1].split()[1:])\n",
    "                    if vv:\n",
    "                        print(\"sample interval Reported: {sampleint} \\n\".format(sampleint=sampleint)) \n",
    "                if 'waiting' in str(line):\n",
    "                    starttime = \":\".join(line.split(':')[1:-1])\n",
    "                    status = line.split(':')[0]\n",
    "                    if vv:\n",
    "                        print(\"Start Time: {starttime} \\n\".format(starttime=starttime))   \n",
    "                        print(\"status Reported: {status}\\n\\n\".format(status=status))   \n",
    "                if 'reference pressure' in str(line):\n",
    "                    pressure = line.split()[3]\n",
    "                    if vv:\n",
    "                        print(\"Reference Pressure: {pressure} \\n\".format(pressure=pressure))   \n",
    "    if instrument_type in ['sbe16','SBE-16','s16']:\n",
    "        with open(file_path,'rb') as fp:\n",
    "            for line in fp:\n",
    "                if ('S>ds\\\\r\\\\n' in str(line)) or ('S>ds\\\\n' in str(line)) or ('S>\\\\n' in str(line)):\n",
    "                    serial = model = systime = sampleint = starttime = status = pressure = '___'\n",
    "\n",
    "                try:\n",
    "                    line = line.decode()\n",
    "                except:\n",
    "                    continue\n",
    "\n",
    "                if 'SERIAL NO' in str(line):\n",
    "                    serial = line.split('SERIAL NO')[-1].split()[1]\n",
    "                    model = line.split('SERIAL NO')[0]\n",
    "                    systime = \" \".join(line.split()[-4:])\n",
    "                    if vv:\n",
    "                        print(\"Model Number Reported: {model}\".format(model=model))\n",
    "                        print(\"Serial Number Reported: {serial}\".format(serial=serial))\n",
    "                        print(\"System Time Reported: {systime}\".format(systime=systime))\n",
    "                if 'sample interval' in str(line):\n",
    "                    try:\n",
    "                        sampleint = line.split()[line.split().index('=') + 1]\n",
    "                    except:\n",
    "                        pass\n",
    "                    if vv:\n",
    "                        print(\"sample interval Reported: {sampleint} \\n\".format(sampleint=sampleint)) \n",
    "                if 'start time' in str(line):\n",
    "                    starttime = line.split('start time')[-1]\n",
    "                    if vv:\n",
    "                        print(\"Start Time: {starttime} \\n\".format(starttime=starttime))\n",
    "                elif 'waiting to start' in str(line):\n",
    "                    starttime = line.split('waiting to start at')[-1]\n",
    "                    status = 'waiting to start'\n",
    "                    if vv:\n",
    "                        print(\"Start Time: {starttime} \\n\".format(starttime=starttime))\n",
    "                        print(\"Status: {status} \\n\".format(status=status))\n",
    "                if 'logdata =' in str(line):\n",
    "                    status = line.split()[2]\n",
    "                    if vv:\n",
    "                        print(\"Status: {status} \\n\".format(status=status))\n",
    "                if 'reference pressure' in str(line):\n",
    "                    try:\n",
    "                        pressure = line.split()[line.split().index('=',3) + 1]\n",
    "                    except:\n",
    "                        pass\n",
    "                    if vv:\n",
    "                        print(\"Reference Pressure: {pressure} \\n\".format(pressure=pressure)) \n",
    "                        \n",
    "    ######################### Print Results #####################\n",
    "    printmd('**Final Entry:**')\n",
    "    printmd('**------------**')\n",
    "    printmd(\"**Model Number Reported:** {model}\".format(model=model))\n",
    "    printmd(\"Serial Number Reported: **{serial}**\".format(serial=serial)) \n",
    "    printmd(\"___System Time Reported:___ {systime}\".format(systime=systime))\n",
    "    printmd(\"Sample Interval Reported: ___{sampleint}___ \\n\".format(sampleint=sampleint)) \n",
    "    printmd(\"Reference Pressure: {pressure} db\\n\".format(pressure=pressure))\n",
    "    printmd(\"___Start Time:___ {starttime} \\n\".format(starttime=starttime))\n",
    "    printmd(\"status Reported: ___{status}___ \\n\\n\".format(status=status)) \n",
    "    printmd('---------------')\n",
    "\n",
    "def wetlabs_summary(file_path,instrument_type,vv=True):\n",
    "    if instrument_type in ['eco']:\n",
    "        with open(file_path,'rb') as fp:\n",
    "            for line in fp:\n",
    "                try:\n",
    "                    line = line.decode()\n",
    "                except:\n",
    "                    continue\n",
    "                \n",
    "\n",
    "                if 'Ser' in str(line):\n",
    "                    serial = model = systime = sampleint = starttime = status = pressure = '___'\n",
    "                    serial = line.split('Ser')[-1].split()[-1]\n",
    "                    if vv:\n",
    "                        print(\"Serial Number Reported: {serial}\".format(serial=serial))\n",
    "                if 'Ver' in str(line):\n",
    "                    model = line.split('Ver')[-1].split()[-1]\n",
    "                    if vv:\n",
    "                        print(\"Model/Version Number Reported: {model}\".format(model=model))\n",
    "                if 'Int' in str(line):\n",
    "                    sampleint = line.split('Int')[-1].split()[-1]\n",
    "                    if vv:\n",
    "                        print(\"sample interval Reported: {sampleint} \\n\".format(sampleint=sampleint)) \n",
    "                if 'Dat' in str(line):\n",
    "                    sysdate = line.split('Dat')[-1].split()[-1]\n",
    "                    if vv:\n",
    "                        print(\"System Date Reported: {sysdate} \\n\".format(sysdate=sysdate)) \n",
    "                if 'Clk' in str(line):\n",
    "                    sysclk = line.split('Clk')[-1].split()[-1]\n",
    "                    if vv:\n",
    "                        print(\"System Clock Reported: {sysclk} \\n\".format(sysclk=sysclk)) \n",
    "                        \n",
    "    ######################### Print Results #####################\n",
    "    printmd('**Final Entry:**')\n",
    "    printmd('**------------**')\n",
    "    printmd(\"Serial Number Reported: **{serial}**\".format(serial=serial)) \n",
    "    printmd(\"**Model/Version Number Reported:** {model}\".format(model=model))\n",
    "    printmd(\"Sample Interval Reported: ___{sampleint}___ \\n\".format(sampleint=sampleint)) \n",
    "    printmd(\"___System Time Reported:___ {systime}\".format(systime=sysdate+' '+sysclk))\n",
    "    printmd('---------------')\n"
   ]
  },
  {
   "cell_type": "code",
   "execution_count": 14,
   "metadata": {},
   "outputs": [
    {
     "name": "stdout",
     "output_type": "stream",
     "text": [
      "/Users/bell/Downloads/reseabirdsetups/19bs-5a_sbe16_1815_15m (1).cap\n",
      "\n"
     ]
    },
    {
     "data": {
      "text/markdown": [
       "**Final Entry:**"
      ],
      "text/plain": [
       "<IPython.core.display.Markdown object>"
      ]
     },
     "metadata": {},
     "output_type": "display_data"
    },
    {
     "data": {
      "text/markdown": [
       "**------------**"
      ],
      "text/plain": [
       "<IPython.core.display.Markdown object>"
      ]
     },
     "metadata": {},
     "output_type": "display_data"
    },
    {
     "data": {
      "text/markdown": [
       "**Model Number Reported:** SEACAT V4.1b "
      ],
      "text/plain": [
       "<IPython.core.display.Markdown object>"
      ]
     },
     "metadata": {},
     "output_type": "display_data"
    },
    {
     "data": {
      "text/markdown": [
       "Serial Number Reported: **1815**"
      ],
      "text/plain": [
       "<IPython.core.display.Markdown object>"
      ]
     },
     "metadata": {},
     "output_type": "display_data"
    },
    {
     "data": {
      "text/markdown": [
       "___System Time Reported:___ NO. 1815 08/13/19 17:19:33.658"
      ],
      "text/plain": [
       "<IPython.core.display.Markdown object>"
      ]
     },
     "metadata": {},
     "output_type": "display_data"
    },
    {
     "data": {
      "text/markdown": [
       "Sample Interval Reported: ___3600___ \n"
      ],
      "text/plain": [
       "<IPython.core.display.Markdown object>"
      ]
     },
     "metadata": {},
     "output_type": "display_data"
    },
    {
     "data": {
      "text/markdown": [
       "Reference Pressure: ___ db\n"
      ],
      "text/plain": [
       "<IPython.core.display.Markdown object>"
      ]
     },
     "metadata": {},
     "output_type": "display_data"
    },
    {
     "data": {
      "text/markdown": [
       "___Start Time:___  = 09/20/19  00:00:00.000\r\n",
       " \n"
      ],
      "text/plain": [
       "<IPython.core.display.Markdown object>"
      ]
     },
     "metadata": {},
     "output_type": "display_data"
    },
    {
     "data": {
      "text/markdown": [
       "status Reported: ___YES___ \n",
       "\n"
      ],
      "text/plain": [
       "<IPython.core.display.Markdown object>"
      ]
     },
     "metadata": {},
     "output_type": "display_data"
    },
    {
     "data": {
      "text/markdown": [
       "---------------"
      ],
      "text/plain": [
       "<IPython.core.display.Markdown object>"
      ]
     },
     "metadata": {},
     "output_type": "display_data"
    },
    {
     "name": "stdout",
     "output_type": "stream",
     "text": [
      "/Users/bell/Downloads/reseabirdsetups/19bs-5a_sbe16_4287_40m_new pump.cap\n",
      "\n"
     ]
    },
    {
     "data": {
      "text/markdown": [
       "**Final Entry:**"
      ],
      "text/plain": [
       "<IPython.core.display.Markdown object>"
      ]
     },
     "metadata": {},
     "output_type": "display_data"
    },
    {
     "data": {
      "text/markdown": [
       "**------------**"
      ],
      "text/plain": [
       "<IPython.core.display.Markdown object>"
      ]
     },
     "metadata": {},
     "output_type": "display_data"
    },
    {
     "data": {
      "text/markdown": [
       "**Model Number Reported:** SBE 16plus V 1.8  "
      ],
      "text/plain": [
       "<IPython.core.display.Markdown object>"
      ]
     },
     "metadata": {},
     "output_type": "display_data"
    },
    {
     "data": {
      "text/markdown": [
       "Serial Number Reported: **4287**"
      ],
      "text/plain": [
       "<IPython.core.display.Markdown object>"
      ]
     },
     "metadata": {},
     "output_type": "display_data"
    },
    {
     "data": {
      "text/markdown": [
       "___System Time Reported:___ 12 Aug 2019 21:39:05"
      ],
      "text/plain": [
       "<IPython.core.display.Markdown object>"
      ]
     },
     "metadata": {},
     "output_type": "display_data"
    },
    {
     "data": {
      "text/markdown": [
       "Sample Interval Reported: ___3600___ \n"
      ],
      "text/plain": [
       "<IPython.core.display.Markdown object>"
      ]
     },
     "metadata": {},
     "output_type": "display_data"
    },
    {
     "data": {
      "text/markdown": [
       "Reference Pressure: ___ db\n"
      ],
      "text/plain": [
       "<IPython.core.display.Markdown object>"
      ]
     },
     "metadata": {},
     "output_type": "display_data"
    },
    {
     "data": {
      "text/markdown": [
       "___Start Time:___   20 Sep 2019  00:00:00\r\n",
       " \n"
      ],
      "text/plain": [
       "<IPython.core.display.Markdown object>"
      ]
     },
     "metadata": {},
     "output_type": "display_data"
    },
    {
     "data": {
      "text/markdown": [
       "status Reported: ___waiting to start___ \n",
       "\n"
      ],
      "text/plain": [
       "<IPython.core.display.Markdown object>"
      ]
     },
     "metadata": {},
     "output_type": "display_data"
    },
    {
     "data": {
      "text/markdown": [
       "---------------"
      ],
      "text/plain": [
       "<IPython.core.display.Markdown object>"
      ]
     },
     "metadata": {},
     "output_type": "display_data"
    },
    {
     "name": "stdout",
     "output_type": "stream",
     "text": [
      "/Users/bell/Downloads/reseabirdsetups/19bs-8a_sbe16_4139_20m.cap\n",
      "\n"
     ]
    },
    {
     "data": {
      "text/markdown": [
       "**Final Entry:**"
      ],
      "text/plain": [
       "<IPython.core.display.Markdown object>"
      ]
     },
     "metadata": {},
     "output_type": "display_data"
    },
    {
     "data": {
      "text/markdown": [
       "**------------**"
      ],
      "text/plain": [
       "<IPython.core.display.Markdown object>"
      ]
     },
     "metadata": {},
     "output_type": "display_data"
    },
    {
     "data": {
      "text/markdown": [
       "**Model Number Reported:** SBE 16plus V 1.7  "
      ],
      "text/plain": [
       "<IPython.core.display.Markdown object>"
      ]
     },
     "metadata": {},
     "output_type": "display_data"
    },
    {
     "data": {
      "text/markdown": [
       "Serial Number Reported: **4139**"
      ],
      "text/plain": [
       "<IPython.core.display.Markdown object>"
      ]
     },
     "metadata": {},
     "output_type": "display_data"
    },
    {
     "data": {
      "text/markdown": [
       "___System Time Reported:___ 07 Aug 2019 21:51:06"
      ],
      "text/plain": [
       "<IPython.core.display.Markdown object>"
      ]
     },
     "metadata": {},
     "output_type": "display_data"
    },
    {
     "data": {
      "text/markdown": [
       "Sample Interval Reported: ___3600___ \n"
      ],
      "text/plain": [
       "<IPython.core.display.Markdown object>"
      ]
     },
     "metadata": {},
     "output_type": "display_data"
    },
    {
     "data": {
      "text/markdown": [
       "Reference Pressure: ___ db\n"
      ],
      "text/plain": [
       "<IPython.core.display.Markdown object>"
      ]
     },
     "metadata": {},
     "output_type": "display_data"
    },
    {
     "data": {
      "text/markdown": [
       "___Start Time:___   20 Sep 2019  00:00:00\r\n",
       " \n"
      ],
      "text/plain": [
       "<IPython.core.display.Markdown object>"
      ]
     },
     "metadata": {},
     "output_type": "display_data"
    },
    {
     "data": {
      "text/markdown": [
       "status Reported: ___waiting to start___ \n",
       "\n"
      ],
      "text/plain": [
       "<IPython.core.display.Markdown object>"
      ]
     },
     "metadata": {},
     "output_type": "display_data"
    },
    {
     "data": {
      "text/markdown": [
       "---------------"
      ],
      "text/plain": [
       "<IPython.core.display.Markdown object>"
      ]
     },
     "metadata": {},
     "output_type": "display_data"
    },
    {
     "name": "stdout",
     "output_type": "stream",
     "text": [
      "/Users/bell/Downloads/reseabirdsetups/19bs4b_sbe16_658_12.5m.cap\n",
      "\n"
     ]
    },
    {
     "data": {
      "text/markdown": [
       "**Final Entry:**"
      ],
      "text/plain": [
       "<IPython.core.display.Markdown object>"
      ]
     },
     "metadata": {},
     "output_type": "display_data"
    },
    {
     "data": {
      "text/markdown": [
       "**------------**"
      ],
      "text/plain": [
       "<IPython.core.display.Markdown object>"
      ]
     },
     "metadata": {},
     "output_type": "display_data"
    },
    {
     "data": {
      "text/markdown": [
       "**Model Number Reported:** SEACAT V3.2d  "
      ],
      "text/plain": [
       "<IPython.core.display.Markdown object>"
      ]
     },
     "metadata": {},
     "output_type": "display_data"
    },
    {
     "data": {
      "text/markdown": [
       "Serial Number Reported: **658**"
      ],
      "text/plain": [
       "<IPython.core.display.Markdown object>"
      ]
     },
     "metadata": {},
     "output_type": "display_data"
    },
    {
     "data": {
      "text/markdown": [
       "___System Time Reported:___ NO. 658 07/25/19 18:45:51.353"
      ],
      "text/plain": [
       "<IPython.core.display.Markdown object>"
      ]
     },
     "metadata": {},
     "output_type": "display_data"
    },
    {
     "data": {
      "text/markdown": [
       "Sample Interval Reported: ___3600___ \n"
      ],
      "text/plain": [
       "<IPython.core.display.Markdown object>"
      ]
     },
     "metadata": {},
     "output_type": "display_data"
    },
    {
     "data": {
      "text/markdown": [
       "Reference Pressure: ___ db\n"
      ],
      "text/plain": [
       "<IPython.core.display.Markdown object>"
      ]
     },
     "metadata": {},
     "output_type": "display_data"
    },
    {
     "data": {
      "text/markdown": [
       "___Start Time:___  = 09/20/19  00:00 \n"
      ],
      "text/plain": [
       "<IPython.core.display.Markdown object>"
      ]
     },
     "metadata": {},
     "output_type": "display_data"
    },
    {
     "data": {
      "text/markdown": [
       "status Reported: _________ \n",
       "\n"
      ],
      "text/plain": [
       "<IPython.core.display.Markdown object>"
      ]
     },
     "metadata": {},
     "output_type": "display_data"
    },
    {
     "data": {
      "text/markdown": [
       "---------------"
      ],
      "text/plain": [
       "<IPython.core.display.Markdown object>"
      ]
     },
     "metadata": {},
     "output_type": "display_data"
    },
    {
     "name": "stdout",
     "output_type": "stream",
     "text": [
      "/Users/bell/Downloads/reseabirdsetups/19bs5a_sbe16_7297_25m.cap\n",
      "\n"
     ]
    },
    {
     "data": {
      "text/markdown": [
       "**Final Entry:**"
      ],
      "text/plain": [
       "<IPython.core.display.Markdown object>"
      ]
     },
     "metadata": {},
     "output_type": "display_data"
    },
    {
     "data": {
      "text/markdown": [
       "**------------**"
      ],
      "text/plain": [
       "<IPython.core.display.Markdown object>"
      ]
     },
     "metadata": {},
     "output_type": "display_data"
    },
    {
     "data": {
      "text/markdown": [
       "**Model Number Reported:** SBE 16plus V 2.5.2  "
      ],
      "text/plain": [
       "<IPython.core.display.Markdown object>"
      ]
     },
     "metadata": {},
     "output_type": "display_data"
    },
    {
     "data": {
      "text/markdown": [
       "Serial Number Reported: **7297**"
      ],
      "text/plain": [
       "<IPython.core.display.Markdown object>"
      ]
     },
     "metadata": {},
     "output_type": "display_data"
    },
    {
     "data": {
      "text/markdown": [
       "___System Time Reported:___ 25 Jul 2019 18:16:22"
      ],
      "text/plain": [
       "<IPython.core.display.Markdown object>"
      ]
     },
     "metadata": {},
     "output_type": "display_data"
    },
    {
     "data": {
      "text/markdown": [
       "Sample Interval Reported: ___3600___ \n"
      ],
      "text/plain": [
       "<IPython.core.display.Markdown object>"
      ]
     },
     "metadata": {},
     "output_type": "display_data"
    },
    {
     "data": {
      "text/markdown": [
       "Reference Pressure: 25.0 db\n"
      ],
      "text/plain": [
       "<IPython.core.display.Markdown object>"
      ]
     },
     "metadata": {},
     "output_type": "display_data"
    },
    {
     "data": {
      "text/markdown": [
       "___Start Time:___   23 Aug 2019 00:00:00\r\n",
       " \n"
      ],
      "text/plain": [
       "<IPython.core.display.Markdown object>"
      ]
     },
     "metadata": {},
     "output_type": "display_data"
    },
    {
     "data": {
      "text/markdown": [
       "status Reported: ___waiting to start___ \n",
       "\n"
      ],
      "text/plain": [
       "<IPython.core.display.Markdown object>"
      ]
     },
     "metadata": {},
     "output_type": "display_data"
    },
    {
     "data": {
      "text/markdown": [
       "---------------"
      ],
      "text/plain": [
       "<IPython.core.display.Markdown object>"
      ]
     },
     "metadata": {},
     "output_type": "display_data"
    }
   ],
   "source": [
    "files = [x for x in sorted(os.listdir(file_path))]\n",
    "#summary(files,'sbe37',False)\n",
    "for ind in files:\n",
    "    if 'sbe16' in ind.lower():\n",
    "        print(file_path + ind.lower() + '\\n')\n",
    "        summary(file_path + ind,'sbe16',False) \n",
    "    if ('sbe37' in ind) or ('s37' in ind):\n",
    "        print(file_path + ind.lower() + '\\n')\n",
    "        summary(file_path + ind,'sbe37',False)\n",
    "    if ('sbe39' in ind) or ('s39' in ind):\n",
    "        print(file_path + ind.lower() + '\\n')\n",
    "        summary(file_path + ind,'sbe39',False)  \n",
    "    if 'flsb' in ind:\n",
    "        print(file_path + ind.lower() + '\\n')\n",
    "        wetlabs_summary(file_path + ind,'eco',False)         "
   ]
  },
  {
   "cell_type": "code",
   "execution_count": null,
   "metadata": {},
   "outputs": [],
   "source": []
  }
 ],
 "metadata": {
  "kernelspec": {
   "display_name": "Python [conda env:py37]",
   "language": "python",
   "name": "conda-env-py37-py"
  },
  "language_info": {
   "codemirror_mode": {
    "name": "ipython",
    "version": 3
   },
   "file_extension": ".py",
   "mimetype": "text/x-python",
   "name": "python",
   "nbconvert_exporter": "python",
   "pygments_lexer": "ipython3",
   "version": "3.7.3"
  }
 },
 "nbformat": 4,
 "nbformat_minor": 4
}
