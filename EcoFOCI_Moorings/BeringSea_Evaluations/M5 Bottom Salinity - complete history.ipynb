{
 "cells": [
  {
   "cell_type": "markdown",
   "id": "fbdceccb-998a-4f69-b97c-93ecc03c879a",
   "metadata": {},
   "source": [
    "# M5 Bottom Salinity\n",
    "\n",
    "- from erddap gridded product"
   ]
  },
  {
   "cell_type": "code",
   "execution_count": 7,
   "id": "2cc7a45e-9eb0-47e3-9af5-43a7e16c3aae",
   "metadata": {},
   "outputs": [],
   "source": [
    "import datetime\n",
    "from erddapy import ERDDAP\n",
    "import pandas as pd\n",
    "import numpy as np\n",
    "\n",
    "%matplotlib inline\n",
    "import matplotlib.pyplot as plt\n",
    "import matplotlib.dates as mdates\n",
    "import cmocean\n",
    "\n",
    "#using xarray for bathymetry data read\n",
    "import xarray as xa"
   ]
  },
  {
   "cell_type": "code",
   "execution_count": 8,
   "id": "f47fd263-edd1-4aa3-97b5-5cad140c1e99",
   "metadata": {},
   "outputs": [],
   "source": [
    "#search and boundary parameters\n",
    "\n",
    "server_url = 'http://akutan.pmel.noaa.gov:8080/erddap/'\n"
   ]
  },
  {
   "cell_type": "code",
   "execution_count": 9,
   "id": "e0715893-f0b0-4150-8e6f-ecd72a0381f9",
   "metadata": {},
   "outputs": [
    {
     "name": "stdout",
     "output_type": "stream",
     "text": [
      "['1hr_gridded_datasets_Mooring_05bs5a_final', '1hr_gridded_datasets_Mooring_05bs5b_final', '1hr_gridded_datasets_Mooring_06bs5a_final', '1hr_gridded_datasets_Mooring_06bs5b_final', '1hr_gridded_datasets_Mooring_07bs5a_final', '1hr_gridded_datasets_Mooring_07bs5b_final', '1hr_gridded_datasets_Mooring_08bs5b_final', '1hr_gridded_datasets_Mooring_09bs5a_final', '1hr_gridded_datasets_Mooring_09bs5b_final', '1hr_gridded_datasets_Mooring_10bs5a_final', '1hr_gridded_datasets_Mooring_10bs5b_final', '1hr_gridded_datasets_Mooring_11bs5a_final', '1hr_gridded_datasets_Mooring_11bs5b_final', '1hr_gridded_datasets_Mooring_12bs5a_final', '1hr_gridded_datasets_Mooring_13bs5a_final', '1hr_gridded_datasets_Mooring_14bs5a_final', '1hr_gridded_datasets_Mooring_15bs5a_final', '1hr_gridded_datasets_Mooring_16bs5a_final', '1hr_gridded_datasets_Mooring_17bs5a_final', '1hr_gridded_datasets_Mooring_18bs5a_final']\n"
     ]
    }
   ],
   "source": [
    "e = ERDDAP(server=server_url)\n",
    "df = pd.read_csv(e.get_search_url(response='csv', search_for='Mooring bs5 gridded'))\n",
    "\n",
    "print(sorted(df['Dataset ID'].values))"
   ]
  },
  {
   "cell_type": "code",
   "execution_count": 10,
   "id": "70478441-2a99-4767-a9d3-2b57cb6d95e0",
   "metadata": {
    "collapsed": true,
    "jupyter": {
     "outputs_hidden": true
    },
    "tags": []
   },
   "outputs": [
    {
     "name": "stdout",
     "output_type": "stream",
     "text": [
      "1hr_gridded_datasets_Mooring_05bs5a_final\n"
     ]
    },
    {
     "name": "stderr",
     "output_type": "stream",
     "text": [
      "/Users/bell/miniconda3/envs/py38/lib/python3.8/site-packages/xarray/conventions.py:512: SerializationWarning: variable 'temperature' has multiple fill values {1e+35, -9999.0}, decoding all values to NaN.\n",
      "  new_vars[k] = decode_cf_variable(\n",
      "/Users/bell/miniconda3/envs/py38/lib/python3.8/site-packages/xarray/conventions.py:512: SerializationWarning: variable 'pressure' has multiple fill values {1e+35, -9999.0}, decoding all values to NaN.\n",
      "  new_vars[k] = decode_cf_variable(\n",
      "/Users/bell/miniconda3/envs/py38/lib/python3.8/site-packages/xarray/conventions.py:512: SerializationWarning: variable 'salinity' has multiple fill values {1e+35, -9999.0}, decoding all values to NaN.\n",
      "  new_vars[k] = decode_cf_variable(\n",
      "/Users/bell/miniconda3/envs/py38/lib/python3.8/site-packages/xarray/conventions.py:512: SerializationWarning: variable 'PAR' has multiple fill values {1e+35, -9999.0}, decoding all values to NaN.\n",
      "  new_vars[k] = decode_cf_variable(\n",
      "/Users/bell/miniconda3/envs/py38/lib/python3.8/site-packages/xarray/conventions.py:512: SerializationWarning: variable 'Chlorophyll_Fluorescence' has multiple fill values {1e+35, -9999.0}, decoding all values to NaN.\n",
      "  new_vars[k] = decode_cf_variable(\n",
      "/Users/bell/miniconda3/envs/py38/lib/python3.8/site-packages/xarray/conventions.py:512: SerializationWarning: variable 'Oxygen_Saturation' has multiple fill values {1e+35, -9999.0}, decoding all values to NaN.\n",
      "  new_vars[k] = decode_cf_variable(\n",
      "/Users/bell/miniconda3/envs/py38/lib/python3.8/site-packages/xarray/conventions.py:512: SerializationWarning: variable 'Oxygen_Concentration' has multiple fill values {1e+35, -9999.0}, decoding all values to NaN.\n",
      "  new_vars[k] = decode_cf_variable(\n"
     ]
    },
    {
     "name": "stdout",
     "output_type": "stream",
     "text": [
      "1hr_gridded_datasets_Mooring_05bs5b_final\n"
     ]
    },
    {
     "name": "stderr",
     "output_type": "stream",
     "text": [
      "/Users/bell/miniconda3/envs/py38/lib/python3.8/site-packages/xarray/conventions.py:512: SerializationWarning: variable 'temperature' has multiple fill values {1e+35, -9999.0}, decoding all values to NaN.\n",
      "  new_vars[k] = decode_cf_variable(\n",
      "/Users/bell/miniconda3/envs/py38/lib/python3.8/site-packages/xarray/conventions.py:512: SerializationWarning: variable 'pressure' has multiple fill values {1e+35, -9999.0}, decoding all values to NaN.\n",
      "  new_vars[k] = decode_cf_variable(\n",
      "/Users/bell/miniconda3/envs/py38/lib/python3.8/site-packages/xarray/conventions.py:512: SerializationWarning: variable 'salinity' has multiple fill values {1e+35, -9999.0}, decoding all values to NaN.\n",
      "  new_vars[k] = decode_cf_variable(\n",
      "/Users/bell/miniconda3/envs/py38/lib/python3.8/site-packages/xarray/conventions.py:512: SerializationWarning: variable 'PAR' has multiple fill values {1e+35, -9999.0}, decoding all values to NaN.\n",
      "  new_vars[k] = decode_cf_variable(\n",
      "/Users/bell/miniconda3/envs/py38/lib/python3.8/site-packages/xarray/conventions.py:512: SerializationWarning: variable 'Chlorophyll_Fluorescence' has multiple fill values {1e+35, -9999.0}, decoding all values to NaN.\n",
      "  new_vars[k] = decode_cf_variable(\n",
      "/Users/bell/miniconda3/envs/py38/lib/python3.8/site-packages/xarray/conventions.py:512: SerializationWarning: variable 'Oxygen_Saturation' has multiple fill values {1e+35, -9999.0}, decoding all values to NaN.\n",
      "  new_vars[k] = decode_cf_variable(\n",
      "/Users/bell/miniconda3/envs/py38/lib/python3.8/site-packages/xarray/conventions.py:512: SerializationWarning: variable 'Oxygen_Concentration' has multiple fill values {1e+35, -9999.0}, decoding all values to NaN.\n",
      "  new_vars[k] = decode_cf_variable(\n"
     ]
    },
    {
     "name": "stdout",
     "output_type": "stream",
     "text": [
      "1hr_gridded_datasets_Mooring_06bs5a_final\n"
     ]
    },
    {
     "name": "stderr",
     "output_type": "stream",
     "text": [
      "/Users/bell/miniconda3/envs/py38/lib/python3.8/site-packages/xarray/conventions.py:512: SerializationWarning: variable 'temperature' has multiple fill values {1e+35, -9999.0}, decoding all values to NaN.\n",
      "  new_vars[k] = decode_cf_variable(\n",
      "/Users/bell/miniconda3/envs/py38/lib/python3.8/site-packages/xarray/conventions.py:512: SerializationWarning: variable 'pressure' has multiple fill values {1e+35, -9999.0}, decoding all values to NaN.\n",
      "  new_vars[k] = decode_cf_variable(\n",
      "/Users/bell/miniconda3/envs/py38/lib/python3.8/site-packages/xarray/conventions.py:512: SerializationWarning: variable 'salinity' has multiple fill values {1e+35, -9999.0}, decoding all values to NaN.\n",
      "  new_vars[k] = decode_cf_variable(\n",
      "/Users/bell/miniconda3/envs/py38/lib/python3.8/site-packages/xarray/conventions.py:512: SerializationWarning: variable 'PAR' has multiple fill values {1e+35, -9999.0}, decoding all values to NaN.\n",
      "  new_vars[k] = decode_cf_variable(\n",
      "/Users/bell/miniconda3/envs/py38/lib/python3.8/site-packages/xarray/conventions.py:512: SerializationWarning: variable 'Chlorophyll_Fluorescence' has multiple fill values {1e+35, -9999.0}, decoding all values to NaN.\n",
      "  new_vars[k] = decode_cf_variable(\n",
      "/Users/bell/miniconda3/envs/py38/lib/python3.8/site-packages/xarray/conventions.py:512: SerializationWarning: variable 'Oxygen_Saturation' has multiple fill values {1e+35, -9999.0}, decoding all values to NaN.\n",
      "  new_vars[k] = decode_cf_variable(\n",
      "/Users/bell/miniconda3/envs/py38/lib/python3.8/site-packages/xarray/conventions.py:512: SerializationWarning: variable 'Oxygen_Concentration' has multiple fill values {1e+35, -9999.0}, decoding all values to NaN.\n",
      "  new_vars[k] = decode_cf_variable(\n"
     ]
    },
    {
     "name": "stdout",
     "output_type": "stream",
     "text": [
      "1hr_gridded_datasets_Mooring_06bs5b_final\n"
     ]
    },
    {
     "name": "stderr",
     "output_type": "stream",
     "text": [
      "/Users/bell/miniconda3/envs/py38/lib/python3.8/site-packages/xarray/conventions.py:512: SerializationWarning: variable 'temperature' has multiple fill values {1e+35, -9999.0}, decoding all values to NaN.\n",
      "  new_vars[k] = decode_cf_variable(\n",
      "/Users/bell/miniconda3/envs/py38/lib/python3.8/site-packages/xarray/conventions.py:512: SerializationWarning: variable 'pressure' has multiple fill values {1e+35, -9999.0}, decoding all values to NaN.\n",
      "  new_vars[k] = decode_cf_variable(\n",
      "/Users/bell/miniconda3/envs/py38/lib/python3.8/site-packages/xarray/conventions.py:512: SerializationWarning: variable 'salinity' has multiple fill values {1e+35, -9999.0}, decoding all values to NaN.\n",
      "  new_vars[k] = decode_cf_variable(\n",
      "/Users/bell/miniconda3/envs/py38/lib/python3.8/site-packages/xarray/conventions.py:512: SerializationWarning: variable 'PAR' has multiple fill values {1e+35, -9999.0}, decoding all values to NaN.\n",
      "  new_vars[k] = decode_cf_variable(\n",
      "/Users/bell/miniconda3/envs/py38/lib/python3.8/site-packages/xarray/conventions.py:512: SerializationWarning: variable 'Chlorophyll_Fluorescence' has multiple fill values {1e+35, -9999.0}, decoding all values to NaN.\n",
      "  new_vars[k] = decode_cf_variable(\n",
      "/Users/bell/miniconda3/envs/py38/lib/python3.8/site-packages/xarray/conventions.py:512: SerializationWarning: variable 'Oxygen_Saturation' has multiple fill values {1e+35, -9999.0}, decoding all values to NaN.\n",
      "  new_vars[k] = decode_cf_variable(\n",
      "/Users/bell/miniconda3/envs/py38/lib/python3.8/site-packages/xarray/conventions.py:512: SerializationWarning: variable 'Oxygen_Concentration' has multiple fill values {1e+35, -9999.0}, decoding all values to NaN.\n",
      "  new_vars[k] = decode_cf_variable(\n"
     ]
    },
    {
     "name": "stdout",
     "output_type": "stream",
     "text": [
      "1hr_gridded_datasets_Mooring_07bs5a_final\n"
     ]
    },
    {
     "name": "stderr",
     "output_type": "stream",
     "text": [
      "/Users/bell/miniconda3/envs/py38/lib/python3.8/site-packages/xarray/conventions.py:512: SerializationWarning: variable 'temperature' has multiple fill values {1e+35, -9999.0}, decoding all values to NaN.\n",
      "  new_vars[k] = decode_cf_variable(\n",
      "/Users/bell/miniconda3/envs/py38/lib/python3.8/site-packages/xarray/conventions.py:512: SerializationWarning: variable 'pressure' has multiple fill values {1e+35, -9999.0}, decoding all values to NaN.\n",
      "  new_vars[k] = decode_cf_variable(\n",
      "/Users/bell/miniconda3/envs/py38/lib/python3.8/site-packages/xarray/conventions.py:512: SerializationWarning: variable 'salinity' has multiple fill values {1e+35, -9999.0}, decoding all values to NaN.\n",
      "  new_vars[k] = decode_cf_variable(\n",
      "/Users/bell/miniconda3/envs/py38/lib/python3.8/site-packages/xarray/conventions.py:512: SerializationWarning: variable 'PAR' has multiple fill values {1e+35, -9999.0}, decoding all values to NaN.\n",
      "  new_vars[k] = decode_cf_variable(\n",
      "/Users/bell/miniconda3/envs/py38/lib/python3.8/site-packages/xarray/conventions.py:512: SerializationWarning: variable 'Chlorophyll_Fluorescence' has multiple fill values {1e+35, -9999.0}, decoding all values to NaN.\n",
      "  new_vars[k] = decode_cf_variable(\n",
      "/Users/bell/miniconda3/envs/py38/lib/python3.8/site-packages/xarray/conventions.py:512: SerializationWarning: variable 'Oxygen_Saturation' has multiple fill values {1e+35, -9999.0}, decoding all values to NaN.\n",
      "  new_vars[k] = decode_cf_variable(\n",
      "/Users/bell/miniconda3/envs/py38/lib/python3.8/site-packages/xarray/conventions.py:512: SerializationWarning: variable 'Oxygen_Concentration' has multiple fill values {1e+35, -9999.0}, decoding all values to NaN.\n",
      "  new_vars[k] = decode_cf_variable(\n"
     ]
    },
    {
     "name": "stdout",
     "output_type": "stream",
     "text": [
      "1hr_gridded_datasets_Mooring_07bs5b_final\n"
     ]
    },
    {
     "name": "stderr",
     "output_type": "stream",
     "text": [
      "/Users/bell/miniconda3/envs/py38/lib/python3.8/site-packages/xarray/conventions.py:512: SerializationWarning: variable 'temperature' has multiple fill values {1e+35, -9999.0}, decoding all values to NaN.\n",
      "  new_vars[k] = decode_cf_variable(\n",
      "/Users/bell/miniconda3/envs/py38/lib/python3.8/site-packages/xarray/conventions.py:512: SerializationWarning: variable 'pressure' has multiple fill values {1e+35, -9999.0}, decoding all values to NaN.\n",
      "  new_vars[k] = decode_cf_variable(\n",
      "/Users/bell/miniconda3/envs/py38/lib/python3.8/site-packages/xarray/conventions.py:512: SerializationWarning: variable 'salinity' has multiple fill values {1e+35, -9999.0}, decoding all values to NaN.\n",
      "  new_vars[k] = decode_cf_variable(\n",
      "/Users/bell/miniconda3/envs/py38/lib/python3.8/site-packages/xarray/conventions.py:512: SerializationWarning: variable 'PAR' has multiple fill values {1e+35, -9999.0}, decoding all values to NaN.\n",
      "  new_vars[k] = decode_cf_variable(\n",
      "/Users/bell/miniconda3/envs/py38/lib/python3.8/site-packages/xarray/conventions.py:512: SerializationWarning: variable 'Chlorophyll_Fluorescence' has multiple fill values {1e+35, -9999.0}, decoding all values to NaN.\n",
      "  new_vars[k] = decode_cf_variable(\n",
      "/Users/bell/miniconda3/envs/py38/lib/python3.8/site-packages/xarray/conventions.py:512: SerializationWarning: variable 'Oxygen_Saturation' has multiple fill values {1e+35, -9999.0}, decoding all values to NaN.\n",
      "  new_vars[k] = decode_cf_variable(\n",
      "/Users/bell/miniconda3/envs/py38/lib/python3.8/site-packages/xarray/conventions.py:512: SerializationWarning: variable 'Oxygen_Concentration' has multiple fill values {1e+35, -9999.0}, decoding all values to NaN.\n",
      "  new_vars[k] = decode_cf_variable(\n"
     ]
    },
    {
     "name": "stdout",
     "output_type": "stream",
     "text": [
      "1hr_gridded_datasets_Mooring_08bs5b_final\n"
     ]
    },
    {
     "name": "stderr",
     "output_type": "stream",
     "text": [
      "/Users/bell/miniconda3/envs/py38/lib/python3.8/site-packages/xarray/conventions.py:512: SerializationWarning: variable 'temperature' has multiple fill values {1e+35, -9999.0}, decoding all values to NaN.\n",
      "  new_vars[k] = decode_cf_variable(\n",
      "/Users/bell/miniconda3/envs/py38/lib/python3.8/site-packages/xarray/conventions.py:512: SerializationWarning: variable 'pressure' has multiple fill values {1e+35, -9999.0}, decoding all values to NaN.\n",
      "  new_vars[k] = decode_cf_variable(\n",
      "/Users/bell/miniconda3/envs/py38/lib/python3.8/site-packages/xarray/conventions.py:512: SerializationWarning: variable 'salinity' has multiple fill values {1e+35, -9999.0}, decoding all values to NaN.\n",
      "  new_vars[k] = decode_cf_variable(\n",
      "/Users/bell/miniconda3/envs/py38/lib/python3.8/site-packages/xarray/conventions.py:512: SerializationWarning: variable 'PAR' has multiple fill values {1e+35, -9999.0}, decoding all values to NaN.\n",
      "  new_vars[k] = decode_cf_variable(\n",
      "/Users/bell/miniconda3/envs/py38/lib/python3.8/site-packages/xarray/conventions.py:512: SerializationWarning: variable 'Chlorophyll_Fluorescence' has multiple fill values {1e+35, -9999.0}, decoding all values to NaN.\n",
      "  new_vars[k] = decode_cf_variable(\n",
      "/Users/bell/miniconda3/envs/py38/lib/python3.8/site-packages/xarray/conventions.py:512: SerializationWarning: variable 'Oxygen_Saturation' has multiple fill values {1e+35, -9999.0}, decoding all values to NaN.\n",
      "  new_vars[k] = decode_cf_variable(\n",
      "/Users/bell/miniconda3/envs/py38/lib/python3.8/site-packages/xarray/conventions.py:512: SerializationWarning: variable 'Oxygen_Concentration' has multiple fill values {1e+35, -9999.0}, decoding all values to NaN.\n",
      "  new_vars[k] = decode_cf_variable(\n"
     ]
    },
    {
     "name": "stdout",
     "output_type": "stream",
     "text": [
      "1hr_gridded_datasets_Mooring_09bs5a_final\n"
     ]
    },
    {
     "name": "stderr",
     "output_type": "stream",
     "text": [
      "/Users/bell/miniconda3/envs/py38/lib/python3.8/site-packages/xarray/conventions.py:512: SerializationWarning: variable 'temperature' has multiple fill values {1e+35, -9999.0}, decoding all values to NaN.\n",
      "  new_vars[k] = decode_cf_variable(\n",
      "/Users/bell/miniconda3/envs/py38/lib/python3.8/site-packages/xarray/conventions.py:512: SerializationWarning: variable 'pressure' has multiple fill values {1e+35, -9999.0}, decoding all values to NaN.\n",
      "  new_vars[k] = decode_cf_variable(\n",
      "/Users/bell/miniconda3/envs/py38/lib/python3.8/site-packages/xarray/conventions.py:512: SerializationWarning: variable 'salinity' has multiple fill values {1e+35, -9999.0}, decoding all values to NaN.\n",
      "  new_vars[k] = decode_cf_variable(\n",
      "/Users/bell/miniconda3/envs/py38/lib/python3.8/site-packages/xarray/conventions.py:512: SerializationWarning: variable 'PAR' has multiple fill values {1e+35, -9999.0}, decoding all values to NaN.\n",
      "  new_vars[k] = decode_cf_variable(\n",
      "/Users/bell/miniconda3/envs/py38/lib/python3.8/site-packages/xarray/conventions.py:512: SerializationWarning: variable 'Chlorophyll_Fluorescence' has multiple fill values {1e+35, -9999.0}, decoding all values to NaN.\n",
      "  new_vars[k] = decode_cf_variable(\n",
      "/Users/bell/miniconda3/envs/py38/lib/python3.8/site-packages/xarray/conventions.py:512: SerializationWarning: variable 'Oxygen_Saturation' has multiple fill values {1e+35, -9999.0}, decoding all values to NaN.\n",
      "  new_vars[k] = decode_cf_variable(\n",
      "/Users/bell/miniconda3/envs/py38/lib/python3.8/site-packages/xarray/conventions.py:512: SerializationWarning: variable 'Oxygen_Concentration' has multiple fill values {1e+35, -9999.0}, decoding all values to NaN.\n",
      "  new_vars[k] = decode_cf_variable(\n"
     ]
    },
    {
     "name": "stdout",
     "output_type": "stream",
     "text": [
      "1hr_gridded_datasets_Mooring_09bs5b_final\n"
     ]
    },
    {
     "name": "stderr",
     "output_type": "stream",
     "text": [
      "/Users/bell/miniconda3/envs/py38/lib/python3.8/site-packages/xarray/conventions.py:512: SerializationWarning: variable 'temperature' has multiple fill values {1e+35, -9999.0}, decoding all values to NaN.\n",
      "  new_vars[k] = decode_cf_variable(\n",
      "/Users/bell/miniconda3/envs/py38/lib/python3.8/site-packages/xarray/conventions.py:512: SerializationWarning: variable 'pressure' has multiple fill values {1e+35, -9999.0}, decoding all values to NaN.\n",
      "  new_vars[k] = decode_cf_variable(\n",
      "/Users/bell/miniconda3/envs/py38/lib/python3.8/site-packages/xarray/conventions.py:512: SerializationWarning: variable 'salinity' has multiple fill values {1e+35, -9999.0}, decoding all values to NaN.\n",
      "  new_vars[k] = decode_cf_variable(\n",
      "/Users/bell/miniconda3/envs/py38/lib/python3.8/site-packages/xarray/conventions.py:512: SerializationWarning: variable 'PAR' has multiple fill values {1e+35, -9999.0}, decoding all values to NaN.\n",
      "  new_vars[k] = decode_cf_variable(\n",
      "/Users/bell/miniconda3/envs/py38/lib/python3.8/site-packages/xarray/conventions.py:512: SerializationWarning: variable 'Chlorophyll_Fluorescence' has multiple fill values {1e+35, -9999.0}, decoding all values to NaN.\n",
      "  new_vars[k] = decode_cf_variable(\n",
      "/Users/bell/miniconda3/envs/py38/lib/python3.8/site-packages/xarray/conventions.py:512: SerializationWarning: variable 'Oxygen_Saturation' has multiple fill values {1e+35, -9999.0}, decoding all values to NaN.\n",
      "  new_vars[k] = decode_cf_variable(\n",
      "/Users/bell/miniconda3/envs/py38/lib/python3.8/site-packages/xarray/conventions.py:512: SerializationWarning: variable 'Oxygen_Concentration' has multiple fill values {1e+35, -9999.0}, decoding all values to NaN.\n",
      "  new_vars[k] = decode_cf_variable(\n"
     ]
    },
    {
     "name": "stdout",
     "output_type": "stream",
     "text": [
      "1hr_gridded_datasets_Mooring_10bs5a_final\n"
     ]
    },
    {
     "name": "stderr",
     "output_type": "stream",
     "text": [
      "/Users/bell/miniconda3/envs/py38/lib/python3.8/site-packages/xarray/conventions.py:512: SerializationWarning: variable 'temperature' has multiple fill values {1e+35, -9999.0}, decoding all values to NaN.\n",
      "  new_vars[k] = decode_cf_variable(\n",
      "/Users/bell/miniconda3/envs/py38/lib/python3.8/site-packages/xarray/conventions.py:512: SerializationWarning: variable 'pressure' has multiple fill values {1e+35, -9999.0}, decoding all values to NaN.\n",
      "  new_vars[k] = decode_cf_variable(\n",
      "/Users/bell/miniconda3/envs/py38/lib/python3.8/site-packages/xarray/conventions.py:512: SerializationWarning: variable 'salinity' has multiple fill values {1e+35, -9999.0}, decoding all values to NaN.\n",
      "  new_vars[k] = decode_cf_variable(\n",
      "/Users/bell/miniconda3/envs/py38/lib/python3.8/site-packages/xarray/conventions.py:512: SerializationWarning: variable 'PAR' has multiple fill values {1e+35, -9999.0}, decoding all values to NaN.\n",
      "  new_vars[k] = decode_cf_variable(\n",
      "/Users/bell/miniconda3/envs/py38/lib/python3.8/site-packages/xarray/conventions.py:512: SerializationWarning: variable 'Chlorophyll_Fluorescence' has multiple fill values {1e+35, -9999.0}, decoding all values to NaN.\n",
      "  new_vars[k] = decode_cf_variable(\n",
      "/Users/bell/miniconda3/envs/py38/lib/python3.8/site-packages/xarray/conventions.py:512: SerializationWarning: variable 'Oxygen_Saturation' has multiple fill values {1e+35, -9999.0}, decoding all values to NaN.\n",
      "  new_vars[k] = decode_cf_variable(\n",
      "/Users/bell/miniconda3/envs/py38/lib/python3.8/site-packages/xarray/conventions.py:512: SerializationWarning: variable 'Oxygen_Concentration' has multiple fill values {1e+35, -9999.0}, decoding all values to NaN.\n",
      "  new_vars[k] = decode_cf_variable(\n"
     ]
    },
    {
     "name": "stdout",
     "output_type": "stream",
     "text": [
      "1hr_gridded_datasets_Mooring_10bs5b_final\n"
     ]
    },
    {
     "name": "stderr",
     "output_type": "stream",
     "text": [
      "/Users/bell/miniconda3/envs/py38/lib/python3.8/site-packages/xarray/conventions.py:512: SerializationWarning: variable 'temperature' has multiple fill values {1e+35, -9999.0}, decoding all values to NaN.\n",
      "  new_vars[k] = decode_cf_variable(\n",
      "/Users/bell/miniconda3/envs/py38/lib/python3.8/site-packages/xarray/conventions.py:512: SerializationWarning: variable 'pressure' has multiple fill values {1e+35, -9999.0}, decoding all values to NaN.\n",
      "  new_vars[k] = decode_cf_variable(\n",
      "/Users/bell/miniconda3/envs/py38/lib/python3.8/site-packages/xarray/conventions.py:512: SerializationWarning: variable 'salinity' has multiple fill values {1e+35, -9999.0}, decoding all values to NaN.\n",
      "  new_vars[k] = decode_cf_variable(\n",
      "/Users/bell/miniconda3/envs/py38/lib/python3.8/site-packages/xarray/conventions.py:512: SerializationWarning: variable 'PAR' has multiple fill values {1e+35, -9999.0}, decoding all values to NaN.\n",
      "  new_vars[k] = decode_cf_variable(\n",
      "/Users/bell/miniconda3/envs/py38/lib/python3.8/site-packages/xarray/conventions.py:512: SerializationWarning: variable 'Chlorophyll_Fluorescence' has multiple fill values {1e+35, -9999.0}, decoding all values to NaN.\n",
      "  new_vars[k] = decode_cf_variable(\n",
      "/Users/bell/miniconda3/envs/py38/lib/python3.8/site-packages/xarray/conventions.py:512: SerializationWarning: variable 'Oxygen_Saturation' has multiple fill values {1e+35, -9999.0}, decoding all values to NaN.\n",
      "  new_vars[k] = decode_cf_variable(\n",
      "/Users/bell/miniconda3/envs/py38/lib/python3.8/site-packages/xarray/conventions.py:512: SerializationWarning: variable 'Oxygen_Concentration' has multiple fill values {1e+35, -9999.0}, decoding all values to NaN.\n",
      "  new_vars[k] = decode_cf_variable(\n"
     ]
    },
    {
     "name": "stdout",
     "output_type": "stream",
     "text": [
      "1hr_gridded_datasets_Mooring_11bs5a_final\n"
     ]
    },
    {
     "name": "stderr",
     "output_type": "stream",
     "text": [
      "/Users/bell/miniconda3/envs/py38/lib/python3.8/site-packages/xarray/conventions.py:512: SerializationWarning: variable 'temperature' has multiple fill values {1e+35, -9999.0}, decoding all values to NaN.\n",
      "  new_vars[k] = decode_cf_variable(\n",
      "/Users/bell/miniconda3/envs/py38/lib/python3.8/site-packages/xarray/conventions.py:512: SerializationWarning: variable 'pressure' has multiple fill values {1e+35, -9999.0}, decoding all values to NaN.\n",
      "  new_vars[k] = decode_cf_variable(\n",
      "/Users/bell/miniconda3/envs/py38/lib/python3.8/site-packages/xarray/conventions.py:512: SerializationWarning: variable 'salinity' has multiple fill values {1e+35, -9999.0}, decoding all values to NaN.\n",
      "  new_vars[k] = decode_cf_variable(\n",
      "/Users/bell/miniconda3/envs/py38/lib/python3.8/site-packages/xarray/conventions.py:512: SerializationWarning: variable 'PAR' has multiple fill values {1e+35, -9999.0}, decoding all values to NaN.\n",
      "  new_vars[k] = decode_cf_variable(\n",
      "/Users/bell/miniconda3/envs/py38/lib/python3.8/site-packages/xarray/conventions.py:512: SerializationWarning: variable 'Chlorophyll_Fluorescence' has multiple fill values {1e+35, -9999.0}, decoding all values to NaN.\n",
      "  new_vars[k] = decode_cf_variable(\n",
      "/Users/bell/miniconda3/envs/py38/lib/python3.8/site-packages/xarray/conventions.py:512: SerializationWarning: variable 'Oxygen_Saturation' has multiple fill values {1e+35, -9999.0}, decoding all values to NaN.\n",
      "  new_vars[k] = decode_cf_variable(\n",
      "/Users/bell/miniconda3/envs/py38/lib/python3.8/site-packages/xarray/conventions.py:512: SerializationWarning: variable 'Oxygen_Concentration' has multiple fill values {1e+35, -9999.0}, decoding all values to NaN.\n",
      "  new_vars[k] = decode_cf_variable(\n"
     ]
    },
    {
     "name": "stdout",
     "output_type": "stream",
     "text": [
      "1hr_gridded_datasets_Mooring_11bs5b_final\n"
     ]
    },
    {
     "name": "stderr",
     "output_type": "stream",
     "text": [
      "/Users/bell/miniconda3/envs/py38/lib/python3.8/site-packages/xarray/conventions.py:512: SerializationWarning: variable 'temperature' has multiple fill values {1e+35, -9999.0}, decoding all values to NaN.\n",
      "  new_vars[k] = decode_cf_variable(\n",
      "/Users/bell/miniconda3/envs/py38/lib/python3.8/site-packages/xarray/conventions.py:512: SerializationWarning: variable 'pressure' has multiple fill values {1e+35, -9999.0}, decoding all values to NaN.\n",
      "  new_vars[k] = decode_cf_variable(\n",
      "/Users/bell/miniconda3/envs/py38/lib/python3.8/site-packages/xarray/conventions.py:512: SerializationWarning: variable 'salinity' has multiple fill values {1e+35, -9999.0}, decoding all values to NaN.\n",
      "  new_vars[k] = decode_cf_variable(\n",
      "/Users/bell/miniconda3/envs/py38/lib/python3.8/site-packages/xarray/conventions.py:512: SerializationWarning: variable 'PAR' has multiple fill values {1e+35, -9999.0}, decoding all values to NaN.\n",
      "  new_vars[k] = decode_cf_variable(\n",
      "/Users/bell/miniconda3/envs/py38/lib/python3.8/site-packages/xarray/conventions.py:512: SerializationWarning: variable 'Chlorophyll_Fluorescence' has multiple fill values {1e+35, -9999.0}, decoding all values to NaN.\n",
      "  new_vars[k] = decode_cf_variable(\n",
      "/Users/bell/miniconda3/envs/py38/lib/python3.8/site-packages/xarray/conventions.py:512: SerializationWarning: variable 'Oxygen_Saturation' has multiple fill values {1e+35, -9999.0}, decoding all values to NaN.\n",
      "  new_vars[k] = decode_cf_variable(\n",
      "/Users/bell/miniconda3/envs/py38/lib/python3.8/site-packages/xarray/conventions.py:512: SerializationWarning: variable 'Oxygen_Concentration' has multiple fill values {1e+35, -9999.0}, decoding all values to NaN.\n",
      "  new_vars[k] = decode_cf_variable(\n"
     ]
    },
    {
     "name": "stdout",
     "output_type": "stream",
     "text": [
      "1hr_gridded_datasets_Mooring_12bs5a_final\n"
     ]
    },
    {
     "name": "stderr",
     "output_type": "stream",
     "text": [
      "/Users/bell/miniconda3/envs/py38/lib/python3.8/site-packages/xarray/conventions.py:512: SerializationWarning: variable 'temperature' has multiple fill values {1e+35, -9999.0}, decoding all values to NaN.\n",
      "  new_vars[k] = decode_cf_variable(\n",
      "/Users/bell/miniconda3/envs/py38/lib/python3.8/site-packages/xarray/conventions.py:512: SerializationWarning: variable 'pressure' has multiple fill values {1e+35, -9999.0}, decoding all values to NaN.\n",
      "  new_vars[k] = decode_cf_variable(\n",
      "/Users/bell/miniconda3/envs/py38/lib/python3.8/site-packages/xarray/conventions.py:512: SerializationWarning: variable 'salinity' has multiple fill values {1e+35, -9999.0}, decoding all values to NaN.\n",
      "  new_vars[k] = decode_cf_variable(\n",
      "/Users/bell/miniconda3/envs/py38/lib/python3.8/site-packages/xarray/conventions.py:512: SerializationWarning: variable 'PAR' has multiple fill values {1e+35, -9999.0}, decoding all values to NaN.\n",
      "  new_vars[k] = decode_cf_variable(\n",
      "/Users/bell/miniconda3/envs/py38/lib/python3.8/site-packages/xarray/conventions.py:512: SerializationWarning: variable 'Chlorophyll_Fluorescence' has multiple fill values {1e+35, -9999.0}, decoding all values to NaN.\n",
      "  new_vars[k] = decode_cf_variable(\n",
      "/Users/bell/miniconda3/envs/py38/lib/python3.8/site-packages/xarray/conventions.py:512: SerializationWarning: variable 'Oxygen_Saturation' has multiple fill values {1e+35, -9999.0}, decoding all values to NaN.\n",
      "  new_vars[k] = decode_cf_variable(\n",
      "/Users/bell/miniconda3/envs/py38/lib/python3.8/site-packages/xarray/conventions.py:512: SerializationWarning: variable 'Oxygen_Concentration' has multiple fill values {1e+35, -9999.0}, decoding all values to NaN.\n",
      "  new_vars[k] = decode_cf_variable(\n"
     ]
    },
    {
     "name": "stdout",
     "output_type": "stream",
     "text": [
      "1hr_gridded_datasets_Mooring_13bs5a_final\n"
     ]
    },
    {
     "name": "stderr",
     "output_type": "stream",
     "text": [
      "/Users/bell/miniconda3/envs/py38/lib/python3.8/site-packages/xarray/conventions.py:512: SerializationWarning: variable 'temperature' has multiple fill values {1e+35, -9999.0}, decoding all values to NaN.\n",
      "  new_vars[k] = decode_cf_variable(\n",
      "/Users/bell/miniconda3/envs/py38/lib/python3.8/site-packages/xarray/conventions.py:512: SerializationWarning: variable 'pressure' has multiple fill values {1e+35, -9999.0}, decoding all values to NaN.\n",
      "  new_vars[k] = decode_cf_variable(\n",
      "/Users/bell/miniconda3/envs/py38/lib/python3.8/site-packages/xarray/conventions.py:512: SerializationWarning: variable 'salinity' has multiple fill values {1e+35, -9999.0}, decoding all values to NaN.\n",
      "  new_vars[k] = decode_cf_variable(\n",
      "/Users/bell/miniconda3/envs/py38/lib/python3.8/site-packages/xarray/conventions.py:512: SerializationWarning: variable 'PAR' has multiple fill values {1e+35, -9999.0}, decoding all values to NaN.\n",
      "  new_vars[k] = decode_cf_variable(\n",
      "/Users/bell/miniconda3/envs/py38/lib/python3.8/site-packages/xarray/conventions.py:512: SerializationWarning: variable 'Chlorophyll_Fluorescence' has multiple fill values {1e+35, -9999.0}, decoding all values to NaN.\n",
      "  new_vars[k] = decode_cf_variable(\n",
      "/Users/bell/miniconda3/envs/py38/lib/python3.8/site-packages/xarray/conventions.py:512: SerializationWarning: variable 'Oxygen_Saturation' has multiple fill values {1e+35, -9999.0}, decoding all values to NaN.\n",
      "  new_vars[k] = decode_cf_variable(\n",
      "/Users/bell/miniconda3/envs/py38/lib/python3.8/site-packages/xarray/conventions.py:512: SerializationWarning: variable 'Oxygen_Concentration' has multiple fill values {1e+35, -9999.0}, decoding all values to NaN.\n",
      "  new_vars[k] = decode_cf_variable(\n"
     ]
    },
    {
     "name": "stdout",
     "output_type": "stream",
     "text": [
      "1hr_gridded_datasets_Mooring_14bs5a_final\n"
     ]
    },
    {
     "name": "stderr",
     "output_type": "stream",
     "text": [
      "/Users/bell/miniconda3/envs/py38/lib/python3.8/site-packages/xarray/conventions.py:512: SerializationWarning: variable 'temperature' has multiple fill values {1e+35, -9999.0}, decoding all values to NaN.\n",
      "  new_vars[k] = decode_cf_variable(\n",
      "/Users/bell/miniconda3/envs/py38/lib/python3.8/site-packages/xarray/conventions.py:512: SerializationWarning: variable 'pressure' has multiple fill values {1e+35, -9999.0}, decoding all values to NaN.\n",
      "  new_vars[k] = decode_cf_variable(\n",
      "/Users/bell/miniconda3/envs/py38/lib/python3.8/site-packages/xarray/conventions.py:512: SerializationWarning: variable 'salinity' has multiple fill values {1e+35, -9999.0}, decoding all values to NaN.\n",
      "  new_vars[k] = decode_cf_variable(\n",
      "/Users/bell/miniconda3/envs/py38/lib/python3.8/site-packages/xarray/conventions.py:512: SerializationWarning: variable 'PAR' has multiple fill values {1e+35, -9999.0}, decoding all values to NaN.\n",
      "  new_vars[k] = decode_cf_variable(\n",
      "/Users/bell/miniconda3/envs/py38/lib/python3.8/site-packages/xarray/conventions.py:512: SerializationWarning: variable 'Chlorophyll_Fluorescence' has multiple fill values {1e+35, -9999.0}, decoding all values to NaN.\n",
      "  new_vars[k] = decode_cf_variable(\n",
      "/Users/bell/miniconda3/envs/py38/lib/python3.8/site-packages/xarray/conventions.py:512: SerializationWarning: variable 'Oxygen_Saturation' has multiple fill values {1e+35, -9999.0}, decoding all values to NaN.\n",
      "  new_vars[k] = decode_cf_variable(\n",
      "/Users/bell/miniconda3/envs/py38/lib/python3.8/site-packages/xarray/conventions.py:512: SerializationWarning: variable 'Oxygen_Concentration' has multiple fill values {1e+35, -9999.0}, decoding all values to NaN.\n",
      "  new_vars[k] = decode_cf_variable(\n"
     ]
    },
    {
     "name": "stdout",
     "output_type": "stream",
     "text": [
      "1hr_gridded_datasets_Mooring_15bs5a_final\n"
     ]
    },
    {
     "name": "stderr",
     "output_type": "stream",
     "text": [
      "/Users/bell/miniconda3/envs/py38/lib/python3.8/site-packages/xarray/conventions.py:512: SerializationWarning: variable 'temperature' has multiple fill values {1e+35, -9999.0}, decoding all values to NaN.\n",
      "  new_vars[k] = decode_cf_variable(\n",
      "/Users/bell/miniconda3/envs/py38/lib/python3.8/site-packages/xarray/conventions.py:512: SerializationWarning: variable 'pressure' has multiple fill values {1e+35, -9999.0}, decoding all values to NaN.\n",
      "  new_vars[k] = decode_cf_variable(\n",
      "/Users/bell/miniconda3/envs/py38/lib/python3.8/site-packages/xarray/conventions.py:512: SerializationWarning: variable 'salinity' has multiple fill values {1e+35, -9999.0}, decoding all values to NaN.\n",
      "  new_vars[k] = decode_cf_variable(\n",
      "/Users/bell/miniconda3/envs/py38/lib/python3.8/site-packages/xarray/conventions.py:512: SerializationWarning: variable 'PAR' has multiple fill values {1e+35, -9999.0}, decoding all values to NaN.\n",
      "  new_vars[k] = decode_cf_variable(\n",
      "/Users/bell/miniconda3/envs/py38/lib/python3.8/site-packages/xarray/conventions.py:512: SerializationWarning: variable 'Chlorophyll_Fluorescence' has multiple fill values {1e+35, -9999.0}, decoding all values to NaN.\n",
      "  new_vars[k] = decode_cf_variable(\n",
      "/Users/bell/miniconda3/envs/py38/lib/python3.8/site-packages/xarray/conventions.py:512: SerializationWarning: variable 'Oxygen_Saturation' has multiple fill values {1e+35, -9999.0}, decoding all values to NaN.\n",
      "  new_vars[k] = decode_cf_variable(\n",
      "/Users/bell/miniconda3/envs/py38/lib/python3.8/site-packages/xarray/conventions.py:512: SerializationWarning: variable 'Oxygen_Concentration' has multiple fill values {1e+35, -9999.0}, decoding all values to NaN.\n",
      "  new_vars[k] = decode_cf_variable(\n"
     ]
    },
    {
     "name": "stdout",
     "output_type": "stream",
     "text": [
      "1hr_gridded_datasets_Mooring_16bs5a_final\n"
     ]
    },
    {
     "name": "stderr",
     "output_type": "stream",
     "text": [
      "/Users/bell/miniconda3/envs/py38/lib/python3.8/site-packages/xarray/conventions.py:512: SerializationWarning: variable 'temperature' has multiple fill values {1e+35, -9999.0}, decoding all values to NaN.\n",
      "  new_vars[k] = decode_cf_variable(\n",
      "/Users/bell/miniconda3/envs/py38/lib/python3.8/site-packages/xarray/conventions.py:512: SerializationWarning: variable 'pressure' has multiple fill values {1e+35, -9999.0}, decoding all values to NaN.\n",
      "  new_vars[k] = decode_cf_variable(\n",
      "/Users/bell/miniconda3/envs/py38/lib/python3.8/site-packages/xarray/conventions.py:512: SerializationWarning: variable 'salinity' has multiple fill values {1e+35, -9999.0}, decoding all values to NaN.\n",
      "  new_vars[k] = decode_cf_variable(\n",
      "/Users/bell/miniconda3/envs/py38/lib/python3.8/site-packages/xarray/conventions.py:512: SerializationWarning: variable 'PAR' has multiple fill values {1e+35, -9999.0}, decoding all values to NaN.\n",
      "  new_vars[k] = decode_cf_variable(\n",
      "/Users/bell/miniconda3/envs/py38/lib/python3.8/site-packages/xarray/conventions.py:512: SerializationWarning: variable 'Chlorophyll_Fluorescence' has multiple fill values {1e+35, -9999.0}, decoding all values to NaN.\n",
      "  new_vars[k] = decode_cf_variable(\n",
      "/Users/bell/miniconda3/envs/py38/lib/python3.8/site-packages/xarray/conventions.py:512: SerializationWarning: variable 'Oxygen_Saturation' has multiple fill values {1e+35, -9999.0}, decoding all values to NaN.\n",
      "  new_vars[k] = decode_cf_variable(\n",
      "/Users/bell/miniconda3/envs/py38/lib/python3.8/site-packages/xarray/conventions.py:512: SerializationWarning: variable 'Oxygen_Concentration' has multiple fill values {1e+35, -9999.0}, decoding all values to NaN.\n",
      "  new_vars[k] = decode_cf_variable(\n"
     ]
    },
    {
     "name": "stdout",
     "output_type": "stream",
     "text": [
      "1hr_gridded_datasets_Mooring_17bs5a_final\n"
     ]
    },
    {
     "name": "stderr",
     "output_type": "stream",
     "text": [
      "/Users/bell/miniconda3/envs/py38/lib/python3.8/site-packages/xarray/conventions.py:512: SerializationWarning: variable 'temperature' has multiple fill values {1e+35, -9999.0}, decoding all values to NaN.\n",
      "  new_vars[k] = decode_cf_variable(\n",
      "/Users/bell/miniconda3/envs/py38/lib/python3.8/site-packages/xarray/conventions.py:512: SerializationWarning: variable 'pressure' has multiple fill values {1e+35, -9999.0}, decoding all values to NaN.\n",
      "  new_vars[k] = decode_cf_variable(\n",
      "/Users/bell/miniconda3/envs/py38/lib/python3.8/site-packages/xarray/conventions.py:512: SerializationWarning: variable 'salinity' has multiple fill values {1e+35, -9999.0}, decoding all values to NaN.\n",
      "  new_vars[k] = decode_cf_variable(\n",
      "/Users/bell/miniconda3/envs/py38/lib/python3.8/site-packages/xarray/conventions.py:512: SerializationWarning: variable 'PAR' has multiple fill values {1e+35, -9999.0}, decoding all values to NaN.\n",
      "  new_vars[k] = decode_cf_variable(\n",
      "/Users/bell/miniconda3/envs/py38/lib/python3.8/site-packages/xarray/conventions.py:512: SerializationWarning: variable 'Chlorophyll_Fluorescence' has multiple fill values {1e+35, -9999.0}, decoding all values to NaN.\n",
      "  new_vars[k] = decode_cf_variable(\n",
      "/Users/bell/miniconda3/envs/py38/lib/python3.8/site-packages/xarray/conventions.py:512: SerializationWarning: variable 'Oxygen_Saturation' has multiple fill values {1e+35, -9999.0}, decoding all values to NaN.\n",
      "  new_vars[k] = decode_cf_variable(\n",
      "/Users/bell/miniconda3/envs/py38/lib/python3.8/site-packages/xarray/conventions.py:512: SerializationWarning: variable 'Oxygen_Concentration' has multiple fill values {1e+35, -9999.0}, decoding all values to NaN.\n",
      "  new_vars[k] = decode_cf_variable(\n"
     ]
    },
    {
     "name": "stdout",
     "output_type": "stream",
     "text": [
      "1hr_gridded_datasets_Mooring_18bs5a_final\n"
     ]
    },
    {
     "name": "stderr",
     "output_type": "stream",
     "text": [
      "/Users/bell/miniconda3/envs/py38/lib/python3.8/site-packages/xarray/conventions.py:512: SerializationWarning: variable 'temperature' has multiple fill values {1e+35, -9999.0}, decoding all values to NaN.\n",
      "  new_vars[k] = decode_cf_variable(\n",
      "/Users/bell/miniconda3/envs/py38/lib/python3.8/site-packages/xarray/conventions.py:512: SerializationWarning: variable 'pressure' has multiple fill values {1e+35, -9999.0}, decoding all values to NaN.\n",
      "  new_vars[k] = decode_cf_variable(\n",
      "/Users/bell/miniconda3/envs/py38/lib/python3.8/site-packages/xarray/conventions.py:512: SerializationWarning: variable 'salinity' has multiple fill values {1e+35, -9999.0}, decoding all values to NaN.\n",
      "  new_vars[k] = decode_cf_variable(\n",
      "/Users/bell/miniconda3/envs/py38/lib/python3.8/site-packages/xarray/conventions.py:512: SerializationWarning: variable 'PAR' has multiple fill values {1e+35, -9999.0}, decoding all values to NaN.\n",
      "  new_vars[k] = decode_cf_variable(\n",
      "/Users/bell/miniconda3/envs/py38/lib/python3.8/site-packages/xarray/conventions.py:512: SerializationWarning: variable 'Chlorophyll_Fluorescence' has multiple fill values {1e+35, -9999.0}, decoding all values to NaN.\n",
      "  new_vars[k] = decode_cf_variable(\n",
      "/Users/bell/miniconda3/envs/py38/lib/python3.8/site-packages/xarray/conventions.py:512: SerializationWarning: variable 'Oxygen_Saturation' has multiple fill values {1e+35, -9999.0}, decoding all values to NaN.\n",
      "  new_vars[k] = decode_cf_variable(\n",
      "/Users/bell/miniconda3/envs/py38/lib/python3.8/site-packages/xarray/conventions.py:512: SerializationWarning: variable 'Oxygen_Concentration' has multiple fill values {1e+35, -9999.0}, decoding all values to NaN.\n",
      "  new_vars[k] = decode_cf_variable(\n"
     ]
    }
   ],
   "source": [
    "from requests.exceptions import HTTPError\n",
    "\n",
    "dfs = {}\n",
    "for dataset_id in sorted(df['Dataset ID'].values):\n",
    "    print(dataset_id)\n",
    "    try:\n",
    "        d = ERDDAP(server=server_url,\n",
    "            protocol='griddap',\n",
    "            response='nc',\n",
    "        )\n",
    "        d.dataset_id = dataset_id\n",
    "        dfs.update({dataset_id: d.to_xarray()})\n",
    "\n",
    "    except:\n",
    "        print(\"error\")"
   ]
  },
  {
   "cell_type": "code",
   "execution_count": 11,
   "id": "4273a62b-3fad-40f0-b3e5-3ac0275c7fef",
   "metadata": {
    "tags": []
   },
   "outputs": [
    {
     "name": "stderr",
     "output_type": "stream",
     "text": [
      "/var/folders/vv/blq095kj0xj9nz1v0ffdwfch0000gp/T/ipykernel_98178/996650117.py:3: MatplotlibDeprecationWarning: shading='flat' when X and Y have the same dimensions as C is deprecated since 3.3.  Either specify the corners of the quadrilaterals with X and Y, or pass shading='auto', 'nearest' or 'gouraud', or set rcParams['pcolor.shading'].  This will become an error two minor releases later.\n",
      "  ax.pcolormesh(pd.to_datetime(ds.time),ds.depth,ds.salinity,\n",
      "/var/folders/vv/blq095kj0xj9nz1v0ffdwfch0000gp/T/ipykernel_98178/996650117.py:3: MatplotlibDeprecationWarning: shading='flat' when X and Y have the same dimensions as C is deprecated since 3.3.  Either specify the corners of the quadrilaterals with X and Y, or pass shading='auto', 'nearest' or 'gouraud', or set rcParams['pcolor.shading'].  This will become an error two minor releases later.\n",
      "  ax.pcolormesh(pd.to_datetime(ds.time),ds.depth,ds.salinity,\n",
      "/var/folders/vv/blq095kj0xj9nz1v0ffdwfch0000gp/T/ipykernel_98178/996650117.py:3: MatplotlibDeprecationWarning: shading='flat' when X and Y have the same dimensions as C is deprecated since 3.3.  Either specify the corners of the quadrilaterals with X and Y, or pass shading='auto', 'nearest' or 'gouraud', or set rcParams['pcolor.shading'].  This will become an error two minor releases later.\n",
      "  ax.pcolormesh(pd.to_datetime(ds.time),ds.depth,ds.salinity,\n",
      "/var/folders/vv/blq095kj0xj9nz1v0ffdwfch0000gp/T/ipykernel_98178/996650117.py:3: MatplotlibDeprecationWarning: shading='flat' when X and Y have the same dimensions as C is deprecated since 3.3.  Either specify the corners of the quadrilaterals with X and Y, or pass shading='auto', 'nearest' or 'gouraud', or set rcParams['pcolor.shading'].  This will become an error two minor releases later.\n",
      "  ax.pcolormesh(pd.to_datetime(ds.time),ds.depth,ds.salinity,\n",
      "/var/folders/vv/blq095kj0xj9nz1v0ffdwfch0000gp/T/ipykernel_98178/996650117.py:3: MatplotlibDeprecationWarning: shading='flat' when X and Y have the same dimensions as C is deprecated since 3.3.  Either specify the corners of the quadrilaterals with X and Y, or pass shading='auto', 'nearest' or 'gouraud', or set rcParams['pcolor.shading'].  This will become an error two minor releases later.\n",
      "  ax.pcolormesh(pd.to_datetime(ds.time),ds.depth,ds.salinity,\n",
      "/var/folders/vv/blq095kj0xj9nz1v0ffdwfch0000gp/T/ipykernel_98178/996650117.py:3: MatplotlibDeprecationWarning: shading='flat' when X and Y have the same dimensions as C is deprecated since 3.3.  Either specify the corners of the quadrilaterals with X and Y, or pass shading='auto', 'nearest' or 'gouraud', or set rcParams['pcolor.shading'].  This will become an error two minor releases later.\n",
      "  ax.pcolormesh(pd.to_datetime(ds.time),ds.depth,ds.salinity,\n",
      "/var/folders/vv/blq095kj0xj9nz1v0ffdwfch0000gp/T/ipykernel_98178/996650117.py:3: MatplotlibDeprecationWarning: shading='flat' when X and Y have the same dimensions as C is deprecated since 3.3.  Either specify the corners of the quadrilaterals with X and Y, or pass shading='auto', 'nearest' or 'gouraud', or set rcParams['pcolor.shading'].  This will become an error two minor releases later.\n",
      "  ax.pcolormesh(pd.to_datetime(ds.time),ds.depth,ds.salinity,\n",
      "/var/folders/vv/blq095kj0xj9nz1v0ffdwfch0000gp/T/ipykernel_98178/996650117.py:3: MatplotlibDeprecationWarning: shading='flat' when X and Y have the same dimensions as C is deprecated since 3.3.  Either specify the corners of the quadrilaterals with X and Y, or pass shading='auto', 'nearest' or 'gouraud', or set rcParams['pcolor.shading'].  This will become an error two minor releases later.\n",
      "  ax.pcolormesh(pd.to_datetime(ds.time),ds.depth,ds.salinity,\n",
      "/var/folders/vv/blq095kj0xj9nz1v0ffdwfch0000gp/T/ipykernel_98178/996650117.py:3: MatplotlibDeprecationWarning: shading='flat' when X and Y have the same dimensions as C is deprecated since 3.3.  Either specify the corners of the quadrilaterals with X and Y, or pass shading='auto', 'nearest' or 'gouraud', or set rcParams['pcolor.shading'].  This will become an error two minor releases later.\n",
      "  ax.pcolormesh(pd.to_datetime(ds.time),ds.depth,ds.salinity,\n",
      "/var/folders/vv/blq095kj0xj9nz1v0ffdwfch0000gp/T/ipykernel_98178/996650117.py:3: MatplotlibDeprecationWarning: shading='flat' when X and Y have the same dimensions as C is deprecated since 3.3.  Either specify the corners of the quadrilaterals with X and Y, or pass shading='auto', 'nearest' or 'gouraud', or set rcParams['pcolor.shading'].  This will become an error two minor releases later.\n",
      "  ax.pcolormesh(pd.to_datetime(ds.time),ds.depth,ds.salinity,\n",
      "/var/folders/vv/blq095kj0xj9nz1v0ffdwfch0000gp/T/ipykernel_98178/996650117.py:3: MatplotlibDeprecationWarning: shading='flat' when X and Y have the same dimensions as C is deprecated since 3.3.  Either specify the corners of the quadrilaterals with X and Y, or pass shading='auto', 'nearest' or 'gouraud', or set rcParams['pcolor.shading'].  This will become an error two minor releases later.\n",
      "  ax.pcolormesh(pd.to_datetime(ds.time),ds.depth,ds.salinity,\n",
      "/var/folders/vv/blq095kj0xj9nz1v0ffdwfch0000gp/T/ipykernel_98178/996650117.py:3: MatplotlibDeprecationWarning: shading='flat' when X and Y have the same dimensions as C is deprecated since 3.3.  Either specify the corners of the quadrilaterals with X and Y, or pass shading='auto', 'nearest' or 'gouraud', or set rcParams['pcolor.shading'].  This will become an error two minor releases later.\n",
      "  ax.pcolormesh(pd.to_datetime(ds.time),ds.depth,ds.salinity,\n",
      "/var/folders/vv/blq095kj0xj9nz1v0ffdwfch0000gp/T/ipykernel_98178/996650117.py:3: MatplotlibDeprecationWarning: shading='flat' when X and Y have the same dimensions as C is deprecated since 3.3.  Either specify the corners of the quadrilaterals with X and Y, or pass shading='auto', 'nearest' or 'gouraud', or set rcParams['pcolor.shading'].  This will become an error two minor releases later.\n",
      "  ax.pcolormesh(pd.to_datetime(ds.time),ds.depth,ds.salinity,\n",
      "/var/folders/vv/blq095kj0xj9nz1v0ffdwfch0000gp/T/ipykernel_98178/996650117.py:3: MatplotlibDeprecationWarning: shading='flat' when X and Y have the same dimensions as C is deprecated since 3.3.  Either specify the corners of the quadrilaterals with X and Y, or pass shading='auto', 'nearest' or 'gouraud', or set rcParams['pcolor.shading'].  This will become an error two minor releases later.\n",
      "  ax.pcolormesh(pd.to_datetime(ds.time),ds.depth,ds.salinity,\n",
      "/var/folders/vv/blq095kj0xj9nz1v0ffdwfch0000gp/T/ipykernel_98178/996650117.py:3: MatplotlibDeprecationWarning: shading='flat' when X and Y have the same dimensions as C is deprecated since 3.3.  Either specify the corners of the quadrilaterals with X and Y, or pass shading='auto', 'nearest' or 'gouraud', or set rcParams['pcolor.shading'].  This will become an error two minor releases later.\n",
      "  ax.pcolormesh(pd.to_datetime(ds.time),ds.depth,ds.salinity,\n",
      "/var/folders/vv/blq095kj0xj9nz1v0ffdwfch0000gp/T/ipykernel_98178/996650117.py:3: MatplotlibDeprecationWarning: shading='flat' when X and Y have the same dimensions as C is deprecated since 3.3.  Either specify the corners of the quadrilaterals with X and Y, or pass shading='auto', 'nearest' or 'gouraud', or set rcParams['pcolor.shading'].  This will become an error two minor releases later.\n",
      "  ax.pcolormesh(pd.to_datetime(ds.time),ds.depth,ds.salinity,\n",
      "/var/folders/vv/blq095kj0xj9nz1v0ffdwfch0000gp/T/ipykernel_98178/996650117.py:3: MatplotlibDeprecationWarning: shading='flat' when X and Y have the same dimensions as C is deprecated since 3.3.  Either specify the corners of the quadrilaterals with X and Y, or pass shading='auto', 'nearest' or 'gouraud', or set rcParams['pcolor.shading'].  This will become an error two minor releases later.\n",
      "  ax.pcolormesh(pd.to_datetime(ds.time),ds.depth,ds.salinity,\n",
      "/var/folders/vv/blq095kj0xj9nz1v0ffdwfch0000gp/T/ipykernel_98178/996650117.py:3: MatplotlibDeprecationWarning: shading='flat' when X and Y have the same dimensions as C is deprecated since 3.3.  Either specify the corners of the quadrilaterals with X and Y, or pass shading='auto', 'nearest' or 'gouraud', or set rcParams['pcolor.shading'].  This will become an error two minor releases later.\n",
      "  ax.pcolormesh(pd.to_datetime(ds.time),ds.depth,ds.salinity,\n",
      "/var/folders/vv/blq095kj0xj9nz1v0ffdwfch0000gp/T/ipykernel_98178/996650117.py:3: MatplotlibDeprecationWarning: shading='flat' when X and Y have the same dimensions as C is deprecated since 3.3.  Either specify the corners of the quadrilaterals with X and Y, or pass shading='auto', 'nearest' or 'gouraud', or set rcParams['pcolor.shading'].  This will become an error two minor releases later.\n",
      "  ax.pcolormesh(pd.to_datetime(ds.time),ds.depth,ds.salinity,\n",
      "/var/folders/vv/blq095kj0xj9nz1v0ffdwfch0000gp/T/ipykernel_98178/996650117.py:3: MatplotlibDeprecationWarning: shading='flat' when X and Y have the same dimensions as C is deprecated since 3.3.  Either specify the corners of the quadrilaterals with X and Y, or pass shading='auto', 'nearest' or 'gouraud', or set rcParams['pcolor.shading'].  This will become an error two minor releases later.\n",
      "  ax.pcolormesh(pd.to_datetime(ds.time),ds.depth,ds.salinity,\n"
     ]
    },
    {
     "data": {
      "image/png": "[encoded data removed]",
      "text/plain": [
       "<Figure size 864x216 with 1 Axes>"
      ]
     },
     "metadata": {
      "needs_background": "light"
     },
     "output_type": "display_data"
    }
   ],
   "source": [
    "fig, ax = plt.subplots(figsize=(12,3))\n",
    "for dn,ds in dfs.items():\n",
    "    ax.pcolormesh(pd.to_datetime(ds.time),ds.depth,ds.salinity,\n",
    "                       vmin=31,vmax=32,\n",
    "                       cmap=cmocean.cm.haline)\n",
    "ax.invert_yaxis()"
   ]
  },
  {
   "cell_type": "code",
   "execution_count": 16,
   "id": "1eab3995-f6ba-421f-9477-d890e250bf17",
   "metadata": {},
   "outputs": [],
   "source": [
    "#get values greater than 50\n",
    "for dn,ds in dfs.items():\n",
    "    ds.where(ds.depth>50)[['temperature','salinity']].dropna(dim='depth',how='all').dropna(dim='time',how='all').to_dataframe().dropna(how='any').to_csv(f'{dn}.csv')"
   ]
  },
  {
   "cell_type": "code",
   "execution_count": null,
   "id": "f6807422-8915-44b3-a837-daac80af519a",
   "metadata": {},
   "outputs": [],
   "source": [
    "#now some where empty from final gridded data... so pull up preliminary data"
   ]
  },
  {
   "cell_type": "code",
   "execution_count": 3,
   "id": "6099c8bd-2411-4082-a7f4-8203d6914966",
   "metadata": {},
   "outputs": [
    {
     "name": "stdout",
     "output_type": "stream",
     "text": [
      "['datasets_Mooring_14bs5a_preliminary', 'datasets_Mooring_15bs5a_preliminary', 'datasets_Mooring_16bs5a_preliminary', 'datasets_Mooring_17bs5a_preliminary', 'datasets_Mooring_18bs5a_preliminary']\n"
     ]
    }
   ],
   "source": [
    "e = ERDDAP(server=server_url)\n",
    "df = pd.read_csv(e.get_search_url(response='csv', search_for='Mooring bs5 preliminary'))\n",
    "\n",
    "print(sorted(df['Dataset ID'].values))"
   ]
  },
  {
   "cell_type": "code",
   "execution_count": 4,
   "id": "e1b28c39-9177-4de9-b9d2-c7384a96fe54",
   "metadata": {
    "tags": []
   },
   "outputs": [
    {
     "name": "stdout",
     "output_type": "stream",
     "text": [
      "datasets_Mooring_14bs5a_preliminary\n",
      "datasets_Mooring_15bs5a_preliminary\n",
      "datasets_Mooring_16bs5a_preliminary\n",
      "datasets_Mooring_17bs5a_preliminary\n",
      "datasets_Mooring_18bs5a_preliminary\n"
     ]
    }
   ],
   "source": [
    "from requests.exceptions import HTTPError\n",
    "\n",
    "dfs = {}\n",
    "for dataset_id in sorted(df['Dataset ID'].values):\n",
    "    print(dataset_id)\n",
    "    try:\n",
    "        d = ERDDAP(server=server_url,\n",
    "            protocol='tabledap',\n",
    "            response='csv',\n",
    "        )\n",
    "        d.dataset_id = dataset_id\n",
    "        df_m = d.to_pandas(\n",
    "                    index_col='time (UTC)',\n",
    "                    parse_dates=True,\n",
    "                    skiprows=(1,)  # units information can be dropped.\n",
    "                    )\n",
    "        df_m.sort_index(inplace=True)\n",
    "        df_m.columns = [x[1].split()[0] for x in enumerate(df_m.columns)]\n",
    "\n",
    "        dfs.update({dataset_id:df_m})\n",
    "    except:\n",
    "        print(\"error\")"
   ]
  },
  {
   "cell_type": "code",
   "execution_count": 6,
   "id": "5c04f3f2-b51b-4dda-ba85-a71eeaeb573b",
   "metadata": {},
   "outputs": [],
   "source": [
    "for dn,ds in dfs.items():\n",
    "    ds[ds.depth > 50][['depth','salinity','temperature']].dropna().to_csv(f'{dn}.csv')"
   ]
  },
  {
   "cell_type": "code",
   "execution_count": null,
   "id": "445f101c-d20e-4d0f-a146-1143c3b60d03",
   "metadata": {},
   "outputs": [],
   "source": []
  }
 ],
 "metadata": {
  "kernelspec": {
   "display_name": "Python [conda env:py38] *",
   "language": "python",
   "name": "conda-env-py38-py"
  },
  "language_info": {
   "codemirror_mode": {
    "name": "ipython",
    "version": 3
   },
   "file_extension": ".py",
   "mimetype": "text/x-python",
   "name": "python",
   "nbconvert_exporter": "python",
   "pygments_lexer": "ipython3",
   "version": "3.8.8"
  }
 },
 "nbformat": 4,
 "nbformat_minor": 5
}
