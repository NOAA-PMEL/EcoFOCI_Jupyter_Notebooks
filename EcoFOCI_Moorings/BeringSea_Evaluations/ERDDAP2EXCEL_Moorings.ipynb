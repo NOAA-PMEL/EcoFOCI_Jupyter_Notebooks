{
 "cells": [
  {
   "cell_type": "markdown",
   "id": "1d5b4e02-4fb6-491b-94a9-3fcf684eaaae",
   "metadata": {},
   "source": [
    "# Mooring Export -> Excel (each column/page is an instrument)"
   ]
  },
  {
   "cell_type": "code",
   "execution_count": 115,
   "id": "cf5735df-78e3-48dd-ace4-f7125e7c1e95",
   "metadata": {},
   "outputs": [],
   "source": [
    "from erddapy import ERDDAP\n",
    "import pandas as pd\n",
    "import numpy as np\n",
    "\n",
    "server_url = 'http://ecofoci-field.pmel.noaa.gov:8080/erddap'\n",
    "\n",
    "d = ERDDAP(server=server_url,\n",
    "           protocol='tabledap',\n",
    "           response='csv',\n",
    "          )\n",
    "\n",
    "d.dataset_id='datasets_Mooring_19bsm2a_preliminary'\n",
    "\n",
    "d.variables =  [\n",
    " 'timeseries_id',\n",
    " 'temperature',\n",
    " 'depth',\n",
    " 'time',\n",
    " # 'Instrument_Identifier'\n",
    "]\n"
   ]
  },
  {
   "cell_type": "code",
   "execution_count": 116,
   "id": "e67401a9-4fc7-40f4-b4eb-29f77f192aba",
   "metadata": {},
   "outputs": [],
   "source": [
    "df = d.to_pandas(\n",
    "    index_col='time (UTC)',\n",
    "    parse_dates=True,\n",
    ").dropna()\n",
    "\n",
    "df.columns = [x[1].split()[0] for x in enumerate(df.columns)]\n"
   ]
  },
  {
   "cell_type": "code",
   "execution_count": 117,
   "id": "610ca984-bf7b-40e2-a95b-8659eaa02b6a",
   "metadata": {},
   "outputs": [
    {
     "data": {
      "text/html": [
       "<div>\n",
       "<style scoped>\n",
       "    .dataframe tbody tr th:only-of-type {\n",
       "        vertical-align: middle;\n",
       "    }\n",
       "\n",
       "    .dataframe tbody tr th {\n",
       "        vertical-align: top;\n",
       "    }\n",
       "\n",
       "    .dataframe thead th {\n",
       "        text-align: right;\n",
       "    }\n",
       "</style>\n",
       "<table border=\"1\" class=\"dataframe\">\n",
       "  <thead>\n",
       "    <tr style=\"text-align: right;\">\n",
       "      <th></th>\n",
       "      <th>timeseries_id</th>\n",
       "      <th>temperature</th>\n",
       "      <th>depth</th>\n",
       "    </tr>\n",
       "    <tr>\n",
       "      <th>time (UTC)</th>\n",
       "      <th></th>\n",
       "      <th></th>\n",
       "      <th></th>\n",
       "    </tr>\n",
       "  </thead>\n",
       "  <tbody>\n",
       "    <tr>\n",
       "      <th>2018-03-01 22:47:33+00:00</th>\n",
       "      <td>19bsm2a_sc_0006m.unqcd</td>\n",
       "      <td>16.5362</td>\n",
       "      <td>6.0</td>\n",
       "    </tr>\n",
       "    <tr>\n",
       "      <th>2018-03-31 00:00:04+00:00</th>\n",
       "      <td>19bsm2a_sc_0006m.unqcd</td>\n",
       "      <td>13.5233</td>\n",
       "      <td>6.0</td>\n",
       "    </tr>\n",
       "    <tr>\n",
       "      <th>2018-03-31 01:00:04+00:00</th>\n",
       "      <td>19bsm2a_sc_0006m.unqcd</td>\n",
       "      <td>13.7307</td>\n",
       "      <td>6.0</td>\n",
       "    </tr>\n",
       "    <tr>\n",
       "      <th>2018-03-31 02:00:04+00:00</th>\n",
       "      <td>19bsm2a_sc_0006m.unqcd</td>\n",
       "      <td>13.8516</td>\n",
       "      <td>6.0</td>\n",
       "    </tr>\n",
       "    <tr>\n",
       "      <th>2018-03-31 03:00:04+00:00</th>\n",
       "      <td>19bsm2a_sc_0006m.unqcd</td>\n",
       "      <td>13.8603</td>\n",
       "      <td>6.0</td>\n",
       "    </tr>\n",
       "    <tr>\n",
       "      <th>...</th>\n",
       "      <td>...</td>\n",
       "      <td>...</td>\n",
       "      <td>...</td>\n",
       "    </tr>\n",
       "    <tr>\n",
       "      <th>2019-09-27 16:01:18+00:00</th>\n",
       "      <td>19bsm2a_s37_0060m.unqcd</td>\n",
       "      <td>8.7603</td>\n",
       "      <td>60.0</td>\n",
       "    </tr>\n",
       "    <tr>\n",
       "      <th>2019-09-27 17:01:18+00:00</th>\n",
       "      <td>19bsm2a_s37_0060m.unqcd</td>\n",
       "      <td>8.2483</td>\n",
       "      <td>60.0</td>\n",
       "    </tr>\n",
       "    <tr>\n",
       "      <th>2019-09-27 18:01:18+00:00</th>\n",
       "      <td>19bsm2a_s37_0060m.unqcd</td>\n",
       "      <td>8.6847</td>\n",
       "      <td>60.0</td>\n",
       "    </tr>\n",
       "    <tr>\n",
       "      <th>2019-09-27 19:01:18+00:00</th>\n",
       "      <td>19bsm2a_s37_0060m.unqcd</td>\n",
       "      <td>11.0034</td>\n",
       "      <td>60.0</td>\n",
       "    </tr>\n",
       "    <tr>\n",
       "      <th>2019-09-27 20:01:18+00:00</th>\n",
       "      <td>19bsm2a_s37_0060m.unqcd</td>\n",
       "      <td>18.0782</td>\n",
       "      <td>60.0</td>\n",
       "    </tr>\n",
       "  </tbody>\n",
       "</table>\n",
       "<p>813517 rows × 3 columns</p>\n",
       "</div>"
      ],
      "text/plain": [
       "                                     timeseries_id  temperature  depth\n",
       "time (UTC)                                                            \n",
       "2018-03-01 22:47:33+00:00   19bsm2a_sc_0006m.unqcd      16.5362    6.0\n",
       "2018-03-31 00:00:04+00:00   19bsm2a_sc_0006m.unqcd      13.5233    6.0\n",
       "2018-03-31 01:00:04+00:00   19bsm2a_sc_0006m.unqcd      13.7307    6.0\n",
       "2018-03-31 02:00:04+00:00   19bsm2a_sc_0006m.unqcd      13.8516    6.0\n",
       "2018-03-31 03:00:04+00:00   19bsm2a_sc_0006m.unqcd      13.8603    6.0\n",
       "...                                            ...          ...    ...\n",
       "2019-09-27 16:01:18+00:00  19bsm2a_s37_0060m.unqcd       8.7603   60.0\n",
       "2019-09-27 17:01:18+00:00  19bsm2a_s37_0060m.unqcd       8.2483   60.0\n",
       "2019-09-27 18:01:18+00:00  19bsm2a_s37_0060m.unqcd       8.6847   60.0\n",
       "2019-09-27 19:01:18+00:00  19bsm2a_s37_0060m.unqcd      11.0034   60.0\n",
       "2019-09-27 20:01:18+00:00  19bsm2a_s37_0060m.unqcd      18.0782   60.0\n",
       "\n",
       "[813517 rows x 3 columns]"
      ]
     },
     "execution_count": 117,
     "metadata": {},
     "output_type": "execute_result"
    }
   ],
   "source": [
    "df"
   ]
  },
  {
   "cell_type": "code",
   "execution_count": 14,
   "id": "90d199db-9bf7-4cd4-b9b7-a7f5d65880a6",
   "metadata": {
    "collapsed": true,
    "jupyter": {
     "outputs_hidden": true
    },
    "tags": []
   },
   "outputs": [
    {
     "ename": "KeyError",
     "evalue": "'profile_id'",
     "output_type": "error",
     "traceback": [
      "\u001b[0;31m---------------------------------------------------------------------------\u001b[0m",
      "\u001b[0;31mKeyError\u001b[0m                                  Traceback (most recent call last)",
      "\u001b[0;32m/var/folders/vv/blq095kj0xj9nz1v0ffdwfch0000gp/T/ipykernel_2512/773633213.py\u001b[0m in \u001b[0;36m<module>\u001b[0;34m\u001b[0m\n\u001b[0;32m----> 1\u001b[0;31m \u001b[0mdf\u001b[0m\u001b[0;34m[\u001b[0m\u001b[0;34m'samplenum'\u001b[0m\u001b[0;34m]\u001b[0m \u001b[0;34m=\u001b[0m \u001b[0mdf\u001b[0m\u001b[0;34m.\u001b[0m\u001b[0mgroupby\u001b[0m\u001b[0;34m(\u001b[0m\u001b[0;34m'profile_id'\u001b[0m\u001b[0;34m)\u001b[0m\u001b[0;34m.\u001b[0m\u001b[0mcumcount\u001b[0m\u001b[0;34m(\u001b[0m\u001b[0;34m)\u001b[0m\u001b[0;34m\u001b[0m\u001b[0;34m\u001b[0m\u001b[0m\n\u001b[0m\u001b[1;32m      2\u001b[0m \u001b[0;34m\u001b[0m\u001b[0m\n\u001b[1;32m      3\u001b[0m \u001b[0mdft\u001b[0m \u001b[0;34m=\u001b[0m \u001b[0mdf\u001b[0m\u001b[0;34m.\u001b[0m\u001b[0mpivot\u001b[0m\u001b[0;34m(\u001b[0m\u001b[0mindex\u001b[0m\u001b[0;34m=\u001b[0m\u001b[0;34m'samplenum'\u001b[0m\u001b[0;34m,\u001b[0m\u001b[0mcolumns\u001b[0m\u001b[0;34m=\u001b[0m\u001b[0;34m'profile_id'\u001b[0m\u001b[0;34m,\u001b[0m \u001b[0mvalues\u001b[0m\u001b[0;34m=\u001b[0m\u001b[0;34m'Salinity (PSU)'\u001b[0m\u001b[0;34m)\u001b[0m\u001b[0;34m\u001b[0m\u001b[0;34m\u001b[0m\u001b[0m\n\u001b[1;32m      4\u001b[0m \u001b[0;34m\u001b[0m\u001b[0m\n\u001b[1;32m      5\u001b[0m \u001b[0mdf\u001b[0m\u001b[0;34m.\u001b[0m\u001b[0mreset_index\u001b[0m\u001b[0;34m(\u001b[0m\u001b[0;34m)\u001b[0m\u001b[0;34m\u001b[0m\u001b[0;34m\u001b[0m\u001b[0m\n",
      "\u001b[0;32m~/miniconda3/envs/py38/lib/python3.8/site-packages/pandas/core/frame.py\u001b[0m in \u001b[0;36mgroupby\u001b[0;34m(self, by, axis, level, as_index, sort, group_keys, squeeze, observed, dropna)\u001b[0m\n\u001b[1;32m   7629\u001b[0m         \u001b[0;31m# error: Argument \"squeeze\" to \"DataFrameGroupBy\" has incompatible type\u001b[0m\u001b[0;34m\u001b[0m\u001b[0;34m\u001b[0m\u001b[0;34m\u001b[0m\u001b[0m\n\u001b[1;32m   7630\u001b[0m         \u001b[0;31m# \"Union[bool, NoDefault]\"; expected \"bool\"\u001b[0m\u001b[0;34m\u001b[0m\u001b[0;34m\u001b[0m\u001b[0;34m\u001b[0m\u001b[0m\n\u001b[0;32m-> 7631\u001b[0;31m         return DataFrameGroupBy(\n\u001b[0m\u001b[1;32m   7632\u001b[0m             \u001b[0mobj\u001b[0m\u001b[0;34m=\u001b[0m\u001b[0mself\u001b[0m\u001b[0;34m,\u001b[0m\u001b[0;34m\u001b[0m\u001b[0;34m\u001b[0m\u001b[0m\n\u001b[1;32m   7633\u001b[0m             \u001b[0mkeys\u001b[0m\u001b[0;34m=\u001b[0m\u001b[0mby\u001b[0m\u001b[0;34m,\u001b[0m\u001b[0;34m\u001b[0m\u001b[0;34m\u001b[0m\u001b[0m\n",
      "\u001b[0;32m~/miniconda3/envs/py38/lib/python3.8/site-packages/pandas/core/groupby/groupby.py\u001b[0m in \u001b[0;36m__init__\u001b[0;34m(self, obj, keys, axis, level, grouper, exclusions, selection, as_index, sort, group_keys, squeeze, observed, mutated, dropna)\u001b[0m\n\u001b[1;32m    887\u001b[0m             \u001b[0;32mfrom\u001b[0m \u001b[0mpandas\u001b[0m\u001b[0;34m.\u001b[0m\u001b[0mcore\u001b[0m\u001b[0;34m.\u001b[0m\u001b[0mgroupby\u001b[0m\u001b[0;34m.\u001b[0m\u001b[0mgrouper\u001b[0m \u001b[0;32mimport\u001b[0m \u001b[0mget_grouper\u001b[0m\u001b[0;34m\u001b[0m\u001b[0;34m\u001b[0m\u001b[0m\n\u001b[1;32m    888\u001b[0m \u001b[0;34m\u001b[0m\u001b[0m\n\u001b[0;32m--> 889\u001b[0;31m             grouper, exclusions, obj = get_grouper(\n\u001b[0m\u001b[1;32m    890\u001b[0m                 \u001b[0mobj\u001b[0m\u001b[0;34m,\u001b[0m\u001b[0;34m\u001b[0m\u001b[0;34m\u001b[0m\u001b[0m\n\u001b[1;32m    891\u001b[0m                 \u001b[0mkeys\u001b[0m\u001b[0;34m,\u001b[0m\u001b[0;34m\u001b[0m\u001b[0;34m\u001b[0m\u001b[0m\n",
      "\u001b[0;32m~/miniconda3/envs/py38/lib/python3.8/site-packages/pandas/core/groupby/grouper.py\u001b[0m in \u001b[0;36mget_grouper\u001b[0;34m(obj, key, axis, level, sort, observed, mutated, validate, dropna)\u001b[0m\n\u001b[1;32m    860\u001b[0m                 \u001b[0min_axis\u001b[0m\u001b[0;34m,\u001b[0m \u001b[0mlevel\u001b[0m\u001b[0;34m,\u001b[0m \u001b[0mgpr\u001b[0m \u001b[0;34m=\u001b[0m \u001b[0;32mFalse\u001b[0m\u001b[0;34m,\u001b[0m \u001b[0mgpr\u001b[0m\u001b[0;34m,\u001b[0m \u001b[0;32mNone\u001b[0m\u001b[0;34m\u001b[0m\u001b[0;34m\u001b[0m\u001b[0m\n\u001b[1;32m    861\u001b[0m             \u001b[0;32melse\u001b[0m\u001b[0;34m:\u001b[0m\u001b[0;34m\u001b[0m\u001b[0;34m\u001b[0m\u001b[0m\n\u001b[0;32m--> 862\u001b[0;31m                 \u001b[0;32mraise\u001b[0m \u001b[0mKeyError\u001b[0m\u001b[0;34m(\u001b[0m\u001b[0mgpr\u001b[0m\u001b[0;34m)\u001b[0m\u001b[0;34m\u001b[0m\u001b[0;34m\u001b[0m\u001b[0m\n\u001b[0m\u001b[1;32m    863\u001b[0m         \u001b[0;32melif\u001b[0m \u001b[0misinstance\u001b[0m\u001b[0;34m(\u001b[0m\u001b[0mgpr\u001b[0m\u001b[0;34m,\u001b[0m \u001b[0mGrouper\u001b[0m\u001b[0;34m)\u001b[0m \u001b[0;32mand\u001b[0m \u001b[0mgpr\u001b[0m\u001b[0;34m.\u001b[0m\u001b[0mkey\u001b[0m \u001b[0;32mis\u001b[0m \u001b[0;32mnot\u001b[0m \u001b[0;32mNone\u001b[0m\u001b[0;34m:\u001b[0m\u001b[0;34m\u001b[0m\u001b[0;34m\u001b[0m\u001b[0m\n\u001b[1;32m    864\u001b[0m             \u001b[0;31m# Add key to exclusions\u001b[0m\u001b[0;34m\u001b[0m\u001b[0;34m\u001b[0m\u001b[0;34m\u001b[0m\u001b[0m\n",
      "\u001b[0;31mKeyError\u001b[0m: 'profile_id'"
     ]
    }
   ],
   "source": [
    "### for prawler export\n",
    "df['samplenum'] = df.groupby('profile_id').cumcount()\n",
    "\n",
    "dft = df.pivot(index='samplenum',columns='profile_id', values='Salinity (PSU)')\n",
    "\n",
    "df.reset_index()\n",
    "\n",
    "import openpyxl\n",
    "with pd.ExcelWriter('19bs2c.xlsx') as writer:\n",
    "    df.tz_localize(None).reset_index().pivot(index='samplenum',columns='profile_id', values='time (UTC)').to_excel(writer, sheet_name='Time')\n",
    "    df.pivot(index='samplenum',columns='profile_id', values='Salinity (PSU)').to_excel(writer, sheet_name='Salinity')\n",
    "    df.pivot(index='samplenum',columns='profile_id', values='depth (m)').to_excel(writer, sheet_name='depth')\n"
   ]
  },
  {
   "cell_type": "code",
   "execution_count": 97,
   "id": "6e5f7bfd-3019-4073-b224-e095406de2dc",
   "metadata": {},
   "outputs": [],
   "source": [
    "#all depths\n",
    "import openpyxl\n",
    "with pd.ExcelWriter('19bsm2a.xlsx') as writer:\n",
    "    for instrument,dfg in df.groupby('timeseries_id'):\n",
    "        dfg.tz_localize(None).to_excel(writer, sheet_name=instrument)"
   ]
  },
  {
   "cell_type": "markdown",
   "id": "752cb97d-dcd9-48db-9e9c-aeda818305da",
   "metadata": {},
   "source": [
    "### Occasionally a filtered dataset is more appropriate so run the filter then export"
   ]
  },
  {
   "cell_type": "code",
   "execution_count": 118,
   "id": "0d382e70-0120-4f2e-9fb1-e3574c87006f",
   "metadata": {},
   "outputs": [],
   "source": [
    "import EcoFOCIpy.math.lanzcos as lanzcos #<- instrument specific"
   ]
  },
  {
   "cell_type": "code",
   "execution_count": 119,
   "id": "1f4affdb-4d7a-464b-a5f9-a06aafb75c93",
   "metadata": {},
   "outputs": [],
   "source": [
    "dfm= df.resample('1H').mean()\n",
    "dfm['filt35hr'] = lanzcos.lanzcos(dfm['temperature'].values,1,35) + df['temperature'].mean()"
   ]
  },
  {
   "cell_type": "code",
   "execution_count": 120,
   "id": "3d36fbdb-d44c-4491-8d61-d7e64f20bafc",
   "metadata": {},
   "outputs": [
    {
     "data": {
      "text/plain": [
       "<AxesSubplot:xlabel='time (UTC)'>"
      ]
     },
     "execution_count": 120,
     "metadata": {},
     "output_type": "execute_result"
    },
    {
     "data": {
      "image/png": "[encoded data removed]",
      "text/plain": [
       "<Figure size 432x288 with 1 Axes>"
      ]
     },
     "metadata": {
      "needs_background": "light"
     },
     "output_type": "display_data"
    }
   ],
   "source": [
    "dfm[['temperature','filt35hr']].plot()\n",
    "dfm['filt35hr'][(dfm.index.hour == 0) | (dfm.index.hour == 6) | (dfm.index.hour == 12) | (dfm.index.hour == 18)].plot(marker='.',markersize=.1)"
   ]
  },
  {
   "cell_type": "code",
   "execution_count": 111,
   "id": "8c67cf07-ab09-49c0-a4f8-3fb8a6d984c7",
   "metadata": {},
   "outputs": [],
   "source": [
    "import openpyxl\n",
    "with pd.ExcelWriter('19bsm2a_f35.xlsx') as writer:\n",
    "    for instrument,dfg in df.groupby('timeseries_id'):\n",
    "        dfm= dfg.resample('1H').mean()\n",
    "        dfm['filt35hr'] = lanzcos.lanzcos(dfm['temperature'].values,1,35) + df['temperature'].mean()\n",
    "        dfm['filt35hr'][(dfm.index.hour == 0) | (dfm.index.hour == 6) | (dfm.index.hour == 12) | (dfm.index.hour == 18)].tz_localize(None).to_excel(writer, sheet_name=instrument)\n"
   ]
  },
  {
   "cell_type": "code",
   "execution_count": 121,
   "id": "643f978a-1a6c-46a6-900d-4f88c34e6825",
   "metadata": {},
   "outputs": [],
   "source": [
    "import openpyxl\n",
    "with pd.ExcelWriter('19bsm2a_f35_3hr.xlsx') as writer:\n",
    "    for instrument,dfg in df.groupby('timeseries_id'):\n",
    "        if instrument in ['19bsm2a_sc_0006m']:\n",
    "            dfm= dfg.resample('1H').mean().interpolate()\n",
    "            dfm['filt35hr'] = lanzcos.lanzcos(dfm['temperature'].values,1,35) + df['temperature'].mean()\n",
    "            dfm['filt35hr'][(dfm.index.hour == 0) | (dfm.index.hour == 6) | (dfm.index.hour == 12) | (dfm.index.hour == 18)].tz_localize(None).to_excel(writer, sheet_name=instrument)\n"
   ]
  },
  {
   "cell_type": "code",
   "execution_count": 122,
   "id": "0cd1e394-7055-4542-9c33-a8616faf79a4",
   "metadata": {},
   "outputs": [
    {
     "name": "stdout",
     "output_type": "stream",
     "text": [
      "19bsm2a_s37_0012m.unqcd\n",
      "19bsm2a_s37_0027m.unqcd\n",
      "19bsm2a_s37_0050m.unqcd\n",
      "19bsm2a_s37_0060m.unqcd\n",
      "19bsm2a_s39_0015m.unqcd\n",
      "19bsm2a_s39_0018m.unqcd\n",
      "19bsm2a_s39_0021m.unqcd\n",
      "19bsm2a_s39_0035m.unqcd\n",
      "19bsm2a_s39_0039m.unqcd\n",
      "19bsm2a_s56_0009m.unqcd\n",
      "19bsm2a_s56_0047m.unqcd\n",
      "19bsm2a_s56_0055m.unqcd\n",
      "19bsm2a_sc_0006m.unqcd\n",
      "19bsm2a_sc_0044m.unqcd\n"
     ]
    }
   ],
   "source": [
    "for instrument,dfg in df.groupby('timeseries_id'):\n",
    "    print(instrument)"
   ]
  },
  {
   "cell_type": "code",
   "execution_count": null,
   "id": "1adb0a8f-4c6a-4128-89f6-faee0bdb0dff",
   "metadata": {},
   "outputs": [],
   "source": []
  }
 ],
 "metadata": {
  "kernelspec": {
   "display_name": "Python [conda env:py38] *",
   "language": "python",
   "name": "conda-env-py38-py"
  },
  "language_info": {
   "codemirror_mode": {
    "name": "ipython",
    "version": 3
   },
   "file_extension": ".py",
   "mimetype": "text/x-python",
   "name": "python",
   "nbconvert_exporter": "python",
   "pygments_lexer": "ipython3",
   "version": "3.8.12"
  }
 },
 "nbformat": 4,
 "nbformat_minor": 5
}
