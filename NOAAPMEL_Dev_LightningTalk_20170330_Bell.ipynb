{
 "cells": [
  {
   "cell_type": "markdown",
   "metadata": {
    "deletable": true,
    "editable": true
   },
   "source": [
    "# Developers Lightning Talk 2017-03-30\n",
    "\n",
    "### Shaun Bell (EcoFOCI): \n",
    "- email: <shaun.bell@noaa.gov>   \n",
    "- github: @shaunwbell)\n",
    "    "
   ]
  },
  {
   "cell_type": "markdown",
   "metadata": {
    "deletable": true,
    "editable": true
   },
   "source": [
    "## DataScience Swiss Army Knife\n",
    "\n",
    "I do a lot of data exploration and one-of-a-kind analysis for scientific exploration, quality control, and publication.  This involves linking the raw data that EcoFOCI acquires from field operations, to data from other resources and making them consistently available to the internal/external community.  \n",
    "\n",
    "I share directed results, pilot data analysis routines, and develop qc operating procedures for our suite of oceanographic instrumentation.  Ultimately, I do a lot of glueing together of packages/routines/programs/data to provide whatever I can for the PMEL/EcoFOCI/FOCI community.\n",
    "\n",
    "**Tech Buzzword lately is \"Data Driven Stories\"**"
   ]
  },
  {
   "cell_type": "markdown",
   "metadata": {
    "deletable": true,
    "editable": true
   },
   "source": [
    "## Existing Challenge\n",
    "\n",
    "Data science, data analysis, plotting and synthesis of data is a rapidly expanding field.  Its easy to get settled in a workflow that is optimum for a while (with a large amount of invested time) and then not evolve to new workflows due to the spinup time required.  \n",
    "\n",
    "Questions I hear often:\n",
    "- I know Python is popular but I don't know where to get started?\n",
    "- Is Python as good as {familiar utility} for doing {specific task}?\n",
    "- How did you learn to do this?\n",
    "- Can you plot or take a look at this data and let me know what you think?\n",
    "\n",
    "## Purpose for talk\n",
    "\n",
    "I want to introduce my skills to the PMEL community and provide the framework from where I start when it comes to analysis requests.  I dabble in a wide variety of computer services / development tools and want to learn what other tools and workflows are being developed for data/scientific analysis.\n",
    "\n",
    "I'm not limited to mucking about in Python (I play in R, javascript, C/Fortran, html, mysql, etc)... there are as many tools avaible as there problems to solve and this is just one instance of a currently popular and community supported software/data/analysis stack."
   ]
  },
  {
   "cell_type": "markdown",
   "metadata": {
    "deletable": true,
    "editable": true
   },
   "source": [
    "## A Basic Python Framework/Installation for data science/exploration in EcoFOCI\n",
    "\n",
    "### Python Environment/Distribution\n",
    "\n",
    "\n",
    "The Anaconda Python Scientific Package found here [Continuum Anaconda Download](https://store.continuum.io/cshop/anaconda/) which comes preloaded with most of the scientific and data oriented python utilities that one needs to get started.  Its strength is also a simple and straightforward integrated package management utilitity (Conda) which can manage libraries and dependancies as well as python programs.   \n",
    "\n",
    "It is available for Windows, Mac, and OSX, can be installed locally (can be entirely self managed as admin rights are not necessary) and is available for python 2 and/or python 3 (and both flavors can be installed simultaneously on the same system without conflicts)\n",
    "\n",
    "Anaconda Python Distribution is designed to contain all the fundemental packages for data exploration.\n",
    "Miniconda Python Distribution is designed to only have Python and the Conda package manager.\n",
    "\n",
    "Best of all... keeping installations across multiple systems (work laptop/ work desktop) is streamlined without the need to link and compile libraries since its all managed by Conda."
   ]
  },
  {
   "cell_type": "markdown",
   "metadata": {
    "deletable": true,
    "editable": true
   },
   "source": [
    "#### Expand Conda's knowledge of updates by including other \"channels\"\n",
    "\n",
    "Continuum vets the packages that they include in their update channel... consider it a \"stable release\" channel.  However, many useful packages are maintained by the community and are stable or stable enough that you want to use them Continuum just doesn't have the time/manpower to vet these packages.\n",
    "\n",
    "The [conda-forge channel](https://conda-forge.github.io/), a community managed repository hosted and built through git/github is the first additional channel I would link to (there are others that are worthwhile too like the IOOS - Integrated Ocean Observing System channel... which is mostly replicated in conda-forge )\n",
    "\n",
    "From the command line: update conda settings as follows:   \n",
    "(This makes the conda-forge your primary channel)\n",
    "\n",
    "    `conda config --add channels conda-forge`\n",
    "\n",
    "If you just wish to install a package from conda-forge without setting the channel (leaving the channel set to continuum analytics base channel as the default) then just use the -c flag:\n",
    "\n",
    "    `conda install netcdf4 -c conda-forge` \n",
    "    \n",
    "##### Looking for a newer package with feature updates\n",
    "\n",
    "    `conda update netcdf4` \n",
    "\n",
    "##### Looking to keep all your packages at the most recent release\n",
    "\n",
    "    `conda update --all`\n",
    "    \n",
    "##### Additional Features\n",
    "\n",
    "Check out the conda documentation.  You can \"pin\" packages so that they never update.  You can easily establish multiple unique Python environments for testing, and you can build your own recipes/packages for distribution."
   ]
  },
  {
   "cell_type": "markdown",
   "metadata": {
    "deletable": true,
    "editable": true
   },
   "source": [
    "### Installed by default in Anaconda Python (common components of the PyData framework)\n",
    "- numpy, scipy #robust numerical/math packages\n",
    "- pandas       #data analysis and statistics package \n",
    "- matplotlib, basemap, cartopy #scientific plotting and geospatial graphics\n",
    "- Spyder       #Visual Interactive Display Environment (IDE) similar to Matlab\n",
    "- Jupyter Notebook #program used to create this talk\n",
    "\n",
    "### Additional Useful Python Packages\n",
    "- `conda install xarray netcdf4`  #reading/writing/viewing multidimensional scientific data  \n",
    "- `conda install gsw seawater`    #Oceanographic Thermodynamics Conversion Tools (TEOS-10 and EOS-80)\n",
    "- `conda install pip`             #Additional package repository installer for code not on conda-forge (Pure Python... historically no support for required library dependencies)\n",
    "- `conda install cmocean`         #Colormaps designed for oceanographic parameters [cmocean website](http://matplotlib.org/cmocean/)"
   ]
  },
  {
   "cell_type": "markdown",
   "metadata": {
    "deletable": true,
    "editable": true
   },
   "source": [
    "**That's it!!** You're ready to start using python for scientific/data analysis\n",
    "\n",
    "From your command line (and potentially gui shortcuts) you can run:\n",
    "- python scripts *.py   \n",
    "        `python myprogram.py`\n",
    "- fire up the Spyder IDE    \n",
    "        `spyder`\n",
    "- fire up the Jupyter/Ipython Notebook server    \n",
    "        `jupyter notebook`\n",
    "\n"
   ]
  },
  {
   "cell_type": "markdown",
   "metadata": {
    "deletable": true,
    "editable": true
   },
   "source": [
    "### [Example using NOAA HRES OI V2 SST Data (Netcdf) ](https://github.com/NOAA-PMEL/EcoFOCI_Jupyter_Notebooks/blob/master/AlaskaRegion_NOAA_HRESV2OISST_DailySummary.ipynb)"
   ]
  },
  {
   "cell_type": "markdown",
   "metadata": {
    "collapsed": true,
    "deletable": true,
    "editable": true
   },
   "source": [
    "## Further Discussion, Talks and Links\n",
    "\n",
    "Is there any Desire for...\n",
    "- Workshop or Tutorial Session for:\n",
    "    Scientific Data Analysis or Visualization in Python\n",
    "- Using Jupyter/Ipython Notebooks for sharing work/code/results and leveraging github for more than just code\n",
    "\n",
    "### Further Reading\n",
    "- [conda myths](https://jakevdp.github.io/blog/2016/08/25/conda-myths-and-misconceptions/) A blog post on what Conda is and isnt.\n",
    "- [PyData](https://pydata.org/index.html) Information about the Python Open Science Data Stack\n",
    "- [Jupyter Notebook](https://jupyter.readthedocs.io/en/latest/index.html) Originally IpythonNotebook - Creates an environment to test code, view results, and present commentary in a clean format.\n",
    "- [Github+Jupyter Notebook](https://github.com/blog/1995-github-jupyter-notebooks-3) Using GitHub with Jupyter Noteboks\n",
    "- [Markdown Github Cheat Sheet](https://github.com/adam-p/markdown-here/wiki/Markdown-Cheatsheet), [Markdown](https://daringfireball.net/projects/markdown/syntax) Simple language syntax used in creating the text of Jupyter Notebook documents\n",
    "\n",
    "### Helpful links for EarthScience Analysis\n",
    "- [Tour of Python Geoscience Stack](http://nbviewer.jupyter.org/format/slides/github/ocefpaf/SciPyLA_2016_tutorial/blob/master/index.ipynb#/)\n",
    "- [python4oceanographers](https://ocefpaf.github.io/python4oceanographers/) Blog of relevant examples for oceanography and python utilities\n",
    "- [Sea-Py](http://pyoceans.github.io/sea-py/) community organized collection of python tools for the oceanographic community\n",
    "- [python4geosciences](https://github.com/kthyng/python4geosciences) Class material from Texas A&M"
   ]
  },
  {
   "cell_type": "code",
   "execution_count": null,
   "metadata": {
    "collapsed": true,
    "deletable": true,
    "editable": true
   },
   "outputs": [],
   "source": []
  }
 ],
 "metadata": {
  "kernelspec": {
   "display_name": "Python 2",
   "language": "python",
   "name": "python2"
  },
  "language_info": {
   "codemirror_mode": {
    "name": "ipython",
    "version": 2
   },
   "file_extension": ".py",
   "mimetype": "text/x-python",
   "name": "python",
   "nbconvert_exporter": "python",
   "pygments_lexer": "ipython2",
   "version": "2.7.13"
  }
 },
 "nbformat": 4,
 "nbformat_minor": 2
}
