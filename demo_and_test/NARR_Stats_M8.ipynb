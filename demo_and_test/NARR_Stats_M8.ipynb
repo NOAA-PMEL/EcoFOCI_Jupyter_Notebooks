{
 "cells": [
  {
   "cell_type": "code",
   "execution_count": 2,
   "metadata": {},
   "outputs": [],
   "source": [
    "import pandas as pd\n",
    "import numpy as np"
   ]
  },
  {
   "cell_type": "code",
   "execution_count": 13,
   "metadata": {},
   "outputs": [],
   "source": [
    "fid = '/Users/bell/in_and_outbox/2019/stabeno/jan/c2_winds/NARR_C2_UVAT_1980-2018.xlsx'\n",
    "\n",
    "fin = pd.read_excel(fid,sheet_name=1,parse_dates=['time'],index_col='time')"
   ]
  },
  {
   "cell_type": "code",
   "execution_count": 14,
   "metadata": {},
   "outputs": [],
   "source": [
    "# calculate wind direction and magnitude\n",
    "#  Wind Direction is defined as 0 in +U direction, 90 in +V, -180/180 in -U and -90 in -V with increasing ccw\n",
    "fin['magnitude'] = np.sqrt(fin['WU_422']**2 + fin['WV_423']**2)\n",
    "fin['direction'] = np.rad2deg(np.arctan2(fin['WV_423'],fin['WU_422']))"
   ]
  },
  {
   "cell_type": "code",
   "execution_count": 15,
   "metadata": {},
   "outputs": [],
   "source": [
    "fin['month'] = fin.index.month_name()"
   ]
  },
  {
   "cell_type": "code",
   "execution_count": 16,
   "metadata": {},
   "outputs": [],
   "source": [
    "# find values where magnitude is < 2 and make missing (these are calm/variable and will mess up temp averages)\n",
    "fin.groupby([fin.month,pd.cut(fin.magnitude, [0,2])]).agg(['mean','min','max','count']).to_csv('temp_calm.csv')\n",
    "fin.groupby([fin.month,pd.cut(fin.magnitude, [0,2])]).agg(['std']).to_csv('temp_calm_std.csv')\n",
    "\n",
    "#fin.groupby([pd.Grouper(freq='M'),pd.cut(fin.magnitude, [0,2])]).agg(['mean','min','max','count']).to_csv('temp_calm.csv')\n",
    "#fin.groupby([pd.Grouper(freq='M'),pd.cut(fin.magnitude, [0,2])]).agg(['std']).to_csv('temp_calm_std.csv')"
   ]
  },
  {
   "cell_type": "code",
   "execution_count": 17,
   "metadata": {},
   "outputs": [],
   "source": [
    "fin[fin['magnitude'] <2] = np.nan"
   ]
  },
  {
   "cell_type": "code",
   "execution_count": 18,
   "metadata": {},
   "outputs": [
    {
     "data": {
      "text/plain": [
       "<matplotlib.axes._subplots.AxesSubplot at 0x11a1417f0>"
      ]
     },
     "execution_count": 18,
     "metadata": {},
     "output_type": "execute_result"
    },
    {
     "data": {
      "image/png": "[encoded data removed]",
      "text/plain": [
       "<Figure size 432x288 with 1 Axes>"
      ]
     },
     "metadata": {
      "needs_background": "light"
     },
     "output_type": "display_data"
    }
   ],
   "source": [
    "%matplotlib inline\n",
    "fin.direction.plot.hist(bins=12)"
   ]
  },
  {
   "cell_type": "code",
   "execution_count": 19,
   "metadata": {},
   "outputs": [],
   "source": [
    "#bins are closed right, open left\n",
    "bins = [-180,-150,-120,-90,-60,-30,0,30,60,90,120,150,180]\n",
    "fin.groupby([fin.month,pd.cut(fin.direction, bins)]).agg(['mean','min','max','count']).to_csv('temp.csv')\n",
    "fin.groupby([fin.month,pd.cut(fin.direction, bins)]).agg(['std']).to_csv('temp_std.csv')\n",
    "\n",
    "#fin.groupby([pd.Grouper(freq='M'),pd.cut(fin.direction, bins)]).agg(['mean','min','max','count']).to_csv('temp.csv')\n",
    "#fin.groupby([pd.Grouper(freq='M'),pd.cut(fin.direction, bins)]).agg(['std']).to_csv('temp_std.csv')"
   ]
  },
  {
   "cell_type": "code",
   "execution_count": null,
   "metadata": {},
   "outputs": [],
   "source": []
  }
 ],
 "metadata": {
  "kernelspec": {
   "display_name": "Python [conda env:py37]",
   "language": "python",
   "name": "conda-env-py37-py"
  },
  "language_info": {
   "codemirror_mode": {
    "name": "ipython",
    "version": 3
   },
   "file_extension": ".py",
   "mimetype": "text/x-python",
   "name": "python",
   "nbconvert_exporter": "python",
   "pygments_lexer": "ipython3",
   "version": "3.7.1"
  }
 },
 "nbformat": 4,
 "nbformat_minor": 2
}
