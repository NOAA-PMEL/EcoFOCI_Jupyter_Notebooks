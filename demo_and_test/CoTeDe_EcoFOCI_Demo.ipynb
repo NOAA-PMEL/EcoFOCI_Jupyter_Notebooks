{
 "cells": [
  {
   "cell_type": "markdown",
   "metadata": {},
   "source": [
    "### CoTeDe Test/Demo for EcoFOCI\n",
    "\n",
    "- https://github.com/castelao/CoTeDe#id1"
   ]
  },
  {
   "cell_type": "code",
   "execution_count": 39,
   "metadata": {},
   "outputs": [
    {
     "name": "stderr",
     "output_type": "stream",
     "text": [
      "DEBUG:matplotlib.pyplot:Loaded backend module://ipykernel.pylab.backend_inline version unknown.\n"
     ]
    }
   ],
   "source": [
    "%matplotlib inline"
   ]
  },
  {
   "cell_type": "code",
   "execution_count": 40,
   "metadata": {},
   "outputs": [],
   "source": [
    "from cotede.qc import fProfileQC"
   ]
  },
  {
   "cell_type": "code",
   "execution_count": 36,
   "metadata": {},
   "outputs": [],
   "source": [
    "file = 'data/ctd001.cnv'"
   ]
  },
  {
   "cell_type": "code",
   "execution_count": 42,
   "metadata": {},
   "outputs": [
    {
     "name": "stdout",
     "output_type": "stream",
     "text": [
      "--2019-08-02 14:33:31--  https://raw.githubusercontent.com/castelao/seabird/master/tests/test_data/dPIRX003.cnv\n",
      "Resolving raw.githubusercontent.com (raw.githubusercontent.com)... 151.101.200.133\n",
      "Connecting to raw.githubusercontent.com (raw.githubusercontent.com)|151.101.200.133|:443... connected.\n",
      "HTTP request sent, awaiting response... 404 Not Found\n",
      "2019-08-02 14:33:32 ERROR 404: Not Found.\n",
      "\n"
     ]
    }
   ],
   "source": [
    "!wget https://raw.githubusercontent.com/castelao/seabird/master/tests/test_data/dPIRX003.cnv\n"
   ]
  },
  {
   "cell_type": "code",
   "execution_count": 43,
   "metadata": {},
   "outputs": [
    {
     "ename": "TypeError",
     "evalue": "__init__() got an unexpected keyword argument 'logger'",
     "output_type": "error",
     "traceback": [
      "\u001b[0;31m---------------------------------------------------------------------------\u001b[0m",
      "\u001b[0;31mTypeError\u001b[0m                                 Traceback (most recent call last)",
      "\u001b[0;32m<ipython-input-43-02ba7dda9ecb>\u001b[0m in \u001b[0;36m<module>\u001b[0;34m\u001b[0m\n\u001b[0;32m----> 1\u001b[0;31m \u001b[0mpqc\u001b[0m \u001b[0;34m=\u001b[0m \u001b[0mfProfileQC\u001b[0m\u001b[0;34m(\u001b[0m\u001b[0;34m'dPIRX003.cnv'\u001b[0m\u001b[0;34m)\u001b[0m\u001b[0;34m\u001b[0m\u001b[0;34m\u001b[0m\u001b[0m\n\u001b[0m",
      "\u001b[0;32m~/anaconda2/envs/cotede/lib/python3.7/site-packages/cotede/qc.py\u001b[0m in \u001b[0;36m__init__\u001b[0;34m(self, inputfile, cfg, saveauxiliary, verbose, logger)\u001b[0m\n\u001b[1;32m    467\u001b[0m             \u001b[0;31m# Not the best way, but will work for now. I should pass\u001b[0m\u001b[0;34m\u001b[0m\u001b[0;34m\u001b[0m\u001b[0;34m\u001b[0m\u001b[0m\n\u001b[1;32m    468\u001b[0m             \u001b[0;31m#   the reference for the logger being used.\u001b[0m\u001b[0;34m\u001b[0m\u001b[0;34m\u001b[0m\u001b[0;34m\u001b[0m\u001b[0m\n\u001b[0;32m--> 469\u001b[0;31m             \u001b[0minput\u001b[0m \u001b[0;34m=\u001b[0m \u001b[0mcnv\u001b[0m\u001b[0;34m.\u001b[0m\u001b[0mfCNV\u001b[0m\u001b[0;34m(\u001b[0m\u001b[0minputfile\u001b[0m\u001b[0;34m,\u001b[0m \u001b[0mlogger\u001b[0m\u001b[0;34m=\u001b[0m\u001b[0;32mNone\u001b[0m\u001b[0;34m)\u001b[0m\u001b[0;34m\u001b[0m\u001b[0;34m\u001b[0m\u001b[0m\n\u001b[0m\u001b[1;32m    470\u001b[0m         \u001b[0;32mexcept\u001b[0m \u001b[0mCNVError\u001b[0m \u001b[0;32mas\u001b[0m \u001b[0me\u001b[0m\u001b[0;34m:\u001b[0m\u001b[0;34m\u001b[0m\u001b[0;34m\u001b[0m\u001b[0m\n\u001b[1;32m    471\u001b[0m             \u001b[0;31m#self.attributes['filename'] = basename(inputfile)\u001b[0m\u001b[0;34m\u001b[0m\u001b[0;34m\u001b[0m\u001b[0;34m\u001b[0m\u001b[0m\n",
      "\u001b[0;31mTypeError\u001b[0m: __init__() got an unexpected keyword argument 'logger'"
     ]
    }
   ],
   "source": [
    "pqc = fProfileQC('dPIRX003.cnv')\n"
   ]
  },
  {
   "cell_type": "code",
   "execution_count": 18,
   "metadata": {},
   "outputs": [
    {
     "data": {
      "text/plain": [
       "<module 'seabird.cnv' from '/Users/bell/anaconda2/envs/cotede/lib/python3.7/site-packages/seabird/cnv.py'>"
      ]
     },
     "execution_count": 18,
     "metadata": {},
     "output_type": "execute_result"
    }
   ],
   "source": [
    "cotede.qc.fProfileQC"
   ]
  },
  {
   "cell_type": "code",
   "execution_count": 19,
   "metadata": {},
   "outputs": [],
   "source": [
    "import seabird"
   ]
  },
  {
   "cell_type": "code",
   "execution_count": 21,
   "metadata": {},
   "outputs": [
    {
     "name": "stderr",
     "output_type": "stream",
     "text": [
      "DEBUG:seabird.cnv:Initializing fCNV class with file: data/ctd001.cnv\n",
      "DEBUG:seabird.cnv:Initializing CNV class\n",
      "WARNING:seabird.cnv:\u001b[91mc0mS/cm was supposed to has 171 values, but found only 170.\u001b[0m\n",
      "WARNING:seabird.cnv:\u001b[91mc1mS/cm was supposed to has 171 values, but found only 170.\u001b[0m\n",
      "WARNING:seabird.cnv:\u001b[91mflECO-AFL was supposed to has 171 values, but found only 170.\u001b[0m\n",
      "WARNING:seabird.cnv:\u001b[91moxigenvoltage was supposed to has 171 values, but found only 170.\u001b[0m\n",
      "WARNING:seabird.cnv:\u001b[91mTEMP was supposed to has 171 values, but found only 170.\u001b[0m\n",
      "WARNING:seabird.cnv:\u001b[91mTEMP2 was supposed to has 171 values, but found only 170.\u001b[0m\n",
      "WARNING:seabird.cnv:\u001b[91mtimeS was supposed to has 171 values, but found only 170.\u001b[0m\n",
      "WARNING:seabird.cnv:\u001b[91mPRES was supposed to has 171 values, but found only 170.\u001b[0m\n",
      "WARNING:seabird.cnv:\u001b[91msbeox1V was supposed to has 171 values, but found only 170.\u001b[0m\n",
      "WARNING:seabird.cnv:\u001b[91mpar was supposed to has 171 values, but found only 170.\u001b[0m\n",
      "WARNING:seabird.cnv:\u001b[91mturbWETntu0 was supposed to has 171 values, but found only 170.\u001b[0m\n",
      "WARNING:seabird.cnv:\u001b[91mPSAL was supposed to has 171 values, but found only 170.\u001b[0m\n",
      "WARNING:seabird.cnv:\u001b[91mPSAL2 was supposed to has 171 values, but found only 170.\u001b[0m\n",
      "WARNING:seabird.cnv:\u001b[91msigma_t was supposed to has 171 values, but found only 170.\u001b[0m\n",
      "WARNING:seabird.cnv:\u001b[91msigma_t was supposed to has 171 values, but found only 170.\u001b[0m\n",
      "WARNING:seabird.cnv:\u001b[91moxigen_ml_L was supposed to has 171 values, but found only 170.\u001b[0m\n",
      "WARNING:seabird.cnv:\u001b[91msbox0Mm/Kg was supposed to has 171 values, but found only 170.\u001b[0m\n",
      "WARNING:seabird.cnv:\u001b[91msbeox0PS was supposed to has 171 values, but found only 170.\u001b[0m\n",
      "WARNING:seabird.cnv:\u001b[91msbeox1ML/L was supposed to has 171 values, but found only 170.\u001b[0m\n",
      "WARNING:seabird.cnv:\u001b[91msbox1Mm/Kg was supposed to has 171 values, but found only 170.\u001b[0m\n",
      "WARNING:seabird.cnv:\u001b[91msbeox1PS was supposed to has 171 values, but found only 170.\u001b[0m\n",
      "WARNING:seabird.cnv:\u001b[91mnbin was supposed to has 171 values, but found only 170.\u001b[0m\n",
      "WARNING:seabird.cnv:\u001b[91mflag was supposed to has 171 values, but found only 170.\u001b[0m\n"
     ]
    }
   ],
   "source": [
    "profile = seabird.fCNV(file)"
   ]
  },
  {
   "cell_type": "code",
   "execution_count": 23,
   "metadata": {},
   "outputs": [
    {
     "data": {
      "text/plain": [
       "{'sbe_model': '9',\n",
       " 'LATITUDE': 57.72266666666667,\n",
       " 'LONGITUDE': -152.294,\n",
       " 'gps_datetime': 'Apr 20 2019  01:45:43',\n",
       " 'seasave': 'V 7.23.2',\n",
       " 'instrument_type': 'CTD',\n",
       " 'nquan': '23',\n",
       " 'nvalues': '171',\n",
       " 'start_time': 'Apr 20 2019 01:45:43 [NMEA time, header]',\n",
       " 'bad_flag': '-9.990e-29',\n",
       " 'file_type': 'ascii',\n",
       " 'md5': 'e0e10cfc428708b6d19e255ac37f62f7',\n",
       " 'datetime': datetime.datetime(2019, 4, 20, 1, 45, 43),\n",
       " 'filename': 'ctd001.cnv'}"
      ]
     },
     "execution_count": 23,
     "metadata": {},
     "output_type": "execute_result"
    }
   ],
   "source": [
    "profile.attrs"
   ]
  },
  {
   "cell_type": "code",
   "execution_count": 33,
   "metadata": {},
   "outputs": [
    {
     "data": {
      "text/plain": [
       "masked_array(data=[9636.2  , 8260.2  , 6899.   , 5833.   , 4978.6  ,\n",
       "                   4252.1  , 3615.4  , 3108.4  , 2673.1  , 2309.3  ,\n",
       "                   1993.8  , 1711.5  , 1458.   , 1281.9  , 1119.6  ,\n",
       "                    969.9  ,  842.72 ,  732.71 ,  637.92 ,  555.57 ,\n",
       "                    491.99 ,  438.69 ,  379.95 ,  329.06 ,  292.82 ,\n",
       "                    259.43 ,  230.15 ,  202.41 ,  175.52 ,  155.49 ,\n",
       "                    137.74 ,  121.17 ,  106.94 ,   94.804,   82.57 ,\n",
       "                     72.703,   65.922,   57.935,   50.145,   44.56 ,\n",
       "                     39.561,   35.319,   30.304,   26.524,   24.149,\n",
       "                     21.722,   19.105,   16.422,   14.525,   12.866,\n",
       "                     11.583,   10.806,   10.794,   10.786,   10.787,\n",
       "                     10.787,   10.789,   10.788,   10.785,   10.791,\n",
       "                     10.788,   10.781,   10.787,   10.786,   10.788,\n",
       "                     10.791,   10.786,   10.786,   10.788,   10.797,\n",
       "                     10.796,   10.783,   10.789,   10.791,   10.788,\n",
       "                     10.801,   10.78 ,   10.788,   10.794,   10.79 ,\n",
       "                     10.793,   10.788,   10.8  ,   10.783,   10.786,\n",
       "                     10.786,   10.785,   10.798,   10.786,   10.786,\n",
       "                     10.787,   10.792,   10.788,   10.782,   10.782,\n",
       "                     10.788,   10.79 ,   10.79 ,   10.798,   10.788,\n",
       "                     10.789,   10.787,   10.787,   10.788,   10.787,\n",
       "                     10.797,   10.789,   10.798,   10.793,   10.783,\n",
       "                     10.789,   10.799,   10.786,   10.787,   10.785,\n",
       "                     10.788,   10.782,   10.79 ,   10.784,   10.787,\n",
       "                     10.786,   10.783,   10.798,   10.796,   10.78 ,\n",
       "                     10.79 ,   10.785,   10.791,   10.792,   10.79 ,\n",
       "                     10.79 ,   10.786,   10.789,   10.797,   10.797,\n",
       "                     10.797,   10.797,   10.797,   10.797,   10.797,\n",
       "                     10.797,   10.797,   10.797,   10.797,   10.797,\n",
       "                     10.804,   10.804,   10.808,   10.809,   10.807,\n",
       "                     10.808,   10.811,   10.812,   10.813,   10.817,\n",
       "                     10.818,   10.818,   10.816,   10.813,   10.814,\n",
       "                     10.817,   10.818,   10.822,   10.819,   10.827,\n",
       "                     10.827,   10.827,   10.827,   10.827,   10.827],\n",
       "             mask=False,\n",
       "       fill_value=-9.99e-29)"
      ]
     },
     "execution_count": 33,
     "metadata": {},
     "output_type": "execute_result"
    }
   ],
   "source": [
    "profile['par']"
   ]
  },
  {
   "cell_type": "code",
   "execution_count": null,
   "metadata": {},
   "outputs": [],
   "source": []
  }
 ],
 "metadata": {
  "kernelspec": {
   "display_name": "Python [conda env:py37]",
   "language": "python",
   "name": "conda-env-py37-py"
  },
  "language_info": {
   "codemirror_mode": {
    "name": "ipython",
    "version": 3
   },
   "file_extension": ".py",
   "mimetype": "text/x-python",
   "name": "python",
   "nbconvert_exporter": "python",
   "pygments_lexer": "ipython3",
   "version": "3.7.3"
  }
 },
 "nbformat": 4,
 "nbformat_minor": 4
}
