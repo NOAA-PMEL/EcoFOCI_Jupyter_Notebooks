{
 "cells": [
  {
   "cell_type": "markdown",
   "metadata": {},
   "source": [
    "- for exporting erddap data to geojson for plotting via leaflet\n",
    "- used for NRT maps on website"
   ]
  },
  {
   "cell_type": "code",
   "execution_count": 36,
   "metadata": {},
   "outputs": [],
   "source": [
    "import pandas as pd\n",
    "import datetime \n",
    "\n",
    "from erddapy import ERDDAP\n",
    "import pandas as pd\n",
    "import numpy as np"
   ]
  },
  {
   "cell_type": "code",
   "execution_count": 38,
   "metadata": {},
   "outputs": [
    {
     "data": {
      "text/plain": [
       "'http://downdraft.pmel.noaa.gov:8080/erddap/tabledap/sg401_EcoFOCI_2019.csv?longitude,latitude,ctd_depth,profileid&ctd_depth<=1'"
      ]
     },
     "execution_count": 38,
     "metadata": {},
     "output_type": "execute_result"
    }
   ],
   "source": [
    "server_url = 'http://downdraft.pmel.noaa.gov:8080/erddap'\n",
    "\n",
    "\n",
    "d = ERDDAP(server=server_url,\n",
    "           protocol='tabledap',\n",
    "           response='csv',\n",
    "          )\n",
    "\n",
    "d.dataset_id='sg401_EcoFOCI_2019'\n",
    "\n",
    "d.variables =  ['longitude','latitude','ctd_depth','profileid']\n",
    "\n",
    "d.constraints = {\n",
    "'ctd_depth<=':1\n",
    "}\n",
    "\n",
    "d.get_download_url()"
   ]
  },
  {
   "cell_type": "code",
   "execution_count": 39,
   "metadata": {},
   "outputs": [
    {
     "data": {
      "text/html": [
       "<div>\n",
       "<style scoped>\n",
       "    .dataframe tbody tr th:only-of-type {\n",
       "        vertical-align: middle;\n",
       "    }\n",
       "\n",
       "    .dataframe tbody tr th {\n",
       "        vertical-align: top;\n",
       "    }\n",
       "\n",
       "    .dataframe thead th {\n",
       "        text-align: right;\n",
       "    }\n",
       "</style>\n",
       "<table border=\"1\" class=\"dataframe\">\n",
       "  <thead>\n",
       "    <tr style=\"text-align: right;\">\n",
       "      <th></th>\n",
       "      <th>longitude</th>\n",
       "      <th>latitude</th>\n",
       "      <th>ctd_depth</th>\n",
       "      <th>profileid</th>\n",
       "    </tr>\n",
       "  </thead>\n",
       "  <tbody>\n",
       "    <tr>\n",
       "      <th>16262</th>\n",
       "      <td>-174.029643</td>\n",
       "      <td>61.734239</td>\n",
       "      <td>0.057159</td>\n",
       "      <td>1020</td>\n",
       "    </tr>\n",
       "    <tr>\n",
       "      <th>16263</th>\n",
       "      <td>-174.029642</td>\n",
       "      <td>61.734239</td>\n",
       "      <td>-0.056761</td>\n",
       "      <td>1020</td>\n",
       "    </tr>\n",
       "    <tr>\n",
       "      <th>16264</th>\n",
       "      <td>-174.029642</td>\n",
       "      <td>61.734239</td>\n",
       "      <td>-0.170680</td>\n",
       "      <td>1020</td>\n",
       "    </tr>\n",
       "    <tr>\n",
       "      <th>16265</th>\n",
       "      <td>-174.029642</td>\n",
       "      <td>61.734239</td>\n",
       "      <td>-0.255012</td>\n",
       "      <td>1020</td>\n",
       "    </tr>\n",
       "    <tr>\n",
       "      <th>16266</th>\n",
       "      <td>-174.029642</td>\n",
       "      <td>61.734239</td>\n",
       "      <td>-0.255012</td>\n",
       "      <td>1020</td>\n",
       "    </tr>\n",
       "  </tbody>\n",
       "</table>\n",
       "</div>"
      ],
      "text/plain": [
       "        longitude   latitude  ctd_depth  profileid\n",
       "16262 -174.029643  61.734239   0.057159       1020\n",
       "16263 -174.029642  61.734239  -0.056761       1020\n",
       "16264 -174.029642  61.734239  -0.170680       1020\n",
       "16265 -174.029642  61.734239  -0.255012       1020\n",
       "16266 -174.029642  61.734239  -0.255012       1020"
      ]
     },
     "execution_count": 39,
     "metadata": {},
     "output_type": "execute_result"
    }
   ],
   "source": [
    "df = d.to_pandas(\n",
    "    skiprows=(1,)  # units information can be dropped.\n",
    ").dropna()\n",
    "\n",
    "df.sort_index(inplace=True)\n",
    "df.columns = [x[1].split()[0] for x in enumerate(df.columns)]\n",
    "\n",
    "df.tail()"
   ]
  },
  {
   "cell_type": "code",
   "execution_count": 40,
   "metadata": {},
   "outputs": [
    {
     "name": "stdout",
     "output_type": "stream",
     "text": [
      "            longitude   latitude  ctd_depth\n",
      "profileid                                  \n",
      "1         -173.598569  60.426905   0.326673\n",
      "2         -173.608655  60.426610   0.942308\n",
      "3         -173.612110  60.427173   0.756084\n",
      "4         -173.615397  60.429410   0.912789\n",
      "5         -173.619142  60.434414   0.991975\n",
      "...               ...        ...        ...\n",
      "1015      -174.057032  61.740910   0.972427\n",
      "1016      -174.057032  61.740910   0.965673\n",
      "1017      -174.057032  61.740910  -0.275147\n",
      "1018      -174.032585  61.734652   0.990983\n",
      "1020      -174.032585  61.734652   0.092776\n",
      "\n",
      "[607 rows x 3 columns]\n"
     ]
    }
   ],
   "source": [
    "print(df.groupby('profileid').first())"
   ]
  },
  {
   "cell_type": "code",
   "execution_count": 41,
   "metadata": {},
   "outputs": [],
   "source": [
    "import geojson\n",
    "\n",
    "def data2geojson(df):\n",
    "    df['profileid']=df.index\n",
    "    features = []\n",
    "    insert_features = lambda X: features.append(\n",
    "            geojson.Feature(geometry=geojson.Point((X[\"longitude\"],\n",
    "                                                    X[\"latitude\"],\n",
    "                                                    X[\"ctd_depth\"])),\n",
    "                            properties=dict(name=X['profileid'])))\n",
    "    df.apply(insert_features, axis=1)\n",
    "    with open('map1.geojson', 'w', encoding='utf8') as fp:\n",
    "        geojson.dump(geojson.FeatureCollection(features), fp, sort_keys=True, ensure_ascii=False)\n",
    "\n",
    "data2geojson(df.groupby('profileid').first())"
   ]
  },
  {
   "cell_type": "code",
   "execution_count": null,
   "metadata": {},
   "outputs": [],
   "source": []
  }
 ],
 "metadata": {
  "kernelspec": {
   "display_name": "Python [conda env:py37]",
   "language": "python",
   "name": "conda-env-py37-py"
  },
  "language_info": {
   "codemirror_mode": {
    "name": "ipython",
    "version": 3
   },
   "file_extension": ".py",
   "mimetype": "text/x-python",
   "name": "python",
   "nbconvert_exporter": "python",
   "pygments_lexer": "ipython3",
   "version": "3.7.3"
  }
 },
 "nbformat": 4,
 "nbformat_minor": 4
}
