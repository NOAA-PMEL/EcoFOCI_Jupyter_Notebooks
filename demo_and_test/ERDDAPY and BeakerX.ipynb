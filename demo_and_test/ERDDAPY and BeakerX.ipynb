{
 "cells": [
  {
   "cell_type": "markdown",
   "metadata": {},
   "source": [
    "### Demo of BeakerX table view with erddapy"
   ]
  },
  {
   "cell_type": "code",
   "execution_count": 1,
   "metadata": {},
   "outputs": [
    {
     "ename": "expecting EOF, found 'import' @ line 2, column 14.   from beakerx import *",
     "evalue": "expecting EOF, found 'import' @ line 2, column 14.   from beakerx import *",
     "output_type": "error",
     "traceback": [
      "\u001b[1;31mexpecting EOF, found 'import' @ line 2, column 14.   from beakerx import *\u001b[0;0m",
      "\u001b[1;31m                ^\u001b[0;0m",
      "\u001b[1;31m\u001b[0;0m",
      "\u001b[1;31m1 error\u001b[0;0m",
      "\u001b[1;31m\u001b[0;0m",
      "\u001b[0;31m\tat com.twosigma.beakerx.groovy.evaluator.GroovyCodeRunner.call(GroovyCodeRunner.java:55)\u001b[0;0m",
      "\u001b[0;31m\tat com.twosigma.beakerx.groovy.evaluator.GroovyCodeRunner.call(GroovyCodeRunner.java:32)\u001b[0;0m"
     ]
    }
   ],
   "source": [
    "import pandas as pd\n",
    "from beakerx import *\n",
    "from beakerx.object import beakerx\n",
    "\n",
    "from erddapy import ERDDAP\n",
    "import numpy as np\n",
    "import datetime\n",
    "\n",
    "server_url = 'http://downdraft.pmel.noaa.gov:8080/erddap'\n",
    "\n",
    "e = ERDDAP(server=server_url)"
   ]
  },
  {
   "cell_type": "code",
   "execution_count": 2,
   "metadata": {},
   "outputs": [
    {
     "name": "stdout",
     "output_type": "stream",
     "text": [
      "Variables in erddap_17ckitaem2a_met:\n",
      "timeseries_id,time,wind_speed,northward_wind,latitude,longitude,air_pressure,relative_humidity,air_temperature,wind_from_direction,eastward_wind\n",
      "Variables in erddap_18bsitaepr2a_met:\n",
      "timeseries_id,time,wind_speed,northward_wind,latitude,longitude,air_pressure,relative_humidity,air_temperature,wind_from_direction,eastward_wind\n",
      "Variables in erddap_18mtitaepr1a_met:\n",
      "timeseries_id,time,wind_speed,northward_wind,latitude,longitude,air_pressure,relative_humidity,air_temperature,wind_from_direction,eastward_wind\n",
      "Variables in erddap_19bsitaepr2a_met:\n",
      "timeseries_id,latitude,longitude,time,northward_wind,air_pressure,relative_humidity,air_temperature,eastward_wind\n"
     ]
    }
   ],
   "source": [
    "df = pd.read_csv(e.get_search_url(response='csv', search_for='a_met'))\n",
    "\n",
    "constraints = {\n",
    "    'time>=': '2019-04-25T00:00:00Z',\n",
    "    'time<=': str(datetime.datetime.today()),\n",
    "}\n",
    "\n",
    "variables = [\n",
    "# 'wind_from_direction', \n",
    " 'air_temperature',\n",
    " 'relative_humidity',\n",
    " 'northward_wind', \n",
    " 'eastward_wind', \n",
    "# 'wind_speed', \n",
    " 'latitude',\n",
    " 'longitude',\n",
    " 'time'\n",
    "]\n",
    "\n",
    "variable_dic={}\n",
    "\n",
    "for index,row in df.iterrows():\n",
    "    info_url = e.get_info_url(dataset_id=row['Dataset ID'], response='csv')\n",
    "    info = pd.read_csv(info_url)\n",
    "\n",
    "    #print(info.head())\n",
    "    print('Variables in {}:'.format(row['Dataset ID']))\n",
    "    print(','.join(info.loc[info['Row Type'] == 'variable', 'Variable Name']))\n",
    "\n",
    "    variable_dic.update({row['Dataset ID']:list(info.loc[info['Row Type'] == 'variable', 'Variable Name'])})\n",
    "    \n"
   ]
  },
  {
   "cell_type": "code",
   "execution_count": 3,
   "metadata": {},
   "outputs": [
    {
     "name": "stdout",
     "output_type": "stream",
     "text": [
      "erddap_19bsitaepr2a_met\n"
     ]
    }
   ],
   "source": [
    "from requests.exceptions import HTTPError\n",
    "\n",
    "dfs = {}\n",
    "for index,row in df.iterrows():\n",
    "    if row['Dataset ID'] in ['erddap_19bsitaepr2a_met']:\n",
    "        print(row['Dataset ID'])\n",
    "        try:\n",
    "            e = ERDDAP(server=server_url,\n",
    "                protocol='tabledap',\n",
    "                response='csv',\n",
    "            )\n",
    "            e.dataset_id=row['Dataset ID']\n",
    "            e.constraints=constraints\n",
    "            if row['Dataset ID'] in ['erddap_19bsitaepr2a_met']:\n",
    "                e.variables=variables + ['air_pressure']\n",
    "        except HTTPError:\n",
    "            print('Failed to generate url {}'.format(row['Dataset ID']))\n",
    "            continue\n",
    "        dfs.update({row['Dataset ID']: e.to_pandas(\n",
    "                                index_col='time (UTC)',\n",
    "                                parse_dates=True,\n",
    "                                skiprows=(1,)  # units information can be dropped.\n",
    "                                )})\n",
    "    "
   ]
  },
  {
   "cell_type": "code",
   "execution_count": 4,
   "metadata": {},
   "outputs": [],
   "source": [
    "df=dfs['erddap_19bsitaepr2a_met']"
   ]
  },
  {
   "cell_type": "code",
   "execution_count": 16,
   "metadata": {},
   "outputs": [
    {
     "ename": "NameError",
     "evalue": "name 'TableDisplay' is not defined on the beakerx object",
     "output_type": "error",
     "traceback": [
      "\u001b[0;31m----------------------------------------------------------------------\u001b[0m",
      "\u001b[0;31mNameError\u001b[0m                            Traceback (most recent call last)",
      "\u001b[0;32m<ipython-input-16-488f19ecaec0>\u001b[0m in \u001b[0;36m<module>\u001b[0;34m\u001b[0m\n\u001b[0;32m----> 1\u001b[0;31m \u001b[0mbeakerx\u001b[0m\u001b[0;34m.\u001b[0m\u001b[0mTableDisplay\u001b[0m\u001b[0;34m(\u001b[0m\u001b[0mnew\u001b[0m\u001b[0;34m)\u001b[0m\u001b[0;34m\u001b[0m\u001b[0;34m\u001b[0m\u001b[0m\n\u001b[0m",
      "\u001b[0;32m~/anaconda2/envs/beakerx/lib/python3.7/site-packages/beakerx/runtime.py\u001b[0m in \u001b[0;36m__getattr__\u001b[0;34m(self, name)\u001b[0m\n\u001b[1;32m    681\u001b[0m         \u001b[0;32mif\u001b[0m \u001b[0;34m'_server'\u001b[0m \u001b[0;34m==\u001b[0m \u001b[0mname\u001b[0m\u001b[0;34m:\u001b[0m\u001b[0;34m\u001b[0m\u001b[0;34m\u001b[0m\u001b[0m\n\u001b[1;32m    682\u001b[0m             \u001b[0;32mreturn\u001b[0m \u001b[0mself\u001b[0m\u001b[0;34m.\u001b[0m\u001b[0m__dict__\u001b[0m\u001b[0;34m[\u001b[0m\u001b[0;34m'_server'\u001b[0m\u001b[0;34m]\u001b[0m\u001b[0;34m\u001b[0m\u001b[0;34m\u001b[0m\u001b[0m\n\u001b[0;32m--> 683\u001b[0;31m         \u001b[0;32mreturn\u001b[0m \u001b[0mself\u001b[0m\u001b[0;34m.\u001b[0m\u001b[0mget\u001b[0m\u001b[0;34m(\u001b[0m\u001b[0mname\u001b[0m\u001b[0;34m)\u001b[0m\u001b[0;34m\u001b[0m\u001b[0;34m\u001b[0m\u001b[0m\n\u001b[0m\u001b[1;32m    684\u001b[0m \u001b[0;34m\u001b[0m\u001b[0m\n\u001b[1;32m    685\u001b[0m     \u001b[0;32mdef\u001b[0m \u001b[0m__contains__\u001b[0m\u001b[0;34m(\u001b[0m\u001b[0mself\u001b[0m\u001b[0;34m,\u001b[0m \u001b[0mname\u001b[0m\u001b[0;34m)\u001b[0m\u001b[0;34m:\u001b[0m\u001b[0;34m\u001b[0m\u001b[0;34m\u001b[0m\u001b[0m\n",
      "\u001b[0;32m~/anaconda2/envs/beakerx/lib/python3.7/site-packages/beakerx/runtime.py\u001b[0m in \u001b[0;36mget\u001b[0;34m(self, var)\u001b[0m\n\u001b[1;32m    510\u001b[0m         \u001b[0mresult\u001b[0m \u001b[0;34m=\u001b[0m \u001b[0mautotranslation_get\u001b[0m\u001b[0;34m(\u001b[0m\u001b[0mvar\u001b[0m\u001b[0;34m)\u001b[0m\u001b[0;34m\u001b[0m\u001b[0;34m\u001b[0m\u001b[0m\n\u001b[1;32m    511\u001b[0m         \u001b[0;32mif\u001b[0m \u001b[0mresult\u001b[0m \u001b[0;34m==\u001b[0m \u001b[0;34m'undefined'\u001b[0m\u001b[0;34m:\u001b[0m\u001b[0;34m\u001b[0m\u001b[0;34m\u001b[0m\u001b[0m\n\u001b[0;32m--> 512\u001b[0;31m             \u001b[0;32mraise\u001b[0m \u001b[0mNameError\u001b[0m\u001b[0;34m(\u001b[0m\u001b[0;34m'name \\''\u001b[0m \u001b[0;34m+\u001b[0m \u001b[0mvar\u001b[0m \u001b[0;34m+\u001b[0m \u001b[0;34m'\\' is not defined on the beakerx object'\u001b[0m\u001b[0;34m)\u001b[0m\u001b[0;34m\u001b[0m\u001b[0;34m\u001b[0m\u001b[0m\n\u001b[0m\u001b[1;32m    513\u001b[0m         \u001b[0;32mreturn\u001b[0m \u001b[0mtransformBack\u001b[0m\u001b[0;34m(\u001b[0m\u001b[0mjson\u001b[0m\u001b[0;34m.\u001b[0m\u001b[0mloads\u001b[0m\u001b[0;34m(\u001b[0m\u001b[0mresult\u001b[0m\u001b[0;34m)\u001b[0m\u001b[0;34m)\u001b[0m\u001b[0;34m\u001b[0m\u001b[0;34m\u001b[0m\u001b[0m\n\u001b[1;32m    514\u001b[0m \u001b[0;34m\u001b[0m\u001b[0m\n",
      "\u001b[0;31mNameError\u001b[0m: name 'TableDisplay' is not defined on the beakerx object"
     ]
    }
   ],
   "source": [
    "beakerx.TableDisplay(new)"
   ]
  },
  {
   "cell_type": "code",
   "execution_count": null,
   "metadata": {},
   "outputs": [],
   "source": []
  }
 ],
 "metadata": {
  "kernelspec": {
   "display_name": "Python 3",
   "language": "python",
   "name": "python3"
  },
  "language_info": {
   "codemirror_mode": {
    "name": "ipython",
    "version": 3
   },
   "file_extension": ".py",
   "mimetype": "text/x-python",
   "name": "python",
   "nbconvert_exporter": "python",
   "pygments_lexer": "ipython3",
   "version": "3.7.3"
  },
  "toc": {
   "base_numbering": 1,
   "nav_menu": {},
   "number_sections": false,
   "sideBar": false,
   "skip_h1_title": false,
   "title_cell": "Table of Contents",
   "title_sidebar": "Contents",
   "toc_cell": false,
   "toc_position": {},
   "toc_section_display": false,
   "toc_window_display": false
  }
 },
 "nbformat": 4,
 "nbformat_minor": 2
}
