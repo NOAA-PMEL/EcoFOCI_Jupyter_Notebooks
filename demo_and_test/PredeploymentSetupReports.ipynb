{
 "cells": [
  {
   "cell_type": "markdown",
   "metadata": {},
   "source": [
    "## Predeployment Summary of SBE Instruments\n",
    "\n",
    "SBE-16\n",
    "SBE-37\n",
    "SBE-39\n",
    "\n",
    "ECO-Fluorometers"
   ]
  },
  {
   "cell_type": "code",
   "execution_count": 36,
   "metadata": {},
   "outputs": [
    {
     "name": "stdout",
     "output_type": "stream",
     "text": [
      "Final Entry:\n",
      "------------\n",
      "Model Number Reported: SBE37-SM\n",
      "Serial Number Reported: 1805\n",
      "sample interval Reported: 3600 seconds\\r\\n' \n",
      "\n"
     ]
    },
    {
     "data": {
      "text/plain": [
       "' TODO\\n\\nfinal status (waiting/notlogging)\\nsampleno, samplesfree\\n\\n'"
      ]
     },
     "execution_count": 36,
     "metadata": {},
     "output_type": "execute_result"
    }
   ],
   "source": [
    "file_path = '/Users/bell/Downloads/fall_bering_setups/18bs5a_sbe37_2341_17m.cap'\n",
    "instrument_type = 'sbe37' \n",
    "verbose = False\n",
    "\n",
    "with open(file_path,'r') as fp:\n",
    "    for line in fp:\n",
    "        if 'SERIAL NO' in str(line):\n",
    "            serial = str(line).split('SERIAL NO')[-1].split()[1]\n",
    "            model = str(line).split('SERIAL NO')[0].split()[0].split('\\'')[1]\n",
    "            if verbose:\n",
    "                print(\"Model Number Reported: {model}\".format(model=model))\n",
    "                print(\"Serial Number Reported: {serial}\".format(serial=serial))\n",
    "        if 'sample interval' in str(line):\n",
    "            sampleint = \" \".join(str(line).split('sample interval')[-1].split()[1:3])\n",
    "            if verbose:\n",
    "                print(\"sample interval Reported: {sampleint} \\n\".format(sampleint=sampleint)) \n",
    "                \n",
    "print('Final Entry:')\n",
    "print('------------')\n",
    "print(\"Model Number Reported: {model}\".format(model=model))\n",
    "print(\"Serial Number Reported: {serial}\".format(serial=serial)) \n",
    "print(\"sample interval Reported: {sampleint} \\n\".format(sampleint=sampleint)) \n",
    "\n",
    "''' TODO\n",
    "\n",
    "final status (waiting/notlogging)\n",
    "sampleno, samplesfree\n",
    "\n",
    "'''"
   ]
  },
  {
   "cell_type": "code",
   "execution_count": 11,
   "metadata": {},
   "outputs": [
    {
     "name": "stdout",
     "output_type": "stream",
     "text": [
      "b'ds\\r\\n'\n",
      "b'SBE37-SM V 2.6b  SERIAL NO. 2341    01 Jan 1980  00:00:39\\r\\n'\n",
      "b'logging not started\\r\\n'\n",
      "b'sample interval = 3600 seconds\\r\\n'\n",
      "b'samplenumber = 0, free = 190650\\r\\n'\n",
      "b'do not transmit real-time data\\r\\n'\n",
      "b'output salinity with each sample\\r\\n'\n",
      "b'do not output sound velocity with each sample\\r\\n'\n",
      "b'store time with each sample\\r\\n'\n",
      "b'number of samples to average = 4\\r\\n'\n",
      "b'serial sync mode disabled\\r\\n'\n",
      "b'wait time after serial sync sampling = 30 seconds\\r\\n'\n",
      "b'internal pump not installed\\r\\n'\n",
      "b'temperature = 20.49 deg C\\r\\n'\n",
      "b'S>mmddyy=072018\\r\\n'\n",
      "b'S>hhmmss=184832\\r\\n'\n",
      "b'S>ds\\r\\n'\n",
      "b'SBE37-SM V 2.6b  SERIAL NO. 2341    20 Jul 2018  18:48:36\\r\\n'\n",
      "b'logging not started\\r\\n'\n",
      "b'sample interval = 3600 seconds\\r\\n'\n",
      "b'samplenumber = 0, free = 190650\\r\\n'\n",
      "b'do not transmit real-time data\\r\\n'\n",
      "b'output salinity with each sample\\r\\n'\n",
      "b'do not output sound velocity with each sample\\r\\n'\n",
      "b'store time with each sample\\r\\n'\n",
      "b'number of samples to average = 4\\r\\n'\n",
      "b'serial sync mode disabled\\r\\n'\n",
      "b'wait time after serial sync sampling = 30 seconds\\r\\n'\n",
      "b'internal pump not installed\\r\\n'\n",
      "b'temperature = 20.52 deg C\\r\\n'\n",
      "b'S>startmmddyy=092218\\r\\n'\n",
      "b'S>starthhmmss=000000\\r\\n'\n",
      "b'start time = 22 Sep 2018  00:00:00\\r\\n'\n",
      "b'S>startlater\\r\\n'\n",
      "b'start time = 22 Sep 2018  00:00:00\\r\\n'\n",
      "b'\\x00\\x00SBE 37-SM\\r\\n'\n",
      "b'S>\\r\\n'\n",
      "b'S>\\r\\n'\n",
      "b'\\r\\n'\n",
      "b'S>\\r\\n'\n",
      "b'ds\\r\\n'\n",
      "b'SBE37-SM V 2.6b  SERIAL NO. 2341    20 Jul 2018  18:49:01\\r\\n'\n",
      "b'not logging: waiting to start at  22 Sep 2018  00:00:00\\r\\n'\n",
      "b'sample interval = 3600 seconds\\r\\n'\n",
      "b'samplenumber = 0, free = 190650\\r\\n'\n",
      "b'do not transmit real-time data\\r\\n'\n",
      "b'output salinity with each sample\\r\\n'\n",
      "b'do not output sound velocity with each sample\\r\\n'\n",
      "b'store time with each sample\\r\\n'\n",
      "b'number of samples to average = 4\\r\\n'\n",
      "b'serial sync mode disabled\\r\\n'\n",
      "b'wait time after serial sync sampling = 30 seconds\\r\\n'\n",
      "b'internal pump not installed\\r\\n'\n",
      "b'temperature = 20.53 deg C\\r\\n'\n",
      "b'S>\\r\\n'\n",
      "b'startlater\\r\\n'\n",
      "b'cmd not allowed while logging\\r\\n'\n",
      "b'\\r\\n'\n",
      "b'S>\\r\\n'\n",
      "b'\\r\\n'\n",
      "b'S>\\r\\n'\n",
      "b'ds\\r\\n'\n",
      "b'SBE37-SM V 2.6b  SERIAL NO. 2341    20 Jul 2018  18:49:30\\r\\n'\n",
      "b'not logging: waiting to start at  22 Sep 2018  00:00:00\\r\\n'\n",
      "b'sample interval = 3600 seconds\\r\\n'\n",
      "b'samplenumber = 0, free = 190650\\r\\n'\n",
      "b'do not transmit real-time data\\r\\n'\n",
      "b'output salinity with each sample\\r\\n'\n",
      "b'do not output sound velocity with each sample\\r\\n'\n",
      "b'store time with each sample\\r\\n'\n",
      "b'number of samples to average = 4\\r\\n'\n",
      "b'serial sync mode disabled\\r\\n'\n",
      "b'wait time after serial sync sampling = 30 seconds\\r\\n'\n",
      "b'internal pump not installed\\r\\n'\n",
      "b'temperature = 20.51 deg C\\r\\n'\n",
      "b'S>\\r\\n'\n",
      "b'\\xff\\xff\\x00SBE 37-SM\\r\\n'\n",
      "b'S>\\r\\n'\n",
      "b'S>\\r\\n'\n",
      "b'S>\\r\\n'\n",
      "b'S>ds\\r\\n'\n",
      "b'SBE37-SM V 2.6b  SERIAL NO. 1805    01 Jan 1980  00:00:01\\r\\n'\n",
      "b'logging not started\\r\\n'\n",
      "b'sample interval = 3600 seconds\\r\\n'\n",
      "b'samplenumber = 0, free = 233016\\r\\n'\n",
      "b'do not transmit real-time data\\r\\n'\n",
      "b'output salinity with each sample\\r\\n'\n",
      "b'do not output sound velocity with each sample\\r\\n'\n",
      "b'store time with each sample\\r\\n'\n",
      "b'number of samples to average = 4\\r\\n'\n",
      "b'reference pressure = 55.0 db\\r\\n'\n",
      "b'serial sync mode disabled\\r\\n'\n",
      "b'wait time after serial sync sampling = 30 seconds\\r\\n'\n",
      "b'internal pump not installed\\r\\n'\n",
      "b'temperature = 20.54 deg C\\r\\n'\n",
      "b'S>'\n"
     ]
    }
   ],
   "source": [
    "with open(file_path,'rb') as fp:\n",
    "    for line in fp:\n",
    "        print(line)"
   ]
  },
  {
   "cell_type": "code",
   "execution_count": null,
   "metadata": {},
   "outputs": [],
   "source": []
  }
 ],
 "metadata": {
  "kernelspec": {
   "display_name": "Python [conda env:py36]",
   "language": "python",
   "name": "conda-env-py36-py"
  },
  "language_info": {
   "codemirror_mode": {
    "name": "ipython",
    "version": 3
   },
   "file_extension": ".py",
   "mimetype": "text/x-python",
   "name": "python",
   "nbconvert_exporter": "python",
   "pygments_lexer": "ipython3",
   "version": "3.6.6"
  }
 },
 "nbformat": 4,
 "nbformat_minor": 2
}
