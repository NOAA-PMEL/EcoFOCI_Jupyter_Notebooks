{
 "cells": [
  {
   "cell_type": "markdown",
   "metadata": {},
   "source": [
    "### Mooring Timeseries Resampler"
   ]
  },
  {
   "cell_type": "code",
   "execution_count": 1,
   "metadata": {},
   "outputs": [],
   "source": [
    "import pandas as pd\n"
   ]
  },
  {
   "cell_type": "code",
   "execution_count": 42,
   "metadata": {},
   "outputs": [],
   "source": [
    "data = pd.read_csv('/Users/bell/ecoraid/2018/Moorings/18bsm2a/working/18bsm2a_s37_0050m.unqcd.trimmed_missing.csv',',',\n",
    "                   skiprows=[1,2],parse_dates=['time'],index_col='time')"
   ]
  },
  {
   "cell_type": "code",
   "execution_count": 43,
   "metadata": {},
   "outputs": [],
   "source": [
    "#take the first sample within the time-frequency space \n",
    "# here it takes the first sample in the Hour which will be the closest value 00:xx:00 that is greater than it.  The first data point\n",
    "#  is likely to be erroneous if the sample time was sufficently far from the start of an hour\n",
    "data.resample('H').first().to_csv('/Users/bell/ecoraid/2018/Moorings/18bsm2a/working/18bsm2a_s37_0050m.unqcd.hourly.csv')\n",
    "data.resample('T').first().to_csv('/Users/bell/ecoraid/2018/Moorings/18bsm2a/working/18bsm2a_s37_0050m.unqcd.min.csv')"
   ]
  },
  {
   "cell_type": "code",
   "execution_count": null,
   "metadata": {},
   "outputs": [],
   "source": []
  }
 ],
 "metadata": {
  "kernelspec": {
   "display_name": "Python [conda env:py36]",
   "language": "python",
   "name": "conda-env-py36-py"
  },
  "language_info": {
   "codemirror_mode": {
    "name": "ipython",
    "version": 3
   },
   "file_extension": ".py",
   "mimetype": "text/x-python",
   "name": "python",
   "nbconvert_exporter": "python",
   "pygments_lexer": "ipython3",
   "version": "3.6.6"
  }
 },
 "nbformat": 4,
 "nbformat_minor": 2
}
