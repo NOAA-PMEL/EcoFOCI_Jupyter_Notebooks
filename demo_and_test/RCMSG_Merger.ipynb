{
 "cells": [
  {
   "cell_type": "code",
   "execution_count": 1,
   "metadata": {},
   "outputs": [],
   "source": [
    "### RCM Merge\n",
    "\n",
    "# takes all files in one folder and combines them into a single file with all values line up by the date/time"
   ]
  },
  {
   "cell_type": "code",
   "execution_count": 107,
   "metadata": {},
   "outputs": [],
   "source": [
    "import os\n",
    "import pandas as pd\n",
    "import datetime"
   ]
  },
  {
   "cell_type": "code",
   "execution_count": 108,
   "metadata": {},
   "outputs": [],
   "source": [
    "path = '/Users/bell/ecoraid/2018/Moorings/18ckip3a/rawconverted/rcm_sg/'"
   ]
  },
  {
   "cell_type": "code",
   "execution_count": 109,
   "metadata": {},
   "outputs": [
    {
     "name": "stdout",
     "output_type": "stream",
     "text": [
      "18CKIP3A-Temp.txt\n",
      "18CKIP3A-E.txt\n",
      "18CKIP3A-O2Conc.txt\n",
      "18CKIP3A-O2Sat.txt\n",
      "18CKIP3A-AbsSpd.txt\n",
      "18CKIP3A-Dir.txt\n",
      "18CKIP3A-N.txt\n"
     ]
    }
   ],
   "source": [
    "fdate = lambda s,v: datetime.datetime.strptime(s+' '+v,'%d.%m.%y %H:%M:%S')\n",
    "for i,f in enumerate(os.listdir(path)):\n",
    "    print(f)\n",
    "    if f in ['.DS_Store']:\n",
    "        continue\n",
    "    if i==0:\n",
    "        result = pd.read_csv(path+f,delimiter='\\s+',skiprows=6,\n",
    "                      parse_dates=[['Date','Time']],\n",
    "                      names=['Record','Date','Time',f], date_parser=fdate)\n",
    "        result.drop(columns='Record',inplace=True)\n",
    "    else:\n",
    "        df1 = pd.read_csv(path+f,delimiter='\\s+',skiprows=6,\n",
    "                      parse_dates=[['Date','Time']],\n",
    "                      names=['Record','Date','Time',f], date_parser=fdate)\n",
    "        df1.drop(columns='Record',inplace=True)\n",
    "        result = result.merge(df1,on='Date_Time')\n",
    "        \n",
    "result = result.set_index(pd.DatetimeIndex(result['Date_Time']))\n",
    "result.drop(columns='Date_Time', inplace=True)"
   ]
  },
  {
   "cell_type": "code",
   "execution_count": 110,
   "metadata": {},
   "outputs": [],
   "source": [
    "result.to_csv(path+f.split('-')[0]+'_rcmsg.csv')"
   ]
  },
  {
   "cell_type": "code",
   "execution_count": null,
   "metadata": {},
   "outputs": [],
   "source": [
    "#modify header row to be Time tag (Gmt),Temperature,East,O2Concentration,AirSaturation,Abs Speed,Direction.txt,North\n"
   ]
  },
  {
   "cell_type": "code",
   "execution_count": 115,
   "metadata": {},
   "outputs": [],
   "source": [
    "#downsample sal file to 30min \n",
    "\n",
    "df = pd.read_csv('/Users/bell/ecoraid/2018/Moorings/18ckp3a/working/18ckp3a_sc_0040m.interpolated.trimmed_missing.csv',parse_dates=True,index_col='time')"
   ]
  },
  {
   "cell_type": "code",
   "execution_count": 122,
   "metadata": {},
   "outputs": [],
   "source": [
    "df.resample('30T').mean().interpolate().to_csv('/Users/bell/ecoraid/2018/Moorings/18ckp3a/working/18ckp3a_sc_0040m.interpolated.trimmed_missing.30min.csv')"
   ]
  },
  {
   "cell_type": "code",
   "execution_count": null,
   "metadata": {},
   "outputs": [],
   "source": []
  }
 ],
 "metadata": {
  "kernelspec": {
   "display_name": "Python [conda env:py37]",
   "language": "python",
   "name": "conda-env-py37-py"
  },
  "language_info": {
   "codemirror_mode": {
    "name": "ipython",
    "version": 3
   },
   "file_extension": ".py",
   "mimetype": "text/x-python",
   "name": "python",
   "nbconvert_exporter": "python",
   "pygments_lexer": "ipython3",
   "version": "3.7.3"
  }
 },
 "nbformat": 4,
 "nbformat_minor": 4
}
