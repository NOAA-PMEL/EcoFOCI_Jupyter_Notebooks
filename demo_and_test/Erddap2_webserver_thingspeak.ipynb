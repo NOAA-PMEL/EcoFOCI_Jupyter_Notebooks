{
 "cells": [
  {
   "cell_type": "code",
   "execution_count": 18,
   "metadata": {},
   "outputs": [],
   "source": [
    "import pandas as pd\n",
    "import datetime \n",
    "\n",
    "from erddapy import ERDDAP\n",
    "import pandas as pd\n",
    "import numpy as np"
   ]
  },
  {
   "cell_type": "code",
   "execution_count": 19,
   "metadata": {},
   "outputs": [
    {
     "data": {
      "text/html": [
       "<div>\n",
       "<style scoped>\n",
       "    .dataframe tbody tr th:only-of-type {\n",
       "        vertical-align: middle;\n",
       "    }\n",
       "\n",
       "    .dataframe tbody tr th {\n",
       "        vertical-align: top;\n",
       "    }\n",
       "\n",
       "    .dataframe thead th {\n",
       "        text-align: right;\n",
       "    }\n",
       "</style>\n",
       "<table border=\"1\" class=\"dataframe\">\n",
       "  <thead>\n",
       "    <tr style=\"text-align: right;\">\n",
       "      <th></th>\n",
       "      <th>Temp</th>\n",
       "      <th>SLP</th>\n",
       "      <th>RH_Percent</th>\n",
       "      <th>BaroTemp</th>\n",
       "      <th>time</th>\n",
       "    </tr>\n",
       "  </thead>\n",
       "  <tbody>\n",
       "    <tr>\n",
       "      <td>43577</td>\n",
       "      <td>23.0</td>\n",
       "      <td>999.0</td>\n",
       "      <td>46.0</td>\n",
       "      <td>23.3</td>\n",
       "      <td>2019-10-17T18:54:44Z</td>\n",
       "    </tr>\n",
       "    <tr>\n",
       "      <td>43578</td>\n",
       "      <td>23.0</td>\n",
       "      <td>999.0</td>\n",
       "      <td>46.0</td>\n",
       "      <td>23.3</td>\n",
       "      <td>2019-10-17T18:55:51Z</td>\n",
       "    </tr>\n",
       "    <tr>\n",
       "      <td>43579</td>\n",
       "      <td>23.0</td>\n",
       "      <td>999.0</td>\n",
       "      <td>46.0</td>\n",
       "      <td>23.3</td>\n",
       "      <td>2019-10-17T18:56:58Z</td>\n",
       "    </tr>\n",
       "    <tr>\n",
       "      <td>43580</td>\n",
       "      <td>23.0</td>\n",
       "      <td>999.0</td>\n",
       "      <td>46.0</td>\n",
       "      <td>23.3</td>\n",
       "      <td>2019-10-17T18:58:06Z</td>\n",
       "    </tr>\n",
       "    <tr>\n",
       "      <td>43581</td>\n",
       "      <td>23.0</td>\n",
       "      <td>999.0</td>\n",
       "      <td>46.0</td>\n",
       "      <td>23.3</td>\n",
       "      <td>2019-10-17T18:59:13Z</td>\n",
       "    </tr>\n",
       "  </tbody>\n",
       "</table>\n",
       "</div>"
      ],
      "text/plain": [
       "       Temp    SLP  RH_Percent  BaroTemp                  time\n",
       "43577  23.0  999.0        46.0      23.3  2019-10-17T18:54:44Z\n",
       "43578  23.0  999.0        46.0      23.3  2019-10-17T18:55:51Z\n",
       "43579  23.0  999.0        46.0      23.3  2019-10-17T18:56:58Z\n",
       "43580  23.0  999.0        46.0      23.3  2019-10-17T18:58:06Z\n",
       "43581  23.0  999.0        46.0      23.3  2019-10-17T18:59:13Z"
      ]
     },
     "execution_count": 19,
     "metadata": {},
     "output_type": "execute_result"
    }
   ],
   "source": [
    "server_url = 'http://downdraft.pmel.noaa.gov:8080/erddap'\n",
    "\n",
    "\n",
    "d = ERDDAP(server=server_url,\n",
    "           protocol='tabledap',\n",
    "           response='csv',\n",
    "          )\n",
    "\n",
    "d.dataset_id='channel_843357_thingspeak'\n",
    "\n",
    "d.variables =  [d.get_var_by_attr(dataset_id=prawler, standard_name=lambda v: v is not None) for prawler in [d.dataset_id]][0]\n",
    "\n",
    "d.constraints = {\n",
    "    'time>=': datetime.datetime.today()-datetime.timedelta(days=30),\n",
    "    'time<=': datetime.datetime.utcnow()\n",
    "}\n",
    "\n",
    "d.get_download_url()\n",
    "\n",
    "df = d.to_pandas(\n",
    "    skiprows=(1,)  # units information can be dropped.\n",
    ").dropna()\n",
    "\n",
    "df.sort_index(inplace=True)\n",
    "df.columns = [x[1].split()[0] for x in enumerate(df.columns)]\n",
    "\n",
    "df.tail()"
   ]
  },
  {
   "cell_type": "code",
   "execution_count": 20,
   "metadata": {},
   "outputs": [],
   "source": [
    "df['UnixTime_GMT'] = [int(1000*datetime.datetime.strptime(x,'%Y-%m-%dT%H:%M:%SZ').timestamp()) for x in df.time]\n",
    "df.set_index('UnixTime_GMT',inplace=True)\n",
    "df.drop(columns=['time'],inplace=True)"
   ]
  },
  {
   "cell_type": "code",
   "execution_count": 21,
   "metadata": {},
   "outputs": [],
   "source": [
    "outputpath = '/Users/bell/Sites/web/timeseries_viewer/home_station/test_station/'\n",
    "\n",
    "df.to_csv(outputpath+'csv/airTH_unix.csv',columns=['Temp','RH_Percent'])\n",
    "df.to_csv(outputpath+'csv/airTP_unix.csv',columns=['BaroTemp','SLP'])"
   ]
  },
  {
   "cell_type": "code",
   "execution_count": 22,
   "metadata": {},
   "outputs": [
    {
     "name": "stdout",
     "output_type": "stream",
     "text": [
      "Last run 2019-10-17 19:34:34.155012\n"
     ]
    }
   ],
   "source": [
    "print(\"Last run {0}\".format(datetime.datetime.utcnow()))\n",
    "with open(outputpath + 'txt/lastUpdated.txt','w') as myfile:\n",
    "    myfile.write(str(datetime.datetime.utcnow()))"
   ]
  },
  {
   "cell_type": "markdown",
   "metadata": {},
   "source": [
    "## 19BSITAEPR-2A"
   ]
  },
  {
   "cell_type": "markdown",
   "metadata": {},
   "source": [
    "### 19bsitaepr2a met"
   ]
  },
  {
   "cell_type": "code",
   "execution_count": 21,
   "metadata": {},
   "outputs": [
    {
     "data": {
      "text/html": [
       "<div>\n",
       "<style scoped>\n",
       "    .dataframe tbody tr th:only-of-type {\n",
       "        vertical-align: middle;\n",
       "    }\n",
       "\n",
       "    .dataframe tbody tr th {\n",
       "        vertical-align: top;\n",
       "    }\n",
       "\n",
       "    .dataframe thead th {\n",
       "        text-align: right;\n",
       "    }\n",
       "</style>\n",
       "<table border=\"1\" class=\"dataframe\">\n",
       "  <thead>\n",
       "    <tr style=\"text-align: right;\">\n",
       "      <th></th>\n",
       "      <th>air_temperature</th>\n",
       "      <th>eastward_wind</th>\n",
       "      <th>time</th>\n",
       "      <th>northward_wind</th>\n",
       "      <th>longitude</th>\n",
       "      <th>air_pressure</th>\n",
       "      <th>relative_humidity</th>\n",
       "      <th>latitude</th>\n",
       "    </tr>\n",
       "  </thead>\n",
       "  <tbody>\n",
       "    <tr>\n",
       "      <td>24196</td>\n",
       "      <td>100.0</td>\n",
       "      <td>999.9</td>\n",
       "      <td>2019-09-26T14:50:00Z</td>\n",
       "      <td>999.9</td>\n",
       "      <td>-164.065</td>\n",
       "      <td>1012.44</td>\n",
       "      <td>100.0</td>\n",
       "      <td>56.873</td>\n",
       "    </tr>\n",
       "    <tr>\n",
       "      <td>24197</td>\n",
       "      <td>100.0</td>\n",
       "      <td>999.9</td>\n",
       "      <td>2019-09-26T15:00:00Z</td>\n",
       "      <td>999.9</td>\n",
       "      <td>-164.065</td>\n",
       "      <td>1012.44</td>\n",
       "      <td>100.0</td>\n",
       "      <td>56.873</td>\n",
       "    </tr>\n",
       "    <tr>\n",
       "      <td>24198</td>\n",
       "      <td>100.0</td>\n",
       "      <td>999.9</td>\n",
       "      <td>2019-09-26T15:10:00Z</td>\n",
       "      <td>999.9</td>\n",
       "      <td>-164.065</td>\n",
       "      <td>1012.46</td>\n",
       "      <td>100.0</td>\n",
       "      <td>56.873</td>\n",
       "    </tr>\n",
       "    <tr>\n",
       "      <td>24199</td>\n",
       "      <td>100.0</td>\n",
       "      <td>999.9</td>\n",
       "      <td>2019-09-26T15:20:00Z</td>\n",
       "      <td>999.9</td>\n",
       "      <td>-164.065</td>\n",
       "      <td>1012.47</td>\n",
       "      <td>100.0</td>\n",
       "      <td>56.873</td>\n",
       "    </tr>\n",
       "    <tr>\n",
       "      <td>24200</td>\n",
       "      <td>100.0</td>\n",
       "      <td>999.9</td>\n",
       "      <td>2019-09-26T15:30:00Z</td>\n",
       "      <td>999.9</td>\n",
       "      <td>-164.065</td>\n",
       "      <td>1012.50</td>\n",
       "      <td>100.0</td>\n",
       "      <td>56.873</td>\n",
       "    </tr>\n",
       "  </tbody>\n",
       "</table>\n",
       "</div>"
      ],
      "text/plain": [
       "       air_temperature  eastward_wind                  time  northward_wind  \\\n",
       "24196            100.0          999.9  2019-09-26T14:50:00Z           999.9   \n",
       "24197            100.0          999.9  2019-09-26T15:00:00Z           999.9   \n",
       "24198            100.0          999.9  2019-09-26T15:10:00Z           999.9   \n",
       "24199            100.0          999.9  2019-09-26T15:20:00Z           999.9   \n",
       "24200            100.0          999.9  2019-09-26T15:30:00Z           999.9   \n",
       "\n",
       "       longitude  air_pressure  relative_humidity  latitude  \n",
       "24196   -164.065       1012.44              100.0    56.873  \n",
       "24197   -164.065       1012.44              100.0    56.873  \n",
       "24198   -164.065       1012.46              100.0    56.873  \n",
       "24199   -164.065       1012.47              100.0    56.873  \n",
       "24200   -164.065       1012.50              100.0    56.873  "
      ]
     },
     "execution_count": 21,
     "metadata": {},
     "output_type": "execute_result"
    }
   ],
   "source": [
    "server_url = 'http://downdraft.pmel.noaa.gov:8080/erddap'\n",
    "\n",
    "\n",
    "d = ERDDAP(server=server_url,\n",
    "           protocol='tabledap',\n",
    "           response='csv',\n",
    "          )\n",
    "\n",
    "d.dataset_id='erddap_19bsitaepr2a_met'\n",
    "\n",
    "d.variables =  [d.get_var_by_attr(dataset_id=prawler, standard_name=lambda v: v is not None) for prawler in [d.dataset_id]][0]\n",
    "\n",
    "d.constraints = {\n",
    "    'time>=': datetime.datetime.today()-datetime.timedelta(days=366),\n",
    "    'time<=': datetime.datetime.utcnow()\n",
    "}\n",
    "\n",
    "d.get_download_url()\n",
    "\n",
    "df = d.to_pandas(\n",
    "    skiprows=(1,)  # units information can be dropped.\n",
    ").dropna()\n",
    "\n",
    "df.sort_index(inplace=True)\n",
    "df.columns = [x[1].split()[0] for x in enumerate(df.columns)]\n",
    "\n",
    "df.tail()"
   ]
  },
  {
   "cell_type": "code",
   "execution_count": 22,
   "metadata": {},
   "outputs": [
    {
     "data": {
      "text/html": [
       "<div>\n",
       "<style scoped>\n",
       "    .dataframe tbody tr th:only-of-type {\n",
       "        vertical-align: middle;\n",
       "    }\n",
       "\n",
       "    .dataframe tbody tr th {\n",
       "        vertical-align: top;\n",
       "    }\n",
       "\n",
       "    .dataframe thead th {\n",
       "        text-align: right;\n",
       "    }\n",
       "</style>\n",
       "<table border=\"1\" class=\"dataframe\">\n",
       "  <thead>\n",
       "    <tr style=\"text-align: right;\">\n",
       "      <th></th>\n",
       "      <th>air_temperature</th>\n",
       "      <th>eastward_wind</th>\n",
       "      <th>time</th>\n",
       "      <th>northward_wind</th>\n",
       "      <th>longitude</th>\n",
       "      <th>air_pressure</th>\n",
       "      <th>relative_humidity</th>\n",
       "      <th>latitude</th>\n",
       "    </tr>\n",
       "  </thead>\n",
       "  <tbody>\n",
       "    <tr>\n",
       "      <td>0</td>\n",
       "      <td>6.23</td>\n",
       "      <td>0.0</td>\n",
       "      <td>2019-04-19T23:50:00Z</td>\n",
       "      <td>0.2</td>\n",
       "      <td>-164.065</td>\n",
       "      <td>1005.34</td>\n",
       "      <td>57.41</td>\n",
       "      <td>56.873</td>\n",
       "    </tr>\n",
       "    <tr>\n",
       "      <td>1</td>\n",
       "      <td>6.77</td>\n",
       "      <td>-0.1</td>\n",
       "      <td>2019-04-20T00:00:00Z</td>\n",
       "      <td>0.0</td>\n",
       "      <td>-164.065</td>\n",
       "      <td>1005.90</td>\n",
       "      <td>55.92</td>\n",
       "      <td>56.873</td>\n",
       "    </tr>\n",
       "    <tr>\n",
       "      <td>2</td>\n",
       "      <td>6.32</td>\n",
       "      <td>-0.0</td>\n",
       "      <td>2019-04-20T00:10:00Z</td>\n",
       "      <td>0.1</td>\n",
       "      <td>-164.065</td>\n",
       "      <td>1005.87</td>\n",
       "      <td>57.59</td>\n",
       "      <td>56.873</td>\n",
       "    </tr>\n",
       "    <tr>\n",
       "      <td>3</td>\n",
       "      <td>5.96</td>\n",
       "      <td>-0.3</td>\n",
       "      <td>2019-04-20T00:20:00Z</td>\n",
       "      <td>-0.1</td>\n",
       "      <td>-164.065</td>\n",
       "      <td>1005.70</td>\n",
       "      <td>58.42</td>\n",
       "      <td>56.873</td>\n",
       "    </tr>\n",
       "    <tr>\n",
       "      <td>4</td>\n",
       "      <td>6.71</td>\n",
       "      <td>0.2</td>\n",
       "      <td>2019-04-20T00:40:00Z</td>\n",
       "      <td>0.3</td>\n",
       "      <td>-164.065</td>\n",
       "      <td>1005.51</td>\n",
       "      <td>57.89</td>\n",
       "      <td>56.873</td>\n",
       "    </tr>\n",
       "  </tbody>\n",
       "</table>\n",
       "</div>"
      ],
      "text/plain": [
       "   air_temperature  eastward_wind                  time  northward_wind  \\\n",
       "0             6.23            0.0  2019-04-19T23:50:00Z             0.2   \n",
       "1             6.77           -0.1  2019-04-20T00:00:00Z             0.0   \n",
       "2             6.32           -0.0  2019-04-20T00:10:00Z             0.1   \n",
       "3             5.96           -0.3  2019-04-20T00:20:00Z            -0.1   \n",
       "4             6.71            0.2  2019-04-20T00:40:00Z             0.3   \n",
       "\n",
       "   longitude  air_pressure  relative_humidity  latitude  \n",
       "0   -164.065       1005.34              57.41    56.873  \n",
       "1   -164.065       1005.90              55.92    56.873  \n",
       "2   -164.065       1005.87              57.59    56.873  \n",
       "3   -164.065       1005.70              58.42    56.873  \n",
       "4   -164.065       1005.51              57.89    56.873  "
      ]
     },
     "execution_count": 22,
     "metadata": {},
     "output_type": "execute_result"
    }
   ],
   "source": [
    "df.head()"
   ]
  },
  {
   "cell_type": "code",
   "execution_count": 23,
   "metadata": {},
   "outputs": [
    {
     "name": "stderr",
     "output_type": "stream",
     "text": [
      "/Users/bell/anaconda2/envs/py37/lib/python3.7/site-packages/ipykernel_launcher.py:6: SettingWithCopyWarning: \n",
      "A value is trying to be set on a copy of a slice from a DataFrame\n",
      "\n",
      "See the caveats in the documentation: http://pandas.pydata.org/pandas-docs/stable/user_guide/indexing.html#returning-a-view-versus-a-copy\n",
      "  \n",
      "/Users/bell/anaconda2/envs/py37/lib/python3.7/site-packages/ipykernel_launcher.py:9: SettingWithCopyWarning: \n",
      "A value is trying to be set on a copy of a slice from a DataFrame\n",
      "\n",
      "See the caveats in the documentation: http://pandas.pydata.org/pandas-docs/stable/user_guide/indexing.html#returning-a-view-versus-a-copy\n",
      "  if __name__ == '__main__':\n"
     ]
    }
   ],
   "source": [
    "#calculate windspeed and direction\n",
    "df['wind_speed (m s-1)']=np.sqrt(df['northward_wind']**2 + df['eastward_wind']**2)\n",
    "df['wind_from_direction (degrees true)'] = 270-np.rad2deg(np.arctan2(df['northward_wind'],\n",
    "                                                                 df['eastward_wind']))\n",
    "\n",
    "df['wind_from_direction (degrees true)'][df['wind_from_direction (degrees true)']>360] = df['wind_from_direction (degrees true)'][df['wind_from_direction (degrees true)']>360]-360\n",
    "\n",
    "#quick qc\n",
    "df['air_temperature'][df['air_temperature']>50]=np.nan\n",
    "\n",
    "###\n",
    "\n",
    "df['UnixTime_GMT'] = [int(1000*datetime.datetime.strptime(x,'%Y-%m-%dT%H:%M:%SZ').timestamp()) for x in df.time]\n",
    "df.set_index('UnixTime_GMT',inplace=True)\n",
    "df.drop(columns=['time'],inplace=True)"
   ]
  },
  {
   "cell_type": "code",
   "execution_count": 24,
   "metadata": {},
   "outputs": [],
   "source": [
    "df.to_csv('airTH_unix.csv',columns=['air_temperature','relative_humidity'])\n",
    "df.to_csv('airTP_unix.csv',columns=['air_temperature','air_pressure'])\n",
    "df.to_csv('airWSWD_unix.csv',columns=['wind_from_direction (degrees true)','wind_speed (m s-1)'])"
   ]
  },
  {
   "cell_type": "code",
   "execution_count": 25,
   "metadata": {},
   "outputs": [
    {
     "name": "stdout",
     "output_type": "stream",
     "text": [
      "Last run 2019-10-09 14:42:41.020708\n"
     ]
    }
   ],
   "source": [
    "print(\"Last run {0}\".format(datetime.datetime.utcnow()))\n",
    "with open('lastUpdated.txt','w') as myfile:\n",
    "    myfile.write(str(datetime.datetime.utcnow()))"
   ]
  },
  {
   "cell_type": "markdown",
   "metadata": {},
   "source": [
    "### 19BSITAEPR-2A Prawler"
   ]
  },
  {
   "cell_type": "code",
   "execution_count": 26,
   "metadata": {},
   "outputs": [],
   "source": [
    "server_url = 'http://downdraft.pmel.noaa.gov:8080/erddap'\n",
    "\n",
    "\n",
    "d = ERDDAP(server=server_url,\n",
    "           protocol='tabledap',\n",
    "           response='csv',\n",
    "          )\n",
    "\n",
    "d.dataset_id='erddap_19bsitaepr2a_prawler'\n",
    "\n",
    "#d.variables =  [d.get_var_by_attr(dataset_id=prawler, standard_name=lambda v: v is not None) for prawler in [d.dataset_id]][0]\n",
    "d.variables =  [\n",
    " 'profile_id',\n",
    " 'Temperature',\n",
    " 'depth',\n",
    " 'time',\n",
    "]"
   ]
  },
  {
   "cell_type": "code",
   "execution_count": 27,
   "metadata": {},
   "outputs": [
    {
     "ename": "ValueError",
     "evalue": "Length mismatch: Expected axis has 4 elements, new values have 9 elements",
     "output_type": "error",
     "traceback": [
      "\u001b[0;31m---------------------------------------------------------------------------\u001b[0m",
      "\u001b[0;31mValueError\u001b[0m                                Traceback (most recent call last)",
      "\u001b[0;32m<ipython-input-27-aab0da8b5c72>\u001b[0m in \u001b[0;36m<module>\u001b[0;34m\u001b[0m\n\u001b[1;32m     11\u001b[0m \u001b[0;34m\u001b[0m\u001b[0m\n\u001b[1;32m     12\u001b[0m \u001b[0mdf_sst\u001b[0m\u001b[0;34m.\u001b[0m\u001b[0msort_index\u001b[0m\u001b[0;34m(\u001b[0m\u001b[0minplace\u001b[0m\u001b[0;34m=\u001b[0m\u001b[0;32mTrue\u001b[0m\u001b[0;34m)\u001b[0m\u001b[0;34m\u001b[0m\u001b[0;34m\u001b[0m\u001b[0m\n\u001b[0;32m---> 13\u001b[0;31m \u001b[0mdf_sst\u001b[0m\u001b[0;34m.\u001b[0m\u001b[0mcolumns\u001b[0m \u001b[0;34m=\u001b[0m \u001b[0;34m[\u001b[0m\u001b[0mx\u001b[0m\u001b[0;34m[\u001b[0m\u001b[0;36m1\u001b[0m\u001b[0;34m]\u001b[0m\u001b[0;34m.\u001b[0m\u001b[0msplit\u001b[0m\u001b[0;34m(\u001b[0m\u001b[0;34m)\u001b[0m\u001b[0;34m[\u001b[0m\u001b[0;36m0\u001b[0m\u001b[0;34m]\u001b[0m \u001b[0;32mfor\u001b[0m \u001b[0mx\u001b[0m \u001b[0;32min\u001b[0m \u001b[0menumerate\u001b[0m\u001b[0;34m(\u001b[0m\u001b[0mdf\u001b[0m\u001b[0;34m.\u001b[0m\u001b[0mcolumns\u001b[0m\u001b[0;34m)\u001b[0m\u001b[0;34m]\u001b[0m\u001b[0;34m\u001b[0m\u001b[0;34m\u001b[0m\u001b[0m\n\u001b[0m\u001b[1;32m     14\u001b[0m \u001b[0;34m\u001b[0m\u001b[0m\n\u001b[1;32m     15\u001b[0m \u001b[0mdf_sst\u001b[0m\u001b[0;34m.\u001b[0m\u001b[0mtail\u001b[0m\u001b[0;34m(\u001b[0m\u001b[0;34m)\u001b[0m\u001b[0;34m\u001b[0m\u001b[0;34m\u001b[0m\u001b[0m\n",
      "\u001b[0;32m~/anaconda2/envs/py37/lib/python3.7/site-packages/pandas/core/generic.py\u001b[0m in \u001b[0;36m__setattr__\u001b[0;34m(self, name, value)\u001b[0m\n\u001b[1;32m   5190\u001b[0m         \u001b[0;32mtry\u001b[0m\u001b[0;34m:\u001b[0m\u001b[0;34m\u001b[0m\u001b[0;34m\u001b[0m\u001b[0m\n\u001b[1;32m   5191\u001b[0m             \u001b[0mobject\u001b[0m\u001b[0;34m.\u001b[0m\u001b[0m__getattribute__\u001b[0m\u001b[0;34m(\u001b[0m\u001b[0mself\u001b[0m\u001b[0;34m,\u001b[0m \u001b[0mname\u001b[0m\u001b[0;34m)\u001b[0m\u001b[0;34m\u001b[0m\u001b[0;34m\u001b[0m\u001b[0m\n\u001b[0;32m-> 5192\u001b[0;31m             \u001b[0;32mreturn\u001b[0m \u001b[0mobject\u001b[0m\u001b[0;34m.\u001b[0m\u001b[0m__setattr__\u001b[0m\u001b[0;34m(\u001b[0m\u001b[0mself\u001b[0m\u001b[0;34m,\u001b[0m \u001b[0mname\u001b[0m\u001b[0;34m,\u001b[0m \u001b[0mvalue\u001b[0m\u001b[0;34m)\u001b[0m\u001b[0;34m\u001b[0m\u001b[0;34m\u001b[0m\u001b[0m\n\u001b[0m\u001b[1;32m   5193\u001b[0m         \u001b[0;32mexcept\u001b[0m \u001b[0mAttributeError\u001b[0m\u001b[0;34m:\u001b[0m\u001b[0;34m\u001b[0m\u001b[0;34m\u001b[0m\u001b[0m\n\u001b[1;32m   5194\u001b[0m             \u001b[0;32mpass\u001b[0m\u001b[0;34m\u001b[0m\u001b[0;34m\u001b[0m\u001b[0m\n",
      "\u001b[0;32mpandas/_libs/properties.pyx\u001b[0m in \u001b[0;36mpandas._libs.properties.AxisProperty.__set__\u001b[0;34m()\u001b[0m\n",
      "\u001b[0;32m~/anaconda2/envs/py37/lib/python3.7/site-packages/pandas/core/generic.py\u001b[0m in \u001b[0;36m_set_axis\u001b[0;34m(self, axis, labels)\u001b[0m\n\u001b[1;32m    688\u001b[0m \u001b[0;34m\u001b[0m\u001b[0m\n\u001b[1;32m    689\u001b[0m     \u001b[0;32mdef\u001b[0m \u001b[0m_set_axis\u001b[0m\u001b[0;34m(\u001b[0m\u001b[0mself\u001b[0m\u001b[0;34m,\u001b[0m \u001b[0maxis\u001b[0m\u001b[0;34m,\u001b[0m \u001b[0mlabels\u001b[0m\u001b[0;34m)\u001b[0m\u001b[0;34m:\u001b[0m\u001b[0;34m\u001b[0m\u001b[0;34m\u001b[0m\u001b[0m\n\u001b[0;32m--> 690\u001b[0;31m         \u001b[0mself\u001b[0m\u001b[0;34m.\u001b[0m\u001b[0m_data\u001b[0m\u001b[0;34m.\u001b[0m\u001b[0mset_axis\u001b[0m\u001b[0;34m(\u001b[0m\u001b[0maxis\u001b[0m\u001b[0;34m,\u001b[0m \u001b[0mlabels\u001b[0m\u001b[0;34m)\u001b[0m\u001b[0;34m\u001b[0m\u001b[0;34m\u001b[0m\u001b[0m\n\u001b[0m\u001b[1;32m    691\u001b[0m         \u001b[0mself\u001b[0m\u001b[0;34m.\u001b[0m\u001b[0m_clear_item_cache\u001b[0m\u001b[0;34m(\u001b[0m\u001b[0;34m)\u001b[0m\u001b[0;34m\u001b[0m\u001b[0;34m\u001b[0m\u001b[0m\n\u001b[1;32m    692\u001b[0m \u001b[0;34m\u001b[0m\u001b[0m\n",
      "\u001b[0;32m~/anaconda2/envs/py37/lib/python3.7/site-packages/pandas/core/internals/managers.py\u001b[0m in \u001b[0;36mset_axis\u001b[0;34m(self, axis, new_labels)\u001b[0m\n\u001b[1;32m    181\u001b[0m             raise ValueError(\n\u001b[1;32m    182\u001b[0m                 \u001b[0;34m\"Length mismatch: Expected axis has {old} elements, new \"\u001b[0m\u001b[0;34m\u001b[0m\u001b[0;34m\u001b[0m\u001b[0m\n\u001b[0;32m--> 183\u001b[0;31m                 \u001b[0;34m\"values have {new} elements\"\u001b[0m\u001b[0;34m.\u001b[0m\u001b[0mformat\u001b[0m\u001b[0;34m(\u001b[0m\u001b[0mold\u001b[0m\u001b[0;34m=\u001b[0m\u001b[0mold_len\u001b[0m\u001b[0;34m,\u001b[0m \u001b[0mnew\u001b[0m\u001b[0;34m=\u001b[0m\u001b[0mnew_len\u001b[0m\u001b[0;34m)\u001b[0m\u001b[0;34m\u001b[0m\u001b[0;34m\u001b[0m\u001b[0m\n\u001b[0m\u001b[1;32m    184\u001b[0m             )\n\u001b[1;32m    185\u001b[0m \u001b[0;34m\u001b[0m\u001b[0m\n",
      "\u001b[0;31mValueError\u001b[0m: Length mismatch: Expected axis has 4 elements, new values have 9 elements"
     ]
    }
   ],
   "source": [
    "d.constraints = {\n",
    "    'time>=': datetime.datetime.today()-datetime.timedelta(days=366),\n",
    "    'time<=': datetime.datetime.utcnow()\n",
    "}\n",
    "\n",
    "d.get_download_url()\n",
    "\n",
    "df_sst = d.to_pandas(\n",
    "    skiprows=(1,)  # units information can be dropped.\n",
    ").dropna()\n",
    "\n",
    "df_sst.sort_index(inplace=True)\n",
    "df_sst.columns = [x[1].split()[0] for x in enumerate(df.columns)]\n",
    "\n",
    "df_sst.tail()"
   ]
  },
  {
   "cell_type": "code",
   "execution_count": null,
   "metadata": {},
   "outputs": [],
   "source": [
    "dfint= df_sst.groupby('profile_id')\n",
    "sst,sst_time = [], []\n",
    "for i,cast in enumerate(dfint.groups):\n",
    "    if (dfint.get_group(cast)['depth'].std() > 5) and (dfint.get_group(cast)['depth'].min() < 5):\n",
    "        sst_time = sst_time + [(dfint.get_group(cast)['time'].values)[0]]\n",
    "        #print(dfint.get_group(cast)['Temperature'][0:10])\n",
    "        sst = sst +[(dfint.get_group(cast)['Temperature'][0:5]).median()]"
   ]
  },
  {
   "cell_type": "code",
   "execution_count": null,
   "metadata": {},
   "outputs": [],
   "source": [
    "df_sst_10min.info()"
   ]
  },
  {
   "cell_type": "code",
   "execution_count": null,
   "metadata": {},
   "outputs": [],
   "source": [
    "df_sst_10min = pd.DataFrame(np.array([sst_time,sst]).T,columns=('sst_time','sst'))\n",
    "df_sst_10min.set_index(pd.to_datetime(df_sst_10min['sst_time']),inplace=True)\n",
    "df_sst_10min.drop(columns=['sst_time'],inplace=True)\n",
    "df_sst_10min[\"sst\"]=pd.to_numeric(df_sst_10min[\"sst\"])\n",
    "df_sst_10minr=df_sst_10min.resample('10T').mean()\n",
    "df_sst_10minr['UnixTime_GMT'] = [int(1000*datetime.datetime.strptime(str(x),'%Y-%m-%d %H:%M:%S+00:00').timestamp()) for x in df_sst_10minr.index]\n",
    "\n",
    "#df.to_csv('airT_SST_unix.csv',columns=['air_temperature','relative_humidity'])\n",
    "df_sst_10minr.set_index('UnixTime_GMT',inplace=True)\n"
   ]
  },
  {
   "cell_type": "code",
   "execution_count": null,
   "metadata": {},
   "outputs": [],
   "source": [
    "result = df_sst_10minr.join(df,sort=False)\n",
    "result.to_csv('airT_SST_unix.csv',columns=['air_temperature','sst'])"
   ]
  },
  {
   "cell_type": "markdown",
   "metadata": {},
   "source": [
    "### 18BSITAEPR-2A"
   ]
  },
  {
   "cell_type": "code",
   "execution_count": null,
   "metadata": {},
   "outputs": [],
   "source": [
    "server_url = 'http://downdraft.pmel.noaa.gov:8080/erddap'\n",
    "\n",
    "\n",
    "d = ERDDAP(server=server_url,\n",
    "           protocol='tabledap',\n",
    "           response='csv',\n",
    "          )\n",
    "\n",
    "d.dataset_id='erddap_18bsitaepr2a_met'\n",
    "\n",
    "d.variables =  [d.get_var_by_attr(dataset_id=prawler, standard_name=lambda v: v is not None) for prawler in [d.dataset_id]][0]\n",
    "\n",
    "d.constraints = {\n",
    "    'time>=': '2018-01-01',\n",
    "    'time<=': '2018-12-31'\n",
    "}\n",
    "\n",
    "d.get_download_url()\n",
    "\n",
    "df = d.to_pandas(\n",
    "    skiprows=(1,)  # units information can be dropped.\n",
    ").dropna()\n",
    "\n",
    "df.sort_index(inplace=True)\n",
    "df.columns = [x[1].split()[0] for x in enumerate(df.columns)]\n",
    "\n",
    "#calculate windspeed and direction\n",
    "df['wind_speed (m s-1)']=np.sqrt(df['northward_wind']**2 + df['eastward_wind']**2)\n",
    "df['wind_from_direction (degrees true)'] = 270-np.rad2deg(np.arctan2(df['northward_wind'],\n",
    "                                                                 df['eastward_wind']))\n",
    "\n",
    "df['wind_from_direction (degrees true)'][df['wind_from_direction (degrees true)']>360] = df['wind_from_direction (degrees true)'][df['wind_from_direction (degrees true)']>360]-360\n",
    "\n",
    "#quick qc\n",
    "df['air_temperature'][df['air_temperature']>50]=np.nan\n",
    "df['wind_speed (m s-1)'][df['wind_speed (m s-1)']>100]=np.nan\n",
    "\n",
    "###\n",
    "\n",
    "df['UnixTime_GMT'] = [int(1000*datetime.datetime.strptime(x,'%Y-%m-%dT%H:%M:%SZ').timestamp()) for x in df.time]\n",
    "df.set_index('UnixTime_GMT',inplace=True)\n",
    "df.drop(columns=['time'],inplace=True)\n",
    "\n",
    "df.to_csv('airTH_unix.csv',columns=['air_temperature','relative_humidity'])\n",
    "df.to_csv('airTP_unix.csv',columns=['air_temperature','air_pressure'])\n",
    "df.to_csv('airWSWD_unix.csv',columns=['wind_from_direction (degrees true)','wind_speed (m s-1)'])\n",
    "\n",
    "print(\"Last run {0}\".format(datetime.datetime.utcnow()))\n",
    "with open('lastUpdated.txt','w') as myfile:\n",
    "    myfile.write(str(datetime.datetime.utcnow()))"
   ]
  },
  {
   "cell_type": "markdown",
   "metadata": {},
   "source": [
    "### 19CKITAEPR-2A (FCOM)"
   ]
  },
  {
   "cell_type": "code",
   "execution_count": null,
   "metadata": {},
   "outputs": [],
   "source": [
    "server_url = 'http://heron:8080/erddap'\n",
    "\n",
    "d = ERDDAP(server=server_url,\n",
    "           protocol='tabledap',\n",
    "           response='csv',\n",
    "          )\n",
    "\n",
    "d.dataset_id='TELOF001_PRAWC_F001'\n",
    "\n",
    "d.variables =  [d.get_var_by_attr(dataset_id=prawler, standard_name=lambda v: v is not None) for prawler in [d.dataset_id]][0]\n",
    "\n",
    "d.constraints = {\n",
    "\n",
    "}\n",
    "\n",
    "d.get_download_url()\n",
    "\n",
    "df = d.to_pandas(\n",
    "    skiprows=(1,)  # units information can be dropped.\n",
    ").dropna()\n",
    "\n",
    "df.sort_index(inplace=True)\n",
    "df.columns = [x[1].split()[0] for x in enumerate(df.columns)]\n"
   ]
  },
  {
   "cell_type": "code",
   "execution_count": null,
   "metadata": {},
   "outputs": [],
   "source": []
  }
 ],
 "metadata": {
  "kernelspec": {
   "display_name": "Python [conda env:py37]",
   "language": "python",
   "name": "conda-env-py37-py"
  },
  "language_info": {
   "codemirror_mode": {
    "name": "ipython",
    "version": 3
   },
   "file_extension": ".py",
   "mimetype": "text/x-python",
   "name": "python",
   "nbconvert_exporter": "python",
   "pygments_lexer": "ipython3",
   "version": "3.7.3"
  }
 },
 "nbformat": 4,
 "nbformat_minor": 4
}
