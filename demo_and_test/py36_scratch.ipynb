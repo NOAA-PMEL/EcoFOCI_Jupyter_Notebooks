{
 "cells": [
  {
   "cell_type": "code",
   "execution_count": 8,
   "metadata": {},
   "outputs": [],
   "source": [
    "import xarray as xa\n",
    "\n",
    "import numpy as np\n",
    "import os\n",
    "from scipy import interpolate\n",
    "import pandas as pd\n",
    "\n",
    "import matplotlib as mpl\n",
    "from netCDF4 import num2date, date2num\n",
    "import datetime\n",
    "\n",
    "import seawater as sw"
   ]
  },
  {
   "cell_type": "code",
   "execution_count": 15,
   "metadata": {},
   "outputs": [],
   "source": [
    "filein = '/Users/bell/ecoraid/2018/CTDcasts/HE1801/working/he1801_CTDpNutrients.xlsx'"
   ]
  },
  {
   "cell_type": "code",
   "execution_count": 16,
   "metadata": {},
   "outputs": [],
   "source": [
    "fid = pd.read_excel(filein,skiprows=32)"
   ]
  },
  {
   "cell_type": "code",
   "execution_count": 11,
   "metadata": {},
   "outputs": [],
   "source": [
    "fid['ST_70']=sw.dens0(s=fid.S_41,t=fid.T_28)-1000.\n",
    "fid['ST_2070']=sw.dens0(s=fid.S_42,t=fid.T2_35)-1000."
   ]
  },
  {
   "cell_type": "code",
   "execution_count": 14,
   "metadata": {},
   "outputs": [],
   "source": [
    "fid.to_csv('/Users/bell/ecoraid/2018/CTDcasts/HE1801/working/he1801_CTDpNutrients.csv')"
   ]
  },
  {
   "cell_type": "code",
   "execution_count": 17,
   "metadata": {
    "jupyter": {
     "source_hidden": true
    }
   },
   "outputs": [],
   "source": [
    "def O2PercentSat(oxygen_conc=None, temperature=None, salinity=None, pressure=0):\n",
    "    \"\"\"\n",
    "    # calculate oxygen saturation\n",
    "    # Garcia and Gorden 1992 - from Seabird Derived Parameter Formulas\n",
    "    \n",
    "    \"\"\"\n",
    "\n",
    "    coefs = {\n",
    "        \"GG_A0\": 2.00907,\n",
    "        \"GG_A1\": 3.22014,\n",
    "        \"GG_A2\": 4.0501,\n",
    "        \"GG_A3\": 4.94457,\n",
    "        \"GG_A4\": -0.256847,\n",
    "        \"GG_A5\": 3.88767,\n",
    "        \"GG_B0\": -0.00624523,\n",
    "        \"GG_B1\": -0.00737614,\n",
    "        \"GG_B2\": -0.010341,\n",
    "        \"GG_B3\": -0.00817083,\n",
    "        \"GG_C0\": -0.000000488682,\n",
    "    }\n",
    "\n",
    "    scaled_temp = np.log((298.15 - temperature) / (273.15 + temperature))\n",
    "\n",
    "    Oxsol_pri = np.exp(\n",
    "        coefs[\"GG_A0\"]\n",
    "        + coefs[\"GG_A1\"] * scaled_temp\n",
    "        + coefs[\"GG_A2\"] * (scaled_temp) ** 2\n",
    "        + coefs[\"GG_A3\"] * (scaled_temp) ** 3\n",
    "        + coefs[\"GG_A4\"] * (scaled_temp) ** 4\n",
    "        + coefs[\"GG_A5\"] * (scaled_temp) ** 5\n",
    "        + salinity\n",
    "        * (\n",
    "            coefs[\"GG_B0\"]\n",
    "            + coefs[\"GG_B1\"] * scaled_temp\n",
    "            + coefs[\"GG_B2\"] * (scaled_temp) ** 2\n",
    "            + coefs[\"GG_B3\"] * (scaled_temp) ** 3\n",
    "        )\n",
    "        + coefs[\"GG_C0\"] * (salinity) ** 2\n",
    "    )\n",
    "\n",
    "    # determine sigmatheta and convert Oxygen from micromoles/kg to ml/l\n",
    "    # calculate new oxygen saturation percent using derived oxsol\n",
    "    sigmatheta_pri = sw.eos80.pden(salinity, temperature, pressure)\n",
    "    OxPerSat_pri = ((oxygen_conc * sigmatheta_pri / 44660) / Oxsol_pri) * 100.0\n",
    "\n",
    "    # replace nan/1e35 with 1e35, >1e10\n",
    "    try:\n",
    "        OxPerSat_pri[oxygen_conc >= 1e30] = np.nan\n",
    "    except:\n",
    "        if OxPerSat_pri >= 1e30:\n",
    "            OxPerSat_pri = np.nan\n",
    "\n",
    "    return OxPerSat_pri\n"
   ]
  },
  {
   "cell_type": "code",
   "execution_count": 20,
   "metadata": {},
   "outputs": [],
   "source": [
    "fid['OST_62']=O2PercentSat(oxygen_conc=fid.O_65, temperature=fid.T_28, salinity=fid.S_41, pressure=fid.P_1)\n",
    "fid['CTDOST_4221']=O2PercentSat(oxygen_conc=fid.CTDOXY_4220, temperature=fid.T2_35, salinity=fid.S_42, pressure=fid.P_1)"
   ]
  },
  {
   "cell_type": "code",
   "execution_count": 21,
   "metadata": {},
   "outputs": [],
   "source": [
    "fid.to_csv('/Users/bell/ecoraid/2018/CTDcasts/HE1801/working/he1801_CTDpNutrients.csv')"
   ]
  },
  {
   "cell_type": "code",
   "execution_count": null,
   "metadata": {},
   "outputs": [],
   "source": []
  }
 ],
 "metadata": {
  "kernelspec": {
   "display_name": "Python [conda env:py37]",
   "language": "python",
   "name": "conda-env-py37-py"
  },
  "language_info": {
   "codemirror_mode": {
    "name": "ipython",
    "version": 3
   },
   "file_extension": ".py",
   "mimetype": "text/x-python",
   "name": "python",
   "nbconvert_exporter": "python",
   "pygments_lexer": "ipython3",
   "version": "3.7.3"
  }
 },
 "nbformat": 4,
 "nbformat_minor": 4
}
