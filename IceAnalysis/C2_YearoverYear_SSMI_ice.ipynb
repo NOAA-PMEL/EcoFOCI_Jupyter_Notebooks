{
 "cells": [
  {
   "cell_type": "markdown",
   "metadata": {},
   "source": [
    "# Mooring Year over Year Plots\n",
    "\n",
    "__pyversion__==3.7   \n",
    "__author__==S.Bell\n",
    "\n",
    "Given chosen mooring - list all datafiles and parameter wanted to get year over year plots"
   ]
  },
  {
   "cell_type": "markdown",
   "metadata": {},
   "source": [
    "## Mooring C2\n",
    "* 50km ice percent coverage from SSMI (sigrid routines)"
   ]
  },
  {
   "cell_type": "code",
   "execution_count": 25,
   "metadata": {},
   "outputs": [],
   "source": [
    "import pandas as pd\n",
    "import numpy as np\n",
    "\n",
    "import matplotlib as mpl\n",
    "import matplotlib.pyplot as plt\n",
    "from matplotlib.dates import YearLocator, WeekdayLocator, MonthLocator, DayLocator, HourLocator, DateFormatter\n",
    "import matplotlib.ticker as ticker\n",
    "import matplotlib.dates as mdates\n",
    "\n",
    "import datetime"
   ]
  },
  {
   "cell_type": "code",
   "execution_count": 50,
   "metadata": {},
   "outputs": [],
   "source": [
    "files = 'data/meanice_ssmi_ck2_1991-2018_days001-366_dist_050km_all.dat'\n",
    "df = pd.read_csv(files,delimiter='\\s+')\n",
    "files_2018 = 'data/meanice_ssmi_ck2_2018-2019_days001-365_dist_050km_all.dat'\n",
    "df_2018 = pd.read_csv(files_2018,delimiter='\\s+')\n",
    "\n",
    "df[df<0] = np.nan"
   ]
  },
  {
   "cell_type": "code",
   "execution_count": 5,
   "metadata": {},
   "outputs": [],
   "source": [
    "dfm = df.mean(axis=1)\n",
    "dfm_d = pd.concat([dfm,dfm],ignore_index=True).to_frame(name='dfm_d')\n",
    "\n",
    "dfm_d['datetime']=np.nan"
   ]
  },
  {
   "cell_type": "code",
   "execution_count": 6,
   "metadata": {},
   "outputs": [
    {
     "name": "stderr",
     "output_type": "stream",
     "text": [
      "/Users/bell/anaconda2/envs/py37/lib/python3.7/site-packages/ipykernel_launcher.py:4: SettingWithCopyWarning: \n",
      "A value is trying to be set on a copy of a slice from a DataFrame\n",
      "\n",
      "See the caveats in the documentation: http://pandas.pydata.org/pandas-docs/stable/indexing.html#indexing-view-versus-copy\n",
      "  after removing the cwd from sys.path.\n",
      "/Users/bell/anaconda2/envs/py37/lib/python3.7/site-packages/ipykernel_launcher.py:6: SettingWithCopyWarning: \n",
      "A value is trying to be set on a copy of a slice from a DataFrame\n",
      "\n",
      "See the caveats in the documentation: http://pandas.pydata.org/pandas-docs/stable/indexing.html#indexing-view-versus-copy\n",
      "  \n"
     ]
    }
   ],
   "source": [
    "for index, row in dfm_d.iterrows():\n",
    "    \n",
    "    if index <366:\n",
    "        dfm_d['datetime'][index] =  pd.to_datetime('2017 '+str(index+1), format='%Y %j')\n",
    "    else:\n",
    "        dfm_d['datetime'][index] =  pd.to_datetime('2018 '+str(index+1-366), format='%Y %j')"
   ]
  },
  {
   "cell_type": "code",
   "execution_count": 44,
   "metadata": {},
   "outputs": [],
   "source": [
    "### specify primary bulk figure parameters\n",
    "fontsize = 20\n",
    "labelsize = 16\n",
    "#plotstyle = 'seaborn'\n",
    "max_xticks = 10\n",
    "plt.style.use('seaborn-ticks')\n",
    "mpl.rcParams['svg.fonttype'] = 'none'\n",
    "mpl.rcParams['ps.fonttype'] = 42 #truetype/type2 fonts instead of type3\n",
    "mpl.rcParams['pdf.fonttype'] = 42 #truetype/type2 fonts instead of type3\n",
    "mpl.rcParams['axes.grid'] = False\n",
    "mpl.rcParams['axes.edgecolor'] = 'black'\n",
    "mpl.rcParams['axes.linewidth'] = 1.5\n",
    "mpl.rcParams['axes.labelcolor'] = 'black'\n",
    "mpl.rcParams['grid.linestyle'] = '--'\n",
    "mpl.rcParams['grid.linestyle'] = '--'\n",
    "mpl.rcParams['xtick.major.size'] = 4\n",
    "mpl.rcParams['xtick.minor.size'] = 2\n",
    "mpl.rcParams['xtick.major.width'] = 2\n",
    "mpl.rcParams['xtick.minor.width'] = 1\n",
    "mpl.rcParams['ytick.major.size'] = 4\n",
    "mpl.rcParams['ytick.minor.size'] = 1\n",
    "mpl.rcParams['ytick.major.width'] = 2\n",
    "mpl.rcParams['ytick.minor.width'] = 1\n",
    "mpl.rcParams['ytick.direction'] = 'out'\n",
    "mpl.rcParams['xtick.direction'] = 'out'\n",
    "mpl.rcParams['ytick.color'] = 'black'\n",
    "mpl.rcParams['xtick.color'] = 'black'"
   ]
  },
  {
   "cell_type": "code",
   "execution_count": 54,
   "metadata": {},
   "outputs": [
    {
     "data": {
      "image/png": "[encoded data removed]",
      "text/plain": [
       "<Figure size 648x162 with 1 Axes>"
      ]
     },
     "metadata": {},
     "output_type": "display_data"
    }
   ],
   "source": [
    "fig = plt.figure(1,figsize=(9,2.25))\n",
    "ax1 = plt.subplot2grid((1, 1), (0, 0), colspan=1, rowspan=1)\n",
    "\n",
    "plt.plot(dfm_d['datetime'],dfm_d['dfm_d'],'grey')\n",
    "plt.plot(dfm_d['datetime'][:366],df['2017'],'k')\n",
    "plt.plot(dfm_d['datetime'][366:-1],df_2018['2018'],'k')\n",
    "plt.xlim(['2017-07-01','2018-07-01'])\n",
    "\n",
    "ax1.xaxis.set_major_locator(MonthLocator(bymonth=range(1,12,2)))\n",
    "ax1.xaxis.set_minor_locator(MonthLocator(bymonth=range(2,13,2)))\n",
    "xfmt = mdates.DateFormatter('%Y-%b-%d')\n",
    "ax1.xaxis.set_major_formatter(xfmt)\n",
    "\n",
    "fig.savefig('images/C2_PerIceCover_ltmean_2017t2018.png',dpi=300)\n"
   ]
  },
  {
   "cell_type": "code",
   "execution_count": null,
   "metadata": {},
   "outputs": [],
   "source": []
  }
 ],
 "metadata": {
  "kernelspec": {
   "display_name": "Python [conda env:py37] *",
   "language": "python",
   "name": "conda-env-py37-py"
  },
  "language_info": {
   "codemirror_mode": {
    "name": "ipython",
    "version": 3
   },
   "file_extension": ".py",
   "mimetype": "text/x-python",
   "name": "python",
   "nbconvert_exporter": "python",
   "pygments_lexer": "ipython3",
   "version": "3.7.6"
  }
 },
 "nbformat": 4,
 "nbformat_minor": 4
}
