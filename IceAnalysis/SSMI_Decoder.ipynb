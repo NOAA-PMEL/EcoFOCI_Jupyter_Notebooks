{
 "cells": [
  {
   "cell_type": "markdown",
   "metadata": {},
   "source": [
    "### SSMI Decoder \n",
    "\n",
    "NRT\n",
    "\n",
    "Bootstrap"
   ]
  },
  {
   "cell_type": "code",
   "execution_count": 2,
   "metadata": {},
   "outputs": [],
   "source": [
    "import numpy as np\n",
    "import pandas as pd"
   ]
  },
  {
   "cell_type": "code",
   "execution_count": 3,
   "metadata": {},
   "outputs": [],
   "source": [
    "def decode_datafile(filename,datasource='NRT'):\n",
    "    icefile = open(filename, 'rb')\n",
    "\n",
    "    if datasource is 'NRT':\n",
    "       #remove the header\n",
    "       icefile.seek(300)\n",
    "       ice = np.fromfile(icefile,dtype=np.uint8)\n",
    "       ice[ice >= 253] = 0\n",
    "       ice = ice/2.5\n",
    "    elif datasource is 'Bootstrap':\n",
    "       #no header\n",
    "       ice = np.fromfile(icefile,dtype=np.uint16)\n",
    "       ice = ice/10.\n",
    "       ice[ice == 110] = 0 #110 is land\n",
    "       ice[ice == 120] = 100 #120 is polar hole\n",
    "    else:\n",
    "       ice=np.nan\n",
    "\n",
    "    return ice;\n",
    "\n",
    "\n",
    "def get_date(filename):\n",
    "    icefile = open(filename, 'rb')\n",
    "    header = icefile.read(300)\n",
    "    #the date is located btw the following bytes\n",
    "    date = date=header[219:229].decode() #gets date from header\n",
    "    date = dt.datetime.strptime(date,\"%m/%d/%Y\")\n",
    "    return date;\n",
    "\n",
    "def decode_latlon(filename):\n",
    "    latlon_file = open(filename, 'rb')\n",
    "    output = np.fromfile(latlon_file,dtype='<i4')\n",
    "    output = output/100000.0\n",
    "    return output;"
   ]
  },
  {
   "cell_type": "code",
   "execution_count": 4,
   "metadata": {},
   "outputs": [],
   "source": [
    "fp = '/Users/bell/in_and_outbox/data_sets/nrt_nasatime_seaice/nt_20190303_f18_nrt_n.bin'\n",
    "ice = decode_datafile(fp,datasource='NRT')"
   ]
  },
  {
   "cell_type": "code",
   "execution_count": 5,
   "metadata": {},
   "outputs": [],
   "source": [
    "lats_fp='data/psn25lats_v3.dat'\n",
    "lats = decode_latlon(lats_fp)\n",
    "lons_fp='data/psn25lons_v3.dat'\n",
    "lons = decode_latlon(lons_fp)"
   ]
  },
  {
   "cell_type": "code",
   "execution_count": 6,
   "metadata": {},
   "outputs": [
    {
     "data": {
      "text/plain": [
       "(136192,)"
      ]
     },
     "execution_count": 6,
     "metadata": {},
     "output_type": "execute_result"
    }
   ],
   "source": [
    "np.shape(ice)"
   ]
  },
  {
   "cell_type": "code",
   "execution_count": 7,
   "metadata": {},
   "outputs": [
    {
     "data": {
      "text/plain": [
       "(136192,)"
      ]
     },
     "execution_count": 7,
     "metadata": {},
     "output_type": "execute_result"
    }
   ],
   "source": [
    "np.shape(lats)"
   ]
  },
  {
   "cell_type": "code",
   "execution_count": 10,
   "metadata": {},
   "outputs": [],
   "source": [
    "data={'latitude':decode_latlon(lats_fp), 'longitude':decode_latlon(lons_fp),\n",
    "      'ice_conc':decode_datafile(fp,'NRT')}\n",
    "df=pd.DataFrame(data)"
   ]
  },
  {
   "cell_type": "code",
   "execution_count": 11,
   "metadata": {},
   "outputs": [
    {
     "data": {
      "text/html": [
       "<div>\n",
       "<style scoped>\n",
       "    .dataframe tbody tr th:only-of-type {\n",
       "        vertical-align: middle;\n",
       "    }\n",
       "\n",
       "    .dataframe tbody tr th {\n",
       "        vertical-align: top;\n",
       "    }\n",
       "\n",
       "    .dataframe thead th {\n",
       "        text-align: right;\n",
       "    }\n",
       "</style>\n",
       "<table border=\"1\" class=\"dataframe\">\n",
       "  <thead>\n",
       "    <tr style=\"text-align: right;\">\n",
       "      <th></th>\n",
       "      <th>latitude</th>\n",
       "      <th>longitude</th>\n",
       "      <th>ice_conc</th>\n",
       "    </tr>\n",
       "  </thead>\n",
       "  <tbody>\n",
       "    <tr>\n",
       "      <th>count</th>\n",
       "      <td>136192.000000</td>\n",
       "      <td>136192.000000</td>\n",
       "      <td>136192.000000</td>\n",
       "    </tr>\n",
       "    <tr>\n",
       "      <th>mean</th>\n",
       "      <td>57.624520</td>\n",
       "      <td>17.489821</td>\n",
       "      <td>15.403627</td>\n",
       "    </tr>\n",
       "    <tr>\n",
       "      <th>std</th>\n",
       "      <td>12.239096</td>\n",
       "      <td>104.975745</td>\n",
       "      <td>34.140085</td>\n",
       "    </tr>\n",
       "    <tr>\n",
       "      <th>min</th>\n",
       "      <td>31.102670</td>\n",
       "      <td>-180.000000</td>\n",
       "      <td>0.000000</td>\n",
       "    </tr>\n",
       "    <tr>\n",
       "      <th>25%</th>\n",
       "      <td>47.900800</td>\n",
       "      <td>-70.346180</td>\n",
       "      <td>0.000000</td>\n",
       "    </tr>\n",
       "    <tr>\n",
       "      <th>50%</th>\n",
       "      <td>56.940085</td>\n",
       "      <td>6.666425</td>\n",
       "      <td>0.000000</td>\n",
       "    </tr>\n",
       "    <tr>\n",
       "      <th>75%</th>\n",
       "      <td>66.304733</td>\n",
       "      <td>115.033140</td>\n",
       "      <td>0.000000</td>\n",
       "    </tr>\n",
       "    <tr>\n",
       "      <th>max</th>\n",
       "      <td>89.836820</td>\n",
       "      <td>179.813980</td>\n",
       "      <td>100.400000</td>\n",
       "    </tr>\n",
       "  </tbody>\n",
       "</table>\n",
       "</div>"
      ],
      "text/plain": [
       "            latitude      longitude       ice_conc\n",
       "count  136192.000000  136192.000000  136192.000000\n",
       "mean       57.624520      17.489821      15.403627\n",
       "std        12.239096     104.975745      34.140085\n",
       "min        31.102670    -180.000000       0.000000\n",
       "25%        47.900800     -70.346180       0.000000\n",
       "50%        56.940085       6.666425       0.000000\n",
       "75%        66.304733     115.033140       0.000000\n",
       "max        89.836820     179.813980     100.400000"
      ]
     },
     "execution_count": 11,
     "metadata": {},
     "output_type": "execute_result"
    }
   ],
   "source": [
    "df.describe()"
   ]
  },
  {
   "cell_type": "code",
   "execution_count": null,
   "metadata": {},
   "outputs": [],
   "source": []
  }
 ],
 "metadata": {
  "kernelspec": {
   "display_name": "Python [conda env:py37] *",
   "language": "python",
   "name": "conda-env-py37-py"
  },
  "language_info": {
   "codemirror_mode": {
    "name": "ipython",
    "version": 3
   },
   "file_extension": ".py",
   "mimetype": "text/x-python",
   "name": "python",
   "nbconvert_exporter": "python",
   "pygments_lexer": "ipython3",
   "version": "3.7.9"
  }
 },
 "nbformat": 4,
 "nbformat_minor": 4
}
