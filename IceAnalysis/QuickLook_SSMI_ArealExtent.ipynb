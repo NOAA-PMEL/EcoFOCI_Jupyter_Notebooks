{
 "cells": [
  {
   "cell_type": "markdown",
   "metadata": {},
   "source": [
    "## SSMI Ice data\n",
    "### Cartopy quicklook\n",
    "\n",
    "This notebook provides guidance to visualize SSMI data after it has been processed from raw binary data to csv data with columns of ice_concentration, latitude, and longitude.  It regrids the data to the users choice (default = 0.25x0.25 degree) by declaring the number of columns of latitude and longitude.\n",
    "\n",
    "There is also timing components built in to see if and where the ingest/gridding/plotting can be spead up"
   ]
  },
  {
   "cell_type": "markdown",
   "metadata": {},
   "source": [
    "__pyversion__==3.7   \n",
    "__author__==S.Bell"
   ]
  },
  {
   "cell_type": "code",
   "execution_count": 18,
   "metadata": {},
   "outputs": [],
   "source": [
    "import numpy as np\n",
    "import datetime\n",
    "\n",
    "import pandas as pd\n",
    "\n",
    "import matplotlib.pyplot as plt\n",
    "import cartopy.crs as ccrs\n",
    "import cartopy.feature as cfeature\n",
    "from cartopy.io import shapereader\n",
    "from cartopy.mpl.gridliner import LONGITUDE_FORMATTER, LATITUDE_FORMATTER\n",
    "\n",
    "import timeit"
   ]
  },
  {
   "cell_type": "code",
   "execution_count": 19,
   "metadata": {},
   "outputs": [],
   "source": [
    "filein = '/Users/bell/in_and_outbox/data_sets/gsfc_bootstrap_seaice_v3/daily/1978/bt_19781231_n07_v3.1_n.csv'\n",
    "df = pd.read_csv(filein)\n"
   ]
  },
  {
   "cell_type": "code",
   "execution_count": 20,
   "metadata": {},
   "outputs": [
    {
     "data": {
      "text/html": [
       "<div>\n",
       "<style scoped>\n",
       "    .dataframe tbody tr th:only-of-type {\n",
       "        vertical-align: middle;\n",
       "    }\n",
       "\n",
       "    .dataframe tbody tr th {\n",
       "        vertical-align: top;\n",
       "    }\n",
       "\n",
       "    .dataframe thead th {\n",
       "        text-align: right;\n",
       "    }\n",
       "</style>\n",
       "<table border=\"1\" class=\"dataframe\">\n",
       "  <thead>\n",
       "    <tr style=\"text-align: right;\">\n",
       "      <th></th>\n",
       "      <th>grid_area</th>\n",
       "      <th>ice_conc</th>\n",
       "      <th>latitude</th>\n",
       "      <th>longitude</th>\n",
       "    </tr>\n",
       "  </thead>\n",
       "  <tbody>\n",
       "    <tr>\n",
       "      <th>count</th>\n",
       "      <td>136192.000000</td>\n",
       "      <td>136192.000000</td>\n",
       "      <td>136192.000000</td>\n",
       "      <td>136192.000000</td>\n",
       "    </tr>\n",
       "    <tr>\n",
       "      <th>mean</th>\n",
       "      <td>555.540872</td>\n",
       "      <td>16.472752</td>\n",
       "      <td>57.624520</td>\n",
       "      <td>17.489821</td>\n",
       "    </tr>\n",
       "    <tr>\n",
       "      <th>std</th>\n",
       "      <td>65.681213</td>\n",
       "      <td>36.083450</td>\n",
       "      <td>12.239096</td>\n",
       "      <td>104.975745</td>\n",
       "    </tr>\n",
       "    <tr>\n",
       "      <th>min</th>\n",
       "      <td>382.659000</td>\n",
       "      <td>0.000000</td>\n",
       "      <td>31.102670</td>\n",
       "      <td>-180.000000</td>\n",
       "    </tr>\n",
       "    <tr>\n",
       "      <th>25%</th>\n",
       "      <td>504.298000</td>\n",
       "      <td>0.000000</td>\n",
       "      <td>47.900800</td>\n",
       "      <td>-70.346180</td>\n",
       "    </tr>\n",
       "    <tr>\n",
       "      <th>50%</th>\n",
       "      <td>561.330500</td>\n",
       "      <td>0.000000</td>\n",
       "      <td>56.940085</td>\n",
       "      <td>6.666425</td>\n",
       "    </tr>\n",
       "    <tr>\n",
       "      <th>75%</th>\n",
       "      <td>609.645500</td>\n",
       "      <td>0.000000</td>\n",
       "      <td>66.304733</td>\n",
       "      <td>115.033140</td>\n",
       "    </tr>\n",
       "    <tr>\n",
       "      <th>max</th>\n",
       "      <td>664.449000</td>\n",
       "      <td>100.000000</td>\n",
       "      <td>89.836820</td>\n",
       "      <td>179.813980</td>\n",
       "    </tr>\n",
       "  </tbody>\n",
       "</table>\n",
       "</div>"
      ],
      "text/plain": [
       "           grid_area       ice_conc       latitude      longitude\n",
       "count  136192.000000  136192.000000  136192.000000  136192.000000\n",
       "mean      555.540872      16.472752      57.624520      17.489821\n",
       "std        65.681213      36.083450      12.239096     104.975745\n",
       "min       382.659000       0.000000      31.102670    -180.000000\n",
       "25%       504.298000       0.000000      47.900800     -70.346180\n",
       "50%       561.330500       0.000000      56.940085       6.666425\n",
       "75%       609.645500       0.000000      66.304733     115.033140\n",
       "max       664.449000     100.000000      89.836820     179.813980"
      ]
     },
     "execution_count": 20,
     "metadata": {},
     "output_type": "execute_result"
    }
   ],
   "source": [
    "df.describe()"
   ]
  },
  {
   "cell_type": "markdown",
   "metadata": {},
   "source": [
    "## options for thinning data out"
   ]
  },
  {
   "cell_type": "code",
   "execution_count": 21,
   "metadata": {},
   "outputs": [],
   "source": [
    "### set a range of lats and lons\n",
    "# not advised as this messes with gridding assumptions later\n",
    "#df.drop(df.loc[((df['latitude']<=45) | (df['latitude']>=75))].index, inplace=True)\n",
    "#df.drop(df.loc[((df['longitude']<=-180) | (df['longitude']>=-150))].index, inplace=True)\n",
    "\n",
    "### remove 0's by either dropping and making database smaller or by replacing with nans\n",
    "# not advised for highly regional views as code may interpolate over these gaps oddly \n",
    "# . or zeros may be actual (polynas).  Global views may be ok and speed up though\n",
    "\n",
    "#df.drop(df.loc[df['ice_conc']==0].index, inplace=True)\n",
    "# or\n",
    "#df['ice_conc'][df['ice_conc']==0] = np.nan"
   ]
  },
  {
   "cell_type": "code",
   "execution_count": 22,
   "metadata": {},
   "outputs": [
    {
     "data": {
      "text/html": [
       "<div>\n",
       "<style scoped>\n",
       "    .dataframe tbody tr th:only-of-type {\n",
       "        vertical-align: middle;\n",
       "    }\n",
       "\n",
       "    .dataframe tbody tr th {\n",
       "        vertical-align: top;\n",
       "    }\n",
       "\n",
       "    .dataframe thead th {\n",
       "        text-align: right;\n",
       "    }\n",
       "</style>\n",
       "<table border=\"1\" class=\"dataframe\">\n",
       "  <thead>\n",
       "    <tr style=\"text-align: right;\">\n",
       "      <th></th>\n",
       "      <th>grid_area</th>\n",
       "      <th>ice_conc</th>\n",
       "      <th>latitude</th>\n",
       "      <th>longitude</th>\n",
       "    </tr>\n",
       "  </thead>\n",
       "  <tbody>\n",
       "    <tr>\n",
       "      <th>count</th>\n",
       "      <td>136192.000000</td>\n",
       "      <td>136192.000000</td>\n",
       "      <td>136192.000000</td>\n",
       "      <td>136192.000000</td>\n",
       "    </tr>\n",
       "    <tr>\n",
       "      <th>mean</th>\n",
       "      <td>555.540872</td>\n",
       "      <td>16.472752</td>\n",
       "      <td>57.624520</td>\n",
       "      <td>17.489821</td>\n",
       "    </tr>\n",
       "    <tr>\n",
       "      <th>std</th>\n",
       "      <td>65.681213</td>\n",
       "      <td>36.083450</td>\n",
       "      <td>12.239096</td>\n",
       "      <td>104.975745</td>\n",
       "    </tr>\n",
       "    <tr>\n",
       "      <th>min</th>\n",
       "      <td>382.659000</td>\n",
       "      <td>0.000000</td>\n",
       "      <td>31.102670</td>\n",
       "      <td>-180.000000</td>\n",
       "    </tr>\n",
       "    <tr>\n",
       "      <th>25%</th>\n",
       "      <td>504.298000</td>\n",
       "      <td>0.000000</td>\n",
       "      <td>47.900800</td>\n",
       "      <td>-70.346180</td>\n",
       "    </tr>\n",
       "    <tr>\n",
       "      <th>50%</th>\n",
       "      <td>561.330500</td>\n",
       "      <td>0.000000</td>\n",
       "      <td>56.940085</td>\n",
       "      <td>6.666425</td>\n",
       "    </tr>\n",
       "    <tr>\n",
       "      <th>75%</th>\n",
       "      <td>609.645500</td>\n",
       "      <td>0.000000</td>\n",
       "      <td>66.304733</td>\n",
       "      <td>115.033140</td>\n",
       "    </tr>\n",
       "    <tr>\n",
       "      <th>max</th>\n",
       "      <td>664.449000</td>\n",
       "      <td>100.000000</td>\n",
       "      <td>89.836820</td>\n",
       "      <td>179.813980</td>\n",
       "    </tr>\n",
       "  </tbody>\n",
       "</table>\n",
       "</div>"
      ],
      "text/plain": [
       "           grid_area       ice_conc       latitude      longitude\n",
       "count  136192.000000  136192.000000  136192.000000  136192.000000\n",
       "mean      555.540872      16.472752      57.624520      17.489821\n",
       "std        65.681213      36.083450      12.239096     104.975745\n",
       "min       382.659000       0.000000      31.102670    -180.000000\n",
       "25%       504.298000       0.000000      47.900800     -70.346180\n",
       "50%       561.330500       0.000000      56.940085       6.666425\n",
       "75%       609.645500       0.000000      66.304733     115.033140\n",
       "max       664.449000     100.000000      89.836820     179.813980"
      ]
     },
     "execution_count": 22,
     "metadata": {},
     "output_type": "execute_result"
    }
   ],
   "source": [
    "df.describe()"
   ]
  },
  {
   "cell_type": "code",
   "execution_count": 23,
   "metadata": {},
   "outputs": [],
   "source": [
    "#define the basic map projection information and figure size\n",
    "\n",
    "def make_map(projection=ccrs.PlateCarree()):\n",
    "    fig, ax = plt.subplots(figsize=(10.5, 10.5),\n",
    "                           subplot_kw=dict(projection=projection))\n",
    "    if projection == ccrs.PlateCarree():\n",
    "        gl = ax.gridlines(draw_labels=True)\n",
    "        gl.xlabels_top = gl.ylabels_right = False\n",
    "        gl.xformatter = LONGITUDE_FORMATTER\n",
    "        gl.yformatter = LATITUDE_FORMATTER\n",
    "    return fig, ax\n",
    "\n",
    "#download land mask\n",
    "# 50m is a good balance between dataset size and land feature resolution\n",
    "land_50m = cfeature.NaturalEarthFeature('physical', 'land', '50m',\n",
    "                                        edgecolor='face',\n",
    "                                        facecolor='1.0')"
   ]
  },
  {
   "cell_type": "markdown",
   "metadata": {},
   "source": [
    "### Calculate Areal Ice extent"
   ]
  },
  {
   "cell_type": "code",
   "execution_count": 24,
   "metadata": {},
   "outputs": [],
   "source": [
    "### set a range of lats and lons - 178E to 155W\n",
    "dfext = df.copy()\n",
    "dfext.drop(dfext.loc[((dfext['latitude']<=45) | (dfext['latitude']>=65.6666))].index, inplace=True)\n",
    "dfext.drop(dfext.loc[((dfext['longitude']>-155) & (dfext['longitude']<178))].index, inplace=True)\n",
    "#dfext.drop(dfext.loc[dfext['ice_conc']<15].index, inplace=True)\n",
    "#dfext.drop(dfext.loc[dfext['ice_conc']==np.nan].index, inplace=True)"
   ]
  },
  {
   "cell_type": "code",
   "execution_count": 25,
   "metadata": {},
   "outputs": [
    {
     "data": {
      "text/plain": [
       "3048330.5149999997"
      ]
     },
     "execution_count": 25,
     "metadata": {},
     "output_type": "execute_result"
    }
   ],
   "source": [
    "dfext['grid_area'].sum()"
   ]
  },
  {
   "cell_type": "code",
   "execution_count": 26,
   "metadata": {},
   "outputs": [
    {
     "data": {
      "text/plain": [
       "grid_area    5502\n",
       "ice_conc     5502\n",
       "latitude     5502\n",
       "longitude    5502\n",
       "dtype: int64"
      ]
     },
     "execution_count": 26,
     "metadata": {},
     "output_type": "execute_result"
    }
   ],
   "source": [
    "dfext.count()"
   ]
  },
  {
   "cell_type": "code",
   "execution_count": 27,
   "metadata": {},
   "outputs": [
    {
     "data": {
      "image/png": "[encoded data removed]",
      "text/plain": [
       "<Figure size 756x756 with 1 Axes>"
      ]
     },
     "metadata": {
      "needs_background": "light"
     },
     "output_type": "display_data"
    }
   ],
   "source": [
    "extent = [170, 210, 40, 68]\n",
    "projection=ccrs.LambertConformal(central_longitude=200.0)\n",
    "transformation=ccrs.PlateCarree()\n",
    "fig,ax = make_map(projection=projection)\n",
    "\n",
    "ax.plot(dfext.longitude,dfext.latitude,'k.',markersize=.25,transform=transformation)\n",
    "ax.add_feature(land_50m)\n",
    "ax.coastlines(resolution='50m')\n",
    "ax.set_extent(extent)"
   ]
  },
  {
   "cell_type": "code",
   "execution_count": 28,
   "metadata": {},
   "outputs": [
    {
     "name": "stdout",
     "output_type": "stream",
     "text": [
      "/Users/bell/in_and_outbox/data_sets/gsfc_bootstrap_seaice_v3/daily/1978/bt_19781231_n07_v3.1_n.csv 3438750\n"
     ]
    }
   ],
   "source": [
    "new_days = open('BS_iceextent.csv','a')\n",
    "new_days.write((filein+','+str((dfext.count()*(25*25))['ice_conc'])+'\\n'))\n",
    "print(filein,(dfext.count()*(25*25))['ice_conc'])\n",
    "new_days.close()"
   ]
  },
  {
   "cell_type": "markdown",
   "metadata": {},
   "source": [
    "### Define boundaries and cycle through all Bootstrap/NRT data\n",
    "\n",
    "BS - 178E to Alaska\n",
    "\n",
    "All BS to Russian land\n",
    "\n",
    "We want to compare to the Daily Bering Sea ice extent during the past fourty years (data from the NSIDC Regional Sea Ice Index) which does a more comprehensive job of masking out the basin then the simple grid.  A 5day trailing average is applied to the regional extent product."
   ]
  },
  {
   "cell_type": "code",
   "execution_count": 29,
   "metadata": {},
   "outputs": [
    {
     "name": "stdout",
     "output_type": "stream",
     "text": [
      "/Users/bell/in_and_outbox/data_sets/nrt_nasatime_seaice/nt_20190101_f18_nrt_n.csv 369610.06299999997\n",
      "/Users/bell/in_and_outbox/data_sets/nrt_nasatime_seaice/nt_20190102_f18_nrt_n.csv 371742.642\n",
      "/Users/bell/in_and_outbox/data_sets/nrt_nasatime_seaice/nt_20190103_f18_nrt_n.csv 384621.463\n",
      "/Users/bell/in_and_outbox/data_sets/nrt_nasatime_seaice/nt_20190104_f18_nrt_n.csv 376463.74\n",
      "/Users/bell/in_and_outbox/data_sets/nrt_nasatime_seaice/nt_20190105_f18_nrt_n.csv 381731.742\n",
      "/Users/bell/in_and_outbox/data_sets/nrt_nasatime_seaice/nt_20190106_f18_nrt_n.csv 381436.17000000004\n",
      "/Users/bell/in_and_outbox/data_sets/nrt_nasatime_seaice/nt_20190107_f18_nrt_n.csv 372179.32899999997\n",
      "/Users/bell/in_and_outbox/data_sets/nrt_nasatime_seaice/nt_20190108_f18_nrt_n.csv 379773.952\n",
      "/Users/bell/in_and_outbox/data_sets/nrt_nasatime_seaice/nt_20190109_f18_nrt_n.csv 382712.162\n",
      "/Users/bell/in_and_outbox/data_sets/nrt_nasatime_seaice/nt_20190110_f18_nrt_n.csv 378445.371\n",
      "/Users/bell/in_and_outbox/data_sets/nrt_nasatime_seaice/nt_20190111_f18_nrt_n.csv 400893.585\n",
      "/Users/bell/in_and_outbox/data_sets/nrt_nasatime_seaice/nt_20190112_f18_nrt_n.csv 428300.49\n",
      "/Users/bell/in_and_outbox/data_sets/nrt_nasatime_seaice/nt_20190113_f18_nrt_n.csv 457517.481\n",
      "/Users/bell/in_and_outbox/data_sets/nrt_nasatime_seaice/nt_20190114_f18_nrt_n.csv 454459.587\n",
      "/Users/bell/in_and_outbox/data_sets/nrt_nasatime_seaice/nt_20190115_f18_nrt_n.csv 432844.60599999997\n",
      "/Users/bell/in_and_outbox/data_sets/nrt_nasatime_seaice/nt_20190116_f18_nrt_n.csv 410856.45999999996\n",
      "/Users/bell/in_and_outbox/data_sets/nrt_nasatime_seaice/nt_20190117_f18_nrt_n.csv 422156.08300000004\n",
      "/Users/bell/in_and_outbox/data_sets/nrt_nasatime_seaice/nt_20190118_f18_nrt_n.csv 430808.829\n",
      "/Users/bell/in_and_outbox/data_sets/nrt_nasatime_seaice/nt_20190119_f18_nrt_n.csv 430152.42799999996\n",
      "/Users/bell/in_and_outbox/data_sets/nrt_nasatime_seaice/nt_20190120_f18_nrt_n.csv 442678.88800000004\n",
      "/Users/bell/in_and_outbox/data_sets/nrt_nasatime_seaice/nt_20190121_f18_nrt_n.csv 468189.989\n",
      "/Users/bell/in_and_outbox/data_sets/nrt_nasatime_seaice/nt_20190122_f18_nrt_n.csv 490931.615\n",
      "/Users/bell/in_and_outbox/data_sets/nrt_nasatime_seaice/nt_20190123_f18_nrt_n.csv 497121.59700000007\n",
      "/Users/bell/in_and_outbox/data_sets/nrt_nasatime_seaice/nt_20190124_f18_nrt_n.csv 479896.25600000005\n",
      "/Users/bell/in_and_outbox/data_sets/nrt_nasatime_seaice/nt_20190125_f18_nrt_n.csv 487957.35400000005\n",
      "/Users/bell/in_and_outbox/data_sets/nrt_nasatime_seaice/nt_20190126_f18_nrt_n.csv 474209.518\n",
      "/Users/bell/in_and_outbox/data_sets/nrt_nasatime_seaice/nt_20190127_f18_nrt_n.csv 454143.00800000003\n",
      "/Users/bell/in_and_outbox/data_sets/nrt_nasatime_seaice/nt_20190128_f18_nrt_n.csv 437481.907\n",
      "/Users/bell/in_and_outbox/data_sets/nrt_nasatime_seaice/nt_20190129_f18_nrt_n.csv 442103.55499999993\n",
      "/Users/bell/in_and_outbox/data_sets/nrt_nasatime_seaice/nt_20190130_f18_nrt_n.csv 443823.501\n",
      "/Users/bell/in_and_outbox/data_sets/nrt_nasatime_seaice/nt_20190131_f18_nrt_n.csv 442084.25399999996\n",
      "/Users/bell/in_and_outbox/data_sets/nrt_nasatime_seaice/nt_20190201_f18_nrt_n.csv 440792.306\n",
      "/Users/bell/in_and_outbox/data_sets/nrt_nasatime_seaice/nt_20190202_f18_nrt_n.csv 423575.176\n",
      "/Users/bell/in_and_outbox/data_sets/nrt_nasatime_seaice/nt_20190203_f18_nrt_n.csv 390956.87100000004\n",
      "/Users/bell/in_and_outbox/data_sets/nrt_nasatime_seaice/nt_20190204_f18_nrt_n.csv 374890.529\n",
      "/Users/bell/in_and_outbox/data_sets/nrt_nasatime_seaice/nt_20190205_f18_nrt_n.csv 376054.983\n",
      "/Users/bell/in_and_outbox/data_sets/nrt_nasatime_seaice/nt_20190206_f18_nrt_n.csv 352721.723\n",
      "/Users/bell/in_and_outbox/data_sets/nrt_nasatime_seaice/nt_20190207_f18_nrt_n.csv 355574.88\n",
      "/Users/bell/in_and_outbox/data_sets/nrt_nasatime_seaice/nt_20190208_f18_nrt_n.csv 319677.02099999995\n",
      "/Users/bell/in_and_outbox/data_sets/nrt_nasatime_seaice/nt_20190209_f18_nrt_n.csv 298916.774\n",
      "/Users/bell/in_and_outbox/data_sets/nrt_nasatime_seaice/nt_20190210_f18_nrt_n.csv 289878.547\n",
      "/Users/bell/in_and_outbox/data_sets/nrt_nasatime_seaice/nt_20190211_f18_nrt_n.csv 294060.95900000003\n",
      "/Users/bell/in_and_outbox/data_sets/nrt_nasatime_seaice/nt_20190212_f18_nrt_n.csv 285187.72900000005\n",
      "/Users/bell/in_and_outbox/data_sets/nrt_nasatime_seaice/nt_20190213_f18_nrt_n.csv 296005.17299999995\n",
      "/Users/bell/in_and_outbox/data_sets/nrt_nasatime_seaice/nt_20190214_f18_nrt_n.csv 321763.557\n",
      "/Users/bell/in_and_outbox/data_sets/nrt_nasatime_seaice/nt_20190215_f18_nrt_n.csv 320302.86\n",
      "/Users/bell/in_and_outbox/data_sets/nrt_nasatime_seaice/nt_20190216_f18_nrt_n.csv 285606.53800000006\n",
      "/Users/bell/in_and_outbox/data_sets/nrt_nasatime_seaice/nt_20190217_f18_nrt_n.csv 275479.088\n",
      "/Users/bell/in_and_outbox/data_sets/nrt_nasatime_seaice/nt_20190218_f18_nrt_n.csv 294877.357\n",
      "/Users/bell/in_and_outbox/data_sets/nrt_nasatime_seaice/nt_20190219_f18_nrt_n.csv 296624.60699999996\n",
      "/Users/bell/in_and_outbox/data_sets/nrt_nasatime_seaice/nt_20190220_f18_nrt_n.csv 297667.32999999996\n",
      "/Users/bell/in_and_outbox/data_sets/nrt_nasatime_seaice/nt_20190221_f18_nrt_n.csv 305153.237\n",
      "/Users/bell/in_and_outbox/data_sets/nrt_nasatime_seaice/nt_20190222_f18_nrt_n.csv 292879.44200000004\n",
      "/Users/bell/in_and_outbox/data_sets/nrt_nasatime_seaice/nt_20190223_f18_nrt_n.csv 275709.348\n",
      "/Users/bell/in_and_outbox/data_sets/nrt_nasatime_seaice/nt_20190224_f18_nrt_n.csv 228889.389\n",
      "/Users/bell/in_and_outbox/data_sets/nrt_nasatime_seaice/nt_20190225_f18_nrt_n.csv 205959.107\n",
      "/Users/bell/in_and_outbox/data_sets/nrt_nasatime_seaice/nt_20190226_f18_nrt_n.csv 169315.865\n",
      "/Users/bell/in_and_outbox/data_sets/nrt_nasatime_seaice/nt_20190227_f18_nrt_n.csv 147763.67\n",
      "/Users/bell/in_and_outbox/data_sets/nrt_nasatime_seaice/nt_20190228_f18_nrt_n.csv 138197.08500000002\n",
      "/Users/bell/in_and_outbox/data_sets/nrt_nasatime_seaice/nt_20190301_f18_nrt_n.csv 102487.21500000001\n",
      "/Users/bell/in_and_outbox/data_sets/nrt_nasatime_seaice/nt_20190302_f18_nrt_n.csv 87990.226\n",
      "/Users/bell/in_and_outbox/data_sets/nrt_nasatime_seaice/nt_20190303_f18_nrt_n.csv 82710.092\n",
      "/Users/bell/in_and_outbox/data_sets/nrt_nasatime_seaice/nt_20190304_f18_nrt_n.csv 85366.17300000001\n",
      "/Users/bell/in_and_outbox/data_sets/nrt_nasatime_seaice/nt_20190305_f18_nrt_n.csv 83806.552\n",
      "/Users/bell/in_and_outbox/data_sets/nrt_nasatime_seaice/nt_20190306_f18_nrt_n.csv 77896.095\n",
      "/Users/bell/in_and_outbox/data_sets/nrt_nasatime_seaice/nt_20190307_f18_nrt_n.csv 94575.66699999999\n",
      "/Users/bell/in_and_outbox/data_sets/nrt_nasatime_seaice/nt_20190308_f18_nrt_n.csv 103731.92\n",
      "/Users/bell/in_and_outbox/data_sets/nrt_nasatime_seaice/nt_20190309_f18_nrt_n.csv 142507.452\n",
      "/Users/bell/in_and_outbox/data_sets/nrt_nasatime_seaice/nt_20190310_f18_nrt_n.csv 160734.376\n",
      "/Users/bell/in_and_outbox/data_sets/nrt_nasatime_seaice/nt_20190311_f18_nrt_n.csv 185826.218\n"
     ]
    }
   ],
   "source": [
    "import glob\n",
    "for y in range(2019,2020):\n",
    "    year=str(y)\n",
    "    #path = \"/Users/bell/in_and_outbox/data_sets/gsfc_bootstrap_seaice_v3/daily/\"+year+\"/*.csv\"\n",
    "    path = \"/Users/bell/in_and_outbox/data_sets/nrt_nasatime_seaice/*\"+year+\"*.csv\"\n",
    "    for fname in sorted(glob.glob(path)):\n",
    "        df = pd.read_csv(fname)\n",
    "\n",
    "        ### set a range of lats and lons - 178E to 155W\n",
    "        dfext = df.copy()\n",
    "        dfext.drop(dfext.loc[((dfext['latitude']<=45) | (dfext['latitude']>=65.6666))].index, inplace=True)\n",
    "        #178E for BS boundary by Phyllis\n",
    "        #165E for BS total boundary (estimate to not include any Sea of Oktosk)\n",
    "        dfext.drop(dfext.loc[((dfext['longitude']>-155) & (dfext['longitude']<178))].index, inplace=True)\n",
    "        dfext.drop(dfext.loc[dfext['ice_conc']<15].index, inplace=True)\n",
    "        dfext.drop(dfext.loc[dfext['ice_conc']==np.nan].index, inplace=True)\n",
    "\n",
    "        new_days = open(\"BS_iceextent.\"+year+\".csv\",'a')\n",
    "        new_days.write((fname+','+str(dfext['grid_area'].sum())+'\\n'))\n",
    "        print(fname,(dfext['grid_area'].sum()))\n",
    "        new_days.close()"
   ]
  },
  {
   "cell_type": "code",
   "execution_count": 30,
   "metadata": {},
   "outputs": [
    {
     "name": "stderr",
     "output_type": "stream",
     "text": [
      "/Users/bell/anaconda2/envs/py37/lib/python3.7/site-packages/ipykernel_launcher.py:10: SettingWithCopyWarning: \n",
      "A value is trying to be set on a copy of a slice from a DataFrame\n",
      "\n",
      "See the caveats in the documentation: http://pandas.pydata.org/pandas-docs/stable/indexing.html#indexing-view-versus-copy\n",
      "  # Remove the CWD from sys.path while we load stuff.\n"
     ]
    }
   ],
   "source": [
    "for y in range(2019,2020):\n",
    "    year=str(y)\n",
    "\n",
    "    fin = 'BS_iceextent.'+year+'.csv'\n",
    "    fid = pd.read_csv(fin,names=['file','ice_extent'])\n",
    "    fid['doy'] = fid['file']\n",
    "\n",
    "    for index, rows in fid.iterrows():\n",
    "        fid['doy'][index] = int(datetime.datetime.strptime(rows['doy'].split('nt_')[-1].split('_')[0],\n",
    "                                                           '%Y%m%d').strftime('%j'))\n",
    "    fid = fid.merge(how='right', \n",
    "              on='doy', \n",
    "              right = pd.DataFrame({'doy':np.arange(fid.iloc[0]['doy'], \n",
    "                                                    367, \n",
    "                                                    1)})).reset_index().drop(['index'], \n",
    "                                                                             axis=1).sort_values(by=['doy'])\n",
    "    fid.to_csv(fin.replace('.csv','doy.csv'),columns=['doy','ice_extent'])\n"
   ]
  },
  {
   "cell_type": "code",
   "execution_count": null,
   "metadata": {},
   "outputs": [],
   "source": []
  }
 ],
 "metadata": {
  "kernelspec": {
   "display_name": "Python [conda env:py37]",
   "language": "python",
   "name": "conda-env-py37-py"
  },
  "language_info": {
   "codemirror_mode": {
    "name": "ipython",
    "version": 3
   },
   "file_extension": ".py",
   "mimetype": "text/x-python",
   "name": "python",
   "nbconvert_exporter": "python",
   "pygments_lexer": "ipython3",
   "version": "3.7.1"
  }
 },
 "nbformat": 4,
 "nbformat_minor": 2
}
