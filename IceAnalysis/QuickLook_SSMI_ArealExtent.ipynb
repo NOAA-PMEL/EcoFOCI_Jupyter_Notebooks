{
 "cells": [
  {
   "cell_type": "markdown",
   "metadata": {},
   "source": [
    "## SSMI Ice data\n",
    "### Cartopy quicklook\n",
    "\n",
    "This notebook provides guidance to visualize SSMI data after it has been processed from raw binary data to csv data with columns of ice_concentration, latitude, and longitude.  It regrids the data to the users choice (default = 0.25x0.25 degree) by declaring the number of columns of latitude and longitude.\n",
    "\n",
    "There is also timing components built in to see if and where the ingest/gridding/plotting can be spead up"
   ]
  },
  {
   "cell_type": "markdown",
   "metadata": {},
   "source": [
    "__pyversion__==3.7   \n",
    "__author__==S.Bell"
   ]
  },
  {
   "cell_type": "code",
   "execution_count": 2,
   "metadata": {},
   "outputs": [],
   "source": [
    "import numpy as np\n",
    "import datetime\n",
    "\n",
    "import pandas as pd\n",
    "\n",
    "import matplotlib.pyplot as plt\n",
    "import cartopy.crs as ccrs\n",
    "import cartopy.feature as cfeature\n",
    "from cartopy.io import shapereader\n",
    "from cartopy.mpl.gridliner import LONGITUDE_FORMATTER, LATITUDE_FORMATTER\n",
    "\n",
    "import timeit"
   ]
  },
  {
   "cell_type": "code",
   "execution_count": 2,
   "metadata": {},
   "outputs": [],
   "source": [
    "filein = '/Users/bell/in_and_outbox/data_sets/gsfc_bootstrap_seaice_v3/daily/1978/bt_19781231_n07_v3.1_n.csv'\n",
    "df = pd.read_csv(filein)\n"
   ]
  },
  {
   "cell_type": "code",
   "execution_count": 3,
   "metadata": {},
   "outputs": [
    {
     "data": {
      "text/html": [
       "<div>\n",
       "<style scoped>\n",
       "    .dataframe tbody tr th:only-of-type {\n",
       "        vertical-align: middle;\n",
       "    }\n",
       "\n",
       "    .dataframe tbody tr th {\n",
       "        vertical-align: top;\n",
       "    }\n",
       "\n",
       "    .dataframe thead th {\n",
       "        text-align: right;\n",
       "    }\n",
       "</style>\n",
       "<table border=\"1\" class=\"dataframe\">\n",
       "  <thead>\n",
       "    <tr style=\"text-align: right;\">\n",
       "      <th></th>\n",
       "      <th>grid_area</th>\n",
       "      <th>ice_conc</th>\n",
       "      <th>latitude</th>\n",
       "      <th>longitude</th>\n",
       "    </tr>\n",
       "  </thead>\n",
       "  <tbody>\n",
       "    <tr>\n",
       "      <th>count</th>\n",
       "      <td>136192.000000</td>\n",
       "      <td>136192.000000</td>\n",
       "      <td>136192.000000</td>\n",
       "      <td>136192.000000</td>\n",
       "    </tr>\n",
       "    <tr>\n",
       "      <th>mean</th>\n",
       "      <td>555.540872</td>\n",
       "      <td>16.472752</td>\n",
       "      <td>57.624520</td>\n",
       "      <td>17.489821</td>\n",
       "    </tr>\n",
       "    <tr>\n",
       "      <th>std</th>\n",
       "      <td>65.681213</td>\n",
       "      <td>36.083450</td>\n",
       "      <td>12.239096</td>\n",
       "      <td>104.975745</td>\n",
       "    </tr>\n",
       "    <tr>\n",
       "      <th>min</th>\n",
       "      <td>382.659000</td>\n",
       "      <td>0.000000</td>\n",
       "      <td>31.102670</td>\n",
       "      <td>-180.000000</td>\n",
       "    </tr>\n",
       "    <tr>\n",
       "      <th>25%</th>\n",
       "      <td>504.298000</td>\n",
       "      <td>0.000000</td>\n",
       "      <td>47.900800</td>\n",
       "      <td>-70.346180</td>\n",
       "    </tr>\n",
       "    <tr>\n",
       "      <th>50%</th>\n",
       "      <td>561.330500</td>\n",
       "      <td>0.000000</td>\n",
       "      <td>56.940085</td>\n",
       "      <td>6.666425</td>\n",
       "    </tr>\n",
       "    <tr>\n",
       "      <th>75%</th>\n",
       "      <td>609.645500</td>\n",
       "      <td>0.000000</td>\n",
       "      <td>66.304733</td>\n",
       "      <td>115.033140</td>\n",
       "    </tr>\n",
       "    <tr>\n",
       "      <th>max</th>\n",
       "      <td>664.449000</td>\n",
       "      <td>100.000000</td>\n",
       "      <td>89.836820</td>\n",
       "      <td>179.813980</td>\n",
       "    </tr>\n",
       "  </tbody>\n",
       "</table>\n",
       "</div>"
      ],
      "text/plain": [
       "           grid_area       ice_conc       latitude      longitude\n",
       "count  136192.000000  136192.000000  136192.000000  136192.000000\n",
       "mean      555.540872      16.472752      57.624520      17.489821\n",
       "std        65.681213      36.083450      12.239096     104.975745\n",
       "min       382.659000       0.000000      31.102670    -180.000000\n",
       "25%       504.298000       0.000000      47.900800     -70.346180\n",
       "50%       561.330500       0.000000      56.940085       6.666425\n",
       "75%       609.645500       0.000000      66.304733     115.033140\n",
       "max       664.449000     100.000000      89.836820     179.813980"
      ]
     },
     "execution_count": 3,
     "metadata": {},
     "output_type": "execute_result"
    }
   ],
   "source": [
    "df.describe()"
   ]
  },
  {
   "cell_type": "markdown",
   "metadata": {},
   "source": [
    "## options for thinning data out"
   ]
  },
  {
   "cell_type": "code",
   "execution_count": 4,
   "metadata": {},
   "outputs": [],
   "source": [
    "### set a range of lats and lons\n",
    "# not advised as this messes with gridding assumptions later\n",
    "#df.drop(df.loc[((df['latitude']<=45) | (df['latitude']>=75))].index, inplace=True)\n",
    "#df.drop(df.loc[((df['longitude']<=-180) | (df['longitude']>=-150))].index, inplace=True)\n",
    "\n",
    "### remove 0's by either dropping and making database smaller or by replacing with nans\n",
    "# not advised for highly regional views as code may interpolate over these gaps oddly \n",
    "# . or zeros may be actual (polynas).  Global views may be ok and speed up though\n",
    "\n",
    "#df.drop(df.loc[df['ice_conc']==0].index, inplace=True)\n",
    "# or\n",
    "#df['ice_conc'][df['ice_conc']==0] = np.nan"
   ]
  },
  {
   "cell_type": "code",
   "execution_count": 5,
   "metadata": {},
   "outputs": [
    {
     "data": {
      "text/html": [
       "<div>\n",
       "<style scoped>\n",
       "    .dataframe tbody tr th:only-of-type {\n",
       "        vertical-align: middle;\n",
       "    }\n",
       "\n",
       "    .dataframe tbody tr th {\n",
       "        vertical-align: top;\n",
       "    }\n",
       "\n",
       "    .dataframe thead th {\n",
       "        text-align: right;\n",
       "    }\n",
       "</style>\n",
       "<table border=\"1\" class=\"dataframe\">\n",
       "  <thead>\n",
       "    <tr style=\"text-align: right;\">\n",
       "      <th></th>\n",
       "      <th>grid_area</th>\n",
       "      <th>ice_conc</th>\n",
       "      <th>latitude</th>\n",
       "      <th>longitude</th>\n",
       "    </tr>\n",
       "  </thead>\n",
       "  <tbody>\n",
       "    <tr>\n",
       "      <th>count</th>\n",
       "      <td>136192.000000</td>\n",
       "      <td>136192.000000</td>\n",
       "      <td>136192.000000</td>\n",
       "      <td>136192.000000</td>\n",
       "    </tr>\n",
       "    <tr>\n",
       "      <th>mean</th>\n",
       "      <td>555.540872</td>\n",
       "      <td>16.472752</td>\n",
       "      <td>57.624520</td>\n",
       "      <td>17.489821</td>\n",
       "    </tr>\n",
       "    <tr>\n",
       "      <th>std</th>\n",
       "      <td>65.681213</td>\n",
       "      <td>36.083450</td>\n",
       "      <td>12.239096</td>\n",
       "      <td>104.975745</td>\n",
       "    </tr>\n",
       "    <tr>\n",
       "      <th>min</th>\n",
       "      <td>382.659000</td>\n",
       "      <td>0.000000</td>\n",
       "      <td>31.102670</td>\n",
       "      <td>-180.000000</td>\n",
       "    </tr>\n",
       "    <tr>\n",
       "      <th>25%</th>\n",
       "      <td>504.298000</td>\n",
       "      <td>0.000000</td>\n",
       "      <td>47.900800</td>\n",
       "      <td>-70.346180</td>\n",
       "    </tr>\n",
       "    <tr>\n",
       "      <th>50%</th>\n",
       "      <td>561.330500</td>\n",
       "      <td>0.000000</td>\n",
       "      <td>56.940085</td>\n",
       "      <td>6.666425</td>\n",
       "    </tr>\n",
       "    <tr>\n",
       "      <th>75%</th>\n",
       "      <td>609.645500</td>\n",
       "      <td>0.000000</td>\n",
       "      <td>66.304733</td>\n",
       "      <td>115.033140</td>\n",
       "    </tr>\n",
       "    <tr>\n",
       "      <th>max</th>\n",
       "      <td>664.449000</td>\n",
       "      <td>100.000000</td>\n",
       "      <td>89.836820</td>\n",
       "      <td>179.813980</td>\n",
       "    </tr>\n",
       "  </tbody>\n",
       "</table>\n",
       "</div>"
      ],
      "text/plain": [
       "           grid_area       ice_conc       latitude      longitude\n",
       "count  136192.000000  136192.000000  136192.000000  136192.000000\n",
       "mean      555.540872      16.472752      57.624520      17.489821\n",
       "std        65.681213      36.083450      12.239096     104.975745\n",
       "min       382.659000       0.000000      31.102670    -180.000000\n",
       "25%       504.298000       0.000000      47.900800     -70.346180\n",
       "50%       561.330500       0.000000      56.940085       6.666425\n",
       "75%       609.645500       0.000000      66.304733     115.033140\n",
       "max       664.449000     100.000000      89.836820     179.813980"
      ]
     },
     "execution_count": 5,
     "metadata": {},
     "output_type": "execute_result"
    }
   ],
   "source": [
    "df.describe()"
   ]
  },
  {
   "cell_type": "code",
   "execution_count": 6,
   "metadata": {},
   "outputs": [],
   "source": [
    "#define the basic map projection information and figure size\n",
    "\n",
    "def make_map(projection=ccrs.PlateCarree()):\n",
    "    fig, ax = plt.subplots(figsize=(10.5, 10.5),\n",
    "                           subplot_kw=dict(projection=projection))\n",
    "    if projection == ccrs.PlateCarree():\n",
    "        gl = ax.gridlines(draw_labels=True)\n",
    "        gl.xlabels_top = gl.ylabels_right = False\n",
    "        gl.xformatter = LONGITUDE_FORMATTER\n",
    "        gl.yformatter = LATITUDE_FORMATTER\n",
    "    return fig, ax\n",
    "\n",
    "#download land mask\n",
    "# 50m is a good balance between dataset size and land feature resolution\n",
    "land_50m = cfeature.NaturalEarthFeature('physical', 'land', '50m',\n",
    "                                        edgecolor='face',\n",
    "                                        facecolor='1.0')"
   ]
  },
  {
   "cell_type": "markdown",
   "metadata": {},
   "source": [
    "### Calculate Areal Ice extent"
   ]
  },
  {
   "cell_type": "code",
   "execution_count": 7,
   "metadata": {},
   "outputs": [],
   "source": [
    "### set a range of lats and lons - 178E to 155W\n",
    "dfext = df.copy()\n",
    "dfext.drop(dfext.loc[((dfext['latitude']<=45) | (dfext['latitude']>=65.6666))].index, inplace=True)\n",
    "dfext.drop(dfext.loc[((dfext['longitude']>-155) & (dfext['longitude']<178))].index, inplace=True)\n",
    "#dfext.drop(dfext.loc[dfext['ice_conc']<15].index, inplace=True)\n",
    "#dfext.drop(dfext.loc[dfext['ice_conc']==np.nan].index, inplace=True)"
   ]
  },
  {
   "cell_type": "code",
   "execution_count": 8,
   "metadata": {},
   "outputs": [
    {
     "data": {
      "text/plain": [
       "3048330.5149999997"
      ]
     },
     "execution_count": 8,
     "metadata": {},
     "output_type": "execute_result"
    }
   ],
   "source": [
    "dfext['grid_area'].sum()"
   ]
  },
  {
   "cell_type": "code",
   "execution_count": 9,
   "metadata": {},
   "outputs": [
    {
     "data": {
      "text/plain": [
       "grid_area    5502\n",
       "ice_conc     5502\n",
       "latitude     5502\n",
       "longitude    5502\n",
       "dtype: int64"
      ]
     },
     "execution_count": 9,
     "metadata": {},
     "output_type": "execute_result"
    }
   ],
   "source": [
    "dfext.count()"
   ]
  },
  {
   "cell_type": "code",
   "execution_count": 10,
   "metadata": {},
   "outputs": [
    {
     "data": {
      "image/png": "[encoded data removed]",
      "text/plain": [
       "<Figure size 756x756 with 1 Axes>"
      ]
     },
     "metadata": {
      "needs_background": "light"
     },
     "output_type": "display_data"
    }
   ],
   "source": [
    "extent = [170, 210, 40, 68]\n",
    "projection=ccrs.LambertConformal(central_longitude=200.0)\n",
    "transformation=ccrs.PlateCarree()\n",
    "fig,ax = make_map(projection=projection)\n",
    "\n",
    "ax.plot(dfext.longitude,dfext.latitude,'k.',markersize=.25,transform=transformation)\n",
    "ax.add_feature(land_50m)\n",
    "ax.coastlines(resolution='50m')\n",
    "ax.set_extent(extent)"
   ]
  },
  {
   "cell_type": "code",
   "execution_count": 11,
   "metadata": {},
   "outputs": [
    {
     "name": "stdout",
     "output_type": "stream",
     "text": [
      "/Users/bell/in_and_outbox/data_sets/gsfc_bootstrap_seaice_v3/daily/1978/bt_19781231_n07_v3.1_n.csv 3438750\n"
     ]
    }
   ],
   "source": [
    "new_days = open('BS_iceextent.csv','a')\n",
    "new_days.write((filein+','+str((dfext.count()*(25*25))['ice_conc'])+'\\n'))\n",
    "print(filein,(dfext.count()*(25*25))['ice_conc'])\n",
    "new_days.close()"
   ]
  },
  {
   "cell_type": "markdown",
   "metadata": {},
   "source": [
    "### Define boundaries and cycle through all Bootstrap/NRT data\n",
    "\n",
    "BS - 178E to Alaska\n",
    "\n",
    "All BS to Russian land\n",
    "\n",
    "We want to compare to the Daily Bering Sea ice extent during the past fourty years (data from the NSIDC Regional Sea Ice Index) which does a more comprehensive job of masking out the basin then the simple grid.  A 5day trailing average is applied to the regional extent product."
   ]
  },
  {
   "cell_type": "code",
   "execution_count": 3,
   "metadata": {},
   "outputs": [
    {
     "name": "stdout",
     "output_type": "stream",
     "text": [
      "/Users/bell/in_and_outbox/data_sets/nrt_nasatime_seaice/nt_20200101_f18_nrt_n.csv 338007.005\n",
      "/Users/bell/in_and_outbox/data_sets/nrt_nasatime_seaice/nt_20200102_f18_nrt_n.csv 363870.377\n",
      "/Users/bell/in_and_outbox/data_sets/nrt_nasatime_seaice/nt_20200103_f18_nrt_n.csv 389467.495\n",
      "/Users/bell/in_and_outbox/data_sets/nrt_nasatime_seaice/nt_20200104_f18_nrt_n.csv 406955.868\n",
      "/Users/bell/in_and_outbox/data_sets/nrt_nasatime_seaice/nt_20200105_f18_nrt_n.csv 410582.832\n",
      "/Users/bell/in_and_outbox/data_sets/nrt_nasatime_seaice/nt_20200106_f18_nrt_n.csv 426957.517\n",
      "/Users/bell/in_and_outbox/data_sets/nrt_nasatime_seaice/nt_20200107_f18_nrt_n.csv 436786.671\n",
      "/Users/bell/in_and_outbox/data_sets/nrt_nasatime_seaice/nt_20200108_f18_nrt_n.csv 448100.467\n",
      "/Users/bell/in_and_outbox/data_sets/nrt_nasatime_seaice/nt_20200109_f18_nrt_n.csv 448283.86799999996\n",
      "/Users/bell/in_and_outbox/data_sets/nrt_nasatime_seaice/nt_20200110_f18_nrt_n.csv 438619.51399999997\n",
      "/Users/bell/in_and_outbox/data_sets/nrt_nasatime_seaice/nt_20200111_f18_nrt_n.csv 415272.86199999996\n",
      "/Users/bell/in_and_outbox/data_sets/nrt_nasatime_seaice/nt_20200112_f18_nrt_n.csv 384124.57000000007\n",
      "/Users/bell/in_and_outbox/data_sets/nrt_nasatime_seaice/nt_20200113_f18_nrt_n.csv 361605.79\n",
      "/Users/bell/in_and_outbox/data_sets/nrt_nasatime_seaice/nt_20200114_f18_nrt_n.csv 346816.086\n",
      "/Users/bell/in_and_outbox/data_sets/nrt_nasatime_seaice/nt_20200115_f18_nrt_n.csv 362915.106\n",
      "/Users/bell/in_and_outbox/data_sets/nrt_nasatime_seaice/nt_20200116_f18_nrt_n.csv 353291.543\n",
      "/Users/bell/in_and_outbox/data_sets/nrt_nasatime_seaice/nt_20200117_f18_nrt_n.csv 338740.373\n",
      "/Users/bell/in_and_outbox/data_sets/nrt_nasatime_seaice/nt_20200118_f18_nrt_n.csv 348051.639\n",
      "/Users/bell/in_and_outbox/data_sets/nrt_nasatime_seaice/nt_20200119_f18_nrt_n.csv 371353.887\n",
      "/Users/bell/in_and_outbox/data_sets/nrt_nasatime_seaice/nt_20200120_f18_nrt_n.csv 378121.73900000006\n",
      "/Users/bell/in_and_outbox/data_sets/nrt_nasatime_seaice/nt_20200121_f18_nrt_n.csv 383590.34\n",
      "/Users/bell/in_and_outbox/data_sets/nrt_nasatime_seaice/nt_20200122_f18_nrt_n.csv 388227.536\n",
      "/Users/bell/in_and_outbox/data_sets/nrt_nasatime_seaice/nt_20200123_f18_nrt_n.csv 401579.634\n",
      "/Users/bell/in_and_outbox/data_sets/nrt_nasatime_seaice/nt_20200124_f18_nrt_n.csv 420462.671\n",
      "/Users/bell/in_and_outbox/data_sets/nrt_nasatime_seaice/nt_20200125_f18_nrt_n.csv 435923.292\n",
      "/Users/bell/in_and_outbox/data_sets/nrt_nasatime_seaice/nt_20200126_f18_nrt_n.csv 451259.98699999996\n",
      "/Users/bell/in_and_outbox/data_sets/nrt_nasatime_seaice/nt_20200127_f18_nrt_n.csv 479547.13300000003\n",
      "/Users/bell/in_and_outbox/data_sets/nrt_nasatime_seaice/nt_20200128_f18_nrt_n.csv 505661.22900000005\n",
      "/Users/bell/in_and_outbox/data_sets/nrt_nasatime_seaice/nt_20200129_f18_nrt_n.csv 526909.426\n",
      "/Users/bell/in_and_outbox/data_sets/nrt_nasatime_seaice/nt_20200130_f18_nrt_n.csv 540582.999\n",
      "/Users/bell/in_and_outbox/data_sets/nrt_nasatime_seaice/nt_20200131_f18_nrt_n.csv 553891.885\n",
      "/Users/bell/in_and_outbox/data_sets/nrt_nasatime_seaice/nt_20200201_f18_nrt_n.csv 551043.95\n",
      "/Users/bell/in_and_outbox/data_sets/nrt_nasatime_seaice/nt_20200202_f18_nrt_n.csv 574906.454\n",
      "/Users/bell/in_and_outbox/data_sets/nrt_nasatime_seaice/nt_20200203_f18_nrt_n.csv 576454.919\n",
      "/Users/bell/in_and_outbox/data_sets/nrt_nasatime_seaice/nt_20200204_f18_nrt_n.csv 576364.55\n",
      "/Users/bell/in_and_outbox/data_sets/nrt_nasatime_seaice/nt_20200205_f18_nrt_n.csv 573065.6610000001\n",
      "/Users/bell/in_and_outbox/data_sets/nrt_nasatime_seaice/nt_20200206_f18_nrt_n.csv 594921.88\n",
      "/Users/bell/in_and_outbox/data_sets/nrt_nasatime_seaice/nt_20200207_f18_nrt_n.csv 596800.155\n",
      "/Users/bell/in_and_outbox/data_sets/nrt_nasatime_seaice/nt_20200208_f18_nrt_n.csv 664997.9450000001\n",
      "/Users/bell/in_and_outbox/data_sets/nrt_nasatime_seaice/nt_20200209_f18_nrt_n.csv 625397.2829999999\n",
      "/Users/bell/in_and_outbox/data_sets/nrt_nasatime_seaice/nt_20200210_f18_nrt_n.csv 647772.494\n",
      "/Users/bell/in_and_outbox/data_sets/nrt_nasatime_seaice/nt_20200211_f18_nrt_n.csv 631929.5719999999\n",
      "/Users/bell/in_and_outbox/data_sets/nrt_nasatime_seaice/nt_20200212_f18_nrt_n.csv 651505.029\n",
      "/Users/bell/in_and_outbox/data_sets/nrt_nasatime_seaice/nt_20200213_f18_nrt_n.csv 638030.919\n",
      "/Users/bell/in_and_outbox/data_sets/nrt_nasatime_seaice/nt_20200214_f18_nrt_n.csv 643798.706\n",
      "/Users/bell/in_and_outbox/data_sets/nrt_nasatime_seaice/nt_20200215_f18_nrt_n.csv 626268.608\n",
      "/Users/bell/in_and_outbox/data_sets/nrt_nasatime_seaice/nt_20200216_f18_nrt_n.csv 606167.086\n",
      "/Users/bell/in_and_outbox/data_sets/nrt_nasatime_seaice/nt_20200217_f18_nrt_n.csv 614796.54\n",
      "/Users/bell/in_and_outbox/data_sets/nrt_nasatime_seaice/nt_20200218_f18_nrt_n.csv 631722.411\n",
      "/Users/bell/in_and_outbox/data_sets/nrt_nasatime_seaice/nt_20200219_f18_nrt_n.csv 623361.6199999999\n",
      "/Users/bell/in_and_outbox/data_sets/nrt_nasatime_seaice/nt_20200220_f18_nrt_n.csv 660303.506\n",
      "/Users/bell/in_and_outbox/data_sets/nrt_nasatime_seaice/nt_20200221_f18_nrt_n.csv 671232.477\n",
      "/Users/bell/in_and_outbox/data_sets/nrt_nasatime_seaice/nt_20200222_f18_nrt_n.csv 672383.1399999999\n",
      "/Users/bell/in_and_outbox/data_sets/nrt_nasatime_seaice/nt_20200223_f18_nrt_n.csv 671085.166\n",
      "/Users/bell/in_and_outbox/data_sets/nrt_nasatime_seaice/nt_20200224_f18_nrt_n.csv 674277.1070000001\n"
     ]
    }
   ],
   "source": [
    "import glob\n",
    "for y in range(2020,2021):\n",
    "    year=str(y)\n",
    "    #path = \"/Users/bell/in_and_outbox/data_sets/gsfc_bootstrap_seaice_v3/daily/\"+year+\"/*.csv\"\n",
    "    path = \"/Users/bell/in_and_outbox/data_sets/nrt_nasatime_seaice/*\"+year+\"*.csv\"\n",
    "    for fname in sorted(glob.glob(path)):\n",
    "        df = pd.read_csv(fname)\n",
    "\n",
    "        ### set a range of lats and lons - 178E to 155W\n",
    "        dfext = df.copy()\n",
    "        dfext.drop(dfext.loc[((dfext['latitude']<=45) | (dfext['latitude']>=65.6666))].index, inplace=True)\n",
    "        #178E for BS boundary by Phyllis\n",
    "        #165E for BS total boundary (estimate to not include any Sea of Oktosk)\n",
    "        dfext.drop(dfext.loc[((dfext['longitude']>-155) & (dfext['longitude']<178))].index, inplace=True)\n",
    "        dfext.drop(dfext.loc[dfext['ice_conc']<15].index, inplace=True)\n",
    "        dfext.drop(dfext.loc[dfext['ice_conc']==np.nan].index, inplace=True)\n",
    "\n",
    "        new_days = open(\"BS_iceextent.\"+year+\".csv\",'a')\n",
    "        new_days.write((fname+','+str(dfext['grid_area'].sum())+'\\n'))\n",
    "        print(fname,(dfext['grid_area'].sum()))\n",
    "        new_days.close()"
   ]
  },
  {
   "cell_type": "code",
   "execution_count": 4,
   "metadata": {},
   "outputs": [
    {
     "name": "stderr",
     "output_type": "stream",
     "text": [
      "/Users/bell/anaconda2/envs/py37/lib/python3.7/site-packages/ipykernel_launcher.py:10: SettingWithCopyWarning: \n",
      "A value is trying to be set on a copy of a slice from a DataFrame\n",
      "\n",
      "See the caveats in the documentation: https://pandas.pydata.org/pandas-docs/stable/user_guide/indexing.html#returning-a-view-versus-a-copy\n",
      "  # Remove the CWD from sys.path while we load stuff.\n"
     ]
    }
   ],
   "source": [
    "for y in range(2019,2021):\n",
    "    year=str(y)\n",
    "\n",
    "    fin = 'BS_iceextent.'+year+'.csv'\n",
    "    fid = pd.read_csv(fin,names=['file','ice_extent'])\n",
    "    fid['doy'] = fid['file']\n",
    "\n",
    "    for index, rows in fid.iterrows():\n",
    "        fid['doy'][index] = int(datetime.datetime.strptime(rows['doy'].split('nt_')[-1].split('_')[0],\n",
    "                                                           '%Y%m%d').strftime('%j'))\n",
    "    fid = fid.merge(how='right', \n",
    "              on='doy', \n",
    "              right = pd.DataFrame({'doy':np.arange(fid.iloc[0]['doy'], \n",
    "                                                    367, \n",
    "                                                    1)})).reset_index().drop(['index'], \n",
    "                                                                             axis=1).sort_values(by=['doy'])\n",
    "    fid.to_csv(fin.replace('.csv','doy.csv'),columns=['doy','ice_extent'])\n"
   ]
  },
  {
   "cell_type": "code",
   "execution_count": null,
   "metadata": {},
   "outputs": [],
   "source": []
  }
 ],
 "metadata": {
  "kernelspec": {
   "display_name": "Python [conda env:py37] *",
   "language": "python",
   "name": "conda-env-py37-py"
  },
  "language_info": {
   "codemirror_mode": {
    "name": "ipython",
    "version": 3
   },
   "file_extension": ".py",
   "mimetype": "text/x-python",
   "name": "python",
   "nbconvert_exporter": "python",
   "pygments_lexer": "ipython3",
   "version": "3.7.6"
  }
 },
 "nbformat": 4,
 "nbformat_minor": 4
}
