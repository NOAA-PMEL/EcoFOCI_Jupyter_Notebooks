{
 "cells": [
  {
   "cell_type": "markdown",
   "metadata": {},
   "source": [
    "# Python basemap plot bathymetry example"
   ]
  },
  {
   "cell_type": "markdown",
   "metadata": {},
   "source": [
    "This .nb is designed to provide a guide to generating bathymetric plots using basemap.  It is written using the Anaconda Python Scientific Package found here [Continuum Anaconda Download](https://store.continuum.io/cshop/anaconda/).   \n",
    "\n",
    "Additionally, you will need the `Basemap` package, not included in Anaconda but easily obtained using their package manager and `netCDF4` which is contained in the anaconda linux and OSX distributions but not the windows version (try [Pythonxy](https://code.google.com/p/pythonxy/) if you are a windows user... many of the same tools exist in the windows conda python installation but not all... you may need to find alternatives."
   ]
  },
  {
   "cell_type": "markdown",
   "metadata": {},
   "source": [
    "## Setting up your environment"
   ]
  },
  {
   "cell_type": "markdown",
   "metadata": {},
   "source": [
    "You can get Basemap via `Conda` - the package manager for Anaconda Python\n",
    "\n",
    "Open a terminal window and type:   "
   ]
  },
  {
   "cell_type": "markdown",
   "metadata": {},
   "source": [
    "    conda install basemap\n",
    "    \n",
    "    "
   ]
  },
  {
   "cell_type": "markdown",
   "metadata": {},
   "source": [
    "## Ipython notebook magic command\n",
    "\n",
    "The following command will allow matplotlib to generate images in the notebook (as opposed to in a seperate window)"
   ]
  },
  {
   "cell_type": "code",
   "execution_count": 2,
   "metadata": {},
   "outputs": [
    {
     "ename": "ImportError",
     "evalue": "cannot import name _distributor_init",
     "output_type": "error",
     "traceback": [
      "\u001b[0;31m---------------------------------------------------------------------------\u001b[0m",
      "\u001b[0;31mImportError\u001b[0m                               Traceback (most recent call last)",
      "\u001b[0;32m<ipython-input-2-71818a48d801>\u001b[0m in \u001b[0;36m<module>\u001b[0;34m()\u001b[0m\n\u001b[0;32m----> 1\u001b[0;31m \u001b[0mget_ipython\u001b[0m\u001b[0;34m(\u001b[0m\u001b[0;34m)\u001b[0m\u001b[0;34m.\u001b[0m\u001b[0mmagic\u001b[0m\u001b[0;34m(\u001b[0m\u001b[0;34mu'matplotlib inline'\u001b[0m\u001b[0;34m)\u001b[0m\u001b[0;34m\u001b[0m\u001b[0m\n\u001b[0m",
      "\u001b[0;32m/Users/bell/anaconda2/lib/python2.7/site-packages/IPython/core/interactiveshell.pyc\u001b[0m in \u001b[0;36mmagic\u001b[0;34m(self, arg_s)\u001b[0m\n\u001b[1;32m   2158\u001b[0m         \u001b[0mmagic_name\u001b[0m\u001b[0;34m,\u001b[0m \u001b[0m_\u001b[0m\u001b[0;34m,\u001b[0m \u001b[0mmagic_arg_s\u001b[0m \u001b[0;34m=\u001b[0m \u001b[0marg_s\u001b[0m\u001b[0;34m.\u001b[0m\u001b[0mpartition\u001b[0m\u001b[0;34m(\u001b[0m\u001b[0;34m' '\u001b[0m\u001b[0;34m)\u001b[0m\u001b[0;34m\u001b[0m\u001b[0m\n\u001b[1;32m   2159\u001b[0m         \u001b[0mmagic_name\u001b[0m \u001b[0;34m=\u001b[0m \u001b[0mmagic_name\u001b[0m\u001b[0;34m.\u001b[0m\u001b[0mlstrip\u001b[0m\u001b[0;34m(\u001b[0m\u001b[0mprefilter\u001b[0m\u001b[0;34m.\u001b[0m\u001b[0mESC_MAGIC\u001b[0m\u001b[0;34m)\u001b[0m\u001b[0;34m\u001b[0m\u001b[0m\n\u001b[0;32m-> 2160\u001b[0;31m         \u001b[0;32mreturn\u001b[0m \u001b[0mself\u001b[0m\u001b[0;34m.\u001b[0m\u001b[0mrun_line_magic\u001b[0m\u001b[0;34m(\u001b[0m\u001b[0mmagic_name\u001b[0m\u001b[0;34m,\u001b[0m \u001b[0mmagic_arg_s\u001b[0m\u001b[0;34m)\u001b[0m\u001b[0;34m\u001b[0m\u001b[0m\n\u001b[0m\u001b[1;32m   2161\u001b[0m \u001b[0;34m\u001b[0m\u001b[0m\n\u001b[1;32m   2162\u001b[0m     \u001b[0;31m#-------------------------------------------------------------------------\u001b[0m\u001b[0;34m\u001b[0m\u001b[0;34m\u001b[0m\u001b[0m\n",
      "\u001b[0;32m/Users/bell/anaconda2/lib/python2.7/site-packages/IPython/core/interactiveshell.pyc\u001b[0m in \u001b[0;36mrun_line_magic\u001b[0;34m(self, magic_name, line)\u001b[0m\n\u001b[1;32m   2079\u001b[0m                 \u001b[0mkwargs\u001b[0m\u001b[0;34m[\u001b[0m\u001b[0;34m'local_ns'\u001b[0m\u001b[0;34m]\u001b[0m \u001b[0;34m=\u001b[0m \u001b[0msys\u001b[0m\u001b[0;34m.\u001b[0m\u001b[0m_getframe\u001b[0m\u001b[0;34m(\u001b[0m\u001b[0mstack_depth\u001b[0m\u001b[0;34m)\u001b[0m\u001b[0;34m.\u001b[0m\u001b[0mf_locals\u001b[0m\u001b[0;34m\u001b[0m\u001b[0m\n\u001b[1;32m   2080\u001b[0m             \u001b[0;32mwith\u001b[0m \u001b[0mself\u001b[0m\u001b[0;34m.\u001b[0m\u001b[0mbuiltin_trap\u001b[0m\u001b[0;34m:\u001b[0m\u001b[0;34m\u001b[0m\u001b[0m\n\u001b[0;32m-> 2081\u001b[0;31m                 \u001b[0mresult\u001b[0m \u001b[0;34m=\u001b[0m \u001b[0mfn\u001b[0m\u001b[0;34m(\u001b[0m\u001b[0;34m*\u001b[0m\u001b[0margs\u001b[0m\u001b[0;34m,\u001b[0m\u001b[0;34m**\u001b[0m\u001b[0mkwargs\u001b[0m\u001b[0;34m)\u001b[0m\u001b[0;34m\u001b[0m\u001b[0m\n\u001b[0m\u001b[1;32m   2082\u001b[0m             \u001b[0;32mreturn\u001b[0m \u001b[0mresult\u001b[0m\u001b[0;34m\u001b[0m\u001b[0m\n\u001b[1;32m   2083\u001b[0m \u001b[0;34m\u001b[0m\u001b[0m\n",
      "\u001b[0;32m</Users/bell/anaconda2/lib/python2.7/site-packages/decorator.pyc:decorator-gen-105>\u001b[0m in \u001b[0;36mmatplotlib\u001b[0;34m(self, line)\u001b[0m\n",
      "\u001b[0;32m/Users/bell/anaconda2/lib/python2.7/site-packages/IPython/core/magic.pyc\u001b[0m in \u001b[0;36m<lambda>\u001b[0;34m(f, *a, **k)\u001b[0m\n\u001b[1;32m    186\u001b[0m     \u001b[0;31m# but it's overkill for just that one bit of state.\u001b[0m\u001b[0;34m\u001b[0m\u001b[0;34m\u001b[0m\u001b[0m\n\u001b[1;32m    187\u001b[0m     \u001b[0;32mdef\u001b[0m \u001b[0mmagic_deco\u001b[0m\u001b[0;34m(\u001b[0m\u001b[0marg\u001b[0m\u001b[0;34m)\u001b[0m\u001b[0;34m:\u001b[0m\u001b[0;34m\u001b[0m\u001b[0m\n\u001b[0;32m--> 188\u001b[0;31m         \u001b[0mcall\u001b[0m \u001b[0;34m=\u001b[0m \u001b[0;32mlambda\u001b[0m \u001b[0mf\u001b[0m\u001b[0;34m,\u001b[0m \u001b[0;34m*\u001b[0m\u001b[0ma\u001b[0m\u001b[0;34m,\u001b[0m \u001b[0;34m**\u001b[0m\u001b[0mk\u001b[0m\u001b[0;34m:\u001b[0m \u001b[0mf\u001b[0m\u001b[0;34m(\u001b[0m\u001b[0;34m*\u001b[0m\u001b[0ma\u001b[0m\u001b[0;34m,\u001b[0m \u001b[0;34m**\u001b[0m\u001b[0mk\u001b[0m\u001b[0;34m)\u001b[0m\u001b[0;34m\u001b[0m\u001b[0m\n\u001b[0m\u001b[1;32m    189\u001b[0m \u001b[0;34m\u001b[0m\u001b[0m\n\u001b[1;32m    190\u001b[0m         \u001b[0;32mif\u001b[0m \u001b[0mcallable\u001b[0m\u001b[0;34m(\u001b[0m\u001b[0marg\u001b[0m\u001b[0;34m)\u001b[0m\u001b[0;34m:\u001b[0m\u001b[0;34m\u001b[0m\u001b[0m\n",
      "\u001b[0;32m/Users/bell/anaconda2/lib/python2.7/site-packages/IPython/core/magics/pylab.pyc\u001b[0m in \u001b[0;36mmatplotlib\u001b[0;34m(self, line)\u001b[0m\n\u001b[1;32m     98\u001b[0m             \u001b[0;32mprint\u001b[0m\u001b[0;34m(\u001b[0m\u001b[0;34m\"Available matplotlib backends: %s\"\u001b[0m \u001b[0;34m%\u001b[0m \u001b[0mbackends_list\u001b[0m\u001b[0;34m)\u001b[0m\u001b[0;34m\u001b[0m\u001b[0m\n\u001b[1;32m     99\u001b[0m         \u001b[0;32melse\u001b[0m\u001b[0;34m:\u001b[0m\u001b[0;34m\u001b[0m\u001b[0m\n\u001b[0;32m--> 100\u001b[0;31m             \u001b[0mgui\u001b[0m\u001b[0;34m,\u001b[0m \u001b[0mbackend\u001b[0m \u001b[0;34m=\u001b[0m \u001b[0mself\u001b[0m\u001b[0;34m.\u001b[0m\u001b[0mshell\u001b[0m\u001b[0;34m.\u001b[0m\u001b[0menable_matplotlib\u001b[0m\u001b[0;34m(\u001b[0m\u001b[0margs\u001b[0m\u001b[0;34m.\u001b[0m\u001b[0mgui\u001b[0m\u001b[0;34m)\u001b[0m\u001b[0;34m\u001b[0m\u001b[0m\n\u001b[0m\u001b[1;32m    101\u001b[0m             \u001b[0mself\u001b[0m\u001b[0;34m.\u001b[0m\u001b[0m_show_matplotlib_backend\u001b[0m\u001b[0;34m(\u001b[0m\u001b[0margs\u001b[0m\u001b[0;34m.\u001b[0m\u001b[0mgui\u001b[0m\u001b[0;34m,\u001b[0m \u001b[0mbackend\u001b[0m\u001b[0;34m)\u001b[0m\u001b[0;34m\u001b[0m\u001b[0m\n\u001b[1;32m    102\u001b[0m \u001b[0;34m\u001b[0m\u001b[0m\n",
      "\u001b[0;32m/Users/bell/anaconda2/lib/python2.7/site-packages/IPython/core/interactiveshell.pyc\u001b[0m in \u001b[0;36menable_matplotlib\u001b[0;34m(self, gui)\u001b[0m\n\u001b[1;32m   2952\u001b[0m         \"\"\"\n\u001b[1;32m   2953\u001b[0m         \u001b[0;32mfrom\u001b[0m \u001b[0mIPython\u001b[0m\u001b[0;34m.\u001b[0m\u001b[0mcore\u001b[0m \u001b[0;32mimport\u001b[0m \u001b[0mpylabtools\u001b[0m \u001b[0;32mas\u001b[0m \u001b[0mpt\u001b[0m\u001b[0;34m\u001b[0m\u001b[0m\n\u001b[0;32m-> 2954\u001b[0;31m         \u001b[0mgui\u001b[0m\u001b[0;34m,\u001b[0m \u001b[0mbackend\u001b[0m \u001b[0;34m=\u001b[0m \u001b[0mpt\u001b[0m\u001b[0;34m.\u001b[0m\u001b[0mfind_gui_and_backend\u001b[0m\u001b[0;34m(\u001b[0m\u001b[0mgui\u001b[0m\u001b[0;34m,\u001b[0m \u001b[0mself\u001b[0m\u001b[0;34m.\u001b[0m\u001b[0mpylab_gui_select\u001b[0m\u001b[0;34m)\u001b[0m\u001b[0;34m\u001b[0m\u001b[0m\n\u001b[0m\u001b[1;32m   2955\u001b[0m \u001b[0;34m\u001b[0m\u001b[0m\n\u001b[1;32m   2956\u001b[0m         \u001b[0;32mif\u001b[0m \u001b[0mgui\u001b[0m \u001b[0;34m!=\u001b[0m \u001b[0;34m'inline'\u001b[0m\u001b[0;34m:\u001b[0m\u001b[0;34m\u001b[0m\u001b[0m\n",
      "\u001b[0;32m/Users/bell/anaconda2/lib/python2.7/site-packages/IPython/core/pylabtools.pyc\u001b[0m in \u001b[0;36mfind_gui_and_backend\u001b[0;34m(gui, gui_select)\u001b[0m\n\u001b[1;32m    277\u001b[0m     \"\"\"\n\u001b[1;32m    278\u001b[0m \u001b[0;34m\u001b[0m\u001b[0m\n\u001b[0;32m--> 279\u001b[0;31m     \u001b[0;32mimport\u001b[0m \u001b[0mmatplotlib\u001b[0m\u001b[0;34m\u001b[0m\u001b[0m\n\u001b[0m\u001b[1;32m    280\u001b[0m \u001b[0;34m\u001b[0m\u001b[0m\n\u001b[1;32m    281\u001b[0m     \u001b[0;32mif\u001b[0m \u001b[0mgui\u001b[0m \u001b[0;32mand\u001b[0m \u001b[0mgui\u001b[0m \u001b[0;34m!=\u001b[0m \u001b[0;34m'auto'\u001b[0m\u001b[0;34m:\u001b[0m\u001b[0;34m\u001b[0m\u001b[0m\n",
      "\u001b[0;32m/Users/bell/anaconda2/lib/python2.7/site-packages/matplotlib/__init__.py\u001b[0m in \u001b[0;36m<module>\u001b[0;34m()\u001b[0m\n\u001b[1;32m    124\u001b[0m \u001b[0;31m# cbook must import matplotlib only within function\u001b[0m\u001b[0;34m\u001b[0m\u001b[0;34m\u001b[0m\u001b[0m\n\u001b[1;32m    125\u001b[0m \u001b[0;31m# definitions, so it is safe to import from it here.\u001b[0m\u001b[0;34m\u001b[0m\u001b[0;34m\u001b[0m\u001b[0m\n\u001b[0;32m--> 126\u001b[0;31m \u001b[0;32mfrom\u001b[0m \u001b[0;34m.\u001b[0m \u001b[0;32mimport\u001b[0m \u001b[0mcbook\u001b[0m\u001b[0;34m\u001b[0m\u001b[0m\n\u001b[0m\u001b[1;32m    127\u001b[0m from matplotlib.cbook import (\n\u001b[1;32m    128\u001b[0m     _backports, mplDeprecation, dedent, get_label, sanitize_sequence)\n",
      "\u001b[0;32m/Users/bell/anaconda2/lib/python2.7/site-packages/matplotlib/cbook/__init__.py\u001b[0m in \u001b[0;36m<module>\u001b[0;34m()\u001b[0m\n\u001b[1;32m     32\u001b[0m \u001b[0;32mfrom\u001b[0m \u001b[0mweakref\u001b[0m \u001b[0;32mimport\u001b[0m \u001b[0mref\u001b[0m\u001b[0;34m,\u001b[0m \u001b[0mWeakKeyDictionary\u001b[0m\u001b[0;34m\u001b[0m\u001b[0m\n\u001b[1;32m     33\u001b[0m \u001b[0;34m\u001b[0m\u001b[0m\n\u001b[0;32m---> 34\u001b[0;31m \u001b[0;32mimport\u001b[0m \u001b[0mnumpy\u001b[0m \u001b[0;32mas\u001b[0m \u001b[0mnp\u001b[0m\u001b[0;34m\u001b[0m\u001b[0m\n\u001b[0m\u001b[1;32m     35\u001b[0m \u001b[0;34m\u001b[0m\u001b[0m\n\u001b[1;32m     36\u001b[0m \u001b[0;32mimport\u001b[0m \u001b[0mmatplotlib\u001b[0m\u001b[0;34m\u001b[0m\u001b[0m\n",
      "\u001b[0;32m/Users/bell/anaconda2/lib/python2.7/site-packages/numpy/__init__.py\u001b[0m in \u001b[0;36m<module>\u001b[0;34m()\u001b[0m\n\u001b[1;32m    138\u001b[0m \u001b[0;34m\u001b[0m\u001b[0m\n\u001b[1;32m    139\u001b[0m     \u001b[0;31m# Allow distributors to run custom init code\u001b[0m\u001b[0;34m\u001b[0m\u001b[0;34m\u001b[0m\u001b[0m\n\u001b[0;32m--> 140\u001b[0;31m     \u001b[0;32mfrom\u001b[0m \u001b[0;34m.\u001b[0m \u001b[0;32mimport\u001b[0m \u001b[0m_distributor_init\u001b[0m\u001b[0;34m\u001b[0m\u001b[0m\n\u001b[0m\u001b[1;32m    141\u001b[0m \u001b[0;34m\u001b[0m\u001b[0m\n\u001b[1;32m    142\u001b[0m     \u001b[0;32mfrom\u001b[0m \u001b[0;34m.\u001b[0m \u001b[0;32mimport\u001b[0m \u001b[0mcore\u001b[0m\u001b[0;34m\u001b[0m\u001b[0m\n",
      "\u001b[0;31mImportError\u001b[0m: cannot import name _distributor_init"
     ]
    }
   ],
   "source": [
    "%matplotlib inline"
   ]
  },
  {
   "cell_type": "markdown",
   "metadata": {},
   "source": [
    "### Basic Program setup"
   ]
  },
  {
   "cell_type": "markdown",
   "metadata": {},
   "source": [
    "Start with your `shebang` line which locates the version of python you are running (only really important if you keep multiple versions on your machine)\n",
    "\n",
    "I always like to add a header section which specifies the name and purpose of the program as well as any large scale information I believe should be included.  By containing these in `\"\"\"` (triplet of double quotes) the information is available in many python development environments, recognized as a docstring (see python documentation for more details)."
   ]
  },
  {
   "cell_type": "code",
   "execution_count": null,
   "metadata": {},
   "outputs": [],
   "source": [
    "#!/usr/bin/env\n",
    "\n",
    "\"\"\"\n",
    " Smith_bathymetry_example.py\n",
    "\n",
    " Bathymetry comparison for smith and etopo5\n",
    "\n",
    " Using Anaconda packaged Python\n",
    "\"\"\""
   ]
  },
  {
   "cell_type": "markdown",
   "metadata": {},
   "source": [
    "The next section specifies any included modules or packages that will need to be called in the program.  It is best practice to place all imports at the start of the program.  I am importing:   \n",
    "\n",
    "+ datetime - a standard package for gathering date and time from the local machine\n",
    "+ numpy - the numerical python package for array mathematics\n",
    "+ netCDF4 - a module for handling the NetCDF file type (not included in the windows version of Anaconda)\n",
    "+ matplotlib - the matlab like plotting library\n",
    "+ basemap - the map plotting library\n",
    "\n",
    "(I am glossing over the differences in import syntax for this notebook)\n",
    "\n",
    "Finally, I specify some program variables that pertain specifically to the module being run (basically program metadata)"
   ]
  },
  {
   "cell_type": "code",
   "execution_count": null,
   "metadata": {},
   "outputs": [],
   "source": [
    "#System Stack\n",
    "import datetime\n",
    "\n",
    "#Science Stack\n",
    "import numpy as np\n",
    "from netCDF4 import Dataset\n",
    "\n",
    "\n",
    "# Visual Stack\n",
    "import matplotlib.pyplot as plt\n",
    "from mpl_toolkits.basemap import Basemap, shiftgrid\n",
    "\n",
    "__author__   = 'Shaun Bell'\n",
    "__email__    = 'shaun.bell@noaa.gov'\n",
    "__created__  = datetime.datetime(2014, 1, 13)\n",
    "__modified__ = datetime.datetime(2014, 1, 13)\n",
    "__version__  = \"0.1.0\"\n",
    "__status__   = \"Development\"\n",
    "__keywords__ = 'ETOPO5','SMITH','bathymetry'"
   ]
  },
  {
   "cell_type": "markdown",
   "metadata": {},
   "source": [
    "### Reading in the data"
   ]
  },
  {
   "cell_type": "markdown",
   "metadata": {},
   "source": [
    "#### Etopo5 Dataset"
   ]
  },
  {
   "cell_type": "markdown",
   "metadata": {},
   "source": [
    "The data readin aspect is written as in-program subroutines/modules for simplicity of code.  The following two methods are quite redundant as they both read in topographical data from a netcdf dataset.  In order to save memory space boundaries to the data are set prior to readin based on maximum latitude and longitude.  However, longitude definitions vary among different data sets.  In this case the `etopo5` data spans from `0-->360` with positive being East while the Smith dataset spans `-180-->180` with positive also being East.   \n"
   ]
  },
  {
   "cell_type": "code",
   "execution_count": null,
   "metadata": {},
   "outputs": [],
   "source": [
    "\"\"\"------------------------ Read Data Modules-------------------------------------------\"\"\"\n",
    "\n",
    "def etopo5_data(file='etopo5.nc'):\n",
    "    \"\"\"\n",
    "    readin etopo5 dataset\n",
    "    inputs: full path to dataset\n",
    "    \n",
    "    outputs:    latitudes - array like\n",
    "                longitudes - array like\n",
    "                topo - array like\n",
    "                \n",
    "    File is small enough that entire data set could be read in at once if wanted            \n",
    "    \"\"\"\n",
    "                \n",
    "    #netcdf4 utility to open the .nc file\n",
    "    etopodata = Dataset(file)\n",
    "    \n",
    "    #read in only the lat and lon first\n",
    "    lons = etopodata.variables['X'][:]\n",
    "    lats = etopodata.variables['Y'][:]\n",
    "\n",
    "    ### use boundaries to limit input data\n",
    "    # etopo5 longitudes run from 0-360 (+ East)\n",
    "    # find appropriate indices\n",
    "    lats_ind = (lats >= 45.) & (lats <=65.)\n",
    "    lats_ind = np.where(lats_ind)[0]\n",
    "    lons_ind = (lons >= -0.001)\n",
    "    lons_ind = np.where(lons_ind)[0]\n",
    "\n",
    "    lats = lats[lats_ind]\n",
    "    lons = lons[lons_ind]\n",
    "    \n",
    "    #read in limited longitudes\n",
    "    topoin = etopodata.variables['bath'][lats_ind,lons_ind]\n",
    "    \n",
    "    #close nc file\n",
    "    etopodata.close()\n",
    "\n",
    "    #shift grid so that it runs from -360->0 (locations in GOA are negative eg -140)\n",
    "    topoin,lons = shiftgrid(0.,topoin,lons,start=False) # -360 -> 0\n",
    "\n",
    "    #create grid of lats and lons\n",
    "    lons, lats = np.meshgrid(lons, lats)\n",
    "\n",
    "    #return latitudes, longitudes and select topo info\n",
    "    return(topoin, lats, lons)"
   ]
  },
  {
   "cell_type": "markdown",
   "metadata": {},
   "source": [
    "#### And for the Smith 2004 Dataset:"
   ]
  },
  {
   "cell_type": "markdown",
   "metadata": {},
   "source": [
    "We will do the exact same method but change the hard coded boundaries. The Etopo5 data needed to be shifted so that our region's negative latitude (since it is in the western hemisphere) remains consistent otherwise we would need to calculate the equivalent latitude for the etopo dataset such that our region was within the defined boundaries.  Smith is set up so that this is not necessary so there is no grid shifting taking place."
   ]
  },
  {
   "cell_type": "code",
   "execution_count": null,
   "metadata": {},
   "outputs": [],
   "source": [
    "def smith_data(file='smith_2004.nc'):\n",
    "    \"\"\" \n",
    "    read in Smith 2004 topography/bathymetry.\n",
    "    inputs: full path to dataset\n",
    "    \n",
    "    outputs:    latitudes - array like\n",
    "                longitudes - array like\n",
    "                topo - array like\n",
    "                \n",
    "    Note: File is very large, don't try to read it all in at once            \n",
    "    \"\"\"\n",
    "    \n",
    "    smith_topo = Dataset(file)\n",
    "\n",
    "    lons = smith_topo.variables['LONGITUDE'][:]\n",
    "    lats = smith_topo.variables['LATITUDE'][:]\n",
    "\n",
    "    ### use boundaries to limit input data\n",
    "    lats_ind = (lats >= 45.) & (lats <=65.)\n",
    "    lats_ind = np.where(lats_ind)[0]\n",
    "    lons_ind = (lons <= -90.001)\n",
    "    lons_ind = np.where(lons_ind)[0]\n",
    "\n",
    "    lats = lats[lats_ind]\n",
    "    lons = lons[lons_ind]\n",
    "    topoin = smith_topo.variables['ROSE'][lats_ind,lons_ind]\n",
    "    smith_topo.close()\n",
    "\n",
    "    #no need to shift the longitudes as western longitudes are already negative\n",
    "    #topoin,lons = shiftgrid(0.,topoin,lons,start=False) # -360 -> 0\n",
    "\n",
    "\n",
    "    lons, lats = np.meshgrid(lons, lats)\n",
    "\n",
    "    return(topoin, lats, lons)"
   ]
  },
  {
   "cell_type": "markdown",
   "metadata": {},
   "source": [
    "### The Main Routine"
   ]
  },
  {
   "cell_type": "raw",
   "metadata": {},
   "source": [
    "Again, as convenience and a bit for clarity, I use the `stringdoc` to label the sections of my routines.  This stringdoc will not show up anywhere unlike stringdocs defined after modules or subroutines\n",
    "\n",
    "We begin by calling the functions defined above.  The only inputs are the full paths to each of the data sets."
   ]
  },
  {
   "cell_type": "code",
   "execution_count": null,
   "metadata": {},
   "outputs": [],
   "source": [
    "\"\"\"---------------------------- Main Routine-------------------------------------------\"\"\"\n",
    "\n",
    "#call functions specified above\n",
    "(etopoin, elats, elons) = etopo5_data(file='data/etopo5.nc')\n",
    "(stopoin, slats, slons) = smith_data(file='data/smith_2004.nc')"
   ]
  },
  {
   "cell_type": "markdown",
   "metadata": {},
   "source": [
    "Start a matplot lib figure instance.  Two axis will be generated side-by-side via \n",
    "> `ax = plt.subplot(121)`\n",
    "\n",
    "Call a Basemap instance: required inputs are:   \n",
    "\n",
    "* resolution - the resolution of the boundaries and borders ('i' is intermediate)\n",
    "* projection - the map projection ('merc' is mercator)\n",
    "* the remaining inputs are boundaries based on the projection and can vary depending on the projection chosen\n",
    "\n",
    "_(For more help on Basemap goto http://matplotlib.org/basemap/api/basemap_api.html)_\n",
    "\n",
    "> `m = Basemap()`\n",
    "\n",
    "All future ploting routines will add to the `m` basemap instance\n",
    "\n",
    "> `ex, ey = m(elons, elats)`\n",
    "\n",
    "_converts the lats and lons to the map projection grid_\n",
    "\n",
    "> `levels`\n",
    "\n",
    "_specifies an array with the values we wish to contour_\n",
    "\n",
    "> `m.contour()` \n",
    "\n",
    "_basemap call that plots the contours_\n",
    "\n",
    "> ` m.drawcontries()\n",
    "    m.drawcostlines()\n",
    "    m.drawparallels()\n",
    "    m.drawmeridians()\n",
    "    m.fillcontinents()\n",
    "    m.drawmapscale()`\n",
    "    \n",
    "_these basemap routines should be straightforward, see the docs for parameters and deffinitions_"
   ]
  },
  {
   "cell_type": "code",
   "execution_count": null,
   "metadata": {},
   "outputs": [],
   "source": [
    "fig = plt.figure()\n",
    "ax = plt.subplot(121)\n",
    "\n",
    "#instantiate basemap\n",
    "#resolution specifies the level of coastal boundaries and the like, projection is the map type \n",
    "#  and the rest specify the map boundaries\n",
    "m = Basemap(resolution='i',projection='merc', llcrnrlat=50, \\\n",
    "\turcrnrlat=65,llcrnrlon=-165,urcrnrlon=-145, lat_ts=45)\n",
    "\n",
    "#ETOPO 5 contour data\n",
    "ex, ey = m(elons, elats)\n",
    "#contour the 1000, 200, and 100 depths\n",
    "levels = [-1000, -200, -100]\n",
    "CS = m.contour(ex,ey,etopoin, levels=levels, linewidths=0.2)\n",
    "#uncomment the following line to label the contour levels\n",
    "#plt.clabel(CS, inline=1, fontsize=8, fmt='%1.0f')\n",
    "\n",
    "#draw extra features such as countries\n",
    "m.drawcountries(linewidth=0.5)\n",
    "#coastlines\n",
    "m.drawcoastlines(linewidth=0.5)\n",
    "#meridians and parallels\n",
    "m.drawparallels(np.arange(45,71,5.),labels=[1,0,0,1],color='black',dashes=[1,1],\\\n",
    "\tlabelstyle='+/-',linewidth=0.2) # draw parallels\n",
    "m.drawmeridians(np.arange(-165,-144,5.),labels=[1,0,0,1],color='black',dashes=[1,1],\\\n",
    "\tlabelstyle='+/-',linewidth=0.2) # draw meridians\n",
    "m.fillcontinents(color='black', alpha=.5)\n",
    "#map scale\n",
    "m.drawmapscale(-150, 52, -157, 57, 500, barstyle='fancy', units='km', yoffset=10000)\n",
    "\n",
    "ax = plt.subplot(122)\n",
    "\n",
    "#SMITH contour data\n",
    "sx, sy = m(slons, slats)\n",
    "levels = [-1000, -200, -100]\n",
    "CS = m.contour(sx,sy,stopoin, levels=levels, linewidths=0.2)\n",
    "#plt.clabel(CS, inline=1, fontsize=8, fmt='%1.0f')\n",
    "\n",
    "m.drawcountries(linewidth=0.5)\n",
    "m.drawcoastlines(linewidth=0.5)\n",
    "m.drawparallels(np.arange(45,71,5.),labels=[1,0,0,1],color='black',dashes=[1,1],\\\n",
    "\tlabelstyle='+/-',linewidth=0.2) # draw parallels\n",
    "m.drawmeridians(np.arange(-165,-144,5.),labels=[1,0,0,1],color='black',dashes=[1,1],\\\n",
    "\tlabelstyle='+/-',linewidth=0.2) # draw meridians\n",
    "m.fillcontinents(color='black', alpha=.5)\n",
    "m.drawmapscale(-150, 52, -157, 57, 500, barstyle='fancy', units='km', yoffset=10000)\n",
    "\n",
    "DefaultSize = fig.get_size_inches()\n",
    "fig.set_size_inches( (DefaultSize[0]*2, DefaultSize[1]*2) )\n",
    "\n",
    "plt.show()\n",
    "#save the image as a .png - specified by the file ending\n",
    "#plt.savefig('images/ETOPO5vSMITH.png', bbox_inches='tight', dpi = (100))\n",
    "#plt.close()"
   ]
  },
  {
   "cell_type": "markdown",
   "metadata": {},
   "source": [
    "How about something a little more aesthetic... \n",
    "\n",
    "lets use the terrain colorbar (plt.cm.terrain or plt.cm.gist_earth) and contour fill our data (and lets show the topography of the land as well while we are at it)"
   ]
  },
  {
   "cell_type": "code",
   "execution_count": null,
   "metadata": {},
   "outputs": [],
   "source": [
    "fig = plt.figure()\n",
    "\n",
    "#\n",
    "# use plt.cm.terrain\n",
    "#\n",
    "ax = plt.subplot(221)\n",
    "\n",
    "#instantiate basemap\n",
    "#resolution specifies the level of coastal boundaries and the like, projection is the map type \n",
    "#  and the rest specify the map boundaries\n",
    "m = Basemap(resolution='i',projection='merc', llcrnrlat=50, \\\n",
    "\turcrnrlat=65,llcrnrlon=-165,urcrnrlon=-145, lat_ts=45)\n",
    "\n",
    "#ETOPO 5 contour data\n",
    "ex, ey = m(elons, elats)\n",
    "#contour the 1000, 200, and 100 depths\n",
    "levels = np.arange(-6000,6000,100)\n",
    "CS = m.contourf(ex,ey,etopoin, cmap=plt.cm.terrain, linewidths=0.2)\n",
    "#uncomment the following line to label the contour levels\n",
    "#plt.clabel(CS, inline=1, fontsize=8, fmt='%1.0f')\n",
    "\n",
    "#draw extra features such as countries\n",
    "m.drawcountries(linewidth=0.5)\n",
    "#coastlines\n",
    "m.drawcoastlines(linewidth=0.5)\n",
    "#meridians and parallels\n",
    "m.drawparallels(np.arange(45,71,5.),labels=[1,0,0,1],color='black',dashes=[1,1],\\\n",
    "\tlabelstyle='+/-',linewidth=0.2) # draw parallels\n",
    "m.drawmeridians(np.arange(-165,-144,5.),labels=[1,0,0,1],color='black',dashes=[1,1],\\\n",
    "\tlabelstyle='+/-',linewidth=0.2) # draw meridians\n",
    "#map scale\n",
    "m.drawmapscale(-150, 52, -157, 57, 500, barstyle='fancy', units='km', yoffset=10000)\n",
    "\n",
    "ax = plt.subplot(222)\n",
    "\n",
    "#SMITH contour data\n",
    "sx, sy = m(slons, slats)\n",
    "levels = np.arange(-6000,6000,100)\n",
    "CS = m.contourf(sx,sy,stopoin, cmap=plt.cm.terrain, linewidths=0.2)\n",
    "#plt.clabel(CS, inline=1, fontsize=8, fmt='%1.0f')\n",
    "\n",
    "m.drawcountries(linewidth=0.5)\n",
    "m.drawcoastlines(linewidth=0.5)\n",
    "m.drawparallels(np.arange(45,71,5.),labels=[1,0,0,1],color='black',dashes=[1,1],\\\n",
    "\tlabelstyle='+/-',linewidth=0.2) # draw parallels\n",
    "m.drawmeridians(np.arange(-165,-144,5.),labels=[1,0,0,1],color='black',dashes=[1,1],\\\n",
    "\tlabelstyle='+/-',linewidth=0.2) # draw meridians\n",
    "m.drawmapscale(-150, 52, -157, 57, 500, barstyle='fancy', units='km', yoffset=10000)\n",
    "\n",
    "DefaultSize = fig.get_size_inches()\n",
    "fig.set_size_inches( (DefaultSize[0]*2, DefaultSize[1]*2) )\n",
    "\n",
    "#\n",
    "# use plt.cm.gist_earth\n",
    "#\n",
    "ax = plt.subplot(223)\n",
    "\n",
    "#instantiate basemap\n",
    "#resolution specifies the level of coastal boundaries and the like, projection is the map type \n",
    "#  and the rest specify the map boundaries\n",
    "m = Basemap(resolution='i',projection='merc', llcrnrlat=50, \\\n",
    "\turcrnrlat=65,llcrnrlon=-165,urcrnrlon=-145, lat_ts=45)\n",
    "\n",
    "#ETOPO 5 contour data\n",
    "ex, ey = m(elons, elats)\n",
    "#contour the 1000, 200, and 100 depths\n",
    "levels = np.arange(-6000,6000,100)\n",
    "CS = m.contourf(ex,ey,etopoin, cmap=plt.cm.gist_earth, linewidths=0.2)\n",
    "#uncomment the following line to label the contour levels\n",
    "#plt.clabel(CS, inline=1, fontsize=8, fmt='%1.0f')\n",
    "\n",
    "#draw extra features such as countries\n",
    "m.drawcountries(linewidth=0.5)\n",
    "#coastlines\n",
    "m.drawcoastlines(linewidth=0.5)\n",
    "#meridians and parallels\n",
    "m.drawparallels(np.arange(45,71,5.),labels=[1,0,0,1],color='black',dashes=[1,1],\\\n",
    "\tlabelstyle='+/-',linewidth=0.2) # draw parallels\n",
    "m.drawmeridians(np.arange(-165,-144,5.),labels=[1,0,0,1],color='black',dashes=[1,1],\\\n",
    "\tlabelstyle='+/-',linewidth=0.2) # draw meridians\n",
    "#map scale\n",
    "m.drawmapscale(-150, 52, -157, 57, 500, barstyle='fancy', units='km', yoffset=10000)\n",
    "\n",
    "ax = plt.subplot(224)\n",
    "\n",
    "#SMITH contour data\n",
    "sx, sy = m(slons, slats)\n",
    "levels = np.arange(-6000,6000,100)\n",
    "CS = m.contourf(sx,sy,stopoin, cmap=plt.cm.gist_earth, linewidths=0.2)\n",
    "#plt.clabel(CS, inline=1, fontsize=8, fmt='%1.0f')\n",
    "\n",
    "m.drawcountries(linewidth=0.5)\n",
    "m.drawcoastlines(linewidth=0.5)\n",
    "m.drawparallels(np.arange(45,71,5.),labels=[1,0,0,1],color='black',dashes=[1,1],\\\n",
    "\tlabelstyle='+/-',linewidth=0.2) # draw parallels\n",
    "m.drawmeridians(np.arange(-165,-144,5.),labels=[1,0,0,1],color='black',dashes=[1,1],\\\n",
    "\tlabelstyle='+/-',linewidth=0.2) # draw meridians\n",
    "m.drawmapscale(-150, 52, -157, 57, 500, barstyle='fancy', units='km', yoffset=10000)\n",
    "\n",
    "#DefaultSize = fig.get_size_inches()\n",
    "#fig.set_size_inches( (DefaultSize[0]*2, DefaultSize[1]*2) )\n",
    "plt.show()\n",
    "#save the image as a .png - specified by the file ending\n",
    "#plt.savefig('images/ETOPO5vSMITH.png', bbox_inches='tight', dpi = (100))\n",
    "#plt.close()"
   ]
  },
  {
   "cell_type": "code",
   "execution_count": null,
   "metadata": {},
   "outputs": [],
   "source": []
  }
 ],
 "metadata": {
  "kernelspec": {
   "display_name": "Python [conda env:root]",
   "language": "python",
   "name": "conda-root-py"
  },
  "language_info": {
   "codemirror_mode": {
    "name": "ipython",
    "version": 2
   },
   "file_extension": ".py",
   "mimetype": "text/x-python",
   "name": "python",
   "nbconvert_exporter": "python",
   "pygments_lexer": "ipython2",
   "version": "2.7.15"
  }
 },
 "nbformat": 4,
 "nbformat_minor": 2
}
