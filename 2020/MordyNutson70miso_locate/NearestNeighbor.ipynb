{
 "cells": [
  {
   "cell_type": "markdown",
   "metadata": {},
   "source": [
    "# Find associated 70m isobath station for give profile\n",
    "\n",
    "Project with Mordy\n",
    "\n",
    "Given an excel sheet with bottom or near bottom data for nut profiles, find the nearest 70m isobath station within 10km"
   ]
  },
  {
   "cell_type": "code",
   "execution_count": 73,
   "metadata": {},
   "outputs": [],
   "source": [
    "import pandas as pd\n",
    "import numpy as np"
   ]
  },
  {
   "cell_type": "code",
   "execution_count": 7,
   "metadata": {},
   "outputs": [],
   "source": [
    "dfile = 'Near Bottom Middle Shelf CTD data.xlsx'\n",
    "loc70m_stations = '70m_iconicstations.xlsx'"
   ]
  },
  {
   "cell_type": "code",
   "execution_count": 68,
   "metadata": {},
   "outputs": [],
   "source": [
    "df = pd.read_excel(dfile)\n",
    "df_70m = pd.read_excel(loc70m_stations)"
   ]
  },
  {
   "cell_type": "markdown",
   "metadata": {},
   "source": [
    "## Data examples"
   ]
  },
  {
   "cell_type": "code",
   "execution_count": 111,
   "metadata": {},
   "outputs": [
    {
     "data": {
      "text/html": [
       "<div>\n",
       "<style scoped>\n",
       "    .dataframe tbody tr th:only-of-type {\n",
       "        vertical-align: middle;\n",
       "    }\n",
       "\n",
       "    .dataframe tbody tr th {\n",
       "        vertical-align: top;\n",
       "    }\n",
       "\n",
       "    .dataframe thead th {\n",
       "        text-align: right;\n",
       "    }\n",
       "</style>\n",
       "<table border=\"1\" class=\"dataframe\">\n",
       "  <thead>\n",
       "    <tr style=\"text-align: right;\">\n",
       "      <th></th>\n",
       "      <th>Cruise</th>\n",
       "      <th>Cast</th>\n",
       "      <th>Cruise Cast</th>\n",
       "      <th>Month</th>\n",
       "      <th>Day</th>\n",
       "      <th>Year</th>\n",
       "      <th>Date Time</th>\n",
       "      <th>Latitude</th>\n",
       "      <th>Longitude</th>\n",
       "      <th>N_S</th>\n",
       "      <th>...</th>\n",
       "      <th>Salinity</th>\n",
       "      <th>Sigma_t</th>\n",
       "      <th>PO4_uM</th>\n",
       "      <th>Sil_uM</th>\n",
       "      <th>NO3_uM</th>\n",
       "      <th>NO2 _uM</th>\n",
       "      <th>NH4_uM</th>\n",
       "      <th>DIN_uM</th>\n",
       "      <th>Nstarstar_uM</th>\n",
       "      <th>StationName</th>\n",
       "    </tr>\n",
       "  </thead>\n",
       "  <tbody>\n",
       "    <tr>\n",
       "      <th>1497</th>\n",
       "      <td>MF0513</td>\n",
       "      <td>61</td>\n",
       "      <td>MF0513_61_61</td>\n",
       "      <td>9</td>\n",
       "      <td>27</td>\n",
       "      <td>2005</td>\n",
       "      <td>2005-09-27 14:07:00</td>\n",
       "      <td>60.42</td>\n",
       "      <td>173.59</td>\n",
       "      <td>N</td>\n",
       "      <td>...</td>\n",
       "      <td>32.221</td>\n",
       "      <td>25.782</td>\n",
       "      <td>2.04</td>\n",
       "      <td>29.57</td>\n",
       "      <td>10.6</td>\n",
       "      <td>1.02</td>\n",
       "      <td>7.88</td>\n",
       "      <td>19.5</td>\n",
       "      <td>-6.29536</td>\n",
       "      <td></td>\n",
       "    </tr>\n",
       "  </tbody>\n",
       "</table>\n",
       "<p>1 rows × 24 columns</p>\n",
       "</div>"
      ],
      "text/plain": [
       "      Cruise  Cast   Cruise Cast  Month  Day  Year           Date Time  \\\n",
       "1497  MF0513    61  MF0513_61_61      9   27  2005 2005-09-27 14:07:00   \n",
       "\n",
       "      Latitude  Longitude N_S  ...  Salinity  Sigma_t  PO4_uM  Sil_uM  NO3_uM  \\\n",
       "1497     60.42     173.59   N  ...    32.221   25.782    2.04   29.57    10.6   \n",
       "\n",
       "      NO2 _uM  NH4_uM  DIN_uM  Nstarstar_uM  StationName  \n",
       "1497     1.02    7.88    19.5      -6.29536               \n",
       "\n",
       "[1 rows x 24 columns]"
      ]
     },
     "execution_count": 111,
     "metadata": {},
     "output_type": "execute_result"
    }
   ],
   "source": [
    "df['StationName'] = ''\n",
    "df.sample()"
   ]
  },
  {
   "cell_type": "code",
   "execution_count": 112,
   "metadata": {},
   "outputs": [
    {
     "data": {
      "text/html": [
       "<div>\n",
       "<style scoped>\n",
       "    .dataframe tbody tr th:only-of-type {\n",
       "        vertical-align: middle;\n",
       "    }\n",
       "\n",
       "    .dataframe tbody tr th {\n",
       "        vertical-align: top;\n",
       "    }\n",
       "\n",
       "    .dataframe thead th {\n",
       "        text-align: right;\n",
       "    }\n",
       "</style>\n",
       "<table border=\"1\" class=\"dataframe\">\n",
       "  <thead>\n",
       "    <tr style=\"text-align: right;\">\n",
       "      <th></th>\n",
       "      <th>id</th>\n",
       "      <th>StationName</th>\n",
       "      <th>Activity</th>\n",
       "      <th>LatitudeDegree</th>\n",
       "      <th>LatitudeMinute</th>\n",
       "      <th>LatitudeHem</th>\n",
       "      <th>LongitudeDegree</th>\n",
       "      <th>LongitudeMinute</th>\n",
       "      <th>LongitudeHem</th>\n",
       "      <th>Depth</th>\n",
       "      <th>Comments</th>\n",
       "      <th>Latitude</th>\n",
       "      <th>Longitude</th>\n",
       "    </tr>\n",
       "  </thead>\n",
       "  <tbody>\n",
       "    <tr>\n",
       "      <th>44</th>\n",
       "      <td>48</td>\n",
       "      <td>70M21/M4</td>\n",
       "      <td>CTD/BON/CALVETS</td>\n",
       "      <td>57</td>\n",
       "      <td>50.0</td>\n",
       "      <td>N</td>\n",
       "      <td>168</td>\n",
       "      <td>53.201</td>\n",
       "      <td>W</td>\n",
       "      <td>NaN</td>\n",
       "      <td>NaN</td>\n",
       "      <td>57.833333</td>\n",
       "      <td>168.886683</td>\n",
       "    </tr>\n",
       "  </tbody>\n",
       "</table>\n",
       "</div>"
      ],
      "text/plain": [
       "    id StationName         Activity  LatitudeDegree  LatitudeMinute  \\\n",
       "44  48    70M21/M4  CTD/BON/CALVETS              57            50.0   \n",
       "\n",
       "   LatitudeHem  LongitudeDegree  LongitudeMinute LongitudeHem  Depth  \\\n",
       "44           N              168           53.201            W    NaN   \n",
       "\n",
       "    Comments   Latitude   Longitude  \n",
       "44       NaN  57.833333  168.886683  "
      ]
     },
     "execution_count": 112,
     "metadata": {},
     "output_type": "execute_result"
    }
   ],
   "source": [
    "df_70m['Latitude'] = df_70m['LatitudeDegree'] + df_70m['LatitudeMinute']/60\n",
    "df_70m['Longitude'] = df_70m['LongitudeDegree'] + df_70m['LongitudeMinute']/60\n",
    "df_70m.sample()"
   ]
  },
  {
   "cell_type": "markdown",
   "metadata": {},
   "source": [
    "## Nearest Neighbor (aka great circle calculator with max/min)\n",
    "\n",
    "find station with distance less than threshold (10km)"
   ]
  },
  {
   "cell_type": "code",
   "execution_count": 113,
   "metadata": {},
   "outputs": [],
   "source": [
    "import haversine as haversine"
   ]
  },
  {
   "cell_type": "code",
   "execution_count": 120,
   "metadata": {},
   "outputs": [],
   "source": [
    "fn = lambda x: haversine.haversine((x[0], x[1]),(x[2],x[3]))\n",
    "\n",
    "for ind,row in df.iterrows():\n",
    "    for ind_70m,row_70m in df_70m.iterrows():\n",
    "        dist = (fn([row.Latitude,row.Longitude,row_70m['Latitude'],row_70m['Longitude']]))\n",
    "        if dist < 10:\n",
    "            #print(row_70m['StationName'])\n",
    "            df.iloc[ind,df.columns.get_loc('StationName')]=row_70m['StationName']\n"
   ]
  },
  {
   "cell_type": "code",
   "execution_count": 122,
   "metadata": {},
   "outputs": [],
   "source": [
    "df.to_csv('Near Bottom Middle Shelf CTD data.csv')"
   ]
  },
  {
   "cell_type": "code",
   "execution_count": null,
   "metadata": {},
   "outputs": [],
   "source": []
  }
 ],
 "metadata": {
  "kernelspec": {
   "display_name": "Python [conda env:py37] *",
   "language": "python",
   "name": "conda-env-py37-py"
  },
  "language_info": {
   "codemirror_mode": {
    "name": "ipython",
    "version": 3
   },
   "file_extension": ".py",
   "mimetype": "text/x-python",
   "name": "python",
   "nbconvert_exporter": "python",
   "pygments_lexer": "ipython3",
   "version": "3.7.6"
  }
 },
 "nbformat": 4,
 "nbformat_minor": 4
}
