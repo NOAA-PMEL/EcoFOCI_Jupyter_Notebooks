{
 "cells": [
  {
   "cell_type": "markdown",
   "metadata": {},
   "source": [
    "# KWood - SVS Carbon Emissions\n",
    "\n",
    "Polar plot of data, daily, overlayed on ice concentration\n",
    "\n",
    "Data is in hdf format"
   ]
  },
  {
   "cell_type": "code",
   "execution_count": 95,
   "metadata": {},
   "outputs": [],
   "source": [
    "import xarray as xr\n",
    "\n",
    "import numpy as np\n",
    "import h5py # if this creates an error please make sure you have the h5py library\n",
    "\n",
    "import matplotlib.pyplot as plt\n",
    "import matplotlib.path as mpath\n",
    "from cartopy import config\n",
    "import cartopy\n",
    "import cartopy.crs as ccrs\n",
    "import cmocean as cm"
   ]
  },
  {
   "cell_type": "code",
   "execution_count": 237,
   "metadata": {},
   "outputs": [],
   "source": [
    "filein = ['/Users/bell/Downloads/GFED4.1s_2017_beta.hdf5','/Users/bell/Downloads/GFED4.1s_2018_beta.hdf5',\n",
    "          '/Users/bell/Downloads/GFED4.1s_2019_beta.hdf5','/Users/bell/Downloads/GFED4.1s_2020_beta.hdf5']"
   ]
  },
  {
   "cell_type": "code",
   "execution_count": 243,
   "metadata": {},
   "outputs": [],
   "source": [
    "count=0\n",
    "sum_10_day = np.zeros((720, 1440))\n",
    "for ofile in filein:\n",
    "    f = h5py.File(ofile, 'r')\n",
    "    for mm in range(1,12):\n",
    "        month='/emissions/'+str(mm).zfill(2)+'/C/' \n",
    "        for dd in range(1,31):\n",
    "            day='/emissions/'+str(mm).zfill(2)+'/daily_fraction/day_'+str(dd)+'/' \n",
    "\n",
    "            try:\n",
    "                var = f[month][:,:] * f[day][:,:]\n",
    "            except:\n",
    "                continue\n",
    "\n",
    "            if count < 9:\n",
    "                sum_10_day = sum_10_day+var\n",
    "                count+=1\n",
    "\n",
    "            elif count == 9:\n",
    "                sum_10_day = sum_10_day+var\n",
    "                sum_10_day[sum_10_day==0]=np.nan\n",
    "\n",
    "                #resource had 10day averages\n",
    "                fig = plt.figure(figsize=[20, 20])\n",
    "                ax = plt.axes(projection=ccrs.Orthographic(180, 90))\n",
    "\n",
    "\n",
    "                #ax.set_extent([-180, 180, 45, 90], ccrs.PlateCarree())\n",
    "\n",
    "                theta = np.linspace(0, 2*np.pi, 100)\n",
    "                center, radius = [0.5, 0.5], 0.5\n",
    "                verts = np.vstack([np.sin(theta), np.cos(theta)]).T\n",
    "                circle = mpath.Path(verts * radius + center)\n",
    "\n",
    "                ax.set_boundary(circle, transform=ax.transAxes)\n",
    "\n",
    "                ax.pcolormesh(f['lon'],f['lat'],sum_10_day,vmin=0,vmax=30,\n",
    "                             transform=ccrs.PlateCarree())\n",
    "\n",
    "                ax.coastlines(resolution='50m')\n",
    "                fig.savefig('CO_emmisions_daily'+ofile.split('.')[-2]+str(mm).zfill(2)+'_'+str(dd).zfill(2)+'_10day.png')\n",
    "                plt.close(fig)\n",
    "\n",
    "                sum_10_day = np.zeros((720, 1440))\n",
    "                count=0\n"
   ]
  },
  {
   "cell_type": "code",
   "execution_count": null,
   "metadata": {},
   "outputs": [],
   "source": []
  }
 ],
 "metadata": {
  "kernelspec": {
   "display_name": "Python [conda env:py38]",
   "language": "python",
   "name": "conda-env-py38-py"
  },
  "language_info": {
   "codemirror_mode": {
    "name": "ipython",
    "version": 3
   },
   "file_extension": ".py",
   "mimetype": "text/x-python",
   "name": "python",
   "nbconvert_exporter": "python",
   "pygments_lexer": "ipython3",
   "version": "3.8.6"
  }
 },
 "nbformat": 4,
 "nbformat_minor": 4
}
