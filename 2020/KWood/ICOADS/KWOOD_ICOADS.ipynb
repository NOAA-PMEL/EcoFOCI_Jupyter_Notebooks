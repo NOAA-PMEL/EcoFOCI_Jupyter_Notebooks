{
 "cells": [
  {
   "cell_type": "code",
   "execution_count": 68,
   "metadata": {},
   "outputs": [
    {
     "name": "stdout",
     "output_type": "stream",
     "text": [
      "ICOADS_R3.0_Rqst257137_19440101-19570316.csv\n"
     ]
    },
    {
     "name": "stderr",
     "output_type": "stream",
     "text": [
      "b'Skipping line 22160: expected 18 fields, saw 22\\n'\n",
      "b'Skipping line 472328: expected 18 fields, saw 31\\n'\n"
     ]
    },
    {
     "name": "stdout",
     "output_type": "stream",
     "text": [
      "ICOADS_R3.0_Rqst257137_19570317-19630621.csv\n"
     ]
    },
    {
     "name": "stderr",
     "output_type": "stream",
     "text": [
      "b'Skipping line 328652: expected 18 fields, saw 30\\n'\n",
      "b'Skipping line 823957: expected 18 fields, saw 21\\n'\n"
     ]
    },
    {
     "name": "stdout",
     "output_type": "stream",
     "text": [
      "ICOADS_R3.0_Rqst257137_19630622-19671123.csv\n"
     ]
    },
    {
     "name": "stderr",
     "output_type": "stream",
     "text": [
      "b'Skipping line 46155: expected 18 fields, saw 20\\n'\n",
      "b'Skipping line 316455: expected 18 fields, saw 30\\n'\n",
      "b'Skipping line 607225: expected 18 fields, saw 21\\n'\n",
      "b'Skipping line 931591: expected 18 fields, saw 25\\n'\n"
     ]
    },
    {
     "name": "stdout",
     "output_type": "stream",
     "text": [
      "ICOADS_R3.0_Rqst257137_19671124-19710615.csv\n"
     ]
    },
    {
     "name": "stderr",
     "output_type": "stream",
     "text": [
      "b'Skipping line 194185: expected 18 fields, saw 23\\n'\n",
      "b'Skipping line 548787: expected 18 fields, saw 20\\n'\n",
      "b'Skipping line 871977: expected 18 fields, saw 29\\n'\n"
     ]
    },
    {
     "name": "stdout",
     "output_type": "stream",
     "text": [
      "ICOADS_R3.0_Rqst257137_19710616-19750624.csv\n"
     ]
    },
    {
     "name": "stderr",
     "output_type": "stream",
     "text": [
      "b'Skipping line 140450: expected 18 fields, saw 34\\n'\n"
     ]
    },
    {
     "name": "stdout",
     "output_type": "stream",
     "text": [
      "ICOADS_R3.0_Rqst257137_19750625-19790715.csv\n",
      "ICOADS_R3.0_Rqst257137_19790716-19830628.csv\n",
      "ICOADS_R3.0_Rqst257137_19830629-19870517.csv\n"
     ]
    },
    {
     "name": "stderr",
     "output_type": "stream",
     "text": [
      "b'Skipping line 852953: expected 18 fields, saw 19\\n'\n"
     ]
    },
    {
     "name": "stdout",
     "output_type": "stream",
     "text": [
      "ICOADS_R3.0_Rqst257137_19870518-19900904.csv\n",
      "ICOADS_R3.0_Rqst257137_19900905-19950929.csv\n",
      "ICOADS_R3.0_Rqst257137_19950930-20010712.csv\n",
      "ICOADS_R3.0_Rqst257137_20010713-20061206.csv\n",
      "ICOADS_R3.0_Rqst257137_20061207-20100920.csv\n",
      "ICOADS_R3.0_Rqst257137_20100921-20130903.csv\n",
      "ICOADS_R3.0_Rqst257137_20130904-20141231.csv\n"
     ]
    }
   ],
   "source": [
    "import pandas as pd\n",
    "import os\n",
    "import datetime\n",
    "\n",
    "filein = '/Users/bell/in_and_outbox/2017/wood/icoaads_bp_at_sst/files/'\n",
    "\n",
    "for k in sorted(os.listdir(filein)):\n",
    "    if not '.csv' in k:\n",
    "        continue\n",
    "    else:\n",
    "        print(k)\n",
    "        df = pd.read_csv(filein+k, error_bad_lines=False)\n",
    "        df.dropna(axis=0,inplace=True)\n",
    "\n",
    "        df['MO'].astype(str).apply(lambda x: x.zfill(2))\n",
    "        df['DY'].astype(str).apply(lambda x: x.zfill(2))\n",
    "        df['HR'].astype(str).apply(lambda x: x.zfill(2))\n",
    "\n",
    "        df['datetime'] = df['YR'].astype(str)+ ' '+(df['MO'].astype(str)).apply(lambda x: x.zfill(2))+ ' '+((df['DY'].astype(int)).astype(str)).apply(lambda x: x.zfill(2))+ ' '+((df['HR'].astype(int)).astype(str)).apply(lambda x: x.zfill(2)) \n",
    "        df['datetime'] = pd.to_datetime(df['datetime'], format='%Y %m %d %H')\n",
    "        df.drop(['YR','MO','DY','HR'],axis=1,inplace=True)\n",
    "\n",
    "        df.to_csv(filein +'/timeconvert/'+k)"
   ]
  },
  {
   "cell_type": "code",
   "execution_count": null,
   "metadata": {},
   "outputs": [],
   "source": []
  }
 ],
 "metadata": {
  "kernelspec": {
   "display_name": "Python [conda env:py37] *",
   "language": "python",
   "name": "conda-env-py37-py"
  },
  "language_info": {
   "codemirror_mode": {
    "name": "ipython",
    "version": 3
   },
   "file_extension": ".py",
   "mimetype": "text/x-python",
   "name": "python",
   "nbconvert_exporter": "python",
   "pygments_lexer": "ipython3",
   "version": "3.7.8"
  }
 },
 "nbformat": 4,
 "nbformat_minor": 4
}
