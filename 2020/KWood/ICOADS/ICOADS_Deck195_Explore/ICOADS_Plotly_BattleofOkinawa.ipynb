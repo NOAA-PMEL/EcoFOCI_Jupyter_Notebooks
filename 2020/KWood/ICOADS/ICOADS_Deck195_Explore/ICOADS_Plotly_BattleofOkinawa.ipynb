{
 "cells": [
  {
   "cell_type": "code",
   "execution_count": 6,
   "metadata": {},
   "outputs": [],
   "source": [
    "import pandas as pd\n",
    "import plotly.express as px\n",
    "\n",
    "df = pd.read_csv('../Deck195_CleanID.csv',parse_dates=True,dtype={'ID':str,'ID_clean':str,'ID_pre':str},index_col='time')"
   ]
  },
  {
   "cell_type": "markdown",
   "metadata": {},
   "source": [
    "# Battle of Okinawa\n",
    "\n",
    "Subset to March through Mid july of 1945...\n",
    "\n",
    "https://duckduckgo.com/?t=ffab&q=Battle+of+okinawa&atb=v177-1&ia=web&iax=images&iaxm=about\n",
    "\n",
    "subset to vessel classes we know\n",
    "\n",
    "## History/Email\n",
    "\n",
    "Here's another bit of history that may pertinent. It looks like entire Pacific Fleet was massed for the invasion of Okinawa - more than 582 ships are included in the naval order of battle. March-June 1945. It would be interesting to see a map plot of the months March to August of all Deck 195 obs. This might tell us more about the abrupt drop in these months. \n",
    "\n",
    "**Wikipedia entry**\n",
    "\n",
    "For the April 1945 invasion of Okinawa, the Allies assembled the most powerful naval force in history. Since the few remaining capital ships of the Imperial Japanese Combined Fleet had been sunk or otherwise put out of action at the Battle of Leyte Gulf, the Allies were effectively unopposed in terms of surface vessels; a single mission consisting of the superbattleship Yamato and a few escorts was undertaken, but the task force did not get within 200 nautical miles (370 km; 230 mi) of the invasion area.\n",
    "\n",
    "Since the Japanese air arm had been equally decimated by this point in the war, the lack of trained and experienced pilots led them to deploy the kamikaze extensively in the waters off Okinawa.\n",
    "\n",
    " US Navy combat ships:\n",
    "11 fleet carriers, 6 light carriers, 22 escort carriers, 8 fast battleships, 10 old battleships, 2 large cruisers, 12 heavy cruisers, 13 light cruisers, 4 anti-aircraft light cruisers, 132 destroyers, 45 destroyer escorts\n",
    "\n",
    " Amphibious assault vessels:\n",
    "84 attack transports, 29 attack cargo ships, LCIs, LSMs, LSTs, LSVs, etc.\n",
    "\n",
    " Auxiliaries:\n",
    "52 submarine chasers, 23 fast minesweepers, 69 minesweepers, 11 minelayers, 49 oilers, etc.\n",
    "\n",
    " Royal Navy combat ships:\n",
    "5 fleet carriers, 2 battleships, 7 light cruisers, 14 destroyers\n",
    "\n"
   ]
  },
  {
   "cell_type": "code",
   "execution_count": 2,
   "metadata": {},
   "outputs": [],
   "source": [
    "df_subsettime = df['1945-03-01':'1945-07-15']\n",
    "\n",
    "df_okinawa = pd.DataFrame()\n",
    "for dfid in ['01','02','06','07','10','12','14','22','32','41','43','51','59','61','89','94']:\n",
    "    df_okinawa = pd.concat([df_okinawa,df_subsettime[df_subsettime['ID_pre'] == dfid]])\n",
    "\n",
    "#seems this is only 50% ships?"
   ]
  },
  {
   "cell_type": "code",
   "execution_count": 3,
   "metadata": {},
   "outputs": [],
   "source": [
    "df_odaily = pd.DataFrame()\n",
    "for dfid in df_okinawa.groupby('ID').groups.keys():\n",
    "    df_odaily = pd.concat([df_odaily, (df_okinawa.groupby('ID').get_group(dfid).resample('1D').max())])"
   ]
  },
  {
   "cell_type": "code",
   "execution_count": 4,
   "metadata": {},
   "outputs": [
    {
     "name": "stderr",
     "output_type": "stream",
     "text": [
      "<ipython-input-4-7050a89298c3>:2: SettingWithCopyWarning: \n",
      "A value is trying to be set on a copy of a slice from a DataFrame\n",
      "\n",
      "See the caveats in the documentation: https://pandas.pydata.org/pandas-docs/stable/user_guide/indexing.html#returning-a-view-versus-a-copy\n",
      "  sst_subset.dropna(inplace=True)\n"
     ]
    }
   ],
   "source": [
    "sst_subset = df_odaily[['latitude','longitude','SST','ID','ID_pre']]\n",
    "sst_subset.dropna(inplace=True)\n",
    "sst_subset.reset_index(inplace=True)"
   ]
  },
  {
   "cell_type": "markdown",
   "metadata": {},
   "source": [
    "## Plot all Identified ship classes and make selectable by time"
   ]
  },
  {
   "cell_type": "code",
   "execution_count": null,
   "metadata": {},
   "outputs": [],
   "source": [
    "import plotly.express as px\n",
    "\n",
    "fig = px.scatter_mapbox(us_cities, lat=\"lat\", lon=\"lon\", hover_name=\"City\", hover_data=[\"State\", \"Population\"],\n",
    "                        color_discrete_sequence=[\"fuchsia\"], zoom=3, height=300)\n",
    "fig.update_layout(mapbox_style=\"open-street-map\")\n",
    "fig.update_layout(margin={\"r\":0,\"t\":0,\"l\":0,\"b\":0})\n",
    "fig.show()ß"
   ]
  }
 ],
 "metadata": {
  "kernelspec": {
   "display_name": "Python [conda env:py38] *",
   "language": "python",
   "name": "conda-env-py38-py"
  },
  "language_info": {
   "codemirror_mode": {
    "name": "ipython",
    "version": 3
   },
   "file_extension": ".py",
   "mimetype": "text/x-python",
   "name": "python",
   "nbconvert_exporter": "python",
   "pygments_lexer": "ipython3",
   "version": "3.8.6"
  }
 },
 "nbformat": 4,
 "nbformat_minor": 4
}
