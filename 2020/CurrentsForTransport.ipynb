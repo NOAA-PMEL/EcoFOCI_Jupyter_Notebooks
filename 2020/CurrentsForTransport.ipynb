{
 "cells": [
  {
   "cell_type": "markdown",
   "metadata": {},
   "source": [
    "# Transport Calculation Preparation\n",
    "\n",
    "- Take ADCP data from chosen site (C1, C2, C3)   \n",
    "- low pass filter (lanzcos) and rotate arbitrary degrees   \n",
    "\n",
    "then or C1,C2,C3 - pull out NE (+/- 30 deg?)"
   ]
  },
  {
   "cell_type": "code",
   "execution_count": 192,
   "metadata": {},
   "outputs": [],
   "source": [
    "#load file and filter\n",
    "\n",
    "import xarray as xa\n",
    "import pandas as pd\n",
    "import numpy as np"
   ]
  },
  {
   "cell_type": "code",
   "execution_count": 193,
   "metadata": {},
   "outputs": [],
   "source": [
    "%matplotlib inline"
   ]
  },
  {
   "cell_type": "code",
   "execution_count": 194,
   "metadata": {},
   "outputs": [
    {
     "data": {
      "text/plain": [
       "'/Users/bell/Programs/Python/EcoFOCI_Jupyter_Notebooks'"
      ]
     },
     "execution_count": 194,
     "metadata": {},
     "output_type": "execute_result"
    }
   ],
   "source": [
    "## up a few directories there is a filters folder\n",
    "\n",
    "from inspect import getsourcefile\n",
    "import os.path as path, sys\n",
    "current_dir = path.dirname(path.abspath(getsourcefile(lambda:0)))\n",
    "sys.path.insert(0, current_dir[:current_dir.rfind(path.sep)])\n",
    "import filters.lanzcos as lanzcos  # Replace \"my_module\" here with the module name.\n",
    "sys.path.pop(0)"
   ]
  },
  {
   "cell_type": "markdown",
   "metadata": {},
   "source": [
    "**Load ADCP data with CF convention timewords**"
   ]
  },
  {
   "cell_type": "code",
   "execution_count": 195,
   "metadata": {},
   "outputs": [],
   "source": [
    "filein='/Users/bell/ecoraid/2018/Moorings/18ckp3a/erddap/final_data/18ckp3a_wcp_vel.cf.nc'\n",
    "xadata = xa.load_dataset(filein)"
   ]
  },
  {
   "cell_type": "code",
   "execution_count": 196,
   "metadata": {},
   "outputs": [
    {
     "data": {
      "text/html": [
       "<pre>&lt;xarray.Dataset&gt;\n",
       "Dimensions:    (depth: 7, lat: 1, lon: 1, time: 8779)\n",
       "Coordinates:\n",
       "  * time       (time) datetime64[ns] 2018-08-12T20:00:00 ... 2019-08-13T14:00:00\n",
       "  * depth      (depth) float32 8.0 12.0 16.0 20.0 24.0 28.0 32.0\n",
       "  * lat        (lat) float32 71.82485\n",
       "  * lon        (lon) float32 166.05847\n",
       "Data variables:\n",
       "    v_1206     (time, depth, lat, lon) float32 -4.4028864 ... 4.965061\n",
       "    u_1205     (time, depth, lat, lon) float32 11.991021 12.376356 ... 7.654944\n",
       "    w_1204     (time, depth, lat, lon) float32 -0.1 -0.1 -0.2 ... 0.1 0.0 0.0\n",
       "    Werr_1201  (time, depth, lat, lon) float32 0.1 -0.8 0.6 ... -0.5 0.3 0.6\n",
       "Attributes:\n",
       "    CREATION_DATE:        January 27, 2020 19:31 UTC\n",
       "    COMPOSITE:            1\n",
       "    INST_TYPE:            wcp\n",
       "    DATA_CMNT:            1705.VEL\n",
       "    EPIC_FILE_GENERATOR:  nc_epic2udunits_time.py V0.4.0\n",
       "    PROG_CMNT01:          \n",
       "    EDIT_CMNT01:          \n",
       "    WATER_DEPTH:          47.0\n",
       "    MOORING:              18CKP-3A\n",
       "    WATER_MASS:           B\n",
       "    EXPERIMENT:           \n",
       "    PROJECT:              \n",
       "    History:               \\nJanuary 27, 2020 19:31 UTC EPIC two time-word ke...</pre>"
      ],
      "text/plain": [
       "<xarray.Dataset>\n",
       "Dimensions:    (depth: 7, lat: 1, lon: 1, time: 8779)\n",
       "Coordinates:\n",
       "  * time       (time) datetime64[ns] 2018-08-12T20:00:00 ... 2019-08-13T14:00:00\n",
       "  * depth      (depth) float32 8.0 12.0 16.0 20.0 24.0 28.0 32.0\n",
       "  * lat        (lat) float32 71.82485\n",
       "  * lon        (lon) float32 166.05847\n",
       "Data variables:\n",
       "    v_1206     (time, depth, lat, lon) float32 -4.4028864 ... 4.965061\n",
       "    u_1205     (time, depth, lat, lon) float32 11.991021 12.376356 ... 7.654944\n",
       "    w_1204     (time, depth, lat, lon) float32 -0.1 -0.1 -0.2 ... 0.1 0.0 0.0\n",
       "    Werr_1201  (time, depth, lat, lon) float32 0.1 -0.8 0.6 ... -0.5 0.3 0.6\n",
       "Attributes:\n",
       "    CREATION_DATE:        January 27, 2020 19:31 UTC\n",
       "    COMPOSITE:            1\n",
       "    INST_TYPE:            wcp\n",
       "    DATA_CMNT:            1705.VEL\n",
       "    EPIC_FILE_GENERATOR:  nc_epic2udunits_time.py V0.4.0\n",
       "    PROG_CMNT01:          \n",
       "    EDIT_CMNT01:          \n",
       "    WATER_DEPTH:          47.0\n",
       "    MOORING:              18CKP-3A\n",
       "    WATER_MASS:           B\n",
       "    EXPERIMENT:           \n",
       "    PROJECT:              \n",
       "    History:               \\nJanuary 27, 2020 19:31 UTC EPIC two time-word ke..."
      ]
     },
     "execution_count": 196,
     "metadata": {},
     "output_type": "execute_result"
    }
   ],
   "source": [
    "xadata"
   ]
  },
  {
   "cell_type": "code",
   "execution_count": 197,
   "metadata": {},
   "outputs": [
    {
     "name": "stderr",
     "output_type": "stream",
     "text": [
      "/Users/bell/anaconda2/envs/py37/lib/python3.7/site-packages/ipykernel_launcher.py:30: SettingWithCopyWarning: \n",
      "A value is trying to be set on a copy of a slice from a DataFrame\n",
      "\n",
      "See the caveats in the documentation: http://pandas.pydata.org/pandas-docs/stable/user_guide/indexing.html#returning-a-view-versus-a-copy\n",
      "/Users/bell/anaconda2/envs/py37/lib/python3.7/site-packages/ipykernel_launcher.py:31: SettingWithCopyWarning: \n",
      "A value is trying to be set on a copy of a slice from a DataFrame\n",
      "\n",
      "See the caveats in the documentation: http://pandas.pydata.org/pandas-docs/stable/user_guide/indexing.html#returning-a-view-versus-a-copy\n",
      "/Users/bell/anaconda2/envs/py37/lib/python3.7/site-packages/ipykernel_launcher.py:41: SettingWithCopyWarning: \n",
      "A value is trying to be set on a copy of a slice from a DataFrame\n",
      "\n",
      "See the caveats in the documentation: http://pandas.pydata.org/pandas-docs/stable/user_guide/indexing.html#returning-a-view-versus-a-copy\n",
      "/Users/bell/anaconda2/envs/py37/lib/python3.7/site-packages/ipykernel_launcher.py:42: SettingWithCopyWarning: \n",
      "A value is trying to be set on a copy of a slice from a DataFrame\n",
      "\n",
      "See the caveats in the documentation: http://pandas.pydata.org/pandas-docs/stable/user_guide/indexing.html#returning-a-view-versus-a-copy\n",
      "/Users/bell/anaconda2/envs/py37/lib/python3.7/site-packages/ipykernel_launcher.py:45: SettingWithCopyWarning: \n",
      "A value is trying to be set on a copy of a slice from a DataFrame\n",
      "\n",
      "See the caveats in the documentation: http://pandas.pydata.org/pandas-docs/stable/user_guide/indexing.html#returning-a-view-versus-a-copy\n",
      "/Users/bell/anaconda2/envs/py37/lib/python3.7/site-packages/ipykernel_launcher.py:46: SettingWithCopyWarning: \n",
      "A value is trying to be set on a copy of a slice from a DataFrame\n",
      "\n",
      "See the caveats in the documentation: http://pandas.pydata.org/pandas-docs/stable/user_guide/indexing.html#returning-a-view-versus-a-copy\n"
     ]
    },
    {
     "name": "stdout",
     "output_type": "stream",
     "text": [
      "rotating vectors\n",
      "8\n",
      "rotating vectors\n",
      "12\n",
      "rotating vectors\n",
      "16\n",
      "rotating vectors\n",
      "20\n",
      "rotating vectors\n",
      "24\n",
      "rotating vectors\n",
      "28\n",
      "rotating vectors\n",
      "32\n"
     ]
    }
   ],
   "source": [
    "#to do it pandas way\n",
    "fdata=pd.DataFrame()\n",
    "for depths in xadata.depth:\n",
    "    udata = xadata.sel(depth=depths).u_1205[:,0,0].to_pandas()\n",
    "    vdata = xadata.sel(depth=depths).v_1206[:,0,0].to_pandas()\n",
    "    \n",
    "    data = pd.concat([udata, vdata], axis=1)\n",
    "    data.columns = ['udata','vdata']\n",
    "    \n",
    "    data['udata'][data.udata > 1e34]=np.nan\n",
    "    data['vdata'][data.vdata > 1e34]=np.nan\n",
    "    data = data.resample('1H').mean()\n",
    "    \n",
    "    ## missing data fill limited by number of hours to linearly interpolate\n",
    "    data['tempu'] = data['udata'].interpolate(method='time',limit=6)\n",
    "    data['tempv'] = data['vdata'].interpolate(method='time',limit=6)\n",
    "\n",
    "    # get index of missing data that wasn't filled\n",
    "    # the remaining missing data will continue to be missing after analysis\n",
    "    # this data and the edges of the timeseries need to have the effects of the filter window accounted for\n",
    "\n",
    "    missing_index_u = np.isnan(data.tempu)\n",
    "    missing_index_v = np.isnan(data.tempv)\n",
    "    data['tempu'] = data['udata'].interpolate(method='time')\n",
    "    data['tempv'] = data['vdata'].interpolate(method='time')\n",
    "    \n",
    "    #filter data with rudimentary matlab script\n",
    "    data['ufdata'] = lanzcos.lanzcos(data.tempu.values,1,35)+data['udata'].mean()\n",
    "    data['vfdata'] = lanzcos.lanzcos(data.tempv.values,1,35)+data['vdata'].mean()\n",
    "    data['ufdata'][missing_index_u] = np.nan\n",
    "    data['vfdata'][missing_index_v] = np.nan\n",
    "    \n",
    "    #remove boundaries of large gaps\n",
    "\n",
    "    \"\"\"\n",
    "    for index, row in data[np.isnan(data[var2filter_name+'_f35'])].iterrows():\n",
    "            data[var2filter_name+'_f35'][index-datetime.timedelta(hours=17):index+datetime.timedelta(hours=17)] = np.nan\n",
    "    \"\"\"\n",
    "    #remove start/end boundaries\n",
    "    for index in range(0,17):\n",
    "        data.loc[data.index[index]]['ufdata'] =np.nan\n",
    "        data.loc[data.index[index]]['vfdata'] =np.nan\n",
    "\n",
    "    for index in range(len(data)-17,len(data)):\n",
    "        data.loc[data.index[index]]['ufdata'] =np.nan\n",
    "        data.loc[data.index[index]]['vfdata'] =np.nan\n",
    "        \n",
    "    data.drop(columns=['tempu','tempv'],inplace=True)\n",
    "    \n",
    "    # rotate uv\n",
    "    print(\"rotating vectors\")\n",
    "    # when rotating vectors - positive(+) rotation is equal to ccw of the axis (cw of vector)\n",
    "    #                      - negative(-) rotation is equal to cw of the axis (ccw of the vector)\n",
    "    angle_offset_rad = np.deg2rad(45)\n",
    "    uprime = data[\"ufdata\"] * np.cos(angle_offset_rad) + data[\"vfdata\"] * np.sin(\n",
    "        angle_offset_rad\n",
    "    )\n",
    "    vprime = -1.0 * data[\"udata\"] * np.sin(angle_offset_rad) + data[\"vfdata\"] * np.cos(\n",
    "        angle_offset_rad\n",
    "    )\n",
    "\n",
    "    fdata[\"vfrdata_\"+str(int(depths.values))] = vprime\n",
    "    fdata[\"ufrdata_\"+str(int(depths.values))] = uprime\n",
    "    print(str(int(depths.values)))"
   ]
  },
  {
   "cell_type": "code",
   "execution_count": 198,
   "metadata": {},
   "outputs": [],
   "source": [
    "fdata.to_csv(filein.split('.cf.nc')[0]+'_35hrfiltered_45degrotated.csv')\n",
    "data.to_csv(filein.split('.cf.nc')[0]+str(int(depths.values))+'.csv')"
   ]
  },
  {
   "cell_type": "code",
   "execution_count": null,
   "metadata": {},
   "outputs": [],
   "source": []
  }
 ],
 "metadata": {
  "kernelspec": {
   "display_name": "Python [conda env:py38] *",
   "language": "python",
   "name": "conda-env-py38-py"
  },
  "language_info": {
   "codemirror_mode": {
    "name": "ipython",
    "version": 3
   },
   "file_extension": ".py",
   "mimetype": "text/x-python",
   "name": "python",
   "nbconvert_exporter": "python",
   "pygments_lexer": "ipython3",
   "version": "3.8.6"
  }
 },
 "nbformat": 4,
 "nbformat_minor": 4
}
