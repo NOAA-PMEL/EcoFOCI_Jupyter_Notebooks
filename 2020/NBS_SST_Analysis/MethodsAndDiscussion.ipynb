{
 "cells": [
  {
   "cell_type": "markdown",
   "metadata": {},
   "source": [
    "# Remote and Modelled SST vs in-situ data in the NBS/US Arctic"
   ]
  },
  {
   "cell_type": "markdown",
   "metadata": {},
   "source": [
    "## Datasources and analysis"
   ]
  },
  {
   "cell_type": "markdown",
   "metadata": {},
   "source": [
    "### The following Notebooks are included in the analysis\n",
    "\n",
    "The notebooks below describe the general retrieval and preprocessing of various datasets\n",
    "\n",
    "[FOCI_Drifters.ipynb](FOCI_Drifters.ipynb) (output per id csv files)   \n",
    "[FSU_SAMOS.ipynb](FSU_SAMOS.ipynb) (output per ship csv files)   \n",
    "[ICOADS_SST.ipynb](ICOADS_SST.ipynb) (not sure of best output yet)  \n",
    "[EcoFOCI_M2.ipynb](EcoFOCI_M2.ipynb) (timeseries of all shallow moored instruments in SouthernBS)\n",
    "\n",
    "The output of the above notebooks creates plots and csv files to be appended to via the data from the following notebook.\n",
    "\n",
    "The intent of the Model and ReAnalysis Notebook is to systematically choose a gridded dataset to compare to an in-situ dataset\n",
    "\n",
    "[SST_ModelandReAnalysis.ipynb](SST_ModelandReAnalysis.ipynb)   "
   ]
  },
  {
   "cell_type": "markdown",
   "metadata": {},
   "source": [
    "### This uses the following data sources\n",
    "\n",
    "- ecofoci drifters\n",
    "    + 2010-2015 from foci website\n",
    "    + 2015+ NRT internal data\n",
    "- icoads sst\n",
    "    + limit data to -2:30 DegC, QC flags 1:2, and general region\n",
    "- FSU SAMOS underway TSG\n",
    "    + only NOAA ships in BS/NBS/USArctic\n",
    "- Other Datasets\n",
    "    + moored near surface data (M2, C2, -NBDC-)\n",
    "    + inhouse underway (OS19, BASIS?)\n",
    "    + CTD data\n",
    "- Satellite Datasets\n",
    "    + when do they pass\n",
    "    + what satellites have AVHRR/AMSRE"
   ]
  },
  {
   "cell_type": "markdown",
   "metadata": {},
   "source": [
    "## Methodology\n",
    "\n",
    "More details are available in each of the analysis notebooks, the following are the large assumptions.\n",
    "\n",
    "Narrow the SST region of interest in to 3 regions (Arctic, NBS, Southern BS).   \n",
    "Keep analysization window to 2010+ for now.   \n",
    "Subdivide analysis into seasons (ice presence will likely play a roll in comparisons of temps)\n",
    "\n",
    "Use closest gridpoint (reliant on xarray `nearest neighbor lookup`)\n",
    "\n",
    "Currently no areal averging to model data, alongtrack data is resampled to daily for slow moving datasets (drifters) and subsampled to daily for high moving datasets (so no smearing for ships). Unless the data is already temporally sparse (like ICOADS) in which case, nearest neighbor lookup is applied to time as well.\n",
    "\n",
    "Compare to more sporadic satellite retrievals? may only be every couple days?\n",
    "\n",
    "Data from models is significant enough that local copies are more useful than hosted data... be sure to document source and version and also what other variables (errors, anomolies) are available\n",
    "\n",
    "Daily Cycle may mean choosing a specific time of day to do comparisons (CTD, Ship) - see how models resolve time of day (and when sat overpass)\n",
    "- M2\n",
    "- C2"
   ]
  },
  {
   "cell_type": "markdown",
   "metadata": {},
   "source": [
    "## Observations, Notes, Summary and Improvements"
   ]
  },
  {
   "cell_type": "markdown",
   "metadata": {},
   "source": [
    "- Need to break data down to seasons or regions (best if datasubsets are generated for each measurement type and model used instead of mapping dynamically everytime)\n",
    "\n",
    "- Absolute temps vs differences is the kicker...\n",
    "\n",
    "- Consider Ice in a box and mean error in a box  \n",
    "(https://journals.ametsoc.org/view/journals/atot/37/2/jtech-d-19-0177.1.xml)\n",
    "\n",
    "- Compare to unsmoothed sat image retrievals (even though these may be sporadic)\n",
    "\n",
    "- What assumptions are in each model:\n",
    "+ data sources, gridding, ice evaluation\n",
    "\n",
    "- Need to address SST vs Skin Temperature (vs Radiative Temperature)  \n",
    "(http://www.remss.com/measurements/sea-surface-temperature/)\n",
    "\n",
    "- wind and solar radiation impacts? (for daily deviations)\n",
    "\n",
    "- Geoff L. (Radiosondes on NOAA vessels? resolution or bias of seawater temps? on underway... other measurements?)"
   ]
  },
  {
   "cell_type": "markdown",
   "metadata": {},
   "source": [
    "### Resolution and Accuracy\n",
    "\n",
    "- mooring data is good to .01C\n",
    "- drifters good to 0.2C\n",
    "- underway data to .01C? (Geoff)"
   ]
  },
  {
   "cell_type": "code",
   "execution_count": null,
   "metadata": {},
   "outputs": [],
   "source": []
  }
 ],
 "metadata": {
  "kernelspec": {
   "display_name": "Python [conda env:py38] *",
   "language": "python",
   "name": "conda-env-py38-py"
  },
  "language_info": {
   "codemirror_mode": {
    "name": "ipython",
    "version": 3
   },
   "file_extension": ".py",
   "mimetype": "text/x-python",
   "name": "python",
   "nbconvert_exporter": "python",
   "pygments_lexer": "ipython3",
   "version": "3.8.8"
  },
  "toc-autonumbering": true,
  "toc-showcode": false,
  "toc-showmarkdowntxt": false
 },
 "nbformat": 4,
 "nbformat_minor": 4
}
