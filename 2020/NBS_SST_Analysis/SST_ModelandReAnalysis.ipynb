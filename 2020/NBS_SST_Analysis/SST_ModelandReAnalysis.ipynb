{
 "cells": [
  {
   "cell_type": "markdown",
   "metadata": {},
   "source": [
    "# Model/Reanalysis SST"
   ]
  },
  {
   "cell_type": "markdown",
   "metadata": {},
   "source": [
    "## Data Sources and Description\n",
    "\n",
    "There are lots of sst products - either derived from sat data or gridded from insitu data or modelled or some combination.\n",
    "\n",
    "Best to focus on just a few: Sat product (OISST), Highres product (MUR) and non-US product (UKMet)\n",
    "\n",
    "Retrieve regional subsets of SST including any error and ice information (these should be in seperate datasets?).\n",
    "\n",
    "An ultimate dataset would have each drifter/ship/other point collocated with the one datapoint from the models)\n"
   ]
  },
  {
   "cell_type": "code",
   "execution_count": 1,
   "metadata": {},
   "outputs": [],
   "source": [
    "#avhrr only data from ncei - this is highres oi V2.1 data - 0.25deg resolution\n",
    "erddap_path_avhrr_only=\"https://coastwatch.pfeg.noaa.gov/erddap/griddap/ncdcOisst2Agg\" \n",
    "erddap_path_hroisst=\"https://coastwatch.pfeg.noaa.gov/erddap/griddap/ncdcOisst21Agg\" #newer v2.1\n",
    "\n",
    "#avhrr+amsr data is available for 2002-2011 from ncei\n",
    "erddap_path_avhrramsre=\"https://coastwatch.pfeg.noaa.gov/erddap/griddap/ncdcOisst2AmsrAgg\" #version 2... not 2.1 if one exists\n",
    "\n",
    "#gh1sst data - ROMS from JPL - .01deg\n",
    "erddap_path_ghsst=\"https://coastwatch.pfeg.noaa.gov/erddap/griddap/jplG1SST\" #project not encouraged via coastwatch - push for MUR\n",
    "# JPL MUR - OI using wavelets... theres a .01deg and .25 (not on coastwatch erddap)\n",
    "erddap_path_ghsst=\"https://coastwatch.pfeg.noaa.gov/erddap/griddap/jplMURSST41\" \n",
    "# https://podaac-tools.jpl.nasa.gov/drive/files/allData/ghrsst/data/GDS2/L4/GLOB/JPL/MUR25/v4.2\n",
    "\n",
    "#blended product from Remote Sensing Systems http://www.remss.com/ - does not span entire time series\n",
    "erddap_path_blended = \"https://coastwatch.pfeg.noaa.gov/erddap/griddap/erdG1ssta1day\"\n",
    "\n",
    "#gh1sst data - UKMET 0.05deg resolution\n",
    "erddap_UKMET= \"https://coastwatch.pfeg.noaa.gov/erddap/griddap/jplUKMO_OSTIAv20\"\n"
   ]
  },
  {
   "cell_type": "markdown",
   "metadata": {},
   "source": [
    "## General Modelset Details\n",
    "\n",
    "(PSL - https://psl.noaa.gov/data/gridded/tables/sst.html)  \n",
    "(JPL - https://podaac.jpl.nasa.gov)\n",
    "\n",
    "NCEP OISSTV2 - 0.25deg resolution (0:360 degE) \n",
    "+ lots of good details on this page (https://www.ncdc.noaa.gov/oisst/optimum-interpolation-sea-surface-temperature-oisst-v21 and https://www.ncei.noaa.gov/metadata/geoportal/rest/metadata/item/gov.noaa.ncdc:C01606/html)  \n",
    "+ (podaac doesn't have it?)\n",
    "\n",
    "JPL MUR - 0.01deg resolution https://podaac.jpl.nasa.gov/dataset/MUR-JPL-L4-GLOB-v4.1 (there is a 0.25deg version too... v4.2) : uses nighttime skin/subkin temps and \"The ice concentration data are from the archives at the EUMETSAT Ocean and Sea Ice Satellite Application Facility (OSI SAF) High Latitude Processing Center and are also used for an improved SST parameterization for the high-latitudes.\"\n",
    "\n",
    "UKMET - (via jpl) - 0.05deg resolution (-180:180 degE)\n",
    "\n",
    "Canadian Model - 0.1 or 0.2deg resolution (not on coastwatch erddap) - https://podaac.jpl.nasa.gov/dataset/CMC0.1deg-CMC-L4-GLOB-v3.0?ids=Keywords:Processing%20Levels&values=Oceans:Ocean%20Temperature::4%20-%20Gridded%20Model%20Output)\n",
    "\n",
    "REMSS V5 SST (no in-situ data used)\n",
    "https://podaac.jpl.nasa.gov/dataset/MW_OI-REMSS-L4-GLOB-v5.0?ids=Keywords:Processing%20Levels&values=Oceans:Ocean%20Temperature::4%20-%20Gridded%20Model%20Output\n",
    "\n",
    "and a subskin AMSRE satellite retrieval dataset - https://podaac.jpl.nasa.gov/dataset/AMSR2-REMSS-L3U-v8a?ids=Keywords&values=Oceans:Ocean%20Temperature:Sea%20Surface%20Temperature  \n",
    "or  \n",
    "maybe use the AMSRE+AVHRR datasets?  \n",
    "or  \n",
    "a modis dataset? (https://coastwatch.pfeg.noaa.gov/erddap/griddap/erdMH1sstd1dayR20190SQ)\n"
   ]
  },
  {
   "cell_type": "markdown",
   "metadata": {},
   "source": [
    "## SUBSET FOR 2010+ ONLY\n",
    "\n",
    "***Dataset/Programming Note:***\n",
    "\n",
    "Xarray's `open_dataset` function lazyloads and allows exploration, `load_dataset` pulls it to memory and `da.sel().load()` will load a subset to memory.  If the data has to be retrieved every datapoint, that will take forever.  Local loading of data is more convenient by far.\n",
    "\n",
    "**ADVICE:**\n",
    "Either call via erddap a subset location over a year and process expected in-situ data (works well for argos_NRT datasets) _or_ download dataset locally to work from so there is no network call."
   ]
  },
  {
   "cell_type": "code",
   "execution_count": 2,
   "metadata": {},
   "outputs": [],
   "source": [
    "import xarray as xa"
   ]
  },
  {
   "cell_type": "code",
   "execution_count": null,
   "metadata": {},
   "outputs": [],
   "source": [
    "#four times a year breakdown - run on system with strong memory or network speed\n",
    "xa_UKMET = xa.open_dataset(erddap_UKMET)"
   ]
  },
  {
   "cell_type": "code",
   "execution_count": null,
   "metadata": {},
   "outputs": [],
   "source": [
    "for i in range(2010,2011,1):\n",
    "    print(i)\n",
    "    xa_UKMET_subset = xa_UKMET.sel(time=slice(str(i)+'-01-01',str(i)+'-3-30'),\n",
    "                                     latitude=slice(57,90),longitude=slice(-180,-150)).load()\n",
    "    xa_UKMET_subset.to_netcdf('NBS_CK_UKMET_'+str(i)+'.0.nc')\n",
    "\n",
    "    xa_UKMET_subset = xa_UKMET.sel(time=slice(str(i)+'-04-01',str(i)+'-6-30'),\n",
    "                                     latitude=slice(57,90),longitude=slice(-180,-150)).load()\n",
    "    xa_UKMET_subset.to_netcdf('NBS_CK_UKMET_'+str(i)+'.1.nc')\n",
    "    \n",
    "    xa_UKMET_subset = xa_UKMET.sel(time=slice(str(i)+'-07-01',str(i)+'-9-30'),\n",
    "                                     latitude=slice(57,90),longitude=slice(-180,-150)).load()\n",
    "    xa_UKMET_subset.to_netcdf('NBS_CK_UKMET_'+str(i)+'.2.nc')    \n",
    "    \n",
    "    xa_UKMET_subset = xa_UKMET.sel(time=slice(str(i)+'-10-01',str(i)+'-12-31'),\n",
    "                                     latitude=slice(57,90),longitude=slice(-180,-150)).load()\n",
    "    xa_UKMET_subset.to_netcdf('NBS_CK_UKMET_'+str(i)+'.3.nc')    "
   ]
  },
  {
   "cell_type": "code",
   "execution_count": null,
   "metadata": {},
   "outputs": [],
   "source": [
    "xa_UKMET_subset"
   ]
  },
  {
   "cell_type": "code",
   "execution_count": 4,
   "metadata": {},
   "outputs": [
    {
     "name": "stdout",
     "output_type": "stream",
     "text": [
      "2010\n",
      "2011\n",
      "2012\n",
      "2013\n",
      "2014\n",
      "2015\n",
      "2016\n",
      "2017\n",
      "2018\n",
      "2019\n",
      "2020\n"
     ]
    }
   ],
   "source": [
    "#open_dataset vs load_dataset\n",
    "erddap_path_hroisst=\"http://coastwatch.pfeg.noaa.gov/erddap/griddap/ncdcOisst21Agg\" #newer\n",
    "xa_HROISST = xa.open_dataset(erddap_path_hroisst)\n",
    "for i in range(2010,2021,1):\n",
    "    print(i)\n",
    "    xa_HROISST_subset = xa_HROISST.sel(time=slice(str(i)+'-01-01',str(i)+'-12-31'),\n",
    "                                     latitude=slice(55,90),longitude=slice(170,210)).load()\n",
    "\n",
    "    xa_HROISST_subset.to_netcdf('NBS_CK_HROISST_'+str(i)+'.nc')"
   ]
  },
  {
   "cell_type": "code",
   "execution_count": null,
   "metadata": {},
   "outputs": [],
   "source": [
    "xa_HROISST_subset"
   ]
  },
  {
   "cell_type": "code",
   "execution_count": 3,
   "metadata": {},
   "outputs": [],
   "source": [
    "xa_ghsst = xa.open_dataset(erddap_path_ghsst)"
   ]
  },
  {
   "cell_type": "code",
   "execution_count": null,
   "metadata": {},
   "outputs": [],
   "source": [
    "xa_ghsst_subset= xa_ghsst['analysed_sst'].sel(time=slice('2010-2','2010-2'),latitude=slice(55,66),longitude=slice(-180,-150)).load()"
   ]
  },
  {
   "cell_type": "code",
   "execution_count": null,
   "metadata": {},
   "outputs": [],
   "source": [
    "xa_ghsst_subset.to_netcdf('NBS_CK_MUR_'+str(i)+'.1.nc')"
   ]
  },
  {
   "cell_type": "code",
   "execution_count": null,
   "metadata": {},
   "outputs": [],
   "source": [
    "#monthly breakdown\n",
    "xa_ghsst = xa.open_dataset(erddap_path_ghsst)\n",
    "for i in range(2010,2021,1):\n",
    "    print(i)\n",
    "    xa_ghsst_subset = xa_ghsst['analysed_sst'].sel(time=slice(str(i)+'-1'),\n",
    "                                     latitude=slice(57,90),longitude=slice(-180,-150)).load()\n",
    "\n",
    "    #xa_UKMET_subset.load()\n",
    "    xa_ghsst_subset.to_netcdf('NBS_CK_MUR_'+str(i)+'.1.nc')"
   ]
  },
  {
   "cell_type": "code",
   "execution_count": null,
   "metadata": {},
   "outputs": [],
   "source": [
    "xa_ghsst_subset"
   ]
  },
  {
   "cell_type": "code",
   "execution_count": null,
   "metadata": {},
   "outputs": [],
   "source": [
    "xa_ghsst = xa.open_dataset(erddap_path_ghsst)\n"
   ]
  },
  {
   "cell_type": "code",
   "execution_count": null,
   "metadata": {},
   "outputs": [],
   "source": [
    "xa_ghsst\n",
    "xa_ghsst_subset = xa_ghsst['analysed_sst'].sel(time=slice(str(i)+'-06-01',str(i)+'-12-31'),\n",
    "                                     latitude=slice(57,90),longitude=slice(170,210))"
   ]
  },
  {
   "cell_type": "code",
   "execution_count": null,
   "metadata": {},
   "outputs": [],
   "source": []
  }
 ],
 "metadata": {
  "kernelspec": {
   "display_name": "Python [conda env:py38] *",
   "language": "python",
   "name": "conda-env-py38-py"
  },
  "language_info": {
   "codemirror_mode": {
    "name": "ipython",
    "version": 3
   },
   "file_extension": ".py",
   "mimetype": "text/x-python",
   "name": "python",
   "nbconvert_exporter": "python",
   "pygments_lexer": "ipython3",
   "version": "3.8.6"
  },
  "toc-showcode": false
 },
 "nbformat": 4,
 "nbformat_minor": 4
}
