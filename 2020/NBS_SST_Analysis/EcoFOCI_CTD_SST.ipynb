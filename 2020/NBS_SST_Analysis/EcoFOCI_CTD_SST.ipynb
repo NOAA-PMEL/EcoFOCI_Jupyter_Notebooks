{
 "cells": [
  {
   "cell_type": "markdown",
   "metadata": {},
   "source": [
    "# EcoFOCI CTD\n",
    "\n",
    "Choose upper 5m of data.  Will need to be careful about multiple ctd's in a day (no daily averages) and how to compare them to sat data (does an offset need to be had?)"
   ]
  },
  {
   "cell_type": "markdown",
   "metadata": {},
   "source": [
    "## Gather CTD data (locations) first\n",
    "\n",
    "Use internal erddap to get list of all relevant CTD's in Bering/Arctic  \n",
    "Use erddap to get collocated SST data (from a variety of sources... MUR, MUR4.2, NOAAOISST - others?)\n",
    "+ hand build url instead of erddapy (since erddapy is a url builder with a few wrapped convenience functions)\n",
    "+ daily sat retrievals (but CTD could be higher resolution so do some analysis)"
   ]
  },
  {
   "cell_type": "code",
   "execution_count": 6,
   "metadata": {},
   "outputs": [],
   "source": [
    "from erddapy import ERDDAP\n",
    "import pandas as pd\n",
    "\n",
    "import numpy as np \n",
    "import urllib.request \n",
    "import xarray as xr \n",
    "import time \n",
    "from matplotlib import pyplot as plt \n",
    "from datetime import date,datetime\n",
    "\n",
    "np.warnings.filterwarnings('ignore')"
   ]
  },
  {
   "cell_type": "code",
   "execution_count": 129,
   "metadata": {},
   "outputs": [
    {
     "data": {
      "text/plain": [
       "'https://coastwatch.pfeg.noaa.gov/erddap/griddap/jplMURSST41_Lon0360.csvp?analysed_sst'"
      ]
     },
     "execution_count": 129,
     "metadata": {},
     "output_type": "execute_result"
    }
   ],
   "source": [
    "ecofoci_server_url='http://ecofoci-field.pmel.noaa.gov:8080/erddap'\n",
    "\n",
    "sat_server_url=\"https://coastwatch.pfeg.noaa.gov/erddap/\"\n",
    "\n",
    "sat_server_url = sat_server_url+'griddap/jplMURSST41_Lon0360.csvp?analysed_sst' #MUR path\n",
    "sat_server_url"
   ]
  },
  {
   "cell_type": "markdown",
   "metadata": {},
   "source": [
    "ingest all available Bering Sea / Arctic CTD's in internal repository\n",
    "\n",
    "pull just lat/lon and upper 5m temperatures (from both sensors)"
   ]
  },
  {
   "cell_type": "code",
   "execution_count": 235,
   "metadata": {},
   "outputs": [
    {
     "name": "stdout",
     "output_type": "stream",
     "text": [
      "154 datasets to be looped through\n",
      "Names: ['CTD_ae1001_final' 'CTD_ae1401_final' 'CTD_ae1402_final'\n",
      " 'CTD_ae1501_final' 'CTD_aq1201_final' 'CTD_aq1301_final'\n",
      " 'CTD_aq1401l2_final' 'CTD_aq1401l3_final' 'CTD_aq1501_final'\n",
      " 'CTD_aq1601_final' 'CTD_aq1601_final_merged' 'CTD_aq1801_final'\n",
      " 'CTD_be1201_final' 'CTD_be1301_final' 'CTD_be1302_final'\n",
      " 'CTD_be1303_final' 'CTD_cf1601_final' 'CTD_dy1006_final'\n",
      " 'CTD_dy1104_final' 'CTD_dy1207_final' 'CTD_dy1208_final'\n",
      " 'CTD_dy1408l1_final' 'CTD_dy1408l2_final' 'CTD_dy1408l3_final'\n",
      " 'CTD_dy1508_final' 'CTD_dy1509_final' 'CTD_dy1608l1_final'\n",
      " 'CTD_dy1608l2_final' 'CTD_dy1608l3_final' 'CTD_dy1609l1_final'\n",
      " 'CTD_dy1609l1_final_merged' 'CTD_dy1609l2_final'\n",
      " 'CTD_dy1609l2_final_merged' 'CTD_dy1610_final' 'CTD_dy1610_final_merged'\n",
      " 'CTD_dy1704_final' 'CTD_dy1708_final' 'CTD_dy1807l1_final'\n",
      " 'CTD_dy1807l2_final' 'CTD_dy1807l3_final' 'CTD_dy1904_final'\n",
      " 'CTD_dy1905_final' 'CTD_dy1905_final_merged' 'CTD_dy1906l1_final'\n",
      " 'CTD_dy1906l2_final' 'CTD_dy1906l3_final' 'CTD_dy1907_final'\n",
      " 'CTD_dy1907_final_merged' 'CTD_dy1908_final' 'CTD_dy1908_final_merged'\n",
      " 'CTD_hly1501_final' 'CTD_mb1101_final' 'CTD_me0823_final'\n",
      " 'CTD_mf0610l2_final' 'CTD_mf0702_final' 'CTD_mf0706_final'\n",
      " 'CTD_mf0707_final' 'CTD_mf0708_final' 'CTD_mf0711l2_final'\n",
      " 'CTD_mf0802l1_final' 'CTD_mf0802l2_final' 'CTD_mf0810l2_final'\n",
      " 'CTD_mf0904l2_final' 'CTD_mf1006_final' 'CTD_nw1601_final'\n",
      " 'CTD_nw1601_final_merged' 'CTD_nw1602_final' 'CTD_nw1602_final_merged'\n",
      " 'CTD_nw1603_final' 'CTD_nw1603_final_merged' 'CTD_nw1605_final'\n",
      " 'CTD_nw1705_final' 'CTD_nw1801_final' 'CTD_nw1801_final_merged'\n",
      " 'CTD_nw1802_final' 'CTD_nw1802_final_merged' 'CTD_nw1901_final'\n",
      " 'CTD_os1701l1_final' 'CTD_os1701l2_final' 'CTD_os1701l3_final'\n",
      " 'CTD_os1702_final' 'CTD_os1901l1_final' 'CTD_os1901l1_final_merged'\n",
      " 'CTD_os1901l2_final' 'CTD_os1901l2_final_merged' 'CTD_os1901l3_final'\n",
      " 'CTD_os1901l3_final_merged' 'CTD_rb1505_final' 'CTD_tn179l1_final'\n",
      " 'CTD_tn179l3_final' 'CTD_tn193_final' 'CTD_tn211_final' 'CTD_tn249_final'\n",
      " 'CTD_tn250_final' 'CTD_tn263_final' 'CTD_we1008_final' 'CTD_hx196_final'\n",
      " 'CTD_hx200_final' 'CTD_hx209_final' 'CTD_hx213_final' 'CTD_hx220_final'\n",
      " 'CTD_hx222_final' 'CTD_aq1801_final_btl' 'CTD_aq1801_final_oxy'\n",
      " 'CTD_dy1610_final_btl' 'CTD_dy1610_final_oxy' 'CTD_dy1704_final_btl'\n",
      " 'CTD_dy1704_final_oxy' 'CTD_dy1708_final_btl' 'CTD_dy1708_final_oxy'\n",
      " 'CTD_dy1805_final_btl' 'CTD_dy1805_final_oxy' 'CTD_os1901l1_final_btl'\n",
      " 'CTD_os1901l1_final_oxy' 'CTD_os1901l2_final_btl'\n",
      " 'CTD_os1901l2_final_oxy' 'CTD_os1901l3_final_btl'\n",
      " 'CTD_os1901l3_final_oxy' 'CTD_hly1701_final' 'CTD_he1901_final'\n",
      " 'CTD_aq1601_final_nuts' 'CTD_dy1609l1_final_nuts'\n",
      " 'CTD_dy1609l2_final_nuts' 'CTD_dy1610_final_nuts' 'CTD_dy1805_final_nuts'\n",
      " 'CTD_dy1905_final_nuts' 'CTD_dy1907_final_nuts' 'CTD_dy1908_final_nuts'\n",
      " 'CTD_he1901_final_nuts' 'CTD_nw1801_final_nuts' 'CTD_nw1802_final_nuts'\n",
      " 'CTD_os1901l1_final_nuts' 'CTD_os1901l2_final_nuts'\n",
      " 'CTD_os1901l3_final_nuts' 'CTD_nw1601_final_nuts' 'CTD_nw1602_final_nuts'\n",
      " 'CTD_nw1603_final_nuts' 'CTD_dy1906l1_preliminary'\n",
      " 'CTD_dy1906l2_preliminary' 'CTD_nw1901_preliminary'\n",
      " 'CTD_os1901l2_preliminary' 'CTD_dy1805_preliminary'\n",
      " 'CTD_dy1904_preliminary' 'CTD_dy1906l3_preliminary'\n",
      " 'CTD_dy1908_preliminary' 'CTD_dy2103_preliminary'\n",
      " 'CTD_os1901l3_preliminary' 'CTD_aq1801_preliminary'\n",
      " 'CTD_dy1905_preliminary' 'CTD_dy1907_preliminary'\n",
      " 'CTD_dy1807l1_preliminary' 'CTD_dy1807l2_preliminary'\n",
      " 'CTD_dy1807l3_preliminary' 'CTD_os1901l1_preliminary']\n"
     ]
    }
   ],
   "source": [
    "e = ERDDAP(server=ecofoci_server_url,\n",
    "           protocol=\"tabledap\",)\n",
    "df = pd.read_csv(e.get_search_url(response='csv', search_for='CTD Final')) #expand later\n",
    "print(f\"{df['Dataset ID'].count()} datasets to be looped through\")\n",
    "print(\"Names:\", df['Dataset ID'].values)"
   ]
  },
  {
   "cell_type": "code",
   "execution_count": 205,
   "metadata": {},
   "outputs": [],
   "source": [
    "dfs = {}\n",
    "for dataset in df['Dataset ID'].values:\n",
    "    if dataset.endswith('final'):\n",
    "        e.dataset_id = dataset\n",
    "        e.variables = [\n",
    "            \"pressure\",\n",
    "            \"latitude\",\n",
    "            \"longitude\",\n",
    "            \"T_28\",\n",
    "            \"T2_35\",\n",
    "            \"time\",\n",
    "            \"profile_id\"\n",
    "        ]\n",
    "        e.constraints = {\n",
    "            \"pressure<=\": 5.0,}\n",
    "        dftemp = e.to_pandas()\n",
    "        dftemp.columns = [x[1].split()[0] for x in enumerate(dftemp.columns)]\n",
    "        dfs.update({dataset:dftemp})"
   ]
  },
  {
   "cell_type": "code",
   "execution_count": 206,
   "metadata": {},
   "outputs": [],
   "source": [
    "#get shallowest value for each ctd\n",
    "tdf = pd.DataFrame()\n",
    "for dfname, df_data in dfs.items():\n",
    "    for g in df_data.groupby('profile_id').groups.keys():\n",
    "        try:\n",
    "            tdf = tdf.append(df_data.groupby('profile_id').get_group(g)[df_data.groupby('profile_id').get_group(g).pressure == df_data.groupby('profile_id').get_group(g).pressure.min()]\n",
    "                         ,ignore_index=True)\n",
    "        except:\n",
    "            print('{dataset} failed to be grouped')"
   ]
  },
  {
   "cell_type": "code",
   "execution_count": 210,
   "metadata": {},
   "outputs": [
    {
     "data": {
      "text/html": [
       "<div>\n",
       "<style scoped>\n",
       "    .dataframe tbody tr th:only-of-type {\n",
       "        vertical-align: middle;\n",
       "    }\n",
       "\n",
       "    .dataframe tbody tr th {\n",
       "        vertical-align: top;\n",
       "    }\n",
       "\n",
       "    .dataframe thead th {\n",
       "        text-align: right;\n",
       "    }\n",
       "</style>\n",
       "<table border=\"1\" class=\"dataframe\">\n",
       "  <thead>\n",
       "    <tr style=\"text-align: right;\">\n",
       "      <th></th>\n",
       "      <th>pressure</th>\n",
       "      <th>latitude</th>\n",
       "      <th>longitude</th>\n",
       "      <th>T_28</th>\n",
       "      <th>T2_35</th>\n",
       "      <th>time</th>\n",
       "      <th>profile_id</th>\n",
       "    </tr>\n",
       "  </thead>\n",
       "  <tbody>\n",
       "    <tr>\n",
       "      <th>0</th>\n",
       "      <td>0.0</td>\n",
       "      <td>65.633000</td>\n",
       "      <td>191.54800</td>\n",
       "      <td>9.5301</td>\n",
       "      <td>NaN</td>\n",
       "      <td>2010-09-05T11:22:00Z</td>\n",
       "      <td>ae1001c011_ctd</td>\n",
       "    </tr>\n",
       "    <tr>\n",
       "      <th>1</th>\n",
       "      <td>0.0</td>\n",
       "      <td>65.722000</td>\n",
       "      <td>191.19080</td>\n",
       "      <td>8.2601</td>\n",
       "      <td>NaN</td>\n",
       "      <td>2010-09-05T13:36:00Z</td>\n",
       "      <td>ae1001c012_ctd</td>\n",
       "    </tr>\n",
       "    <tr>\n",
       "      <th>2</th>\n",
       "      <td>0.0</td>\n",
       "      <td>69.598660</td>\n",
       "      <td>191.40530</td>\n",
       "      <td>8.3888</td>\n",
       "      <td>NaN</td>\n",
       "      <td>2010-09-06T14:08:00Z</td>\n",
       "      <td>ae1001c013_ctd</td>\n",
       "    </tr>\n",
       "    <tr>\n",
       "      <th>3</th>\n",
       "      <td>0.0</td>\n",
       "      <td>69.398500</td>\n",
       "      <td>192.00070</td>\n",
       "      <td>8.9510</td>\n",
       "      <td>NaN</td>\n",
       "      <td>2010-09-06T16:46:00Z</td>\n",
       "      <td>ae1001c014_ctd</td>\n",
       "    </tr>\n",
       "    <tr>\n",
       "      <th>4</th>\n",
       "      <td>0.0</td>\n",
       "      <td>69.291340</td>\n",
       "      <td>192.42820</td>\n",
       "      <td>9.0467</td>\n",
       "      <td>NaN</td>\n",
       "      <td>2010-09-06T18:06:00Z</td>\n",
       "      <td>ae1001c015_ctd</td>\n",
       "    </tr>\n",
       "    <tr>\n",
       "      <th>...</th>\n",
       "      <td>...</td>\n",
       "      <td>...</td>\n",
       "      <td>...</td>\n",
       "      <td>...</td>\n",
       "      <td>...</td>\n",
       "      <td>...</td>\n",
       "      <td>...</td>\n",
       "    </tr>\n",
       "    <tr>\n",
       "      <th>5898</th>\n",
       "      <td>2.0</td>\n",
       "      <td>62.466167</td>\n",
       "      <td>185.91667</td>\n",
       "      <td>9.4325</td>\n",
       "      <td>9.4341</td>\n",
       "      <td>2017-09-13T03:52:00Z</td>\n",
       "      <td>hly1702c137</td>\n",
       "    </tr>\n",
       "    <tr>\n",
       "      <th>5899</th>\n",
       "      <td>2.0</td>\n",
       "      <td>62.387500</td>\n",
       "      <td>185.42566</td>\n",
       "      <td>9.4500</td>\n",
       "      <td>9.4496</td>\n",
       "      <td>2017-09-13T05:14:00Z</td>\n",
       "      <td>hly1702c138</td>\n",
       "    </tr>\n",
       "    <tr>\n",
       "      <th>5900</th>\n",
       "      <td>1.0</td>\n",
       "      <td>62.218166</td>\n",
       "      <td>185.11750</td>\n",
       "      <td>9.3926</td>\n",
       "      <td>9.3919</td>\n",
       "      <td>2017-09-13T08:12:00Z</td>\n",
       "      <td>hly1702c139</td>\n",
       "    </tr>\n",
       "    <tr>\n",
       "      <th>5901</th>\n",
       "      <td>3.0</td>\n",
       "      <td>62.044334</td>\n",
       "      <td>184.78984</td>\n",
       "      <td>9.6184</td>\n",
       "      <td>9.6173</td>\n",
       "      <td>2017-09-13T09:39:00Z</td>\n",
       "      <td>hly1702c140</td>\n",
       "    </tr>\n",
       "    <tr>\n",
       "      <th>5902</th>\n",
       "      <td>3.0</td>\n",
       "      <td>62.006668</td>\n",
       "      <td>184.94800</td>\n",
       "      <td>9.4067</td>\n",
       "      <td>9.3698</td>\n",
       "      <td>2017-09-13T11:37:00Z</td>\n",
       "      <td>hly1702c141</td>\n",
       "    </tr>\n",
       "  </tbody>\n",
       "</table>\n",
       "<p>5903 rows × 7 columns</p>\n",
       "</div>"
      ],
      "text/plain": [
       "      pressure   latitude  longitude    T_28   T2_35                  time  \\\n",
       "0          0.0  65.633000  191.54800  9.5301     NaN  2010-09-05T11:22:00Z   \n",
       "1          0.0  65.722000  191.19080  8.2601     NaN  2010-09-05T13:36:00Z   \n",
       "2          0.0  69.598660  191.40530  8.3888     NaN  2010-09-06T14:08:00Z   \n",
       "3          0.0  69.398500  192.00070  8.9510     NaN  2010-09-06T16:46:00Z   \n",
       "4          0.0  69.291340  192.42820  9.0467     NaN  2010-09-06T18:06:00Z   \n",
       "...        ...        ...        ...     ...     ...                   ...   \n",
       "5898       2.0  62.466167  185.91667  9.4325  9.4341  2017-09-13T03:52:00Z   \n",
       "5899       2.0  62.387500  185.42566  9.4500  9.4496  2017-09-13T05:14:00Z   \n",
       "5900       1.0  62.218166  185.11750  9.3926  9.3919  2017-09-13T08:12:00Z   \n",
       "5901       3.0  62.044334  184.78984  9.6184  9.6173  2017-09-13T09:39:00Z   \n",
       "5902       3.0  62.006668  184.94800  9.4067  9.3698  2017-09-13T11:37:00Z   \n",
       "\n",
       "          profile_id  \n",
       "0     ae1001c011_ctd  \n",
       "1     ae1001c012_ctd  \n",
       "2     ae1001c013_ctd  \n",
       "3     ae1001c014_ctd  \n",
       "4     ae1001c015_ctd  \n",
       "...              ...  \n",
       "5898     hly1702c137  \n",
       "5899     hly1702c138  \n",
       "5900     hly1702c139  \n",
       "5901     hly1702c140  \n",
       "5902     hly1702c141  \n",
       "\n",
       "[5903 rows x 7 columns]"
      ]
     },
     "execution_count": 210,
     "metadata": {},
     "output_type": "execute_result"
    }
   ],
   "source": [
    "tdf"
   ]
  },
  {
   "cell_type": "code",
   "execution_count": 211,
   "metadata": {},
   "outputs": [
    {
     "data": {
      "text/plain": [
       "<AxesSubplot:>"
      ]
     },
     "execution_count": 211,
     "metadata": {},
     "output_type": "execute_result"
    },
    {
     "data": {
      "image/png": "[encoded data removed]",
      "text/plain": [
       "<Figure size 432x288 with 1 Axes>"
      ]
     },
     "metadata": {
      "needs_background": "light"
     },
     "output_type": "display_data"
    }
   ],
   "source": [
    "tdf[['T_28','T2_35']].plot()"
   ]
  },
  {
   "cell_type": "code",
   "execution_count": 212,
   "metadata": {},
   "outputs": [],
   "source": [
    "dates = [(x.date()).strftime('%Y-%m-%d') for x in pd.to_datetime(tdf['time'])]\n",
    "lon = tdf['longitude'].values\n",
    "lat = tdf['latitude'].values"
   ]
  },
  {
   "cell_type": "code",
   "execution_count": 213,
   "metadata": {
    "tags": []
   },
   "outputs": [
    {
     "name": "stdout",
     "output_type": "stream",
     "text": [
      "0 5903\n",
      "100 5903\n",
      "200 5903\n",
      "300 5903\n",
      "400 5903\n",
      "500 5903\n",
      "600 5903\n",
      "700 5903\n",
      "800 5903\n",
      "900 5903\n",
      "1000 5903\n",
      "1100 5903\n",
      "1200 5903\n",
      "1300 5903\n",
      "1400 5903\n",
      "1500 5903\n",
      "1600 5903\n",
      "1700 5903\n",
      "1800 5903\n",
      "1900 5903\n",
      "2000 5903\n",
      "2100 5903\n",
      "2200 5903\n",
      "2300 5903\n",
      "2400 5903\n",
      "2500 5903\n",
      "2600 5903\n",
      "2700 5903\n",
      "2800 5903\n",
      "2900 5903\n",
      "3000 5903\n",
      "3100 5903\n",
      "3200 5903\n",
      "3300 5903\n",
      "3400 5903\n",
      "3500 5903\n",
      "3600 5903\n",
      "3700 5903\n",
      "3800 5903\n",
      "3900 5903\n",
      "4000 5903\n",
      "4100 5903\n",
      "4200 5903\n",
      "4300 5903\n",
      "4400 5903\n",
      "4500 5903\n",
      "4600 5903\n",
      "4700 5903\n",
      "4800 5903\n",
      "4900 5903\n",
      "5000 5903\n",
      "5100 5903\n",
      "5200 5903\n",
      "5300 5903\n",
      "5400 5903\n",
      "5500 5903\n",
      "5600 5903\n",
      "5700 5903\n",
      "5800 5903\n",
      "5900 5903\n"
     ]
    }
   ],
   "source": [
    "#get MUR data at same lat/lons on same day (but wont be time equal)\n",
    "\n",
    "start_time=time.time() \n",
    "\n",
    "col_names = [\"date\",\"matched_lat\",\"matched_lon\",\"matched_temp\"]\n",
    "tot=pd.DataFrame(columns = col_names)\n",
    "\n",
    "for i in range(len(dates)):\n",
    "#for i in range(2):\n",
    "    if (i % 100) == 0:\n",
    "        print(i,len(dates))\n",
    "    #this is where the URL is built:\n",
    "    try:\n",
    "        url=sat_server_url+\"[(\"+str(dates[i])+\"T09:00:00Z):1:(\"+str(dates[i])+\"T09:00:00Z)][(\"+str(lat[i])+\"):1:(\"+str(lat[i])+\")][(\"+str(lon[i])+\"):1:(\"+str(lon[i])+\")]\"\n",
    "        new=pd.read_csv(url,skiprows=0)\n",
    "        new.columns=col_names\n",
    "        tot=tot.append(new,ignore_index=True)\n",
    "    except:\n",
    "        pass\n",
    "\n",
    "end_time=time.time()"
   ]
  },
  {
   "cell_type": "code",
   "execution_count": 214,
   "metadata": {},
   "outputs": [
    {
     "name": "stdout",
     "output_type": "stream",
     "text": [
      "total time = 967.667 mins\n"
     ]
    }
   ],
   "source": [
    "print(\"total time = %g mins\" % ((end_time-start_time)/60.))"
   ]
  },
  {
   "cell_type": "code",
   "execution_count": 215,
   "metadata": {},
   "outputs": [],
   "source": [
    "ctdpmur_df = pd.concat([tot,tdf],axis=1)"
   ]
  },
  {
   "cell_type": "code",
   "execution_count": 233,
   "metadata": {},
   "outputs": [],
   "source": [
    "ctdpmur_df['T2_35'][ctdpmur_df['T2_35']>1e34] = np.nan\n",
    "ctdpmur_df['T_28'][ctdpmur_df['T_28']>1e34] = np.nan\n",
    "ctdpmur_df['matched_temp'][ctdpmur_df['matched_temp']>1e34] = np.nan"
   ]
  },
  {
   "cell_type": "code",
   "execution_count": 234,
   "metadata": {},
   "outputs": [
    {
     "data": {
      "text/plain": [
       "<matplotlib.collections.PathCollection at 0x7ff9108ed670>"
      ]
     },
     "execution_count": 234,
     "metadata": {},
     "output_type": "execute_result"
    },
    {
     "data": {
      "image/png": "[encoded data removed]",
      "text/plain": [
       "<Figure size 432x288 with 1 Axes>"
      ]
     },
     "metadata": {
      "needs_background": "light"
     },
     "output_type": "display_data"
    }
   ],
   "source": [
    "plt.scatter(x=ctdpmur_df['matched_temp'],y=ctdpmur_df['T_28'],s=5)\n",
    "plt.scatter(x=ctdpmur_df['matched_temp'],y=ctdpmur_df['T2_35'],s=5)"
   ]
  },
  {
   "cell_type": "markdown",
   "metadata": {},
   "source": [
    "**FACET PLOTS ABOVE ON:** Season, WaterMass, Time of day (morning or evening), cruise/year"
   ]
  },
  {
   "cell_type": "code",
   "execution_count": 217,
   "metadata": {},
   "outputs": [],
   "source": [
    "ctdpmur_df.to_csv('focictdpmur.csv')"
   ]
  },
  {
   "cell_type": "code",
   "execution_count": null,
   "metadata": {},
   "outputs": [],
   "source": []
  }
 ],
 "metadata": {
  "kernelspec": {
   "display_name": "Python [conda env:py38] *",
   "language": "python",
   "name": "conda-env-py38-py"
  },
  "language_info": {
   "codemirror_mode": {
    "name": "ipython",
    "version": 3
   },
   "file_extension": ".py",
   "mimetype": "text/x-python",
   "name": "python",
   "nbconvert_exporter": "python",
   "pygments_lexer": "ipython3",
   "version": "3.8.8"
  }
 },
 "nbformat": 4,
 "nbformat_minor": 4
}
