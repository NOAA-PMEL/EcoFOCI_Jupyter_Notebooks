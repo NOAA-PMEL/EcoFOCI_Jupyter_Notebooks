{
 "cells": [
  {
   "cell_type": "markdown",
   "id": "ef4d6408-10fd-4215-9fce-328a0d198b9c",
   "metadata": {},
   "source": [
    "# Extract data along a shiptrack/buoy path\n",
    "\n",
    "- https://coastwatch.gitbook.io/satellite-course/tutorials/erddap-tutorial (turtle track)\n",
    "    + load location from drifter\n",
    "    \n",
    "- linear regression of SST with Sat/Product\n",
    "    + diff measurements too"
   ]
  },
  {
   "cell_type": "code",
   "execution_count": null,
   "id": "49297abe-72c1-4712-a16a-3c1fbfd6d3cc",
   "metadata": {},
   "outputs": [],
   "source": []
  }
 ],
 "metadata": {
  "kernelspec": {
   "display_name": "Python [conda env:py38] *",
   "language": "python",
   "name": "conda-env-py38-py"
  },
  "language_info": {
   "codemirror_mode": {
    "name": "ipython",
    "version": 3
   },
   "file_extension": ".py",
   "mimetype": "text/x-python",
   "name": "python",
   "nbconvert_exporter": "python",
   "pygments_lexer": "ipython3",
   "version": "3.8.8"
  }
 },
 "nbformat": 4,
 "nbformat_minor": 5
}
