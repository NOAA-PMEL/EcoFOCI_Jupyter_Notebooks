{
 "cells": [
  {
   "cell_type": "markdown",
   "metadata": {},
   "source": [
    "### SUNA Nitrate Filter\n",
    "\n",
    "- 35hr lanzcos cosine squared filter\n",
    "- timeseries must be hourly\n",
    "- timeseries must be gridded (no gaps) or it will be linearly interpolated to fill gaps\n",
    "- currently, prior gaps get replicated in results.  Gaps of 6hrs or less should not need to have any special treatment of data on wings of gap.  Gaps of greater than 6hrs should have 17 hours on either side of the gap removed to account for the filter window.  This is implemented in algorithm.\n",
    "- TODO:  Address missing data at start/end of timeseries more completely\n",
    "- TODO:  apply spectral filling routine to eliminate gaps up to 36 hours\n",
    "\n",
    "\n"
   ]
  },
  {
   "cell_type": "markdown",
   "metadata": {},
   "source": [
    "## File input format\n",
    "\n",
    "csv file for input, must have time labeled as 'date' and desired variable to be filtered must be edited below\n",
    "\n",
    "time can be either a string or excel serial date"
   ]
  },
  {
   "cell_type": "markdown",
   "metadata": {},
   "source": [
    "## Software Requirements\n",
    "\n",
    "Developed/tested for:\n",
    "- python >=3.6 ** Tested\n",
    "- python =2.7 ** Works as of 7/15/19 but not developed for (more extensive 'vtools' needs python 2.7)\n",
    "\n",
    "requires:\n",
    "- jupyterlab (jupyter notebooks) for running this notebook\n",
    "- pandas >= 0.24.2\n",
    "- numpy >= 1.15.4\n",
    "- lanzcos (local library)\n",
    "- matplotlib for plotting (optional)"
   ]
  },
  {
   "cell_type": "code",
   "execution_count": 1,
   "metadata": {},
   "outputs": [],
   "source": [
    "import datetime\n",
    "\n",
    "import pandas as pd\n",
    "import numpy as np\n",
    "import lanzcos\n",
    "\n",
    "from netCDF4 import num2date\n"
   ]
  },
  {
   "cell_type": "code",
   "execution_count": 5,
   "metadata": {},
   "outputs": [],
   "source": [
    "#raw data - path below should be full path to file\n",
    "path_to_file = '/Users/bell/in_and_outbox/2019/mordy/wisegarver/data/17ckp2a_merge_190715_f35_f35.csv'\n",
    "time_column_name = 'date' #change only if variable has different name\n",
    "var2filter_name = 'salinity' #change based on variable to filter"
   ]
  },
  {
   "cell_type": "code",
   "execution_count": 6,
   "metadata": {},
   "outputs": [],
   "source": [
    "data=pd.read_csv(path_to_file,\n",
    "                 na_values = [1.0e35],\n",
    "                 parse_dates=True,\n",
    "                 index_col=time_column_name)\n",
    "\n",
    "#linearly interpolate gaps less then a threshold value\n",
    "# arctic data without tides, this value can be 6hr but bering data should be less... 2-3hr\n",
    "\n",
    "try:\n",
    "    data = data.resample('1H').mean() #mandate hourly data\n",
    "except:\n",
    "    print('Time passed as excel date - converting first')\n",
    "    #excel starts counting at one and this is a delta measurement so '-2' from excel date captures both issues\n",
    "    data['datetime'] = num2date(data.index-2,'days since 1900-1-1')\n",
    "    #excel integer representation is not exact so rounding to nearest hour needs to happen before resampling\n",
    "    data.set_index('datetime',inplace=True)\n",
    "    data.index = data.index.round(\"H\")\n",
    "    data = data.resample('1H').mean() #mandate hourly data\n",
    "    \n",
    "## missing data fill limited by number of hours to linearly interpolate\n",
    "temp = data[var2filter_name].interpolate(method='time',limit=6)\n",
    "\n",
    "# get index of missing data that wasn't filled\n",
    "# the remaining missing data will continue to be missing after analysis\n",
    "# this data and the edges of the timeseries need to have the effects of the filter window accounted for\n",
    "\n",
    "missing_index = np.isnan(temp)\n",
    "temp = data[var2filter_name].interpolate(method='time')\n",
    "\n",
    "#address gaps at beginning and end... back fill... and forward fill at end... \n",
    "# the filter window will correct small gaps at the tails but will become worse as the leading gaps get bigger\n",
    "temp.bfill(inplace=True)\n",
    "temp.ffill(inplace=True)"
   ]
  },
  {
   "cell_type": "code",
   "execution_count": 7,
   "metadata": {},
   "outputs": [],
   "source": [
    "#filter data with lanzcos filter\n",
    "data[var2filter_name+'_f35'] = lanzcos.lanzcos(temp.values,1,35)"
   ]
  },
  {
   "cell_type": "code",
   "execution_count": 8,
   "metadata": {},
   "outputs": [
    {
     "name": "stdout",
     "output_type": "stream",
     "text": [
      "-2.59081214891691e-17 is close to zero for mean of filtered data\n",
      "32.42062079062955 is for mean of unfiltered data\n",
      "-32.42062079062975 is the mean of difference of filtered and unfiltered data\n"
     ]
    }
   ],
   "source": [
    "#not sure why but results of filtered data seem to need the mean of the sample\n",
    "# to be added back\n",
    "print(\"{} is close to zero for mean of filtered data\".format(data[var2filter_name+'_f35'].mean()))\n",
    "print(\"{} is for mean of unfiltered data\".format(data[var2filter_name].mean()))\n",
    "print(\"{} is the mean of difference of filtered and unfiltered data\".format(\n",
    "    (data[var2filter_name+'_f35']-data[var2filter_name]).mean()))\n",
    "\n"
   ]
  },
  {
   "cell_type": "code",
   "execution_count": 9,
   "metadata": {},
   "outputs": [],
   "source": [
    "#filter data with rudimentary matlab script - mean offset corrected\n",
    "data[var2filter_name+'_f35'] = lanzcos.lanzcos(temp.values,1,35)+data[var2filter_name].mean()\n",
    "data[var2filter_name+'_f35'][missing_index] = np.nan"
   ]
  },
  {
   "cell_type": "code",
   "execution_count": 10,
   "metadata": {},
   "outputs": [],
   "source": [
    "#remove boundaries of large gaps\n",
    "\n",
    "for index, row in data[np.isnan(data[var2filter_name+'_f35'])].iterrows():\n",
    "    data[var2filter_name+'_f35'][index-datetime.timedelta(hours=17):index+datetime.timedelta(hours=17)] = np.nan\n",
    "    \n",
    "#remove start/end boundaries\n",
    "for index in range(0,17):\n",
    "    data.loc[data.index[index]][var2filter_name+'_f35'] =np.nan\n",
    "\n",
    "for index in range(len(data)-17,len(data)):\n",
    "    data.loc[data.index[index]][var2filter_name+'_f35'] =np.nan"
   ]
  },
  {
   "cell_type": "markdown",
   "metadata": {},
   "source": [
    "## Plot data for Visual Representation"
   ]
  },
  {
   "cell_type": "code",
   "execution_count": 11,
   "metadata": {},
   "outputs": [
    {
     "data": {
      "text/plain": [
       "<matplotlib.axes._subplots.AxesSubplot at 0x11eea1b38>"
      ]
     },
     "execution_count": 11,
     "metadata": {},
     "output_type": "execute_result"
    },
    {
     "data": {
      "image/png": "[encoded data removed]",
      "text/plain": [
       "<Figure size 1224x144 with 1 Axes>"
      ]
     },
     "metadata": {
      "needs_background": "light"
     },
     "output_type": "display_data"
    }
   ],
   "source": [
    "%matplotlib inline\n",
    "\n",
    "# only for plotting timeseries\n",
    "import matplotlib as mpl\n",
    "import matplotlib.pyplot as plt\n",
    "from matplotlib.dates import YearLocator, WeekdayLocator, MonthLocator, DayLocator, HourLocator, DateFormatter\n",
    "import matplotlib.ticker as ticker\n",
    "import matplotlib.dates as mdates\n",
    "\n",
    "fig, ax = plt.subplots(figsize=(17, 2))\n",
    "\n",
    "data[var2filter_name].plot()\n",
    "data[var2filter_name+'_f35'].plot()\n"
   ]
  },
  {
   "cell_type": "markdown",
   "metadata": {},
   "source": [
    "## Output results file in csv for archive"
   ]
  },
  {
   "cell_type": "code",
   "execution_count": 12,
   "metadata": {},
   "outputs": [],
   "source": [
    "data.to_csv(path_to_file.replace('.csv','_f35.csv'))"
   ]
  },
  {
   "cell_type": "code",
   "execution_count": null,
   "metadata": {},
   "outputs": [],
   "source": []
  }
 ],
 "metadata": {
  "kernelspec": {
   "display_name": "Python [conda env:py37]",
   "language": "python",
   "name": "conda-env-py37-py"
  },
  "language_info": {
   "codemirror_mode": {
    "name": "ipython",
    "version": 3
   },
   "file_extension": ".py",
   "mimetype": "text/x-python",
   "name": "python",
   "nbconvert_exporter": "python",
   "pygments_lexer": "ipython3",
   "version": "3.7.3"
  }
 },
 "nbformat": 4,
 "nbformat_minor": 4
}
