{
 "cells": [
  {
   "cell_type": "markdown",
   "metadata": {},
   "source": [
    "## Ingesting ERA5 output from "
   ]
  },
  {
   "cell_type": "code",
   "execution_count": 1,
   "metadata": {},
   "outputs": [],
   "source": [
    "import xarray as xa"
   ]
  },
  {
   "cell_type": "code",
   "execution_count": 28,
   "metadata": {},
   "outputs": [],
   "source": [
    "xdf = xa.open_mfdataset('/Users/bell/in_and_outbox/data_sets/reanalyis_data/ERA5/C3/2AT/*.nc',\n",
    "                      combine='by_coords')"
   ]
  },
  {
   "cell_type": "code",
   "execution_count": 29,
   "metadata": {},
   "outputs": [
    {
     "data": {
      "text/html": [
       "<pre>&lt;xarray.Dataset&gt;\n",
       "Dimensions:    (latitude: 5, longitude: 5, time: 86184)\n",
       "Coordinates:\n",
       "  * longitude  (longitude) float64 194.0 194.2 194.5 194.8 195.0\n",
       "  * latitude   (latitude) float64 72.0 71.75 71.5 71.25 71.0\n",
       "  * time       (time) datetime64[ns] 2010-01-01 ... 2019-10-31T23:00:00\n",
       "Data variables:\n",
       "    VAR_2T     (time, latitude, longitude) float32 dask.array&lt;chunksize=(744, 5, 5), meta=np.ndarray&gt;\n",
       "Attributes:\n",
       "    DATA_SOURCE:          ECMWF: https://cds.climate.copernicus.eu, Copernicu...\n",
       "    NETCDF_CONVERSION:    CISL RDA: Conversion from ECMWF GRIB1 data to netCDF4.\n",
       "    NETCDF_VERSION:       4.6.3\n",
       "    CONVERSION_PLATFORM:  Linux r6i3n31 4.12.14-94.41-default #1 SMP Wed Oct ...\n",
       "    CONVERSION_DATE:      Mon Aug 19 17:06:58 MDT 2019\n",
       "    Conventions:          CF-1.6\n",
       "    NETCDF_COMPRESSION:   NCO: Precision-preserving compression to netCDF4/HD...\n",
       "    history:              Fri Jan 10 18:20:10 2020: ncks -d latitude,71.0,72....\n",
       "    NCO:                  netCDF Operators version 4.7.9 (Homepage = http://n...</pre>"
      ],
      "text/plain": [
       "<xarray.Dataset>\n",
       "Dimensions:    (latitude: 5, longitude: 5, time: 86184)\n",
       "Coordinates:\n",
       "  * longitude  (longitude) float64 194.0 194.2 194.5 194.8 195.0\n",
       "  * latitude   (latitude) float64 72.0 71.75 71.5 71.25 71.0\n",
       "  * time       (time) datetime64[ns] 2010-01-01 ... 2019-10-31T23:00:00\n",
       "Data variables:\n",
       "    VAR_2T     (time, latitude, longitude) float32 dask.array<chunksize=(744, 5, 5), meta=np.ndarray>\n",
       "Attributes:\n",
       "    DATA_SOURCE:          ECMWF: https://cds.climate.copernicus.eu, Copernicu...\n",
       "    NETCDF_CONVERSION:    CISL RDA: Conversion from ECMWF GRIB1 data to netCDF4.\n",
       "    NETCDF_VERSION:       4.6.3\n",
       "    CONVERSION_PLATFORM:  Linux r6i3n31 4.12.14-94.41-default #1 SMP Wed Oct ...\n",
       "    CONVERSION_DATE:      Mon Aug 19 17:06:58 MDT 2019\n",
       "    Conventions:          CF-1.6\n",
       "    NETCDF_COMPRESSION:   NCO: Precision-preserving compression to netCDF4/HD...\n",
       "    history:              Fri Jan 10 18:20:10 2020: ncks -d latitude,71.0,72....\n",
       "    NCO:                  netCDF Operators version 4.7.9 (Homepage = http://n..."
      ]
     },
     "execution_count": 29,
     "metadata": {},
     "output_type": "execute_result"
    }
   ],
   "source": [
    "xdf"
   ]
  },
  {
   "cell_type": "code",
   "execution_count": 30,
   "metadata": {},
   "outputs": [],
   "source": [
    "lat,lon = [71.825,-165.975]\n",
    "\n",
    "\n",
    "zval = xdf.sel(latitude=lat,longitude=lon+360, method='nearest')"
   ]
  },
  {
   "cell_type": "code",
   "execution_count": 32,
   "metadata": {},
   "outputs": [
    {
     "name": "stderr",
     "output_type": "stream",
     "text": [
      "/Users/bell/anaconda2/envs/py37/lib/python3.7/site-packages/ipykernel_launcher.py:1: FutureWarning: The signature of `Series.to_csv` was aligned to that of `DataFrame.to_csv`, and argument 'header' will change its default value from False to True: please pass an explicit value to suppress this warning.\n",
      "  \"\"\"Entry point for launching an IPython kernel.\n"
     ]
    }
   ],
   "source": [
    "zval.VAR_2T.to_pandas().to_csv('ERA5_C3_71p825_194p0_2AT.csv')"
   ]
  },
  {
   "cell_type": "code",
   "execution_count": null,
   "metadata": {},
   "outputs": [],
   "source": []
  }
 ],
 "metadata": {
  "kernelspec": {
   "display_name": "Python [conda env:py37] *",
   "language": "python",
   "name": "conda-env-py37-py"
  },
  "language_info": {
   "codemirror_mode": {
    "name": "ipython",
    "version": 3
   },
   "file_extension": ".py",
   "mimetype": "text/x-python",
   "name": "python",
   "nbconvert_exporter": "python",
   "pygments_lexer": "ipython3",
   "version": "3.7.6"
  }
 },
 "nbformat": 4,
 "nbformat_minor": 4
}
