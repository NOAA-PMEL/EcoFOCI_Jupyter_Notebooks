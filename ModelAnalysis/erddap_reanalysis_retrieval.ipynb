{
 "cells": [
  {
   "cell_type": "markdown",
   "metadata": {},
   "source": [
    "## Retrieve selected NARR or NCEP Reanalysis Timeseries"
   ]
  },
  {
   "cell_type": "markdown",
   "metadata": {},
   "source": [
    "### From ERDDAP"
   ]
  },
  {
   "cell_type": "code",
   "execution_count": 1,
   "metadata": {
    "extensions": {
     "jupyter_dashboards": {
      "version": 1,
      "views": {
       "grid_default": {
        "hidden": true
       },
       "report_default": {}
      }
     }
    }
   },
   "outputs": [],
   "source": [
    "%matplotlib inline\n",
    "\n",
    "import datetime\n",
    "\n",
    "import pandas as pd\n",
    "import xarray as xa\n",
    "from netCDF4 import Dataset\n",
    "\n",
    "import urllib\n",
    "\n",
    "import cmocean"
   ]
  },
  {
   "cell_type": "code",
   "execution_count": 17,
   "metadata": {
    "extensions": {
     "jupyter_dashboards": {
      "version": 1,
      "views": {
       "grid_default": {
        "hidden": true
       },
       "report_default": {}
      }
     }
    }
   },
   "outputs": [],
   "source": [
    "### using code from https://ioos.github.io/notebooks_demos/notebooks/2017-03-21-ERDDAP_IOOS_Sensor_Map/\n",
    "import requests\n",
    "try:\n",
    "    from urllib.parse import urlencode\n",
    "except ImportError:\n",
    "    from urllib import urlencode\n",
    "\n",
    "#MUR JPL data\n",
    "erddap_path_mur=\"http://coastwatch.pfeg.noaa.gov/erddap/griddap/esrlNcepRe_LonPM180\"\n",
    "e1rdf = xa.open_dataset(erddap_path_mur) \n"
   ]
  },
  {
   "cell_type": "code",
   "execution_count": 97,
   "metadata": {
    "extensions": {
     "jupyter_dashboards": {
      "version": 1,
      "views": {
       "grid_default": {
        "hidden": true
       },
       "report_default": {}
      }
     }
    }
   },
   "outputs": [],
   "source": [
    "ncep_apress = e1rdf['pres'].sel(time=slice('2018-05-01','2018-10-11'),\n",
    "                                        latitude=slice(61,59), #60.2465\n",
    "                                        longitude=slice(-174.75,-172.5)) # -173.37167"
   ]
  },
  {
   "cell_type": "code",
   "execution_count": 49,
   "metadata": {
    "extensions": {
     "jupyter_dashboards": {
      "version": 1,
      "views": {
       "grid_default": {
        "hidden": true
       },
       "report_default": {}
      }
     }
    }
   },
   "outputs": [],
   "source": [
    "ncep_apress.to_series().to_csv('18mtp1a_ncep_apress.csv')"
   ]
  },
  {
   "cell_type": "code",
   "execution_count": 100,
   "metadata": {},
   "outputs": [
    {
     "data": {
      "text/plain": [
       "<xarray.DataArray 'pres' (time: 164)>\n",
       "array([100815. , 100790. ,  99847.5,  99720. ,  99585. , 100360. ,  99952.5,\n",
       "        98930. ,  98782.5,  98997.5,  99372.5,  99957.5, 100755. , 101042.5,\n",
       "       101070. , 101815. , 101920. , 101392.5, 100442.5, 100430. , 100470. ,\n",
       "       100460. ,  99570. ,  99860. , 100750. , 101340. , 101380. , 100925. ,\n",
       "        99395. ,  99357.5, 100155. , 101142.5, 100317.5,  99372.5, 100280. ,\n",
       "       100840. , 100877.5, 100820. , 101002.5, 101407.5, 101765. , 101752.5,\n",
       "       101717.5, 101772.5, 101425. , 100790. , 100062.5, 100247.5, 100187.5,\n",
       "       100067.5, 100457.5, 100762.5, 100492.5, 100912.5, 101180. , 100700. ,\n",
       "       100000. ,  99617.5,  99997.5, 100622.5, 101045. , 101477.5, 102247.5,\n",
       "       102602.5, 102060. , 101985. , 101745. , 100207.5,  98672.5,  99065. ,\n",
       "        99882.5, 100732.5, 100985. , 100587.5, 100400. , 101320. , 101165. ,\n",
       "       101457.5, 101342.5, 101702.5, 101722.5, 101132.5, 100995. , 101072.5,\n",
       "       101600. , 101817.5, 101442.5, 100700. , 100542.5, 100125. ,  99920. ,\n",
       "        99807.5,  99872.5,  99742.5, 100702.5, 100545. , 100455. , 100897.5,\n",
       "       101175. , 101380. , 100987.5, 100755. , 100535. ,  99642.5, 100057.5,\n",
       "       101155. , 101397.5, 101297.5, 101425. , 101632.5, 101187.5, 100327.5,\n",
       "       100165. ,  99925. ,  99860. ,  99992.5, 100117.5,  99385. , 100972.5,\n",
       "       101750. , 100460. ,  99287.5, 100560. , 101800. , 102097.5, 102327.5,\n",
       "       102842.5, 102592.5, 102147.5, 102295. , 102327.5, 102262.5, 101942.5,\n",
       "       102055. , 102340. , 101385. , 100305. , 100247.5, 101152.5, 101422.5,\n",
       "       102147.5, 102095. , 101705. ,  99975. ,  98870. ,  99702.5, 100127.5,\n",
       "       101120. , 101992.5, 101522.5,  99860. ,  99420. ,  99867.5,  99535. ,\n",
       "        99222.5,  97587.5,  97195. ,  98050. ,  99162.5,  99870. , 100447.5,\n",
       "        99565. ,  99075. ,  98687.5], dtype=float32)\n",
       "Coordinates:\n",
       "  * time       (time) datetime64[ns] 2018-05-01 2018-05-02 ... 2018-10-11\n",
       "    latitude   float32 60.0\n",
       "    longitude  float32 -172.5\n",
       "Attributes:\n",
       "    _ChunkSizes:      [  1  73 144]\n",
       "    colorBarMaximum:  105000.0\n",
       "    colorBarMinimum:  95000.0\n",
       "    dataset:          NCEP Reanalysis Daily Averages\n",
       "    GRIB_id:          1\n",
       "    GRIB_name:        PRES\n",
       "    ioos_category:    Pressure\n",
       "    level_desc:       Surface\n",
       "    long_name:        mean Daily Pressure at surface\n",
       "    parent_stat:      Individual Obs\n",
       "    precision:        -1\n",
       "    standard_name:    surface_air_pressure\n",
       "    statistic:        Mean\n",
       "    units:            Pascals\n",
       "    valid_range:      [ 40000. 115000.]\n",
       "    var_desc:         Pressure"
      ]
     },
     "execution_count": 100,
     "metadata": {},
     "output_type": "execute_result"
    }
   ],
   "source": [
    "ncep_apress.sel(time=slice('2018-05-01','2018-10-11'))"
   ]
  },
  {
   "cell_type": "markdown",
   "metadata": {},
   "source": [
    "### From NetCDF"
   ]
  },
  {
   "cell_type": "code",
   "execution_count": 88,
   "metadata": {},
   "outputs": [],
   "source": [
    "fp = '/Volumes/WDC_internal/Users/bell/Data_Local/Reanalysis_Files/NARR/3hourly/pres.sfc.2018.nc'"
   ]
  },
  {
   "cell_type": "code",
   "execution_count": 139,
   "metadata": {},
   "outputs": [
    {
     "name": "stderr",
     "output_type": "stream",
     "text": [
      "/Volumes/WDC_internal/Users/bell/anaconda2/envs/py36/lib/python3.6/site-packages/xarray/conventions.py:362: SerializationWarning: variable 'pres' has multiple fill values {9.96921e+36, -9.96921e+36}, decoding all values to NaN.\n",
      "  stack_char_dim=stack_char_dim)\n"
     ]
    },
    {
     "data": {
      "text/plain": [
       "<xarray.DataArray 'lon' (y: 277, x: 7)>\n",
       "array([[-145.5   , -145.315 , -145.1295, ..., -144.757 , -144.57  , -144.3824],\n",
       "       [-145.6047, -145.4194, -145.2336, ..., -144.8605, -144.6731, -144.4852],\n",
       "       [-145.71  , -145.5244, -145.3383, ..., -144.9645, -144.7768, -144.5886],\n",
       "       ...,\n",
       "       [ 149.476 ,  149.555 ,  149.6349, ...,  149.7976,  149.8803,  149.9639],\n",
       "       [ 149.0593,  149.1361,  149.2138, ...,  149.3718,  149.4521,  149.5334],\n",
       "       [ 148.6418,  148.7163,  148.7917, ...,  148.9451,  149.023 ,  149.1019]],\n",
       "      dtype=float32)\n",
       "Coordinates:\n",
       "    lat      (y, x) float32 ...\n",
       "    lon      (y, x) float32 -145.5 -145.315 -145.1295 ... 149.023 149.1019\n",
       "  * y        (y) float32 0.0 32463.0 64926.0 ... 8894862.0 8927325.0 8959788.0\n",
       "  * x        (x) float32 0.0 32463.0 64926.0 97389.0 129852.0 162315.0 194778.0\n",
       "Attributes:\n",
       "    axis:                X\n",
       "    coordinate_defines:  point\n",
       "    long_name:           Longitude\n",
       "    standard_name:       longitude\n",
       "    units:               degrees_east"
      ]
     },
     "execution_count": 139,
     "metadata": {},
     "output_type": "execute_result"
    }
   ],
   "source": [
    "xadf = xa.open_dataset(fp)\n",
    "xadf.sel(x=slice(0000,200000)).lon"
   ]
  },
  {
   "cell_type": "code",
   "execution_count": 101,
   "metadata": {},
   "outputs": [
    {
     "ename": "ValueError",
     "evalue": "dimensions or multi-index levels ['lat'] do not exist",
     "output_type": "error",
     "traceback": [
      "\u001b[0;31m---------------------------------------------------------------------------\u001b[0m",
      "\u001b[0;31mValueError\u001b[0m                                Traceback (most recent call last)",
      "\u001b[0;32m<ipython-input-101-5d5cdcfdf7c2>\u001b[0m in \u001b[0;36m<module>\u001b[0;34m\u001b[0m\n\u001b[0;32m----> 1\u001b[0;31m \u001b[0mnarr_apress\u001b[0m \u001b[0;34m=\u001b[0m \u001b[0mxadf\u001b[0m\u001b[0;34m.\u001b[0m\u001b[0msel\u001b[0m\u001b[0;34m(\u001b[0m\u001b[0mlat\u001b[0m\u001b[0;34m=\u001b[0m\u001b[0mslice\u001b[0m\u001b[0;34m(\u001b[0m\u001b[0;36m44\u001b[0m\u001b[0;34m,\u001b[0m\u001b[0;36m45\u001b[0m\u001b[0;34m)\u001b[0m\u001b[0;34m,\u001b[0m \u001b[0mmethod\u001b[0m\u001b[0;34m=\u001b[0m\u001b[0;34m'nearest'\u001b[0m\u001b[0;34m)\u001b[0m \u001b[0;31m# -173.37167\u001b[0m\u001b[0;34m\u001b[0m\u001b[0m\n\u001b[0m",
      "\u001b[0;32m~/anaconda2/envs/py36/lib/python3.6/site-packages/xarray/core/dataset.py\u001b[0m in \u001b[0;36msel\u001b[0;34m(self, indexers, method, tolerance, drop, **indexers_kwargs)\u001b[0m\n\u001b[1;32m   1619\u001b[0m         \u001b[0mindexers\u001b[0m \u001b[0;34m=\u001b[0m \u001b[0meither_dict_or_kwargs\u001b[0m\u001b[0;34m(\u001b[0m\u001b[0mindexers\u001b[0m\u001b[0;34m,\u001b[0m \u001b[0mindexers_kwargs\u001b[0m\u001b[0;34m,\u001b[0m \u001b[0;34m'sel'\u001b[0m\u001b[0;34m)\u001b[0m\u001b[0;34m\u001b[0m\u001b[0m\n\u001b[1;32m   1620\u001b[0m         pos_indexers, new_indexes = remap_label_indexers(\n\u001b[0;32m-> 1621\u001b[0;31m             self, indexers=indexers, method=method, tolerance=tolerance)\n\u001b[0m\u001b[1;32m   1622\u001b[0m         \u001b[0mresult\u001b[0m \u001b[0;34m=\u001b[0m \u001b[0mself\u001b[0m\u001b[0;34m.\u001b[0m\u001b[0misel\u001b[0m\u001b[0;34m(\u001b[0m\u001b[0mindexers\u001b[0m\u001b[0;34m=\u001b[0m\u001b[0mpos_indexers\u001b[0m\u001b[0;34m,\u001b[0m \u001b[0mdrop\u001b[0m\u001b[0;34m=\u001b[0m\u001b[0mdrop\u001b[0m\u001b[0;34m)\u001b[0m\u001b[0;34m\u001b[0m\u001b[0m\n\u001b[1;32m   1623\u001b[0m         \u001b[0;32mreturn\u001b[0m \u001b[0mresult\u001b[0m\u001b[0;34m.\u001b[0m\u001b[0m_replace_indexes\u001b[0m\u001b[0;34m(\u001b[0m\u001b[0mnew_indexes\u001b[0m\u001b[0;34m)\u001b[0m\u001b[0;34m\u001b[0m\u001b[0m\n",
      "\u001b[0;32m~/anaconda2/envs/py36/lib/python3.6/site-packages/xarray/core/coordinates.py\u001b[0m in \u001b[0;36mremap_label_indexers\u001b[0;34m(obj, indexers, method, tolerance, **indexers_kwargs)\u001b[0m\n\u001b[1;32m    353\u001b[0m \u001b[0;34m\u001b[0m\u001b[0m\n\u001b[1;32m    354\u001b[0m     pos_indexers, new_indexes = indexing.remap_label_indexers(\n\u001b[0;32m--> 355\u001b[0;31m         \u001b[0mobj\u001b[0m\u001b[0;34m,\u001b[0m \u001b[0mv_indexers\u001b[0m\u001b[0;34m,\u001b[0m \u001b[0mmethod\u001b[0m\u001b[0;34m=\u001b[0m\u001b[0mmethod\u001b[0m\u001b[0;34m,\u001b[0m \u001b[0mtolerance\u001b[0m\u001b[0;34m=\u001b[0m\u001b[0mtolerance\u001b[0m\u001b[0;34m\u001b[0m\u001b[0m\n\u001b[0m\u001b[1;32m    356\u001b[0m     )\n\u001b[1;32m    357\u001b[0m     \u001b[0;31m# attach indexer's coordinate to pos_indexers\u001b[0m\u001b[0;34m\u001b[0m\u001b[0;34m\u001b[0m\u001b[0m\n",
      "\u001b[0;32m~/anaconda2/envs/py36/lib/python3.6/site-packages/xarray/core/indexing.py\u001b[0m in \u001b[0;36mremap_label_indexers\u001b[0;34m(data_obj, indexers, method, tolerance)\u001b[0m\n\u001b[1;32m    235\u001b[0m     \u001b[0mnew_indexes\u001b[0m \u001b[0;34m=\u001b[0m \u001b[0;34m{\u001b[0m\u001b[0;34m}\u001b[0m\u001b[0;34m\u001b[0m\u001b[0m\n\u001b[1;32m    236\u001b[0m \u001b[0;34m\u001b[0m\u001b[0m\n\u001b[0;32m--> 237\u001b[0;31m     \u001b[0mdim_indexers\u001b[0m \u001b[0;34m=\u001b[0m \u001b[0mget_dim_indexers\u001b[0m\u001b[0;34m(\u001b[0m\u001b[0mdata_obj\u001b[0m\u001b[0;34m,\u001b[0m \u001b[0mindexers\u001b[0m\u001b[0;34m)\u001b[0m\u001b[0;34m\u001b[0m\u001b[0m\n\u001b[0m\u001b[1;32m    238\u001b[0m     \u001b[0;32mfor\u001b[0m \u001b[0mdim\u001b[0m\u001b[0;34m,\u001b[0m \u001b[0mlabel\u001b[0m \u001b[0;32min\u001b[0m \u001b[0miteritems\u001b[0m\u001b[0;34m(\u001b[0m\u001b[0mdim_indexers\u001b[0m\u001b[0;34m)\u001b[0m\u001b[0;34m:\u001b[0m\u001b[0;34m\u001b[0m\u001b[0m\n\u001b[1;32m    239\u001b[0m         \u001b[0;32mtry\u001b[0m\u001b[0;34m:\u001b[0m\u001b[0;34m\u001b[0m\u001b[0m\n",
      "\u001b[0;32m~/anaconda2/envs/py36/lib/python3.6/site-packages/xarray/core/indexing.py\u001b[0m in \u001b[0;36mget_dim_indexers\u001b[0;34m(data_obj, indexers)\u001b[0m\n\u001b[1;32m    203\u001b[0m     \u001b[0;32mif\u001b[0m \u001b[0minvalid\u001b[0m\u001b[0;34m:\u001b[0m\u001b[0;34m\u001b[0m\u001b[0m\n\u001b[1;32m    204\u001b[0m         raise ValueError(\"dimensions or multi-index levels %r do not exist\"\n\u001b[0;32m--> 205\u001b[0;31m                          % invalid)\n\u001b[0m\u001b[1;32m    206\u001b[0m \u001b[0;34m\u001b[0m\u001b[0m\n\u001b[1;32m    207\u001b[0m     \u001b[0mlevel_indexers\u001b[0m \u001b[0;34m=\u001b[0m \u001b[0mdefaultdict\u001b[0m\u001b[0;34m(\u001b[0m\u001b[0mdict\u001b[0m\u001b[0;34m)\u001b[0m\u001b[0;34m\u001b[0m\u001b[0m\n",
      "\u001b[0;31mValueError\u001b[0m: dimensions or multi-index levels ['lat'] do not exist"
     ]
    }
   ],
   "source": [
    "narr_apress = xadf.sel(lat=slice(44,45), method='nearest') # -173.37167"
   ]
  },
  {
   "cell_type": "code",
   "execution_count": 91,
   "metadata": {},
   "outputs": [
    {
     "data": {
      "text/plain": [
       "<xarray.Dataset>\n",
       "Dimensions:            (time: 1224, x: 349, y: 0)\n",
       "Coordinates:\n",
       "  * time               (time) datetime64[ns] 2018-05-01 ... 2018-09-30T21:00:00\n",
       "    lat                (y, x) float32 ...\n",
       "    lon                (y, x) float32 ...\n",
       "  * y                  (y) float32 \n",
       "  * x                  (x) float32 0.0 32463.0 64926.0 ... 11264660.0 11297120.0\n",
       "Data variables:\n",
       "    Lambert_Conformal  int32 ...\n",
       "    pres               (time, y, x) float32 ...\n",
       "Attributes:\n",
       "    Conventions:    CF-1.2\n",
       "    centerlat:      50.0\n",
       "    centerlon:      -107.0\n",
       "    comments:       \n",
       "    institution:    National Centers for Environmental Prediction\n",
       "    latcorners:     [ 1.000001  0.897945 46.3544   46.63433 ]\n",
       "    loncorners:     [-145.5       -68.32005    -2.569891  148.6418  ]\n",
       "    platform:       Model\n",
       "    standardpar1:   50.0\n",
       "    standardpar2:   50.000001\n",
       "    title:          8x Daily NARR\n",
       "    history:        created Mon Jul 18 13:22:06 MDT 2016 by NOAA/ESRL/PSD\n",
       "    dataset_title:  NCEP North American Regional Reanalysis (NARR)\n",
       "    references:     https://www.esrl.noaa.gov/psd/data/gridded/data.narr.html\n",
       "    source:         http://www.emc.ncep.noaa.gov/mmb/rreanl/index.html"
      ]
     },
     "execution_count": 91,
     "metadata": {},
     "output_type": "execute_result"
    }
   ],
   "source": [
    "narr_apress"
   ]
  },
  {
   "cell_type": "code",
   "execution_count": 92,
   "metadata": {},
   "outputs": [
    {
     "data": {
      "text/plain": [
       "<xarray.Dataset>\n",
       "Dimensions:            (time: 2184, x: 349, y: 277)\n",
       "Coordinates:\n",
       "  * time               (time) datetime64[ns] 2018-01-01 ... 2018-09-30T21:00:00\n",
       "    lat                (y, x) float32 ...\n",
       "    lon                (y, x) float32 ...\n",
       "  * y                  (y) float32 0.0 32463.0 64926.0 ... 8927325.0 8959788.0\n",
       "  * x                  (x) float32 0.0 32463.0 64926.0 ... 11264660.0 11297120.0\n",
       "Data variables:\n",
       "    Lambert_Conformal  int32 ...\n",
       "    pres               (time, y, x) float32 ...\n",
       "Attributes:\n",
       "    Conventions:    CF-1.2\n",
       "    centerlat:      50.0\n",
       "    centerlon:      -107.0\n",
       "    comments:       \n",
       "    institution:    National Centers for Environmental Prediction\n",
       "    latcorners:     [ 1.000001  0.897945 46.3544   46.63433 ]\n",
       "    loncorners:     [-145.5       -68.32005    -2.569891  148.6418  ]\n",
       "    platform:       Model\n",
       "    standardpar1:   50.0\n",
       "    standardpar2:   50.000001\n",
       "    title:          8x Daily NARR\n",
       "    history:        created Mon Jul 18 13:22:06 MDT 2016 by NOAA/ESRL/PSD\n",
       "    dataset_title:  NCEP North American Regional Reanalysis (NARR)\n",
       "    references:     https://www.esrl.noaa.gov/psd/data/gridded/data.narr.html\n",
       "    source:         http://www.emc.ncep.noaa.gov/mmb/rreanl/index.html"
      ]
     },
     "execution_count": 92,
     "metadata": {},
     "output_type": "execute_result"
    }
   ],
   "source": [
    "xadf"
   ]
  },
  {
   "cell_type": "code",
   "execution_count": null,
   "metadata": {},
   "outputs": [],
   "source": []
  }
 ],
 "metadata": {
  "kernelspec": {
   "display_name": "Python [conda env:py37] *",
   "language": "python",
   "name": "conda-env-py37-py"
  },
  "language_info": {
   "codemirror_mode": {
    "name": "ipython",
    "version": 3
   },
   "file_extension": ".py",
   "mimetype": "text/x-python",
   "name": "python",
   "nbconvert_exporter": "python",
   "pygments_lexer": "ipython3",
   "version": "3.7.6"
  }
 },
 "nbformat": 4,
 "nbformat_minor": 4
}
