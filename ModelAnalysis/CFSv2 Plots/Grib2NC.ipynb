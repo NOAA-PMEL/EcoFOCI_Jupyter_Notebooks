{
 "cells": [
  {
   "cell_type": "code",
   "execution_count": 1,
   "metadata": {},
   "outputs": [],
   "source": [
    "import xarray as xr\n"
   ]
  },
  {
   "cell_type": "code",
   "execution_count": 2,
   "metadata": {},
   "outputs": [],
   "source": [
    "cfsv2_infile = '/Users/bell/Downloads/tmp2m.l.gdas.201802.grib2'\n"
   ]
  },
  {
   "cell_type": "code",
   "execution_count": 23,
   "metadata": {},
   "outputs": [],
   "source": [
    "xdf = xr.open_dataset(cfsv2_infile, engine='cfgrib')\n",
    "kdims = ['time', 'longitude', 'latitude']\n",
    "vdims = ['t2m']\n"
   ]
  },
  {
   "cell_type": "code",
   "execution_count": 4,
   "metadata": {},
   "outputs": [
    {
     "data": {
      "text/plain": [
       "<xarray.Dataset>\n",
       "Dimensions:            (latitude: 94, longitude: 192, step: 7, time: 112)\n",
       "Coordinates:\n",
       "  * time               (time) datetime64[ns] 2018-02-01 ... 2018-02-28T18:00:00\n",
       "  * step               (step) timedelta64[ns] 00:00:00 01:00:00 ... 06:00:00\n",
       "    heightAboveGround  int64 ...\n",
       "  * latitude           (latitude) float64 88.54 86.65 84.75 ... -86.65 -88.54\n",
       "  * longitude          (longitude) float64 0.0 1.875 3.75 ... 354.4 356.2 358.1\n",
       "    valid_time         (time) datetime64[ns] ...\n",
       "Data variables:\n",
       "    t2m                (time, step, latitude, longitude) float32 ...\n",
       "Attributes:\n",
       "    GRIB_edition:            2\n",
       "    GRIB_centre:             kwbc\n",
       "    GRIB_centreDescription:  US National Weather Service - NCEP \n",
       "    GRIB_subCentre:          0\n",
       "    history:                 GRIB to CDM+CF via cfgrib-0.9.4.1/ecCodes-2.9.2 ..."
      ]
     },
     "execution_count": 4,
     "metadata": {},
     "output_type": "execute_result"
    }
   ],
   "source": [
    "xdf"
   ]
  },
  {
   "cell_type": "code",
   "execution_count": 21,
   "metadata": {},
   "outputs": [],
   "source": [
    "xdf_init = xdf.sel(step=0)\n",
    "xdf_init = xdf_init.drop('step')\n",
    "xdf_init = xdf_init.drop('valid_time')\n",
    "xdf_init = xdf_init.drop('heightAboveGround')"
   ]
  },
  {
   "cell_type": "code",
   "execution_count": 22,
   "metadata": {},
   "outputs": [],
   "source": [
    "xdf_init.to_netcdf(cfsv2_infile + '.nc')"
   ]
  },
  {
   "cell_type": "code",
   "execution_count": 20,
   "metadata": {},
   "outputs": [
    {
     "data": {
      "text/plain": [
       "<xarray.DataArray 'heightAboveGround' ()>\n",
       "array(2)\n",
       "Coordinates:\n",
       "    heightAboveGround  int64 2"
      ]
     },
     "execution_count": 20,
     "metadata": {},
     "output_type": "execute_result"
    }
   ],
   "source": [
    "xdf_init.heightAboveGround"
   ]
  },
  {
   "cell_type": "code",
   "execution_count": null,
   "metadata": {},
   "outputs": [],
   "source": []
  }
 ],
 "metadata": {
  "kernelspec": {
   "display_name": "Python [conda env:py37]",
   "language": "python",
   "name": "conda-env-py37-py"
  },
  "language_info": {
   "codemirror_mode": {
    "name": "ipython",
    "version": 3
   },
   "file_extension": ".py",
   "mimetype": "text/x-python",
   "name": "python",
   "nbconvert_exporter": "python",
   "pygments_lexer": "ipython3",
   "version": "3.6.6"
  }
 },
 "nbformat": 4,
 "nbformat_minor": 2
}
