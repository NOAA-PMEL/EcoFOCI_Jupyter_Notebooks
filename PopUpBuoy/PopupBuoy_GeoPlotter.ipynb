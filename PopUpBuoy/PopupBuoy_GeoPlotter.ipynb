{
 "cells": [
  {
   "cell_type": "markdown",
   "metadata": {},
   "source": [
    "# SBD MSG Location Plotter"
   ]
  },
  {
   "cell_type": "code",
   "execution_count": 1,
   "metadata": {},
   "outputs": [
    {
     "name": "stderr",
     "output_type": "stream",
     "text": [
      "/Users/bell/anaconda2/envs/py37/lib/python3.7/importlib/_bootstrap.py:219: RuntimeWarning: numpy.dtype size changed, may indicate binary incompatibility. Expected 96, got 88\n",
      "  return f(*args, **kwds)\n"
     ]
    }
   ],
   "source": [
    "import pandas as pd\n",
    "\n",
    "%matplotlib inline\n",
    "import matplotlib.pyplot as plt\n",
    "import cartopy.crs as ccrs\n",
    "import cartopy.feature as cfeature\n",
    "from cartopy.mpl.ticker import LongitudeFormatter, LatitudeFormatter\n",
    "\n",
    "import cmocean"
   ]
  },
  {
   "cell_type": "code",
   "execution_count": 2,
   "metadata": {},
   "outputs": [],
   "source": [
    "def make_map(projection=ccrs.PlateCarree()):\n",
    "    fig, ax = plt.subplots(figsize=(8,4),\n",
    "                           subplot_kw=dict(projection=projection))\n",
    "    if projection == ccrs.PlateCarree():\n",
    "        gl = ax.gridlines(draw_labels=True)\n",
    "        gl.xlabels_top = gl.ylabels_right = False\n",
    "        gl.xformatter = LONGITUDE_FORMATTER\n",
    "        gl.yformatter = LATITUDE_FORMATTER\n",
    "    return fig, ax"
   ]
  },
  {
   "cell_type": "code",
   "execution_count": 3,
   "metadata": {},
   "outputs": [],
   "source": [
    "df = pd.read_csv('300434063823800/message_position_2019.csv',\n",
    "                 names=['time','lat','lon','quality'],\n",
    "                 parse_dates=True,index_col='time')\n"
   ]
  },
  {
   "cell_type": "code",
   "execution_count": 4,
   "metadata": {},
   "outputs": [
    {
     "data": {
      "image/png": "[encoded data removed]",
      "text/plain": [
       "<Figure size 576x288 with 1 Axes>"
      ]
     },
     "metadata": {
      "needs_background": "light"
     },
     "output_type": "display_data"
    }
   ],
   "source": [
    "projection=ccrs.LambertConformal(central_longitude=-160.0)\n",
    "transformation=ccrs.PlateCarree()\n",
    "\n",
    "land_50m = cfeature.NaturalEarthFeature('physical', 'land', '50m',\n",
    "                                        edgecolor='face',\n",
    "                                        facecolor='1.0')\n",
    "\n",
    "extent = [-180, -155, 66, 75]\n",
    "fig,ax = make_map(projection=projection)\n",
    "\n",
    "ax.scatter(df['lon'], df['lat'], s=1,\n",
    "           c=df.index.dayofyear, cmap=cmocean.cm.phase,\n",
    "           transform=transformation)\n",
    "\n",
    "leg = ax.legend()\n",
    "\n",
    "ax.add_feature(land_50m)\n",
    "ax.coastlines(resolution='50m')\n",
    "ax.set_extent(extent)"
   ]
  },
  {
   "cell_type": "code",
   "execution_count": 6,
   "metadata": {},
   "outputs": [
    {
     "data": {
      "text/plain": [
       "<matplotlib.colorbar.Colorbar at 0x11b065dd8>"
      ]
     },
     "execution_count": 6,
     "metadata": {},
     "output_type": "execute_result"
    },
    {
     "data": {
      "image/png": "[encoded data removed]",
      "text/plain": [
       "<Figure size 576x288 with 2 Axes>"
      ]
     },
     "metadata": {
      "needs_background": "light"
     },
     "output_type": "display_data"
    }
   ],
   "source": [
    "projection=ccrs.LambertConformal(central_longitude=-160.0)\n",
    "transformation=ccrs.PlateCarree()\n",
    "\n",
    "land_50m = cfeature.NaturalEarthFeature('physical', 'land', '50m',\n",
    "                                        edgecolor='face',\n",
    "                                        facecolor='1.0')\n",
    "\n",
    "extent = [-175, -165, 68, 72]\n",
    "fig,ax = make_map(projection=projection)\n",
    "\n",
    "sm=ax.scatter(df['lon'], df['lat'], s=1,\n",
    "           c=df.index.dayofyear, cmap=cmocean.cm.phase,\n",
    "           transform=transformation)\n",
    "\n",
    "ax.add_feature(land_50m)\n",
    "ax.coastlines(resolution='50m')\n",
    "ax.set_extent(extent)\n",
    "plt.colorbar(sm,ax=ax,label='DOY')"
   ]
  },
  {
   "cell_type": "code",
   "execution_count": null,
   "metadata": {},
   "outputs": [],
   "source": []
  }
 ],
 "metadata": {
  "kernelspec": {
   "display_name": "Python [conda env:py37]",
   "language": "python",
   "name": "conda-env-py37-py"
  },
  "language_info": {
   "codemirror_mode": {
    "name": "ipython",
    "version": 3
   },
   "file_extension": ".py",
   "mimetype": "text/x-python",
   "name": "python",
   "nbconvert_exporter": "python",
   "pygments_lexer": "ipython3",
   "version": "3.7.3"
  }
 },
 "nbformat": 4,
 "nbformat_minor": 2
}
