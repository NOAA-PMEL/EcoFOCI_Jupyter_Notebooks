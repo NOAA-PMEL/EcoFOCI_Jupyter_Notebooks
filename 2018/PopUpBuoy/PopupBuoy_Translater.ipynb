{
 "cells": [
  {
   "cell_type": "markdown",
   "metadata": {},
   "source": [
    "## Code and Documentation to translate Popup Buoy Transmitted/Recorded Data"
   ]
  },
  {
   "cell_type": "markdown",
   "metadata": {},
   "source": [
    "## Data Structure\n",
    "\n",
    "Data downloaded from Popup Buoy's directly, generate 8 binary files.  A complete description of these files can be found at **[link]**.  Relevant pieces will be included in the notebook.\n",
    "\n",
    "Filenames:\n",
    "- BOTDAT.TXT\n",
    "- FILEPOS.TXT\n",
    "- ICEDAT.TXT\n",
    "- JPGxxxxx.JPG\n",
    "- PRODAT.TXT\n",
    "- SSTDAT.TXT\n",
    "- SUMMARY.TXT"
   ]
  },
  {
   "cell_type": "code",
   "execution_count": 1,
   "metadata": {},
   "outputs": [],
   "source": [
    "input_file = 'sampledata/BOTDAT.TXT'"
   ]
  },
  {
   "cell_type": "code",
   "execution_count": 4,
   "metadata": {},
   "outputs": [],
   "source": [
    "def HexView(file):\n",
    "    with open(file, 'rb') as in_file:\n",
    "        while True:\n",
    "            hexdata = in_file.read(17).hex().upper()     # Read the shortest possible line\n",
    "            if hexdata[0:4] != 'FFFF':\n",
    "                #in_file.seek(-16,1)\n",
    "                print('help',hexdata[0:4])\n",
    "                hexdata = in_file.read(17).hex().upper() \n",
    "            if len(hexdata) == 0:                # breaks loop once no more binary data is read\n",
    "                break\n",
    "            print(hexdata.upper())               # I also like it all in caps. \n",
    "            \n",
    "    return(hexdata.upper())"
   ]
  },
  {
   "cell_type": "code",
   "execution_count": 5,
   "metadata": {},
   "outputs": [
    {
     "name": "stdout",
     "output_type": "stream",
     "text": [
      "FFFF000049BE298E2960214E1D30005907\n",
      "FFFF000149C0296C2944214F1A2C004A07\n",
      "FFFF000249C029502933214F18AC003D07\n",
      "FFFF000349C229452931214F17A0003D07\n",
      "FFFF000449C3294A293B214F15F0004507\n",
      "FFFF000549C429542949214F1558004307\n",
      "FFFF000649C629612957214F1552004207\n",
      "FFFF000749C529682962214F1552003407\n",
      "FFFF000849C72975296F214F1552003707\n",
      "FFFF000949C929842980214F1552003607\n",
      "FFFF000A49C92993298F214F1552002F07\n",
      "FFFF000B49CA29A329A0214F1552004C07\n",
      "FFFF000C49CA29B329B0214F1552003D07\n",
      "FFFF000D49CA29BE29BD214F1552003807\n",
      "FFFF000E49CB29CC29CB214F1552002E07\n",
      "FFFF000F49CC29D729D5214F1552003E07\n",
      "FFFF001049CD29E329E2214F15C0003A07\n",
      "help \n"
     ]
    }
   ],
   "source": [
    "hexstr = HexView(input_file)"
   ]
  },
  {
   "cell_type": "code",
   "execution_count": null,
   "metadata": {},
   "outputs": [],
   "source": []
  }
 ],
 "metadata": {
  "kernelspec": {
   "display_name": "Python [conda env:py36]",
   "language": "python",
   "name": "conda-env-py36-py"
  },
  "language_info": {
   "codemirror_mode": {
    "name": "ipython",
    "version": 3
   },
   "file_extension": ".py",
   "mimetype": "text/x-python",
   "name": "python",
   "nbconvert_exporter": "python",
   "pygments_lexer": "ipython3",
   "version": "3.6.6"
  }
 },
 "nbformat": 4,
 "nbformat_minor": 2
}
