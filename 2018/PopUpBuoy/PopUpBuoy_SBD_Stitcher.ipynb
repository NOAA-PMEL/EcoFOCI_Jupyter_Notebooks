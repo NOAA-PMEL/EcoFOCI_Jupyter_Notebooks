{
 "cells": [
  {
   "cell_type": "markdown",
   "metadata": {},
   "source": [
    "## Code and Documentation to Stitch SBD PopupBuoy Data "
   ]
  },
  {
   "cell_type": "code",
   "execution_count": 2,
   "metadata": {},
   "outputs": [],
   "source": [
    "#eclipse location - http://eclipse.pmel.noaa.gov/sbd/data/ecofoci.popupsbd/\n",
    "SBD_Location = 'http://eclipse.pmel.noaa.gov/sbd/data/ecofoci.popupsbd/'"
   ]
  },
  {
   "cell_type": "code",
   "execution_count": 3,
   "metadata": {},
   "outputs": [
    {
     "name": "stdout",
     "output_type": "stream",
     "text": [
      "b'<!DOCTYPE HTML PUBLIC \"-//W3C//DTD HTML 3.2 Final//EN\">\\n<html>\\n <head>\\n  <title>Index of /sbd/data/ecofoci.popupsbd</title>\\n </head>\\n <body>\\n<h1>Index of /sbd/data/ecofoci.popupsbd</h1>\\n<table><tr><th><img src=\"/icons/blank.gif\" alt=\"[ICO]\"></th><th><a href=\"?C=N;O=D\">Name</a></th><th><a href=\"?C=M;O=A\">Last modified</a></th><th><a href=\"?C=S;O=A\">Size</a></th><th><a href=\"?C=D;O=A\">Description</a></th></tr><tr><th colspan=\"5\"><hr></th></tr>\\n<tr><td valign=\"top\"><img src=\"/icons/back.gif\" alt=\"[DIR]\"></td><td><a href=\"/sbd/data/\">Parent Directory</a></td><td>&nbsp;</td><td align=\"right\">  - </td><td>&nbsp;</td></tr>\\n<tr><td valign=\"top\"><img src=\"/icons/folder.gif\" alt=\"[DIR]\"></td><td><a href=\"300434063823800/\">300434063823800/</a></td><td align=\"right\">31-Aug-2018 10:19  </td><td align=\"right\">  - </td><td>&nbsp;</td></tr>\\n<tr><td valign=\"top\"><img src=\"/icons/folder.gif\" alt=\"[DIR]\"></td><td><a href=\"300434063826810/\">300434063826810/</a></td><td align=\"right\">31-Aug-2018 10:46  </td><td align=\"right\">  - </td><td>&nbsp;</td></tr>\\n<tr><td valign=\"top\"><img src=\"/icons/folder.gif\" alt=\"[DIR]\"></td><td><a href=\"300434063921240/\">300434063921240/</a></td><td align=\"right\">31-Aug-2018 10:19  </td><td align=\"right\">  - </td><td>&nbsp;</td></tr>\\n<tr><td valign=\"top\"><img src=\"/icons/folder.gif\" alt=\"[DIR]\"></td><td><a href=\"300434063925210/\">300434063925210/</a></td><td align=\"right\">31-Aug-2018 10:01  </td><td align=\"right\">  - </td><td>&nbsp;</td></tr>\\n<tr><td valign=\"top\"><img src=\"/icons/folder.gif\" alt=\"[DIR]\"></td><td><a href=\"300434063928220/\">300434063928220/</a></td><td align=\"right\">31-Aug-2018 10:19  </td><td align=\"right\">  - </td><td>&nbsp;</td></tr>\\n<tr><th colspan=\"5\"><hr></th></tr>\\n</table>\\n<address>Apache/2.2.15 (Red Hat) Server at eclipse.pmel.noaa.gov Port 80</address>\\n</body></html>\\n'\n"
     ]
    }
   ],
   "source": [
    "import wget\n",
    "\n",
    "wget.download(SBD_Location, filename, bar=wget.bar_thermometer)"
   ]
  },
  {
   "cell_type": "code",
   "execution_count": null,
   "metadata": {},
   "outputs": [],
   "source": []
  }
 ],
 "metadata": {
  "kernelspec": {
   "display_name": "Python [conda env:py36]",
   "language": "python",
   "name": "conda-env-py36-py"
  },
  "language_info": {
   "codemirror_mode": {
    "name": "ipython",
    "version": 3
   },
   "file_extension": ".py",
   "mimetype": "text/x-python",
   "name": "python",
   "nbconvert_exporter": "python",
   "pygments_lexer": "ipython3",
   "version": "3.6.6"
  }
 },
 "nbformat": 4,
 "nbformat_minor": 2
}
