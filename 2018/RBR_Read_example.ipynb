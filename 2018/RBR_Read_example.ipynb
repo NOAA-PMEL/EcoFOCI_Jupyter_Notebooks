{
 "cells": [
  {
   "cell_type": "markdown",
   "metadata": {},
   "source": [
    "### Read RBR data without Ruskin program\n",
    "\n",
    "The RBR raw data in .rsk files is a SQLite file - well described and readable without the need for proprietary software.  \n",
    "\n",
    "Can we open, read and plot the RBR data (and perform and unit conversions) without the software?  The software does internal calcaluations of Salinity and Pressure corrections as well as possibly calibration corrections?\n",
    "\n",
    "*** This is just a test and proof of concept ***\n"
   ]
  },
  {
   "cell_type": "code",
   "execution_count": 28,
   "metadata": {},
   "outputs": [],
   "source": [
    "%matplotlib inline"
   ]
  },
  {
   "cell_type": "code",
   "execution_count": 4,
   "metadata": {},
   "outputs": [],
   "source": [
    "import sqlite3\n",
    "import pandas as pd"
   ]
  },
  {
   "cell_type": "code",
   "execution_count": 15,
   "metadata": {},
   "outputs": [],
   "source": [
    "data_file = 'data/DY1805cast050.rsk'\n",
    "db = sqlite3.connect(data_file)\n",
    "\n",
    "query = 'SELECT * FROM channels'\n",
    "columns = pd.read_sql_query(query,db)"
   ]
  },
  {
   "cell_type": "code",
   "execution_count": 16,
   "metadata": {},
   "outputs": [],
   "source": [
    "query = 'SELECT * FROM data'\n",
    "\n",
    "df = pd.read_sql_query(query,db)"
   ]
  },
  {
   "cell_type": "code",
   "execution_count": 17,
   "metadata": {},
   "outputs": [
    {
     "data": {
      "text/html": [
       "<div>\n",
       "<style scoped>\n",
       "    .dataframe tbody tr th:only-of-type {\n",
       "        vertical-align: middle;\n",
       "    }\n",
       "\n",
       "    .dataframe tbody tr th {\n",
       "        vertical-align: top;\n",
       "    }\n",
       "\n",
       "    .dataframe thead th {\n",
       "        text-align: right;\n",
       "    }\n",
       "</style>\n",
       "<table border=\"1\" class=\"dataframe\">\n",
       "  <thead>\n",
       "    <tr style=\"text-align: right;\">\n",
       "      <th></th>\n",
       "      <th>channelID</th>\n",
       "      <th>shortName</th>\n",
       "      <th>longName</th>\n",
       "      <th>units</th>\n",
       "      <th>longNamePlainText</th>\n",
       "      <th>unitsPlainText</th>\n",
       "      <th>isMeasured</th>\n",
       "      <th>isDerived</th>\n",
       "    </tr>\n",
       "  </thead>\n",
       "  <tbody>\n",
       "    <tr>\n",
       "      <th>0</th>\n",
       "      <td>1</td>\n",
       "      <td>cond10</td>\n",
       "      <td>Conductivity</td>\n",
       "      <td>mS/cm</td>\n",
       "      <td>Conductivity</td>\n",
       "      <td>mS/cm</td>\n",
       "      <td>1</td>\n",
       "      <td>0</td>\n",
       "    </tr>\n",
       "    <tr>\n",
       "      <th>1</th>\n",
       "      <td>2</td>\n",
       "      <td>temp14</td>\n",
       "      <td>Temperature</td>\n",
       "      <td>°C</td>\n",
       "      <td>Temperature</td>\n",
       "      <td>Degrees_C</td>\n",
       "      <td>1</td>\n",
       "      <td>0</td>\n",
       "    </tr>\n",
       "    <tr>\n",
       "      <th>2</th>\n",
       "      <td>3</td>\n",
       "      <td>pres24</td>\n",
       "      <td>Pressure</td>\n",
       "      <td>dbar</td>\n",
       "      <td>Pressure</td>\n",
       "      <td>dbar</td>\n",
       "      <td>1</td>\n",
       "      <td>0</td>\n",
       "    </tr>\n",
       "    <tr>\n",
       "      <th>3</th>\n",
       "      <td>4</td>\n",
       "      <td>pres08</td>\n",
       "      <td>Sea pressure</td>\n",
       "      <td>dbar</td>\n",
       "      <td>Sea pressure</td>\n",
       "      <td>dbar</td>\n",
       "      <td>0</td>\n",
       "      <td>1</td>\n",
       "    </tr>\n",
       "    <tr>\n",
       "      <th>4</th>\n",
       "      <td>5</td>\n",
       "      <td>dpth01</td>\n",
       "      <td>Depth</td>\n",
       "      <td>m</td>\n",
       "      <td>Depth</td>\n",
       "      <td>m</td>\n",
       "      <td>0</td>\n",
       "      <td>1</td>\n",
       "    </tr>\n",
       "    <tr>\n",
       "      <th>5</th>\n",
       "      <td>6</td>\n",
       "      <td>sal_00</td>\n",
       "      <td>Salinity</td>\n",
       "      <td>PSU</td>\n",
       "      <td>Salinity</td>\n",
       "      <td>PSU</td>\n",
       "      <td>0</td>\n",
       "      <td>1</td>\n",
       "    </tr>\n",
       "    <tr>\n",
       "      <th>6</th>\n",
       "      <td>7</td>\n",
       "      <td>sos_00</td>\n",
       "      <td>Speed of sound</td>\n",
       "      <td>m/s</td>\n",
       "      <td>Speed of sound</td>\n",
       "      <td>m/s</td>\n",
       "      <td>0</td>\n",
       "      <td>1</td>\n",
       "    </tr>\n",
       "    <tr>\n",
       "      <th>7</th>\n",
       "      <td>8</td>\n",
       "      <td>scon00</td>\n",
       "      <td>Specific conductivity</td>\n",
       "      <td>µS/cm</td>\n",
       "      <td>Specific conductivity</td>\n",
       "      <td>uS/cm</td>\n",
       "      <td>0</td>\n",
       "      <td>1</td>\n",
       "    </tr>\n",
       "    <tr>\n",
       "      <th>8</th>\n",
       "      <td>9</td>\n",
       "      <td>temp22</td>\n",
       "      <td>Temperature</td>\n",
       "      <td>°C</td>\n",
       "      <td>Temperature</td>\n",
       "      <td>Degrees_C</td>\n",
       "      <td>1</td>\n",
       "      <td>0</td>\n",
       "    </tr>\n",
       "    <tr>\n",
       "      <th>9</th>\n",
       "      <td>10</td>\n",
       "      <td>temp10</td>\n",
       "      <td>Temperature</td>\n",
       "      <td>°C</td>\n",
       "      <td>Temperature</td>\n",
       "      <td>Degrees_C</td>\n",
       "      <td>1</td>\n",
       "      <td>0</td>\n",
       "    </tr>\n",
       "  </tbody>\n",
       "</table>\n",
       "</div>"
      ],
      "text/plain": [
       "   channelID shortName               longName  units      longNamePlainText  \\\n",
       "0          1    cond10           Conductivity  mS/cm           Conductivity   \n",
       "1          2    temp14            Temperature     °C            Temperature   \n",
       "2          3    pres24               Pressure   dbar               Pressure   \n",
       "3          4    pres08           Sea pressure   dbar           Sea pressure   \n",
       "4          5    dpth01                  Depth      m                  Depth   \n",
       "5          6    sal_00               Salinity    PSU               Salinity   \n",
       "6          7    sos_00         Speed of sound    m/s         Speed of sound   \n",
       "7          8    scon00  Specific conductivity  µS/cm  Specific conductivity   \n",
       "8          9    temp22            Temperature     °C            Temperature   \n",
       "9         10    temp10            Temperature     °C            Temperature   \n",
       "\n",
       "  unitsPlainText  isMeasured  isDerived  \n",
       "0          mS/cm           1          0  \n",
       "1      Degrees_C           1          0  \n",
       "2           dbar           1          0  \n",
       "3           dbar           0          1  \n",
       "4              m           0          1  \n",
       "5            PSU           0          1  \n",
       "6            m/s           0          1  \n",
       "7          uS/cm           0          1  \n",
       "8      Degrees_C           1          0  \n",
       "9      Degrees_C           1          0  "
      ]
     },
     "execution_count": 17,
     "metadata": {},
     "output_type": "execute_result"
    }
   ],
   "source": [
    "columns"
   ]
  },
  {
   "cell_type": "code",
   "execution_count": 19,
   "metadata": {},
   "outputs": [
    {
     "data": {
      "text/html": [
       "<div>\n",
       "<style scoped>\n",
       "    .dataframe tbody tr th:only-of-type {\n",
       "        vertical-align: middle;\n",
       "    }\n",
       "\n",
       "    .dataframe tbody tr th {\n",
       "        vertical-align: top;\n",
       "    }\n",
       "\n",
       "    .dataframe thead th {\n",
       "        text-align: right;\n",
       "    }\n",
       "</style>\n",
       "<table border=\"1\" class=\"dataframe\">\n",
       "  <thead>\n",
       "    <tr style=\"text-align: right;\">\n",
       "      <th></th>\n",
       "      <th>tstamp</th>\n",
       "      <th>channel01</th>\n",
       "      <th>channel02</th>\n",
       "      <th>channel03</th>\n",
       "      <th>channel09</th>\n",
       "      <th>channel10</th>\n",
       "    </tr>\n",
       "  </thead>\n",
       "  <tbody>\n",
       "    <tr>\n",
       "      <th>0</th>\n",
       "      <td>1525899599000</td>\n",
       "      <td>-0.000055</td>\n",
       "      <td>3.756087</td>\n",
       "      <td>9.945971</td>\n",
       "      <td>4.105842</td>\n",
       "      <td>4.361718</td>\n",
       "    </tr>\n",
       "    <tr>\n",
       "      <th>1</th>\n",
       "      <td>1525899599125</td>\n",
       "      <td>-0.000212</td>\n",
       "      <td>3.761042</td>\n",
       "      <td>9.937022</td>\n",
       "      <td>3.937254</td>\n",
       "      <td>4.362148</td>\n",
       "    </tr>\n",
       "    <tr>\n",
       "      <th>2</th>\n",
       "      <td>1525899599250</td>\n",
       "      <td>-0.000283</td>\n",
       "      <td>3.766197</td>\n",
       "      <td>9.939225</td>\n",
       "      <td>4.105842</td>\n",
       "      <td>4.362535</td>\n",
       "    </tr>\n",
       "    <tr>\n",
       "      <th>3</th>\n",
       "      <td>1525899599375</td>\n",
       "      <td>-0.000359</td>\n",
       "      <td>3.769952</td>\n",
       "      <td>9.934484</td>\n",
       "      <td>4.105842</td>\n",
       "      <td>4.362747</td>\n",
       "    </tr>\n",
       "    <tr>\n",
       "      <th>4</th>\n",
       "      <td>1525899599500</td>\n",
       "      <td>0.000271</td>\n",
       "      <td>3.770283</td>\n",
       "      <td>9.931353</td>\n",
       "      <td>4.063758</td>\n",
       "      <td>4.363037</td>\n",
       "    </tr>\n",
       "  </tbody>\n",
       "</table>\n",
       "</div>"
      ],
      "text/plain": [
       "          tstamp  channel01  channel02  channel03  channel09  channel10\n",
       "0  1525899599000  -0.000055   3.756087   9.945971   4.105842   4.361718\n",
       "1  1525899599125  -0.000212   3.761042   9.937022   3.937254   4.362148\n",
       "2  1525899599250  -0.000283   3.766197   9.939225   4.105842   4.362535\n",
       "3  1525899599375  -0.000359   3.769952   9.934484   4.105842   4.362747\n",
       "4  1525899599500   0.000271   3.770283   9.931353   4.063758   4.363037"
      ]
     },
     "execution_count": 19,
     "metadata": {},
     "output_type": "execute_result"
    }
   ],
   "source": [
    "df.head()"
   ]
  },
  {
   "cell_type": "markdown",
   "metadata": {},
   "source": [
    "### Given the raw data above, can we calculate salinity using the thermodynamic equation of state and how does that compare to the RBR Ruskin Processed Data?"
   ]
  },
  {
   "cell_type": "code",
   "execution_count": 21,
   "metadata": {},
   "outputs": [],
   "source": [
    "import seawater"
   ]
  },
  {
   "cell_type": "code",
   "execution_count": 43,
   "metadata": {},
   "outputs": [
    {
     "name": "stderr",
     "output_type": "stream",
     "text": [
      "/Users/bell/anaconda2/envs/py36/lib/python3.6/site-packages/seawater/library.py:363: RuntimeWarning: invalid value encountered in sqrt\n",
      "  Rtx = (rt) ** 0.5\n"
     ]
    }
   ],
   "source": [
    "conductivity = df.channel01\n",
    "temperature = df.channel02\n",
    "pressure = df.channel03 - 10.1325 #subtract standard atmosphere\n",
    "\n",
    "salinity = seawater.salt(conductivity/42.914,temperature,pressure)\n",
    "df['salinity'] = salinity"
   ]
  },
  {
   "cell_type": "code",
   "execution_count": 47,
   "metadata": {},
   "outputs": [
    {
     "data": {
      "text/plain": [
       "<matplotlib.axes._subplots.AxesSubplot at 0x11a4107b8>"
      ]
     },
     "execution_count": 47,
     "metadata": {},
     "output_type": "execute_result"
    },
    {
     "data": {
      "image/png": "[encoded data removed]",
      "text/plain": [
       "<Figure size 432x288 with 1 Axes>"
      ]
     },
     "metadata": {},
     "output_type": "display_data"
    }
   ],
   "source": []
  },
  {
   "cell_type": "code",
   "execution_count": null,
   "metadata": {},
   "outputs": [],
   "source": []
  }
 ],
 "metadata": {
  "kernelspec": {
   "display_name": "Python [conda env:py36]",
   "language": "python",
   "name": "conda-env-py36-py"
  },
  "language_info": {
   "codemirror_mode": {
    "name": "ipython",
    "version": 3
   },
   "file_extension": ".py",
   "mimetype": "text/x-python",
   "name": "python",
   "nbconvert_exporter": "python",
   "pygments_lexer": "ipython3",
   "version": "3.6.5"
  }
 },
 "nbformat": 4,
 "nbformat_minor": 2
}
