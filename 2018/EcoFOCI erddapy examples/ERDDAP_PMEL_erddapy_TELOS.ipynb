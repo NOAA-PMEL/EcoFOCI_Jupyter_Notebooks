{
 "cells": [
  {
   "cell_type": "markdown",
   "metadata": {},
   "source": [
    "## ERDAP with erddapy example for PMEL TELOS platform data"
   ]
  },
  {
   "cell_type": "markdown",
   "metadata": {},
   "source": [
    "***requires python 3.6*** for passing time information (pandas datetime to timestamp doesn't appear to work in 2.7)"
   ]
  },
  {
   "cell_type": "markdown",
   "metadata": {},
   "source": [
    "### connecting and basic information"
   ]
  },
  {
   "cell_type": "code",
   "execution_count": 49,
   "metadata": {},
   "outputs": [],
   "source": [
    "from erddapy import ERDDAP\n",
    "import pandas as pd\n",
    "import numpy as np\n",
    "\n",
    "import datetime\n",
    "\n",
    "server_url = 'http://dunkel.pmel.noaa.gov:9290/erddap'\n",
    "\n",
    "e = ERDDAP(server=server_url)"
   ]
  },
  {
   "cell_type": "code",
   "execution_count": 12,
   "metadata": {},
   "outputs": [],
   "source": [
    "#df = pd.read_csv(e.get_search_url(response='csv', search_for='all'))\n",
    "df = pd.read_csv(e.get_search_url(response='csv', search_for='TELOS'))"
   ]
  },
  {
   "cell_type": "code",
   "execution_count": 20,
   "metadata": {},
   "outputs": [
    {
     "name": "stdout",
     "output_type": "stream",
     "text": [
      "We have 5 tabledap, 0 griddap, and 0 wms endpoints.\n",
      "\n",
      "Datasets:\n",
      "TELOS-1001 atrh170015\n",
      "TELOS-1001 atrh170016\n",
      "TELOS-1001 druck170004\n",
      "TELOS-1001 paros170004\n",
      "TELOS-1001 wind170013\n"
     ]
    }
   ],
   "source": [
    "print('We have {} tabledap, {} griddap, and {} wms endpoints.\\n'.format(\n",
    "    len(set(df['tabledap'].dropna())),\n",
    "    len(set(df['griddap'].dropna())),\n",
    "    len(set(df['wms'].dropna()))\n",
    "))\n",
    "print('Datasets:\\n{}'.format('\\n'.join(df['Title'])))"
   ]
  },
  {
   "cell_type": "code",
   "execution_count": 14,
   "metadata": {},
   "outputs": [
    {
     "data": {
      "text/plain": [
       "{'PMEL RUDICS': Int64Index([0, 1, 2, 3, 4], dtype='int64')}"
      ]
     },
     "execution_count": 14,
     "metadata": {},
     "output_type": "execute_result"
    }
   ],
   "source": [
    "df.groupby(['Institution']).groups"
   ]
  },
  {
   "cell_type": "code",
   "execution_count": 15,
   "metadata": {
    "scrolled": false
   },
   "outputs": [
    {
     "data": {
      "text/html": [
       "<div>\n",
       "<style scoped>\n",
       "    .dataframe tbody tr th:only-of-type {\n",
       "        vertical-align: middle;\n",
       "    }\n",
       "\n",
       "    .dataframe tbody tr th {\n",
       "        vertical-align: top;\n",
       "    }\n",
       "\n",
       "    .dataframe thead th {\n",
       "        text-align: right;\n",
       "    }\n",
       "</style>\n",
       "<table border=\"1\" class=\"dataframe\">\n",
       "  <thead>\n",
       "    <tr style=\"text-align: right;\">\n",
       "      <th></th>\n",
       "      <th>griddap</th>\n",
       "      <th>Subset</th>\n",
       "      <th>tabledap</th>\n",
       "      <th>Make A Graph</th>\n",
       "      <th>wms</th>\n",
       "      <th>files</th>\n",
       "      <th>Title</th>\n",
       "      <th>Summary</th>\n",
       "      <th>FGDC</th>\n",
       "      <th>ISO 19115</th>\n",
       "      <th>Info</th>\n",
       "      <th>Background Info</th>\n",
       "      <th>RSS</th>\n",
       "      <th>Email</th>\n",
       "      <th>Institution</th>\n",
       "      <th>Dataset ID</th>\n",
       "    </tr>\n",
       "  </thead>\n",
       "  <tbody>\n",
       "    <tr>\n",
       "      <th>0</th>\n",
       "      <td>NaN</td>\n",
       "      <td>NaN</td>\n",
       "      <td>http://dunkel.pmel.noaa.gov:9290/erddap/tabled...</td>\n",
       "      <td>http://dunkel.pmel.noaa.gov:9290/erddap/tabled...</td>\n",
       "      <td>NaN</td>\n",
       "      <td>NaN</td>\n",
       "      <td>TELOS-1001 atrh170015</td>\n",
       "      <td>Data from atrh170015. Pacific Marine Environme...</td>\n",
       "      <td>http://dunkel.pmel.noaa.gov:9290/erddap/metada...</td>\n",
       "      <td>http://dunkel.pmel.noaa.gov:9290/erddap/metada...</td>\n",
       "      <td>http://dunkel.pmel.noaa.gov:9290/erddap/info/a...</td>\n",
       "      <td>???</td>\n",
       "      <td>http://dunkel.pmel.noaa.gov:9290/erddap/rss/at...</td>\n",
       "      <td>http://dunkel.pmel.noaa.gov:9290/erddap/subscr...</td>\n",
       "      <td>PMEL RUDICS</td>\n",
       "      <td>atrh170015</td>\n",
       "    </tr>\n",
       "    <tr>\n",
       "      <th>1</th>\n",
       "      <td>NaN</td>\n",
       "      <td>NaN</td>\n",
       "      <td>http://dunkel.pmel.noaa.gov:9290/erddap/tabled...</td>\n",
       "      <td>http://dunkel.pmel.noaa.gov:9290/erddap/tabled...</td>\n",
       "      <td>NaN</td>\n",
       "      <td>NaN</td>\n",
       "      <td>TELOS-1001 atrh170016</td>\n",
       "      <td>Data from atrh170016. Pacific Marine Environme...</td>\n",
       "      <td>http://dunkel.pmel.noaa.gov:9290/erddap/metada...</td>\n",
       "      <td>http://dunkel.pmel.noaa.gov:9290/erddap/metada...</td>\n",
       "      <td>http://dunkel.pmel.noaa.gov:9290/erddap/info/a...</td>\n",
       "      <td>???</td>\n",
       "      <td>http://dunkel.pmel.noaa.gov:9290/erddap/rss/at...</td>\n",
       "      <td>http://dunkel.pmel.noaa.gov:9290/erddap/subscr...</td>\n",
       "      <td>PMEL RUDICS</td>\n",
       "      <td>atrh170016</td>\n",
       "    </tr>\n",
       "    <tr>\n",
       "      <th>2</th>\n",
       "      <td>NaN</td>\n",
       "      <td>NaN</td>\n",
       "      <td>http://dunkel.pmel.noaa.gov:9290/erddap/tabled...</td>\n",
       "      <td>http://dunkel.pmel.noaa.gov:9290/erddap/tabled...</td>\n",
       "      <td>NaN</td>\n",
       "      <td>NaN</td>\n",
       "      <td>TELOS-1001 druck170004</td>\n",
       "      <td>Data from druck170004. Pacific Marine Environm...</td>\n",
       "      <td>http://dunkel.pmel.noaa.gov:9290/erddap/metada...</td>\n",
       "      <td>http://dunkel.pmel.noaa.gov:9290/erddap/metada...</td>\n",
       "      <td>http://dunkel.pmel.noaa.gov:9290/erddap/info/d...</td>\n",
       "      <td>???</td>\n",
       "      <td>http://dunkel.pmel.noaa.gov:9290/erddap/rss/dr...</td>\n",
       "      <td>http://dunkel.pmel.noaa.gov:9290/erddap/subscr...</td>\n",
       "      <td>PMEL RUDICS</td>\n",
       "      <td>druck170004</td>\n",
       "    </tr>\n",
       "    <tr>\n",
       "      <th>3</th>\n",
       "      <td>NaN</td>\n",
       "      <td>NaN</td>\n",
       "      <td>http://dunkel.pmel.noaa.gov:9290/erddap/tabled...</td>\n",
       "      <td>http://dunkel.pmel.noaa.gov:9290/erddap/tabled...</td>\n",
       "      <td>NaN</td>\n",
       "      <td>NaN</td>\n",
       "      <td>TELOS-1001 paros170004</td>\n",
       "      <td>Data from paros170004. Pacific Marine Environm...</td>\n",
       "      <td>http://dunkel.pmel.noaa.gov:9290/erddap/metada...</td>\n",
       "      <td>http://dunkel.pmel.noaa.gov:9290/erddap/metada...</td>\n",
       "      <td>http://dunkel.pmel.noaa.gov:9290/erddap/info/p...</td>\n",
       "      <td>???</td>\n",
       "      <td>http://dunkel.pmel.noaa.gov:9290/erddap/rss/pa...</td>\n",
       "      <td>http://dunkel.pmel.noaa.gov:9290/erddap/subscr...</td>\n",
       "      <td>PMEL RUDICS</td>\n",
       "      <td>paros170004</td>\n",
       "    </tr>\n",
       "    <tr>\n",
       "      <th>4</th>\n",
       "      <td>NaN</td>\n",
       "      <td>NaN</td>\n",
       "      <td>http://dunkel.pmel.noaa.gov:9290/erddap/tabled...</td>\n",
       "      <td>http://dunkel.pmel.noaa.gov:9290/erddap/tabled...</td>\n",
       "      <td>NaN</td>\n",
       "      <td>NaN</td>\n",
       "      <td>TELOS-1001 wind170013</td>\n",
       "      <td>Data from wind170013. Pacific Marine Environme...</td>\n",
       "      <td>http://dunkel.pmel.noaa.gov:9290/erddap/metada...</td>\n",
       "      <td>http://dunkel.pmel.noaa.gov:9290/erddap/metada...</td>\n",
       "      <td>http://dunkel.pmel.noaa.gov:9290/erddap/info/w...</td>\n",
       "      <td>???</td>\n",
       "      <td>http://dunkel.pmel.noaa.gov:9290/erddap/rss/wi...</td>\n",
       "      <td>http://dunkel.pmel.noaa.gov:9290/erddap/subscr...</td>\n",
       "      <td>PMEL RUDICS</td>\n",
       "      <td>wind170013</td>\n",
       "    </tr>\n",
       "  </tbody>\n",
       "</table>\n",
       "</div>"
      ],
      "text/plain": [
       "   griddap  Subset                                           tabledap  \\\n",
       "0      NaN     NaN  http://dunkel.pmel.noaa.gov:9290/erddap/tabled...   \n",
       "1      NaN     NaN  http://dunkel.pmel.noaa.gov:9290/erddap/tabled...   \n",
       "2      NaN     NaN  http://dunkel.pmel.noaa.gov:9290/erddap/tabled...   \n",
       "3      NaN     NaN  http://dunkel.pmel.noaa.gov:9290/erddap/tabled...   \n",
       "4      NaN     NaN  http://dunkel.pmel.noaa.gov:9290/erddap/tabled...   \n",
       "\n",
       "                                        Make A Graph  wms  files  \\\n",
       "0  http://dunkel.pmel.noaa.gov:9290/erddap/tabled...  NaN    NaN   \n",
       "1  http://dunkel.pmel.noaa.gov:9290/erddap/tabled...  NaN    NaN   \n",
       "2  http://dunkel.pmel.noaa.gov:9290/erddap/tabled...  NaN    NaN   \n",
       "3  http://dunkel.pmel.noaa.gov:9290/erddap/tabled...  NaN    NaN   \n",
       "4  http://dunkel.pmel.noaa.gov:9290/erddap/tabled...  NaN    NaN   \n",
       "\n",
       "                    Title                                            Summary  \\\n",
       "0   TELOS-1001 atrh170015  Data from atrh170015. Pacific Marine Environme...   \n",
       "1   TELOS-1001 atrh170016  Data from atrh170016. Pacific Marine Environme...   \n",
       "2  TELOS-1001 druck170004  Data from druck170004. Pacific Marine Environm...   \n",
       "3  TELOS-1001 paros170004  Data from paros170004. Pacific Marine Environm...   \n",
       "4   TELOS-1001 wind170013  Data from wind170013. Pacific Marine Environme...   \n",
       "\n",
       "                                                FGDC  \\\n",
       "0  http://dunkel.pmel.noaa.gov:9290/erddap/metada...   \n",
       "1  http://dunkel.pmel.noaa.gov:9290/erddap/metada...   \n",
       "2  http://dunkel.pmel.noaa.gov:9290/erddap/metada...   \n",
       "3  http://dunkel.pmel.noaa.gov:9290/erddap/metada...   \n",
       "4  http://dunkel.pmel.noaa.gov:9290/erddap/metada...   \n",
       "\n",
       "                                           ISO 19115  \\\n",
       "0  http://dunkel.pmel.noaa.gov:9290/erddap/metada...   \n",
       "1  http://dunkel.pmel.noaa.gov:9290/erddap/metada...   \n",
       "2  http://dunkel.pmel.noaa.gov:9290/erddap/metada...   \n",
       "3  http://dunkel.pmel.noaa.gov:9290/erddap/metada...   \n",
       "4  http://dunkel.pmel.noaa.gov:9290/erddap/metada...   \n",
       "\n",
       "                                                Info Background Info  \\\n",
       "0  http://dunkel.pmel.noaa.gov:9290/erddap/info/a...             ???   \n",
       "1  http://dunkel.pmel.noaa.gov:9290/erddap/info/a...             ???   \n",
       "2  http://dunkel.pmel.noaa.gov:9290/erddap/info/d...             ???   \n",
       "3  http://dunkel.pmel.noaa.gov:9290/erddap/info/p...             ???   \n",
       "4  http://dunkel.pmel.noaa.gov:9290/erddap/info/w...             ???   \n",
       "\n",
       "                                                 RSS  \\\n",
       "0  http://dunkel.pmel.noaa.gov:9290/erddap/rss/at...   \n",
       "1  http://dunkel.pmel.noaa.gov:9290/erddap/rss/at...   \n",
       "2  http://dunkel.pmel.noaa.gov:9290/erddap/rss/dr...   \n",
       "3  http://dunkel.pmel.noaa.gov:9290/erddap/rss/pa...   \n",
       "4  http://dunkel.pmel.noaa.gov:9290/erddap/rss/wi...   \n",
       "\n",
       "                                               Email  Institution   Dataset ID  \n",
       "0  http://dunkel.pmel.noaa.gov:9290/erddap/subscr...  PMEL RUDICS   atrh170015  \n",
       "1  http://dunkel.pmel.noaa.gov:9290/erddap/subscr...  PMEL RUDICS   atrh170016  \n",
       "2  http://dunkel.pmel.noaa.gov:9290/erddap/subscr...  PMEL RUDICS  druck170004  \n",
       "3  http://dunkel.pmel.noaa.gov:9290/erddap/subscr...  PMEL RUDICS  paros170004  \n",
       "4  http://dunkel.pmel.noaa.gov:9290/erddap/subscr...  PMEL RUDICS   wind170013  "
      ]
     },
     "execution_count": 15,
     "metadata": {},
     "output_type": "execute_result"
    }
   ],
   "source": [
    "gb = df.groupby(['Institution'])\n",
    "\n",
    "gb.get_group('PMEL RUDICS')"
   ]
  },
  {
   "cell_type": "code",
   "execution_count": 45,
   "metadata": {},
   "outputs": [
    {
     "data": {
      "text/html": [
       "<div>\n",
       "<style scoped>\n",
       "    .dataframe tbody tr th:only-of-type {\n",
       "        vertical-align: middle;\n",
       "    }\n",
       "\n",
       "    .dataframe tbody tr th {\n",
       "        vertical-align: top;\n",
       "    }\n",
       "\n",
       "    .dataframe thead th {\n",
       "        text-align: right;\n",
       "    }\n",
       "</style>\n",
       "<table border=\"1\" class=\"dataframe\">\n",
       "  <thead>\n",
       "    <tr style=\"text-align: right;\">\n",
       "      <th></th>\n",
       "      <th>Row Type</th>\n",
       "      <th>Variable Name</th>\n",
       "      <th>Attribute Name</th>\n",
       "      <th>Data Type</th>\n",
       "      <th>Value</th>\n",
       "    </tr>\n",
       "  </thead>\n",
       "  <tbody>\n",
       "    <tr>\n",
       "      <th>0</th>\n",
       "      <td>attribute</td>\n",
       "      <td>NC_GLOBAL</td>\n",
       "      <td>cdm_data_type</td>\n",
       "      <td>String</td>\n",
       "      <td>TimeSeries</td>\n",
       "    </tr>\n",
       "    <tr>\n",
       "      <th>1</th>\n",
       "      <td>attribute</td>\n",
       "      <td>NC_GLOBAL</td>\n",
       "      <td>cdm_timeseries_variables</td>\n",
       "      <td>String</td>\n",
       "      <td>id, latitude, longitude</td>\n",
       "    </tr>\n",
       "    <tr>\n",
       "      <th>2</th>\n",
       "      <td>attribute</td>\n",
       "      <td>NC_GLOBAL</td>\n",
       "      <td>Conventions</td>\n",
       "      <td>String</td>\n",
       "      <td>COARDS, CF-1.6, ACDD-1.3</td>\n",
       "    </tr>\n",
       "    <tr>\n",
       "      <th>3</th>\n",
       "      <td>attribute</td>\n",
       "      <td>NC_GLOBAL</td>\n",
       "      <td>creator_name</td>\n",
       "      <td>String</td>\n",
       "      <td>PMEL RUDICS</td>\n",
       "    </tr>\n",
       "    <tr>\n",
       "      <th>4</th>\n",
       "      <td>attribute</td>\n",
       "      <td>NC_GLOBAL</td>\n",
       "      <td>creator_type</td>\n",
       "      <td>String</td>\n",
       "      <td>institution</td>\n",
       "    </tr>\n",
       "  </tbody>\n",
       "</table>\n",
       "</div>"
      ],
      "text/plain": [
       "    Row Type Variable Name            Attribute Name Data Type  \\\n",
       "0  attribute     NC_GLOBAL             cdm_data_type    String   \n",
       "1  attribute     NC_GLOBAL  cdm_timeseries_variables    String   \n",
       "2  attribute     NC_GLOBAL               Conventions    String   \n",
       "3  attribute     NC_GLOBAL              creator_name    String   \n",
       "4  attribute     NC_GLOBAL              creator_type    String   \n",
       "\n",
       "                      Value  \n",
       "0                TimeSeries  \n",
       "1   id, latitude, longitude  \n",
       "2  COARDS, CF-1.6, ACDD-1.3  \n",
       "3               PMEL RUDICS  \n",
       "4               institution  "
      ]
     },
     "execution_count": 45,
     "metadata": {},
     "output_type": "execute_result"
    }
   ],
   "source": [
    "info_url = e.get_info_url(dataset_id=df['Dataset ID'][0], response='csv')\n",
    "\n",
    "info = pd.read_csv(info_url)\n",
    "\n",
    "info.head()"
   ]
  },
  {
   "cell_type": "markdown",
   "metadata": {},
   "source": [
    "### retrieving and plotting data - variables"
   ]
  },
  {
   "cell_type": "code",
   "execution_count": 46,
   "metadata": {},
   "outputs": [
    {
     "name": "stdout",
     "output_type": "stream",
     "text": [
      "time\n",
      "AT\n",
      "AS\n",
      "RH\n",
      "RS\n",
      "longitude\n",
      "latitude\n",
      "id\n"
     ]
    }
   ],
   "source": [
    "print('\\n'.join(info.loc[info['Row Type'] == 'variable', 'Variable Name']))\n"
   ]
  },
  {
   "cell_type": "code",
   "execution_count": 50,
   "metadata": {},
   "outputs": [],
   "source": [
    "constraints = {\n",
    "    'time>=': '2017-07-10T00:00:00Z',\n",
    "    'time<=': str(datetime.datetime.today()),\n",
    "}\n",
    "\n",
    "variables = [\n",
    " 'AT',\n",
    " 'AS',\n",
    " 'RH',\n",
    " 'RS',\n",
    " 'latitude',\n",
    " 'longitude',\n",
    " 'time',\n",
    "]\n",
    "\n",
    "d = ERDDAP(server=server_url,\n",
    "           protocol='tabledap',\n",
    "           response='csv',\n",
    "           dataset_id=df['Dataset ID'][0],\n",
    "           variables=variables,\n",
    "           constraints=constraints\n",
    "          )"
   ]
  },
  {
   "cell_type": "code",
   "execution_count": 51,
   "metadata": {},
   "outputs": [
    {
     "data": {
      "text/plain": [
       "'http://dunkel.pmel.noaa.gov:9290/erddap/tabledap/atrh170015.csv?AT,AS,RH,RS,latitude,longitude,time&time>=1499644800.0&time<=1525763153.709263'"
      ]
     },
     "execution_count": 51,
     "metadata": {},
     "output_type": "execute_result"
    }
   ],
   "source": [
    "d.get_download_url()"
   ]
  },
  {
   "cell_type": "code",
   "execution_count": 52,
   "metadata": {},
   "outputs": [
    {
     "data": {
      "text/html": [
       "<div>\n",
       "<style scoped>\n",
       "    .dataframe tbody tr th:only-of-type {\n",
       "        vertical-align: middle;\n",
       "    }\n",
       "\n",
       "    .dataframe tbody tr th {\n",
       "        vertical-align: top;\n",
       "    }\n",
       "\n",
       "    .dataframe thead th {\n",
       "        text-align: right;\n",
       "    }\n",
       "</style>\n",
       "<table border=\"1\" class=\"dataframe\">\n",
       "  <thead>\n",
       "    <tr style=\"text-align: right;\">\n",
       "      <th></th>\n",
       "      <th>AT</th>\n",
       "      <th>AS</th>\n",
       "      <th>RH</th>\n",
       "      <th>RS</th>\n",
       "      <th>latitude</th>\n",
       "      <th>longitude</th>\n",
       "    </tr>\n",
       "    <tr>\n",
       "      <th>time</th>\n",
       "      <th></th>\n",
       "      <th></th>\n",
       "      <th></th>\n",
       "      <th></th>\n",
       "      <th></th>\n",
       "      <th></th>\n",
       "    </tr>\n",
       "  </thead>\n",
       "  <tbody>\n",
       "    <tr>\n",
       "      <th>2018-05-01 23:59:00</th>\n",
       "      <td>23.13</td>\n",
       "      <td>0.03</td>\n",
       "      <td>31.64</td>\n",
       "      <td>0.05</td>\n",
       "      <td>47.0</td>\n",
       "      <td>-122.0</td>\n",
       "    </tr>\n",
       "    <tr>\n",
       "      <th>2018-05-01 00:09:00</th>\n",
       "      <td>22.90</td>\n",
       "      <td>0.03</td>\n",
       "      <td>32.49</td>\n",
       "      <td>0.03</td>\n",
       "      <td>47.0</td>\n",
       "      <td>-122.0</td>\n",
       "    </tr>\n",
       "    <tr>\n",
       "      <th>2018-05-01 00:19:00</th>\n",
       "      <td>22.98</td>\n",
       "      <td>0.03</td>\n",
       "      <td>32.51</td>\n",
       "      <td>0.00</td>\n",
       "      <td>47.0</td>\n",
       "      <td>-122.0</td>\n",
       "    </tr>\n",
       "    <tr>\n",
       "      <th>2018-05-01 00:29:00</th>\n",
       "      <td>23.01</td>\n",
       "      <td>0.02</td>\n",
       "      <td>32.60</td>\n",
       "      <td>0.07</td>\n",
       "      <td>47.0</td>\n",
       "      <td>-122.0</td>\n",
       "    </tr>\n",
       "    <tr>\n",
       "      <th>2018-05-01 00:39:00</th>\n",
       "      <td>23.12</td>\n",
       "      <td>0.05</td>\n",
       "      <td>32.69</td>\n",
       "      <td>0.05</td>\n",
       "      <td>47.0</td>\n",
       "      <td>-122.0</td>\n",
       "    </tr>\n",
       "  </tbody>\n",
       "</table>\n",
       "</div>"
      ],
      "text/plain": [
       "                        AT    AS     RH    RS  latitude  longitude\n",
       "time                                                              \n",
       "2018-05-01 23:59:00  23.13  0.03  31.64  0.05      47.0     -122.0\n",
       "2018-05-01 00:09:00  22.90  0.03  32.49  0.03      47.0     -122.0\n",
       "2018-05-01 00:19:00  22.98  0.03  32.51  0.00      47.0     -122.0\n",
       "2018-05-01 00:29:00  23.01  0.02  32.60  0.07      47.0     -122.0\n",
       "2018-05-01 00:39:00  23.12  0.05  32.69  0.05      47.0     -122.0"
      ]
     },
     "execution_count": 52,
     "metadata": {},
     "output_type": "execute_result"
    }
   ],
   "source": [
    "df = d.to_pandas(\n",
    "    index_col='time',\n",
    "    parse_dates=True,\n",
    "    skiprows=(1,)  # units information can be dropped.\n",
    ").dropna()\n",
    "\n",
    "df.head()"
   ]
  },
  {
   "cell_type": "code",
   "execution_count": 58,
   "metadata": {},
   "outputs": [
    {
     "name": "stdout",
     "output_type": "stream",
     "text": [
      "AT            32.57\n",
      "AS             0.14\n",
      "RH            47.85\n",
      "RS             0.47\n",
      "latitude      47.00\n",
      "longitude   -122.00\n",
      "dtype: float64 \n",
      " AT            20.95\n",
      "AS             0.00\n",
      "RH            24.31\n",
      "RS             0.00\n",
      "latitude      47.00\n",
      "longitude   -122.00\n",
      "dtype: float64\n"
     ]
    }
   ],
   "source": [
    "print('{} \\n {}'.format(df.max(),df.min()))"
   ]
  },
  {
   "cell_type": "code",
   "execution_count": 81,
   "metadata": {},
   "outputs": [
    {
     "data": {
      "text/plain": [
       "array([[<matplotlib.axes._subplots.AxesSubplot object at 0x124ed0d30>,\n",
       "        <matplotlib.axes._subplots.AxesSubplot object at 0x125014f28>],\n",
       "       [<matplotlib.axes._subplots.AxesSubplot object at 0x125040588>,\n",
       "        <matplotlib.axes._subplots.AxesSubplot object at 0x125068be0>],\n",
       "       [<matplotlib.axes._subplots.AxesSubplot object at 0x12509c2b0>,\n",
       "        <matplotlib.axes._subplots.AxesSubplot object at 0x12509c2e8>]],\n",
       "      dtype=object)"
      ]
     },
     "execution_count": 81,
     "metadata": {},
     "output_type": "execute_result"
    },
    {
     "data": {
      "image/png": "[encoded data removed]",
      "text/plain": [
       "<Figure size 648x648 with 6 Axes>"
      ]
     },
     "metadata": {},
     "output_type": "display_data"
    }
   ],
   "source": [
    "df.hist(figsize=(9, 9))"
   ]
  },
  {
   "cell_type": "code",
   "execution_count": 66,
   "metadata": {},
   "outputs": [
    {
     "data": {
      "image/png": "[encoded data removed]",
      "text/plain": [
       "<Figure size 1224x144 with 1 Axes>"
      ]
     },
     "metadata": {},
     "output_type": "display_data"
    },
    {
     "data": {
      "image/png": "[encoded data removed]",
      "text/plain": [
       "<Figure size 1224x144 with 1 Axes>"
      ]
     },
     "metadata": {},
     "output_type": "display_data"
    },
    {
     "data": {
      "image/png": "[encoded data removed]",
      "text/plain": [
       "<Figure size 1224x144 with 1 Axes>"
      ]
     },
     "metadata": {},
     "output_type": "display_data"
    },
    {
     "data": {
      "image/png": "[encoded data removed]",
      "text/plain": [
       "<Figure size 1224x144 with 1 Axes>"
      ]
     },
     "metadata": {},
     "output_type": "display_data"
    }
   ],
   "source": [
    "%matplotlib inline\n",
    "import matplotlib.pyplot as plt\n",
    "import matplotlib.dates as mdates\n",
    "\n",
    "fig, ax = plt.subplots(figsize=(17, 2))\n",
    "cs = ax.scatter(df.index, df['AT'], s=15, c=df['AT'], marker='o', edgecolor='none')\n",
    "fig, ax = plt.subplots(figsize=(17, 2))\n",
    "cs = ax.scatter(df.index, df['AS'], s=15, c=df['AS'], marker='o', edgecolor='none')\n",
    "fig, ax = plt.subplots(figsize=(17, 2))\n",
    "cs = ax.scatter(df.index, df['RH'], s=15, c=df['RH'], marker='o', edgecolor='none')\n",
    "fig, ax = plt.subplots(figsize=(17, 2))\n",
    "cs = ax.scatter(df.index, df['RS'], s=15, c=df['RS'], marker='o', edgecolor='none')\n"
   ]
  },
  {
   "cell_type": "code",
   "execution_count": 53,
   "metadata": {},
   "outputs": [],
   "source": [
    "import metpy"
   ]
  },
  {
   "cell_type": "code",
   "execution_count": null,
   "metadata": {},
   "outputs": [],
   "source": []
  }
 ],
 "metadata": {
  "kernelspec": {
   "display_name": "Python [conda env:py36]",
   "language": "python",
   "name": "conda-env-py36-py"
  },
  "language_info": {
   "codemirror_mode": {
    "name": "ipython",
    "version": 3
   },
   "file_extension": ".py",
   "mimetype": "text/x-python",
   "name": "python",
   "nbconvert_exporter": "python",
   "pygments_lexer": "ipython3",
   "version": "3.6.5"
  }
 },
 "nbformat": 4,
 "nbformat_minor": 2
}
