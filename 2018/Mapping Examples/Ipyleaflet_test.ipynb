{
 "cells": [
  {
   "cell_type": "markdown",
   "metadata": {},
   "source": [
    "# Testing of ipyleaflet\n",
    "\n",
    "Alternative for maping is Folium\n",
    "\n",
    "Installed for:\n",
    "- python>=3.6\n",
    "- primarily relying on conda install\n",
    "- ipyleaflet was installed via pip as conda broke with numpy exceptions\n",
    "- install nodejs via conda\n",
    "- all other install steps were followed via the [install instructions](https://ipyleaflet.readthedocs.io/en/latest/installation.html#using-conda)\n",
    "- multiple conda kernels are on the development machine so ipykernels needs to be installed too"
   ]
  },
  {
   "cell_type": "code",
   "execution_count": 11,
   "metadata": {},
   "outputs": [],
   "source": [
    "import warnings\n",
    "warnings.filterwarnings(action='ignore', message=\"numpy.dtype size changed,\")\n",
    "\n",
    "from ipyleaflet import Map, basemaps, basemap_to_tiles, Circle\n",
    "\n",
    "import pandas as pd\n",
    "import cmocean\n",
    "import numpy as np\n",
    "\n",
    "import datetime\n",
    "import time"
   ]
  },
  {
   "cell_type": "markdown",
   "metadata": {},
   "source": [
    "## Setup the view\n",
    "\n",
    "The user will need to set the following parameters\n",
    "\n",
    "`network = True` The base image is drawn from MODIS retrievals from the most recent day - internet must be available\n",
    "\n",
    "`center=(lat,lon)` - (latN,lonE)\n",
    "\n",
    "`zoom=4` level of zoomed in or out 1(far)-9(close)"
   ]
  },
  {
   "cell_type": "code",
   "execution_count": 12,
   "metadata": {},
   "outputs": [],
   "source": [
    "#setup basemap and view that will be updated\n",
    "def set_basemap():\n",
    "    network=True\n",
    "    center=(65, 200)\n",
    "    zoom=4\n",
    "\n",
    "    if network:\n",
    "        m = Map(\n",
    "                layers=(basemap_to_tiles(basemaps.NASAGIBS.ModisTerraTrueColorCR, \n",
    "                                         (datetime.datetime.today()-datetime.timedelta(1)).strftime('%Y-%m-%d')), ),\n",
    "            center=center,\n",
    "            zoom=zoom\n",
    "        )\n",
    "    else:\n",
    "        m = Map(\n",
    "            center=center,\n",
    "            zoom=zoom\n",
    "        )\n",
    "    return m"
   ]
  },
  {
   "cell_type": "code",
   "execution_count": 13,
   "metadata": {},
   "outputs": [
    {
     "name": "stdout",
     "output_type": "stream",
     "text": [
      "The base image is from: August 21, 2018\n"
     ]
    }
   ],
   "source": [
    "image_date=(datetime.datetime.today()-datetime.timedelta(1))\n",
    "\n",
    "print(f'The base image is from: {image_date:%B %d, %Y}')"
   ]
  },
  {
   "cell_type": "markdown",
   "metadata": {},
   "source": [
    "### Adding Data Locations Color-Coded by value\n",
    "\n",
    "We add a circle where the inner and outer ring are coded by color and location.  Currently the size of the circle is fixed, but this could present another variable.  "
   ]
  },
  {
   "cell_type": "code",
   "execution_count": 14,
   "metadata": {},
   "outputs": [],
   "source": [
    "def add_circle(lat,lon,value,color):\n",
    "    circle.location = (lat, 360+lon)\n",
    "    circle.radius = 500\n",
    "    circle.value = value\n",
    "    circle.color = color\n",
    "    circle.fill_color = color\n",
    "    \n",
    "    return circle\n"
   ]
  },
  {
   "cell_type": "markdown",
   "metadata": {},
   "source": [
    "Since the leaflet routines take hex values, we have to convert the cmocean scale to hex (since i like this scale)"
   ]
  },
  {
   "cell_type": "code",
   "execution_count": 15,
   "metadata": {},
   "outputs": [],
   "source": [
    "#use cmocean colormaps\n",
    "def cmocean_to_hex(cmap, pl_entries):\n",
    "    h = 1.0/(pl_entries-1)\n",
    "    pl_colorscale = []\n",
    "\n",
    "    for k in range(pl_entries):\n",
    "        C = list(map(np.uint8, np.array(cmap(k*h)[:3])*255))\n",
    "        pl_colorscale.append([k*h, '#{:02x}{:02x}{:02x}'.format(C[0],C[1],C[2])],)\n",
    "\n",
    "    return pl_colorscale\n",
    "\n",
    "cm_thermal = cmocean_to_hex(cmocean.cm.thermal,256)\n",
    "cm_val = [a for a,b in iter(cm_thermal)]\n",
    "cm_hex = [b for a,b in iter(cm_thermal)]"
   ]
  },
  {
   "cell_type": "markdown",
   "metadata": {},
   "source": [
    "## Read in IWG data file to be parsed/plotted"
   ]
  },
  {
   "cell_type": "code",
   "execution_count": 16,
   "metadata": {},
   "outputs": [],
   "source": [
    "iwg_file=\"C:\\\\Users\\\\pmelctd\\\\Documents\\\\2018 Downloads\\\\20180525_221008_IWG.clean.csv\""
   ]
  },
  {
   "cell_type": "markdown",
   "metadata": {},
   "source": [
    "#### Normalize SST to min and max values specified below\n",
    "\n",
    "#### Downsample the input data for speed and clarity\n",
    "\n",
    "resample values are strings eg:\n",
    "- '30s': 30 seconds\n",
    "- '1t': 1 minute\n",
    "- '90s': 90 seconds"
   ]
  },
  {
   "cell_type": "code",
   "execution_count": 17,
   "metadata": {},
   "outputs": [],
   "source": [
    "def load_data():\n",
    "    df = pd.read_csv(iwg_file,\n",
    "                     parse_dates=['TIME'],\n",
    "                     index_col='TIME')\n",
    "\n",
    "    #set max and min ranges to scale to\n",
    "    maxval=10\n",
    "    minval=-2\n",
    "\n",
    "    df['norm'] = df['SST'].apply(lambda x: (x - (minval)) / (maxval - (-2)))\n",
    "\n",
    "    #set values outside of max/min to be the same as max/min\n",
    "    df['norm'][df['norm']>=1]=1\n",
    "    df['norm'][df['norm']<0]=0\n",
    "\n",
    "    df_downsample = df.resample('60s').median()\n",
    "    \n",
    "    return df_downsample"
   ]
  },
  {
   "cell_type": "code",
   "execution_count": 18,
   "metadata": {},
   "outputs": [
    {
     "data": {
      "application/vnd.jupyter.widget-view+json": {
       "model_id": "4409237e94164247bd94dae9f6319e8a",
       "version_major": 2,
       "version_minor": 0
      },
      "text/plain": [
       "Map(basemap={'url': 'https://{s}.tile.openstreetmap.org/{z}/{x}/{y}.png', 'max_zoom': 19, 'attribution': 'Map …"
      ]
     },
     "metadata": {},
     "output_type": "display_data"
    }
   ],
   "source": [
    "m = set_basemap()\n",
    "m"
   ]
  },
  {
   "cell_type": "code",
   "execution_count": 20,
   "metadata": {},
   "outputs": [
    {
     "name": "stderr",
     "output_type": "stream",
     "text": [
      "C:\\Users\\pmelctd\\Anaconda2\\envs\\py36\\lib\\site-packages\\ipykernel_launcher.py:13: SettingWithCopyWarning: \n",
      "A value is trying to be set on a copy of a slice from a DataFrame\n",
      "\n",
      "See the caveats in the documentation: http://pandas.pydata.org/pandas-docs/stable/indexing.html#indexing-view-versus-copy\n",
      "  del sys.path[0]\n",
      "C:\\Users\\pmelctd\\Anaconda2\\envs\\py36\\lib\\site-packages\\ipykernel_launcher.py:14: SettingWithCopyWarning: \n",
      "A value is trying to be set on a copy of a slice from a DataFrame\n",
      "\n",
      "See the caveats in the documentation: http://pandas.pydata.org/pandas-docs/stable/indexing.html#indexing-view-versus-copy\n",
      "  \n"
     ]
    }
   ],
   "source": [
    "df_downsample=load_data()\n",
    "\n",
    "for count in range(0,int(len(df_downsample)/1),1):\n",
    "    circle = Circle()\n",
    "\n",
    "    circle = add_circle(df_downsample['LAT'][count],\n",
    "                        df_downsample['LON'][count],\n",
    "                        df_downsample['norm'][count],\n",
    "                        color=cm_hex[np.searchsorted(cm_val, df_downsample['norm'][count], side=\"left\")])\n",
    "    m.add_layer(circle)\n",
    "    count+=1\n",
    "\n",
    "\n"
   ]
  },
  {
   "cell_type": "code",
   "execution_count": null,
   "metadata": {},
   "outputs": [],
   "source": []
  }
 ],
 "metadata": {
  "kernelspec": {
   "display_name": "Python 3",
   "language": "python",
   "name": "python3"
  },
  "language_info": {
   "codemirror_mode": {
    "name": "ipython",
    "version": 3
   },
   "file_extension": ".py",
   "mimetype": "text/x-python",
   "name": "python",
   "nbconvert_exporter": "python",
   "pygments_lexer": "ipython3",
   "version": "3.6.6"
  }
 },
 "nbformat": 4,
 "nbformat_minor": 2
}
