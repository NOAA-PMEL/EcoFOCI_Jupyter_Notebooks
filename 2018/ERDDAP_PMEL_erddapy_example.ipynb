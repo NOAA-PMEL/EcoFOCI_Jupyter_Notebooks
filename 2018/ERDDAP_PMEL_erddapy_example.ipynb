{
 "cells": [
  {
   "cell_type": "markdown",
   "metadata": {},
   "source": [
    "## ERDAP with erddapy example for PMEL tools"
   ]
  },
  {
   "cell_type": "markdown",
   "metadata": {},
   "source": [
    "***requires python 3.6*** for passing time information (pandas datetime to timestamp doesn't appear to work in 2.7)"
   ]
  },
  {
   "cell_type": "markdown",
   "metadata": {},
   "source": [
    "### connecting and basic information"
   ]
  },
  {
   "cell_type": "code",
   "execution_count": 38,
   "metadata": {},
   "outputs": [],
   "source": [
    "from erddapy import ERDDAP\n",
    "import pandas as pd\n",
    "import numpy as np\n",
    "\n",
    "server_url = 'http://krafla.pmel.noaa.gov:8080/erddap'\n",
    "\n",
    "e = ERDDAP(server=server_url)"
   ]
  },
  {
   "cell_type": "code",
   "execution_count": 2,
   "metadata": {},
   "outputs": [],
   "source": [
    "df = pd.read_csv(e.get_search_url(response='csv', search_for='all'))"
   ]
  },
  {
   "cell_type": "code",
   "execution_count": 3,
   "metadata": {},
   "outputs": [
    {
     "data": {
      "text/plain": [
       "'We have 16 tabledap, 45 griddap, and 45 wms endpoints.'"
      ]
     },
     "execution_count": 3,
     "metadata": {},
     "output_type": "execute_result"
    }
   ],
   "source": [
    "'We have {} tabledap, {} griddap, and {} wms endpoints.'.format(\n",
    "    len(set(df['tabledap'].dropna())),\n",
    "    len(set(df['griddap'].dropna())),\n",
    "    len(set(df['wms'].dropna()))\n",
    ")"
   ]
  },
  {
   "cell_type": "code",
   "execution_count": 4,
   "metadata": {},
   "outputs": [
    {
     "data": {
      "text/plain": [
       "{'CoastWatch Caribb-NOAA AOML': Int64Index([26], dtype='int64'),\n",
       " 'FNMOC': Int64Index([21, 22, 23, 24], dtype='int64'),\n",
       " 'NASA JPL': Int64Index([18, 20], dtype='int64'),\n",
       " 'NASA/GSFC OBPG': Int64Index([ 3,  4,  5,  6,  7, 15, 16, 17, 33, 34, 35, 43, 44, 45, 46, 47, 48,\n",
       "             49, 50, 51, 52, 53, 54, 55, 56, 57, 58, 59, 60],\n",
       "            dtype='int64'),\n",
       " 'NOAA NCEI': Int64Index([27, 28, 29, 30, 31, 32], dtype='int64'),\n",
       " 'NOAA NDBC, NOAA NMFS SWFSC ERD': Int64Index([25], dtype='int64'),\n",
       " 'NOAA NGDC': Int64Index([40, 41], dtype='int64'),\n",
       " 'NOAA NMFS SWFSC ERD': Int64Index([2], dtype='int64'),\n",
       " 'NOAA NODC': Int64Index([19], dtype='int64'),\n",
       " 'NOAA/PMEL - EcoFOCI': Int64Index([0, 1, 36, 37, 38, 39, 42], dtype='int64'),\n",
       " 'SDIG Test Data': Int64Index([8, 9, 10, 11, 12, 13, 14], dtype='int64')}"
      ]
     },
     "execution_count": 4,
     "metadata": {},
     "output_type": "execute_result"
    }
   ],
   "source": [
    "df.groupby(['Institution']).groups\n"
   ]
  },
  {
   "cell_type": "code",
   "execution_count": 5,
   "metadata": {
    "scrolled": false
   },
   "outputs": [
    {
     "data": {
      "text/html": [
       "<div>\n",
       "<style scoped>\n",
       "    .dataframe tbody tr th:only-of-type {\n",
       "        vertical-align: middle;\n",
       "    }\n",
       "\n",
       "    .dataframe tbody tr th {\n",
       "        vertical-align: top;\n",
       "    }\n",
       "\n",
       "    .dataframe thead th {\n",
       "        text-align: right;\n",
       "    }\n",
       "</style>\n",
       "<table border=\"1\" class=\"dataframe\">\n",
       "  <thead>\n",
       "    <tr style=\"text-align: right;\">\n",
       "      <th></th>\n",
       "      <th>griddap</th>\n",
       "      <th>Subset</th>\n",
       "      <th>tabledap</th>\n",
       "      <th>Make A Graph</th>\n",
       "      <th>wms</th>\n",
       "      <th>files</th>\n",
       "      <th>Title</th>\n",
       "      <th>Summary</th>\n",
       "      <th>FGDC</th>\n",
       "      <th>ISO 19115</th>\n",
       "      <th>Info</th>\n",
       "      <th>Background Info</th>\n",
       "      <th>RSS</th>\n",
       "      <th>Email</th>\n",
       "      <th>Institution</th>\n",
       "      <th>Dataset ID</th>\n",
       "    </tr>\n",
       "  </thead>\n",
       "  <tbody>\n",
       "    <tr>\n",
       "      <th>0</th>\n",
       "      <td>NaN</td>\n",
       "      <td>http://krafla.pmel.noaa.gov:8080/erddap/tabled...</td>\n",
       "      <td>http://krafla.pmel.noaa.gov:8080/erddap/tabled...</td>\n",
       "      <td>http://krafla.pmel.noaa.gov:8080/erddap/tabled...</td>\n",
       "      <td>NaN</td>\n",
       "      <td>NaN</td>\n",
       "      <td>* The List of All Active Datasets in this ERDD...</td>\n",
       "      <td>This dataset is a table which has a row of inf...</td>\n",
       "      <td>NaN</td>\n",
       "      <td>NaN</td>\n",
       "      <td>http://krafla.pmel.noaa.gov:8080/erddap/info/a...</td>\n",
       "      <td>http://krafla.pmel.noaa.gov:8080/erddap</td>\n",
       "      <td>NaN</td>\n",
       "      <td>NaN</td>\n",
       "      <td>NOAA/PMEL - EcoFOCI</td>\n",
       "      <td>allDatasets</td>\n",
       "    </tr>\n",
       "    <tr>\n",
       "      <th>1</th>\n",
       "      <td>NaN</td>\n",
       "      <td>http://krafla.pmel.noaa.gov:8080/erddap/tabled...</td>\n",
       "      <td>http://krafla.pmel.noaa.gov:8080/erddap/tabled...</td>\n",
       "      <td>http://krafla.pmel.noaa.gov:8080/erddap/tabled...</td>\n",
       "      <td>NaN</td>\n",
       "      <td>NaN</td>\n",
       "      <td>Acrobat data from OS1701</td>\n",
       "      <td>Acrobat data from Barrow Canyon 1 - Cruise OS1...</td>\n",
       "      <td>http://krafla.pmel.noaa.gov:8080/erddap/metada...</td>\n",
       "      <td>http://krafla.pmel.noaa.gov:8080/erddap/metada...</td>\n",
       "      <td>http://krafla.pmel.noaa.gov:8080/erddap/info/e...</td>\n",
       "      <td>https://www.ecofoci.noaa.gov/</td>\n",
       "      <td>http://krafla.pmel.noaa.gov:8080/erddap/rss/er...</td>\n",
       "      <td>http://krafla.pmel.noaa.gov:8080/erddap/subscr...</td>\n",
       "      <td>NOAA/PMEL - EcoFOCI</td>\n",
       "      <td>erddap_OS1701L1_Acrobat</td>\n",
       "    </tr>\n",
       "    <tr>\n",
       "      <th>36</th>\n",
       "      <td>NaN</td>\n",
       "      <td>http://krafla.pmel.noaa.gov:8080/erddap/tabled...</td>\n",
       "      <td>http://krafla.pmel.noaa.gov:8080/erddap/tabled...</td>\n",
       "      <td>http://krafla.pmel.noaa.gov:8080/erddap/tabled...</td>\n",
       "      <td>NaN</td>\n",
       "      <td>NaN</td>\n",
       "      <td>Physical, chemical, and biological data collec...</td>\n",
       "      <td>Oculus Glider Test Deployment - Fall 2017\\n   ...</td>\n",
       "      <td>http://krafla.pmel.noaa.gov:8080/erddap/metada...</td>\n",
       "      <td>http://krafla.pmel.noaa.gov:8080/erddap/metada...</td>\n",
       "      <td>http://krafla.pmel.noaa.gov:8080/erddap/info/s...</td>\n",
       "      <td>https://www.pmel.noaa.gov/itae/technologies</td>\n",
       "      <td>http://krafla.pmel.noaa.gov:8080/erddap/rss/sg...</td>\n",
       "      <td>http://krafla.pmel.noaa.gov:8080/erddap/subscr...</td>\n",
       "      <td>NOAA/PMEL - EcoFOCI</td>\n",
       "      <td>sg401_b9ae_ed68_1861</td>\n",
       "    </tr>\n",
       "    <tr>\n",
       "      <th>37</th>\n",
       "      <td>NaN</td>\n",
       "      <td>http://krafla.pmel.noaa.gov:8080/erddap/tabled...</td>\n",
       "      <td>http://krafla.pmel.noaa.gov:8080/erddap/tabled...</td>\n",
       "      <td>http://krafla.pmel.noaa.gov:8080/erddap/tabled...</td>\n",
       "      <td>NaN</td>\n",
       "      <td>NaN</td>\n",
       "      <td>Prawler Deployment Data, 16BSITAE</td>\n",
       "      <td>Prawler Deployment Data - 16BSITAE\\n\\ncdm_data...</td>\n",
       "      <td>http://krafla.pmel.noaa.gov:8080/erddap/metada...</td>\n",
       "      <td>http://krafla.pmel.noaa.gov:8080/erddap/metada...</td>\n",
       "      <td>http://krafla.pmel.noaa.gov:8080/erddap/info/e...</td>\n",
       "      <td>https://www.pmel.noaa.gov/itae/technologies</td>\n",
       "      <td>http://krafla.pmel.noaa.gov:8080/erddap/rss/er...</td>\n",
       "      <td>http://krafla.pmel.noaa.gov:8080/erddap/subscr...</td>\n",
       "      <td>NOAA/PMEL - EcoFOCI</td>\n",
       "      <td>erddap_4fd3_fb30_b89f</td>\n",
       "    </tr>\n",
       "    <tr>\n",
       "      <th>38</th>\n",
       "      <td>NaN</td>\n",
       "      <td>http://krafla.pmel.noaa.gov:8080/erddap/tabled...</td>\n",
       "      <td>http://krafla.pmel.noaa.gov:8080/erddap/tabled...</td>\n",
       "      <td>http://krafla.pmel.noaa.gov:8080/erddap/tabled...</td>\n",
       "      <td>NaN</td>\n",
       "      <td>NaN</td>\n",
       "      <td>Prawler Deployment Data, 17BS-ITAE</td>\n",
       "      <td>Prawler Deployment Data - 17B-SITAE\\n\\ncdm_dat...</td>\n",
       "      <td>http://krafla.pmel.noaa.gov:8080/erddap/metada...</td>\n",
       "      <td>http://krafla.pmel.noaa.gov:8080/erddap/metada...</td>\n",
       "      <td>http://krafla.pmel.noaa.gov:8080/erddap/info/e...</td>\n",
       "      <td>https://www.pmel.noaa.gov/itae/technologies</td>\n",
       "      <td>http://krafla.pmel.noaa.gov:8080/erddap/rss/er...</td>\n",
       "      <td>http://krafla.pmel.noaa.gov:8080/erddap/subscr...</td>\n",
       "      <td>NOAA/PMEL - EcoFOCI</td>\n",
       "      <td>erddap_17bsitae_prawler</td>\n",
       "    </tr>\n",
       "    <tr>\n",
       "      <th>39</th>\n",
       "      <td>NaN</td>\n",
       "      <td>http://krafla.pmel.noaa.gov:8080/erddap/tabled...</td>\n",
       "      <td>http://krafla.pmel.noaa.gov:8080/erddap/tabled...</td>\n",
       "      <td>http://krafla.pmel.noaa.gov:8080/erddap/tabled...</td>\n",
       "      <td>NaN</td>\n",
       "      <td>NaN</td>\n",
       "      <td>Prawler Deployment Data, 17CKITAEM-2A</td>\n",
       "      <td>Prawler Deployment Data - 17CKITAEM-2A\\n\\ncdm_...</td>\n",
       "      <td>http://krafla.pmel.noaa.gov:8080/erddap/metada...</td>\n",
       "      <td>http://krafla.pmel.noaa.gov:8080/erddap/metada...</td>\n",
       "      <td>http://krafla.pmel.noaa.gov:8080/erddap/info/e...</td>\n",
       "      <td>https://www.pmel.noaa.gov/itae/technologies</td>\n",
       "      <td>http://krafla.pmel.noaa.gov:8080/erddap/rss/er...</td>\n",
       "      <td>http://krafla.pmel.noaa.gov:8080/erddap/subscr...</td>\n",
       "      <td>NOAA/PMEL - EcoFOCI</td>\n",
       "      <td>erddap_17ckitaem2a_prawler</td>\n",
       "    </tr>\n",
       "    <tr>\n",
       "      <th>42</th>\n",
       "      <td>NaN</td>\n",
       "      <td>http://krafla.pmel.noaa.gov:8080/erddap/tabled...</td>\n",
       "      <td>http://krafla.pmel.noaa.gov:8080/erddap/tabled...</td>\n",
       "      <td>http://krafla.pmel.noaa.gov:8080/erddap/tabled...</td>\n",
       "      <td>NaN</td>\n",
       "      <td>NaN</td>\n",
       "      <td>Underway data from OS1701L1.</td>\n",
       "      <td>Underway data from OS1701L1\\n\\ncdm_data_type =...</td>\n",
       "      <td>http://krafla.pmel.noaa.gov:8080/erddap/metada...</td>\n",
       "      <td>http://krafla.pmel.noaa.gov:8080/erddap/metada...</td>\n",
       "      <td>http://krafla.pmel.noaa.gov:8080/erddap/info/e...</td>\n",
       "      <td>https://www.ecofoci.noaa.gov/</td>\n",
       "      <td>http://krafla.pmel.noaa.gov:8080/erddap/rss/er...</td>\n",
       "      <td>http://krafla.pmel.noaa.gov:8080/erddap/subscr...</td>\n",
       "      <td>NOAA/PMEL - EcoFOCI</td>\n",
       "      <td>erddap_OS1701L1_underway</td>\n",
       "    </tr>\n",
       "  </tbody>\n",
       "</table>\n",
       "</div>"
      ],
      "text/plain": [
       "   griddap                                             Subset  \\\n",
       "0      NaN  http://krafla.pmel.noaa.gov:8080/erddap/tabled...   \n",
       "1      NaN  http://krafla.pmel.noaa.gov:8080/erddap/tabled...   \n",
       "36     NaN  http://krafla.pmel.noaa.gov:8080/erddap/tabled...   \n",
       "37     NaN  http://krafla.pmel.noaa.gov:8080/erddap/tabled...   \n",
       "38     NaN  http://krafla.pmel.noaa.gov:8080/erddap/tabled...   \n",
       "39     NaN  http://krafla.pmel.noaa.gov:8080/erddap/tabled...   \n",
       "42     NaN  http://krafla.pmel.noaa.gov:8080/erddap/tabled...   \n",
       "\n",
       "                                             tabledap  \\\n",
       "0   http://krafla.pmel.noaa.gov:8080/erddap/tabled...   \n",
       "1   http://krafla.pmel.noaa.gov:8080/erddap/tabled...   \n",
       "36  http://krafla.pmel.noaa.gov:8080/erddap/tabled...   \n",
       "37  http://krafla.pmel.noaa.gov:8080/erddap/tabled...   \n",
       "38  http://krafla.pmel.noaa.gov:8080/erddap/tabled...   \n",
       "39  http://krafla.pmel.noaa.gov:8080/erddap/tabled...   \n",
       "42  http://krafla.pmel.noaa.gov:8080/erddap/tabled...   \n",
       "\n",
       "                                         Make A Graph  wms  files  \\\n",
       "0   http://krafla.pmel.noaa.gov:8080/erddap/tabled...  NaN    NaN   \n",
       "1   http://krafla.pmel.noaa.gov:8080/erddap/tabled...  NaN    NaN   \n",
       "36  http://krafla.pmel.noaa.gov:8080/erddap/tabled...  NaN    NaN   \n",
       "37  http://krafla.pmel.noaa.gov:8080/erddap/tabled...  NaN    NaN   \n",
       "38  http://krafla.pmel.noaa.gov:8080/erddap/tabled...  NaN    NaN   \n",
       "39  http://krafla.pmel.noaa.gov:8080/erddap/tabled...  NaN    NaN   \n",
       "42  http://krafla.pmel.noaa.gov:8080/erddap/tabled...  NaN    NaN   \n",
       "\n",
       "                                                Title  \\\n",
       "0   * The List of All Active Datasets in this ERDD...   \n",
       "1                            Acrobat data from OS1701   \n",
       "36  Physical, chemical, and biological data collec...   \n",
       "37                  Prawler Deployment Data, 16BSITAE   \n",
       "38                 Prawler Deployment Data, 17BS-ITAE   \n",
       "39              Prawler Deployment Data, 17CKITAEM-2A   \n",
       "42                       Underway data from OS1701L1.   \n",
       "\n",
       "                                              Summary  \\\n",
       "0   This dataset is a table which has a row of inf...   \n",
       "1   Acrobat data from Barrow Canyon 1 - Cruise OS1...   \n",
       "36  Oculus Glider Test Deployment - Fall 2017\\n   ...   \n",
       "37  Prawler Deployment Data - 16BSITAE\\n\\ncdm_data...   \n",
       "38  Prawler Deployment Data - 17B-SITAE\\n\\ncdm_dat...   \n",
       "39  Prawler Deployment Data - 17CKITAEM-2A\\n\\ncdm_...   \n",
       "42  Underway data from OS1701L1\\n\\ncdm_data_type =...   \n",
       "\n",
       "                                                 FGDC  \\\n",
       "0                                                 NaN   \n",
       "1   http://krafla.pmel.noaa.gov:8080/erddap/metada...   \n",
       "36  http://krafla.pmel.noaa.gov:8080/erddap/metada...   \n",
       "37  http://krafla.pmel.noaa.gov:8080/erddap/metada...   \n",
       "38  http://krafla.pmel.noaa.gov:8080/erddap/metada...   \n",
       "39  http://krafla.pmel.noaa.gov:8080/erddap/metada...   \n",
       "42  http://krafla.pmel.noaa.gov:8080/erddap/metada...   \n",
       "\n",
       "                                            ISO 19115  \\\n",
       "0                                                 NaN   \n",
       "1   http://krafla.pmel.noaa.gov:8080/erddap/metada...   \n",
       "36  http://krafla.pmel.noaa.gov:8080/erddap/metada...   \n",
       "37  http://krafla.pmel.noaa.gov:8080/erddap/metada...   \n",
       "38  http://krafla.pmel.noaa.gov:8080/erddap/metada...   \n",
       "39  http://krafla.pmel.noaa.gov:8080/erddap/metada...   \n",
       "42  http://krafla.pmel.noaa.gov:8080/erddap/metada...   \n",
       "\n",
       "                                                 Info  \\\n",
       "0   http://krafla.pmel.noaa.gov:8080/erddap/info/a...   \n",
       "1   http://krafla.pmel.noaa.gov:8080/erddap/info/e...   \n",
       "36  http://krafla.pmel.noaa.gov:8080/erddap/info/s...   \n",
       "37  http://krafla.pmel.noaa.gov:8080/erddap/info/e...   \n",
       "38  http://krafla.pmel.noaa.gov:8080/erddap/info/e...   \n",
       "39  http://krafla.pmel.noaa.gov:8080/erddap/info/e...   \n",
       "42  http://krafla.pmel.noaa.gov:8080/erddap/info/e...   \n",
       "\n",
       "                                Background Info  \\\n",
       "0       http://krafla.pmel.noaa.gov:8080/erddap   \n",
       "1                 https://www.ecofoci.noaa.gov/   \n",
       "36  https://www.pmel.noaa.gov/itae/technologies   \n",
       "37  https://www.pmel.noaa.gov/itae/technologies   \n",
       "38  https://www.pmel.noaa.gov/itae/technologies   \n",
       "39  https://www.pmel.noaa.gov/itae/technologies   \n",
       "42                https://www.ecofoci.noaa.gov/   \n",
       "\n",
       "                                                  RSS  \\\n",
       "0                                                 NaN   \n",
       "1   http://krafla.pmel.noaa.gov:8080/erddap/rss/er...   \n",
       "36  http://krafla.pmel.noaa.gov:8080/erddap/rss/sg...   \n",
       "37  http://krafla.pmel.noaa.gov:8080/erddap/rss/er...   \n",
       "38  http://krafla.pmel.noaa.gov:8080/erddap/rss/er...   \n",
       "39  http://krafla.pmel.noaa.gov:8080/erddap/rss/er...   \n",
       "42  http://krafla.pmel.noaa.gov:8080/erddap/rss/er...   \n",
       "\n",
       "                                                Email          Institution  \\\n",
       "0                                                 NaN  NOAA/PMEL - EcoFOCI   \n",
       "1   http://krafla.pmel.noaa.gov:8080/erddap/subscr...  NOAA/PMEL - EcoFOCI   \n",
       "36  http://krafla.pmel.noaa.gov:8080/erddap/subscr...  NOAA/PMEL - EcoFOCI   \n",
       "37  http://krafla.pmel.noaa.gov:8080/erddap/subscr...  NOAA/PMEL - EcoFOCI   \n",
       "38  http://krafla.pmel.noaa.gov:8080/erddap/subscr...  NOAA/PMEL - EcoFOCI   \n",
       "39  http://krafla.pmel.noaa.gov:8080/erddap/subscr...  NOAA/PMEL - EcoFOCI   \n",
       "42  http://krafla.pmel.noaa.gov:8080/erddap/subscr...  NOAA/PMEL - EcoFOCI   \n",
       "\n",
       "                    Dataset ID  \n",
       "0                  allDatasets  \n",
       "1      erddap_OS1701L1_Acrobat  \n",
       "36        sg401_b9ae_ed68_1861  \n",
       "37       erddap_4fd3_fb30_b89f  \n",
       "38     erddap_17bsitae_prawler  \n",
       "39  erddap_17ckitaem2a_prawler  \n",
       "42    erddap_OS1701L1_underway  "
      ]
     },
     "execution_count": 5,
     "metadata": {},
     "output_type": "execute_result"
    }
   ],
   "source": [
    "gb = df.groupby(['Institution'])\n",
    "\n",
    "gb.get_group('NOAA/PMEL - EcoFOCI')"
   ]
  },
  {
   "cell_type": "markdown",
   "metadata": {},
   "source": [
    "### retrieving and plotting data"
   ]
  },
  {
   "cell_type": "code",
   "execution_count": 46,
   "metadata": {},
   "outputs": [],
   "source": [
    "constraints = {\n",
    "    'time>=': '2017-07-10T00:00:00Z',\n",
    "    'time<=': '2017-10-10T00:00:00Z',\n",
    "    'latitude>=': 45,\n",
    "    'latitude<=': 90,\n",
    "    'longitude>=': -180,\n",
    "    'longitude<=': -135,\n",
    "}\n",
    "\n",
    "variables = [\n",
    " 'Temperature',\n",
    "    \n",
    " 'latitude',\n",
    " 'longitude',\n",
    " 'depth',\n",
    " 'time',\n",
    "]\n",
    "\n",
    "d = ERDDAP(server=server_url,\n",
    "           protocol='tabledap',\n",
    "           response='csv',\n",
    "           dataset_id='erddap_OS1701L1_Acrobat',\n",
    "           variables=variables,\n",
    "           constraints=constraints\n",
    "          )"
   ]
  },
  {
   "cell_type": "code",
   "execution_count": 47,
   "metadata": {},
   "outputs": [
    {
     "data": {
      "text/plain": [
       "'http://krafla.pmel.noaa.gov:8080/erddap/tabledap/erddap_OS1701L1_Acrobat.csv?Temperature,latitude,longitude,depth,time&time>=1499644800.0&time<=1507593600.0&latitude>=45&latitude<=90&longitude>=-180&longitude<=-135'"
      ]
     },
     "execution_count": 47,
     "metadata": {},
     "output_type": "execute_result"
    }
   ],
   "source": [
    "d.get_download_url()"
   ]
  },
  {
   "cell_type": "code",
   "execution_count": 48,
   "metadata": {},
   "outputs": [
    {
     "data": {
      "text/html": [
       "<div>\n",
       "<style scoped>\n",
       "    .dataframe tbody tr th:only-of-type {\n",
       "        vertical-align: middle;\n",
       "    }\n",
       "\n",
       "    .dataframe tbody tr th {\n",
       "        vertical-align: top;\n",
       "    }\n",
       "\n",
       "    .dataframe thead th {\n",
       "        text-align: right;\n",
       "    }\n",
       "</style>\n",
       "<table border=\"1\" class=\"dataframe\">\n",
       "  <thead>\n",
       "    <tr style=\"text-align: right;\">\n",
       "      <th></th>\n",
       "      <th>Temperature</th>\n",
       "      <th>latitude</th>\n",
       "      <th>longitude</th>\n",
       "      <th>depth</th>\n",
       "    </tr>\n",
       "    <tr>\n",
       "      <th>time</th>\n",
       "      <th></th>\n",
       "      <th></th>\n",
       "      <th></th>\n",
       "      <th></th>\n",
       "    </tr>\n",
       "  </thead>\n",
       "  <tbody>\n",
       "    <tr>\n",
       "      <th>2017-08-16 23:36:34</th>\n",
       "      <td>5.081017</td>\n",
       "      <td>71.705908</td>\n",
       "      <td>-155.166135</td>\n",
       "      <td>-0.216976</td>\n",
       "    </tr>\n",
       "    <tr>\n",
       "      <th>2017-08-16 23:36:35</th>\n",
       "      <td>4.820485</td>\n",
       "      <td>71.705913</td>\n",
       "      <td>-155.166102</td>\n",
       "      <td>-0.225114</td>\n",
       "    </tr>\n",
       "    <tr>\n",
       "      <th>2017-08-16 23:36:36</th>\n",
       "      <td>4.731964</td>\n",
       "      <td>71.705920</td>\n",
       "      <td>-155.166062</td>\n",
       "      <td>-0.228364</td>\n",
       "    </tr>\n",
       "    <tr>\n",
       "      <th>2017-08-16 23:36:37</th>\n",
       "      <td>4.720262</td>\n",
       "      <td>71.705922</td>\n",
       "      <td>-155.166022</td>\n",
       "      <td>-0.228625</td>\n",
       "    </tr>\n",
       "    <tr>\n",
       "      <th>2017-08-16 23:36:38</th>\n",
       "      <td>4.708491</td>\n",
       "      <td>71.705925</td>\n",
       "      <td>-155.165987</td>\n",
       "      <td>-0.228182</td>\n",
       "    </tr>\n",
       "  </tbody>\n",
       "</table>\n",
       "</div>"
      ],
      "text/plain": [
       "                     Temperature   latitude   longitude     depth\n",
       "time                                                             \n",
       "2017-08-16 23:36:34     5.081017  71.705908 -155.166135 -0.216976\n",
       "2017-08-16 23:36:35     4.820485  71.705913 -155.166102 -0.225114\n",
       "2017-08-16 23:36:36     4.731964  71.705920 -155.166062 -0.228364\n",
       "2017-08-16 23:36:37     4.720262  71.705922 -155.166022 -0.228625\n",
       "2017-08-16 23:36:38     4.708491  71.705925 -155.165987 -0.228182"
      ]
     },
     "execution_count": 48,
     "metadata": {},
     "output_type": "execute_result"
    }
   ],
   "source": [
    "df = d.to_pandas(\n",
    "    index_col='time',\n",
    "    parse_dates=True,\n",
    "    skiprows=(1,)  # units information can be dropped.\n",
    ").dropna()\n",
    "\n",
    "df.head()"
   ]
  },
  {
   "cell_type": "code",
   "execution_count": 43,
   "metadata": {},
   "outputs": [],
   "source": [
    "#qc\n",
    "df['Temperature'][df['Temperature']>20]=np.nan"
   ]
  },
  {
   "cell_type": "code",
   "execution_count": 44,
   "metadata": {},
   "outputs": [
    {
     "data": {
      "image/png": "[encoded data removed]",
      "text/plain": [
       "<matplotlib.figure.Figure at 0x1240f7b70>"
      ]
     },
     "metadata": {},
     "output_type": "display_data"
    }
   ],
   "source": [
    "%matplotlib inline\n",
    "import matplotlib.pyplot as plt\n",
    "import matplotlib.dates as mdates\n",
    "\n",
    "fig, ax = plt.subplots(figsize=(17, 2))\n",
    "cs = ax.scatter(df.index, df['depth'], s=15, c=df['Temperature'], marker='o', edgecolor='none')\n",
    "\n",
    "ax.invert_yaxis()\n",
    "ax.set_xlim(df.index[0], df.index[-1])\n",
    "xfmt = mdates.DateFormatter('%H:%Mh\\n%d-%b')\n",
    "ax.xaxis.set_major_formatter(xfmt)\n",
    "\n",
    "cbar = fig.colorbar(cs, orientation='vertical', extend='both')\n",
    "cbar.ax.set_ylabel('Temperature ($^\\circ$C)')\n",
    "ax.set_ylabel('Depth (m)');"
   ]
  },
  {
   "cell_type": "code",
   "execution_count": 45,
   "metadata": {},
   "outputs": [
    {
     "data": {
      "text/plain": [
       "15.092404"
      ]
     },
     "execution_count": 45,
     "metadata": {},
     "output_type": "execute_result"
    }
   ],
   "source": [
    "df['Temperature'].max()"
   ]
  },
  {
   "cell_type": "code",
   "execution_count": 50,
   "metadata": {},
   "outputs": [
    {
     "ename": "KeyError",
     "evalue": "'Conductivity'",
     "output_type": "error",
     "traceback": [
      "\u001b[0;31m---------------------------------------------------------------------------\u001b[0m",
      "\u001b[0;31mKeyError\u001b[0m                                  Traceback (most recent call last)",
      "\u001b[0;32m~/anaconda2/envs/py36/lib/python3.6/site-packages/pandas/core/indexes/base.py\u001b[0m in \u001b[0;36mget_loc\u001b[0;34m(self, key, method, tolerance)\u001b[0m\n\u001b[1;32m   2524\u001b[0m             \u001b[0;32mtry\u001b[0m\u001b[0;34m:\u001b[0m\u001b[0;34m\u001b[0m\u001b[0m\n\u001b[0;32m-> 2525\u001b[0;31m                 \u001b[0;32mreturn\u001b[0m \u001b[0mself\u001b[0m\u001b[0;34m.\u001b[0m\u001b[0m_engine\u001b[0m\u001b[0;34m.\u001b[0m\u001b[0mget_loc\u001b[0m\u001b[0;34m(\u001b[0m\u001b[0mkey\u001b[0m\u001b[0;34m)\u001b[0m\u001b[0;34m\u001b[0m\u001b[0m\n\u001b[0m\u001b[1;32m   2526\u001b[0m             \u001b[0;32mexcept\u001b[0m \u001b[0mKeyError\u001b[0m\u001b[0;34m:\u001b[0m\u001b[0;34m\u001b[0m\u001b[0m\n",
      "\u001b[0;32mpandas/_libs/index.pyx\u001b[0m in \u001b[0;36mpandas._libs.index.IndexEngine.get_loc\u001b[0;34m()\u001b[0m\n",
      "\u001b[0;32mpandas/_libs/index.pyx\u001b[0m in \u001b[0;36mpandas._libs.index.IndexEngine.get_loc\u001b[0;34m()\u001b[0m\n",
      "\u001b[0;32mpandas/_libs/hashtable_class_helper.pxi\u001b[0m in \u001b[0;36mpandas._libs.hashtable.PyObjectHashTable.get_item\u001b[0;34m()\u001b[0m\n",
      "\u001b[0;32mpandas/_libs/hashtable_class_helper.pxi\u001b[0m in \u001b[0;36mpandas._libs.hashtable.PyObjectHashTable.get_item\u001b[0;34m()\u001b[0m\n",
      "\u001b[0;31mKeyError\u001b[0m: 'Conductivity'",
      "\nDuring handling of the above exception, another exception occurred:\n",
      "\u001b[0;31mKeyError\u001b[0m                                  Traceback (most recent call last)",
      "\u001b[0;32m<ipython-input-50-6c5a9bd1f5fa>\u001b[0m in \u001b[0;36m<module>\u001b[0;34m()\u001b[0m\n\u001b[1;32m      1\u001b[0m \u001b[0mfig\u001b[0m\u001b[0;34m,\u001b[0m \u001b[0max\u001b[0m \u001b[0;34m=\u001b[0m \u001b[0mplt\u001b[0m\u001b[0;34m.\u001b[0m\u001b[0msubplots\u001b[0m\u001b[0;34m(\u001b[0m\u001b[0mfigsize\u001b[0m\u001b[0;34m=\u001b[0m\u001b[0;34m(\u001b[0m\u001b[0;36m17\u001b[0m\u001b[0;34m,\u001b[0m \u001b[0;36m2\u001b[0m\u001b[0;34m)\u001b[0m\u001b[0;34m)\u001b[0m\u001b[0;34m\u001b[0m\u001b[0m\n\u001b[0;32m----> 2\u001b[0;31m \u001b[0mcs\u001b[0m \u001b[0;34m=\u001b[0m \u001b[0max\u001b[0m\u001b[0;34m.\u001b[0m\u001b[0mscatter\u001b[0m\u001b[0;34m(\u001b[0m\u001b[0mdf\u001b[0m\u001b[0;34m[\u001b[0m\u001b[0;34m'Temperature'\u001b[0m\u001b[0;34m]\u001b[0m\u001b[0;34m,\u001b[0m \u001b[0mdf\u001b[0m\u001b[0;34m[\u001b[0m\u001b[0;34m'Conductivity'\u001b[0m\u001b[0;34m]\u001b[0m\u001b[0;34m,\u001b[0m \u001b[0ms\u001b[0m\u001b[0;34m=\u001b[0m\u001b[0;36m15\u001b[0m\u001b[0;34m,\u001b[0m \u001b[0mc\u001b[0m\u001b[0;34m=\u001b[0m\u001b[0;34m'k'\u001b[0m\u001b[0;34m,\u001b[0m \u001b[0mmarker\u001b[0m\u001b[0;34m=\u001b[0m\u001b[0;34m'o'\u001b[0m\u001b[0;34m,\u001b[0m \u001b[0medgecolor\u001b[0m\u001b[0;34m=\u001b[0m\u001b[0;34m'none'\u001b[0m\u001b[0;34m)\u001b[0m\u001b[0;34m\u001b[0m\u001b[0m\n\u001b[0m",
      "\u001b[0;32m~/anaconda2/envs/py36/lib/python3.6/site-packages/pandas/core/frame.py\u001b[0m in \u001b[0;36m__getitem__\u001b[0;34m(self, key)\u001b[0m\n\u001b[1;32m   2137\u001b[0m             \u001b[0;32mreturn\u001b[0m \u001b[0mself\u001b[0m\u001b[0;34m.\u001b[0m\u001b[0m_getitem_multilevel\u001b[0m\u001b[0;34m(\u001b[0m\u001b[0mkey\u001b[0m\u001b[0;34m)\u001b[0m\u001b[0;34m\u001b[0m\u001b[0m\n\u001b[1;32m   2138\u001b[0m         \u001b[0;32melse\u001b[0m\u001b[0;34m:\u001b[0m\u001b[0;34m\u001b[0m\u001b[0m\n\u001b[0;32m-> 2139\u001b[0;31m             \u001b[0;32mreturn\u001b[0m \u001b[0mself\u001b[0m\u001b[0;34m.\u001b[0m\u001b[0m_getitem_column\u001b[0m\u001b[0;34m(\u001b[0m\u001b[0mkey\u001b[0m\u001b[0;34m)\u001b[0m\u001b[0;34m\u001b[0m\u001b[0m\n\u001b[0m\u001b[1;32m   2140\u001b[0m \u001b[0;34m\u001b[0m\u001b[0m\n\u001b[1;32m   2141\u001b[0m     \u001b[0;32mdef\u001b[0m \u001b[0m_getitem_column\u001b[0m\u001b[0;34m(\u001b[0m\u001b[0mself\u001b[0m\u001b[0;34m,\u001b[0m \u001b[0mkey\u001b[0m\u001b[0;34m)\u001b[0m\u001b[0;34m:\u001b[0m\u001b[0;34m\u001b[0m\u001b[0m\n",
      "\u001b[0;32m~/anaconda2/envs/py36/lib/python3.6/site-packages/pandas/core/frame.py\u001b[0m in \u001b[0;36m_getitem_column\u001b[0;34m(self, key)\u001b[0m\n\u001b[1;32m   2144\u001b[0m         \u001b[0;31m# get column\u001b[0m\u001b[0;34m\u001b[0m\u001b[0;34m\u001b[0m\u001b[0m\n\u001b[1;32m   2145\u001b[0m         \u001b[0;32mif\u001b[0m \u001b[0mself\u001b[0m\u001b[0;34m.\u001b[0m\u001b[0mcolumns\u001b[0m\u001b[0;34m.\u001b[0m\u001b[0mis_unique\u001b[0m\u001b[0;34m:\u001b[0m\u001b[0;34m\u001b[0m\u001b[0m\n\u001b[0;32m-> 2146\u001b[0;31m             \u001b[0;32mreturn\u001b[0m \u001b[0mself\u001b[0m\u001b[0;34m.\u001b[0m\u001b[0m_get_item_cache\u001b[0m\u001b[0;34m(\u001b[0m\u001b[0mkey\u001b[0m\u001b[0;34m)\u001b[0m\u001b[0;34m\u001b[0m\u001b[0m\n\u001b[0m\u001b[1;32m   2147\u001b[0m \u001b[0;34m\u001b[0m\u001b[0m\n\u001b[1;32m   2148\u001b[0m         \u001b[0;31m# duplicate columns & possible reduce dimensionality\u001b[0m\u001b[0;34m\u001b[0m\u001b[0;34m\u001b[0m\u001b[0m\n",
      "\u001b[0;32m~/anaconda2/envs/py36/lib/python3.6/site-packages/pandas/core/generic.py\u001b[0m in \u001b[0;36m_get_item_cache\u001b[0;34m(self, item)\u001b[0m\n\u001b[1;32m   1840\u001b[0m         \u001b[0mres\u001b[0m \u001b[0;34m=\u001b[0m \u001b[0mcache\u001b[0m\u001b[0;34m.\u001b[0m\u001b[0mget\u001b[0m\u001b[0;34m(\u001b[0m\u001b[0mitem\u001b[0m\u001b[0;34m)\u001b[0m\u001b[0;34m\u001b[0m\u001b[0m\n\u001b[1;32m   1841\u001b[0m         \u001b[0;32mif\u001b[0m \u001b[0mres\u001b[0m \u001b[0;32mis\u001b[0m \u001b[0;32mNone\u001b[0m\u001b[0;34m:\u001b[0m\u001b[0;34m\u001b[0m\u001b[0m\n\u001b[0;32m-> 1842\u001b[0;31m             \u001b[0mvalues\u001b[0m \u001b[0;34m=\u001b[0m \u001b[0mself\u001b[0m\u001b[0;34m.\u001b[0m\u001b[0m_data\u001b[0m\u001b[0;34m.\u001b[0m\u001b[0mget\u001b[0m\u001b[0;34m(\u001b[0m\u001b[0mitem\u001b[0m\u001b[0;34m)\u001b[0m\u001b[0;34m\u001b[0m\u001b[0m\n\u001b[0m\u001b[1;32m   1843\u001b[0m             \u001b[0mres\u001b[0m \u001b[0;34m=\u001b[0m \u001b[0mself\u001b[0m\u001b[0;34m.\u001b[0m\u001b[0m_box_item_values\u001b[0m\u001b[0;34m(\u001b[0m\u001b[0mitem\u001b[0m\u001b[0;34m,\u001b[0m \u001b[0mvalues\u001b[0m\u001b[0;34m)\u001b[0m\u001b[0;34m\u001b[0m\u001b[0m\n\u001b[1;32m   1844\u001b[0m             \u001b[0mcache\u001b[0m\u001b[0;34m[\u001b[0m\u001b[0mitem\u001b[0m\u001b[0;34m]\u001b[0m \u001b[0;34m=\u001b[0m \u001b[0mres\u001b[0m\u001b[0;34m\u001b[0m\u001b[0m\n",
      "\u001b[0;32m~/anaconda2/envs/py36/lib/python3.6/site-packages/pandas/core/internals.py\u001b[0m in \u001b[0;36mget\u001b[0;34m(self, item, fastpath)\u001b[0m\n\u001b[1;32m   3841\u001b[0m \u001b[0;34m\u001b[0m\u001b[0m\n\u001b[1;32m   3842\u001b[0m             \u001b[0;32mif\u001b[0m \u001b[0;32mnot\u001b[0m \u001b[0misna\u001b[0m\u001b[0;34m(\u001b[0m\u001b[0mitem\u001b[0m\u001b[0;34m)\u001b[0m\u001b[0;34m:\u001b[0m\u001b[0;34m\u001b[0m\u001b[0m\n\u001b[0;32m-> 3843\u001b[0;31m                 \u001b[0mloc\u001b[0m \u001b[0;34m=\u001b[0m \u001b[0mself\u001b[0m\u001b[0;34m.\u001b[0m\u001b[0mitems\u001b[0m\u001b[0;34m.\u001b[0m\u001b[0mget_loc\u001b[0m\u001b[0;34m(\u001b[0m\u001b[0mitem\u001b[0m\u001b[0;34m)\u001b[0m\u001b[0;34m\u001b[0m\u001b[0m\n\u001b[0m\u001b[1;32m   3844\u001b[0m             \u001b[0;32melse\u001b[0m\u001b[0;34m:\u001b[0m\u001b[0;34m\u001b[0m\u001b[0m\n\u001b[1;32m   3845\u001b[0m                 \u001b[0mindexer\u001b[0m \u001b[0;34m=\u001b[0m \u001b[0mnp\u001b[0m\u001b[0;34m.\u001b[0m\u001b[0marange\u001b[0m\u001b[0;34m(\u001b[0m\u001b[0mlen\u001b[0m\u001b[0;34m(\u001b[0m\u001b[0mself\u001b[0m\u001b[0;34m.\u001b[0m\u001b[0mitems\u001b[0m\u001b[0;34m)\u001b[0m\u001b[0;34m)\u001b[0m\u001b[0;34m[\u001b[0m\u001b[0misna\u001b[0m\u001b[0;34m(\u001b[0m\u001b[0mself\u001b[0m\u001b[0;34m.\u001b[0m\u001b[0mitems\u001b[0m\u001b[0;34m)\u001b[0m\u001b[0;34m]\u001b[0m\u001b[0;34m\u001b[0m\u001b[0m\n",
      "\u001b[0;32m~/anaconda2/envs/py36/lib/python3.6/site-packages/pandas/core/indexes/base.py\u001b[0m in \u001b[0;36mget_loc\u001b[0;34m(self, key, method, tolerance)\u001b[0m\n\u001b[1;32m   2525\u001b[0m                 \u001b[0;32mreturn\u001b[0m \u001b[0mself\u001b[0m\u001b[0;34m.\u001b[0m\u001b[0m_engine\u001b[0m\u001b[0;34m.\u001b[0m\u001b[0mget_loc\u001b[0m\u001b[0;34m(\u001b[0m\u001b[0mkey\u001b[0m\u001b[0;34m)\u001b[0m\u001b[0;34m\u001b[0m\u001b[0m\n\u001b[1;32m   2526\u001b[0m             \u001b[0;32mexcept\u001b[0m \u001b[0mKeyError\u001b[0m\u001b[0;34m:\u001b[0m\u001b[0;34m\u001b[0m\u001b[0m\n\u001b[0;32m-> 2527\u001b[0;31m                 \u001b[0;32mreturn\u001b[0m \u001b[0mself\u001b[0m\u001b[0;34m.\u001b[0m\u001b[0m_engine\u001b[0m\u001b[0;34m.\u001b[0m\u001b[0mget_loc\u001b[0m\u001b[0;34m(\u001b[0m\u001b[0mself\u001b[0m\u001b[0;34m.\u001b[0m\u001b[0m_maybe_cast_indexer\u001b[0m\u001b[0;34m(\u001b[0m\u001b[0mkey\u001b[0m\u001b[0;34m)\u001b[0m\u001b[0;34m)\u001b[0m\u001b[0;34m\u001b[0m\u001b[0m\n\u001b[0m\u001b[1;32m   2528\u001b[0m \u001b[0;34m\u001b[0m\u001b[0m\n\u001b[1;32m   2529\u001b[0m         \u001b[0mindexer\u001b[0m \u001b[0;34m=\u001b[0m \u001b[0mself\u001b[0m\u001b[0;34m.\u001b[0m\u001b[0mget_indexer\u001b[0m\u001b[0;34m(\u001b[0m\u001b[0;34m[\u001b[0m\u001b[0mkey\u001b[0m\u001b[0;34m]\u001b[0m\u001b[0;34m,\u001b[0m \u001b[0mmethod\u001b[0m\u001b[0;34m=\u001b[0m\u001b[0mmethod\u001b[0m\u001b[0;34m,\u001b[0m \u001b[0mtolerance\u001b[0m\u001b[0;34m=\u001b[0m\u001b[0mtolerance\u001b[0m\u001b[0;34m)\u001b[0m\u001b[0;34m\u001b[0m\u001b[0m\n",
      "\u001b[0;32mpandas/_libs/index.pyx\u001b[0m in \u001b[0;36mpandas._libs.index.IndexEngine.get_loc\u001b[0;34m()\u001b[0m\n",
      "\u001b[0;32mpandas/_libs/index.pyx\u001b[0m in \u001b[0;36mpandas._libs.index.IndexEngine.get_loc\u001b[0;34m()\u001b[0m\n",
      "\u001b[0;32mpandas/_libs/hashtable_class_helper.pxi\u001b[0m in \u001b[0;36mpandas._libs.hashtable.PyObjectHashTable.get_item\u001b[0;34m()\u001b[0m\n",
      "\u001b[0;32mpandas/_libs/hashtable_class_helper.pxi\u001b[0m in \u001b[0;36mpandas._libs.hashtable.PyObjectHashTable.get_item\u001b[0;34m()\u001b[0m\n",
      "\u001b[0;31mKeyError\u001b[0m: 'Conductivity'"
     ]
    },
    {
     "data": {
      "image/png": "[encoded data removed]",
      "text/plain": [
       "<matplotlib.figure.Figure at 0x1207a60b8>"
      ]
     },
     "metadata": {},
     "output_type": "display_data"
    }
   ],
   "source": [
    "fig, ax = plt.subplots(figsize=(17, 2))\n",
    "cs = ax.scatter(df['Temperature'], df['Conductivity'], s=15, c='k', marker='o', edgecolor='none')\n"
   ]
  },
  {
   "cell_type": "code",
   "execution_count": null,
   "metadata": {},
   "outputs": [],
   "source": []
  }
 ],
 "metadata": {
  "kernelspec": {
   "display_name": "Python 3",
   "language": "python",
   "name": "python3"
  },
  "language_info": {
   "codemirror_mode": {
    "name": "ipython",
    "version": 3
   },
   "file_extension": ".py",
   "mimetype": "text/x-python",
   "name": "python",
   "nbconvert_exporter": "python",
   "pygments_lexer": "ipython3",
   "version": "3.6.4"
  }
 },
 "nbformat": 4,
 "nbformat_minor": 2
}
