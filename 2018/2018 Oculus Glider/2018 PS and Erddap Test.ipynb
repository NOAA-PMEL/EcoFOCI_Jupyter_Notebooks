{
 "cells": [
  {
   "cell_type": "markdown",
   "metadata": {},
   "source": [
    "### ERDDAP 2018 Oculus Glider QuickLooks and Analysis\n",
    "\n",
    "#### Puget Sound Spring Test for SG403\n",
    "\n",
    "Glider Data is subsetted into various components to be hosted on ERDDAP due to mulitple time dimensions\n"
   ]
  },
  {
   "cell_type": "code",
   "execution_count": 1,
   "metadata": {},
   "outputs": [],
   "source": [
    "from erddapy import ERDDAP\n",
    "import pandas as pd\n",
    "import numpy as np\n",
    "import datetime\n",
    "\n",
    "server_url = 'http://downdraft.pmel.noaa.gov:8080/erddap'\n",
    "\n",
    "e = ERDDAP(server=server_url)"
   ]
  },
  {
   "cell_type": "code",
   "execution_count": 2,
   "metadata": {},
   "outputs": [],
   "source": [
    "df = pd.read_csv(e.get_search_url(response='csv', search_for='sg403'))"
   ]
  },
  {
   "cell_type": "markdown",
   "metadata": {},
   "source": [
    "The dataset is spread across multiple datasets in the erddap server so we need to join them all together"
   ]
  },
  {
   "cell_type": "code",
   "execution_count": 3,
   "metadata": {},
   "outputs": [
    {
     "name": "stdout",
     "output_type": "stream",
     "text": [
      "['sg403_PS_spring18' 'sg403_PS_spring18_aanderaa'\n",
      " 'sg403_PS_spring18_wetlabs']\n"
     ]
    }
   ],
   "source": [
    "sg403 = df['Dataset ID'].values\n",
    "print(sg403)"
   ]
  },
  {
   "cell_type": "code",
   "execution_count": 4,
   "metadata": {},
   "outputs": [
    {
     "name": "stdout",
     "output_type": "stream",
     "text": [
      "[['time', 'density', 'ctd_time', 'ctd_depth', 'latitude', 'longitude', 'salinity', 'temperature', 'eng_depth'], ['aa4330_temp', 'time', 'aanderaa4330_dissolved_oxygen', 'aa4330_airsat'], ['time']]\n",
      "[['profileid', 'NC_GLOBAL', 'pressure'], ['profileid_aand', 'NC_GLOBAL'], ['wlbb2fl_sig700nm_adjusted', 'wlbb2fl_temp', 'wlbb2fl_sig470nm_adjusted', 'wlbb2fl_sig695nm_adjusted', 'NC_GLOBAL', 'profileid_wetlabs']]\n"
     ]
    }
   ],
   "source": [
    "variables = [e.get_var_by_attr(dataset_id=sg, standard_name=lambda v: v is not None) for sg in sg403]\n",
    "print(variables)\n",
    "variables = [e.get_var_by_attr(dataset_id=sg, standard_name=lambda v: v is None) for sg in sg403]\n",
    "print(variables)"
   ]
  },
  {
   "cell_type": "code",
   "execution_count": 18,
   "metadata": {},
   "outputs": [
    {
     "data": {
      "text/plain": [
       "\"\\nvariables = {'sg403_PS_spring18_wetlabs':['wlbb2fl_sig695nm_adjusted',\\n             'wlbb2fl_sig470nm_adjusted', \\n             'wlbb2fl_sig700nm_adjusted', \\n             'wlbb2fl_temp',\\n             'profileid_wetlabs']}\\n\\nvariables = {'sg403_PS_spring18_aanderaa':['aanderaa4330_dissolved_oxygen',\\n             'aa4330_airsat',\\n             'aa4330_temp']}\""
      ]
     },
     "execution_count": 18,
     "metadata": {},
     "output_type": "execute_result"
    }
   ],
   "source": [
    "constraints = {\n",
    "    'time>=': '2018-01-01T00:00:00Z',\n",
    "    'time<=': str(datetime.datetime.today()),\n",
    "}\n",
    "\n",
    "variables = {'sg403_PS_spring18':['latitude', \n",
    "             'ctd_depth', \n",
    "             'longitude', \n",
    "             'ctd_time', \n",
    "             'eng_depth', \n",
    "             'salinity',\n",
    "             'density', \n",
    "             'time', \n",
    "             'temperature']}\n",
    "\"\"\"\n",
    "variables = {'sg403_PS_spring18_wetlabs':['wlbb2fl_sig695nm_adjusted',\n",
    "             'wlbb2fl_sig470nm_adjusted', \n",
    "             'wlbb2fl_sig700nm_adjusted', \n",
    "             'wlbb2fl_temp',\n",
    "             'profileid_wetlabs']}\n",
    "\n",
    "variables = {'sg403_PS_spring18_aanderaa':['aanderaa4330_dissolved_oxygen',\n",
    "             'aa4330_airsat',\n",
    "             'aa4330_temp']}\"\"\"\n",
    "\n"
   ]
  },
  {
   "cell_type": "code",
   "execution_count": 19,
   "metadata": {},
   "outputs": [],
   "source": [
    "d = ERDDAP(server=server_url,\n",
    "           protocol='tabledap',\n",
    "           response='csv'\n",
    "          )\n",
    "d.dataset_id='sg403_PS_spring18'\n",
    "d.variables=variables['sg403_PS_spring18']\n",
    "d.constraints=constraints\n",
    "\n",
    "download_url = d.get_download_url()"
   ]
  },
  {
   "cell_type": "code",
   "execution_count": 20,
   "metadata": {},
   "outputs": [
    {
     "data": {
      "text/plain": [
       "'133.45 MB'"
      ]
     },
     "execution_count": 20,
     "metadata": {},
     "output_type": "execute_result"
    }
   ],
   "source": [
    "import requests\n",
    "\n",
    "\n",
    "def humansize(nbytes):\n",
    "    suffixes = ['B', 'KB', 'MB', 'GB', 'TB', 'PB']\n",
    "    k = 0\n",
    "    while nbytes >= 1024 and k < len(suffixes)-1:\n",
    "        nbytes /= 1024.\n",
    "        k += 1\n",
    "    f = ('%.2f' % nbytes).rstrip('0').rstrip('.')\n",
    "    return '%s %s' % (f, suffixes[k])\n",
    "\n",
    "r = requests.head(download_url)\n",
    "nbytes = float(r.headers['Content-Length'])\n",
    "humansize(nbytes)"
   ]
  },
  {
   "cell_type": "code",
   "execution_count": null,
   "metadata": {},
   "outputs": [],
   "source": [
    "\n",
    "\n",
    "from requests.exceptions import HTTPError\n",
    "\n",
    "dfs = {}\n",
    "for index,row in df.iterrows():\n",
    "    if row['Dataset ID'] in sg403:\n",
    "        print(row['Dataset ID'])\n",
    "        try:\n",
    "            e = ERDDAP(server=server_url,\n",
    "                protocol='tabledap',\n",
    "                response='csv',\n",
    "            )\n",
    "            e.dataset_id=row['Dataset ID']\n",
    "            e.constraints=constraints\n",
    "            e.variables=variables[row['Dataset ID']]\n",
    "        except HTTPError:\n",
    "            print('Failed to generate url {}'.format(row['Dataset ID']))\n",
    "            continue\n",
    "        dfs.update({row['Dataset ID']: e.to_pandas(\n",
    "                                index_col='time',\n",
    "                                parse_dates=True,\n",
    "                                skiprows=(1,)  # units information can be dropped.\n",
    "                                )})\n",
    "    "
   ]
  },
  {
   "cell_type": "code",
   "execution_count": null,
   "metadata": {},
   "outputs": [],
   "source": []
  }
 ],
 "metadata": {
  "kernelspec": {
   "display_name": "Python [conda env:py36]",
   "language": "python",
   "name": "conda-env-py36-py"
  },
  "language_info": {
   "codemirror_mode": {
    "name": "ipython",
    "version": 3
   },
   "file_extension": ".py",
   "mimetype": "text/x-python",
   "name": "python",
   "nbconvert_exporter": "python",
   "pygments_lexer": "ipython3",
   "version": "3.6.5"
  }
 },
 "nbformat": 4,
 "nbformat_minor": 2
}
