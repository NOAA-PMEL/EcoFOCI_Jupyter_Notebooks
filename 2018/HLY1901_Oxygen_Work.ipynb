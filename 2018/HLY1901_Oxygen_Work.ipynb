{
 "cells": [
  {
   "cell_type": "markdown",
   "id": "fff3ca7c-7765-4e56-af2e-f040a8960c05",
   "metadata": {},
   "source": [
    "# HLY1901 Oxygen adjustment to bottle files"
   ]
  },
  {
   "cell_type": "code",
   "execution_count": 19,
   "id": "2e73dad7-1397-4a2a-afee-b432b03ab1c4",
   "metadata": {},
   "outputs": [],
   "source": [
    "import pandas as pd\n",
    "import seawater as sw"
   ]
  },
  {
   "cell_type": "code",
   "execution_count": 2,
   "id": "9d455914-e4a2-4f5b-88be-76333bd99dd1",
   "metadata": {},
   "outputs": [],
   "source": [
    "exfile = '/Users/bell/Desktop/he1901_merged_final.xlsx'"
   ]
  },
  {
   "cell_type": "code",
   "execution_count": 17,
   "id": "51d14a0c-90d8-469f-8e28-db2afc31afdd",
   "metadata": {},
   "outputs": [],
   "source": [
    "df = pd.read_excel(exfile,sheet_name=0,skiprows=31)"
   ]
  },
  {
   "cell_type": "code",
   "execution_count": 20,
   "id": "cc5faa7b-8767-44c9-badf-28bb284193d1",
   "metadata": {},
   "outputs": [
    {
     "data": {
      "text/html": [
       "<div>\n",
       "<style scoped>\n",
       "    .dataframe tbody tr th:only-of-type {\n",
       "        vertical-align: middle;\n",
       "    }\n",
       "\n",
       "    .dataframe tbody tr th {\n",
       "        vertical-align: top;\n",
       "    }\n",
       "\n",
       "    .dataframe thead th {\n",
       "        text-align: right;\n",
       "    }\n",
       "</style>\n",
       "<table border=\"1\" class=\"dataframe\">\n",
       "  <thead>\n",
       "    <tr style=\"text-align: right;\">\n",
       "      <th></th>\n",
       "      <th>Cruise</th>\n",
       "      <th>Cast</th>\n",
       "      <th>Latitude</th>\n",
       "      <th>Longitude</th>\n",
       "      <th>Date Time</th>\n",
       "      <th>P_4</th>\n",
       "      <th>S_42</th>\n",
       "      <th>S_41</th>\n",
       "      <th>Fch_906</th>\n",
       "      <th>T_28</th>\n",
       "      <th>...</th>\n",
       "      <th>PO4_186</th>\n",
       "      <th>NO2_184</th>\n",
       "      <th>NO3_182</th>\n",
       "      <th>NH4_189</th>\n",
       "      <th>Notes</th>\n",
       "      <th>Unnamed: 24</th>\n",
       "      <th>Unnamed: 25</th>\n",
       "      <th>Unnamed: 26</th>\n",
       "      <th>Unnamed: 27</th>\n",
       "      <th>Unnamed: 28</th>\n",
       "    </tr>\n",
       "  </thead>\n",
       "  <tbody>\n",
       "    <tr>\n",
       "      <th>1077</th>\n",
       "      <td>he2978</td>\n",
       "      <td>22</td>\n",
       "      <td>64.6718</td>\n",
       "      <td>-170.6460</td>\n",
       "      <td>2019-08-08 23:42:00</td>\n",
       "      <td>45</td>\n",
       "      <td>32.84407</td>\n",
       "      <td>32.84443</td>\n",
       "      <td>1.7017</td>\n",
       "      <td>2.2091</td>\n",
       "      <td>...</td>\n",
       "      <td>NaN</td>\n",
       "      <td>NaN</td>\n",
       "      <td>NaN</td>\n",
       "      <td>NaN</td>\n",
       "      <td>NaN</td>\n",
       "      <td>NaN</td>\n",
       "      <td>NaN</td>\n",
       "      <td>NaN</td>\n",
       "      <td>NaN</td>\n",
       "      <td>NaN</td>\n",
       "    </tr>\n",
       "    <tr>\n",
       "      <th>1669</th>\n",
       "      <td>he3570</td>\n",
       "      <td>35</td>\n",
       "      <td>71.0852</td>\n",
       "      <td>-161.2008</td>\n",
       "      <td>2019-08-11 10:41:00</td>\n",
       "      <td>33</td>\n",
       "      <td>32.16000</td>\n",
       "      <td>32.16018</td>\n",
       "      <td>3.4979</td>\n",
       "      <td>-1.3413</td>\n",
       "      <td>...</td>\n",
       "      <td>NaN</td>\n",
       "      <td>NaN</td>\n",
       "      <td>NaN</td>\n",
       "      <td>NaN</td>\n",
       "      <td>NaN</td>\n",
       "      <td>NaN</td>\n",
       "      <td>NaN</td>\n",
       "      <td>NaN</td>\n",
       "      <td>NaN</td>\n",
       "      <td>NaN</td>\n",
       "    </tr>\n",
       "    <tr>\n",
       "      <th>18864</th>\n",
       "      <td>he20765</td>\n",
       "      <td>106</td>\n",
       "      <td>72.3473</td>\n",
       "      <td>-155.6042</td>\n",
       "      <td>2019-08-19 12:47:00</td>\n",
       "      <td>238</td>\n",
       "      <td>34.71811</td>\n",
       "      <td>34.71966</td>\n",
       "      <td>0.4868</td>\n",
       "      <td>0.4584</td>\n",
       "      <td>...</td>\n",
       "      <td>NaN</td>\n",
       "      <td>NaN</td>\n",
       "      <td>NaN</td>\n",
       "      <td>NaN</td>\n",
       "      <td>NaN</td>\n",
       "      <td>NaN</td>\n",
       "      <td>NaN</td>\n",
       "      <td>NaN</td>\n",
       "      <td>NaN</td>\n",
       "      <td>NaN</td>\n",
       "    </tr>\n",
       "  </tbody>\n",
       "</table>\n",
       "<p>3 rows × 29 columns</p>\n",
       "</div>"
      ],
      "text/plain": [
       "        Cruise  Cast  Latitude  Longitude           Date Time  P_4      S_42  \\\n",
       "1077    he2978    22   64.6718  -170.6460 2019-08-08 23:42:00   45  32.84407   \n",
       "1669    he3570    35   71.0852  -161.2008 2019-08-11 10:41:00   33  32.16000   \n",
       "18864  he20765   106   72.3473  -155.6042 2019-08-19 12:47:00  238  34.71811   \n",
       "\n",
       "           S_41  Fch_906    T_28  ...  PO4_186  NO2_184  NO3_182  NH4_189  \\\n",
       "1077   32.84443   1.7017  2.2091  ...      NaN      NaN      NaN      NaN   \n",
       "1669   32.16018   3.4979 -1.3413  ...      NaN      NaN      NaN      NaN   \n",
       "18864  34.71966   0.4868  0.4584  ...      NaN      NaN      NaN      NaN   \n",
       "\n",
       "       Notes  Unnamed: 24  Unnamed: 25  Unnamed: 26  Unnamed: 27  Unnamed: 28  \n",
       "1077     NaN          NaN          NaN          NaN          NaN          NaN  \n",
       "1669     NaN          NaN          NaN          NaN          NaN          NaN  \n",
       "18864    NaN          NaN          NaN          NaN          NaN          NaN  \n",
       "\n",
       "[3 rows x 29 columns]"
      ]
     },
     "execution_count": 20,
     "metadata": {},
     "output_type": "execute_result"
    }
   ],
   "source": [
    "df.sample(3)"
   ]
  },
  {
   "cell_type": "code",
   "execution_count": 27,
   "id": "1c75a709-18a1-4c86-9a90-008b70d676a1",
   "metadata": {},
   "outputs": [],
   "source": [
    "df['ST_70']=sw.dens(s=df['S_41'],t=df['T_28'],p=df['P_4'])-1000\n",
    "df['ST_2070']=sw.dens(s=df['S_42'],t=df['T2_35'],p=df['P_4'])-1000"
   ]
  },
  {
   "cell_type": "code",
   "execution_count": 28,
   "id": "6fb1b56a-9868-44b1-a1a7-d5844e5831e6",
   "metadata": {},
   "outputs": [],
   "source": [
    "df[['ST_70','ST_2070']].to_csv('~/Desktop/temp.csv')"
   ]
  },
  {
   "cell_type": "code",
   "execution_count": null,
   "id": "e89685c3-daf0-4236-b098-a4a7a13118da",
   "metadata": {},
   "outputs": [],
   "source": []
  }
 ],
 "metadata": {
  "kernelspec": {
   "display_name": "Python [conda env:py38] *",
   "language": "python",
   "name": "conda-env-py38-py"
  },
  "language_info": {
   "codemirror_mode": {
    "name": "ipython",
    "version": 3
   },
   "file_extension": ".py",
   "mimetype": "text/x-python",
   "name": "python",
   "nbconvert_exporter": "python",
   "pygments_lexer": "ipython3",
   "version": "3.8.8"
  }
 },
 "nbformat": 4,
 "nbformat_minor": 5
}
