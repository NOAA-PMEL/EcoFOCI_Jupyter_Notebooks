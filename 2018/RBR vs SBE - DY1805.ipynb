{
 "cells": [
  {
   "cell_type": "markdown",
   "metadata": {},
   "source": [
    "### RBR vs SBE CTD Comparison on DY1805"
   ]
  },
  {
   "cell_type": "markdown",
   "metadata": {},
   "source": [
    "#### Cast 001\n",
    "**Location: ** M2-ish\n",
    "\n",
    "__Notes:__ Not a tremendous amount of gradients in this shallow cast.  Clock was not set appropriately so an offset had to be determined"
   ]
  },
  {
   "cell_type": "code",
   "execution_count": 40,
   "metadata": {},
   "outputs": [],
   "source": [
    "%matplotlib inline"
   ]
  },
  {
   "cell_type": "code",
   "execution_count": 41,
   "metadata": {},
   "outputs": [],
   "source": [
    "import pandas as pd\n",
    "import datetime\n",
    "\n",
    "import matplotlib.pyplot as plt\n",
    "from matplotlib.dates import DateFormatter"
   ]
  },
  {
   "cell_type": "code",
   "execution_count": 42,
   "metadata": {},
   "outputs": [
    {
     "ename": "FileNotFoundError",
     "evalue": "[Errno 2] No such file or directory: 'data/DY1805cast001.xlsx'",
     "output_type": "error",
     "traceback": [
      "\u001b[0;31m---------------------------------------------------------------------------\u001b[0m",
      "\u001b[0;31mFileNotFoundError\u001b[0m                         Traceback (most recent call last)",
      "\u001b[0;32m<ipython-input-42-a316358f5344>\u001b[0m in \u001b[0;36m<module>\u001b[0;34m()\u001b[0m\n\u001b[0;32m----> 1\u001b[0;31m \u001b[0mdf_rbr\u001b[0m \u001b[0;34m=\u001b[0m \u001b[0mpd\u001b[0m\u001b[0;34m.\u001b[0m\u001b[0mread_excel\u001b[0m\u001b[0;34m(\u001b[0m\u001b[0;34m'data/DY1805cast001.xlsx'\u001b[0m\u001b[0;34m,\u001b[0m\u001b[0;34m'Data'\u001b[0m\u001b[0;34m,\u001b[0m\u001b[0mskiprows\u001b[0m\u001b[0;34m=\u001b[0m\u001b[0;34m[\u001b[0m\u001b[0;36m0\u001b[0m\u001b[0;34m]\u001b[0m\u001b[0;34m,\u001b[0m\u001b[0mindex_col\u001b[0m\u001b[0;34m=\u001b[0m\u001b[0;34m'Time'\u001b[0m\u001b[0;34m)\u001b[0m\u001b[0;34m\u001b[0m\u001b[0m\n\u001b[0m\u001b[1;32m      2\u001b[0m \u001b[0mrbr_clock_offset\u001b[0m \u001b[0;34m=\u001b[0m \u001b[0mdatetime\u001b[0m\u001b[0;34m.\u001b[0m\u001b[0mtimedelta\u001b[0m\u001b[0;34m(\u001b[0m\u001b[0mseconds\u001b[0m\u001b[0;34m=\u001b[0m\u001b[0;34m(\u001b[0m\u001b[0;36m31557600\u001b[0m\u001b[0;34m*\u001b[0m\u001b[0;36m18\u001b[0m \u001b[0;34m+\u001b[0m \u001b[0;36m115\u001b[0m\u001b[0;34m*\u001b[0m\u001b[0;36m86400\u001b[0m \u001b[0;34m+\u001b[0m\u001b[0;36m4\u001b[0m \u001b[0;34m*\u001b[0m\u001b[0;36m3600\u001b[0m \u001b[0;34m+\u001b[0m \u001b[0;36m61\u001b[0m\u001b[0;34m)\u001b[0m\u001b[0;34m)\u001b[0m\u001b[0;34m\u001b[0m\u001b[0m\n\u001b[1;32m      3\u001b[0m \u001b[0mdf_rbr\u001b[0m\u001b[0;34m[\u001b[0m\u001b[0;34m'DateTime'\u001b[0m\u001b[0;34m]\u001b[0m\u001b[0;34m=\u001b[0m\u001b[0;34m[\u001b[0m\u001b[0mrbr_clock_offset\u001b[0m \u001b[0;34m+\u001b[0m \u001b[0mx\u001b[0m \u001b[0;32mfor\u001b[0m \u001b[0mx\u001b[0m\u001b[0;34m,\u001b[0m\u001b[0my\u001b[0m \u001b[0;32min\u001b[0m \u001b[0mdf_rbr\u001b[0m\u001b[0;34m.\u001b[0m\u001b[0miterrows\u001b[0m\u001b[0;34m(\u001b[0m\u001b[0;34m)\u001b[0m\u001b[0;34m]\u001b[0m\u001b[0;34m\u001b[0m\u001b[0m\n\u001b[1;32m      4\u001b[0m \u001b[0mdf_rbr\u001b[0m\u001b[0;34m.\u001b[0m\u001b[0mset_index\u001b[0m\u001b[0;34m(\u001b[0m\u001b[0mdf_rbr\u001b[0m\u001b[0;34m[\u001b[0m\u001b[0;34m'DateTime'\u001b[0m\u001b[0;34m]\u001b[0m\u001b[0;34m,\u001b[0m\u001b[0minplace\u001b[0m\u001b[0;34m=\u001b[0m\u001b[0;32mTrue\u001b[0m\u001b[0;34m)\u001b[0m\u001b[0;34m\u001b[0m\u001b[0m\n\u001b[1;32m      5\u001b[0m \u001b[0;34m\u001b[0m\u001b[0m\n",
      "\u001b[0;32m~/anaconda2/envs/py36/lib/python3.6/site-packages/pandas/util/_decorators.py\u001b[0m in \u001b[0;36mwrapper\u001b[0;34m(*args, **kwargs)\u001b[0m\n\u001b[1;32m    116\u001b[0m                 \u001b[0;32melse\u001b[0m\u001b[0;34m:\u001b[0m\u001b[0;34m\u001b[0m\u001b[0m\n\u001b[1;32m    117\u001b[0m                     \u001b[0mkwargs\u001b[0m\u001b[0;34m[\u001b[0m\u001b[0mnew_arg_name\u001b[0m\u001b[0;34m]\u001b[0m \u001b[0;34m=\u001b[0m \u001b[0mnew_arg_value\u001b[0m\u001b[0;34m\u001b[0m\u001b[0m\n\u001b[0;32m--> 118\u001b[0;31m             \u001b[0;32mreturn\u001b[0m \u001b[0mfunc\u001b[0m\u001b[0;34m(\u001b[0m\u001b[0;34m*\u001b[0m\u001b[0margs\u001b[0m\u001b[0;34m,\u001b[0m \u001b[0;34m**\u001b[0m\u001b[0mkwargs\u001b[0m\u001b[0;34m)\u001b[0m\u001b[0;34m\u001b[0m\u001b[0m\n\u001b[0m\u001b[1;32m    119\u001b[0m         \u001b[0;32mreturn\u001b[0m \u001b[0mwrapper\u001b[0m\u001b[0;34m\u001b[0m\u001b[0m\n\u001b[1;32m    120\u001b[0m     \u001b[0;32mreturn\u001b[0m \u001b[0m_deprecate_kwarg\u001b[0m\u001b[0;34m\u001b[0m\u001b[0m\n",
      "\u001b[0;32m~/anaconda2/envs/py36/lib/python3.6/site-packages/pandas/io/excel.py\u001b[0m in \u001b[0;36mread_excel\u001b[0;34m(io, sheet_name, header, skiprows, skip_footer, index_col, names, usecols, parse_dates, date_parser, na_values, thousands, convert_float, converters, dtype, true_values, false_values, engine, squeeze, **kwds)\u001b[0m\n\u001b[1;32m    228\u001b[0m \u001b[0;34m\u001b[0m\u001b[0m\n\u001b[1;32m    229\u001b[0m     \u001b[0;32mif\u001b[0m \u001b[0;32mnot\u001b[0m \u001b[0misinstance\u001b[0m\u001b[0;34m(\u001b[0m\u001b[0mio\u001b[0m\u001b[0;34m,\u001b[0m \u001b[0mExcelFile\u001b[0m\u001b[0;34m)\u001b[0m\u001b[0;34m:\u001b[0m\u001b[0;34m\u001b[0m\u001b[0m\n\u001b[0;32m--> 230\u001b[0;31m         \u001b[0mio\u001b[0m \u001b[0;34m=\u001b[0m \u001b[0mExcelFile\u001b[0m\u001b[0;34m(\u001b[0m\u001b[0mio\u001b[0m\u001b[0;34m,\u001b[0m \u001b[0mengine\u001b[0m\u001b[0;34m=\u001b[0m\u001b[0mengine\u001b[0m\u001b[0;34m)\u001b[0m\u001b[0;34m\u001b[0m\u001b[0m\n\u001b[0m\u001b[1;32m    231\u001b[0m \u001b[0;34m\u001b[0m\u001b[0m\n\u001b[1;32m    232\u001b[0m     return io._parse_excel(\n",
      "\u001b[0;32m~/anaconda2/envs/py36/lib/python3.6/site-packages/pandas/io/excel.py\u001b[0m in \u001b[0;36m__init__\u001b[0;34m(self, io, **kwds)\u001b[0m\n\u001b[1;32m    292\u001b[0m             \u001b[0mself\u001b[0m\u001b[0;34m.\u001b[0m\u001b[0mbook\u001b[0m \u001b[0;34m=\u001b[0m \u001b[0mxlrd\u001b[0m\u001b[0;34m.\u001b[0m\u001b[0mopen_workbook\u001b[0m\u001b[0;34m(\u001b[0m\u001b[0mfile_contents\u001b[0m\u001b[0;34m=\u001b[0m\u001b[0mdata\u001b[0m\u001b[0;34m)\u001b[0m\u001b[0;34m\u001b[0m\u001b[0m\n\u001b[1;32m    293\u001b[0m         \u001b[0;32melif\u001b[0m \u001b[0misinstance\u001b[0m\u001b[0;34m(\u001b[0m\u001b[0mself\u001b[0m\u001b[0;34m.\u001b[0m\u001b[0m_io\u001b[0m\u001b[0;34m,\u001b[0m \u001b[0mcompat\u001b[0m\u001b[0;34m.\u001b[0m\u001b[0mstring_types\u001b[0m\u001b[0;34m)\u001b[0m\u001b[0;34m:\u001b[0m\u001b[0;34m\u001b[0m\u001b[0m\n\u001b[0;32m--> 294\u001b[0;31m             \u001b[0mself\u001b[0m\u001b[0;34m.\u001b[0m\u001b[0mbook\u001b[0m \u001b[0;34m=\u001b[0m \u001b[0mxlrd\u001b[0m\u001b[0;34m.\u001b[0m\u001b[0mopen_workbook\u001b[0m\u001b[0;34m(\u001b[0m\u001b[0mself\u001b[0m\u001b[0;34m.\u001b[0m\u001b[0m_io\u001b[0m\u001b[0;34m)\u001b[0m\u001b[0;34m\u001b[0m\u001b[0m\n\u001b[0m\u001b[1;32m    295\u001b[0m         \u001b[0;32melse\u001b[0m\u001b[0;34m:\u001b[0m\u001b[0;34m\u001b[0m\u001b[0m\n\u001b[1;32m    296\u001b[0m             raise ValueError('Must explicitly set engine if not passing in'\n",
      "\u001b[0;32m~/anaconda2/envs/py36/lib/python3.6/site-packages/xlrd/__init__.py\u001b[0m in \u001b[0;36mopen_workbook\u001b[0;34m(filename, logfile, verbosity, use_mmap, file_contents, encoding_override, formatting_info, on_demand, ragged_rows)\u001b[0m\n\u001b[1;32m    114\u001b[0m         \u001b[0mpeek\u001b[0m \u001b[0;34m=\u001b[0m \u001b[0mfile_contents\u001b[0m\u001b[0;34m[\u001b[0m\u001b[0;34m:\u001b[0m\u001b[0mpeeksz\u001b[0m\u001b[0;34m]\u001b[0m\u001b[0;34m\u001b[0m\u001b[0m\n\u001b[1;32m    115\u001b[0m     \u001b[0;32melse\u001b[0m\u001b[0;34m:\u001b[0m\u001b[0;34m\u001b[0m\u001b[0m\n\u001b[0;32m--> 116\u001b[0;31m         \u001b[0;32mwith\u001b[0m \u001b[0mopen\u001b[0m\u001b[0;34m(\u001b[0m\u001b[0mfilename\u001b[0m\u001b[0;34m,\u001b[0m \u001b[0;34m\"rb\"\u001b[0m\u001b[0;34m)\u001b[0m \u001b[0;32mas\u001b[0m \u001b[0mf\u001b[0m\u001b[0;34m:\u001b[0m\u001b[0;34m\u001b[0m\u001b[0m\n\u001b[0m\u001b[1;32m    117\u001b[0m             \u001b[0mpeek\u001b[0m \u001b[0;34m=\u001b[0m \u001b[0mf\u001b[0m\u001b[0;34m.\u001b[0m\u001b[0mread\u001b[0m\u001b[0;34m(\u001b[0m\u001b[0mpeeksz\u001b[0m\u001b[0;34m)\u001b[0m\u001b[0;34m\u001b[0m\u001b[0m\n\u001b[1;32m    118\u001b[0m     \u001b[0;32mif\u001b[0m \u001b[0mpeek\u001b[0m \u001b[0;34m==\u001b[0m \u001b[0;34mb\"PK\\x03\\x04\"\u001b[0m\u001b[0;34m:\u001b[0m \u001b[0;31m# a ZIP file\u001b[0m\u001b[0;34m\u001b[0m\u001b[0m\n",
      "\u001b[0;31mFileNotFoundError\u001b[0m: [Errno 2] No such file or directory: 'data/DY1805cast001.xlsx'"
     ]
    }
   ],
   "source": [
    "df_rbr = pd.read_excel('data/DY1805cast001.xlsx','Data',skiprows=[0],index_col='Time')\n",
    "rbr_clock_offset = datetime.timedelta(seconds=(31557600*18 + 115*86400 +4 *3600 + 61))\n",
    "df_rbr['DateTime']=[rbr_clock_offset + x for x,y in df_rbr.iterrows()]\n",
    "df_rbr.set_index(df_rbr['DateTime'],inplace=True)\n",
    "\n",
    "colnames = ['c0mS/cm','c1mS/cm','flECO-AFL','sbeox0V','sal00','sal11','t090C','t190C','timeS','prDM','sbeox1V','par','turbWETntu0','flag']\n",
    "df_sbe = pd.read_csv('data/CTD001tm.cnv',skiprows=309,names=colnames,delimiter='\\s+')\n",
    "\n",
    "df_sbe['DateTime']=[datetime.datetime.strptime('Apr 30 2018 19:11:53','%b %d %Y %H:%M:%S')+datetime.timedelta(seconds=y['timeS']) for x,y in df_sbe.iterrows()]\n",
    "df_sbe.set_index(df_sbe['DateTime'],inplace=True)"
   ]
  },
  {
   "cell_type": "code",
   "execution_count": null,
   "metadata": {},
   "outputs": [],
   "source": [
    "fig1 = plt.figure(figsize=(12,6))\n",
    "plt.subplot(3,1,1)\n",
    "df_sbe['t090C'].plot()\n",
    "df_sbe['t190C'].plot()\n",
    "df_rbr['Temperature'].plot()\n",
    "#plt.xlim([datetime.datetime(2018,5,1,7,50),datetime.datetime(2018,5,1,8,15)])\n",
    "plt.ylim([3.3,3.9])\n",
    "ax=plt.gca()\n",
    "ax.xaxis.set_major_formatter(DateFormatter(''))\n",
    "plt.xlabel('')\n",
    "\n",
    "plt.subplot(3,1,2)\n",
    "df_sbe['sal00'].plot()\n",
    "df_sbe['sal11'].plot()\n",
    "df_rbr['Salinity'].plot()\n",
    "#plt.xlim([datetime.datetime(2018,5,1,7,50),datetime.datetime(2018,5,1,8,15)])\n",
    "plt.ylim([32.05,32.12])\n",
    "ax=plt.gca()\n",
    "ax.xaxis.set_major_formatter(DateFormatter(''))\n",
    "plt.xlabel('')\n",
    "\n",
    "plt.subplot(3,1,3)\n",
    "df_sbe['prDM'].plot()\n",
    "df_sbe['prDM'].plot()\n",
    "df_rbr['Sea pressure'].plot()\n",
    "#plt.xlim([datetime.datetime(2018,5,1,7,50),datetime.datetime(2018,5,1,8,15)])\n",
    "ax=plt.gca()\n",
    "ax.xaxis.set_major_formatter(DateFormatter('%H:%M:%S'))\n",
    "plt.xlabel('')"
   ]
  },
  {
   "cell_type": "markdown",
   "metadata": {},
   "source": [
    "For the above figure, Top plot is Temperature, Middle is Salinity, Bottom is Depth.  The RBR is plotted in Green and the two sbe sensors are plotted in blue/orange.  Both the temperature and depth visually look good.  The conductivity has a small (0.005) offset between the three instruments but more significant is the decay signal in the RBR at the onset.  "
   ]
  },
  {
   "cell_type": "code",
   "execution_count": null,
   "metadata": {},
   "outputs": [],
   "source": [
    "fig1 = plt.figure(figsize=(12,6))\n",
    "plt.subplot(3,1,1)\n",
    "df_sbe['t090C'].plot()\n",
    "df_sbe['t190C'].plot()\n",
    "df_rbr['Temperature.1'].plot()\n",
    "#plt.xlim([datetime.datetime(2018,5,1,7,50),datetime.datetime(2018,5,1,8,15)])\n",
    "plt.ylim([3,5.5])\n",
    "ax=plt.gca()\n",
    "ax.xaxis.set_major_formatter(DateFormatter(''))\n",
    "plt.xlabel('')\n",
    "\n",
    "plt.subplot(3,1,2)\n",
    "df_sbe['c0mS/cm'].plot()\n",
    "df_sbe['c1mS/cm'].plot()\n",
    "df_rbr['Conductivity'].plot()\n",
    "#plt.xlim([datetime.datetime(2018,5,1,7,50),datetime.datetime(2018,5,1,8,15)])\n",
    "plt.ylim([29.6,29.9])\n",
    "ax=plt.gca()\n",
    "ax.xaxis.set_major_formatter(DateFormatter(''))\n",
    "plt.xlabel('')\n",
    "\n",
    "plt.subplot(3,1,3)\n",
    "df_sbe['sal00'].plot()\n",
    "df_sbe['sal11'].plot()\n",
    "df_rbr['Salinity'].plot()\n",
    "#plt.xlim([datetime.datetime(2018,5,1,7,50),datetime.datetime(2018,5,1,8,15)])\n",
    "plt.ylim([32.05,32.12])\n",
    "ax=plt.gca()\n",
    "ax.xaxis.set_major_formatter(DateFormatter('%H:%M:%S'))\n",
    "plt.xlabel('')"
   ]
  },
  {
   "cell_type": "markdown",
   "metadata": {},
   "source": [
    "Exploring the sensors more explicitly, the secondary temperature probe (that is in the conductivity housing) is plotted over the actual temperature.  The conductivity is plotted in the middle plot and the salinity is again provided at the bottom.  Differences are very small in salinity but the decay signal does appear to be in the same region that the temperature of the conductivity cell is rapidly changing.  More analysis is needed"
   ]
  },
  {
   "cell_type": "markdown",
   "metadata": {},
   "source": [
    "#### Cast 052\n",
    "**Location: ** Unimak Box\n",
    "\n",
    "__Notes:__ \n",
    "__Programming Notes:__ .rsk file is a SQLite3 file and it appears that all conductivity-temperature corrections are done prior to recording conductivity values.  Can read straight from file instead of converting with RBR software\n",
    "\n",
    "__Processing Notes:__ .hex seabird files are converted to .cnv files and only the thermal correction (built in T/S offset) are performed.  .rsk files are not adjusted at all, but the salinity is calculated from the Temp/Cond/Press values as it is not in the raw data file."
   ]
  },
  {
   "cell_type": "code",
   "execution_count": null,
   "metadata": {},
   "outputs": [],
   "source": [
    "import sqlite3\n",
    "import seawater"
   ]
  },
  {
   "cell_type": "code",
   "execution_count": null,
   "metadata": {},
   "outputs": [],
   "source": [
    "data_file = 'data/DY1805cast052.rsk'\n",
    "db = sqlite3.connect(data_file)\n",
    "\n",
    "query = 'SELECT * FROM channels'\n",
    "columns = pd.read_sql_query(query,db)"
   ]
  },
  {
   "cell_type": "code",
   "execution_count": null,
   "metadata": {},
   "outputs": [],
   "source": [
    "query = 'SELECT * FROM data'\n",
    "\n",
    "df_r = pd.read_sql_query(query,db)"
   ]
  },
  {
   "cell_type": "code",
   "execution_count": null,
   "metadata": {},
   "outputs": [],
   "source": [
    "#time in rbr file is msec since 1970-1-1\n",
    "import cftime #replaces import from netCDF4 date2num\n",
    "df_r['cfdatetime'] = cftime.num2date(df_r['tstamp'],'milliseconds since 1970-1-1') - datetime.timedelta(hours=1) - datetime.timedelta(seconds=7)\n",
    "df_r.set_index(df_r['cfdatetime'],inplace=True)"
   ]
  },
  {
   "cell_type": "code",
   "execution_count": null,
   "metadata": {},
   "outputs": [],
   "source": [
    "#Using TEOS-10 calculations for salinity from conductivity, temperature, pressure\n",
    "df_r['conductivity'] = df_r.channel01\n",
    "df_r['temperature'] = df_r.channel02\n",
    "df_r['pressure'] = df_r.channel03 - 10.6 #subtract standard atmosphere\n",
    "\n",
    "df_r['salinity'] = seawater.salt(r=df_r['conductivity']/42.914,t=df_r['temperature'],p=df_r['pressure'])"
   ]
  },
  {
   "cell_type": "code",
   "execution_count": null,
   "metadata": {},
   "outputs": [],
   "source": [
    "colnames = ['c0mS/cm','c1mS/cm','flECO-AFL','sbeox0V','sal00','sal11','t090C','t190C','timeS','prDM','sbeox1V','par','turbWETntu0','flag']\n",
    "df_sbe = pd.read_csv('data/CTD052tm.cnv',skiprows=309,names=colnames,delimiter='\\s+')\n",
    "\n",
    "#start_time\n",
    "df_sbe['DateTime']=[datetime.datetime.strptime('May 10 2018 01:40:59','%b %d %Y %H:%M:%S')+datetime.timedelta(seconds=y['timeS']) for x,y in df_sbe.iterrows()]\n",
    "df_sbe.set_index(df_sbe['DateTime'],inplace=True)"
   ]
  },
  {
   "cell_type": "markdown",
   "metadata": {},
   "source": [
    "***There is an hour discrepency between the two instruments (RBR and SBE) - with the SBE being an hour behind the RBR.  CastLogs will clear this up definatively but it's likely the RBR was set an hour fast*** The correction is in the step above where the RBR time is converted.\n",
    "\n",
    "Also there appears to be a seven second offset between the actual RBR time (minus the one hour error).\n",
    "\n",
    "**Goal is to match up features in the profiles both in depth and in time**.  \n",
    "Now - if you compare this to depth profiles below: there is a half meter difference in features.  This is not due to the clock, this is due to the removal of the weight of the atmosphere by assuming a standard atmsophere 10.1325.  I've pulled deck data from earlier in the timeseries to use as the atmsopheric pressure - 9.919 dBar - however, to compare to the SBE - one would need to know what atmospheric pressure they removed.  In this case the total ATM pressure correction to the RBR to match features is ~10.6 (based on just making manual adjustments).  ___RBR has a pressure corrected field in their output.  Should see how they determine the value___\n",
    "\n",
    "Additional factor may be slight deviation in sighting/location of instrumentation (aka a small lag due to vertical differences although G.L. did his best to minimize this)"
   ]
  },
  {
   "cell_type": "code",
   "execution_count": null,
   "metadata": {},
   "outputs": [],
   "source": [
    "fig1 = plt.figure(figsize=(12,6))\n",
    "plt.subplot(3,1,1)\n",
    "df_sbe['t090C'].plot()\n",
    "df_sbe['t190C'].plot()\n",
    "df_r['temperature'].plot()\n",
    "#plt.xlim([datetime.datetime(2018,5,1,7,50),datetime.datetime(2018,5,1,8,15)])\n",
    "#plt.ylim([3.3,3.9])\n",
    "ax=plt.gca()\n",
    "ax.xaxis.set_major_formatter(DateFormatter(''))\n",
    "plt.xlabel('')\n",
    "\n",
    "plt.subplot(3,1,2)\n",
    "df_sbe['sal00'].plot()\n",
    "df_sbe['sal11'].plot()\n",
    "df_r['salinity'].plot()\n",
    "#plt.xlim([datetime.datetime(2018,5,1,7,50),datetime.datetime(2018,5,1,8,15)])\n",
    "#plt.ylim([32.05,32.12])\n",
    "ax=plt.gca()\n",
    "ax.xaxis.set_major_formatter(DateFormatter(''))\n",
    "plt.xlabel('')\n",
    "\n",
    "plt.subplot(3,1,3)\n",
    "df_sbe['prDM'].plot()\n",
    "df_sbe['prDM'].plot()\n",
    "df_r['pressure'].plot()\n",
    "#plt.xlim([datetime.datetime(2018,5,10,2,16,30),datetime.datetime(2018,5,10,2,16,50)])\n",
    "#plt.ylim([100,110])\n",
    "ax=plt.gca()\n",
    "ax.xaxis.set_major_formatter(DateFormatter('%H:%M:%S'))\n",
    "plt.xlabel('')"
   ]
  },
  {
   "cell_type": "code",
   "execution_count": null,
   "metadata": {},
   "outputs": [],
   "source": [
    "fig1 = plt.figure(figsize=(12,6))\n",
    "plt.subplot(3,1,1)\n",
    "df_sbe['t090C'].plot()\n",
    "df_sbe['t190C'].plot()\n",
    "df_r['channel09'].plot()\n",
    "plt.xlim([datetime.datetime(2018,5,10,1,50),datetime.datetime(2018,5,10,2,10)])\n",
    "#plt.ylim([3,5.5])\n",
    "ax=plt.gca()\n",
    "ax.xaxis.set_major_formatter(DateFormatter(''))\n",
    "plt.xlabel('')\n",
    "\n",
    "plt.subplot(3,1,2)\n",
    "df_sbe['c0mS/cm'].plot()\n",
    "df_sbe['c1mS/cm'].plot()\n",
    "df_r['conductivity'].plot()\n",
    "plt.xlim([datetime.datetime(2018,5,10,1,50),datetime.datetime(2018,5,10,2,10)])\n",
    "plt.ylim([30.9,32])\n",
    "ax=plt.gca()\n",
    "ax.xaxis.set_major_formatter(DateFormatter(''))\n",
    "plt.xlabel('')\n",
    "\n",
    "plt.subplot(3,1,3)\n",
    "df_sbe['sal00'].plot()\n",
    "df_sbe['sal11'].plot()\n",
    "df_r['salinity'].plot()\n",
    "plt.xlim([datetime.datetime(2018,5,10,1,50),datetime.datetime(2018,5,10,2,10)])\n",
    "plt.ylim([32,34.5])\n",
    "ax=plt.gca()\n",
    "ax.xaxis.set_major_formatter(DateFormatter('%H:%M:%S'))\n",
    "plt.xlabel('')"
   ]
  },
  {
   "cell_type": "code",
   "execution_count": null,
   "metadata": {},
   "outputs": [],
   "source": [
    "start_time = '2018-05-10 01:42:00'\n",
    "end_time = '2018-05-10 02:00:00'\n",
    "\n",
    "fig1 = plt.figure(figsize=(12,6))\n",
    "ax =plt.subplot(1,3,1)\n",
    "plt.plot(df_sbe['t090C'][start_time:end_time],df_sbe['prDM'][start_time:end_time])\n",
    "plt.plot(df_r['temperature'][start_time:end_time],df_r['pressure'][start_time:end_time])\n",
    "ax.invert_yaxis()\n",
    "plt.ylabel('Depth')\n",
    "\n",
    "end_time = '2018-05-10 01:44:00'\n",
    "ax =plt.subplot(1,3,2)\n",
    "plt.plot(df_sbe['t090C'][start_time:end_time],df_sbe['prDM'][start_time:end_time])\n",
    "plt.plot(df_r['temperature'][start_time:end_time],df_r['pressure'][start_time:end_time])\n",
    "ax.invert_yaxis()\n",
    "plt.xlabel('SBE Temperature (blue) - RBR Temperature (orange): raw data')\n",
    "\n",
    "end_time = '2018-05-10 01:42:30'\n",
    "ax =plt.subplot(1,3,3)\n",
    "plt.plot(df_sbe['t090C'][start_time:end_time],df_sbe['prDM'][start_time:end_time])\n",
    "plt.plot(df_r['temperature'][start_time:end_time],df_r['pressure'][start_time:end_time])\n",
    "ax.invert_yaxis()"
   ]
  },
  {
   "cell_type": "markdown",
   "metadata": {},
   "source": [
    "##### 1sec averages\n",
    "\n",
    "Now lets sample to a comparable scale... 1s data will allow a direct comparison (although we usually use 1m/1dbar bins)\n",
    "\n",
    "No additional qc has been done to the datasets"
   ]
  },
  {
   "cell_type": "code",
   "execution_count": null,
   "metadata": {},
   "outputs": [],
   "source": [
    "df_rsec = df_r.resample('1s').mean()\n",
    "df_sbesec = df_sbe.resample('1s').mean()"
   ]
  },
  {
   "cell_type": "code",
   "execution_count": null,
   "metadata": {},
   "outputs": [],
   "source": [
    "start_time = '2018-05-10 01:42:00'\n",
    "end_time = '2018-05-10 02:00:00'\n",
    "\n",
    "fig1 = plt.figure(figsize=(12,6))\n",
    "ax =plt.subplot(1,3,1)\n",
    "plt.plot(df_sbesec['t090C'][start_time:end_time],df_sbesec['prDM'][start_time:end_time])\n",
    "plt.plot(df_rsec['temperature'][start_time:end_time],df_rsec['pressure'][start_time:end_time])\n",
    "ax.invert_yaxis()\n",
    "plt.ylabel('Depth')\n",
    "\n",
    "end_time = '2018-05-10 01:44:00'\n",
    "ax =plt.subplot(1,3,2)\n",
    "plt.plot(df_sbesec['t090C'][start_time:end_time],df_sbesec['prDM'][start_time:end_time])\n",
    "plt.plot(df_rsec['temperature'][start_time:end_time],df_rsec['pressure'][start_time:end_time])\n",
    "ax.invert_yaxis()\n",
    "plt.xlabel('SBE Temperature (blue) - RBR Temperature (orange): 1sec ave')\n",
    "\n",
    "end_time = '2018-05-10 01:42:30'\n",
    "ax =plt.subplot(1,3,3)\n",
    "plt.plot(df_sbesec['t090C'][start_time:end_time],df_sbesec['prDM'][start_time:end_time])\n",
    "plt.plot(df_rsec['temperature'][start_time:end_time],df_rsec['pressure'][start_time:end_time])\n",
    "ax.invert_yaxis()"
   ]
  },
  {
   "cell_type": "code",
   "execution_count": null,
   "metadata": {},
   "outputs": [],
   "source": [
    "##### 1sec averages - Difference between SBE-RBR\n"
   ]
  },
  {
   "cell_type": "code",
   "execution_count": null,
   "metadata": {},
   "outputs": [],
   "source": [
    "start_time = '2018-05-10 01:42:00'\n",
    "end_time = '2018-05-10 02:00:00'\n",
    "\n",
    "fig1 = plt.figure(figsize=(12,6))\n",
    "ax =plt.subplot(1,3,1)\n",
    "plt.plot(df_sbesec['t090C'][start_time:end_time]-df_rsec['temperature'][start_time:end_time],df_sbesec['prDM'][start_time:end_time])\n",
    "ax.invert_yaxis()\n",
    "plt.ylabel('Depth')\n",
    "\n",
    "end_time = '2018-05-10 01:44:00'\n",
    "ax =plt.subplot(1,3,2)\n",
    "plt.plot(df_sbesec['t090C'][start_time:end_time]-df_rsec['temperature'][start_time:end_time],df_sbesec['prDM'][start_time:end_time])\n",
    "ax.invert_yaxis()\n",
    "plt.xlabel('SBE Temperature - RBR Temperature: 1sec ave')\n",
    "\n",
    "end_time = '2018-05-10 01:42:30'\n",
    "ax =plt.subplot(1,3,3)\n",
    "plt.plot(df_sbesec['t090C'][start_time:end_time]-df_rsec['temperature'][start_time:end_time],df_sbesec['prDM'][start_time:end_time])\n",
    "ax.invert_yaxis()"
   ]
  },
  {
   "cell_type": "markdown",
   "metadata": {},
   "source": [
    "***salinity***"
   ]
  },
  {
   "cell_type": "code",
   "execution_count": null,
   "metadata": {},
   "outputs": [],
   "source": [
    "start_time = '2018-05-10 01:42:00'\n",
    "end_time = '2018-05-10 02:00:00'\n",
    "\n",
    "fig1 = plt.figure(figsize=(12,6))\n",
    "ax =plt.subplot(1,3,1)\n",
    "plt.plot(df_sbesec['sal00'][start_time:end_time],df_sbesec['prDM'][start_time:end_time])\n",
    "plt.plot(df_rsec['salinity'][start_time:end_time],df_rsec['pressure'][start_time:end_time])\n",
    "ax.invert_yaxis()\n",
    "plt.ylabel('Depth')\n",
    "\n",
    "end_time = '2018-05-10 01:44:00'\n",
    "ax =plt.subplot(1,3,2)\n",
    "plt.plot(df_sbesec['sal00'][start_time:end_time],df_sbesec['prDM'][start_time:end_time])\n",
    "plt.plot(df_rsec['salinity'][start_time:end_time],df_rsec['pressure'][start_time:end_time])\n",
    "ax.invert_yaxis()\n",
    "plt.xlabel('SBE Salinity (blue) - RBR Salinity (orange): 1sec ave')\n",
    "\n",
    "end_time = '2018-05-10 01:42:30'\n",
    "ax =plt.subplot(1,3,3)\n",
    "plt.plot(df_sbesec['sal00'][start_time:end_time],df_sbesec['prDM'][start_time:end_time])\n",
    "plt.plot(df_rsec['salinity'][start_time:end_time],df_rsec['pressure'][start_time:end_time])\n",
    "ax.invert_yaxis()\n"
   ]
  },
  {
   "cell_type": "code",
   "execution_count": null,
   "metadata": {},
   "outputs": [],
   "source": [
    "start_time = '2018-05-10 01:42:00'\n",
    "end_time = '2018-05-10 02:00:00'\n",
    "\n",
    "fig1 = plt.figure(figsize=(12,6))\n",
    "ax =plt.subplot(1,3,1)\n",
    "plt.plot(df_sbesec['sal00'][start_time:end_time]-df_rsec['salinity'][start_time:end_time],df_sbesec['prDM'][start_time:end_time])\n",
    "ax.invert_yaxis()\n",
    "plt.ylabel('Depth')\n",
    "\n",
    "end_time = '2018-05-10 01:44:00'\n",
    "ax =plt.subplot(1,3,2)\n",
    "plt.plot(df_sbesec['sal00'][start_time:end_time]-df_rsec['salinity'][start_time:end_time],df_sbesec['prDM'][start_time:end_time])\n",
    "ax.invert_yaxis()\n",
    "plt.xlabel('SBE Salinity - RBR Salinity: 1sec ave')\n",
    "\n",
    "end_time = '2018-05-10 01:42:30'\n",
    "ax =plt.subplot(1,3,3)\n",
    "plt.plot(df_sbesec['sal00'][start_time:end_time]-df_rsec['salinity'][start_time:end_time],df_sbesec['prDM'][start_time:end_time])\n",
    "ax.invert_yaxis()"
   ]
  },
  {
   "cell_type": "markdown",
   "metadata": {},
   "source": [
    "***sigma-t***"
   ]
  },
  {
   "cell_type": "code",
   "execution_count": null,
   "metadata": {},
   "outputs": [],
   "source": [
    "### calculate density (sigma-t) to compare against each other from the 1s data\n",
    "\n",
    "import seawater\n",
    "\n",
    "df_sbesec['sigmat00'] = seawater.dens(s=df_sbesec['sal00'],t=df_sbesec['t090C'],p=df_sbesec['prDM']) - 1000.\n",
    "df_rsec['sigmat'] = seawater.dens(s=df_rsec['salinity'],t=df_rsec['temperature'],p=df_rsec['pressure']) - 1000.\n"
   ]
  },
  {
   "cell_type": "code",
   "execution_count": null,
   "metadata": {},
   "outputs": [],
   "source": [
    "start_time = '2018-05-10 01:42:00'\n",
    "end_time = '2018-05-10 02:00:00'\n",
    "\n",
    "fig1 = plt.figure(figsize=(12,6))\n",
    "ax =plt.subplot(1,3,1)\n",
    "plt.plot(df_sbesec['sigmat00'][start_time:end_time],df_sbesec['prDM'][start_time:end_time])\n",
    "plt.plot(df_rsec['sigmat'][start_time:end_time],df_rsec['pressure'][start_time:end_time])\n",
    "ax.invert_yaxis()\n",
    "plt.ylabel('Depth')\n",
    "\n",
    "end_time = '2018-05-10 01:44:00'\n",
    "ax =plt.subplot(1,3,2)\n",
    "plt.plot(df_sbesec['sigmat00'][start_time:end_time],df_sbesec['prDM'][start_time:end_time])\n",
    "plt.plot(df_rsec['sigmat'][start_time:end_time],df_rsec['pressure'][start_time:end_time])\n",
    "ax.invert_yaxis()\n",
    "plt.xlabel('SBE SigmaT (blue) - RBR SigmaT (orange): 1sec ave')\n",
    "\n",
    "end_time = '2018-05-10 01:42:30'\n",
    "ax =plt.subplot(1,3,3)\n",
    "plt.plot(df_sbesec['sigmat00'][start_time:end_time],df_sbesec['prDM'][start_time:end_time])\n",
    "plt.plot(df_rsec['sigmat'][start_time:end_time],df_rsec['pressure'][start_time:end_time])\n",
    "ax.invert_yaxis()\n"
   ]
  },
  {
   "cell_type": "code",
   "execution_count": null,
   "metadata": {},
   "outputs": [],
   "source": [
    "start_time = '2018-05-10 01:42:00'\n",
    "end_time = '2018-05-10 02:00:00'\n",
    "\n",
    "fig1 = plt.figure(figsize=(12,6))\n",
    "ax =plt.subplot(1,3,1)\n",
    "plt.plot(df_sbesec['sigmat00'][start_time:end_time]-df_rsec['sigmat'][start_time:end_time],df_sbesec['prDM'][start_time:end_time])\n",
    "ax.invert_yaxis()\n",
    "plt.ylabel('Depth')\n",
    "\n",
    "end_time = '2018-05-10 01:44:00'\n",
    "ax =plt.subplot(1,3,2)\n",
    "plt.plot(df_sbesec['sigmat00'][start_time:end_time]-df_rsec['sigmat'][start_time:end_time],df_sbesec['prDM'][start_time:end_time])\n",
    "ax.invert_yaxis()\n",
    "plt.xlabel('SBE SigmaT - RBR SigmaT: 1sec ave')\n",
    "\n",
    "end_time = '2018-05-10 01:42:30'\n",
    "ax =plt.subplot(1,3,3)\n",
    "plt.plot(df_sbesec['sigmat00'][start_time:end_time]-df_rsec['sigmat'][start_time:end_time],df_sbesec['prDM'][start_time:end_time])\n",
    "ax.invert_yaxis()"
   ]
  },
  {
   "cell_type": "code",
   "execution_count": null,
   "metadata": {},
   "outputs": [],
   "source": []
  }
 ],
 "metadata": {
  "kernelspec": {
   "display_name": "Python [conda env:py36]",
   "language": "python",
   "name": "conda-env-py36-py"
  },
  "language_info": {
   "codemirror_mode": {
    "name": "ipython",
    "version": 3
   },
   "file_extension": ".py",
   "mimetype": "text/x-python",
   "name": "python",
   "nbconvert_exporter": "python",
   "pygments_lexer": "ipython3",
   "version": "3.6.5"
  }
 },
 "nbformat": 4,
 "nbformat_minor": 2
}
