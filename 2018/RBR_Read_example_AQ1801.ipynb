{
 "cells": [
  {
   "cell_type": "markdown",
   "metadata": {},
   "source": [
    "### Read RBR data without Ruskin program\n",
    "\n",
    "The RBR raw data in .rsk files is a SQLite file - well described and readable without the need for proprietary software.  \n",
    "\n",
    "Can we open, read and plot the RBR data (and perform and unit conversions) without the software?  The software does internal calcaluations of Salinity and Pressure corrections as well as possibly calibration corrections?\n",
    "\n",
    "*** This is just a test and proof of concept ***\n"
   ]
  },
  {
   "cell_type": "code",
   "execution_count": 1,
   "metadata": {},
   "outputs": [],
   "source": [
    "%matplotlib inline\n",
    "import matplotlib.pyplot as plt"
   ]
  },
  {
   "cell_type": "code",
   "execution_count": 2,
   "metadata": {},
   "outputs": [],
   "source": [
    "import sqlite3\n",
    "import pandas as pd"
   ]
  },
  {
   "cell_type": "code",
   "execution_count": 3,
   "metadata": {},
   "outputs": [],
   "source": [
    "data_file = '/Volumes/WDC_internal/Users/bell/ecoraid/2018/CTDcasts/AQ1801/raw/2018_aquila_rbr/AQ1801cast019_3.rsk'\n",
    "db = sqlite3.connect(data_file)\n",
    "\n",
    "query = 'SELECT * FROM channels'\n",
    "columns = pd.read_sql_query(query,db)"
   ]
  },
  {
   "cell_type": "code",
   "execution_count": 4,
   "metadata": {},
   "outputs": [],
   "source": [
    "query = 'SELECT * FROM data'\n",
    "\n",
    "df_r = pd.read_sql_query(query,db)"
   ]
  },
  {
   "cell_type": "code",
   "execution_count": 5,
   "metadata": {},
   "outputs": [
    {
     "data": {
      "text/html": [
       "<div>\n",
       "<style scoped>\n",
       "    .dataframe tbody tr th:only-of-type {\n",
       "        vertical-align: middle;\n",
       "    }\n",
       "\n",
       "    .dataframe tbody tr th {\n",
       "        vertical-align: top;\n",
       "    }\n",
       "\n",
       "    .dataframe thead th {\n",
       "        text-align: right;\n",
       "    }\n",
       "</style>\n",
       "<table border=\"1\" class=\"dataframe\">\n",
       "  <thead>\n",
       "    <tr style=\"text-align: right;\">\n",
       "      <th></th>\n",
       "      <th>channelID</th>\n",
       "      <th>shortName</th>\n",
       "      <th>longName</th>\n",
       "      <th>units</th>\n",
       "      <th>longNamePlainText</th>\n",
       "      <th>unitsPlainText</th>\n",
       "      <th>isMeasured</th>\n",
       "      <th>isDerived</th>\n",
       "    </tr>\n",
       "  </thead>\n",
       "  <tbody>\n",
       "    <tr>\n",
       "      <th>0</th>\n",
       "      <td>1</td>\n",
       "      <td>cond10</td>\n",
       "      <td>Conductivity</td>\n",
       "      <td>mS/cm</td>\n",
       "      <td>Conductivity</td>\n",
       "      <td>mS/cm</td>\n",
       "      <td>1</td>\n",
       "      <td>0</td>\n",
       "    </tr>\n",
       "    <tr>\n",
       "      <th>1</th>\n",
       "      <td>2</td>\n",
       "      <td>temp14</td>\n",
       "      <td>Temperature</td>\n",
       "      <td>°C</td>\n",
       "      <td>Temperature</td>\n",
       "      <td>Degrees_C</td>\n",
       "      <td>1</td>\n",
       "      <td>0</td>\n",
       "    </tr>\n",
       "    <tr>\n",
       "      <th>2</th>\n",
       "      <td>3</td>\n",
       "      <td>pres24</td>\n",
       "      <td>Pressure</td>\n",
       "      <td>dbar</td>\n",
       "      <td>Pressure</td>\n",
       "      <td>dbar</td>\n",
       "      <td>1</td>\n",
       "      <td>0</td>\n",
       "    </tr>\n",
       "    <tr>\n",
       "      <th>3</th>\n",
       "      <td>4</td>\n",
       "      <td>pres08</td>\n",
       "      <td>Sea pressure</td>\n",
       "      <td>dbar</td>\n",
       "      <td>Sea pressure</td>\n",
       "      <td>dbar</td>\n",
       "      <td>0</td>\n",
       "      <td>1</td>\n",
       "    </tr>\n",
       "    <tr>\n",
       "      <th>4</th>\n",
       "      <td>5</td>\n",
       "      <td>dpth01</td>\n",
       "      <td>Depth</td>\n",
       "      <td>m</td>\n",
       "      <td>Depth</td>\n",
       "      <td>m</td>\n",
       "      <td>0</td>\n",
       "      <td>1</td>\n",
       "    </tr>\n",
       "    <tr>\n",
       "      <th>5</th>\n",
       "      <td>6</td>\n",
       "      <td>sal_00</td>\n",
       "      <td>Salinity</td>\n",
       "      <td>PSU</td>\n",
       "      <td>Salinity</td>\n",
       "      <td>PSU</td>\n",
       "      <td>0</td>\n",
       "      <td>1</td>\n",
       "    </tr>\n",
       "    <tr>\n",
       "      <th>6</th>\n",
       "      <td>7</td>\n",
       "      <td>sos_00</td>\n",
       "      <td>Speed of sound</td>\n",
       "      <td>m/s</td>\n",
       "      <td>Speed of sound</td>\n",
       "      <td>m/s</td>\n",
       "      <td>0</td>\n",
       "      <td>1</td>\n",
       "    </tr>\n",
       "    <tr>\n",
       "      <th>7</th>\n",
       "      <td>8</td>\n",
       "      <td>scon00</td>\n",
       "      <td>Specific conductivity</td>\n",
       "      <td>µS/cm</td>\n",
       "      <td>Specific conductivity</td>\n",
       "      <td>uS/cm</td>\n",
       "      <td>0</td>\n",
       "      <td>1</td>\n",
       "    </tr>\n",
       "    <tr>\n",
       "      <th>8</th>\n",
       "      <td>9</td>\n",
       "      <td>temp22</td>\n",
       "      <td>Temperature</td>\n",
       "      <td>°C</td>\n",
       "      <td>Temperature</td>\n",
       "      <td>Degrees_C</td>\n",
       "      <td>1</td>\n",
       "      <td>0</td>\n",
       "    </tr>\n",
       "  </tbody>\n",
       "</table>\n",
       "</div>"
      ],
      "text/plain": [
       "   channelID shortName               longName  units      longNamePlainText  \\\n",
       "0          1    cond10           Conductivity  mS/cm           Conductivity   \n",
       "1          2    temp14            Temperature     °C            Temperature   \n",
       "2          3    pres24               Pressure   dbar               Pressure   \n",
       "3          4    pres08           Sea pressure   dbar           Sea pressure   \n",
       "4          5    dpth01                  Depth      m                  Depth   \n",
       "5          6    sal_00               Salinity    PSU               Salinity   \n",
       "6          7    sos_00         Speed of sound    m/s         Speed of sound   \n",
       "7          8    scon00  Specific conductivity  µS/cm  Specific conductivity   \n",
       "8          9    temp22            Temperature     °C            Temperature   \n",
       "\n",
       "  unitsPlainText  isMeasured  isDerived  \n",
       "0          mS/cm           1          0  \n",
       "1      Degrees_C           1          0  \n",
       "2           dbar           1          0  \n",
       "3           dbar           0          1  \n",
       "4              m           0          1  \n",
       "5            PSU           0          1  \n",
       "6            m/s           0          1  \n",
       "7          uS/cm           0          1  \n",
       "8      Degrees_C           1          0  "
      ]
     },
     "execution_count": 5,
     "metadata": {},
     "output_type": "execute_result"
    }
   ],
   "source": [
    "columns"
   ]
  },
  {
   "cell_type": "code",
   "execution_count": 6,
   "metadata": {},
   "outputs": [
    {
     "data": {
      "text/html": [
       "<div>\n",
       "<style scoped>\n",
       "    .dataframe tbody tr th:only-of-type {\n",
       "        vertical-align: middle;\n",
       "    }\n",
       "\n",
       "    .dataframe tbody tr th {\n",
       "        vertical-align: top;\n",
       "    }\n",
       "\n",
       "    .dataframe thead th {\n",
       "        text-align: right;\n",
       "    }\n",
       "</style>\n",
       "<table border=\"1\" class=\"dataframe\">\n",
       "  <thead>\n",
       "    <tr style=\"text-align: right;\">\n",
       "      <th></th>\n",
       "      <th>tstamp</th>\n",
       "      <th>channel01</th>\n",
       "      <th>channel02</th>\n",
       "      <th>channel03</th>\n",
       "      <th>channel04</th>\n",
       "      <th>channel05</th>\n",
       "      <th>channel06</th>\n",
       "      <th>channel07</th>\n",
       "      <th>channel08</th>\n",
       "      <th>channel09</th>\n",
       "    </tr>\n",
       "  </thead>\n",
       "  <tbody>\n",
       "    <tr>\n",
       "      <th>0</th>\n",
       "      <td>1539157724000</td>\n",
       "      <td>0.003416</td>\n",
       "      <td>8.584564</td>\n",
       "      <td>9.965472</td>\n",
       "      <td>-0.167028</td>\n",
       "      <td>-0.166002</td>\n",
       "      <td>0.005553</td>\n",
       "      <td>1441.565308</td>\n",
       "      <td>4.976340</td>\n",
       "      <td>8.273865</td>\n",
       "    </tr>\n",
       "    <tr>\n",
       "      <th>1</th>\n",
       "      <td>1539157724125</td>\n",
       "      <td>0.001955</td>\n",
       "      <td>8.594940</td>\n",
       "      <td>9.957303</td>\n",
       "      <td>-0.175198</td>\n",
       "      <td>-0.174121</td>\n",
       "      <td>0.004844</td>\n",
       "      <td>1441.606934</td>\n",
       "      <td>2.846951</td>\n",
       "      <td>8.273865</td>\n",
       "    </tr>\n",
       "    <tr>\n",
       "      <th>2</th>\n",
       "      <td>1539157724250</td>\n",
       "      <td>0.001863</td>\n",
       "      <td>8.609802</td>\n",
       "      <td>9.957315</td>\n",
       "      <td>-0.175185</td>\n",
       "      <td>-0.174109</td>\n",
       "      <td>0.004810</td>\n",
       "      <td>1441.667969</td>\n",
       "      <td>2.711572</td>\n",
       "      <td>8.464905</td>\n",
       "    </tr>\n",
       "    <tr>\n",
       "      <th>3</th>\n",
       "      <td>1539157724375</td>\n",
       "      <td>0.003151</td>\n",
       "      <td>8.625000</td>\n",
       "      <td>9.956600</td>\n",
       "      <td>-0.175900</td>\n",
       "      <td>-0.174820</td>\n",
       "      <td>0.005439</td>\n",
       "      <td>1441.731201</td>\n",
       "      <td>4.585607</td>\n",
       "      <td>8.350372</td>\n",
       "    </tr>\n",
       "    <tr>\n",
       "      <th>4</th>\n",
       "      <td>1539157724500</td>\n",
       "      <td>0.001519</td>\n",
       "      <td>8.638123</td>\n",
       "      <td>9.952998</td>\n",
       "      <td>-0.179502</td>\n",
       "      <td>-0.178400</td>\n",
       "      <td>0.004676</td>\n",
       "      <td>1441.784058</td>\n",
       "      <td>2.209330</td>\n",
       "      <td>8.312164</td>\n",
       "    </tr>\n",
       "  </tbody>\n",
       "</table>\n",
       "</div>"
      ],
      "text/plain": [
       "          tstamp  channel01  channel02  channel03  channel04  channel05  \\\n",
       "0  1539157724000   0.003416   8.584564   9.965472  -0.167028  -0.166002   \n",
       "1  1539157724125   0.001955   8.594940   9.957303  -0.175198  -0.174121   \n",
       "2  1539157724250   0.001863   8.609802   9.957315  -0.175185  -0.174109   \n",
       "3  1539157724375   0.003151   8.625000   9.956600  -0.175900  -0.174820   \n",
       "4  1539157724500   0.001519   8.638123   9.952998  -0.179502  -0.178400   \n",
       "\n",
       "   channel06    channel07  channel08  channel09  \n",
       "0   0.005553  1441.565308   4.976340   8.273865  \n",
       "1   0.004844  1441.606934   2.846951   8.273865  \n",
       "2   0.004810  1441.667969   2.711572   8.464905  \n",
       "3   0.005439  1441.731201   4.585607   8.350372  \n",
       "4   0.004676  1441.784058   2.209330   8.312164  "
      ]
     },
     "execution_count": 6,
     "metadata": {},
     "output_type": "execute_result"
    }
   ],
   "source": [
    "df_r.head()"
   ]
  },
  {
   "cell_type": "markdown",
   "metadata": {},
   "source": [
    "### Given the raw data above, can we calculate salinity using the thermodynamic equation of state and how does that compare to the RBR Ruskin Processed Data?"
   ]
  },
  {
   "cell_type": "code",
   "execution_count": 7,
   "metadata": {},
   "outputs": [],
   "source": [
    "import seawater"
   ]
  },
  {
   "cell_type": "code",
   "execution_count": 8,
   "metadata": {},
   "outputs": [
    {
     "name": "stderr",
     "output_type": "stream",
     "text": [
      "/Volumes/WDC_internal/Users/bell/anaconda2/envs/py36/lib/python3.6/site-packages/seawater/library.py:363: RuntimeWarning: invalid value encountered in sqrt\n",
      "  Rtx = (rt) ** 0.5\n"
     ]
    }
   ],
   "source": [
    "conductivity = df_r.channel01\n",
    "temperature = df_r.channel02\n",
    "pressure = df_r.channel03 - 10.1325 #subtract standard atmosphere\n",
    "\n",
    "df_r['salinity'] = seawater.salt(conductivity/42.914,temperature,pressure)"
   ]
  },
  {
   "cell_type": "code",
   "execution_count": 11,
   "metadata": {},
   "outputs": [],
   "source": [
    "df_e = pd.read_excel('/Volumes/WDC_internal/Users/bell/ecoraid/2018/CTDcasts/AQ1801/rawconverted/rbr/AQ1801cast019_3.xlsx','Data',skiprows=1)"
   ]
  },
  {
   "cell_type": "code",
   "execution_count": 14,
   "metadata": {},
   "outputs": [
    {
     "data": {
      "text/plain": [
       "<matplotlib.axes._subplots.AxesSubplot at 0x1258d1518>"
      ]
     },
     "execution_count": 14,
     "metadata": {},
     "output_type": "execute_result"
    },
    {
     "data": {
      "image/png": "[encoded data removed]",
      "text/plain": [
       "<Figure size 432x288 with 1 Axes>"
      ]
     },
     "metadata": {
      "needs_background": "light"
     },
     "output_type": "display_data"
    }
   ],
   "source": [
    "temperature.plot()\n",
    "df_r['channel09'].plot()\n",
    "#df_r['channel10'].plot() #smoothed version of channel09"
   ]
  },
  {
   "cell_type": "code",
   "execution_count": 15,
   "metadata": {},
   "outputs": [
    {
     "data": {
      "text/plain": [
       "<matplotlib.axes._subplots.AxesSubplot at 0x125a8b6d8>"
      ]
     },
     "execution_count": 15,
     "metadata": {},
     "output_type": "execute_result"
    },
    {
     "data": {
      "image/png": "[encoded data removed]",
      "text/plain": [
       "<Figure size 432x288 with 1 Axes>"
      ]
     },
     "metadata": {
      "needs_background": "light"
     },
     "output_type": "display_data"
    }
   ],
   "source": [
    "df_e.Salinity[5000:10000].plot()\n",
    "df_r.salinity[5000:10000].plot()"
   ]
  },
  {
   "cell_type": "code",
   "execution_count": 16,
   "metadata": {},
   "outputs": [
    {
     "data": {
      "text/plain": [
       "<matplotlib.axes._subplots.AxesSubplot at 0x125c90c50>"
      ]
     },
     "execution_count": 16,
     "metadata": {},
     "output_type": "execute_result"
    },
    {
     "data": {
      "image/png": "[encoded data removed]",
      "text/plain": [
       "<Figure size 432x288 with 1 Axes>"
      ]
     },
     "metadata": {
      "needs_background": "light"
     },
     "output_type": "display_data"
    }
   ],
   "source": [
    "saldiff = (df_r.salinity - df_e.Salinity)\n",
    "saldiff[3500:17500].plot()"
   ]
  },
  {
   "cell_type": "code",
   "execution_count": 17,
   "metadata": {},
   "outputs": [
    {
     "data": {
      "image/png": "[encoded data removed]",
      "text/plain": [
       "<Figure size 432x288 with 1 Axes>"
      ]
     },
     "metadata": {
      "needs_background": "light"
     },
     "output_type": "display_data"
    }
   ],
   "source": [
    "plt.plot(saldiff[3500:17500],df_e.Depth[3500:17500])\n",
    "ax = plt.gca()\n",
    "ax.invert_yaxis()"
   ]
  },
  {
   "cell_type": "code",
   "execution_count": null,
   "metadata": {},
   "outputs": [],
   "source": []
  }
 ],
 "metadata": {
  "kernelspec": {
   "display_name": "Python [conda env:py36]",
   "language": "python",
   "name": "conda-env-py36-py"
  },
  "language_info": {
   "codemirror_mode": {
    "name": "ipython",
    "version": 3
   },
   "file_extension": ".py",
   "mimetype": "text/x-python",
   "name": "python",
   "nbconvert_exporter": "python",
   "pygments_lexer": "ipython3",
   "version": "3.6.6"
  }
 },
 "nbformat": 4,
 "nbformat_minor": 2
}
