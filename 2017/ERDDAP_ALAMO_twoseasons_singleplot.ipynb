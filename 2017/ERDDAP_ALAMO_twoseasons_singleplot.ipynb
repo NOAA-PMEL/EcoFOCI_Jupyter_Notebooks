{
 "cells": [
  {
   "cell_type": "markdown",
   "metadata": {},
   "source": [
    "# Fall Alamo Float Comparisons (2016-2017)"
   ]
  },
  {
   "cell_type": "code",
   "execution_count": 69,
   "metadata": {},
   "outputs": [],
   "source": [
    "%matplotlib inline\n",
    "\n",
    "import datetime\n",
    "\n",
    "import pandas as pd\n",
    "from netCDF4 import Dataset\n",
    "\n",
    "import urllib\n",
    "\n",
    "import cmocean"
   ]
  },
  {
   "cell_type": "code",
   "execution_count": 70,
   "metadata": {},
   "outputs": [],
   "source": [
    "### using code from https://ioos.github.io/notebooks_demos/notebooks/2017-03-21-ERDDAP_IOOS_Sensor_Map/\n",
    "import requests\n",
    "try:\n",
    "    from urllib.parse import urlencode\n",
    "except ImportError:\n",
    "    from urllib import urlencode\n",
    "\n",
    "\n",
    "def encode_erddap(urlbase, fname, columns, params):\n",
    "    \"\"\"\n",
    "    urlbase: the base string for the endpoint\n",
    "             (e.g.: https://erddap.axiomdatascience.com/erddap/tabledap).\n",
    "    fname: the data source (e.g.: `sensor_service`) and the response (e.g.: `.csvp` for CSV).\n",
    "    columns: the columns of the return table.\n",
    "    params: the parameters for the query.\n",
    "\n",
    "    Returns a valid ERDDAP endpoint.\n",
    "    \"\"\"\n",
    "    urlbase = urlbase.rstrip('/')\n",
    "    if not urlbase.lower().startswith(('http:', 'https:')):\n",
    "        msg = 'Expected valid URL but got {}'.format\n",
    "        raise ValueError(msg(urlbase))\n",
    "\n",
    "    columns = ','.join(columns)\n",
    "    params = urlencode(params)\n",
    "    endpoint = '{urlbase}/{fname}?{columns}&{params}'.format\n",
    "\n",
    "    url = endpoint(urlbase=urlbase, fname=fname,\n",
    "                   columns=columns, params=params)\n",
    "    r = requests.get(url)\n",
    "    r.raise_for_status()\n",
    "    return url"
   ]
  },
  {
   "cell_type": "markdown",
   "metadata": {},
   "source": [
    "## Set parameters    \n",
    "Set the parameters below to retrieve all data after the specified date with pressure values between 0.5m and 35m"
   ]
  },
  {
   "cell_type": "code",
   "execution_count": 71,
   "metadata": {},
   "outputs": [],
   "source": [
    "try:\n",
    "    from urllib.parse import unquote\n",
    "except ImportError:\n",
    "    from urllib2 import unquote\n",
    "\n",
    "# return profile for float id\n",
    "def get_profile(alamo_id,starttime,endtime):\n",
    "    \n",
    "    urlbase = 'http://ferret.pmel.noaa.gov/alamo/erddap/tabledap'\n",
    "\n",
    "    fname = 'arctic_heat_alamo_profiles_'+str(alamo_id)+'.csvp'\n",
    "\n",
    "    columns = ('profileid',\n",
    "               'FLOAT_SERIAL_NO',\n",
    "               'CYCLE_NUMBER',\n",
    "               'REFERENCE_DATE_TIME',\n",
    "               'JULD',\n",
    "               'time',\n",
    "               'latitude',\n",
    "               'longitude',\n",
    "               'PRES',\n",
    "               'TEMP',\n",
    "               'PSAL')\n",
    "    params = {\n",
    "        # Inequalities do not exist in HTTP parameters,\n",
    "        # so we need to hardcode the `>` in the time key to get a '>='.\n",
    "        # Note that a '>' or '<' cannot be encoded with `urlencode`, only `>=` and `<=`.\n",
    "        'time>': starttime+'T00:00:00Z',\n",
    "        'time<': endtime+'T00:00:00Z',\n",
    "        'PRES>': 0.5,\n",
    "        'PRES<': 35,\n",
    "    }\n",
    "\n",
    "    url = encode_erddap(urlbase, fname, columns, params)\n",
    "\n",
    "    df = pd.read_csv(url, index_col=0, parse_dates=['time (UTC)'])\n",
    "    \n",
    "    return df"
   ]
  },
  {
   "cell_type": "code",
   "execution_count": 75,
   "metadata": {},
   "outputs": [
    {
     "ename": "ConnectionError",
     "evalue": "('Connection aborted.', error(54, 'Connection reset by peer'))",
     "output_type": "error",
     "traceback": [
      "\u001b[0;31m---------------------------------------------------------------------------\u001b[0m",
      "\u001b[0;31mConnectionError\u001b[0m                           Traceback (most recent call last)",
      "\u001b[0;32m<ipython-input-75-ec4640128ade>\u001b[0m in \u001b[0;36m<module>\u001b[0;34m()\u001b[0m\n\u001b[0;32m----> 1\u001b[0;31m \u001b[0maf_9119\u001b[0m \u001b[0;34m=\u001b[0m \u001b[0mget_profile\u001b[0m\u001b[0;34m(\u001b[0m\u001b[0;36m9119\u001b[0m\u001b[0;34m,\u001b[0m\u001b[0;34m'2017-08-01'\u001b[0m\u001b[0;34m,\u001b[0m\u001b[0;34m'2017-12-01'\u001b[0m\u001b[0;34m)\u001b[0m\u001b[0;34m\u001b[0m\u001b[0m\n\u001b[0m\u001b[1;32m      2\u001b[0m \u001b[0maf_9085\u001b[0m \u001b[0;34m=\u001b[0m \u001b[0mget_profile\u001b[0m\u001b[0;34m(\u001b[0m\u001b[0;36m9085\u001b[0m\u001b[0;34m,\u001b[0m\u001b[0;34m'2016-08-01'\u001b[0m\u001b[0;34m,\u001b[0m\u001b[0;34m'2016-12-01'\u001b[0m\u001b[0;34m)\u001b[0m\u001b[0;34m\u001b[0m\u001b[0m\n\u001b[1;32m      3\u001b[0m \u001b[0maf_9076\u001b[0m \u001b[0;34m=\u001b[0m \u001b[0mget_profile\u001b[0m\u001b[0;34m(\u001b[0m\u001b[0;36m9076\u001b[0m\u001b[0;34m,\u001b[0m\u001b[0;34m'2016-08-01'\u001b[0m\u001b[0;34m,\u001b[0m\u001b[0;34m'2016-12-01'\u001b[0m\u001b[0;34m)\u001b[0m\u001b[0;34m\u001b[0m\u001b[0m\n",
      "\u001b[0;32m<ipython-input-71-9e1f5d0deb88>\u001b[0m in \u001b[0;36mget_profile\u001b[0;34m(alamo_id, starttime, endtime)\u001b[0m\n\u001b[1;32m     32\u001b[0m     }\n\u001b[1;32m     33\u001b[0m \u001b[0;34m\u001b[0m\u001b[0m\n\u001b[0;32m---> 34\u001b[0;31m     \u001b[0murl\u001b[0m \u001b[0;34m=\u001b[0m \u001b[0mencode_erddap\u001b[0m\u001b[0;34m(\u001b[0m\u001b[0murlbase\u001b[0m\u001b[0;34m,\u001b[0m \u001b[0mfname\u001b[0m\u001b[0;34m,\u001b[0m \u001b[0mcolumns\u001b[0m\u001b[0;34m,\u001b[0m \u001b[0mparams\u001b[0m\u001b[0;34m)\u001b[0m\u001b[0;34m\u001b[0m\u001b[0m\n\u001b[0m\u001b[1;32m     35\u001b[0m \u001b[0;34m\u001b[0m\u001b[0m\n\u001b[1;32m     36\u001b[0m     \u001b[0mdf\u001b[0m \u001b[0;34m=\u001b[0m \u001b[0mpd\u001b[0m\u001b[0;34m.\u001b[0m\u001b[0mread_csv\u001b[0m\u001b[0;34m(\u001b[0m\u001b[0murl\u001b[0m\u001b[0;34m,\u001b[0m \u001b[0mindex_col\u001b[0m\u001b[0;34m=\u001b[0m\u001b[0;36m0\u001b[0m\u001b[0;34m,\u001b[0m \u001b[0mparse_dates\u001b[0m\u001b[0;34m=\u001b[0m\u001b[0;34m[\u001b[0m\u001b[0;34m'time (UTC)'\u001b[0m\u001b[0;34m]\u001b[0m\u001b[0;34m)\u001b[0m\u001b[0;34m\u001b[0m\u001b[0m\n",
      "\u001b[0;32m<ipython-input-70-4300bbd6cda5>\u001b[0m in \u001b[0;36mencode_erddap\u001b[0;34m(urlbase, fname, columns, params)\u001b[0m\n\u001b[1;32m     28\u001b[0m     url = endpoint(urlbase=urlbase, fname=fname,\n\u001b[1;32m     29\u001b[0m                    columns=columns, params=params)\n\u001b[0;32m---> 30\u001b[0;31m     \u001b[0mr\u001b[0m \u001b[0;34m=\u001b[0m \u001b[0mrequests\u001b[0m\u001b[0;34m.\u001b[0m\u001b[0mget\u001b[0m\u001b[0;34m(\u001b[0m\u001b[0murl\u001b[0m\u001b[0;34m)\u001b[0m\u001b[0;34m\u001b[0m\u001b[0m\n\u001b[0m\u001b[1;32m     31\u001b[0m     \u001b[0mr\u001b[0m\u001b[0;34m.\u001b[0m\u001b[0mraise_for_status\u001b[0m\u001b[0;34m(\u001b[0m\u001b[0;34m)\u001b[0m\u001b[0;34m\u001b[0m\u001b[0m\n\u001b[1;32m     32\u001b[0m     \u001b[0;32mreturn\u001b[0m \u001b[0murl\u001b[0m\u001b[0;34m\u001b[0m\u001b[0m\n",
      "\u001b[0;32m/Volumes/WDC_internal/Users/bell/anaconda2/lib/python2.7/site-packages/requests/api.pyc\u001b[0m in \u001b[0;36mget\u001b[0;34m(url, params, **kwargs)\u001b[0m\n\u001b[1;32m     70\u001b[0m \u001b[0;34m\u001b[0m\u001b[0m\n\u001b[1;32m     71\u001b[0m     \u001b[0mkwargs\u001b[0m\u001b[0;34m.\u001b[0m\u001b[0msetdefault\u001b[0m\u001b[0;34m(\u001b[0m\u001b[0;34m'allow_redirects'\u001b[0m\u001b[0;34m,\u001b[0m \u001b[0mTrue\u001b[0m\u001b[0;34m)\u001b[0m\u001b[0;34m\u001b[0m\u001b[0m\n\u001b[0;32m---> 72\u001b[0;31m     \u001b[0;32mreturn\u001b[0m \u001b[0mrequest\u001b[0m\u001b[0;34m(\u001b[0m\u001b[0;34m'get'\u001b[0m\u001b[0;34m,\u001b[0m \u001b[0murl\u001b[0m\u001b[0;34m,\u001b[0m \u001b[0mparams\u001b[0m\u001b[0;34m=\u001b[0m\u001b[0mparams\u001b[0m\u001b[0;34m,\u001b[0m \u001b[0;34m**\u001b[0m\u001b[0mkwargs\u001b[0m\u001b[0;34m)\u001b[0m\u001b[0;34m\u001b[0m\u001b[0m\n\u001b[0m\u001b[1;32m     73\u001b[0m \u001b[0;34m\u001b[0m\u001b[0m\n\u001b[1;32m     74\u001b[0m \u001b[0;34m\u001b[0m\u001b[0m\n",
      "\u001b[0;32m/Volumes/WDC_internal/Users/bell/anaconda2/lib/python2.7/site-packages/requests/api.pyc\u001b[0m in \u001b[0;36mrequest\u001b[0;34m(method, url, **kwargs)\u001b[0m\n\u001b[1;32m     56\u001b[0m     \u001b[0;31m# cases, and look like a memory leak in others.\u001b[0m\u001b[0;34m\u001b[0m\u001b[0;34m\u001b[0m\u001b[0m\n\u001b[1;32m     57\u001b[0m     \u001b[0;32mwith\u001b[0m \u001b[0msessions\u001b[0m\u001b[0;34m.\u001b[0m\u001b[0mSession\u001b[0m\u001b[0;34m(\u001b[0m\u001b[0;34m)\u001b[0m \u001b[0;32mas\u001b[0m \u001b[0msession\u001b[0m\u001b[0;34m:\u001b[0m\u001b[0;34m\u001b[0m\u001b[0m\n\u001b[0;32m---> 58\u001b[0;31m         \u001b[0;32mreturn\u001b[0m \u001b[0msession\u001b[0m\u001b[0;34m.\u001b[0m\u001b[0mrequest\u001b[0m\u001b[0;34m(\u001b[0m\u001b[0mmethod\u001b[0m\u001b[0;34m=\u001b[0m\u001b[0mmethod\u001b[0m\u001b[0;34m,\u001b[0m \u001b[0murl\u001b[0m\u001b[0;34m=\u001b[0m\u001b[0murl\u001b[0m\u001b[0;34m,\u001b[0m \u001b[0;34m**\u001b[0m\u001b[0mkwargs\u001b[0m\u001b[0;34m)\u001b[0m\u001b[0;34m\u001b[0m\u001b[0m\n\u001b[0m\u001b[1;32m     59\u001b[0m \u001b[0;34m\u001b[0m\u001b[0m\n\u001b[1;32m     60\u001b[0m \u001b[0;34m\u001b[0m\u001b[0m\n",
      "\u001b[0;32m/Volumes/WDC_internal/Users/bell/anaconda2/lib/python2.7/site-packages/requests/sessions.pyc\u001b[0m in \u001b[0;36mrequest\u001b[0;34m(self, method, url, params, data, headers, cookies, files, auth, timeout, allow_redirects, proxies, hooks, stream, verify, cert, json)\u001b[0m\n\u001b[1;32m    506\u001b[0m         }\n\u001b[1;32m    507\u001b[0m         \u001b[0msend_kwargs\u001b[0m\u001b[0;34m.\u001b[0m\u001b[0mupdate\u001b[0m\u001b[0;34m(\u001b[0m\u001b[0msettings\u001b[0m\u001b[0;34m)\u001b[0m\u001b[0;34m\u001b[0m\u001b[0m\n\u001b[0;32m--> 508\u001b[0;31m         \u001b[0mresp\u001b[0m \u001b[0;34m=\u001b[0m \u001b[0mself\u001b[0m\u001b[0;34m.\u001b[0m\u001b[0msend\u001b[0m\u001b[0;34m(\u001b[0m\u001b[0mprep\u001b[0m\u001b[0;34m,\u001b[0m \u001b[0;34m**\u001b[0m\u001b[0msend_kwargs\u001b[0m\u001b[0;34m)\u001b[0m\u001b[0;34m\u001b[0m\u001b[0m\n\u001b[0m\u001b[1;32m    509\u001b[0m \u001b[0;34m\u001b[0m\u001b[0m\n\u001b[1;32m    510\u001b[0m         \u001b[0;32mreturn\u001b[0m \u001b[0mresp\u001b[0m\u001b[0;34m\u001b[0m\u001b[0m\n",
      "\u001b[0;32m/Volumes/WDC_internal/Users/bell/anaconda2/lib/python2.7/site-packages/requests/sessions.pyc\u001b[0m in \u001b[0;36msend\u001b[0;34m(self, request, **kwargs)\u001b[0m\n\u001b[1;32m    616\u001b[0m \u001b[0;34m\u001b[0m\u001b[0m\n\u001b[1;32m    617\u001b[0m         \u001b[0;31m# Send the request\u001b[0m\u001b[0;34m\u001b[0m\u001b[0;34m\u001b[0m\u001b[0m\n\u001b[0;32m--> 618\u001b[0;31m         \u001b[0mr\u001b[0m \u001b[0;34m=\u001b[0m \u001b[0madapter\u001b[0m\u001b[0;34m.\u001b[0m\u001b[0msend\u001b[0m\u001b[0;34m(\u001b[0m\u001b[0mrequest\u001b[0m\u001b[0;34m,\u001b[0m \u001b[0;34m**\u001b[0m\u001b[0mkwargs\u001b[0m\u001b[0;34m)\u001b[0m\u001b[0;34m\u001b[0m\u001b[0m\n\u001b[0m\u001b[1;32m    619\u001b[0m \u001b[0;34m\u001b[0m\u001b[0m\n\u001b[1;32m    620\u001b[0m         \u001b[0;31m# Total elapsed time of the request (approximately)\u001b[0m\u001b[0;34m\u001b[0m\u001b[0;34m\u001b[0m\u001b[0m\n",
      "\u001b[0;32m/Volumes/WDC_internal/Users/bell/anaconda2/lib/python2.7/site-packages/requests/adapters.pyc\u001b[0m in \u001b[0;36msend\u001b[0;34m(self, request, stream, timeout, verify, cert, proxies)\u001b[0m\n\u001b[1;32m    488\u001b[0m \u001b[0;34m\u001b[0m\u001b[0m\n\u001b[1;32m    489\u001b[0m         \u001b[0;32mexcept\u001b[0m \u001b[0;34m(\u001b[0m\u001b[0mProtocolError\u001b[0m\u001b[0;34m,\u001b[0m \u001b[0msocket\u001b[0m\u001b[0;34m.\u001b[0m\u001b[0merror\u001b[0m\u001b[0;34m)\u001b[0m \u001b[0;32mas\u001b[0m \u001b[0merr\u001b[0m\u001b[0;34m:\u001b[0m\u001b[0;34m\u001b[0m\u001b[0m\n\u001b[0;32m--> 490\u001b[0;31m             \u001b[0;32mraise\u001b[0m \u001b[0mConnectionError\u001b[0m\u001b[0;34m(\u001b[0m\u001b[0merr\u001b[0m\u001b[0;34m,\u001b[0m \u001b[0mrequest\u001b[0m\u001b[0;34m=\u001b[0m\u001b[0mrequest\u001b[0m\u001b[0;34m)\u001b[0m\u001b[0;34m\u001b[0m\u001b[0m\n\u001b[0m\u001b[1;32m    491\u001b[0m \u001b[0;34m\u001b[0m\u001b[0m\n\u001b[1;32m    492\u001b[0m         \u001b[0;32mexcept\u001b[0m \u001b[0mMaxRetryError\u001b[0m \u001b[0;32mas\u001b[0m \u001b[0me\u001b[0m\u001b[0;34m:\u001b[0m\u001b[0;34m\u001b[0m\u001b[0m\n",
      "\u001b[0;31mConnectionError\u001b[0m: ('Connection aborted.', error(54, 'Connection reset by peer'))"
     ]
    }
   ],
   "source": [
    "af_9119 = get_profile(9119,'2017-08-01','2017-12-01')\n",
    "af_9085 = get_profile(9085,'2016-08-01','2016-12-01')\n",
    "af_9076 = get_profile(9076,'2016-08-01','2016-12-01')"
   ]
  },
  {
   "cell_type": "code",
   "execution_count": null,
   "metadata": {},
   "outputs": [],
   "source": [
    "af_9119gbc = af_9119.groupby('CYCLE_NUMBER').mean()\n",
    "af_9085gbc = af_9085.groupby('CYCLE_NUMBER').mean()\n",
    "af_9076gbc = af_9076.groupby('CYCLE_NUMBER').mean()"
   ]
  },
  {
   "cell_type": "code",
   "execution_count": null,
   "metadata": {},
   "outputs": [],
   "source": [
    "af_9076gbc.keys()"
   ]
  },
  {
   "cell_type": "code",
   "execution_count": null,
   "metadata": {},
   "outputs": [],
   "source": [
    "af_9076['time (UTC)'][0].to_pydatetime().timetuple().tm_yday"
   ]
  },
  {
   "cell_type": "markdown",
   "metadata": {},
   "source": [
    "### Map via Cartopy"
   ]
  },
  {
   "cell_type": "code",
   "execution_count": null,
   "metadata": {},
   "outputs": [],
   "source": [
    "#using Cartopy for mapping\n",
    "import matplotlib.pyplot as plt\n",
    "\n",
    "import cartopy.crs as ccrs\n",
    "import cartopy.feature as cfeature\n",
    "from cartopy.io import shapereader\n",
    "from cartopy.mpl.gridliner import LONGITUDE_FORMATTER, LATITUDE_FORMATTER\n",
    "\n",
    "def erddap_etopo1():\n",
    "    \"\"\"get subset of etopo1 data from erddap\"\"\"\n",
    "    \n",
    "    urllib.urlretrieve(\"http://coastwatch.pfeg.noaa.gov/erddap/griddap/etopo180.nc?altitude[(65):1:(75)][(-170):1:(-155)]\",\"data/etopo1_tmp.nc\")\n",
    "    \n",
    "def etopo1_subset(file='etopo1.nc', region=None):\n",
    "    \"\"\" read in ardemV2 topography/bathymetry. \"\"\"\n",
    "    \n",
    "    bathydata = Dataset(file)\n",
    "    \n",
    "    topoin = bathydata.variables['altitude'][:]\n",
    "    lons = bathydata.variables['longitude'][:]\n",
    "    lats = bathydata.variables['latitude'][:]\n",
    "    bathydata.close()\n",
    "    \n",
    "    return(topoin, lats, lons)\n",
    "\n",
    "def make_map(projection=ccrs.PlateCarree()):\n",
    "    fig, ax = plt.subplots(figsize=(13, 8),\n",
    "                           subplot_kw=dict(projection=projection))\n",
    "    if projection == ccrs.PlateCarree():\n",
    "        gl = ax.gridlines(draw_labels=True)\n",
    "        gl.xlabels_top = gl.ylabels_right = False\n",
    "        gl.xformatter = LONGITUDE_FORMATTER\n",
    "        gl.yformatter = LATITUDE_FORMATTER\n",
    "    return fig, ax\n",
    "\n",
    "land_50m = cfeature.NaturalEarthFeature('physical', 'land', '50m',\n",
    "                                        edgecolor='face',\n",
    "                                        facecolor='1.0')\n"
   ]
  },
  {
   "cell_type": "code",
   "execution_count": null,
   "metadata": {},
   "outputs": [],
   "source": [
    "### Region Wide\n",
    "extent = [-170, -158, 68, 72]\n",
    "erddap_etopo1()\n",
    "(topoin, lats, lons) = etopo1_subset(file='data/etopo1_tmp.nc')\n",
    "\n",
    "projection=ccrs.LambertConformal(central_longitude=-160.0)\n",
    "transformation=ccrs.PlateCarree()\n",
    "fig,ax = make_map(projection=projection)\n",
    "\n",
    "## Scatter plot of integrated temp\n",
    "ax.scatter([af_9076gbc['longitude (degrees_east)']],[af_9076gbc['latitude (degrees_north)']],\n",
    "        15, c=[af_9076gbc['TEMP (degree_Celsius)']], linewidth=0, edgecolors='none', marker='o', vmin=-2, vmax=7,\n",
    "        cmap=cmocean.cm.thermal, transform=transformation, zorder=3\n",
    "        )\n",
    "ax.scatter([af_9085gbc['longitude (degrees_east)']],[af_9085gbc['latitude (degrees_north)']],\n",
    "        15, c=[af_9085gbc['TEMP (degree_Celsius)']], linewidth=0, edgecolors='none', marker='o', vmin=-2, vmax=7,\n",
    "        cmap=cmocean.cm.thermal, transform=transformation, zorder=3\n",
    "        )\n",
    "ax.scatter([af_9119gbc['longitude (degrees_east)']],[af_9119gbc['latitude (degrees_north)']],\n",
    "        15, c=[af_9119gbc['TEMP (degree_Celsius)']], linewidth=0.2, edgecolors='k', marker='o', vmin=-2, vmax=7,\n",
    "        cmap=cmocean.cm.thermal, transform=transformation, zorder=3\n",
    "        )\n",
    "## bathymetry contours\n",
    "CS = plt.contour(lons, lats, topoin, [-1000, -100, -50, -25,], \n",
    "                 colors='k', alpha=0.4, linestyle='--', linewidths=1, zorder=2,\n",
    "                 transform=transformation)\n",
    "CS = plt.contourf(lons, lats, topoin, [-1000, -100, -50, -25,], \n",
    "                 colors=('#737373','#969696','#bdbdbd','#d9d9d9','#f0f0f0'), extend='both', zorder=1,\n",
    "                 transform=transformation)\n",
    "\n",
    "ax.add_feature(land_50m)\n",
    "ax.coastlines(resolution='50m')\n",
    "ax.set_extent(extent)"
   ]
  },
  {
   "cell_type": "code",
   "execution_count": null,
   "metadata": {},
   "outputs": [],
   "source": [
    "### Zoomed\n",
    "extent = [-168, -165, 69, 72]\n",
    "erddap_etopo1()\n",
    "(topoin, lats, lons) = etopo1_subset(file='data/etopo1_tmp.nc')\n",
    "\n",
    "fig,ax = make_map(projection=ccrs.PlateCarree(-160))\n",
    "\n",
    "ax.scatter([af_9076gbc['longitude (degrees_east)']],[af_9076gbc['latitude (degrees_north)']],\n",
    "        15, c=[af_9076gbc['TEMP (degree_Celsius)']], linewidth=0, edgecolors='none', marker='o', vmin=-2, vmax=7,\n",
    "        cmap=cmocean.cm.thermal, transform=ccrs.PlateCarree(), zorder=3\n",
    "        )\n",
    "ax.scatter([af_9085gbc['longitude (degrees_east)']],[af_9085gbc['latitude (degrees_north)']],\n",
    "        15, c=[af_9085gbc['TEMP (degree_Celsius)']], linewidth=0, edgecolors='none', marker='o', vmin=-2, vmax=7,\n",
    "        cmap=cmocean.cm.thermal, transform=ccrs.PlateCarree(), zorder=3\n",
    "        )\n",
    "ax.scatter([af_9119gbc['longitude (degrees_east)']],[af_9119gbc['latitude (degrees_north)']],\n",
    "        15, c=[af_9119gbc['TEMP (degree_Celsius)']], linewidth=0.2, edgecolors='k', marker='o', vmin=-2, vmax=7,\n",
    "        cmap=cmocean.cm.thermal, transform=ccrs.PlateCarree(), zorder=3\n",
    "        )\n",
    "## bathymetry contours\n",
    "CS = plt.contour(lons, lats, topoin, [-1000, -100, -50, -25,], \n",
    "                 colors='k', alpha=0.4, linestyle='--', linewidths=1, zorder=2,\n",
    "                 transform=ccrs.PlateCarree())\n",
    "CS = plt.contourf(lons, lats, topoin, [-1000, -100, -50, -25,], \n",
    "                 colors=('#737373','#969696','#bdbdbd','#d9d9d9','#f0f0f0'), extend='both', zorder=1,\n",
    "                 transform=ccrs.PlateCarree())\n",
    "\n",
    "ax.add_feature(land_50m)\n",
    "ax.coastlines(resolution='50m')\n",
    "ax.set_extent(extent)"
   ]
  },
  {
   "cell_type": "code",
   "execution_count": null,
   "metadata": {},
   "outputs": [],
   "source": []
  }
 ],
 "metadata": {
  "kernelspec": {
   "display_name": "Python 2",
   "language": "python",
   "name": "python2"
  },
  "language_info": {
   "codemirror_mode": {
    "name": "ipython",
    "version": 2
   },
   "file_extension": ".py",
   "mimetype": "text/x-python",
   "name": "python",
   "nbconvert_exporter": "python",
   "pygments_lexer": "ipython2",
   "version": "2.7.14"
  }
 },
 "nbformat": 4,
 "nbformat_minor": 2
}
