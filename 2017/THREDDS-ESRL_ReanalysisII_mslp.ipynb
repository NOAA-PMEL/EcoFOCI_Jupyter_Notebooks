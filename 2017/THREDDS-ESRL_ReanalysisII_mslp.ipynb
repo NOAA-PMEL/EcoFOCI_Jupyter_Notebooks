{
 "cells": [
  {
   "cell_type": "markdown",
   "metadata": {},
   "source": [
    "## Bering NCEP/NCAR Reanalysis MSLP data for Bering Sea region"
   ]
  },
  {
   "cell_type": "code",
   "execution_count": null,
   "metadata": {},
   "outputs": [],
   "source": [
    "%matplotlib inline"
   ]
  },
  {
   "cell_type": "code",
   "execution_count": 2,
   "metadata": {},
   "outputs": [
    {
     "name": "stderr",
     "output_type": "stream",
     "text": [
      "/Volumes/WDC_internal/Users/bell/anaconda2/lib/python2.7/site-packages/cmocean/tools.py:76: MatplotlibDeprecationWarning: The is_string_like function was deprecated in version 2.1.\n",
      "  if not mpl.cbook.is_string_like(rgbin[0]):\n"
     ]
    }
   ],
   "source": [
    "#using xarray for data read\n",
    "import xarray as xa\n",
    "from netCDF4 import num2date\n",
    "import numpy as np\n",
    "\n",
    "#using Cartopy for mapping\n",
    "import matplotlib.pyplot as plt\n",
    "import cmocean\n",
    "\n",
    "import cartopy.crs as ccrs\n",
    "import cartopy.feature as cfeature\n",
    "from cartopy.io import shapereader\n",
    "from cartopy.mpl.gridliner import LONGITUDE_FORMATTER, LATITUDE_FORMATTER\n",
    "\n",
    "def make_map(projection=ccrs.PlateCarree()):\n",
    "    fig, ax = plt.subplots(figsize=(13, 8),\n",
    "                           subplot_kw=dict(projection=projection))\n",
    "    gl = ax.gridlines(draw_labels=True)\n",
    "    gl.xlabels_top = gl.ylabels_right = False\n",
    "    gl.xformatter = LONGITUDE_FORMATTER\n",
    "    gl.yformatter = LATITUDE_FORMATTER\n",
    "    return fig, ax\n",
    "\n",
    "land_50m = cfeature.NaturalEarthFeature('physical', 'land', '50m',\n",
    "                                        edgecolor='face',\n",
    "                                        facecolor='1.0')"
   ]
  },
  {
   "cell_type": "markdown",
   "metadata": {},
   "source": [
    "Gather data from ESRL THREDDS server for Reanalysis II mslp data\n",
    "\n",
    "NCEP/DOE 2 Reanalysis data provided by the NOAA/OAR/ESRL PSD, Boulder, Colorado, USA, from their Web site at http://www.esrl.noaa.gov/psd/ "
   ]
  },
  {
   "cell_type": "code",
   "execution_count": 54,
   "metadata": {},
   "outputs": [],
   "source": [
    "threddspath='https://www.esrl.noaa.gov/psd/thredds/dodsC/Datasets/ncep.reanalysis2.dailyavgs/surface/'\n",
    "\n",
    "tfile = 'mslp.1979.nc'"
   ]
  },
  {
   "cell_type": "markdown",
   "metadata": {},
   "source": [
    "The mask/scale function didn't work on readin of the esrl file... error is that \\_Fillvalue and missing_value are different.  scale must be applied independantly or missing value should be properly set"
   ]
  },
  {
   "cell_type": "code",
   "execution_count": 79,
   "metadata": {},
   "outputs": [],
   "source": [
    "### list of doy groupings for 8 day averages\n",
    "doy_start = [335,343,351,359,2,10,18,26]\n",
    "doy_end = [342,350,358,1,9,17,25,33]"
   ]
  },
  {
   "cell_type": "code",
   "execution_count": 67,
   "metadata": {},
   "outputs": [
    {
     "data": {
      "image/png": "[encoded data removed]",
      "text/plain": [
       "<matplotlib.figure.Figure at 0x12a814d10>"
      ]
     },
     "metadata": {},
     "output_type": "display_data"
    }
   ],
   "source": [
    "cmap = cmocean.cm.thermal\n",
    "with xa.open_dataset(threddspath+tfile, concat_characters=True, mask_and_scale=False, decode_times=True, decode_coords=True, drop_variables=None) as xadf:\n",
    "    pd = xdf.isel(time=slice(-7,None),lat=slice(7,15),lon=slice(72,83))\n",
    "    facet = ((pd['mslp']+pd.mslp.add_offset)/100.).plot(x='lon', y='lat', col='time',col_wrap=7,robust=True,figsize=(14,2),cmap=cmap)"
   ]
  },
  {
   "cell_type": "code",
   "execution_count": 147,
   "metadata": {},
   "outputs": [],
   "source": [
    "xadf = xa.open_dataset(threddspath+tfile, decode_cf=False)\n",
    "\n",
    "pd = xdf.isel(time=slice(335,342+1),lat=slice(7,15),lon=slice(72,83))"
   ]
  },
  {
   "cell_type": "code",
   "execution_count": 148,
   "metadata": {},
   "outputs": [],
   "source": [
    "#map to cf conventions\n",
    "pd =xa.decode_cf(pd,mask_and_scale=False,decode_times=True).mslp"
   ]
  },
  {
   "cell_type": "code",
   "execution_count": 156,
   "metadata": {},
   "outputs": [],
   "source": [
    "eightdayave = pd.groupby(pd['time.dayofyear']).mean('time')"
   ]
  },
  {
   "cell_type": "code",
   "execution_count": 170,
   "metadata": {},
   "outputs": [
    {
     "name": "stdout",
     "output_type": "stream",
     "text": [
      "[-10669. -10681. -10661. -10599. -10499. -10361. -10209. -10049.  -9899.\n",
      "  -9764.  -9649. -11336. -11461. -11499. -11449. -11319. -11129. -10924.\n",
      " -10734. -10571. -10439. -10329. -12054. -12206. -12221. -12089. -11829.\n",
      " -11509. -11191. -10899. -10664. -10499. -10394. -12294. -12426. -12404.\n",
      " -12219. -11931. -11576. -11189. -10821. -10499. -10254. -10099. -11654.\n",
      " -11719. -11659. -11514. -11314. -11074. -10799. -10504. -10231. -10029.\n",
      "  -9924. -10711. -10659. -10554. -10434. -10326. -10224. -10114. -10014.\n",
      "  -9941.  -9911.  -9941.  -9799.  -9716.  -9624.  -9549.  -9491.  -9459.\n",
      "  -9489.  -9601.  -9789.  -9999. -10171.  -9006.  -8896.  -8826.  -8784.\n",
      "  -8756.  -8776.  -8876.  -9114.  -9491.  -9934. -10301. -11156. -11211.\n",
      " -11199. -11126. -11006. -10861. -10709. -10546. -10386. -10226. -10051.\n",
      " -11316. -11509. -11576. -11549. -11436. -11266. -11071. -10869. -10659.\n",
      " -10459. -10264. -11071. -11294. -11406. -11414. -11334. -11201. -11034.\n",
      " -10811. -10536. -10224.  -9916. -10889. -11054. -11126. -11124. -11076.\n",
      " -10984. -10829. -10591. -10249.  -9849.  -9474. -10826. -10919. -10966.\n",
      " -10959. -10894. -10739. -10486. -10119.  -9696.  -9296.  -9034. -10744.\n",
      " -10824. -10876. -10861. -10736. -10471. -10096.  -9659.  -9244.  -8939.\n",
      "  -8841. -10731. -10774. -10764. -10659. -10429. -10101.  -9726.  -9369.\n",
      "  -9064.  -8864.  -8834. -10696. -10594. -10426. -10189.  -9886.  -9569.\n",
      "  -9284.  -9036.  -8819.  -8664.  -8641. -11554. -11631. -11661. -11661.\n",
      " -11641. -11619. -11586. -11541. -11474. -11379. -11244. -10951. -11069.\n",
      " -11151. -11229. -11321. -11436. -11551. -11651. -11694. -11656. -11541.\n",
      " -10364. -10481. -10619. -10804. -11041. -11306. -11576. -11769. -11829.\n",
      " -11749. -11559. -10321. -10481. -10659. -10884. -11176. -11491. -11741.\n",
      " -11866. -11814. -11626. -11384. -10704. -10831. -10946. -11099. -11316.\n",
      " -11539. -11679. -11666. -11499. -11249. -11011. -10744. -10791. -10826.\n",
      " -10891. -11004. -11119. -11169. -11121. -10956. -10741. -10544. -10351.\n",
      " -10426. -10481. -10509. -10511. -10506. -10484. -10436. -10351. -10246.\n",
      " -10126.  -9929.  -9979. -10006.  -9991.  -9946.  -9889.  -9836.  -9794.\n",
      "  -9746.  -9701.  -9646.  -9946.  -9971. -10029. -10119. -10251. -10411.\n",
      " -10586. -10761. -10909. -11024. -11091.  -9361.  -9409.  -9481.  -9576.\n",
      "  -9706.  -9876. -10074. -10291. -10506. -10696. -10844.  -9036.  -9111.\n",
      "  -9194.  -9271.  -9354.  -9446.  -9554.  -9679.  -9809.  -9929. -10021.\n",
      "  -8994.  -9154.  -9266.  -9344.  -9401.  -9461.  -9519.  -9574.  -9611.\n",
      "  -9629.  -9634.  -9281.  -9399.  -9466.  -9521.  -9581.  -9644.  -9686.\n",
      "  -9691.  -9659.  -9621.  -9594.  -9479.  -9474.  -9456.  -9469.  -9526.\n",
      "  -9601.  -9649.  -9656.  -9624.  -9601.  -9614.  -9436.  -9366.  -9276.\n",
      "  -9194.  -9154.  -9151.  -9169.  -9196.  -9234.  -9291.  -9374.  -9314.\n",
      "  -9176.  -9001.  -8814.  -8671.  -8599.  -8599.  -8656.  -8759.  -8879.\n",
      "  -8996.  -8674.  -8711.  -8761.  -8814.  -8864.  -8911.  -8951.  -8986.\n",
      "  -9011.  -9041.  -9079.  -8191.  -8221.  -8249.  -8274.  -8301.  -8326.\n",
      "  -8351.  -8374.  -8391.  -8414.  -8456.  -7959.  -8049.  -8114.  -8149.\n",
      "  -8159.  -8164.  -8169.  -8169.  -8156.  -8139.  -8136.  -8069.  -8254.\n",
      "  -8381.  -8446.  -8461.  -8449.  -8419.  -8356.  -8264.  -8161.  -8069.\n",
      "  -8444.  -8611.  -8771.  -8901.  -8974.  -8956.  -8849.  -8669.  -8434.\n",
      "  -8201.  -8019.  -8736.  -8871.  -9036.  -9181.  -9231.  -9151.  -8939.\n",
      "  -8651.  -8354.  -8096.  -7939.  -8634.  -8804.  -8956.  -9026.  -8956.\n",
      "  -8766.  -8506.  -8244.  -8026.  -7864.  -7769.  -8224.  -8371.  -8464.\n",
      "  -8454.  -8339.  -8164.  -7991.  -7869.  -7791.  -7741.  -7701.  -7936.\n",
      "  -7921.  -7926.  -7941.  -7971.  -8006.  -8051.  -8091.  -8134.  -8174.\n",
      "  -8211.  -7589.  -7646.  -7704.  -7759.  -7811.  -7866.  -7919.  -7959.\n",
      "  -7971.  -7956.  -7929.  -7334.  -7484.  -7636.  -7789.  -7956.  -8131.\n",
      "  -8296.  -8431.  -8489.  -8471.  -8379.  -7466.  -7706.  -7951.  -8214.\n",
      "  -8501.  -8791.  -9031.  -9159.  -9159.  -9029.  -8819.  -7844.  -8091.\n",
      "  -8366.  -8666.  -8981.  -9239.  -9371.  -9346.  -9174.  -8911.  -8634.\n",
      "  -8109.  -8319.  -8541.  -8764.  -8961.  -9074.  -9069.  -8939.  -8726.\n",
      "  -8504.  -8341.  -7951.  -8169.  -8369.  -8521.  -8616.  -8626.  -8559.\n",
      "  -8434.  -8301.  -8211.  -8209.  -7449.  -7646.  -7819.  -7939.  -8011.\n",
      "  -8036.  -8026.  -8006.  -8024.  -8134.  -8349.  -7999.  -7939.  -7881.\n",
      "  -7831.  -7804.  -7786.  -7781.  -7789.  -7804.  -7829.  -7851.  -7749.\n",
      "  -7731.  -7719.  -7721.  -7741.  -7784.  -7831.  -7866.  -7886.  -7884.\n",
      "  -7876.  -7481.  -7546.  -7626.  -7726.  -7854.  -8011.  -8179.  -8326.\n",
      "  -8441.  -8501.  -8506.  -7326.  -7481.  -7631.  -7799.  -8016.  -8256.\n",
      "  -8496.  -8691.  -8811.  -8854.  -8836.  -7324.  -7436.  -7571.  -7751.\n",
      "  -7994.  -8279.  -8544.  -8739.  -8821.  -8806.  -8749.  -7336.  -7339.\n",
      "  -7389.  -7506.  -7691.  -7941.  -8211.  -8444.  -8586.  -8646.  -8684.\n",
      "  -7351.  -7289.  -7291.  -7356.  -7464.  -7619.  -7806.  -8006.  -8179.\n",
      "  -8311.  -8446.  -7491.  -7299.  -7214.  -7214.  -7266.  -7359.  -7471.\n",
      "  -7599.  -7721.  -7849.  -7994.  -7854.  -7836.  -7811.  -7774.  -7726.\n",
      "  -7671.  -7606.  -7541.  -7476.  -7429.  -7401.  -7346.  -7406.  -7466.\n",
      "  -7521.  -7561.  -7589.  -7591.  -7571.  -7524.  -7461.  -7404.  -7044.\n",
      "  -7184.  -7324.  -7439.  -7526.  -7589.  -7634.  -7656.  -7656.  -7629.\n",
      "  -7594.  -7144.  -7359.  -7509.  -7601.  -7654.  -7686.  -7699.  -7674.\n",
      "  -7629.  -7571.  -7529.  -7529.  -7704.  -7816.  -7876.  -7899.  -7884.\n",
      "  -7831.  -7724.  -7571.  -7419.  -7349.  -8206.  -8304.  -8349.  -8334.\n",
      "  -8284.  -8186.  -8026.  -7819.  -7584.  -7396.  -7349.  -9056.  -9036.\n",
      "  -8919.  -8734.  -8509.  -8251.  -7979.  -7716.  -7486.  -7329.  -7286.\n",
      "  -9301.  -9129.  -8864.  -8529.  -8164.  -7814.  -7511.  -7269.  -7091.\n",
      "  -6979.  -6949.]\n"
     ]
    }
   ],
   "source": [
    "size = 1\n",
    "for dim in np.shape(eightdayave): size *= dim\n",
    "print eightdayave.data.reshape(1,size)[0]"
   ]
  },
  {
   "cell_type": "code",
   "execution_count": null,
   "metadata": {},
   "outputs": [],
   "source": []
  }
 ],
 "metadata": {
  "kernelspec": {
   "display_name": "Python 2",
   "language": "python",
   "name": "python2"
  },
  "language_info": {
   "codemirror_mode": {
    "name": "ipython",
    "version": 2
   },
   "file_extension": ".py",
   "mimetype": "text/x-python",
   "name": "python",
   "nbconvert_exporter": "python",
   "pygments_lexer": "ipython2",
   "version": "2.7.14"
  }
 },
 "nbformat": 4,
 "nbformat_minor": 2
}
