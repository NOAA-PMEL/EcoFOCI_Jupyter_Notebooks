{
 "cells": [
  {
   "cell_type": "markdown",
   "metadata": {},
   "source": [
    "## Bering NCEP/NCAR Reanalysis MSLP data for Bering Sea region"
   ]
  },
  {
   "cell_type": "code",
   "execution_count": 3,
   "metadata": {},
   "outputs": [],
   "source": [
    "%matplotlib inline"
   ]
  },
  {
   "cell_type": "code",
   "execution_count": 4,
   "metadata": {},
   "outputs": [
    {
     "name": "stderr",
     "output_type": "stream",
     "text": [
      "/Volumes/WDC_internal/Users/bell/anaconda2/lib/python2.7/site-packages/cmocean/tools.py:76: MatplotlibDeprecationWarning: The is_string_like function was deprecated in version 2.1.\n",
      "  if not mpl.cbook.is_string_like(rgbin[0]):\n"
     ]
    }
   ],
   "source": [
    "#using xarray for data read\n",
    "import xarray as xa\n",
    "from netCDF4 import num2date\n",
    "import numpy as np\n",
    "\n",
    "#using Cartopy for mapping\n",
    "import matplotlib.pyplot as plt\n",
    "import cmocean\n",
    "\n",
    "import cartopy.crs as ccrs\n",
    "import cartopy.feature as cfeature\n",
    "from cartopy.io import shapereader\n",
    "from cartopy.mpl.gridliner import LONGITUDE_FORMATTER, LATITUDE_FORMATTER\n",
    "\n",
    "def make_map(projection=ccrs.PlateCarree()):\n",
    "    fig, ax = plt.subplots(figsize=(13, 8),\n",
    "                           subplot_kw=dict(projection=projection))\n",
    "    gl = ax.gridlines(draw_labels=True)\n",
    "    gl.xlabels_top = gl.ylabels_right = False\n",
    "    gl.xformatter = LONGITUDE_FORMATTER\n",
    "    gl.yformatter = LATITUDE_FORMATTER\n",
    "    return fig, ax\n",
    "\n",
    "land_50m = cfeature.NaturalEarthFeature('physical', 'land', '50m',\n",
    "                                        edgecolor='face',\n",
    "                                        facecolor='1.0')"
   ]
  },
  {
   "cell_type": "markdown",
   "metadata": {},
   "source": [
    "Gather data from ESRL THREDDS server for Reanalysis II mslp data\n",
    "\n",
    "NCEP/DOE 2 Reanalysis data provided by the NOAA/OAR/ESRL PSD, Boulder, Colorado, USA, from their Web site at http://www.esrl.noaa.gov/psd/ "
   ]
  },
  {
   "cell_type": "code",
   "execution_count": 5,
   "metadata": {},
   "outputs": [],
   "source": [
    "# mslp\n",
    "threddspath='https://www.esrl.noaa.gov/psd/thredds/dodsC/Datasets/ncep.reanalysis2.dailyavgs/surface/'\n",
    "\n",
    "tfile = 'mslp.1979.nc'"
   ]
  },
  {
   "cell_type": "markdown",
   "metadata": {},
   "source": [
    "The mask/scale function didn't work on readin of the esrl file... error is that \\_Fillvalue and missing_value are different.  scale must be applied independantly or missing value should be properly set"
   ]
  },
  {
   "cell_type": "code",
   "execution_count": 6,
   "metadata": {},
   "outputs": [],
   "source": [
    "### list of doy groupings for 8 day averages\n",
    "doy_start = [335,343,351,359,2,10,18,26]\n",
    "doy_end = [342,350,358,1,9,17,25,33]"
   ]
  },
  {
   "cell_type": "code",
   "execution_count": 8,
   "metadata": {},
   "outputs": [
    {
     "name": "stdout",
     "output_type": "stream",
     "text": [
      "<xarray.DataArray 'mslp' (time: 7, lat: 8, lon: 11)>\n",
      "array([[[ -8956,  -8939, ...,  -9121,  -9151],\n",
      "        [ -9234,  -9261, ..., -10024, -10079],\n",
      "        ..., \n",
      "        [-12586, -12994, ..., -14396, -14296],\n",
      "        [-11744, -12154, ..., -13819, -13769]],\n",
      "\n",
      "       [[ -8901,  -8949, ...,  -9941, -10019],\n",
      "        [ -9119,  -9226, ..., -10861, -10934],\n",
      "        ..., \n",
      "        [-10801, -11044, ..., -13389, -13326],\n",
      "        [-10524, -10821, ..., -13159, -13016]],\n",
      "\n",
      "       ..., \n",
      "       [[ -6676,  -6786, ...,  -7026,  -7034],\n",
      "        [ -6586,  -6636, ...,  -6764,  -6874],\n",
      "        ..., \n",
      "        [ -9146,  -8739, ...,  -7094,  -7204],\n",
      "        [ -9364,  -9129, ...,  -7559,  -7646]],\n",
      "\n",
      "       [[ -6526,  -6601, ...,  -6764,  -6764],\n",
      "        [ -6521,  -6546, ...,  -6479,  -6491],\n",
      "        ..., \n",
      "        [ -8726,  -8549, ...,  -7666,  -7874],\n",
      "        [ -8921,  -8819, ...,  -8146,  -8251]]], dtype=int16)\n",
      "Coordinates:\n",
      "  * lat      (lat) float32 72.5 70.0 67.5 65.0 62.5 60.0 57.5 55.0\n",
      "  * lon      (lon) float32 180.0 182.5 185.0 187.5 190.0 192.5 195.0 197.5 ...\n",
      "  * time     (time) datetime64[ns] 1979-12-25 1979-12-26 1979-12-27 ...\n",
      "Attributes:\n",
      "    long_name:             Daily Mean Sea Level Pressure\n",
      "    valid_range:           [-32765  15235]\n",
      "    unpacked_valid_range:  [  77000.  125000.]\n",
      "    actual_range:          [  93682.  106592.]\n",
      "    units:                 Pascals\n",
      "    add_offset:            109766.0\n",
      "    scale_factor:          1.0\n",
      "    missing_value:         32766\n",
      "    _FillValue:            -32767\n",
      "    precision:             0\n",
      "    GRIB_id:               2\n",
      "    GRIB_name:             PRMSL\n",
      "    var_desc:              Mean Sea Level Pressure\n",
      "    dataset:               NCEP/DOE AMIP-II Reanalysis (Reanalysis-2) Daily A...\n",
      "    level_desc:            Sea Level\n",
      "    statistic:             Mean\n",
      "    parent_stat:           Individual Obs\n",
      "    standard_name:         pressure\n",
      "    cell_methods:          time: mean (of 4 6-hourly values in one day)\n"
     ]
    },
    {
     "data": {
      "image/png": "[encoded data removed]",
      "text/plain": [
       "<matplotlib.figure.Figure at 0x1197c4850>"
      ]
     },
     "metadata": {},
     "output_type": "display_data"
    }
   ],
   "source": [
    "cmap = cmocean.cm.thermal\n",
    "with xa.open_dataset(threddspath+tfile, concat_characters=True, mask_and_scale=False, decode_times=True, decode_coords=True, drop_variables=None) as xdf:\n",
    "    pd = xdf.isel(time=slice(-7,None),lat=slice(7,15),lon=slice(72,83))\n",
    "    pd =xa.decode_cf(pd,mask_and_scale=False,decode_times=True)\n",
    "    facet = ((pd['mslp']+pd.mslp.add_offset)/100.).plot(x='lon', y='lat', col='time',col_wrap=7,robust=True,figsize=(14,2),cmap=cmap)"
   ]
  },
  {
   "cell_type": "code",
   "execution_count": 6,
   "metadata": {},
   "outputs": [],
   "source": [
    "xdf = xa.open_dataset(threddspath+tfile, decode_cf=False)\n",
    "\n",
    "pd = xdf.isel(time=slice(335,342+1),lat=slice(7,15),lon=slice(72,83))"
   ]
  },
  {
   "cell_type": "code",
   "execution_count": 7,
   "metadata": {},
   "outputs": [],
   "source": [
    "#map to cf conventions\n",
    "pd =xa.decode_cf(pd,mask_and_scale=False,decode_times=True)"
   ]
  },
  {
   "cell_type": "code",
   "execution_count": 8,
   "metadata": {},
   "outputs": [],
   "source": [
    "pd['mslp'] = (pd['mslp']+pd.mslp.add_offset)/100.\n",
    "eightday = pd.groupby(pd['time.dayofyear']).mean('time')\n",
    "eightdayave = eightday.mslp.mean('dayofyear')"
   ]
  },
  {
   "cell_type": "markdown",
   "metadata": {},
   "source": [
    "reshaping the gridded data (lat: 8, lon:11) -> lon1,lat1;lon1,lat2;lon1,lat3..."
   ]
  },
  {
   "cell_type": "code",
   "execution_count": 9,
   "metadata": {},
   "outputs": [],
   "source": [
    "size = 1\n",
    "for dim in np.shape(eightdayave): size *= dim\n",
    "\n",
    "f_handle = file('tmp.txt', 'a')\n",
    "np.savetxt(f_handle, eightdayave.data.reshape(1,size),fmt='%4.2f',delimiter=',')\n",
    "f_handle.close()\n"
   ]
  },
  {
   "cell_type": "code",
   "execution_count": 10,
   "metadata": {},
   "outputs": [
    {
     "name": "stdout",
     "output_type": "stream",
     "text": [
      "[ 180.   182.5  185.   187.5  190.   192.5  195.   197.5  200.   202.5\n",
      "  205. ]\n"
     ]
    }
   ],
   "source": [
    "print eightdayave.lon.data"
   ]
  },
  {
   "cell_type": "code",
   "execution_count": 11,
   "metadata": {},
   "outputs": [
    {
     "name": "stdout",
     "output_type": "stream",
     "text": [
      "[ 72.5  70.   67.5  65.   62.5  60.   57.5  55. ]\n"
     ]
    }
   ],
   "source": [
    "print eightdayave.lat.data"
   ]
  },
  {
   "cell_type": "code",
   "execution_count": 12,
   "metadata": {},
   "outputs": [
    {
     "data": {
      "text/plain": [
       "(8, 11)"
      ]
     },
     "execution_count": 12,
     "metadata": {},
     "output_type": "execute_result"
    }
   ],
   "source": [
    "np.shape(eightdayave)"
   ]
  },
  {
   "cell_type": "code",
   "execution_count": 13,
   "metadata": {},
   "outputs": [
    {
     "data": {
      "text/plain": [
       "<xarray.DataArray 'mslp' (lat: 8, lon: 11)>\n",
       "array([[ 1002.924988,  1002.783752,  1002.748718,  1002.828796,  1002.95752 ,\n",
       "         1003.127502,  1003.311279,  1003.530029,  1003.793701,  1004.077515,\n",
       "         1004.438721],\n",
       "       [ 1005.361206,  1004.595032,  1004.10376 ,  1003.8125  ,  1003.664917,\n",
       "         1003.569946,  1003.519958,  1003.516235,  1003.657471,  1003.953735,\n",
       "         1004.356262],\n",
       "       [ 1007.231201,  1005.966248,  1004.984924,  1004.308777,  1003.84375 ,\n",
       "         1003.463745,  1003.118835,  1002.985046,  1003.184998,  1003.733765,\n",
       "         1004.528809],\n",
       "       [ 1007.03125 ,  1005.266296,  1004.001221,  1003.121216,  1002.389954,\n",
       "         1001.79248 ,  1001.506287,  1001.744934,  1002.614929,  1003.943787,\n",
       "         1005.35498 ],\n",
       "       [ 1005.652466,  1004.272461,  1003.208801,  1002.301208,  1001.46875 ,\n",
       "         1000.967468,  1001.103821,  1002.087463,  1003.803772,  1005.744995,\n",
       "         1007.267456],\n",
       "       [ 1005.078674,  1004.433777,  1003.876221,  1003.359985,  1002.961182,\n",
       "         1002.951172,  1003.568665,  1004.78125 ,  1006.391174,  1007.867615,\n",
       "         1008.593689],\n",
       "       [ 1006.023743,  1005.684998,  1005.559937,  1005.725037,  1006.247498,\n",
       "         1007.061218,  1008.012512,  1008.907471,  1009.622498,  1010.016235,\n",
       "         1009.891235],\n",
       "       [ 1008.397461,  1008.797546,  1009.38501 ,  1010.267517,  1011.361206,\n",
       "         1012.402466,  1013.16748 ,  1013.481323,  1013.357544,  1012.808777,\n",
       "         1011.938721]], dtype=float32)\n",
       "Coordinates:\n",
       "  * lat      (lat) float32 72.5 70.0 67.5 65.0 62.5 60.0 57.5 55.0\n",
       "  * lon      (lon) float32 180.0 182.5 185.0 187.5 190.0 192.5 195.0 197.5 ..."
      ]
     },
     "execution_count": 13,
     "metadata": {},
     "output_type": "execute_result"
    }
   ],
   "source": [
    "(eightdayave)"
   ]
  },
  {
   "cell_type": "code",
   "execution_count": 14,
   "metadata": {},
   "outputs": [
    {
     "data": {
      "text/plain": [
       "array([[ 1002.92498779,  1002.78375244,  1002.74871826,  1002.82879639,\n",
       "         1002.95751953,  1003.12750244,  1003.3112793 ,  1003.5300293 ,\n",
       "         1003.79370117,  1004.07751465,  1004.4387207 ,  1005.36120605,\n",
       "         1004.59503174,  1004.10375977,  1003.8125    ,  1003.66491699,\n",
       "         1003.56994629,  1003.5199585 ,  1003.51623535,  1003.6574707 ,\n",
       "         1003.95373535,  1004.35626221,  1007.23120117,  1005.96624756,\n",
       "         1004.98492432,  1004.30877686,  1003.84375   ,  1003.46374512,\n",
       "         1003.11883545,  1002.98504639,  1003.18499756,  1003.73376465,\n",
       "         1004.52880859,  1007.03125   ,  1005.26629639,  1004.0012207 ,\n",
       "         1003.12121582,  1002.38995361,  1001.79248047,  1001.50628662,\n",
       "         1001.74493408,  1002.6149292 ,  1003.94378662,  1005.35498047,\n",
       "         1005.65246582,  1004.27246094,  1003.20880127,  1002.3012085 ,\n",
       "         1001.46875   ,  1000.96746826,  1001.1038208 ,  1002.08746338,\n",
       "         1003.80377197,  1005.74499512,  1007.26745605,  1005.07867432,\n",
       "         1004.43377686,  1003.8762207 ,  1003.35998535,  1002.96118164,\n",
       "         1002.95117188,  1003.56866455,  1004.78125   ,  1006.39117432,\n",
       "         1007.86761475,  1008.59368896,  1006.02374268,  1005.68499756,\n",
       "         1005.55993652,  1005.72503662,  1006.24749756,  1007.06121826,\n",
       "         1008.01251221,  1008.9074707 ,  1009.62249756,  1010.01623535,\n",
       "         1009.89123535,  1008.39746094,  1008.79754639,  1009.38500977,\n",
       "         1010.26751709,  1011.36120605,  1012.40246582,  1013.16748047,\n",
       "         1013.48132324,  1013.35754395,  1012.80877686,  1011.9387207 ]], dtype=float32)"
      ]
     },
     "execution_count": 14,
     "metadata": {},
     "output_type": "execute_result"
    }
   ],
   "source": [
    "eightdayave.data.reshape(1,88)"
   ]
  },
  {
   "cell_type": "code",
   "execution_count": null,
   "metadata": {},
   "outputs": [],
   "source": []
  }
 ],
 "metadata": {
  "kernelspec": {
   "display_name": "Python 2",
   "language": "python",
   "name": "python2"
  },
  "language_info": {
   "codemirror_mode": {
    "name": "ipython",
    "version": 2
   },
   "file_extension": ".py",
   "mimetype": "text/x-python",
   "name": "python",
   "nbconvert_exporter": "python",
   "pygments_lexer": "ipython2",
   "version": "2.7.14"
  }
 },
 "nbformat": 4,
 "nbformat_minor": 2
}
