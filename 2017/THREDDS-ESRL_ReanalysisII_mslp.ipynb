{
 "cells": [
  {
   "cell_type": "markdown",
   "metadata": {},
   "source": [
    "## Bering NCEP/NCAR Reanalysis MSLP data for Bering Sea region"
   ]
  },
  {
   "cell_type": "code",
   "execution_count": null,
   "metadata": {},
   "outputs": [],
   "source": [
    "%matplotlib inline"
   ]
  },
  {
   "cell_type": "code",
   "execution_count": 2,
   "metadata": {},
   "outputs": [
    {
     "name": "stderr",
     "output_type": "stream",
     "text": [
      "/Volumes/WDC_internal/Users/bell/anaconda2/lib/python2.7/site-packages/cmocean/tools.py:76: MatplotlibDeprecationWarning: The is_string_like function was deprecated in version 2.1.\n",
      "  if not mpl.cbook.is_string_like(rgbin[0]):\n"
     ]
    }
   ],
   "source": [
    "#using xarray for data read\n",
    "import xarray as xa\n",
    "from netCDF4 import num2date\n",
    "import numpy as np\n",
    "\n",
    "#using Cartopy for mapping\n",
    "import matplotlib.pyplot as plt\n",
    "import cmocean\n",
    "\n",
    "import cartopy.crs as ccrs\n",
    "import cartopy.feature as cfeature\n",
    "from cartopy.io import shapereader\n",
    "from cartopy.mpl.gridliner import LONGITUDE_FORMATTER, LATITUDE_FORMATTER\n",
    "\n",
    "def make_map(projection=ccrs.PlateCarree()):\n",
    "    fig, ax = plt.subplots(figsize=(13, 8),\n",
    "                           subplot_kw=dict(projection=projection))\n",
    "    gl = ax.gridlines(draw_labels=True)\n",
    "    gl.xlabels_top = gl.ylabels_right = False\n",
    "    gl.xformatter = LONGITUDE_FORMATTER\n",
    "    gl.yformatter = LATITUDE_FORMATTER\n",
    "    return fig, ax\n",
    "\n",
    "land_50m = cfeature.NaturalEarthFeature('physical', 'land', '50m',\n",
    "                                        edgecolor='face',\n",
    "                                        facecolor='1.0')"
   ]
  },
  {
   "cell_type": "markdown",
   "metadata": {},
   "source": [
    "Gather data from ESRL THREDDS server for Reanalysis II mslp data\n",
    "\n",
    "NCEP/DOE 2 Reanalysis data provided by the NOAA/OAR/ESRL PSD, Boulder, Colorado, USA, from their Web site at http://www.esrl.noaa.gov/psd/ "
   ]
  },
  {
   "cell_type": "code",
   "execution_count": 54,
   "metadata": {},
   "outputs": [],
   "source": [
    "threddspath='https://www.esrl.noaa.gov/psd/thredds/dodsC/Datasets/ncep.reanalysis2.dailyavgs/surface/'\n",
    "\n",
    "tfile = 'mslp.1979.nc'"
   ]
  },
  {
   "cell_type": "markdown",
   "metadata": {},
   "source": [
    "The mask/scale function didn't work on readin of the esrl file... error is that \\_Fillvalue and missing_value are different.  scale must be applied independantly or missing value should be properly set"
   ]
  },
  {
   "cell_type": "code",
   "execution_count": 79,
   "metadata": {},
   "outputs": [],
   "source": [
    "### list of doy groupings for 8 day averages\n",
    "doy_start = [335,343,351,359,2,10,18,26]\n",
    "doy_end = [342,350,358,1,9,17,25,33]"
   ]
  },
  {
   "cell_type": "code",
   "execution_count": 67,
   "metadata": {},
   "outputs": [
    {
     "data": {
      "image/png": "[encoded data removed]",
      "text/plain": [
       "<matplotlib.figure.Figure at 0x12a814d10>"
      ]
     },
     "metadata": {},
     "output_type": "display_data"
    }
   ],
   "source": [
    "cmap = cmocean.cm.thermal\n",
    "with xa.open_dataset(threddspath+tfile, concat_characters=True, mask_and_scale=False, decode_times=True, decode_coords=True, drop_variables=None) as xadf:\n",
    "    pd = xdf.isel(time=slice(-7,None),lat=slice(7,15),lon=slice(72,83))\n",
    "    facet = ((pd['mslp']+pd.mslp.add_offset)/100.).plot(x='lon', y='lat', col='time',col_wrap=7,robust=True,figsize=(14,2),cmap=cmap)"
   ]
  },
  {
   "cell_type": "code",
   "execution_count": 247,
   "metadata": {},
   "outputs": [],
   "source": [
    "xadf = xa.open_dataset(threddspath+tfile, decode_cf=False)\n",
    "\n",
    "pd = xdf.isel(time=slice(335,342+1),lat=slice(7,15),lon=slice(72,83))"
   ]
  },
  {
   "cell_type": "code",
   "execution_count": 248,
   "metadata": {},
   "outputs": [],
   "source": [
    "#map to cf conventions\n",
    "pd =xa.decode_cf(pd,mask_and_scale=False,decode_times=True)"
   ]
  },
  {
   "cell_type": "code",
   "execution_count": 249,
   "metadata": {},
   "outputs": [],
   "source": [
    "pd['mslp'] = (pd['mslp']+pd.mslp.add_offset)/100.\n",
    "eightday = pd.groupby(pd['time.dayofyear']).mean('time')\n",
    "eightdayave = eightday.mslp.mean('dayofyear')"
   ]
  },
  {
   "cell_type": "markdown",
   "metadata": {},
   "source": [
    "reshaping the gridded data (lat: 11, lon:8) -> lon1,lat1;lon1,lat2;lon1,lat3..."
   ]
  },
  {
   "cell_type": "code",
   "execution_count": 266,
   "metadata": {},
   "outputs": [],
   "source": [
    "size = 1\n",
    "for dim in np.shape(eightdayave): size *= dim\n",
    "\n",
    "f_handle = file('tmp.txt', 'a')\n",
    "np.savetxt(f_handle, eightdayave.data.reshape(1,size),delimiter=',')\n",
    "f_handle.close()\n"
   ]
  },
  {
   "cell_type": "code",
   "execution_count": 257,
   "metadata": {},
   "outputs": [
    {
     "name": "stdout",
     "output_type": "stream",
     "text": [
      "[ 180.   182.5  185.   187.5  190.   192.5  195.   197.5  200.   202.5\n",
      "  205. ]\n"
     ]
    }
   ],
   "source": [
    "print eightdayave.lon.data"
   ]
  },
  {
   "cell_type": "code",
   "execution_count": 258,
   "metadata": {},
   "outputs": [
    {
     "name": "stdout",
     "output_type": "stream",
     "text": [
      "[ 72.5  70.   67.5  65.   62.5  60.   57.5  55. ]\n"
     ]
    }
   ],
   "source": [
    "print eightdayave.lat.data"
   ]
  },
  {
   "cell_type": "code",
   "execution_count": null,
   "metadata": {},
   "outputs": [],
   "source": []
  }
 ],
 "metadata": {
  "kernelspec": {
   "display_name": "Python 2",
   "language": "python",
   "name": "python2"
  },
  "language_info": {
   "codemirror_mode": {
    "name": "ipython",
    "version": 2
   },
   "file_extension": ".py",
   "mimetype": "text/x-python",
   "name": "python",
   "nbconvert_exporter": "python",
   "pygments_lexer": "ipython2",
   "version": "2.7.14"
  }
 },
 "nbformat": 4,
 "nbformat_minor": 2
}
