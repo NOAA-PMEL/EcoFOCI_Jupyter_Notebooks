{
 "cells": [
  {
   "cell_type": "markdown",
   "metadata": {
    "extensions": {
     "jupyter_dashboards": {
      "version": 1,
      "views": {
       "grid_default": {
        "col": 0,
        "height": 4,
        "hidden": false,
        "row": 0,
        "width": 4
       },
       "report_default": {
        "hidden": false
       }
      }
     }
    }
   },
   "source": [
    "## Python-gmt Test with FOCI Data from ERDDAP\n",
    "### erddapy example for PMEL tools - ARGO Floats"
   ]
  },
  {
   "cell_type": "markdown",
   "metadata": {
    "extensions": {
     "jupyter_dashboards": {
      "version": 1,
      "views": {
       "grid_default": {
        "col": 4,
        "height": 4,
        "hidden": false,
        "row": 0,
        "width": 4
       },
       "report_default": {
        "hidden": false
       }
      }
     }
    }
   },
   "source": [
    "__pyversion__==3.7   \n",
    "__author__==S.Bell"
   ]
  },
  {
   "cell_type": "markdown",
   "metadata": {
    "extensions": {
     "jupyter_dashboards": {
      "version": 1,
      "views": {
       "grid_default": {
        "col": 8,
        "height": 4,
        "hidden": false,
        "row": 0,
        "width": 4
       },
       "report_default": {
        "hidden": false
       }
      }
     }
    }
   },
   "source": [
    "### connecting and basic information"
   ]
  },
  {
   "cell_type": "code",
   "execution_count": 32,
   "metadata": {
    "extensions": {
     "jupyter_dashboards": {
      "version": 1,
      "views": {
       "grid_default": {
        "hidden": true
       },
       "report_default": {
        "hidden": true
       }
      }
     }
    }
   },
   "outputs": [],
   "source": [
    "from erddapy import ERDDAP\n",
    "import pandas as pd\n",
    "import numpy as np\n",
    "\n",
    "server_url='http://akutan.pmel.noaa.gov:8080/erddap'\n",
    "e = ERDDAP(server=server_url)"
   ]
  },
  {
   "cell_type": "markdown",
   "metadata": {
    "extensions": {
     "jupyter_dashboards": {
      "version": 1,
      "views": {
       "grid_default": {
        "col": 0,
        "height": 4,
        "hidden": false,
        "row": 4,
        "width": 4
       },
       "report_default": {
        "hidden": false
       }
      }
     }
    }
   },
   "source": [
    "Get only ARGOS Drifter datafiles"
   ]
  },
  {
   "cell_type": "code",
   "execution_count": 33,
   "metadata": {
    "extensions": {
     "jupyter_dashboards": {
      "version": 1,
      "views": {
       "grid_default": {
        "hidden": true
       },
       "report_default": {
        "hidden": true
       }
      }
     }
    }
   },
   "outputs": [],
   "source": [
    "df = pd.read_csv(e.get_search_url(response='csv', search_for='argos'))"
   ]
  },
  {
   "cell_type": "code",
   "execution_count": 34,
   "metadata": {
    "extensions": {
     "jupyter_dashboards": {
      "version": 1,
      "views": {
       "grid_default": {
        "col": 4,
        "height": 4,
        "hidden": false,
        "row": 4,
        "width": 4
       },
       "report_default": {
        "hidden": false
       }
      }
     }
    },
    "scrolled": true
   },
   "outputs": [
    {
     "name": "stdout",
     "output_type": "stream",
     "text": [
      "['2015_Argos_Drifters_NRT' '2016_Argos_Drifters_NRT'\n",
      " '2017_Argos_Drifters_NRT' '2018_Argos_Drifters_NRT'\n",
      " '2019_Argos_Drifters_NRT' '2020_Argos_Drifters_NRT']\n"
     ]
    }
   ],
   "source": [
    "argos = df['Dataset ID'].values\n",
    "print(argos)"
   ]
  },
  {
   "cell_type": "code",
   "execution_count": 35,
   "metadata": {
    "extensions": {
     "jupyter_dashboards": {
      "version": 1,
      "views": {
       "grid_default": {
        "hidden": true
       },
       "report_default": {
        "hidden": true
       }
      }
     }
    }
   },
   "outputs": [],
   "source": [
    "kw = {\n",
    "    'standard_name': 'sea_water_temperature',\n",
    "    'min_lon': -180,\n",
    "    'max_lon': 180,\n",
    "    'min_lat': 66.0,\n",
    "    'max_lat': 90.0,\n",
    "    'min_time': '2015-01-10T00:00:00Z',\n",
    "    'max_time': '2020-01-10T00:00:00Z',\n",
    "    'cdm_data_type': 'trajectory'\n",
    "}"
   ]
  },
  {
   "cell_type": "code",
   "execution_count": 36,
   "metadata": {
    "extensions": {
     "jupyter_dashboards": {
      "version": 1,
      "views": {
       "grid_default": {
        "hidden": true
       },
       "report_default": {
        "hidden": true
       }
      }
     }
    }
   },
   "outputs": [],
   "source": [
    "variables = [e.get_var_by_attr(dataset_id=float, long_name=lambda v: v is not None) for float in argos]"
   ]
  },
  {
   "cell_type": "code",
   "execution_count": 37,
   "metadata": {
    "extensions": {
     "jupyter_dashboards": {
      "version": 1,
      "views": {
       "grid_default": {
        "hidden": true
       },
       "report_default": {
        "hidden": true
       }
      }
     }
    }
   },
   "outputs": [
    {
     "data": {
      "text/plain": [
       "{'latitude', 'longitude', 'sst', 'strain', 'time', 'trajectory_id', 'voltage'}"
      ]
     },
     "execution_count": 37,
     "metadata": {},
     "output_type": "execute_result"
    }
   ],
   "source": [
    "common_variables = set(variables[0]).intersection(*variables[1:])\n",
    "\n",
    "common_variables.update(['trajectory_id']) \n",
    "common_variables"
   ]
  },
  {
   "cell_type": "code",
   "execution_count": 38,
   "metadata": {
    "extensions": {
     "jupyter_dashboards": {
      "version": 1,
      "views": {
       "grid_default": {
        "hidden": true
       },
       "report_default": {
        "hidden": true
       }
      }
     }
    }
   },
   "outputs": [
    {
     "name": "stdout",
     "output_type": "stream",
     "text": [
      "http://akutan.pmel.noaa.gov:8080/erddap/tabledap/2015_Argos_Drifters_NRT.csv?voltage,latitude,time,sst,trajectory_id,strain,longitude\n"
     ]
    }
   ],
   "source": [
    "constraints = {\n",
    "    'longitude>=': kw['min_lon'],\n",
    "    'longitude<=': kw['max_lon'],\n",
    "    'latitude>=': kw['min_lat'],\n",
    "    'latitude<=': kw['max_lat'],\n",
    "    'time>=': kw['min_time'],\n",
    "    'time<=': kw['max_time'],\n",
    "}\n",
    "\n",
    "download_url = e.get_download_url(\n",
    "    dataset_id=argos[0],\n",
    "    protocol='tabledap',\n",
    "    response='csv',\n",
    "    variables=common_variables,\n",
    "    #constraints=constraints\n",
    ")\n",
    "\n",
    "print(download_url)\n",
    "\n"
   ]
  },
  {
   "cell_type": "code",
   "execution_count": 41,
   "metadata": {
    "extensions": {
     "jupyter_dashboards": {
      "version": 1,
      "views": {
       "grid_default": {
        "hidden": true
       },
       "report_default": {
        "hidden": true
       }
      }
     }
    }
   },
   "outputs": [
    {
     "name": "stdout",
     "output_type": "stream",
     "text": [
      "2015_Argos_Drifters_NRT\n",
      "2016_Argos_Drifters_NRT\n",
      "2017_Argos_Drifters_NRT\n",
      "2018_Argos_Drifters_NRT\n",
      "2019_Argos_Drifters_NRT\n",
      "2020_Argos_Drifters_NRT\n"
     ]
    }
   ],
   "source": [
    "from requests.exceptions import HTTPError\n",
    "\n",
    "dfs = {}\n",
    "for arfloat in argos:\n",
    "    print(arfloat)\n",
    "    try:\n",
    "        e = ERDDAP(server=server_url,\n",
    "            protocol='tabledap',\n",
    "            response='csv'\n",
    "        )\n",
    "        #e.constraints=constraints\n",
    "        e.variables=common_variables\n",
    "        e.dataset_id=arfloat\n",
    "    except HTTPError:\n",
    "        print('Failed to generate url {}'.format(alamo))\n",
    "        continue\n",
    "    try:\n",
    "        \n",
    "        df = e.to_pandas(\n",
    "            index_col='time (UTC)',\n",
    "            parse_dates=True,\n",
    "            skiprows=(1,)  # units information can be dropped.\n",
    "        ).dropna()\n",
    "\n",
    "        df.sort_index(inplace=True)\n",
    "        df.columns = [x[1].split()[0] for x in enumerate(df.columns)]\n",
    "\n",
    "        dfs.update({arfloat: df})\n",
    "        \n",
    "    except:\n",
    "        print(f\"Didn't Load {arfloat}\")\n"
   ]
  },
  {
   "cell_type": "code",
   "execution_count": 43,
   "metadata": {},
   "outputs": [],
   "source": [
    "df = e.to_pandas(\n",
    "    index_col='time (UTC)',\n",
    "    parse_dates=True,\n",
    "    skiprows=(1,)  # units information can be dropped.\n",
    ")"
   ]
  },
  {
   "cell_type": "code",
   "execution_count": 44,
   "metadata": {},
   "outputs": [
    {
     "name": "stdout",
     "output_type": "stream",
     "text": [
      "2015_Argos_Drifters_NRT dict_keys([122533, 122537, 122542, 122843, 122845, 122846, 122847, 136859, 136860, 136861, 136862, 136863, 136864, 136865, 136866, 136867, 136868, 136869, 136870, 136871, 136873, 136874, 148276, 148277, 148278, 148279])\n",
      "2016_Argos_Drifters_NRT dict_keys([122537, 122540, 122541, 122542, 136860, 136861, 136863, 136864, 136865, 136866, 136867, 136868, 136869, 136872, 136873, 136874, 148276, 148277, 148279])\n",
      "2017_Argos_Drifters_NRT dict_keys([122537, 122540, 122541, 122542, 136860, 136863, 136866, 136867, 136868, 136869, 136872, 139910, 139911, 139912, 139913, 139914, 139915, 145469, 145473, 145474, 145480, 148276, 148277])\n",
      "2018_Argos_Drifters_NRT dict_keys([136863, 136866, 136867, 136868, 139910, 139911, 139912, 139913, 139914, 139915, 145469, 145473, 145474, 145480, 148276])\n",
      "2019_Argos_Drifters_NRT dict_keys([136863, 136867, 145469, 145473, 145480, 148276])\n",
      "2020_Argos_Drifters_NRT dict_keys([136863, 145473, 145474, 199996, 199997, 199998, 199999])\n"
     ]
    }
   ],
   "source": [
    "for float, df in dfs.items():\n",
    "    print(float, df.groupby('trajectory_id').groups.keys())"
   ]
  },
  {
   "cell_type": "code",
   "execution_count": 47,
   "metadata": {
    "extensions": {
     "jupyter_dashboards": {
      "version": 1,
      "views": {
       "grid_default": {
        "hidden": true
       },
       "report_default": {
        "hidden": true
       }
      }
     }
    }
   },
   "outputs": [
    {
     "data": {
      "image/png": "[encoded data removed]",
      "text/plain": [
       "<Figure size 576x576 with 1 Axes>"
      ]
     },
     "metadata": {
      "needs_background": "light"
     },
     "output_type": "display_data"
    }
   ],
   "source": [
    "%matplotlib inline\n",
    "import matplotlib.pyplot as plt\n",
    "import cartopy.crs as ccrs\n",
    "import cartopy.feature as cfeature\n",
    "from cartopy.mpl.ticker import LongitudeFormatter, LatitudeFormatter\n",
    "\n",
    "\n",
    "def make_map(projection=ccrs.PlateCarree()):\n",
    "    fig, ax = plt.subplots(figsize=(8, 8),\n",
    "                           subplot_kw=dict(projection=projection))\n",
    "    if projection == ccrs.PlateCarree():\n",
    "        gl = ax.gridlines(draw_labels=True)\n",
    "        gl.xlabels_top = gl.ylabels_right = False\n",
    "        gl.xformatter = LONGITUDE_FORMATTER\n",
    "        gl.yformatter = LATITUDE_FORMATTER\n",
    "    return fig, ax\n",
    "\n",
    "projection=ccrs.LambertConformal(central_longitude=-160.0)\n",
    "transformation=ccrs.PlateCarree()\n",
    "\n",
    "land_50m = cfeature.NaturalEarthFeature('physical', 'land', '50m',\n",
    "                                        edgecolor='face',\n",
    "                                        facecolor='1.0')\n",
    "\n",
    "dx = dy = 0.5\n",
    "extent = [-220, -130, 35, 75]\n",
    "fig,ax = make_map(projection=projection)\n",
    "for float, df in dfs.items():\n",
    "    try:\n",
    "        ax.plot(df['longitude'], df['latitude'], '.', markersize=0.5, label=float, transform=transformation)\n",
    "    except:\n",
    "        ax.plot(df['lon'], df['lat'], '.', markersize=0.5, label=float, transform=transformation)\n",
    "        \n",
    "leg = ax.legend()\n",
    "\n",
    "ax.add_feature(land_50m)\n",
    "ax.coastlines(resolution='50m')\n",
    "ax.set_extent(extent)"
   ]
  },
  {
   "cell_type": "code",
   "execution_count": null,
   "metadata": {},
   "outputs": [],
   "source": []
  }
 ],
 "metadata": {
  "extensions": {
   "jupyter_dashboards": {
    "activeView": "report_default",
    "version": 1,
    "views": {
     "grid_default": {
      "cellMargin": 10,
      "defaultCellHeight": 20,
      "maxColumns": 12,
      "name": "grid",
      "type": "grid"
     },
     "report_default": {
      "name": "report",
      "type": "report"
     }
    }
   }
  },
  "kernelspec": {
   "display_name": "Python [conda env:py37] *",
   "language": "python",
   "name": "conda-env-py37-py"
  },
  "language_info": {
   "codemirror_mode": {
    "name": "ipython",
    "version": 3
   },
   "file_extension": ".py",
   "mimetype": "text/x-python",
   "name": "python",
   "nbconvert_exporter": "python",
   "pygments_lexer": "ipython3",
   "version": "3.7.6"
  }
 },
 "nbformat": 4,
 "nbformat_minor": 4
}
