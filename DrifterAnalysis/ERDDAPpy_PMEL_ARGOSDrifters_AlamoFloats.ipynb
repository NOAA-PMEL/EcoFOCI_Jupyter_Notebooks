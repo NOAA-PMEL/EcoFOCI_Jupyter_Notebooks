{
 "cells": [
  {
   "cell_type": "markdown",
   "metadata": {
    "extensions": {
     "jupyter_dashboards": {
      "version": 1,
      "views": {
       "grid_default": {
        "col": 0,
        "height": 4,
        "hidden": false,
        "row": 0,
        "width": 4
       },
       "report_default": {
        "hidden": false
       }
      }
     }
    }
   },
   "source": [
    "### erddapy example for PMEL tools - Drifters and Alamo Floats (2018)"
   ]
  },
  {
   "cell_type": "markdown",
   "metadata": {
    "extensions": {
     "jupyter_dashboards": {
      "version": 1,
      "views": {
       "grid_default": {
        "col": 4,
        "height": 4,
        "hidden": false,
        "row": 0,
        "width": 4
       },
       "report_default": {
        "hidden": false
       }
      }
     }
    }
   },
   "source": [
    "__pyversion__==3.6   \n",
    "__author__==S.Bell"
   ]
  },
  {
   "cell_type": "markdown",
   "metadata": {
    "extensions": {
     "jupyter_dashboards": {
      "version": 1,
      "views": {
       "grid_default": {
        "col": 8,
        "height": 4,
        "hidden": false,
        "row": 0,
        "width": 4
       },
       "report_default": {
        "hidden": false
       }
      }
     }
    }
   },
   "source": [
    "### connecting and basic information"
   ]
  },
  {
   "cell_type": "code",
   "execution_count": 1,
   "metadata": {
    "extensions": {
     "jupyter_dashboards": {
      "version": 1,
      "views": {
       "grid_default": {
        "hidden": true
       },
       "report_default": {
        "hidden": true
       }
      }
     }
    }
   },
   "outputs": [],
   "source": [
    "from erddapy import ERDDAP\n",
    "import pandas as pd\n",
    "import numpy as np\n",
    "\n",
    "server_url='http://downdraft.pmel.noaa.gov:8080/erddap'\n",
    "e = ERDDAP(server=server_url)"
   ]
  },
  {
   "cell_type": "markdown",
   "metadata": {
    "extensions": {
     "jupyter_dashboards": {
      "version": 1,
      "views": {
       "grid_default": {
        "col": 0,
        "height": 4,
        "hidden": false,
        "row": 4,
        "width": 4
       },
       "report_default": {
        "hidden": false
       }
      }
     }
    }
   },
   "source": [
    "Get only ARGOS Drifter datafiles"
   ]
  },
  {
   "cell_type": "code",
   "execution_count": 2,
   "metadata": {
    "extensions": {
     "jupyter_dashboards": {
      "version": 1,
      "views": {
       "grid_default": {
        "hidden": true
       },
       "report_default": {
        "hidden": true
       }
      }
     }
    }
   },
   "outputs": [],
   "source": [
    "df = pd.read_csv(e.get_search_url(response='csv', search_for='alamo'))\n",
    "df_d = pd.read_csv(e.get_search_url(response='csv', search_for='drifter'))"
   ]
  },
  {
   "cell_type": "code",
   "execution_count": 3,
   "metadata": {
    "extensions": {
     "jupyter_dashboards": {
      "version": 1,
      "views": {
       "grid_default": {
        "col": 4,
        "height": 4,
        "hidden": false,
        "row": 4,
        "width": 4
       },
       "report_default": {
        "hidden": false
       }
      }
     }
    },
    "scrolled": true
   },
   "outputs": [
    {
     "name": "stdout",
     "output_type": "stream",
     "text": [
      "['arctic_heat_alamo_profiles_9058' 'arctic_heat_alamo_profiles_9076'\n",
      " 'arctic_heat_alamo_profiles_9085' 'arctic_heat_alamo_profiles_9115'\n",
      " 'arctic_heat_alamo_profiles_9116' 'arctic_heat_alamo_profiles_9117'\n",
      " 'arctic_heat_alamo_profiles_9119' 'arctic_heat_alamo_profiles_9150'\n",
      " 'arctic_heat_alamo_profiles_9152' 'arctic_heat_alamo_profiles_9153']\n"
     ]
    }
   ],
   "source": [
    "argos = df['Dataset ID'].values\n",
    "print(argos)"
   ]
  },
  {
   "cell_type": "code",
   "execution_count": 4,
   "metadata": {},
   "outputs": [
    {
     "name": "stdout",
     "output_type": "stream",
     "text": [
      "['2015_Argos_Drifters' '2016_Argos_Drifters' '2017_Argos_Drifters'\n",
      " '2018_Argos_Drifters']\n"
     ]
    }
   ],
   "source": [
    "drifter = df_d['Dataset ID'].values\n",
    "print(drifter)"
   ]
  },
  {
   "cell_type": "code",
   "execution_count": 5,
   "metadata": {
    "extensions": {
     "jupyter_dashboards": {
      "version": 1,
      "views": {
       "grid_default": {
        "hidden": true
       },
       "report_default": {
        "hidden": true
       }
      }
     }
    }
   },
   "outputs": [],
   "source": [
    "kw = {\n",
    "    'standard_name': 'sea_water_temperature',\n",
    "    'min_lon': -360,\n",
    "    'max_lon': 540,\n",
    "    'min_lat': 50.0,\n",
    "    'max_lat': 90.0,\n",
    "    'min_time': '2018-01-10T00:00:00Z',\n",
    "    'max_time': '2019-01-10T00:00:00Z'\n",
    "}"
   ]
  },
  {
   "cell_type": "code",
   "execution_count": 6,
   "metadata": {
    "extensions": {
     "jupyter_dashboards": {
      "version": 1,
      "views": {
       "grid_default": {
        "hidden": true
       },
       "report_default": {
        "hidden": true
       }
      }
     }
    }
   },
   "outputs": [],
   "source": [
    "variables = [e.get_var_by_attr(dataset_id=float, long_name=lambda v: v is not None) for float in argos]\n",
    "variables_2 = [e.get_var_by_attr(dataset_id=drifterid, long_name=lambda v: v is not None) for drifterid in drifter]"
   ]
  },
  {
   "cell_type": "code",
   "execution_count": 7,
   "metadata": {
    "extensions": {
     "jupyter_dashboards": {
      "version": 1,
      "views": {
       "grid_default": {
        "hidden": true
       },
       "report_default": {
        "hidden": true
       }
      }
     }
    }
   },
   "outputs": [
    {
     "data": {
      "text/plain": [
       "{'CYCLE_NUMBER',\n",
       " 'FLOAT_SERIAL_NO',\n",
       " 'PRES',\n",
       " 'REFERENCE_DATE_TIME',\n",
       " 'TEMP',\n",
       " 'latitude',\n",
       " 'longitude',\n",
       " 'profileid',\n",
       " 'time'}"
      ]
     },
     "execution_count": 7,
     "metadata": {},
     "output_type": "execute_result"
    }
   ],
   "source": [
    "common_variables = set(variables[0]).intersection(*variables[1:])\n",
    "common_variables_2 = set(variables_2[0]).intersection(*variables_2[1:])\n",
    "\n",
    "common_variables.update(['profileid']) \n",
    "common_variables_2.update(['trajectory_id']) \n",
    "common_variables"
   ]
  },
  {
   "cell_type": "code",
   "execution_count": 8,
   "metadata": {
    "extensions": {
     "jupyter_dashboards": {
      "version": 1,
      "views": {
       "grid_default": {
        "hidden": true
       },
       "report_default": {
        "hidden": true
       }
      }
     }
    }
   },
   "outputs": [
    {
     "name": "stdout",
     "output_type": "stream",
     "text": [
      "http://downdraft.pmel.noaa.gov:8080/erddap/tabledap/arctic_heat_alamo_profiles_9058.csv?REFERENCE_DATE_TIME,longitude,PRES,latitude,profileid,CYCLE_NUMBER,time,TEMP,FLOAT_SERIAL_NO&longitude>=-360&longitude<=540&latitude>=50.0&latitude<=90.0&time>=1515542400.0&time<=1547078400.0\n"
     ]
    }
   ],
   "source": [
    "constraints = {\n",
    "    'longitude>=': kw['min_lon'],\n",
    "    'longitude<=': kw['max_lon'],\n",
    "    'latitude>=': kw['min_lat'],\n",
    "    'latitude<=': kw['max_lat'],\n",
    "    'time>=': kw['min_time'],\n",
    "    'time<=': kw['max_time'],\n",
    "}\n",
    "\n",
    "download_url = e.get_download_url(\n",
    "    dataset_id=argos[0],\n",
    "    protocol='tabledap',\n",
    "    response='csv',\n",
    "    variables=common_variables,\n",
    "    constraints=constraints\n",
    ")\n",
    "\n",
    "print(download_url)\n",
    "\n"
   ]
  },
  {
   "cell_type": "code",
   "execution_count": 9,
   "metadata": {
    "extensions": {
     "jupyter_dashboards": {
      "version": 1,
      "views": {
       "grid_default": {
        "hidden": true
       },
       "report_default": {
        "hidden": true
       }
      }
     }
    }
   },
   "outputs": [
    {
     "name": "stdout",
     "output_type": "stream",
     "text": [
      "arctic_heat_alamo_profiles_9058\n",
      "arctic_heat_alamo_profiles_9076\n",
      "arctic_heat_alamo_profiles_9085\n",
      "arctic_heat_alamo_profiles_9115\n",
      "arctic_heat_alamo_profiles_9116\n",
      "arctic_heat_alamo_profiles_9117\n",
      "arctic_heat_alamo_profiles_9119\n",
      "arctic_heat_alamo_profiles_9150\n",
      "arctic_heat_alamo_profiles_9152\n",
      "arctic_heat_alamo_profiles_9153\n"
     ]
    }
   ],
   "source": [
    "from requests.exceptions import HTTPError\n",
    "\n",
    "dfs = {}\n",
    "for arfloat in argos:\n",
    "    print(arfloat)\n",
    "    try:\n",
    "        e = ERDDAP(server=server_url,\n",
    "            protocol='tabledap',\n",
    "            response='csv'\n",
    "        )\n",
    "        e.constraints=constraints\n",
    "        e.variables=common_variables\n",
    "        e.dataset_id=arfloat\n",
    "    except HTTPError:\n",
    "        print('Failed to generate url {}'.format(alamo))\n",
    "        continue\n",
    "    try:\n",
    "        dfs.update({arfloat: e.to_pandas(\n",
    "                            index_col='time',\n",
    "                            parse_dates=True,\n",
    "                            skiprows=(1,)  # units information can be dropped.\n",
    "                            )})\n",
    "    except:\n",
    "        pass"
   ]
  },
  {
   "cell_type": "code",
   "execution_count": 10,
   "metadata": {},
   "outputs": [
    {
     "ename": "HTTPError",
     "evalue": "500 Server Error:  for url: http://downdraft.pmel.noaa.gov:8080/erddap/tabledap/2015_Argos_Drifters.csv?longitude,latitude,time,voltage,trajectory_id,sst,strain&longitude%3E=-360&longitude%3C=540&latitude%3E=50.0&latitude%3C=90.0&time%3E=1515542400.0&time%3C=1547078400.0",
     "output_type": "error",
     "traceback": [
      "\u001b[0;31m---------------------------------------------------------------------------\u001b[0m",
      "\u001b[0;31mHTTPError\u001b[0m                                 Traceback (most recent call last)",
      "\u001b[0;32m<ipython-input-10-352f3d483367>\u001b[0m in \u001b[0;36m<module>\u001b[0;34m()\u001b[0m\n\u001b[1;32m     13\u001b[0m     \u001b[0mresponse\u001b[0m\u001b[0;34m=\u001b[0m\u001b[0;34m'csv'\u001b[0m\u001b[0;34m,\u001b[0m\u001b[0;34m\u001b[0m\u001b[0m\n\u001b[1;32m     14\u001b[0m     \u001b[0mvariables\u001b[0m\u001b[0;34m=\u001b[0m\u001b[0mcommon_variables_2\u001b[0m\u001b[0;34m,\u001b[0m\u001b[0;34m\u001b[0m\u001b[0m\n\u001b[0;32m---> 15\u001b[0;31m     \u001b[0mconstraints\u001b[0m\u001b[0;34m=\u001b[0m\u001b[0mconstraints\u001b[0m\u001b[0;34m\u001b[0m\u001b[0m\n\u001b[0m\u001b[1;32m     16\u001b[0m )\n\u001b[1;32m     17\u001b[0m \u001b[0;34m\u001b[0m\u001b[0m\n",
      "\u001b[0;32m~/anaconda2/envs/py36/lib/python3.6/site-packages/erddapy/erddapy.py\u001b[0m in \u001b[0;36mget_download_url\u001b[0;34m(self, dataset_id, protocol, variables, response, constraints)\u001b[0m\n\u001b[1;32m    143\u001b[0m             \u001b[0mvariables\u001b[0m\u001b[0;34m=\u001b[0m\u001b[0mvariables\u001b[0m\u001b[0;34m,\u001b[0m\u001b[0;34m\u001b[0m\u001b[0m\n\u001b[1;32m    144\u001b[0m             \u001b[0mresponse\u001b[0m\u001b[0;34m=\u001b[0m\u001b[0mresponse\u001b[0m\u001b[0;34m,\u001b[0m\u001b[0;34m\u001b[0m\u001b[0m\n\u001b[0;32m--> 145\u001b[0;31m             \u001b[0mconstraints\u001b[0m\u001b[0;34m=\u001b[0m\u001b[0mconstraints\u001b[0m\u001b[0;34m,\u001b[0m\u001b[0;34m\u001b[0m\u001b[0m\n\u001b[0m\u001b[1;32m    146\u001b[0m             )\n\u001b[1;32m    147\u001b[0m \u001b[0;34m\u001b[0m\u001b[0m\n",
      "\u001b[0;32m~/anaconda2/envs/py36/lib/python3.6/site-packages/erddapy/url_builder.py\u001b[0m in \u001b[0;36mdownload_url\u001b[0;34m(server, dataset_id, protocol, variables, response, constraints)\u001b[0m\n\u001b[1;32m    163\u001b[0m \u001b[0;34m\u001b[0m\u001b[0m\n\u001b[1;32m    164\u001b[0m         \u001b[0murl\u001b[0m \u001b[0;34m+=\u001b[0m \u001b[0;34mf'{_constraints}'\u001b[0m\u001b[0;34m\u001b[0m\u001b[0m\n\u001b[0;32m--> 165\u001b[0;31m     \u001b[0;32mreturn\u001b[0m \u001b[0m_check_url_response\u001b[0m\u001b[0;34m(\u001b[0m\u001b[0murl\u001b[0m\u001b[0;34m)\u001b[0m\u001b[0;34m\u001b[0m\u001b[0m\n\u001b[0m",
      "\u001b[0;32m~/anaconda2/envs/py36/lib/python3.6/site-packages/erddapy/utilities.py\u001b[0m in \u001b[0;36m_check_url_response\u001b[0;34m(url, **kwargs)\u001b[0m\n\u001b[1;32m    103\u001b[0m     \u001b[0;34m\"\"\"Shortcut to `raise_for_status` instead of fetching the whole content.\"\"\"\u001b[0m\u001b[0;34m\u001b[0m\u001b[0m\n\u001b[1;32m    104\u001b[0m     \u001b[0mr\u001b[0m \u001b[0;34m=\u001b[0m \u001b[0mrequests\u001b[0m\u001b[0;34m.\u001b[0m\u001b[0mhead\u001b[0m\u001b[0;34m(\u001b[0m\u001b[0murl\u001b[0m\u001b[0;34m,\u001b[0m \u001b[0;34m**\u001b[0m\u001b[0mkwargs\u001b[0m\u001b[0;34m)\u001b[0m\u001b[0;34m\u001b[0m\u001b[0m\n\u001b[0;32m--> 105\u001b[0;31m     \u001b[0mr\u001b[0m\u001b[0;34m.\u001b[0m\u001b[0mraise_for_status\u001b[0m\u001b[0;34m(\u001b[0m\u001b[0;34m)\u001b[0m\u001b[0;34m\u001b[0m\u001b[0m\n\u001b[0m\u001b[1;32m    106\u001b[0m     \u001b[0;32mreturn\u001b[0m \u001b[0murl\u001b[0m\u001b[0;34m\u001b[0m\u001b[0m\n\u001b[1;32m    107\u001b[0m \u001b[0;34m\u001b[0m\u001b[0m\n",
      "\u001b[0;32m~/anaconda2/envs/py36/lib/python3.6/site-packages/requests/models.py\u001b[0m in \u001b[0;36mraise_for_status\u001b[0;34m(self)\u001b[0m\n\u001b[1;32m    937\u001b[0m \u001b[0;34m\u001b[0m\u001b[0m\n\u001b[1;32m    938\u001b[0m         \u001b[0;32mif\u001b[0m \u001b[0mhttp_error_msg\u001b[0m\u001b[0;34m:\u001b[0m\u001b[0;34m\u001b[0m\u001b[0m\n\u001b[0;32m--> 939\u001b[0;31m             \u001b[0;32mraise\u001b[0m \u001b[0mHTTPError\u001b[0m\u001b[0;34m(\u001b[0m\u001b[0mhttp_error_msg\u001b[0m\u001b[0;34m,\u001b[0m \u001b[0mresponse\u001b[0m\u001b[0;34m=\u001b[0m\u001b[0mself\u001b[0m\u001b[0;34m)\u001b[0m\u001b[0;34m\u001b[0m\u001b[0m\n\u001b[0m\u001b[1;32m    940\u001b[0m \u001b[0;34m\u001b[0m\u001b[0m\n\u001b[1;32m    941\u001b[0m     \u001b[0;32mdef\u001b[0m \u001b[0mclose\u001b[0m\u001b[0;34m(\u001b[0m\u001b[0mself\u001b[0m\u001b[0;34m)\u001b[0m\u001b[0;34m:\u001b[0m\u001b[0;34m\u001b[0m\u001b[0m\n",
      "\u001b[0;31mHTTPError\u001b[0m: 500 Server Error:  for url: http://downdraft.pmel.noaa.gov:8080/erddap/tabledap/2015_Argos_Drifters.csv?longitude,latitude,time,voltage,trajectory_id,sst,strain&longitude%3E=-360&longitude%3C=540&latitude%3E=50.0&latitude%3C=90.0&time%3E=1515542400.0&time%3C=1547078400.0"
     ]
    }
   ],
   "source": [
    "constraints = {\n",
    "    'longitude>=': kw['min_lon'],\n",
    "    'longitude<=': kw['max_lon'],\n",
    "    'latitude>=': kw['min_lat'],\n",
    "    'latitude<=': kw['max_lat'],\n",
    "    'time>=': kw['min_time'],\n",
    "    'time<=': kw['max_time'],\n",
    "}\n",
    "\n",
    "download_url = e.get_download_url(\n",
    "    dataset_id=drifter[0],\n",
    "    protocol='tabledap',\n",
    "    response='csv',\n",
    "    variables=common_variables_2,\n",
    "    constraints=constraints\n",
    ")\n",
    "\n",
    "print(download_url)\n",
    "\n"
   ]
  },
  {
   "cell_type": "code",
   "execution_count": null,
   "metadata": {},
   "outputs": [],
   "source": [
    "from requests.exceptions import HTTPError\n",
    "\n",
    "dfs_2 = {}\n",
    "for arfloat in drifter:\n",
    "    print(arfloat)\n",
    "    try:\n",
    "        e = ERDDAP(server=server_url,\n",
    "            protocol='tabledap',\n",
    "            response='csv'\n",
    "        )\n",
    "        e.constraints=constraints\n",
    "        e.variables=common_variables_2\n",
    "        e.dataset_id=arfloat\n",
    "    except HTTPError:\n",
    "        print('Failed to generate url {}'.format(alamo))\n",
    "        continue\n",
    "    try:\n",
    "        dfs_2.update({arfloat: e.to_pandas(\n",
    "                            index_col='time',\n",
    "                            parse_dates=True,\n",
    "                            skiprows=(1,)  # units information can be dropped.\n",
    "                            )})\n",
    "    except:\n",
    "        pass"
   ]
  },
  {
   "cell_type": "code",
   "execution_count": null,
   "metadata": {
    "extensions": {
     "jupyter_dashboards": {
      "version": 1,
      "views": {
       "grid_default": {
        "hidden": true
       },
       "report_default": {
        "hidden": true
       }
      }
     }
    },
    "scrolled": false
   },
   "outputs": [],
   "source": [
    "%matplotlib inline\n",
    "import matplotlib.pyplot as plt\n",
    "import cartopy.crs as ccrs\n",
    "import cartopy.feature as cfeature\n",
    "from cartopy.mpl.ticker import LongitudeFormatter, LatitudeFormatter\n",
    "import cmocean\n",
    "\n",
    "def make_map(projection=ccrs.PlateCarree()):\n",
    "    fig, ax = plt.subplots(figsize=(16, 16),\n",
    "                           subplot_kw=dict(projection=projection))\n",
    "    if projection == ccrs.PlateCarree():\n",
    "        gl = ax.gridlines(draw_labels=True)\n",
    "        gl.xlabels_top = gl.ylabels_right = False\n",
    "        gl.xformatter = LONGITUDE_FORMATTER\n",
    "        gl.yformatter = LATITUDE_FORMATTER\n",
    "    return fig, ax, plt\n",
    "\n",
    "projection=ccrs.LambertConformal(central_longitude=-160.0)\n",
    "transformation=ccrs.PlateCarree()\n",
    "\n",
    "land_50m = cfeature.NaturalEarthFeature('physical', 'land', '50m',\n",
    "                                        edgecolor='face',\n",
    "                                        facecolor='1.0')\n",
    "\n",
    "dx = dy = 0.5\n",
    "extent = -180, -130, kw['min_lat']+dy, kw['max_lat']+dy\n",
    "extent = [-180, -130, 45, 66]\n",
    "fig,ax,plt = make_map(projection=projection)\n",
    "for alamo, df in dfs.items():\n",
    "    #ax.plot(df['longitude'], df['latitude'], '.', markersize=0.5, label=float, transform=transformation)\n",
    "    t = ax.scatter(df['longitude'], df['latitude'], s=5,c=df.index.dayofyear, cmap=cmocean.cm.phase, vmin=0, vmax=366, label=alamo, transform=transformation)\n",
    "   \n",
    "for alamo, df in dfs_2.items():\n",
    "    #ax.plot(df['longitude'], df['latitude'], '.', markersize=0.5, label=float, transform=transformation)\n",
    "    t = ax.scatter(df['longitude'], df['latitude'], s=5,c=df.index.dayofyear, cmap=cmocean.cm.phase, vmin=0, vmax=366, label=alamo, transform=transformation)\n",
    "   \n",
    "plt.colorbar(t)\n",
    "leg = ax.legend()\n",
    "\n",
    "ax.add_feature(land_50m)\n",
    "ax.coastlines(resolution='50m')\n",
    "ax.set_extent(extent)"
   ]
  },
  {
   "cell_type": "code",
   "execution_count": null,
   "metadata": {},
   "outputs": [],
   "source": [
    "\n",
    "projection=ccrs.LambertConformal(central_longitude=-160.0)\n",
    "transformation=ccrs.PlateCarree()\n",
    "\n",
    "land_50m = cfeature.NaturalEarthFeature('physical', 'land', '50m',\n",
    "                                        edgecolor='face',\n",
    "                                        facecolor='1.0')\n",
    "\n",
    "dx = dy = 0.5\n",
    "extent = [-176, -160, 67.5, 72.5]\n",
    "\n",
    "fig,ax,plt = make_map(projection=projection)\n",
    "\n",
    "'''\n",
    "for alamo, df in dfs.items():\n",
    "    ax.plot(df['longitude'][0], df['latitude'][0], 'or', markersize=5., label=alamo, transform=transformation)\n",
    "    ax.plot(df['longitude'], df['latitude'], '+k', markersize=0.5, label=alamo, transform=transformation)\n",
    "    t = ax.scatter(df['longitude'], df['latitude'], s=5,c=df.index.dayofyear, cmap=cmocean.cm.phase, vmin=0, vmax=366, label=alamo, transform=transformation)\n",
    "'''\n",
    "for alamo, df in dfs_2.items():\n",
    "    ax.plot(df['longitude'][0], df['latitude'][0], 'or', markersize=5., label=alamo, transform=transformation)\n",
    "    ax.plot(df['longitude'], df['latitude'], '+k', markersize=0.5, label=alamo, transform=transformation)\n",
    "    t = ax.scatter(df['longitude'], df['latitude'], s=5,c=df.index.dayofyear, cmap=cmocean.cm.phase, vmin=0, vmax=366, label=alamo, transform=transformation)\n",
    "\n",
    "plt.colorbar(t)\n",
    "leg = ax.legend()\n",
    "\n",
    "ax.add_feature(land_50m)\n",
    "ax.coastlines(resolution='50m')\n",
    "ax.set_extent(extent)"
   ]
  },
  {
   "cell_type": "code",
   "execution_count": null,
   "metadata": {},
   "outputs": [],
   "source": [
    "dfs['2018_Argos_Drifters'].info()"
   ]
  },
  {
   "cell_type": "markdown",
   "metadata": {},
   "source": [
    "# Using Python-GMT"
   ]
  },
  {
   "cell_type": "code",
   "execution_count": null,
   "metadata": {
    "extensions": {
     "jupyter_dashboards": {
      "version": 1,
      "views": {
       "grid_default": {
        "hidden": true
       },
       "report_default": {
        "hidden": true
       }
      }
     }
    }
   },
   "outputs": [],
   "source": [
    "import gmt"
   ]
  },
  {
   "cell_type": "code",
   "execution_count": null,
   "metadata": {},
   "outputs": [],
   "source": [
    "fig = gmt.Figure()\n",
    "\n",
    "fig.coast(region=[-175, -160, 65, 75], projection='B-167.5/60/55/60/6i', land='lightgray', water='gray',\n",
    "          frame=True,U=True)"
   ]
  },
  {
   "cell_type": "code",
   "execution_count": null,
   "metadata": {},
   "outputs": [],
   "source": [
    "dfg = dfs_2['2018_Argos_Drifters'].groupby('trajectory_id')\n",
    "dfg.groups.keys()"
   ]
  },
  {
   "cell_type": "code",
   "execution_count": null,
   "metadata": {},
   "outputs": [],
   "source": [
    "#color by id for one year\n",
    "clist=['red','black','blue','green','cyan','yellow','orange','lightred','lightgray',\n",
    "      'lightblue','lightgreen','lightyellow','brown','darkgray']\n",
    "count=0\n",
    "for traj in dfg.groups.keys():\n",
    "    fig.plot(x=dfg.get_group(traj).longitude, y=dfg.get_group(traj).latitude, color=clist[count], style='p0.05')\n",
    "    print(clist[count])\n",
    "    count+=1"
   ]
  },
  {
   "cell_type": "code",
   "execution_count": null,
   "metadata": {},
   "outputs": [],
   "source": [
    "fig.show()"
   ]
  },
  {
   "cell_type": "code",
   "execution_count": null,
   "metadata": {},
   "outputs": [],
   "source": [
    "fig1 = gmt.Figure()\n",
    "\n",
    "fig1.coast(region=[-175, -160, 65, 75], projection='B-167.5/60/55/60/6i', land='lightgray', water='gray',\n",
    "          frame=True,U=True)"
   ]
  },
  {
   "cell_type": "code",
   "execution_count": null,
   "metadata": {},
   "outputs": [],
   "source": [
    "#color by sst\n",
    "for ship, df in dfs_2.items():\n",
    "    #choose temp boundaries\n",
    "    dfmiss = df.copy()\n",
    "    dfmiss.sst.loc[(df.sst > 15) | (df.sst <-2)] = np.nan\n",
    "    # normalize data for colormap\n",
    "    dfnorm = dfmiss.apply(lambda x: (x - (-2)) / (15 - (-2)))\n",
    "    fig1.plot(x=dfmiss.longitude, y=dfmiss.latitude, color=256*dfnorm.sst, cmap='thermal', style='c0.05c')\n"
   ]
  },
  {
   "cell_type": "markdown",
   "metadata": {},
   "source": [
    "## GMT - SST"
   ]
  },
  {
   "cell_type": "code",
   "execution_count": null,
   "metadata": {},
   "outputs": [],
   "source": [
    "fig1.show()"
   ]
  },
  {
   "cell_type": "markdown",
   "metadata": {},
   "source": [
    "## GMT - DOY"
   ]
  },
  {
   "cell_type": "code",
   "execution_count": null,
   "metadata": {},
   "outputs": [],
   "source": [
    "fig1 = gmt.Figure()\n",
    "\n",
    "fig1.coast(region=[-175, -160, 65, 75], projection='B-167.5/60/55/60/6i', land='lightgray', water='gray',\n",
    "          frame=True,U=True)"
   ]
  },
  {
   "cell_type": "code",
   "execution_count": null,
   "metadata": {},
   "outputs": [],
   "source": [
    "#color by sst\n",
    "for ship, df in dfs_2.items():\n",
    "    #choose temp boundaries\n",
    "    dfmiss = df.copy()\n",
    "    dfmiss['dayofyear'] = dfmiss.index.dayofyear\n",
    "    #dfmiss.dayofyear.loc[(df.dayofyear > 0) | (df.dayofyear < 366)] = np.nan\n",
    "    # normalize data for colormap\n",
    "    dfnorm = dfmiss.apply(lambda x: (x - (0)) / (366 - (0)))\n",
    "    fig1.plot(x=dfmiss.longitude, y=dfmiss.latitude, color=256*dfnorm.dayofyear, cmap='phase', style='c0.05c')\n",
    "\n",
    "'''for ship, df in dfs.items():\n",
    "    #choose temp boundaries\n",
    "    dfmiss = df.copy()\n",
    "    dfmiss['dayofyear'] = dfmiss.index.dayofyear\n",
    "    #dfmiss.dayofyear.loc[(df.dayofyear > 0) | (df.dayofyear < 366)] = np.nan\n",
    "    # normalize data for colormap\n",
    "    dfnorm = dfmiss['dayofyear'].apply(lambda x: (x - (0)) / (366 - (0)))\n",
    "    fig1.plot(x=dfmiss.longitude, y=dfmiss.latitude, color=256*dfnorm, cmap='phase', style='c0.05c')\n",
    "'''"
   ]
  },
  {
   "cell_type": "code",
   "execution_count": null,
   "metadata": {},
   "outputs": [],
   "source": [
    "fig1.show()"
   ]
  },
  {
   "cell_type": "code",
   "execution_count": null,
   "metadata": {},
   "outputs": [],
   "source": []
  },
  {
   "cell_type": "code",
   "execution_count": null,
   "metadata": {},
   "outputs": [],
   "source": []
  }
 ],
 "metadata": {
  "extensions": {
   "jupyter_dashboards": {
    "activeView": "report_default",
    "version": 1,
    "views": {
     "grid_default": {
      "cellMargin": 10,
      "defaultCellHeight": 20,
      "maxColumns": 12,
      "name": "grid",
      "type": "grid"
     },
     "report_default": {
      "name": "report",
      "type": "report"
     }
    }
   }
  },
  "kernelspec": {
   "display_name": "Python [conda env:py36]",
   "language": "python",
   "name": "conda-env-py36-py"
  },
  "language_info": {
   "codemirror_mode": {
    "name": "ipython",
    "version": 3
   },
   "file_extension": ".py",
   "mimetype": "text/x-python",
   "name": "python",
   "nbconvert_exporter": "python",
   "pygments_lexer": "ipython3",
   "version": "3.6.6"
  }
 },
 "nbformat": 4,
 "nbformat_minor": 2
}
