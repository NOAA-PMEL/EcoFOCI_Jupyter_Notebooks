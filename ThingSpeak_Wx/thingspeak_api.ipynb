{
 "cells": [
  {
   "cell_type": "code",
   "execution_count": 140,
   "metadata": {},
   "outputs": [],
   "source": [
    "import thingspeak\n",
    "import json\n",
    "\n",
    "import pandas as pd\n",
    "import numpy as np"
   ]
  },
  {
   "cell_type": "code",
   "execution_count": 141,
   "metadata": {},
   "outputs": [],
   "source": [
    "ch1 = thingspeak.Channel(843357) #shop\n",
    "ch2 = thingspeak.Channel(1027974) #troom\n",
    "ch3 = thingspeak.Channel(1037066) #devboard"
   ]
  },
  {
   "cell_type": "code",
   "execution_count": 133,
   "metadata": {},
   "outputs": [],
   "source": [
    "ch1_pd =pd.DataFrame([[j['created_at'],j['field3']] for i,j in enumerate(json.loads(ch1.get({'feeds': 0}))['feeds'])], \n",
    "                     columns=['time','Shop Temp'])\n",
    "\n",
    "ch1_pd = ch1_pd.set_index(pd.DatetimeIndex(ch1_pd['time']))\n",
    "ch1_pd['Shop Temp'] = ch1_pd['Shop Temp'].astype('float64')"
   ]
  },
  {
   "cell_type": "code",
   "execution_count": 134,
   "metadata": {},
   "outputs": [],
   "source": [
    "ch2_pd =pd.DataFrame([[j['created_at'],j['field1']] for i,j in enumerate(json.loads(ch2.get({'feeds': 0}))['feeds'])], columns=['time','TMP36 Temp'])\n",
    "\n",
    "ch2_pd = ch2_pd.set_index(pd.DatetimeIndex(ch2_pd['time']))\n",
    "ch2_pd['TMP36 Temp'] = ch2_pd['TMP36 Temp'].astype('float64')"
   ]
  },
  {
   "cell_type": "code",
   "execution_count": 135,
   "metadata": {},
   "outputs": [],
   "source": [
    "ch3_pd =pd.DataFrame([[j['created_at'],j['field1'],j['field3']] for i,j in enumerate(json.loads(ch3.get({'feeds': 0}))['feeds'])], \n",
    "                     columns=['time','DT11 Temp','TMP102 Temp'])\n",
    "\n",
    "ch3_pd = ch3_pd.set_index(pd.DatetimeIndex(ch3_pd['time']))\n",
    "ch3_pd['DT11 Temp'] = ch3_pd['DT11 Temp'].astype('float64')\n",
    "ch3_pd['TMP102 Temp'] = ch3_pd['TMP102 Temp'].astype('float64')"
   ]
  },
  {
   "cell_type": "code",
   "execution_count": 138,
   "metadata": {},
   "outputs": [
    {
     "data": {
      "text/plain": [
       "<matplotlib.axes._subplots.AxesSubplot at 0x1265a6bd0>"
      ]
     },
     "execution_count": 138,
     "metadata": {},
     "output_type": "execute_result"
    },
    {
     "data": {
      "image/png": "[encoded data removed]",
      "text/plain": [
       "<Figure size 1224x144 with 1 Axes>"
      ]
     },
     "metadata": {
      "needs_background": "light"
     },
     "output_type": "display_data"
    }
   ],
   "source": [
    "%matplotlib inline\n",
    "import matplotlib.pyplot as plt\n",
    "from matplotlib.dates import YearLocator, WeekdayLocator, MonthLocator, DayLocator, HourLocator, DateFormatter\n",
    "import cmocean\n",
    "\n",
    "fig, ax = plt.subplots(figsize=(17, 2))\n",
    "ch1_pd.plot(ax=ax)\n",
    "ch2_pd.plot(ax=ax)\n",
    "ch3_pd.plot(ax=ax)\n",
    "#ax.set_xlim(ch3_pd.index.min(), ch3_pd.index.max())\n"
   ]
  },
  {
   "cell_type": "code",
   "execution_count": 139,
   "metadata": {},
   "outputs": [
    {
     "data": {
      "text/html": [
       "<div>\n",
       "<style scoped>\n",
       "    .dataframe tbody tr th:only-of-type {\n",
       "        vertical-align: middle;\n",
       "    }\n",
       "\n",
       "    .dataframe tbody tr th {\n",
       "        vertical-align: top;\n",
       "    }\n",
       "\n",
       "    .dataframe thead th {\n",
       "        text-align: right;\n",
       "    }\n",
       "</style>\n",
       "<table border=\"1\" class=\"dataframe\">\n",
       "  <thead>\n",
       "    <tr style=\"text-align: right;\">\n",
       "      <th></th>\n",
       "      <th>time</th>\n",
       "      <th>Shop Temp</th>\n",
       "    </tr>\n",
       "    <tr>\n",
       "      <th>time</th>\n",
       "      <th></th>\n",
       "      <th></th>\n",
       "    </tr>\n",
       "  </thead>\n",
       "  <tbody>\n",
       "    <tr>\n",
       "      <th>2020-04-14 05:45:06+00:00</th>\n",
       "      <td>2020-04-14T05:45:06Z</td>\n",
       "      <td>16.8</td>\n",
       "    </tr>\n",
       "    <tr>\n",
       "      <th>2020-04-14 05:55:14+00:00</th>\n",
       "      <td>2020-04-14T05:55:14Z</td>\n",
       "      <td>16.8</td>\n",
       "    </tr>\n",
       "    <tr>\n",
       "      <th>2020-04-14 06:05:21+00:00</th>\n",
       "      <td>2020-04-14T06:05:21Z</td>\n",
       "      <td>16.7</td>\n",
       "    </tr>\n",
       "    <tr>\n",
       "      <th>2020-04-14 06:15:28+00:00</th>\n",
       "      <td>2020-04-14T06:15:28Z</td>\n",
       "      <td>16.7</td>\n",
       "    </tr>\n",
       "    <tr>\n",
       "      <th>2020-04-14 06:25:35+00:00</th>\n",
       "      <td>2020-04-14T06:25:35Z</td>\n",
       "      <td>16.6</td>\n",
       "    </tr>\n",
       "    <tr>\n",
       "      <th>...</th>\n",
       "      <td>...</td>\n",
       "      <td>...</td>\n",
       "    </tr>\n",
       "    <tr>\n",
       "      <th>2020-04-14 21:46:34+00:00</th>\n",
       "      <td>2020-04-14T21:46:34Z</td>\n",
       "      <td>17.1</td>\n",
       "    </tr>\n",
       "    <tr>\n",
       "      <th>2020-04-14 21:56:41+00:00</th>\n",
       "      <td>2020-04-14T21:56:41Z</td>\n",
       "      <td>17.2</td>\n",
       "    </tr>\n",
       "    <tr>\n",
       "      <th>2020-04-14 22:06:48+00:00</th>\n",
       "      <td>2020-04-14T22:06:48Z</td>\n",
       "      <td>17.3</td>\n",
       "    </tr>\n",
       "    <tr>\n",
       "      <th>2020-04-14 22:16:55+00:00</th>\n",
       "      <td>2020-04-14T22:16:55Z</td>\n",
       "      <td>17.4</td>\n",
       "    </tr>\n",
       "    <tr>\n",
       "      <th>2020-04-14 22:27:02+00:00</th>\n",
       "      <td>2020-04-14T22:27:02Z</td>\n",
       "      <td>17.5</td>\n",
       "    </tr>\n",
       "  </tbody>\n",
       "</table>\n",
       "<p>100 rows × 2 columns</p>\n",
       "</div>"
      ],
      "text/plain": [
       "                                           time  Shop Temp\n",
       "time                                                      \n",
       "2020-04-14 05:45:06+00:00  2020-04-14T05:45:06Z       16.8\n",
       "2020-04-14 05:55:14+00:00  2020-04-14T05:55:14Z       16.8\n",
       "2020-04-14 06:05:21+00:00  2020-04-14T06:05:21Z       16.7\n",
       "2020-04-14 06:15:28+00:00  2020-04-14T06:15:28Z       16.7\n",
       "2020-04-14 06:25:35+00:00  2020-04-14T06:25:35Z       16.6\n",
       "...                                         ...        ...\n",
       "2020-04-14 21:46:34+00:00  2020-04-14T21:46:34Z       17.1\n",
       "2020-04-14 21:56:41+00:00  2020-04-14T21:56:41Z       17.2\n",
       "2020-04-14 22:06:48+00:00  2020-04-14T22:06:48Z       17.3\n",
       "2020-04-14 22:16:55+00:00  2020-04-14T22:16:55Z       17.4\n",
       "2020-04-14 22:27:02+00:00  2020-04-14T22:27:02Z       17.5\n",
       "\n",
       "[100 rows x 2 columns]"
      ]
     },
     "execution_count": 139,
     "metadata": {},
     "output_type": "execute_result"
    }
   ],
   "source": [
    "ch1_pd"
   ]
  },
  {
   "cell_type": "code",
   "execution_count": null,
   "metadata": {},
   "outputs": [],
   "source": []
  }
 ],
 "metadata": {
  "kernelspec": {
   "display_name": "Python [conda env:py37] *",
   "language": "python",
   "name": "conda-env-py37-py"
  },
  "language_info": {
   "codemirror_mode": {
    "name": "ipython",
    "version": 3
   },
   "file_extension": ".py",
   "mimetype": "text/x-python",
   "name": "python",
   "nbconvert_exporter": "python",
   "pygments_lexer": "ipython3",
   "version": "3.7.6"
  }
 },
 "nbformat": 4,
 "nbformat_minor": 4
}
