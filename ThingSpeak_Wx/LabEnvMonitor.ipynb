{
 "cells": [
  {
   "cell_type": "markdown",
   "metadata": {},
   "source": [
    "### Bits and pieces for Lab Env Monitor\n",
    "\n",
    "*output in jsonp - last measurement*"
   ]
  },
  {
   "cell_type": "code",
   "execution_count": 246,
   "metadata": {},
   "outputs": [],
   "source": [
    "import json\n",
    "from erddapy import ERDDAP\n",
    "import pandas as pd\n",
    "import numpy as np\n",
    "import datetime\n",
    "import urllib.request\n",
    "\n",
    "today = datetime.datetime.utcnow().strftime('%Y-%m-%dT00:00:00Z')\n",
    "yesterday = (datetime.datetime.utcnow()-datetime.timedelta(days=1)).strftime('%Y-%m-%dT00:00:00Z')\n",
    "\n",
    "server_url = 'http://downdraft.pmel.noaa.gov:8080/erddap'\n",
    "request_url = '/tabledap/LabEnvMonitor.jsonlKVP?time%2CTemp_AQ%2CRH_AQ%2CBP_AQ%2CTempB%2CRHB%2CBPB%2CCo2_Conc%2CVOC&time%3E=2020-02-24T00%3A00%3A00Z&orderByMax(%22time%22)'\n",
    "jsonout = json.loads(urllib.request.urlopen(server_url+request_url).read())\n"
   ]
  },
  {
   "cell_type": "code",
   "execution_count": 247,
   "metadata": {},
   "outputs": [],
   "source": [
    "from dateutil import tz\n",
    "\n",
    "# METHOD 2: Auto-detect zones:\n",
    "from_zone = tz.tzutc()\n",
    "to_zone = tz.tzlocal()\n",
    "\n",
    "utc = datetime.datetime.strptime(jsonout['time'],'%Y-%m-%dT%H:%M:%SZ')\n",
    "utc = utc.replace(tzinfo=from_zone)\n",
    "localt = utc.astimezone(to_zone)"
   ]
  },
  {
   "cell_type": "code",
   "execution_count": 248,
   "metadata": {},
   "outputs": [],
   "source": [
    "jsonout.update({'datetime':localt.timestamp()})\n",
    "jsonout.update({ \"messages\": \"What sort of message would be helpful.\"})\n",
    "jsonout.update({ \"days\": datetime.datetime.utcnow().day})"
   ]
  },
  {
   "cell_type": "code",
   "execution_count": 263,
   "metadata": {},
   "outputs": [
    {
     "data": {
      "text/plain": [
       "{'time': '2020-03-04T14:57:07Z',\n",
       " 'temperature': 25.85,\n",
       " 'RH_Percent': 26.1,\n",
       " 'SLP': 102337,\n",
       " 'Altitude': -275.4,\n",
       " 'UVA': 1,\n",
       " 'UVB': 8,\n",
       " 'UVindex': 0.01,\n",
       " 'datetime': 1583333827.0,\n",
       " 'messages': 'trends calculated using last 3hrs, red is greater than 1 std change, blue is greater than -1std change',\n",
       " 'days': 4,\n",
       " 'tempAlert': 'alert alert-warning',\n",
       " 'pressAlert': 'alert alert-danger',\n",
       " 'moistAlert': 'alert alert-info',\n",
       " 'UVAAlert': 'alert alert-danger',\n",
       " 'UVBAlert': 'alert alert-danger',\n",
       " 'UVindexAlert': 'alert alert-danger'}"
      ]
     },
     "execution_count": 263,
     "metadata": {},
     "output_type": "execute_result"
    }
   ],
   "source": [
    "jsonout"
   ]
  },
  {
   "cell_type": "code",
   "execution_count": 262,
   "metadata": {},
   "outputs": [],
   "source": [
    "\n",
    "\n",
    "d = ERDDAP(server=server_url,\n",
    "    protocol='tabledap',\n",
    "    response='csv'\n",
    ")\n",
    "d.dataset_id='LabEnvMonitor'\n",
    "\n",
    "d.constraints={'time>=': datetime.datetime.now()-datetime.timedelta(hours=3)}\n",
    "jsonout.update({\"messages\":\"trends calculated using last 3hrs, red is greater than 1 std change, blue is greater than -1std change\"})\n",
    "\n",
    "try:\n",
    "    df = d.to_pandas(\n",
    "\n",
    "            index_col='time (UTC)',\n",
    "            parse_dates=True,\n",
    "            skiprows=(1,)  # units information can be dropped.\n",
    "            )\n",
    "\n",
    "    df.sort_index(inplace=True)\n",
    "    df.columns = [x[1].split()[0] for x in enumerate(df.columns)]\n",
    "    df_mean=df.mean()\n",
    "\n",
    "    #temperature\n",
    "    if (jsonout['Temp_AQ'] < (df.mean()['Temp_AQ']-df.std()['Temp_AQ']) ):\n",
    "            jsonout.update({\"tempAlert\": \"alert alert-info\"})\n",
    "            print(\"h\")\n",
    "    elif (jsonout['Temp_AQ'] > (df.mean()['Temp_AQ']+df.std()['Temp_AQ']) ):\n",
    "            jsonout.update({\"tempAlert\": \"alert alert-danger\"})\n",
    "            print(\"h\")\n",
    "\n",
    "    #moisture\n",
    "    if (jsonout['RH_AQ'] < (df.mean()['RH_AQ']-df.std()['RH_AQ']) ):\n",
    "            jsonout.update({\"moistAlert\": \"alert alert-info\"})\n",
    "    elif (jsonout['RH_AQ'] > (df.mean()['RH_AQ']+df.std()['RH_AQ']) ):\n",
    "            jsonout.update({\"moistAlert\": \"alert alert-danger\"})            \n",
    "    #pressure\n",
    "    if (jsonout['BP_AQ'] < (df.mean()['BP_AQ']-df.std()['BP_AQ']) ):\n",
    "            jsonout.update({\"pressAlert\": \"alert alert-info\"})\n",
    "    elif (jsonout['BP_AQ'] > (df.mean()['BP_AQ']+df.std()['BP_AQ']) ):\n",
    "            jsonout.update({\"pressAlert\": \"alert alert-danger\"}) \n",
    "    #CO2\n",
    "    if (jsonout['Co2_Conc'] < (df.mean()['Co2_Conc']-df.std()['Co2_Conc']) ):\n",
    "            jsonout.update({\"eCO2Alert\": \"alert alert-info\"})\n",
    "    elif (jsonout['Co2_Conc'] > (df.mean()['Co2_Conc']+df.std()['Co2_Conc']) ):\n",
    "            jsonout.update({\"eCO2Alert\": \"alert alert-danger\"})             \n",
    "\n",
    "    #VOC\n",
    "    if (jsonout['VOC'] < (df.mean()['VOC']-df.std()['Co2_Conc']) ):\n",
    "            jsonout.update({\"VOCAlert\": \"alert alert-info\"})\n",
    "    elif (jsonout['VOC'] > (df.mean()['Co2_Conc']+df.std()['Co2_Conc']) ):\n",
    "            jsonout.update({\"VOCAlert\": \"alert alert-danger\"})                      \n",
    "except:\n",
    "    jsonout.update({\"messages\":\"no data in 3hr window to calculate trends\",\n",
    "                   \"tempAlert\": \"alert alert-warning\",\n",
    "                   \"pressAlert\": \"alert alert-warning\",\n",
    "                   \"moistAlert\": \"alert alert-warning\",\n",
    "                   \"eCO2Alert\": \"alert alert-warning\",\n",
    "                   \"VOCAlert\": \"alert alert-warning\"})"
   ]
  },
  {
   "cell_type": "code",
   "execution_count": 233,
   "metadata": {},
   "outputs": [],
   "source": [
    "with open('LabEnvMonitor.json', 'w') as my_data_file:\n",
    "    my_data_file.write(json.dumps(jsonout,indent=0))"
   ]
  },
  {
   "cell_type": "code",
   "execution_count": null,
   "metadata": {},
   "outputs": [],
   "source": []
  }
 ],
 "metadata": {
  "kernelspec": {
   "display_name": "Python [conda env:py37] *",
   "language": "python",
   "name": "conda-env-py37-py"
  },
  "language_info": {
   "codemirror_mode": {
    "name": "ipython",
    "version": 3
   },
   "file_extension": ".py",
   "mimetype": "text/x-python",
   "name": "python",
   "nbconvert_exporter": "python",
   "pygments_lexer": "ipython3",
   "version": "3.7.6"
  }
 },
 "nbformat": 4,
 "nbformat_minor": 4
}
