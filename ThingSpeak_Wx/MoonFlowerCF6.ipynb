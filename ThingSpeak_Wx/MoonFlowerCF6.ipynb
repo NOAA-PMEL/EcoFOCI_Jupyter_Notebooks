{
 "cells": [
  {
   "cell_type": "markdown",
   "metadata": {},
   "source": [
    "# Climate Data from Home System"
   ]
  },
  {
   "cell_type": "raw",
   "metadata": {},
   "source": [
    "## CF-6 report (daily update)\n",
    "\n",
    "Process pull data from individual databases...\n",
    "\n",
    "Generate new erddap with (for met station):\n",
    "- Daily High/Low/Average Temp\n",
    "- Daily Average Wetbulb/DewpointTemp\n",
    "- HDD/CDD (how to calculate)\n",
    "- average SLP\n",
    "- total rainfall\n",
    "- windfall average speed/average direction ... max speed (direction at time of max)\n",
    "- time of each event (on display)\n",
    "\n",
    "+ monthly max temp, min temp (average of all columns) except precip... cumulative\n",
    "+ days where temp exceeds threshold (hot and cold)\n",
    "+ days with rainfall bins\n",
    "\n",
    "- output monthly summaries as `{year}_{month}.txt` daily\n",
    "- generate annual report\n",
    "\n",
    "Generate new erddap with daily for houshold stations (combine, so maintain a location identifier)\n",
    "- Daily High/Low/Average temp\n",
    "- Daily High/Low/Average dewpoint\n",
    "- Daily High/Low/Average SLP\n",
    "\n",
    "Will want to compile all time records (with dates) for each location...\n",
    "- Alltime max/min temp\n",
    "- Alltime max/min dewpoint\n",
    "- Alltime max/min SLP\n",
    "\n",
    "- fun things to do later...\n",
    "    - consecutive days of rain\n",
    "    - consecutive days w/o rain\n",
    "    - largest daily change\n",
    "    \n",
    "- Code frequency and data ingestion\n",
    "    - daily run should pull in whole month (repeates process but simplifies output) - output to csv for \"erddap records and concat\"\n",
    "    - anual run is will use daily data"
   ]
  },
  {
   "cell_type": "code",
   "execution_count": 65,
   "metadata": {},
   "outputs": [],
   "source": [
    "from erddapy import ERDDAP\n",
    "import pandas as pd\n",
    "import datetime\n",
    "\n",
    "# for secondary/derived parameters\n",
    "from metpy.units import units\n",
    "import metpy.calc as mpcalc"
   ]
  },
  {
   "cell_type": "code",
   "execution_count": 66,
   "metadata": {},
   "outputs": [],
   "source": [
    "server_url = 'http://raspberrypi.local:8080/erddap'\n",
    "#server_url = 'http://192.168.2.15:8080/erddap'"
   ]
  },
  {
   "cell_type": "code",
   "execution_count": 67,
   "metadata": {},
   "outputs": [
    {
     "name": "stdout",
     "output_type": "stream",
     "text": [
      "['tempest_moonflower_wx' 'channel_1027974_thingspeak'\n",
      " 'channel_1037066_thingspeak' 'channel_1047747_thingspeak'\n",
      " 'channel_843357_thingspeak' 'channel_rpi' 'allDatasets']\n"
     ]
    }
   ],
   "source": [
    "e = ERDDAP(server=server_url)\n",
    "df = pd.read_csv(e.get_search_url(response='csv', search_for='MoonFlower'))\n",
    "print(df['Dataset ID'].values)"
   ]
  },
  {
   "cell_type": "code",
   "execution_count": 68,
   "metadata": {},
   "outputs": [],
   "source": [
    "dataset_id='tempest_moonflower_wx'\n",
    "\n",
    "try:\n",
    "    d = ERDDAP(server=server_url,\n",
    "        protocol='tabledap',\n",
    "        response='csv'\n",
    "    )\n",
    "    d.dataset_id=dataset_id\n",
    "except HTTPError:\n",
    "    print('Failed to generate url {}'.format(dataset_id))\n",
    "\n",
    "try:\n",
    "    df_m = d.to_pandas(\n",
    "                index_col='time (UTC)',\n",
    "                parse_dates=True,\n",
    "                skiprows=(1,)  # units information can be dropped.\n",
    "                )\n",
    "    df_m.sort_index(inplace=True)\n",
    "    df_m.columns = [x[1].split()[0] for x in enumerate(df_m.columns)]\n",
    "\n",
    "except:\n",
    "    print(f\"something failed in data download {dataset_id}\")\n",
    "    pass\n",
    "\n",
    "df_m.drop(columns=['device_id', 'bucket_step_minutes', 'wind_lull','wind_interval'],inplace=True)\n",
    "#stats are all utc driven - but we really want local daily values\n",
    "df_m=df_m.tz_convert('US/Pacific')\n",
    "\n",
    "# calculations of various parameters... metpy?\n",
    "# HDD/CDD, dewpointTemp"
   ]
  },
  {
   "cell_type": "code",
   "execution_count": 69,
   "metadata": {},
   "outputs": [],
   "source": [
    "df_m['dewpointTemp']=mpcalc.dewpoint_from_relative_humidity(df_m.temperature.values * units.degC,\n",
    "                                                            df_m.humidity.values * units.percent)\n",
    "#wetbulb from metpy had issues"
   ]
  },
  {
   "cell_type": "code",
   "execution_count": 70,
   "metadata": {},
   "outputs": [],
   "source": [
    "df_m['SLP']=df_m.statioinpressure.values * (1+((1013.25/df_m.statioinpressure.values)**((287.05*0.0065)/9.80665)) * (0.0065*87.3)/288.15)**(9.80665/(287.05*0.0065))"
   ]
  },
  {
   "cell_type": "code",
   "execution_count": 71,
   "metadata": {},
   "outputs": [
    {
     "data": {
      "text/html": [
       "<div>\n",
       "<style scoped>\n",
       "    .dataframe tbody tr th:only-of-type {\n",
       "        vertical-align: middle;\n",
       "    }\n",
       "\n",
       "    .dataframe tbody tr th {\n",
       "        vertical-align: top;\n",
       "    }\n",
       "\n",
       "    .dataframe thead th {\n",
       "        text-align: right;\n",
       "    }\n",
       "</style>\n",
       "<table border=\"1\" class=\"dataframe\">\n",
       "  <thead>\n",
       "    <tr style=\"text-align: right;\">\n",
       "      <th></th>\n",
       "      <th>type</th>\n",
       "      <th>wind_avg</th>\n",
       "      <th>wind_gust</th>\n",
       "      <th>wind_dir</th>\n",
       "      <th>statioinpressure</th>\n",
       "      <th>temperature</th>\n",
       "      <th>humidity</th>\n",
       "      <th>lux</th>\n",
       "      <th>uv</th>\n",
       "      <th>solar_radiation</th>\n",
       "      <th>...</th>\n",
       "      <th>strike_distance</th>\n",
       "      <th>strike_count</th>\n",
       "      <th>battery</th>\n",
       "      <th>report_interval</th>\n",
       "      <th>local_daily_precip</th>\n",
       "      <th>precip_final</th>\n",
       "      <th>local_daily_precip_final</th>\n",
       "      <th>precip_analysis_type</th>\n",
       "      <th>dewpointTemp</th>\n",
       "      <th>SLP</th>\n",
       "    </tr>\n",
       "    <tr>\n",
       "      <th>time (UTC)</th>\n",
       "      <th></th>\n",
       "      <th></th>\n",
       "      <th></th>\n",
       "      <th></th>\n",
       "      <th></th>\n",
       "      <th></th>\n",
       "      <th></th>\n",
       "      <th></th>\n",
       "      <th></th>\n",
       "      <th></th>\n",
       "      <th></th>\n",
       "      <th></th>\n",
       "      <th></th>\n",
       "      <th></th>\n",
       "      <th></th>\n",
       "      <th></th>\n",
       "      <th></th>\n",
       "      <th></th>\n",
       "      <th></th>\n",
       "      <th></th>\n",
       "      <th></th>\n",
       "    </tr>\n",
       "  </thead>\n",
       "  <tbody>\n",
       "    <tr>\n",
       "      <th>2020-08-08 06:33:00-07:00</th>\n",
       "      <td>obs_st</td>\n",
       "      <td>0.0</td>\n",
       "      <td>0.0</td>\n",
       "      <td>0.0</td>\n",
       "      <td>1010.9</td>\n",
       "      <td>13.1</td>\n",
       "      <td>97.0</td>\n",
       "      <td>850</td>\n",
       "      <td>0.06</td>\n",
       "      <td>7.0</td>\n",
       "      <td>...</td>\n",
       "      <td>0.0</td>\n",
       "      <td>0.0</td>\n",
       "      <td>2.61</td>\n",
       "      <td>1.0</td>\n",
       "      <td>0.0</td>\n",
       "      <td>NaN</td>\n",
       "      <td>NaN</td>\n",
       "      <td>0.0</td>\n",
       "      <td>12.634727</td>\n",
       "      <td>1021.411861</td>\n",
       "    </tr>\n",
       "  </tbody>\n",
       "</table>\n",
       "<p>1 rows × 22 columns</p>\n",
       "</div>"
      ],
      "text/plain": [
       "                             type  wind_avg  wind_gust  wind_dir  \\\n",
       "time (UTC)                                                         \n",
       "2020-08-08 06:33:00-07:00  obs_st       0.0        0.0       0.0   \n",
       "\n",
       "                           statioinpressure  temperature  humidity  lux    uv  \\\n",
       "time (UTC)                                                                      \n",
       "2020-08-08 06:33:00-07:00            1010.9         13.1      97.0  850  0.06   \n",
       "\n",
       "                           solar_radiation  ...  strike_distance  \\\n",
       "time (UTC)                                  ...                    \n",
       "2020-08-08 06:33:00-07:00              7.0  ...              0.0   \n",
       "\n",
       "                           strike_count  battery  report_interval  \\\n",
       "time (UTC)                                                          \n",
       "2020-08-08 06:33:00-07:00           0.0     2.61              1.0   \n",
       "\n",
       "                           local_daily_precip  precip_final  \\\n",
       "time (UTC)                                                    \n",
       "2020-08-08 06:33:00-07:00                 0.0           NaN   \n",
       "\n",
       "                           local_daily_precip_final  precip_analysis_type  \\\n",
       "time (UTC)                                                                  \n",
       "2020-08-08 06:33:00-07:00                       NaN                   0.0   \n",
       "\n",
       "                           dewpointTemp          SLP  \n",
       "time (UTC)                                            \n",
       "2020-08-08 06:33:00-07:00     12.634727  1021.411861  \n",
       "\n",
       "[1 rows x 22 columns]"
      ]
     },
     "execution_count": 71,
     "metadata": {},
     "output_type": "execute_result"
    }
   ],
   "source": [
    "df_daily_max = df_m.resample('D').max()\n",
    "df_daily_min = df_m.resample('D').min()\n",
    "df_daily_ave = df_m.resample('D').mean()\n",
    "df_daily_total = df_m.resample('1T').mean().resample('D').sum()\n",
    "df_m.sample()"
   ]
  },
  {
   "cell_type": "code",
   "execution_count": 72,
   "metadata": {},
   "outputs": [],
   "source": [
    "use_current_month = True\n",
    "\n",
    "if use_current_month:\n",
    "    current_month = datetime.datetime.now().month\n",
    "else:\n",
    "    current_month = 7\n",
    "\n",
    "current_month_grid_data=pd.DataFrame()\n",
    "current_month_grid_data = df_daily_max[df_daily_max.index.month==current_month].temperature\n",
    "current_month_grid_data = pd.concat([current_month_grid_data,\n",
    "                                     df_daily_min[df_daily_min.index.month==current_month].temperature.round(1),\n",
    "                                     df_daily_ave[df_daily_ave.index.month==current_month].temperature.round(1),\n",
    "                                     df_daily_ave[df_daily_ave.index.month==current_month].dewpointTemp.round(1),\n",
    "                                     df_daily_ave[df_daily_ave.index.month==current_month].SLP.round(1),\n",
    "                                     df_daily_total[df_daily_total.index.month==current_month].solar_radiation.round(0),\n",
    "                                     df_daily_max[df_daily_max.index.month==current_month].uv.round(1),\n",
    "                                     df_daily_ave[df_daily_ave.index.month==current_month].wind_avg.round(1),\n",
    "                                     df_daily_ave[df_daily_ave.index.month==current_month].wind_dir.astype(int),\n",
    "                                     df_daily_max[df_daily_max.index.month==current_month].wind_gust.round(1)\n",
    "                                    ],axis=1)\n",
    "current_month_grid_data.columns=('max_temperature','min_temperature','mean_temperature','mean_dewpoint','mean SLP','total_solar_radiation','max_uv_index','average speed','average dir','max gust')"
   ]
  },
  {
   "cell_type": "code",
   "execution_count": 73,
   "metadata": {},
   "outputs": [],
   "source": [
    "current_month_grid_data['station_id'] = 'tempest'"
   ]
  },
  {
   "cell_type": "code",
   "execution_count": 74,
   "metadata": {},
   "outputs": [],
   "source": [
    "#this should go to erddap\n",
    "current_month_grid_data.to_csv(f'MoonflowerTempest_2020{str(current_month).zfill(2)}.csv')"
   ]
  },
  {
   "cell_type": "code",
   "execution_count": 75,
   "metadata": {},
   "outputs": [
    {
     "data": {
      "text/html": [
       "<style  type=\"text/css\" >\n",
       "#T_12b10978_ed45_11ea_b78a_8c8590c6a91brow0_col0,#T_12b10978_ed45_11ea_b78a_8c8590c6a91brow0_col1,#T_12b10978_ed45_11ea_b78a_8c8590c6a91brow0_col2,#T_12b10978_ed45_11ea_b78a_8c8590c6a91brow0_col3,#T_12b10978_ed45_11ea_b78a_8c8590c6a91brow0_col4,#T_12b10978_ed45_11ea_b78a_8c8590c6a91brow0_col5,#T_12b10978_ed45_11ea_b78a_8c8590c6a91brow0_col6,#T_12b10978_ed45_11ea_b78a_8c8590c6a91brow0_col7,#T_12b10978_ed45_11ea_b78a_8c8590c6a91brow0_col8,#T_12b10978_ed45_11ea_b78a_8c8590c6a91brow0_col9{\n",
       "            color:  red;\n",
       "            color:  blue;\n",
       "        }</style><table id=\"T_12b10978_ed45_11ea_b78a_8c8590c6a91b\" ><thead>    <tr>        <th class=\"blank level0\" ></th>        <th class=\"col_heading level0 col0\" >max_temperature</th>        <th class=\"col_heading level0 col1\" >min_temperature</th>        <th class=\"col_heading level0 col2\" >mean_temperature</th>        <th class=\"col_heading level0 col3\" >mean_dewpoint</th>        <th class=\"col_heading level0 col4\" >mean SLP</th>        <th class=\"col_heading level0 col5\" >total_solar_radiation</th>        <th class=\"col_heading level0 col6\" >max_uv_index</th>        <th class=\"col_heading level0 col7\" >average speed</th>        <th class=\"col_heading level0 col8\" >average dir</th>        <th class=\"col_heading level0 col9\" >max gust</th>    </tr>    <tr>        <th class=\"index_name level0\" >time (UTC)</th>        <th class=\"blank\" ></th>        <th class=\"blank\" ></th>        <th class=\"blank\" ></th>        <th class=\"blank\" ></th>        <th class=\"blank\" ></th>        <th class=\"blank\" ></th>        <th class=\"blank\" ></th>        <th class=\"blank\" ></th>        <th class=\"blank\" ></th>        <th class=\"blank\" ></th>    </tr></thead><tbody>\n",
       "                <tr>\n",
       "                        <th id=\"T_12b10978_ed45_11ea_b78a_8c8590c6a91blevel0_row0\" class=\"row_heading level0 row0\" >2020-09-01 00:00:00-07:00</th>\n",
       "                        <td id=\"T_12b10978_ed45_11ea_b78a_8c8590c6a91brow0_col0\" class=\"data row0 col0\" >23.20</td>\n",
       "                        <td id=\"T_12b10978_ed45_11ea_b78a_8c8590c6a91brow0_col1\" class=\"data row0 col1\" >13.20</td>\n",
       "                        <td id=\"T_12b10978_ed45_11ea_b78a_8c8590c6a91brow0_col2\" class=\"data row0 col2\" >15.40</td>\n",
       "                        <td id=\"T_12b10978_ed45_11ea_b78a_8c8590c6a91brow0_col3\" class=\"data row0 col3\" >12.60</td>\n",
       "                        <td id=\"T_12b10978_ed45_11ea_b78a_8c8590c6a91brow0_col4\" class=\"data row0 col4\" >1021.60</td>\n",
       "                        <td id=\"T_12b10978_ed45_11ea_b78a_8c8590c6a91brow0_col5\" class=\"data row0 col5\" >123427.00</td>\n",
       "                        <td id=\"T_12b10978_ed45_11ea_b78a_8c8590c6a91brow0_col6\" class=\"data row0 col6\" >5.40</td>\n",
       "                        <td id=\"T_12b10978_ed45_11ea_b78a_8c8590c6a91brow0_col7\" class=\"data row0 col7\" >0.40</td>\n",
       "                        <td id=\"T_12b10978_ed45_11ea_b78a_8c8590c6a91brow0_col8\" class=\"data row0 col8\" >52.00</td>\n",
       "                        <td id=\"T_12b10978_ed45_11ea_b78a_8c8590c6a91brow0_col9\" class=\"data row0 col9\" >5.40</td>\n",
       "            </tr>\n",
       "    </tbody></table>"
      ],
      "text/plain": [
       "<pandas.io.formats.style.Styler at 0x1129a0310>"
      ]
     },
     "execution_count": 75,
     "metadata": {},
     "output_type": "execute_result"
    }
   ],
   "source": [
    "def highlight_max(s):\n",
    "    '''\n",
    "    highlight the maximum in a Series yellow.\n",
    "    '''\n",
    "    is_max = s == s.max()\n",
    "    return ['color: red' if v else '' for v in is_max]\n",
    "\n",
    "def highlight_min(s):\n",
    "    '''\n",
    "    highlight the maximum in a Series yellow.\n",
    "    '''\n",
    "    is_min = s == s.min()\n",
    "    return ['color: blue' if v else '' for v in is_min]\n",
    "\n",
    "current_month_grid_data.drop('station_id',axis=1).style.apply(highlight_max).apply(highlight_min).format(\"{:.2f}\")\n"
   ]
  },
  {
   "cell_type": "code",
   "execution_count": 76,
   "metadata": {},
   "outputs": [],
   "source": [
    "### need to manage daily records, monthly records, alltime records"
   ]
  },
  {
   "cell_type": "markdown",
   "metadata": {},
   "source": [
    "## repeat for each sensor on property\n",
    "\n",
    "choose month or use current (starting with data subsetting)"
   ]
  },
  {
   "cell_type": "code",
   "execution_count": 77,
   "metadata": {},
   "outputs": [],
   "source": [
    "if use_current_month:\n",
    "    constraints = {\n",
    "        'time>=': datetime.datetime.now().strftime('%Y-%m-01T00:00:00Z'),\n",
    "    }\n",
    "else:\n",
    "    constraints = {\n",
    "        'time>=': '2020-01-01T00:00:00Z',\n",
    "        'time<=': '2027-02-10T00:00:00Z',\n",
    "    }"
   ]
  },
  {
   "cell_type": "code",
   "execution_count": 78,
   "metadata": {},
   "outputs": [
    {
     "name": "stdout",
     "output_type": "stream",
     "text": [
      "something failed in data download channel_1047747_thingspeak\n"
     ]
    }
   ],
   "source": [
    "alldatasets=['channel_1027974_thingspeak',\n",
    "            'channel_1037066_thingspeak',\n",
    "            'channel_1047747_thingspeak',\n",
    "            'channel_843357_thingspeak',\n",
    "            'channel_rpi']\n",
    "df_all = {}\n",
    "\n",
    "for dataset_id in alldatasets:\n",
    "    try:\n",
    "        d = ERDDAP(server=server_url,\n",
    "            protocol='tabledap',\n",
    "            response='csv'\n",
    "        )\n",
    "        d.dataset_id=dataset_id\n",
    "        d.constraints=constraints\n",
    "        \n",
    "    except HTTPError:\n",
    "        print('Failed to generate url {}'.format(dataset_id))\n",
    "\n",
    "    try:\n",
    "        df_m = d.to_pandas(\n",
    "                    index_col='time (UTC)',\n",
    "                    parse_dates=True,\n",
    "                    skiprows=(1,)  # units information can be dropped.\n",
    "                    )\n",
    "        df_m.sort_index(inplace=True)\n",
    "        df_m.columns = [x[1].split()[0] for x in enumerate(df_m.columns)]\n",
    "\n",
    "    except:\n",
    "        print(f\"something failed in data download {dataset_id}\")\n",
    "        pass\n",
    "\n",
    "    #stats are all utc driven - but we really want local daily values\n",
    "    df_m=df_m.tz_convert('US/Pacific')\n",
    "    df_all.update({dataset_id:df_m})\n",
    "    # calculations of various parameters... metpy?\n",
    "    # HDD/CDD, dewpointTemp"
   ]
  },
  {
   "cell_type": "code",
   "execution_count": 79,
   "metadata": {},
   "outputs": [
    {
     "name": "stdout",
     "output_type": "stream",
     "text": [
      "Index(['entry_id', 'temperature'], dtype='object')\n",
      "Index(['entry_id', 'temperature', 'RH_Percent'], dtype='object')\n",
      "Index(['entry_id', 'temperature', 'RH_Percent'], dtype='object')\n",
      "Index(['entry_id', 'temperature', 'RH_Percent', 'Barotemperature', 'SLP'], dtype='object')\n",
      "Index(['humidity', 'Average_SLP', 'temperature', 'eCO2', 'eVOC'], dtype='object')\n"
     ]
    }
   ],
   "source": [
    "for k,v in enumerate(df_all):\n",
    "    print(df_all[v].keys())"
   ]
  },
  {
   "cell_type": "code",
   "execution_count": 80,
   "metadata": {},
   "outputs": [
    {
     "name": "stdout",
     "output_type": "stream",
     "text": [
      "Index(['entry_id', 'temperature'], dtype='object')\n",
      "processing channel_1027974_thingspeak :1\n",
      "channel_1027974_thingspeak\n",
      "Index(['entry_id', 'temperature', 'RH_Percent'], dtype='object')\n",
      "processing channel_1037066_thingspeak :0\n",
      "channel_1037066_thingspeak\n",
      "Index(['entry_id', 'temperature', 'RH_Percent'], dtype='object')\n",
      "processing channel_1047747_thingspeak :0\n",
      "channel_1047747_thingspeak\n",
      "Index(['entry_id', 'temperature', 'RH_Percent', 'Barotemperature', 'SLP'], dtype='object')\n",
      "processing channel_843357_thingspeak :2\n",
      "channel_843357_thingspeak\n",
      "Index(['humidity', 'Average_SLP', 'temperature', 'eCO2', 'eVOC'], dtype='object')\n",
      "processing channel_rpi :1\n",
      "channel_rpi\n"
     ]
    },
    {
     "data": {
      "text/html": [
       "<style  type=\"text/css\" >\n",
       "#T_13f43ac6_ed45_11ea_b78a_8c8590c6a91brow0_col0,#T_13f43ac6_ed45_11ea_b78a_8c8590c6a91brow0_col2,#T_13f43ac6_ed45_11ea_b78a_8c8590c6a91brow1_col1{\n",
       "            color:  red;\n",
       "        }#T_13f43ac6_ed45_11ea_b78a_8c8590c6a91brow0_col1,#T_13f43ac6_ed45_11ea_b78a_8c8590c6a91brow1_col0,#T_13f43ac6_ed45_11ea_b78a_8c8590c6a91brow1_col2{\n",
       "            color:  blue;\n",
       "        }</style><table id=\"T_13f43ac6_ed45_11ea_b78a_8c8590c6a91b\" ><thead>    <tr>        <th class=\"blank level0\" ></th>        <th class=\"col_heading level0 col0\" >max_temperature</th>        <th class=\"col_heading level0 col1\" >min_temperature</th>        <th class=\"col_heading level0 col2\" >mean_temperature</th>    </tr>    <tr>        <th class=\"index_name level0\" >time (UTC)</th>        <th class=\"blank\" ></th>        <th class=\"blank\" ></th>        <th class=\"blank\" ></th>    </tr></thead><tbody>\n",
       "                <tr>\n",
       "                        <th id=\"T_13f43ac6_ed45_11ea_b78a_8c8590c6a91blevel0_row0\" class=\"row_heading level0 row0\" >2020-09-01 00:00:00-07:00</th>\n",
       "                        <td id=\"T_13f43ac6_ed45_11ea_b78a_8c8590c6a91brow0_col0\" class=\"data row0 col0\" >27.66</td>\n",
       "                        <td id=\"T_13f43ac6_ed45_11ea_b78a_8c8590c6a91brow0_col1\" class=\"data row0 col1\" >22.90</td>\n",
       "                        <td id=\"T_13f43ac6_ed45_11ea_b78a_8c8590c6a91brow0_col2\" class=\"data row0 col2\" >25.10</td>\n",
       "            </tr>\n",
       "            <tr>\n",
       "                        <th id=\"T_13f43ac6_ed45_11ea_b78a_8c8590c6a91blevel0_row1\" class=\"row_heading level0 row1\" >2020-09-02 00:00:00-07:00</th>\n",
       "                        <td id=\"T_13f43ac6_ed45_11ea_b78a_8c8590c6a91brow1_col0\" class=\"data row1 col0\" >23.87</td>\n",
       "                        <td id=\"T_13f43ac6_ed45_11ea_b78a_8c8590c6a91brow1_col1\" class=\"data row1 col1\" >23.70</td>\n",
       "                        <td id=\"T_13f43ac6_ed45_11ea_b78a_8c8590c6a91brow1_col2\" class=\"data row1 col2\" >23.80</td>\n",
       "            </tr>\n",
       "    </tbody></table>"
      ],
      "text/plain": [
       "<pandas.io.formats.style.Styler at 0x1127b1ed0>"
      ]
     },
     "execution_count": 80,
     "metadata": {},
     "output_type": "execute_result"
    }
   ],
   "source": [
    "if use_current_month:\n",
    "    current_month = datetime.datetime.now().month\n",
    "else:\n",
    "    current_month = 7\n",
    "    \n",
    "for k,v in enumerate(df_all):\n",
    "    print(df_all[v].keys())\n",
    "    df_daily_max = df_all[v].resample('D').max()\n",
    "    df_daily_min = df_all[v].resample('D').min()\n",
    "    df_daily_ave = df_all[v].resample('D').mean()\n",
    "    if ('RH_Percent' in df_all[v].keys()) and ('temperature' in df_all[v].keys()) and (not 'Barotemperature' in df_all[v].keys()):\n",
    "        print(f\"processing {v} :0\")\n",
    "        current_month_grid_data=pd.DataFrame()\n",
    "        current_month_grid_data = df_daily_max[df_daily_max.index.month==current_month].temperature\n",
    "        current_month_grid_data = pd.concat([current_month_grid_data,\n",
    "                                             df_daily_min[df_daily_min.index.month==current_month].temperature.round(1),\n",
    "                                             df_daily_ave[df_daily_ave.index.month==current_month].temperature.round(1),\n",
    "                                             df_daily_ave[df_daily_ave.index.month==current_month].RH_Percent.round(1),\n",
    "                                            ],axis=1)\n",
    "        current_month_grid_data.columns=('max_temperature','min_temperature','mean_temperature','mean_humidity')\n",
    "        current_month_grid_data['station_id'] = v    \n",
    "        current_month_grid_data.to_csv(f'{v}_2020{str(current_month).zfill(2)}.csv')\n",
    "    elif (not 'RH_Percent' in df_all[v].keys()) and ('temperature' in df_all[v].keys()) and (not 'Barotemperature' in df_all[v].keys()):\n",
    "        print(f\"processing {v} :1\")\n",
    "        current_month_grid_data=pd.DataFrame()\n",
    "        current_month_grid_data = df_daily_max[df_daily_max.index.month==current_month].temperature\n",
    "        current_month_grid_data = pd.concat([current_month_grid_data,\n",
    "                                             df_daily_min[df_daily_min.index.month==current_month].temperature.round(1),\n",
    "                                             df_daily_ave[df_daily_ave.index.month==current_month].temperature.round(1),\n",
    "                                            ],axis=1)\n",
    "        current_month_grid_data.columns=('max_temperature','min_temperature','mean_temperature')\n",
    "        current_month_grid_data['station_id'] = v\n",
    "        \n",
    "        #this should go to erddap\n",
    "        current_month_grid_data.to_csv(f'{v}_2020{str(current_month).zfill(2)}.csv')\n",
    "    elif ('RH_Percent' in df_all[v].keys()) and ('temperature' in df_all[v].keys()) and ('Barotemperature' in df_all[v].keys()):\n",
    "        print(f\"processing {v} :2\")\n",
    "        current_month_grid_data=pd.DataFrame()\n",
    "        current_month_grid_data = df_daily_max[df_daily_max.index.month==current_month].Barotemperature\n",
    "        current_month_grid_data = pd.concat([current_month_grid_data,\n",
    "                                             df_daily_min[df_daily_min.index.month==current_month].Barotemperature.round(1),\n",
    "                                             df_daily_ave[df_daily_ave.index.month==current_month].Barotemperature.round(1),\n",
    "                                            ],axis=1)\n",
    "        current_month_grid_data.columns=('max_temperature','min_temperature','mean_temperature')\n",
    "        current_month_grid_data['station_id'] = v\n",
    "        \n",
    "        #this should go to erddap\n",
    "        current_month_grid_data.to_csv(f'{v}_2020{str(current_month).zfill(2)}.csv')\n",
    "    else:\n",
    "        print(f\"passing {v} :3\")\n",
    "        pass\n",
    "    \n",
    "    print(f'{v}')\n",
    "current_month_grid_data.drop('station_id',axis=1).style.apply(highlight_max).apply(highlight_min).format(\"{:.2f}\")\n"
   ]
  },
  {
   "cell_type": "code",
   "execution_count": null,
   "metadata": {},
   "outputs": [],
   "source": []
  }
 ],
 "metadata": {
  "kernelspec": {
   "display_name": "Python [conda env:py37] *",
   "language": "python",
   "name": "conda-env-py37-py"
  },
  "language_info": {
   "codemirror_mode": {
    "name": "ipython",
    "version": 3
   },
   "file_extension": ".py",
   "mimetype": "text/x-python",
   "name": "python",
   "nbconvert_exporter": "python",
   "pygments_lexer": "ipython3",
   "version": "3.7.8"
  }
 },
 "nbformat": 4,
 "nbformat_minor": 4
}
