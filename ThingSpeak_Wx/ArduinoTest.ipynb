{
 "cells": [
  {
   "cell_type": "markdown",
   "metadata": {},
   "source": [
    "### Erddap Quicklooks of ThingSpeak archived data"
   ]
  },
  {
   "cell_type": "markdown",
   "metadata": {},
   "source": [
    "__pyversion__==3.7   \n",
    "__author__==S.Bell\n",
    "\n",
    "__Notes:__ "
   ]
  },
  {
   "cell_type": "code",
   "execution_count": null,
   "metadata": {},
   "outputs": [],
   "source": [
    "import datetime\n",
    "print(\"Last run {0}\".format(datetime.datetime.now()))"
   ]
  },
  {
   "cell_type": "code",
   "execution_count": null,
   "metadata": {},
   "outputs": [],
   "source": [
    "from erddapy import ERDDAP\n",
    "import pandas as pd\n",
    "import numpy as np\n",
    "\n",
    "server_url = 'http://downdraft.pmel.noaa.gov:8080/erddap'\n",
    "\n",
    "e = ERDDAP(server=server_url)\n"
   ]
  },
  {
   "cell_type": "code",
   "execution_count": null,
   "metadata": {},
   "outputs": [],
   "source": [
    "\n",
    "d = ERDDAP(server=server_url,\n",
    "           protocol='tabledap',\n",
    "           response='csv',\n",
    "          )\n",
    "\n",
    "d.dataset_id='channel_843357_thingspeak'\n",
    "\n",
    "d.variables =  [\n",
    " 'entry_id',\n",
    " 'Temp',\n",
    " 'RH_Percent',\n",
    " 'BaroTemp',\n",
    " 'SLP'\n",
    "]\n",
    "\n",
    "d.constraints = {\n",
    "    'time>=': '2019-08-01T00:00:00Z',\n",
    "    'time<=': '2020-10-10T00:00:00Z',\n",
    "}\n",
    "\n",
    "df = d.to_pandas(\n",
    "    index_col='time (UTC)',\n",
    "    parse_dates=True,\n",
    "    skiprows=(1,)  # units information can be dropped.\n",
    ").dropna()\n",
    "\n",
    "df.sort_index(inplace=True)\n",
    "df.columns = [x[1].split()[0] for x in enumerate(df.columns)]\n",
    "\n",
    "df.tail()"
   ]
  }
 ],
 "metadata": {
  "kernelspec": {
   "display_name": "Python [conda env:py37]",
   "language": "python",
   "name": "conda-env-py37-py"
  },
  "language_info": {
   "codemirror_mode": {
    "name": "ipython",
    "version": 3
   },
   "file_extension": ".py",
   "mimetype": "text/x-python",
   "name": "python",
   "nbconvert_exporter": "python",
   "pygments_lexer": "ipython3",
   "version": "3.7.3"
  }
 },
 "nbformat": 4,
 "nbformat_minor": 4
}
