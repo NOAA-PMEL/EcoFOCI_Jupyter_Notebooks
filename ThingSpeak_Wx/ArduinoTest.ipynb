{
 "cells": [
  {
   "cell_type": "markdown",
   "metadata": {},
   "source": [
    "### Erddap Quicklooks of ThingSpeak archived data"
   ]
  },
  {
   "cell_type": "markdown",
   "metadata": {},
   "source": [
    "__pyversion__==3.7   \n",
    "__author__==S.Bell\n",
    "\n",
    "__Notes:__ \n",
    "\n",
    "```\n",
    "Full Scale details... temp better at 25degC\n",
    "\n",
    "DHT11 - 0-50C +/- 2degC, 0.1\n",
    "      - 20-90% +/- 5%, 1\n",
    "      \n",
    "BMP180 - temp is +/- 2degc\n",
    "       - baro is +/- 1hpa (and a 1hpa res for relative?)\n",
    "```"
   ]
  },
  {
   "cell_type": "code",
   "execution_count": 16,
   "metadata": {},
   "outputs": [
    {
     "name": "stdout",
     "output_type": "stream",
     "text": [
      "Last run 2019-10-07 07:16:35.219225\n"
     ]
    }
   ],
   "source": [
    "import datetime\n",
    "print(\"Last run {0}\".format(datetime.datetime.now()))"
   ]
  },
  {
   "cell_type": "code",
   "execution_count": 17,
   "metadata": {},
   "outputs": [
    {
     "name": "stdout",
     "output_type": "stream",
     "text": [
      "[['BaroTemp', 'SLP', 'RH_Percent', 'Temp', 'time']]\n"
     ]
    }
   ],
   "source": [
    "from erddapy import ERDDAP\n",
    "import pandas as pd\n",
    "import numpy as np\n",
    "\n",
    "server_url = 'http://downdraft.pmel.noaa.gov:8080/erddap'\n",
    "\n",
    "e = ERDDAP(server=server_url)\n",
    "\n",
    "variables = [e.get_var_by_attr(dataset_id=prawler, standard_name=lambda v: v is not None) for prawler in ['channel_843357_thingspeak']]\n",
    "print(variables)"
   ]
  },
  {
   "cell_type": "code",
   "execution_count": 18,
   "metadata": {},
   "outputs": [
    {
     "data": {
      "text/plain": [
       "'http://downdraft.pmel.noaa.gov:8080/erddap/tabledap/channel_843357_thingspeak.csv?BaroTemp,SLP,RH_Percent,Temp,time&time>=1567840595.514048&time<=1570457795.514075'"
      ]
     },
     "execution_count": 18,
     "metadata": {},
     "output_type": "execute_result"
    }
   ],
   "source": [
    "\n",
    "d = ERDDAP(server=server_url,\n",
    "           protocol='tabledap',\n",
    "           response='csv',\n",
    "          )\n",
    "\n",
    "d.dataset_id='channel_843357_thingspeak'\n",
    "\n",
    "d.variables =  [d.get_var_by_attr(dataset_id=prawler, standard_name=lambda v: v is not None) for prawler in [d.dataset_id]][0]\n",
    "\n",
    "d.constraints = {\n",
    "    'time>=': datetime.datetime.today()-datetime.timedelta(days=30),\n",
    "    'time<=': datetime.datetime.utcnow()\n",
    "}\n",
    "\n",
    "d.get_download_url()"
   ]
  },
  {
   "cell_type": "code",
   "execution_count": 19,
   "metadata": {},
   "outputs": [
    {
     "data": {
      "text/html": [
       "<div>\n",
       "<style scoped>\n",
       "    .dataframe tbody tr th:only-of-type {\n",
       "        vertical-align: middle;\n",
       "    }\n",
       "\n",
       "    .dataframe tbody tr th {\n",
       "        vertical-align: top;\n",
       "    }\n",
       "\n",
       "    .dataframe thead th {\n",
       "        text-align: right;\n",
       "    }\n",
       "</style>\n",
       "<table border=\"1\" class=\"dataframe\">\n",
       "  <thead>\n",
       "    <tr style=\"text-align: right;\">\n",
       "      <th></th>\n",
       "      <th>BaroTemp</th>\n",
       "      <th>SLP</th>\n",
       "      <th>RH_Percent</th>\n",
       "      <th>Temp</th>\n",
       "    </tr>\n",
       "    <tr>\n",
       "      <th>time (UTC)</th>\n",
       "      <th></th>\n",
       "      <th></th>\n",
       "      <th></th>\n",
       "      <th></th>\n",
       "    </tr>\n",
       "  </thead>\n",
       "  <tbody>\n",
       "    <tr>\n",
       "      <td>2019-10-06 21:54:41+00:00</td>\n",
       "      <td>26.0</td>\n",
       "      <td>1021.0</td>\n",
       "      <td>36.0</td>\n",
       "      <td>25.9</td>\n",
       "    </tr>\n",
       "    <tr>\n",
       "      <td>2019-10-06 21:55:48+00:00</td>\n",
       "      <td>26.0</td>\n",
       "      <td>1020.0</td>\n",
       "      <td>36.0</td>\n",
       "      <td>25.9</td>\n",
       "    </tr>\n",
       "    <tr>\n",
       "      <td>2019-10-06 21:56:55+00:00</td>\n",
       "      <td>26.1</td>\n",
       "      <td>1020.0</td>\n",
       "      <td>36.0</td>\n",
       "      <td>25.9</td>\n",
       "    </tr>\n",
       "    <tr>\n",
       "      <td>2019-10-06 21:58:02+00:00</td>\n",
       "      <td>26.1</td>\n",
       "      <td>1020.0</td>\n",
       "      <td>37.0</td>\n",
       "      <td>26.0</td>\n",
       "    </tr>\n",
       "    <tr>\n",
       "      <td>2019-10-06 21:59:09+00:00</td>\n",
       "      <td>26.1</td>\n",
       "      <td>1020.0</td>\n",
       "      <td>37.0</td>\n",
       "      <td>26.0</td>\n",
       "    </tr>\n",
       "  </tbody>\n",
       "</table>\n",
       "</div>"
      ],
      "text/plain": [
       "                           BaroTemp     SLP  RH_Percent  Temp\n",
       "time (UTC)                                                   \n",
       "2019-10-06 21:54:41+00:00      26.0  1021.0        36.0  25.9\n",
       "2019-10-06 21:55:48+00:00      26.0  1020.0        36.0  25.9\n",
       "2019-10-06 21:56:55+00:00      26.1  1020.0        36.0  25.9\n",
       "2019-10-06 21:58:02+00:00      26.1  1020.0        37.0  26.0\n",
       "2019-10-06 21:59:09+00:00      26.1  1020.0        37.0  26.0"
      ]
     },
     "execution_count": 19,
     "metadata": {},
     "output_type": "execute_result"
    }
   ],
   "source": [
    "df = d.to_pandas(\n",
    "    index_col='time (UTC)',\n",
    "    parse_dates=True,\n",
    "    skiprows=(1,)  # units information can be dropped.\n",
    ").dropna()\n",
    "\n",
    "df.sort_index(inplace=True)\n",
    "df.columns = [x[1].split()[0] for x in enumerate(df.columns)]\n",
    "\n",
    "df.tail()"
   ]
  },
  {
   "cell_type": "code",
   "execution_count": 20,
   "metadata": {},
   "outputs": [
    {
     "data": {
      "text/plain": [
       "datetime.datetime(2019, 10, 7, 14, 16, 43, 597743)"
      ]
     },
     "execution_count": 20,
     "metadata": {},
     "output_type": "execute_result"
    }
   ],
   "source": [
    "datetime.datetime.utcnow()"
   ]
  },
  {
   "cell_type": "code",
   "execution_count": 21,
   "metadata": {},
   "outputs": [
    {
     "data": {
      "text/plain": [
       "{'temp_c': '11.7',\n",
       " 'relative_humidity': '74',\n",
       " 'pressure_mb': '1017.3',\n",
       " 'observation_time_rfc822': 'Mon, 07 Oct 2019 06:53:00 -0700',\n",
       " 'datetime': datetime.datetime(2019, 10, 7, 6, 53, tzinfo=datetime.timezone(datetime.timedelta(days=-1, seconds=61200)))}"
      ]
     },
     "execution_count": 21,
     "metadata": {},
     "output_type": "execute_result"
    }
   ],
   "source": [
    "#get some nearby data\n",
    "import requests\n",
    "import xml.etree.ElementTree as ET\n",
    "\n",
    "user_agent_url = 'https://w1.weather.gov/xml/current_obs/KPAE.xml'\n",
    "kpae = {} #Payne Field\n",
    "try:\n",
    "    xml_data = requests.get(user_agent_url).content\n",
    "    res = requests.get(\"http://w1.weather.gov/xml/current_obs/KPAE.xml\")\n",
    "    xml_tree = ET.fromstring(res.text)\n",
    "    kpae['temp_c'] = xml_tree.find('temp_c').text\n",
    "    kpae['relative_humidity'] = xml_tree.find('relative_humidity').text\n",
    "    kpae['pressure_mb'] = xml_tree.find('pressure_mb').text\n",
    "    kpae['observation_time_rfc822'] = xml_tree.find('observation_time_rfc822').text\n",
    "    kpae['datetime'] = datetime.datetime.strptime(kpae['observation_time_rfc822'],'%a, %d %b %Y %H:%M:%S %z')\n",
    "except:\n",
    "    pass\n",
    "\n",
    "kpae"
   ]
  },
  {
   "cell_type": "code",
   "execution_count": 22,
   "metadata": {},
   "outputs": [],
   "source": [
    "kpae['observation_time_rfc822'] = xml_tree.find('observation_time_rfc822').text"
   ]
  },
  {
   "cell_type": "code",
   "execution_count": 23,
   "metadata": {},
   "outputs": [],
   "source": [
    "%matplotlib inline\n",
    "import matplotlib as mpl\n",
    "import matplotlib.pyplot as plt\n",
    "import matplotlib.dates as mdates\n",
    "from matplotlib.dates import YearLocator, WeekdayLocator, MonthLocator, DayLocator, HourLocator, DateFormatter\n",
    "import matplotlib.ticker as ticker\n",
    "\n",
    "import cmocean\n",
    "### specify primary bulk figure parameters\n",
    "fontsize = 10\n",
    "labelsize = 10\n",
    "#plotstyle = 'seaborn'\n",
    "max_xticks = 10\n",
    "plt.style.use('seaborn-ticks')\n",
    "mpl.rcParams['svg.fonttype'] = 'none'\n",
    "mpl.rcParams['ps.fonttype'] = 42 #truetype/type2 fonts instead of type3\n",
    "mpl.rcParams['pdf.fonttype'] = 42 #truetype/type2 fonts instead of type3\n",
    "mpl.rcParams['axes.grid'] = False\n",
    "mpl.rcParams['axes.edgecolor'] = 'black'\n",
    "mpl.rcParams['axes.linewidth'] = 1.5\n",
    "mpl.rcParams['axes.labelcolor'] = 'black'\n",
    "mpl.rcParams['grid.linestyle'] = '--'\n",
    "mpl.rcParams['grid.linestyle'] = '--'\n",
    "mpl.rcParams['xtick.major.size'] = 4\n",
    "mpl.rcParams['xtick.minor.size'] = 2\n",
    "mpl.rcParams['xtick.major.width'] = 2\n",
    "mpl.rcParams['xtick.minor.width'] = 0.5\n",
    "mpl.rcParams['ytick.major.size'] = 4\n",
    "mpl.rcParams['ytick.minor.size'] = 2\n",
    "mpl.rcParams['ytick.major.width'] = 2\n",
    "mpl.rcParams['ytick.minor.width'] = 0.5\n",
    "mpl.rcParams['ytick.direction'] = 'out'\n",
    "mpl.rcParams['xtick.direction'] = 'out'\n",
    "mpl.rcParams['ytick.color'] = 'black'\n",
    "mpl.rcParams['xtick.color'] = 'black'"
   ]
  },
  {
   "cell_type": "code",
   "execution_count": 24,
   "metadata": {},
   "outputs": [
    {
     "name": "stdout",
     "output_type": "stream",
     "text": [
      "Average difference between two sensors for all time: -0.5458498958924731\n",
      "Average difference between two sensors for last two weeks: -0.5944022726214405\n"
     ]
    },
    {
     "data": {
      "image/png": "[encoded data removed]",
      "text/plain": [
       "<Figure size 1224x216 with 2 Axes>"
      ]
     },
     "metadata": {},
     "output_type": "display_data"
    }
   ],
   "source": [
    "fig, (ax2, ax1) = plt.subplots(2,1,sharex='col',figsize=(17,3))\n",
    "ax1.plot(df.index,df['Temp'],'r',df.index,df['BaroTemp'],'k')\n",
    "ax1.fill_between(df.index,df['Temp']-2,df['Temp']+2,color='grey',alpha=.25)\n",
    "ax1.fill_between(df.index,df['BaroTemp']-2,df['BaroTemp']+2,color='grey',alpha=.5)\n",
    "ax2.plot(df.index,df['Temp']-df['BaroTemp'],'k')\n",
    "plt.ylabel('Temperature (degC)')\n",
    "\n",
    "\n",
    "try:\n",
    "    pass\n",
    "    ax1.plot(kpae['datetime'],np.float(kpae['temp_c']),'ob',markersize=3)\n",
    "except:\n",
    "    pass\n",
    "\n",
    "plt.legend(['TempSensor','BaroTemp'])\n",
    "#ax1.set_xlim(df.index[0], df.index[-1])\n",
    "xfmt = mdates.DateFormatter('%d-%b')\n",
    "ax1.xaxis.set_major_locator(DayLocator(bymonthday=15))\n",
    "ax1.xaxis.set_minor_locator(DayLocator(range(0,32,3)))\n",
    "ax1.xaxis.set_minor_formatter(DateFormatter('%d'))\n",
    "ax1.xaxis.set_major_formatter(DateFormatter('%d\\n%b %y'))\n",
    "ax1.xaxis.set_tick_params(which='major', pad=3)\n",
    "ax1.xaxis.set_tick_params(which='minor', pad=5)\n",
    "\n",
    "print(f\"Average difference between two sensors for all time: {(df['Temp']-df['BaroTemp']).mean()}\")\n",
    "two_weeks_delta = (df['Temp'][df.last_valid_index()-pd.DateOffset(14, 'D'):] - \n",
    "                  df['BaroTemp'][df.last_valid_index()-pd.DateOffset(14, 'D'):]).mean()\n",
    "print(f\"Average difference between two sensors for last two weeks: {two_weeks_delta}\")"
   ]
  },
  {
   "cell_type": "code",
   "execution_count": null,
   "metadata": {},
   "outputs": [],
   "source": [
    "fig, (ax2, ax1) = plt.subplots(2,1,sharex='col',figsize=(17,3))\n",
    "ax1.plot(df.index,df['RH_Percent'],'g')\n",
    "ax1.fill_between(df.index,df['RH_Percent']-5,df['RH_Percent']+5,color='grey',alpha=.25)\n",
    "ax2.plot(df.index,df['Temp'],'r')\n",
    "ax2.fill_between(df.index,df['Temp']-2,df['Temp']+2,color='grey',alpha=.25)\n",
    "plt.ylabel('Temperature (degC)')\n",
    "\n",
    "try:\n",
    "    pass\n",
    "    ax1.plot(kpae['datetime'],np.float(kpae['relative_humidity']),'ob',markersize=3)\n",
    "    ax2.plot(kpae['datetime'],np.float(kpae['temp_c']),'ob',markersize=3)\n",
    "except:\n",
    "    pass\n",
    "\n",
    "xfmt = mdates.DateFormatter('%d-%b')\n",
    "ax1.xaxis.set_major_locator(DayLocator(bymonthday=15))\n",
    "ax1.xaxis.set_minor_locator(DayLocator(range(0,32,3)))\n",
    "ax1.xaxis.set_minor_formatter(DateFormatter('%d'))\n",
    "ax1.xaxis.set_major_formatter(DateFormatter('%d\\n%b %y'))\n",
    "ax1.xaxis.set_tick_params(which='major', pad=3)\n",
    "ax1.xaxis.set_tick_params(which='minor', pad=5)"
   ]
  },
  {
   "cell_type": "code",
   "execution_count": null,
   "metadata": {},
   "outputs": [],
   "source": [
    "fig, ax1 = plt.subplots(1,1,sharex='col',figsize=(17,1.5))\n",
    "ax1.plot(df.index,df['SLP'],'k')\n",
    "ax1.fill_between(df.index,df['SLP']-1,df['SLP']+1,color='grey',alpha=.25)\n",
    "plt.ylabel('SLP (mbar)')\n",
    "\n",
    "try:\n",
    "    pass\n",
    "    ax1.plot(kpae['datetime'],np.float(kpae['pressure_mb']),'ob',markersize=3)\n",
    "except:\n",
    "    pass\n",
    "\n",
    "xfmt = mdates.DateFormatter('%d-%b')\n",
    "ax1.xaxis.set_major_locator(DayLocator(bymonthday=15))\n",
    "ax1.xaxis.set_minor_locator(DayLocator(range(0,32,3)))\n",
    "ax1.xaxis.set_minor_formatter(DateFormatter('%d'))\n",
    "ax1.xaxis.set_major_formatter(DateFormatter('%d\\n%b %y'))\n",
    "ax1.xaxis.set_tick_params(which='major', pad=3)\n",
    "ax1.xaxis.set_tick_params(which='minor', pad=5)"
   ]
  },
  {
   "cell_type": "code",
   "execution_count": null,
   "metadata": {},
   "outputs": [],
   "source": [
    "### build a table of daily max/min\n",
    "daily_summary = pd.DataFrame(columns=df.columns)\n",
    "\n",
    "for column in daily_summary:\n",
    "    daily_summary[column+' (min)'] = df[column].resample('D').min()\n",
    "    daily_summary[column+' (max)'] = df[column].resample('D').max()\n",
    "    daily_summary[column+' (median)'] = df[column].resample('D').median()\n",
    "    daily_summary[column] = df[column].resample('D').mean()\n",
    "    \n"
   ]
  },
  {
   "cell_type": "code",
   "execution_count": null,
   "metadata": {},
   "outputs": [],
   "source": [
    "def highlight_max(s):\n",
    "    '''\n",
    "    highlight the maximum in a Series red.\n",
    "    '''\n",
    "    is_max = s == s.max()\n",
    "    return ['color: red' if v else '' for v in is_max]\n",
    "\n",
    "def highlight_min(s):\n",
    "    '''\n",
    "    highlight the maximum in a Series yellow.\n",
    "    '''\n",
    "    is_min = s == s.min()\n",
    "    return ['color: blue' if v else '' for v in is_min]\n",
    "\n"
   ]
  },
  {
   "cell_type": "code",
   "execution_count": null,
   "metadata": {},
   "outputs": [],
   "source": [
    "daily_summary.style.apply(highlight_max).apply(highlight_min).format(\"{:.2f}\")"
   ]
  },
  {
   "cell_type": "code",
   "execution_count": null,
   "metadata": {},
   "outputs": [],
   "source": [
    "(daily_summary - daily_summary.mean()).style.bar(align='mid', color=['#d65f5f', '#5fba7d'])\n"
   ]
  },
  {
   "cell_type": "code",
   "execution_count": null,
   "metadata": {},
   "outputs": [],
   "source": []
  }
 ],
 "metadata": {
  "kernelspec": {
   "display_name": "Python [conda env:py37]",
   "language": "python",
   "name": "conda-env-py37-py"
  },
  "language_info": {
   "codemirror_mode": {
    "name": "ipython",
    "version": 3
   },
   "file_extension": ".py",
   "mimetype": "text/x-python",
   "name": "python",
   "nbconvert_exporter": "python",
   "pygments_lexer": "ipython3",
   "version": "3.7.3"
  }
 },
 "nbformat": 4,
 "nbformat_minor": 4
}
