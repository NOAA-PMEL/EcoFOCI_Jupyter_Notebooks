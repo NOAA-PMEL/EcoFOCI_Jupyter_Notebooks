{
 "cells": [
  {
   "cell_type": "markdown",
   "metadata": {},
   "source": [
    "## ERDDAP Moonflower Daily Plots"
   ]
  },
  {
   "cell_type": "code",
   "execution_count": 6,
   "metadata": {},
   "outputs": [],
   "source": [
    "from erddapy import ERDDAP\n",
    "import pandas as pd\n",
    "import datetime\n",
    "\n",
    "# for secondary/derived parameters\n",
    "from metpy.units import units\n",
    "import metpy.calc as mpcalc"
   ]
  },
  {
   "cell_type": "code",
   "execution_count": 7,
   "metadata": {},
   "outputs": [],
   "source": [
    "%matplotlib inline\n",
    "import matplotlib as mpl\n",
    "import matplotlib.pyplot as plt\n",
    "import cmocean\n",
    "\n",
    "from matplotlib.dates import YearLocator, WeekdayLocator, MonthLocator, DayLocator, HourLocator, DateFormatter\n",
    "import matplotlib.ticker as ticker\n",
    "import matplotlib.dates as mdates\n",
    "from matplotlib.ticker import NullFormatter  # useful for `logit` scale"
   ]
  },
  {
   "cell_type": "code",
   "execution_count": 8,
   "metadata": {},
   "outputs": [],
   "source": [
    "### specify primary bulk figure parameters\n",
    "fontsize = 20\n",
    "labelsize = 16\n",
    "#plotstyle = 'seaborn'\n",
    "max_xticks = 10\n",
    "plt.style.use('seaborn-ticks')\n",
    "mpl.rcParams['svg.fonttype'] = 'none'\n",
    "mpl.rcParams['ps.fonttype'] = 42 #truetype/type2 fonts instead of type3\n",
    "mpl.rcParams['pdf.fonttype'] = 42 #truetype/type2 fonts instead of type3\n",
    "mpl.rcParams['axes.grid'] = False\n",
    "mpl.rcParams['axes.edgecolor'] = 'black'\n",
    "mpl.rcParams['axes.linewidth'] = 1.5\n",
    "mpl.rcParams['axes.labelcolor'] = 'black'\n",
    "mpl.rcParams['grid.linestyle'] = '--'\n",
    "mpl.rcParams['grid.linestyle'] = '--'\n",
    "mpl.rcParams['xtick.major.size'] = 4\n",
    "mpl.rcParams['xtick.minor.size'] = 1\n",
    "mpl.rcParams['xtick.major.width'] = 2\n",
    "mpl.rcParams['xtick.minor.width'] = 1\n",
    "mpl.rcParams['ytick.major.size'] = 4\n",
    "mpl.rcParams['ytick.minor.size'] = 1\n",
    "mpl.rcParams['ytick.major.width'] = 2\n",
    "mpl.rcParams['ytick.minor.width'] = 1\n",
    "mpl.rcParams['ytick.direction'] = 'out'\n",
    "mpl.rcParams['xtick.direction'] = 'out'\n",
    "mpl.rcParams['ytick.color'] = 'black'\n",
    "mpl.rcParams['xtick.color'] = 'black'"
   ]
  },
  {
   "cell_type": "code",
   "execution_count": 9,
   "metadata": {},
   "outputs": [],
   "source": [
    "server_url = 'http://raspberrypi.local:8080/erddap'"
   ]
  },
  {
   "cell_type": "code",
   "execution_count": 10,
   "metadata": {},
   "outputs": [
    {
     "name": "stdout",
     "output_type": "stream",
     "text": [
      "something failed in data download tempest_moonflower_wx\n"
     ]
    },
    {
     "ename": "NameError",
     "evalue": "name 'df_m' is not defined",
     "output_type": "error",
     "traceback": [
      "\u001b[0;31m---------------------------------------------------------------------------\u001b[0m",
      "\u001b[0;31mNameError\u001b[0m                                 Traceback (most recent call last)",
      "\u001b[0;32m<ipython-input-10-635b45bf7f3e>\u001b[0m in \u001b[0;36m<module>\u001b[0;34m\u001b[0m\n\u001b[1;32m     39\u001b[0m     \u001b[0;31m#stats are all utc driven - but we really want local daily values\u001b[0m\u001b[0;34m\u001b[0m\u001b[0;34m\u001b[0m\u001b[0;34m\u001b[0m\u001b[0m\n\u001b[1;32m     40\u001b[0m     \u001b[0;32mif\u001b[0m \u001b[0;32mnot\u001b[0m \u001b[0mdataset_id\u001b[0m \u001b[0;32min\u001b[0m \u001b[0;34m[\u001b[0m\u001b[0;34m'channel_rpi'\u001b[0m\u001b[0;34m]\u001b[0m\u001b[0;34m:\u001b[0m\u001b[0;34m\u001b[0m\u001b[0;34m\u001b[0m\u001b[0m\n\u001b[0;32m---> 41\u001b[0;31m         \u001b[0mdf_m\u001b[0m\u001b[0;34m=\u001b[0m\u001b[0mdf_m\u001b[0m\u001b[0;34m.\u001b[0m\u001b[0mtz_convert\u001b[0m\u001b[0;34m(\u001b[0m\u001b[0;34m'US/Pacific'\u001b[0m\u001b[0;34m)\u001b[0m\u001b[0;34m\u001b[0m\u001b[0;34m\u001b[0m\u001b[0m\n\u001b[0m\u001b[1;32m     42\u001b[0m     \u001b[0;32melse\u001b[0m\u001b[0;34m:\u001b[0m\u001b[0;34m\u001b[0m\u001b[0;34m\u001b[0m\u001b[0m\n\u001b[1;32m     43\u001b[0m         \u001b[0mdf_m\u001b[0m\u001b[0;34m=\u001b[0m\u001b[0mdf_m\u001b[0m\u001b[0;34m.\u001b[0m\u001b[0mtz_convert\u001b[0m\u001b[0;34m(\u001b[0m\u001b[0;32mNone\u001b[0m\u001b[0;34m)\u001b[0m\u001b[0;34m.\u001b[0m\u001b[0mtz_localize\u001b[0m\u001b[0;34m(\u001b[0m\u001b[0mtz\u001b[0m\u001b[0;34m=\u001b[0m\u001b[0;34m'US/Pacific'\u001b[0m\u001b[0;34m)\u001b[0m\u001b[0;34m\u001b[0m\u001b[0;34m\u001b[0m\u001b[0m\n",
      "\u001b[0;31mNameError\u001b[0m: name 'df_m' is not defined"
     ]
    }
   ],
   "source": [
    "alldatasets=['tempest_moonflower_wx',\n",
    "             'channel_1027974_thingspeak',\n",
    "            'channel_1037066_thingspeak',\n",
    "            'channel_1047747_thingspeak',\n",
    "            'channel_843357_thingspeak',\n",
    "            'channel_rpi']\n",
    "\n",
    "constraints = {\n",
    "    'time>=': (datetime.datetime.utcnow()-datetime.timedelta(days=14)).strftime('%Y-%m-%dT00:00:00Z'),\n",
    "    'time<=': datetime.datetime.utcnow().strftime('%Y-%m-%dT00:00:00Z'),\n",
    "}\n",
    "df_all = {}\n",
    "\n",
    "for dataset_id in alldatasets:\n",
    "    try:\n",
    "        d = ERDDAP(server=server_url,\n",
    "            protocol='tabledap',\n",
    "            response='csv'\n",
    "        )\n",
    "        d.dataset_id=dataset_id\n",
    "        d.constraints=constraints\n",
    "        \n",
    "    except:\n",
    "        print('Failed to generate url {}'.format(dataset_id))\n",
    "\n",
    "    try:\n",
    "        df_m = d.to_pandas(\n",
    "                    index_col='time (UTC)',\n",
    "                    parse_dates=True,\n",
    "                    skiprows=(1,)  # units information can be dropped.\n",
    "                    )\n",
    "        df_m.sort_index(inplace=True)\n",
    "        df_m.columns = [x[1].split()[0] for x in enumerate(df_m.columns)]\n",
    "\n",
    "    except:\n",
    "        print(f\"something failed in data download {dataset_id}\")\n",
    "        pass\n",
    "\n",
    "    #stats are all utc driven - but we really want local daily values\n",
    "    if not dataset_id in ['channel_rpi']:\n",
    "        df_m=df_m.tz_convert('US/Pacific')\n",
    "    else:\n",
    "        df_m=df_m.tz_convert(None).tz_localize(tz='US/Pacific')\n",
    "    df_all.update({dataset_id:df_m})\n",
    "    # calculations of various parameters... metpy?\n",
    "    # HDD/CDD, dewpointTemp"
   ]
  },
  {
   "cell_type": "code",
   "execution_count": null,
   "metadata": {},
   "outputs": [],
   "source": [
    "import altair as alt\n",
    "### own colormap\n",
    "import palettable\n",
    "\n",
    "alt.data_transformers.disable_max_rows()"
   ]
  },
  {
   "cell_type": "code",
   "execution_count": null,
   "metadata": {},
   "outputs": [],
   "source": [
    "dfsub=None\n",
    "dfsub = pd.concat([df_all['tempest_moonflower_wx'].rename(columns={'temperature': 'Tempest_Temperature', 'humidity': 'Tempest_Humidity'}),\n",
    "                   df_all['channel_1027974_thingspeak'].rename(columns={'temperature': 'TysonsRoomTemp'}),\n",
    "                   df_all['channel_843357_thingspeak'].rename(columns={'Barotemperature': 'ShopTemp'}),                   \n",
    "                   df_all['channel_1037066_thingspeak'].rename(columns={'temperature': 'CellarTemp', 'RH_Percent': 'CellarHumidity'}),\n",
    "                   df_all['channel_1047747_thingspeak'].rename(columns={'temperature_internal': 'DuckBarnTemp_Internal',\n",
    "                                                                        'temperature_external': 'DuckBarnTemp_External',\n",
    "                                                                        'RH_Percent': 'Duckbarn_Humidity'}),\n",
    "                   df_all['channel_rpi'].rename(columns={'temperature': 'OfficeRoomTemp', 'humidity': 'OfficeRoom_Humidity'})\n",
    "                  ]).resample('15T').mean()\n"
   ]
  },
  {
   "cell_type": "code",
   "execution_count": null,
   "metadata": {},
   "outputs": [],
   "source": [
    "dfsub"
   ]
  },
  {
   "cell_type": "code",
   "execution_count": null,
   "metadata": {},
   "outputs": [],
   "source": [
    "selector = alt.selection_single(\n",
    "    fields=['key'], \n",
    "    empty='all',\n",
    "    bind='legend'\n",
    ")\n",
    "\n",
    "area1 = alt.Chart(dfsub.reset_index()).transform_fold(\n",
    "    ['DuckBarnTemp_Internal','DuckBarnTemp_External','TysonsRoomTemp','duckTd','ShopTemp','CellarTemp','OfficeRoomTemp','Tempest_Temperature']\n",
    ").mark_line(clip=True\n",
    ").encode(\n",
    "    alt.X('time (UTC):T'),\n",
    "    alt.Y('value:Q'),\n",
    "    alt.Color('key:N'),\n",
    "    opacity=alt.condition(selector, alt.value(1), alt.value(0))\n",
    ").add_selection(\n",
    "    selector\n",
    ").properties(\n",
    "    width=750,\n",
    "    height=150\n",
    ").interactive()\n",
    "\n",
    "area1"
   ]
  },
  {
   "cell_type": "code",
   "execution_count": null,
   "metadata": {},
   "outputs": [],
   "source": [
    "f1 = alt.Chart(dfsub.reset_index()).mark_rect().encode(\n",
    "    alt.X('hoursminutes(time (UTC)):O', title='hour of day - inside duck barn'),\n",
    "    alt.Y('monthdate(time (UTC)):O', title='date'),\n",
    "    alt.Color('DuckBarnTemp_Internal:Q', title='temperature (C)', scale=alt.Scale(range=palettable.cmocean.sequential.Thermal_20.hex_colors)),\n",
    "    tooltip=['hoursminutes(time (UTC)):O','monthdate(time (UTC)):O','DuckBarnTemp_Internal:Q']\n",
    ").properties(\n",
    "    width=900,\n",
    "    height=200\n",
    ")\n",
    "\n",
    "f2 = f1.encode(\n",
    "    alt.X('hoursminutes(time (UTC)):O', title='hour of day - outside duck barn'),\n",
    "    alt.Color('DuckBarnTemp_External:Q', title='temperature (C)', scale=alt.Scale(range=palettable.cmocean.sequential.Thermal_20.hex_colors)),\n",
    "    tooltip=['hoursminutes(time (UTC)):O','monthdate(time (UTC)):O','DuckBarnTemp_External:Q']\n",
    ")\n",
    "\n",
    "\n",
    "f3 = f1.encode(\n",
    "    alt.X('hoursminutes(time (UTC)):O', title='hour of day - Cellar'),\n",
    "    alt.Color('CellarTemp:Q', title='temperature (C)', scale=alt.Scale(range=palettable.cmocean.sequential.Thermal_20.hex_colors)),\n",
    "    tooltip=['hoursminutes(time (UTC)):O','monthdate(time (UTC)):O','CellarTemp:Q']\n",
    ")\n",
    "\n",
    "f4 = f1.encode(\n",
    "    alt.X('hoursminutes(time (UTC)):O', title='hour of day - Shop'),\n",
    "    alt.Color('ShopTemp:Q', title='temperature (C)', scale=alt.Scale(range=palettable.cmocean.sequential.Thermal_20.hex_colors)),\n",
    "    tooltip=['hoursminutes(time (UTC)):O','monthdate(time (UTC)):O','ShopTemp:Q']\n",
    ")\n",
    "\n",
    "f5 = f1.encode(\n",
    "    alt.X('hoursminutes(time (UTC)):O', title='hour of day - TysonsRoom'),\n",
    "    alt.Color('TysonsRoomTemp:Q', title='temperature (C)', scale=alt.Scale(range=palettable.cmocean.sequential.Thermal_20.hex_colors)),\n",
    "    tooltip=['hoursminutes(time (UTC)):O','monthdate(time (UTC)):O','TysonsRoomTemp:Q']\n",
    ")\n",
    "\n",
    "f6 = f1.encode(\n",
    "    alt.X('hoursminutes(time (UTC)):O', title='hour of day - Tempest Temp'),\n",
    "    alt.Color('Tempest_Temperature:Q', title='temperature (C)', scale=alt.Scale(range=palettable.cmocean.sequential.Thermal_20.hex_colors)),\n",
    "    tooltip=['hoursminutes(time (UTC)):O','monthdate(time (UTC)):O','Tempest_Temperature:Q']\n",
    ")\n",
    "\n",
    "f7 = f1.encode(\n",
    "    alt.X('hoursminutes(time (UTC)):O', title='hour of day - Office Temp'),\n",
    "    alt.Color('OfficeRoomTemp:Q', title='temperature (C)', scale=alt.Scale(range=palettable.cmocean.sequential.Thermal_20.hex_colors)),\n",
    "    tooltip=['hoursminutes(time (UTC)):O','monthdate(time (UTC)):O','OfficeRoomTemp:Q']\n",
    ")\n",
    "\n",
    "(f1 & f2 & f3 & f4 & f5 & f6 & f7)"
   ]
  },
  {
   "cell_type": "code",
   "execution_count": null,
   "metadata": {
    "jupyter": {
     "source_hidden": true
    }
   },
   "outputs": [],
   "source": [
    "f3 = alt.Chart(dfsub.reset_index()).mark_rect().encode(\n",
    "    alt.X('hoursminutes(time (UTC)):O', title='hour of day'),\n",
    "    alt.Y('monthdate(time (UTC)):O', title='date'),\n",
    "    alt.Color('Duckbarn_Humidity:Q', title='humidity (%)', scale=alt.Scale(domain=(50,100),range=palettable.cmocean.sequential.Algae_20.hex_colors)),\n",
    "    tooltip=['hoursminutes(time (UTC)):O','monthdate(time (UTC)):O','Duckbarn_Humidity:Q']\n",
    ").properties(\n",
    "    width=900,\n",
    "    height=200\n",
    ")\n",
    "\n",
    "f4 = f3.encode(\n",
    "    alt.Color('CellarHumidity:Q', title='humidity (%)', scale=alt.Scale(domain=(50,100),range=palettable.cmocean.sequential.Algae_20.hex_colors)),\n",
    "    tooltip=['hoursminutes(time (UTC)):O','monthdate(time (UTC)):O','CellarHumidity:Q']\n",
    ")\n",
    "\n",
    "f5 = f3.encode(\n",
    "    alt.Color('OfficeRoom_Humidity:Q', title='humidity (%)', scale=alt.Scale(domain=(50,100),range=palettable.cmocean.sequential.Algae_20.hex_colors)),\n",
    "    tooltip=['hoursminutes(time (UTC)):O','monthdate(time (UTC)):O','OfficeRoom_Humidity:Q']\n",
    ")\n",
    "\n",
    "f6 = f3.encode(\n",
    "    alt.Color('Tempest_Humidity:Q', title='humidity (%)', scale=alt.Scale(domain=(50,100),range=palettable.cmocean.sequential.Algae_20.hex_colors)),\n",
    "    tooltip=['hoursminutes(time (UTC)):O','monthdate(time (UTC)):O','Tempest_Humidity:Q']\n",
    ")\n",
    "f3 & f4 & f5 & f6"
   ]
  },
  {
   "cell_type": "code",
   "execution_count": null,
   "metadata": {},
   "outputs": [],
   "source": []
  }
 ],
 "metadata": {
  "kernelspec": {
   "display_name": "Python [conda env:py38] *",
   "language": "python",
   "name": "conda-env-py38-py"
  },
  "language_info": {
   "codemirror_mode": {
    "name": "ipython",
    "version": 3
   },
   "file_extension": ".py",
   "mimetype": "text/x-python",
   "name": "python",
   "nbconvert_exporter": "python",
   "pygments_lexer": "ipython3",
   "version": "3.8.6"
  }
 },
 "nbformat": 4,
 "nbformat_minor": 4
}
