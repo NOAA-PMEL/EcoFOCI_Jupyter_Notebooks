{
 "cells": [
  {
   "cell_type": "markdown",
   "metadata": {},
   "source": [
    "### Convert WHOI formatted .dcc and .bot files into erddap friendly csv files for internal FOCI distribution"
   ]
  },
  {
   "cell_type": "code",
   "execution_count": 35,
   "metadata": {},
   "outputs": [],
   "source": [
    "import pandas as pd\n",
    "import glob\n",
    "import datetime"
   ]
  },
  {
   "cell_type": "code",
   "execution_count": 55,
   "metadata": {},
   "outputs": [],
   "source": [
    "path_to_files = '/Volumes/WDC_internal/Users/bell/ecoraid/2018/CTDcasts/HE1801/final/WHOI/HLY1801_CTD_data/dccs/'\n",
    "all_data = pd.DataFrame()\n",
    "\n",
    "for cast_file in glob.glob(path_to_files+'*.dcc'):\n",
    "    #print(cast_file)\n",
    "    meta = pd.read_csv(cast_file,skiprows=1,header=None,delimiter='\\s+',nrows=1)\n",
    "    cast = pd.read_csv(cast_file,skiprows=2,delimiter='\\s+')\n",
    "    cast['latitude'] = meta[1].values[0]\n",
    "    cast['longitude'] = meta[3].values[0]\n",
    "    cast['time'] = datetime.datetime.strptime(str(meta[5].values[0]) + ' ' + str(meta[7].values[0]),'%m%d%y %H:%M')\n",
    "    cast['station_id'] = cast_file.strip('.dcc').split('/')[-1].replace('_','c')\n",
    "    all_data = all_data.append(cast, ignore_index=True)"
   ]
  },
  {
   "cell_type": "code",
   "execution_count": 58,
   "metadata": {},
   "outputs": [],
   "source": [
    "all_data.to_csv('/Volumes/WDC_internal/Users/bell/ecoraid/2018/CTDcasts/HE1801/final/erddap/HE1801_alldccs.csv')"
   ]
  },
  {
   "cell_type": "code",
   "execution_count": null,
   "metadata": {},
   "outputs": [],
   "source": []
  }
 ],
 "metadata": {
  "kernelspec": {
   "display_name": "Python [conda env:py37]",
   "language": "python",
   "name": "conda-env-py37-py"
  },
  "language_info": {
   "codemirror_mode": {
    "name": "ipython",
    "version": 3
   },
   "file_extension": ".py",
   "mimetype": "text/x-python",
   "name": "python",
   "nbconvert_exporter": "python",
   "pygments_lexer": "ipython3",
   "version": "3.7.3"
  }
 },
 "nbformat": 4,
 "nbformat_minor": 2
}
