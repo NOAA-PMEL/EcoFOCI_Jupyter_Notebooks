{
 "cells": [
  {
   "cell_type": "markdown",
   "metadata": {},
   "source": [
    "## CTD Seabird QC with CoTeDe package"
   ]
  },
  {
   "cell_type": "code",
   "execution_count": 66,
   "metadata": {},
   "outputs": [],
   "source": [
    "%matplotlib inline\n",
    "\n",
    "from seabird.cnv import fCNV\n",
    "from seabird.qc import fProfileQC\n",
    "from gsw import z_from_p"
   ]
  },
  {
   "cell_type": "code",
   "execution_count": 67,
   "metadata": {},
   "outputs": [],
   "source": [
    "filename= 'data/ctd001.cnv'\n",
    "fid = fCNV(filename) #dyson data"
   ]
  },
  {
   "cell_type": "code",
   "execution_count": 68,
   "metadata": {},
   "outputs": [
    {
     "name": "stdout",
     "output_type": "stream",
     "text": [
      "Header: dict_keys(['sbe_model', 'LATITUDE', 'LONGITUDE', 'gps_datetime', 'seasave', 'instrument_type', 'nquan', 'nvalues', 'start_time', 'bad_flag', 'file_type', 'md5', 'datetime', 'filename'])\n",
      "{'sbe_model': '9', 'LATITUDE': 57.72266666666667, 'LONGITUDE': -152.294, 'gps_datetime': 'Apr 20 2019  01:45:43', 'seasave': 'V 7.23.2', 'instrument_type': 'CTD', 'nquan': '23', 'nvalues': '171', 'start_time': 'Apr 20 2019 01:45:43 [NMEA time, header]', 'bad_flag': '-9.990e-29', 'file_type': 'ascii', 'md5': 'e0e10cfc428708b6d19e255ac37f62f7', 'datetime': datetime.datetime(2019, 4, 20, 1, 45, 43), 'filename': 'ctd001.cnv'}\n"
     ]
    }
   ],
   "source": [
    "print(\"Header: %s\" % fid.attributes.keys())\n",
    "print(fid.attributes)"
   ]
  },
  {
   "cell_type": "code",
   "execution_count": 69,
   "metadata": {},
   "outputs": [
    {
     "name": "stdout",
     "output_type": "stream",
     "text": [
      "['c0mS/cm', 'c1mS/cm', 'flECO-AFL', 'oxygenvoltage', 'TEMP', 'TEMP2', 'timeS', 'PRES', 'sbeox1V', 'par', 'turbWETntu0', 'PSAL', 'PSAL2', 'sigma_t', 'sigma_t2', 'oxygen_ml_L', 'sbox0Mm/Kg', 'sbeox0PS', 'sbeox1ML/L', 'sbox1Mm/Kg', 'sbeox1PS', 'nbin', 'flag']\n"
     ]
    }
   ],
   "source": [
    "print(fid.keys())"
   ]
  },
  {
   "cell_type": "code",
   "execution_count": 70,
   "metadata": {},
   "outputs": [],
   "source": [
    "df = fid.as_DataFrame()"
   ]
  },
  {
   "cell_type": "code",
   "execution_count": 71,
   "metadata": {},
   "outputs": [
    {
     "data": {
      "text/html": [
       "<div>\n",
       "<style scoped>\n",
       "    .dataframe tbody tr th:only-of-type {\n",
       "        vertical-align: middle;\n",
       "    }\n",
       "\n",
       "    .dataframe tbody tr th {\n",
       "        vertical-align: top;\n",
       "    }\n",
       "\n",
       "    .dataframe thead th {\n",
       "        text-align: right;\n",
       "    }\n",
       "</style>\n",
       "<table border=\"1\" class=\"dataframe\">\n",
       "  <thead>\n",
       "    <tr style=\"text-align: right;\">\n",
       "      <th></th>\n",
       "      <th>c0mS/cm</th>\n",
       "      <th>c1mS/cm</th>\n",
       "      <th>flECO-AFL</th>\n",
       "      <th>oxygenvoltage</th>\n",
       "      <th>TEMP</th>\n",
       "      <th>TEMP2</th>\n",
       "      <th>timeS</th>\n",
       "      <th>PRES</th>\n",
       "      <th>sbeox1V</th>\n",
       "      <th>par</th>\n",
       "      <th>...</th>\n",
       "      <th>oxygen_ml_L</th>\n",
       "      <th>sbox0Mm/Kg</th>\n",
       "      <th>sbeox0PS</th>\n",
       "      <th>sbeox1ML/L</th>\n",
       "      <th>sbox1Mm/Kg</th>\n",
       "      <th>sbeox1PS</th>\n",
       "      <th>nbin</th>\n",
       "      <th>flag</th>\n",
       "      <th>LATITUDE</th>\n",
       "      <th>LONGITUDE</th>\n",
       "    </tr>\n",
       "  </thead>\n",
       "  <tbody>\n",
       "    <tr>\n",
       "      <td>0</td>\n",
       "      <td>32.129711</td>\n",
       "      <td>32.132031</td>\n",
       "      <td>7.4284</td>\n",
       "      <td>2.4978</td>\n",
       "      <td>6.2980</td>\n",
       "      <td>6.2981</td>\n",
       "      <td>63.197</td>\n",
       "      <td>5.0</td>\n",
       "      <td>2.4830</td>\n",
       "      <td>10099.000</td>\n",
       "      <td>...</td>\n",
       "      <td>6.8609</td>\n",
       "      <td>298.845</td>\n",
       "      <td>98.158</td>\n",
       "      <td>6.9073</td>\n",
       "      <td>300.868</td>\n",
       "      <td>98.825</td>\n",
       "      <td>34.0</td>\n",
       "      <td>0.0</td>\n",
       "      <td>57.722667</td>\n",
       "      <td>-152.294</td>\n",
       "    </tr>\n",
       "    <tr>\n",
       "      <td>1</td>\n",
       "      <td>32.122089</td>\n",
       "      <td>32.124477</td>\n",
       "      <td>7.9045</td>\n",
       "      <td>2.4948</td>\n",
       "      <td>6.2873</td>\n",
       "      <td>6.2878</td>\n",
       "      <td>65.673</td>\n",
       "      <td>6.0</td>\n",
       "      <td>2.4802</td>\n",
       "      <td>9636.200</td>\n",
       "      <td>...</td>\n",
       "      <td>6.8510</td>\n",
       "      <td>298.413</td>\n",
       "      <td>97.993</td>\n",
       "      <td>6.8856</td>\n",
       "      <td>299.920</td>\n",
       "      <td>98.491</td>\n",
       "      <td>50.0</td>\n",
       "      <td>0.0</td>\n",
       "      <td>57.722667</td>\n",
       "      <td>-152.294</td>\n",
       "    </tr>\n",
       "    <tr>\n",
       "      <td>2</td>\n",
       "      <td>32.111934</td>\n",
       "      <td>32.114723</td>\n",
       "      <td>7.8560</td>\n",
       "      <td>2.4913</td>\n",
       "      <td>6.2739</td>\n",
       "      <td>6.2749</td>\n",
       "      <td>67.992</td>\n",
       "      <td>7.0</td>\n",
       "      <td>2.4761</td>\n",
       "      <td>8260.200</td>\n",
       "      <td>...</td>\n",
       "      <td>6.8442</td>\n",
       "      <td>298.118</td>\n",
       "      <td>97.866</td>\n",
       "      <td>6.8672</td>\n",
       "      <td>299.118</td>\n",
       "      <td>98.198</td>\n",
       "      <td>44.0</td>\n",
       "      <td>0.0</td>\n",
       "      <td>57.722667</td>\n",
       "      <td>-152.294</td>\n",
       "    </tr>\n",
       "    <tr>\n",
       "      <td>3</td>\n",
       "      <td>32.109914</td>\n",
       "      <td>32.112108</td>\n",
       "      <td>8.3831</td>\n",
       "      <td>2.4909</td>\n",
       "      <td>6.2709</td>\n",
       "      <td>6.2710</td>\n",
       "      <td>70.306</td>\n",
       "      <td>8.0</td>\n",
       "      <td>2.4714</td>\n",
       "      <td>6899.000</td>\n",
       "      <td>...</td>\n",
       "      <td>6.8527</td>\n",
       "      <td>298.486</td>\n",
       "      <td>97.980</td>\n",
       "      <td>6.8640</td>\n",
       "      <td>298.978</td>\n",
       "      <td>98.144</td>\n",
       "      <td>49.0</td>\n",
       "      <td>0.0</td>\n",
       "      <td>57.722667</td>\n",
       "      <td>-152.294</td>\n",
       "    </tr>\n",
       "    <tr>\n",
       "      <td>4</td>\n",
       "      <td>32.108337</td>\n",
       "      <td>32.108429</td>\n",
       "      <td>8.2372</td>\n",
       "      <td>2.4898</td>\n",
       "      <td>6.2677</td>\n",
       "      <td>6.2650</td>\n",
       "      <td>72.893</td>\n",
       "      <td>9.0</td>\n",
       "      <td>2.4714</td>\n",
       "      <td>5833.000</td>\n",
       "      <td>...</td>\n",
       "      <td>6.8408</td>\n",
       "      <td>297.970</td>\n",
       "      <td>97.804</td>\n",
       "      <td>6.8795</td>\n",
       "      <td>299.652</td>\n",
       "      <td>98.352</td>\n",
       "      <td>52.0</td>\n",
       "      <td>0.0</td>\n",
       "      <td>57.722667</td>\n",
       "      <td>-152.294</td>\n",
       "    </tr>\n",
       "    <tr>\n",
       "      <td>...</td>\n",
       "      <td>...</td>\n",
       "      <td>...</td>\n",
       "      <td>...</td>\n",
       "      <td>...</td>\n",
       "      <td>...</td>\n",
       "      <td>...</td>\n",
       "      <td>...</td>\n",
       "      <td>...</td>\n",
       "      <td>...</td>\n",
       "      <td>...</td>\n",
       "      <td>...</td>\n",
       "      <td>...</td>\n",
       "      <td>...</td>\n",
       "      <td>...</td>\n",
       "      <td>...</td>\n",
       "      <td>...</td>\n",
       "      <td>...</td>\n",
       "      <td>...</td>\n",
       "      <td>...</td>\n",
       "      <td>...</td>\n",
       "      <td>...</td>\n",
       "    </tr>\n",
       "    <tr>\n",
       "      <td>166</td>\n",
       "      <td>32.111089</td>\n",
       "      <td>32.113517</td>\n",
       "      <td>13.1279</td>\n",
       "      <td>2.2652</td>\n",
       "      <td>6.0481</td>\n",
       "      <td>6.0485</td>\n",
       "      <td>453.041</td>\n",
       "      <td>171.0</td>\n",
       "      <td>2.2473</td>\n",
       "      <td>10.827</td>\n",
       "      <td>...</td>\n",
       "      <td>6.2245</td>\n",
       "      <td>271.091</td>\n",
       "      <td>88.615</td>\n",
       "      <td>6.2475</td>\n",
       "      <td>272.092</td>\n",
       "      <td>88.945</td>\n",
       "      <td>45.0</td>\n",
       "      <td>0.0</td>\n",
       "      <td>57.722667</td>\n",
       "      <td>-152.294</td>\n",
       "    </tr>\n",
       "    <tr>\n",
       "      <td>167</td>\n",
       "      <td>32.111798</td>\n",
       "      <td>32.113893</td>\n",
       "      <td>14.2613</td>\n",
       "      <td>2.2635</td>\n",
       "      <td>6.0480</td>\n",
       "      <td>6.0483</td>\n",
       "      <td>455.455</td>\n",
       "      <td>172.0</td>\n",
       "      <td>2.2486</td>\n",
       "      <td>10.827</td>\n",
       "      <td>...</td>\n",
       "      <td>6.2146</td>\n",
       "      <td>270.660</td>\n",
       "      <td>88.475</td>\n",
       "      <td>6.2568</td>\n",
       "      <td>272.497</td>\n",
       "      <td>89.077</td>\n",
       "      <td>49.0</td>\n",
       "      <td>0.0</td>\n",
       "      <td>57.722667</td>\n",
       "      <td>-152.294</td>\n",
       "    </tr>\n",
       "    <tr>\n",
       "      <td>168</td>\n",
       "      <td>32.112920</td>\n",
       "      <td>32.114472</td>\n",
       "      <td>14.9932</td>\n",
       "      <td>2.2627</td>\n",
       "      <td>6.0487</td>\n",
       "      <td>6.0483</td>\n",
       "      <td>458.237</td>\n",
       "      <td>173.0</td>\n",
       "      <td>2.2476</td>\n",
       "      <td>10.827</td>\n",
       "      <td>...</td>\n",
       "      <td>6.2220</td>\n",
       "      <td>270.981</td>\n",
       "      <td>88.581</td>\n",
       "      <td>6.2434</td>\n",
       "      <td>271.913</td>\n",
       "      <td>88.887</td>\n",
       "      <td>50.0</td>\n",
       "      <td>0.0</td>\n",
       "      <td>57.722667</td>\n",
       "      <td>-152.294</td>\n",
       "    </tr>\n",
       "    <tr>\n",
       "      <td>169</td>\n",
       "      <td>32.113716</td>\n",
       "      <td>32.115499</td>\n",
       "      <td>16.3129</td>\n",
       "      <td>2.2632</td>\n",
       "      <td>6.0488</td>\n",
       "      <td>6.0487</td>\n",
       "      <td>460.719</td>\n",
       "      <td>174.0</td>\n",
       "      <td>2.2459</td>\n",
       "      <td>10.827</td>\n",
       "      <td>...</td>\n",
       "      <td>6.2247</td>\n",
       "      <td>271.097</td>\n",
       "      <td>88.620</td>\n",
       "      <td>6.2370</td>\n",
       "      <td>271.635</td>\n",
       "      <td>88.796</td>\n",
       "      <td>50.0</td>\n",
       "      <td>0.0</td>\n",
       "      <td>57.722667</td>\n",
       "      <td>-152.294</td>\n",
       "    </tr>\n",
       "    <tr>\n",
       "      <td>170</td>\n",
       "      <td>32.115205</td>\n",
       "      <td>32.117169</td>\n",
       "      <td>17.5183</td>\n",
       "      <td>2.2602</td>\n",
       "      <td>6.0497</td>\n",
       "      <td>6.0499</td>\n",
       "      <td>483.220</td>\n",
       "      <td>175.0</td>\n",
       "      <td>2.2443</td>\n",
       "      <td>10.827</td>\n",
       "      <td>...</td>\n",
       "      <td>6.2118</td>\n",
       "      <td>270.535</td>\n",
       "      <td>88.438</td>\n",
       "      <td>6.2521</td>\n",
       "      <td>272.289</td>\n",
       "      <td>89.013</td>\n",
       "      <td>11.0</td>\n",
       "      <td>0.0</td>\n",
       "      <td>57.722667</td>\n",
       "      <td>-152.294</td>\n",
       "    </tr>\n",
       "  </tbody>\n",
       "</table>\n",
       "<p>171 rows × 25 columns</p>\n",
       "</div>"
      ],
      "text/plain": [
       "       c0mS/cm    c1mS/cm  flECO-AFL  oxygenvoltage    TEMP   TEMP2    timeS  \\\n",
       "0    32.129711  32.132031     7.4284         2.4978  6.2980  6.2981   63.197   \n",
       "1    32.122089  32.124477     7.9045         2.4948  6.2873  6.2878   65.673   \n",
       "2    32.111934  32.114723     7.8560         2.4913  6.2739  6.2749   67.992   \n",
       "3    32.109914  32.112108     8.3831         2.4909  6.2709  6.2710   70.306   \n",
       "4    32.108337  32.108429     8.2372         2.4898  6.2677  6.2650   72.893   \n",
       "..         ...        ...        ...            ...     ...     ...      ...   \n",
       "166  32.111089  32.113517    13.1279         2.2652  6.0481  6.0485  453.041   \n",
       "167  32.111798  32.113893    14.2613         2.2635  6.0480  6.0483  455.455   \n",
       "168  32.112920  32.114472    14.9932         2.2627  6.0487  6.0483  458.237   \n",
       "169  32.113716  32.115499    16.3129         2.2632  6.0488  6.0487  460.719   \n",
       "170  32.115205  32.117169    17.5183         2.2602  6.0497  6.0499  483.220   \n",
       "\n",
       "      PRES  sbeox1V        par  ...  oxygen_ml_L  sbox0Mm/Kg  sbeox0PS  \\\n",
       "0      5.0   2.4830  10099.000  ...       6.8609     298.845    98.158   \n",
       "1      6.0   2.4802   9636.200  ...       6.8510     298.413    97.993   \n",
       "2      7.0   2.4761   8260.200  ...       6.8442     298.118    97.866   \n",
       "3      8.0   2.4714   6899.000  ...       6.8527     298.486    97.980   \n",
       "4      9.0   2.4714   5833.000  ...       6.8408     297.970    97.804   \n",
       "..     ...      ...        ...  ...          ...         ...       ...   \n",
       "166  171.0   2.2473     10.827  ...       6.2245     271.091    88.615   \n",
       "167  172.0   2.2486     10.827  ...       6.2146     270.660    88.475   \n",
       "168  173.0   2.2476     10.827  ...       6.2220     270.981    88.581   \n",
       "169  174.0   2.2459     10.827  ...       6.2247     271.097    88.620   \n",
       "170  175.0   2.2443     10.827  ...       6.2118     270.535    88.438   \n",
       "\n",
       "     sbeox1ML/L  sbox1Mm/Kg  sbeox1PS  nbin  flag   LATITUDE  LONGITUDE  \n",
       "0        6.9073     300.868    98.825  34.0   0.0  57.722667   -152.294  \n",
       "1        6.8856     299.920    98.491  50.0   0.0  57.722667   -152.294  \n",
       "2        6.8672     299.118    98.198  44.0   0.0  57.722667   -152.294  \n",
       "3        6.8640     298.978    98.144  49.0   0.0  57.722667   -152.294  \n",
       "4        6.8795     299.652    98.352  52.0   0.0  57.722667   -152.294  \n",
       "..          ...         ...       ...   ...   ...        ...        ...  \n",
       "166      6.2475     272.092    88.945  45.0   0.0  57.722667   -152.294  \n",
       "167      6.2568     272.497    89.077  49.0   0.0  57.722667   -152.294  \n",
       "168      6.2434     271.913    88.887  50.0   0.0  57.722667   -152.294  \n",
       "169      6.2370     271.635    88.796  50.0   0.0  57.722667   -152.294  \n",
       "170      6.2521     272.289    89.013  11.0   0.0  57.722667   -152.294  \n",
       "\n",
       "[171 rows x 25 columns]"
      ]
     },
     "execution_count": 71,
     "metadata": {},
     "output_type": "execute_result"
    }
   ],
   "source": [
    "df"
   ]
  },
  {
   "cell_type": "markdown",
   "metadata": {},
   "source": [
    "### QC of seabird files"
   ]
  },
  {
   "cell_type": "code",
   "execution_count": 72,
   "metadata": {},
   "outputs": [
    {
     "name": "stderr",
     "output_type": "stream",
     "text": [
      "WARNING:root:Failled to run descentPrate\n",
      "WARNING:cotede.qc:Sorry I'm not ready to evaluate valid_geolocation()\n",
      "WARNING:cotede.qc:Fail on valid_speed\n",
      "WARNING:cotede.qc:Sorry, I'm no ready to evaluate regional_range()\n"
     ]
    },
    {
     "name": "stdout",
     "output_type": "stream",
     "text": [
      "Deprecated cfg format. It should contain a threshold item.\n",
      "Deprecated cfg format. It should contain a threshold item.\n"
     ]
    },
    {
     "name": "stderr",
     "output_type": "stream",
     "text": [
      "WARNING:cotede.qc:Sorry I'm not ready to evaluate valid_geolocation()\n",
      "WARNING:cotede.qc:Fail on valid_speed\n",
      "WARNING:cotede.qc:Sorry, I'm no ready to evaluate regional_range()\n"
     ]
    },
    {
     "name": "stdout",
     "output_type": "stream",
     "text": [
      "Deprecated cfg format. It should contain a threshold item.\n",
      "Deprecated cfg format. It should contain a threshold item.\n"
     ]
    },
    {
     "name": "stderr",
     "output_type": "stream",
     "text": [
      "WARNING:cotede.qc:Sorry I'm not ready to evaluate valid_geolocation()\n",
      "WARNING:cotede.qc:Fail on valid_speed\n",
      "WARNING:cotede.qc:Sorry, I'm no ready to evaluate regional_range()\n"
     ]
    },
    {
     "name": "stdout",
     "output_type": "stream",
     "text": [
      "Deprecated cfg format. It should contain a threshold item.\n",
      "Deprecated cfg format. It should contain a threshold item.\n"
     ]
    },
    {
     "name": "stderr",
     "output_type": "stream",
     "text": [
      "WARNING:cotede.qc:Sorry I'm not ready to evaluate valid_geolocation()\n",
      "WARNING:cotede.qc:Fail on valid_speed\n",
      "WARNING:cotede.qc:Sorry, I'm no ready to evaluate regional_range()\n"
     ]
    },
    {
     "name": "stdout",
     "output_type": "stream",
     "text": [
      "Deprecated cfg format. It should contain a threshold item.\n",
      "Deprecated cfg format. It should contain a threshold item.\n"
     ]
    }
   ],
   "source": [
    "profile = fProfileQC(filename,cfg='tsg')"
   ]
  },
  {
   "cell_type": "code",
   "execution_count": 73,
   "metadata": {},
   "outputs": [
    {
     "data": {
      "text/plain": [
       "dict_keys(['common', 'TEMP', 'TEMP2', 'PSAL', 'PSAL2'])"
      ]
     },
     "execution_count": 73,
     "metadata": {},
     "output_type": "execute_result"
    }
   ],
   "source": [
    "profile.flags.keys()"
   ]
  },
  {
   "cell_type": "code",
   "execution_count": 74,
   "metadata": {},
   "outputs": [
    {
     "data": {
      "text/plain": [
       "dict_keys(['valid_datetime', 'location_at_sea', 'global_range', 'gradient', 'spike', 'woa_normbias', 'overall'])"
      ]
     },
     "execution_count": 74,
     "metadata": {},
     "output_type": "execute_result"
    }
   ],
   "source": [
    "profile.flags['PSAL'].keys()"
   ]
  },
  {
   "cell_type": "code",
   "execution_count": 75,
   "metadata": {},
   "outputs": [
    {
     "data": {
      "text/plain": [
       "dict_keys(['valid_datetime', 'location_at_sea', 'global_range', 'gradient', 'spike', 'woa_normbias', 'overall'])"
      ]
     },
     "execution_count": 75,
     "metadata": {},
     "output_type": "execute_result"
    }
   ],
   "source": [
    "profile.flags['TEMP'].keys()"
   ]
  },
  {
   "cell_type": "code",
   "execution_count": 76,
   "metadata": {},
   "outputs": [
    {
     "name": "stdout",
     "output_type": "stream",
     "text": [
      "TEMP-valid_datetime: [1 1 1 1 1 1 1 1 1 1 1 1 1 1 1 1 1 1 1 1 1 1 1 1 1 1 1 1 1 1 1 1 1 1 1 1 1\n",
      " 1 1 1 1 1 1 1 1 1 1 1 1 1 1 1 1 1 1 1 1 1 1 1 1 1 1 1 1 1 1 1 1 1 1 1 1 1\n",
      " 1 1 1 1 1 1 1 1 1 1 1 1 1 1 1 1 1 1 1 1 1 1 1 1 1 1 1 1 1 1 1 1 1 1 1 1 1\n",
      " 1 1 1 1 1 1 1 1 1 1 1 1 1 1 1 1 1 1 1 1 1 1 1 1 1 1 1 1 1 1 1 1 1 1 1 1 1\n",
      " 1 1 1 1 1 1 1 1 1 1 1 1 1 1 1 1 1 1 1 1 1 1 1]\n",
      "TEMP-location_at_sea: [1 1 1 1 1 1 1 1 1 1 1 1 1 1 1 1 1 1 1 1 1 1 1 1 1 1 1 1 1 1 1 1 1 1 1 1 1\n",
      " 1 1 1 1 1 1 1 1 1 1 1 1 1 1 1 1 1 1 1 1 1 1 1 1 1 1 1 1 1 1 1 1 1 1 1 1 1\n",
      " 1 1 1 1 1 1 1 1 1 1 1 1 1 1 1 1 1 1 1 1 1 1 1 1 1 1 1 1 1 1 1 1 1 1 1 1 1\n",
      " 1 1 1 1 1 1 1 1 1 1 1 1 1 1 1 1 1 1 1 1 1 1 1 1 1 1 1 1 1 1 1 1 1 1 1 1 1\n",
      " 1 1 1 1 1 1 1 1 1 1 1 1 1 1 1 1 1 1 1 1 1 1 1]\n",
      "TEMP-global_range: [1 1 1 1 1 1 1 1 1 1 1 1 1 1 1 1 1 1 1 1 1 1 1 1 1 1 1 1 1 1 1 1 1 1 1 1 1\n",
      " 1 1 1 1 1 1 1 1 1 1 1 1 1 1 1 1 1 1 1 1 1 1 1 1 1 1 1 1 1 1 1 1 1 1 1 1 1\n",
      " 1 1 1 1 1 1 1 1 1 1 1 1 1 1 1 1 1 1 1 1 1 1 1 1 1 1 1 1 1 1 1 1 1 1 1 1 1\n",
      " 1 1 1 1 1 1 1 1 1 1 1 1 1 1 1 1 1 1 1 1 1 1 1 1 1 1 1 1 1 1 1 1 1 1 1 1 1\n",
      " 1 1 1 1 1 1 1 1 1 1 1 1 1 1 1 1 1 1 1 1 1 1 1]\n",
      "TEMP-gradient: [0 1 1 1 1 1 1 1 1 1 1 1 1 1 1 1 1 1 1 1 1 1 1 1 1 1 1 1 1 1 1 1 1 1 1 1 1\n",
      " 1 1 1 1 1 1 1 1 1 1 1 1 1 1 1 1 1 1 1 1 1 1 1 1 1 1 1 1 1 1 1 1 1 1 1 1 1\n",
      " 1 1 1 1 1 1 1 1 1 1 1 1 1 1 1 1 1 1 1 1 1 1 1 1 1 1 1 1 1 1 1 1 1 1 1 1 1\n",
      " 1 1 1 1 1 1 1 1 1 1 1 1 1 1 1 1 1 1 1 1 1 1 1 1 1 1 1 1 1 1 1 1 1 1 1 1 1\n",
      " 1 1 1 1 1 1 1 1 1 1 1 1 1 1 1 1 1 1 1 1 1 1 0]\n",
      "TEMP-spike: [0 1 1 1 1 1 1 1 1 1 1 1 1 1 1 1 1 1 1 1 1 1 1 1 1 1 1 1 1 1 1 1 1 1 1 1 1\n",
      " 1 1 1 1 1 1 1 1 1 1 1 1 1 1 1 1 1 1 1 1 1 1 1 1 1 1 1 1 1 1 1 1 1 1 1 1 1\n",
      " 1 1 1 1 1 1 1 1 1 1 1 1 1 1 1 1 1 1 1 1 1 1 1 1 1 1 1 1 1 1 1 1 1 1 1 1 1\n",
      " 1 1 1 1 1 1 1 1 1 1 1 1 1 1 1 1 1 1 1 1 1 1 1 1 1 1 1 1 1 1 1 1 1 1 1 1 1\n",
      " 1 1 1 1 1 1 1 1 1 1 1 1 1 1 1 1 1 1 1 1 1 1 0]\n",
      "TEMP-woa_normbias: [0 0 0 0 0 0 0 0 0 0 0 0 0 0 0 0 0 0 0 0 0 0 0 0 0 0 0 0 0 0 0 0 0 0 0 0 0\n",
      " 0 0 0 0 0 0 0 0 0 0 0 0 0 0 0 0 0 0 0 0 0 0 0 0 0 0 0 0 0 0 0 0 0 0 0 0 0\n",
      " 0 0 0 0 0 0 0 0 0 0 0 0 0 0 0 0 0 0 0 0 0 0 0 0 0 0 0 0 0 0 0 0 0 0 0 0 0\n",
      " 0 0 0 0 0 0 0 0 0 0 0 0 0 0 0 0 0 0 0 0 0 0 0 0 0 0 0 0 0 0 0 0 0 0 0 0 0\n",
      " 0 0 0 0 0 0 0 0 0 0 0 0 0 0 0 0 0 0 0 0 0 0 0]\n",
      "TEMP-overall: [1 1 1 1 1 1 1 1 1 1 1 1 1 1 1 1 1 1 1 1 1 1 1 1 1 1 1 1 1 1 1 1 1 1 1 1 1\n",
      " 1 1 1 1 1 1 1 1 1 1 1 1 1 1 1 1 1 1 1 1 1 1 1 1 1 1 1 1 1 1 1 1 1 1 1 1 1\n",
      " 1 1 1 1 1 1 1 1 1 1 1 1 1 1 1 1 1 1 1 1 1 1 1 1 1 1 1 1 1 1 1 1 1 1 1 1 1\n",
      " 1 1 1 1 1 1 1 1 1 1 1 1 1 1 1 1 1 1 1 1 1 1 1 1 1 1 1 1 1 1 1 1 1 1 1 1 1\n",
      " 1 1 1 1 1 1 1 1 1 1 1 1 1 1 1 1 1 1 1 1 1 1 1]\n",
      "TEMP2-valid_datetime: [1 1 1 1 1 1 1 1 1 1 1 1 1 1 1 1 1 1 1 1 1 1 1 1 1 1 1 1 1 1 1 1 1 1 1 1 1\n",
      " 1 1 1 1 1 1 1 1 1 1 1 1 1 1 1 1 1 1 1 1 1 1 1 1 1 1 1 1 1 1 1 1 1 1 1 1 1\n",
      " 1 1 1 1 1 1 1 1 1 1 1 1 1 1 1 1 1 1 1 1 1 1 1 1 1 1 1 1 1 1 1 1 1 1 1 1 1\n",
      " 1 1 1 1 1 1 1 1 1 1 1 1 1 1 1 1 1 1 1 1 1 1 1 1 1 1 1 1 1 1 1 1 1 1 1 1 1\n",
      " 1 1 1 1 1 1 1 1 1 1 1 1 1 1 1 1 1 1 1 1 1 1 1]\n",
      "TEMP2-location_at_sea: [1 1 1 1 1 1 1 1 1 1 1 1 1 1 1 1 1 1 1 1 1 1 1 1 1 1 1 1 1 1 1 1 1 1 1 1 1\n",
      " 1 1 1 1 1 1 1 1 1 1 1 1 1 1 1 1 1 1 1 1 1 1 1 1 1 1 1 1 1 1 1 1 1 1 1 1 1\n",
      " 1 1 1 1 1 1 1 1 1 1 1 1 1 1 1 1 1 1 1 1 1 1 1 1 1 1 1 1 1 1 1 1 1 1 1 1 1\n",
      " 1 1 1 1 1 1 1 1 1 1 1 1 1 1 1 1 1 1 1 1 1 1 1 1 1 1 1 1 1 1 1 1 1 1 1 1 1\n",
      " 1 1 1 1 1 1 1 1 1 1 1 1 1 1 1 1 1 1 1 1 1 1 1]\n",
      "TEMP2-global_range: [1 1 1 1 1 1 1 1 1 1 1 1 1 1 1 1 1 1 1 1 1 1 1 1 1 1 1 1 1 1 1 1 1 1 1 1 1\n",
      " 1 1 1 1 1 1 1 1 1 1 1 1 1 1 1 1 1 1 1 1 1 1 1 1 1 1 1 1 1 1 1 1 1 1 1 1 1\n",
      " 1 1 1 1 1 1 1 1 1 1 1 1 1 1 1 1 1 1 1 1 1 1 1 1 1 1 1 1 1 1 1 1 1 1 1 1 1\n",
      " 1 1 1 1 1 1 1 1 1 1 1 1 1 1 1 1 1 1 1 1 1 1 1 1 1 1 1 1 1 1 1 1 1 1 1 1 1\n",
      " 1 1 1 1 1 1 1 1 1 1 1 1 1 1 1 1 1 1 1 1 1 1 1]\n",
      "TEMP2-gradient: [0 1 1 1 1 1 1 1 1 1 1 1 1 1 1 1 1 1 1 1 1 1 1 1 1 1 1 1 1 1 1 1 1 1 1 1 1\n",
      " 1 1 1 1 1 1 1 1 1 1 1 1 1 1 1 1 1 1 1 1 1 1 1 1 1 1 1 1 1 1 1 1 1 1 1 1 1\n",
      " 1 1 1 1 1 1 1 1 1 1 1 1 1 1 1 1 1 1 1 1 1 1 1 1 1 1 1 1 1 1 1 1 1 1 1 1 1\n",
      " 1 1 1 1 1 1 1 1 1 1 1 1 1 1 1 1 1 1 1 1 1 1 1 1 1 1 1 1 1 1 1 1 1 1 1 1 1\n",
      " 1 1 1 1 1 1 1 1 1 1 1 1 1 1 1 1 1 1 1 1 1 1 0]\n",
      "TEMP2-spike: [0 1 1 1 1 1 1 1 1 1 1 1 1 1 1 1 1 1 1 1 1 1 1 1 1 1 1 1 1 1 1 1 1 1 1 1 1\n",
      " 1 1 1 1 1 1 1 1 1 1 1 1 1 1 1 1 1 1 1 1 1 1 1 1 1 1 1 1 1 1 1 1 1 1 1 1 1\n",
      " 1 1 1 1 1 1 1 1 1 1 1 1 1 1 1 1 1 1 1 1 1 1 1 1 1 1 1 1 1 1 1 1 1 1 1 1 1\n",
      " 1 1 1 1 1 1 1 1 1 1 1 1 1 1 1 1 1 1 1 1 1 1 1 1 1 1 1 1 1 1 1 1 1 1 1 1 1\n",
      " 1 1 1 1 1 1 1 1 1 1 1 1 1 1 1 1 1 1 1 1 1 1 0]\n",
      "TEMP2-woa_normbias: [0 0 0 0 0 0 0 0 0 0 0 0 0 0 0 0 0 0 0 0 0 0 0 0 0 0 0 0 0 0 0 0 0 0 0 0 0\n",
      " 0 0 0 0 0 0 0 0 0 0 0 0 0 0 0 0 0 0 0 0 0 0 0 0 0 0 0 0 0 0 0 0 0 0 0 0 0\n",
      " 0 0 0 0 0 0 0 0 0 0 0 0 0 0 0 0 0 0 0 0 0 0 0 0 0 0 0 0 0 0 0 0 0 0 0 0 0\n",
      " 0 0 0 0 0 0 0 0 0 0 0 0 0 0 0 0 0 0 0 0 0 0 0 0 0 0 0 0 0 0 0 0 0 0 0 0 0\n",
      " 0 0 0 0 0 0 0 0 0 0 0 0 0 0 0 0 0 0 0 0 0 0 0]\n",
      "TEMP2-overall: [1 1 1 1 1 1 1 1 1 1 1 1 1 1 1 1 1 1 1 1 1 1 1 1 1 1 1 1 1 1 1 1 1 1 1 1 1\n",
      " 1 1 1 1 1 1 1 1 1 1 1 1 1 1 1 1 1 1 1 1 1 1 1 1 1 1 1 1 1 1 1 1 1 1 1 1 1\n",
      " 1 1 1 1 1 1 1 1 1 1 1 1 1 1 1 1 1 1 1 1 1 1 1 1 1 1 1 1 1 1 1 1 1 1 1 1 1\n",
      " 1 1 1 1 1 1 1 1 1 1 1 1 1 1 1 1 1 1 1 1 1 1 1 1 1 1 1 1 1 1 1 1 1 1 1 1 1\n",
      " 1 1 1 1 1 1 1 1 1 1 1 1 1 1 1 1 1 1 1 1 1 1 1]\n",
      "PSAL-valid_datetime: [1 1 1 1 1 1 1 1 1 1 1 1 1 1 1 1 1 1 1 1 1 1 1 1 1 1 1 1 1 1 1 1 1 1 1 1 1\n",
      " 1 1 1 1 1 1 1 1 1 1 1 1 1 1 1 1 1 1 1 1 1 1 1 1 1 1 1 1 1 1 1 1 1 1 1 1 1\n",
      " 1 1 1 1 1 1 1 1 1 1 1 1 1 1 1 1 1 1 1 1 1 1 1 1 1 1 1 1 1 1 1 1 1 1 1 1 1\n",
      " 1 1 1 1 1 1 1 1 1 1 1 1 1 1 1 1 1 1 1 1 1 1 1 1 1 1 1 1 1 1 1 1 1 1 1 1 1\n",
      " 1 1 1 1 1 1 1 1 1 1 1 1 1 1 1 1 1 1 1 1 1 1 1]\n",
      "PSAL-location_at_sea: [1 1 1 1 1 1 1 1 1 1 1 1 1 1 1 1 1 1 1 1 1 1 1 1 1 1 1 1 1 1 1 1 1 1 1 1 1\n",
      " 1 1 1 1 1 1 1 1 1 1 1 1 1 1 1 1 1 1 1 1 1 1 1 1 1 1 1 1 1 1 1 1 1 1 1 1 1\n",
      " 1 1 1 1 1 1 1 1 1 1 1 1 1 1 1 1 1 1 1 1 1 1 1 1 1 1 1 1 1 1 1 1 1 1 1 1 1\n",
      " 1 1 1 1 1 1 1 1 1 1 1 1 1 1 1 1 1 1 1 1 1 1 1 1 1 1 1 1 1 1 1 1 1 1 1 1 1\n",
      " 1 1 1 1 1 1 1 1 1 1 1 1 1 1 1 1 1 1 1 1 1 1 1]\n",
      "PSAL-global_range: [1 1 1 1 1 1 1 1 1 1 1 1 1 1 1 1 1 1 1 1 1 1 1 1 1 1 1 1 1 1 1 1 1 1 1 1 1\n",
      " 1 1 1 1 1 1 1 1 1 1 1 1 1 1 1 1 1 1 1 1 1 1 1 1 1 1 1 1 1 1 1 1 1 1 1 1 1\n",
      " 1 1 1 1 1 1 1 1 1 1 1 1 1 1 1 1 1 1 1 1 1 1 1 1 1 1 1 1 1 1 1 1 1 1 1 1 1\n",
      " 1 1 1 1 1 1 1 1 1 1 1 1 1 1 1 1 1 1 1 1 1 1 1 1 1 1 1 1 1 1 1 1 1 1 1 1 1\n",
      " 1 1 1 1 1 1 1 1 1 1 1 1 1 1 1 1 1 1 1 1 1 1 1]\n",
      "PSAL-gradient: [0 1 1 1 1 1 1 1 1 1 1 1 1 1 1 1 1 1 1 1 1 1 1 1 1 1 1 1 1 1 1 1 1 1 1 1 1\n",
      " 1 1 1 1 1 1 1 1 1 1 1 1 1 1 1 1 1 1 1 1 1 1 1 1 1 1 1 1 1 1 1 1 1 1 1 1 1\n",
      " 1 1 1 1 1 1 1 1 1 1 1 1 1 1 1 1 1 1 1 1 1 1 1 1 1 1 1 1 1 1 1 1 1 1 1 1 1\n",
      " 1 1 1 1 1 1 1 1 1 1 1 1 1 1 1 1 1 1 1 1 1 1 1 1 1 1 1 1 1 1 1 1 1 1 1 1 1\n",
      " 1 1 1 1 1 1 1 1 1 1 1 1 1 1 1 1 1 1 1 1 1 1 0]\n",
      "PSAL-spike: [0 1 1 1 1 1 1 1 1 1 1 1 1 1 1 1 1 1 1 1 1 1 1 1 1 1 1 1 1 1 1 1 1 1 1 1 1\n",
      " 1 1 1 1 1 1 1 1 1 1 1 1 1 1 1 1 1 1 1 1 1 1 1 1 1 1 1 1 1 1 1 1 1 1 1 1 1\n",
      " 1 1 1 1 1 1 1 1 1 1 1 1 1 1 1 1 1 1 1 1 1 1 1 1 1 1 1 1 1 1 1 1 1 1 1 1 1\n",
      " 1 1 1 1 1 1 1 1 1 1 1 1 1 1 1 1 1 1 1 1 1 1 1 1 1 1 1 1 1 1 1 1 1 1 1 1 1\n",
      " 1 1 1 1 1 1 1 1 1 1 1 1 1 1 1 1 1 1 1 1 1 1 0]\n",
      "PSAL-woa_normbias: [0 0 0 0 0 0 0 0 0 0 0 0 0 0 0 0 0 0 0 0 0 0 0 0 0 0 0 0 0 0 0 0 0 0 0 0 0\n",
      " 0 0 0 0 0 0 0 0 0 0 0 0 0 0 0 0 0 0 0 0 0 0 0 0 0 0 0 0 0 0 0 0 0 0 0 0 0\n",
      " 0 0 0 0 0 0 0 0 0 0 0 0 0 0 0 0 0 0 0 0 0 0 0 0 0 0 0 0 0 0 0 0 0 0 0 0 0\n",
      " 0 0 0 0 0 0 0 0 0 0 0 0 0 0 0 0 0 0 0 0 0 0 0 0 0 0 0 0 0 0 0 0 0 0 0 0 0\n",
      " 0 0 0 0 0 0 0 0 0 0 0 0 0 0 0 0 0 0 0 0 0 0 0]\n",
      "PSAL-overall: [1 1 1 1 1 1 1 1 1 1 1 1 1 1 1 1 1 1 1 1 1 1 1 1 1 1 1 1 1 1 1 1 1 1 1 1 1\n",
      " 1 1 1 1 1 1 1 1 1 1 1 1 1 1 1 1 1 1 1 1 1 1 1 1 1 1 1 1 1 1 1 1 1 1 1 1 1\n",
      " 1 1 1 1 1 1 1 1 1 1 1 1 1 1 1 1 1 1 1 1 1 1 1 1 1 1 1 1 1 1 1 1 1 1 1 1 1\n",
      " 1 1 1 1 1 1 1 1 1 1 1 1 1 1 1 1 1 1 1 1 1 1 1 1 1 1 1 1 1 1 1 1 1 1 1 1 1\n",
      " 1 1 1 1 1 1 1 1 1 1 1 1 1 1 1 1 1 1 1 1 1 1 1]\n",
      "PSAL2-valid_datetime: [1 1 1 1 1 1 1 1 1 1 1 1 1 1 1 1 1 1 1 1 1 1 1 1 1 1 1 1 1 1 1 1 1 1 1 1 1\n",
      " 1 1 1 1 1 1 1 1 1 1 1 1 1 1 1 1 1 1 1 1 1 1 1 1 1 1 1 1 1 1 1 1 1 1 1 1 1\n",
      " 1 1 1 1 1 1 1 1 1 1 1 1 1 1 1 1 1 1 1 1 1 1 1 1 1 1 1 1 1 1 1 1 1 1 1 1 1\n",
      " 1 1 1 1 1 1 1 1 1 1 1 1 1 1 1 1 1 1 1 1 1 1 1 1 1 1 1 1 1 1 1 1 1 1 1 1 1\n",
      " 1 1 1 1 1 1 1 1 1 1 1 1 1 1 1 1 1 1 1 1 1 1 1]\n",
      "PSAL2-location_at_sea: [1 1 1 1 1 1 1 1 1 1 1 1 1 1 1 1 1 1 1 1 1 1 1 1 1 1 1 1 1 1 1 1 1 1 1 1 1\n",
      " 1 1 1 1 1 1 1 1 1 1 1 1 1 1 1 1 1 1 1 1 1 1 1 1 1 1 1 1 1 1 1 1 1 1 1 1 1\n",
      " 1 1 1 1 1 1 1 1 1 1 1 1 1 1 1 1 1 1 1 1 1 1 1 1 1 1 1 1 1 1 1 1 1 1 1 1 1\n",
      " 1 1 1 1 1 1 1 1 1 1 1 1 1 1 1 1 1 1 1 1 1 1 1 1 1 1 1 1 1 1 1 1 1 1 1 1 1\n",
      " 1 1 1 1 1 1 1 1 1 1 1 1 1 1 1 1 1 1 1 1 1 1 1]\n",
      "PSAL2-global_range: [1 1 1 1 1 1 1 1 1 1 1 1 1 1 1 1 1 1 1 1 1 1 1 1 1 1 1 1 1 1 1 1 1 1 1 1 1\n",
      " 1 1 1 1 1 1 1 1 1 1 1 1 1 1 1 1 1 1 1 1 1 1 1 1 1 1 1 1 1 1 1 1 1 1 1 1 1\n",
      " 1 1 1 1 1 1 1 1 1 1 1 1 1 1 1 1 1 1 1 1 1 1 1 1 1 1 1 1 1 1 1 1 1 1 1 1 1\n",
      " 1 1 1 1 1 1 1 1 1 1 1 1 1 1 1 1 1 1 1 1 1 1 1 1 1 1 1 1 1 1 1 1 1 1 1 1 1\n",
      " 1 1 1 1 1 1 1 1 1 1 1 1 1 1 1 1 1 1 1 1 1 1 1]\n",
      "PSAL2-gradient: [0 1 1 1 1 1 1 1 1 1 1 1 1 1 1 1 1 1 1 1 1 1 1 1 1 1 1 1 1 1 1 1 1 1 1 1 1\n",
      " 1 1 1 1 1 1 1 1 1 1 1 1 1 1 1 1 1 1 1 1 1 1 1 1 1 1 1 1 1 1 1 1 1 1 1 1 1\n",
      " 1 1 1 1 1 1 1 1 1 1 1 1 1 1 1 1 1 1 1 1 1 1 1 1 1 1 1 1 1 1 1 1 1 1 1 1 1\n",
      " 1 1 1 1 1 1 1 1 1 1 1 1 1 1 1 1 1 1 1 1 1 1 1 1 1 1 1 1 1 1 1 1 1 1 1 1 1\n",
      " 1 1 1 1 1 1 1 1 1 1 1 1 1 1 1 1 1 1 1 1 1 1 0]\n",
      "PSAL2-spike: [0 1 1 1 1 1 1 1 1 1 1 1 1 1 1 1 1 1 1 1 1 1 1 1 1 1 1 1 1 1 1 1 1 1 1 1 1\n",
      " 1 1 1 1 1 1 1 1 1 1 1 1 1 1 1 1 1 1 1 1 1 1 1 1 1 1 1 1 1 1 1 1 1 1 1 1 1\n",
      " 1 1 1 1 1 1 1 1 1 1 1 1 1 1 1 1 1 1 1 1 1 1 1 1 1 1 1 1 1 1 1 1 1 1 1 1 1\n",
      " 1 1 1 1 1 1 1 1 1 1 1 1 1 1 1 1 1 1 1 1 1 1 1 1 1 1 1 1 1 1 1 1 1 1 1 1 1\n",
      " 1 1 1 1 1 1 1 1 1 1 1 1 1 1 1 1 1 1 1 1 1 1 0]\n",
      "PSAL2-woa_normbias: [0 0 0 0 0 0 0 0 0 0 0 0 0 0 0 0 0 0 0 0 0 0 0 0 0 0 0 0 0 0 0 0 0 0 0 0 0\n",
      " 0 0 0 0 0 0 0 0 0 0 0 0 0 0 0 0 0 0 0 0 0 0 0 0 0 0 0 0 0 0 0 0 0 0 0 0 0\n",
      " 0 0 0 0 0 0 0 0 0 0 0 0 0 0 0 0 0 0 0 0 0 0 0 0 0 0 0 0 0 0 0 0 0 0 0 0 0\n",
      " 0 0 0 0 0 0 0 0 0 0 0 0 0 0 0 0 0 0 0 0 0 0 0 0 0 0 0 0 0 0 0 0 0 0 0 0 0\n",
      " 0 0 0 0 0 0 0 0 0 0 0 0 0 0 0 0 0 0 0 0 0 0 0]\n",
      "PSAL2-overall: [1 1 1 1 1 1 1 1 1 1 1 1 1 1 1 1 1 1 1 1 1 1 1 1 1 1 1 1 1 1 1 1 1 1 1 1 1\n",
      " 1 1 1 1 1 1 1 1 1 1 1 1 1 1 1 1 1 1 1 1 1 1 1 1 1 1 1 1 1 1 1 1 1 1 1 1 1\n",
      " 1 1 1 1 1 1 1 1 1 1 1 1 1 1 1 1 1 1 1 1 1 1 1 1 1 1 1 1 1 1 1 1 1 1 1 1 1\n",
      " 1 1 1 1 1 1 1 1 1 1 1 1 1 1 1 1 1 1 1 1 1 1 1 1 1 1 1 1 1 1 1 1 1 1 1 1 1\n",
      " 1 1 1 1 1 1 1 1 1 1 1 1 1 1 1 1 1 1 1 1 1 1 1]\n"
     ]
    }
   ],
   "source": [
    "\n",
    "for key in profile.flags['TEMP'].keys():\n",
    "    print(f\"TEMP-{key}: {profile.flags['TEMP'][key]}\")\n",
    "for key in profile.flags['TEMP2'].keys():\n",
    "    print(f\"TEMP2-{key}: {profile.flags['TEMP2'][key]}\")\n",
    "for key in profile.flags['PSAL'].keys():\n",
    "    print(f\"PSAL-{key}: {profile.flags['PSAL'][key]}\")\n",
    "for key in profile.flags['PSAL2'].keys():\n",
    "    print(f\"PSAL2-{key}: {profile.flags['PSAL2'][key]}\")\n"
   ]
  },
  {
   "cell_type": "code",
   "execution_count": 77,
   "metadata": {},
   "outputs": [
    {
     "data": {
      "text/plain": [
       "{'sbe_model': '9',\n",
       " 'LATITUDE': 57.72266666666667,\n",
       " 'LONGITUDE': -152.294,\n",
       " 'gps_datetime': 'Apr 20 2019  01:45:43',\n",
       " 'seasave': 'V 7.23.2',\n",
       " 'instrument_type': 'CTD',\n",
       " 'nquan': '23',\n",
       " 'nvalues': '171',\n",
       " 'start_time': 'Apr 20 2019 01:45:43 [NMEA time, header]',\n",
       " 'bad_flag': '-9.990e-29',\n",
       " 'file_type': 'ascii',\n",
       " 'md5': 'e0e10cfc428708b6d19e255ac37f62f7',\n",
       " 'datetime': datetime.datetime(2019, 4, 20, 1, 45, 43),\n",
       " 'filename': 'ctd001.cnv'}"
      ]
     },
     "execution_count": 77,
     "metadata": {},
     "output_type": "execute_result"
    }
   ],
   "source": [
    "profile.attributes"
   ]
  },
  {
   "cell_type": "code",
   "execution_count": null,
   "metadata": {},
   "outputs": [],
   "source": []
  }
 ],
 "metadata": {
  "kernelspec": {
   "display_name": "Python [conda env:py37]",
   "language": "python",
   "name": "conda-env-py37-py"
  },
  "language_info": {
   "codemirror_mode": {
    "name": "ipython",
    "version": 3
   },
   "file_extension": ".py",
   "mimetype": "text/x-python",
   "name": "python",
   "nbconvert_exporter": "python",
   "pygments_lexer": "ipython3",
   "version": "3.7.3"
  }
 },
 "nbformat": 4,
 "nbformat_minor": 4
}
